{
  "nbformat": 4,
  "nbformat_minor": 0,
  "metadata": {
    "colab": {
      "name": "MyModel-CNN.ipynb",
      "provenance": [],
      "collapsed_sections": [
        "vshjLqDgO5yu",
        "En8MczNik638"
      ],
      "authorship_tag": "ABX9TyPn6pT6UtccuXsV9EHQgA2d",
      "include_colab_link": true
    },
    "kernelspec": {
      "display_name": "Python 3",
      "name": "python3"
    },
    "language_info": {
      "name": "python"
    },
    "accelerator": "GPU"
  },
  "cells": [
    {
      "cell_type": "markdown",
      "metadata": {
        "id": "view-in-github",
        "colab_type": "text"
      },
      "source": [
        "<a href=\"https://colab.research.google.com/github/lowbee2019/FLModel/blob/master/CNN-Attention-V1.ipynb\" target=\"_parent\"><img src=\"https://colab.research.google.com/assets/colab-badge.svg\" alt=\"Open In Colab\"/></a>"
      ]
    },
    {
      "cell_type": "markdown",
      "metadata": {
        "id": "vshjLqDgO5yu"
      },
      "source": [
        "# 实验环境准备"
      ]
    },
    {
      "cell_type": "code",
      "metadata": {
        "colab": {
          "base_uri": "https://localhost:8080/"
        },
        "id": "uoFhItkFEsF8",
        "outputId": "d7d8de13-83f5-4ae1-8007-563c32ae5465"
      },
      "source": [
        "!pip install emnist"
      ],
      "execution_count": 4,
      "outputs": [
        {
          "output_type": "stream",
          "text": [
            "Requirement already satisfied: emnist in /usr/local/lib/python3.7/dist-packages (0.0)\n",
            "Requirement already satisfied: tqdm in /usr/local/lib/python3.7/dist-packages (from emnist) (4.41.1)\n",
            "Requirement already satisfied: requests in /usr/local/lib/python3.7/dist-packages (from emnist) (2.23.0)\n",
            "Requirement already satisfied: numpy in /usr/local/lib/python3.7/dist-packages (from emnist) (1.19.5)\n",
            "Requirement already satisfied: chardet<4,>=3.0.2 in /usr/local/lib/python3.7/dist-packages (from requests->emnist) (3.0.4)\n",
            "Requirement already satisfied: certifi>=2017.4.17 in /usr/local/lib/python3.7/dist-packages (from requests->emnist) (2020.12.5)\n",
            "Requirement already satisfied: urllib3!=1.25.0,!=1.25.1,<1.26,>=1.21.1 in /usr/local/lib/python3.7/dist-packages (from requests->emnist) (1.24.3)\n",
            "Requirement already satisfied: idna<3,>=2.5 in /usr/local/lib/python3.7/dist-packages (from requests->emnist) (2.10)\n"
          ],
          "name": "stdout"
        }
      ]
    },
    {
      "cell_type": "code",
      "metadata": {
        "id": "9e4So1L3pPWp"
      },
      "source": [
        "import tensorflow as tf\n",
        "import numpy as np\n",
        "from tensorflow.keras import datasets,layers,models\n",
        "import collections\n",
        "import copy\n",
        "import random\n",
        "import emnist\n",
        "import datetime\n",
        "import os\n",
        "import matplotlib.pyplot as plt"
      ],
      "execution_count": 5,
      "outputs": []
    },
    {
      "cell_type": "code",
      "metadata": {
        "id": "6pkKi1GlSJ0S"
      },
      "source": [
        "os.environ[\"CUDA_VISIBLE_DEVICES\"]=\"0\""
      ],
      "execution_count": 6,
      "outputs": []
    },
    {
      "cell_type": "markdown",
      "metadata": {
        "id": "YQaIGTfxmSfi"
      },
      "source": [
        "# Server Initialization"
      ]
    },
    {
      "cell_type": "code",
      "metadata": {
        "id": "PTK_p961nsA5"
      },
      "source": [
        "class ParamServer(object):\n",
        "  def __init__(self,init_model_path):\n",
        "    self.init_model_path = init_model_path\n",
        "    self.round = 0\n",
        "    self.optimizer = 'adam'\n",
        "    self.loss = \"sparse_categorical_crossentropy\"\n",
        "    self.metrics =['accuracy']\n",
        "    self.loss_acc = []\n",
        "\n",
        "  def PreTrain(self,model,data,labels,batch_size=32,epochs=5):\n",
        "    model.compile(optimizer=self.optimizer,\n",
        "                  loss=self.loss,\n",
        "                  metrics=self.metrics)\n",
        "    _metrics = model.fit(data,labels,batch_size,epochs)\n",
        "    return model\n",
        "  \n",
        "  def PreEval(self,model,validation_data):\n",
        "    model.compile(optimizer=self.optimizer,\n",
        "                  loss=self.loss,\n",
        "                  metrics=self.metrics)\n",
        "    self.loss_acc.append(model.evaluate(x=validation_data[0],y=validation_data[1]))\n"
      ],
      "execution_count": 7,
      "outputs": []
    },
    {
      "cell_type": "markdown",
      "metadata": {
        "id": "iRvlGAmjmxbw"
      },
      "source": [
        "## Emnist数据集的预处理"
      ]
    },
    {
      "cell_type": "code",
      "metadata": {
        "id": "uUdPNuYqDmbD"
      },
      "source": [
        "LetterDataSet = emnist.extract_training_samples('letters')\n",
        "DigitDataSet = emnist.extract_training_samples('digits')\n",
        "\n",
        "LetterDataSet = (np.expand_dims(LetterDataSet[0]/255.0,axis=3),np.expand_dims(LetterDataSet[1]*0+10,axis=1)) \n",
        "DigitDataSet = (np.expand_dims(DigitDataSet[0]/255.0,axis=3),np.expand_dims(DigitDataSet[1],axis=1))"
      ],
      "execution_count": 8,
      "outputs": []
    },
    {
      "cell_type": "code",
      "metadata": {
        "colab": {
          "base_uri": "https://localhost:8080/"
        },
        "id": "N66yuvvfDmHF",
        "outputId": "0c478844-38ac-4776-da77-b4a04f57573b"
      },
      "source": [
        "LetterDataSet[0].shape,DigitDataSet[0].shape"
      ],
      "execution_count": 9,
      "outputs": [
        {
          "output_type": "execute_result",
          "data": {
            "text/plain": [
              "((124800, 28, 28, 1), (240000, 28, 28, 1))"
            ]
          },
          "metadata": {
            "tags": []
          },
          "execution_count": 9
        }
      ]
    },
    {
      "cell_type": "code",
      "metadata": {
        "id": "qA_gvtUkm8sV"
      },
      "source": [
        "ShareData = DigitDataSet[0][0:200]\n",
        "ShareLabel = DigitDataSet[1][0:200]\n",
        "validation_data=(ShareData,ShareLabel)\n",
        "validation_server = (DigitDataSet[0][200:400],DigitDataSet[1][200:400])"
      ],
      "execution_count": 10,
      "outputs": []
    },
    {
      "cell_type": "markdown",
      "metadata": {
        "id": "2L712LCIm6Vv"
      },
      "source": [
        "## 模型的定义"
      ]
    },
    {
      "cell_type": "code",
      "metadata": {
        "id": "C0noj5RjmF0i"
      },
      "source": [
        "class FLModel(tf.keras.Model):\n",
        "  def __init__(self,row,col,num_classes=62,*args,**kwargs):\n",
        "    super(FLModel,self).__init__(*args,**kwargs)\n",
        "    self.row = row\n",
        "    self.col = col\n",
        "    self.num_classes = num_classes\n",
        "    # self.flatten = tf.keras.layers.Flatten(input_shape=(row,col))\n",
        "    # self.dense_1 = tf.keras.layers.Dense(128,activation='relu',name=\"dense_1\")\n",
        "    # self.dense_2 = tf.keras.layers.Dense(num_classes,activation='softmax',name=\"dense_2\")\n",
        "    # self.drop = tf.keras.layers.Dropout(0.2)\n",
        "    \n",
        "    self.model = models.Sequential()\n",
        "    # 第1层卷积，卷积核大小为3*3，32个，28*28为待训练图片的大小\n",
        "    self.model.add(layers.Conv2D(32, (3, 3), activation='relu', input_shape=(self.row, self.col, 1)))\n",
        "    self.model.add(layers.MaxPooling2D((2, 2)))\n",
        "    # 第2层卷积，卷积核大小为3*3，64个\n",
        "    self.model.add(layers.Conv2D(64, (3, 3), activation='relu'))\n",
        "    self.model.add(layers.MaxPooling2D((2, 2)))\n",
        "    # 第3层卷积，卷积核大小为3*3，64个\n",
        "    self.model.add(layers.Conv2D(64, (3, 3), activation='relu'))\n",
        "\n",
        "    self.model.add(layers.Flatten())\n",
        "    self.model.add(layers.Dense(64, activation='relu'))\n",
        "    self.model.add(layers.Dense(num_classes, activation='softmax'))\n",
        "\n",
        "  def call(self,inputs):\n",
        "    return self.model(inputs)\n",
        "\n",
        "  def copy(self):\n",
        "    NewModel = FLModel(self.row,self.col,self.num_classes)\n",
        "    _ = NewModel(tf.convert_to_tensor(np.zeros([1,self.row,self.col,1])))\n",
        "    ##Layers\n",
        "    NewVars = NewModel.trainable_variables #此处为空列表，因为没有训练,这个地方参数传递是不是有问题\n",
        "    OldVars = self.trainable_variables\n",
        "    for n,o in zip(NewVars,OldVars):\n",
        "      n.assign(o.numpy())\n",
        "    return NewModel\n"
      ],
      "execution_count": 11,
      "outputs": []
    },
    {
      "cell_type": "markdown",
      "metadata": {
        "id": "Z5LMvoXcoiz2"
      },
      "source": [
        "#Client Initialization"
      ]
    },
    {
      "cell_type": "code",
      "metadata": {
        "id": "Hvu8wCjbooCF"
      },
      "source": [
        "class Client(object):\n",
        "  def __init__(self,id,model=None,Train_dataset=None,Test_dataset=None):\n",
        "    self.id = id\n",
        "    self.model = model\n",
        "    self.Train_dataset = Train_dataset\n",
        "    self.Test_dataset = Test_dataset\n",
        "    # from ParamServer\n",
        "    self.ParamModel = None\n",
        "    self.num_epochs = 5\n",
        "    self.batch_size = 32\n",
        "    self.shuffle_buffer = 100\n",
        "    self.prefetch_buffer = 10\n",
        "\n",
        "\n",
        "  def ReceiveModel(self,ParamModel,num_epochs=1,batch_size=32,shuffle_buffer=100,prefetch_buffer=10):\n",
        "    self.ParamModel = ParamModel\n",
        "    self.num_epochs = num_epochs\n",
        "    self.batch_size = batch_size\n",
        "    self.shuffle_buffer = shuffle_buffer\n",
        "    self.prefetch_buffer = prefetch_buffer\n",
        "  \n",
        "\n",
        "  def NodeTrain(self):\n",
        "    #{train_loss,train_accuracy,val_loss,val_accuracy}\n",
        "    model = self.ParamModel.copy()\n",
        "    x,y = self.Train_dataset\n",
        "    model.compile(\n",
        "        # optimizer=keras.optimizers.SGD(lr=0.01, momentum=0.0, decay=0.0, nesterov=False),##'adam',\n",
        "        optimizer='adam',\n",
        "        loss='sparse_categorical_crossentropy',\n",
        "        metrics=['accuracy'])\n",
        "    \n",
        "    _metrics = model.fit(x,y,batch_size=self.batch_size,epochs=self.num_epochs,validation_data=self.Test_dataset)\n",
        "    \n",
        "    dist = Distance(model,self.ParamModel)\n",
        "    feedback = _metrics.history\n",
        "    feedback['distance'] = dist.tolist()\n",
        "    feedback.pop(\"accuracy\")\n",
        "    self.model = model\n",
        "    return feedback\n",
        "\n",
        "  def NodeEval(self):\n",
        "    x,y = self.Test_dataset\n",
        "    return self.model.evaluate(x,y)\n",
        "  \n",
        "  def Distance(HookModel,TestModel):\n",
        "    len_it = len(HookModel.trainable_variables)\n",
        "    Hook_weights=[]\n",
        "    Test_weights=[]\n",
        "    for index in range(len_it):\n",
        "      Hook_weights.append(HookModel.trainable_variables[index].numpy().reshape(-1,))\n",
        "      Test_weights.append(TestModel.trainable_variables[index].numpy().reshape(-1,))\n",
        "    target = []\n",
        "    dis_norm2=[]\n",
        "    for i in range(len_it):\n",
        "      target.append(Hook_weights[i]-Test_weights[i])\n",
        "      dis_norm2.append(np.linalg.norm(target[i],2))\n",
        "    weight_weights = np.ones([len_it,1])\n",
        "    dis = np.dot(dis_norm2,weight_weights)\n",
        "    return dis"
      ],
      "execution_count": 12,
      "outputs": []
    },
    {
      "cell_type": "code",
      "metadata": {
        "id": "rBIE9FKUNNJX"
      },
      "source": [
        "def create_data_for_clients(SampleNum,LetterDataSet,DigitDataSet,DigitPercentage=0.7):\n",
        "  DigitNum = int(SampleNum*DigitPercentage)\n",
        "  LetterNum = SampleNum - DigitNum\n",
        "  x_sequence = []\n",
        "  y_sequence = []\n",
        "  if DigitNum > 0:\n",
        "    for i in range(DigitNum):\n",
        "      index = random.randint(0,len(DigitDataSet[0])-1)\n",
        "      x_sequence.append(DigitDataSet[0][index])\n",
        "      y_sequence.append(DigitDataSet[1][index])\n",
        "  if LetterNum > 0:\n",
        "    for j in range(LetterNum):\n",
        "      index = random.randint(0,len(LetterDataSet[0])-1)\n",
        "      x_sequence.append(LetterDataSet[0][index])\n",
        "      y_sequence.append(LetterDataSet[1][index])\n",
        "  # print(x_sequence[1].shape,y_sequence[1].shape)\n",
        "  x = np.array(x_sequence,dtype=np.float64)\n",
        "  y = np.array(y_sequence,dtype=np.int8)\n",
        "  #shuffle\n",
        "  state = np.random.get_state()\n",
        "  np.random.shuffle(x)\n",
        "  np.random.set_state(state)\n",
        "  np.random.shuffle(y)\n",
        "  \n",
        "  return (x,y)"
      ],
      "execution_count": 13,
      "outputs": []
    },
    {
      "cell_type": "markdown",
      "metadata": {
        "id": "En8MczNik638"
      },
      "source": [
        "#阶段一：为Client分配数据（预处理工作）"
      ]
    },
    {
      "cell_type": "code",
      "metadata": {
        "id": "QE_WXcMMt1kP"
      },
      "source": [
        "NUM_CLIENTS = 12\n",
        "NUM_TRAIN_SAMPLE_CLIENT = 256\n",
        "NUM_TEST_SAMPLE_CLIENT = 256\n",
        "CLASS_NUM = 11\n",
        "NUM_EPOCHS = 20"
      ],
      "execution_count": 14,
      "outputs": []
    },
    {
      "cell_type": "code",
      "metadata": {
        "id": "-Tmf__umcO1l"
      },
      "source": [
        "clients=[]\n",
        "for i in range(NUM_CLIENTS):\n",
        "  clients.append(Client(i,\n",
        "                        Train_dataset=create_data_for_clients(SampleNum=256,\n",
        "                                                              LetterDataSet=LetterDataSet,\n",
        "                                                              DigitDataSet=DigitDataSet,\n",
        "                                                              DigitPercentage=random.random()),\n",
        "                        Test_dataset=validation_data\n",
        "                        )\n",
        "  )"
      ],
      "execution_count": 15,
      "outputs": []
    },
    {
      "cell_type": "markdown",
      "metadata": {
        "id": "V9Jjje417iuZ"
      },
      "source": [
        "Show DataSet"
      ]
    },
    {
      "cell_type": "code",
      "metadata": {
        "colab": {
          "base_uri": "https://localhost:8080/",
          "height": 879
        },
        "id": "7RO4LfKq72nf",
        "outputId": "74cdf335-06ef-4bdf-f38a-88443f15f878"
      },
      "source": [
        "\n",
        "f = plt.figure(figsize=(15,15))\n",
        "for i in range(NUM_CLIENTS):\n",
        "  client_dataset = clients[i].Train_dataset\n",
        "  plot_data = collections.defaultdict(list)\n",
        "  for [label] in client_dataset[1].tolist():\n",
        "    plot_data[label].append(label)\n",
        "  plt.subplot(3,4,i+1)\n",
        "  plt.title('Client {}'.format(i))\n",
        "  for j in range(CLASS_NUM):\n",
        "    plt.hist(\n",
        "        plot_data[j],\n",
        "        density = False,\n",
        "        bins = [x for x in range(len(plot_data)+1)]\n",
        "    )"
      ],
      "execution_count": 16,
      "outputs": [
        {
          "output_type": "display_data",
          "data": {
            "image/png": "[encoded data removed]",
            "text/plain": [
              "<Figure size 1080x1080 with 12 Axes>"
            ]
          },
          "metadata": {
            "tags": [],
            "needs_background": "light"
          }
        }
      ]
    },
    {
      "cell_type": "markdown",
      "metadata": {
        "id": "JfqcXNr8jqi1"
      },
      "source": [
        "显示一下数字与字母的对比\n"
      ]
    },
    {
      "cell_type": "code",
      "metadata": {
        "colab": {
          "base_uri": "https://localhost:8080/",
          "height": 862
        },
        "id": "SkJ-l1ZSjpWf",
        "outputId": "dc475db0-fbd2-4b71-98c7-6923b46cd19d"
      },
      "source": [
        "f = plt.figure(figsize=(15,15))\n",
        "for i in range(NUM_CLIENTS):\n",
        "  client_dataset = clients[i].Train_dataset\n",
        "  plot_data = {0:0,1:0}\n",
        "  plot_labels = ['digits','letters']\n",
        "  for label in client_dataset[1]:\n",
        "    label = 0 if label < 10 else 1\n",
        "    plot_data[label]+=1\n",
        "  # print(plot_data)\n",
        "  data_labels = list(sorted(plot_data.keys()))\n",
        "  # print(data_labels)\n",
        "  data_nums = [plot_data[i] for i in data_labels]\n",
        "  colors = ['red','blue']\n",
        "  plt.subplot(3,4,i+1)\n",
        "  patches,text1,text2 = plt.pie(data_nums,\n",
        "                              labels=plot_labels,\n",
        "                              autopct='%3.2f%%',\n",
        "                              shadow=False,\n",
        "                              startangle=90,\n",
        "                              pctdistance=0.6)\n",
        "  plt.axis('equal')\n",
        "  plt.title('Client {}'.format(i))\n",
        "plt.show()\n"
      ],
      "execution_count": 17,
      "outputs": [
        {
          "output_type": "display_data",
          "data": {
            "image/png": "[encoded data removed]",
            "text/plain": [
              "<Figure size 1080x1080 with 12 Axes>"
            ]
          },
          "metadata": {
            "tags": []
          }
        }
      ]
    },
    {
      "cell_type": "markdown",
      "metadata": {
        "id": "6PVxsGIpvlLn"
      },
      "source": [
        "#阶段二：中央服务器下发模型"
      ]
    },
    {
      "cell_type": "markdown",
      "metadata": {
        "id": "A5NIsOQgRp9h"
      },
      "source": [
        "Distance Between two models"
      ]
    },
    {
      "cell_type": "code",
      "metadata": {
        "id": "fX5rrSBk72Vw"
      },
      "source": [
        "def Distance(HookModel,TestModel):\n",
        "  len_it = len(HookModel.trainable_variables)\n",
        "  Hook_weights=[]\n",
        "  Test_weights=[]\n",
        "  for index in range(len_it):\n",
        "    Hook_weights.append(HookModel.trainable_variables[index].numpy().reshape(-1,))\n",
        "    Test_weights.append(TestModel.trainable_variables[index].numpy().reshape(-1,))\n",
        "  target = []\n",
        "  dis_norm2=[]\n",
        "  for i in range(len_it):\n",
        "    target.append(Hook_weights[i]-Test_weights[i])\n",
        "    dis_norm2.append(np.linalg.norm(target[i],2))\n",
        "  weight_weights = np.ones([len_it,1])\n",
        "  dis = np.dot(dis_norm2,weight_weights)\n",
        "  return dis"
      ],
      "execution_count": 18,
      "outputs": []
    },
    {
      "cell_type": "code",
      "metadata": {
        "id": "IYTX2XVhSCoD"
      },
      "source": [
        "def GetDistDict(Clients,Clients_Num,TargetModel):\n",
        "  \"\"\"\n",
        "  return {'client id':Distance(TargetModel,client_id.model)}\n",
        "  \"\"\"\n",
        "  DistDict = collections.OrderedDict()\n",
        "  for i in range(Clients_Num):\n",
        "    DistDict[i] = Distance(TargetModel,Clients[i].model)\n",
        "  return DistDict"
      ],
      "execution_count": 19,
      "outputs": []
    },
    {
      "cell_type": "code",
      "metadata": {
        "id": "-P3c9QztWPLj"
      },
      "source": [
        "def ParticipatedNode(AccuracyList,AccThreshold=0.05):\n",
        "  tmp = [i for i in range(len(AccuracyList)) if AccuracyList[i]>AccThreshold]\n",
        "\n",
        "  if len(tmp):\n",
        "    return tmp\n",
        "  else:\n",
        "    return [i for i in range(len(AccuracyList))]"
      ],
      "execution_count": 20,
      "outputs": []
    },
    {
      "cell_type": "markdown",
      "metadata": {
        "id": "mTXZvk6jplfv"
      },
      "source": [
        "Attention的方式计算权重"
      ]
    },
    {
      "cell_type": "code",
      "metadata": {
        "id": "vlcjrNdOplP4"
      },
      "source": [
        "def Attention(K):\n",
        "  \"\"\"\n",
        "  Input: \n",
        "        K:[[user1_data],[user2_data],...]\n",
        "        user_data:[train_loss,--train_accuracy--,val_loss,val_accuracy,distance]\n",
        "  return:\n",
        "        w:[w1,w2,...]\n",
        "  \"\"\"\n",
        "  Q = np.array([[np.min(K[:,0]),np.min(K[:,1]),np.max(K[:,2]),np.min(K[:,3])]])\n",
        "  if Q[0][-2] < 1e-3:\n",
        "    for i in K:\n",
        "      i[-2]=1\n",
        "    Q = np.array([[np.min(K[:,0]),np.min(K[:,1]),np.max(K[:,2]),np.min(K[:,3])]])\n",
        "  \n",
        "  raw_W = np.dot(Q,K.T)\n",
        "  raw_W = raw_W/np.sqrt(Q.shape[1])\n",
        "  SumExp = np.sum(np.exp(raw_W))\n",
        "  W = (np.exp(raw_W)/SumExp).reshape(-1)\n",
        "  \n",
        "  return W\n"
      ],
      "execution_count": 21,
      "outputs": []
    },
    {
      "cell_type": "markdown",
      "metadata": {
        "id": "1TfBfhWeV8k3"
      },
      "source": [
        "## Show Result Function"
      ]
    },
    {
      "cell_type": "code",
      "metadata": {
        "id": "GFoIQ15Ag62z"
      },
      "source": [
        "def ShowWeights(WeightsDictList,Epoch):\n",
        "  \"\"\"\n",
        "  WeightDict[0] is a array.\n",
        "  WeightDict[0][0] is a number. \n",
        "  \"\"\"\n",
        "  WeightDict = WeightsDictList[Epoch]\n",
        "  labels = [\"Client {}\".format(i) for i in WeightDict.keys() if WeightDict[i][0]]\n",
        "  x = [WeightDict[i][0] for i in WeightDict.keys() if WeightDict[i][0]]\n",
        "  plt.pie(x=x,labels=labels,autopct=\"%1.2f%%\")\n",
        "  plt.title(\"The Weight Rate during Epoch {}\".format(Epoch))\n",
        "  plt.show()"
      ],
      "execution_count": 22,
      "outputs": []
    },
    {
      "cell_type": "code",
      "metadata": {
        "id": "NPmZG18YhMS4"
      },
      "source": [
        "def ShowAccAndLoss(LossAndAccList):\n",
        "  \"\"\"\n",
        "  LossAndAccList:[[loss0,acc0],[loss1,acc1]...]\n",
        "  \"\"\"\n",
        "  #deal the data\n",
        "  IterTimes = len(LossAndAccList)\n",
        "  Acc = [LossAndAccList[i][1]*100 for i in range(IterTimes)]\n",
        "  Loss = [LossAndAccList[i][0] for i in range(IterTimes)]\n",
        "  \n",
        "  #prepare show image\n",
        "  x = np.arange(IterTimes).astype(dtype=np.str)\n",
        "  fig = plt.figure()\n",
        "  ax1 = fig.add_subplot(111)\n",
        "  acc = ax1.plot(x,Acc,'r',label='Acc')\n",
        "  ax1.set_ylabel('Acc(%)')\n",
        "  ax1.set_xlabel(\"Epochs\")\n",
        "  ax1.set_title('Acc-Loss (Digits=random)')\n",
        "\n",
        "  ax2 = ax1.twinx()\n",
        "  loss = ax2.plot(x,Loss,label='Loss')\n",
        "  ax2.set_ylabel('Loss')\n",
        "\n",
        "\n",
        "  lns = acc+loss\n",
        "  labs = [l.get_label() for l in lns]\n",
        "  ax2.legend(lns,labs)\n",
        "  plt.show()\n",
        "  return Acc"
      ],
      "execution_count": 23,
      "outputs": []
    },
    {
      "cell_type": "code",
      "metadata": {
        "id": "TSJC9WBwjmQK"
      },
      "source": [
        "def ShowParticipatedNode(NodeList):\n",
        "  \"\"\"\n",
        "  NodeList:[[1,2,3,...],[4,5,6,...],...]\n",
        "  \"\"\"\n",
        "  #deal the data\n",
        "  IterTimes = len(NodeList)\n",
        "  img = np.ones(shape=(NUM_CLIENTS,IterTimes),dtype=int)\n",
        "  for i in range(IterTimes):\n",
        "    for j in NodeList[i]:\n",
        "      img[j][i]=0\n",
        "  #prepare show image\n",
        "\n",
        "  ax = plt.gca()\n",
        "  ax.set_ylim(-0.5,NUM_CLIENTS-0.5)\n",
        "  ax.set_xlim(-0.5,9.5)\n",
        "  miloc = plt.MultipleLocator(1)\n",
        "  ax.xaxis.set_minor_locator(miloc)\n",
        "  plt.grid()\n",
        "\n",
        "  plt.imshow(img*255,cmap='gray')\n",
        "  plt.axis('on')\n",
        "  plt.xlabel('Epochs')\n",
        "  plt.ylabel('Nodes')\n",
        "  plt.title(\"Nodes in each epoch (Digits=random)\")\n",
        "  y = np.arange(0.5,NUM_CLIENTS+0.5,1)\n",
        "  x = np.arange(0.5,NUM_EPOCHS+0.5,1)\n",
        "\n",
        "  plt.yticks(y,(int(i-0.5) for i in y))\n",
        "  plt.xticks(x,(int(i-0.5) for i in x))\n",
        "  plt.show()"
      ],
      "execution_count": 24,
      "outputs": []
    },
    {
      "cell_type": "code",
      "metadata": {
        "id": "M0d8EuqUXqMv"
      },
      "source": [
        "def ResultAnalysis(NewFedAvgAcc,FedBaselineAcc):\n",
        "  assert len(NewFedAvgAcc)==len(FedBaselineAcc)\n",
        "  iters = np.arange(len(NewFedAvgAcc)).astype(dtype=np.str)\n",
        "  fig = plt.figure()\n",
        "  plt.title(\"Result Analysis (Digits=random)\")\n",
        "  # plt.title(\"Result Analysis (Digits=70%)\")\n",
        "  # plt.title(\"Result Analysis (Digits=random)\")\n",
        "  plt.plot(iters,NewFedAvgAcc,color='red',label=\"FedwithAcc\")\n",
        "  plt.plot(iters,FedBaselineAcc,color='blue',label=\"FedAvg\")\n",
        "  plt.legend()\n",
        "  plt.xlabel(\"iteration times\")\n",
        "  plt.ylabel(\"Accuracy (%)\")\n",
        "  plt.xlim(0,20)\n",
        "  plt.show()"
      ],
      "execution_count": 25,
      "outputs": []
    },
    {
      "cell_type": "markdown",
      "metadata": {
        "id": "_uNjI7abv3Vs"
      },
      "source": [
        "## Model Initialization"
      ]
    },
    {
      "cell_type": "code",
      "metadata": {
        "id": "PLJekuPtvxZl",
        "colab": {
          "base_uri": "https://localhost:8080/"
        },
        "outputId": "fb041c78-5d07-4748-dd29-8d2ef79aa3f3"
      },
      "source": [
        "InitModel = FLModel(row=28,col=28,num_classes=CLASS_NUM)\n",
        "S = ParamServer(\"\")\n",
        "S.PreEval(InitModel,validation_data)\n",
        "SendModel = InitModel"
      ],
      "execution_count": 26,
      "outputs": [
        {
          "output_type": "stream",
          "text": [
            "7/7 [==============================] - 2s 11ms/step - loss: 2.3999 - accuracy: 0.0173\n"
          ],
          "name": "stdout"
        }
      ]
    },
    {
      "cell_type": "code",
      "metadata": {
        "id": "4K48O8MylnxW"
      },
      "source": [
        "#InitModel.model.summary()"
      ],
      "execution_count": 25,
      "outputs": []
    },
    {
      "cell_type": "markdown",
      "metadata": {
        "id": "eMZP89WLPF_3"
      },
      "source": [
        "使用随机初始化的模型进行预测，不预测也可以！"
      ]
    },
    {
      "cell_type": "code",
      "metadata": {
        "id": "SGo2NYXsv96h"
      },
      "source": [
        "# SendModel = S.PreTrain(InitModel,ShareData,ShareLabel,epochs=1)\n",
        "# S.PreEval(SendModel,validation_data)"
      ],
      "execution_count": 26,
      "outputs": []
    },
    {
      "cell_type": "markdown",
      "metadata": {
        "id": "7OmptaMzpR0P"
      },
      "source": [
        "# 阶段三：Clients 训练节点数据并聚合\n"
      ]
    },
    {
      "cell_type": "code",
      "metadata": {
        "id": "I6HSFpcqrK_2"
      },
      "source": [
        "def FedAvgwithAcc(NUM_CLIENTS,model,AccuracyList,Threshold=0):\n",
        "  iterModel = model.copy()\n",
        "  len_it = len(iterModel.trainable_variables)\n",
        "  all_weights = []\n",
        "\n",
        "  NodeDict = GetDistDict(Clients=clients,Clients_Num=NUM_CLIENTS,TargetModel=iterModel)\n",
        "  FedNodeList = ParticipatedNode(AccuracyList=AccuracyList,AccThreshold=Threshold) # AccThreshold = \"-1\" means that each one participate FedAvg.\n",
        "\n",
        "  print(\"FedNodeList is \",FedNodeList)\n",
        "  # mult = [AccuracyList[i]/np.exp(NodeDict[i]) for i in range(NUM_CLIENTS)] # no threshold\n",
        "  mult = [AccuracyList[i]/np.exp(NodeDict[i]) for i in FedNodeList] \n",
        "  # print(\"The Distance are ...\",NodeDict)\n",
        "  # print(\"The AD are ...\",mult)\n",
        "  exp_sum = np.sum(mult)\n",
        "  \n",
        "  #---Prevent an extreme situation---\n",
        "  if exp_sum <1e-5: # Maybe all of the Acc are 0.\n",
        "    for i in FedNodeList:\n",
        "      AccuracyList[i] = np.array([1.])\n",
        "    # mult = [AccuracyList[i]/np.exp(NodeDict[i]) for i in FedNodeList] \n",
        "    mult = AccuracyList\n",
        "    exp_sum = np.sum(mult)\n",
        "  #---end---\n",
        "\n",
        "  Weights = {k:v for (k,v) in zip(FedNodeList,mult/exp_sum)}\n",
        "  print(\"Weights are...\",Weights)\n",
        "  ###Softmax\n",
        "\n",
        "  for weights_index in range(len_it):\n",
        "    tmp =np.zeros(iterModel.trainable_variables[weights_index].numpy().shape,dtype='float64')\n",
        "\n",
        "    for node in FedNodeList:\n",
        "    # for node in range(NUM_CLIENTS):\n",
        "      tmp += clients[node].model.trainable_variables[weights_index].numpy()*Weights[node]\n",
        "    all_weights.append(tmp)\n",
        "  # print(all_weights)\n",
        "  iterModel_vars = iterModel.trainable_variables\n",
        "  for iter_v,n in zip(iterModel_vars,all_weights):\n",
        "    iter_v.assign(n)\n",
        "  return (iterModel,FedNodeList,Weights)"
      ],
      "execution_count": 45,
      "outputs": []
    },
    {
      "cell_type": "code",
      "metadata": {
        "id": "pSSam3020S_2"
      },
      "source": [
        "def FedAvgwithAcc(NUM_CLIENTS,model,K,FedNodeList):\n",
        "  \"\"\"\n",
        "  This is a simple version-- all models would be averaged.\n",
        "  \"\"\"\n",
        "  iterModel = model.copy()\n",
        "  len_it = len(iterModel.trainable_variables)\n",
        "  all_weights = []\n",
        "  Weights = Attention(K=K)\n",
        "  for weights_index in range(len_it):\n",
        "    tmp =np.zeros(iterModel.trainable_variables[weights_index].numpy().shape,dtype='float64')\n",
        "\n",
        "    for node,index in zip(FedNodeList,range(len(FedNodeList))):\n",
        "    # for node in range(NUM_CLIENTS):\n",
        "      tmp += clients[node].model.trainable_variables[weights_index].numpy()*Weights[index]\n",
        "    all_weights.append(tmp)\n",
        "  # print(all_weights)\n",
        "  iterModel_vars = iterModel.trainable_variables\n",
        "  for iter_v,n in zip(iterModel_vars,all_weights):\n",
        "    iter_v.assign(n)\n",
        "  return (iterModel,Weights)"
      ],
      "execution_count": 27,
      "outputs": []
    },
    {
      "cell_type": "code",
      "metadata": {
        "id": "cKcVDzrYb4Gr"
      },
      "source": [
        "NUM_EPOCHS = 20"
      ],
      "execution_count": 41,
      "outputs": []
    },
    {
      "cell_type": "code",
      "metadata": {
        "colab": {
          "base_uri": "https://localhost:8080/"
        },
        "id": "chwpV3rDr5r2",
        "outputId": "aa399c7f-bbe2-42e2-c7c6-55bbdd338ea9"
      },
      "source": [
        "NodeList=[]\n",
        "ACC_Client_Test=[]\n",
        "WeightsEachEpoch = []\n",
        "AccThreshold=0\n",
        "ValAccList=[]\n",
        "\n",
        "\n",
        "for e in range(NUM_EPOCHS):\n",
        "  ValAcc=[]\n",
        "  Weight_tmp=[]\n",
        "  K = []\n",
        "  NodeList_tmp = []\n",
        "  ALLReceInfo = []\n",
        "  print(\"EPOCHS {} is starting...\".format(e))\n",
        "  for i in range(NUM_CLIENTS):\n",
        "    clients[i].ReceiveModel(SendModel.copy())\n",
        "    ReceInfo = sum(list(clients[i].NodeTrain().values()),[])\n",
        "    ALLReceInfo.append(ReceInfo)\n",
        "    ValAcc.append(ReceInfo[-2])\n",
        "  #Select Node to Average\n",
        "  FedNodeList = ParticipatedNode(AccuracyList=ValAcc,AccThreshold=AccThreshold)\n",
        "  NodeList.append(FedNodeList)\n",
        "  for i in FedNodeList:\n",
        "    K.append(ALLReceInfo[i])\n",
        "\n",
        "  K = np.array(K)\n",
        "  FedModel,Weight_tmp = FedAvgwithAcc(NUM_CLIENTS,SendModel,K,FedNodeList=FedNodeList)\n",
        "\n",
        "  AccThreshold = np.mean(ValAcc)\n",
        "  WeightsEachEpoch.append(Weight_tmp)\n",
        "  S.PreEval(FedModel,validation_server)\n",
        "  SendModel = FedModel.copy()"
      ],
      "execution_count": 28,
      "outputs": [
        {
          "output_type": "stream",
          "text": [
            "EPOCHS 0 is starting...\n",
            "8/8 [==============================] - 1s 71ms/step - loss: 2.1053 - accuracy: 0.4171 - val_loss: 4.8074 - val_accuracy: 0.0000e+00\n",
            "8/8 [==============================] - 1s 43ms/step - loss: 2.2914 - accuracy: 0.2770 - val_loss: 2.8496 - val_accuracy: 0.0000e+00\n",
            "8/8 [==============================] - 1s 37ms/step - loss: 1.8071 - accuracy: 0.6536 - val_loss: 8.4753 - val_accuracy: 0.0000e+00\n",
            "8/8 [==============================] - 1s 39ms/step - loss: 2.3328 - accuracy: 0.1706 - val_loss: 2.7266 - val_accuracy: 0.0000e+00\n",
            "8/8 [==============================] - 1s 38ms/step - loss: 1.8431 - accuracy: 0.6236 - val_loss: 8.2967 - val_accuracy: 0.0000e+00\n",
            "8/8 [==============================] - 1s 60ms/step - loss: 1.8401 - accuracy: 0.6428 - val_loss: 7.7660 - val_accuracy: 0.0000e+00\n",
            "8/8 [==============================] - 1s 38ms/step - loss: 2.3502 - accuracy: 0.1450 - val_loss: 2.5562 - val_accuracy: 0.0000e+00\n",
            "8/8 [==============================] - 1s 37ms/step - loss: 2.3835 - accuracy: 0.0964 - val_loss: 2.3779 - val_accuracy: 0.1150\n",
            "8/8 [==============================] - 1s 39ms/step - loss: 1.7886 - accuracy: 0.6567 - val_loss: 8.9116 - val_accuracy: 0.0000e+00\n",
            "8/8 [==============================] - 1s 40ms/step - loss: 2.1410 - accuracy: 0.3898 - val_loss: 4.0222 - val_accuracy: 0.0000e+00\n",
            "8/8 [==============================] - 1s 39ms/step - loss: 1.8280 - accuracy: 0.6257 - val_loss: 8.8434 - val_accuracy: 0.0000e+00\n",
            "8/8 [==============================] - 1s 37ms/step - loss: 2.1214 - accuracy: 0.4151 - val_loss: 3.7105 - val_accuracy: 0.0000e+00\n",
            "7/7 [==============================] - 0s 4ms/step - loss: 2.3589 - accuracy: 0.1374\n",
            "EPOCHS 1 is starting...\n",
            "8/8 [==============================] - 1s 42ms/step - loss: 1.8918 - accuracy: 0.5494 - val_loss: 3.3552 - val_accuracy: 0.0000e+00\n",
            "8/8 [==============================] - 1s 38ms/step - loss: 2.1356 - accuracy: 0.3432 - val_loss: 2.6614 - val_accuracy: 0.0000e+00\n",
            "8/8 [==============================] - 1s 38ms/step - loss: 1.3576 - accuracy: 0.7968 - val_loss: 10.7953 - val_accuracy: 0.0000e+00\n",
            "8/8 [==============================] - 1s 39ms/step - loss: 2.2213 - accuracy: 0.2435 - val_loss: 2.6622 - val_accuracy: 0.0000e+00\n",
            "8/8 [==============================] - 1s 37ms/step - loss: 1.4379 - accuracy: 0.8163 - val_loss: 7.8610 - val_accuracy: 0.0000e+00\n",
            "8/8 [==============================] - 1s 41ms/step - loss: 1.4088 - accuracy: 0.7758 - val_loss: 9.2611 - val_accuracy: 0.0000e+00\n",
            "8/8 [==============================] - 1s 40ms/step - loss: 2.2947 - accuracy: 0.2466 - val_loss: 2.4427 - val_accuracy: 0.0450\n",
            "8/8 [==============================] - 1s 40ms/step - loss: 2.1984 - accuracy: 0.2494 - val_loss: 2.2005 - val_accuracy: 0.2450\n",
            "8/8 [==============================] - 1s 37ms/step - loss: 1.3000 - accuracy: 0.8643 - val_loss: 12.9069 - val_accuracy: 0.0000e+00\n",
            "8/8 [==============================] - 1s 38ms/step - loss: 1.9395 - accuracy: 0.4889 - val_loss: 3.4240 - val_accuracy: 0.0000e+00\n",
            "8/8 [==============================] - 1s 38ms/step - loss: 1.4072 - accuracy: 0.8345 - val_loss: 8.6773 - val_accuracy: 0.0000e+00\n",
            "8/8 [==============================] - 1s 38ms/step - loss: 1.8591 - accuracy: 0.5040 - val_loss: 3.3070 - val_accuracy: 0.0000e+00\n",
            "7/7 [==============================] - 1s 4ms/step - loss: 2.2986 - accuracy: 0.1091\n",
            "EPOCHS 2 is starting...\n",
            "8/8 [==============================] - 1s 38ms/step - loss: 1.5465 - accuracy: 0.6281 - val_loss: 2.5172 - val_accuracy: 0.0450\n",
            "8/8 [==============================] - 1s 38ms/step - loss: 1.9203 - accuracy: 0.4112 - val_loss: 2.2410 - val_accuracy: 0.0800\n",
            "8/8 [==============================] - 1s 37ms/step - loss: 0.8472 - accuracy: 0.9074 - val_loss: 10.5980 - val_accuracy: 0.0000e+00\n",
            "8/8 [==============================] - 1s 37ms/step - loss: 1.9540 - accuracy: 0.3438 - val_loss: 2.0180 - val_accuracy: 0.3600\n",
            "8/8 [==============================] - 1s 38ms/step - loss: 0.9324 - accuracy: 0.9093 - val_loss: 7.4615 - val_accuracy: 0.0000e+00\n",
            "8/8 [==============================] - 1s 39ms/step - loss: 0.9168 - accuracy: 0.9388 - val_loss: 7.4665 - val_accuracy: 0.0000e+00\n",
            "8/8 [==============================] - 1s 41ms/step - loss: 2.0336 - accuracy: 0.3101 - val_loss: 1.9633 - val_accuracy: 0.2700\n",
            "8/8 [==============================] - 1s 40ms/step - loss: 2.0273 - accuracy: 0.3550 - val_loss: 1.9726 - val_accuracy: 0.3700\n",
            "8/8 [==============================] - 1s 39ms/step - loss: 0.7142 - accuracy: 0.9887 - val_loss: 14.1855 - val_accuracy: 0.0000e+00\n",
            "8/8 [==============================] - 1s 41ms/step - loss: 1.6353 - accuracy: 0.6001 - val_loss: 2.5988 - val_accuracy: 0.0000e+00\n",
            "8/8 [==============================] - 1s 40ms/step - loss: 0.9244 - accuracy: 0.8857 - val_loss: 7.8675 - val_accuracy: 0.0000e+00\n",
            "8/8 [==============================] - 1s 39ms/step - loss: 1.5660 - accuracy: 0.6415 - val_loss: 2.7242 - val_accuracy: 0.0000e+00\n",
            "7/7 [==============================] - 0s 4ms/step - loss: 2.0185 - accuracy: 0.2135\n",
            "EPOCHS 3 is starting...\n",
            "8/8 [==============================] - 1s 36ms/step - loss: 1.4156 - accuracy: 0.6330 - val_loss: 2.1934 - val_accuracy: 0.0800\n",
            "8/8 [==============================] - 1s 37ms/step - loss: 1.6848 - accuracy: 0.4304 - val_loss: 1.8073 - val_accuracy: 0.2900\n",
            "8/8 [==============================] - 1s 37ms/step - loss: 0.7207 - accuracy: 0.8708 - val_loss: 8.3312 - val_accuracy: 0.0000e+00\n",
            "8/8 [==============================] - 1s 37ms/step - loss: 1.7453 - accuracy: 0.4056 - val_loss: 1.7559 - val_accuracy: 0.2900\n",
            "8/8 [==============================] - 1s 38ms/step - loss: 0.7855 - accuracy: 0.8953 - val_loss: 7.6105 - val_accuracy: 0.0000e+00\n",
            "8/8 [==============================] - 1s 37ms/step - loss: 0.7828 - accuracy: 0.8734 - val_loss: 7.6298 - val_accuracy: 0.0000e+00\n",
            "8/8 [==============================] - 1s 39ms/step - loss: 1.8021 - accuracy: 0.4034 - val_loss: 1.6981 - val_accuracy: 0.4600\n",
            "8/8 [==============================] - 1s 38ms/step - loss: 1.7868 - accuracy: 0.3901 - val_loss: 1.6268 - val_accuracy: 0.4250\n",
            "8/8 [==============================] - 1s 38ms/step - loss: 0.5326 - accuracy: 0.9481 - val_loss: 18.0747 - val_accuracy: 0.0000e+00\n",
            "8/8 [==============================] - 1s 38ms/step - loss: 1.5277 - accuracy: 0.6011 - val_loss: 2.2785 - val_accuracy: 0.0750\n",
            "8/8 [==============================] - 1s 40ms/step - loss: 0.8382 - accuracy: 0.8917 - val_loss: 6.4060 - val_accuracy: 0.0000e+00\n",
            "8/8 [==============================] - 1s 39ms/step - loss: 1.3699 - accuracy: 0.6536 - val_loss: 2.1523 - val_accuracy: 0.0850\n",
            "7/7 [==============================] - 0s 4ms/step - loss: 1.5716 - accuracy: 0.4281\n",
            "EPOCHS 4 is starting...\n",
            "8/8 [==============================] - 1s 41ms/step - loss: 1.2702 - accuracy: 0.6170 - val_loss: 1.8359 - val_accuracy: 0.2150\n",
            "8/8 [==============================] - 1s 40ms/step - loss: 1.4139 - accuracy: 0.5525 - val_loss: 1.7148 - val_accuracy: 0.3200\n",
            "8/8 [==============================] - 1s 41ms/step - loss: 0.6570 - accuracy: 0.8896 - val_loss: 7.1917 - val_accuracy: 0.0000e+00\n",
            "8/8 [==============================] - 1s 38ms/step - loss: 1.5073 - accuracy: 0.4774 - val_loss: 1.4263 - val_accuracy: 0.4750\n",
            "8/8 [==============================] - 1s 36ms/step - loss: 0.7932 - accuracy: 0.8199 - val_loss: 4.7565 - val_accuracy: 0.0000e+00\n",
            "8/8 [==============================] - 1s 39ms/step - loss: 0.7459 - accuracy: 0.8735 - val_loss: 7.4699 - val_accuracy: 0.0000e+00\n",
            "8/8 [==============================] - 1s 38ms/step - loss: 1.5224 - accuracy: 0.4793 - val_loss: 1.3495 - val_accuracy: 0.5300\n",
            "8/8 [==============================] - 1s 38ms/step - loss: 1.3935 - accuracy: 0.5286 - val_loss: 1.1308 - val_accuracy: 0.6550\n",
            "8/8 [==============================] - 1s 41ms/step - loss: 0.5029 - accuracy: 0.9263 - val_loss: 13.4350 - val_accuracy: 0.0000e+00\n",
            "8/8 [==============================] - 1s 41ms/step - loss: 1.3707 - accuracy: 0.5665 - val_loss: 2.2756 - val_accuracy: 0.0450\n",
            "8/8 [==============================] - 1s 41ms/step - loss: 0.7628 - accuracy: 0.8549 - val_loss: 5.3434 - val_accuracy: 0.0000e+00\n",
            "8/8 [==============================] - 1s 39ms/step - loss: 1.1026 - accuracy: 0.6865 - val_loss: 2.2709 - val_accuracy: 0.1150\n",
            "7/7 [==============================] - 0s 4ms/step - loss: 1.3577 - accuracy: 0.5471\n",
            "EPOCHS 5 is starting...\n",
            "8/8 [==============================] - 1s 38ms/step - loss: 1.0993 - accuracy: 0.6196 - val_loss: 1.7766 - val_accuracy: 0.2500\n",
            "8/8 [==============================] - 1s 39ms/step - loss: 1.2036 - accuracy: 0.6281 - val_loss: 1.1822 - val_accuracy: 0.6400\n",
            "8/8 [==============================] - 1s 91ms/step - loss: 0.5246 - accuracy: 0.8645 - val_loss: 8.5572 - val_accuracy: 0.0000e+00\n",
            "8/8 [==============================] - 1s 39ms/step - loss: 1.2574 - accuracy: 0.6300 - val_loss: 1.0351 - val_accuracy: 0.6800\n",
            "8/8 [==============================] - 1s 39ms/step - loss: 0.6896 - accuracy: 0.8053 - val_loss: 5.1117 - val_accuracy: 0.0050\n",
            "8/8 [==============================] - 1s 39ms/step - loss: 0.6342 - accuracy: 0.9025 - val_loss: 5.3088 - val_accuracy: 0.0000e+00\n",
            "8/8 [==============================] - 1s 40ms/step - loss: 1.2206 - accuracy: 0.5927 - val_loss: 1.1519 - val_accuracy: 0.6150\n",
            "8/8 [==============================] - 1s 40ms/step - loss: 1.2019 - accuracy: 0.5879 - val_loss: 0.9839 - val_accuracy: 0.7450\n",
            "8/8 [==============================] - 1s 38ms/step - loss: 0.4079 - accuracy: 0.9053 - val_loss: 13.1617 - val_accuracy: 0.0000e+00\n",
            "8/8 [==============================] - 1s 39ms/step - loss: 1.2034 - accuracy: 0.6366 - val_loss: 1.8074 - val_accuracy: 0.2150\n",
            "8/8 [==============================] - 1s 40ms/step - loss: 0.7444 - accuracy: 0.8466 - val_loss: 4.0756 - val_accuracy: 0.0000e+00\n",
            "8/8 [==============================] - 1s 37ms/step - loss: 1.0001 - accuracy: 0.7109 - val_loss: 1.9504 - val_accuracy: 0.2400\n",
            "7/7 [==============================] - 0s 4ms/step - loss: 1.1853 - accuracy: 0.6153\n",
            "EPOCHS 6 is starting...\n",
            "8/8 [==============================] - 1s 38ms/step - loss: 0.9533 - accuracy: 0.6445 - val_loss: 1.7267 - val_accuracy: 0.2100\n",
            "8/8 [==============================] - 1s 39ms/step - loss: 1.0393 - accuracy: 0.6851 - val_loss: 1.1649 - val_accuracy: 0.5600\n",
            "8/8 [==============================] - 1s 38ms/step - loss: 0.4498 - accuracy: 0.9014 - val_loss: 6.8541 - val_accuracy: 0.0000e+00\n",
            "8/8 [==============================] - 1s 38ms/step - loss: 1.0648 - accuracy: 0.6354 - val_loss: 1.0468 - val_accuracy: 0.7250\n",
            "8/8 [==============================] - 1s 38ms/step - loss: 0.6274 - accuracy: 0.8302 - val_loss: 4.4567 - val_accuracy: 0.0300\n",
            "8/8 [==============================] - 1s 40ms/step - loss: 0.5946 - accuracy: 0.9162 - val_loss: 4.1861 - val_accuracy: 0.0000e+00\n",
            "8/8 [==============================] - 1s 41ms/step - loss: 1.1349 - accuracy: 0.6066 - val_loss: 1.0984 - val_accuracy: 0.6550\n",
            "8/8 [==============================] - 1s 40ms/step - loss: 1.1269 - accuracy: 0.6116 - val_loss: 0.9255 - val_accuracy: 0.7350\n",
            "8/8 [==============================] - 1s 39ms/step - loss: 0.3658 - accuracy: 0.9225 - val_loss: 13.1721 - val_accuracy: 0.0000e+00\n",
            "8/8 [==============================] - 1s 38ms/step - loss: 1.2042 - accuracy: 0.6166 - val_loss: 1.4854 - val_accuracy: 0.3450\n",
            "8/8 [==============================] - 1s 38ms/step - loss: 0.6000 - accuracy: 0.8754 - val_loss: 4.2924 - val_accuracy: 0.0250\n",
            "8/8 [==============================] - 1s 39ms/step - loss: 0.9136 - accuracy: 0.6720 - val_loss: 1.7207 - val_accuracy: 0.3100\n",
            "7/7 [==============================] - 0s 4ms/step - loss: 1.0103 - accuracy: 0.6681\n",
            "EPOCHS 7 is starting...\n",
            "8/8 [==============================] - 1s 38ms/step - loss: 1.0313 - accuracy: 0.6305 - val_loss: 2.2040 - val_accuracy: 0.1550\n",
            "8/8 [==============================] - 1s 42ms/step - loss: 0.9041 - accuracy: 0.7113 - val_loss: 1.0911 - val_accuracy: 0.5700\n",
            "8/8 [==============================] - 1s 38ms/step - loss: 0.5913 - accuracy: 0.8438 - val_loss: 6.0020 - val_accuracy: 0.0000e+00\n",
            "8/8 [==============================] - 1s 39ms/step - loss: 1.0249 - accuracy: 0.6623 - val_loss: 0.8296 - val_accuracy: 0.7600\n",
            "8/8 [==============================] - 1s 38ms/step - loss: 0.7096 - accuracy: 0.8489 - val_loss: 4.0624 - val_accuracy: 0.0250\n",
            "8/8 [==============================] - 1s 41ms/step - loss: 0.5617 - accuracy: 0.8500 - val_loss: 4.2009 - val_accuracy: 0.0300\n",
            "8/8 [==============================] - 1s 39ms/step - loss: 0.9622 - accuracy: 0.6545 - val_loss: 1.1029 - val_accuracy: 0.6200\n",
            "8/8 [==============================] - 1s 40ms/step - loss: 0.9516 - accuracy: 0.6657 - val_loss: 0.9728 - val_accuracy: 0.6750\n",
            "8/8 [==============================] - 1s 40ms/step - loss: 0.4340 - accuracy: 0.8697 - val_loss: 12.1180 - val_accuracy: 0.0000e+00\n",
            "8/8 [==============================] - 1s 39ms/step - loss: 1.0414 - accuracy: 0.6417 - val_loss: 1.2090 - val_accuracy: 0.4950\n",
            "8/8 [==============================] - 1s 39ms/step - loss: 0.6074 - accuracy: 0.8019 - val_loss: 4.3123 - val_accuracy: 0.0250\n",
            "8/8 [==============================] - 1s 39ms/step - loss: 0.8613 - accuracy: 0.7351 - val_loss: 1.3018 - val_accuracy: 0.4750\n",
            "7/7 [==============================] - 0s 4ms/step - loss: 0.9398 - accuracy: 0.7053\n",
            "EPOCHS 8 is starting...\n",
            "8/8 [==============================] - 1s 41ms/step - loss: 0.9809 - accuracy: 0.7065 - val_loss: 1.3337 - val_accuracy: 0.4350\n",
            "8/8 [==============================] - 1s 43ms/step - loss: 0.8566 - accuracy: 0.7198 - val_loss: 1.0774 - val_accuracy: 0.6400\n",
            "8/8 [==============================] - 1s 40ms/step - loss: 0.5403 - accuracy: 0.8598 - val_loss: 4.9665 - val_accuracy: 0.0000e+00\n",
            "8/8 [==============================] - 1s 39ms/step - loss: 0.8640 - accuracy: 0.7018 - val_loss: 0.8099 - val_accuracy: 0.7600\n",
            "8/8 [==============================] - 1s 41ms/step - loss: 0.5849 - accuracy: 0.8528 - val_loss: 3.3348 - val_accuracy: 0.0500\n",
            "8/8 [==============================] - 1s 39ms/step - loss: 0.5506 - accuracy: 0.8568 - val_loss: 3.9074 - val_accuracy: 0.0300\n",
            "8/8 [==============================] - 1s 39ms/step - loss: 0.9670 - accuracy: 0.6600 - val_loss: 0.8063 - val_accuracy: 0.7450\n",
            "8/8 [==============================] - 1s 39ms/step - loss: 0.8666 - accuracy: 0.7350 - val_loss: 0.8980 - val_accuracy: 0.7050\n",
            "8/8 [==============================] - 1s 40ms/step - loss: 0.3923 - accuracy: 0.8672 - val_loss: 12.1796 - val_accuracy: 0.0000e+00\n",
            "8/8 [==============================] - 1s 39ms/step - loss: 1.0072 - accuracy: 0.6307 - val_loss: 1.3558 - val_accuracy: 0.4300\n",
            "8/8 [==============================] - 1s 40ms/step - loss: 0.5763 - accuracy: 0.8431 - val_loss: 3.4080 - val_accuracy: 0.0300\n",
            "8/8 [==============================] - 1s 39ms/step - loss: 0.7399 - accuracy: 0.7465 - val_loss: 1.4930 - val_accuracy: 0.3900\n",
            "7/7 [==============================] - 0s 4ms/step - loss: 0.9167 - accuracy: 0.6968\n",
            "EPOCHS 9 is starting...\n",
            "8/8 [==============================] - 1s 39ms/step - loss: 0.9529 - accuracy: 0.6341 - val_loss: 1.3284 - val_accuracy: 0.4400\n",
            "8/8 [==============================] - 1s 37ms/step - loss: 0.7984 - accuracy: 0.7502 - val_loss: 0.6188 - val_accuracy: 0.7950\n",
            "8/8 [==============================] - 1s 37ms/step - loss: 0.4734 - accuracy: 0.8788 - val_loss: 5.0632 - val_accuracy: 0.0000e+00\n",
            "8/8 [==============================] - 1s 40ms/step - loss: 0.8850 - accuracy: 0.7257 - val_loss: 0.7982 - val_accuracy: 0.7350\n",
            "8/8 [==============================] - 1s 40ms/step - loss: 0.5412 - accuracy: 0.8540 - val_loss: 3.7360 - val_accuracy: 0.0400\n",
            "8/8 [==============================] - 1s 40ms/step - loss: 0.4086 - accuracy: 0.9181 - val_loss: 2.9615 - val_accuracy: 0.0650\n",
            "8/8 [==============================] - 1s 39ms/step - loss: 0.8305 - accuracy: 0.6873 - val_loss: 0.8199 - val_accuracy: 0.7300\n",
            "8/8 [==============================] - 1s 38ms/step - loss: 0.7724 - accuracy: 0.7214 - val_loss: 0.8051 - val_accuracy: 0.7350\n",
            "8/8 [==============================] - 1s 38ms/step - loss: 0.3627 - accuracy: 0.8903 - val_loss: 10.8194 - val_accuracy: 0.0000e+00\n",
            "8/8 [==============================] - 1s 40ms/step - loss: 0.9818 - accuracy: 0.6898 - val_loss: 1.1752 - val_accuracy: 0.4750\n",
            "8/8 [==============================] - 1s 38ms/step - loss: 0.5363 - accuracy: 0.8512 - val_loss: 3.0595 - val_accuracy: 0.0250\n",
            "8/8 [==============================] - 1s 39ms/step - loss: 0.7001 - accuracy: 0.7541 - val_loss: 1.1744 - val_accuracy: 0.5000\n",
            "7/7 [==============================] - 0s 4ms/step - loss: 0.7705 - accuracy: 0.7753\n",
            "EPOCHS 10 is starting...\n",
            "8/8 [==============================] - 1s 38ms/step - loss: 0.7978 - accuracy: 0.6974 - val_loss: 1.3654 - val_accuracy: 0.4500\n",
            "8/8 [==============================] - 1s 39ms/step - loss: 0.8017 - accuracy: 0.7156 - val_loss: 0.8015 - val_accuracy: 0.7000\n",
            "8/8 [==============================] - 1s 38ms/step - loss: 0.3510 - accuracy: 0.9206 - val_loss: 7.5488 - val_accuracy: 0.0150\n",
            "8/8 [==============================] - 1s 39ms/step - loss: 0.6926 - accuracy: 0.7648 - val_loss: 0.7509 - val_accuracy: 0.7450\n",
            "8/8 [==============================] - 1s 40ms/step - loss: 0.5529 - accuracy: 0.8390 - val_loss: 4.3023 - val_accuracy: 0.0450\n",
            "8/8 [==============================] - 1s 39ms/step - loss: 0.5195 - accuracy: 0.8679 - val_loss: 2.6586 - val_accuracy: 0.0750\n",
            "8/8 [==============================] - 1s 39ms/step - loss: 0.8280 - accuracy: 0.7408 - val_loss: 0.5633 - val_accuracy: 0.8250\n",
            "8/8 [==============================] - 1s 39ms/step - loss: 0.7128 - accuracy: 0.7639 - val_loss: 0.6635 - val_accuracy: 0.7800\n",
            "8/8 [==============================] - 1s 39ms/step - loss: 0.3848 - accuracy: 0.8728 - val_loss: 13.2042 - val_accuracy: 0.0000e+00\n",
            "8/8 [==============================] - 1s 38ms/step - loss: 0.8943 - accuracy: 0.7148 - val_loss: 1.3923 - val_accuracy: 0.4350\n",
            "8/8 [==============================] - 1s 39ms/step - loss: 0.5455 - accuracy: 0.8395 - val_loss: 2.8881 - val_accuracy: 0.0500\n",
            "8/8 [==============================] - 1s 38ms/step - loss: 0.7796 - accuracy: 0.7228 - val_loss: 0.8839 - val_accuracy: 0.6900\n",
            "7/7 [==============================] - 0s 4ms/step - loss: 0.7264 - accuracy: 0.7737\n",
            "EPOCHS 11 is starting...\n",
            "8/8 [==============================] - 1s 42ms/step - loss: 0.7996 - accuracy: 0.7224 - val_loss: 1.1416 - val_accuracy: 0.5500\n",
            "8/8 [==============================] - 1s 41ms/step - loss: 0.8914 - accuracy: 0.7135 - val_loss: 0.7333 - val_accuracy: 0.7650\n",
            "8/8 [==============================] - 1s 38ms/step - loss: 0.5589 - accuracy: 0.8544 - val_loss: 5.7605 - val_accuracy: 0.0000e+00\n",
            "8/8 [==============================] - 1s 40ms/step - loss: 0.7534 - accuracy: 0.7110 - val_loss: 0.8734 - val_accuracy: 0.6700\n",
            "8/8 [==============================] - 1s 38ms/step - loss: 0.6668 - accuracy: 0.7703 - val_loss: 2.9182 - val_accuracy: 0.0350\n",
            "8/8 [==============================] - 1s 39ms/step - loss: 0.6260 - accuracy: 0.8016 - val_loss: 3.7684 - val_accuracy: 0.0000e+00\n",
            "8/8 [==============================] - 1s 38ms/step - loss: 0.6996 - accuracy: 0.7629 - val_loss: 0.5616 - val_accuracy: 0.8250\n",
            "8/8 [==============================] - 1s 36ms/step - loss: 0.7279 - accuracy: 0.7564 - val_loss: 0.6717 - val_accuracy: 0.7750\n",
            "8/8 [==============================] - 1s 37ms/step - loss: 0.4294 - accuracy: 0.8367 - val_loss: 9.2353 - val_accuracy: 0.0000e+00\n",
            "8/8 [==============================] - 1s 41ms/step - loss: 0.8595 - accuracy: 0.6770 - val_loss: 1.1682 - val_accuracy: 0.5300\n",
            "8/8 [==============================] - 1s 42ms/step - loss: 0.5986 - accuracy: 0.8239 - val_loss: 3.6775 - val_accuracy: 0.0300\n",
            "8/8 [==============================] - 1s 39ms/step - loss: 0.6236 - accuracy: 0.7515 - val_loss: 0.8052 - val_accuracy: 0.7500\n",
            "7/7 [==============================] - 0s 4ms/step - loss: 0.6718 - accuracy: 0.7862\n",
            "EPOCHS 12 is starting...\n",
            "8/8 [==============================] - 1s 39ms/step - loss: 0.8135 - accuracy: 0.6696 - val_loss: 0.9847 - val_accuracy: 0.6000\n",
            "8/8 [==============================] - 1s 39ms/step - loss: 0.7118 - accuracy: 0.7730 - val_loss: 0.9327 - val_accuracy: 0.6250\n",
            "8/8 [==============================] - 1s 39ms/step - loss: 0.4756 - accuracy: 0.8797 - val_loss: 4.5731 - val_accuracy: 0.0000e+00\n",
            "8/8 [==============================] - 1s 39ms/step - loss: 0.6787 - accuracy: 0.7647 - val_loss: 0.6321 - val_accuracy: 0.8150\n",
            "8/8 [==============================] - 1s 40ms/step - loss: 0.5575 - accuracy: 0.8339 - val_loss: 3.4318 - val_accuracy: 0.0500\n",
            "8/8 [==============================] - 1s 40ms/step - loss: 0.4747 - accuracy: 0.8754 - val_loss: 3.0592 - val_accuracy: 0.0500\n",
            "8/8 [==============================] - 1s 40ms/step - loss: 0.7387 - accuracy: 0.7718 - val_loss: 0.7564 - val_accuracy: 0.7300\n",
            "8/8 [==============================] - 1s 38ms/step - loss: 0.6993 - accuracy: 0.7817 - val_loss: 0.8862 - val_accuracy: 0.7000\n",
            "8/8 [==============================] - 1s 37ms/step - loss: 0.4051 - accuracy: 0.8625 - val_loss: 16.9683 - val_accuracy: 0.0000e+00\n",
            "8/8 [==============================] - 1s 38ms/step - loss: 0.8293 - accuracy: 0.6891 - val_loss: 1.2347 - val_accuracy: 0.4600\n",
            "8/8 [==============================] - 1s 39ms/step - loss: 0.5250 - accuracy: 0.8363 - val_loss: 2.8493 - val_accuracy: 0.1000\n",
            "8/8 [==============================] - 1s 39ms/step - loss: 0.6634 - accuracy: 0.7671 - val_loss: 1.1461 - val_accuracy: 0.5050\n",
            "7/7 [==============================] - 0s 4ms/step - loss: 0.7139 - accuracy: 0.7527\n",
            "EPOCHS 13 is starting...\n",
            "8/8 [==============================] - 1s 39ms/step - loss: 0.7743 - accuracy: 0.7157 - val_loss: 1.1154 - val_accuracy: 0.5100\n",
            "8/8 [==============================] - 1s 37ms/step - loss: 0.6693 - accuracy: 0.7724 - val_loss: 0.8324 - val_accuracy: 0.7100\n",
            "8/8 [==============================] - 1s 38ms/step - loss: 0.4233 - accuracy: 0.8759 - val_loss: 3.0373 - val_accuracy: 0.1200\n",
            "8/8 [==============================] - 1s 38ms/step - loss: 0.7323 - accuracy: 0.7337 - val_loss: 0.6264 - val_accuracy: 0.8250\n",
            "8/8 [==============================] - 1s 37ms/step - loss: 0.5210 - accuracy: 0.8467 - val_loss: 3.5179 - val_accuracy: 0.0450\n",
            "8/8 [==============================] - 1s 38ms/step - loss: 0.4351 - accuracy: 0.8561 - val_loss: 2.7991 - val_accuracy: 0.1100\n",
            "8/8 [==============================] - 1s 41ms/step - loss: 0.7065 - accuracy: 0.7646 - val_loss: 0.8073 - val_accuracy: 0.6900\n",
            "8/8 [==============================] - 1s 40ms/step - loss: 0.6832 - accuracy: 0.7541 - val_loss: 0.7280 - val_accuracy: 0.7300\n",
            "8/8 [==============================] - 1s 39ms/step - loss: 0.3483 - accuracy: 0.8409 - val_loss: 14.5229 - val_accuracy: 0.0000e+00\n",
            "8/8 [==============================] - 1s 37ms/step - loss: 0.7608 - accuracy: 0.7177 - val_loss: 1.4334 - val_accuracy: 0.3500\n",
            "8/8 [==============================] - 1s 38ms/step - loss: 0.4591 - accuracy: 0.8817 - val_loss: 3.2121 - val_accuracy: 0.0850\n",
            "8/8 [==============================] - 1s 40ms/step - loss: 0.5636 - accuracy: 0.7736 - val_loss: 1.2495 - val_accuracy: 0.5150\n",
            "7/7 [==============================] - 0s 4ms/step - loss: 0.6691 - accuracy: 0.7806\n",
            "EPOCHS 14 is starting...\n",
            "8/8 [==============================] - 1s 39ms/step - loss: 0.7534 - accuracy: 0.7393 - val_loss: 1.1859 - val_accuracy: 0.4650\n",
            "8/8 [==============================] - 1s 39ms/step - loss: 0.5961 - accuracy: 0.7914 - val_loss: 0.8077 - val_accuracy: 0.6950\n",
            "8/8 [==============================] - 1s 40ms/step - loss: 0.3669 - accuracy: 0.8904 - val_loss: 4.5216 - val_accuracy: 0.1150\n",
            "8/8 [==============================] - 1s 39ms/step - loss: 0.6344 - accuracy: 0.7533 - val_loss: 0.8521 - val_accuracy: 0.7000\n",
            "8/8 [==============================] - 1s 39ms/step - loss: 0.4905 - accuracy: 0.8790 - val_loss: 2.7324 - val_accuracy: 0.0900\n",
            "8/8 [==============================] - 1s 40ms/step - loss: 0.4408 - accuracy: 0.8736 - val_loss: 2.2096 - val_accuracy: 0.1750\n",
            "8/8 [==============================] - 1s 39ms/step - loss: 0.6781 - accuracy: 0.7175 - val_loss: 0.6760 - val_accuracy: 0.7650\n",
            "8/8 [==============================] - 1s 38ms/step - loss: 0.5412 - accuracy: 0.8020 - val_loss: 0.5606 - val_accuracy: 0.7950\n",
            "8/8 [==============================] - 1s 39ms/step - loss: 0.3194 - accuracy: 0.8602 - val_loss: 12.6317 - val_accuracy: 0.0000e+00\n",
            "8/8 [==============================] - 1s 39ms/step - loss: 0.7521 - accuracy: 0.7133 - val_loss: 0.7658 - val_accuracy: 0.7350\n",
            "8/8 [==============================] - 1s 38ms/step - loss: 0.4711 - accuracy: 0.8947 - val_loss: 2.5555 - val_accuracy: 0.0750\n",
            "8/8 [==============================] - 1s 41ms/step - loss: 0.4935 - accuracy: 0.8307 - val_loss: 0.8347 - val_accuracy: 0.6750\n",
            "7/7 [==============================] - 1s 4ms/step - loss: 0.6114 - accuracy: 0.8077\n",
            "EPOCHS 15 is starting...\n",
            "8/8 [==============================] - 1s 40ms/step - loss: 0.6590 - accuracy: 0.7740 - val_loss: 0.9002 - val_accuracy: 0.6400\n",
            "8/8 [==============================] - 1s 40ms/step - loss: 0.6905 - accuracy: 0.7397 - val_loss: 0.5558 - val_accuracy: 0.8300\n",
            "8/8 [==============================] - 1s 43ms/step - loss: 0.5587 - accuracy: 0.8049 - val_loss: 3.5229 - val_accuracy: 0.0350\n",
            "8/8 [==============================] - 1s 40ms/step - loss: 0.5893 - accuracy: 0.8275 - val_loss: 0.6625 - val_accuracy: 0.8050\n",
            "8/8 [==============================] - 1s 40ms/step - loss: 0.4592 - accuracy: 0.8693 - val_loss: 2.3431 - val_accuracy: 0.2750\n",
            "8/8 [==============================] - 1s 41ms/step - loss: 0.4583 - accuracy: 0.8466 - val_loss: 2.3044 - val_accuracy: 0.0650\n",
            "8/8 [==============================] - 1s 42ms/step - loss: 0.5896 - accuracy: 0.7754 - val_loss: 0.6507 - val_accuracy: 0.7800\n",
            "8/8 [==============================] - 1s 40ms/step - loss: 0.5157 - accuracy: 0.8234 - val_loss: 0.7925 - val_accuracy: 0.7450\n",
            "8/8 [==============================] - 1s 39ms/step - loss: 0.3306 - accuracy: 0.8771 - val_loss: 11.7891 - val_accuracy: 0.0050\n",
            "8/8 [==============================] - 1s 96ms/step - loss: 0.6870 - accuracy: 0.7568 - val_loss: 0.9472 - val_accuracy: 0.6450\n",
            "8/8 [==============================] - 1s 39ms/step - loss: 0.3566 - accuracy: 0.9152 - val_loss: 3.0450 - val_accuracy: 0.1050\n",
            "8/8 [==============================] - 1s 39ms/step - loss: 0.5453 - accuracy: 0.7988 - val_loss: 0.8318 - val_accuracy: 0.6850\n",
            "7/7 [==============================] - 0s 4ms/step - loss: 0.5960 - accuracy: 0.8047\n",
            "EPOCHS 16 is starting...\n",
            "8/8 [==============================] - 1s 42ms/step - loss: 0.6100 - accuracy: 0.7675 - val_loss: 0.7875 - val_accuracy: 0.7250\n",
            "8/8 [==============================] - 1s 42ms/step - loss: 0.6560 - accuracy: 0.7842 - val_loss: 0.6922 - val_accuracy: 0.7850\n",
            "8/8 [==============================] - 1s 41ms/step - loss: 0.4026 - accuracy: 0.9111 - val_loss: 3.2393 - val_accuracy: 0.0750\n",
            "8/8 [==============================] - 1s 40ms/step - loss: 0.5574 - accuracy: 0.7858 - val_loss: 0.8217 - val_accuracy: 0.7350\n",
            "8/8 [==============================] - 1s 43ms/step - loss: 0.5574 - accuracy: 0.8254 - val_loss: 2.5373 - val_accuracy: 0.1100\n",
            "8/8 [==============================] - 1s 38ms/step - loss: 0.4121 - accuracy: 0.8968 - val_loss: 3.5686 - val_accuracy: 0.0350\n",
            "8/8 [==============================] - 1s 38ms/step - loss: 0.5453 - accuracy: 0.7937 - val_loss: 0.7130 - val_accuracy: 0.8000\n",
            "8/8 [==============================] - 1s 42ms/step - loss: 0.5889 - accuracy: 0.8285 - val_loss: 0.7996 - val_accuracy: 0.7450\n",
            "8/8 [==============================] - 1s 40ms/step - loss: 0.3432 - accuracy: 0.8533 - val_loss: 16.1293 - val_accuracy: 0.0000e+00\n",
            "8/8 [==============================] - 1s 41ms/step - loss: 0.7344 - accuracy: 0.7321 - val_loss: 0.9746 - val_accuracy: 0.5700\n",
            "8/8 [==============================] - 1s 41ms/step - loss: 0.3964 - accuracy: 0.8758 - val_loss: 3.3035 - val_accuracy: 0.1750\n",
            "8/8 [==============================] - 1s 42ms/step - loss: 0.5175 - accuracy: 0.7734 - val_loss: 1.2537 - val_accuracy: 0.4950\n",
            "7/7 [==============================] - 0s 5ms/step - loss: 0.5856 - accuracy: 0.8034\n",
            "EPOCHS 17 is starting...\n",
            "8/8 [==============================] - 1s 39ms/step - loss: 0.6757 - accuracy: 0.7410 - val_loss: 0.9022 - val_accuracy: 0.6400\n",
            "8/8 [==============================] - 1s 39ms/step - loss: 0.6566 - accuracy: 0.7539 - val_loss: 0.9745 - val_accuracy: 0.6250\n",
            "8/8 [==============================] - 1s 38ms/step - loss: 0.4645 - accuracy: 0.8789 - val_loss: 4.2787 - val_accuracy: 0.0450\n",
            "8/8 [==============================] - 1s 39ms/step - loss: 0.5134 - accuracy: 0.8339 - val_loss: 0.7986 - val_accuracy: 0.7100\n",
            "8/8 [==============================] - 1s 45ms/step - loss: 0.5168 - accuracy: 0.8476 - val_loss: 2.9295 - val_accuracy: 0.1000\n",
            "8/8 [==============================] - 1s 41ms/step - loss: 0.2952 - accuracy: 0.9298 - val_loss: 2.2469 - val_accuracy: 0.1800\n",
            "8/8 [==============================] - 1s 40ms/step - loss: 0.5032 - accuracy: 0.8241 - val_loss: 0.7361 - val_accuracy: 0.7200\n",
            "8/8 [==============================] - 1s 39ms/step - loss: 0.4884 - accuracy: 0.8341 - val_loss: 0.5709 - val_accuracy: 0.7900\n",
            "8/8 [==============================] - 1s 41ms/step - loss: 0.2434 - accuracy: 0.9524 - val_loss: 9.1886 - val_accuracy: 0.0400\n",
            "8/8 [==============================] - 1s 42ms/step - loss: 0.6019 - accuracy: 0.7460 - val_loss: 0.6846 - val_accuracy: 0.7450\n",
            "8/8 [==============================] - 1s 41ms/step - loss: 0.3943 - accuracy: 0.8837 - val_loss: 3.7125 - val_accuracy: 0.0700\n",
            "8/8 [==============================] - 1s 39ms/step - loss: 0.4205 - accuracy: 0.8527 - val_loss: 2.0890 - val_accuracy: 0.3300\n",
            "7/7 [==============================] - 0s 4ms/step - loss: 0.5648 - accuracy: 0.8008\n",
            "EPOCHS 18 is starting...\n",
            "8/8 [==============================] - 1s 42ms/step - loss: 0.6703 - accuracy: 0.7293 - val_loss: 0.6548 - val_accuracy: 0.7900\n",
            "8/8 [==============================] - 1s 39ms/step - loss: 0.5772 - accuracy: 0.7942 - val_loss: 0.6985 - val_accuracy: 0.7300\n",
            "8/8 [==============================] - 1s 38ms/step - loss: 0.4493 - accuracy: 0.8962 - val_loss: 3.3344 - val_accuracy: 0.1600\n",
            "8/8 [==============================] - 1s 41ms/step - loss: 0.4886 - accuracy: 0.8243 - val_loss: 0.5864 - val_accuracy: 0.8000\n",
            "8/8 [==============================] - 1s 41ms/step - loss: 0.5203 - accuracy: 0.8064 - val_loss: 2.7118 - val_accuracy: 0.1850\n",
            "8/8 [==============================] - 1s 40ms/step - loss: 0.3960 - accuracy: 0.8740 - val_loss: 2.5219 - val_accuracy: 0.0650\n",
            "8/8 [==============================] - 1s 39ms/step - loss: 0.6439 - accuracy: 0.7426 - val_loss: 0.6634 - val_accuracy: 0.7550\n",
            "8/8 [==============================] - 1s 38ms/step - loss: 0.4766 - accuracy: 0.8105 - val_loss: 0.4615 - val_accuracy: 0.8250\n",
            "8/8 [==============================] - 1s 39ms/step - loss: 0.2511 - accuracy: 0.9231 - val_loss: 18.1497 - val_accuracy: 0.0000e+00\n",
            "8/8 [==============================] - 1s 39ms/step - loss: 0.7391 - accuracy: 0.7302 - val_loss: 0.5773 - val_accuracy: 0.8200\n",
            "8/8 [==============================] - 1s 40ms/step - loss: 0.4196 - accuracy: 0.8923 - val_loss: 2.4008 - val_accuracy: 0.2350\n",
            "8/8 [==============================] - 1s 41ms/step - loss: 0.4795 - accuracy: 0.8271 - val_loss: 1.7193 - val_accuracy: 0.3100\n",
            "7/7 [==============================] - 0s 4ms/step - loss: 0.4511 - accuracy: 0.8457\n",
            "EPOCHS 19 is starting...\n",
            "8/8 [==============================] - 1s 42ms/step - loss: 0.5775 - accuracy: 0.7840 - val_loss: 0.7361 - val_accuracy: 0.7000\n",
            "8/8 [==============================] - 1s 39ms/step - loss: 0.6064 - accuracy: 0.7739 - val_loss: 0.5253 - val_accuracy: 0.8300\n",
            "8/8 [==============================] - 1s 39ms/step - loss: 0.5344 - accuracy: 0.8778 - val_loss: 3.7289 - val_accuracy: 0.0750\n",
            "8/8 [==============================] - 1s 39ms/step - loss: 0.4620 - accuracy: 0.8235 - val_loss: 0.5305 - val_accuracy: 0.8250\n",
            "8/8 [==============================] - 1s 39ms/step - loss: 0.4566 - accuracy: 0.8789 - val_loss: 3.1049 - val_accuracy: 0.1350\n",
            "8/8 [==============================] - 1s 41ms/step - loss: 0.4746 - accuracy: 0.8378 - val_loss: 2.5477 - val_accuracy: 0.0800\n",
            "8/8 [==============================] - 1s 41ms/step - loss: 0.5117 - accuracy: 0.8176 - val_loss: 0.3488 - val_accuracy: 0.8950\n",
            "8/8 [==============================] - 1s 42ms/step - loss: 0.4396 - accuracy: 0.8384 - val_loss: 0.5152 - val_accuracy: 0.8150\n",
            "8/8 [==============================] - 1s 40ms/step - loss: 0.3613 - accuracy: 0.8858 - val_loss: 13.2076 - val_accuracy: 0.0000e+00\n",
            "8/8 [==============================] - 1s 45ms/step - loss: 0.6818 - accuracy: 0.7250 - val_loss: 0.9695 - val_accuracy: 0.6250\n",
            "8/8 [==============================] - 1s 40ms/step - loss: 0.4478 - accuracy: 0.8678 - val_loss: 4.8002 - val_accuracy: 0.0400\n",
            "8/8 [==============================] - 1s 42ms/step - loss: 0.4755 - accuracy: 0.7964 - val_loss: 0.9922 - val_accuracy: 0.5650\n",
            "7/7 [==============================] - 0s 5ms/step - loss: 0.4712 - accuracy: 0.8301\n"
          ],
          "name": "stdout"
        }
      ]
    },
    {
      "cell_type": "code",
      "metadata": {
        "colab": {
          "base_uri": "https://localhost:8080/"
        },
        "id": "ae-HCTi1rvUP",
        "outputId": "55aa55c3-1630-4fbf-f800-8a258fc077b7"
      },
      "source": [
        "WeightsEachEpoch"
      ],
      "execution_count": 64,
      "outputs": [
        {
          "output_type": "execute_result",
          "data": {
            "text/plain": [
              "[array([0.46115642, 0.53884358]),\n",
              " array([0.48364656, 0.51635344]),\n",
              " array([0.18984471, 0.220704  , 0.17988606, 0.20720495, 0.20236028]),\n",
              " array([0.14845842, 0.13401649, 0.1330678 , 0.13578106, 0.14743829,\n",
              "        0.15869598, 0.14254195]),\n",
              " array([0.18282036, 0.21615785, 0.18892034, 0.22145374, 0.19064771]),\n",
              " array([0.29854959, 0.35132562, 0.35012479]),\n",
              " array([0.53678287, 0.46321713]),\n",
              " array([1.]),\n",
              " array([1.]),\n",
              " array([0.07919882, 0.08734785, 0.078565  , 0.08669479, 0.07831038,\n",
              "        0.08131535, 0.10338278, 0.07628986, 0.07483   , 0.08671272,\n",
              "        0.09508064, 0.07227181]),\n",
              " array([0.11001628, 0.10982906, 0.1182276 , 0.11647146, 0.10625045,\n",
              "        0.10583245, 0.10628721, 0.12140453, 0.10568096]),\n",
              " array([0.13787012, 0.14031889, 0.14235848, 0.13769312, 0.13728683,\n",
              "        0.15454769, 0.14992488]),\n",
              " array([0.16224285, 0.17057939, 0.15813242, 0.16973681, 0.18033761,\n",
              "        0.15897093]),\n",
              " array([0.48915601, 0.51084399]),\n",
              " array([0.07642609, 0.09058729, 0.07840291, 0.08106204, 0.07329455,\n",
              "        0.0818176 , 0.11108374, 0.0770865 , 0.0794419 , 0.08685878,\n",
              "        0.09049143, 0.07344716]),\n",
              " array([0.11178098, 0.11419199, 0.10976403, 0.10887386, 0.10731247,\n",
              "        0.11545234, 0.10870603, 0.11030802, 0.11361027]),\n",
              " array([0.21388952, 0.1988343 , 0.19055655, 0.1876164 , 0.20910323]),\n",
              " array([0.24459237, 0.25141488, 0.23498125, 0.2690115 ]),\n",
              " array([1.]),\n",
              " array([1.])]"
            ]
          },
          "metadata": {
            "tags": []
          },
          "execution_count": 64
        }
      ]
    },
    {
      "cell_type": "code",
      "metadata": {
        "id": "oCRvT_mMend-"
      },
      "source": [
        "for i in range(NUM_EPOCHS):\n",
        "  ShowWeights(WeightsEachEpoch,i)"
      ],
      "execution_count": null,
      "outputs": []
    },
    {
      "cell_type": "code",
      "metadata": {
        "colab": {
          "base_uri": "https://localhost:8080/",
          "height": 295
        },
        "id": "it9jy1sji9ly",
        "outputId": "d4e95aaf-be75-402b-e037-c3dd9063a96c"
      },
      "source": [
        "A1 = ShowAccAndLoss(S.loss_acc)"
      ],
      "execution_count": 29,
      "outputs": [
        {
          "output_type": "display_data",
          "data": {
            "image/png": "[encoded data removed]",
            "text/plain": [
              "<Figure size 432x288 with 2 Axes>"
            ]
          },
          "metadata": {
            "tags": [],
            "needs_background": "light"
          }
        }
      ]
    },
    {
      "cell_type": "code",
      "metadata": {
        "colab": {
          "base_uri": "https://localhost:8080/"
        },
        "id": "lXC1RS38HTXb",
        "outputId": "d42e7141-005a-40bd-c10a-0b5b3e5542e8"
      },
      "source": [
        "NodeList"
      ],
      "execution_count": 66,
      "outputs": [
        {
          "output_type": "execute_result",
          "data": {
            "text/plain": [
              "[]"
            ]
          },
          "metadata": {
            "tags": []
          },
          "execution_count": 66
        }
      ]
    },
    {
      "cell_type": "code",
      "metadata": {
        "colab": {
          "base_uri": "https://localhost:8080/",
          "height": 279
        },
        "id": "LM3n47YxHTNn",
        "outputId": "0ceb3125-0653-49b1-eaf8-8e3f2a3f650b"
      },
      "source": [
        "ShowParticipatedNode(NodeList)"
      ],
      "execution_count": null,
      "outputs": [
        {
          "output_type": "display_data",
          "data": {
            "image/png": "[encoded data removed]",
            "text/plain": [
              "<Figure size 432x288 with 1 Axes>"
            ]
          },
          "metadata": {
            "tags": [],
            "needs_background": "light"
          }
        }
      ]
    },
    {
      "cell_type": "markdown",
      "metadata": {
        "id": "i2axuRBsO6V7"
      },
      "source": [
        "# 阶段四：设置对照组，即普通的FedAvg"
      ]
    },
    {
      "cell_type": "code",
      "metadata": {
        "id": "wwI_gLjwO5w4"
      },
      "source": [
        "def FedAvg_Baseline(NUM_CLIENTS,model):\n",
        "  iterModel = model.copy()\n",
        "  len_it = len(iterModel.trainable_variables)\n",
        "  all_weights = []\n",
        "  for weights_index in range(len_it):\n",
        "    tmp =np.zeros(iterModel.trainable_variables[weights_index].numpy().shape,dtype='float64')\n",
        "    for node in range(NUM_CLIENTS):\n",
        "      tmp += clients[node].model.trainable_variables[weights_index].numpy()\n",
        "    all_weights.append(tmp/NUM_CLIENTS)\n",
        "  # print(all_weights)\n",
        "  iterModel_vars = iterModel.trainable_variables\n",
        "  for iter_v,n in zip(iterModel_vars,all_weights):\n",
        "    iter_v.assign(n)\n",
        "  return iterModel"
      ],
      "execution_count": 30,
      "outputs": []
    },
    {
      "cell_type": "code",
      "metadata": {
        "colab": {
          "base_uri": "https://localhost:8080/"
        },
        "id": "X5o0nVueO0m7",
        "outputId": "4e8f646d-08d9-44d5-d733-c5d0f260aaff"
      },
      "source": [
        "InitModel = FLModel(row=28,col=28,num_classes=CLASS_NUM)\n",
        "S2 = ParamServer(\"\")\n",
        "S2.PreEval(InitModel,validation_data)\n",
        "SendModel = InitModel"
      ],
      "execution_count": 31,
      "outputs": [
        {
          "output_type": "stream",
          "text": [
            "7/7 [==============================] - 0s 4ms/step - loss: 2.3972 - accuracy: 0.1020\n"
          ],
          "name": "stdout"
        }
      ]
    },
    {
      "cell_type": "code",
      "metadata": {
        "id": "KW2JdgUEP0C5"
      },
      "source": [
        "# SendModel = S2.PreTrain(InitModel,DigitDataSet[0][0:200],DigitDataSet[1][0:200],epochs=1)\n",
        "# S2.PreEval(SendModel,validation_data)"
      ],
      "execution_count": null,
      "outputs": []
    },
    {
      "cell_type": "code",
      "metadata": {
        "colab": {
          "base_uri": "https://localhost:8080/"
        },
        "id": "dejoUrZlPz5l",
        "outputId": "b361c1f7-2b6f-4882-99a0-480655945555"
      },
      "source": [
        "for e in range(NUM_EPOCHS):\n",
        "  print(\"EPOCHS {} is starting...\".format(e))\n",
        "  for i in range(NUM_CLIENTS):\n",
        "    clients[i].ReceiveModel(SendModel.copy())\n",
        "    clients[i].NodeTrain()\n",
        "    # clients[i].NodeEval()\n",
        "    # DIS.append(Distance(SendModel,clients[i].model))\n",
        "  FedModel = FedAvg_Baseline(NUM_CLIENTS,SendModel)\n",
        "  S2.PreEval(FedModel,validation_server)\n",
        "  SendModel = FedModel.copy()"
      ],
      "execution_count": 32,
      "outputs": [
        {
          "output_type": "stream",
          "text": [
            "EPOCHS 0 is starting...\n",
            "8/8 [==============================] - 1s 42ms/step - loss: 2.1675 - accuracy: 0.4117 - val_loss: 4.5570 - val_accuracy: 0.0000e+00\n",
            "8/8 [==============================] - 1s 43ms/step - loss: 2.3047 - accuracy: 0.2776 - val_loss: 2.7706 - val_accuracy: 0.0000e+00\n",
            "8/8 [==============================] - 1s 41ms/step - loss: 1.9418 - accuracy: 0.6460 - val_loss: 6.2956 - val_accuracy: 0.0000e+00\n",
            "8/8 [==============================] - 1s 41ms/step - loss: 2.3391 - accuracy: 0.1898 - val_loss: 2.7277 - val_accuracy: 0.0000e+00\n",
            "8/8 [==============================] - 1s 41ms/step - loss: 1.9729 - accuracy: 0.6279 - val_loss: 6.2653 - val_accuracy: 0.0000e+00\n",
            "8/8 [==============================] - 1s 42ms/step - loss: 1.9755 - accuracy: 0.6510 - val_loss: 6.1673 - val_accuracy: 0.0000e+00\n",
            "8/8 [==============================] - 1s 38ms/step - loss: 2.3556 - accuracy: 0.1724 - val_loss: 2.6121 - val_accuracy: 0.0000e+00\n",
            "8/8 [==============================] - 1s 43ms/step - loss: 2.3568 - accuracy: 0.1452 - val_loss: 2.3540 - val_accuracy: 0.0500\n",
            "8/8 [==============================] - 1s 40ms/step - loss: 1.9208 - accuracy: 0.6711 - val_loss: 6.6307 - val_accuracy: 0.0000e+00\n",
            "8/8 [==============================] - 1s 40ms/step - loss: 2.1859 - accuracy: 0.4299 - val_loss: 4.2270 - val_accuracy: 0.0000e+00\n",
            "8/8 [==============================] - 1s 39ms/step - loss: 1.9621 - accuracy: 0.6416 - val_loss: 6.1470 - val_accuracy: 0.0000e+00\n",
            "8/8 [==============================] - 1s 38ms/step - loss: 2.1592 - accuracy: 0.4319 - val_loss: 4.1269 - val_accuracy: 0.0000e+00\n",
            "7/7 [==============================] - 0s 4ms/step - loss: 3.7076 - accuracy: 0.0000e+00\n",
            "EPOCHS 1 is starting...\n",
            "8/8 [==============================] - 1s 39ms/step - loss: 1.5902 - accuracy: 0.6211 - val_loss: 3.2328 - val_accuracy: 0.0000e+00\n",
            "8/8 [==============================] - 1s 38ms/step - loss: 2.1661 - accuracy: 0.3864 - val_loss: 2.4339 - val_accuracy: 0.0000e+00\n",
            "8/8 [==============================] - 1s 39ms/step - loss: 0.4374 - accuracy: 0.9541 - val_loss: 5.0968 - val_accuracy: 0.0000e+00\n",
            "8/8 [==============================] - 1s 39ms/step - loss: 2.4330 - accuracy: 0.2919 - val_loss: 2.4194 - val_accuracy: 0.0000e+00\n",
            "8/8 [==============================] - 1s 93ms/step - loss: 0.5659 - accuracy: 0.9274 - val_loss: 4.1207 - val_accuracy: 0.0000e+00\n",
            "8/8 [==============================] - 1s 39ms/step - loss: 0.6304 - accuracy: 0.9079 - val_loss: 4.9257 - val_accuracy: 0.0000e+00\n",
            "8/8 [==============================] - 1s 38ms/step - loss: 2.6128 - accuracy: 0.2070 - val_loss: 2.4096 - val_accuracy: 0.0000e+00\n",
            "8/8 [==============================] - 1s 39ms/step - loss: 2.7354 - accuracy: 0.1782 - val_loss: 2.3916 - val_accuracy: 0.0350\n",
            "8/8 [==============================] - 1s 38ms/step - loss: 0.2613 - accuracy: 0.9897 - val_loss: 11.1445 - val_accuracy: 0.0000e+00\n",
            "8/8 [==============================] - 1s 38ms/step - loss: 1.6133 - accuracy: 0.6093 - val_loss: 2.8289 - val_accuracy: 0.0000e+00\n",
            "8/8 [==============================] - 1s 39ms/step - loss: 0.4832 - accuracy: 0.9511 - val_loss: 4.6390 - val_accuracy: 0.0000e+00\n",
            "8/8 [==============================] - 1s 38ms/step - loss: 1.5891 - accuracy: 0.6242 - val_loss: 3.3842 - val_accuracy: 0.0000e+00\n",
            "7/7 [==============================] - 0s 4ms/step - loss: 2.8694 - accuracy: 0.0000e+00\n",
            "EPOCHS 2 is starting...\n",
            "8/8 [==============================] - 1s 38ms/step - loss: 1.4465 - accuracy: 0.6416 - val_loss: 2.8423 - val_accuracy: 0.0000e+00\n",
            "8/8 [==============================] - 1s 38ms/step - loss: 2.0257 - accuracy: 0.3929 - val_loss: 2.6737 - val_accuracy: 0.0000e+00\n",
            "8/8 [==============================] - 1s 40ms/step - loss: 0.6066 - accuracy: 0.9488 - val_loss: 7.3199 - val_accuracy: 0.0000e+00\n",
            "8/8 [==============================] - 1s 40ms/step - loss: 2.1869 - accuracy: 0.2956 - val_loss: 2.4771 - val_accuracy: 0.0000e+00\n",
            "8/8 [==============================] - 1s 40ms/step - loss: 0.7584 - accuracy: 0.9064 - val_loss: 5.6783 - val_accuracy: 0.0000e+00\n",
            "8/8 [==============================] - 1s 41ms/step - loss: 0.6714 - accuracy: 0.9268 - val_loss: 6.1690 - val_accuracy: 0.0000e+00\n",
            "8/8 [==============================] - 1s 38ms/step - loss: 2.2577 - accuracy: 0.2511 - val_loss: 2.4239 - val_accuracy: 0.0000e+00\n",
            "8/8 [==============================] - 1s 38ms/step - loss: 2.4298 - accuracy: 0.1729 - val_loss: 2.3597 - val_accuracy: 0.0650\n",
            "8/8 [==============================] - 1s 39ms/step - loss: 0.4579 - accuracy: 0.9792 - val_loss: 15.3581 - val_accuracy: 0.0000e+00\n",
            "8/8 [==============================] - 1s 38ms/step - loss: 1.6347 - accuracy: 0.5927 - val_loss: 2.9246 - val_accuracy: 0.0000e+00\n",
            "8/8 [==============================] - 1s 39ms/step - loss: 0.6922 - accuracy: 0.9341 - val_loss: 5.7833 - val_accuracy: 0.0000e+00\n",
            "8/8 [==============================] - 1s 42ms/step - loss: 1.5710 - accuracy: 0.6259 - val_loss: 2.7820 - val_accuracy: 0.0000e+00\n",
            "7/7 [==============================] - 0s 4ms/step - loss: 3.2554 - accuracy: 0.0000e+00\n",
            "EPOCHS 3 is starting...\n",
            "8/8 [==============================] - 1s 40ms/step - loss: 1.4601 - accuracy: 0.6184 - val_loss: 3.5064 - val_accuracy: 0.0000e+00\n",
            "8/8 [==============================] - 1s 39ms/step - loss: 2.0930 - accuracy: 0.3626 - val_loss: 2.5882 - val_accuracy: 0.0000e+00\n",
            "8/8 [==============================] - 1s 38ms/step - loss: 0.4796 - accuracy: 0.9441 - val_loss: 5.3506 - val_accuracy: 0.0000e+00\n",
            "8/8 [==============================] - 1s 38ms/step - loss: 2.3964 - accuracy: 0.2621 - val_loss: 2.3663 - val_accuracy: 0.0050\n",
            "8/8 [==============================] - 1s 37ms/step - loss: 0.5592 - accuracy: 0.9410 - val_loss: 4.7995 - val_accuracy: 0.0000e+00\n",
            "8/8 [==============================] - 1s 40ms/step - loss: 0.5449 - accuracy: 0.9266 - val_loss: 4.3728 - val_accuracy: 0.0000e+00\n",
            "8/8 [==============================] - 1s 38ms/step - loss: 2.4080 - accuracy: 0.2219 - val_loss: 2.3618 - val_accuracy: 0.1200\n",
            "8/8 [==============================] - 1s 39ms/step - loss: 2.4951 - accuracy: 0.1777 - val_loss: 2.3417 - val_accuracy: 0.1300\n",
            "8/8 [==============================] - 1s 39ms/step - loss: 0.2826 - accuracy: 0.9779 - val_loss: 13.4197 - val_accuracy: 0.0000e+00\n",
            "8/8 [==============================] - 1s 40ms/step - loss: 1.6023 - accuracy: 0.5859 - val_loss: 3.4716 - val_accuracy: 0.0000e+00\n",
            "8/8 [==============================] - 1s 39ms/step - loss: 0.5500 - accuracy: 0.9256 - val_loss: 4.1883 - val_accuracy: 0.0000e+00\n",
            "8/8 [==============================] - 1s 41ms/step - loss: 1.3674 - accuracy: 0.6599 - val_loss: 2.9419 - val_accuracy: 0.0000e+00\n",
            "7/7 [==============================] - 0s 5ms/step - loss: 2.8969 - accuracy: 0.0000e+00\n",
            "EPOCHS 4 is starting...\n",
            "8/8 [==============================] - 1s 40ms/step - loss: 1.4961 - accuracy: 0.6070 - val_loss: 2.7955 - val_accuracy: 0.0000e+00\n",
            "8/8 [==============================] - 1s 40ms/step - loss: 1.9825 - accuracy: 0.3629 - val_loss: 2.5728 - val_accuracy: 0.0300\n",
            "8/8 [==============================] - 1s 39ms/step - loss: 0.5204 - accuracy: 0.9374 - val_loss: 6.3571 - val_accuracy: 0.0000e+00\n",
            "8/8 [==============================] - 1s 38ms/step - loss: 2.2817 - accuracy: 0.2452 - val_loss: 2.3404 - val_accuracy: 0.0000e+00\n",
            "8/8 [==============================] - 1s 38ms/step - loss: 0.6320 - accuracy: 0.9146 - val_loss: 4.8013 - val_accuracy: 0.0000e+00\n",
            "8/8 [==============================] - 1s 40ms/step - loss: 0.5597 - accuracy: 0.9329 - val_loss: 5.2844 - val_accuracy: 0.0000e+00\n",
            "8/8 [==============================] - 1s 38ms/step - loss: 2.1214 - accuracy: 0.2811 - val_loss: 2.2724 - val_accuracy: 0.1200\n",
            "8/8 [==============================] - 1s 40ms/step - loss: 2.3383 - accuracy: 0.1993 - val_loss: 2.2737 - val_accuracy: 0.1650\n",
            "8/8 [==============================] - 1s 40ms/step - loss: 0.3399 - accuracy: 0.9877 - val_loss: 13.6572 - val_accuracy: 0.0000e+00\n",
            "8/8 [==============================] - 1s 40ms/step - loss: 1.5512 - accuracy: 0.5914 - val_loss: 2.7552 - val_accuracy: 0.0000e+00\n",
            "8/8 [==============================] - 1s 40ms/step - loss: 0.6274 - accuracy: 0.9282 - val_loss: 4.5428 - val_accuracy: 0.0000e+00\n",
            "8/8 [==============================] - 1s 39ms/step - loss: 1.4520 - accuracy: 0.6590 - val_loss: 2.6941 - val_accuracy: 0.0000e+00\n",
            "7/7 [==============================] - 0s 4ms/step - loss: 3.0005 - accuracy: 0.0000e+00\n",
            "EPOCHS 5 is starting...\n",
            "8/8 [==============================] - 1s 39ms/step - loss: 1.5775 - accuracy: 0.5956 - val_loss: 3.1450 - val_accuracy: 0.0000e+00\n",
            "8/8 [==============================] - 1s 38ms/step - loss: 1.8088 - accuracy: 0.4330 - val_loss: 2.4104 - val_accuracy: 0.0650\n",
            "8/8 [==============================] - 1s 40ms/step - loss: 0.4322 - accuracy: 0.9572 - val_loss: 5.6064 - val_accuracy: 0.0000e+00\n",
            "8/8 [==============================] - 1s 39ms/step - loss: 2.2508 - accuracy: 0.2862 - val_loss: 2.2694 - val_accuracy: 0.0550\n",
            "8/8 [==============================] - 1s 40ms/step - loss: 0.6384 - accuracy: 0.9227 - val_loss: 3.9847 - val_accuracy: 0.0000e+00\n",
            "8/8 [==============================] - 1s 40ms/step - loss: 0.5100 - accuracy: 0.9369 - val_loss: 4.7387 - val_accuracy: 0.0000e+00\n",
            "8/8 [==============================] - 1s 40ms/step - loss: 2.1186 - accuracy: 0.2964 - val_loss: 2.2571 - val_accuracy: 0.1150\n",
            "8/8 [==============================] - 1s 38ms/step - loss: 2.3300 - accuracy: 0.2179 - val_loss: 2.2307 - val_accuracy: 0.2750\n",
            "8/8 [==============================] - 1s 39ms/step - loss: 0.2716 - accuracy: 0.9737 - val_loss: 16.5446 - val_accuracy: 0.0000e+00\n",
            "8/8 [==============================] - 1s 39ms/step - loss: 1.5408 - accuracy: 0.5865 - val_loss: 2.4959 - val_accuracy: 0.0350\n",
            "8/8 [==============================] - 1s 39ms/step - loss: 0.5400 - accuracy: 0.9261 - val_loss: 3.9702 - val_accuracy: 0.0000e+00\n",
            "8/8 [==============================] - 1s 38ms/step - loss: 1.3806 - accuracy: 0.6246 - val_loss: 2.7538 - val_accuracy: 0.0250\n",
            "7/7 [==============================] - 0s 4ms/step - loss: 2.8749 - accuracy: 0.0000e+00\n",
            "EPOCHS 6 is starting...\n",
            "8/8 [==============================] - 1s 42ms/step - loss: 1.3521 - accuracy: 0.6691 - val_loss: 2.5304 - val_accuracy: 0.0050\n",
            "8/8 [==============================] - 1s 41ms/step - loss: 2.0268 - accuracy: 0.3648 - val_loss: 2.4515 - val_accuracy: 0.0600\n",
            "8/8 [==============================] - 1s 39ms/step - loss: 0.4890 - accuracy: 0.9294 - val_loss: 5.1745 - val_accuracy: 0.0000e+00\n",
            "8/8 [==============================] - 1s 39ms/step - loss: 1.9617 - accuracy: 0.3524 - val_loss: 2.2000 - val_accuracy: 0.1100\n",
            "8/8 [==============================] - 1s 40ms/step - loss: 0.5335 - accuracy: 0.9161 - val_loss: 3.7076 - val_accuracy: 0.0000e+00\n",
            "8/8 [==============================] - 1s 41ms/step - loss: 0.5542 - accuracy: 0.9302 - val_loss: 3.9194 - val_accuracy: 0.0000e+00\n",
            "8/8 [==============================] - 1s 40ms/step - loss: 2.0972 - accuracy: 0.3133 - val_loss: 2.1862 - val_accuracy: 0.2100\n",
            "8/8 [==============================] - 1s 41ms/step - loss: 2.1980 - accuracy: 0.2484 - val_loss: 2.1376 - val_accuracy: 0.2450\n",
            "8/8 [==============================] - 1s 40ms/step - loss: 0.2684 - accuracy: 0.9866 - val_loss: 12.6339 - val_accuracy: 0.0000e+00\n",
            "8/8 [==============================] - 1s 41ms/step - loss: 1.6465 - accuracy: 0.5553 - val_loss: 3.2114 - val_accuracy: 0.0000e+00\n",
            "8/8 [==============================] - 1s 40ms/step - loss: 0.5259 - accuracy: 0.9198 - val_loss: 4.4866 - val_accuracy: 0.0000e+00\n",
            "8/8 [==============================] - 1s 41ms/step - loss: 1.3296 - accuracy: 0.6410 - val_loss: 3.2534 - val_accuracy: 0.0100\n",
            "7/7 [==============================] - 0s 4ms/step - loss: 2.8127 - accuracy: 0.0000e+00\n",
            "EPOCHS 7 is starting...\n",
            "8/8 [==============================] - 1s 97ms/step - loss: 1.2733 - accuracy: 0.6386 - val_loss: 2.4463 - val_accuracy: 0.0550\n",
            "8/8 [==============================] - 1s 39ms/step - loss: 1.8245 - accuracy: 0.4186 - val_loss: 2.2482 - val_accuracy: 0.1500\n",
            "8/8 [==============================] - 1s 40ms/step - loss: 0.4699 - accuracy: 0.9420 - val_loss: 4.2038 - val_accuracy: 0.0000e+00\n",
            "8/8 [==============================] - 1s 41ms/step - loss: 1.9382 - accuracy: 0.3522 - val_loss: 2.1590 - val_accuracy: 0.1350\n",
            "8/8 [==============================] - 1s 39ms/step - loss: 0.5461 - accuracy: 0.9370 - val_loss: 3.7256 - val_accuracy: 0.0000e+00\n",
            "8/8 [==============================] - 1s 39ms/step - loss: 0.5127 - accuracy: 0.9252 - val_loss: 3.6402 - val_accuracy: 0.0000e+00\n",
            "8/8 [==============================] - 1s 42ms/step - loss: 2.1539 - accuracy: 0.2879 - val_loss: 2.0948 - val_accuracy: 0.2900\n",
            "8/8 [==============================] - 1s 41ms/step - loss: 2.0620 - accuracy: 0.3027 - val_loss: 2.0222 - val_accuracy: 0.3700\n",
            "8/8 [==============================] - 1s 40ms/step - loss: 0.2277 - accuracy: 0.9815 - val_loss: 16.9968 - val_accuracy: 0.0000e+00\n",
            "8/8 [==============================] - 1s 39ms/step - loss: 1.4436 - accuracy: 0.5910 - val_loss: 2.3760 - val_accuracy: 0.0550\n",
            "8/8 [==============================] - 1s 41ms/step - loss: 0.4750 - accuracy: 0.9358 - val_loss: 3.4448 - val_accuracy: 0.0100\n",
            "8/8 [==============================] - 1s 40ms/step - loss: 1.1909 - accuracy: 0.6818 - val_loss: 2.4949 - val_accuracy: 0.0350\n",
            "7/7 [==============================] - 0s 5ms/step - loss: 2.5865 - accuracy: 0.0145\n",
            "EPOCHS 8 is starting...\n",
            "8/8 [==============================] - 1s 40ms/step - loss: 1.2128 - accuracy: 0.6600 - val_loss: 2.1395 - val_accuracy: 0.0850\n",
            "8/8 [==============================] - 1s 39ms/step - loss: 1.7778 - accuracy: 0.4116 - val_loss: 2.1852 - val_accuracy: 0.1350\n",
            "8/8 [==============================] - 1s 38ms/step - loss: 0.4681 - accuracy: 0.9329 - val_loss: 4.5116 - val_accuracy: 0.0000e+00\n",
            "8/8 [==============================] - 1s 39ms/step - loss: 1.7349 - accuracy: 0.3924 - val_loss: 1.9769 - val_accuracy: 0.2900\n",
            "8/8 [==============================] - 1s 42ms/step - loss: 0.5269 - accuracy: 0.9328 - val_loss: 3.3777 - val_accuracy: 0.0200\n",
            "8/8 [==============================] - 1s 39ms/step - loss: 0.4947 - accuracy: 0.9243 - val_loss: 3.5241 - val_accuracy: 0.0150\n",
            "8/8 [==============================] - 1s 37ms/step - loss: 1.8420 - accuracy: 0.3931 - val_loss: 1.8915 - val_accuracy: 0.4000\n",
            "8/8 [==============================] - 1s 41ms/step - loss: 1.9780 - accuracy: 0.3171 - val_loss: 1.8404 - val_accuracy: 0.4300\n",
            "8/8 [==============================] - 1s 96ms/step - loss: 0.2710 - accuracy: 0.9914 - val_loss: 11.0482 - val_accuracy: 0.0000e+00\n",
            "8/8 [==============================] - 1s 40ms/step - loss: 1.3188 - accuracy: 0.6058 - val_loss: 2.0958 - val_accuracy: 0.1450\n",
            "8/8 [==============================] - 1s 40ms/step - loss: 0.4757 - accuracy: 0.9417 - val_loss: 3.3418 - val_accuracy: 0.0200\n",
            "8/8 [==============================] - 1s 41ms/step - loss: 1.2201 - accuracy: 0.6411 - val_loss: 2.7209 - val_accuracy: 0.0350\n",
            "7/7 [==============================] - 0s 5ms/step - loss: 2.4870 - accuracy: 0.0829\n",
            "EPOCHS 9 is starting...\n",
            "8/8 [==============================] - 1s 41ms/step - loss: 1.2112 - accuracy: 0.6470 - val_loss: 1.9877 - val_accuracy: 0.1900\n",
            "8/8 [==============================] - 1s 39ms/step - loss: 1.6213 - accuracy: 0.4763 - val_loss: 2.0029 - val_accuracy: 0.1600\n",
            "8/8 [==============================] - 1s 40ms/step - loss: 0.4156 - accuracy: 0.9281 - val_loss: 5.6792 - val_accuracy: 0.0000e+00\n",
            "8/8 [==============================] - 1s 39ms/step - loss: 1.6882 - accuracy: 0.4202 - val_loss: 1.7472 - val_accuracy: 0.3700\n",
            "8/8 [==============================] - 1s 39ms/step - loss: 0.5573 - accuracy: 0.8918 - val_loss: 3.3952 - val_accuracy: 0.0200\n",
            "8/8 [==============================] - 1s 39ms/step - loss: 0.4871 - accuracy: 0.9167 - val_loss: 3.7672 - val_accuracy: 0.0050\n",
            "8/8 [==============================] - 1s 40ms/step - loss: 1.7789 - accuracy: 0.4125 - val_loss: 1.7651 - val_accuracy: 0.3800\n",
            "8/8 [==============================] - 1s 43ms/step - loss: 1.9786 - accuracy: 0.3513 - val_loss: 1.7347 - val_accuracy: 0.5400\n",
            "8/8 [==============================] - 1s 40ms/step - loss: 0.2189 - accuracy: 0.9764 - val_loss: 13.4977 - val_accuracy: 0.0000e+00\n",
            "8/8 [==============================] - 1s 40ms/step - loss: 1.3379 - accuracy: 0.6320 - val_loss: 2.3031 - val_accuracy: 0.0950\n",
            "8/8 [==============================] - 1s 40ms/step - loss: 0.5031 - accuracy: 0.9174 - val_loss: 3.3420 - val_accuracy: 0.0250\n",
            "8/8 [==============================] - 1s 42ms/step - loss: 1.1740 - accuracy: 0.6304 - val_loss: 1.9373 - val_accuracy: 0.2300\n",
            "7/7 [==============================] - 0s 4ms/step - loss: 2.3754 - accuracy: 0.1007\n",
            "EPOCHS 10 is starting...\n",
            "8/8 [==============================] - 1s 40ms/step - loss: 1.1022 - accuracy: 0.6533 - val_loss: 1.7473 - val_accuracy: 0.3250\n",
            "8/8 [==============================] - 1s 39ms/step - loss: 1.5276 - accuracy: 0.5495 - val_loss: 1.7941 - val_accuracy: 0.2400\n",
            "8/8 [==============================] - 1s 38ms/step - loss: 0.3628 - accuracy: 0.9504 - val_loss: 4.5494 - val_accuracy: 0.0050\n",
            "8/8 [==============================] - 1s 38ms/step - loss: 1.7422 - accuracy: 0.4480 - val_loss: 1.7016 - val_accuracy: 0.3950\n",
            "8/8 [==============================] - 1s 39ms/step - loss: 0.4564 - accuracy: 0.9122 - val_loss: 2.8584 - val_accuracy: 0.0300\n",
            "8/8 [==============================] - 1s 38ms/step - loss: 0.4324 - accuracy: 0.9304 - val_loss: 3.1603 - val_accuracy: 0.0250\n",
            "8/8 [==============================] - 1s 38ms/step - loss: 1.7049 - accuracy: 0.4625 - val_loss: 1.5664 - val_accuracy: 0.5150\n",
            "8/8 [==============================] - 1s 40ms/step - loss: 1.7291 - accuracy: 0.4382 - val_loss: 1.4486 - val_accuracy: 0.6000\n",
            "8/8 [==============================] - 1s 37ms/step - loss: 0.2309 - accuracy: 0.9855 - val_loss: 13.4870 - val_accuracy: 0.0000e+00\n",
            "8/8 [==============================] - 1s 38ms/step - loss: 1.1906 - accuracy: 0.6420 - val_loss: 2.2227 - val_accuracy: 0.1500\n",
            "8/8 [==============================] - 1s 37ms/step - loss: 0.4165 - accuracy: 0.9461 - val_loss: 3.6023 - val_accuracy: 0.0150\n",
            "8/8 [==============================] - 1s 38ms/step - loss: 1.0561 - accuracy: 0.6552 - val_loss: 2.1926 - val_accuracy: 0.1550\n",
            "7/7 [==============================] - 0s 4ms/step - loss: 2.1923 - accuracy: 0.1274\n",
            "EPOCHS 11 is starting...\n",
            "8/8 [==============================] - 1s 42ms/step - loss: 1.0777 - accuracy: 0.6278 - val_loss: 1.7842 - val_accuracy: 0.2500\n",
            "8/8 [==============================] - 1s 40ms/step - loss: 1.5968 - accuracy: 0.5013 - val_loss: 1.7427 - val_accuracy: 0.2400\n",
            "8/8 [==============================] - 1s 39ms/step - loss: 0.3790 - accuracy: 0.9384 - val_loss: 4.2690 - val_accuracy: 0.0200\n",
            "8/8 [==============================] - 1s 39ms/step - loss: 1.5910 - accuracy: 0.4402 - val_loss: 1.5847 - val_accuracy: 0.4400\n",
            "8/8 [==============================] - 1s 39ms/step - loss: 0.4690 - accuracy: 0.9245 - val_loss: 3.0041 - val_accuracy: 0.0250\n",
            "8/8 [==============================] - 1s 39ms/step - loss: 0.4413 - accuracy: 0.9340 - val_loss: 3.0303 - val_accuracy: 0.0300\n",
            "8/8 [==============================] - 1s 40ms/step - loss: 1.5098 - accuracy: 0.4770 - val_loss: 1.4094 - val_accuracy: 0.5850\n",
            "8/8 [==============================] - 1s 39ms/step - loss: 1.6135 - accuracy: 0.4750 - val_loss: 1.2906 - val_accuracy: 0.6200\n",
            "8/8 [==============================] - 1s 39ms/step - loss: 0.2019 - accuracy: 0.9799 - val_loss: 16.2719 - val_accuracy: 0.0000e+00\n",
            "8/8 [==============================] - 1s 38ms/step - loss: 1.1905 - accuracy: 0.6271 - val_loss: 1.7931 - val_accuracy: 0.1800\n",
            "8/8 [==============================] - 1s 39ms/step - loss: 0.4387 - accuracy: 0.9362 - val_loss: 2.8571 - val_accuracy: 0.0350\n",
            "8/8 [==============================] - 1s 40ms/step - loss: 0.9096 - accuracy: 0.7153 - val_loss: 1.9391 - val_accuracy: 0.2500\n",
            "7/7 [==============================] - 0s 4ms/step - loss: 2.0523 - accuracy: 0.1535\n",
            "EPOCHS 12 is starting...\n",
            "8/8 [==============================] - 1s 40ms/step - loss: 0.9456 - accuracy: 0.6824 - val_loss: 1.6486 - val_accuracy: 0.3250\n",
            "8/8 [==============================] - 1s 40ms/step - loss: 1.2164 - accuracy: 0.5969 - val_loss: 1.2943 - val_accuracy: 0.5000\n",
            "8/8 [==============================] - 1s 40ms/step - loss: 0.3687 - accuracy: 0.9520 - val_loss: 4.3376 - val_accuracy: 0.0150\n",
            "8/8 [==============================] - 1s 40ms/step - loss: 1.3547 - accuracy: 0.5753 - val_loss: 1.4344 - val_accuracy: 0.4550\n",
            "8/8 [==============================] - 1s 40ms/step - loss: 0.4329 - accuracy: 0.9104 - val_loss: 4.1125 - val_accuracy: 0.0250\n",
            "8/8 [==============================] - 1s 40ms/step - loss: 0.3554 - accuracy: 0.9404 - val_loss: 2.5106 - val_accuracy: 0.0350\n",
            "8/8 [==============================] - 1s 38ms/step - loss: 1.3697 - accuracy: 0.5268 - val_loss: 1.2652 - val_accuracy: 0.6050\n",
            "8/8 [==============================] - 1s 38ms/step - loss: 1.4590 - accuracy: 0.5031 - val_loss: 1.1220 - val_accuracy: 0.6850\n",
            "8/8 [==============================] - 1s 40ms/step - loss: 0.2222 - accuracy: 0.9820 - val_loss: 20.4671 - val_accuracy: 0.0000e+00\n",
            "8/8 [==============================] - 1s 41ms/step - loss: 1.1415 - accuracy: 0.6053 - val_loss: 1.4524 - val_accuracy: 0.3600\n",
            "8/8 [==============================] - 1s 39ms/step - loss: 0.4119 - accuracy: 0.9313 - val_loss: 2.5389 - val_accuracy: 0.0400\n",
            "8/8 [==============================] - 1s 39ms/step - loss: 0.8695 - accuracy: 0.7189 - val_loss: 2.0301 - val_accuracy: 0.1550\n",
            "7/7 [==============================] - 0s 5ms/step - loss: 1.9263 - accuracy: 0.1869\n",
            "EPOCHS 13 is starting...\n",
            "8/8 [==============================] - 1s 42ms/step - loss: 0.9967 - accuracy: 0.6631 - val_loss: 1.8417 - val_accuracy: 0.2700\n",
            "8/8 [==============================] - 1s 40ms/step - loss: 1.2532 - accuracy: 0.5697 - val_loss: 1.5132 - val_accuracy: 0.4000\n",
            "8/8 [==============================] - 1s 39ms/step - loss: 0.3346 - accuracy: 0.9499 - val_loss: 4.1087 - val_accuracy: 0.0250\n",
            "8/8 [==============================] - 1s 38ms/step - loss: 1.2879 - accuracy: 0.5335 - val_loss: 1.3687 - val_accuracy: 0.5000\n",
            "8/8 [==============================] - 1s 40ms/step - loss: 0.4127 - accuracy: 0.9016 - val_loss: 2.6384 - val_accuracy: 0.0900\n",
            "8/8 [==============================] - 1s 41ms/step - loss: 0.3821 - accuracy: 0.9308 - val_loss: 2.4505 - val_accuracy: 0.0600\n",
            "8/8 [==============================] - 1s 39ms/step - loss: 1.3495 - accuracy: 0.5443 - val_loss: 1.1618 - val_accuracy: 0.6350\n",
            "8/8 [==============================] - 1s 39ms/step - loss: 1.4658 - accuracy: 0.5414 - val_loss: 1.0179 - val_accuracy: 0.7300\n",
            "8/8 [==============================] - 1s 39ms/step - loss: 0.2088 - accuracy: 0.9758 - val_loss: 9.9990 - val_accuracy: 0.0200\n",
            "8/8 [==============================] - 1s 38ms/step - loss: 1.0605 - accuracy: 0.6562 - val_loss: 1.3720 - val_accuracy: 0.3900\n",
            "8/8 [==============================] - 1s 39ms/step - loss: 0.3903 - accuracy: 0.9262 - val_loss: 2.7190 - val_accuracy: 0.0650\n",
            "8/8 [==============================] - 1s 40ms/step - loss: 0.7576 - accuracy: 0.7310 - val_loss: 1.4338 - val_accuracy: 0.4950\n",
            "7/7 [==============================] - 0s 4ms/step - loss: 1.6505 - accuracy: 0.2852\n",
            "EPOCHS 14 is starting...\n",
            "8/8 [==============================] - 1s 40ms/step - loss: 0.9048 - accuracy: 0.6708 - val_loss: 1.3857 - val_accuracy: 0.4850\n",
            "8/8 [==============================] - 1s 40ms/step - loss: 1.0487 - accuracy: 0.6683 - val_loss: 1.0794 - val_accuracy: 0.5950\n",
            "8/8 [==============================] - 1s 38ms/step - loss: 0.3458 - accuracy: 0.9404 - val_loss: 4.0751 - val_accuracy: 0.0550\n",
            "8/8 [==============================] - 1s 38ms/step - loss: 1.1357 - accuracy: 0.6296 - val_loss: 1.1202 - val_accuracy: 0.5750\n",
            "8/8 [==============================] - 1s 38ms/step - loss: 0.4512 - accuracy: 0.9072 - val_loss: 2.2737 - val_accuracy: 0.1400\n",
            "8/8 [==============================] - 1s 41ms/step - loss: 0.4255 - accuracy: 0.9035 - val_loss: 3.0396 - val_accuracy: 0.0250\n",
            "8/8 [==============================] - 1s 40ms/step - loss: 1.3069 - accuracy: 0.5678 - val_loss: 1.0822 - val_accuracy: 0.6550\n",
            "8/8 [==============================] - 1s 40ms/step - loss: 1.2496 - accuracy: 0.5529 - val_loss: 0.9929 - val_accuracy: 0.6950\n",
            "8/8 [==============================] - 1s 40ms/step - loss: 0.1957 - accuracy: 0.9793 - val_loss: 8.6646 - val_accuracy: 0.0200\n",
            "8/8 [==============================] - 1s 41ms/step - loss: 1.0092 - accuracy: 0.6205 - val_loss: 1.3681 - val_accuracy: 0.4550\n",
            "8/8 [==============================] - 1s 40ms/step - loss: 0.4476 - accuracy: 0.8967 - val_loss: 2.6167 - val_accuracy: 0.0250\n",
            "8/8 [==============================] - 1s 40ms/step - loss: 0.7862 - accuracy: 0.7736 - val_loss: 1.4092 - val_accuracy: 0.4500\n",
            "7/7 [==============================] - 0s 5ms/step - loss: 1.5984 - accuracy: 0.2798\n",
            "EPOCHS 15 is starting...\n",
            "8/8 [==============================] - 1s 40ms/step - loss: 0.8351 - accuracy: 0.6869 - val_loss: 1.7773 - val_accuracy: 0.2700\n",
            "8/8 [==============================] - 1s 39ms/step - loss: 1.1181 - accuracy: 0.5808 - val_loss: 1.0679 - val_accuracy: 0.5950\n",
            "8/8 [==============================] - 1s 40ms/step - loss: 0.3402 - accuracy: 0.9288 - val_loss: 3.6555 - val_accuracy: 0.0550\n",
            "8/8 [==============================] - 1s 41ms/step - loss: 1.0354 - accuracy: 0.6191 - val_loss: 1.4360 - val_accuracy: 0.4600\n",
            "8/8 [==============================] - 1s 38ms/step - loss: 0.4012 - accuracy: 0.9174 - val_loss: 2.2494 - val_accuracy: 0.1750\n",
            "8/8 [==============================] - 1s 39ms/step - loss: 0.3721 - accuracy: 0.9050 - val_loss: 2.5481 - val_accuracy: 0.0550\n",
            "8/8 [==============================] - 1s 38ms/step - loss: 1.2810 - accuracy: 0.5827 - val_loss: 0.9736 - val_accuracy: 0.6800\n",
            "8/8 [==============================] - 1s 39ms/step - loss: 1.1734 - accuracy: 0.5857 - val_loss: 0.9032 - val_accuracy: 0.7150\n",
            "8/8 [==============================] - 1s 39ms/step - loss: 0.1869 - accuracy: 0.9756 - val_loss: 7.6903 - val_accuracy: 0.0300\n",
            "8/8 [==============================] - 1s 40ms/step - loss: 0.9583 - accuracy: 0.7024 - val_loss: 1.1429 - val_accuracy: 0.5000\n",
            "8/8 [==============================] - 1s 39ms/step - loss: 0.3749 - accuracy: 0.9153 - val_loss: 2.0366 - val_accuracy: 0.2000\n",
            "8/8 [==============================] - 1s 40ms/step - loss: 0.8546 - accuracy: 0.7406 - val_loss: 1.4073 - val_accuracy: 0.3650\n",
            "7/7 [==============================] - 0s 5ms/step - loss: 1.4138 - accuracy: 0.3969\n",
            "EPOCHS 16 is starting...\n",
            "8/8 [==============================] - 1s 39ms/step - loss: 0.8259 - accuracy: 0.7027 - val_loss: 1.0977 - val_accuracy: 0.6150\n",
            "8/8 [==============================] - 1s 40ms/step - loss: 0.9639 - accuracy: 0.6931 - val_loss: 1.0992 - val_accuracy: 0.5400\n",
            "8/8 [==============================] - 1s 40ms/step - loss: 0.3708 - accuracy: 0.9297 - val_loss: 4.2442 - val_accuracy: 0.0750\n",
            "8/8 [==============================] - 1s 39ms/step - loss: 0.9211 - accuracy: 0.6982 - val_loss: 1.0965 - val_accuracy: 0.5650\n",
            "8/8 [==============================] - 1s 41ms/step - loss: 0.4514 - accuracy: 0.8897 - val_loss: 2.5517 - val_accuracy: 0.0700\n",
            "8/8 [==============================] - 1s 40ms/step - loss: 0.4269 - accuracy: 0.9155 - val_loss: 2.8990 - val_accuracy: 0.0250\n",
            "8/8 [==============================] - 1s 40ms/step - loss: 1.0183 - accuracy: 0.6366 - val_loss: 0.8321 - val_accuracy: 0.7200\n",
            "8/8 [==============================] - 1s 41ms/step - loss: 0.9736 - accuracy: 0.6256 - val_loss: 0.8139 - val_accuracy: 0.7800\n",
            "8/8 [==============================] - 1s 40ms/step - loss: 0.2300 - accuracy: 0.9573 - val_loss: 9.4801 - val_accuracy: 0.0200\n",
            "8/8 [==============================] - 1s 39ms/step - loss: 0.8199 - accuracy: 0.6842 - val_loss: 1.2372 - val_accuracy: 0.4450\n",
            "8/8 [==============================] - 1s 38ms/step - loss: 0.3363 - accuracy: 0.9374 - val_loss: 2.0888 - val_accuracy: 0.2400\n",
            "8/8 [==============================] - 1s 38ms/step - loss: 0.6669 - accuracy: 0.7943 - val_loss: 1.2388 - val_accuracy: 0.4900\n",
            "7/7 [==============================] - 0s 4ms/step - loss: 1.4116 - accuracy: 0.4159\n",
            "EPOCHS 17 is starting...\n",
            "8/8 [==============================] - 1s 39ms/step - loss: 0.7309 - accuracy: 0.7510 - val_loss: 1.3960 - val_accuracy: 0.4250\n",
            "8/8 [==============================] - 1s 38ms/step - loss: 0.9551 - accuracy: 0.7411 - val_loss: 0.9808 - val_accuracy: 0.6300\n",
            "8/8 [==============================] - 1s 39ms/step - loss: 0.3069 - accuracy: 0.9222 - val_loss: 3.5398 - val_accuracy: 0.1000\n",
            "8/8 [==============================] - 1s 41ms/step - loss: 0.9565 - accuracy: 0.6171 - val_loss: 1.2236 - val_accuracy: 0.5300\n",
            "8/8 [==============================] - 1s 40ms/step - loss: 0.4023 - accuracy: 0.9017 - val_loss: 2.5452 - val_accuracy: 0.1200\n",
            "8/8 [==============================] - 1s 38ms/step - loss: 0.3149 - accuracy: 0.9501 - val_loss: 2.3516 - val_accuracy: 0.0850\n",
            "8/8 [==============================] - 1s 39ms/step - loss: 0.9999 - accuracy: 0.6539 - val_loss: 0.9232 - val_accuracy: 0.6600\n",
            "8/8 [==============================] - 1s 39ms/step - loss: 0.9582 - accuracy: 0.6684 - val_loss: 0.6585 - val_accuracy: 0.8150\n",
            "8/8 [==============================] - 1s 39ms/step - loss: 0.1533 - accuracy: 0.9858 - val_loss: 11.1854 - val_accuracy: 0.0000e+00\n",
            "8/8 [==============================] - 1s 39ms/step - loss: 0.7860 - accuracy: 0.6877 - val_loss: 0.9219 - val_accuracy: 0.6700\n",
            "8/8 [==============================] - 1s 40ms/step - loss: 0.3466 - accuracy: 0.9259 - val_loss: 1.8465 - val_accuracy: 0.1300\n",
            "8/8 [==============================] - 1s 39ms/step - loss: 0.6273 - accuracy: 0.7647 - val_loss: 0.9842 - val_accuracy: 0.6600\n",
            "7/7 [==============================] - 0s 4ms/step - loss: 1.2319 - accuracy: 0.5011\n",
            "EPOCHS 18 is starting...\n",
            "8/8 [==============================] - 1s 39ms/step - loss: 0.8235 - accuracy: 0.7246 - val_loss: 1.7187 - val_accuracy: 0.2300\n",
            "8/8 [==============================] - 1s 40ms/step - loss: 0.8711 - accuracy: 0.7585 - val_loss: 0.9454 - val_accuracy: 0.6450\n",
            "8/8 [==============================] - 1s 39ms/step - loss: 0.3228 - accuracy: 0.9208 - val_loss: 3.1248 - val_accuracy: 0.1300\n",
            "8/8 [==============================] - 1s 40ms/step - loss: 0.8572 - accuracy: 0.6609 - val_loss: 0.6687 - val_accuracy: 0.8150\n",
            "8/8 [==============================] - 1s 39ms/step - loss: 0.4456 - accuracy: 0.8685 - val_loss: 2.0011 - val_accuracy: 0.1600\n",
            "8/8 [==============================] - 1s 93ms/step - loss: 0.3432 - accuracy: 0.8768 - val_loss: 2.8257 - val_accuracy: 0.0650\n",
            "8/8 [==============================] - 1s 40ms/step - loss: 0.9000 - accuracy: 0.6943 - val_loss: 0.7702 - val_accuracy: 0.7300\n",
            "8/8 [==============================] - 1s 39ms/step - loss: 0.8598 - accuracy: 0.7074 - val_loss: 0.8355 - val_accuracy: 0.7300\n",
            "8/8 [==============================] - 1s 39ms/step - loss: 0.1957 - accuracy: 0.9690 - val_loss: 11.7060 - val_accuracy: 0.0200\n",
            "8/8 [==============================] - 1s 42ms/step - loss: 0.8929 - accuracy: 0.6573 - val_loss: 0.9072 - val_accuracy: 0.6950\n",
            "8/8 [==============================] - 1s 42ms/step - loss: 0.3307 - accuracy: 0.9210 - val_loss: 2.0637 - val_accuracy: 0.1950\n",
            "8/8 [==============================] - 1s 40ms/step - loss: 0.6041 - accuracy: 0.7954 - val_loss: 1.1504 - val_accuracy: 0.5650\n",
            "7/7 [==============================] - 0s 4ms/step - loss: 1.2596 - accuracy: 0.4623\n",
            "EPOCHS 19 is starting...\n",
            "8/8 [==============================] - 1s 42ms/step - loss: 0.7564 - accuracy: 0.7176 - val_loss: 1.5116 - val_accuracy: 0.3750\n",
            "8/8 [==============================] - 1s 40ms/step - loss: 0.8156 - accuracy: 0.7390 - val_loss: 1.1691 - val_accuracy: 0.5250\n",
            "8/8 [==============================] - 1s 41ms/step - loss: 0.2943 - accuracy: 0.9468 - val_loss: 4.2200 - val_accuracy: 0.1750\n",
            "8/8 [==============================] - 1s 40ms/step - loss: 0.8118 - accuracy: 0.7417 - val_loss: 0.7519 - val_accuracy: 0.7700\n",
            "8/8 [==============================] - 1s 42ms/step - loss: 0.4670 - accuracy: 0.8969 - val_loss: 1.4182 - val_accuracy: 0.3300\n",
            "8/8 [==============================] - 1s 43ms/step - loss: 0.2998 - accuracy: 0.9133 - val_loss: 2.6281 - val_accuracy: 0.1000\n",
            "8/8 [==============================] - 1s 38ms/step - loss: 0.9993 - accuracy: 0.6154 - val_loss: 0.6982 - val_accuracy: 0.8150\n",
            "8/8 [==============================] - 1s 39ms/step - loss: 0.8632 - accuracy: 0.7056 - val_loss: 0.6567 - val_accuracy: 0.8400\n",
            "8/8 [==============================] - 1s 40ms/step - loss: 0.1917 - accuracy: 0.9664 - val_loss: 7.8948 - val_accuracy: 0.0300\n",
            "8/8 [==============================] - 1s 38ms/step - loss: 0.8506 - accuracy: 0.6901 - val_loss: 1.0057 - val_accuracy: 0.5950\n",
            "8/8 [==============================] - 1s 38ms/step - loss: 0.3163 - accuracy: 0.9224 - val_loss: 1.6734 - val_accuracy: 0.2250\n",
            "8/8 [==============================] - 1s 39ms/step - loss: 0.5598 - accuracy: 0.7983 - val_loss: 1.3613 - val_accuracy: 0.4650\n",
            "7/7 [==============================] - 0s 4ms/step - loss: 1.1866 - accuracy: 0.5017\n"
          ],
          "name": "stdout"
        }
      ]
    },
    {
      "cell_type": "code",
      "metadata": {
        "colab": {
          "base_uri": "https://localhost:8080/",
          "height": 295
        },
        "id": "pVt1VKTnjHWb",
        "outputId": "80ea182d-2ff0-4c89-87ee-e4ced68f2aaa"
      },
      "source": [
        "A2 = ShowAccAndLoss(S2.loss_acc)"
      ],
      "execution_count": 33,
      "outputs": [
        {
          "output_type": "display_data",
          "data": {
            "image/png": "[encoded data removed]",
            "text/plain": [
              "<Figure size 432x288 with 2 Axes>"
            ]
          },
          "metadata": {
            "tags": [],
            "needs_background": "light"
          }
        }
      ]
    },
    {
      "cell_type": "markdown",
      "metadata": {
        "id": "_uH968k_P5dH"
      },
      "source": [
        "# 实验结果对比"
      ]
    },
    {
      "cell_type": "code",
      "metadata": {
        "colab": {
          "base_uri": "https://localhost:8080/",
          "height": 295
        },
        "id": "61vAiqA7U-uQ",
        "outputId": "b81f10af-2543-4959-ff82-c6de2488fd11"
      },
      "source": [
        "ResultAnalysis(A1,A2)"
      ],
      "execution_count": 34,
      "outputs": [
        {
          "output_type": "display_data",
          "data": {
            "image/png": "[encoded data removed]",
            "text/plain": [
              "<Figure size 432x288 with 1 Axes>"
            ]
          },
          "metadata": {
            "tags": [],
            "needs_background": "light"
          }
        }
      ]
    },
    {
      "cell_type": "markdown",
      "metadata": {
        "id": "oPuiT_rAvNle"
      },
      "source": [
        "# 非联邦情况"
      ]
    },
    {
      "cell_type": "code",
      "metadata": {
        "id": "7Ed0W7m8_dv8",
        "colab": {
          "base_uri": "https://localhost:8080/"
        },
        "outputId": "c7b74fbd-7ed2-4559-dd3f-59cab8852ac6"
      },
      "source": [
        "InitModel = FLModel(row=28,col=28,num_classes=CLASS_NUM)\n",
        "S3 = ParamServer(\"\")\n",
        "S3.PreEval(InitModel,validation_data)\n",
        "SendModel = InitModel"
      ],
      "execution_count": null,
      "outputs": [
        {
          "output_type": "stream",
          "text": [
            "7/7 [==============================] - 0s 3ms/step - loss: 2.3897 - accuracy: 0.1912\n"
          ],
          "name": "stdout"
        }
      ]
    },
    {
      "cell_type": "code",
      "metadata": {
        "colab": {
          "base_uri": "https://localhost:8080/"
        },
        "id": "EoI4h4JIvgOk",
        "outputId": "e8c8dbae-f1f1-4636-fc90-96e5baae33e4"
      },
      "source": [
        "for e in range(NUM_EPOCHS):\n",
        "  print(\"EPOCHS {} is starting...\".format(e))\n",
        "  SendModel=S3.PreTrain(SendModel,ShareData,ShareLabel,epochs=1)\n",
        "  S3.PreEval(SendModel,validation_server)"
      ],
      "execution_count": null,
      "outputs": [
        {
          "output_type": "stream",
          "text": [
            "EPOCHS 0 is starting...\n",
            "7/7 [==============================] - 1s 16ms/step - loss: 2.3711 - accuracy: 0.1087\n",
            "7/7 [==============================] - 0s 3ms/step - loss: 2.2576 - accuracy: 0.3761\n",
            "EPOCHS 1 is starting...\n",
            "7/7 [==============================] - 0s 4ms/step - loss: 2.1961 - accuracy: 0.2955\n",
            "7/7 [==============================] - 0s 3ms/step - loss: 1.9933 - accuracy: 0.3230\n",
            "EPOCHS 2 is starting...\n",
            "7/7 [==============================] - 0s 4ms/step - loss: 1.8208 - accuracy: 0.4690\n",
            "7/7 [==============================] - 0s 3ms/step - loss: 1.4986 - accuracy: 0.5455\n",
            "EPOCHS 3 is starting...\n",
            "7/7 [==============================] - 0s 4ms/step - loss: 1.3784 - accuracy: 0.5718\n",
            "7/7 [==============================] - 0s 3ms/step - loss: 1.2488 - accuracy: 0.6219\n",
            "EPOCHS 4 is starting...\n",
            "7/7 [==============================] - 0s 4ms/step - loss: 1.1123 - accuracy: 0.6496\n",
            "7/7 [==============================] - 0s 3ms/step - loss: 1.0237 - accuracy: 0.7365\n",
            "EPOCHS 5 is starting...\n",
            "7/7 [==============================] - 0s 4ms/step - loss: 0.8041 - accuracy: 0.7791\n",
            "7/7 [==============================] - 0s 3ms/step - loss: 0.9309 - accuracy: 0.7407\n",
            "EPOCHS 6 is starting...\n",
            "7/7 [==============================] - 0s 4ms/step - loss: 0.6929 - accuracy: 0.7731\n",
            "7/7 [==============================] - 0s 3ms/step - loss: 0.8887 - accuracy: 0.7408\n",
            "EPOCHS 7 is starting...\n",
            "7/7 [==============================] - 0s 4ms/step - loss: 0.5075 - accuracy: 0.8598\n",
            "7/7 [==============================] - 0s 3ms/step - loss: 0.7838 - accuracy: 0.8089\n",
            "EPOCHS 8 is starting...\n",
            "7/7 [==============================] - 0s 4ms/step - loss: 0.4210 - accuracy: 0.8662\n",
            "7/7 [==============================] - 0s 3ms/step - loss: 0.7758 - accuracy: 0.7800\n",
            "EPOCHS 9 is starting...\n",
            "7/7 [==============================] - 0s 4ms/step - loss: 0.3650 - accuracy: 0.8543\n",
            "7/7 [==============================] - 0s 3ms/step - loss: 1.0038 - accuracy: 0.7171\n",
            "EPOCHS 10 is starting...\n",
            "7/7 [==============================] - 0s 4ms/step - loss: 0.4304 - accuracy: 0.8235\n",
            "7/7 [==============================] - 0s 3ms/step - loss: 0.6426 - accuracy: 0.8017\n",
            "EPOCHS 11 is starting...\n",
            "7/7 [==============================] - 0s 3ms/step - loss: 0.2917 - accuracy: 0.9216\n",
            "7/7 [==============================] - 0s 3ms/step - loss: 0.9514 - accuracy: 0.7281\n",
            "EPOCHS 12 is starting...\n",
            "7/7 [==============================] - 0s 4ms/step - loss: 0.2163 - accuracy: 0.9361\n",
            "7/7 [==============================] - 0s 3ms/step - loss: 0.6878 - accuracy: 0.7834\n",
            "EPOCHS 13 is starting...\n",
            "7/7 [==============================] - 0s 4ms/step - loss: 0.2202 - accuracy: 0.9389\n",
            "7/7 [==============================] - 0s 3ms/step - loss: 0.7306 - accuracy: 0.7767\n",
            "EPOCHS 14 is starting...\n",
            "7/7 [==============================] - 0s 3ms/step - loss: 0.1870 - accuracy: 0.9264\n",
            "7/7 [==============================] - 0s 3ms/step - loss: 0.7639 - accuracy: 0.7758\n",
            "EPOCHS 15 is starting...\n",
            "7/7 [==============================] - 0s 4ms/step - loss: 0.2061 - accuracy: 0.9270\n",
            "7/7 [==============================] - 0s 3ms/step - loss: 0.6322 - accuracy: 0.8231\n",
            "EPOCHS 16 is starting...\n",
            "7/7 [==============================] - 0s 3ms/step - loss: 0.0982 - accuracy: 0.9861\n",
            "7/7 [==============================] - 0s 3ms/step - loss: 0.7806 - accuracy: 0.8063\n",
            "EPOCHS 17 is starting...\n",
            "7/7 [==============================] - 0s 4ms/step - loss: 0.1416 - accuracy: 0.9688\n",
            "7/7 [==============================] - 0s 3ms/step - loss: 0.6054 - accuracy: 0.8454\n",
            "EPOCHS 18 is starting...\n",
            "7/7 [==============================] - 0s 4ms/step - loss: 0.0727 - accuracy: 0.9847\n",
            "7/7 [==============================] - 0s 3ms/step - loss: 0.7895 - accuracy: 0.8251\n",
            "EPOCHS 19 is starting...\n",
            "7/7 [==============================] - 0s 4ms/step - loss: 0.1117 - accuracy: 0.9824\n",
            "7/7 [==============================] - 0s 3ms/step - loss: 0.9768 - accuracy: 0.7684\n"
          ],
          "name": "stdout"
        }
      ]
    },
    {
      "cell_type": "code",
      "metadata": {
        "colab": {
          "base_uri": "https://localhost:8080/",
          "height": 295
        },
        "id": "cZR1twslxoDn",
        "outputId": "e954bd86-8384-47ee-a8b2-02aa4c67119e"
      },
      "source": [
        "A3 = ShowAccAndLoss(S3.loss_acc)"
      ],
      "execution_count": null,
      "outputs": [
        {
          "output_type": "display_data",
          "data": {
            "image/png": "[encoded data removed]",
            "text/plain": [
              "<Figure size 432x288 with 2 Axes>"
            ]
          },
          "metadata": {
            "tags": [],
            "needs_background": "light"
          }
        }
      ]
    },
    {
      "cell_type": "code",
      "metadata": {
        "colab": {
          "base_uri": "https://localhost:8080/",
          "height": 295
        },
        "id": "Qk8GcmMbx069",
        "outputId": "3896519f-cdbc-44b0-b72f-56796d07a1d7"
      },
      "source": [
        "ResultAnalysis(A1,A3)"
      ],
      "execution_count": null,
      "outputs": [
        {
          "output_type": "display_data",
          "data": {
            "image/png": "[encoded data removed]",
            "text/plain": [
              "<Figure size 432x288 with 1 Axes>"
            ]
          },
          "metadata": {
            "tags": [],
            "needs_background": "light"
          }
        }
      ]
    }
  ]
}