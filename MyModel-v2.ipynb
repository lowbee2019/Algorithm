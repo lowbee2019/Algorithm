{
  "nbformat": 4,
  "nbformat_minor": 0,
  "metadata": {
    "colab": {
      "name": "MyModel.ipynb",
      "provenance": [],
      "collapsed_sections": [
        "En8MczNik638",
        "MwmKo3gLrI-i"
      ],
      "authorship_tag": "ABX9TyOmb6IxgF8xnCfdzY4e/DW+",
      "include_colab_link": true
    },
    "kernelspec": {
      "display_name": "Python 3",
      "name": "python3"
    },
    "language_info": {
      "name": "python"
    }
  },
  "cells": [
    {
      "cell_type": "markdown",
      "metadata": {
        "id": "view-in-github",
        "colab_type": "text"
      },
      "source": [
        "<a href=\"https://colab.research.google.com/github/lowbee2019/Algorithm/blob/master/MyModel-v2.ipynb\" target=\"_parent\"><img src=\"https://colab.research.google.com/assets/colab-badge.svg\" alt=\"Open In Colab\"/></a>"
      ]
    },
    {
      "cell_type": "code",
      "metadata": {
        "colab": {
          "base_uri": "https://localhost:8080/"
        },
        "id": "uoFhItkFEsF8",
        "outputId": "18e3c6ee-64a5-4bfb-a91f-0f691125a462"
      },
      "source": [
        "!pip install emnist"
      ],
      "execution_count": 3,
      "outputs": [
        {
          "output_type": "stream",
          "text": [
            "Collecting emnist\n",
            "  Downloading https://files.pythonhosted.org/packages/d1/f4/78b24acbef9e8fe976dda700f16a3606f3b8363b015bc555f8050fbbd8ac/emnist-0.0-py3-none-any.whl\n",
            "Requirement already satisfied: numpy in /usr/local/lib/python3.7/dist-packages (from emnist) (1.19.5)\n",
            "Requirement already satisfied: requests in /usr/local/lib/python3.7/dist-packages (from emnist) (2.23.0)\n",
            "Requirement already satisfied: tqdm in /usr/local/lib/python3.7/dist-packages (from emnist) (4.41.1)\n",
            "Requirement already satisfied: certifi>=2017.4.17 in /usr/local/lib/python3.7/dist-packages (from requests->emnist) (2020.12.5)\n",
            "Requirement already satisfied: idna<3,>=2.5 in /usr/local/lib/python3.7/dist-packages (from requests->emnist) (2.10)\n",
            "Requirement already satisfied: urllib3!=1.25.0,!=1.25.1,<1.26,>=1.21.1 in /usr/local/lib/python3.7/dist-packages (from requests->emnist) (1.24.3)\n",
            "Requirement already satisfied: chardet<4,>=3.0.2 in /usr/local/lib/python3.7/dist-packages (from requests->emnist) (3.0.4)\n",
            "Installing collected packages: emnist\n",
            "Successfully installed emnist-0.0\n"
          ],
          "name": "stdout"
        }
      ]
    },
    {
      "cell_type": "code",
      "metadata": {
        "id": "9e4So1L3pPWp"
      },
      "source": [
        "import tensorflow as tf\n",
        "import numpy as np\n",
        "from tensorflow import keras\n",
        "import collections\n",
        "import copy\n",
        "import random\n",
        "import emnist"
      ],
      "execution_count": 4,
      "outputs": []
    },
    {
      "cell_type": "markdown",
      "metadata": {
        "id": "YQaIGTfxmSfi"
      },
      "source": [
        "# Server Initialization"
      ]
    },
    {
      "cell_type": "code",
      "metadata": {
        "id": "PTK_p961nsA5"
      },
      "source": [
        "class ParamServer(object):\n",
        "  def __init__(self,init_model_path):\n",
        "    self.init_model_path = init_model_path\n",
        "    self.round = 0\n",
        "    self.optimizer=\"adam\"\n",
        "    self.loss = \"sparse_categorical_crossentropy\"\n",
        "    self.metrics =['accuracy']\n",
        "\n",
        "  def PreTrain(self,model,data,labels,batch_size=32,epochs=5):\n",
        "    model.compile(optimizer=self.optimizer,\n",
        "                  loss=self.loss,\n",
        "                  metrics=self.metrics)\n",
        "    _metrics = model.fit(data,labels,batch_size,epochs)\n",
        "    return model\n",
        "  \n",
        "  def PreEval(self,model,test_data,test_labels):\n",
        "    model.compile(optimizer=self.optimizer,\n",
        "                  loss=self.loss,\n",
        "                  metrics=self.metrics)\n",
        "    model.evaluate(test_data,test_labels)\n"
      ],
      "execution_count": 9,
      "outputs": []
    },
    {
      "cell_type": "markdown",
      "metadata": {
        "id": "iRvlGAmjmxbw"
      },
      "source": [
        "## Mnist数据集的预处理"
      ]
    },
    {
      "cell_type": "code",
      "metadata": {
        "id": "6b0_4VEYnemW"
      },
      "source": [
        "mnist = tf.keras.datasets.mnist\n",
        "train,test = mnist.load_data()\n",
        "x_train,y_train = train\n",
        "x_test,y_test = test\n",
        "x_train,x_test = x_train/255.0,x_test/255.0"
      ],
      "execution_count": 10,
      "outputs": []
    },
    {
      "cell_type": "code",
      "metadata": {
        "colab": {
          "base_uri": "https://localhost:8080/"
        },
        "id": "f9537dMSO_C_",
        "outputId": "66c9fd72-f250-4ff2-97d8-5a8401ae41a2"
      },
      "source": [
        "x_train.shape"
      ],
      "execution_count": 11,
      "outputs": [
        {
          "output_type": "execute_result",
          "data": {
            "text/plain": [
              "(60000, 28, 28)"
            ]
          },
          "metadata": {
            "tags": []
          },
          "execution_count": 11
        }
      ]
    },
    {
      "cell_type": "markdown",
      "metadata": {
        "id": "2L712LCIm6Vv"
      },
      "source": [
        "## 模型的定义"
      ]
    },
    {
      "cell_type": "code",
      "metadata": {
        "id": "C0noj5RjmF0i"
      },
      "source": [
        "class FLModel(tf.keras.Model):\n",
        "  def __init__(self,row,col,num_classes=62,*args,**kwargs):\n",
        "    super(FLModel,self).__init__(*args,**kwargs)\n",
        "    self.row = row\n",
        "    self.col = col\n",
        "    self.num_classes = num_classes\n",
        "    self.flatten = tf.keras.layers.Flatten(input_shape=(row,col))\n",
        "    self.dense_1 = tf.keras.layers.Dense(128,activation='relu',name=\"dense_1\")\n",
        "    self.dense_2 = tf.keras.layers.Dense(num_classes,activation='softmax',name=\"dense_2\")\n",
        "    self.drop = tf.keras.layers.Dropout(0.2)\n",
        "\n",
        "\n",
        "  def call(self,inputs):\n",
        "    x = self.flatten(inputs)\n",
        "    x = self.dense_1(x)\n",
        "    x = self.drop(x)\n",
        "    x = self.dense_2(x)\n",
        "    return x\n",
        "  \n",
        "  def copy(self):\n",
        "    NewModel = FLModel(self.row,self.col,self.num_classes)\n",
        "    _ = NewModel(np.expand_dims(tf.zeros([self.row,self.col]),0))\n",
        "    ##Layers\n",
        "    NewVars = NewModel.trainable_variables #此处为空列表，因为没有训练,这个地方参数传递是不是有问题\n",
        "    OldVars = self.trainable_variables\n",
        "    for n,o in zip(NewVars,OldVars):\n",
        "      n.assign(o.numpy())\n",
        "    return NewModel\n",
        "\n",
        "  # def compute_output_shape(self,input_shape):\n",
        "  #   shape = tf.TensorShape(input_shape).as_list()\n",
        "  #   shape[-1] = self.num_classes\n",
        "  #   return tf.TensorShape(shape)"
      ],
      "execution_count": 12,
      "outputs": []
    },
    {
      "cell_type": "code",
      "metadata": {
        "id": "8-_EOR39lCAk"
      },
      "source": [
        ""
      ],
      "execution_count": 12,
      "outputs": []
    },
    {
      "cell_type": "markdown",
      "metadata": {
        "id": "Z5LMvoXcoiz2"
      },
      "source": [
        "#Client Initialization\n",
        "模型训练和评估都要重写"
      ]
    },
    {
      "cell_type": "code",
      "metadata": {
        "id": "Hvu8wCjbooCF"
      },
      "source": [
        "class Client(object):\n",
        "  def __init__(self,id,model=None,Train_dataset=None,Test_dataset=None):\n",
        "    self.id = id\n",
        "    self.model = model\n",
        "    self.Train_dataset = Train_dataset\n",
        "    self.Test_dataset = Test_dataset\n",
        "    # from ParamServer\n",
        "    self.ParamModel = None\n",
        "    self.num_epochs = 5\n",
        "    self.batch_size = 32\n",
        "    self.shuffle_buffer = 100\n",
        "    self.prefetch_buffer = 10\n",
        "\n",
        "\n",
        "  def ReceiveModel(self,ParamModel,num_epochs=1,batch_size=32,shuffle_buffer=100,prefetch_buffer=10):\n",
        "    self.ParamModel = ParamModel\n",
        "    self.num_epochs = num_epochs\n",
        "    self.batch_size = batch_size\n",
        "    self.shuffle_buffer = shuffle_buffer\n",
        "    self.prefetch_buffer = prefetch_buffer\n",
        "  \n",
        "\n",
        "  def preprocess(self,dataset):\n",
        "    def batch_format_fn(element):\n",
        "      return collections.OrderedDict(\n",
        "            \n",
        "            x = tf.reshape(element['pixels'],[-1,784]),\n",
        "            y = tf.reshape(element['label'],[-1,1])\n",
        "          )\n",
        "    return dataset.repeat(self.num_epochs).shuffle(self.shuffle_buffer).batch(\n",
        "        self.batch_size).map(batch_format_fn).prefetch(self.prefetch_buffer)\n",
        "\n",
        "  def NodeTrain(self):\n",
        "    model = self.ParamModel\n",
        "    # pre_data = self.preprocess(self.Train_dataset)\n",
        "    # print(type(pre_data))\n",
        "    # model.fit(x=pre_data['x'],y=pre_data['y'],batch_size=self.batch_size,epochs=self.num_epochs)\n",
        "    # x = np.array([i['pixels'].numpy() for i in self.Train_dataset])\n",
        "    # y = np.array([i['label'].numpy() for i in self.Train_dataset])\n",
        "    x,y = self.Train_dataset\n",
        "    model.compile(\n",
        "        optimizer='adam',\n",
        "        loss='sparse_categorical_crossentropy',\n",
        "        metrics=['accuracy'])\n",
        "    _metrics = model.fit(x,y,batch_size=self.batch_size,epochs=self.num_epochs)\n",
        "    self.model = model\n",
        "\n",
        "  def NodeEval(self):\n",
        "    x,y = self.Test_dataset\n",
        "    self.model.evaluate(x,y)\n"
      ],
      "execution_count": 13,
      "outputs": []
    },
    {
      "cell_type": "markdown",
      "metadata": {
        "id": "En8MczNik638"
      },
      "source": [
        "#阶段一：服务器完成模型初始化"
      ]
    },
    {
      "cell_type": "code",
      "metadata": {
        "id": "M8BnvO4cozYf"
      },
      "source": [
        "InitModel = FLModel(row=28,col=28,num_classes=62)\n",
        "S = ParamServer(\"\")"
      ],
      "execution_count": 121,
      "outputs": []
    },
    {
      "cell_type": "code",
      "metadata": {
        "colab": {
          "base_uri": "https://localhost:8080/"
        },
        "id": "rY59Q1O0tkpl",
        "outputId": "108d9f5f-35eb-4180-c5f7-dac4efca2f3b"
      },
      "source": [
        "S.PreEval(InitModel,x_test,y_test)"
      ],
      "execution_count": 122,
      "outputs": [
        {
          "output_type": "stream",
          "text": [
            "313/313 [==============================] - 1s 1ms/step - loss: 4.2675 - accuracy: 0.0022\n"
          ],
          "name": "stdout"
        }
      ]
    },
    {
      "cell_type": "code",
      "metadata": {
        "colab": {
          "base_uri": "https://localhost:8080/"
        },
        "id": "ow52yxhUzpJh",
        "outputId": "4ece1d10-842f-45af-ff59-834637c6ce99"
      },
      "source": [
        "SendModel = S.PreTrain(InitModel,x_train[0:1000],y_train[0:1000],epochs=1)\n",
        "S.PreEval(SendModel,x_test,y_test)"
      ],
      "execution_count": 123,
      "outputs": [
        {
          "output_type": "stream",
          "text": [
            "32/32 [==============================] - 0s 3ms/step - loss: 3.3058 - accuracy: 0.2273\n",
            "313/313 [==============================] - 1s 1ms/step - loss: 1.3101 - accuracy: 0.6423\n"
          ],
          "name": "stdout"
        }
      ]
    },
    {
      "cell_type": "code",
      "metadata": {
        "id": "vvf7A9YrEnA6"
      },
      "source": [
        "#x_test.shape"
      ],
      "execution_count": 17,
      "outputs": []
    },
    {
      "cell_type": "markdown",
      "metadata": {
        "id": "MwmKo3gLrI-i"
      },
      "source": [
        "# 阶段二：为Client分配数据（预处理工作）"
      ]
    },
    {
      "cell_type": "code",
      "metadata": {
        "id": "VcXnArpEjnnA",
        "colab": {
          "base_uri": "https://localhost:8080/"
        },
        "outputId": "518000af-ead6-4e85-ca51-5cb8292b08ea"
      },
      "source": [
        "emnist_dataset = emnist.extract_training_samples('byclass')"
      ],
      "execution_count": 18,
      "outputs": [
        {
          "output_type": "stream",
          "text": [
            "Downloading emnist.zip: 536MB [00:04, 135MB/s]\n"
          ],
          "name": "stderr"
        }
      ]
    },
    {
      "cell_type": "code",
      "metadata": {
        "id": "yNlCcKrZuraD"
      },
      "source": [
        "emnist_dataset = (emnist_dataset[0]/255.0,emnist_dataset[1])"
      ],
      "execution_count": 19,
      "outputs": []
    },
    {
      "cell_type": "code",
      "metadata": {
        "id": "GYETYI7g-In_"
      },
      "source": [
        "def create_data_for_clients(BasicSet,Num,TuneSet=train,TargetRate=0.7):\n",
        "  #Alpha: 需要掺入mnist的占比\n",
        "  #Beta: Emnist中数字的占比\n",
        "  Beta = 34.0/73.0\n",
        "  if TargetRate < Beta:\n",
        "    Alpha = 0\n",
        "  else:\n",
        "    Alpha = (TargetRate-Beta)/(1-Beta)\n",
        "  TuneNum = int(Alpha*Num)\n",
        "  BasicNum = Num-TuneNum\n",
        "  x_sequence = []\n",
        "  y_sequence = []\n",
        "  if TuneNum > 0:\n",
        "    for i in range(TuneNum):\n",
        "      index = random.randint(0,len(TuneSet[0])-1)\n",
        "      x_sequence.append(TuneSet[0][index])\n",
        "      y_sequence.append(TuneSet[1][index])\n",
        "  if BasicNum > 0:\n",
        "    for i in range(BasicNum):\n",
        "      index = random.randint(0,len(BasicSet[0])-1)\n",
        "      x_sequence.append(BasicSet[0][index])\n",
        "      y_sequence.append(BasicSet[1][index])\n",
        "  return (np.array(x_sequence),np.array(y_sequence))"
      ],
      "execution_count": 20,
      "outputs": []
    },
    {
      "cell_type": "code",
      "metadata": {
        "id": "jlR96ORjbt5V"
      },
      "source": [
        "# def create_data_for_clients(BasicSet,Num):\n",
        "#   x_sequence = []\n",
        "#   y_sequence = []\n",
        "#   for i in range(Num):\n",
        "#     index = random.randint(0,Num-1)\n",
        "#     x_sequence.append(BasicSet[0][index])\n",
        "#     y_sequence.append(BasicSet[1][index])\n",
        "#   return (np.array(x_sequence),np.array(y_sequence))"
      ],
      "execution_count": 21,
      "outputs": []
    },
    {
      "cell_type": "code",
      "metadata": {
        "id": "QE_WXcMMt1kP"
      },
      "source": [
        "NUM_CLIENTS = 10\n",
        "NUM_TRAIN_SAMPLE_CLIENT = 6400\n",
        "NUM_TEST_SAMPLE_CLIENT = 256"
      ],
      "execution_count": 22,
      "outputs": []
    },
    {
      "cell_type": "code",
      "metadata": {
        "id": "-Tmf__umcO1l"
      },
      "source": [
        "clients=[]\n",
        "for i in range(NUM_CLIENTS):\n",
        "  clients.append(Client(i,\n",
        "                        Train_dataset=create_data_for_clients(emnist_dataset,NUM_TRAIN_SAMPLE_CLIENT),\n",
        "                        Test_dataset=create_data_for_clients(emnist_dataset,NUM_TEST_SAMPLE_CLIENT))\n",
        "  )"
      ],
      "execution_count": 23,
      "outputs": []
    },
    {
      "cell_type": "markdown",
      "metadata": {
        "id": "V9Jjje417iuZ"
      },
      "source": [
        "Show DataSet"
      ]
    },
    {
      "cell_type": "code",
      "metadata": {
        "id": "8CsXpPMR7icz"
      },
      "source": [
        "import matplotlib.pyplot as plt"
      ],
      "execution_count": 24,
      "outputs": []
    },
    {
      "cell_type": "code",
      "metadata": {
        "colab": {
          "base_uri": "https://localhost:8080/",
          "height": 444
        },
        "id": "7RO4LfKq72nf",
        "outputId": "4d0cb800-f408-4073-ced3-c393f0499a64"
      },
      "source": [
        "f = plt.figure(figsize=(12,7))\n",
        "for i in range(6):\n",
        "  client_dataset = clients[i].Train_dataset\n",
        "  plot_data = collections.defaultdict(list)\n",
        "  for label in client_dataset[1]:\n",
        "    plot_data[label].append(label)\n",
        "  plt.subplot(2,3,i+1)\n",
        "  plt.title('Client {}'.format(i))\n",
        "  for j in range(62):\n",
        "    plt.hist(\n",
        "        plot_data[j],\n",
        "        density = False,\n",
        "        bins = [x for x in range(63)]\n",
        "    )"
      ],
      "execution_count": 25,
      "outputs": [
        {
          "output_type": "display_data",
          "data": {
            "image/png": "[encoded data removed]",
            "text/plain": [
              "<Figure size 864x504 with 6 Axes>"
            ]
          },
          "metadata": {
            "tags": [],
            "needs_background": "light"
          }
        }
      ]
    },
    {
      "cell_type": "markdown",
      "metadata": {
        "id": "A5NIsOQgRp9h"
      },
      "source": [
        "Distance Between two models"
      ]
    },
    {
      "cell_type": "code",
      "metadata": {
        "id": "fX5rrSBk72Vw"
      },
      "source": [
        "def Distance(HookModel,TestModel):\n",
        "  len_it = len(HookModel.trainable_variables)\n",
        "  Hook_weights=[]\n",
        "  Test_weights=[]\n",
        "  for index in range(len_it):\n",
        "    Hook_weights.append(HookModel.trainable_variables[index].numpy())\n",
        "    Test_weights.append(TestModel.trainable_variables[index].numpy())\n",
        "  target = []\n",
        "  dis_norm2=[]\n",
        "  for i in range(len_it):\n",
        "    target.append(Hook_weights[i]-Test_weights[i])\n",
        "    dis_norm2.append(np.linalg.norm(target[i],2))\n",
        "  weight_weights = np.ones([len_it,1])\n",
        "  #调整权重\n",
        "  weight_weights[0]=0\n",
        "  weight_weights[1]=0\n",
        "  dis = np.dot(dis_norm2,weight_weights)\n",
        "  return dis\n",
        "  # return dis_norm2"
      ],
      "execution_count": 82,
      "outputs": []
    },
    {
      "cell_type": "code",
      "metadata": {
        "id": "KI9PCWxY716I"
      },
      "source": [
        "def BetterNode(clients,model,Total_NUM,FedAvg_NUM):\n",
        "  NodeDict=collections.OrderedDict()\n",
        "  for i in range(Total_NUM):\n",
        "    NodeDict[i] = Distance(model,clients[i].model)\n",
        "  Dlst = sorted(NodeDict.items(),key=lambda x:x[1])\n",
        "  NodeList = []\n",
        "  for i in range(FedAvg_NUM):\n",
        "    NodeList.append(Dlst[i][0])\n",
        "  return NodeList"
      ],
      "execution_count": 55,
      "outputs": []
    },
    {
      "cell_type": "markdown",
      "metadata": {
        "id": "7OmptaMzpR0P"
      },
      "source": [
        "# 阶段三：Clients 训练节点数据并聚合\n"
      ]
    },
    {
      "cell_type": "code",
      "metadata": {
        "id": "kr2PkfomvfWw"
      },
      "source": [
        ""
      ],
      "execution_count": null,
      "outputs": []
    },
    {
      "cell_type": "code",
      "metadata": {
        "id": "ve8Dc1KewGH_"
      },
      "source": [
        "def FedAvg(NUM_CLIENTS,model,FedAvg_NUM=7):\n",
        "  iterModel = model.copy()\n",
        "  len_it = len(iterModel.trainable_variables)\n",
        "  all_weights = []\n",
        "  FedNodeList=BetterNode(clients,iterModel,NUM_CLIENTS,FedAvg_NUM)\n",
        "  print(\"FedAvg Node is\",FedNodeList)\n",
        "  Cut=2\n",
        "  for c in range(Cut):\n",
        "    # tmp =np.array(iterModel.trainable_variables[c].numpy(),dtype='float64')\n",
        "    all_weights.append(iterModel.trainable_variables[c].numpy())\n",
        "\n",
        "  for weights_index in range(Cut,len_it):\n",
        "    tmp =np.zeros(iterModel.trainable_variables[weights_index].numpy().shape,dtype='float64')\n",
        "\n",
        "    for node in FedNodeList:\n",
        "      tmp += clients[node].model.trainable_variables[weights_index].numpy()\n",
        "    all_weights.append(tmp/FedAvg_NUM)\n",
        "  # print(all_weights)\n",
        "  iterModel_vars = iterModel.trainable_variables\n",
        "  for iter_v,n in zip(iterModel_vars,all_weights):\n",
        "    iter_v.assign(n)\n",
        "  return iterModel"
      ],
      "execution_count": 106,
      "outputs": []
    },
    {
      "cell_type": "code",
      "metadata": {
        "id": "jl3dF36dw2hC"
      },
      "source": [
        "NUM_EPOCHS = 15"
      ],
      "execution_count": 124,
      "outputs": []
    },
    {
      "cell_type": "code",
      "metadata": {
        "colab": {
          "base_uri": "https://localhost:8080/"
        },
        "id": "ocfoXDNgyTdP",
        "outputId": "6ecfdff6-b7b8-42b9-9979-7d4092a68bfb"
      },
      "source": [
        "for e in range(NUM_EPOCHS):\n",
        "  print(\"EPOCHS {} is starting...\".format(e))\n",
        "  for i in range(NUM_CLIENTS):\n",
        "    clients[i].ReceiveModel(SendModel.copy())\n",
        "    clients[i].NodeTrain()\n",
        "    # clients[i].NodeEval()\n",
        "    # DIS.append(Distance(SendModel,clients[i].model))\n",
        "  FedModel = FedAvg(NUM_CLIENTS,SendModel)\n",
        "  S.PreEval(FedModel,x_test,y_test)\n",
        "  SendModel = FedModel.copy()"
      ],
      "execution_count": 125,
      "outputs": [
        {
          "output_type": "stream",
          "text": [
            "EPOCHS 0 is starting...\n",
            "200/200 [==============================] - 1s 2ms/step - loss: 24.5897 - accuracy: 0.4448\n",
            "200/200 [==============================] - 1s 2ms/step - loss: 23.2205 - accuracy: 0.4452\n",
            "200/200 [==============================] - 1s 2ms/step - loss: 25.7781 - accuracy: 0.4331\n",
            "200/200 [==============================] - 1s 2ms/step - loss: 26.2110 - accuracy: 0.4390\n",
            "200/200 [==============================] - 1s 2ms/step - loss: 22.0839 - accuracy: 0.4503\n",
            "200/200 [==============================] - 1s 2ms/step - loss: 26.4259 - accuracy: 0.4273\n",
            "200/200 [==============================] - 1s 2ms/step - loss: 26.0875 - accuracy: 0.4281\n",
            "200/200 [==============================] - 1s 2ms/step - loss: 25.4858 - accuracy: 0.4298\n",
            "200/200 [==============================] - 1s 2ms/step - loss: 29.8379 - accuracy: 0.4364\n",
            "200/200 [==============================] - 1s 2ms/step - loss: 25.7246 - accuracy: 0.4396\n",
            "FedAvg Node is [8, 4, 5, 7, 1, 3, 2]\n",
            "313/313 [==============================] - 1s 1ms/step - loss: 1.3089 - accuracy: 0.6941\n",
            "EPOCHS 1 is starting...\n",
            "200/200 [==============================] - 1s 2ms/step - loss: 20.8782 - accuracy: 0.4519\n",
            "200/200 [==============================] - 1s 2ms/step - loss: 23.9674 - accuracy: 0.4473\n",
            "200/200 [==============================] - 1s 2ms/step - loss: 23.7992 - accuracy: 0.4306\n",
            "200/200 [==============================] - 1s 2ms/step - loss: 21.4742 - accuracy: 0.4605\n",
            "200/200 [==============================] - 1s 2ms/step - loss: 24.6123 - accuracy: 0.4448\n",
            "200/200 [==============================] - 1s 2ms/step - loss: 24.9694 - accuracy: 0.4387\n",
            "200/200 [==============================] - 1s 2ms/step - loss: 23.1196 - accuracy: 0.4390\n",
            "200/200 [==============================] - 1s 2ms/step - loss: 22.8054 - accuracy: 0.4337\n",
            "200/200 [==============================] - 1s 2ms/step - loss: 23.3774 - accuracy: 0.4411\n",
            "200/200 [==============================] - 1s 2ms/step - loss: 24.0593 - accuracy: 0.4471\n",
            "FedAvg Node is [3, 4, 1, 7, 2, 9, 5]\n",
            "313/313 [==============================] - 1s 1ms/step - loss: 1.3593 - accuracy: 0.7140\n",
            "EPOCHS 2 is starting...\n",
            "200/200 [==============================] - 1s 2ms/step - loss: 22.3299 - accuracy: 0.4434\n",
            "200/200 [==============================] - 1s 2ms/step - loss: 20.4490 - accuracy: 0.4461\n",
            "200/200 [==============================] - 1s 2ms/step - loss: 21.3171 - accuracy: 0.4408\n",
            "200/200 [==============================] - 1s 2ms/step - loss: 21.3427 - accuracy: 0.4494\n",
            "200/200 [==============================] - 1s 2ms/step - loss: 20.1864 - accuracy: 0.4661\n",
            "200/200 [==============================] - 1s 2ms/step - loss: 22.3110 - accuracy: 0.4552\n",
            "200/200 [==============================] - 1s 2ms/step - loss: 19.0580 - accuracy: 0.4476\n",
            "200/200 [==============================] - 1s 2ms/step - loss: 20.6425 - accuracy: 0.4479\n",
            "200/200 [==============================] - 1s 2ms/step - loss: 20.7834 - accuracy: 0.4516\n",
            "200/200 [==============================] - 1s 2ms/step - loss: 21.6602 - accuracy: 0.4544\n",
            "FedAvg Node is [3, 2, 6, 0, 5, 8, 1]\n",
            "313/313 [==============================] - 1s 1ms/step - loss: 1.4024 - accuracy: 0.7232\n",
            "EPOCHS 3 is starting...\n",
            "200/200 [==============================] - 1s 2ms/step - loss: 18.6855 - accuracy: 0.4692\n",
            "200/200 [==============================] - 1s 2ms/step - loss: 17.2456 - accuracy: 0.4589\n",
            "200/200 [==============================] - 1s 2ms/step - loss: 19.6305 - accuracy: 0.4580\n",
            "200/200 [==============================] - 1s 2ms/step - loss: 17.9578 - accuracy: 0.4762\n",
            "200/200 [==============================] - 1s 2ms/step - loss: 19.8015 - accuracy: 0.4601\n",
            "200/200 [==============================] - 1s 2ms/step - loss: 17.1663 - accuracy: 0.4635\n",
            "200/200 [==============================] - 1s 2ms/step - loss: 20.0036 - accuracy: 0.4631\n",
            "200/200 [==============================] - 1s 2ms/step - loss: 19.3771 - accuracy: 0.4549\n",
            "200/200 [==============================] - 1s 2ms/step - loss: 19.2790 - accuracy: 0.4555\n",
            "200/200 [==============================] - 1s 2ms/step - loss: 19.9277 - accuracy: 0.4766\n",
            "FedAvg Node is [7, 6, 1, 0, 8, 4, 9]\n",
            "313/313 [==============================] - 1s 1ms/step - loss: 1.4117 - accuracy: 0.7327\n",
            "EPOCHS 4 is starting...\n",
            "200/200 [==============================] - 1s 2ms/step - loss: 17.1057 - accuracy: 0.4641\n",
            "200/200 [==============================] - 1s 2ms/step - loss: 17.5962 - accuracy: 0.4738\n",
            "200/200 [==============================] - 1s 2ms/step - loss: 17.6864 - accuracy: 0.4639\n",
            "200/200 [==============================] - 1s 2ms/step - loss: 17.4265 - accuracy: 0.4736\n",
            "200/200 [==============================] - 4s 2ms/step - loss: 18.2258 - accuracy: 0.4745\n",
            "200/200 [==============================] - 1s 2ms/step - loss: 17.9562 - accuracy: 0.4615\n",
            "200/200 [==============================] - 1s 2ms/step - loss: 16.5811 - accuracy: 0.4808\n",
            "200/200 [==============================] - 1s 2ms/step - loss: 17.5314 - accuracy: 0.4582\n",
            "200/200 [==============================] - 1s 2ms/step - loss: 16.4555 - accuracy: 0.4760\n",
            "200/200 [==============================] - 1s 2ms/step - loss: 17.0668 - accuracy: 0.4694\n",
            "FedAvg Node is [0, 6, 2, 8, 7, 5, 9]\n",
            "313/313 [==============================] - 1s 1ms/step - loss: 1.4143 - accuracy: 0.7479\n",
            "EPOCHS 5 is starting...\n",
            "200/200 [==============================] - 1s 2ms/step - loss: 15.6312 - accuracy: 0.4691\n",
            "200/200 [==============================] - 1s 2ms/step - loss: 15.2438 - accuracy: 0.4805\n",
            "200/200 [==============================] - 1s 2ms/step - loss: 15.3094 - accuracy: 0.4730\n",
            "200/200 [==============================] - 1s 2ms/step - loss: 15.8956 - accuracy: 0.4879\n",
            "200/200 [==============================] - 1s 2ms/step - loss: 15.2351 - accuracy: 0.4736\n",
            "200/200 [==============================] - 1s 2ms/step - loss: 14.6122 - accuracy: 0.4733\n",
            "200/200 [==============================] - 1s 2ms/step - loss: 18.4144 - accuracy: 0.4607\n",
            "200/200 [==============================] - 1s 2ms/step - loss: 16.7269 - accuracy: 0.4795\n",
            "200/200 [==============================] - 1s 2ms/step - loss: 15.8144 - accuracy: 0.4802\n",
            "200/200 [==============================] - 1s 2ms/step - loss: 15.8540 - accuracy: 0.4772\n",
            "FedAvg Node is [7, 4, 6, 8, 1, 0, 5]\n",
            "313/313 [==============================] - 1s 1ms/step - loss: 1.4325 - accuracy: 0.7542\n",
            "EPOCHS 6 is starting...\n",
            "200/200 [==============================] - 1s 2ms/step - loss: 15.2504 - accuracy: 0.4773\n",
            "200/200 [==============================] - 1s 2ms/step - loss: 13.6028 - accuracy: 0.5021\n",
            "200/200 [==============================] - 1s 2ms/step - loss: 14.2470 - accuracy: 0.4676\n",
            "200/200 [==============================] - 1s 2ms/step - loss: 14.9892 - accuracy: 0.5001\n",
            "200/200 [==============================] - 1s 2ms/step - loss: 15.0650 - accuracy: 0.4984\n",
            "200/200 [==============================] - 1s 2ms/step - loss: 14.9836 - accuracy: 0.4906\n",
            "200/200 [==============================] - 1s 2ms/step - loss: 14.8634 - accuracy: 0.4790\n",
            "200/200 [==============================] - 1s 2ms/step - loss: 14.8613 - accuracy: 0.4787\n",
            "200/200 [==============================] - 1s 2ms/step - loss: 14.2716 - accuracy: 0.4753\n",
            "200/200 [==============================] - 1s 2ms/step - loss: 15.7485 - accuracy: 0.4978\n",
            "FedAvg Node is [2, 1, 0, 3, 8, 5, 9]\n",
            "313/313 [==============================] - 1s 1ms/step - loss: 1.4507 - accuracy: 0.7468\n",
            "EPOCHS 7 is starting...\n",
            "200/200 [==============================] - 1s 2ms/step - loss: 14.0232 - accuracy: 0.4862\n",
            "200/200 [==============================] - 1s 2ms/step - loss: 11.9933 - accuracy: 0.5011\n",
            "200/200 [==============================] - 1s 2ms/step - loss: 15.1483 - accuracy: 0.4805\n",
            "200/200 [==============================] - 1s 2ms/step - loss: 13.7813 - accuracy: 0.5075\n",
            "200/200 [==============================] - 1s 2ms/step - loss: 13.6989 - accuracy: 0.4878\n",
            "200/200 [==============================] - 1s 2ms/step - loss: 12.7525 - accuracy: 0.4802\n",
            "200/200 [==============================] - 1s 2ms/step - loss: 13.8685 - accuracy: 0.4958\n",
            "200/200 [==============================] - 1s 2ms/step - loss: 11.9803 - accuracy: 0.4915\n",
            "200/200 [==============================] - 1s 2ms/step - loss: 14.2434 - accuracy: 0.4825\n",
            "200/200 [==============================] - 1s 2ms/step - loss: 12.2227 - accuracy: 0.5047\n",
            "FedAvg Node is [1, 3, 5, 7, 4, 8, 2]\n",
            "313/313 [==============================] - 1s 1ms/step - loss: 1.4706 - accuracy: 0.7550\n",
            "EPOCHS 8 is starting...\n",
            "200/200 [==============================] - 1s 2ms/step - loss: 12.3486 - accuracy: 0.5108\n",
            "200/200 [==============================] - 1s 2ms/step - loss: 12.0167 - accuracy: 0.4959\n",
            "200/200 [==============================] - 1s 2ms/step - loss: 12.3725 - accuracy: 0.5060\n",
            "200/200 [==============================] - 1s 2ms/step - loss: 13.3915 - accuracy: 0.4934\n",
            "200/200 [==============================] - 1s 2ms/step - loss: 11.9189 - accuracy: 0.5092\n",
            "200/200 [==============================] - 1s 2ms/step - loss: 11.6678 - accuracy: 0.5013\n",
            "200/200 [==============================] - 1s 2ms/step - loss: 12.1597 - accuracy: 0.5064\n",
            "200/200 [==============================] - 1s 2ms/step - loss: 12.4687 - accuracy: 0.5016\n",
            "200/200 [==============================] - 1s 2ms/step - loss: 11.8404 - accuracy: 0.4878\n",
            "200/200 [==============================] - 1s 2ms/step - loss: 12.5077 - accuracy: 0.5149\n",
            "FedAvg Node is [7, 5, 1, 8, 2, 9, 0]\n",
            "313/313 [==============================] - 1s 1ms/step - loss: 1.4840 - accuracy: 0.7564\n",
            "EPOCHS 9 is starting...\n",
            "200/200 [==============================] - 1s 2ms/step - loss: 10.9668 - accuracy: 0.5131\n",
            "200/200 [==============================] - 1s 2ms/step - loss: 10.5712 - accuracy: 0.5129\n",
            "200/200 [==============================] - 1s 2ms/step - loss: 11.6892 - accuracy: 0.4957\n",
            "200/200 [==============================] - 1s 2ms/step - loss: 11.7666 - accuracy: 0.5067\n",
            "200/200 [==============================] - 1s 2ms/step - loss: 12.6204 - accuracy: 0.5101\n",
            "200/200 [==============================] - 1s 2ms/step - loss: 10.7470 - accuracy: 0.5122\n",
            "200/200 [==============================] - 1s 2ms/step - loss: 11.6449 - accuracy: 0.5073\n",
            "200/200 [==============================] - 1s 2ms/step - loss: 10.5032 - accuracy: 0.5031\n",
            "200/200 [==============================] - 1s 2ms/step - loss: 10.6681 - accuracy: 0.5106\n",
            "200/200 [==============================] - 1s 2ms/step - loss: 10.2285 - accuracy: 0.5037\n",
            "FedAvg Node is [8, 4, 3, 7, 6, 1, 9]\n",
            "313/313 [==============================] - 1s 1ms/step - loss: 1.4948 - accuracy: 0.7710\n",
            "EPOCHS 10 is starting...\n",
            "200/200 [==============================] - 1s 2ms/step - loss: 9.9106 - accuracy: 0.5154\n",
            "200/200 [==============================] - 1s 2ms/step - loss: 10.1790 - accuracy: 0.5129\n",
            "200/200 [==============================] - 1s 2ms/step - loss: 10.1048 - accuracy: 0.5203\n",
            "200/200 [==============================] - 1s 2ms/step - loss: 10.6693 - accuracy: 0.5084\n",
            "200/200 [==============================] - 1s 2ms/step - loss: 10.9792 - accuracy: 0.5202\n",
            "200/200 [==============================] - 1s 2ms/step - loss: 10.4244 - accuracy: 0.5077\n",
            "200/200 [==============================] - 1s 2ms/step - loss: 12.8707 - accuracy: 0.5016\n",
            "200/200 [==============================] - 1s 2ms/step - loss: 10.6227 - accuracy: 0.5146\n",
            "200/200 [==============================] - 1s 2ms/step - loss: 11.6708 - accuracy: 0.5038\n",
            "200/200 [==============================] - 1s 2ms/step - loss: 10.8941 - accuracy: 0.5108\n",
            "FedAvg Node is [2, 8, 6, 0, 4, 7, 9]\n",
            "313/313 [==============================] - 1s 1ms/step - loss: 1.5193 - accuracy: 0.7487\n",
            "EPOCHS 11 is starting...\n",
            "200/200 [==============================] - 1s 2ms/step - loss: 10.4596 - accuracy: 0.5254\n",
            "200/200 [==============================] - 1s 2ms/step - loss: 9.4025 - accuracy: 0.5155\n",
            "200/200 [==============================] - 1s 2ms/step - loss: 10.6735 - accuracy: 0.5074\n",
            "200/200 [==============================] - 1s 2ms/step - loss: 11.1278 - accuracy: 0.5136\n",
            "200/200 [==============================] - 1s 2ms/step - loss: 9.6578 - accuracy: 0.5051\n",
            "200/200 [==============================] - 1s 2ms/step - loss: 10.0785 - accuracy: 0.5252\n",
            "200/200 [==============================] - 1s 2ms/step - loss: 11.9195 - accuracy: 0.5077\n",
            "200/200 [==============================] - 1s 2ms/step - loss: 9.4086 - accuracy: 0.5063\n",
            "200/200 [==============================] - 1s 2ms/step - loss: 9.2895 - accuracy: 0.5033\n",
            "200/200 [==============================] - 1s 2ms/step - loss: 9.9861 - accuracy: 0.5252\n",
            "FedAvg Node is [8, 5, 3, 7, 0, 1, 4]\n",
            "313/313 [==============================] - 1s 1ms/step - loss: 1.5380 - accuracy: 0.7561\n",
            "EPOCHS 12 is starting...\n",
            "200/200 [==============================] - 1s 2ms/step - loss: 10.1300 - accuracy: 0.5200\n",
            "200/200 [==============================] - 1s 2ms/step - loss: 8.9697 - accuracy: 0.5303\n",
            "200/200 [==============================] - 1s 2ms/step - loss: 10.0120 - accuracy: 0.5166\n",
            "200/200 [==============================] - 1s 2ms/step - loss: 10.2303 - accuracy: 0.5102\n",
            "200/200 [==============================] - 1s 2ms/step - loss: 9.4955 - accuracy: 0.5225\n",
            "200/200 [==============================] - 1s 2ms/step - loss: 8.6551 - accuracy: 0.5120\n",
            "200/200 [==============================] - 1s 2ms/step - loss: 10.6240 - accuracy: 0.5233\n",
            "200/200 [==============================] - 1s 2ms/step - loss: 10.5368 - accuracy: 0.5071\n",
            "200/200 [==============================] - 1s 2ms/step - loss: 9.3098 - accuracy: 0.5105\n",
            "200/200 [==============================] - 1s 2ms/step - loss: 8.6859 - accuracy: 0.5268\n",
            "FedAvg Node is [0, 7, 5, 8, 4, 2, 1]\n",
            "313/313 [==============================] - 1s 1ms/step - loss: 1.5598 - accuracy: 0.7208\n",
            "EPOCHS 13 is starting...\n",
            "200/200 [==============================] - 4s 2ms/step - loss: 8.6568 - accuracy: 0.5245\n",
            "200/200 [==============================] - 1s 2ms/step - loss: 7.9547 - accuracy: 0.5376\n",
            "200/200 [==============================] - 1s 2ms/step - loss: 9.1696 - accuracy: 0.5286\n",
            "200/200 [==============================] - 1s 2ms/step - loss: 8.0347 - accuracy: 0.5131\n",
            "200/200 [==============================] - 1s 2ms/step - loss: 8.6487 - accuracy: 0.5311\n",
            "200/200 [==============================] - 1s 2ms/step - loss: 8.8892 - accuracy: 0.5267\n",
            "200/200 [==============================] - 1s 2ms/step - loss: 8.6810 - accuracy: 0.5144\n",
            "200/200 [==============================] - 1s 2ms/step - loss: 9.1807 - accuracy: 0.5167\n",
            "200/200 [==============================] - 1s 2ms/step - loss: 7.6930 - accuracy: 0.5372\n",
            "200/200 [==============================] - 1s 2ms/step - loss: 8.6532 - accuracy: 0.5344\n",
            "FedAvg Node is [0, 4, 5, 6, 9, 3, 2]\n",
            "313/313 [==============================] - 1s 1ms/step - loss: 1.5718 - accuracy: 0.7341\n",
            "EPOCHS 14 is starting...\n",
            "200/200 [==============================] - 1s 2ms/step - loss: 8.8275 - accuracy: 0.5318\n",
            "200/200 [==============================] - 1s 2ms/step - loss: 7.8801 - accuracy: 0.5306\n",
            "200/200 [==============================] - 1s 2ms/step - loss: 9.0685 - accuracy: 0.5156\n",
            "200/200 [==============================] - 1s 3ms/step - loss: 7.9301 - accuracy: 0.5352\n",
            "200/200 [==============================] - 1s 2ms/step - loss: 8.6600 - accuracy: 0.5133\n",
            "200/200 [==============================] - 1s 2ms/step - loss: 7.8933 - accuracy: 0.5402\n",
            "200/200 [==============================] - 1s 3ms/step - loss: 8.7999 - accuracy: 0.5233\n",
            "200/200 [==============================] - 1s 2ms/step - loss: 8.9243 - accuracy: 0.5181\n",
            "200/200 [==============================] - 1s 3ms/step - loss: 9.0604 - accuracy: 0.5105\n",
            "200/200 [==============================] - 1s 2ms/step - loss: 8.0441 - accuracy: 0.5303\n",
            "FedAvg Node is [2, 8, 7, 4, 1, 6, 5]\n",
            "313/313 [==============================] - 1s 1ms/step - loss: 1.5925 - accuracy: 0.7458\n"
          ],
          "name": "stdout"
        }
      ]
    },
    {
      "cell_type": "markdown",
      "metadata": {
        "id": "i2axuRBsO6V7"
      },
      "source": [
        "设置对照组，即普通的FedAvg"
      ]
    },
    {
      "cell_type": "code",
      "metadata": {
        "id": "wwI_gLjwO5w4"
      },
      "source": [
        "def FedAvg_Baseline(NUM_CLIENTS,model):\n",
        "  iterModel = model.copy()\n",
        "  len_it = len(iterModel.trainable_variables)\n",
        "  all_weights = []\n",
        "  for weights_index in range(len_it):\n",
        "    tmp =np.zeros(iterModel.trainable_variables[weights_index].numpy().shape,dtype='float64')\n",
        "    for node in range(NUM_CLIENTS):\n",
        "      tmp += clients[node].model.trainable_variables[weights_index].numpy()\n",
        "    all_weights.append(tmp/NUM_CLIENTS)\n",
        "  # print(all_weights)\n",
        "  iterModel_vars = iterModel.trainable_variables\n",
        "  for iter_v,n in zip(iterModel_vars,all_weights):\n",
        "    iter_v.assign(n)\n",
        "  return iterModel"
      ],
      "execution_count": 134,
      "outputs": []
    },
    {
      "cell_type": "code",
      "metadata": {
        "colab": {
          "base_uri": "https://localhost:8080/"
        },
        "id": "X5o0nVueO0m7",
        "outputId": "ecade237-49ef-4b21-e861-fde0a2a4710f"
      },
      "source": [
        "InitModel = FLModel(row=28,col=28,num_classes=62)\n",
        "S = ParamServer(\"\")\n",
        "S.PreEval(InitModel,x_test,y_test)"
      ],
      "execution_count": 130,
      "outputs": [
        {
          "output_type": "stream",
          "text": [
            "313/313 [==============================] - 1s 1ms/step - loss: 4.1347 - accuracy: 0.0129\n"
          ],
          "name": "stdout"
        }
      ]
    },
    {
      "cell_type": "code",
      "metadata": {
        "colab": {
          "base_uri": "https://localhost:8080/"
        },
        "id": "KW2JdgUEP0C5",
        "outputId": "c2775231-2b93-427d-a023-b5e5667b7d01"
      },
      "source": [
        "SendModel = S.PreTrain(InitModel,x_train[0:1000],y_train[0:1000],epochs=1)\n",
        "S.PreEval(SendModel,x_test,y_test)"
      ],
      "execution_count": 131,
      "outputs": [
        {
          "output_type": "stream",
          "text": [
            "32/32 [==============================] - 0s 3ms/step - loss: 3.0580 - accuracy: 0.2340\n",
            "313/313 [==============================] - 1s 1ms/step - loss: 1.3082 - accuracy: 0.7033\n"
          ],
          "name": "stdout"
        }
      ]
    },
    {
      "cell_type": "code",
      "metadata": {
        "id": "Bwd2uL1FUpeH"
      },
      "source": [
        "NUM_EPOCHS = 15"
      ],
      "execution_count": null,
      "outputs": []
    },
    {
      "cell_type": "code",
      "metadata": {
        "colab": {
          "base_uri": "https://localhost:8080/"
        },
        "id": "dejoUrZlPz5l",
        "outputId": "5e440748-bd83-4205-f42c-87b037cd3511"
      },
      "source": [
        "for e in range(NUM_EPOCHS):\n",
        "  print(\"EPOCHS {} is starting...\".format(e))\n",
        "  for i in range(NUM_CLIENTS):\n",
        "    clients[i].ReceiveModel(SendModel.copy())\n",
        "    clients[i].NodeTrain()\n",
        "    # clients[i].NodeEval()\n",
        "    # DIS.append(Distance(SendModel,clients[i].model))\n",
        "  FedModel = FedAvg_Baseline(NUM_CLIENTS,SendModel)\n",
        "  S.PreEval(FedModel,x_test,y_test)\n",
        "  SendModel = FedModel.copy()"
      ],
      "execution_count": 135,
      "outputs": [
        {
          "output_type": "stream",
          "text": [
            "EPOCHS 0 is starting...\n",
            "200/200 [==============================] - 1s 2ms/step - loss: 22.9918 - accuracy: 0.4450\n",
            "200/200 [==============================] - 1s 2ms/step - loss: 23.9744 - accuracy: 0.4499\n",
            "200/200 [==============================] - 1s 2ms/step - loss: 24.8258 - accuracy: 0.4295\n",
            "200/200 [==============================] - 1s 3ms/step - loss: 23.4742 - accuracy: 0.4476\n",
            "200/200 [==============================] - 1s 2ms/step - loss: 21.7694 - accuracy: 0.4416\n",
            "200/200 [==============================] - 1s 2ms/step - loss: 21.5753 - accuracy: 0.4496\n",
            "200/200 [==============================] - 1s 2ms/step - loss: 24.4038 - accuracy: 0.4413\n",
            "200/200 [==============================] - 1s 2ms/step - loss: 23.8425 - accuracy: 0.4311\n",
            "200/200 [==============================] - 1s 2ms/step - loss: 25.1840 - accuracy: 0.4334\n",
            "200/200 [==============================] - 1s 2ms/step - loss: 23.0650 - accuracy: 0.4540\n",
            "313/313 [==============================] - 1s 1ms/step - loss: 2.4033 - accuracy: 0.8724\n",
            "EPOCHS 1 is starting...\n",
            "200/200 [==============================] - 1s 2ms/step - loss: 6.7684 - accuracy: 0.5219\n",
            "200/200 [==============================] - 1s 2ms/step - loss: 6.6869 - accuracy: 0.5356\n",
            "200/200 [==============================] - 1s 2ms/step - loss: 7.2907 - accuracy: 0.5306\n",
            "200/200 [==============================] - 1s 2ms/step - loss: 6.8904 - accuracy: 0.5181\n",
            "200/200 [==============================] - 1s 2ms/step - loss: 6.6091 - accuracy: 0.5325\n",
            "200/200 [==============================] - 1s 2ms/step - loss: 6.8371 - accuracy: 0.5186\n",
            "200/200 [==============================] - 1s 2ms/step - loss: 7.1318 - accuracy: 0.5397\n",
            "200/200 [==============================] - 1s 2ms/step - loss: 7.2344 - accuracy: 0.5112\n",
            "200/200 [==============================] - 1s 2ms/step - loss: 6.9680 - accuracy: 0.5354\n",
            "200/200 [==============================] - 1s 2ms/step - loss: 6.2029 - accuracy: 0.5397\n",
            "313/313 [==============================] - 1s 1ms/step - loss: 3.0202 - accuracy: 0.8307\n",
            "EPOCHS 2 is starting...\n",
            "200/200 [==============================] - 1s 2ms/step - loss: 4.2207 - accuracy: 0.5965\n",
            "200/200 [==============================] - 1s 2ms/step - loss: 4.2752 - accuracy: 0.5823\n",
            "200/200 [==============================] - 1s 2ms/step - loss: 4.5007 - accuracy: 0.5708\n",
            "200/200 [==============================] - 1s 2ms/step - loss: 4.1595 - accuracy: 0.5783\n",
            "200/200 [==============================] - 1s 2ms/step - loss: 4.2097 - accuracy: 0.5742\n",
            "200/200 [==============================] - 1s 2ms/step - loss: 3.8787 - accuracy: 0.5690\n",
            "200/200 [==============================] - 1s 2ms/step - loss: 4.4820 - accuracy: 0.5642\n",
            "200/200 [==============================] - 1s 2ms/step - loss: 4.3844 - accuracy: 0.5708\n",
            "200/200 [==============================] - 1s 2ms/step - loss: 4.3960 - accuracy: 0.5767\n",
            "200/200 [==============================] - 1s 2ms/step - loss: 4.0600 - accuracy: 0.5759\n",
            "313/313 [==============================] - 1s 1ms/step - loss: 2.9225 - accuracy: 0.7731\n",
            "EPOCHS 3 is starting...\n",
            "200/200 [==============================] - 1s 2ms/step - loss: 3.4118 - accuracy: 0.6187\n",
            "200/200 [==============================] - 1s 2ms/step - loss: 3.3277 - accuracy: 0.6283\n",
            "200/200 [==============================] - 1s 2ms/step - loss: 3.5822 - accuracy: 0.6311\n",
            "200/200 [==============================] - 1s 2ms/step - loss: 3.6120 - accuracy: 0.6226\n",
            "200/200 [==============================] - 1s 2ms/step - loss: 3.3423 - accuracy: 0.6348\n",
            "200/200 [==============================] - 1s 2ms/step - loss: 3.4619 - accuracy: 0.6227\n",
            "200/200 [==============================] - 1s 2ms/step - loss: 3.2713 - accuracy: 0.6194\n",
            "200/200 [==============================] - 1s 2ms/step - loss: 3.5044 - accuracy: 0.6169\n",
            "200/200 [==============================] - 1s 2ms/step - loss: 3.5051 - accuracy: 0.6046\n",
            "200/200 [==============================] - 1s 2ms/step - loss: 3.5998 - accuracy: 0.6393\n",
            "313/313 [==============================] - 1s 1ms/step - loss: 2.7933 - accuracy: 0.7405\n",
            "EPOCHS 4 is starting...\n",
            "200/200 [==============================] - 1s 2ms/step - loss: 2.9900 - accuracy: 0.6618\n",
            "200/200 [==============================] - 1s 2ms/step - loss: 2.8956 - accuracy: 0.6617\n",
            "200/200 [==============================] - 1s 2ms/step - loss: 2.9627 - accuracy: 0.6532\n",
            "200/200 [==============================] - 1s 2ms/step - loss: 3.2508 - accuracy: 0.6527\n",
            "200/200 [==============================] - 1s 2ms/step - loss: 3.0214 - accuracy: 0.6568\n",
            "200/200 [==============================] - 1s 2ms/step - loss: 3.1502 - accuracy: 0.6525\n",
            "200/200 [==============================] - 1s 2ms/step - loss: 3.3219 - accuracy: 0.6568\n",
            "200/200 [==============================] - 1s 2ms/step - loss: 3.5655 - accuracy: 0.6542\n",
            "200/200 [==============================] - 1s 2ms/step - loss: 2.9846 - accuracy: 0.6520\n",
            "200/200 [==============================] - 1s 2ms/step - loss: 2.8033 - accuracy: 0.6684\n",
            "313/313 [==============================] - 1s 1ms/step - loss: 2.5839 - accuracy: 0.7162\n",
            "EPOCHS 5 is starting...\n",
            "200/200 [==============================] - 1s 2ms/step - loss: 2.7597 - accuracy: 0.6857\n",
            "200/200 [==============================] - 1s 2ms/step - loss: 2.6674 - accuracy: 0.6933\n",
            "200/200 [==============================] - 1s 2ms/step - loss: 2.7897 - accuracy: 0.6803\n",
            "200/200 [==============================] - 1s 2ms/step - loss: 2.9183 - accuracy: 0.6808\n",
            "200/200 [==============================] - 1s 2ms/step - loss: 2.2407 - accuracy: 0.7032\n",
            "200/200 [==============================] - 1s 2ms/step - loss: 2.7659 - accuracy: 0.6787\n",
            "200/200 [==============================] - 1s 2ms/step - loss: 2.8548 - accuracy: 0.6712\n",
            "200/200 [==============================] - 1s 2ms/step - loss: 3.0516 - accuracy: 0.6658\n",
            "200/200 [==============================] - 1s 2ms/step - loss: 2.8991 - accuracy: 0.6764\n",
            "200/200 [==============================] - 1s 2ms/step - loss: 2.8330 - accuracy: 0.6975\n",
            "313/313 [==============================] - 1s 1ms/step - loss: 2.4804 - accuracy: 0.6472\n",
            "EPOCHS 6 is starting...\n",
            "200/200 [==============================] - 1s 2ms/step - loss: 2.5607 - accuracy: 0.7123\n",
            "200/200 [==============================] - 1s 2ms/step - loss: 2.4046 - accuracy: 0.7077\n",
            "200/200 [==============================] - 1s 2ms/step - loss: 2.7530 - accuracy: 0.7004\n",
            "200/200 [==============================] - 1s 2ms/step - loss: 2.5480 - accuracy: 0.6923\n",
            "200/200 [==============================] - 1s 2ms/step - loss: 2.4036 - accuracy: 0.7084\n",
            "200/200 [==============================] - 1s 2ms/step - loss: 2.6075 - accuracy: 0.6935\n",
            "200/200 [==============================] - 1s 2ms/step - loss: 2.6384 - accuracy: 0.6937\n",
            "200/200 [==============================] - 1s 2ms/step - loss: 2.8468 - accuracy: 0.6808\n",
            "200/200 [==============================] - 1s 2ms/step - loss: 2.7200 - accuracy: 0.7013\n",
            "200/200 [==============================] - 1s 2ms/step - loss: 2.5741 - accuracy: 0.7012\n",
            "313/313 [==============================] - 1s 1ms/step - loss: 2.3498 - accuracy: 0.6052\n",
            "EPOCHS 7 is starting...\n",
            "200/200 [==============================] - 1s 2ms/step - loss: 2.5173 - accuracy: 0.7169\n",
            "200/200 [==============================] - 1s 2ms/step - loss: 2.6708 - accuracy: 0.7321\n",
            "200/200 [==============================] - 1s 2ms/step - loss: 2.8235 - accuracy: 0.7141\n",
            "200/200 [==============================] - 4s 2ms/step - loss: 2.8285 - accuracy: 0.7152\n",
            "200/200 [==============================] - 1s 2ms/step - loss: 2.1342 - accuracy: 0.7299\n",
            "200/200 [==============================] - 1s 2ms/step - loss: 2.6141 - accuracy: 0.7102\n",
            "200/200 [==============================] - 1s 2ms/step - loss: 2.6817 - accuracy: 0.7076\n",
            "200/200 [==============================] - 1s 2ms/step - loss: 2.6682 - accuracy: 0.6997\n",
            "200/200 [==============================] - 1s 2ms/step - loss: 2.2554 - accuracy: 0.7231\n",
            "200/200 [==============================] - 1s 2ms/step - loss: 2.5119 - accuracy: 0.7061\n",
            "313/313 [==============================] - 1s 1ms/step - loss: 2.1892 - accuracy: 0.6057\n",
            "EPOCHS 8 is starting...\n",
            "200/200 [==============================] - 1s 2ms/step - loss: 2.5410 - accuracy: 0.7208\n",
            "200/200 [==============================] - 1s 2ms/step - loss: 2.4809 - accuracy: 0.7360\n",
            "200/200 [==============================] - 1s 2ms/step - loss: 2.7911 - accuracy: 0.7405\n",
            "200/200 [==============================] - 1s 2ms/step - loss: 2.5601 - accuracy: 0.7270\n",
            "200/200 [==============================] - 1s 2ms/step - loss: 2.4518 - accuracy: 0.7376\n",
            "200/200 [==============================] - 1s 2ms/step - loss: 2.5366 - accuracy: 0.7260\n",
            "200/200 [==============================] - 1s 2ms/step - loss: 2.5403 - accuracy: 0.7319\n",
            "200/200 [==============================] - 1s 2ms/step - loss: 2.5155 - accuracy: 0.7177\n",
            "200/200 [==============================] - 1s 2ms/step - loss: 2.2620 - accuracy: 0.7462\n",
            "200/200 [==============================] - 1s 2ms/step - loss: 2.4675 - accuracy: 0.7311\n",
            "313/313 [==============================] - 1s 1ms/step - loss: 2.1257 - accuracy: 0.5903\n",
            "EPOCHS 9 is starting...\n",
            "200/200 [==============================] - 1s 2ms/step - loss: 2.6176 - accuracy: 0.7426\n",
            "200/200 [==============================] - 1s 2ms/step - loss: 2.3942 - accuracy: 0.7496\n",
            "200/200 [==============================] - 1s 2ms/step - loss: 2.6431 - accuracy: 0.7408\n",
            "200/200 [==============================] - 1s 2ms/step - loss: 2.4223 - accuracy: 0.7346\n",
            "200/200 [==============================] - 1s 2ms/step - loss: 2.2588 - accuracy: 0.7504\n",
            "200/200 [==============================] - 1s 2ms/step - loss: 2.3147 - accuracy: 0.7446\n",
            "200/200 [==============================] - 1s 2ms/step - loss: 2.4883 - accuracy: 0.7432\n",
            "200/200 [==============================] - 1s 2ms/step - loss: 2.4582 - accuracy: 0.7285\n",
            "200/200 [==============================] - 1s 2ms/step - loss: 2.5142 - accuracy: 0.7345\n",
            "200/200 [==============================] - 1s 2ms/step - loss: 2.4408 - accuracy: 0.7412\n",
            "313/313 [==============================] - 1s 1ms/step - loss: 2.0832 - accuracy: 0.5613\n",
            "EPOCHS 10 is starting...\n",
            "200/200 [==============================] - 1s 2ms/step - loss: 2.1713 - accuracy: 0.7579\n",
            "200/200 [==============================] - 1s 2ms/step - loss: 2.3753 - accuracy: 0.7574\n",
            "200/200 [==============================] - 1s 2ms/step - loss: 2.3016 - accuracy: 0.7577\n",
            "200/200 [==============================] - 1s 2ms/step - loss: 2.4142 - accuracy: 0.7439\n",
            "200/200 [==============================] - 1s 2ms/step - loss: 2.1957 - accuracy: 0.7547\n",
            "200/200 [==============================] - 1s 2ms/step - loss: 1.7849 - accuracy: 0.7602\n",
            "200/200 [==============================] - 1s 2ms/step - loss: 2.4203 - accuracy: 0.7466\n",
            "200/200 [==============================] - 1s 2ms/step - loss: 2.5800 - accuracy: 0.7403\n",
            "200/200 [==============================] - 1s 2ms/step - loss: 2.2742 - accuracy: 0.7523\n",
            "200/200 [==============================] - 1s 2ms/step - loss: 2.3606 - accuracy: 0.7562\n",
            "313/313 [==============================] - 1s 1ms/step - loss: 1.9850 - accuracy: 0.5670\n",
            "EPOCHS 11 is starting...\n",
            "200/200 [==============================] - 1s 2ms/step - loss: 2.0168 - accuracy: 0.7555\n",
            "200/200 [==============================] - 1s 2ms/step - loss: 2.3844 - accuracy: 0.7559\n",
            "200/200 [==============================] - 1s 2ms/step - loss: 2.3293 - accuracy: 0.7600\n",
            "200/200 [==============================] - 1s 2ms/step - loss: 2.2660 - accuracy: 0.7473\n",
            "200/200 [==============================] - 1s 2ms/step - loss: 2.0368 - accuracy: 0.7679\n",
            "200/200 [==============================] - 1s 2ms/step - loss: 2.1957 - accuracy: 0.7554\n",
            "200/200 [==============================] - 1s 2ms/step - loss: 2.3922 - accuracy: 0.7536\n",
            "200/200 [==============================] - 1s 2ms/step - loss: 2.5000 - accuracy: 0.7510\n",
            "200/200 [==============================] - 1s 2ms/step - loss: 1.8993 - accuracy: 0.7612\n",
            "200/200 [==============================] - 1s 2ms/step - loss: 2.1477 - accuracy: 0.7611\n",
            "313/313 [==============================] - 1s 1ms/step - loss: 1.8832 - accuracy: 0.5704\n",
            "EPOCHS 12 is starting...\n",
            "200/200 [==============================] - 1s 2ms/step - loss: 2.0705 - accuracy: 0.7601\n",
            "200/200 [==============================] - 1s 2ms/step - loss: 2.2716 - accuracy: 0.7609\n",
            "200/200 [==============================] - 1s 2ms/step - loss: 2.2221 - accuracy: 0.7704\n",
            "200/200 [==============================] - 1s 2ms/step - loss: 2.1352 - accuracy: 0.7634\n",
            "200/200 [==============================] - 1s 2ms/step - loss: 2.1568 - accuracy: 0.7653\n",
            "200/200 [==============================] - 1s 2ms/step - loss: 1.9929 - accuracy: 0.7678\n",
            "200/200 [==============================] - 1s 2ms/step - loss: 2.5522 - accuracy: 0.7624\n",
            "200/200 [==============================] - 1s 2ms/step - loss: 2.6139 - accuracy: 0.7557\n",
            "200/200 [==============================] - 1s 2ms/step - loss: 2.0953 - accuracy: 0.7659\n",
            "200/200 [==============================] - 1s 2ms/step - loss: 2.2773 - accuracy: 0.7617\n",
            "313/313 [==============================] - 1s 1ms/step - loss: 1.8915 - accuracy: 0.5571\n",
            "EPOCHS 13 is starting...\n",
            "200/200 [==============================] - 1s 2ms/step - loss: 2.0839 - accuracy: 0.7654\n",
            "200/200 [==============================] - 1s 2ms/step - loss: 2.1681 - accuracy: 0.7758\n",
            "200/200 [==============================] - 1s 2ms/step - loss: 2.4725 - accuracy: 0.7875\n",
            "200/200 [==============================] - 1s 2ms/step - loss: 2.1345 - accuracy: 0.7586\n",
            "200/200 [==============================] - 1s 2ms/step - loss: 2.1217 - accuracy: 0.7788\n",
            "200/200 [==============================] - 1s 2ms/step - loss: 2.1335 - accuracy: 0.7740\n",
            "200/200 [==============================] - 1s 2ms/step - loss: 2.4045 - accuracy: 0.7683\n",
            "200/200 [==============================] - 1s 2ms/step - loss: 2.6983 - accuracy: 0.7622\n",
            "200/200 [==============================] - 1s 2ms/step - loss: 2.1937 - accuracy: 0.7622\n",
            "200/200 [==============================] - 1s 2ms/step - loss: 2.0132 - accuracy: 0.7637\n",
            "313/313 [==============================] - 1s 1ms/step - loss: 1.8015 - accuracy: 0.5666\n",
            "EPOCHS 14 is starting...\n",
            "200/200 [==============================] - 1s 2ms/step - loss: 2.0722 - accuracy: 0.7681\n",
            "200/200 [==============================] - 1s 2ms/step - loss: 1.8699 - accuracy: 0.7873\n",
            "200/200 [==============================] - 1s 2ms/step - loss: 2.3678 - accuracy: 0.7639\n",
            "200/200 [==============================] - 1s 2ms/step - loss: 2.2468 - accuracy: 0.7744\n",
            "200/200 [==============================] - 1s 2ms/step - loss: 2.0736 - accuracy: 0.7792\n",
            "200/200 [==============================] - 1s 2ms/step - loss: 2.0114 - accuracy: 0.7786\n",
            "200/200 [==============================] - 1s 2ms/step - loss: 2.1440 - accuracy: 0.7708\n",
            "200/200 [==============================] - 1s 2ms/step - loss: 2.3707 - accuracy: 0.7665\n",
            "200/200 [==============================] - 1s 2ms/step - loss: 1.9791 - accuracy: 0.7684\n",
            "200/200 [==============================] - 1s 2ms/step - loss: 2.0705 - accuracy: 0.7769\n",
            "313/313 [==============================] - 1s 1ms/step - loss: 1.7953 - accuracy: 0.5606\n"
          ],
          "name": "stdout"
        }
      ]
    },
    {
      "cell_type": "code",
      "metadata": {
        "id": "NbpXvIuEPzwX"
      },
      "source": [
        ""
      ],
      "execution_count": null,
      "outputs": []
    },
    {
      "cell_type": "code",
      "metadata": {
        "id": "KtBMBFo7Pzg2"
      },
      "source": [
        ""
      ],
      "execution_count": null,
      "outputs": []
    },
    {
      "cell_type": "markdown",
      "metadata": {
        "id": "7Wefk859SVCz"
      },
      "source": [
        "## 节点训练\n",
        "OK！fine,我这两天就是为了实现一个循环。。。\n",
        "真他娘的丢人"
      ]
    },
    {
      "cell_type": "code",
      "metadata": {
        "id": "BqZPIlu6QQjN"
      },
      "source": [
        "for i in range(NUM_CLIENTS):\n",
        "  clients[i].ReceiveModel(a.copy())\n",
        "  clients[i].NodeTrain()"
      ],
      "execution_count": null,
      "outputs": []
    },
    {
      "cell_type": "code",
      "metadata": {
        "colab": {
          "base_uri": "https://localhost:8080/"
        },
        "id": "WoYtJOhkROaV",
        "outputId": "f22e3092-0849-4303-e944-f590c62aa997"
      },
      "source": [
        "for i in range(NUM_CLIENTS):\n",
        "  print(\"Node {} is evaluating...\".format(i))\n",
        "  clients[i].NodeEval()\n",
        "  ##虽然这个步骤没啥用"
      ],
      "execution_count": null,
      "outputs": [
        {
          "output_type": "stream",
          "text": [
            "Node 0 is evaluating...\n",
            "313/313 [==============================] - 0s 1ms/step - loss: 0.3676 - accuracy: 0.9269\n",
            "Node 1 is evaluating...\n",
            "313/313 [==============================] - 0s 1ms/step - loss: 0.3695 - accuracy: 0.9273\n",
            "Node 2 is evaluating...\n",
            "313/313 [==============================] - 0s 1ms/step - loss: 0.5132 - accuracy: 0.9271\n",
            "Node 3 is evaluating...\n",
            "313/313 [==============================] - 0s 1ms/step - loss: 0.3902 - accuracy: 0.9242\n",
            "Node 4 is evaluating...\n",
            "313/313 [==============================] - 0s 1ms/step - loss: 0.4435 - accuracy: 0.9231\n",
            "Node 5 is evaluating...\n",
            "313/313 [==============================] - 1s 1ms/step - loss: 0.3814 - accuracy: 0.9300\n",
            "Node 6 is evaluating...\n",
            "313/313 [==============================] - 0s 1ms/step - loss: 0.3722 - accuracy: 0.9262\n",
            "Node 7 is evaluating...\n",
            "313/313 [==============================] - 0s 1ms/step - loss: 0.3679 - accuracy: 0.9250\n",
            "Node 8 is evaluating...\n",
            "313/313 [==============================] - 0s 1ms/step - loss: 0.4051 - accuracy: 0.9242\n",
            "Node 9 is evaluating...\n",
            "313/313 [==============================] - 0s 1ms/step - loss: 0.3989 - accuracy: 0.9185\n"
          ],
          "name": "stdout"
        }
      ]
    },
    {
      "cell_type": "code",
      "metadata": {
        "id": "PXF-zOUIZGDO"
      },
      "source": [
        "def DiffModel(model1,model2,layer_name,w_vs_b=0):\n",
        "  l1 = model1.get_layer(layer_name).get_weights()[w_vs_b].reshape([-1,])\n",
        "  l2 = model2.get_layer(layer_name).get_weights()[w_vs_b].reshape([-1,])\n",
        "  # l1 = model1.trainable_variables\n",
        "  # l2 = model2.trainable_variables\n",
        "  # print(l1)\n",
        "  l1.shape\n",
        "  # l1 = l1.reshape([-1,])\n",
        "  # l2 = l2.reshape([-1,])\n",
        "  for i in range(len(l1)):\n",
        "    if l1[i]!=l2[i]:\n",
        "      print(\"NOT SAME MODEL\")\n",
        "      return"
      ],
      "execution_count": null,
      "outputs": []
    },
    {
      "cell_type": "code",
      "metadata": {
        "colab": {
          "base_uri": "https://localhost:8080/"
        },
        "id": "WYehgejDZJZw",
        "outputId": "f8c651dd-b7b4-41a7-f3ca-67afd9d626cd"
      },
      "source": [
        "DiffModel(clients[0].model,clients[1].model,'dense_1')"
      ],
      "execution_count": null,
      "outputs": [
        {
          "output_type": "stream",
          "text": [
            "NOT SAME MODEL\n"
          ],
          "name": "stdout"
        }
      ]
    },
    {
      "cell_type": "markdown",
      "metadata": {
        "id": "rpREw9q5Se9f"
      },
      "source": [
        "## 模型聚合 FedAvg\n",
        "THIS IS THE MOST IMPORANT！"
      ]
    },
    {
      "cell_type": "code",
      "metadata": {
        "id": "2RRqKgiqSRFF"
      },
      "source": [
        "##先实现普通聚合，再考虑距离问题"
      ],
      "execution_count": null,
      "outputs": []
    },
    {
      "cell_type": "code",
      "metadata": {
        "colab": {
          "base_uri": "https://localhost:8080/"
        },
        "id": "bIOKI885TN31",
        "outputId": "75a8957a-2d67-49f9-d0a1-d340a623ce3f"
      },
      "source": [
        "# clients[0].Train_dataset[0].shape"
      ],
      "execution_count": null,
      "outputs": [
        {
          "output_type": "execute_result",
          "data": {
            "text/plain": [
              "(60000, 28, 28)"
            ]
          },
          "metadata": {
            "tags": []
          },
          "execution_count": 182
        }
      ]
    },
    {
      "cell_type": "code",
      "metadata": {
        "colab": {
          "base_uri": "https://localhost:8080/"
        },
        "id": "P9fgFEGKT41m",
        "outputId": "e4c6fb02-b699-4c76-a013-0163740fe1e8"
      },
      "source": [
        "# a_1 = a.trainable_variables\n",
        "# b_1 = clients[0].model.trainable_variables\n",
        "# for _a,_b in zip(a_1,b_1):\n",
        "#   # print(_a,_b,'\\n')\n",
        "#   print(type(_a))"
      ],
      "execution_count": null,
      "outputs": [
        {
          "output_type": "stream",
          "text": [
            "<class 'tensorflow.python.eager.def_function.UnliftedInitializerVariable'>\n",
            "<class 'tensorflow.python.eager.def_function.UnliftedInitializerVariable'>\n",
            "<class 'tensorflow.python.eager.def_function.UnliftedInitializerVariable'>\n",
            "<class 'tensorflow.python.eager.def_function.UnliftedInitializerVariable'>\n"
          ],
          "name": "stdout"
        }
      ]
    },
    {
      "cell_type": "code",
      "metadata": {
        "id": "UJUbvaVsZP4P"
      },
      "source": [
        "# tmp = a_1[0]\n",
        "# tmp2 = b_1[0]"
      ],
      "execution_count": null,
      "outputs": []
    },
    {
      "cell_type": "code",
      "metadata": {
        "colab": {
          "base_uri": "https://localhost:8080/"
        },
        "id": "HYDG5UaqZP1s",
        "outputId": "f27ff669-b776-488d-f1a6-85d06edbf27e"
      },
      "source": [
        "# print(tmp.name)\n",
        "# print(tmp2.name)"
      ],
      "execution_count": null,
      "outputs": [
        {
          "output_type": "stream",
          "text": [
            "fl_model_57/dense_1/kernel:0\n",
            "fl_model_60/dense_1/kernel:0\n"
          ],
          "name": "stdout"
        }
      ]
    },
    {
      "cell_type": "code",
      "metadata": {
        "colab": {
          "base_uri": "https://localhost:8080/"
        },
        "id": "1MCj2AqXZPzY",
        "outputId": "0102b751-5f6c-4f17-d7fb-361d68ba5c3c"
      },
      "source": [
        "# tmp.numpy()"
      ],
      "execution_count": null,
      "outputs": [
        {
          "output_type": "execute_result",
          "data": {
            "text/plain": [
              "array([[-0.07970653,  0.07991762,  0.05910995, ...,  0.0579403 ,\n",
              "         0.0321511 ,  0.02421231],\n",
              "       [-0.05695383,  0.03625515, -0.06860252, ...,  0.02591816,\n",
              "         0.04554088,  0.02055327],\n",
              "       [-0.01783558, -0.04462572, -0.02057564, ...,  0.02187481,\n",
              "        -0.04054561, -0.02853347],\n",
              "       ...,\n",
              "       [-0.05783828, -0.05880497,  0.07976013, ..., -0.03510847,\n",
              "        -0.03695404,  0.03616227],\n",
              "       [-0.06651882,  0.02818294, -0.02726433, ..., -0.05769905,\n",
              "        -0.04426115, -0.00901749],\n",
              "       [-0.01624558,  0.05673347, -0.07569796, ..., -0.05263541,\n",
              "        -0.0753431 , -0.04903179]], dtype=float32)"
            ]
          },
          "metadata": {
            "tags": []
          },
          "execution_count": 198
        }
      ]
    },
    {
      "cell_type": "code",
      "metadata": {
        "colab": {
          "base_uri": "https://localhost:8080/"
        },
        "id": "3kMMoHjAg6ZA",
        "outputId": "7530bd17-18dd-4904-93c1-a465a682b56e"
      },
      "source": [
        "# tmp.numpy().shape"
      ],
      "execution_count": null,
      "outputs": [
        {
          "output_type": "execute_result",
          "data": {
            "text/plain": [
              "(784, 128)"
            ]
          },
          "metadata": {
            "tags": []
          },
          "execution_count": 203
        }
      ]
    },
    {
      "cell_type": "code",
      "metadata": {
        "id": "szwdWjJOhhPO"
      },
      "source": [
        "#  tmp2 =np.zeros(a.trainable_variables[0].numpy().shape,dtype='float64')"
      ],
      "execution_count": null,
      "outputs": []
    },
    {
      "cell_type": "code",
      "metadata": {
        "colab": {
          "base_uri": "https://localhost:8080/"
        },
        "id": "ThtNgQgrhncc",
        "outputId": "cc972f15-4527-4670-a94a-98797e7e253f"
      },
      "source": [
        "# tmp2.shape"
      ],
      "execution_count": null,
      "outputs": [
        {
          "output_type": "execute_result",
          "data": {
            "text/plain": [
              "(784, 128)"
            ]
          },
          "metadata": {
            "tags": []
          },
          "execution_count": 213
        }
      ]
    },
    {
      "cell_type": "code",
      "metadata": {
        "id": "YopyPHTFZPw0"
      },
      "source": [
        "#聚合先不考虑权重\n",
        "def FedAvg(NUM_CLIENTS):\n",
        "  iterModel = a.copy()\n",
        "  len_it = len(iterModel.trainable_variables)\n",
        "  all_weights = []\n",
        "  for weights_index in range(len_it):\n",
        "    tmp =np.zeros(iterModel.trainable_variables[weights_index].numpy().shape,dtype='float64')\n",
        "\n",
        "    for node in range(NUM_CLIENTS):\n",
        "      tmp += clients[node].model.trainable_variables[weights_index].numpy()\n",
        "    all_weights.append(tmp)\n",
        "  # print(all_weights)\n",
        "  iterModel_vars = iterModel.trainable_variables\n",
        "  for iter_v,n in zip(iterModel_vars,all_weights):\n",
        "    iter_v.assign(n)\n",
        "  return iterModel"
      ],
      "execution_count": null,
      "outputs": []
    },
    {
      "cell_type": "code",
      "metadata": {
        "id": "FlyPcfg2ZPuM"
      },
      "source": [
        "fedmodel = FedAvg(10)"
      ],
      "execution_count": null,
      "outputs": []
    },
    {
      "cell_type": "code",
      "metadata": {
        "id": "Y4fq1H9TZPq2"
      },
      "source": [
        "#昨天留的任务是如何把聚合后的numpy数组，转到模型中"
      ],
      "execution_count": null,
      "outputs": []
    },
    {
      "cell_type": "code",
      "metadata": {
        "colab": {
          "base_uri": "https://localhost:8080/"
        },
        "id": "6EWPH4k7RSYB",
        "outputId": "bbcaabfd-3c96-4aa0-9829-78d0eb485287"
      },
      "source": [
        "S.PreEval(fedmodel,x_test,y_test)"
      ],
      "execution_count": null,
      "outputs": [
        {
          "output_type": "stream",
          "text": [
            "313/313 [==============================] - 1s 1ms/step - loss: 7.8235 - accuracy: 0.2031\n"
          ],
          "name": "stdout"
        }
      ]
    },
    {
      "cell_type": "code",
      "metadata": {
        "colab": {
          "base_uri": "https://localhost:8080/"
        },
        "id": "j_8dKE06KK4e",
        "outputId": "67908246-b8a4-4577-bd63-5c230caa5209"
      },
      "source": [
        "len(fed)"
      ],
      "execution_count": null,
      "outputs": [
        {
          "output_type": "execute_result",
          "data": {
            "text/plain": [
              "4"
            ]
          },
          "metadata": {
            "tags": []
          },
          "execution_count": 125
        }
      ]
    }
  ]
}