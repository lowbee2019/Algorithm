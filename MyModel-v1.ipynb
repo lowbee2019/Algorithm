{
  "nbformat": 4,
  "nbformat_minor": 0,
  "metadata": {
    "colab": {
      "name": "MyModel.ipynb",
      "provenance": [],
      "collapsed_sections": [
        "En8MczNik638",
        "MwmKo3gLrI-i"
      ],
      "authorship_tag": "ABX9TyNxVkAj5x0IgVQG0MbQsBNz",
      "include_colab_link": true
    },
    "kernelspec": {
      "display_name": "Python 3",
      "name": "python3"
    },
    "language_info": {
      "name": "python"
    }
  },
  "cells": [
    {
      "cell_type": "markdown",
      "metadata": {
        "id": "view-in-github",
        "colab_type": "text"
      },
      "source": [
        "<a href=\"https://colab.research.google.com/github/lowbee2019/Algorithm/blob/master/MyModel-v1.ipynb\" target=\"_parent\"><img src=\"https://colab.research.google.com/assets/colab-badge.svg\" alt=\"Open In Colab\"/></a>"
      ]
    },
    {
      "cell_type": "code",
      "metadata": {
        "colab": {
          "base_uri": "https://localhost:8080/"
        },
        "id": "uoFhItkFEsF8",
        "outputId": "18e3c6ee-64a5-4bfb-a91f-0f691125a462"
      },
      "source": [
        "!pip install emnist"
      ],
      "execution_count": 3,
      "outputs": [
        {
          "output_type": "stream",
          "text": [
            "Collecting emnist\n",
            "  Downloading https://files.pythonhosted.org/packages/d1/f4/78b24acbef9e8fe976dda700f16a3606f3b8363b015bc555f8050fbbd8ac/emnist-0.0-py3-none-any.whl\n",
            "Requirement already satisfied: numpy in /usr/local/lib/python3.7/dist-packages (from emnist) (1.19.5)\n",
            "Requirement already satisfied: requests in /usr/local/lib/python3.7/dist-packages (from emnist) (2.23.0)\n",
            "Requirement already satisfied: tqdm in /usr/local/lib/python3.7/dist-packages (from emnist) (4.41.1)\n",
            "Requirement already satisfied: certifi>=2017.4.17 in /usr/local/lib/python3.7/dist-packages (from requests->emnist) (2020.12.5)\n",
            "Requirement already satisfied: idna<3,>=2.5 in /usr/local/lib/python3.7/dist-packages (from requests->emnist) (2.10)\n",
            "Requirement already satisfied: urllib3!=1.25.0,!=1.25.1,<1.26,>=1.21.1 in /usr/local/lib/python3.7/dist-packages (from requests->emnist) (1.24.3)\n",
            "Requirement already satisfied: chardet<4,>=3.0.2 in /usr/local/lib/python3.7/dist-packages (from requests->emnist) (3.0.4)\n",
            "Installing collected packages: emnist\n",
            "Successfully installed emnist-0.0\n"
          ],
          "name": "stdout"
        }
      ]
    },
    {
      "cell_type": "code",
      "metadata": {
        "id": "9e4So1L3pPWp"
      },
      "source": [
        "import tensorflow as tf\n",
        "import numpy as np\n",
        "from tensorflow import keras\n",
        "import collections\n",
        "import copy\n",
        "import random\n",
        "import emnist"
      ],
      "execution_count": 4,
      "outputs": []
    },
    {
      "cell_type": "markdown",
      "metadata": {
        "id": "YQaIGTfxmSfi"
      },
      "source": [
        "# Server Initialization"
      ]
    },
    {
      "cell_type": "code",
      "metadata": {
        "id": "PTK_p961nsA5"
      },
      "source": [
        "class ParamServer(object):\n",
        "  def __init__(self,init_model_path):\n",
        "    self.init_model_path = init_model_path\n",
        "    self.round = 0\n",
        "    self.optimizer=\"adam\"\n",
        "    self.loss = \"sparse_categorical_crossentropy\"\n",
        "    self.metrics =['accuracy']\n",
        "\n",
        "  def PreTrain(self,model,data,labels,batch_size=32,epochs=5):\n",
        "    model.compile(optimizer=self.optimizer,\n",
        "                  loss=self.loss,\n",
        "                  metrics=self.metrics)\n",
        "    _metrics = model.fit(data,labels,batch_size,epochs)\n",
        "    return model\n",
        "  \n",
        "  def PreEval(self,model,test_data,test_labels):\n",
        "    model.compile(optimizer=self.optimizer,\n",
        "                  loss=self.loss,\n",
        "                  metrics=self.metrics)\n",
        "    model.evaluate(test_data,test_labels)\n"
      ],
      "execution_count": 9,
      "outputs": []
    },
    {
      "cell_type": "markdown",
      "metadata": {
        "id": "iRvlGAmjmxbw"
      },
      "source": [
        "## Mnist数据集的预处理"
      ]
    },
    {
      "cell_type": "code",
      "metadata": {
        "id": "6b0_4VEYnemW"
      },
      "source": [
        "mnist = tf.keras.datasets.mnist\n",
        "train,test = mnist.load_data()\n",
        "x_train,y_train = train\n",
        "x_test,y_test = test\n",
        "x_train,x_test = x_train/255.0,x_test/255.0"
      ],
      "execution_count": 10,
      "outputs": []
    },
    {
      "cell_type": "code",
      "metadata": {
        "colab": {
          "base_uri": "https://localhost:8080/"
        },
        "id": "f9537dMSO_C_",
        "outputId": "66c9fd72-f250-4ff2-97d8-5a8401ae41a2"
      },
      "source": [
        "x_train.shape"
      ],
      "execution_count": 11,
      "outputs": [
        {
          "output_type": "execute_result",
          "data": {
            "text/plain": [
              "(60000, 28, 28)"
            ]
          },
          "metadata": {
            "tags": []
          },
          "execution_count": 11
        }
      ]
    },
    {
      "cell_type": "markdown",
      "metadata": {
        "id": "2L712LCIm6Vv"
      },
      "source": [
        "## 模型的定义"
      ]
    },
    {
      "cell_type": "code",
      "metadata": {
        "id": "C0noj5RjmF0i"
      },
      "source": [
        "class FLModel(tf.keras.Model):\n",
        "  def __init__(self,row,col,num_classes=62,*args,**kwargs):\n",
        "    super(FLModel,self).__init__(*args,**kwargs)\n",
        "    self.row = row\n",
        "    self.col = col\n",
        "    self.num_classes = num_classes\n",
        "    self.flatten = tf.keras.layers.Flatten(input_shape=(row,col))\n",
        "    self.dense_1 = tf.keras.layers.Dense(128,activation='relu',name=\"dense_1\")\n",
        "    self.dense_2 = tf.keras.layers.Dense(num_classes,activation='softmax',name=\"dense_2\")\n",
        "    self.drop = tf.keras.layers.Dropout(0.2)\n",
        "\n",
        "\n",
        "  def call(self,inputs):\n",
        "    x = self.flatten(inputs)\n",
        "    x = self.dense_1(x)\n",
        "    x = self.drop(x)\n",
        "    x = self.dense_2(x)\n",
        "    return x\n",
        "  \n",
        "  def copy(self):\n",
        "    NewModel = FLModel(self.row,self.col,self.num_classes)\n",
        "    _ = NewModel(np.expand_dims(tf.zeros([self.row,self.col]),0))\n",
        "    ##Layers\n",
        "    NewVars = NewModel.trainable_variables #此处为空列表，因为没有训练,这个地方参数传递是不是有问题\n",
        "    OldVars = self.trainable_variables\n",
        "    for n,o in zip(NewVars,OldVars):\n",
        "      n.assign(o.numpy())\n",
        "    return NewModel\n",
        "\n",
        "  # def compute_output_shape(self,input_shape):\n",
        "  #   shape = tf.TensorShape(input_shape).as_list()\n",
        "  #   shape[-1] = self.num_classes\n",
        "  #   return tf.TensorShape(shape)"
      ],
      "execution_count": 12,
      "outputs": []
    },
    {
      "cell_type": "code",
      "metadata": {
        "id": "8-_EOR39lCAk"
      },
      "source": [
        ""
      ],
      "execution_count": 12,
      "outputs": []
    },
    {
      "cell_type": "markdown",
      "metadata": {
        "id": "Z5LMvoXcoiz2"
      },
      "source": [
        "#Client Initialization\n",
        "模型训练和评估都要重写"
      ]
    },
    {
      "cell_type": "code",
      "metadata": {
        "id": "Hvu8wCjbooCF"
      },
      "source": [
        "class Client(object):\n",
        "  def __init__(self,id,model=None,Train_dataset=None,Test_dataset=None):\n",
        "    self.id = id\n",
        "    self.model = model\n",
        "    self.Train_dataset = Train_dataset\n",
        "    self.Test_dataset = Test_dataset\n",
        "    # from ParamServer\n",
        "    self.ParamModel = None\n",
        "    self.num_epochs = 5\n",
        "    self.batch_size = 32\n",
        "    self.shuffle_buffer = 100\n",
        "    self.prefetch_buffer = 10\n",
        "\n",
        "\n",
        "  def ReceiveModel(self,ParamModel,num_epochs=1,batch_size=32,shuffle_buffer=100,prefetch_buffer=10):\n",
        "    self.ParamModel = ParamModel\n",
        "    self.num_epochs = num_epochs\n",
        "    self.batch_size = batch_size\n",
        "    self.shuffle_buffer = shuffle_buffer\n",
        "    self.prefetch_buffer = prefetch_buffer\n",
        "  \n",
        "\n",
        "  def preprocess(self,dataset):\n",
        "    def batch_format_fn(element):\n",
        "      return collections.OrderedDict(\n",
        "            \n",
        "            x = tf.reshape(element['pixels'],[-1,784]),\n",
        "            y = tf.reshape(element['label'],[-1,1])\n",
        "          )\n",
        "    return dataset.repeat(self.num_epochs).shuffle(self.shuffle_buffer).batch(\n",
        "        self.batch_size).map(batch_format_fn).prefetch(self.prefetch_buffer)\n",
        "\n",
        "  def NodeTrain(self):\n",
        "    model = self.ParamModel\n",
        "    # pre_data = self.preprocess(self.Train_dataset)\n",
        "    # print(type(pre_data))\n",
        "    # model.fit(x=pre_data['x'],y=pre_data['y'],batch_size=self.batch_size,epochs=self.num_epochs)\n",
        "    # x = np.array([i['pixels'].numpy() for i in self.Train_dataset])\n",
        "    # y = np.array([i['label'].numpy() for i in self.Train_dataset])\n",
        "    x,y = self.Train_dataset\n",
        "    model.compile(\n",
        "        optimizer='adam',\n",
        "        loss='sparse_categorical_crossentropy',\n",
        "        metrics=['accuracy'])\n",
        "    _metrics = model.fit(x,y,batch_size=self.batch_size,epochs=self.num_epochs)\n",
        "    self.model = model\n",
        "\n",
        "  def NodeEval(self):\n",
        "    x,y = self.Test_dataset\n",
        "    self.model.evaluate(x,y)\n"
      ],
      "execution_count": 13,
      "outputs": []
    },
    {
      "cell_type": "markdown",
      "metadata": {
        "id": "En8MczNik638"
      },
      "source": [
        "#阶段一：服务器完成模型初始化"
      ]
    },
    {
      "cell_type": "code",
      "metadata": {
        "id": "M8BnvO4cozYf"
      },
      "source": [
        "InitModel = FLModel(row=28,col=28,num_classes=62)\n",
        "S = ParamServer(\"\")"
      ],
      "execution_count": 108,
      "outputs": []
    },
    {
      "cell_type": "code",
      "metadata": {
        "colab": {
          "base_uri": "https://localhost:8080/"
        },
        "id": "rY59Q1O0tkpl",
        "outputId": "0824cd80-0134-4995-ae84-8a18b6d74141"
      },
      "source": [
        "S.PreEval(InitModel,x_test,y_test)"
      ],
      "execution_count": 109,
      "outputs": [
        {
          "output_type": "stream",
          "text": [
            "313/313 [==============================] - 1s 1ms/step - loss: 4.0848 - accuracy: 0.0231\n"
          ],
          "name": "stdout"
        }
      ]
    },
    {
      "cell_type": "code",
      "metadata": {
        "colab": {
          "base_uri": "https://localhost:8080/"
        },
        "id": "ow52yxhUzpJh",
        "outputId": "b233ce08-f84a-4e03-af23-a90ee01c1fe3"
      },
      "source": [
        "SendModel = S.PreTrain(InitModel,x_train[0:3000],y_train[0:3000],epochs=1)\n",
        "S.PreEval(SendModel,x_test,y_test)"
      ],
      "execution_count": 110,
      "outputs": [
        {
          "output_type": "stream",
          "text": [
            "94/94 [==============================] - 1s 3ms/step - loss: 2.1148 - accuracy: 0.4781\n",
            "313/313 [==============================] - 1s 1ms/step - loss: 0.5909 - accuracy: 0.8304\n"
          ],
          "name": "stdout"
        }
      ]
    },
    {
      "cell_type": "code",
      "metadata": {
        "id": "vvf7A9YrEnA6"
      },
      "source": [
        "#x_test.shape"
      ],
      "execution_count": 17,
      "outputs": []
    },
    {
      "cell_type": "markdown",
      "metadata": {
        "id": "MwmKo3gLrI-i"
      },
      "source": [
        "# 阶段二：为Client分配数据（预处理工作）"
      ]
    },
    {
      "cell_type": "code",
      "metadata": {
        "id": "VcXnArpEjnnA",
        "colab": {
          "base_uri": "https://localhost:8080/"
        },
        "outputId": "518000af-ead6-4e85-ca51-5cb8292b08ea"
      },
      "source": [
        "emnist_dataset = emnist.extract_training_samples('byclass')"
      ],
      "execution_count": 18,
      "outputs": [
        {
          "output_type": "stream",
          "text": [
            "Downloading emnist.zip: 536MB [00:04, 135MB/s]\n"
          ],
          "name": "stderr"
        }
      ]
    },
    {
      "cell_type": "code",
      "metadata": {
        "id": "yNlCcKrZuraD"
      },
      "source": [
        "emnist_dataset = (emnist_dataset[0]/255.0,emnist_dataset[1])"
      ],
      "execution_count": 19,
      "outputs": []
    },
    {
      "cell_type": "code",
      "metadata": {
        "id": "GYETYI7g-In_"
      },
      "source": [
        "def create_data_for_clients(BasicSet,Num,TuneSet=train,TargetRate=0.7):\n",
        "  #Alpha: 需要掺入mnist的占比\n",
        "  #Beta: Emnist中数字的占比\n",
        "  Beta = 34.0/73.0\n",
        "  if TargetRate < Beta:\n",
        "    Alpha = 0\n",
        "  else:\n",
        "    Alpha = (TargetRate-Beta)/(1-Beta)\n",
        "  TuneNum = int(Alpha*Num)\n",
        "  BasicNum = Num-TuneNum\n",
        "  x_sequence = []\n",
        "  y_sequence = []\n",
        "  if TuneNum > 0:\n",
        "    for i in range(TuneNum):\n",
        "      index = random.randint(0,len(TuneSet[0])-1)\n",
        "      x_sequence.append(TuneSet[0][index])\n",
        "      y_sequence.append(TuneSet[1][index])\n",
        "  if BasicNum > 0:\n",
        "    for i in range(BasicNum):\n",
        "      index = random.randint(0,len(BasicSet[0])-1)\n",
        "      x_sequence.append(BasicSet[0][index])\n",
        "      y_sequence.append(BasicSet[1][index])\n",
        "  return (np.array(x_sequence),np.array(y_sequence))"
      ],
      "execution_count": 20,
      "outputs": []
    },
    {
      "cell_type": "code",
      "metadata": {
        "id": "jlR96ORjbt5V"
      },
      "source": [
        "# def create_data_for_clients(BasicSet,Num):\n",
        "#   x_sequence = []\n",
        "#   y_sequence = []\n",
        "#   for i in range(Num):\n",
        "#     index = random.randint(0,Num-1)\n",
        "#     x_sequence.append(BasicSet[0][index])\n",
        "#     y_sequence.append(BasicSet[1][index])\n",
        "#   return (np.array(x_sequence),np.array(y_sequence))"
      ],
      "execution_count": 21,
      "outputs": []
    },
    {
      "cell_type": "code",
      "metadata": {
        "id": "QE_WXcMMt1kP"
      },
      "source": [
        "NUM_CLIENTS = 10\n",
        "NUM_TRAIN_SAMPLE_CLIENT = 6400\n",
        "NUM_TEST_SAMPLE_CLIENT = 256"
      ],
      "execution_count": 22,
      "outputs": []
    },
    {
      "cell_type": "code",
      "metadata": {
        "id": "-Tmf__umcO1l"
      },
      "source": [
        "clients=[]\n",
        "for i in range(NUM_CLIENTS):\n",
        "  clients.append(Client(i,\n",
        "                        Train_dataset=create_data_for_clients(emnist_dataset,NUM_TRAIN_SAMPLE_CLIENT),\n",
        "                        Test_dataset=create_data_for_clients(emnist_dataset,NUM_TEST_SAMPLE_CLIENT))\n",
        "  )"
      ],
      "execution_count": 23,
      "outputs": []
    },
    {
      "cell_type": "markdown",
      "metadata": {
        "id": "V9Jjje417iuZ"
      },
      "source": [
        "Show DataSet"
      ]
    },
    {
      "cell_type": "code",
      "metadata": {
        "id": "8CsXpPMR7icz"
      },
      "source": [
        "import matplotlib.pyplot as plt"
      ],
      "execution_count": 24,
      "outputs": []
    },
    {
      "cell_type": "code",
      "metadata": {
        "colab": {
          "base_uri": "https://localhost:8080/",
          "height": 444
        },
        "id": "7RO4LfKq72nf",
        "outputId": "4d0cb800-f408-4073-ced3-c393f0499a64"
      },
      "source": [
        "f = plt.figure(figsize=(12,7))\n",
        "for i in range(6):\n",
        "  client_dataset = clients[i].Train_dataset\n",
        "  plot_data = collections.defaultdict(list)\n",
        "  for label in client_dataset[1]:\n",
        "    plot_data[label].append(label)\n",
        "  plt.subplot(2,3,i+1)\n",
        "  plt.title('Client {}'.format(i))\n",
        "  for j in range(62):\n",
        "    plt.hist(\n",
        "        plot_data[j],\n",
        "        density = False,\n",
        "        bins = [x for x in range(63)]\n",
        "    )"
      ],
      "execution_count": 25,
      "outputs": [
        {
          "output_type": "display_data",
          "data": {
            "image/png": "[encoded data removed]",
            "text/plain": [
              "<Figure size 864x504 with 6 Axes>"
            ]
          },
          "metadata": {
            "tags": [],
            "needs_background": "light"
          }
        }
      ]
    },
    {
      "cell_type": "markdown",
      "metadata": {
        "id": "A5NIsOQgRp9h"
      },
      "source": [
        "Distance Between two models"
      ]
    },
    {
      "cell_type": "code",
      "metadata": {
        "id": "fX5rrSBk72Vw"
      },
      "source": [
        "def Distance(HookModel,TestModel):\n",
        "  len_it = len(HookModel.trainable_variables)\n",
        "  Hook_weights=[]\n",
        "  Test_weights=[]\n",
        "  for index in range(len_it):\n",
        "    Hook_weights.append(HookModel.trainable_variables[index].numpy())\n",
        "    Test_weights.append(TestModel.trainable_variables[index].numpy())\n",
        "  target = []\n",
        "  dis_norm2=[]\n",
        "  for i in range(len_it):\n",
        "    target.append(Hook_weights[i]-Test_weights[i])\n",
        "    dis_norm2.append(np.linalg.norm(target[i],2))\n",
        "  weight_weights = np.ones([len_it,1])\n",
        "  #调整权重\n",
        "  weight_weights[0]=0\n",
        "  weight_weights[1]=0\n",
        "  dis = np.dot(dis_norm2,weight_weights)\n",
        "  return dis\n",
        "  # return dis_norm2"
      ],
      "execution_count": 82,
      "outputs": []
    },
    {
      "cell_type": "code",
      "metadata": {
        "id": "KI9PCWxY716I"
      },
      "source": [
        "def BetterNode(clients,model,Total_NUM,FedAvg_NUM):\n",
        "  NodeDict=collections.OrderedDict()\n",
        "  for i in range(Total_NUM):\n",
        "    NodeDict[i] = Distance(model,clients[i].model)\n",
        "  Dlst = sorted(NodeDict.items(),key=lambda x:x[1])\n",
        "  NodeList = []\n",
        "  for i in range(FedAvg_NUM):\n",
        "    NodeList.append(Dlst[i][0])\n",
        "  return NodeList"
      ],
      "execution_count": 55,
      "outputs": []
    },
    {
      "cell_type": "markdown",
      "metadata": {
        "id": "7OmptaMzpR0P"
      },
      "source": [
        "# 阶段三：Clients 训练节点数据并聚合\n"
      ]
    },
    {
      "cell_type": "code",
      "metadata": {
        "id": "kr2PkfomvfWw"
      },
      "source": [
        ""
      ],
      "execution_count": null,
      "outputs": []
    },
    {
      "cell_type": "code",
      "metadata": {
        "id": "ve8Dc1KewGH_"
      },
      "source": [
        "def FedAvg(NUM_CLIENTS,model,FedAvg_NUM=7):\n",
        "  iterModel = model.copy()\n",
        "  len_it = len(iterModel.trainable_variables)\n",
        "  all_weights = []\n",
        "  FedNodeList=BetterNode(clients,iterModel,NUM_CLIENTS,FedAvg_NUM)\n",
        "  print(\"FedAvg Node is\",FedNodeList)\n",
        "  Cut=2\n",
        "  for c in range(Cut):\n",
        "    # tmp =np.array(iterModel.trainable_variables[c].numpy(),dtype='float64')\n",
        "    all_weights.append(iterModel.trainable_variables[c].numpy())\n",
        "\n",
        "  for weights_index in range(Cut,len_it):\n",
        "    tmp =np.zeros(iterModel.trainable_variables[weights_index].numpy().shape,dtype='float64')\n",
        "\n",
        "    for node in FedNodeList:\n",
        "      tmp += clients[node].model.trainable_variables[weights_index].numpy()\n",
        "    all_weights.append(tmp/FedAvg_NUM)\n",
        "  # print(all_weights)\n",
        "  iterModel_vars = iterModel.trainable_variables\n",
        "  for iter_v,n in zip(iterModel_vars,all_weights):\n",
        "    iter_v.assign(n)\n",
        "  return iterModel"
      ],
      "execution_count": 106,
      "outputs": []
    },
    {
      "cell_type": "code",
      "metadata": {
        "id": "jl3dF36dw2hC"
      },
      "source": [
        "NUM_EPOCHS = 10"
      ],
      "execution_count": 86,
      "outputs": []
    },
    {
      "cell_type": "code",
      "metadata": {
        "colab": {
          "base_uri": "https://localhost:8080/"
        },
        "id": "ocfoXDNgyTdP",
        "outputId": "4a2a4f8f-5a35-46a1-ca66-baafbf230077"
      },
      "source": [
        "for e in range(NUM_EPOCHS):\n",
        "  print(\"EPOCHS {} is starting...\".format(e))\n",
        "  for i in range(NUM_CLIENTS):\n",
        "    clients[i].ReceiveModel(SendModel.copy())\n",
        "    clients[i].NodeTrain()\n",
        "    # clients[i].NodeEval()\n",
        "    # DIS.append(Distance(SendModel,clients[i].model))\n",
        "  FedModel = FedAvg(NUM_CLIENTS,SendModel)\n",
        "  S.PreEval(FedModel,x_test,y_test)\n",
        "  SendModel = FedModel.copy()"
      ],
      "execution_count": 111,
      "outputs": [
        {
          "output_type": "stream",
          "text": [
            "EPOCHS 0 is starting...\n",
            "200/200 [==============================] - 1s 2ms/step - loss: 24.2973 - accuracy: 0.5004\n",
            "200/200 [==============================] - 1s 2ms/step - loss: 21.1363 - accuracy: 0.5058\n",
            "200/200 [==============================] - 1s 2ms/step - loss: 25.2859 - accuracy: 0.4907\n",
            "200/200 [==============================] - 1s 2ms/step - loss: 24.1244 - accuracy: 0.5017\n",
            "200/200 [==============================] - 1s 2ms/step - loss: 21.7442 - accuracy: 0.5179\n",
            "200/200 [==============================] - 1s 2ms/step - loss: 23.0168 - accuracy: 0.5034\n",
            "200/200 [==============================] - 1s 2ms/step - loss: 25.6066 - accuracy: 0.4944\n",
            "200/200 [==============================] - 1s 2ms/step - loss: 24.8198 - accuracy: 0.4996\n",
            "200/200 [==============================] - 1s 2ms/step - loss: 24.2104 - accuracy: 0.4983\n",
            "200/200 [==============================] - 1s 2ms/step - loss: 22.0345 - accuracy: 0.5218\n",
            "FedAvg Node is [2, 0, 6, 3, 7, 1, 8]\n",
            "313/313 [==============================] - 1s 1ms/step - loss: 0.6173 - accuracy: 0.8436\n",
            "EPOCHS 1 is starting...\n",
            "200/200 [==============================] - 1s 2ms/step - loss: 21.2135 - accuracy: 0.5076\n",
            "200/200 [==============================] - 1s 3ms/step - loss: 22.0979 - accuracy: 0.5042\n",
            "200/200 [==============================] - 1s 2ms/step - loss: 24.1859 - accuracy: 0.4920\n",
            "200/200 [==============================] - 1s 2ms/step - loss: 21.0795 - accuracy: 0.4980\n",
            "200/200 [==============================] - 1s 2ms/step - loss: 18.7558 - accuracy: 0.5187\n",
            "200/200 [==============================] - 1s 2ms/step - loss: 19.7809 - accuracy: 0.5033\n",
            "200/200 [==============================] - 1s 2ms/step - loss: 22.9797 - accuracy: 0.5110\n",
            "200/200 [==============================] - 1s 2ms/step - loss: 20.4456 - accuracy: 0.5146\n",
            "200/200 [==============================] - 1s 3ms/step - loss: 19.4927 - accuracy: 0.4986\n",
            "200/200 [==============================] - 1s 2ms/step - loss: 21.3730 - accuracy: 0.5096\n",
            "FedAvg Node is [2, 7, 0, 3, 8, 6, 5]\n",
            "313/313 [==============================] - 1s 1ms/step - loss: 0.6856 - accuracy: 0.8495\n",
            "EPOCHS 2 is starting...\n",
            "200/200 [==============================] - 1s 2ms/step - loss: 18.5794 - accuracy: 0.5113\n",
            "200/200 [==============================] - 4s 2ms/step - loss: 20.4827 - accuracy: 0.5207\n",
            "200/200 [==============================] - 1s 2ms/step - loss: 21.6594 - accuracy: 0.4984\n",
            "200/200 [==============================] - 1s 2ms/step - loss: 19.4973 - accuracy: 0.5133\n",
            "200/200 [==============================] - 1s 3ms/step - loss: 21.1673 - accuracy: 0.5307\n",
            "200/200 [==============================] - 1s 3ms/step - loss: 20.8697 - accuracy: 0.5109\n",
            "200/200 [==============================] - 1s 2ms/step - loss: 20.3195 - accuracy: 0.5174\n",
            "200/200 [==============================] - 1s 2ms/step - loss: 21.1612 - accuracy: 0.4974\n",
            "200/200 [==============================] - 1s 2ms/step - loss: 20.0723 - accuracy: 0.4988\n",
            "200/200 [==============================] - 1s 3ms/step - loss: 18.2543 - accuracy: 0.5233\n",
            "FedAvg Node is [2, 7, 8, 9, 0, 5, 6]\n",
            "313/313 [==============================] - 1s 2ms/step - loss: 0.7270 - accuracy: 0.8521\n",
            "EPOCHS 3 is starting...\n",
            "200/200 [==============================] - 1s 2ms/step - loss: 20.1081 - accuracy: 0.5207\n",
            "200/200 [==============================] - 1s 2ms/step - loss: 15.4026 - accuracy: 0.5255\n",
            "200/200 [==============================] - 1s 2ms/step - loss: 21.5144 - accuracy: 0.5157\n",
            "200/200 [==============================] - 1s 2ms/step - loss: 18.7663 - accuracy: 0.5162\n",
            "200/200 [==============================] - 1s 2ms/step - loss: 17.4645 - accuracy: 0.5099\n",
            "200/200 [==============================] - 1s 2ms/step - loss: 17.7956 - accuracy: 0.5189\n",
            "200/200 [==============================] - 1s 2ms/step - loss: 20.4727 - accuracy: 0.5179\n",
            "200/200 [==============================] - 1s 2ms/step - loss: 19.5226 - accuracy: 0.5120\n",
            "200/200 [==============================] - 1s 2ms/step - loss: 18.2828 - accuracy: 0.5065\n",
            "200/200 [==============================] - 1s 2ms/step - loss: 18.2555 - accuracy: 0.5211\n",
            "FedAvg Node is [4, 9, 0, 5, 2, 1, 3]\n",
            "313/313 [==============================] - 1s 1ms/step - loss: 0.7665 - accuracy: 0.8491\n",
            "EPOCHS 4 is starting...\n",
            "200/200 [==============================] - 1s 3ms/step - loss: 16.9516 - accuracy: 0.5336\n",
            "200/200 [==============================] - 1s 3ms/step - loss: 17.1684 - accuracy: 0.5156\n",
            "200/200 [==============================] - 1s 2ms/step - loss: 21.7584 - accuracy: 0.5107\n",
            "200/200 [==============================] - 1s 2ms/step - loss: 19.4244 - accuracy: 0.5189\n",
            "200/200 [==============================] - 1s 2ms/step - loss: 18.6693 - accuracy: 0.5231\n",
            "200/200 [==============================] - 1s 2ms/step - loss: 15.0226 - accuracy: 0.5197\n",
            "200/200 [==============================] - 1s 3ms/step - loss: 17.5687 - accuracy: 0.5244\n",
            "200/200 [==============================] - 1s 3ms/step - loss: 21.0891 - accuracy: 0.5192\n",
            "200/200 [==============================] - 1s 2ms/step - loss: 16.6937 - accuracy: 0.5219\n",
            "200/200 [==============================] - 1s 2ms/step - loss: 19.3718 - accuracy: 0.5274\n",
            "FedAvg Node is [8, 5, 1, 3, 4, 7, 9]\n",
            "313/313 [==============================] - 1s 1ms/step - loss: 0.8068 - accuracy: 0.8470\n",
            "EPOCHS 5 is starting...\n",
            "200/200 [==============================] - 1s 2ms/step - loss: 17.8453 - accuracy: 0.5177\n",
            "200/200 [==============================] - 1s 2ms/step - loss: 15.9334 - accuracy: 0.5254\n",
            "200/200 [==============================] - 1s 2ms/step - loss: 16.0403 - accuracy: 0.5201\n",
            "200/200 [==============================] - 1s 2ms/step - loss: 15.1035 - accuracy: 0.5408\n",
            "200/200 [==============================] - 1s 2ms/step - loss: 16.6968 - accuracy: 0.5121\n",
            "200/200 [==============================] - 1s 2ms/step - loss: 14.5035 - accuracy: 0.5286\n",
            "200/200 [==============================] - 1s 2ms/step - loss: 17.0632 - accuracy: 0.5184\n",
            "200/200 [==============================] - 1s 2ms/step - loss: 17.4845 - accuracy: 0.5184\n",
            "200/200 [==============================] - 1s 2ms/step - loss: 15.5640 - accuracy: 0.5202\n",
            "200/200 [==============================] - 1s 2ms/step - loss: 14.7276 - accuracy: 0.5436\n",
            "FedAvg Node is [1, 4, 9, 2, 7, 3, 5]\n",
            "313/313 [==============================] - 1s 1ms/step - loss: 0.8284 - accuracy: 0.8467\n",
            "EPOCHS 6 is starting...\n",
            "200/200 [==============================] - 1s 2ms/step - loss: 14.5084 - accuracy: 0.5352\n",
            "200/200 [==============================] - 1s 2ms/step - loss: 13.6308 - accuracy: 0.5391\n",
            "200/200 [==============================] - 1s 2ms/step - loss: 15.6707 - accuracy: 0.5282\n",
            "200/200 [==============================] - 1s 2ms/step - loss: 15.2379 - accuracy: 0.5435\n",
            "200/200 [==============================] - 1s 2ms/step - loss: 14.8074 - accuracy: 0.5290\n",
            "200/200 [==============================] - 1s 2ms/step - loss: 16.4485 - accuracy: 0.5231\n",
            "200/200 [==============================] - 1s 2ms/step - loss: 15.7882 - accuracy: 0.5149\n",
            "200/200 [==============================] - 1s 2ms/step - loss: 16.2057 - accuracy: 0.5341\n",
            "200/200 [==============================] - 1s 2ms/step - loss: 14.8686 - accuracy: 0.5200\n",
            "200/200 [==============================] - 1s 2ms/step - loss: 15.3890 - accuracy: 0.5330\n",
            "FedAvg Node is [8, 4, 6, 0, 5, 9, 1]\n",
            "313/313 [==============================] - 1s 1ms/step - loss: 0.8723 - accuracy: 0.8430\n",
            "EPOCHS 7 is starting...\n",
            "200/200 [==============================] - 1s 2ms/step - loss: 13.5066 - accuracy: 0.5355\n",
            "200/200 [==============================] - 1s 2ms/step - loss: 13.1715 - accuracy: 0.5346\n",
            "200/200 [==============================] - 1s 2ms/step - loss: 13.3731 - accuracy: 0.5308\n",
            "200/200 [==============================] - 1s 2ms/step - loss: 15.2066 - accuracy: 0.5439\n",
            "200/200 [==============================] - 1s 2ms/step - loss: 13.4242 - accuracy: 0.5358\n",
            "200/200 [==============================] - 1s 2ms/step - loss: 13.6349 - accuracy: 0.5448\n",
            "200/200 [==============================] - 1s 2ms/step - loss: 15.3325 - accuracy: 0.5262\n",
            "200/200 [==============================] - 1s 2ms/step - loss: 16.4000 - accuracy: 0.5253\n",
            "200/200 [==============================] - 1s 2ms/step - loss: 14.7537 - accuracy: 0.5271\n",
            "200/200 [==============================] - 1s 2ms/step - loss: 13.3455 - accuracy: 0.5474\n",
            "FedAvg Node is [2, 8, 9, 3, 1, 7, 5]\n",
            "313/313 [==============================] - 1s 1ms/step - loss: 0.8946 - accuracy: 0.8439\n",
            "EPOCHS 8 is starting...\n",
            "200/200 [==============================] - 1s 2ms/step - loss: 14.0789 - accuracy: 0.5583\n",
            "200/200 [==============================] - 1s 3ms/step - loss: 12.8636 - accuracy: 0.5501\n",
            "200/200 [==============================] - 1s 2ms/step - loss: 14.1442 - accuracy: 0.5324\n",
            "200/200 [==============================] - 1s 2ms/step - loss: 13.5872 - accuracy: 0.5445\n",
            "200/200 [==============================] - 1s 3ms/step - loss: 12.0021 - accuracy: 0.5527\n",
            "200/200 [==============================] - 1s 2ms/step - loss: 13.8719 - accuracy: 0.5443\n",
            "200/200 [==============================] - 1s 2ms/step - loss: 16.6237 - accuracy: 0.5372\n",
            "200/200 [==============================] - 1s 2ms/step - loss: 16.3142 - accuracy: 0.5371\n",
            "200/200 [==============================] - 1s 2ms/step - loss: 12.8097 - accuracy: 0.5361\n",
            "200/200 [==============================] - 1s 2ms/step - loss: 13.6686 - accuracy: 0.5576\n",
            "FedAvg Node is [1, 5, 2, 4, 7, 3, 9]\n",
            "313/313 [==============================] - 1s 1ms/step - loss: 0.9375 - accuracy: 0.8264\n",
            "EPOCHS 9 is starting...\n",
            "200/200 [==============================] - 1s 3ms/step - loss: 11.7926 - accuracy: 0.5524\n",
            "200/200 [==============================] - 1s 3ms/step - loss: 12.6116 - accuracy: 0.5415\n",
            "200/200 [==============================] - 1s 3ms/step - loss: 12.2195 - accuracy: 0.5386\n",
            "200/200 [==============================] - 1s 3ms/step - loss: 12.1915 - accuracy: 0.5617\n",
            "200/200 [==============================] - 1s 2ms/step - loss: 13.1055 - accuracy: 0.5434\n",
            "200/200 [==============================] - 1s 3ms/step - loss: 10.9455 - accuracy: 0.5562\n",
            "200/200 [==============================] - 1s 2ms/step - loss: 12.6776 - accuracy: 0.5384\n",
            "200/200 [==============================] - 1s 2ms/step - loss: 13.4734 - accuracy: 0.5484\n",
            "200/200 [==============================] - 1s 2ms/step - loss: 11.5547 - accuracy: 0.5592\n",
            "200/200 [==============================] - 1s 2ms/step - loss: 11.1401 - accuracy: 0.5624\n",
            "FedAvg Node is [8, 1, 4, 5, 0, 3, 9]\n",
            "313/313 [==============================] - 1s 1ms/step - loss: 0.9609 - accuracy: 0.8275\n"
          ],
          "name": "stdout"
        }
      ]
    },
    {
      "cell_type": "markdown",
      "metadata": {
        "id": "7Wefk859SVCz"
      },
      "source": [
        "## 节点训练\n",
        "OK！fine,我这两天就是为了实现一个循环。。。\n",
        "真他娘的丢人"
      ]
    },
    {
      "cell_type": "code",
      "metadata": {
        "id": "BqZPIlu6QQjN"
      },
      "source": [
        "for i in range(NUM_CLIENTS):\n",
        "  clients[i].ReceiveModel(a.copy())\n",
        "  clients[i].NodeTrain()"
      ],
      "execution_count": null,
      "outputs": []
    },
    {
      "cell_type": "code",
      "metadata": {
        "colab": {
          "base_uri": "https://localhost:8080/"
        },
        "id": "WoYtJOhkROaV",
        "outputId": "f22e3092-0849-4303-e944-f590c62aa997"
      },
      "source": [
        "for i in range(NUM_CLIENTS):\n",
        "  print(\"Node {} is evaluating...\".format(i))\n",
        "  clients[i].NodeEval()\n",
        "  ##虽然这个步骤没啥用"
      ],
      "execution_count": null,
      "outputs": [
        {
          "output_type": "stream",
          "text": [
            "Node 0 is evaluating...\n",
            "313/313 [==============================] - 0s 1ms/step - loss: 0.3676 - accuracy: 0.9269\n",
            "Node 1 is evaluating...\n",
            "313/313 [==============================] - 0s 1ms/step - loss: 0.3695 - accuracy: 0.9273\n",
            "Node 2 is evaluating...\n",
            "313/313 [==============================] - 0s 1ms/step - loss: 0.5132 - accuracy: 0.9271\n",
            "Node 3 is evaluating...\n",
            "313/313 [==============================] - 0s 1ms/step - loss: 0.3902 - accuracy: 0.9242\n",
            "Node 4 is evaluating...\n",
            "313/313 [==============================] - 0s 1ms/step - loss: 0.4435 - accuracy: 0.9231\n",
            "Node 5 is evaluating...\n",
            "313/313 [==============================] - 1s 1ms/step - loss: 0.3814 - accuracy: 0.9300\n",
            "Node 6 is evaluating...\n",
            "313/313 [==============================] - 0s 1ms/step - loss: 0.3722 - accuracy: 0.9262\n",
            "Node 7 is evaluating...\n",
            "313/313 [==============================] - 0s 1ms/step - loss: 0.3679 - accuracy: 0.9250\n",
            "Node 8 is evaluating...\n",
            "313/313 [==============================] - 0s 1ms/step - loss: 0.4051 - accuracy: 0.9242\n",
            "Node 9 is evaluating...\n",
            "313/313 [==============================] - 0s 1ms/step - loss: 0.3989 - accuracy: 0.9185\n"
          ],
          "name": "stdout"
        }
      ]
    },
    {
      "cell_type": "code",
      "metadata": {
        "id": "PXF-zOUIZGDO"
      },
      "source": [
        "def DiffModel(model1,model2,layer_name,w_vs_b=0):\n",
        "  l1 = model1.get_layer(layer_name).get_weights()[w_vs_b].reshape([-1,])\n",
        "  l2 = model2.get_layer(layer_name).get_weights()[w_vs_b].reshape([-1,])\n",
        "  # l1 = model1.trainable_variables\n",
        "  # l2 = model2.trainable_variables\n",
        "  # print(l1)\n",
        "  l1.shape\n",
        "  # l1 = l1.reshape([-1,])\n",
        "  # l2 = l2.reshape([-1,])\n",
        "  for i in range(len(l1)):\n",
        "    if l1[i]!=l2[i]:\n",
        "      print(\"NOT SAME MODEL\")\n",
        "      return"
      ],
      "execution_count": null,
      "outputs": []
    },
    {
      "cell_type": "code",
      "metadata": {
        "colab": {
          "base_uri": "https://localhost:8080/"
        },
        "id": "WYehgejDZJZw",
        "outputId": "f8c651dd-b7b4-41a7-f3ca-67afd9d626cd"
      },
      "source": [
        "DiffModel(clients[0].model,clients[1].model,'dense_1')"
      ],
      "execution_count": null,
      "outputs": [
        {
          "output_type": "stream",
          "text": [
            "NOT SAME MODEL\n"
          ],
          "name": "stdout"
        }
      ]
    },
    {
      "cell_type": "markdown",
      "metadata": {
        "id": "rpREw9q5Se9f"
      },
      "source": [
        "## 模型聚合 FedAvg\n",
        "THIS IS THE MOST IMPORANT！"
      ]
    },
    {
      "cell_type": "code",
      "metadata": {
        "id": "2RRqKgiqSRFF"
      },
      "source": [
        "##先实现普通聚合，再考虑距离问题"
      ],
      "execution_count": null,
      "outputs": []
    },
    {
      "cell_type": "code",
      "metadata": {
        "colab": {
          "base_uri": "https://localhost:8080/"
        },
        "id": "bIOKI885TN31",
        "outputId": "75a8957a-2d67-49f9-d0a1-d340a623ce3f"
      },
      "source": [
        "# clients[0].Train_dataset[0].shape"
      ],
      "execution_count": null,
      "outputs": [
        {
          "output_type": "execute_result",
          "data": {
            "text/plain": [
              "(60000, 28, 28)"
            ]
          },
          "metadata": {
            "tags": []
          },
          "execution_count": 182
        }
      ]
    },
    {
      "cell_type": "code",
      "metadata": {
        "colab": {
          "base_uri": "https://localhost:8080/"
        },
        "id": "P9fgFEGKT41m",
        "outputId": "e4c6fb02-b699-4c76-a013-0163740fe1e8"
      },
      "source": [
        "# a_1 = a.trainable_variables\n",
        "# b_1 = clients[0].model.trainable_variables\n",
        "# for _a,_b in zip(a_1,b_1):\n",
        "#   # print(_a,_b,'\\n')\n",
        "#   print(type(_a))"
      ],
      "execution_count": null,
      "outputs": [
        {
          "output_type": "stream",
          "text": [
            "<class 'tensorflow.python.eager.def_function.UnliftedInitializerVariable'>\n",
            "<class 'tensorflow.python.eager.def_function.UnliftedInitializerVariable'>\n",
            "<class 'tensorflow.python.eager.def_function.UnliftedInitializerVariable'>\n",
            "<class 'tensorflow.python.eager.def_function.UnliftedInitializerVariable'>\n"
          ],
          "name": "stdout"
        }
      ]
    },
    {
      "cell_type": "code",
      "metadata": {
        "id": "UJUbvaVsZP4P"
      },
      "source": [
        "# tmp = a_1[0]\n",
        "# tmp2 = b_1[0]"
      ],
      "execution_count": null,
      "outputs": []
    },
    {
      "cell_type": "code",
      "metadata": {
        "colab": {
          "base_uri": "https://localhost:8080/"
        },
        "id": "HYDG5UaqZP1s",
        "outputId": "f27ff669-b776-488d-f1a6-85d06edbf27e"
      },
      "source": [
        "# print(tmp.name)\n",
        "# print(tmp2.name)"
      ],
      "execution_count": null,
      "outputs": [
        {
          "output_type": "stream",
          "text": [
            "fl_model_57/dense_1/kernel:0\n",
            "fl_model_60/dense_1/kernel:0\n"
          ],
          "name": "stdout"
        }
      ]
    },
    {
      "cell_type": "code",
      "metadata": {
        "colab": {
          "base_uri": "https://localhost:8080/"
        },
        "id": "1MCj2AqXZPzY",
        "outputId": "0102b751-5f6c-4f17-d7fb-361d68ba5c3c"
      },
      "source": [
        "# tmp.numpy()"
      ],
      "execution_count": null,
      "outputs": [
        {
          "output_type": "execute_result",
          "data": {
            "text/plain": [
              "array([[-0.07970653,  0.07991762,  0.05910995, ...,  0.0579403 ,\n",
              "         0.0321511 ,  0.02421231],\n",
              "       [-0.05695383,  0.03625515, -0.06860252, ...,  0.02591816,\n",
              "         0.04554088,  0.02055327],\n",
              "       [-0.01783558, -0.04462572, -0.02057564, ...,  0.02187481,\n",
              "        -0.04054561, -0.02853347],\n",
              "       ...,\n",
              "       [-0.05783828, -0.05880497,  0.07976013, ..., -0.03510847,\n",
              "        -0.03695404,  0.03616227],\n",
              "       [-0.06651882,  0.02818294, -0.02726433, ..., -0.05769905,\n",
              "        -0.04426115, -0.00901749],\n",
              "       [-0.01624558,  0.05673347, -0.07569796, ..., -0.05263541,\n",
              "        -0.0753431 , -0.04903179]], dtype=float32)"
            ]
          },
          "metadata": {
            "tags": []
          },
          "execution_count": 198
        }
      ]
    },
    {
      "cell_type": "code",
      "metadata": {
        "colab": {
          "base_uri": "https://localhost:8080/"
        },
        "id": "3kMMoHjAg6ZA",
        "outputId": "7530bd17-18dd-4904-93c1-a465a682b56e"
      },
      "source": [
        "# tmp.numpy().shape"
      ],
      "execution_count": null,
      "outputs": [
        {
          "output_type": "execute_result",
          "data": {
            "text/plain": [
              "(784, 128)"
            ]
          },
          "metadata": {
            "tags": []
          },
          "execution_count": 203
        }
      ]
    },
    {
      "cell_type": "code",
      "metadata": {
        "id": "szwdWjJOhhPO"
      },
      "source": [
        "#  tmp2 =np.zeros(a.trainable_variables[0].numpy().shape,dtype='float64')"
      ],
      "execution_count": null,
      "outputs": []
    },
    {
      "cell_type": "code",
      "metadata": {
        "colab": {
          "base_uri": "https://localhost:8080/"
        },
        "id": "ThtNgQgrhncc",
        "outputId": "cc972f15-4527-4670-a94a-98797e7e253f"
      },
      "source": [
        "# tmp2.shape"
      ],
      "execution_count": null,
      "outputs": [
        {
          "output_type": "execute_result",
          "data": {
            "text/plain": [
              "(784, 128)"
            ]
          },
          "metadata": {
            "tags": []
          },
          "execution_count": 213
        }
      ]
    },
    {
      "cell_type": "code",
      "metadata": {
        "id": "YopyPHTFZPw0"
      },
      "source": [
        "#聚合先不考虑权重\n",
        "def FedAvg(NUM_CLIENTS):\n",
        "  iterModel = a.copy()\n",
        "  len_it = len(iterModel.trainable_variables)\n",
        "  all_weights = []\n",
        "  for weights_index in range(len_it):\n",
        "    tmp =np.zeros(iterModel.trainable_variables[weights_index].numpy().shape,dtype='float64')\n",
        "\n",
        "    for node in range(NUM_CLIENTS):\n",
        "      tmp += clients[node].model.trainable_variables[weights_index].numpy()\n",
        "    all_weights.append(tmp)\n",
        "  # print(all_weights)\n",
        "  iterModel_vars = iterModel.trainable_variables\n",
        "  for iter_v,n in zip(iterModel_vars,all_weights):\n",
        "    iter_v.assign(n)\n",
        "  return iterModel"
      ],
      "execution_count": null,
      "outputs": []
    },
    {
      "cell_type": "code",
      "metadata": {
        "id": "FlyPcfg2ZPuM"
      },
      "source": [
        "fedmodel = FedAvg(10)"
      ],
      "execution_count": null,
      "outputs": []
    },
    {
      "cell_type": "code",
      "metadata": {
        "id": "Y4fq1H9TZPq2"
      },
      "source": [
        "#昨天留的任务是如何把聚合后的numpy数组，转到模型中"
      ],
      "execution_count": null,
      "outputs": []
    },
    {
      "cell_type": "code",
      "metadata": {
        "colab": {
          "base_uri": "https://localhost:8080/"
        },
        "id": "6EWPH4k7RSYB",
        "outputId": "bbcaabfd-3c96-4aa0-9829-78d0eb485287"
      },
      "source": [
        "S.PreEval(fedmodel,x_test,y_test)"
      ],
      "execution_count": null,
      "outputs": [
        {
          "output_type": "stream",
          "text": [
            "313/313 [==============================] - 1s 1ms/step - loss: 7.8235 - accuracy: 0.2031\n"
          ],
          "name": "stdout"
        }
      ]
    },
    {
      "cell_type": "code",
      "metadata": {
        "colab": {
          "base_uri": "https://localhost:8080/"
        },
        "id": "j_8dKE06KK4e",
        "outputId": "67908246-b8a4-4577-bd63-5c230caa5209"
      },
      "source": [
        "len(fed)"
      ],
      "execution_count": null,
      "outputs": [
        {
          "output_type": "execute_result",
          "data": {
            "text/plain": [
              "4"
            ]
          },
          "metadata": {
            "tags": []
          },
          "execution_count": 125
        }
      ]
    }
  ]
}