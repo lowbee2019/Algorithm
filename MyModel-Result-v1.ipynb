{
  "nbformat": 4,
  "nbformat_minor": 0,
  "metadata": {
    "colab": {
      "name": "Copy of MyModel.ipynb",
      "provenance": [],
      "collapsed_sections": [
        "MwmKo3gLrI-i",
        "En8MczNik638"
      ],
      "authorship_tag": "ABX9TyN1PqTVkRCAG79qihoCF5IX",
      "include_colab_link": true
    },
    "kernelspec": {
      "display_name": "Python 3",
      "name": "python3"
    },
    "language_info": {
      "name": "python"
    }
  },
  "cells": [
    {
      "cell_type": "markdown",
      "metadata": {
        "id": "view-in-github",
        "colab_type": "text"
      },
      "source": [
        "<a href=\"https://colab.research.google.com/github/lowbee2019/Algorithm/blob/master/MyModel-Result-v1.ipynb\" target=\"_parent\"><img src=\"https://colab.research.google.com/assets/colab-badge.svg\" alt=\"Open In Colab\"/></a>"
      ]
    },
    {
      "cell_type": "code",
      "metadata": {
        "colab": {
          "base_uri": "https://localhost:8080/"
        },
        "id": "uoFhItkFEsF8",
        "outputId": "832073e5-a347-4df9-fca3-e5f4eb86ade8"
      },
      "source": [
        "!pip install emnist"
      ],
      "execution_count": null,
      "outputs": [
        {
          "output_type": "stream",
          "text": [
            "Requirement already satisfied: emnist in /usr/local/lib/python3.7/dist-packages (0.0)\n",
            "Requirement already satisfied: numpy in /usr/local/lib/python3.7/dist-packages (from emnist) (1.19.5)\n",
            "Requirement already satisfied: requests in /usr/local/lib/python3.7/dist-packages (from emnist) (2.23.0)\n",
            "Requirement already satisfied: tqdm in /usr/local/lib/python3.7/dist-packages (from emnist) (4.41.1)\n",
            "Requirement already satisfied: urllib3!=1.25.0,!=1.25.1,<1.26,>=1.21.1 in /usr/local/lib/python3.7/dist-packages (from requests->emnist) (1.24.3)\n",
            "Requirement already satisfied: chardet<4,>=3.0.2 in /usr/local/lib/python3.7/dist-packages (from requests->emnist) (3.0.4)\n",
            "Requirement already satisfied: certifi>=2017.4.17 in /usr/local/lib/python3.7/dist-packages (from requests->emnist) (2020.12.5)\n",
            "Requirement already satisfied: idna<3,>=2.5 in /usr/local/lib/python3.7/dist-packages (from requests->emnist) (2.10)\n"
          ],
          "name": "stdout"
        }
      ]
    },
    {
      "cell_type": "code",
      "metadata": {
        "id": "9e4So1L3pPWp"
      },
      "source": [
        "import tensorflow as tf\n",
        "import numpy as np\n",
        "from tensorflow import keras\n",
        "import collections\n",
        "import copy\n",
        "import random\n",
        "import emnist"
      ],
      "execution_count": null,
      "outputs": []
    },
    {
      "cell_type": "markdown",
      "metadata": {
        "id": "YQaIGTfxmSfi"
      },
      "source": [
        "# Server Initialization"
      ]
    },
    {
      "cell_type": "code",
      "metadata": {
        "id": "PTK_p961nsA5"
      },
      "source": [
        "class ParamServer(object):\n",
        "  def __init__(self,init_model_path):\n",
        "    self.init_model_path = init_model_path\n",
        "    self.round = 0\n",
        "    self.optimizer=\"adam\"\n",
        "    self.loss = \"sparse_categorical_crossentropy\"\n",
        "    self.metrics =['accuracy']\n",
        "    self.loss_acc=[]\n",
        "\n",
        "  def PreTrain(self,model,data,labels,batch_size=32,epochs=5):\n",
        "    model.compile(optimizer=self.optimizer,\n",
        "                  loss=self.loss,\n",
        "                  metrics=self.metrics)\n",
        "    _metrics = model.fit(data,labels,batch_size,epochs)\n",
        "    return model\n",
        "  \n",
        "  def PreEval(self,model,test_data,test_labels):\n",
        "    model.compile(optimizer=self.optimizer,\n",
        "                  loss=self.loss,\n",
        "                  metrics=self.metrics)\n",
        "    self.loss_acc.append(model.evaluate(test_data,test_labels))\n"
      ],
      "execution_count": null,
      "outputs": []
    },
    {
      "cell_type": "markdown",
      "metadata": {
        "id": "iRvlGAmjmxbw"
      },
      "source": [
        "## Mnist数据集的预处理"
      ]
    },
    {
      "cell_type": "code",
      "metadata": {
        "id": "6b0_4VEYnemW"
      },
      "source": [
        "mnist = tf.keras.datasets.mnist\n",
        "train,test = mnist.load_data()\n",
        "x_train,y_train = train\n",
        "x_test,y_test = test\n",
        "x_train,x_test = x_train/255.0,x_test/255.0"
      ],
      "execution_count": null,
      "outputs": []
    },
    {
      "cell_type": "code",
      "metadata": {
        "colab": {
          "base_uri": "https://localhost:8080/"
        },
        "id": "f9537dMSO_C_",
        "outputId": "0fc3725a-b81f-4e6d-968b-a6ab3f127e47"
      },
      "source": [
        "x_train.shape"
      ],
      "execution_count": null,
      "outputs": [
        {
          "output_type": "execute_result",
          "data": {
            "text/plain": [
              "(60000, 28, 28)"
            ]
          },
          "metadata": {
            "tags": []
          },
          "execution_count": 5
        }
      ]
    },
    {
      "cell_type": "markdown",
      "metadata": {
        "id": "2L712LCIm6Vv"
      },
      "source": [
        "## 模型的定义"
      ]
    },
    {
      "cell_type": "code",
      "metadata": {
        "id": "C0noj5RjmF0i"
      },
      "source": [
        "class FLModel(tf.keras.Model):\n",
        "  def __init__(self,row,col,num_classes=62,*args,**kwargs):\n",
        "    super(FLModel,self).__init__(*args,**kwargs)\n",
        "    self.row = row\n",
        "    self.col = col\n",
        "    self.num_classes = num_classes\n",
        "    self.flatten = tf.keras.layers.Flatten(input_shape=(row,col))\n",
        "    self.dense_1 = tf.keras.layers.Dense(500,activation='relu',name=\"dense_1\")\n",
        "    self.dense_2 = tf.keras.layers.Dense(num_classes,activation='softmax',name=\"dense_2\")\n",
        "    self.drop = tf.keras.layers.Dropout(0.2)\n",
        "\n",
        "\n",
        "  def call(self,inputs):\n",
        "    x = self.flatten(inputs)\n",
        "    x = self.dense_1(x)\n",
        "    x = self.drop(x)\n",
        "    x = self.dense_2(x)\n",
        "    return x\n",
        "  \n",
        "  def copy(self):\n",
        "    NewModel = FLModel(self.row,self.col,self.num_classes)\n",
        "    _ = NewModel(np.expand_dims(tf.zeros([self.row,self.col]),0))\n",
        "    ##Layers\n",
        "    NewVars = NewModel.trainable_variables #此处为空列表，因为没有训练,这个地方参数传递是不是有问题\n",
        "    OldVars = self.trainable_variables\n",
        "    for n,o in zip(NewVars,OldVars):\n",
        "      n.assign(o.numpy())\n",
        "    return NewModel\n",
        "\n",
        "  # def compute_output_shape(self,input_shape):\n",
        "  #   shape = tf.TensorShape(input_shape).as_list()\n",
        "  #   shape[-1] = self.num_classes\n",
        "  #   return tf.TensorShape(shape)"
      ],
      "execution_count": null,
      "outputs": []
    },
    {
      "cell_type": "code",
      "metadata": {
        "id": "8-_EOR39lCAk"
      },
      "source": [
        ""
      ],
      "execution_count": null,
      "outputs": []
    },
    {
      "cell_type": "markdown",
      "metadata": {
        "id": "Z5LMvoXcoiz2"
      },
      "source": [
        "#Client Initialization\n",
        "模型训练和评估都要重写"
      ]
    },
    {
      "cell_type": "code",
      "metadata": {
        "id": "Hvu8wCjbooCF"
      },
      "source": [
        "class Client(object):\n",
        "  def __init__(self,id,model=None,Train_dataset=None,Test_dataset=None):\n",
        "    self.id = id\n",
        "    self.model = model\n",
        "    self.Train_dataset = Train_dataset\n",
        "    self.Test_dataset = Test_dataset\n",
        "    # from ParamServer\n",
        "    self.ParamModel = None\n",
        "    self.num_epochs = 5\n",
        "    self.batch_size = 32\n",
        "    self.shuffle_buffer = 100\n",
        "    self.prefetch_buffer = 10\n",
        "    ## \n",
        "\n",
        "\n",
        "  def ReceiveModel(self,ParamModel,num_epochs=1,batch_size=32,shuffle_buffer=100,prefetch_buffer=10):\n",
        "    self.ParamModel = ParamModel\n",
        "    self.num_epochs = num_epochs\n",
        "    self.batch_size = batch_size\n",
        "    self.shuffle_buffer = shuffle_buffer\n",
        "    self.prefetch_buffer = prefetch_buffer\n",
        "  \n",
        "\n",
        "  def preprocess(self,dataset):\n",
        "    def batch_format_fn(element):\n",
        "      return collections.OrderedDict(\n",
        "            \n",
        "            x = tf.reshape(element['pixels'],[-1,784]),\n",
        "            y = tf.reshape(element['label'],[-1,1])\n",
        "          )\n",
        "    return dataset.repeat(self.num_epochs).shuffle(self.shuffle_buffer).batch(\n",
        "        self.batch_size).map(batch_format_fn).prefetch(self.prefetch_buffer)\n",
        "\n",
        "  def NodeTrain(self):\n",
        "    model = self.ParamModel\n",
        "    # pre_data = self.preprocess(self.Train_dataset)\n",
        "    # print(type(pre_data))\n",
        "    # model.fit(x=pre_data['x'],y=pre_data['y'],batch_size=self.batch_size,epochs=self.num_epochs)\n",
        "    # x = np.array([i['pixels'].numpy() for i in self.Train_dataset])\n",
        "    # y = np.array([i['label'].numpy() for i in self.Train_dataset])\n",
        "    x,y = self.Train_dataset\n",
        "    model.compile(\n",
        "        optimizer='adam',\n",
        "        loss='sparse_categorical_crossentropy',\n",
        "        metrics=['accuracy'])\n",
        "    _metrics = model.fit(x,y,batch_size=self.batch_size,epochs=self.num_epochs)\n",
        "    self.model = model\n",
        "\n",
        "  def NodeEval(self):\n",
        "    x,y = self.Test_dataset\n",
        "    self.model.evaluate(x,y)\n"
      ],
      "execution_count": null,
      "outputs": []
    },
    {
      "cell_type": "markdown",
      "metadata": {
        "id": "MwmKo3gLrI-i"
      },
      "source": [
        "# 阶段一：为Client分配数据（预处理工作）"
      ]
    },
    {
      "cell_type": "markdown",
      "metadata": {
        "id": "En8MczNik638"
      },
      "source": [
        "#阶段一：服务器完成模型初始化"
      ]
    },
    {
      "cell_type": "code",
      "metadata": {
        "id": "VcXnArpEjnnA"
      },
      "source": [
        "# emnist_dataset = emnist.extract_training_samples('byclass')"
      ],
      "execution_count": null,
      "outputs": []
    },
    {
      "cell_type": "code",
      "metadata": {
        "id": "9hJfX3uOyMGH"
      },
      "source": [
        "emnist_dataset = emnist.extract_training_samples('letters')"
      ],
      "execution_count": null,
      "outputs": []
    },
    {
      "cell_type": "code",
      "metadata": {
        "id": "yNlCcKrZuraD"
      },
      "source": [
        "emnist_dataset = (emnist_dataset[0]/255.0,emnist_dataset[1]+9)"
      ],
      "execution_count": null,
      "outputs": []
    },
    {
      "cell_type": "code",
      "metadata": {
        "colab": {
          "base_uri": "https://localhost:8080/"
        },
        "id": "eIIY87nj1RBg",
        "outputId": "07365ee9-878b-4e91-e749-e6bcdca9d101"
      },
      "source": [
        "set(emnist_dataset[1])"
      ],
      "execution_count": null,
      "outputs": [
        {
          "output_type": "execute_result",
          "data": {
            "text/plain": [
              "{10,\n",
              " 11,\n",
              " 12,\n",
              " 13,\n",
              " 14,\n",
              " 15,\n",
              " 16,\n",
              " 17,\n",
              " 18,\n",
              " 19,\n",
              " 20,\n",
              " 21,\n",
              " 22,\n",
              " 23,\n",
              " 24,\n",
              " 25,\n",
              " 26,\n",
              " 27,\n",
              " 28,\n",
              " 29,\n",
              " 30,\n",
              " 31,\n",
              " 32,\n",
              " 33,\n",
              " 34,\n",
              " 35}"
            ]
          },
          "metadata": {
            "tags": []
          },
          "execution_count": 197
        }
      ]
    },
    {
      "cell_type": "code",
      "metadata": {
        "id": "GYETYI7g-In_"
      },
      "source": [
        "def create_data_for_clients(BasicSet,Num,TuneSet=train,TargetRate=0.7):\n",
        "  #Alpha: 需要掺入mnist的占比\n",
        "  #Beta: Emnist中数字的占比\n",
        "  # Beta = 34.0/73.0\n",
        "  Beta = 0\n",
        "  if TargetRate < Beta:\n",
        "    Alpha = 0\n",
        "  else:\n",
        "    Alpha = (TargetRate-Beta)/(1-Beta)\n",
        "  TuneNum = int(Alpha*Num)\n",
        "  BasicNum = Num-TuneNum\n",
        "  x_sequence = []\n",
        "  y_sequence = []\n",
        "  print(TuneNum,BasicNum)\n",
        "  if TuneNum > 0:\n",
        "    for i in range(TuneNum):\n",
        "      index = random.randint(0,len(TuneSet[0])-1)\n",
        "      x_sequence.append(TuneSet[0][index])\n",
        "      y_sequence.append(TuneSet[1][index])\n",
        "  if BasicNum > 0:\n",
        "    for i in range(BasicNum):\n",
        "      index = random.randint(0,len(BasicSet[0])-1)\n",
        "      x_sequence.append(BasicSet[0][index])\n",
        "      y_sequence.append(BasicSet[1][index])\n",
        "  return (np.array(x_sequence),np.array(y_sequence))"
      ],
      "execution_count": null,
      "outputs": []
    },
    {
      "cell_type": "code",
      "metadata": {
        "id": "jlR96ORjbt5V"
      },
      "source": [
        "# def create_data_for_clients(BasicSet,Num):\n",
        "#   x_sequence = []\n",
        "#   y_sequence = []\n",
        "#   for i in range(Num):\n",
        "#     index = random.randint(0,Num-1)\n",
        "#     x_sequence.append(BasicSet[0][index])\n",
        "#     y_sequence.append(BasicSet[1][index])\n",
        "#   return (np.array(x_sequence),np.array(y_sequence))"
      ],
      "execution_count": null,
      "outputs": []
    },
    {
      "cell_type": "code",
      "metadata": {
        "id": "QE_WXcMMt1kP"
      },
      "source": [
        "NUM_CLIENTS = 12\n",
        "NUM_TRAIN_SAMPLE_CLIENT = 2560\n",
        "NUM_TEST_SAMPLE_CLIENT = 256"
      ],
      "execution_count": null,
      "outputs": []
    },
    {
      "cell_type": "code",
      "metadata": {
        "id": "-Tmf__umcO1l",
        "colab": {
          "base_uri": "https://localhost:8080/"
        },
        "outputId": "2ccae9c0-183a-4a92-dade-417d5583640e"
      },
      "source": [
        "clients=[]\n",
        "for i in range(NUM_CLIENTS):\n",
        "  clients.append(Client(i,\n",
        "                        Train_dataset=create_data_for_clients(emnist_dataset,NUM_TRAIN_SAMPLE_CLIENT,TargetRate=random.random()),\n",
        "                        Test_dataset=create_data_for_clients(emnist_dataset,NUM_TEST_SAMPLE_CLIENT))\n",
        "  )"
      ],
      "execution_count": null,
      "outputs": [
        {
          "output_type": "stream",
          "text": [
            "2143 417\n",
            "179 77\n",
            "2057 503\n",
            "179 77\n",
            "619 1941\n",
            "179 77\n",
            "1114 1446\n",
            "179 77\n",
            "96 2464\n",
            "179 77\n",
            "898 1662\n",
            "179 77\n",
            "800 1760\n",
            "179 77\n",
            "274 2286\n",
            "179 77\n",
            "1359 1201\n",
            "179 77\n",
            "1151 1409\n",
            "179 77\n",
            "1385 1175\n",
            "179 77\n",
            "372 2188\n",
            "179 77\n"
          ],
          "name": "stdout"
        }
      ]
    },
    {
      "cell_type": "markdown",
      "metadata": {
        "id": "V9Jjje417iuZ"
      },
      "source": [
        "Show DataSet"
      ]
    },
    {
      "cell_type": "code",
      "metadata": {
        "id": "8CsXpPMR7icz"
      },
      "source": [
        "import matplotlib.pyplot as plt"
      ],
      "execution_count": null,
      "outputs": []
    },
    {
      "cell_type": "code",
      "metadata": {
        "colab": {
          "base_uri": "https://localhost:8080/",
          "height": 879
        },
        "id": "7RO4LfKq72nf",
        "outputId": "a08edcee-3d6b-4233-d7b8-e281ee0d9325"
      },
      "source": [
        "f = plt.figure(figsize=(15,15))\n",
        "for i in range(NUM_CLIENTS):\n",
        "  client_dataset = clients[i].Train_dataset\n",
        "  plot_data = collections.defaultdict(list)\n",
        "  for label in client_dataset[1]:\n",
        "    plot_data[label].append(label)\n",
        "  plt.subplot(3,4,i+1)\n",
        "  plt.title('Client {}'.format(i))\n",
        "  for j in range(len(plot_data)):\n",
        "    plt.hist(\n",
        "        plot_data[j],\n",
        "        density = False,\n",
        "        bins = [x for x in range(len(plot_data)+1)]\n",
        "    )"
      ],
      "execution_count": null,
      "outputs": [
        {
          "output_type": "display_data",
          "data": {
            "image/png": "[encoded data removed]",
            "text/plain": [
              "<Figure size 1080x1080 with 12 Axes>"
            ]
          },
          "metadata": {
            "tags": [],
            "needs_background": "light"
          }
        }
      ]
    },
    {
      "cell_type": "markdown",
      "metadata": {
        "id": "JfqcXNr8jqi1"
      },
      "source": [
        "显示一下数字与字母的对比\n"
      ]
    },
    {
      "cell_type": "code",
      "metadata": {
        "colab": {
          "base_uri": "https://localhost:8080/",
          "height": 862
        },
        "id": "SkJ-l1ZSjpWf",
        "outputId": "09b8eef7-cc68-44df-dfcf-f9e390b9afd4"
      },
      "source": [
        "f = plt.figure(figsize=(15,15))\n",
        "for i in range(NUM_CLIENTS):\n",
        "  client_dataset = clients[i].Train_dataset\n",
        "  plot_data = {0:0,1:0}\n",
        "  plot_labels = ['digits','letters']\n",
        "  for label in client_dataset[1]:\n",
        "    label = 0 if label < 10 else 1\n",
        "    plot_data[label]+=1\n",
        "  # print(plot_data)\n",
        "  data_labels = list(sorted(plot_data.keys()))\n",
        "  # print(data_labels)\n",
        "  data_nums = [plot_data[i] for i in data_labels]\n",
        "  colors = ['red','blue']\n",
        "  plt.subplot(3,4,i+1)\n",
        "  patches,text1,text2 = plt.pie(data_nums,\n",
        "                              labels=plot_labels,\n",
        "                              autopct='%3.2f%%',\n",
        "                              shadow=False,\n",
        "                              startangle=90,\n",
        "                              pctdistance=0.6)\n",
        "  plt.axis('equal')\n",
        "  plt.title('Client {}'.format(i))\n",
        "plt.show()\n"
      ],
      "execution_count": null,
      "outputs": [
        {
          "output_type": "display_data",
          "data": {
            "image/png": "[encoded data removed]",
            "text/plain": [
              "<Figure size 1080x1080 with 12 Axes>"
            ]
          },
          "metadata": {
            "tags": []
          }
        }
      ]
    },
    {
      "cell_type": "code",
      "metadata": {
        "id": "UWBR9P212HDF"
      },
      "source": [
        ""
      ],
      "execution_count": null,
      "outputs": []
    },
    {
      "cell_type": "markdown",
      "metadata": {
        "id": "6PVxsGIpvlLn"
      },
      "source": [
        "##阶段二：中央服务器下发模型"
      ]
    },
    {
      "cell_type": "markdown",
      "metadata": {
        "id": "A5NIsOQgRp9h"
      },
      "source": [
        "Distance Between two models"
      ]
    },
    {
      "cell_type": "code",
      "metadata": {
        "id": "fX5rrSBk72Vw"
      },
      "source": [
        "def Distance(HookModel,TestModel):\n",
        "  len_it = len(HookModel.trainable_variables)\n",
        "  Hook_weights=[]\n",
        "  Test_weights=[]\n",
        "  for index in range(len_it):\n",
        "    Hook_weights.append(HookModel.trainable_variables[index].numpy())\n",
        "    Test_weights.append(TestModel.trainable_variables[index].numpy())\n",
        "  target = []\n",
        "  dis_norm2=[]\n",
        "  for i in range(len_it):\n",
        "    target.append(Hook_weights[i]-Test_weights[i])\n",
        "    dis_norm2.append(np.linalg.norm(target[i],2))\n",
        "  weight_weights = np.ones([len_it,1])\n",
        "  #调整权重\n",
        "  # weight_weights[0]=0\n",
        "  # weight_weights[1]=0\n",
        "  dis = np.dot(dis_norm2,weight_weights)\n",
        "  return dis\n",
        "  # return dis_norm2"
      ],
      "execution_count": null,
      "outputs": []
    },
    {
      "cell_type": "code",
      "metadata": {
        "id": "KI9PCWxY716I"
      },
      "source": [
        "def BetterNode(clients,model,Total_NUM,FedAvg_NUM):\n",
        "  NodeDict=collections.OrderedDict()\n",
        "  for i in range(Total_NUM):\n",
        "    NodeDict[i] = Distance(model,clients[i].model)\n",
        "  Dlst = sorted(NodeDict.items(),key=lambda x:x[1])\n",
        "  NodeList = []\n",
        "  for i in range(FedAvg_NUM):\n",
        "    NodeList.append(Dlst[i][0])\n",
        "  return NodeList"
      ],
      "execution_count": null,
      "outputs": []
    },
    {
      "cell_type": "markdown",
      "metadata": {
        "id": "_uNjI7abv3Vs"
      },
      "source": [
        "模型初始化"
      ]
    },
    {
      "cell_type": "code",
      "metadata": {
        "id": "PLJekuPtvxZl"
      },
      "source": [
        "InitModel = FLModel(row=28,col=28,num_classes=36)\n",
        "S = ParamServer(\"\")"
      ],
      "execution_count": null,
      "outputs": []
    },
    {
      "cell_type": "code",
      "metadata": {
        "colab": {
          "base_uri": "https://localhost:8080/"
        },
        "id": "gd-HUkdMvxPV",
        "outputId": "1e5c6964-7165-4d30-dee6-89d29305a855"
      },
      "source": [
        "S.PreEval(InitModel,x_test,y_test)"
      ],
      "execution_count": null,
      "outputs": [
        {
          "output_type": "stream",
          "text": [
            "313/313 [==============================] - 1s 2ms/step - loss: 3.6183 - accuracy: 0.0366\n"
          ],
          "name": "stdout"
        }
      ]
    },
    {
      "cell_type": "code",
      "metadata": {
        "colab": {
          "base_uri": "https://localhost:8080/"
        },
        "id": "SGo2NYXsv96h",
        "outputId": "e1ac20c2-e8ee-4a51-f6dc-2fe4d28b83cf"
      },
      "source": [
        "SendModel = S.PreTrain(InitModel,x_train[0:200],y_train[0:200],epochs=1)\n",
        "S.PreEval(SendModel,x_test,y_test)"
      ],
      "execution_count": null,
      "outputs": [
        {
          "output_type": "stream",
          "text": [
            "7/7 [==============================] - 0s 6ms/step - loss: 3.1093 - accuracy: 0.1907\n",
            "313/313 [==============================] - 1s 3ms/step - loss: 1.9945 - accuracy: 0.5533\n"
          ],
          "name": "stdout"
        }
      ]
    },
    {
      "cell_type": "markdown",
      "metadata": {
        "id": "7OmptaMzpR0P"
      },
      "source": [
        "# 阶段三：Clients 训练节点数据并聚合\n"
      ]
    },
    {
      "cell_type": "code",
      "metadata": {
        "id": "kr2PkfomvfWw"
      },
      "source": [
        ""
      ],
      "execution_count": null,
      "outputs": []
    },
    {
      "cell_type": "code",
      "metadata": {
        "id": "ve8Dc1KewGH_"
      },
      "source": [
        "def FedAvg(NUM_CLIENTS,model,FedAvg_NUM=7):\n",
        "  iterModel = model.copy()\n",
        "  len_it = len(iterModel.trainable_variables)\n",
        "  all_weights = []\n",
        "  FedNodeList=BetterNode(clients,iterModel,NUM_CLIENTS,FedAvg_NUM)\n",
        "  print(\"FedAvg Node is\",FedNodeList)\n",
        "  # Cut=2\n",
        "  # for c in range(Cut):\n",
        "  #   # tmp =np.array(iterModel.trainable_variables[c].numpy(),dtype='float64')\n",
        "  #   all_weights.append(iterModel.trainable_variables[c].numpy())\n",
        "\n",
        "  for weights_index in range(len_it):\n",
        "    tmp =np.zeros(iterModel.trainable_variables[weights_index].numpy().shape,dtype='float64')\n",
        "\n",
        "    for node in FedNodeList:\n",
        "      tmp += clients[node].model.trainable_variables[weights_index].numpy()\n",
        "    all_weights.append(tmp/FedAvg_NUM)\n",
        "  # print(all_weights)\n",
        "  iterModel_vars = iterModel.trainable_variables\n",
        "  for iter_v,n in zip(iterModel_vars,all_weights):\n",
        "    iter_v.assign(n)\n",
        "  return (iterModel,FedNodeList)"
      ],
      "execution_count": null,
      "outputs": []
    },
    {
      "cell_type": "code",
      "metadata": {
        "id": "jl3dF36dw2hC"
      },
      "source": [
        "NUM_EPOCHS = 20"
      ],
      "execution_count": null,
      "outputs": []
    },
    {
      "cell_type": "code",
      "metadata": {
        "id": "ocfoXDNgyTdP",
        "colab": {
          "base_uri": "https://localhost:8080/"
        },
        "outputId": "6e20945f-acaf-41d4-8839-c77e81651ffb"
      },
      "source": [
        "NodeList = []\n",
        "participator=NUM_CLIENTS\n",
        "for e in range(NUM_EPOCHS):\n",
        "  print(\"EPOCHS {} is starting...\".format(e))\n",
        "  for i in range(NUM_CLIENTS):\n",
        "    clients[i].ReceiveModel(SendModel.copy(),)\n",
        "    clients[i].NodeTrain()\n",
        "    # clients[i].NodeEval()\n",
        "    # DIS.append(Distance(SendModel,clients[i].model))\n",
        "  if participator < int(0.7*NUM_CLIENTS):\n",
        "    participator = int(0.7*NUM_CLIENTS) \n",
        "  FedModel,li = FedAvg(NUM_CLIENTS,SendModel,FedAvg_NUM=participator)\n",
        "  participator = participator-1\n",
        "  NodeList.append(li)\n",
        "  S.PreEval(FedModel,x_test,y_test)\n",
        "  SendModel = FedModel.copy()"
      ],
      "execution_count": null,
      "outputs": [
        {
          "output_type": "stream",
          "text": [
            "EPOCHS 0 is starting...\n",
            "80/80 [==============================] - 1s 5ms/step - loss: 36.0528 - accuracy: 0.5715\n",
            "80/80 [==============================] - 1s 5ms/step - loss: 38.6528 - accuracy: 0.5176\n",
            "80/80 [==============================] - 1s 5ms/step - loss: 20.1745 - accuracy: 0.1703\n",
            "80/80 [==============================] - 1s 5ms/step - loss: 22.3829 - accuracy: 0.3140\n",
            "80/80 [==============================] - 1s 5ms/step - loss: 6.5366 - accuracy: 0.2094\n",
            "80/80 [==============================] - 1s 5ms/step - loss: 26.3195 - accuracy: 0.2296\n",
            "80/80 [==============================] - 1s 5ms/step - loss: 21.4920 - accuracy: 0.2042\n",
            "80/80 [==============================] - 1s 5ms/step - loss: 11.7925 - accuracy: 0.1152\n",
            "80/80 [==============================] - 1s 5ms/step - loss: 28.8829 - accuracy: 0.3521\n",
            "80/80 [==============================] - 1s 5ms/step - loss: 28.3333 - accuracy: 0.2864\n",
            "80/80 [==============================] - 1s 5ms/step - loss: 35.8365 - accuracy: 0.3518\n",
            "80/80 [==============================] - 1s 5ms/step - loss: 15.6719 - accuracy: 0.1480\n",
            "FedAvg Node is [0, 1, 10, 8, 9, 6, 5, 3, 11, 2, 7, 4]\n",
            "313/313 [==============================] - 1s 2ms/step - loss: 2.4331 - accuracy: 0.8544\n",
            "EPOCHS 1 is starting...\n",
            "80/80 [==============================] - 1s 4ms/step - loss: 12.9324 - accuracy: 0.6940\n",
            "80/80 [==============================] - 1s 5ms/step - loss: 12.1911 - accuracy: 0.6642\n",
            "80/80 [==============================] - 1s 5ms/step - loss: 7.2292 - accuracy: 0.3526\n",
            "80/80 [==============================] - 1s 5ms/step - loss: 9.1341 - accuracy: 0.4736\n",
            "80/80 [==============================] - 1s 5ms/step - loss: 5.4040 - accuracy: 0.3515\n",
            "80/80 [==============================] - 1s 5ms/step - loss: 8.5469 - accuracy: 0.4346\n",
            "80/80 [==============================] - 1s 5ms/step - loss: 8.5299 - accuracy: 0.4230\n",
            "80/80 [==============================] - 1s 5ms/step - loss: 5.8962 - accuracy: 0.3377\n",
            "80/80 [==============================] - 1s 5ms/step - loss: 10.3810 - accuracy: 0.5161\n",
            "80/80 [==============================] - 1s 5ms/step - loss: 9.2602 - accuracy: 0.5222\n",
            "80/80 [==============================] - 1s 5ms/step - loss: 9.9466 - accuracy: 0.5277\n",
            "80/80 [==============================] - 1s 5ms/step - loss: 7.4155 - accuracy: 0.3398\n",
            "FedAvg Node is [1, 0, 10, 8, 9, 3, 6, 2, 5, 11, 7]\n",
            "313/313 [==============================] - 1s 2ms/step - loss: 2.5978 - accuracy: 0.8894\n",
            "EPOCHS 2 is starting...\n",
            "80/80 [==============================] - 1s 5ms/step - loss: 9.5854 - accuracy: 0.7477\n",
            "80/80 [==============================] - 1s 5ms/step - loss: 8.2721 - accuracy: 0.7457\n",
            "80/80 [==============================] - 1s 5ms/step - loss: 6.2174 - accuracy: 0.4985\n",
            "80/80 [==============================] - 1s 5ms/step - loss: 7.7343 - accuracy: 0.5661\n",
            "80/80 [==============================] - 1s 5ms/step - loss: 4.8137 - accuracy: 0.4548\n",
            "80/80 [==============================] - 1s 5ms/step - loss: 6.4385 - accuracy: 0.5500\n",
            "80/80 [==============================] - 1s 5ms/step - loss: 6.3411 - accuracy: 0.5270\n",
            "80/80 [==============================] - 1s 5ms/step - loss: 5.2026 - accuracy: 0.4776\n",
            "80/80 [==============================] - 1s 5ms/step - loss: 7.1238 - accuracy: 0.6256\n",
            "80/80 [==============================] - 1s 5ms/step - loss: 7.3814 - accuracy: 0.5892\n",
            "80/80 [==============================] - 1s 5ms/step - loss: 6.9138 - accuracy: 0.6227\n",
            "80/80 [==============================] - 1s 5ms/step - loss: 5.1511 - accuracy: 0.4631\n",
            "FedAvg Node is [1, 0, 8, 9, 10, 6, 3, 2, 5, 11]\n",
            "313/313 [==============================] - 1s 2ms/step - loss: 2.5530 - accuracy: 0.8874\n",
            "EPOCHS 3 is starting...\n",
            "80/80 [==============================] - 1s 5ms/step - loss: 7.4988 - accuracy: 0.7985\n",
            "80/80 [==============================] - 1s 5ms/step - loss: 7.0599 - accuracy: 0.7902\n",
            "80/80 [==============================] - 1s 5ms/step - loss: 4.9795 - accuracy: 0.5550\n",
            "80/80 [==============================] - 1s 5ms/step - loss: 6.3900 - accuracy: 0.6294\n",
            "80/80 [==============================] - 1s 5ms/step - loss: 4.3892 - accuracy: 0.5464\n",
            "80/80 [==============================] - 1s 5ms/step - loss: 5.9777 - accuracy: 0.5903\n",
            "80/80 [==============================] - 1s 5ms/step - loss: 5.2806 - accuracy: 0.5901\n",
            "80/80 [==============================] - 1s 5ms/step - loss: 3.8271 - accuracy: 0.5256\n",
            "80/80 [==============================] - 1s 5ms/step - loss: 5.6499 - accuracy: 0.6819\n",
            "80/80 [==============================] - 1s 5ms/step - loss: 5.7985 - accuracy: 0.6404\n",
            "80/80 [==============================] - 1s 5ms/step - loss: 6.0425 - accuracy: 0.6700\n",
            "80/80 [==============================] - 1s 5ms/step - loss: 4.6688 - accuracy: 0.5107\n",
            "FedAvg Node is [1, 10, 0, 3, 8, 9, 5, 6, 2]\n",
            "313/313 [==============================] - 1s 2ms/step - loss: 2.4722 - accuracy: 0.8922\n",
            "EPOCHS 4 is starting...\n",
            "80/80 [==============================] - 1s 5ms/step - loss: 6.3486 - accuracy: 0.8275\n",
            "80/80 [==============================] - 1s 5ms/step - loss: 5.6582 - accuracy: 0.7816\n",
            "80/80 [==============================] - 1s 5ms/step - loss: 4.7807 - accuracy: 0.5956\n",
            "80/80 [==============================] - 1s 5ms/step - loss: 5.0745 - accuracy: 0.6840\n",
            "80/80 [==============================] - 1s 5ms/step - loss: 4.0640 - accuracy: 0.5767\n",
            "80/80 [==============================] - 1s 5ms/step - loss: 4.7125 - accuracy: 0.6348\n",
            "80/80 [==============================] - 1s 5ms/step - loss: 4.6074 - accuracy: 0.6345\n",
            "80/80 [==============================] - 1s 5ms/step - loss: 3.8798 - accuracy: 0.5528\n",
            "80/80 [==============================] - 1s 5ms/step - loss: 5.0639 - accuracy: 0.7163\n",
            "80/80 [==============================] - 1s 5ms/step - loss: 6.1576 - accuracy: 0.6520\n",
            "80/80 [==============================] - 1s 5ms/step - loss: 6.0145 - accuracy: 0.7148\n",
            "80/80 [==============================] - 1s 5ms/step - loss: 5.1007 - accuracy: 0.5709\n",
            "FedAvg Node is [10, 1, 8, 0, 3, 9, 5, 6]\n",
            "313/313 [==============================] - 1s 3ms/step - loss: 2.3825 - accuracy: 0.8772\n",
            "EPOCHS 5 is starting...\n",
            "80/80 [==============================] - 1s 5ms/step - loss: 6.0181 - accuracy: 0.8325\n",
            "80/80 [==============================] - 1s 5ms/step - loss: 5.9525 - accuracy: 0.8036\n",
            "80/80 [==============================] - 1s 5ms/step - loss: 4.5799 - accuracy: 0.6167\n",
            "80/80 [==============================] - 1s 4ms/step - loss: 5.1464 - accuracy: 0.6949\n",
            "80/80 [==============================] - 1s 5ms/step - loss: 3.2879 - accuracy: 0.5889\n",
            "80/80 [==============================] - 1s 5ms/step - loss: 4.3579 - accuracy: 0.6863\n",
            "80/80 [==============================] - 1s 5ms/step - loss: 5.5537 - accuracy: 0.6425\n",
            "80/80 [==============================] - 1s 5ms/step - loss: 3.2659 - accuracy: 0.5831\n",
            "80/80 [==============================] - 1s 4ms/step - loss: 4.5940 - accuracy: 0.7426\n",
            "80/80 [==============================] - 1s 5ms/step - loss: 5.7016 - accuracy: 0.6949\n",
            "80/80 [==============================] - 1s 5ms/step - loss: 4.5109 - accuracy: 0.7478\n",
            "80/80 [==============================] - 1s 5ms/step - loss: 3.9514 - accuracy: 0.5794\n",
            "FedAvg Node is [1, 0, 3, 10, 6, 8, 5, 9]\n",
            "313/313 [==============================] - 1s 2ms/step - loss: 2.2485 - accuracy: 0.8636\n",
            "EPOCHS 6 is starting...\n",
            "80/80 [==============================] - 1s 5ms/step - loss: 5.8767 - accuracy: 0.8427\n",
            "80/80 [==============================] - 1s 5ms/step - loss: 5.3670 - accuracy: 0.8359\n",
            "80/80 [==============================] - 1s 5ms/step - loss: 3.9458 - accuracy: 0.6410\n",
            "80/80 [==============================] - 1s 5ms/step - loss: 4.2006 - accuracy: 0.7136\n",
            "80/80 [==============================] - 1s 5ms/step - loss: 2.7466 - accuracy: 0.5927\n",
            "80/80 [==============================] - 1s 5ms/step - loss: 3.6900 - accuracy: 0.6954\n",
            "80/80 [==============================] - 1s 5ms/step - loss: 4.2200 - accuracy: 0.6766\n",
            "80/80 [==============================] - 1s 5ms/step - loss: 4.1886 - accuracy: 0.6286\n",
            "80/80 [==============================] - 1s 5ms/step - loss: 4.3057 - accuracy: 0.7583\n",
            "80/80 [==============================] - 1s 5ms/step - loss: 4.8463 - accuracy: 0.7287\n",
            "80/80 [==============================] - 1s 5ms/step - loss: 4.4592 - accuracy: 0.7431\n",
            "80/80 [==============================] - 1s 5ms/step - loss: 3.9813 - accuracy: 0.5977\n",
            "FedAvg Node is [1, 10, 0, 3, 8, 9, 2, 5]\n",
            "313/313 [==============================] - 1s 2ms/step - loss: 2.1153 - accuracy: 0.8472\n",
            "EPOCHS 7 is starting...\n",
            "80/80 [==============================] - 1s 5ms/step - loss: 5.1211 - accuracy: 0.8636\n",
            "80/80 [==============================] - 1s 5ms/step - loss: 6.0488 - accuracy: 0.8408\n",
            "80/80 [==============================] - 1s 5ms/step - loss: 3.9790 - accuracy: 0.6650\n",
            "80/80 [==============================] - 1s 5ms/step - loss: 4.3573 - accuracy: 0.7385\n",
            "80/80 [==============================] - 1s 5ms/step - loss: 2.8921 - accuracy: 0.6378\n",
            "80/80 [==============================] - 1s 5ms/step - loss: 3.2972 - accuracy: 0.7107\n",
            "80/80 [==============================] - 1s 5ms/step - loss: 4.2309 - accuracy: 0.6951\n",
            "80/80 [==============================] - 1s 5ms/step - loss: 3.5707 - accuracy: 0.6319\n",
            "80/80 [==============================] - 1s 5ms/step - loss: 4.0172 - accuracy: 0.7571\n",
            "80/80 [==============================] - 1s 5ms/step - loss: 4.8257 - accuracy: 0.7294\n",
            "80/80 [==============================] - 1s 5ms/step - loss: 4.6549 - accuracy: 0.7549\n",
            "80/80 [==============================] - 1s 4ms/step - loss: 3.4886 - accuracy: 0.6291\n",
            "FedAvg Node is [0, 10, 1, 8, 3, 9, 2, 5]\n",
            "313/313 [==============================] - 1s 2ms/step - loss: 1.9804 - accuracy: 0.8581\n",
            "EPOCHS 8 is starting...\n",
            "80/80 [==============================] - 1s 5ms/step - loss: 4.6697 - accuracy: 0.8682\n",
            "80/80 [==============================] - 1s 4ms/step - loss: 5.8110 - accuracy: 0.8488\n",
            "80/80 [==============================] - 1s 5ms/step - loss: 3.8258 - accuracy: 0.6692\n",
            "80/80 [==============================] - 1s 5ms/step - loss: 3.8430 - accuracy: 0.7569\n",
            "80/80 [==============================] - 1s 5ms/step - loss: 3.3302 - accuracy: 0.6459\n",
            "80/80 [==============================] - 1s 5ms/step - loss: 3.3992 - accuracy: 0.7291\n",
            "80/80 [==============================] - 1s 5ms/step - loss: 4.0837 - accuracy: 0.6945\n",
            "80/80 [==============================] - 1s 5ms/step - loss: 3.1266 - accuracy: 0.6577\n",
            "80/80 [==============================] - 1s 5ms/step - loss: 3.7583 - accuracy: 0.7858\n",
            "80/80 [==============================] - 1s 5ms/step - loss: 4.9870 - accuracy: 0.7489\n",
            "80/80 [==============================] - 1s 5ms/step - loss: 4.4128 - accuracy: 0.7747\n",
            "80/80 [==============================] - 1s 5ms/step - loss: 3.7789 - accuracy: 0.6425\n",
            "FedAvg Node is [10, 0, 1, 8, 3, 6, 9, 5]\n",
            "313/313 [==============================] - 1s 2ms/step - loss: 1.9315 - accuracy: 0.8299\n",
            "EPOCHS 9 is starting...\n",
            "80/80 [==============================] - 1s 5ms/step - loss: 6.1607 - accuracy: 0.8646\n",
            "80/80 [==============================] - 1s 5ms/step - loss: 5.2576 - accuracy: 0.8574\n",
            "80/80 [==============================] - 1s 5ms/step - loss: 3.7595 - accuracy: 0.6882\n",
            "80/80 [==============================] - 1s 5ms/step - loss: 4.3257 - accuracy: 0.7719\n",
            "80/80 [==============================] - 1s 5ms/step - loss: 2.6056 - accuracy: 0.6696\n",
            "80/80 [==============================] - 1s 5ms/step - loss: 3.7534 - accuracy: 0.7402\n",
            "80/80 [==============================] - 1s 5ms/step - loss: 3.7868 - accuracy: 0.7026\n",
            "80/80 [==============================] - 1s 5ms/step - loss: 3.0059 - accuracy: 0.6553\n",
            "80/80 [==============================] - 1s 5ms/step - loss: 4.5099 - accuracy: 0.7931\n",
            "80/80 [==============================] - 1s 5ms/step - loss: 4.4300 - accuracy: 0.7509\n",
            "80/80 [==============================] - 1s 5ms/step - loss: 3.2160 - accuracy: 0.7968\n",
            "80/80 [==============================] - 1s 5ms/step - loss: 4.0193 - accuracy: 0.6629\n",
            "FedAvg Node is [0, 1, 3, 8, 10, 9, 6, 5]\n",
            "313/313 [==============================] - 1s 2ms/step - loss: 1.8078 - accuracy: 0.8082\n",
            "EPOCHS 10 is starting...\n",
            "80/80 [==============================] - 1s 5ms/step - loss: 5.3013 - accuracy: 0.8762\n",
            "80/80 [==============================] - 1s 5ms/step - loss: 5.0285 - accuracy: 0.8616\n",
            "80/80 [==============================] - 1s 5ms/step - loss: 3.8085 - accuracy: 0.6783\n",
            "80/80 [==============================] - 1s 5ms/step - loss: 3.9770 - accuracy: 0.7640\n",
            "80/80 [==============================] - 1s 5ms/step - loss: 2.3111 - accuracy: 0.6773\n",
            "80/80 [==============================] - 1s 5ms/step - loss: 3.3752 - accuracy: 0.7407\n",
            "80/80 [==============================] - 1s 5ms/step - loss: 3.2236 - accuracy: 0.7242\n",
            "80/80 [==============================] - 1s 5ms/step - loss: 3.2950 - accuracy: 0.6637\n",
            "80/80 [==============================] - 1s 5ms/step - loss: 3.4712 - accuracy: 0.7962\n",
            "80/80 [==============================] - 1s 5ms/step - loss: 3.7142 - accuracy: 0.7612\n",
            "80/80 [==============================] - 1s 5ms/step - loss: 3.4553 - accuracy: 0.7905\n",
            "80/80 [==============================] - 1s 5ms/step - loss: 3.0868 - accuracy: 0.6735\n",
            "FedAvg Node is [1, 0, 10, 8, 3, 9, 5, 6]\n",
            "313/313 [==============================] - 1s 2ms/step - loss: 1.7184 - accuracy: 0.8334\n",
            "EPOCHS 11 is starting...\n",
            "80/80 [==============================] - 1s 5ms/step - loss: 6.2550 - accuracy: 0.8883\n",
            "80/80 [==============================] - 1s 5ms/step - loss: 5.5485 - accuracy: 0.8639\n",
            "80/80 [==============================] - 1s 5ms/step - loss: 4.2565 - accuracy: 0.6869\n",
            "80/80 [==============================] - 1s 5ms/step - loss: 3.1046 - accuracy: 0.7975\n",
            "80/80 [==============================] - 1s 5ms/step - loss: 2.4339 - accuracy: 0.6766\n",
            "80/80 [==============================] - 1s 5ms/step - loss: 2.9783 - accuracy: 0.7593\n",
            "80/80 [==============================] - 1s 5ms/step - loss: 3.0175 - accuracy: 0.7499\n",
            "80/80 [==============================] - 1s 5ms/step - loss: 2.6465 - accuracy: 0.7022\n",
            "80/80 [==============================] - 1s 5ms/step - loss: 3.8921 - accuracy: 0.8006\n",
            "80/80 [==============================] - 1s 5ms/step - loss: 3.9555 - accuracy: 0.7817\n",
            "80/80 [==============================] - 1s 5ms/step - loss: 4.1264 - accuracy: 0.7968\n",
            "80/80 [==============================] - 1s 5ms/step - loss: 3.5154 - accuracy: 0.6611\n",
            "FedAvg Node is [0, 1, 9, 8, 3, 10, 5, 6]\n",
            "313/313 [==============================] - 1s 3ms/step - loss: 1.6851 - accuracy: 0.7940\n",
            "EPOCHS 12 is starting...\n",
            "80/80 [==============================] - 1s 5ms/step - loss: 4.9969 - accuracy: 0.8913\n",
            "80/80 [==============================] - 1s 5ms/step - loss: 5.5525 - accuracy: 0.8778\n",
            "80/80 [==============================] - 1s 5ms/step - loss: 3.5606 - accuracy: 0.7232\n",
            "80/80 [==============================] - 1s 5ms/step - loss: 3.9165 - accuracy: 0.7985\n",
            "80/80 [==============================] - 1s 5ms/step - loss: 2.2993 - accuracy: 0.6938\n",
            "80/80 [==============================] - 1s 5ms/step - loss: 3.2884 - accuracy: 0.7642\n",
            "80/80 [==============================] - 1s 5ms/step - loss: 2.7823 - accuracy: 0.7606\n",
            "80/80 [==============================] - 1s 5ms/step - loss: 2.6593 - accuracy: 0.7027\n",
            "80/80 [==============================] - 1s 5ms/step - loss: 3.4219 - accuracy: 0.7967\n",
            "80/80 [==============================] - 1s 5ms/step - loss: 3.9020 - accuracy: 0.7829\n",
            "80/80 [==============================] - 1s 5ms/step - loss: 3.3958 - accuracy: 0.8091\n",
            "80/80 [==============================] - 1s 5ms/step - loss: 2.9163 - accuracy: 0.7091\n",
            "FedAvg Node is [1, 8, 0, 9, 10, 3, 5, 2]\n",
            "313/313 [==============================] - 1s 2ms/step - loss: 1.6807 - accuracy: 0.7704\n",
            "EPOCHS 13 is starting...\n",
            "80/80 [==============================] - 1s 5ms/step - loss: 4.8090 - accuracy: 0.8867\n",
            "80/80 [==============================] - 1s 5ms/step - loss: 4.7764 - accuracy: 0.8812\n",
            "80/80 [==============================] - 1s 5ms/step - loss: 3.5530 - accuracy: 0.7266\n",
            "80/80 [==============================] - 1s 4ms/step - loss: 2.8346 - accuracy: 0.8048\n",
            "80/80 [==============================] - 1s 5ms/step - loss: 2.4896 - accuracy: 0.6973\n",
            "80/80 [==============================] - 1s 5ms/step - loss: 3.4176 - accuracy: 0.7710\n",
            "80/80 [==============================] - 1s 4ms/step - loss: 2.9309 - accuracy: 0.7635\n",
            "80/80 [==============================] - 1s 5ms/step - loss: 2.3150 - accuracy: 0.6975\n",
            "80/80 [==============================] - 1s 5ms/step - loss: 3.1287 - accuracy: 0.8372\n",
            "80/80 [==============================] - 1s 5ms/step - loss: 3.9029 - accuracy: 0.7902\n",
            "80/80 [==============================] - 1s 5ms/step - loss: 3.1489 - accuracy: 0.8097\n",
            "80/80 [==============================] - 1s 5ms/step - loss: 3.3536 - accuracy: 0.6862\n",
            "FedAvg Node is [1, 0, 10, 8, 3, 9, 2, 6]\n",
            "313/313 [==============================] - 1s 3ms/step - loss: 1.6174 - accuracy: 0.7610\n",
            "EPOCHS 14 is starting...\n",
            "80/80 [==============================] - 1s 5ms/step - loss: 5.2833 - accuracy: 0.8957\n",
            "80/80 [==============================] - 1s 5ms/step - loss: 4.7233 - accuracy: 0.8883\n",
            "80/80 [==============================] - 1s 5ms/step - loss: 3.2921 - accuracy: 0.7384\n",
            "80/80 [==============================] - 1s 5ms/step - loss: 4.0316 - accuracy: 0.8162\n",
            "80/80 [==============================] - 1s 5ms/step - loss: 1.8852 - accuracy: 0.6924\n",
            "80/80 [==============================] - 1s 5ms/step - loss: 2.5601 - accuracy: 0.7629\n",
            "80/80 [==============================] - 1s 5ms/step - loss: 3.3232 - accuracy: 0.7622\n",
            "80/80 [==============================] - 1s 5ms/step - loss: 2.6952 - accuracy: 0.7211\n",
            "80/80 [==============================] - 1s 5ms/step - loss: 3.2870 - accuracy: 0.8250\n",
            "80/80 [==============================] - 1s 5ms/step - loss: 3.0321 - accuracy: 0.8094\n",
            "80/80 [==============================] - 1s 5ms/step - loss: 3.6023 - accuracy: 0.8142\n",
            "80/80 [==============================] - 1s 5ms/step - loss: 3.4786 - accuracy: 0.7137\n",
            "FedAvg Node is [8, 0, 10, 1, 6, 9, 3, 5]\n",
            "313/313 [==============================] - 1s 2ms/step - loss: 1.5428 - accuracy: 0.7823\n",
            "EPOCHS 15 is starting...\n",
            "80/80 [==============================] - 1s 4ms/step - loss: 4.8117 - accuracy: 0.9109\n",
            "80/80 [==============================] - 1s 5ms/step - loss: 4.7254 - accuracy: 0.8987\n",
            "80/80 [==============================] - 1s 5ms/step - loss: 3.1301 - accuracy: 0.7266\n",
            "80/80 [==============================] - 1s 5ms/step - loss: 2.8559 - accuracy: 0.8201\n",
            "80/80 [==============================] - 1s 4ms/step - loss: 2.3780 - accuracy: 0.7116\n",
            "80/80 [==============================] - 1s 5ms/step - loss: 3.8816 - accuracy: 0.7772\n",
            "80/80 [==============================] - 1s 5ms/step - loss: 2.5771 - accuracy: 0.7713\n",
            "80/80 [==============================] - 1s 5ms/step - loss: 2.6795 - accuracy: 0.7118\n",
            "80/80 [==============================] - 1s 4ms/step - loss: 3.8139 - accuracy: 0.8294\n",
            "80/80 [==============================] - 1s 5ms/step - loss: 3.8918 - accuracy: 0.8019\n",
            "80/80 [==============================] - 1s 5ms/step - loss: 3.3423 - accuracy: 0.8259\n",
            "80/80 [==============================] - 1s 5ms/step - loss: 3.0756 - accuracy: 0.7136\n",
            "FedAvg Node is [1, 9, 5, 10, 6, 3, 8, 0]\n",
            "313/313 [==============================] - 1s 2ms/step - loss: 1.6183 - accuracy: 0.7208\n",
            "EPOCHS 16 is starting...\n",
            "80/80 [==============================] - 1s 5ms/step - loss: 4.9969 - accuracy: 0.9010\n",
            "80/80 [==============================] - 1s 4ms/step - loss: 4.8194 - accuracy: 0.8787\n",
            "80/80 [==============================] - 1s 4ms/step - loss: 3.8207 - accuracy: 0.7332\n",
            "80/80 [==============================] - 1s 4ms/step - loss: 3.2441 - accuracy: 0.8016\n",
            "80/80 [==============================] - 1s 5ms/step - loss: 2.1425 - accuracy: 0.7132\n",
            "80/80 [==============================] - 1s 5ms/step - loss: 2.9880 - accuracy: 0.8058\n",
            "80/80 [==============================] - 1s 5ms/step - loss: 2.9172 - accuracy: 0.7822\n",
            "80/80 [==============================] - 1s 5ms/step - loss: 2.3103 - accuracy: 0.7268\n",
            "80/80 [==============================] - 1s 4ms/step - loss: 3.9133 - accuracy: 0.8344\n",
            "80/80 [==============================] - 1s 5ms/step - loss: 3.3880 - accuracy: 0.7962\n",
            "80/80 [==============================] - 1s 5ms/step - loss: 3.2350 - accuracy: 0.8437\n",
            "80/80 [==============================] - 1s 5ms/step - loss: 3.3407 - accuracy: 0.7166\n",
            "FedAvg Node is [1, 10, 8, 0, 5, 6, 3, 2]\n",
            "313/313 [==============================] - 1s 2ms/step - loss: 1.5776 - accuracy: 0.7269\n",
            "EPOCHS 17 is starting...\n",
            "80/80 [==============================] - 1s 5ms/step - loss: 4.1947 - accuracy: 0.8966\n",
            "80/80 [==============================] - 1s 5ms/step - loss: 4.0139 - accuracy: 0.9041\n",
            "80/80 [==============================] - 1s 4ms/step - loss: 4.1551 - accuracy: 0.7461\n",
            "80/80 [==============================] - 1s 5ms/step - loss: 2.9835 - accuracy: 0.8176\n",
            "80/80 [==============================] - 1s 5ms/step - loss: 2.4301 - accuracy: 0.7207\n",
            "80/80 [==============================] - 1s 5ms/step - loss: 2.5785 - accuracy: 0.8045\n",
            "80/80 [==============================] - 1s 4ms/step - loss: 2.2564 - accuracy: 0.7816\n",
            "80/80 [==============================] - 1s 5ms/step - loss: 3.3237 - accuracy: 0.7230\n",
            "80/80 [==============================] - 1s 5ms/step - loss: 3.2694 - accuracy: 0.8442\n",
            "80/80 [==============================] - 1s 5ms/step - loss: 3.3674 - accuracy: 0.8246\n",
            "80/80 [==============================] - 1s 5ms/step - loss: 2.9541 - accuracy: 0.8413\n",
            "80/80 [==============================] - 1s 4ms/step - loss: 2.8545 - accuracy: 0.7173\n",
            "FedAvg Node is [0, 10, 3, 1, 8, 9, 5, 6]\n",
            "313/313 [==============================] - 1s 2ms/step - loss: 1.4591 - accuracy: 0.7446\n",
            "EPOCHS 18 is starting...\n",
            "80/80 [==============================] - 1s 5ms/step - loss: 4.5395 - accuracy: 0.9128\n",
            "80/80 [==============================] - 1s 5ms/step - loss: 5.0874 - accuracy: 0.8987\n",
            "80/80 [==============================] - 1s 5ms/step - loss: 3.3324 - accuracy: 0.7320\n",
            "80/80 [==============================] - 1s 5ms/step - loss: 2.6622 - accuracy: 0.8227\n",
            "80/80 [==============================] - 1s 5ms/step - loss: 1.9006 - accuracy: 0.7140\n",
            "80/80 [==============================] - 1s 4ms/step - loss: 3.0014 - accuracy: 0.8064\n",
            "80/80 [==============================] - 1s 5ms/step - loss: 3.4910 - accuracy: 0.7878\n",
            "80/80 [==============================] - 1s 5ms/step - loss: 2.3703 - accuracy: 0.7204\n",
            "80/80 [==============================] - 1s 5ms/step - loss: 2.7803 - accuracy: 0.8325\n",
            "80/80 [==============================] - 1s 4ms/step - loss: 2.8587 - accuracy: 0.8325\n",
            "80/80 [==============================] - 1s 5ms/step - loss: 2.6122 - accuracy: 0.8315\n",
            "80/80 [==============================] - 1s 5ms/step - loss: 4.3286 - accuracy: 0.7241\n",
            "FedAvg Node is [1, 10, 3, 8, 6, 0, 2, 9]\n",
            "313/313 [==============================] - 1s 3ms/step - loss: 1.5408 - accuracy: 0.7027\n",
            "EPOCHS 19 is starting...\n",
            "80/80 [==============================] - 1s 5ms/step - loss: 4.5894 - accuracy: 0.9167\n",
            "80/80 [==============================] - 1s 5ms/step - loss: 4.0029 - accuracy: 0.9026\n",
            "80/80 [==============================] - 1s 5ms/step - loss: 3.6644 - accuracy: 0.7717\n",
            "80/80 [==============================] - 1s 4ms/step - loss: 3.7045 - accuracy: 0.8388\n",
            "80/80 [==============================] - 1s 5ms/step - loss: 2.0272 - accuracy: 0.7229\n",
            "80/80 [==============================] - 1s 4ms/step - loss: 2.4472 - accuracy: 0.8117\n",
            "80/80 [==============================] - 1s 5ms/step - loss: 1.9348 - accuracy: 0.8154\n",
            "80/80 [==============================] - 1s 5ms/step - loss: 2.5953 - accuracy: 0.7319\n",
            "80/80 [==============================] - 1s 5ms/step - loss: 3.3132 - accuracy: 0.8579\n",
            "80/80 [==============================] - 1s 5ms/step - loss: 3.1000 - accuracy: 0.8155\n",
            "80/80 [==============================] - 1s 4ms/step - loss: 3.6182 - accuracy: 0.8538\n",
            "80/80 [==============================] - 1s 5ms/step - loss: 3.6990 - accuracy: 0.7016\n",
            "FedAvg Node is [1, 0, 10, 6, 8, 9, 3, 2]\n",
            "313/313 [==============================] - 1s 2ms/step - loss: 1.4319 - accuracy: 0.7276\n"
          ],
          "name": "stdout"
        }
      ]
    },
    {
      "cell_type": "code",
      "metadata": {
        "id": "HrqSmK9-9LWe"
      },
      "source": [
        ""
      ],
      "execution_count": null,
      "outputs": []
    },
    {
      "cell_type": "code",
      "metadata": {
        "colab": {
          "base_uri": "https://localhost:8080/",
          "height": 281
        },
        "id": "DHi6uBm58CVw",
        "outputId": "4e2ad6f7-e82f-4372-8c8d-9217c8ddebcc"
      },
      "source": [
        "#deal the data\n",
        "S_acc =[S.loss_acc[i][1]*100 for i in range(len(S.loss_acc))]\n",
        "S_loss =[S.loss_acc[i][0] for i in range(len(S.loss_acc))]\n",
        "\n",
        "#prepare show image\n",
        "x = np.arange(len(S.loss_acc))\n",
        "fig = plt.figure()\n",
        "ax1 = fig.add_subplot(111)\n",
        "acc = ax1.plot(x,S_acc,'r',label='Acc')\n",
        "ax1.set_ylabel('Acc')\n",
        "ax1.set_title('Acc-Loss')\n",
        "\n",
        "ax2 = ax1.twinx()\n",
        "loss = ax2.plot(x,S_loss,label='Loss')\n",
        "ax2.set_ylabel('Loss')\n",
        "\n",
        "lns = acc+loss\n",
        "labs = [l.get_label() for l in lns]\n",
        "ax2.legend(lns,labs)\n",
        "plt.show()"
      ],
      "execution_count": null,
      "outputs": [
        {
          "output_type": "display_data",
          "data": {
            "image/png": "[encoded data removed]",
            "text/plain": [
              "<Figure size 432x288 with 2 Axes>"
            ]
          },
          "metadata": {
            "tags": [],
            "needs_background": "light"
          }
        }
      ]
    },
    {
      "cell_type": "code",
      "metadata": {
        "colab": {
          "base_uri": "https://localhost:8080/"
        },
        "id": "WZkNvbEPDCpA",
        "outputId": "84f709be-ea33-4b36-ebaa-ab388bb677e5"
      },
      "source": [
        "NodeList"
      ],
      "execution_count": null,
      "outputs": [
        {
          "output_type": "execute_result",
          "data": {
            "text/plain": [
              "[[0, 1, 8, 10, 9, 3, 6, 2, 5, 11, 7, 4],\n",
              " [0, 1, 8, 10, 9, 3, 6, 5, 2, 11, 7],\n",
              " [0, 1, 10, 9, 8, 3, 2, 5, 6, 11],\n",
              " [0, 10, 8, 1, 3, 9, 2, 6, 5],\n",
              " [0, 1, 10, 8, 5, 9, 3, 6],\n",
              " [1, 0, 10, 9, 3, 8, 5, 2],\n",
              " [0, 1, 10, 8, 9, 3, 5, 2],\n",
              " [0, 8, 10, 1, 3, 9, 6, 2],\n",
              " [1, 0, 8, 10, 9, 3, 6, 2],\n",
              " [10, 1, 0, 9, 8, 3, 2, 6]]"
            ]
          },
          "metadata": {
            "tags": []
          },
          "execution_count": 390
        }
      ]
    },
    {
      "cell_type": "code",
      "metadata": {
        "id": "NTRwgylhDcCO"
      },
      "source": [
        ""
      ],
      "execution_count": null,
      "outputs": []
    },
    {
      "cell_type": "code",
      "metadata": {
        "id": "sDJtUAMiD3vN"
      },
      "source": [
        ""
      ],
      "execution_count": null,
      "outputs": []
    },
    {
      "cell_type": "code",
      "metadata": {
        "colab": {
          "base_uri": "https://localhost:8080/",
          "height": 295
        },
        "id": "8LBgwA24FEVx",
        "outputId": "c99b6e36-1622-406b-deca-1a26153c4612"
      },
      "source": [
        "#deal the data\n",
        "img = np.ones(shape=(NUM_EPOCHS,NUM_CLIENTS),dtype=int)\n",
        "for i in range(len(NodeList)):\n",
        "  for j in NodeList[i]:\n",
        "    img[i][j]=0\n",
        "#prepare show image\n",
        "len_n = len(S.loss_acc)\n",
        "ax = plt.gca()\n",
        "ax.set_xlim(-0.5,NUM_CLIENTS-0.5)\n",
        "ax.set_ylim(-0.5,9.5)\n",
        "miloc = plt.MultipleLocator(1)\n",
        "ax.xaxis.set_minor_locator(miloc)\n",
        "plt.grid()\n",
        "plt.title(\"Nodes in each epoch\")\n",
        "plt.imshow(img*255,cmap='gray')\n",
        "plt.axis('on')\n",
        "plt.xlabel('Nodes')\n",
        "plt.ylabel('Epoch')\n",
        "x = np.arange(0.5,NUM_CLIENTS+0.5,1)\n",
        "y = np.arange(0.5,NUM_EPOCHS+0.5,1)\n",
        "plt.xticks()\n",
        "plt.yticks(y,(int(i-0.5) for i in y))\n",
        "plt.xticks(x,(int(i-0.5) for i in x))\n",
        "plt.show()"
      ],
      "execution_count": null,
      "outputs": [
        {
          "output_type": "display_data",
          "data": {
            "image/png": "[encoded data removed]",
            "text/plain": [
              "<Figure size 432x288 with 1 Axes>"
            ]
          },
          "metadata": {
            "tags": [],
            "needs_background": "light"
          }
        }
      ]
    },
    {
      "cell_type": "markdown",
      "metadata": {
        "id": "i2axuRBsO6V7"
      },
      "source": [
        "设置对照组，即普通的FedAvg"
      ]
    },
    {
      "cell_type": "code",
      "metadata": {
        "id": "wwI_gLjwO5w4"
      },
      "source": [
        "def FedAvg_Baseline(NUM_CLIENTS,model):\n",
        "  iterModel = model.copy()\n",
        "  len_it = len(iterModel.trainable_variables)\n",
        "  all_weights = []\n",
        "  for weights_index in range(len_it):\n",
        "    tmp =np.zeros(iterModel.trainable_variables[weights_index].numpy().shape,dtype='float64')\n",
        "    for node in range(NUM_CLIENTS):\n",
        "      tmp += clients[node].model.trainable_variables[weights_index].numpy()\n",
        "    all_weights.append(tmp/NUM_CLIENTS)\n",
        "  # print(all_weights)\n",
        "  iterModel_vars = iterModel.trainable_variables\n",
        "  for iter_v,n in zip(iterModel_vars,all_weights):\n",
        "    iter_v.assign(n)\n",
        "  return iterModel"
      ],
      "execution_count": null,
      "outputs": []
    },
    {
      "cell_type": "code",
      "metadata": {
        "colab": {
          "base_uri": "https://localhost:8080/"
        },
        "id": "X5o0nVueO0m7",
        "outputId": "0e7e0276-b2d5-43e8-dbdf-f2f10da2b35e"
      },
      "source": [
        "InitModel = FLModel(row=28,col=28,num_classes=36)\n",
        "S2 = ParamServer(\"\")\n",
        "S2.PreEval(InitModel,x_test,y_test)"
      ],
      "execution_count": null,
      "outputs": [
        {
          "output_type": "stream",
          "text": [
            "313/313 [==============================] - 1s 2ms/step - loss: 3.7367 - accuracy: 0.0058\n"
          ],
          "name": "stdout"
        }
      ]
    },
    {
      "cell_type": "code",
      "metadata": {
        "colab": {
          "base_uri": "https://localhost:8080/"
        },
        "id": "KW2JdgUEP0C5",
        "outputId": "cff53a50-0aee-4cb5-ce3b-d93d1e966a22"
      },
      "source": [
        "SendModel = S2.PreTrain(InitModel,x_train[0:200],y_train[0:200],epochs=1)\n",
        "S2.PreEval(SendModel,x_test,y_test)"
      ],
      "execution_count": null,
      "outputs": [
        {
          "output_type": "stream",
          "text": [
            "7/7 [==============================] - 0s 5ms/step - loss: 3.1831 - accuracy: 0.2036\n",
            "313/313 [==============================] - 1s 2ms/step - loss: 1.9914 - accuracy: 0.5685\n"
          ],
          "name": "stdout"
        }
      ]
    },
    {
      "cell_type": "code",
      "metadata": {
        "id": "Bwd2uL1FUpeH"
      },
      "source": [
        "NUM_EPOCHS = 20"
      ],
      "execution_count": null,
      "outputs": []
    },
    {
      "cell_type": "code",
      "metadata": {
        "colab": {
          "base_uri": "https://localhost:8080/"
        },
        "id": "dejoUrZlPz5l",
        "outputId": "77f8649a-31c5-4035-eeb0-9a08d8f4632c"
      },
      "source": [
        "for e in range(NUM_EPOCHS):\n",
        "  print(\"EPOCHS {} is starting...\".format(e))\n",
        "  for i in range(NUM_CLIENTS):\n",
        "    clients[i].ReceiveModel(SendModel.copy())\n",
        "    clients[i].NodeTrain()\n",
        "    # clients[i].NodeEval()\n",
        "    # DIS.append(Distance(SendModel,clients[i].model))\n",
        "  FedModel = FedAvg_Baseline(NUM_CLIENTS,SendModel)\n",
        "  S2.PreEval(FedModel,x_test,y_test)\n",
        "  SendModel = FedModel.copy()"
      ],
      "execution_count": null,
      "outputs": [
        {
          "output_type": "stream",
          "text": [
            "EPOCHS 0 is starting...\n",
            "80/80 [==============================] - 1s 5ms/step - loss: 38.6255 - accuracy: 0.5570\n",
            "80/80 [==============================] - 1s 4ms/step - loss: 34.5162 - accuracy: 0.5485\n",
            "80/80 [==============================] - 1s 5ms/step - loss: 16.6607 - accuracy: 0.1820\n",
            "80/80 [==============================] - 1s 4ms/step - loss: 24.5245 - accuracy: 0.2865\n",
            "80/80 [==============================] - 1s 4ms/step - loss: 7.7461 - accuracy: 0.1517\n",
            "80/80 [==============================] - 1s 5ms/step - loss: 21.0829 - accuracy: 0.2164\n",
            "80/80 [==============================] - 1s 5ms/step - loss: 20.7913 - accuracy: 0.2183\n",
            "80/80 [==============================] - 1s 4ms/step - loss: 11.0112 - accuracy: 0.1378\n",
            "80/80 [==============================] - 1s 5ms/step - loss: 28.0183 - accuracy: 0.3687\n",
            "80/80 [==============================] - 1s 5ms/step - loss: 26.9266 - accuracy: 0.3079\n",
            "80/80 [==============================] - 1s 5ms/step - loss: 28.6422 - accuracy: 0.3644\n",
            "80/80 [==============================] - 1s 4ms/step - loss: 12.2637 - accuracy: 0.1379\n",
            "313/313 [==============================] - 1s 2ms/step - loss: 2.3641 - accuracy: 0.8641\n",
            "EPOCHS 1 is starting...\n",
            "80/80 [==============================] - 1s 5ms/step - loss: 13.7004 - accuracy: 0.7171\n",
            "80/80 [==============================] - 1s 5ms/step - loss: 13.5391 - accuracy: 0.6669\n",
            "80/80 [==============================] - 1s 4ms/step - loss: 7.9668 - accuracy: 0.3761\n",
            "80/80 [==============================] - 1s 5ms/step - loss: 9.9540 - accuracy: 0.4923\n",
            "80/80 [==============================] - 1s 5ms/step - loss: 6.0347 - accuracy: 0.3340\n",
            "80/80 [==============================] - 1s 4ms/step - loss: 8.7678 - accuracy: 0.4370\n",
            "80/80 [==============================] - 1s 5ms/step - loss: 8.4542 - accuracy: 0.4134\n",
            "80/80 [==============================] - 1s 5ms/step - loss: 6.9131 - accuracy: 0.3517\n",
            "80/80 [==============================] - 1s 5ms/step - loss: 9.9044 - accuracy: 0.5262\n",
            "80/80 [==============================] - 1s 5ms/step - loss: 10.5529 - accuracy: 0.4812\n",
            "80/80 [==============================] - 1s 5ms/step - loss: 11.3308 - accuracy: 0.5305\n",
            "80/80 [==============================] - 1s 5ms/step - loss: 7.5501 - accuracy: 0.3369\n",
            "313/313 [==============================] - 1s 2ms/step - loss: 2.4999 - accuracy: 0.8880\n",
            "EPOCHS 2 is starting...\n",
            "80/80 [==============================] - 1s 5ms/step - loss: 9.0685 - accuracy: 0.7622\n",
            "80/80 [==============================] - 1s 5ms/step - loss: 9.1181 - accuracy: 0.7443\n",
            "80/80 [==============================] - 1s 6ms/step - loss: 6.7562 - accuracy: 0.4811\n",
            "80/80 [==============================] - 1s 5ms/step - loss: 7.5330 - accuracy: 0.5831\n",
            "80/80 [==============================] - 1s 4ms/step - loss: 5.0485 - accuracy: 0.4818\n",
            "80/80 [==============================] - 1s 5ms/step - loss: 6.1908 - accuracy: 0.5480\n",
            "80/80 [==============================] - 1s 5ms/step - loss: 6.0638 - accuracy: 0.5184\n",
            "80/80 [==============================] - 1s 5ms/step - loss: 5.2302 - accuracy: 0.4758\n",
            "80/80 [==============================] - 1s 4ms/step - loss: 7.7156 - accuracy: 0.6313\n",
            "80/80 [==============================] - 1s 4ms/step - loss: 6.5195 - accuracy: 0.5991\n",
            "80/80 [==============================] - 1s 5ms/step - loss: 6.7563 - accuracy: 0.6246\n",
            "80/80 [==============================] - 1s 5ms/step - loss: 5.3829 - accuracy: 0.4639\n",
            "313/313 [==============================] - 1s 2ms/step - loss: 2.4048 - accuracy: 0.8966\n",
            "EPOCHS 3 is starting...\n",
            "80/80 [==============================] - 1s 5ms/step - loss: 8.6356 - accuracy: 0.7891\n",
            "80/80 [==============================] - 1s 5ms/step - loss: 8.3431 - accuracy: 0.7755\n",
            "80/80 [==============================] - 1s 5ms/step - loss: 5.9073 - accuracy: 0.5261\n",
            "80/80 [==============================] - 1s 5ms/step - loss: 7.6994 - accuracy: 0.6496\n",
            "80/80 [==============================] - 1s 5ms/step - loss: 4.2409 - accuracy: 0.5397\n",
            "80/80 [==============================] - 1s 5ms/step - loss: 6.3409 - accuracy: 0.6002\n",
            "80/80 [==============================] - 1s 5ms/step - loss: 5.9654 - accuracy: 0.5958\n",
            "80/80 [==============================] - 1s 5ms/step - loss: 4.6713 - accuracy: 0.5355\n",
            "80/80 [==============================] - 1s 5ms/step - loss: 7.2238 - accuracy: 0.6999\n",
            "80/80 [==============================] - 1s 5ms/step - loss: 6.5602 - accuracy: 0.6382\n",
            "80/80 [==============================] - 1s 5ms/step - loss: 6.4071 - accuracy: 0.6783\n",
            "80/80 [==============================] - 1s 5ms/step - loss: 5.2285 - accuracy: 0.5280\n",
            "313/313 [==============================] - 1s 2ms/step - loss: 2.2621 - accuracy: 0.8866\n",
            "EPOCHS 4 is starting...\n",
            "80/80 [==============================] - 1s 5ms/step - loss: 6.8029 - accuracy: 0.8153\n",
            "80/80 [==============================] - 1s 5ms/step - loss: 8.5184 - accuracy: 0.7887\n",
            "80/80 [==============================] - 1s 5ms/step - loss: 5.5493 - accuracy: 0.5821\n",
            "80/80 [==============================] - 1s 5ms/step - loss: 5.9747 - accuracy: 0.6731\n",
            "80/80 [==============================] - 1s 5ms/step - loss: 3.5353 - accuracy: 0.5682\n",
            "80/80 [==============================] - 1s 4ms/step - loss: 5.5638 - accuracy: 0.6402\n",
            "80/80 [==============================] - 1s 4ms/step - loss: 5.6743 - accuracy: 0.6273\n",
            "80/80 [==============================] - 1s 5ms/step - loss: 4.7326 - accuracy: 0.5830\n",
            "80/80 [==============================] - 1s 5ms/step - loss: 5.8056 - accuracy: 0.7036\n",
            "80/80 [==============================] - 1s 4ms/step - loss: 6.2425 - accuracy: 0.6564\n",
            "80/80 [==============================] - 1s 5ms/step - loss: 5.4229 - accuracy: 0.7259\n",
            "80/80 [==============================] - 1s 4ms/step - loss: 4.6387 - accuracy: 0.5769\n",
            "313/313 [==============================] - 1s 2ms/step - loss: 2.1834 - accuracy: 0.8809\n",
            "EPOCHS 5 is starting...\n",
            "80/80 [==============================] - 1s 5ms/step - loss: 7.2885 - accuracy: 0.8289\n",
            "80/80 [==============================] - 1s 5ms/step - loss: 8.0744 - accuracy: 0.8123\n",
            "80/80 [==============================] - 1s 5ms/step - loss: 4.5892 - accuracy: 0.6212\n",
            "80/80 [==============================] - 1s 4ms/step - loss: 6.1111 - accuracy: 0.7107\n",
            "80/80 [==============================] - 1s 4ms/step - loss: 3.2797 - accuracy: 0.6185\n",
            "80/80 [==============================] - 1s 5ms/step - loss: 5.3179 - accuracy: 0.6485\n",
            "80/80 [==============================] - 1s 5ms/step - loss: 5.1429 - accuracy: 0.6425\n",
            "80/80 [==============================] - 1s 5ms/step - loss: 3.6605 - accuracy: 0.6122\n",
            "80/80 [==============================] - 1s 4ms/step - loss: 6.0981 - accuracy: 0.7296\n",
            "80/80 [==============================] - 1s 5ms/step - loss: 5.5854 - accuracy: 0.7116\n",
            "80/80 [==============================] - 1s 5ms/step - loss: 5.8466 - accuracy: 0.7289\n",
            "80/80 [==============================] - 1s 4ms/step - loss: 4.1831 - accuracy: 0.6099\n",
            "313/313 [==============================] - 1s 2ms/step - loss: 2.0721 - accuracy: 0.8728\n",
            "EPOCHS 6 is starting...\n",
            "80/80 [==============================] - 1s 4ms/step - loss: 8.1373 - accuracy: 0.8454\n",
            "80/80 [==============================] - 1s 5ms/step - loss: 8.3856 - accuracy: 0.8231\n",
            "80/80 [==============================] - 1s 5ms/step - loss: 4.1573 - accuracy: 0.6524\n",
            "80/80 [==============================] - 1s 4ms/step - loss: 5.3491 - accuracy: 0.7195\n",
            "80/80 [==============================] - 1s 5ms/step - loss: 3.2935 - accuracy: 0.6407\n",
            "80/80 [==============================] - 1s 5ms/step - loss: 6.1047 - accuracy: 0.6874\n",
            "80/80 [==============================] - 1s 5ms/step - loss: 5.2966 - accuracy: 0.6732\n",
            "80/80 [==============================] - 1s 5ms/step - loss: 3.3168 - accuracy: 0.6259\n",
            "80/80 [==============================] - 1s 5ms/step - loss: 5.7619 - accuracy: 0.7328\n",
            "80/80 [==============================] - 1s 5ms/step - loss: 5.9704 - accuracy: 0.7207\n",
            "80/80 [==============================] - 1s 5ms/step - loss: 5.8245 - accuracy: 0.7364\n",
            "80/80 [==============================] - 1s 5ms/step - loss: 3.6752 - accuracy: 0.6398\n",
            "313/313 [==============================] - 1s 2ms/step - loss: 1.9507 - accuracy: 0.8507\n",
            "EPOCHS 7 is starting...\n",
            "80/80 [==============================] - 1s 5ms/step - loss: 7.7243 - accuracy: 0.8566\n",
            "80/80 [==============================] - 1s 5ms/step - loss: 7.1590 - accuracy: 0.8319\n",
            "80/80 [==============================] - 1s 5ms/step - loss: 5.0575 - accuracy: 0.6692\n",
            "80/80 [==============================] - 1s 5ms/step - loss: 4.8852 - accuracy: 0.7401\n",
            "80/80 [==============================] - 1s 5ms/step - loss: 2.4335 - accuracy: 0.6414\n",
            "80/80 [==============================] - 1s 5ms/step - loss: 4.3798 - accuracy: 0.6905\n",
            "80/80 [==============================] - 1s 5ms/step - loss: 4.7012 - accuracy: 0.6913\n",
            "80/80 [==============================] - 1s 4ms/step - loss: 3.4403 - accuracy: 0.6648\n",
            "80/80 [==============================] - 1s 4ms/step - loss: 4.8040 - accuracy: 0.7678\n",
            "80/80 [==============================] - 1s 5ms/step - loss: 6.2137 - accuracy: 0.7360\n",
            "80/80 [==============================] - 1s 5ms/step - loss: 5.6445 - accuracy: 0.7571\n",
            "80/80 [==============================] - 1s 4ms/step - loss: 3.5531 - accuracy: 0.6428\n",
            "313/313 [==============================] - 1s 2ms/step - loss: 1.8942 - accuracy: 0.8491\n",
            "EPOCHS 8 is starting...\n",
            "80/80 [==============================] - 1s 4ms/step - loss: 8.9382 - accuracy: 0.8626\n",
            "80/80 [==============================] - 1s 5ms/step - loss: 8.2759 - accuracy: 0.8303\n",
            "80/80 [==============================] - 1s 5ms/step - loss: 5.1544 - accuracy: 0.6751\n",
            "80/80 [==============================] - 1s 5ms/step - loss: 5.8494 - accuracy: 0.7679\n",
            "80/80 [==============================] - 1s 5ms/step - loss: 2.6626 - accuracy: 0.6500\n",
            "80/80 [==============================] - 1s 5ms/step - loss: 4.7841 - accuracy: 0.6992\n",
            "80/80 [==============================] - 1s 5ms/step - loss: 4.2844 - accuracy: 0.7039\n",
            "80/80 [==============================] - 1s 5ms/step - loss: 2.6527 - accuracy: 0.6477\n",
            "80/80 [==============================] - 1s 4ms/step - loss: 5.0583 - accuracy: 0.7868\n",
            "80/80 [==============================] - 1s 5ms/step - loss: 5.2360 - accuracy: 0.7619\n",
            "80/80 [==============================] - 1s 5ms/step - loss: 5.2296 - accuracy: 0.7759\n",
            "80/80 [==============================] - 1s 5ms/step - loss: 3.4420 - accuracy: 0.6642\n",
            "313/313 [==============================] - 1s 2ms/step - loss: 1.8016 - accuracy: 0.8242\n",
            "EPOCHS 9 is starting...\n",
            "80/80 [==============================] - 1s 5ms/step - loss: 7.0461 - accuracy: 0.8530\n",
            "80/80 [==============================] - 1s 5ms/step - loss: 7.7082 - accuracy: 0.8447\n",
            "80/80 [==============================] - 1s 5ms/step - loss: 4.5040 - accuracy: 0.6927\n",
            "80/80 [==============================] - 1s 5ms/step - loss: 5.9893 - accuracy: 0.7656\n",
            "80/80 [==============================] - 1s 5ms/step - loss: 2.0125 - accuracy: 0.6640\n",
            "80/80 [==============================] - 1s 5ms/step - loss: 4.4443 - accuracy: 0.7297\n",
            "80/80 [==============================] - 1s 5ms/step - loss: 3.6837 - accuracy: 0.7203\n",
            "80/80 [==============================] - 1s 5ms/step - loss: 2.8299 - accuracy: 0.6899\n",
            "80/80 [==============================] - 1s 5ms/step - loss: 4.8311 - accuracy: 0.7750\n",
            "80/80 [==============================] - 1s 5ms/step - loss: 5.0987 - accuracy: 0.7543\n",
            "80/80 [==============================] - 1s 5ms/step - loss: 5.9302 - accuracy: 0.7843\n",
            "80/80 [==============================] - 1s 5ms/step - loss: 3.9922 - accuracy: 0.6416\n",
            "313/313 [==============================] - 1s 2ms/step - loss: 1.7885 - accuracy: 0.8049\n",
            "EPOCHS 10 is starting...\n",
            "80/80 [==============================] - 1s 5ms/step - loss: 7.2256 - accuracy: 0.8745\n",
            "80/80 [==============================] - 1s 5ms/step - loss: 7.6125 - accuracy: 0.8486\n",
            "80/80 [==============================] - 1s 5ms/step - loss: 4.0808 - accuracy: 0.6991\n",
            "80/80 [==============================] - 1s 5ms/step - loss: 5.6505 - accuracy: 0.7656\n",
            "80/80 [==============================] - 1s 5ms/step - loss: 2.5651 - accuracy: 0.6993\n",
            "80/80 [==============================] - 1s 5ms/step - loss: 3.7922 - accuracy: 0.7625\n",
            "80/80 [==============================] - 1s 5ms/step - loss: 4.0709 - accuracy: 0.7290\n",
            "80/80 [==============================] - 1s 5ms/step - loss: 2.5979 - accuracy: 0.6966\n",
            "80/80 [==============================] - 1s 4ms/step - loss: 4.4450 - accuracy: 0.7890\n",
            "80/80 [==============================] - 1s 5ms/step - loss: 5.5659 - accuracy: 0.7455\n",
            "80/80 [==============================] - 1s 5ms/step - loss: 4.7907 - accuracy: 0.7873\n",
            "80/80 [==============================] - 1s 5ms/step - loss: 3.5939 - accuracy: 0.7057\n",
            "313/313 [==============================] - 1s 2ms/step - loss: 1.7397 - accuracy: 0.7860\n",
            "EPOCHS 11 is starting...\n",
            "80/80 [==============================] - 1s 5ms/step - loss: 7.9754 - accuracy: 0.8709\n",
            "80/80 [==============================] - 1s 5ms/step - loss: 6.6676 - accuracy: 0.8618\n",
            "80/80 [==============================] - 1s 5ms/step - loss: 3.6205 - accuracy: 0.7112\n",
            "80/80 [==============================] - 1s 5ms/step - loss: 4.6082 - accuracy: 0.7771\n",
            "80/80 [==============================] - 1s 5ms/step - loss: 2.2679 - accuracy: 0.7016\n",
            "80/80 [==============================] - 1s 5ms/step - loss: 4.5715 - accuracy: 0.7596\n",
            "80/80 [==============================] - 1s 5ms/step - loss: 4.4652 - accuracy: 0.7318\n",
            "80/80 [==============================] - 1s 5ms/step - loss: 2.5091 - accuracy: 0.7083\n",
            "80/80 [==============================] - 1s 5ms/step - loss: 4.0929 - accuracy: 0.8141\n",
            "80/80 [==============================] - 1s 5ms/step - loss: 4.1354 - accuracy: 0.7616\n",
            "80/80 [==============================] - 1s 5ms/step - loss: 4.3839 - accuracy: 0.8011\n",
            "80/80 [==============================] - 1s 5ms/step - loss: 3.0666 - accuracy: 0.7045\n",
            "313/313 [==============================] - 1s 2ms/step - loss: 1.6948 - accuracy: 0.7848\n",
            "EPOCHS 12 is starting...\n",
            "80/80 [==============================] - 1s 5ms/step - loss: 8.6326 - accuracy: 0.8721\n",
            "80/80 [==============================] - 1s 5ms/step - loss: 6.7407 - accuracy: 0.8571\n",
            "80/80 [==============================] - 1s 5ms/step - loss: 2.7772 - accuracy: 0.7282\n",
            "80/80 [==============================] - 1s 5ms/step - loss: 4.4052 - accuracy: 0.7770\n",
            "80/80 [==============================] - 1s 5ms/step - loss: 2.2872 - accuracy: 0.7230\n",
            "80/80 [==============================] - 1s 4ms/step - loss: 3.4742 - accuracy: 0.7686\n",
            "80/80 [==============================] - 1s 4ms/step - loss: 4.7205 - accuracy: 0.7618\n",
            "80/80 [==============================] - 1s 5ms/step - loss: 2.6178 - accuracy: 0.7195\n",
            "80/80 [==============================] - 1s 4ms/step - loss: 4.4286 - accuracy: 0.8162\n",
            "80/80 [==============================] - 1s 4ms/step - loss: 5.2046 - accuracy: 0.7668\n",
            "80/80 [==============================] - 1s 4ms/step - loss: 4.9462 - accuracy: 0.8060\n",
            "80/80 [==============================] - 1s 5ms/step - loss: 2.6136 - accuracy: 0.7122\n",
            "313/313 [==============================] - 1s 2ms/step - loss: 1.6741 - accuracy: 0.7406\n",
            "EPOCHS 13 is starting...\n",
            "80/80 [==============================] - 1s 5ms/step - loss: 7.5917 - accuracy: 0.8823\n",
            "80/80 [==============================] - 1s 6ms/step - loss: 8.4379 - accuracy: 0.8676\n",
            "80/80 [==============================] - 1s 4ms/step - loss: 4.0522 - accuracy: 0.7133\n",
            "80/80 [==============================] - 1s 5ms/step - loss: 4.7100 - accuracy: 0.7914\n",
            "80/80 [==============================] - 1s 5ms/step - loss: 1.9118 - accuracy: 0.7237\n",
            "80/80 [==============================] - 1s 5ms/step - loss: 3.5686 - accuracy: 0.7716\n",
            "80/80 [==============================] - 1s 4ms/step - loss: 3.5785 - accuracy: 0.7735\n",
            "80/80 [==============================] - 1s 5ms/step - loss: 2.4847 - accuracy: 0.7511\n",
            "80/80 [==============================] - 1s 4ms/step - loss: 5.0732 - accuracy: 0.8015\n",
            "80/80 [==============================] - 1s 5ms/step - loss: 4.5490 - accuracy: 0.7750\n",
            "80/80 [==============================] - 1s 4ms/step - loss: 4.3937 - accuracy: 0.8203\n",
            "80/80 [==============================] - 1s 4ms/step - loss: 2.4844 - accuracy: 0.7127\n",
            "313/313 [==============================] - 1s 2ms/step - loss: 1.6625 - accuracy: 0.7356\n",
            "EPOCHS 14 is starting...\n",
            "80/80 [==============================] - 1s 5ms/step - loss: 6.6542 - accuracy: 0.8793\n",
            "80/80 [==============================] - 1s 5ms/step - loss: 6.9836 - accuracy: 0.8583\n",
            "80/80 [==============================] - 1s 5ms/step - loss: 3.4320 - accuracy: 0.7192\n",
            "80/80 [==============================] - 1s 5ms/step - loss: 5.1117 - accuracy: 0.8013\n",
            "80/80 [==============================] - 1s 5ms/step - loss: 1.8584 - accuracy: 0.7458\n",
            "80/80 [==============================] - 1s 5ms/step - loss: 3.6787 - accuracy: 0.7788\n",
            "80/80 [==============================] - 1s 5ms/step - loss: 3.2392 - accuracy: 0.7749\n",
            "80/80 [==============================] - 1s 5ms/step - loss: 2.0884 - accuracy: 0.7633\n",
            "80/80 [==============================] - 1s 5ms/step - loss: 4.6479 - accuracy: 0.8179\n",
            "80/80 [==============================] - 1s 5ms/step - loss: 4.9003 - accuracy: 0.7894\n",
            "80/80 [==============================] - 1s 5ms/step - loss: 5.0223 - accuracy: 0.8210\n",
            "80/80 [==============================] - 1s 4ms/step - loss: 2.8306 - accuracy: 0.7287\n",
            "313/313 [==============================] - 1s 2ms/step - loss: 1.6259 - accuracy: 0.7248\n",
            "EPOCHS 15 is starting...\n",
            "80/80 [==============================] - 1s 5ms/step - loss: 6.8991 - accuracy: 0.8929\n",
            "80/80 [==============================] - 1s 5ms/step - loss: 7.0642 - accuracy: 0.8606\n",
            "80/80 [==============================] - 1s 5ms/step - loss: 3.9348 - accuracy: 0.7380\n",
            "80/80 [==============================] - 1s 5ms/step - loss: 5.3622 - accuracy: 0.8111\n",
            "80/80 [==============================] - 1s 5ms/step - loss: 1.9052 - accuracy: 0.7546\n",
            "80/80 [==============================] - 1s 5ms/step - loss: 4.2614 - accuracy: 0.7882\n",
            "80/80 [==============================] - 1s 5ms/step - loss: 2.9256 - accuracy: 0.7716\n",
            "80/80 [==============================] - 1s 4ms/step - loss: 2.2546 - accuracy: 0.7713\n",
            "80/80 [==============================] - 1s 4ms/step - loss: 5.0474 - accuracy: 0.8229\n",
            "80/80 [==============================] - 1s 4ms/step - loss: 3.9742 - accuracy: 0.7825\n",
            "80/80 [==============================] - 1s 5ms/step - loss: 5.4688 - accuracy: 0.8238\n",
            "80/80 [==============================] - 1s 5ms/step - loss: 2.9765 - accuracy: 0.7344\n",
            "313/313 [==============================] - 1s 2ms/step - loss: 1.6982 - accuracy: 0.7060\n",
            "EPOCHS 16 is starting...\n",
            "80/80 [==============================] - 1s 4ms/step - loss: 7.1193 - accuracy: 0.8779\n",
            "80/80 [==============================] - 1s 5ms/step - loss: 7.0776 - accuracy: 0.8697\n",
            "80/80 [==============================] - 1s 5ms/step - loss: 3.7348 - accuracy: 0.7499\n",
            "80/80 [==============================] - 1s 5ms/step - loss: 4.7709 - accuracy: 0.7976\n",
            "80/80 [==============================] - 1s 4ms/step - loss: 2.0944 - accuracy: 0.7583\n",
            "80/80 [==============================] - 1s 4ms/step - loss: 4.7818 - accuracy: 0.8006\n",
            "80/80 [==============================] - 1s 5ms/step - loss: 3.5039 - accuracy: 0.7870\n",
            "80/80 [==============================] - 1s 4ms/step - loss: 1.7429 - accuracy: 0.7579\n",
            "80/80 [==============================] - 1s 5ms/step - loss: 4.7770 - accuracy: 0.8321\n",
            "80/80 [==============================] - 1s 5ms/step - loss: 5.7879 - accuracy: 0.7959\n",
            "80/80 [==============================] - 1s 5ms/step - loss: 4.7669 - accuracy: 0.8120\n",
            "80/80 [==============================] - 1s 5ms/step - loss: 3.2479 - accuracy: 0.7537\n",
            "313/313 [==============================] - 1s 2ms/step - loss: 1.5902 - accuracy: 0.7132\n",
            "EPOCHS 17 is starting...\n",
            "80/80 [==============================] - 1s 5ms/step - loss: 7.0503 - accuracy: 0.8745\n",
            "80/80 [==============================] - 1s 5ms/step - loss: 7.5111 - accuracy: 0.8843\n",
            "80/80 [==============================] - 1s 5ms/step - loss: 3.5394 - accuracy: 0.7438\n",
            "80/80 [==============================] - 1s 5ms/step - loss: 4.5287 - accuracy: 0.8048\n",
            "80/80 [==============================] - 1s 5ms/step - loss: 2.4021 - accuracy: 0.7547\n",
            "80/80 [==============================] - 1s 5ms/step - loss: 3.2704 - accuracy: 0.7896\n",
            "80/80 [==============================] - 1s 4ms/step - loss: 3.1374 - accuracy: 0.7919\n",
            "80/80 [==============================] - 1s 5ms/step - loss: 2.1708 - accuracy: 0.7713\n",
            "80/80 [==============================] - 1s 5ms/step - loss: 3.9744 - accuracy: 0.8291\n",
            "80/80 [==============================] - 1s 5ms/step - loss: 4.4824 - accuracy: 0.7947\n",
            "80/80 [==============================] - 1s 5ms/step - loss: 4.6756 - accuracy: 0.8288\n",
            "80/80 [==============================] - 1s 5ms/step - loss: 2.6540 - accuracy: 0.7462\n",
            "313/313 [==============================] - 1s 2ms/step - loss: 1.5960 - accuracy: 0.7080\n",
            "EPOCHS 18 is starting...\n",
            "80/80 [==============================] - 1s 5ms/step - loss: 6.3663 - accuracy: 0.9048\n",
            "80/80 [==============================] - 1s 5ms/step - loss: 7.8626 - accuracy: 0.8745\n",
            "80/80 [==============================] - 1s 5ms/step - loss: 4.0238 - accuracy: 0.7653\n",
            "80/80 [==============================] - 1s 5ms/step - loss: 4.7288 - accuracy: 0.8134\n",
            "80/80 [==============================] - 1s 5ms/step - loss: 1.1614 - accuracy: 0.7656\n",
            "80/80 [==============================] - 1s 5ms/step - loss: 3.6248 - accuracy: 0.8081\n",
            "80/80 [==============================] - 1s 5ms/step - loss: 2.6317 - accuracy: 0.7833\n",
            "80/80 [==============================] - 1s 5ms/step - loss: 1.7030 - accuracy: 0.7643\n",
            "80/80 [==============================] - 1s 5ms/step - loss: 3.7014 - accuracy: 0.8280\n",
            "80/80 [==============================] - 1s 5ms/step - loss: 4.8257 - accuracy: 0.8041\n",
            "80/80 [==============================] - 1s 5ms/step - loss: 5.2055 - accuracy: 0.8441\n",
            "80/80 [==============================] - 1s 4ms/step - loss: 2.1515 - accuracy: 0.7575\n",
            "313/313 [==============================] - 1s 2ms/step - loss: 1.6239 - accuracy: 0.6786\n",
            "EPOCHS 19 is starting...\n",
            "80/80 [==============================] - 1s 5ms/step - loss: 7.5985 - accuracy: 0.8988\n",
            "80/80 [==============================] - 1s 6ms/step - loss: 7.2068 - accuracy: 0.8964\n",
            "80/80 [==============================] - 1s 5ms/step - loss: 3.9758 - accuracy: 0.7685\n",
            "80/80 [==============================] - 1s 5ms/step - loss: 4.8234 - accuracy: 0.8163\n",
            "80/80 [==============================] - 1s 5ms/step - loss: 2.1323 - accuracy: 0.7629\n",
            "80/80 [==============================] - 1s 5ms/step - loss: 2.9285 - accuracy: 0.8045\n",
            "80/80 [==============================] - 1s 5ms/step - loss: 3.0758 - accuracy: 0.7793\n",
            "80/80 [==============================] - 1s 4ms/step - loss: 1.5536 - accuracy: 0.7786\n",
            "80/80 [==============================] - 1s 5ms/step - loss: 4.0224 - accuracy: 0.8404\n",
            "80/80 [==============================] - 1s 5ms/step - loss: 5.6925 - accuracy: 0.8181\n",
            "80/80 [==============================] - 1s 5ms/step - loss: 4.2991 - accuracy: 0.8424\n",
            "80/80 [==============================] - 1s 5ms/step - loss: 3.2112 - accuracy: 0.7635\n",
            "313/313 [==============================] - 1s 3ms/step - loss: 1.6029 - accuracy: 0.6806\n"
          ],
          "name": "stdout"
        }
      ]
    },
    {
      "cell_type": "code",
      "metadata": {
        "id": "NbpXvIuEPzwX"
      },
      "source": [
        ""
      ],
      "execution_count": null,
      "outputs": []
    },
    {
      "cell_type": "code",
      "metadata": {
        "id": "KtBMBFo7Pzg2",
        "colab": {
          "base_uri": "https://localhost:8080/",
          "height": 281
        },
        "outputId": "f15855ec-c92a-461a-c053-9e0b8cd670ec"
      },
      "source": [
        "S_acc2 =[S2.loss_acc[i][1]*100 for i in range(len(S2.loss_acc))]\n",
        "S_loss2 =[S2.loss_acc[i][0] for i in range(len(S2.loss_acc))]\n",
        "\n",
        "x = np.arange(len(S2.loss_acc))\n",
        "fig = plt.figure()\n",
        "ax1 = fig.add_subplot(111)\n",
        "acc = ax1.plot(x,S_acc2,'r',label='Acc')\n",
        "ax1.set_ylabel('Acc')\n",
        "ax1.set_title('Acc-Loss')\n",
        "\n",
        "ax2 = ax1.twinx()\n",
        "loss = ax2.plot(x,S_loss2,label='Loss')\n",
        "ax2.set_ylabel('Loss')\n",
        "\n",
        "lns = acc+loss\n",
        "labs = [l.get_label() for l in lns]\n",
        "ax2.legend(lns,labs)\n",
        "plt.show()"
      ],
      "execution_count": null,
      "outputs": [
        {
          "output_type": "display_data",
          "data": {
            "image/png": "[encoded data removed]",
            "text/plain": [
              "<Figure size 432x288 with 2 Axes>"
            ]
          },
          "metadata": {
            "tags": [],
            "needs_background": "light"
          }
        }
      ]
    },
    {
      "cell_type": "markdown",
      "metadata": {
        "id": "WwiFCb96CUyn"
      },
      "source": [
        "聚合轮数较多时，本文设计的算法能对性能下降起到一个缓冲作用"
      ]
    },
    {
      "cell_type": "code",
      "metadata": {
        "colab": {
          "base_uri": "https://localhost:8080/",
          "height": 281
        },
        "id": "wuOQuKLaCUVF",
        "outputId": "801ce232-99f3-49e9-a162-88caa22b5f7f"
      },
      "source": [
        "x = np.arange(len(S2.loss_acc))\n",
        "fig = plt.figure()\n",
        "ax1 = fig.add_subplot(111)\n",
        "acc = ax1.plot(x,S_acc,'r',label='NewFed-Acc')\n",
        "ax1.set_ylabel('NewFed-Acc')\n",
        "ax1.set_title('New/FedAvg')\n",
        "\n",
        "ax2 = ax1.twinx()\n",
        "loss = ax2.plot(x,S_acc2,label='FedAvg-Acc')\n",
        "ax2.set_ylabel('FedAvg-Acc')\n",
        "\n",
        "lns = acc+loss\n",
        "labs = [l.get_label() for l in lns]\n",
        "ax2.legend(lns,labs)\n",
        "plt.show()"
      ],
      "execution_count": null,
      "outputs": [
        {
          "output_type": "display_data",
          "data": {
            "image/png": "[encoded data removed]",
            "text/plain": [
              "<Figure size 432x288 with 2 Axes>"
            ]
          },
          "metadata": {
            "tags": [],
            "needs_background": "light"
          }
        }
      ]
    },
    {
      "cell_type": "code",
      "metadata": {
        "id": "mPLaC0tCDKLt"
      },
      "source": [
        ""
      ],
      "execution_count": null,
      "outputs": []
    }
  ]
}