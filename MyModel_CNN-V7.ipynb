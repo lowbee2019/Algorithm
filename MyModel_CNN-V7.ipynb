{
  "nbformat": 4,
  "nbformat_minor": 0,
  "metadata": {
    "colab": {
      "name": "MyModel-CNN.ipynb",
      "provenance": [],
      "collapsed_sections": [
        "MwmKo3gLrI-i"
      ],
      "authorship_tag": "ABX9TyMDHw9pP8xVs4Pz/XbV6TVF",
      "include_colab_link": true
    },
    "kernelspec": {
      "display_name": "Python 3",
      "name": "python3"
    },
    "language_info": {
      "name": "python"
    },
    "accelerator": "GPU"
  },
  "cells": [
    {
      "cell_type": "markdown",
      "metadata": {
        "id": "view-in-github",
        "colab_type": "text"
      },
      "source": [
        "<a href=\"https://colab.research.google.com/github/lowbee2019/Algorithm/blob/master/MyModel_CNN-V7.ipynb\" target=\"_parent\"><img src=\"https://colab.research.google.com/assets/colab-badge.svg\" alt=\"Open In Colab\"/></a>"
      ]
    },
    {
      "cell_type": "markdown",
      "metadata": {
        "id": "vshjLqDgO5yu"
      },
      "source": [
        "# 实验环境准备"
      ]
    },
    {
      "cell_type": "code",
      "metadata": {
        "colab": {
          "base_uri": "https://localhost:8080/"
        },
        "id": "uoFhItkFEsF8",
        "outputId": "34a650fe-7189-4d5b-a1aa-47128e49c68c"
      },
      "source": [
        "!pip install emnist"
      ],
      "execution_count": null,
      "outputs": [
        {
          "output_type": "stream",
          "text": [
            "Collecting emnist\n",
            "  Downloading https://files.pythonhosted.org/packages/d1/f4/78b24acbef9e8fe976dda700f16a3606f3b8363b015bc555f8050fbbd8ac/emnist-0.0-py3-none-any.whl\n",
            "Requirement already satisfied: numpy in /usr/local/lib/python3.7/dist-packages (from emnist) (1.19.5)\n",
            "Requirement already satisfied: requests in /usr/local/lib/python3.7/dist-packages (from emnist) (2.23.0)\n",
            "Requirement already satisfied: tqdm in /usr/local/lib/python3.7/dist-packages (from emnist) (4.41.1)\n",
            "Requirement already satisfied: urllib3!=1.25.0,!=1.25.1,<1.26,>=1.21.1 in /usr/local/lib/python3.7/dist-packages (from requests->emnist) (1.24.3)\n",
            "Requirement already satisfied: chardet<4,>=3.0.2 in /usr/local/lib/python3.7/dist-packages (from requests->emnist) (3.0.4)\n",
            "Requirement already satisfied: idna<3,>=2.5 in /usr/local/lib/python3.7/dist-packages (from requests->emnist) (2.10)\n",
            "Requirement already satisfied: certifi>=2017.4.17 in /usr/local/lib/python3.7/dist-packages (from requests->emnist) (2020.12.5)\n",
            "Installing collected packages: emnist\n",
            "Successfully installed emnist-0.0\n"
          ],
          "name": "stdout"
        }
      ]
    },
    {
      "cell_type": "code",
      "metadata": {
        "id": "9e4So1L3pPWp"
      },
      "source": [
        "import tensorflow as tf\n",
        "import numpy as np\n",
        "from tensorflow.keras import datasets,layers,models\n",
        "import collections\n",
        "import copy\n",
        "import random\n",
        "import emnist\n",
        "import datetime\n",
        "import os\n",
        "import matplotlib.pyplot as plt"
      ],
      "execution_count": null,
      "outputs": []
    },
    {
      "cell_type": "code",
      "metadata": {
        "id": "6pkKi1GlSJ0S"
      },
      "source": [
        "os.environ[\"CUDA_VISIBLE_DEVICES\"]=\"0\""
      ],
      "execution_count": null,
      "outputs": []
    },
    {
      "cell_type": "markdown",
      "metadata": {
        "id": "YQaIGTfxmSfi"
      },
      "source": [
        "# Server Initialization"
      ]
    },
    {
      "cell_type": "code",
      "metadata": {
        "id": "PTK_p961nsA5"
      },
      "source": [
        "class ParamServer(object):\n",
        "  def __init__(self,init_model_path):\n",
        "    self.init_model_path = init_model_path\n",
        "    self.round = 0\n",
        "    self.optimizer = 'adam'\n",
        "    self.loss = \"sparse_categorical_crossentropy\"\n",
        "    self.metrics =['accuracy']\n",
        "    self.loss_acc = []\n",
        "\n",
        "  def PreTrain(self,model,data,labels,batch_size=32,epochs=5):\n",
        "    model.compile(optimizer=self.optimizer,\n",
        "                  loss=self.loss,\n",
        "                  metrics=self.metrics)\n",
        "    _metrics = model.fit(data,labels,batch_size,epochs)\n",
        "    return model\n",
        "  \n",
        "  def PreEval(self,model,validation_data):\n",
        "    model.compile(optimizer=self.optimizer,\n",
        "                  loss=self.loss,\n",
        "                  metrics=self.metrics)\n",
        "    self.loss_acc.append(model.evaluate(x=validation_data[0],y=validation_data[1]))\n"
      ],
      "execution_count": null,
      "outputs": []
    },
    {
      "cell_type": "markdown",
      "metadata": {
        "id": "iRvlGAmjmxbw"
      },
      "source": [
        "## Emnist数据集的预处理"
      ]
    },
    {
      "cell_type": "code",
      "metadata": {
        "id": "uUdPNuYqDmbD",
        "colab": {
          "base_uri": "https://localhost:8080/"
        },
        "outputId": "bb2b3069-113a-4b5a-8114-f03323716324"
      },
      "source": [
        "LetterDataSet = emnist.extract_training_samples('letters')\n",
        "DigitDataSet = emnist.extract_training_samples('digits')\n",
        "\n",
        "LetterDataSet = (np.expand_dims(LetterDataSet[0]/255.0,axis=3),np.expand_dims(LetterDataSet[1]*0+10,axis=1)) \n",
        "DigitDataSet = (np.expand_dims(DigitDataSet[0]/255.0,axis=3),np.expand_dims(DigitDataSet[1],axis=1))"
      ],
      "execution_count": null,
      "outputs": [
        {
          "output_type": "stream",
          "text": [
            "Downloading emnist.zip: 536MB [00:03, 143MB/s]\n"
          ],
          "name": "stderr"
        }
      ]
    },
    {
      "cell_type": "code",
      "metadata": {
        "colab": {
          "base_uri": "https://localhost:8080/"
        },
        "id": "N66yuvvfDmHF",
        "outputId": "40a3b216-3278-4562-ff42-a2256cc754c7"
      },
      "source": [
        "LetterDataSet[0].shape,DigitDataSet[0].shape"
      ],
      "execution_count": null,
      "outputs": [
        {
          "output_type": "execute_result",
          "data": {
            "text/plain": [
              "((124800, 28, 28, 1), (240000, 28, 28, 1))"
            ]
          },
          "metadata": {
            "tags": []
          },
          "execution_count": 6
        }
      ]
    },
    {
      "cell_type": "code",
      "metadata": {
        "id": "qA_gvtUkm8sV"
      },
      "source": [
        "ShareData = DigitDataSet[0][0:200]\n",
        "ShareLabel = DigitDataSet[1][0:200]\n",
        "validation_data=(ShareData,ShareLabel)\n",
        "validation_sever = (DigitDataSet[0][200:400],DigitDataSet[1][200:400])"
      ],
      "execution_count": null,
      "outputs": []
    },
    {
      "cell_type": "markdown",
      "metadata": {
        "id": "2L712LCIm6Vv"
      },
      "source": [
        "## 模型的定义"
      ]
    },
    {
      "cell_type": "code",
      "metadata": {
        "id": "C0noj5RjmF0i"
      },
      "source": [
        "class FLModel(tf.keras.Model):\n",
        "  def __init__(self,row,col,num_classes=62,*args,**kwargs):\n",
        "    super(FLModel,self).__init__(*args,**kwargs)\n",
        "    self.row = row\n",
        "    self.col = col\n",
        "    self.num_classes = num_classes\n",
        "    # self.flatten = tf.keras.layers.Flatten(input_shape=(row,col))\n",
        "    # self.dense_1 = tf.keras.layers.Dense(128,activation='relu',name=\"dense_1\")\n",
        "    # self.dense_2 = tf.keras.layers.Dense(num_classes,activation='softmax',name=\"dense_2\")\n",
        "    # self.drop = tf.keras.layers.Dropout(0.2)\n",
        "    \n",
        "    self.model = models.Sequential()\n",
        "    # 第1层卷积，卷积核大小为3*3，32个，28*28为待训练图片的大小\n",
        "    self.model.add(layers.Conv2D(32, (3, 3), activation='relu', input_shape=(self.row, self.col, 1)))\n",
        "    self.model.add(layers.MaxPooling2D((2, 2)))\n",
        "    # 第2层卷积，卷积核大小为3*3，64个\n",
        "    self.model.add(layers.Conv2D(64, (3, 3), activation='relu'))\n",
        "    self.model.add(layers.MaxPooling2D((2, 2)))\n",
        "    # 第3层卷积，卷积核大小为3*3，64个\n",
        "    self.model.add(layers.Conv2D(64, (3, 3), activation='relu'))\n",
        "\n",
        "    self.model.add(layers.Flatten())\n",
        "    self.model.add(layers.Dense(64, activation='relu'))\n",
        "    self.model.add(layers.Dense(num_classes, activation='softmax'))\n",
        "\n",
        "  def call(self,inputs):\n",
        "    return self.model(inputs)\n",
        "\n",
        "  def copy(self):\n",
        "    NewModel = FLModel(self.row,self.col,self.num_classes)\n",
        "    _ = NewModel(tf.convert_to_tensor(np.zeros([1,self.row,self.col,1])))\n",
        "    ##Layers\n",
        "    NewVars = NewModel.trainable_variables #此处为空列表，因为没有训练,这个地方参数传递是不是有问题\n",
        "    OldVars = self.trainable_variables\n",
        "    for n,o in zip(NewVars,OldVars):\n",
        "      n.assign(o.numpy())\n",
        "    return NewModel\n"
      ],
      "execution_count": null,
      "outputs": []
    },
    {
      "cell_type": "markdown",
      "metadata": {
        "id": "Z5LMvoXcoiz2"
      },
      "source": [
        "#Client Initialization"
      ]
    },
    {
      "cell_type": "code",
      "metadata": {
        "id": "Hvu8wCjbooCF"
      },
      "source": [
        "class Client(object):\n",
        "  def __init__(self,id,model=None,Train_dataset=None,Test_dataset=None):\n",
        "    self.id = id\n",
        "    self.model = model\n",
        "    self.Train_dataset = Train_dataset\n",
        "    self.Test_dataset = Test_dataset\n",
        "    # from ParamServer\n",
        "    self.ParamModel = None\n",
        "    self.num_epochs = 5\n",
        "    self.batch_size = 32\n",
        "    self.shuffle_buffer = 100\n",
        "    self.prefetch_buffer = 10\n",
        "\n",
        "\n",
        "  def ReceiveModel(self,ParamModel,num_epochs=1,batch_size=32,shuffle_buffer=100,prefetch_buffer=10):\n",
        "    self.ParamModel = ParamModel\n",
        "    self.num_epochs = num_epochs\n",
        "    self.batch_size = batch_size\n",
        "    self.shuffle_buffer = shuffle_buffer\n",
        "    self.prefetch_buffer = prefetch_buffer\n",
        "  \n",
        "\n",
        "  def NodeTrain(self):\n",
        "    model = self.ParamModel\n",
        "    x,y = self.Train_dataset\n",
        "    model.compile(\n",
        "        # optimizer=keras.optimizers.SGD(lr=0.01, momentum=0.0, decay=0.0, nesterov=False),##'adam',\n",
        "        optimizer='adam',\n",
        "        loss='sparse_categorical_crossentropy',\n",
        "        metrics=['accuracy'])\n",
        "    \n",
        "    _metrics = model.fit(x,y,batch_size=self.batch_size,epochs=self.num_epochs)\n",
        "    self.model = model\n",
        "\n",
        "  def NodeEval(self):\n",
        "    x,y = self.Test_dataset\n",
        "    return self.model.evaluate(x,y)\n"
      ],
      "execution_count": null,
      "outputs": []
    },
    {
      "cell_type": "code",
      "metadata": {
        "id": "rBIE9FKUNNJX"
      },
      "source": [
        "def create_data_for_clients(SampleNum,LetterDataSet,DigitDataSet,DigitPercentage=0.7):\n",
        "  DigitNum = int(SampleNum*DigitPercentage)\n",
        "  LetterNum = SampleNum - DigitNum\n",
        "  x_sequence = []\n",
        "  y_sequence = []\n",
        "  if DigitNum > 0:\n",
        "    for i in range(DigitNum):\n",
        "      index = random.randint(0,len(DigitDataSet[0])-1)\n",
        "      x_sequence.append(DigitDataSet[0][index])\n",
        "      y_sequence.append(DigitDataSet[1][index])\n",
        "  if LetterNum > 0:\n",
        "    for j in range(LetterNum):\n",
        "      index = random.randint(0,len(LetterDataSet[0])-1)\n",
        "      x_sequence.append(LetterDataSet[0][index])\n",
        "      y_sequence.append(LetterDataSet[1][index])\n",
        "  # print(x_sequence[1].shape,y_sequence[1].shape)\n",
        "  x = np.array(x_sequence,dtype=np.float64)\n",
        "  y = np.array(y_sequence,dtype=np.int8)\n",
        "  #shuffle\n",
        "  state = np.random.get_state()\n",
        "  np.random.shuffle(x)\n",
        "  np.random.set_state(state)\n",
        "  np.random.shuffle(y)\n",
        "  \n",
        "  return (x,y)"
      ],
      "execution_count": null,
      "outputs": []
    },
    {
      "cell_type": "markdown",
      "metadata": {
        "id": "En8MczNik638"
      },
      "source": [
        "#阶段一：为Client分配数据（预处理工作）"
      ]
    },
    {
      "cell_type": "code",
      "metadata": {
        "id": "QE_WXcMMt1kP"
      },
      "source": [
        "NUM_CLIENTS = 12\n",
        "NUM_TRAIN_SAMPLE_CLIENT = 256\n",
        "NUM_TEST_SAMPLE_CLIENT = 256\n",
        "CLASS_NUM = 11\n",
        "NUM_EPOCHS = 20"
      ],
      "execution_count": null,
      "outputs": []
    },
    {
      "cell_type": "code",
      "metadata": {
        "id": "-Tmf__umcO1l"
      },
      "source": [
        "clients=[]\n",
        "for i in range(NUM_CLIENTS):\n",
        "  clients.append(Client(i,\n",
        "                        Train_dataset=create_data_for_clients(SampleNum=256,\n",
        "                                                              LetterDataSet=LetterDataSet,\n",
        "                                                              DigitDataSet=DigitDataSet,\n",
        "                                                              DigitPercentage=random.random()),\n",
        "                        Test_dataset=validation_data\n",
        "                        )\n",
        "  )"
      ],
      "execution_count": null,
      "outputs": []
    },
    {
      "cell_type": "markdown",
      "metadata": {
        "id": "V9Jjje417iuZ"
      },
      "source": [
        "Show DataSet"
      ]
    },
    {
      "cell_type": "code",
      "metadata": {
        "colab": {
          "base_uri": "https://localhost:8080/",
          "height": 879
        },
        "id": "7RO4LfKq72nf",
        "outputId": "d0689c48-3ca1-402c-b61d-9f63b21db0c6"
      },
      "source": [
        "\n",
        "f = plt.figure(figsize=(15,15))\n",
        "for i in range(NUM_CLIENTS):\n",
        "  client_dataset = clients[i].Train_dataset\n",
        "  plot_data = collections.defaultdict(list)\n",
        "  for [label] in client_dataset[1].tolist():\n",
        "    plot_data[label].append(label)\n",
        "  plt.subplot(3,4,i+1)\n",
        "  plt.title('Client {}'.format(i))\n",
        "  for j in range(CLASS_NUM):\n",
        "    plt.hist(\n",
        "        plot_data[j],\n",
        "        density = False,\n",
        "        bins = [x for x in range(len(plot_data)+1)]\n",
        "    )"
      ],
      "execution_count": null,
      "outputs": [
        {
          "output_type": "display_data",
          "data": {
            "image/png": "[encoded data removed]",
            "text/plain": [
              "<Figure size 1080x1080 with 12 Axes>"
            ]
          },
          "metadata": {
            "tags": [],
            "needs_background": "light"
          }
        }
      ]
    },
    {
      "cell_type": "markdown",
      "metadata": {
        "id": "JfqcXNr8jqi1"
      },
      "source": [
        "显示一下数字与字母的对比\n"
      ]
    },
    {
      "cell_type": "code",
      "metadata": {
        "colab": {
          "base_uri": "https://localhost:8080/",
          "height": 862
        },
        "id": "SkJ-l1ZSjpWf",
        "outputId": "ba2a1283-7c67-4bb6-9e18-4eab937e41f6"
      },
      "source": [
        "f = plt.figure(figsize=(15,15))\n",
        "for i in range(NUM_CLIENTS):\n",
        "  client_dataset = clients[i].Train_dataset\n",
        "  plot_data = {0:0,1:0}\n",
        "  plot_labels = ['digits','letters']\n",
        "  for label in client_dataset[1]:\n",
        "    label = 0 if label < 10 else 1\n",
        "    plot_data[label]+=1\n",
        "  # print(plot_data)\n",
        "  data_labels = list(sorted(plot_data.keys()))\n",
        "  # print(data_labels)\n",
        "  data_nums = [plot_data[i] for i in data_labels]\n",
        "  colors = ['red','blue']\n",
        "  plt.subplot(3,4,i+1)\n",
        "  patches,text1,text2 = plt.pie(data_nums,\n",
        "                              labels=plot_labels,\n",
        "                              autopct='%3.2f%%',\n",
        "                              shadow=False,\n",
        "                              startangle=90,\n",
        "                              pctdistance=0.6)\n",
        "  plt.axis('equal')\n",
        "  plt.title('Client {}'.format(i))\n",
        "plt.show()\n"
      ],
      "execution_count": null,
      "outputs": [
        {
          "output_type": "display_data",
          "data": {
            "image/png": "[encoded data removed]",
            "text/plain": [
              "<Figure size 1080x1080 with 12 Axes>"
            ]
          },
          "metadata": {
            "tags": []
          }
        }
      ]
    },
    {
      "cell_type": "markdown",
      "metadata": {
        "id": "6PVxsGIpvlLn"
      },
      "source": [
        "#阶段二：中央服务器下发模型"
      ]
    },
    {
      "cell_type": "markdown",
      "metadata": {
        "id": "A5NIsOQgRp9h"
      },
      "source": [
        "Distance Between two models"
      ]
    },
    {
      "cell_type": "code",
      "metadata": {
        "id": "fX5rrSBk72Vw"
      },
      "source": [
        "def Distance(HookModel,TestModel):\n",
        "  len_it = len(HookModel.trainable_variables)\n",
        "  Hook_weights=[]\n",
        "  Test_weights=[]\n",
        "  for index in range(len_it):\n",
        "    Hook_weights.append(HookModel.trainable_variables[index].numpy().reshape(-1,))\n",
        "    Test_weights.append(TestModel.trainable_variables[index].numpy().reshape(-1,))\n",
        "  target = []\n",
        "  dis_norm2=[]\n",
        "  for i in range(len_it):\n",
        "    target.append(Hook_weights[i]-Test_weights[i])\n",
        "    dis_norm2.append(np.linalg.norm(target[i],2))\n",
        "  weight_weights = np.ones([len_it,1])\n",
        "  #调整权重\n",
        "  # weight_weights[0]=0\n",
        "  # weight_weights[1]=0\n",
        "  dis = np.dot(dis_norm2,weight_weights)\n",
        "  return dis"
      ],
      "execution_count": null,
      "outputs": []
    },
    {
      "cell_type": "code",
      "metadata": {
        "id": "IYTX2XVhSCoD"
      },
      "source": [
        "def GetDistDict(Clients,Clients_Num,TargetModel):\n",
        "  \"\"\"\n",
        "  return {'client id':Distance(TargetModel,client_id.model)}\n",
        "  \"\"\"\n",
        "  DistDict = collections.OrderedDict()\n",
        "  for i in range(Clients_Num):\n",
        "    DistDict[i] = Distance(TargetModel,Clients[i].model)\n",
        "  return DistDict"
      ],
      "execution_count": null,
      "outputs": []
    },
    {
      "cell_type": "code",
      "metadata": {
        "id": "-P3c9QztWPLj"
      },
      "source": [
        "def ParticipatedNode(AccuracyList,AccThreshold=0.05):\n",
        "  tmp = [i for i in range(len(AccuracyList)) if AccuracyList[i]>AccThreshold]\n",
        "\n",
        "  if len(tmp):\n",
        "    return tmp\n",
        "  else:\n",
        "    return [i for i in range(len(AccuracyList))]"
      ],
      "execution_count": null,
      "outputs": []
    },
    {
      "cell_type": "markdown",
      "metadata": {
        "id": "1TfBfhWeV8k3"
      },
      "source": [
        "## Show Result Function"
      ]
    },
    {
      "cell_type": "code",
      "metadata": {
        "id": "GFoIQ15Ag62z"
      },
      "source": [
        "def ShowWeights(WeightsDictList,Epoch):\n",
        "  \"\"\"\n",
        "  WeightDict[0] is a array.\n",
        "  WeightDict[0][0] is a number. \n",
        "  \"\"\"\n",
        "  WeightDict = WeightsDictList[Epoch]\n",
        "  labels = [\"Client {}\".format(i) for i in WeightDict.keys() if WeightDict[i][0]]\n",
        "  x = [WeightDict[i][0] for i in WeightDict.keys() if WeightDict[i][0]]\n",
        "  plt.pie(x=x,labels=labels,autopct=\"%1.2f%%\")\n",
        "  plt.title(\"The Weight Rate during Epoche {}\".format(Epoch))\n",
        "  plt.show()"
      ],
      "execution_count": null,
      "outputs": []
    },
    {
      "cell_type": "code",
      "metadata": {
        "id": "NPmZG18YhMS4"
      },
      "source": [
        "def ShowAccAndLoss(LossAndAccList):\n",
        "  \"\"\"\n",
        "  LossAndAccList:[[loss0,acc0],[loss1,acc1]...]\n",
        "  \"\"\"\n",
        "  #deal the data\n",
        "  IterTimes = len(LossAndAccList)\n",
        "  Acc = [LossAndAccList[i][1]*100 for i in range(IterTimes)]\n",
        "  Loss = [LossAndAccList[i][0] for i in range(IterTimes)]\n",
        "  \n",
        "  #prepare show image\n",
        "  x = np.arange(IterTimes).astype(dtype=np.str)\n",
        "  fig = plt.figure()\n",
        "  ax1 = fig.add_subplot(111)\n",
        "  acc = ax1.plot(x,Acc,'r',label='Acc')\n",
        "  ax1.set_ylabel('Acc(%)')\n",
        "  ax1.set_xlabel(\"Epochs\")\n",
        "  ax1.set_title('Acc-Loss')\n",
        "\n",
        "  ax2 = ax1.twinx()\n",
        "  loss = ax2.plot(x,Loss,label='Loss')\n",
        "  ax2.set_ylabel('Loss')\n",
        "\n",
        "\n",
        "  lns = acc+loss\n",
        "  labs = [l.get_label() for l in lns]\n",
        "  ax2.legend(lns,labs)\n",
        "  plt.show()\n",
        "  return Acc"
      ],
      "execution_count": null,
      "outputs": []
    },
    {
      "cell_type": "code",
      "metadata": {
        "id": "TSJC9WBwjmQK"
      },
      "source": [
        "def ShowParticipatedNode(NodeList):\n",
        "  \"\"\"\n",
        "  NodeList:[[1,2,3,...],[4,5,6,...],...]\n",
        "  \"\"\"\n",
        "  #deal the data\n",
        "  IterTimes = len(NodeList)\n",
        "  img = np.ones(shape=(NUM_CLIENTS,IterTimes),dtype=int)\n",
        "  for i in range(IterTimes):\n",
        "    for j in NodeList[i]:\n",
        "      img[j][i]=0\n",
        "  #prepare show image\n",
        "\n",
        "  ax = plt.gca()\n",
        "  ax.set_ylim(-0.5,NUM_CLIENTS-0.5)\n",
        "  ax.set_xlim(-0.5,9.5)\n",
        "  miloc = plt.MultipleLocator(1)\n",
        "  ax.xaxis.set_minor_locator(miloc)\n",
        "  plt.grid()\n",
        "\n",
        "  plt.imshow(img*255,cmap='gray')\n",
        "  plt.axis('on')\n",
        "  plt.xlabel('Epochs')\n",
        "  plt.ylabel('Nodes')\n",
        "  plt.title(\"Nodes in each epoch\")\n",
        "  y = np.arange(0.5,NUM_CLIENTS+0.5,1)\n",
        "  x = np.arange(0.5,NUM_EPOCHS+0.5,1)\n",
        "\n",
        "  plt.yticks(y,(int(i-0.5) for i in y))\n",
        "  plt.xticks(x,(int(i-0.5) for i in x))\n",
        "  plt.show()"
      ],
      "execution_count": null,
      "outputs": []
    },
    {
      "cell_type": "code",
      "metadata": {
        "id": "M0d8EuqUXqMv"
      },
      "source": [
        "def ResultAnalysis(NewFedAvgAcc,FedBaselineAcc):\n",
        "  assert len(NewFedAvgAcc)==len(FedBaselineAcc)\n",
        "  iters = np.arange(len(NewFedAvgAcc)).astype(dtype=np.str)\n",
        "  fig = plt.figure()\n",
        "  plt.title(\"Result Analysis\")\n",
        "  plt.plot(iters,NewFedAvgAcc,color='red',label=\"FedwithAcc\")\n",
        "  plt.plot(iters,FedBaselineAcc,color='blue',label=\"FedAvg\")\n",
        "  plt.legend()\n",
        "  plt.xlabel(\"iteration times\")\n",
        "  plt.ylabel(\"Accuracy (%)\")\n",
        "  plt.xlim(0,20)\n",
        "  plt.show()"
      ],
      "execution_count": null,
      "outputs": []
    },
    {
      "cell_type": "markdown",
      "metadata": {
        "id": "_uNjI7abv3Vs"
      },
      "source": [
        "## Model Initialization"
      ]
    },
    {
      "cell_type": "code",
      "metadata": {
        "id": "PLJekuPtvxZl",
        "colab": {
          "base_uri": "https://localhost:8080/"
        },
        "outputId": "5c473a24-c4d4-4ff5-de12-e11de2a53d55"
      },
      "source": [
        "InitModel = FLModel(row=28,col=28,num_classes=CLASS_NUM)\n",
        "S = ParamServer(\"\")\n",
        "S.PreEval(InitModel,validation_data)\n",
        "SendModel = InitModel"
      ],
      "execution_count": null,
      "outputs": [
        {
          "output_type": "stream",
          "text": [
            "7/7 [==============================] - 0s 4ms/step - loss: 2.4158 - accuracy: 0.0485\n"
          ],
          "name": "stdout"
        }
      ]
    },
    {
      "cell_type": "code",
      "metadata": {
        "colab": {
          "base_uri": "https://localhost:8080/"
        },
        "id": "4K48O8MylnxW",
        "outputId": "269bf714-c381-4db1-8905-d8b9437a0f14"
      },
      "source": [
        "#InitModel.model.summary()"
      ],
      "execution_count": null,
      "outputs": [
        {
          "output_type": "stream",
          "text": [
            "Model: \"sequential\"\n",
            "_________________________________________________________________\n",
            "Layer (type)                 Output Shape              Param #   \n",
            "=================================================================\n",
            "conv2d (Conv2D)              (None, 26, 26, 32)        320       \n",
            "_________________________________________________________________\n",
            "max_pooling2d (MaxPooling2D) (None, 13, 13, 32)        0         \n",
            "_________________________________________________________________\n",
            "conv2d_1 (Conv2D)            (None, 11, 11, 64)        18496     \n",
            "_________________________________________________________________\n",
            "max_pooling2d_1 (MaxPooling2 (None, 5, 5, 64)          0         \n",
            "_________________________________________________________________\n",
            "conv2d_2 (Conv2D)            (None, 3, 3, 64)          36928     \n",
            "_________________________________________________________________\n",
            "flatten (Flatten)            (None, 576)               0         \n",
            "_________________________________________________________________\n",
            "dense (Dense)                (None, 64)                36928     \n",
            "_________________________________________________________________\n",
            "dense_1 (Dense)              (None, 11)                715       \n",
            "=================================================================\n",
            "Total params: 93,387\n",
            "Trainable params: 93,387\n",
            "Non-trainable params: 0\n",
            "_________________________________________________________________\n"
          ],
          "name": "stdout"
        }
      ]
    },
    {
      "cell_type": "markdown",
      "metadata": {
        "id": "eMZP89WLPF_3"
      },
      "source": [
        "使用随机初始化的模型进行预测，不预测也可以！"
      ]
    },
    {
      "cell_type": "code",
      "metadata": {
        "colab": {
          "base_uri": "https://localhost:8080/"
        },
        "id": "SGo2NYXsv96h",
        "outputId": "c7b7b15b-cc60-4b06-9555-62606512804f"
      },
      "source": [
        "SendModel = S.PreTrain(InitModel,ShareData,ShareLabel,epochs=1)\n",
        "S.PreEval(SendModel,validation_data)"
      ],
      "execution_count": null,
      "outputs": [
        {
          "output_type": "stream",
          "text": [
            "7/7 [==============================] - 1s 16ms/step - loss: 2.3656 - accuracy: 0.1054\n",
            "7/7 [==============================] - 0s 4ms/step - loss: 2.1765 - accuracy: 0.2735\n"
          ],
          "name": "stdout"
        }
      ]
    },
    {
      "cell_type": "markdown",
      "metadata": {
        "id": "7OmptaMzpR0P"
      },
      "source": [
        "# 阶段三：Clients 训练节点数据并聚合\n"
      ]
    },
    {
      "cell_type": "code",
      "metadata": {
        "id": "I6HSFpcqrK_2"
      },
      "source": [
        "def FedAvgwithAcc(NUM_CLIENTS,model,AccuracyList,Threshold=0):\n",
        "  iterModel = model.copy()\n",
        "  len_it = len(iterModel.trainable_variables)\n",
        "  all_weights = []\n",
        "\n",
        "  NodeDict = GetDistDict(Clients=clients,Clients_Num=NUM_CLIENTS,TargetModel=iterModel)\n",
        "  FedNodeList = ParticipatedNode(AccuracyList=AccuracyList,AccThreshold=Threshold) # AccThreshold = \"-1\" means that each one participate FedAvg.\n",
        "\n",
        "  print(\"FedNodeList is \",FedNodeList)\n",
        "  # mult = [AccuracyList[i]/np.exp(NodeDict[i]) for i in range(NUM_CLIENTS)] # no threshold\n",
        "  mult = [AccuracyList[i]/np.exp(NodeDict[i]) for i in FedNodeList] \n",
        "  # print(\"The Distance are ...\",NodeDict)\n",
        "  # print(\"The AD are ...\",mult)\n",
        "  exp_sum = np.sum(mult)\n",
        "  \n",
        "  #---Prevent an extreme situation---\n",
        "  if exp_sum <1e-5: # Maybe all of the Acc are 0.\n",
        "    for i in FedNodeList:\n",
        "      AccuracyList[i] = 1\n",
        "    # mult = [AccuracyList[i]/np.exp(NodeDict[i]) for i in FedNodeList] \n",
        "    mult = AccuracyList\n",
        "    exp_sum = np.sum(mult)\n",
        "  #---end---\n",
        "\n",
        "  Weights = {k:v for (k,v) in zip(FedNodeList,mult/exp_sum)}\n",
        "  print(\"Weights are...\",Weights)\n",
        "  ###Softmax\n",
        "\n",
        "  for weights_index in range(len_it):\n",
        "    tmp =np.zeros(iterModel.trainable_variables[weights_index].numpy().shape,dtype='float64')\n",
        "\n",
        "    for node in FedNodeList:\n",
        "    # for node in range(NUM_CLIENTS):\n",
        "      tmp += clients[node].model.trainable_variables[weights_index].numpy()*Weights[node]\n",
        "    all_weights.append(tmp)\n",
        "  # print(all_weights)\n",
        "  iterModel_vars = iterModel.trainable_variables\n",
        "  for iter_v,n in zip(iterModel_vars,all_weights):\n",
        "    iter_v.assign(n)\n",
        "  return (iterModel,FedNodeList,Weights)"
      ],
      "execution_count": null,
      "outputs": []
    },
    {
      "cell_type": "code",
      "metadata": {
        "colab": {
          "base_uri": "https://localhost:8080/"
        },
        "id": "chwpV3rDr5r2",
        "outputId": "04bca276-1758-4f81-b615-936bb7e0c03f"
      },
      "source": [
        "NodeList=[]\n",
        "ACC_Client_Test=[]\n",
        "WeightsEachEpoch = []\n",
        "AccMin=0\n",
        "for e in range(NUM_EPOCHS):\n",
        "  Acc_tmp=[]\n",
        "  Weight_tmp=[]\n",
        "  print(\"EPOCHS {} is starting...\".format(e))\n",
        "  for i in range(NUM_CLIENTS):\n",
        "    clients[i].ReceiveModel(SendModel.copy())\n",
        "    clients[i].NodeTrain()\n",
        "    Acc_tmp.append(clients[i].NodeEval()[1])\n",
        "\n",
        "  FedModel,li,Weight_tmp = FedAvgwithAcc(NUM_CLIENTS,SendModel,AccuracyList=Acc_tmp,Threshold=AccMin)\n",
        "  AccMin = min(Acc_tmp)\n",
        "  #---Recording---\n",
        "  NodeList.append(li)\n",
        "  WeightsEachEpoch.append(Weight_tmp)\n",
        "  ACC_Client_Test.append(Acc_tmp)\n",
        "  print(\"The Acc on each client...\",Acc_tmp)\n",
        "  #---Testing---\n",
        "  S.PreEval(FedModel,validation_sever)\n",
        "  SendModel = FedModel.copy()"
      ],
      "execution_count": null,
      "outputs": [
        {
          "output_type": "stream",
          "text": [
            "EPOCHS 0 is starting...\n",
            "8/8 [==============================] - 1s 6ms/step - loss: 2.1021 - accuracy: 0.3980\n",
            "7/7 [==============================] - 0s 4ms/step - loss: 3.4095 - accuracy: 0.0000e+00\n",
            "8/8 [==============================] - 1s 6ms/step - loss: 2.3191 - accuracy: 0.2042\n",
            "7/7 [==============================] - 0s 4ms/step - loss: 2.4423 - accuracy: 0.0000e+00\n",
            "8/8 [==============================] - 1s 6ms/step - loss: 1.6965 - accuracy: 0.6382\n",
            "7/7 [==============================] - 0s 4ms/step - loss: 10.5713 - accuracy: 0.0000e+00\n",
            "8/8 [==============================] - 1s 6ms/step - loss: 2.1955 - accuracy: 0.3338\n",
            "7/7 [==============================] - 0s 4ms/step - loss: 3.2823 - accuracy: 0.0000e+00\n",
            "8/8 [==============================] - 1s 6ms/step - loss: 2.1432 - accuracy: 0.3812\n",
            "7/7 [==============================] - 0s 4ms/step - loss: 3.3870 - accuracy: 0.0000e+00\n",
            "8/8 [==============================] - 1s 5ms/step - loss: 2.3445 - accuracy: 0.1517\n",
            "7/7 [==============================] - 0s 4ms/step - loss: 2.5274 - accuracy: 0.0000e+00\n",
            "8/8 [==============================] - 1s 6ms/step - loss: 2.0628 - accuracy: 0.4314\n",
            "7/7 [==============================] - 0s 4ms/step - loss: 4.0332 - accuracy: 0.0000e+00\n",
            "8/8 [==============================] - 1s 6ms/step - loss: 2.2748 - accuracy: 0.2607\n",
            "7/7 [==============================] - 0s 4ms/step - loss: 2.9352 - accuracy: 0.0000e+00\n",
            "8/8 [==============================] - 1s 6ms/step - loss: 2.3360 - accuracy: 0.2030\n",
            "7/7 [==============================] - 0s 4ms/step - loss: 2.5115 - accuracy: 0.0000e+00\n",
            "8/8 [==============================] - 1s 6ms/step - loss: 1.7208 - accuracy: 0.6294\n",
            "7/7 [==============================] - 0s 4ms/step - loss: 8.6579 - accuracy: 0.0000e+00\n",
            "8/8 [==============================] - 1s 6ms/step - loss: 2.3706 - accuracy: 0.1625\n",
            "7/7 [==============================] - 0s 4ms/step - loss: 2.3843 - accuracy: 0.0000e+00\n",
            "8/8 [==============================] - 1s 6ms/step - loss: 2.3928 - accuracy: 0.1075\n",
            "7/7 [==============================] - 0s 4ms/step - loss: 2.3270 - accuracy: 0.0000e+00\n",
            "FedNodeList is  [0, 1, 2, 3, 4, 5, 6, 7, 8, 9, 10, 11]\n",
            "Weights are... {0: 0.08333333333333333, 1: 0.08333333333333333, 2: 0.08333333333333333, 3: 0.08333333333333333, 4: 0.08333333333333333, 5: 0.08333333333333333, 6: 0.08333333333333333, 7: 0.08333333333333333, 8: 0.08333333333333333, 9: 0.08333333333333333, 10: 0.08333333333333333, 11: 0.08333333333333333}\n",
            "The Acc on each client... [1, 1, 1, 1, 1, 1, 1, 1, 1, 1, 1, 1]\n",
            "7/7 [==============================] - 0s 4ms/step - loss: 2.9383 - accuracy: 0.0000e+00\n",
            "EPOCHS 1 is starting...\n",
            "8/8 [==============================] - 1s 6ms/step - loss: 1.5821 - accuracy: 0.6094\n",
            "7/7 [==============================] - 0s 5ms/step - loss: 2.7442 - accuracy: 0.0000e+00\n",
            "8/8 [==============================] - 1s 6ms/step - loss: 2.3233 - accuracy: 0.2187\n",
            "7/7 [==============================] - 0s 4ms/step - loss: 2.3267 - accuracy: 0.0200\n",
            "8/8 [==============================] - 1s 6ms/step - loss: 0.5619 - accuracy: 0.9431\n",
            "7/7 [==============================] - 0s 4ms/step - loss: 9.2619 - accuracy: 0.0000e+00\n",
            "8/8 [==============================] - 1s 6ms/step - loss: 1.9160 - accuracy: 0.5022\n",
            "7/7 [==============================] - 0s 4ms/step - loss: 2.7200 - accuracy: 0.0000e+00\n",
            "8/8 [==============================] - 1s 6ms/step - loss: 1.6649 - accuracy: 0.5512\n",
            "7/7 [==============================] - 0s 4ms/step - loss: 2.7334 - accuracy: 0.0000e+00\n",
            "8/8 [==============================] - 1s 6ms/step - loss: 2.3254 - accuracy: 0.2326\n",
            "7/7 [==============================] - 0s 4ms/step - loss: 2.3579 - accuracy: 0.0250\n",
            "8/8 [==============================] - 1s 6ms/step - loss: 1.4980 - accuracy: 0.6533\n",
            "7/7 [==============================] - 0s 4ms/step - loss: 2.6977 - accuracy: 0.0000e+00\n",
            "8/8 [==============================] - 1s 6ms/step - loss: 2.1247 - accuracy: 0.3645\n",
            "7/7 [==============================] - 0s 4ms/step - loss: 2.6545 - accuracy: 0.0000e+00\n",
            "8/8 [==============================] - 1s 6ms/step - loss: 2.2803 - accuracy: 0.2727\n",
            "7/7 [==============================] - 0s 4ms/step - loss: 2.3801 - accuracy: 0.0000e+00\n",
            "8/8 [==============================] - 1s 5ms/step - loss: 0.6146 - accuracy: 0.9411\n",
            "7/7 [==============================] - 0s 4ms/step - loss: 5.8314 - accuracy: 0.0000e+00\n",
            "8/8 [==============================] - 1s 6ms/step - loss: 2.4126 - accuracy: 0.1805\n",
            "7/7 [==============================] - 0s 5ms/step - loss: 2.3498 - accuracy: 0.0250\n",
            "8/8 [==============================] - 1s 6ms/step - loss: 2.4498 - accuracy: 0.1301\n",
            "7/7 [==============================] - 0s 4ms/step - loss: 2.3186 - accuracy: 0.2350\n",
            "FedNodeList is  [0, 1, 2, 3, 4, 5, 6, 7, 8, 9, 10, 11]\n",
            "Weights are... {0: array([0.]), 1: array([0.07303585]), 2: array([0.]), 3: array([0.]), 4: array([0.]), 5: array([0.09017373]), 6: array([0.]), 7: array([0.]), 8: array([0.]), 9: array([0.]), 10: array([0.07824845]), 11: array([0.75854197])}\n",
            "The Acc on each client... [0.0, 0.019999999552965164, 0.0, 0.0, 0.0, 0.02500000037252903, 0.0, 0.0, 0.0, 0.0, 0.02500000037252903, 0.23499999940395355]\n",
            "7/7 [==============================] - 0s 4ms/step - loss: 2.3115 - accuracy: 0.1824\n",
            "EPOCHS 2 is starting...\n",
            "8/8 [==============================] - 1s 6ms/step - loss: 1.9656 - accuracy: 0.6116\n",
            "7/7 [==============================] - 0s 4ms/step - loss: 3.4243 - accuracy: 0.0000e+00\n",
            "8/8 [==============================] - 1s 6ms/step - loss: 2.1913 - accuracy: 0.2845\n",
            "7/7 [==============================] - 0s 4ms/step - loss: 2.2518 - accuracy: 0.0150\n",
            "8/8 [==============================] - 1s 6ms/step - loss: 1.5763 - accuracy: 0.9220\n",
            "7/7 [==============================] - 0s 4ms/step - loss: 10.0136 - accuracy: 0.0000e+00\n",
            "8/8 [==============================] - 1s 6ms/step - loss: 2.0757 - accuracy: 0.4653\n",
            "7/7 [==============================] - 0s 4ms/step - loss: 2.7435 - accuracy: 0.0000e+00\n",
            "8/8 [==============================] - 1s 6ms/step - loss: 2.0174 - accuracy: 0.5464\n",
            "7/7 [==============================] - 0s 5ms/step - loss: 3.0807 - accuracy: 0.0000e+00\n",
            "8/8 [==============================] - 1s 6ms/step - loss: 2.1945 - accuracy: 0.3307\n",
            "7/7 [==============================] - 0s 4ms/step - loss: 2.3006 - accuracy: 0.1050\n",
            "8/8 [==============================] - 1s 6ms/step - loss: 1.9408 - accuracy: 0.6051\n",
            "7/7 [==============================] - 0s 4ms/step - loss: 3.6081 - accuracy: 0.0000e+00\n",
            "8/8 [==============================] - 1s 6ms/step - loss: 2.1448 - accuracy: 0.4035\n",
            "7/7 [==============================] - 0s 4ms/step - loss: 2.6527 - accuracy: 0.0000e+00\n",
            "8/8 [==============================] - 1s 6ms/step - loss: 2.2029 - accuracy: 0.3168\n",
            "7/7 [==============================] - 0s 4ms/step - loss: 2.3076 - accuracy: 0.0000e+00\n",
            "8/8 [==============================] - 1s 6ms/step - loss: 1.6253 - accuracy: 0.9088\n",
            "7/7 [==============================] - 0s 4ms/step - loss: 9.0030 - accuracy: 0.0000e+00\n",
            "8/8 [==============================] - 1s 6ms/step - loss: 2.2558 - accuracy: 0.2372\n",
            "7/7 [==============================] - 0s 4ms/step - loss: 2.1738 - accuracy: 0.0900\n",
            "8/8 [==============================] - 1s 7ms/step - loss: 2.2657 - accuracy: 0.1950\n",
            "7/7 [==============================] - 0s 4ms/step - loss: 2.0730 - accuracy: 0.2100\n",
            "FedNodeList is  [1, 5, 10, 11]\n",
            "Weights are... {1: array([0.03432963]), 5: array([0.21909198]), 10: array([0.21360139]), 11: array([0.53297699])}\n",
            "The Acc on each client... [0.0, 0.014999999664723873, 0.0, 0.0, 0.0, 0.10499999672174454, 0.0, 0.0, 0.0, 0.0, 0.09000000357627869, 0.20999999344348907]\n",
            "7/7 [==============================] - 0s 4ms/step - loss: 2.0856 - accuracy: 0.1205\n",
            "EPOCHS 3 is starting...\n",
            "8/8 [==============================] - 1s 6ms/step - loss: 1.5213 - accuracy: 0.6097\n",
            "7/7 [==============================] - 0s 5ms/step - loss: 2.3084 - accuracy: 0.0000e+00\n",
            "8/8 [==============================] - 1s 6ms/step - loss: 1.9231 - accuracy: 0.2823\n",
            "7/7 [==============================] - 0s 4ms/step - loss: 1.7880 - accuracy: 0.3500\n",
            "8/8 [==============================] - 1s 6ms/step - loss: 0.8795 - accuracy: 0.9026\n",
            "7/7 [==============================] - 0s 4ms/step - loss: 9.6600 - accuracy: 0.0000e+00\n",
            "8/8 [==============================] - 1s 6ms/step - loss: 1.7046 - accuracy: 0.5041\n",
            "7/7 [==============================] - 0s 4ms/step - loss: 2.1057 - accuracy: 0.1050\n",
            "8/8 [==============================] - 1s 6ms/step - loss: 1.5759 - accuracy: 0.5391\n",
            "7/7 [==============================] - 0s 4ms/step - loss: 2.1830 - accuracy: 0.0750\n",
            "8/8 [==============================] - 1s 6ms/step - loss: 1.8346 - accuracy: 0.3656\n",
            "7/7 [==============================] - 0s 4ms/step - loss: 1.7767 - accuracy: 0.3500\n",
            "8/8 [==============================] - 1s 6ms/step - loss: 1.4356 - accuracy: 0.6562\n",
            "7/7 [==============================] - 0s 4ms/step - loss: 2.3290 - accuracy: 0.0500\n",
            "8/8 [==============================] - 1s 6ms/step - loss: 1.8762 - accuracy: 0.3621\n",
            "7/7 [==============================] - 0s 4ms/step - loss: 2.0423 - accuracy: 0.1350\n",
            "8/8 [==============================] - 1s 6ms/step - loss: 1.9067 - accuracy: 0.3307\n",
            "7/7 [==============================] - 0s 5ms/step - loss: 1.7692 - accuracy: 0.3650\n",
            "8/8 [==============================] - 1s 6ms/step - loss: 0.9603 - accuracy: 0.9033\n",
            "7/7 [==============================] - 0s 4ms/step - loss: 6.6106 - accuracy: 0.0000e+00\n",
            "8/8 [==============================] - 1s 7ms/step - loss: 1.9902 - accuracy: 0.2463\n",
            "7/7 [==============================] - 0s 4ms/step - loss: 1.7848 - accuracy: 0.2450\n",
            "8/8 [==============================] - 1s 6ms/step - loss: 1.9526 - accuracy: 0.2778\n",
            "7/7 [==============================] - 0s 4ms/step - loss: 1.5756 - accuracy: 0.6300\n",
            "FedNodeList is  [1, 3, 4, 5, 6, 7, 8, 10, 11]\n",
            "Weights are... {1: array([0.15045146]), 3: array([0.06228523]), 4: array([0.04422815]), 5: array([0.14486829]), 6: array([0.03172499]), 7: array([0.0650082]), 8: array([0.1567919]), 10: array([0.09824281]), 11: array([0.24639897])}\n",
            "The Acc on each client... [0.0, 0.3499999940395355, 0.0, 0.10499999672174454, 0.07500000298023224, 0.3499999940395355, 0.05000000074505806, 0.13500000536441803, 0.36500000953674316, 0.0, 0.24500000476837158, 0.6299999952316284]\n",
            "7/7 [==============================] - 0s 4ms/step - loss: 1.6737 - accuracy: 0.4404\n",
            "EPOCHS 4 is starting...\n",
            "8/8 [==============================] - 1s 6ms/step - loss: 1.3585 - accuracy: 0.5750\n",
            "7/7 [==============================] - 0s 4ms/step - loss: 1.9274 - accuracy: 0.0850\n",
            "8/8 [==============================] - 1s 6ms/step - loss: 1.5708 - accuracy: 0.4841\n",
            "7/7 [==============================] - 0s 5ms/step - loss: 1.5265 - accuracy: 0.3250\n",
            "8/8 [==============================] - 1s 6ms/step - loss: 0.7842 - accuracy: 0.8856\n",
            "7/7 [==============================] - 0s 4ms/step - loss: 8.5197 - accuracy: 0.0000e+00\n",
            "8/8 [==============================] - 1s 6ms/step - loss: 1.4413 - accuracy: 0.5402\n",
            "7/7 [==============================] - 0s 5ms/step - loss: 1.7416 - accuracy: 0.2200\n",
            "8/8 [==============================] - 1s 6ms/step - loss: 1.3778 - accuracy: 0.5905\n",
            "7/7 [==============================] - 0s 4ms/step - loss: 1.8903 - accuracy: 0.1650\n",
            "8/8 [==============================] - 1s 6ms/step - loss: 1.6003 - accuracy: 0.4863\n",
            "7/7 [==============================] - 0s 4ms/step - loss: 1.5508 - accuracy: 0.3800\n",
            "8/8 [==============================] - 1s 6ms/step - loss: 1.2665 - accuracy: 0.6617\n",
            "7/7 [==============================] - 0s 4ms/step - loss: 2.1569 - accuracy: 0.0900\n",
            "8/8 [==============================] - 1s 6ms/step - loss: 1.5818 - accuracy: 0.4988\n",
            "7/7 [==============================] - 0s 4ms/step - loss: 1.6736 - accuracy: 0.3250\n",
            "8/8 [==============================] - 1s 6ms/step - loss: 1.6554 - accuracy: 0.3991\n",
            "7/7 [==============================] - 0s 5ms/step - loss: 1.5119 - accuracy: 0.4350\n",
            "8/8 [==============================] - 1s 6ms/step - loss: 0.7810 - accuracy: 0.8700\n",
            "7/7 [==============================] - 0s 4ms/step - loss: 7.8980 - accuracy: 0.0000e+00\n",
            "8/8 [==============================] - 1s 6ms/step - loss: 1.6395 - accuracy: 0.3980\n",
            "7/7 [==============================] - 0s 4ms/step - loss: 1.3391 - accuracy: 0.5600\n",
            "8/8 [==============================] - 1s 6ms/step - loss: 1.7047 - accuracy: 0.3954\n",
            "7/7 [==============================] - 0s 5ms/step - loss: 1.2628 - accuracy: 0.6950\n",
            "FedNodeList is  [0, 1, 3, 4, 5, 6, 7, 8, 10, 11]\n",
            "Weights are... {0: array([0.0292571]), 1: array([0.09713596]), 3: array([0.07627829]), 4: array([0.0581281]), 5: array([0.11143142]), 6: array([0.03460862]), 7: array([0.10475918]), 8: array([0.13802151]), 10: array([0.15049618]), 11: array([0.19988365])}\n",
            "The Acc on each client... [0.08500000089406967, 0.32499998807907104, 0.0, 0.2199999988079071, 0.16500000655651093, 0.3799999952316284, 0.09000000357627869, 0.32499998807907104, 0.4350000023841858, 0.0, 0.5600000023841858, 0.6949999928474426]\n",
            "7/7 [==============================] - 0s 5ms/step - loss: 1.3335 - accuracy: 0.5549\n",
            "EPOCHS 5 is starting...\n",
            "8/8 [==============================] - 1s 6ms/step - loss: 1.1689 - accuracy: 0.5561\n",
            "7/7 [==============================] - 0s 4ms/step - loss: 2.3452 - accuracy: 0.0800\n",
            "8/8 [==============================] - 1s 6ms/step - loss: 1.3088 - accuracy: 0.5578\n",
            "7/7 [==============================] - 0s 4ms/step - loss: 1.0973 - accuracy: 0.6900\n",
            "8/8 [==============================] - 1s 6ms/step - loss: 0.6589 - accuracy: 0.8705\n",
            "7/7 [==============================] - 0s 5ms/step - loss: 6.6756 - accuracy: 0.0000e+00\n",
            "8/8 [==============================] - 1s 6ms/step - loss: 1.3724 - accuracy: 0.5033\n",
            "7/7 [==============================] - 0s 4ms/step - loss: 2.0852 - accuracy: 0.1950\n",
            "8/8 [==============================] - 1s 6ms/step - loss: 1.1519 - accuracy: 0.6368\n",
            "7/7 [==============================] - 0s 4ms/step - loss: 1.5384 - accuracy: 0.3950\n",
            "8/8 [==============================] - 1s 6ms/step - loss: 1.2151 - accuracy: 0.5893\n",
            "7/7 [==============================] - 0s 4ms/step - loss: 1.1482 - accuracy: 0.6200\n",
            "8/8 [==============================] - 1s 6ms/step - loss: 1.1501 - accuracy: 0.6554\n",
            "7/7 [==============================] - 0s 5ms/step - loss: 1.5267 - accuracy: 0.3600\n",
            "8/8 [==============================] - 1s 6ms/step - loss: 1.3096 - accuracy: 0.5625\n",
            "7/7 [==============================] - 0s 4ms/step - loss: 1.7292 - accuracy: 0.2350\n",
            "8/8 [==============================] - 1s 5ms/step - loss: 1.3011 - accuracy: 0.5969\n",
            "7/7 [==============================] - 0s 5ms/step - loss: 1.1245 - accuracy: 0.6700\n",
            "8/8 [==============================] - 1s 7ms/step - loss: 0.6995 - accuracy: 0.8459\n",
            "7/7 [==============================] - 0s 4ms/step - loss: 4.5938 - accuracy: 0.0000e+00\n",
            "8/8 [==============================] - 1s 6ms/step - loss: 1.4906 - accuracy: 0.4681\n",
            "7/7 [==============================] - 0s 6ms/step - loss: 1.2921 - accuracy: 0.5750\n",
            "8/8 [==============================] - 1s 6ms/step - loss: 1.4315 - accuracy: 0.5455\n",
            "7/7 [==============================] - 0s 4ms/step - loss: 1.1384 - accuracy: 0.6500\n",
            "FedNodeList is  [0, 1, 3, 4, 5, 6, 7, 8, 10, 11]\n",
            "Weights are... {0: array([0.018862]), 1: array([0.14772769]), 3: array([0.04991494]), 4: array([0.10312246]), 5: array([0.11767023]), 6: array([0.1104398]), 7: array([0.05737278]), 8: array([0.13307795]), 10: array([0.12710167]), 11: array([0.13471048])}\n",
            "The Acc on each client... [0.07999999821186066, 0.6899999976158142, 0.0, 0.19499999284744263, 0.39500001072883606, 0.6200000047683716, 0.36000001430511475, 0.23499999940395355, 0.6700000166893005, 0.0, 0.574999988079071, 0.6499999761581421]\n",
            "7/7 [==============================] - 0s 4ms/step - loss: 1.0591 - accuracy: 0.6910\n",
            "EPOCHS 6 is starting...\n",
            "8/8 [==============================] - 1s 6ms/step - loss: 0.9847 - accuracy: 0.6848\n",
            "7/7 [==============================] - 0s 4ms/step - loss: 1.2410 - accuracy: 0.5150\n",
            "8/8 [==============================] - 1s 6ms/step - loss: 1.0845 - accuracy: 0.6479\n",
            "7/7 [==============================] - 0s 4ms/step - loss: 1.3527 - accuracy: 0.4900\n",
            "8/8 [==============================] - 1s 6ms/step - loss: 0.5132 - accuracy: 0.8608\n",
            "7/7 [==============================] - 0s 4ms/step - loss: 5.2167 - accuracy: 0.0350\n",
            "8/8 [==============================] - 1s 6ms/step - loss: 1.2051 - accuracy: 0.5773\n",
            "7/7 [==============================] - 0s 4ms/step - loss: 1.3338 - accuracy: 0.4750\n",
            "8/8 [==============================] - 1s 6ms/step - loss: 1.0736 - accuracy: 0.6114\n",
            "7/7 [==============================] - 0s 5ms/step - loss: 1.8272 - accuracy: 0.3400\n",
            "8/8 [==============================] - 1s 6ms/step - loss: 1.1309 - accuracy: 0.5881\n",
            "7/7 [==============================] - 0s 4ms/step - loss: 1.3700 - accuracy: 0.5200\n",
            "8/8 [==============================] - 1s 6ms/step - loss: 0.9469 - accuracy: 0.7300\n",
            "7/7 [==============================] - 0s 4ms/step - loss: 1.7174 - accuracy: 0.2750\n",
            "8/8 [==============================] - 1s 6ms/step - loss: 1.2217 - accuracy: 0.5444\n",
            "7/7 [==============================] - 0s 4ms/step - loss: 1.4661 - accuracy: 0.3700\n",
            "8/8 [==============================] - 1s 6ms/step - loss: 1.1973 - accuracy: 0.5957\n",
            "7/7 [==============================] - 0s 4ms/step - loss: 1.0646 - accuracy: 0.6300\n",
            "8/8 [==============================] - 1s 6ms/step - loss: 0.6377 - accuracy: 0.8527\n",
            "7/7 [==============================] - 0s 4ms/step - loss: 4.0281 - accuracy: 0.0250\n",
            "8/8 [==============================] - 1s 6ms/step - loss: 1.2694 - accuracy: 0.5843\n",
            "7/7 [==============================] - 0s 4ms/step - loss: 0.8436 - accuracy: 0.7350\n",
            "8/8 [==============================] - 1s 6ms/step - loss: 1.3036 - accuracy: 0.5799\n",
            "7/7 [==============================] - 0s 4ms/step - loss: 0.9109 - accuracy: 0.7550\n",
            "FedNodeList is  [0, 1, 2, 3, 4, 5, 6, 7, 8, 9, 10, 11]\n",
            "Weights are... {0: array([0.11254467]), 1: array([0.09372176]), 2: array([0.00565525]), 3: array([0.09485642]), 4: array([0.07404352]), 5: array([0.09421219]), 6: array([0.05868501]), 7: array([0.07414672]), 8: array([0.11809555]), 9: array([0.00387816]), 10: array([0.13288034]), 11: array([0.13728041])}\n",
            "The Acc on each client... [0.5149999856948853, 0.49000000953674316, 0.03500000014901161, 0.4749999940395355, 0.3400000035762787, 0.5199999809265137, 0.2750000059604645, 0.3700000047683716, 0.6299999952316284, 0.02500000037252903, 0.7350000143051147, 0.7549999952316284]\n",
            "7/7 [==============================] - 0s 4ms/step - loss: 0.9264 - accuracy: 0.7260\n",
            "EPOCHS 7 is starting...\n",
            "8/8 [==============================] - 1s 6ms/step - loss: 0.8874 - accuracy: 0.7019\n",
            "7/7 [==============================] - 0s 4ms/step - loss: 1.2344 - accuracy: 0.4750\n",
            "8/8 [==============================] - 1s 6ms/step - loss: 1.0410 - accuracy: 0.6783\n",
            "7/7 [==============================] - 0s 4ms/step - loss: 0.8266 - accuracy: 0.7400\n",
            "8/8 [==============================] - 1s 6ms/step - loss: 0.5680 - accuracy: 0.8209\n",
            "7/7 [==============================] - 0s 4ms/step - loss: 4.0766 - accuracy: 0.0650\n",
            "8/8 [==============================] - 1s 6ms/step - loss: 1.0919 - accuracy: 0.6123\n",
            "7/7 [==============================] - 0s 4ms/step - loss: 1.5542 - accuracy: 0.3650\n",
            "8/8 [==============================] - 1s 6ms/step - loss: 1.0206 - accuracy: 0.6076\n",
            "7/7 [==============================] - 0s 5ms/step - loss: 1.3892 - accuracy: 0.4650\n",
            "8/8 [==============================] - 1s 6ms/step - loss: 0.8733 - accuracy: 0.7225\n",
            "7/7 [==============================] - 0s 4ms/step - loss: 0.8609 - accuracy: 0.7350\n",
            "8/8 [==============================] - 1s 6ms/step - loss: 0.8669 - accuracy: 0.7011\n",
            "7/7 [==============================] - 0s 4ms/step - loss: 1.4067 - accuracy: 0.4050\n",
            "8/8 [==============================] - 1s 6ms/step - loss: 1.0968 - accuracy: 0.5996\n",
            "7/7 [==============================] - 0s 6ms/step - loss: 0.8462 - accuracy: 0.7500\n",
            "8/8 [==============================] - 1s 5ms/step - loss: 1.0690 - accuracy: 0.5723\n",
            "7/7 [==============================] - 0s 5ms/step - loss: 0.9862 - accuracy: 0.6650\n",
            "8/8 [==============================] - 1s 6ms/step - loss: 0.6193 - accuracy: 0.8269\n",
            "7/7 [==============================] - 0s 4ms/step - loss: 4.0137 - accuracy: 0.0200\n",
            "8/8 [==============================] - 1s 6ms/step - loss: 1.0784 - accuracy: 0.6673\n",
            "7/7 [==============================] - 0s 4ms/step - loss: 0.9623 - accuracy: 0.6700\n",
            "8/8 [==============================] - 1s 6ms/step - loss: 0.9891 - accuracy: 0.7328\n",
            "7/7 [==============================] - 0s 4ms/step - loss: 0.7941 - accuracy: 0.7600\n",
            "FedNodeList is  [0, 1, 2, 3, 4, 5, 6, 7, 8, 10, 11]\n",
            "Weights are... {0: array([0.09078192]), 1: array([0.12784362]), 2: array([0.00874717]), 3: array([0.05645431]), 4: array([0.08351894]), 5: array([0.12250779]), 6: array([0.06952768]), 7: array([0.12092519]), 8: array([0.10043463]), 10: array([0.10232188]), 11: array([0.11693687])}\n",
            "The Acc on each client... [0.4749999940395355, 0.7400000095367432, 0.06499999761581421, 0.36500000953674316, 0.4650000035762787, 0.7350000143051147, 0.4050000011920929, 0.75, 0.6650000214576721, 0.019999999552965164, 0.6700000166893005, 0.7599999904632568]\n",
            "7/7 [==============================] - 0s 4ms/step - loss: 0.8017 - accuracy: 0.7775\n",
            "EPOCHS 8 is starting...\n",
            "8/8 [==============================] - 1s 6ms/step - loss: 0.9889 - accuracy: 0.6456\n",
            "7/7 [==============================] - 0s 4ms/step - loss: 1.1114 - accuracy: 0.5600\n",
            "8/8 [==============================] - 1s 6ms/step - loss: 0.9089 - accuracy: 0.6559\n",
            "7/7 [==============================] - 0s 5ms/step - loss: 0.8901 - accuracy: 0.7200\n",
            "8/8 [==============================] - 1s 6ms/step - loss: 0.5334 - accuracy: 0.8344\n",
            "7/7 [==============================] - 0s 4ms/step - loss: 5.5526 - accuracy: 0.0300\n",
            "8/8 [==============================] - 1s 7ms/step - loss: 1.0866 - accuracy: 0.5928\n",
            "7/7 [==============================] - 0s 4ms/step - loss: 1.4795 - accuracy: 0.4200\n",
            "8/8 [==============================] - 1s 6ms/step - loss: 0.9602 - accuracy: 0.6237\n",
            "7/7 [==============================] - 0s 4ms/step - loss: 1.2751 - accuracy: 0.4850\n",
            "8/8 [==============================] - 1s 6ms/step - loss: 0.9013 - accuracy: 0.7101\n",
            "7/7 [==============================] - 0s 4ms/step - loss: 0.7941 - accuracy: 0.7400\n",
            "8/8 [==============================] - 1s 6ms/step - loss: 1.0458 - accuracy: 0.6230\n",
            "7/7 [==============================] - 0s 5ms/step - loss: 1.3821 - accuracy: 0.3700\n",
            "8/8 [==============================] - 1s 6ms/step - loss: 1.0381 - accuracy: 0.6325\n",
            "7/7 [==============================] - 0s 5ms/step - loss: 0.9434 - accuracy: 0.6800\n",
            "8/8 [==============================] - 1s 7ms/step - loss: 1.1177 - accuracy: 0.6130\n",
            "7/7 [==============================] - 0s 5ms/step - loss: 0.8010 - accuracy: 0.7450\n",
            "8/8 [==============================] - 1s 6ms/step - loss: 0.6371 - accuracy: 0.8109\n",
            "7/7 [==============================] - 0s 4ms/step - loss: 4.0971 - accuracy: 0.0200\n",
            "8/8 [==============================] - 1s 6ms/step - loss: 1.0146 - accuracy: 0.6919\n",
            "7/7 [==============================] - 0s 5ms/step - loss: 0.9609 - accuracy: 0.6650\n",
            "8/8 [==============================] - 1s 6ms/step - loss: 1.0193 - accuracy: 0.6689\n",
            "7/7 [==============================] - 0s 4ms/step - loss: 0.8213 - accuracy: 0.7300\n",
            "FedNodeList is  [0, 1, 2, 3, 4, 5, 6, 7, 8, 10, 11]\n",
            "Weights are... {0: array([0.09514788]), 1: array([0.1160218]), 2: array([0.00379524]), 3: array([0.06898484]), 4: array([0.08628295]), 5: array([0.12350141]), 6: array([0.05967164]), 7: array([0.10811593]), 8: array([0.11711397]), 10: array([0.10632394]), 11: array([0.11504041])}\n",
            "The Acc on each client... [0.5600000023841858, 0.7200000286102295, 0.029999999329447746, 0.41999998688697815, 0.48500001430511475, 0.7400000095367432, 0.3700000047683716, 0.6800000071525574, 0.7450000047683716, 0.019999999552965164, 0.6650000214576721, 0.7300000190734863]\n",
            "7/7 [==============================] - 0s 4ms/step - loss: 0.7543 - accuracy: 0.8010\n",
            "EPOCHS 9 is starting...\n",
            "8/8 [==============================] - 1s 6ms/step - loss: 0.8608 - accuracy: 0.6913\n",
            "7/7 [==============================] - 0s 5ms/step - loss: 1.2284 - accuracy: 0.5050\n",
            "8/8 [==============================] - 1s 6ms/step - loss: 0.7974 - accuracy: 0.8011\n",
            "7/7 [==============================] - 0s 4ms/step - loss: 0.9953 - accuracy: 0.6300\n",
            "8/8 [==============================] - 1s 6ms/step - loss: 0.5228 - accuracy: 0.8432\n",
            "7/7 [==============================] - 0s 4ms/step - loss: 5.0740 - accuracy: 0.0650\n",
            "8/8 [==============================] - 1s 6ms/step - loss: 0.8477 - accuracy: 0.6921\n",
            "7/7 [==============================] - 0s 4ms/step - loss: 1.1653 - accuracy: 0.5500\n",
            "8/8 [==============================] - 1s 6ms/step - loss: 0.8361 - accuracy: 0.6602\n",
            "7/7 [==============================] - 0s 5ms/step - loss: 0.9447 - accuracy: 0.6950\n",
            "8/8 [==============================] - 1s 6ms/step - loss: 0.8258 - accuracy: 0.7049\n",
            "7/7 [==============================] - 0s 4ms/step - loss: 0.9450 - accuracy: 0.6700\n",
            "8/8 [==============================] - 1s 6ms/step - loss: 0.8791 - accuracy: 0.7001\n",
            "7/7 [==============================] - 0s 5ms/step - loss: 1.2181 - accuracy: 0.4700\n",
            "8/8 [==============================] - 1s 7ms/step - loss: 0.9585 - accuracy: 0.6555\n",
            "7/7 [==============================] - 0s 5ms/step - loss: 0.7933 - accuracy: 0.7400\n",
            "8/8 [==============================] - 1s 6ms/step - loss: 0.9345 - accuracy: 0.6611\n",
            "7/7 [==============================] - 0s 4ms/step - loss: 0.6433 - accuracy: 0.8350\n",
            "8/8 [==============================] - 1s 6ms/step - loss: 0.5741 - accuracy: 0.8218\n",
            "7/7 [==============================] - 0s 5ms/step - loss: 3.5821 - accuracy: 0.0500\n",
            "8/8 [==============================] - 1s 6ms/step - loss: 1.0189 - accuracy: 0.6629\n",
            "7/7 [==============================] - 0s 4ms/step - loss: 0.8634 - accuracy: 0.7100\n",
            "8/8 [==============================] - 1s 6ms/step - loss: 1.0191 - accuracy: 0.6935\n",
            "7/7 [==============================] - 0s 5ms/step - loss: 0.7262 - accuracy: 0.7700\n",
            "FedNodeList is  [0, 1, 2, 3, 4, 5, 6, 7, 8, 9, 10, 11]\n",
            "Weights are... {0: array([0.07623856]), 1: array([0.09658845]), 2: array([0.00722385]), 3: array([0.08408619]), 4: array([0.10729131]), 5: array([0.10538189]), 6: array([0.06650757]), 7: array([0.11064924]), 8: array([0.12485621]), 9: array([0.00610021]), 10: array([0.09864893]), 11: array([0.11642759])}\n",
            "The Acc on each client... [0.5049999952316284, 0.6299999952316284, 0.06499999761581421, 0.550000011920929, 0.6949999928474426, 0.6700000166893005, 0.4699999988079071, 0.7400000095367432, 0.8349999785423279, 0.05000000074505806, 0.7099999785423279, 0.7699999809265137]\n",
            "7/7 [==============================] - 0s 4ms/step - loss: 0.6968 - accuracy: 0.8082\n",
            "EPOCHS 10 is starting...\n",
            "8/8 [==============================] - 1s 6ms/step - loss: 0.7998 - accuracy: 0.7107\n",
            "7/7 [==============================] - 0s 5ms/step - loss: 1.1936 - accuracy: 0.5300\n",
            "8/8 [==============================] - 1s 6ms/step - loss: 0.7363 - accuracy: 0.7566\n",
            "7/7 [==============================] - 0s 4ms/step - loss: 0.7812 - accuracy: 0.7250\n",
            "8/8 [==============================] - 1s 6ms/step - loss: 0.6141 - accuracy: 0.7855\n",
            "7/7 [==============================] - 0s 5ms/step - loss: 6.7387 - accuracy: 0.0300\n",
            "8/8 [==============================] - 1s 6ms/step - loss: 0.9282 - accuracy: 0.6286\n",
            "7/7 [==============================] - 0s 5ms/step - loss: 0.9632 - accuracy: 0.6250\n",
            "8/8 [==============================] - 1s 6ms/step - loss: 0.8822 - accuracy: 0.6506\n",
            "7/7 [==============================] - 0s 4ms/step - loss: 1.0910 - accuracy: 0.5550\n",
            "8/8 [==============================] - 1s 6ms/step - loss: 0.7711 - accuracy: 0.7502\n",
            "7/7 [==============================] - 0s 5ms/step - loss: 1.0596 - accuracy: 0.6300\n",
            "8/8 [==============================] - 1s 6ms/step - loss: 0.8952 - accuracy: 0.6969\n",
            "7/7 [==============================] - 0s 4ms/step - loss: 0.9212 - accuracy: 0.6800\n",
            "8/8 [==============================] - 1s 6ms/step - loss: 0.9992 - accuracy: 0.6739\n",
            "7/7 [==============================] - 0s 5ms/step - loss: 1.3786 - accuracy: 0.4700\n",
            "8/8 [==============================] - 1s 6ms/step - loss: 0.9161 - accuracy: 0.7361\n",
            "7/7 [==============================] - 0s 4ms/step - loss: 0.6621 - accuracy: 0.8350\n",
            "8/8 [==============================] - 1s 6ms/step - loss: 0.6654 - accuracy: 0.7812\n",
            "7/7 [==============================] - 0s 5ms/step - loss: 3.8633 - accuracy: 0.0550\n",
            "8/8 [==============================] - 1s 6ms/step - loss: 1.0117 - accuracy: 0.6418\n",
            "7/7 [==============================] - 0s 6ms/step - loss: 0.6989 - accuracy: 0.8300\n",
            "8/8 [==============================] - 1s 6ms/step - loss: 0.8943 - accuracy: 0.7471\n",
            "7/7 [==============================] - 0s 4ms/step - loss: 0.6489 - accuracy: 0.7950\n",
            "FedNodeList is  [0, 1, 3, 4, 5, 6, 7, 8, 9, 10, 11]\n",
            "Weights are... {0: array([0.08651868]), 1: array([0.11065451]), 3: array([0.10374511]), 4: array([0.08213499]), 5: array([0.09036374]), 6: array([0.10711791]), 7: array([0.06777029]), 8: array([0.11683807]), 9: array([0.00645265]), 10: array([0.12526812]), 11: array([0.10313593])}\n",
            "The Acc on each client... [0.5299999713897705, 0.7250000238418579, 0.029999999329447746, 0.625, 0.5550000071525574, 0.6299999952316284, 0.6800000071525574, 0.4699999988079071, 0.8349999785423279, 0.054999999701976776, 0.8299999833106995, 0.7950000166893005]\n",
            "7/7 [==============================] - 0s 4ms/step - loss: 0.6415 - accuracy: 0.8129\n",
            "EPOCHS 11 is starting...\n",
            "8/8 [==============================] - 1s 6ms/step - loss: 0.7949 - accuracy: 0.6693\n",
            "7/7 [==============================] - 0s 4ms/step - loss: 0.8838 - accuracy: 0.6650\n",
            "8/8 [==============================] - 1s 6ms/step - loss: 0.8444 - accuracy: 0.6801\n",
            "7/7 [==============================] - 0s 5ms/step - loss: 0.9701 - accuracy: 0.6400\n",
            "8/8 [==============================] - 1s 6ms/step - loss: 0.5168 - accuracy: 0.8340\n",
            "7/7 [==============================] - 0s 4ms/step - loss: 5.1363 - accuracy: 0.0550\n",
            "8/8 [==============================] - 1s 6ms/step - loss: 0.8561 - accuracy: 0.6711\n",
            "7/7 [==============================] - 0s 4ms/step - loss: 1.1947 - accuracy: 0.5350\n",
            "8/8 [==============================] - 1s 6ms/step - loss: 0.8458 - accuracy: 0.6531\n",
            "7/7 [==============================] - 0s 5ms/step - loss: 1.0397 - accuracy: 0.6200\n",
            "8/8 [==============================] - 1s 6ms/step - loss: 0.6727 - accuracy: 0.7864\n",
            "7/7 [==============================] - 0s 4ms/step - loss: 0.6690 - accuracy: 0.7750\n",
            "8/8 [==============================] - 1s 6ms/step - loss: 0.8060 - accuracy: 0.7404\n",
            "7/7 [==============================] - 0s 5ms/step - loss: 0.9314 - accuracy: 0.6450\n",
            "8/8 [==============================] - 1s 6ms/step - loss: 0.8685 - accuracy: 0.6754\n",
            "7/7 [==============================] - 0s 5ms/step - loss: 0.9076 - accuracy: 0.6950\n",
            "8/8 [==============================] - 1s 6ms/step - loss: 0.8055 - accuracy: 0.7362\n",
            "7/7 [==============================] - 0s 5ms/step - loss: 0.7385 - accuracy: 0.7800\n",
            "8/8 [==============================] - 1s 6ms/step - loss: 0.5730 - accuracy: 0.7939\n",
            "7/7 [==============================] - 0s 5ms/step - loss: 4.6186 - accuracy: 0.0250\n",
            "8/8 [==============================] - 1s 6ms/step - loss: 0.8784 - accuracy: 0.7017\n",
            "7/7 [==============================] - 0s 4ms/step - loss: 0.6102 - accuracy: 0.8200\n",
            "8/8 [==============================] - 1s 6ms/step - loss: 0.8554 - accuracy: 0.7292\n",
            "7/7 [==============================] - 0s 4ms/step - loss: 0.5885 - accuracy: 0.8400\n",
            "FedNodeList is  [0, 1, 2, 3, 4, 5, 6, 7, 8, 10, 11]\n",
            "Weights are... {0: array([0.0946506]), 1: array([0.08930833]), 2: array([0.00581498]), 3: array([0.08209735]), 4: array([0.08187029]), 5: array([0.10800733]), 6: array([0.09701494]), 7: array([0.1004466]), 8: array([0.11644659]), 10: array([0.10948821]), 11: array([0.11485478])}\n",
            "The Acc on each client... [0.6650000214576721, 0.6399999856948853, 0.054999999701976776, 0.5350000262260437, 0.6200000047683716, 0.7749999761581421, 0.6449999809265137, 0.6949999928474426, 0.7799999713897705, 0.02500000037252903, 0.8199999928474426, 0.8399999737739563]\n",
            "7/7 [==============================] - 0s 5ms/step - loss: 0.6002 - accuracy: 0.8296\n",
            "EPOCHS 12 is starting...\n",
            "8/8 [==============================] - 1s 6ms/step - loss: 0.7768 - accuracy: 0.6342\n",
            "7/7 [==============================] - 0s 4ms/step - loss: 1.3490 - accuracy: 0.4250\n",
            "8/8 [==============================] - 1s 6ms/step - loss: 0.6961 - accuracy: 0.7859\n",
            "7/7 [==============================] - 0s 5ms/step - loss: 0.7396 - accuracy: 0.7600\n",
            "8/8 [==============================] - 1s 6ms/step - loss: 0.5750 - accuracy: 0.8364\n",
            "7/7 [==============================] - 0s 4ms/step - loss: 4.6441 - accuracy: 0.0950\n",
            "8/8 [==============================] - 1s 6ms/step - loss: 0.8299 - accuracy: 0.7150\n",
            "7/7 [==============================] - 0s 5ms/step - loss: 0.8046 - accuracy: 0.7100\n",
            "8/8 [==============================] - 1s 6ms/step - loss: 0.8372 - accuracy: 0.6582\n",
            "7/7 [==============================] - 0s 4ms/step - loss: 1.0603 - accuracy: 0.6150\n",
            "8/8 [==============================] - 1s 6ms/step - loss: 0.6621 - accuracy: 0.7454\n",
            "7/7 [==============================] - 0s 5ms/step - loss: 0.7228 - accuracy: 0.7400\n",
            "8/8 [==============================] - 1s 6ms/step - loss: 0.7604 - accuracy: 0.7025\n",
            "7/7 [==============================] - 0s 4ms/step - loss: 1.1218 - accuracy: 0.5750\n",
            "8/8 [==============================] - 1s 6ms/step - loss: 0.8734 - accuracy: 0.6546\n",
            "7/7 [==============================] - 0s 4ms/step - loss: 0.7179 - accuracy: 0.7800\n",
            "8/8 [==============================] - 1s 6ms/step - loss: 0.9748 - accuracy: 0.6649\n",
            "7/7 [==============================] - 0s 5ms/step - loss: 1.0226 - accuracy: 0.6350\n",
            "8/8 [==============================] - 1s 6ms/step - loss: 0.6622 - accuracy: 0.7645\n",
            "7/7 [==============================] - 0s 5ms/step - loss: 3.3521 - accuracy: 0.0600\n",
            "8/8 [==============================] - 1s 6ms/step - loss: 0.9246 - accuracy: 0.6462\n",
            "7/7 [==============================] - 0s 4ms/step - loss: 0.6992 - accuracy: 0.7950\n",
            "8/8 [==============================] - 1s 6ms/step - loss: 0.8478 - accuracy: 0.7317\n",
            "7/7 [==============================] - 0s 4ms/step - loss: 0.5136 - accuracy: 0.8600\n",
            "FedNodeList is  [0, 1, 2, 3, 4, 5, 6, 7, 8, 9, 10, 11]\n",
            "Weights are... {0: array([0.06424137]), 1: array([0.11713339]), 2: array([0.01045726]), 3: array([0.11058185]), 4: array([0.08423163]), 5: array([0.10178291]), 6: array([0.08104634]), 7: array([0.10829193]), 8: array([0.0862457]), 9: array([0.00696619]), 10: array([0.11283618]), 11: array([0.11618525])}\n",
            "The Acc on each client... [0.42500001192092896, 0.7599999904632568, 0.0949999988079071, 0.7099999785423279, 0.6150000095367432, 0.7400000095367432, 0.574999988079071, 0.7799999713897705, 0.6349999904632568, 0.05999999865889549, 0.7950000166893005, 0.8600000143051147]\n",
            "7/7 [==============================] - 0s 5ms/step - loss: 0.5600 - accuracy: 0.8238\n",
            "EPOCHS 13 is starting...\n",
            "8/8 [==============================] - 1s 6ms/step - loss: 0.7525 - accuracy: 0.7113\n",
            "7/7 [==============================] - 0s 4ms/step - loss: 1.1600 - accuracy: 0.5750\n",
            "8/8 [==============================] - 1s 6ms/step - loss: 0.7247 - accuracy: 0.7626\n",
            "7/7 [==============================] - 0s 5ms/step - loss: 0.7192 - accuracy: 0.7700\n",
            "8/8 [==============================] - 1s 6ms/step - loss: 0.4526 - accuracy: 0.8511\n",
            "7/7 [==============================] - 0s 4ms/step - loss: 6.4169 - accuracy: 0.0850\n",
            "8/8 [==============================] - 1s 6ms/step - loss: 0.7493 - accuracy: 0.7120\n",
            "7/7 [==============================] - 0s 5ms/step - loss: 0.6690 - accuracy: 0.7750\n",
            "8/8 [==============================] - 1s 7ms/step - loss: 0.7385 - accuracy: 0.7216\n",
            "7/7 [==============================] - 0s 4ms/step - loss: 1.0719 - accuracy: 0.5450\n",
            "8/8 [==============================] - 1s 6ms/step - loss: 0.6535 - accuracy: 0.7826\n",
            "7/7 [==============================] - 0s 5ms/step - loss: 0.5725 - accuracy: 0.8250\n",
            "8/8 [==============================] - 1s 6ms/step - loss: 0.6624 - accuracy: 0.7741\n",
            "7/7 [==============================] - 0s 5ms/step - loss: 1.0382 - accuracy: 0.5750\n",
            "8/8 [==============================] - 1s 6ms/step - loss: 0.8693 - accuracy: 0.7153\n",
            "7/7 [==============================] - 0s 4ms/step - loss: 0.7207 - accuracy: 0.7350\n",
            "8/8 [==============================] - 1s 7ms/step - loss: 0.8376 - accuracy: 0.7037\n",
            "7/7 [==============================] - 0s 5ms/step - loss: 0.6395 - accuracy: 0.8050\n",
            "8/8 [==============================] - 1s 6ms/step - loss: 0.5453 - accuracy: 0.8285\n",
            "7/7 [==============================] - 0s 4ms/step - loss: 3.4104 - accuracy: 0.1150\n",
            "8/8 [==============================] - 1s 6ms/step - loss: 0.8213 - accuracy: 0.7414\n",
            "7/7 [==============================] - 0s 4ms/step - loss: 0.8009 - accuracy: 0.6750\n",
            "8/8 [==============================] - 1s 6ms/step - loss: 0.7729 - accuracy: 0.7566\n",
            "7/7 [==============================] - 0s 5ms/step - loss: 0.6816 - accuracy: 0.7950\n",
            "FedNodeList is  [0, 1, 2, 3, 4, 5, 6, 7, 8, 9, 10, 11]\n",
            "Weights are... {0: array([0.08580441]), 1: array([0.11771182]), 2: array([0.00788234]), 3: array([0.09969426]), 4: array([0.07752728]), 5: array([0.10999904]), 6: array([0.08090258]), 7: array([0.11419725]), 8: array([0.1131251]), 9: array([0.01128297]), 10: array([0.0847073]), 11: array([0.09716564])}\n",
            "The Acc on each client... [0.574999988079071, 0.7699999809265137, 0.08500000089406967, 0.7749999761581421, 0.5450000166893005, 0.824999988079071, 0.574999988079071, 0.7350000143051147, 0.8050000071525574, 0.11500000208616257, 0.675000011920929, 0.7950000166893005]\n",
            "7/7 [==============================] - 0s 5ms/step - loss: 0.5638 - accuracy: 0.8236\n",
            "EPOCHS 14 is starting...\n",
            "8/8 [==============================] - 1s 6ms/step - loss: 0.7120 - accuracy: 0.6921\n",
            "7/7 [==============================] - 0s 5ms/step - loss: 1.0709 - accuracy: 0.5350\n",
            "8/8 [==============================] - 1s 6ms/step - loss: 0.7081 - accuracy: 0.7132\n",
            "7/7 [==============================] - 0s 5ms/step - loss: 0.8151 - accuracy: 0.7200\n",
            "8/8 [==============================] - 1s 7ms/step - loss: 0.5266 - accuracy: 0.8329\n",
            "7/7 [==============================] - 0s 4ms/step - loss: 3.8439 - accuracy: 0.1150\n",
            "8/8 [==============================] - 1s 6ms/step - loss: 0.7466 - accuracy: 0.7249\n",
            "7/7 [==============================] - 0s 5ms/step - loss: 0.7142 - accuracy: 0.7800\n",
            "8/8 [==============================] - 1s 6ms/step - loss: 0.7632 - accuracy: 0.7498\n",
            "7/7 [==============================] - 0s 4ms/step - loss: 0.7186 - accuracy: 0.7800\n",
            "8/8 [==============================] - 1s 7ms/step - loss: 0.5820 - accuracy: 0.8067\n",
            "7/7 [==============================] - 0s 5ms/step - loss: 0.8692 - accuracy: 0.7050\n",
            "8/8 [==============================] - 1s 7ms/step - loss: 0.7359 - accuracy: 0.7512\n",
            "7/7 [==============================] - 0s 4ms/step - loss: 0.8243 - accuracy: 0.7200\n",
            "8/8 [==============================] - 1s 6ms/step - loss: 0.9042 - accuracy: 0.6755\n",
            "7/7 [==============================] - 0s 5ms/step - loss: 0.7991 - accuracy: 0.7800\n",
            "8/8 [==============================] - 1s 6ms/step - loss: 0.7662 - accuracy: 0.7070\n",
            "7/7 [==============================] - 0s 5ms/step - loss: 0.5594 - accuracy: 0.8350\n",
            "8/8 [==============================] - 1s 6ms/step - loss: 0.5142 - accuracy: 0.8435\n",
            "7/7 [==============================] - 0s 5ms/step - loss: 3.1995 - accuracy: 0.0800\n",
            "8/8 [==============================] - 1s 7ms/step - loss: 0.7514 - accuracy: 0.7502\n",
            "7/7 [==============================] - 0s 5ms/step - loss: 0.6725 - accuracy: 0.7950\n",
            "8/8 [==============================] - 1s 6ms/step - loss: 0.7056 - accuracy: 0.7999\n",
            "7/7 [==============================] - 0s 4ms/step - loss: 0.4878 - accuracy: 0.8600\n",
            "FedNodeList is  [0, 1, 2, 3, 4, 5, 6, 7, 8, 10, 11]\n",
            "Weights are... {0: array([0.07754281]), 1: array([0.09820976]), 2: array([0.01104753]), 3: array([0.11593633]), 4: array([0.0992355]), 5: array([0.08576615]), 6: array([0.10030207]), 7: array([0.0998237]), 8: array([0.11071367]), 10: array([0.09190633]), 11: array([0.10951615])}\n",
            "The Acc on each client... [0.5350000262260437, 0.7200000286102295, 0.11500000208616257, 0.7799999713897705, 0.7799999713897705, 0.7049999833106995, 0.7200000286102295, 0.7799999713897705, 0.8349999785423279, 0.07999999821186066, 0.7950000166893005, 0.8600000143051147]\n",
            "7/7 [==============================] - 0s 5ms/step - loss: 0.5330 - accuracy: 0.8284\n",
            "EPOCHS 15 is starting...\n",
            "8/8 [==============================] - 1s 7ms/step - loss: 0.6932 - accuracy: 0.6904\n",
            "7/7 [==============================] - 0s 4ms/step - loss: 0.9569 - accuracy: 0.5850\n",
            "8/8 [==============================] - 1s 6ms/step - loss: 0.6855 - accuracy: 0.7382\n",
            "7/7 [==============================] - 0s 5ms/step - loss: 0.6423 - accuracy: 0.8050\n",
            "8/8 [==============================] - 1s 6ms/step - loss: 0.5286 - accuracy: 0.8518\n",
            "7/7 [==============================] - 0s 5ms/step - loss: 3.5050 - accuracy: 0.1000\n",
            "8/8 [==============================] - 1s 6ms/step - loss: 0.8562 - accuracy: 0.6750\n",
            "7/7 [==============================] - 0s 5ms/step - loss: 0.7351 - accuracy: 0.7450\n",
            "8/8 [==============================] - 1s 6ms/step - loss: 0.7047 - accuracy: 0.7459\n",
            "7/7 [==============================] - 0s 5ms/step - loss: 1.0119 - accuracy: 0.5950\n",
            "8/8 [==============================] - 1s 6ms/step - loss: 0.5917 - accuracy: 0.7797\n",
            "7/7 [==============================] - 0s 5ms/step - loss: 0.4936 - accuracy: 0.8250\n",
            "8/8 [==============================] - 1s 7ms/step - loss: 0.7318 - accuracy: 0.7421\n",
            "7/7 [==============================] - 0s 5ms/step - loss: 0.8668 - accuracy: 0.6250\n",
            "8/8 [==============================] - 1s 7ms/step - loss: 0.7974 - accuracy: 0.6923\n",
            "7/7 [==============================] - 0s 4ms/step - loss: 0.7667 - accuracy: 0.7400\n",
            "8/8 [==============================] - 1s 6ms/step - loss: 0.7747 - accuracy: 0.7129\n",
            "7/7 [==============================] - 0s 5ms/step - loss: 0.7455 - accuracy: 0.7650\n",
            "8/8 [==============================] - 1s 6ms/step - loss: 0.5966 - accuracy: 0.7394\n",
            "7/7 [==============================] - 0s 5ms/step - loss: 3.0721 - accuracy: 0.0900\n",
            "8/8 [==============================] - 1s 6ms/step - loss: 0.7275 - accuracy: 0.7743\n",
            "7/7 [==============================] - 0s 4ms/step - loss: 0.6476 - accuracy: 0.7750\n",
            "8/8 [==============================] - 1s 6ms/step - loss: 0.7349 - accuracy: 0.7679\n",
            "7/7 [==============================] - 0s 5ms/step - loss: 0.5412 - accuracy: 0.8250\n",
            "FedNodeList is  [0, 1, 2, 3, 4, 5, 6, 7, 8, 9, 10, 11]\n",
            "Weights are... {0: array([0.0818316]), 1: array([0.11968405]), 2: array([0.01003729]), 3: array([0.09715907]), 4: array([0.07308222]), 5: array([0.11556725]), 6: array([0.08536461]), 7: array([0.10675617]), 8: array([0.10696325]), 9: array([0.00862133]), 10: array([0.09382502]), 11: array([0.10110815])}\n",
            "The Acc on each client... [0.5849999785423279, 0.8050000071525574, 0.10000000149011612, 0.7450000047683716, 0.5950000286102295, 0.824999988079071, 0.625, 0.7400000095367432, 0.7649999856948853, 0.09000000357627869, 0.7749999761581421, 0.824999988079071]\n",
            "7/7 [==============================] - 0s 5ms/step - loss: 0.5211 - accuracy: 0.8343\n",
            "EPOCHS 16 is starting...\n",
            "8/8 [==============================] - 1s 6ms/step - loss: 0.7061 - accuracy: 0.6948\n",
            "7/7 [==============================] - 0s 5ms/step - loss: 0.9676 - accuracy: 0.6100\n",
            "8/8 [==============================] - 1s 6ms/step - loss: 0.6423 - accuracy: 0.7774\n",
            "7/7 [==============================] - 0s 5ms/step - loss: 0.5045 - accuracy: 0.8400\n",
            "8/8 [==============================] - 1s 7ms/step - loss: 0.4263 - accuracy: 0.8965\n",
            "7/7 [==============================] - 0s 5ms/step - loss: 7.1325 - accuracy: 0.0000e+00\n",
            "8/8 [==============================] - 1s 6ms/step - loss: 0.7240 - accuracy: 0.7623\n",
            "7/7 [==============================] - 0s 4ms/step - loss: 1.0129 - accuracy: 0.6350\n",
            "8/8 [==============================] - 1s 6ms/step - loss: 0.7067 - accuracy: 0.7434\n",
            "7/7 [==============================] - 0s 5ms/step - loss: 0.7182 - accuracy: 0.7500\n",
            "8/8 [==============================] - 1s 6ms/step - loss: 0.6214 - accuracy: 0.7849\n",
            "7/7 [==============================] - 0s 5ms/step - loss: 0.5080 - accuracy: 0.8250\n",
            "8/8 [==============================] - 1s 6ms/step - loss: 0.6755 - accuracy: 0.7243\n",
            "7/7 [==============================] - 0s 5ms/step - loss: 1.0532 - accuracy: 0.5150\n",
            "8/8 [==============================] - 1s 6ms/step - loss: 0.8029 - accuracy: 0.6902\n",
            "7/7 [==============================] - 0s 5ms/step - loss: 0.7292 - accuracy: 0.7900\n",
            "8/8 [==============================] - 1s 6ms/step - loss: 0.7243 - accuracy: 0.7454\n",
            "7/7 [==============================] - 0s 5ms/step - loss: 0.5004 - accuracy: 0.8450\n",
            "8/8 [==============================] - 1s 6ms/step - loss: 0.4239 - accuracy: 0.9010\n",
            "7/7 [==============================] - 0s 5ms/step - loss: 2.8416 - accuracy: 0.1900\n",
            "8/8 [==============================] - 1s 7ms/step - loss: 0.7372 - accuracy: 0.7530\n",
            "7/7 [==============================] - 0s 5ms/step - loss: 0.5769 - accuracy: 0.8300\n",
            "8/8 [==============================] - 1s 7ms/step - loss: 0.6430 - accuracy: 0.8060\n",
            "7/7 [==============================] - 0s 5ms/step - loss: 0.4772 - accuracy: 0.8700\n",
            "FedNodeList is  [0, 1, 3, 4, 5, 6, 7, 8, 9, 10, 11]\n",
            "Weights are... {0: array([0.0771062]), 1: array([0.11293554]), 3: array([0.08916972]), 4: array([0.0943039]), 5: array([0.10889111]), 6: array([0.06224384]), 7: array([0.10863026]), 8: array([0.11562877]), 9: array([0.02002879]), 10: array([0.10264126]), 11: array([0.10842063])}\n",
            "The Acc on each client... [0.6100000143051147, 0.8399999737739563, 0.0, 0.6349999904632568, 0.75, 0.824999988079071, 0.5149999856948853, 0.7900000214576721, 0.8450000286102295, 0.1899999976158142, 0.8299999833106995, 0.8700000047683716]\n",
            "7/7 [==============================] - 0s 6ms/step - loss: 0.4535 - accuracy: 0.8713\n",
            "EPOCHS 17 is starting...\n",
            "8/8 [==============================] - 1s 6ms/step - loss: 0.6562 - accuracy: 0.7631\n",
            "7/7 [==============================] - 0s 4ms/step - loss: 0.7820 - accuracy: 0.6800\n",
            "8/8 [==============================] - 1s 7ms/step - loss: 0.6366 - accuracy: 0.7499\n",
            "7/7 [==============================] - 0s 5ms/step - loss: 0.7800 - accuracy: 0.7300\n",
            "8/8 [==============================] - 1s 6ms/step - loss: 0.4867 - accuracy: 0.8348\n",
            "7/7 [==============================] - 0s 6ms/step - loss: 6.0257 - accuracy: 0.0800\n",
            "8/8 [==============================] - 1s 6ms/step - loss: 0.7217 - accuracy: 0.7358\n",
            "7/7 [==============================] - 0s 4ms/step - loss: 0.7565 - accuracy: 0.7300\n",
            "8/8 [==============================] - 1s 8ms/step - loss: 0.6827 - accuracy: 0.7434\n",
            "7/7 [==============================] - 0s 5ms/step - loss: 1.0183 - accuracy: 0.5500\n",
            "8/8 [==============================] - 1s 7ms/step - loss: 0.5604 - accuracy: 0.8270\n",
            "7/7 [==============================] - 0s 5ms/step - loss: 0.4951 - accuracy: 0.8350\n",
            "8/8 [==============================] - 1s 6ms/step - loss: 0.6559 - accuracy: 0.7529\n",
            "7/7 [==============================] - 0s 4ms/step - loss: 0.8262 - accuracy: 0.7000\n",
            "8/8 [==============================] - 1s 6ms/step - loss: 0.8083 - accuracy: 0.6923\n",
            "7/7 [==============================] - 0s 5ms/step - loss: 0.6549 - accuracy: 0.8100\n",
            "8/8 [==============================] - 1s 6ms/step - loss: 0.6688 - accuracy: 0.7960\n",
            "7/7 [==============================] - 0s 5ms/step - loss: 0.5899 - accuracy: 0.8150\n",
            "8/8 [==============================] - 1s 6ms/step - loss: 0.5135 - accuracy: 0.8089\n",
            "7/7 [==============================] - 0s 5ms/step - loss: 3.7320 - accuracy: 0.0750\n",
            "8/8 [==============================] - 1s 7ms/step - loss: 0.7723 - accuracy: 0.6922\n",
            "7/7 [==============================] - 0s 5ms/step - loss: 0.5721 - accuracy: 0.8300\n",
            "8/8 [==============================] - 1s 7ms/step - loss: 0.7354 - accuracy: 0.7551\n",
            "7/7 [==============================] - 0s 5ms/step - loss: 0.3836 - accuracy: 0.8800\n",
            "FedNodeList is  [0, 1, 2, 3, 4, 5, 6, 7, 8, 9, 10, 11]\n",
            "Weights are... {0: array([0.09063289]), 1: array([0.09100157]), 2: array([0.0062647]), 3: array([0.10482896]), 4: array([0.06819649]), 5: array([0.10815635]), 6: array([0.09256902]), 7: array([0.11279848]), 8: array([0.11382674]), 9: array([0.00692095]), 10: array([0.0992453]), 11: array([0.10555856])}\n",
            "The Acc on each client... [0.6800000071525574, 0.7300000190734863, 0.07999999821186066, 0.7300000190734863, 0.550000011920929, 0.8349999785423279, 0.699999988079071, 0.8100000023841858, 0.8149999976158142, 0.07500000298023224, 0.8299999833106995, 0.8799999952316284]\n",
            "7/7 [==============================] - 0s 6ms/step - loss: 0.4552 - accuracy: 0.8820\n",
            "EPOCHS 18 is starting...\n",
            "8/8 [==============================] - 1s 7ms/step - loss: 0.7030 - accuracy: 0.7000\n",
            "7/7 [==============================] - 0s 5ms/step - loss: 0.7666 - accuracy: 0.7100\n",
            "8/8 [==============================] - 1s 7ms/step - loss: 0.6371 - accuracy: 0.7881\n",
            "7/7 [==============================] - 0s 5ms/step - loss: 0.5151 - accuracy: 0.8300\n",
            "8/8 [==============================] - 1s 6ms/step - loss: 0.3948 - accuracy: 0.8770\n",
            "7/7 [==============================] - 0s 5ms/step - loss: 3.7622 - accuracy: 0.1300\n",
            "8/8 [==============================] - 1s 6ms/step - loss: 0.6804 - accuracy: 0.7108\n",
            "7/7 [==============================] - 0s 5ms/step - loss: 0.7999 - accuracy: 0.6900\n",
            "8/8 [==============================] - 1s 7ms/step - loss: 0.7695 - accuracy: 0.7210\n",
            "7/7 [==============================] - 0s 5ms/step - loss: 0.5705 - accuracy: 0.8000\n",
            "8/8 [==============================] - 1s 6ms/step - loss: 0.5362 - accuracy: 0.8082\n",
            "7/7 [==============================] - 0s 5ms/step - loss: 0.4101 - accuracy: 0.8750\n",
            "8/8 [==============================] - 1s 6ms/step - loss: 0.7034 - accuracy: 0.7252\n",
            "7/7 [==============================] - 0s 5ms/step - loss: 0.9260 - accuracy: 0.5800\n",
            "8/8 [==============================] - 1s 6ms/step - loss: 0.7678 - accuracy: 0.7204\n",
            "7/7 [==============================] - 0s 5ms/step - loss: 0.6151 - accuracy: 0.8050\n",
            "8/8 [==============================] - 1s 7ms/step - loss: 0.6637 - accuracy: 0.7746\n",
            "7/7 [==============================] - 0s 6ms/step - loss: 0.5191 - accuracy: 0.8550\n",
            "8/8 [==============================] - 1s 6ms/step - loss: 0.4657 - accuracy: 0.8061\n",
            "7/7 [==============================] - 0s 5ms/step - loss: 2.3692 - accuracy: 0.2100\n",
            "8/8 [==============================] - 1s 7ms/step - loss: 0.6524 - accuracy: 0.7688\n",
            "7/7 [==============================] - 0s 6ms/step - loss: 0.6033 - accuracy: 0.8100\n",
            "8/8 [==============================] - 1s 7ms/step - loss: 0.6311 - accuracy: 0.7853\n",
            "7/7 [==============================] - 0s 5ms/step - loss: 0.5262 - accuracy: 0.8350\n",
            "FedNodeList is  [0, 1, 2, 3, 4, 5, 6, 7, 8, 9, 10, 11]\n",
            "Weights are... {0: array([0.08894565]), 1: array([0.10445534]), 2: array([0.01292895]), 3: array([0.08928746]), 4: array([0.095599]), 5: array([0.10550183]), 6: array([0.07461563]), 7: array([0.1024234]), 8: array([0.11722573]), 9: array([0.02199038]), 10: array([0.0869116]), 11: array([0.10011502])}\n",
            "The Acc on each client... [0.7099999785423279, 0.8299999833106995, 0.12999999523162842, 0.6899999976158142, 0.800000011920929, 0.875, 0.5799999833106995, 0.8050000071525574, 0.8550000190734863, 0.20999999344348907, 0.8100000023841858, 0.8349999785423279]\n",
            "7/7 [==============================] - 0s 5ms/step - loss: 0.4429 - accuracy: 0.8675\n",
            "EPOCHS 19 is starting...\n",
            "8/8 [==============================] - 1s 7ms/step - loss: 0.6700 - accuracy: 0.6901\n",
            "7/7 [==============================] - 0s 4ms/step - loss: 0.7270 - accuracy: 0.7250\n",
            "8/8 [==============================] - 1s 7ms/step - loss: 0.5261 - accuracy: 0.8169\n",
            "7/7 [==============================] - 0s 5ms/step - loss: 0.4431 - accuracy: 0.8450\n",
            "8/8 [==============================] - 1s 7ms/step - loss: 0.4845 - accuracy: 0.8418\n",
            "7/7 [==============================] - 0s 5ms/step - loss: 3.6692 - accuracy: 0.1100\n",
            "8/8 [==============================] - 1s 6ms/step - loss: 0.7069 - accuracy: 0.7420\n",
            "7/7 [==============================] - 0s 5ms/step - loss: 0.8668 - accuracy: 0.6500\n",
            "8/8 [==============================] - 1s 6ms/step - loss: 0.6186 - accuracy: 0.7738\n",
            "7/7 [==============================] - 0s 5ms/step - loss: 0.8513 - accuracy: 0.6550\n",
            "8/8 [==============================] - 1s 7ms/step - loss: 0.4896 - accuracy: 0.8531\n",
            "7/7 [==============================] - 0s 6ms/step - loss: 0.5633 - accuracy: 0.8050\n",
            "8/8 [==============================] - 1s 6ms/step - loss: 0.7254 - accuracy: 0.7327\n",
            "7/7 [==============================] - 0s 5ms/step - loss: 0.8856 - accuracy: 0.6450\n",
            "8/8 [==============================] - 1s 6ms/step - loss: 0.7950 - accuracy: 0.6907\n",
            "7/7 [==============================] - 0s 5ms/step - loss: 0.5698 - accuracy: 0.8600\n",
            "8/8 [==============================] - 1s 6ms/step - loss: 0.5782 - accuracy: 0.8138\n",
            "7/7 [==============================] - 0s 5ms/step - loss: 0.5370 - accuracy: 0.8000\n",
            "8/8 [==============================] - 1s 7ms/step - loss: 0.5000 - accuracy: 0.8406\n",
            "7/7 [==============================] - 0s 6ms/step - loss: 3.5711 - accuracy: 0.0550\n",
            "8/8 [==============================] - 1s 6ms/step - loss: 0.7412 - accuracy: 0.7413\n",
            "7/7 [==============================] - 0s 5ms/step - loss: 0.7347 - accuracy: 0.6850\n",
            "8/8 [==============================] - 1s 7ms/step - loss: 0.5090 - accuracy: 0.8387\n",
            "7/7 [==============================] - 0s 5ms/step - loss: 0.4912 - accuracy: 0.8550\n",
            "FedNodeList is  [0, 1, 3, 4, 5, 6, 7, 8, 10, 11]\n",
            "Weights are... {0: array([0.09140731]), 1: array([0.11300986]), 3: array([0.08543193]), 4: array([0.0885136]), 5: array([0.11337131]), 6: array([0.08896436]), 7: array([0.12209245]), 8: array([0.10585188]), 10: array([0.09294319]), 11: array([0.09841412])}\n",
            "The Acc on each client... [0.7250000238418579, 0.8450000286102295, 0.10999999940395355, 0.6499999761581421, 0.6549999713897705, 0.8050000071525574, 0.6449999809265137, 0.8600000143051147, 0.800000011920929, 0.054999999701976776, 0.6850000023841858, 0.8550000190734863]\n",
            "7/7 [==============================] - 0s 5ms/step - loss: 0.4268 - accuracy: 0.8682\n"
          ],
          "name": "stdout"
        }
      ]
    },
    {
      "cell_type": "code",
      "metadata": {
        "colab": {
          "base_uri": "https://localhost:8080/",
          "height": 264
        },
        "id": "oCRvT_mMend-",
        "outputId": "0baff6d4-e5bb-47ae-c698-129d42e14dc2"
      },
      "source": [
        "ShowWeights(WeightsEachEpoch,19)"
      ],
      "execution_count": null,
      "outputs": [
        {
          "output_type": "display_data",
          "data": {
            "image/png": "[encoded data removed]",
            "text/plain": [
              "<Figure size 432x288 with 1 Axes>"
            ]
          },
          "metadata": {
            "tags": []
          }
        }
      ]
    },
    {
      "cell_type": "code",
      "metadata": {
        "colab": {
          "base_uri": "https://localhost:8080/",
          "height": 295
        },
        "id": "it9jy1sji9ly",
        "outputId": "bc339264-dfbc-48b3-f8ab-5c7f09d51554"
      },
      "source": [
        "A1 = ShowAccAndLoss(S.loss_acc)"
      ],
      "execution_count": null,
      "outputs": [
        {
          "output_type": "display_data",
          "data": {
            "image/png": "[encoded data removed]",
            "text/plain": [
              "<Figure size 432x288 with 2 Axes>"
            ]
          },
          "metadata": {
            "tags": [],
            "needs_background": "light"
          }
        }
      ]
    },
    {
      "cell_type": "code",
      "metadata": {
        "colab": {
          "base_uri": "https://localhost:8080/"
        },
        "id": "lXC1RS38HTXb",
        "outputId": "1240a654-5596-48af-f382-41688c9b068b"
      },
      "source": [
        "NodeList"
      ],
      "execution_count": null,
      "outputs": [
        {
          "output_type": "execute_result",
          "data": {
            "text/plain": [
              "[[0, 1, 2, 3, 4, 5, 6, 7, 8, 9, 10, 11],\n",
              " [0, 1, 2, 3, 4, 5, 6, 7, 8, 9, 10, 11],\n",
              " [0, 1, 2, 3, 4, 5, 6, 7, 8, 9, 10, 11],\n",
              " [0, 1, 2, 3, 4, 5, 6, 7, 8, 9, 10, 11],\n",
              " [0, 1, 2, 3, 4, 5, 6, 7, 8, 9, 10, 11],\n",
              " [0, 1, 2, 3, 4, 5, 6, 7, 8, 9, 10, 11],\n",
              " [0, 1, 2, 3, 4, 5, 6, 7, 8, 9, 10, 11],\n",
              " [0, 1, 2, 3, 4, 5, 6, 7, 8, 9, 10, 11],\n",
              " [0, 1, 2, 3, 4, 5, 6, 7, 8, 9, 10, 11],\n",
              " [0, 1, 2, 3, 4, 5, 6, 7, 8, 9, 10, 11],\n",
              " [0, 1, 2, 3, 4, 5, 6, 7, 8, 9, 10, 11],\n",
              " [0, 1, 2, 3, 4, 5, 6, 7, 8, 9, 10, 11],\n",
              " [0, 1, 2, 3, 4, 5, 6, 7, 8, 9, 10, 11],\n",
              " [0, 1, 2, 3, 4, 5, 6, 7, 8, 9, 10, 11],\n",
              " [0, 1, 2, 3, 4, 5, 6, 7, 8, 9, 10, 11],\n",
              " [0, 1, 2, 3, 4, 5, 6, 7, 8, 9, 10, 11],\n",
              " [0, 1, 2, 3, 4, 5, 6, 7, 8, 9, 10, 11],\n",
              " [0, 1, 2, 3, 4, 5, 6, 7, 8, 9, 10, 11],\n",
              " [0, 1, 2, 3, 4, 5, 6, 7, 8, 9, 10, 11],\n",
              " [0, 1, 2, 3, 4, 5, 6, 7, 8, 9, 10, 11]]"
            ]
          },
          "metadata": {
            "tags": []
          },
          "execution_count": 23
        }
      ]
    },
    {
      "cell_type": "code",
      "metadata": {
        "colab": {
          "base_uri": "https://localhost:8080/",
          "height": 279
        },
        "id": "LM3n47YxHTNn",
        "outputId": "d7a8b11d-ca3d-4d61-d49d-0870df0f5174"
      },
      "source": [
        "ShowParticipatedNode(NodeList)"
      ],
      "execution_count": null,
      "outputs": [
        {
          "output_type": "display_data",
          "data": {
            "image/png": "[encoded data removed]",
            "text/plain": [
              "<Figure size 432x288 with 1 Axes>"
            ]
          },
          "metadata": {
            "tags": [],
            "needs_background": "light"
          }
        }
      ]
    },
    {
      "cell_type": "markdown",
      "metadata": {
        "id": "i2axuRBsO6V7"
      },
      "source": [
        "# 阶段四：设置对照组，即普通的FedAvg"
      ]
    },
    {
      "cell_type": "code",
      "metadata": {
        "id": "wwI_gLjwO5w4"
      },
      "source": [
        "def FedAvg_Baseline(NUM_CLIENTS,model):\n",
        "  iterModel = model.copy()\n",
        "  len_it = len(iterModel.trainable_variables)\n",
        "  all_weights = []\n",
        "  for weights_index in range(len_it):\n",
        "    tmp =np.zeros(iterModel.trainable_variables[weights_index].numpy().shape,dtype='float64')\n",
        "    for node in range(NUM_CLIENTS):\n",
        "      tmp += clients[node].model.trainable_variables[weights_index].numpy()\n",
        "    all_weights.append(tmp/NUM_CLIENTS)\n",
        "  # print(all_weights)\n",
        "  iterModel_vars = iterModel.trainable_variables\n",
        "  for iter_v,n in zip(iterModel_vars,all_weights):\n",
        "    iter_v.assign(n)\n",
        "  return iterModel"
      ],
      "execution_count": null,
      "outputs": []
    },
    {
      "cell_type": "code",
      "metadata": {
        "colab": {
          "base_uri": "https://localhost:8080/"
        },
        "id": "X5o0nVueO0m7",
        "outputId": "8cfd0b19-e745-4b6e-82c2-6ae3db156657"
      },
      "source": [
        "InitModel = FLModel(row=28,col=28,num_classes=CLASS_NUM)\n",
        "S2 = ParamServer(\"\")\n",
        "S2.PreEval(InitModel,validation_data)\n",
        "SendModel = InitModel"
      ],
      "execution_count": null,
      "outputs": [
        {
          "output_type": "stream",
          "text": [
            "7/7 [==============================] - 0s 4ms/step - loss: 2.4140 - accuracy: 0.0150\n"
          ],
          "name": "stdout"
        }
      ]
    },
    {
      "cell_type": "code",
      "metadata": {
        "colab": {
          "base_uri": "https://localhost:8080/"
        },
        "id": "KW2JdgUEP0C5",
        "outputId": "eeb96d52-f6fd-4885-989c-1b04cb9277f3"
      },
      "source": [
        "SendModel = S2.PreTrain(InitModel,DigitDataSet[0][0:200],DigitDataSet[1][0:200],epochs=1)\n",
        "S2.PreEval(SendModel,validation_data)"
      ],
      "execution_count": null,
      "outputs": [
        {
          "output_type": "stream",
          "text": [
            "7/7 [==============================] - 1s 6ms/step - loss: 2.3569 - accuracy: 0.1515\n",
            "7/7 [==============================] - 0s 4ms/step - loss: 2.1367 - accuracy: 0.4361\n"
          ],
          "name": "stdout"
        }
      ]
    },
    {
      "cell_type": "code",
      "metadata": {
        "colab": {
          "base_uri": "https://localhost:8080/"
        },
        "id": "dejoUrZlPz5l",
        "outputId": "ca3eaf0e-7b04-4d22-c06c-63e0529c8371"
      },
      "source": [
        "for e in range(NUM_EPOCHS):\n",
        "  print(\"EPOCHS {} is starting...\".format(e))\n",
        "  for i in range(NUM_CLIENTS):\n",
        "    clients[i].ReceiveModel(SendModel.copy())\n",
        "    clients[i].NodeTrain()\n",
        "    # clients[i].NodeEval()\n",
        "    # DIS.append(Distance(SendModel,clients[i].model))\n",
        "  FedModel = FedAvg_Baseline(NUM_CLIENTS,SendModel)\n",
        "  S2.PreEval(FedModel,validation_sever)\n",
        "  SendModel = FedModel.copy()"
      ],
      "execution_count": null,
      "outputs": [
        {
          "output_type": "stream",
          "text": [
            "EPOCHS 0 is starting...\n",
            "8/8 [==============================] - 1s 6ms/step - loss: 2.0871 - accuracy: 0.5624\n",
            "8/8 [==============================] - 1s 6ms/step - loss: 2.3432 - accuracy: 0.2100\n",
            "8/8 [==============================] - 1s 6ms/step - loss: 1.6758 - accuracy: 0.8630\n",
            "8/8 [==============================] - 1s 6ms/step - loss: 2.1721 - accuracy: 0.4536\n",
            "8/8 [==============================] - 1s 6ms/step - loss: 2.1257 - accuracy: 0.5122\n",
            "8/8 [==============================] - 1s 6ms/step - loss: 2.3298 - accuracy: 0.1871\n",
            "8/8 [==============================] - 1s 6ms/step - loss: 2.0321 - accuracy: 0.5787\n",
            "8/8 [==============================] - 1s 5ms/step - loss: 2.2662 - accuracy: 0.3815\n",
            "8/8 [==============================] - 1s 6ms/step - loss: 2.3246 - accuracy: 0.2546\n",
            "8/8 [==============================] - 1s 5ms/step - loss: 1.6983 - accuracy: 0.8335\n",
            "8/8 [==============================] - 1s 6ms/step - loss: 2.3580 - accuracy: 0.1870\n",
            "8/8 [==============================] - 1s 5ms/step - loss: 2.3877 - accuracy: 0.1108\n",
            "7/7 [==============================] - 0s 4ms/step - loss: 3.0040 - accuracy: 0.0000e+00\n",
            "EPOCHS 1 is starting...\n",
            "8/8 [==============================] - 1s 5ms/step - loss: 1.7948 - accuracy: 0.5346\n",
            "8/8 [==============================] - 1s 6ms/step - loss: 2.3117 - accuracy: 0.2323\n",
            "8/8 [==============================] - 1s 6ms/step - loss: 0.5696 - accuracy: 0.9521\n",
            "8/8 [==============================] - 1s 6ms/step - loss: 1.8551 - accuracy: 0.4918\n",
            "8/8 [==============================] - 1s 6ms/step - loss: 1.6498 - accuracy: 0.5731\n",
            "8/8 [==============================] - 1s 6ms/step - loss: 2.3103 - accuracy: 0.2368\n",
            "8/8 [==============================] - 1s 6ms/step - loss: 1.6634 - accuracy: 0.5809\n",
            "8/8 [==============================] - 1s 6ms/step - loss: 2.1693 - accuracy: 0.3455\n",
            "8/8 [==============================] - 1s 6ms/step - loss: 2.2502 - accuracy: 0.2750\n",
            "8/8 [==============================] - 1s 5ms/step - loss: 0.5915 - accuracy: 0.9413\n",
            "8/8 [==============================] - 1s 6ms/step - loss: 2.4566 - accuracy: 0.1746\n",
            "8/8 [==============================] - 1s 6ms/step - loss: 2.4764 - accuracy: 0.1554\n",
            "7/7 [==============================] - 0s 4ms/step - loss: 2.5342 - accuracy: 0.0000e+00\n",
            "EPOCHS 2 is starting...\n",
            "8/8 [==============================] - 1s 6ms/step - loss: 1.6052 - accuracy: 0.6213\n",
            "8/8 [==============================] - 1s 6ms/step - loss: 2.1788 - accuracy: 0.2307\n",
            "8/8 [==============================] - 1s 6ms/step - loss: 0.7784 - accuracy: 0.9391\n",
            "8/8 [==============================] - 1s 6ms/step - loss: 1.7916 - accuracy: 0.5207\n",
            "8/8 [==============================] - 1s 6ms/step - loss: 1.6673 - accuracy: 0.5470\n",
            "8/8 [==============================] - 1s 6ms/step - loss: 2.1249 - accuracy: 0.3021\n",
            "8/8 [==============================] - 1s 6ms/step - loss: 1.5256 - accuracy: 0.6178\n",
            "8/8 [==============================] - 1s 6ms/step - loss: 2.0146 - accuracy: 0.3885\n",
            "8/8 [==============================] - 1s 6ms/step - loss: 2.1265 - accuracy: 0.2810\n",
            "8/8 [==============================] - 1s 6ms/step - loss: 0.8097 - accuracy: 0.9062\n",
            "8/8 [==============================] - 1s 6ms/step - loss: 2.2145 - accuracy: 0.2182\n",
            "8/8 [==============================] - 1s 6ms/step - loss: 2.2826 - accuracy: 0.1641\n",
            "7/7 [==============================] - 0s 4ms/step - loss: 2.5630 - accuracy: 0.0000e+00\n",
            "EPOCHS 3 is starting...\n",
            "8/8 [==============================] - 1s 6ms/step - loss: 1.4862 - accuracy: 0.5894\n",
            "8/8 [==============================] - 1s 6ms/step - loss: 2.0676 - accuracy: 0.2617\n",
            "8/8 [==============================] - 1s 6ms/step - loss: 0.6046 - accuracy: 0.9231\n",
            "8/8 [==============================] - 1s 6ms/step - loss: 1.6816 - accuracy: 0.4939\n",
            "8/8 [==============================] - 1s 6ms/step - loss: 1.5339 - accuracy: 0.5455\n",
            "8/8 [==============================] - 1s 6ms/step - loss: 2.0181 - accuracy: 0.3266\n",
            "8/8 [==============================] - 1s 6ms/step - loss: 1.3616 - accuracy: 0.6294\n",
            "8/8 [==============================] - 1s 6ms/step - loss: 1.9216 - accuracy: 0.3992\n",
            "8/8 [==============================] - 1s 6ms/step - loss: 2.0510 - accuracy: 0.3002\n",
            "8/8 [==============================] - 1s 6ms/step - loss: 0.6274 - accuracy: 0.9206\n",
            "8/8 [==============================] - 1s 6ms/step - loss: 2.1626 - accuracy: 0.2475\n",
            "8/8 [==============================] - 1s 5ms/step - loss: 2.2272 - accuracy: 0.2136\n",
            "7/7 [==============================] - 0s 4ms/step - loss: 2.3694 - accuracy: 0.0467\n",
            "EPOCHS 4 is starting...\n",
            "8/8 [==============================] - 1s 6ms/step - loss: 1.4277 - accuracy: 0.5768\n",
            "8/8 [==============================] - 1s 6ms/step - loss: 1.9698 - accuracy: 0.3666\n",
            "8/8 [==============================] - 1s 6ms/step - loss: 0.5758 - accuracy: 0.9373\n",
            "8/8 [==============================] - 1s 6ms/step - loss: 1.6882 - accuracy: 0.4573\n",
            "8/8 [==============================] - 1s 6ms/step - loss: 1.4755 - accuracy: 0.4978\n",
            "8/8 [==============================] - 1s 6ms/step - loss: 1.7803 - accuracy: 0.3918\n",
            "8/8 [==============================] - 1s 6ms/step - loss: 1.2934 - accuracy: 0.6371\n",
            "8/8 [==============================] - 1s 6ms/step - loss: 1.7434 - accuracy: 0.4398\n",
            "8/8 [==============================] - 1s 6ms/step - loss: 1.8983 - accuracy: 0.3190\n",
            "8/8 [==============================] - 1s 6ms/step - loss: 0.5587 - accuracy: 0.9372\n",
            "8/8 [==============================] - 1s 6ms/step - loss: 1.9913 - accuracy: 0.3014\n",
            "8/8 [==============================] - 1s 6ms/step - loss: 2.0340 - accuracy: 0.2868\n",
            "7/7 [==============================] - 0s 4ms/step - loss: 2.1246 - accuracy: 0.1240\n",
            "EPOCHS 5 is starting...\n",
            "8/8 [==============================] - 1s 7ms/step - loss: 1.1929 - accuracy: 0.6306\n",
            "8/8 [==============================] - 1s 6ms/step - loss: 1.5097 - accuracy: 0.4716\n",
            "8/8 [==============================] - 1s 6ms/step - loss: 0.4878 - accuracy: 0.9121\n",
            "8/8 [==============================] - 1s 6ms/step - loss: 1.4702 - accuracy: 0.5359\n",
            "8/8 [==============================] - 1s 6ms/step - loss: 1.3165 - accuracy: 0.5556\n",
            "8/8 [==============================] - 1s 6ms/step - loss: 1.4884 - accuracy: 0.4891\n",
            "8/8 [==============================] - 1s 7ms/step - loss: 1.1680 - accuracy: 0.6417\n",
            "8/8 [==============================] - 1s 6ms/step - loss: 1.5501 - accuracy: 0.5161\n",
            "8/8 [==============================] - 1s 6ms/step - loss: 1.7226 - accuracy: 0.4349\n",
            "8/8 [==============================] - 1s 6ms/step - loss: 0.5603 - accuracy: 0.9099\n",
            "8/8 [==============================] - 1s 6ms/step - loss: 1.7801 - accuracy: 0.4195\n",
            "8/8 [==============================] - 1s 6ms/step - loss: 1.7938 - accuracy: 0.3527\n",
            "7/7 [==============================] - 0s 4ms/step - loss: 1.6725 - accuracy: 0.3354\n",
            "EPOCHS 6 is starting...\n",
            "8/8 [==============================] - 1s 6ms/step - loss: 1.1635 - accuracy: 0.6133\n",
            "8/8 [==============================] - 1s 6ms/step - loss: 1.3691 - accuracy: 0.5037\n",
            "8/8 [==============================] - 1s 6ms/step - loss: 0.5132 - accuracy: 0.9270\n",
            "8/8 [==============================] - 1s 6ms/step - loss: 1.3333 - accuracy: 0.5226\n",
            "8/8 [==============================] - 1s 6ms/step - loss: 1.2038 - accuracy: 0.5887\n",
            "8/8 [==============================] - 1s 6ms/step - loss: 1.3406 - accuracy: 0.5330\n",
            "8/8 [==============================] - 1s 6ms/step - loss: 1.1023 - accuracy: 0.6781\n",
            "8/8 [==============================] - 1s 6ms/step - loss: 1.3619 - accuracy: 0.5645\n",
            "8/8 [==============================] - 1s 6ms/step - loss: 1.3983 - accuracy: 0.5155\n",
            "8/8 [==============================] - 1s 6ms/step - loss: 0.5845 - accuracy: 0.9042\n",
            "8/8 [==============================] - 1s 6ms/step - loss: 1.4986 - accuracy: 0.4760\n",
            "8/8 [==============================] - 1s 6ms/step - loss: 1.5542 - accuracy: 0.4908\n",
            "7/7 [==============================] - 0s 4ms/step - loss: 1.5854 - accuracy: 0.3333\n",
            "EPOCHS 7 is starting...\n",
            "8/8 [==============================] - 1s 6ms/step - loss: 1.1446 - accuracy: 0.6057\n",
            "8/8 [==============================] - 1s 6ms/step - loss: 1.3114 - accuracy: 0.5322\n",
            "8/8 [==============================] - 1s 6ms/step - loss: 0.4708 - accuracy: 0.9268\n",
            "8/8 [==============================] - 1s 6ms/step - loss: 1.2407 - accuracy: 0.5997\n",
            "8/8 [==============================] - 1s 6ms/step - loss: 1.0467 - accuracy: 0.6315\n",
            "8/8 [==============================] - 1s 6ms/step - loss: 1.2201 - accuracy: 0.5521\n",
            "8/8 [==============================] - 1s 6ms/step - loss: 0.9403 - accuracy: 0.6919\n",
            "8/8 [==============================] - 1s 6ms/step - loss: 1.3318 - accuracy: 0.4979\n",
            "8/8 [==============================] - 1s 6ms/step - loss: 1.3339 - accuracy: 0.5644\n",
            "8/8 [==============================] - 1s 6ms/step - loss: 0.5063 - accuracy: 0.9177\n",
            "8/8 [==============================] - 1s 6ms/step - loss: 1.3670 - accuracy: 0.5160\n",
            "8/8 [==============================] - 1s 6ms/step - loss: 1.4419 - accuracy: 0.5515\n",
            "7/7 [==============================] - 0s 4ms/step - loss: 1.3239 - accuracy: 0.4858\n",
            "EPOCHS 8 is starting...\n",
            "8/8 [==============================] - 1s 6ms/step - loss: 0.9771 - accuracy: 0.6564\n",
            "8/8 [==============================] - 1s 6ms/step - loss: 1.0412 - accuracy: 0.6669\n",
            "8/8 [==============================] - 1s 6ms/step - loss: 0.5188 - accuracy: 0.8688\n",
            "8/8 [==============================] - 1s 6ms/step - loss: 1.1362 - accuracy: 0.5938\n",
            "8/8 [==============================] - 1s 6ms/step - loss: 0.9596 - accuracy: 0.6382\n",
            "8/8 [==============================] - 1s 6ms/step - loss: 1.0417 - accuracy: 0.6566\n",
            "8/8 [==============================] - 1s 6ms/step - loss: 0.9730 - accuracy: 0.6633\n",
            "8/8 [==============================] - 1s 6ms/step - loss: 1.1920 - accuracy: 0.5846\n",
            "8/8 [==============================] - 1s 6ms/step - loss: 1.2248 - accuracy: 0.5729\n",
            "8/8 [==============================] - 1s 6ms/step - loss: 0.4134 - accuracy: 0.9173\n",
            "8/8 [==============================] - 1s 6ms/step - loss: 1.2040 - accuracy: 0.5687\n",
            "8/8 [==============================] - 1s 6ms/step - loss: 1.3214 - accuracy: 0.5941\n",
            "7/7 [==============================] - 0s 4ms/step - loss: 1.2681 - accuracy: 0.5616\n",
            "EPOCHS 9 is starting...\n",
            "8/8 [==============================] - 1s 6ms/step - loss: 0.8981 - accuracy: 0.6316\n",
            "8/8 [==============================] - 1s 6ms/step - loss: 1.0442 - accuracy: 0.6098\n",
            "8/8 [==============================] - 1s 6ms/step - loss: 0.4782 - accuracy: 0.8883\n",
            "8/8 [==============================] - 1s 6ms/step - loss: 1.1873 - accuracy: 0.5903\n",
            "8/8 [==============================] - 1s 6ms/step - loss: 0.9184 - accuracy: 0.6779\n",
            "8/8 [==============================] - 1s 6ms/step - loss: 0.8854 - accuracy: 0.7018\n",
            "8/8 [==============================] - 1s 6ms/step - loss: 0.9110 - accuracy: 0.6837\n",
            "8/8 [==============================] - 1s 6ms/step - loss: 1.0975 - accuracy: 0.5919\n",
            "8/8 [==============================] - 1s 6ms/step - loss: 1.1113 - accuracy: 0.5861\n",
            "8/8 [==============================] - 1s 6ms/step - loss: 0.4580 - accuracy: 0.8913\n",
            "8/8 [==============================] - 1s 6ms/step - loss: 1.1312 - accuracy: 0.5737\n",
            "8/8 [==============================] - 1s 6ms/step - loss: 1.2237 - accuracy: 0.6025\n",
            "7/7 [==============================] - 0s 4ms/step - loss: 1.0425 - accuracy: 0.6397\n",
            "EPOCHS 10 is starting...\n",
            "8/8 [==============================] - 1s 6ms/step - loss: 0.9273 - accuracy: 0.6093\n",
            "8/8 [==============================] - 1s 6ms/step - loss: 0.9678 - accuracy: 0.6435\n",
            "8/8 [==============================] - 1s 6ms/step - loss: 0.4740 - accuracy: 0.8770\n",
            "8/8 [==============================] - 1s 6ms/step - loss: 0.9568 - accuracy: 0.6560\n",
            "8/8 [==============================] - 1s 6ms/step - loss: 0.8668 - accuracy: 0.6668\n",
            "8/8 [==============================] - 1s 6ms/step - loss: 0.8821 - accuracy: 0.6870\n",
            "8/8 [==============================] - 1s 6ms/step - loss: 0.9045 - accuracy: 0.7009\n",
            "8/8 [==============================] - 1s 6ms/step - loss: 1.0239 - accuracy: 0.5987\n",
            "8/8 [==============================] - 1s 6ms/step - loss: 1.0156 - accuracy: 0.6404\n",
            "8/8 [==============================] - 1s 6ms/step - loss: 0.4520 - accuracy: 0.9135\n",
            "8/8 [==============================] - 1s 6ms/step - loss: 1.0527 - accuracy: 0.6509\n",
            "8/8 [==============================] - 1s 6ms/step - loss: 1.0254 - accuracy: 0.6168\n",
            "7/7 [==============================] - 0s 4ms/step - loss: 0.9397 - accuracy: 0.6948\n",
            "EPOCHS 11 is starting...\n",
            "8/8 [==============================] - 1s 6ms/step - loss: 0.7939 - accuracy: 0.7216\n",
            "8/8 [==============================] - 1s 6ms/step - loss: 0.9237 - accuracy: 0.7004\n",
            "8/8 [==============================] - 1s 6ms/step - loss: 0.4104 - accuracy: 0.8805\n",
            "8/8 [==============================] - 1s 6ms/step - loss: 0.9349 - accuracy: 0.7103\n",
            "8/8 [==============================] - 1s 6ms/step - loss: 0.8672 - accuracy: 0.6599\n",
            "8/8 [==============================] - 1s 6ms/step - loss: 0.8192 - accuracy: 0.7433\n",
            "8/8 [==============================] - 1s 6ms/step - loss: 0.7369 - accuracy: 0.7408\n",
            "8/8 [==============================] - 1s 6ms/step - loss: 0.9830 - accuracy: 0.6733\n",
            "8/8 [==============================] - 1s 6ms/step - loss: 1.0295 - accuracy: 0.6675\n",
            "8/8 [==============================] - 1s 6ms/step - loss: 0.4960 - accuracy: 0.8701\n",
            "8/8 [==============================] - 1s 6ms/step - loss: 0.9823 - accuracy: 0.6832\n",
            "8/8 [==============================] - 1s 6ms/step - loss: 1.1295 - accuracy: 0.6136\n",
            "7/7 [==============================] - 1s 5ms/step - loss: 0.9841 - accuracy: 0.6738\n",
            "EPOCHS 12 is starting...\n",
            "8/8 [==============================] - 1s 6ms/step - loss: 0.7697 - accuracy: 0.7086\n",
            "8/8 [==============================] - 1s 6ms/step - loss: 0.8114 - accuracy: 0.7033\n",
            "8/8 [==============================] - 1s 6ms/step - loss: 0.3717 - accuracy: 0.8799\n",
            "8/8 [==============================] - 1s 6ms/step - loss: 0.9731 - accuracy: 0.7298\n",
            "8/8 [==============================] - 1s 6ms/step - loss: 0.8028 - accuracy: 0.7161\n",
            "8/8 [==============================] - 1s 6ms/step - loss: 0.7729 - accuracy: 0.7702\n",
            "8/8 [==============================] - 1s 6ms/step - loss: 0.7995 - accuracy: 0.7032\n",
            "8/8 [==============================] - 1s 6ms/step - loss: 0.9481 - accuracy: 0.6926\n",
            "8/8 [==============================] - 1s 6ms/step - loss: 0.9034 - accuracy: 0.7106\n",
            "8/8 [==============================] - 1s 6ms/step - loss: 0.4487 - accuracy: 0.8557\n",
            "8/8 [==============================] - 1s 6ms/step - loss: 1.0439 - accuracy: 0.6233\n",
            "8/8 [==============================] - 1s 6ms/step - loss: 0.9109 - accuracy: 0.6977\n",
            "7/7 [==============================] - 0s 4ms/step - loss: 0.8318 - accuracy: 0.7596\n",
            "EPOCHS 13 is starting...\n",
            "8/8 [==============================] - 1s 6ms/step - loss: 0.8335 - accuracy: 0.6776\n",
            "8/8 [==============================] - 1s 6ms/step - loss: 0.8829 - accuracy: 0.7153\n",
            "8/8 [==============================] - 1s 6ms/step - loss: 0.4517 - accuracy: 0.8876\n",
            "8/8 [==============================] - 1s 6ms/step - loss: 0.8616 - accuracy: 0.7166\n",
            "8/8 [==============================] - 1s 6ms/step - loss: 0.7959 - accuracy: 0.7199\n",
            "8/8 [==============================] - 1s 6ms/step - loss: 0.6789 - accuracy: 0.7487\n",
            "8/8 [==============================] - 1s 6ms/step - loss: 0.8068 - accuracy: 0.7456\n",
            "8/8 [==============================] - 1s 6ms/step - loss: 0.9591 - accuracy: 0.6926\n",
            "8/8 [==============================] - 1s 6ms/step - loss: 0.8859 - accuracy: 0.6777\n",
            "8/8 [==============================] - 1s 6ms/step - loss: 0.4777 - accuracy: 0.8900\n",
            "8/8 [==============================] - 1s 6ms/step - loss: 0.8905 - accuracy: 0.6848\n",
            "8/8 [==============================] - 1s 6ms/step - loss: 0.8371 - accuracy: 0.7136\n",
            "7/7 [==============================] - 0s 4ms/step - loss: 0.8762 - accuracy: 0.7034\n",
            "EPOCHS 14 is starting...\n",
            "8/8 [==============================] - 1s 6ms/step - loss: 0.7395 - accuracy: 0.7437\n",
            "8/8 [==============================] - 1s 6ms/step - loss: 0.8702 - accuracy: 0.6939\n",
            "8/8 [==============================] - 1s 6ms/step - loss: 0.3717 - accuracy: 0.9007\n",
            "8/8 [==============================] - 1s 6ms/step - loss: 0.8994 - accuracy: 0.6983\n",
            "8/8 [==============================] - 1s 7ms/step - loss: 0.6582 - accuracy: 0.7704\n",
            "8/8 [==============================] - 1s 6ms/step - loss: 0.7742 - accuracy: 0.7120\n",
            "8/8 [==============================] - 1s 6ms/step - loss: 0.7393 - accuracy: 0.7220\n",
            "8/8 [==============================] - 1s 6ms/step - loss: 0.8974 - accuracy: 0.7057\n",
            "8/8 [==============================] - 1s 6ms/step - loss: 0.8225 - accuracy: 0.6931\n",
            "8/8 [==============================] - 1s 6ms/step - loss: 0.3606 - accuracy: 0.9420\n",
            "8/8 [==============================] - 1s 6ms/step - loss: 0.8658 - accuracy: 0.6650\n",
            "8/8 [==============================] - 1s 6ms/step - loss: 0.8282 - accuracy: 0.7308\n",
            "7/7 [==============================] - 0s 4ms/step - loss: 0.7625 - accuracy: 0.7591\n",
            "EPOCHS 15 is starting...\n",
            "8/8 [==============================] - 1s 6ms/step - loss: 0.8194 - accuracy: 0.6646\n",
            "8/8 [==============================] - 1s 6ms/step - loss: 0.8795 - accuracy: 0.7188\n",
            "8/8 [==============================] - 1s 6ms/step - loss: 0.3619 - accuracy: 0.8870\n",
            "8/8 [==============================] - 1s 6ms/step - loss: 0.8370 - accuracy: 0.7449\n",
            "8/8 [==============================] - 1s 6ms/step - loss: 0.6955 - accuracy: 0.7193\n",
            "8/8 [==============================] - 1s 7ms/step - loss: 0.6215 - accuracy: 0.7736\n",
            "8/8 [==============================] - 1s 6ms/step - loss: 0.6874 - accuracy: 0.7606\n",
            "8/8 [==============================] - 1s 5ms/step - loss: 0.8513 - accuracy: 0.7269\n",
            "8/8 [==============================] - 1s 6ms/step - loss: 0.9205 - accuracy: 0.6911\n",
            "8/8 [==============================] - 1s 6ms/step - loss: 0.3945 - accuracy: 0.8813\n",
            "8/8 [==============================] - 1s 6ms/step - loss: 0.7480 - accuracy: 0.7264\n",
            "8/8 [==============================] - 1s 6ms/step - loss: 0.7795 - accuracy: 0.7634\n",
            "7/7 [==============================] - 0s 4ms/step - loss: 0.7825 - accuracy: 0.7289\n",
            "EPOCHS 16 is starting...\n",
            "8/8 [==============================] - 1s 6ms/step - loss: 0.6575 - accuracy: 0.7411\n",
            "8/8 [==============================] - 1s 6ms/step - loss: 0.7665 - accuracy: 0.7657\n",
            "8/8 [==============================] - 1s 6ms/step - loss: 0.3577 - accuracy: 0.8808\n",
            "8/8 [==============================] - 1s 6ms/step - loss: 0.8021 - accuracy: 0.7506\n",
            "8/8 [==============================] - 1s 6ms/step - loss: 0.6843 - accuracy: 0.7507\n",
            "8/8 [==============================] - 1s 6ms/step - loss: 0.6931 - accuracy: 0.7499\n",
            "8/8 [==============================] - 1s 6ms/step - loss: 0.6782 - accuracy: 0.7452\n",
            "8/8 [==============================] - 1s 6ms/step - loss: 0.7545 - accuracy: 0.7182\n",
            "8/8 [==============================] - 1s 6ms/step - loss: 0.7319 - accuracy: 0.7189\n",
            "8/8 [==============================] - 1s 6ms/step - loss: 0.4083 - accuracy: 0.9172\n",
            "8/8 [==============================] - 1s 6ms/step - loss: 0.7441 - accuracy: 0.7484\n",
            "8/8 [==============================] - 1s 6ms/step - loss: 0.8351 - accuracy: 0.7167\n",
            "7/7 [==============================] - 0s 4ms/step - loss: 0.6988 - accuracy: 0.7783\n",
            "EPOCHS 17 is starting...\n",
            "8/8 [==============================] - 1s 6ms/step - loss: 0.7014 - accuracy: 0.7488\n",
            "8/8 [==============================] - 1s 7ms/step - loss: 0.7243 - accuracy: 0.7608\n",
            "8/8 [==============================] - 1s 6ms/step - loss: 0.4817 - accuracy: 0.8388\n",
            "8/8 [==============================] - 1s 6ms/step - loss: 0.8071 - accuracy: 0.7417\n",
            "8/8 [==============================] - 1s 6ms/step - loss: 0.7172 - accuracy: 0.7332\n",
            "8/8 [==============================] - 1s 6ms/step - loss: 0.6527 - accuracy: 0.7718\n",
            "8/8 [==============================] - 1s 6ms/step - loss: 0.6592 - accuracy: 0.7416\n",
            "8/8 [==============================] - 1s 6ms/step - loss: 0.7685 - accuracy: 0.7290\n",
            "8/8 [==============================] - 1s 6ms/step - loss: 0.7408 - accuracy: 0.7292\n",
            "8/8 [==============================] - 1s 6ms/step - loss: 0.2963 - accuracy: 0.9448\n",
            "8/8 [==============================] - 1s 6ms/step - loss: 0.8020 - accuracy: 0.7294\n",
            "8/8 [==============================] - 1s 7ms/step - loss: 0.7615 - accuracy: 0.7394\n",
            "7/7 [==============================] - 0s 4ms/step - loss: 0.6807 - accuracy: 0.7877\n",
            "EPOCHS 18 is starting...\n",
            "8/8 [==============================] - 1s 7ms/step - loss: 0.6720 - accuracy: 0.7447\n",
            "8/8 [==============================] - 1s 6ms/step - loss: 0.7317 - accuracy: 0.7470\n",
            "8/8 [==============================] - 1s 6ms/step - loss: 0.3620 - accuracy: 0.8881\n",
            "8/8 [==============================] - 1s 5ms/step - loss: 0.7648 - accuracy: 0.7564\n",
            "8/8 [==============================] - 1s 6ms/step - loss: 0.5929 - accuracy: 0.7888\n",
            "8/8 [==============================] - 1s 6ms/step - loss: 0.5810 - accuracy: 0.7959\n",
            "8/8 [==============================] - 1s 6ms/step - loss: 0.6717 - accuracy: 0.7137\n",
            "8/8 [==============================] - 1s 6ms/step - loss: 0.7756 - accuracy: 0.7177\n",
            "8/8 [==============================] - 1s 6ms/step - loss: 0.8425 - accuracy: 0.7101\n",
            "8/8 [==============================] - 1s 6ms/step - loss: 0.3540 - accuracy: 0.9235\n",
            "8/8 [==============================] - 1s 6ms/step - loss: 0.6859 - accuracy: 0.7626\n",
            "8/8 [==============================] - 1s 6ms/step - loss: 0.8043 - accuracy: 0.7521\n",
            "7/7 [==============================] - 0s 4ms/step - loss: 0.6639 - accuracy: 0.7786\n",
            "EPOCHS 19 is starting...\n",
            "8/8 [==============================] - 1s 6ms/step - loss: 0.6144 - accuracy: 0.7415\n",
            "8/8 [==============================] - 1s 7ms/step - loss: 0.6880 - accuracy: 0.7595\n",
            "8/8 [==============================] - 1s 6ms/step - loss: 0.3586 - accuracy: 0.9064\n",
            "8/8 [==============================] - 1s 6ms/step - loss: 0.8578 - accuracy: 0.7097\n",
            "8/8 [==============================] - 1s 6ms/step - loss: 0.6470 - accuracy: 0.7630\n",
            "8/8 [==============================] - 1s 6ms/step - loss: 0.5808 - accuracy: 0.8054\n",
            "8/8 [==============================] - 1s 6ms/step - loss: 0.7024 - accuracy: 0.7540\n",
            "8/8 [==============================] - 1s 6ms/step - loss: 0.7316 - accuracy: 0.7532\n",
            "8/8 [==============================] - 1s 6ms/step - loss: 0.7475 - accuracy: 0.7589\n",
            "8/8 [==============================] - 1s 6ms/step - loss: 0.4248 - accuracy: 0.8749\n",
            "8/8 [==============================] - 1s 6ms/step - loss: 0.7088 - accuracy: 0.7631\n",
            "8/8 [==============================] - 1s 6ms/step - loss: 0.7183 - accuracy: 0.7560\n",
            "7/7 [==============================] - 0s 4ms/step - loss: 0.6310 - accuracy: 0.7913\n"
          ],
          "name": "stdout"
        }
      ]
    },
    {
      "cell_type": "code",
      "metadata": {
        "colab": {
          "base_uri": "https://localhost:8080/",
          "height": 295
        },
        "id": "pVt1VKTnjHWb",
        "outputId": "85f14bbe-f959-4bb9-ed62-0cca86df6d4e"
      },
      "source": [
        "A2 = ShowAccAndLoss(S2.loss_acc)"
      ],
      "execution_count": null,
      "outputs": [
        {
          "output_type": "display_data",
          "data": {
            "image/png": "[encoded data removed]",
            "text/plain": [
              "<Figure size 432x288 with 2 Axes>"
            ]
          },
          "metadata": {
            "tags": [],
            "needs_background": "light"
          }
        }
      ]
    },
    {
      "cell_type": "markdown",
      "metadata": {
        "id": "_uH968k_P5dH"
      },
      "source": [
        "# 实验结果对比"
      ]
    },
    {
      "cell_type": "code",
      "metadata": {
        "colab": {
          "base_uri": "https://localhost:8080/",
          "height": 295
        },
        "id": "61vAiqA7U-uQ",
        "outputId": "180c8bed-311b-4ce7-ffb1-17fc441d5271"
      },
      "source": [
        "ResultAnalysis(A1,A2)"
      ],
      "execution_count": null,
      "outputs": [
        {
          "output_type": "display_data",
          "data": {
            "image/png": "[encoded data removed]",
            "text/plain": [
              "<Figure size 432x288 with 1 Axes>"
            ]
          },
          "metadata": {
            "tags": [],
            "needs_background": "light"
          }
        }
      ]
    },
    {
      "cell_type": "code",
      "metadata": {
        "id": "7Ed0W7m8_dv8"
      },
      "source": [
        ""
      ],
      "execution_count": null,
      "outputs": []
    }
  ]
}