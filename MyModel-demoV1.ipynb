{
  "nbformat": 4,
  "nbformat_minor": 0,
  "metadata": {
    "colab": {
      "name": "Copy of MyModel.ipynb",
      "provenance": [],
      "collapsed_sections": [],
      "authorship_tag": "ABX9TyN4fiQ+aHqbnMUX2LAmCoxU",
      "include_colab_link": true
    },
    "kernelspec": {
      "display_name": "Python 3",
      "name": "python3"
    },
    "language_info": {
      "name": "python"
    }
  },
  "cells": [
    {
      "cell_type": "markdown",
      "metadata": {
        "id": "view-in-github",
        "colab_type": "text"
      },
      "source": [
        "<a href=\"https://colab.research.google.com/github/lowbee2019/Algorithm/blob/master/MyModel-demoV1.ipynb\" target=\"_parent\"><img src=\"https://colab.research.google.com/assets/colab-badge.svg\" alt=\"Open In Colab\"/></a>"
      ]
    },
    {
      "cell_type": "code",
      "metadata": {
        "colab": {
          "base_uri": "https://localhost:8080/"
        },
        "id": "uoFhItkFEsF8",
        "outputId": "f1dd5dab-41ec-48f8-b3fa-bdc9dc3c6780"
      },
      "source": [
        "!pip install emnist"
      ],
      "execution_count": 1,
      "outputs": [
        {
          "output_type": "stream",
          "text": [
            "Collecting emnist\n",
            "  Downloading https://files.pythonhosted.org/packages/d1/f4/78b24acbef9e8fe976dda700f16a3606f3b8363b015bc555f8050fbbd8ac/emnist-0.0-py3-none-any.whl\n",
            "Requirement already satisfied: requests in /usr/local/lib/python3.7/dist-packages (from emnist) (2.23.0)\n",
            "Requirement already satisfied: numpy in /usr/local/lib/python3.7/dist-packages (from emnist) (1.19.5)\n",
            "Requirement already satisfied: tqdm in /usr/local/lib/python3.7/dist-packages (from emnist) (4.41.1)\n",
            "Requirement already satisfied: certifi>=2017.4.17 in /usr/local/lib/python3.7/dist-packages (from requests->emnist) (2020.12.5)\n",
            "Requirement already satisfied: urllib3!=1.25.0,!=1.25.1,<1.26,>=1.21.1 in /usr/local/lib/python3.7/dist-packages (from requests->emnist) (1.24.3)\n",
            "Requirement already satisfied: chardet<4,>=3.0.2 in /usr/local/lib/python3.7/dist-packages (from requests->emnist) (3.0.4)\n",
            "Requirement already satisfied: idna<3,>=2.5 in /usr/local/lib/python3.7/dist-packages (from requests->emnist) (2.10)\n",
            "Installing collected packages: emnist\n",
            "Successfully installed emnist-0.0\n"
          ],
          "name": "stdout"
        }
      ]
    },
    {
      "cell_type": "code",
      "metadata": {
        "id": "9e4So1L3pPWp"
      },
      "source": [
        "import tensorflow as tf\n",
        "import numpy as np\n",
        "from tensorflow import keras\n",
        "import collections\n",
        "import copy\n",
        "import random\n",
        "import emnist"
      ],
      "execution_count": 2,
      "outputs": []
    },
    {
      "cell_type": "markdown",
      "metadata": {
        "id": "YQaIGTfxmSfi"
      },
      "source": [
        "# Server Initialization"
      ]
    },
    {
      "cell_type": "code",
      "metadata": {
        "id": "PTK_p961nsA5"
      },
      "source": [
        "class ParamServer(object):\n",
        "  def __init__(self,init_model_path):\n",
        "    self.init_model_path = init_model_path\n",
        "    self.round = 0\n",
        "    self.optimizer=\"adam\"\n",
        "    self.loss = \"sparse_categorical_crossentropy\"\n",
        "    self.metrics =['accuracy']\n",
        "    self.loss_acc=[]\n",
        "\n",
        "  def PreTrain(self,model,data,labels,batch_size=32,epochs=5):\n",
        "    model.compile(optimizer=self.optimizer,\n",
        "                  loss=self.loss,\n",
        "                  metrics=self.metrics)\n",
        "    _metrics = model.fit(data,labels,batch_size,epochs)\n",
        "    return model\n",
        "  \n",
        "  def PreEval(self,model,test_data,test_labels):\n",
        "    model.compile(optimizer=self.optimizer,\n",
        "                  loss=self.loss,\n",
        "                  metrics=self.metrics)\n",
        "    self.loss_acc.append(model.evaluate(test_data,test_labels))\n"
      ],
      "execution_count": 3,
      "outputs": []
    },
    {
      "cell_type": "markdown",
      "metadata": {
        "id": "iRvlGAmjmxbw"
      },
      "source": [
        "## Mnist数据集的预处理"
      ]
    },
    {
      "cell_type": "code",
      "metadata": {
        "id": "6b0_4VEYnemW",
        "colab": {
          "base_uri": "https://localhost:8080/"
        },
        "outputId": "c26ea59d-79ce-4ce2-c73f-24b0e915481d"
      },
      "source": [
        "mnist = tf.keras.datasets.mnist\n",
        "train,test = mnist.load_data()\n",
        "x_train,y_train = train\n",
        "x_test,y_test = test\n",
        "x_train,x_test = x_train/255.0,x_test/255.0"
      ],
      "execution_count": 4,
      "outputs": [
        {
          "output_type": "stream",
          "text": [
            "Downloading data from https://storage.googleapis.com/tensorflow/tf-keras-datasets/mnist.npz\n",
            "11493376/11490434 [==============================] - 0s 0us/step\n"
          ],
          "name": "stdout"
        }
      ]
    },
    {
      "cell_type": "code",
      "metadata": {
        "colab": {
          "base_uri": "https://localhost:8080/"
        },
        "id": "f9537dMSO_C_",
        "outputId": "eb4b4ce7-9660-4360-f89d-e82a02940239"
      },
      "source": [
        "x_train.shape"
      ],
      "execution_count": 5,
      "outputs": [
        {
          "output_type": "execute_result",
          "data": {
            "text/plain": [
              "(60000, 28, 28)"
            ]
          },
          "metadata": {
            "tags": []
          },
          "execution_count": 5
        }
      ]
    },
    {
      "cell_type": "markdown",
      "metadata": {
        "id": "2L712LCIm6Vv"
      },
      "source": [
        "## 模型的定义"
      ]
    },
    {
      "cell_type": "code",
      "metadata": {
        "id": "C0noj5RjmF0i"
      },
      "source": [
        "class FLModel(tf.keras.Model):\n",
        "  def __init__(self,row,col,num_classes=62,*args,**kwargs):\n",
        "    super(FLModel,self).__init__(*args,**kwargs)\n",
        "    self.row = row\n",
        "    self.col = col\n",
        "    self.num_classes = num_classes\n",
        "    self.flatten = tf.keras.layers.Flatten(input_shape=(row,col))\n",
        "    self.dense_1 = tf.keras.layers.Dense(500,activation='relu',name=\"dense_1\")\n",
        "    self.dense_2 = tf.keras.layers.Dense(num_classes,activation='softmax',name=\"dense_2\")\n",
        "    self.drop = tf.keras.layers.Dropout(0.2)\n",
        "\n",
        "\n",
        "  def call(self,inputs):\n",
        "    x = self.flatten(inputs)\n",
        "    x = self.dense_1(x)\n",
        "    x = self.drop(x)\n",
        "    x = self.dense_2(x)\n",
        "    return x\n",
        "  \n",
        "  def copy(self):\n",
        "    NewModel = FLModel(self.row,self.col,self.num_classes)\n",
        "    _ = NewModel(np.expand_dims(tf.zeros([self.row,self.col]),0))\n",
        "    ##Layers\n",
        "    NewVars = NewModel.trainable_variables #此处为空列表，因为没有训练,这个地方参数传递是不是有问题\n",
        "    OldVars = self.trainable_variables\n",
        "    for n,o in zip(NewVars,OldVars):\n",
        "      n.assign(o.numpy())\n",
        "    return NewModel\n",
        "\n",
        "  # def compute_output_shape(self,input_shape):\n",
        "  #   shape = tf.TensorShape(input_shape).as_list()\n",
        "  #   shape[-1] = self.num_classes\n",
        "  #   return tf.TensorShape(shape)"
      ],
      "execution_count": 6,
      "outputs": []
    },
    {
      "cell_type": "code",
      "metadata": {
        "id": "8-_EOR39lCAk"
      },
      "source": [
        ""
      ],
      "execution_count": null,
      "outputs": []
    },
    {
      "cell_type": "markdown",
      "metadata": {
        "id": "Z5LMvoXcoiz2"
      },
      "source": [
        "#Client Initialization\n",
        "模型训练和评估都要重写"
      ]
    },
    {
      "cell_type": "code",
      "metadata": {
        "id": "Hvu8wCjbooCF"
      },
      "source": [
        "class Client(object):\n",
        "  def __init__(self,id,model=None,Train_dataset=None,Test_dataset=None):\n",
        "    self.id = id\n",
        "    self.model = model\n",
        "    self.Train_dataset = Train_dataset\n",
        "    self.Test_dataset = Test_dataset\n",
        "    # from ParamServer\n",
        "    self.ParamModel = None\n",
        "    self.num_epochs = 5\n",
        "    self.batch_size = 32\n",
        "    self.shuffle_buffer = 100\n",
        "    self.prefetch_buffer = 10\n",
        "    ## \n",
        "\n",
        "\n",
        "  def ReceiveModel(self,ParamModel,num_epochs=1,batch_size=32,shuffle_buffer=100,prefetch_buffer=10):\n",
        "    self.ParamModel = ParamModel\n",
        "    self.num_epochs = num_epochs\n",
        "    self.batch_size = batch_size\n",
        "    self.shuffle_buffer = shuffle_buffer\n",
        "    self.prefetch_buffer = prefetch_buffer\n",
        "  \n",
        "\n",
        "  def preprocess(self,dataset):\n",
        "    def batch_format_fn(element):\n",
        "      return collections.OrderedDict(\n",
        "            \n",
        "            x = tf.reshape(element['pixels'],[-1,784]),\n",
        "            y = tf.reshape(element['label'],[-1,1])\n",
        "          )\n",
        "    return dataset.repeat(self.num_epochs).shuffle(self.shuffle_buffer).batch(\n",
        "        self.batch_size).map(batch_format_fn).prefetch(self.prefetch_buffer)\n",
        "\n",
        "  def NodeTrain(self):\n",
        "    model = self.ParamModel\n",
        "    # pre_data = self.preprocess(self.Train_dataset)\n",
        "    # print(type(pre_data))\n",
        "    # model.fit(x=pre_data['x'],y=pre_data['y'],batch_size=self.batch_size,epochs=self.num_epochs)\n",
        "    # x = np.array([i['pixels'].numpy() for i in self.Train_dataset])\n",
        "    # y = np.array([i['label'].numpy() for i in self.Train_dataset])\n",
        "    x,y = self.Train_dataset\n",
        "    model.compile(\n",
        "        optimizer='adam',\n",
        "        loss='sparse_categorical_crossentropy',\n",
        "        metrics=['accuracy'])\n",
        "    _metrics = model.fit(x,y,batch_size=self.batch_size,epochs=self.num_epochs)\n",
        "    self.model = model\n",
        "\n",
        "  def NodeEval(self):\n",
        "    x,y = self.Test_dataset\n",
        "    self.model.evaluate(x,y)\n"
      ],
      "execution_count": 7,
      "outputs": []
    },
    {
      "cell_type": "markdown",
      "metadata": {
        "id": "MwmKo3gLrI-i"
      },
      "source": [
        "# 阶段一：为Client分配数据（预处理工作）"
      ]
    },
    {
      "cell_type": "code",
      "metadata": {
        "id": "VcXnArpEjnnA"
      },
      "source": [
        "# emnist_dataset = emnist.extract_training_samples('byclass')"
      ],
      "execution_count": null,
      "outputs": []
    },
    {
      "cell_type": "code",
      "metadata": {
        "id": "9hJfX3uOyMGH"
      },
      "source": [
        "letters_dataset = emnist.extract_training_samples('letters')"
      ],
      "execution_count": 24,
      "outputs": []
    },
    {
      "cell_type": "code",
      "metadata": {
        "id": "yNlCcKrZuraD"
      },
      "source": [
        "letters_dataset = (letters_dataset[0]/255.0,letters_dataset[1]+9)"
      ],
      "execution_count": 25,
      "outputs": []
    },
    {
      "cell_type": "code",
      "metadata": {
        "colab": {
          "base_uri": "https://localhost:8080/"
        },
        "id": "eIIY87nj1RBg",
        "outputId": "0180342c-2f46-48ce-9b91-2ccb10b1344a"
      },
      "source": [
        "set(letters_dataset[1])"
      ],
      "execution_count": 26,
      "outputs": [
        {
          "output_type": "execute_result",
          "data": {
            "text/plain": [
              "{10,\n",
              " 11,\n",
              " 12,\n",
              " 13,\n",
              " 14,\n",
              " 15,\n",
              " 16,\n",
              " 17,\n",
              " 18,\n",
              " 19,\n",
              " 20,\n",
              " 21,\n",
              " 22,\n",
              " 23,\n",
              " 24,\n",
              " 25,\n",
              " 26,\n",
              " 27,\n",
              " 28,\n",
              " 29,\n",
              " 30,\n",
              " 31,\n",
              " 32,\n",
              " 33,\n",
              " 34,\n",
              " 35}"
            ]
          },
          "metadata": {
            "tags": []
          },
          "execution_count": 26
        }
      ]
    },
    {
      "cell_type": "code",
      "metadata": {
        "id": "GYETYI7g-In_"
      },
      "source": [
        "def create_data_for_clients(LetterSet,Num,DigitSet=train,TargetRate=0.7):\n",
        "  #Alpha: 需要掺入mnist的占比\n",
        "  #Beta: Emnist中数字的占比\n",
        "  # Beta = 34.0/73.0\n",
        "  Beta = 0\n",
        "  if TargetRate < Beta:\n",
        "    Alpha = 0\n",
        "  else:\n",
        "    Alpha = (TargetRate-Beta)/(1-Beta)\n",
        "  DigitNum = int(Alpha*Num)\n",
        "  LetterNum = Num-DigitNum\n",
        "  x_sequence = []\n",
        "  y_sequence = []\n",
        "  print(DigitNum,LetterNum)\n",
        "  if DigitNum > 0:\n",
        "    for i in range(DigitNum):\n",
        "      index = random.randint(0,len(DigitSet[0])-1)\n",
        "      x_sequence.append(DigitSet[0][index])\n",
        "      y_sequence.append(DigitSet[1][index])\n",
        "  if LetterNum > 0:\n",
        "    for i in range(LetterNum):\n",
        "      index = random.randint(0,len(LetterSet[0])-1)\n",
        "      x_sequence.append(LetterSet[0][index])\n",
        "      y_sequence.append(LetterSet[1][index])\n",
        "      #y_sequence.append(random.randint(0,9))\n",
        "  return (np.array(x_sequence),np.array(y_sequence))"
      ],
      "execution_count": 60,
      "outputs": []
    },
    {
      "cell_type": "code",
      "metadata": {
        "colab": {
          "base_uri": "https://localhost:8080/"
        },
        "id": "9DjtZ8BSjHx2",
        "outputId": "08158495-b12b-426d-8a8e-d6ec53c6f754"
      },
      "source": [
        "print(letters_dataset[1][2],letters_dataset[1][1])"
      ],
      "execution_count": 61,
      "outputs": [
        {
          "output_type": "stream",
          "text": [
            "25 16\n"
          ],
          "name": "stdout"
        }
      ]
    },
    {
      "cell_type": "code",
      "metadata": {
        "id": "jlR96ORjbt5V"
      },
      "source": [
        "# def create_data_for_clients(BasicSet,Num):\n",
        "#   x_sequence = []\n",
        "#   y_sequence = []\n",
        "#   for i in range(Num):\n",
        "#     index = random.randint(0,Num-1)\n",
        "#     x_sequence.append(BasicSet[0][index])\n",
        "#     y_sequence.append(BasicSet[1][index])\n",
        "#   return (np.array(x_sequence),np.array(y_sequence))"
      ],
      "execution_count": null,
      "outputs": []
    },
    {
      "cell_type": "code",
      "metadata": {
        "id": "QE_WXcMMt1kP"
      },
      "source": [
        "NUM_CLIENTS = 12\n",
        "NUM_TRAIN_SAMPLE_CLIENT = 2560\n",
        "NUM_TEST_SAMPLE_CLIENT = 256"
      ],
      "execution_count": 62,
      "outputs": []
    },
    {
      "cell_type": "code",
      "metadata": {
        "id": "-Tmf__umcO1l",
        "colab": {
          "base_uri": "https://localhost:8080/"
        },
        "outputId": "0972a676-89a6-4242-f34e-75e0d58fc39d"
      },
      "source": [
        "clients=[]\n",
        "for i in range(NUM_CLIENTS):\n",
        "  clients.append(Client(i,\n",
        "                        Train_dataset=create_data_for_clients(letters_dataset,NUM_TRAIN_SAMPLE_CLIENT,TargetRate=random.random()),\n",
        "                        Test_dataset=create_data_for_clients(letters_dataset,NUM_TEST_SAMPLE_CLIENT))\n",
        "  )"
      ],
      "execution_count": 74,
      "outputs": [
        {
          "output_type": "stream",
          "text": [
            "2305 255\n",
            "179 77\n",
            "1236 1324\n",
            "179 77\n",
            "639 1921\n",
            "179 77\n",
            "154 2406\n",
            "179 77\n",
            "2038 522\n",
            "179 77\n",
            "1000 1560\n",
            "179 77\n",
            "1641 919\n",
            "179 77\n",
            "2380 180\n",
            "179 77\n",
            "1679 881\n",
            "179 77\n",
            "1405 1155\n",
            "179 77\n",
            "1091 1469\n",
            "179 77\n",
            "2326 234\n",
            "179 77\n"
          ],
          "name": "stdout"
        }
      ]
    },
    {
      "cell_type": "markdown",
      "metadata": {
        "id": "V9Jjje417iuZ"
      },
      "source": [
        "Show DataSet"
      ]
    },
    {
      "cell_type": "code",
      "metadata": {
        "id": "8CsXpPMR7icz"
      },
      "source": [
        "import matplotlib.pyplot as plt"
      ],
      "execution_count": 64,
      "outputs": []
    },
    {
      "cell_type": "code",
      "metadata": {
        "colab": {
          "base_uri": "https://localhost:8080/",
          "height": 879
        },
        "id": "7RO4LfKq72nf",
        "outputId": "7c713639-894a-401a-c5f7-a34fb7f54a03"
      },
      "source": [
        "f = plt.figure(figsize=(15,15))\n",
        "for i in range(NUM_CLIENTS):\n",
        "  client_dataset = clients[i].Train_dataset\n",
        "  plot_data = collections.defaultdict(list)\n",
        "  for label in client_dataset[1]:\n",
        "    plot_data[label].append(label)\n",
        "  plt.subplot(3,4,i+1)\n",
        "  plt.title('Client {}'.format(i))\n",
        "  for j in range(len(plot_data)):\n",
        "    plt.hist(\n",
        "        plot_data[j],\n",
        "        density = False,\n",
        "        bins = [x for x in range(len(plot_data)+1)]\n",
        "    )"
      ],
      "execution_count": 76,
      "outputs": [
        {
          "output_type": "display_data",
          "data": {
            "image/png": "[encoded data removed]",
            "text/plain": [
              "<Figure size 1080x1080 with 12 Axes>"
            ]
          },
          "metadata": {
            "tags": [],
            "needs_background": "light"
          }
        }
      ]
    },
    {
      "cell_type": "markdown",
      "metadata": {
        "id": "JfqcXNr8jqi1"
      },
      "source": [
        "显示一下数字与字母的对比\n"
      ]
    },
    {
      "cell_type": "code",
      "metadata": {
        "colab": {
          "base_uri": "https://localhost:8080/",
          "height": 862
        },
        "id": "SkJ-l1ZSjpWf",
        "outputId": "854bfc41-742c-42ba-b799-9a74f810e5e0"
      },
      "source": [
        "f = plt.figure(figsize=(15,15))\n",
        "for i in range(NUM_CLIENTS):\n",
        "  client_dataset = clients[i].Train_dataset\n",
        "  plot_data = {0:0,1:0}\n",
        "  plot_labels = ['digits','letters']\n",
        "  for label in client_dataset[1]:\n",
        "    label = 0 if label < 10 else 1\n",
        "    plot_data[label]+=1\n",
        "  # print(plot_data)\n",
        "  data_labels = list(sorted(plot_data.keys()))\n",
        "  # print(data_labels)\n",
        "  data_nums = [plot_data[i] for i in data_labels]\n",
        "  colors = ['red','blue']\n",
        "  plt.subplot(3,4,i+1)\n",
        "  patches,text1,text2 = plt.pie(data_nums,\n",
        "                              labels=plot_labels,\n",
        "                              autopct='%3.2f%%',\n",
        "                              shadow=False,\n",
        "                              startangle=90,\n",
        "                              pctdistance=0.6)\n",
        "  plt.axis('equal')\n",
        "  plt.title('Client {}'.format(i))\n",
        "plt.show()\n"
      ],
      "execution_count": 75,
      "outputs": [
        {
          "output_type": "display_data",
          "data": {
            "image/png": "[encoded data removed]",
            "text/plain": [
              "<Figure size 1080x1080 with 12 Axes>"
            ]
          },
          "metadata": {
            "tags": []
          }
        }
      ]
    },
    {
      "cell_type": "code",
      "metadata": {
        "id": "UWBR9P212HDF"
      },
      "source": [
        ""
      ],
      "execution_count": null,
      "outputs": []
    },
    {
      "cell_type": "markdown",
      "metadata": {
        "id": "6PVxsGIpvlLn"
      },
      "source": [
        "#阶段二：中央服务器下发模型"
      ]
    },
    {
      "cell_type": "markdown",
      "metadata": {
        "id": "A5NIsOQgRp9h"
      },
      "source": [
        "Distance Between two models"
      ]
    },
    {
      "cell_type": "code",
      "metadata": {
        "id": "fX5rrSBk72Vw"
      },
      "source": [
        "def Distance(HookModel,TestModel):\n",
        "  len_it = len(HookModel.trainable_variables)\n",
        "  Hook_weights=[]\n",
        "  Test_weights=[]\n",
        "  for index in range(len_it):\n",
        "    Hook_weights.append(HookModel.trainable_variables[index].numpy())\n",
        "    Test_weights.append(TestModel.trainable_variables[index].numpy())\n",
        "  target = []\n",
        "  dis_norm2=[]\n",
        "  for i in range(len_it):\n",
        "    target.append(Hook_weights[i]-Test_weights[i])\n",
        "    dis_norm2.append(np.linalg.norm(target[i],2))\n",
        "  weight_weights = np.ones([len_it,1])\n",
        "  #调整权重\n",
        "  # weight_weights[0]=0\n",
        "  # weight_weights[1]=0\n",
        "  dis = np.dot(dis_norm2,weight_weights)\n",
        "  return dis\n",
        "  # return dis_norm2"
      ],
      "execution_count": 77,
      "outputs": []
    },
    {
      "cell_type": "code",
      "metadata": {
        "id": "KI9PCWxY716I"
      },
      "source": [
        "def BetterNode(clients,model,Total_NUM,FedAvg_NUM):\n",
        "  NodeDict=collections.OrderedDict()\n",
        "  for i in range(Total_NUM):\n",
        "    NodeDict[i] = Distance(model,clients[i].model)\n",
        "  Dlst = sorted(NodeDict.items(),key=lambda x:x[1])\n",
        "  NodeList = []\n",
        "  for i in range(FedAvg_NUM):\n",
        "    NodeList.append(Dlst[i][0])\n",
        "  return NodeList"
      ],
      "execution_count": 78,
      "outputs": []
    },
    {
      "cell_type": "markdown",
      "metadata": {
        "id": "_uNjI7abv3Vs"
      },
      "source": [
        "模型初始化"
      ]
    },
    {
      "cell_type": "code",
      "metadata": {
        "id": "PLJekuPtvxZl"
      },
      "source": [
        "InitModel = FLModel(row=28,col=28,num_classes=36)\n",
        "S = ParamServer(\"\")"
      ],
      "execution_count": 86,
      "outputs": []
    },
    {
      "cell_type": "code",
      "metadata": {
        "colab": {
          "base_uri": "https://localhost:8080/"
        },
        "id": "gd-HUkdMvxPV",
        "outputId": "7f448b66-fbd4-4b58-f0fd-e0bd21e732fb"
      },
      "source": [
        "S.PreEval(InitModel,x_test,y_test)"
      ],
      "execution_count": 87,
      "outputs": [
        {
          "output_type": "stream",
          "text": [
            "313/313 [==============================] - 1s 2ms/step - loss: 3.6668 - accuracy: 0.0267\n"
          ],
          "name": "stdout"
        }
      ]
    },
    {
      "cell_type": "code",
      "metadata": {
        "id": "UA00ouhWU28h"
      },
      "source": [
        "SendModel = InitModel"
      ],
      "execution_count": 88,
      "outputs": []
    },
    {
      "cell_type": "code",
      "metadata": {
        "colab": {
          "base_uri": "https://localhost:8080/"
        },
        "id": "SGo2NYXsv96h",
        "outputId": "dc49b950-3980-4c07-a533-43e1715e94fe"
      },
      "source": [
        "SendModel = S.PreTrain(InitModel,x_train[0:200],y_train[0:200],epochs=1)\n",
        "S.PreEval(SendModel,x_test,y_test)"
      ],
      "execution_count": 89,
      "outputs": [
        {
          "output_type": "stream",
          "text": [
            "7/7 [==============================] - 0s 6ms/step - loss: 3.1624 - accuracy: 0.1401\n",
            "313/313 [==============================] - 1s 2ms/step - loss: 2.0686 - accuracy: 0.4718\n"
          ],
          "name": "stdout"
        }
      ]
    },
    {
      "cell_type": "markdown",
      "metadata": {
        "id": "7OmptaMzpR0P"
      },
      "source": [
        "# 阶段三：Clients 训练节点数据并聚合\n"
      ]
    },
    {
      "cell_type": "code",
      "metadata": {
        "id": "kr2PkfomvfWw"
      },
      "source": [
        ""
      ],
      "execution_count": null,
      "outputs": []
    },
    {
      "cell_type": "code",
      "metadata": {
        "id": "ve8Dc1KewGH_"
      },
      "source": [
        "def FedAvg(NUM_CLIENTS,model,FedAvg_NUM=7):\n",
        "  iterModel = model.copy()\n",
        "  len_it = len(iterModel.trainable_variables)\n",
        "  all_weights = []\n",
        "  FedNodeList=BetterNode(clients,iterModel,NUM_CLIENTS,FedAvg_NUM)\n",
        "  print(\"FedAvg Node is\",FedNodeList)\n",
        "  # Cut=2\n",
        "  # for c in range(Cut):\n",
        "  #   # tmp =np.array(iterModel.trainable_variables[c].numpy(),dtype='float64')\n",
        "  #   all_weights.append(iterModel.trainable_variables[c].numpy())\n",
        "\n",
        "  for weights_index in range(len_it):\n",
        "    tmp =np.zeros(iterModel.trainable_variables[weights_index].numpy().shape,dtype='float64')\n",
        "\n",
        "    for node in FedNodeList:\n",
        "      tmp += clients[node].model.trainable_variables[weights_index].numpy()\n",
        "    all_weights.append(tmp/FedAvg_NUM)\n",
        "  # print(all_weights)\n",
        "  iterModel_vars = iterModel.trainable_variables\n",
        "  for iter_v,n in zip(iterModel_vars,all_weights):\n",
        "    iter_v.assign(n)\n",
        "  return (iterModel,FedNodeList)"
      ],
      "execution_count": 90,
      "outputs": []
    },
    {
      "cell_type": "code",
      "metadata": {
        "id": "jl3dF36dw2hC"
      },
      "source": [
        "NUM_EPOCHS = 20"
      ],
      "execution_count": 91,
      "outputs": []
    },
    {
      "cell_type": "code",
      "metadata": {
        "id": "ocfoXDNgyTdP",
        "colab": {
          "base_uri": "https://localhost:8080/"
        },
        "outputId": "6bc1e924-d6ea-467a-bd23-270cfdcee2a7"
      },
      "source": [
        "NodeList = []\n",
        "participator=NUM_CLIENTS\n",
        "for e in range(NUM_EPOCHS):\n",
        "  print(\"EPOCHS {} is starting...\".format(e))\n",
        "  for i in range(NUM_CLIENTS):\n",
        "    clients[i].ReceiveModel(SendModel.copy(),)\n",
        "    clients[i].NodeTrain()\n",
        "    # clients[i].NodeEval()\n",
        "    # DIS.append(Distance(SendModel,clients[i].model))\n",
        "  if participator < int(0.6*NUM_CLIENTS):\n",
        "    participator = int(0.6*NUM_CLIENTS) \n",
        "  FedModel,li = FedAvg(NUM_CLIENTS,SendModel,FedAvg_NUM=participator)\n",
        "  participator = participator-1\n",
        "  NodeList.append(li)\n",
        "  S.PreEval(FedModel,x_test,y_test)\n",
        "  SendModel = FedModel.copy()"
      ],
      "execution_count": 92,
      "outputs": [
        {
          "output_type": "stream",
          "text": [
            "EPOCHS 0 is starting...\n",
            "80/80 [==============================] - 1s 4ms/step - loss: 41.8045 - accuracy: 0.6083\n",
            "80/80 [==============================] - 1s 4ms/step - loss: 26.0874 - accuracy: 0.3119\n",
            "80/80 [==============================] - 1s 4ms/step - loss: 17.3587 - accuracy: 0.1783\n",
            "80/80 [==============================] - 1s 4ms/step - loss: 10.8033 - accuracy: 0.1141\n",
            "80/80 [==============================] - 1s 4ms/step - loss: 38.8480 - accuracy: 0.5369\n",
            "80/80 [==============================] - 1s 4ms/step - loss: 25.3877 - accuracy: 0.2470\n",
            "80/80 [==============================] - 1s 4ms/step - loss: 30.2620 - accuracy: 0.4205\n",
            "80/80 [==============================] - 1s 4ms/step - loss: 41.1804 - accuracy: 0.6442\n",
            "80/80 [==============================] - 1s 4ms/step - loss: 35.4509 - accuracy: 0.4265\n",
            "80/80 [==============================] - 1s 4ms/step - loss: 25.3139 - accuracy: 0.3672\n",
            "80/80 [==============================] - 1s 4ms/step - loss: 24.5552 - accuracy: 0.2806\n",
            "80/80 [==============================] - 1s 4ms/step - loss: 39.3573 - accuracy: 0.6242\n",
            "FedAvg Node is [0, 7, 11, 4, 8, 6, 9, 1, 5, 10, 2, 3]\n",
            "313/313 [==============================] - 1s 2ms/step - loss: 2.3434 - accuracy: 0.8852\n",
            "EPOCHS 1 is starting...\n",
            "80/80 [==============================] - 1s 4ms/step - loss: 10.5719 - accuracy: 0.7699\n",
            "80/80 [==============================] - 1s 4ms/step - loss: 8.8414 - accuracy: 0.4602\n",
            "80/80 [==============================] - 1s 4ms/step - loss: 7.5633 - accuracy: 0.3614\n",
            "80/80 [==============================] - 1s 4ms/step - loss: 5.3392 - accuracy: 0.2758\n",
            "80/80 [==============================] - 1s 4ms/step - loss: 11.9247 - accuracy: 0.6714\n",
            "80/80 [==============================] - 1s 4ms/step - loss: 8.5800 - accuracy: 0.4167\n",
            "80/80 [==============================] - 1s 4ms/step - loss: 9.9775 - accuracy: 0.5752\n",
            "80/80 [==============================] - 1s 4ms/step - loss: 11.3738 - accuracy: 0.7751\n",
            "80/80 [==============================] - 1s 4ms/step - loss: 12.4139 - accuracy: 0.5750\n",
            "80/80 [==============================] - 1s 4ms/step - loss: 9.3276 - accuracy: 0.5185\n",
            "80/80 [==============================] - 1s 4ms/step - loss: 9.3470 - accuracy: 0.4369\n",
            "80/80 [==============================] - 1s 4ms/step - loss: 12.2977 - accuracy: 0.7473\n",
            "FedAvg Node is [7, 11, 0, 4, 8, 6, 9, 1, 10, 5, 2]\n",
            "313/313 [==============================] - 1s 2ms/step - loss: 2.7185 - accuracy: 0.9022\n",
            "EPOCHS 2 is starting...\n",
            "80/80 [==============================] - 1s 4ms/step - loss: 5.7876 - accuracy: 0.8182\n",
            "80/80 [==============================] - 1s 4ms/step - loss: 5.8999 - accuracy: 0.5711\n",
            "80/80 [==============================] - 1s 4ms/step - loss: 4.7598 - accuracy: 0.4637\n",
            "80/80 [==============================] - 1s 4ms/step - loss: 4.8384 - accuracy: 0.3974\n",
            "80/80 [==============================] - 1s 5ms/step - loss: 6.6254 - accuracy: 0.7358\n",
            "80/80 [==============================] - 1s 4ms/step - loss: 6.3416 - accuracy: 0.5416\n",
            "80/80 [==============================] - 1s 4ms/step - loss: 6.2229 - accuracy: 0.6654\n",
            "80/80 [==============================] - 1s 4ms/step - loss: 6.0922 - accuracy: 0.8296\n",
            "80/80 [==============================] - 1s 4ms/step - loss: 6.6656 - accuracy: 0.6568\n",
            "80/80 [==============================] - 1s 5ms/step - loss: 6.0543 - accuracy: 0.6299\n",
            "80/80 [==============================] - 1s 4ms/step - loss: 6.3054 - accuracy: 0.5415\n",
            "80/80 [==============================] - 1s 4ms/step - loss: 6.1632 - accuracy: 0.8069\n",
            "FedAvg Node is [11, 7, 0, 4, 8, 6, 9, 1, 10, 5]\n",
            "313/313 [==============================] - 1s 2ms/step - loss: 2.8371 - accuracy: 0.8976\n",
            "EPOCHS 3 is starting...\n",
            "80/80 [==============================] - 1s 4ms/step - loss: 4.6393 - accuracy: 0.8330\n",
            "80/80 [==============================] - 1s 4ms/step - loss: 4.9762 - accuracy: 0.6372\n",
            "80/80 [==============================] - 1s 4ms/step - loss: 4.5311 - accuracy: 0.5234\n",
            "80/80 [==============================] - 1s 4ms/step - loss: 4.3932 - accuracy: 0.4534\n",
            "80/80 [==============================] - 1s 4ms/step - loss: 5.4226 - accuracy: 0.7741\n",
            "80/80 [==============================] - 1s 4ms/step - loss: 4.8298 - accuracy: 0.5779\n",
            "80/80 [==============================] - 1s 4ms/step - loss: 4.6905 - accuracy: 0.7273\n",
            "80/80 [==============================] - 1s 5ms/step - loss: 4.2330 - accuracy: 0.8536\n",
            "80/80 [==============================] - 1s 5ms/step - loss: 4.8707 - accuracy: 0.7337\n",
            "80/80 [==============================] - 1s 4ms/step - loss: 4.9893 - accuracy: 0.6558\n",
            "80/80 [==============================] - 1s 4ms/step - loss: 4.5123 - accuracy: 0.6053\n",
            "80/80 [==============================] - 1s 4ms/step - loss: 4.8948 - accuracy: 0.8260\n",
            "FedAvg Node is [7, 11, 0, 8, 4, 6, 9, 1, 10]\n",
            "313/313 [==============================] - 1s 2ms/step - loss: 2.8172 - accuracy: 0.8829\n",
            "EPOCHS 4 is starting...\n",
            "80/80 [==============================] - 1s 4ms/step - loss: 3.9912 - accuracy: 0.8482\n",
            "80/80 [==============================] - 1s 4ms/step - loss: 4.3030 - accuracy: 0.6718\n",
            "80/80 [==============================] - 1s 4ms/step - loss: 4.0576 - accuracy: 0.5717\n",
            "80/80 [==============================] - 1s 5ms/step - loss: 3.4954 - accuracy: 0.5075\n",
            "80/80 [==============================] - 1s 4ms/step - loss: 4.8330 - accuracy: 0.8021\n",
            "80/80 [==============================] - 1s 4ms/step - loss: 4.4569 - accuracy: 0.6124\n",
            "80/80 [==============================] - 1s 4ms/step - loss: 4.7302 - accuracy: 0.7552\n",
            "80/80 [==============================] - 1s 5ms/step - loss: 3.8505 - accuracy: 0.8545\n",
            "80/80 [==============================] - 1s 4ms/step - loss: 4.1575 - accuracy: 0.7508\n",
            "80/80 [==============================] - 1s 4ms/step - loss: 4.4880 - accuracy: 0.7154\n",
            "80/80 [==============================] - 1s 5ms/step - loss: 4.6590 - accuracy: 0.6222\n",
            "80/80 [==============================] - 1s 5ms/step - loss: 3.5134 - accuracy: 0.8622\n",
            "FedAvg Node is [7, 11, 0, 4, 6, 8, 1, 10]\n",
            "313/313 [==============================] - 1s 2ms/step - loss: 2.6806 - accuracy: 0.8899\n",
            "EPOCHS 5 is starting...\n",
            "80/80 [==============================] - 1s 5ms/step - loss: 3.7138 - accuracy: 0.8619\n",
            "80/80 [==============================] - 1s 5ms/step - loss: 3.8010 - accuracy: 0.6981\n",
            "80/80 [==============================] - 1s 5ms/step - loss: 4.2201 - accuracy: 0.6146\n",
            "80/80 [==============================] - 1s 5ms/step - loss: 3.6991 - accuracy: 0.5396\n",
            "80/80 [==============================] - 1s 5ms/step - loss: 3.9358 - accuracy: 0.8227\n",
            "80/80 [==============================] - 1s 4ms/step - loss: 4.0539 - accuracy: 0.6507\n",
            "80/80 [==============================] - 1s 5ms/step - loss: 4.3371 - accuracy: 0.7587\n",
            "80/80 [==============================] - 1s 4ms/step - loss: 4.2940 - accuracy: 0.8737\n",
            "80/80 [==============================] - 1s 4ms/step - loss: 3.7673 - accuracy: 0.7694\n",
            "80/80 [==============================] - 1s 4ms/step - loss: 3.9473 - accuracy: 0.7229\n",
            "80/80 [==============================] - 1s 5ms/step - loss: 3.8179 - accuracy: 0.6775\n",
            "80/80 [==============================] - 1s 5ms/step - loss: 3.5079 - accuracy: 0.8608\n",
            "FedAvg Node is [7, 11, 0, 4, 6, 8, 1]\n",
            "313/313 [==============================] - 1s 2ms/step - loss: 2.5865 - accuracy: 0.8908\n",
            "EPOCHS 6 is starting...\n",
            "80/80 [==============================] - 1s 5ms/step - loss: 3.2712 - accuracy: 0.8886\n",
            "80/80 [==============================] - 1s 4ms/step - loss: 3.8349 - accuracy: 0.7036\n",
            "80/80 [==============================] - 1s 5ms/step - loss: 3.3861 - accuracy: 0.6163\n",
            "80/80 [==============================] - 1s 4ms/step - loss: 3.4716 - accuracy: 0.5452\n",
            "80/80 [==============================] - 1s 5ms/step - loss: 3.7378 - accuracy: 0.8254\n",
            "80/80 [==============================] - 1s 5ms/step - loss: 4.1729 - accuracy: 0.6507\n",
            "80/80 [==============================] - 1s 5ms/step - loss: 3.8796 - accuracy: 0.7942\n",
            "80/80 [==============================] - 1s 4ms/step - loss: 3.6622 - accuracy: 0.8718\n",
            "80/80 [==============================] - 1s 5ms/step - loss: 3.7644 - accuracy: 0.7992\n",
            "80/80 [==============================] - 1s 4ms/step - loss: 4.3916 - accuracy: 0.7430\n",
            "80/80 [==============================] - 1s 5ms/step - loss: 4.0484 - accuracy: 0.6906\n",
            "80/80 [==============================] - 1s 4ms/step - loss: 3.3197 - accuracy: 0.8944\n",
            "FedAvg Node is [7, 11, 0, 4, 6, 8, 9]\n",
            "313/313 [==============================] - 1s 2ms/step - loss: 2.4266 - accuracy: 0.8752\n",
            "EPOCHS 7 is starting...\n",
            "80/80 [==============================] - 1s 5ms/step - loss: 3.6857 - accuracy: 0.8847\n",
            "80/80 [==============================] - 1s 5ms/step - loss: 4.4224 - accuracy: 0.7148\n",
            "80/80 [==============================] - 1s 4ms/step - loss: 3.8520 - accuracy: 0.6285\n",
            "80/80 [==============================] - 1s 5ms/step - loss: 3.2723 - accuracy: 0.5583\n",
            "80/80 [==============================] - 1s 4ms/step - loss: 3.6961 - accuracy: 0.8385\n",
            "80/80 [==============================] - 1s 4ms/step - loss: 4.9891 - accuracy: 0.6800\n",
            "80/80 [==============================] - 1s 4ms/step - loss: 3.3050 - accuracy: 0.8038\n",
            "80/80 [==============================] - 1s 4ms/step - loss: 2.6039 - accuracy: 0.8946\n",
            "80/80 [==============================] - 1s 4ms/step - loss: 3.6295 - accuracy: 0.7910\n",
            "80/80 [==============================] - 1s 4ms/step - loss: 3.6167 - accuracy: 0.7620\n",
            "80/80 [==============================] - 1s 4ms/step - loss: 3.7164 - accuracy: 0.7027\n",
            "80/80 [==============================] - 1s 4ms/step - loss: 3.1805 - accuracy: 0.8888\n",
            "FedAvg Node is [7, 11, 0, 4, 6, 1, 8]\n",
            "313/313 [==============================] - 1s 2ms/step - loss: 2.4294 - accuracy: 0.8256\n",
            "EPOCHS 8 is starting...\n",
            "80/80 [==============================] - 1s 4ms/step - loss: 3.1859 - accuracy: 0.9010\n",
            "80/80 [==============================] - 1s 5ms/step - loss: 3.2874 - accuracy: 0.7484\n",
            "80/80 [==============================] - 1s 4ms/step - loss: 3.4541 - accuracy: 0.6628\n",
            "80/80 [==============================] - 1s 4ms/step - loss: 3.0656 - accuracy: 0.5891\n",
            "80/80 [==============================] - 1s 4ms/step - loss: 3.0272 - accuracy: 0.8474\n",
            "80/80 [==============================] - 1s 5ms/step - loss: 4.0941 - accuracy: 0.6815\n",
            "80/80 [==============================] - 1s 5ms/step - loss: 3.2288 - accuracy: 0.7976\n",
            "80/80 [==============================] - 1s 4ms/step - loss: 3.0945 - accuracy: 0.8880\n",
            "80/80 [==============================] - 1s 5ms/step - loss: 3.1680 - accuracy: 0.8100\n",
            "80/80 [==============================] - 1s 4ms/step - loss: 3.5506 - accuracy: 0.7647\n",
            "80/80 [==============================] - 1s 4ms/step - loss: 3.5439 - accuracy: 0.7119\n",
            "80/80 [==============================] - 1s 5ms/step - loss: 2.8017 - accuracy: 0.8937\n",
            "FedAvg Node is [7, 0, 11, 4, 6, 8, 9]\n",
            "313/313 [==============================] - 1s 2ms/step - loss: 2.3348 - accuracy: 0.8480\n",
            "EPOCHS 9 is starting...\n",
            "80/80 [==============================] - 1s 5ms/step - loss: 3.1245 - accuracy: 0.9055\n",
            "80/80 [==============================] - 1s 5ms/step - loss: 3.1981 - accuracy: 0.7553\n",
            "80/80 [==============================] - 1s 4ms/step - loss: 3.4808 - accuracy: 0.6828\n",
            "80/80 [==============================] - 1s 4ms/step - loss: 2.9580 - accuracy: 0.5976\n",
            "80/80 [==============================] - 1s 5ms/step - loss: 3.3184 - accuracy: 0.8482\n",
            "80/80 [==============================] - 1s 4ms/step - loss: 4.5595 - accuracy: 0.6916\n",
            "80/80 [==============================] - 1s 4ms/step - loss: 3.0141 - accuracy: 0.8165\n",
            "80/80 [==============================] - 1s 4ms/step - loss: 2.6155 - accuracy: 0.9066\n",
            "80/80 [==============================] - 1s 4ms/step - loss: 3.3848 - accuracy: 0.8320\n",
            "80/80 [==============================] - 1s 4ms/step - loss: 3.2278 - accuracy: 0.7665\n",
            "80/80 [==============================] - 1s 4ms/step - loss: 3.2525 - accuracy: 0.7200\n",
            "80/80 [==============================] - 1s 4ms/step - loss: 2.6991 - accuracy: 0.9068\n",
            "FedAvg Node is [7, 11, 0, 4, 8, 6, 9]\n",
            "313/313 [==============================] - 1s 2ms/step - loss: 2.2179 - accuracy: 0.8176\n",
            "EPOCHS 10 is starting...\n",
            "80/80 [==============================] - 1s 4ms/step - loss: 3.0176 - accuracy: 0.9090\n",
            "80/80 [==============================] - 1s 4ms/step - loss: 3.4152 - accuracy: 0.7532\n",
            "80/80 [==============================] - 1s 4ms/step - loss: 3.1344 - accuracy: 0.6757\n",
            "80/80 [==============================] - 1s 5ms/step - loss: 2.9912 - accuracy: 0.6172\n",
            "80/80 [==============================] - 1s 4ms/step - loss: 3.0109 - accuracy: 0.8711\n",
            "80/80 [==============================] - 1s 4ms/step - loss: 4.2974 - accuracy: 0.7268\n",
            "80/80 [==============================] - 1s 4ms/step - loss: 3.0600 - accuracy: 0.8050\n",
            "80/80 [==============================] - 3s 4ms/step - loss: 2.4982 - accuracy: 0.9149\n",
            "80/80 [==============================] - 1s 5ms/step - loss: 3.1796 - accuracy: 0.8250\n",
            "80/80 [==============================] - 1s 5ms/step - loss: 2.7350 - accuracy: 0.7742\n",
            "80/80 [==============================] - 1s 4ms/step - loss: 4.6486 - accuracy: 0.7215\n",
            "80/80 [==============================] - 1s 4ms/step - loss: 2.6823 - accuracy: 0.9101\n",
            "FedAvg Node is [7, 11, 0, 4, 8, 6, 9]\n",
            "313/313 [==============================] - 1s 2ms/step - loss: 2.0778 - accuracy: 0.8401\n",
            "EPOCHS 11 is starting...\n",
            "80/80 [==============================] - 1s 4ms/step - loss: 3.2152 - accuracy: 0.9155\n",
            "80/80 [==============================] - 1s 4ms/step - loss: 4.0233 - accuracy: 0.7602\n",
            "80/80 [==============================] - 1s 5ms/step - loss: 3.7789 - accuracy: 0.6802\n",
            "80/80 [==============================] - 1s 4ms/step - loss: 2.5085 - accuracy: 0.6412\n",
            "80/80 [==============================] - 1s 5ms/step - loss: 3.7939 - accuracy: 0.8705\n",
            "80/80 [==============================] - 1s 5ms/step - loss: 4.1869 - accuracy: 0.7216\n",
            "80/80 [==============================] - 1s 5ms/step - loss: 3.0713 - accuracy: 0.8318\n",
            "80/80 [==============================] - 1s 5ms/step - loss: 2.9272 - accuracy: 0.9148\n",
            "80/80 [==============================] - 1s 4ms/step - loss: 3.7557 - accuracy: 0.8366\n",
            "80/80 [==============================] - 1s 5ms/step - loss: 2.9157 - accuracy: 0.8005\n",
            "80/80 [==============================] - 1s 5ms/step - loss: 4.0877 - accuracy: 0.7206\n",
            "80/80 [==============================] - 1s 4ms/step - loss: 2.8477 - accuracy: 0.9088\n",
            "FedAvg Node is [7, 0, 11, 6, 4, 8, 10]\n",
            "313/313 [==============================] - 1s 2ms/step - loss: 2.0338 - accuracy: 0.8135\n",
            "EPOCHS 12 is starting...\n",
            "80/80 [==============================] - 1s 5ms/step - loss: 3.1794 - accuracy: 0.9037\n",
            "80/80 [==============================] - 1s 5ms/step - loss: 3.8917 - accuracy: 0.7602\n",
            "80/80 [==============================] - 1s 5ms/step - loss: 3.2103 - accuracy: 0.6960\n",
            "80/80 [==============================] - 1s 5ms/step - loss: 2.8203 - accuracy: 0.6203\n",
            "80/80 [==============================] - 1s 4ms/step - loss: 3.6862 - accuracy: 0.8678\n",
            "80/80 [==============================] - 1s 5ms/step - loss: 4.6070 - accuracy: 0.7282\n",
            "80/80 [==============================] - 1s 4ms/step - loss: 3.1015 - accuracy: 0.8404\n",
            "80/80 [==============================] - 1s 5ms/step - loss: 2.8945 - accuracy: 0.9226\n",
            "80/80 [==============================] - 1s 4ms/step - loss: 2.3048 - accuracy: 0.8550\n",
            "80/80 [==============================] - 1s 5ms/step - loss: 2.8312 - accuracy: 0.7917\n",
            "80/80 [==============================] - 1s 4ms/step - loss: 3.8500 - accuracy: 0.7383\n",
            "80/80 [==============================] - 1s 5ms/step - loss: 2.3616 - accuracy: 0.9136\n",
            "FedAvg Node is [11, 0, 7, 4, 8, 6, 9]\n",
            "313/313 [==============================] - 1s 2ms/step - loss: 1.9917 - accuracy: 0.7786\n",
            "EPOCHS 13 is starting...\n",
            "80/80 [==============================] - 1s 4ms/step - loss: 3.1152 - accuracy: 0.9165\n",
            "80/80 [==============================] - 1s 5ms/step - loss: 3.4605 - accuracy: 0.7789\n",
            "80/80 [==============================] - 1s 4ms/step - loss: 3.3291 - accuracy: 0.6997\n",
            "80/80 [==============================] - 1s 5ms/step - loss: 2.3630 - accuracy: 0.6433\n",
            "80/80 [==============================] - 1s 5ms/step - loss: 3.3942 - accuracy: 0.8756\n",
            "80/80 [==============================] - 1s 4ms/step - loss: 4.0617 - accuracy: 0.7275\n",
            "80/80 [==============================] - 1s 4ms/step - loss: 2.2405 - accuracy: 0.8367\n",
            "80/80 [==============================] - 1s 5ms/step - loss: 3.1585 - accuracy: 0.9277\n",
            "80/80 [==============================] - 1s 5ms/step - loss: 2.4381 - accuracy: 0.8459\n",
            "80/80 [==============================] - 1s 5ms/step - loss: 2.7029 - accuracy: 0.8196\n",
            "80/80 [==============================] - 1s 5ms/step - loss: 3.9166 - accuracy: 0.7426\n",
            "80/80 [==============================] - 1s 4ms/step - loss: 2.3593 - accuracy: 0.9222\n",
            "FedAvg Node is [0, 4, 11, 7, 6, 8, 9]\n",
            "313/313 [==============================] - 1s 2ms/step - loss: 1.8810 - accuracy: 0.7794\n",
            "EPOCHS 14 is starting...\n",
            "80/80 [==============================] - 1s 4ms/step - loss: 2.2435 - accuracy: 0.9290\n",
            "80/80 [==============================] - 1s 5ms/step - loss: 5.6123 - accuracy: 0.7680\n",
            "80/80 [==============================] - 1s 5ms/step - loss: 2.9406 - accuracy: 0.7015\n",
            "80/80 [==============================] - 1s 5ms/step - loss: 2.2970 - accuracy: 0.6639\n",
            "80/80 [==============================] - 1s 5ms/step - loss: 3.0613 - accuracy: 0.8804\n",
            "80/80 [==============================] - 1s 4ms/step - loss: 3.3132 - accuracy: 0.7375\n",
            "80/80 [==============================] - 1s 4ms/step - loss: 2.6868 - accuracy: 0.8425\n",
            "80/80 [==============================] - 1s 4ms/step - loss: 2.8996 - accuracy: 0.9235\n",
            "80/80 [==============================] - 1s 4ms/step - loss: 2.5965 - accuracy: 0.8477\n",
            "80/80 [==============================] - 1s 5ms/step - loss: 2.7851 - accuracy: 0.8119\n",
            "80/80 [==============================] - 1s 4ms/step - loss: 3.8099 - accuracy: 0.7407\n",
            "80/80 [==============================] - 1s 5ms/step - loss: 1.9300 - accuracy: 0.9256\n",
            "FedAvg Node is [0, 11, 4, 7, 8, 6, 1]\n",
            "313/313 [==============================] - 1s 2ms/step - loss: 1.7936 - accuracy: 0.8135\n",
            "EPOCHS 15 is starting...\n",
            "80/80 [==============================] - 1s 4ms/step - loss: 3.2232 - accuracy: 0.9290\n",
            "80/80 [==============================] - 1s 5ms/step - loss: 2.6030 - accuracy: 0.7829\n",
            "80/80 [==============================] - 1s 5ms/step - loss: 3.5524 - accuracy: 0.7026\n",
            "80/80 [==============================] - 1s 5ms/step - loss: 2.2473 - accuracy: 0.6657\n",
            "80/80 [==============================] - 1s 5ms/step - loss: 3.2359 - accuracy: 0.8923\n",
            "80/80 [==============================] - 1s 5ms/step - loss: 4.0195 - accuracy: 0.7447\n",
            "80/80 [==============================] - 1s 5ms/step - loss: 2.9557 - accuracy: 0.8584\n",
            "80/80 [==============================] - 1s 5ms/step - loss: 2.8551 - accuracy: 0.9290\n",
            "80/80 [==============================] - 1s 4ms/step - loss: 2.6400 - accuracy: 0.8688\n",
            "80/80 [==============================] - 1s 5ms/step - loss: 3.4938 - accuracy: 0.8163\n",
            "80/80 [==============================] - 1s 5ms/step - loss: 3.4080 - accuracy: 0.7532\n",
            "80/80 [==============================] - 1s 4ms/step - loss: 2.2306 - accuracy: 0.9231\n",
            "FedAvg Node is [11, 0, 4, 7, 6, 9, 1]\n",
            "313/313 [==============================] - 1s 2ms/step - loss: 1.7745 - accuracy: 0.7975\n",
            "EPOCHS 16 is starting...\n",
            "80/80 [==============================] - 1s 4ms/step - loss: 2.6150 - accuracy: 0.9309\n",
            "80/80 [==============================] - 3s 4ms/step - loss: 4.3086 - accuracy: 0.7788\n",
            "80/80 [==============================] - 1s 4ms/step - loss: 3.4834 - accuracy: 0.7153\n",
            "80/80 [==============================] - 1s 4ms/step - loss: 2.2624 - accuracy: 0.6722\n",
            "80/80 [==============================] - 1s 4ms/step - loss: 3.1569 - accuracy: 0.8901\n",
            "80/80 [==============================] - 1s 4ms/step - loss: 3.9739 - accuracy: 0.7296\n",
            "80/80 [==============================] - 1s 4ms/step - loss: 2.3810 - accuracy: 0.8623\n",
            "80/80 [==============================] - 1s 5ms/step - loss: 1.9374 - accuracy: 0.9335\n",
            "80/80 [==============================] - 1s 4ms/step - loss: 3.5841 - accuracy: 0.8542\n",
            "80/80 [==============================] - 1s 5ms/step - loss: 2.5698 - accuracy: 0.8316\n",
            "80/80 [==============================] - 1s 5ms/step - loss: 4.0854 - accuracy: 0.7703\n",
            "80/80 [==============================] - 1s 4ms/step - loss: 2.8090 - accuracy: 0.9291\n",
            "FedAvg Node is [7, 0, 4, 1, 11, 8, 6]\n",
            "313/313 [==============================] - 1s 2ms/step - loss: 1.7376 - accuracy: 0.7784\n",
            "EPOCHS 17 is starting...\n",
            "80/80 [==============================] - 1s 4ms/step - loss: 2.5611 - accuracy: 0.9361\n",
            "80/80 [==============================] - 1s 5ms/step - loss: 3.5402 - accuracy: 0.8011\n",
            "80/80 [==============================] - 1s 4ms/step - loss: 3.0441 - accuracy: 0.7261\n",
            "80/80 [==============================] - 1s 5ms/step - loss: 2.5586 - accuracy: 0.6673\n",
            "80/80 [==============================] - 1s 5ms/step - loss: 3.3449 - accuracy: 0.9107\n",
            "80/80 [==============================] - 1s 5ms/step - loss: 4.4111 - accuracy: 0.7251\n",
            "80/80 [==============================] - 1s 5ms/step - loss: 2.5881 - accuracy: 0.8724\n",
            "80/80 [==============================] - 1s 5ms/step - loss: 3.0443 - accuracy: 0.9377\n",
            "80/80 [==============================] - 1s 5ms/step - loss: 2.2562 - accuracy: 0.8677\n",
            "80/80 [==============================] - 1s 4ms/step - loss: 3.5571 - accuracy: 0.8128\n",
            "80/80 [==============================] - 1s 4ms/step - loss: 3.7368 - accuracy: 0.7611\n",
            "80/80 [==============================] - 1s 5ms/step - loss: 2.7877 - accuracy: 0.9380\n",
            "FedAvg Node is [4, 0, 7, 6, 11, 9, 1]\n",
            "313/313 [==============================] - 1s 2ms/step - loss: 1.6699 - accuracy: 0.7641\n",
            "EPOCHS 18 is starting...\n",
            "80/80 [==============================] - 1s 5ms/step - loss: 2.3340 - accuracy: 0.9324\n",
            "80/80 [==============================] - 1s 4ms/step - loss: 2.7094 - accuracy: 0.8154\n",
            "80/80 [==============================] - 1s 4ms/step - loss: 3.3939 - accuracy: 0.7241\n",
            "80/80 [==============================] - 1s 5ms/step - loss: 2.6146 - accuracy: 0.6853\n",
            "80/80 [==============================] - 1s 5ms/step - loss: 2.6295 - accuracy: 0.9002\n",
            "80/80 [==============================] - 1s 5ms/step - loss: 3.7166 - accuracy: 0.7586\n",
            "80/80 [==============================] - 1s 5ms/step - loss: 2.1815 - accuracy: 0.8674\n",
            "80/80 [==============================] - 1s 4ms/step - loss: 2.3027 - accuracy: 0.9400\n",
            "80/80 [==============================] - 1s 4ms/step - loss: 2.7847 - accuracy: 0.8565\n",
            "80/80 [==============================] - 1s 4ms/step - loss: 2.7105 - accuracy: 0.8349\n",
            "80/80 [==============================] - 1s 4ms/step - loss: 4.3055 - accuracy: 0.7766\n",
            "80/80 [==============================] - 1s 4ms/step - loss: 2.1572 - accuracy: 0.9349\n",
            "FedAvg Node is [11, 0, 7, 4, 8, 10, 1]\n",
            "313/313 [==============================] - 1s 2ms/step - loss: 1.6296 - accuracy: 0.7528\n",
            "EPOCHS 19 is starting...\n",
            "80/80 [==============================] - 1s 5ms/step - loss: 2.3363 - accuracy: 0.9336\n",
            "80/80 [==============================] - 1s 5ms/step - loss: 2.5085 - accuracy: 0.8061\n",
            "80/80 [==============================] - 1s 4ms/step - loss: 3.2714 - accuracy: 0.7420\n",
            "80/80 [==============================] - 1s 5ms/step - loss: 2.1561 - accuracy: 0.7020\n",
            "80/80 [==============================] - 1s 5ms/step - loss: 2.6568 - accuracy: 0.8947\n",
            "80/80 [==============================] - 1s 5ms/step - loss: 4.3219 - accuracy: 0.7446\n",
            "80/80 [==============================] - 1s 5ms/step - loss: 3.3550 - accuracy: 0.8520\n",
            "80/80 [==============================] - 1s 4ms/step - loss: 2.5484 - accuracy: 0.9402\n",
            "80/80 [==============================] - 1s 4ms/step - loss: 2.1090 - accuracy: 0.8868\n",
            "80/80 [==============================] - 1s 4ms/step - loss: 2.8684 - accuracy: 0.8367\n",
            "80/80 [==============================] - 1s 4ms/step - loss: 3.3554 - accuracy: 0.7722\n",
            "80/80 [==============================] - 1s 5ms/step - loss: 2.7409 - accuracy: 0.9313\n",
            "FedAvg Node is [4, 7, 11, 0, 6, 8, 5]\n",
            "313/313 [==============================] - 1s 2ms/step - loss: 1.6926 - accuracy: 0.7598\n"
          ],
          "name": "stdout"
        }
      ]
    },
    {
      "cell_type": "code",
      "metadata": {
        "id": "HrqSmK9-9LWe"
      },
      "source": [
        ""
      ],
      "execution_count": null,
      "outputs": []
    },
    {
      "cell_type": "code",
      "metadata": {
        "colab": {
          "base_uri": "https://localhost:8080/",
          "height": 281
        },
        "id": "DHi6uBm58CVw",
        "outputId": "95461b68-fe31-4947-d75b-1b484c5fd93c"
      },
      "source": [
        "#deal the data\n",
        "S_acc =[S.loss_acc[i][1]*100 for i in range(len(S.loss_acc))]\n",
        "S_loss =[S.loss_acc[i][0] for i in range(len(S.loss_acc))]\n",
        "\n",
        "#prepare show image\n",
        "x = np.arange(len(S.loss_acc))\n",
        "fig = plt.figure()\n",
        "ax1 = fig.add_subplot(111)\n",
        "acc = ax1.plot(x,S_acc,'r',label='Acc')\n",
        "ax1.set_ylabel('Acc')\n",
        "ax1.set_title('Acc-Loss')\n",
        "\n",
        "ax2 = ax1.twinx()\n",
        "loss = ax2.plot(x,S_loss,label='Loss')\n",
        "ax2.set_ylabel('Loss')\n",
        "\n",
        "lns = acc+loss\n",
        "labs = [l.get_label() for l in lns]\n",
        "ax2.legend(lns,labs)\n",
        "plt.show()"
      ],
      "execution_count": 93,
      "outputs": [
        {
          "output_type": "display_data",
          "data": {
            "image/png": "[encoded data removed]",
            "text/plain": [
              "<Figure size 432x288 with 2 Axes>"
            ]
          },
          "metadata": {
            "tags": [],
            "needs_background": "light"
          }
        }
      ]
    },
    {
      "cell_type": "code",
      "metadata": {
        "colab": {
          "base_uri": "https://localhost:8080/"
        },
        "id": "WZkNvbEPDCpA",
        "outputId": "5ea8c35f-4293-44a5-a3c2-f4a083ee8223"
      },
      "source": [
        "NodeList"
      ],
      "execution_count": 94,
      "outputs": [
        {
          "output_type": "execute_result",
          "data": {
            "text/plain": [
              "[[0, 7, 11, 4, 8, 6, 9, 1, 5, 10, 2, 3],\n",
              " [7, 11, 0, 4, 8, 6, 9, 1, 10, 5, 2],\n",
              " [11, 7, 0, 4, 8, 6, 9, 1, 10, 5],\n",
              " [7, 11, 0, 8, 4, 6, 9, 1, 10],\n",
              " [7, 11, 0, 4, 6, 8, 1, 10],\n",
              " [7, 11, 0, 4, 6, 8, 1],\n",
              " [7, 11, 0, 4, 6, 8, 9],\n",
              " [7, 11, 0, 4, 6, 1, 8],\n",
              " [7, 0, 11, 4, 6, 8, 9],\n",
              " [7, 11, 0, 4, 8, 6, 9],\n",
              " [7, 11, 0, 4, 8, 6, 9],\n",
              " [7, 0, 11, 6, 4, 8, 10],\n",
              " [11, 0, 7, 4, 8, 6, 9],\n",
              " [0, 4, 11, 7, 6, 8, 9],\n",
              " [0, 11, 4, 7, 8, 6, 1],\n",
              " [11, 0, 4, 7, 6, 9, 1],\n",
              " [7, 0, 4, 1, 11, 8, 6],\n",
              " [4, 0, 7, 6, 11, 9, 1],\n",
              " [11, 0, 7, 4, 8, 10, 1],\n",
              " [4, 7, 11, 0, 6, 8, 5]]"
            ]
          },
          "metadata": {
            "tags": []
          },
          "execution_count": 94
        }
      ]
    },
    {
      "cell_type": "code",
      "metadata": {
        "id": "NTRwgylhDcCO"
      },
      "source": [
        ""
      ],
      "execution_count": null,
      "outputs": []
    },
    {
      "cell_type": "code",
      "metadata": {
        "id": "sDJtUAMiD3vN"
      },
      "source": [
        ""
      ],
      "execution_count": null,
      "outputs": []
    },
    {
      "cell_type": "code",
      "metadata": {
        "colab": {
          "base_uri": "https://localhost:8080/",
          "height": 295
        },
        "id": "8LBgwA24FEVx",
        "outputId": "3c8ba09c-2ede-4dd7-f310-c8217b37ada5"
      },
      "source": [
        "#deal the data\n",
        "img = np.ones(shape=(NUM_EPOCHS,NUM_CLIENTS),dtype=int)\n",
        "for i in range(len(NodeList)):\n",
        "  for j in NodeList[i]:\n",
        "    img[i][j]=0\n",
        "#prepare show image\n",
        "len_n = len(S.loss_acc)\n",
        "ax = plt.gca()\n",
        "ax.set_xlim(-0.5,NUM_CLIENTS-0.5)\n",
        "ax.set_ylim(-0.5,9.5)\n",
        "miloc = plt.MultipleLocator(1)\n",
        "ax.xaxis.set_minor_locator(miloc)\n",
        "plt.grid()\n",
        "plt.title(\"Nodes in each epoch\")\n",
        "plt.imshow(img*255,cmap='gray')\n",
        "plt.axis('on')\n",
        "plt.xlabel('Nodes')\n",
        "plt.ylabel('Epoch')\n",
        "x = np.arange(0.5,NUM_CLIENTS+0.5,1)\n",
        "y = np.arange(0.5,NUM_EPOCHS+0.5,1)\n",
        "plt.xticks()\n",
        "plt.yticks(y,(int(i-0.5) for i in y))\n",
        "plt.xticks(x,(int(i-0.5) for i in x))\n",
        "plt.show()"
      ],
      "execution_count": 95,
      "outputs": [
        {
          "output_type": "display_data",
          "data": {
            "image/png": "[encoded data removed]",
            "text/plain": [
              "<Figure size 432x288 with 1 Axes>"
            ]
          },
          "metadata": {
            "tags": [],
            "needs_background": "light"
          }
        }
      ]
    },
    {
      "cell_type": "markdown",
      "metadata": {
        "id": "i2axuRBsO6V7"
      },
      "source": [
        "设置对照组，即普通的FedAvg"
      ]
    },
    {
      "cell_type": "code",
      "metadata": {
        "id": "wwI_gLjwO5w4"
      },
      "source": [
        "def FedAvg_Baseline(NUM_CLIENTS,model):\n",
        "  iterModel = model.copy()\n",
        "  len_it = len(iterModel.trainable_variables)\n",
        "  all_weights = []\n",
        "  for weights_index in range(len_it):\n",
        "    tmp =np.zeros(iterModel.trainable_variables[weights_index].numpy().shape,dtype='float64')\n",
        "    for node in range(NUM_CLIENTS):\n",
        "      tmp += clients[node].model.trainable_variables[weights_index].numpy()\n",
        "    all_weights.append(tmp/NUM_CLIENTS)\n",
        "  # print(all_weights)\n",
        "  iterModel_vars = iterModel.trainable_variables\n",
        "  for iter_v,n in zip(iterModel_vars,all_weights):\n",
        "    iter_v.assign(n)\n",
        "  return iterModel"
      ],
      "execution_count": 96,
      "outputs": []
    },
    {
      "cell_type": "code",
      "metadata": {
        "colab": {
          "base_uri": "https://localhost:8080/"
        },
        "id": "X5o0nVueO0m7",
        "outputId": "a31b1b0a-a82d-4a15-f79a-aee90b400504"
      },
      "source": [
        "InitModel = FLModel(row=28,col=28,num_classes=36)\n",
        "S2 = ParamServer(\"\")\n",
        "S2.PreEval(InitModel,x_test,y_test)"
      ],
      "execution_count": 97,
      "outputs": [
        {
          "output_type": "stream",
          "text": [
            "313/313 [==============================] - 1s 2ms/step - loss: 3.5735 - accuracy: 0.0810\n"
          ],
          "name": "stdout"
        }
      ]
    },
    {
      "cell_type": "code",
      "metadata": {
        "id": "3UUiDYqwWH3c"
      },
      "source": [
        "SendModel = InitModel"
      ],
      "execution_count": 98,
      "outputs": []
    },
    {
      "cell_type": "code",
      "metadata": {
        "colab": {
          "base_uri": "https://localhost:8080/"
        },
        "id": "KW2JdgUEP0C5",
        "outputId": "8ce6af27-3036-4a39-dc54-96adad43db0e"
      },
      "source": [
        "SendModel = S2.PreTrain(InitModel,x_train[0:200],y_train[0:200],epochs=1)\n",
        "S2.PreEval(SendModel,x_test,y_test)"
      ],
      "execution_count": 99,
      "outputs": [
        {
          "output_type": "stream",
          "text": [
            "7/7 [==============================] - 0s 5ms/step - loss: 3.0694 - accuracy: 0.2206\n",
            "313/313 [==============================] - 1s 2ms/step - loss: 1.9488 - accuracy: 0.5552\n"
          ],
          "name": "stdout"
        }
      ]
    },
    {
      "cell_type": "code",
      "metadata": {
        "id": "Bwd2uL1FUpeH"
      },
      "source": [
        "NUM_EPOCHS = 20"
      ],
      "execution_count": 100,
      "outputs": []
    },
    {
      "cell_type": "code",
      "metadata": {
        "colab": {
          "base_uri": "https://localhost:8080/"
        },
        "id": "dejoUrZlPz5l",
        "outputId": "853e5a87-6dc8-486e-95b7-0ad3056f0fb5"
      },
      "source": [
        "for e in range(NUM_EPOCHS):\n",
        "  print(\"EPOCHS {} is starting...\".format(e))\n",
        "  for i in range(NUM_CLIENTS):\n",
        "    clients[i].ReceiveModel(SendModel.copy())\n",
        "    clients[i].NodeTrain()\n",
        "    # clients[i].NodeEval()\n",
        "    # DIS.append(Distance(SendModel,clients[i].model))\n",
        "  FedModel = FedAvg_Baseline(NUM_CLIENTS,SendModel)\n",
        "  S2.PreEval(FedModel,x_test,y_test)\n",
        "  SendModel = FedModel.copy()"
      ],
      "execution_count": 101,
      "outputs": [
        {
          "output_type": "stream",
          "text": [
            "EPOCHS 0 is starting...\n",
            "80/80 [==============================] - 1s 4ms/step - loss: 47.9671 - accuracy: 0.5857\n",
            "80/80 [==============================] - 1s 4ms/step - loss: 30.5061 - accuracy: 0.3103\n",
            "80/80 [==============================] - 1s 4ms/step - loss: 23.0106 - accuracy: 0.1607\n",
            "80/80 [==============================] - 1s 4ms/step - loss: 11.5111 - accuracy: 0.0983\n",
            "80/80 [==============================] - 1s 4ms/step - loss: 37.2555 - accuracy: 0.5418\n",
            "80/80 [==============================] - 1s 4ms/step - loss: 23.0970 - accuracy: 0.2566\n",
            "80/80 [==============================] - 1s 4ms/step - loss: 33.2201 - accuracy: 0.4281\n",
            "80/80 [==============================] - 1s 4ms/step - loss: 52.3042 - accuracy: 0.6112\n",
            "80/80 [==============================] - 1s 4ms/step - loss: 34.3517 - accuracy: 0.4503\n",
            "80/80 [==============================] - 1s 4ms/step - loss: 46.0314 - accuracy: 0.3419\n",
            "80/80 [==============================] - 1s 4ms/step - loss: 28.5765 - accuracy: 0.2773\n",
            "80/80 [==============================] - 1s 4ms/step - loss: 42.9553 - accuracy: 0.5953\n",
            "313/313 [==============================] - 1s 2ms/step - loss: 2.2248 - accuracy: 0.8787\n",
            "EPOCHS 1 is starting...\n",
            "80/80 [==============================] - 1s 5ms/step - loss: 14.1126 - accuracy: 0.7540\n",
            "80/80 [==============================] - 1s 4ms/step - loss: 11.2585 - accuracy: 0.4829\n",
            "80/80 [==============================] - 1s 4ms/step - loss: 7.7557 - accuracy: 0.3255\n",
            "80/80 [==============================] - 1s 4ms/step - loss: 5.7519 - accuracy: 0.2826\n",
            "80/80 [==============================] - 1s 4ms/step - loss: 13.7999 - accuracy: 0.6636\n",
            "80/80 [==============================] - 3s 4ms/step - loss: 11.1360 - accuracy: 0.3989\n",
            "80/80 [==============================] - 1s 5ms/step - loss: 10.5026 - accuracy: 0.5934\n",
            "80/80 [==============================] - 1s 5ms/step - loss: 14.1300 - accuracy: 0.7675\n",
            "80/80 [==============================] - 1s 4ms/step - loss: 10.8143 - accuracy: 0.5807\n",
            "80/80 [==============================] - 1s 4ms/step - loss: 11.3346 - accuracy: 0.5137\n",
            "80/80 [==============================] - 1s 5ms/step - loss: 10.1100 - accuracy: 0.4169\n",
            "80/80 [==============================] - 1s 4ms/step - loss: 13.2668 - accuracy: 0.7411\n",
            "313/313 [==============================] - 1s 2ms/step - loss: 2.6115 - accuracy: 0.9006\n",
            "EPOCHS 2 is starting...\n",
            "80/80 [==============================] - 1s 5ms/step - loss: 6.6632 - accuracy: 0.8272\n",
            "80/80 [==============================] - 1s 4ms/step - loss: 6.7620 - accuracy: 0.5635\n",
            "80/80 [==============================] - 1s 4ms/step - loss: 5.6060 - accuracy: 0.4691\n",
            "80/80 [==============================] - 1s 4ms/step - loss: 4.8677 - accuracy: 0.4109\n",
            "80/80 [==============================] - 1s 5ms/step - loss: 7.4331 - accuracy: 0.7415\n",
            "80/80 [==============================] - 1s 5ms/step - loss: 7.6358 - accuracy: 0.5262\n",
            "80/80 [==============================] - 1s 4ms/step - loss: 7.3646 - accuracy: 0.6693\n",
            "80/80 [==============================] - 1s 4ms/step - loss: 6.8222 - accuracy: 0.8222\n",
            "80/80 [==============================] - 1s 5ms/step - loss: 7.0676 - accuracy: 0.6725\n",
            "80/80 [==============================] - 1s 4ms/step - loss: 6.5642 - accuracy: 0.6134\n",
            "80/80 [==============================] - 1s 4ms/step - loss: 6.4312 - accuracy: 0.5454\n",
            "80/80 [==============================] - 1s 5ms/step - loss: 5.9577 - accuracy: 0.8167\n",
            "313/313 [==============================] - 1s 2ms/step - loss: 2.6564 - accuracy: 0.9032\n",
            "EPOCHS 3 is starting...\n",
            "80/80 [==============================] - 1s 4ms/step - loss: 5.2763 - accuracy: 0.8278\n",
            "80/80 [==============================] - 1s 4ms/step - loss: 5.3822 - accuracy: 0.6283\n",
            "80/80 [==============================] - 1s 4ms/step - loss: 4.3061 - accuracy: 0.5376\n",
            "80/80 [==============================] - 1s 5ms/step - loss: 3.9923 - accuracy: 0.4827\n",
            "80/80 [==============================] - 1s 4ms/step - loss: 6.1599 - accuracy: 0.7761\n",
            "80/80 [==============================] - 1s 4ms/step - loss: 6.2331 - accuracy: 0.5950\n",
            "80/80 [==============================] - 1s 4ms/step - loss: 5.2904 - accuracy: 0.7168\n",
            "80/80 [==============================] - 1s 4ms/step - loss: 5.7680 - accuracy: 0.8397\n",
            "80/80 [==============================] - 1s 4ms/step - loss: 5.9305 - accuracy: 0.7166\n",
            "80/80 [==============================] - 1s 4ms/step - loss: 5.4760 - accuracy: 0.6645\n",
            "80/80 [==============================] - 1s 5ms/step - loss: 5.7740 - accuracy: 0.6149\n",
            "80/80 [==============================] - 1s 4ms/step - loss: 6.2855 - accuracy: 0.8257\n",
            "313/313 [==============================] - 1s 2ms/step - loss: 2.5971 - accuracy: 0.9027\n",
            "EPOCHS 4 is starting...\n",
            "80/80 [==============================] - 1s 5ms/step - loss: 5.3256 - accuracy: 0.8463\n",
            "80/80 [==============================] - 1s 4ms/step - loss: 5.1583 - accuracy: 0.6890\n",
            "80/80 [==============================] - 1s 4ms/step - loss: 5.0213 - accuracy: 0.5843\n",
            "80/80 [==============================] - 1s 4ms/step - loss: 3.5842 - accuracy: 0.5139\n",
            "80/80 [==============================] - 1s 4ms/step - loss: 5.3275 - accuracy: 0.7980\n",
            "80/80 [==============================] - 1s 5ms/step - loss: 5.5940 - accuracy: 0.6402\n",
            "80/80 [==============================] - 1s 5ms/step - loss: 5.7083 - accuracy: 0.7545\n",
            "80/80 [==============================] - 1s 5ms/step - loss: 4.9868 - accuracy: 0.8690\n",
            "80/80 [==============================] - 1s 4ms/step - loss: 5.4778 - accuracy: 0.7358\n",
            "80/80 [==============================] - 1s 4ms/step - loss: 5.4124 - accuracy: 0.7120\n",
            "80/80 [==============================] - 1s 4ms/step - loss: 5.3783 - accuracy: 0.6688\n",
            "80/80 [==============================] - 1s 5ms/step - loss: 4.6913 - accuracy: 0.8542\n",
            "313/313 [==============================] - 1s 2ms/step - loss: 2.5383 - accuracy: 0.8947\n",
            "EPOCHS 5 is starting...\n",
            "80/80 [==============================] - 1s 4ms/step - loss: 4.6613 - accuracy: 0.8678\n",
            "80/80 [==============================] - 1s 4ms/step - loss: 4.6338 - accuracy: 0.7036\n",
            "80/80 [==============================] - 1s 4ms/step - loss: 4.0326 - accuracy: 0.6346\n",
            "80/80 [==============================] - 1s 4ms/step - loss: 3.3103 - accuracy: 0.5499\n",
            "80/80 [==============================] - 1s 4ms/step - loss: 5.1001 - accuracy: 0.8178\n",
            "80/80 [==============================] - 1s 4ms/step - loss: 4.7779 - accuracy: 0.6697\n",
            "80/80 [==============================] - 1s 4ms/step - loss: 4.8414 - accuracy: 0.7782\n",
            "80/80 [==============================] - 1s 4ms/step - loss: 4.9158 - accuracy: 0.8731\n",
            "80/80 [==============================] - 1s 4ms/step - loss: 4.3913 - accuracy: 0.7806\n",
            "80/80 [==============================] - 1s 4ms/step - loss: 4.4021 - accuracy: 0.7490\n",
            "80/80 [==============================] - 1s 4ms/step - loss: 4.6701 - accuracy: 0.6847\n",
            "80/80 [==============================] - 1s 5ms/step - loss: 4.6279 - accuracy: 0.8664\n",
            "313/313 [==============================] - 1s 2ms/step - loss: 2.3704 - accuracy: 0.8797\n",
            "EPOCHS 6 is starting...\n",
            "80/80 [==============================] - 1s 5ms/step - loss: 5.2733 - accuracy: 0.8878\n",
            "80/80 [==============================] - 1s 4ms/step - loss: 4.7092 - accuracy: 0.7034\n",
            "80/80 [==============================] - 1s 4ms/step - loss: 3.6267 - accuracy: 0.6421\n",
            "80/80 [==============================] - 1s 4ms/step - loss: 3.5118 - accuracy: 0.5945\n",
            "80/80 [==============================] - 1s 5ms/step - loss: 4.7285 - accuracy: 0.8288\n",
            "80/80 [==============================] - 1s 5ms/step - loss: 4.5842 - accuracy: 0.6762\n",
            "80/80 [==============================] - 1s 5ms/step - loss: 4.2510 - accuracy: 0.7950\n",
            "80/80 [==============================] - 1s 5ms/step - loss: 5.1450 - accuracy: 0.8659\n",
            "80/80 [==============================] - 1s 4ms/step - loss: 5.4161 - accuracy: 0.7808\n",
            "80/80 [==============================] - 1s 4ms/step - loss: 4.6807 - accuracy: 0.7472\n",
            "80/80 [==============================] - 1s 4ms/step - loss: 4.2515 - accuracy: 0.7038\n",
            "80/80 [==============================] - 1s 4ms/step - loss: 5.1969 - accuracy: 0.8593\n",
            "313/313 [==============================] - 3s 2ms/step - loss: 2.2459 - accuracy: 0.8650\n",
            "EPOCHS 7 is starting...\n",
            "80/80 [==============================] - 1s 4ms/step - loss: 4.2470 - accuracy: 0.8879\n",
            "80/80 [==============================] - 1s 4ms/step - loss: 4.0756 - accuracy: 0.7358\n",
            "80/80 [==============================] - 1s 4ms/step - loss: 3.6064 - accuracy: 0.6831\n",
            "80/80 [==============================] - 1s 5ms/step - loss: 2.8399 - accuracy: 0.6155\n",
            "80/80 [==============================] - 1s 5ms/step - loss: 4.6155 - accuracy: 0.8361\n",
            "80/80 [==============================] - 1s 4ms/step - loss: 4.2988 - accuracy: 0.7046\n",
            "80/80 [==============================] - 1s 5ms/step - loss: 4.8860 - accuracy: 0.7991\n",
            "80/80 [==============================] - 1s 5ms/step - loss: 5.0101 - accuracy: 0.8850\n",
            "80/80 [==============================] - 1s 5ms/step - loss: 4.4943 - accuracy: 0.8021\n",
            "80/80 [==============================] - 1s 4ms/step - loss: 5.2560 - accuracy: 0.7557\n",
            "80/80 [==============================] - 1s 4ms/step - loss: 4.4483 - accuracy: 0.7166\n",
            "80/80 [==============================] - 1s 5ms/step - loss: 4.8574 - accuracy: 0.8818\n",
            "313/313 [==============================] - 1s 2ms/step - loss: 2.1638 - accuracy: 0.8494\n",
            "EPOCHS 8 is starting...\n",
            "80/80 [==============================] - 1s 5ms/step - loss: 4.8252 - accuracy: 0.8857\n",
            "80/80 [==============================] - 1s 4ms/step - loss: 3.8851 - accuracy: 0.7424\n",
            "80/80 [==============================] - 1s 4ms/step - loss: 3.4992 - accuracy: 0.6940\n",
            "80/80 [==============================] - 1s 5ms/step - loss: 2.5599 - accuracy: 0.6377\n",
            "80/80 [==============================] - 1s 5ms/step - loss: 5.2461 - accuracy: 0.8443\n",
            "80/80 [==============================] - 1s 4ms/step - loss: 4.2186 - accuracy: 0.6949\n",
            "80/80 [==============================] - 1s 4ms/step - loss: 4.5855 - accuracy: 0.8069\n",
            "80/80 [==============================] - 1s 4ms/step - loss: 4.4219 - accuracy: 0.8936\n",
            "80/80 [==============================] - 1s 4ms/step - loss: 5.1408 - accuracy: 0.8204\n",
            "80/80 [==============================] - 1s 5ms/step - loss: 4.0967 - accuracy: 0.7762\n",
            "80/80 [==============================] - 1s 4ms/step - loss: 4.3076 - accuracy: 0.7360\n",
            "80/80 [==============================] - 1s 4ms/step - loss: 4.4278 - accuracy: 0.8936\n",
            "313/313 [==============================] - 1s 2ms/step - loss: 2.0459 - accuracy: 0.8372\n",
            "EPOCHS 9 is starting...\n",
            "80/80 [==============================] - 1s 4ms/step - loss: 4.0693 - accuracy: 0.8946\n",
            "80/80 [==============================] - 1s 4ms/step - loss: 4.1325 - accuracy: 0.7486\n",
            "80/80 [==============================] - 1s 4ms/step - loss: 2.4102 - accuracy: 0.7133\n",
            "80/80 [==============================] - 1s 4ms/step - loss: 2.4592 - accuracy: 0.6383\n",
            "80/80 [==============================] - 1s 5ms/step - loss: 4.6199 - accuracy: 0.8404\n",
            "80/80 [==============================] - 1s 4ms/step - loss: 3.6049 - accuracy: 0.7360\n",
            "80/80 [==============================] - 1s 5ms/step - loss: 4.5851 - accuracy: 0.8164\n",
            "80/80 [==============================] - 1s 4ms/step - loss: 4.8909 - accuracy: 0.8990\n",
            "80/80 [==============================] - 1s 4ms/step - loss: 4.0492 - accuracy: 0.8161\n",
            "80/80 [==============================] - 1s 4ms/step - loss: 3.3509 - accuracy: 0.8062\n",
            "80/80 [==============================] - 1s 4ms/step - loss: 4.2348 - accuracy: 0.7512\n",
            "80/80 [==============================] - 1s 4ms/step - loss: 4.3842 - accuracy: 0.8946\n",
            "313/313 [==============================] - 1s 2ms/step - loss: 1.9498 - accuracy: 0.8260\n",
            "EPOCHS 10 is starting...\n",
            "80/80 [==============================] - 1s 4ms/step - loss: 3.9937 - accuracy: 0.9061\n",
            "80/80 [==============================] - 1s 4ms/step - loss: 4.6259 - accuracy: 0.7800\n",
            "80/80 [==============================] - 1s 4ms/step - loss: 2.9167 - accuracy: 0.7017\n",
            "80/80 [==============================] - 1s 4ms/step - loss: 2.1200 - accuracy: 0.6810\n",
            "80/80 [==============================] - 1s 5ms/step - loss: 4.4055 - accuracy: 0.8517\n",
            "80/80 [==============================] - 1s 5ms/step - loss: 4.3916 - accuracy: 0.7197\n",
            "80/80 [==============================] - 1s 5ms/step - loss: 4.2365 - accuracy: 0.8270\n",
            "80/80 [==============================] - 1s 5ms/step - loss: 4.3908 - accuracy: 0.9042\n",
            "80/80 [==============================] - 1s 4ms/step - loss: 4.5052 - accuracy: 0.8244\n",
            "80/80 [==============================] - 1s 4ms/step - loss: 3.5176 - accuracy: 0.7965\n",
            "80/80 [==============================] - 1s 4ms/step - loss: 4.0062 - accuracy: 0.7495\n",
            "80/80 [==============================] - 1s 4ms/step - loss: 4.8957 - accuracy: 0.8918\n",
            "313/313 [==============================] - 1s 2ms/step - loss: 1.9067 - accuracy: 0.7873\n",
            "EPOCHS 11 is starting...\n",
            "80/80 [==============================] - 1s 4ms/step - loss: 4.3374 - accuracy: 0.8888\n",
            "80/80 [==============================] - 1s 4ms/step - loss: 3.6619 - accuracy: 0.7855\n",
            "80/80 [==============================] - 1s 4ms/step - loss: 2.2719 - accuracy: 0.7332\n",
            "80/80 [==============================] - 1s 4ms/step - loss: 2.6607 - accuracy: 0.6487\n",
            "80/80 [==============================] - 1s 5ms/step - loss: 4.0236 - accuracy: 0.8732\n",
            "80/80 [==============================] - 1s 4ms/step - loss: 4.0064 - accuracy: 0.7506\n",
            "80/80 [==============================] - 1s 4ms/step - loss: 4.1519 - accuracy: 0.8320\n",
            "80/80 [==============================] - 1s 4ms/step - loss: 4.1261 - accuracy: 0.9075\n",
            "80/80 [==============================] - 1s 4ms/step - loss: 3.6175 - accuracy: 0.8325\n",
            "80/80 [==============================] - 1s 5ms/step - loss: 3.4286 - accuracy: 0.8164\n",
            "80/80 [==============================] - 1s 4ms/step - loss: 3.7336 - accuracy: 0.7756\n",
            "80/80 [==============================] - 1s 4ms/step - loss: 4.2770 - accuracy: 0.9081\n",
            "313/313 [==============================] - 1s 2ms/step - loss: 1.7843 - accuracy: 0.7962\n",
            "EPOCHS 12 is starting...\n",
            "80/80 [==============================] - 1s 5ms/step - loss: 4.8113 - accuracy: 0.9035\n",
            "80/80 [==============================] - 1s 5ms/step - loss: 3.6709 - accuracy: 0.7749\n",
            "80/80 [==============================] - 1s 5ms/step - loss: 2.8892 - accuracy: 0.7390\n",
            "80/80 [==============================] - 1s 4ms/step - loss: 1.8809 - accuracy: 0.6869\n",
            "80/80 [==============================] - 1s 5ms/step - loss: 4.4800 - accuracy: 0.8748\n",
            "80/80 [==============================] - 1s 5ms/step - loss: 3.7269 - accuracy: 0.7511\n",
            "80/80 [==============================] - 3s 4ms/step - loss: 3.7259 - accuracy: 0.8226\n",
            "80/80 [==============================] - 1s 4ms/step - loss: 4.5753 - accuracy: 0.9140\n",
            "80/80 [==============================] - 1s 5ms/step - loss: 3.7298 - accuracy: 0.8371\n",
            "80/80 [==============================] - 1s 5ms/step - loss: 3.4482 - accuracy: 0.7984\n",
            "80/80 [==============================] - 1s 4ms/step - loss: 3.5788 - accuracy: 0.7762\n",
            "80/80 [==============================] - 1s 5ms/step - loss: 5.2036 - accuracy: 0.9030\n",
            "313/313 [==============================] - 1s 2ms/step - loss: 1.7520 - accuracy: 0.7734\n",
            "EPOCHS 13 is starting...\n",
            "80/80 [==============================] - 1s 5ms/step - loss: 3.8001 - accuracy: 0.9202\n",
            "80/80 [==============================] - 1s 5ms/step - loss: 4.1537 - accuracy: 0.8088\n",
            "80/80 [==============================] - 1s 4ms/step - loss: 2.2338 - accuracy: 0.7557\n",
            "80/80 [==============================] - 1s 5ms/step - loss: 2.1653 - accuracy: 0.6918\n",
            "80/80 [==============================] - 1s 5ms/step - loss: 4.7681 - accuracy: 0.8763\n",
            "80/80 [==============================] - 1s 5ms/step - loss: 3.2492 - accuracy: 0.7705\n",
            "80/80 [==============================] - 1s 5ms/step - loss: 4.9190 - accuracy: 0.8295\n",
            "80/80 [==============================] - 1s 5ms/step - loss: 3.7236 - accuracy: 0.9109\n",
            "80/80 [==============================] - 1s 5ms/step - loss: 4.2612 - accuracy: 0.8260\n",
            "80/80 [==============================] - 1s 5ms/step - loss: 3.8118 - accuracy: 0.8195\n",
            "80/80 [==============================] - 1s 4ms/step - loss: 3.3688 - accuracy: 0.7917\n",
            "80/80 [==============================] - 1s 5ms/step - loss: 4.6141 - accuracy: 0.9008\n",
            "313/313 [==============================] - 1s 2ms/step - loss: 1.7636 - accuracy: 0.7513\n",
            "EPOCHS 14 is starting...\n",
            "80/80 [==============================] - 1s 5ms/step - loss: 4.0876 - accuracy: 0.9162\n",
            "80/80 [==============================] - 1s 5ms/step - loss: 3.5891 - accuracy: 0.8182\n",
            "80/80 [==============================] - 1s 4ms/step - loss: 2.4781 - accuracy: 0.7578\n",
            "80/80 [==============================] - 1s 4ms/step - loss: 1.7991 - accuracy: 0.7074\n",
            "80/80 [==============================] - 1s 4ms/step - loss: 4.2589 - accuracy: 0.8865\n",
            "80/80 [==============================] - 1s 5ms/step - loss: 3.0296 - accuracy: 0.7634\n",
            "80/80 [==============================] - 1s 5ms/step - loss: 4.0545 - accuracy: 0.8355\n",
            "80/80 [==============================] - 1s 5ms/step - loss: 3.8345 - accuracy: 0.9119\n",
            "80/80 [==============================] - 1s 5ms/step - loss: 3.6642 - accuracy: 0.8574\n",
            "80/80 [==============================] - 1s 4ms/step - loss: 2.9406 - accuracy: 0.8266\n",
            "80/80 [==============================] - 1s 5ms/step - loss: 3.5256 - accuracy: 0.7968\n",
            "80/80 [==============================] - 1s 5ms/step - loss: 3.7664 - accuracy: 0.9122\n",
            "313/313 [==============================] - 1s 2ms/step - loss: 1.7075 - accuracy: 0.7488\n",
            "EPOCHS 15 is starting...\n",
            "80/80 [==============================] - 1s 5ms/step - loss: 4.5807 - accuracy: 0.9148\n",
            "80/80 [==============================] - 1s 4ms/step - loss: 3.7480 - accuracy: 0.7931\n",
            "80/80 [==============================] - 1s 4ms/step - loss: 2.4338 - accuracy: 0.7643\n",
            "80/80 [==============================] - 1s 4ms/step - loss: 1.7780 - accuracy: 0.7155\n",
            "80/80 [==============================] - 1s 4ms/step - loss: 4.8461 - accuracy: 0.8636\n",
            "80/80 [==============================] - 1s 4ms/step - loss: 3.9843 - accuracy: 0.7825\n",
            "80/80 [==============================] - 1s 5ms/step - loss: 4.0160 - accuracy: 0.8498\n",
            "80/80 [==============================] - 1s 4ms/step - loss: 3.5942 - accuracy: 0.9223\n",
            "80/80 [==============================] - 1s 4ms/step - loss: 3.1849 - accuracy: 0.8593\n",
            "80/80 [==============================] - 1s 4ms/step - loss: 2.8031 - accuracy: 0.8429\n",
            "80/80 [==============================] - 1s 4ms/step - loss: 3.6406 - accuracy: 0.7949\n",
            "80/80 [==============================] - 1s 4ms/step - loss: 4.4955 - accuracy: 0.9073\n",
            "313/313 [==============================] - 1s 2ms/step - loss: 1.6856 - accuracy: 0.7383\n",
            "EPOCHS 16 is starting...\n",
            "80/80 [==============================] - 1s 5ms/step - loss: 4.6339 - accuracy: 0.9188\n",
            "80/80 [==============================] - 1s 4ms/step - loss: 3.4383 - accuracy: 0.8086\n",
            "80/80 [==============================] - 1s 4ms/step - loss: 2.5964 - accuracy: 0.7659\n",
            "80/80 [==============================] - 1s 4ms/step - loss: 1.5057 - accuracy: 0.7349\n",
            "80/80 [==============================] - 1s 4ms/step - loss: 4.2745 - accuracy: 0.8983\n",
            "80/80 [==============================] - 1s 4ms/step - loss: 3.3884 - accuracy: 0.7955\n",
            "80/80 [==============================] - 1s 5ms/step - loss: 3.6818 - accuracy: 0.8419\n",
            "80/80 [==============================] - 1s 5ms/step - loss: 5.0026 - accuracy: 0.9200\n",
            "80/80 [==============================] - 1s 4ms/step - loss: 3.0763 - accuracy: 0.8674\n",
            "80/80 [==============================] - 1s 4ms/step - loss: 3.4664 - accuracy: 0.8461\n",
            "80/80 [==============================] - 1s 4ms/step - loss: 3.0456 - accuracy: 0.8063\n",
            "80/80 [==============================] - 1s 5ms/step - loss: 3.6361 - accuracy: 0.9228\n",
            "313/313 [==============================] - 1s 2ms/step - loss: 1.6612 - accuracy: 0.7300\n",
            "EPOCHS 17 is starting...\n",
            "80/80 [==============================] - 1s 4ms/step - loss: 4.4756 - accuracy: 0.9181\n",
            "80/80 [==============================] - 1s 4ms/step - loss: 3.7585 - accuracy: 0.8268\n",
            "80/80 [==============================] - 1s 4ms/step - loss: 2.4924 - accuracy: 0.7854\n",
            "80/80 [==============================] - 1s 4ms/step - loss: 1.8971 - accuracy: 0.7249\n",
            "80/80 [==============================] - 1s 4ms/step - loss: 4.5303 - accuracy: 0.8869\n",
            "80/80 [==============================] - 1s 4ms/step - loss: 3.4402 - accuracy: 0.7882\n",
            "80/80 [==============================] - 1s 5ms/step - loss: 4.0648 - accuracy: 0.8577\n",
            "80/80 [==============================] - 1s 4ms/step - loss: 3.8606 - accuracy: 0.9305\n",
            "80/80 [==============================] - 1s 4ms/step - loss: 4.2898 - accuracy: 0.8597\n",
            "80/80 [==============================] - 1s 4ms/step - loss: 2.9696 - accuracy: 0.8397\n",
            "80/80 [==============================] - 1s 5ms/step - loss: 3.5091 - accuracy: 0.7900\n",
            "80/80 [==============================] - 1s 4ms/step - loss: 4.1104 - accuracy: 0.9250\n",
            "313/313 [==============================] - 1s 2ms/step - loss: 1.6237 - accuracy: 0.7351\n",
            "EPOCHS 18 is starting...\n",
            "80/80 [==============================] - 3s 4ms/step - loss: 3.2505 - accuracy: 0.9208\n",
            "80/80 [==============================] - 1s 5ms/step - loss: 3.1707 - accuracy: 0.8130\n",
            "80/80 [==============================] - 1s 5ms/step - loss: 2.1934 - accuracy: 0.7963\n",
            "80/80 [==============================] - 1s 4ms/step - loss: 1.9820 - accuracy: 0.7454\n",
            "80/80 [==============================] - 1s 5ms/step - loss: 4.6747 - accuracy: 0.8886\n",
            "80/80 [==============================] - 1s 4ms/step - loss: 2.7748 - accuracy: 0.7992\n",
            "80/80 [==============================] - 1s 4ms/step - loss: 4.6252 - accuracy: 0.8530\n",
            "80/80 [==============================] - 1s 4ms/step - loss: 4.3660 - accuracy: 0.9292\n",
            "80/80 [==============================] - 1s 4ms/step - loss: 4.2833 - accuracy: 0.8612\n",
            "80/80 [==============================] - 1s 4ms/step - loss: 3.3557 - accuracy: 0.8416\n",
            "80/80 [==============================] - 1s 5ms/step - loss: 3.4175 - accuracy: 0.8086\n",
            "80/80 [==============================] - 1s 5ms/step - loss: 3.6664 - accuracy: 0.9236\n",
            "313/313 [==============================] - 1s 2ms/step - loss: 1.5609 - accuracy: 0.7321\n",
            "EPOCHS 19 is starting...\n",
            "80/80 [==============================] - 1s 5ms/step - loss: 3.2711 - accuracy: 0.9248\n",
            "80/80 [==============================] - 1s 4ms/step - loss: 2.8176 - accuracy: 0.8290\n",
            "80/80 [==============================] - 1s 4ms/step - loss: 2.3805 - accuracy: 0.7846\n",
            "80/80 [==============================] - 1s 4ms/step - loss: 1.4348 - accuracy: 0.7365\n",
            "80/80 [==============================] - 1s 4ms/step - loss: 4.3447 - accuracy: 0.8890\n",
            "80/80 [==============================] - 1s 4ms/step - loss: 3.4269 - accuracy: 0.8123\n",
            "80/80 [==============================] - 1s 4ms/step - loss: 3.6265 - accuracy: 0.8735\n",
            "80/80 [==============================] - 1s 4ms/step - loss: 4.7804 - accuracy: 0.9266\n",
            "80/80 [==============================] - 1s 4ms/step - loss: 4.0467 - accuracy: 0.8649\n",
            "80/80 [==============================] - 1s 4ms/step - loss: 2.4031 - accuracy: 0.8510\n",
            "80/80 [==============================] - 1s 5ms/step - loss: 3.3911 - accuracy: 0.8060\n",
            "80/80 [==============================] - 1s 5ms/step - loss: 3.8729 - accuracy: 0.9137\n",
            "313/313 [==============================] - 1s 2ms/step - loss: 1.5399 - accuracy: 0.7212\n"
          ],
          "name": "stdout"
        }
      ]
    },
    {
      "cell_type": "code",
      "metadata": {
        "id": "NbpXvIuEPzwX"
      },
      "source": [
        ""
      ],
      "execution_count": null,
      "outputs": []
    },
    {
      "cell_type": "code",
      "metadata": {
        "id": "KtBMBFo7Pzg2",
        "colab": {
          "base_uri": "https://localhost:8080/",
          "height": 281
        },
        "outputId": "6de136ac-955a-4678-8d84-b16751817faf"
      },
      "source": [
        "S_acc2 =[S2.loss_acc[i][1]*100 for i in range(len(S2.loss_acc))]\n",
        "S_loss2 =[S2.loss_acc[i][0] for i in range(len(S2.loss_acc))]\n",
        "\n",
        "x = np.arange(len(S2.loss_acc))\n",
        "fig = plt.figure()\n",
        "ax1 = fig.add_subplot(111)\n",
        "acc = ax1.plot(x,S_acc2,'r',label='Acc')\n",
        "ax1.set_ylabel('Acc')\n",
        "ax1.set_title('Acc-Loss')\n",
        "\n",
        "ax2 = ax1.twinx()\n",
        "loss = ax2.plot(x,S_loss2,label='Loss')\n",
        "ax2.set_ylabel('Loss')\n",
        "\n",
        "lns = acc+loss\n",
        "labs = [l.get_label() for l in lns]\n",
        "ax2.legend(lns,labs)\n",
        "plt.show()"
      ],
      "execution_count": 102,
      "outputs": [
        {
          "output_type": "display_data",
          "data": {
            "image/png": "[encoded data removed]",
            "text/plain": [
              "<Figure size 432x288 with 2 Axes>"
            ]
          },
          "metadata": {
            "tags": [],
            "needs_background": "light"
          }
        }
      ]
    },
    {
      "cell_type": "markdown",
      "metadata": {
        "id": "WwiFCb96CUyn"
      },
      "source": [
        "聚合轮数较多时，本文设计的算法能对性能下降起到一个缓冲作用"
      ]
    },
    {
      "cell_type": "code",
      "metadata": {
        "colab": {
          "base_uri": "https://localhost:8080/",
          "height": 281
        },
        "id": "wuOQuKLaCUVF",
        "outputId": "f4cdd4ab-331e-411e-972a-dfe07ee1a626"
      },
      "source": [
        "x = np.arange(len(S2.loss_acc))\n",
        "fig = plt.figure()\n",
        "ax1 = fig.add_subplot(111)\n",
        "acc = ax1.plot(x,S_acc,'r',label='NewFed-Acc')\n",
        "ax1.set_ylabel('NewFed-Acc')\n",
        "ax1.set_title('New/FedAvg')\n",
        "\n",
        "ax2 = ax1.twinx()\n",
        "loss = ax2.plot(x,S_acc2,label='FedAvg-Acc')\n",
        "ax2.set_ylabel('FedAvg-Acc')\n",
        "\n",
        "lns = acc+loss\n",
        "labs = [l.get_label() for l in lns]\n",
        "ax2.legend(lns,labs)\n",
        "plt.show()"
      ],
      "execution_count": 103,
      "outputs": [
        {
          "output_type": "display_data",
          "data": {
            "image/png": "[encoded data removed]",
            "text/plain": [
              "<Figure size 432x288 with 2 Axes>"
            ]
          },
          "metadata": {
            "tags": [],
            "needs_background": "light"
          }
        }
      ]
    },
    {
      "cell_type": "code",
      "metadata": {
        "id": "mPLaC0tCDKLt"
      },
      "source": [
        ""
      ],
      "execution_count": null,
      "outputs": []
    }
  ]
}