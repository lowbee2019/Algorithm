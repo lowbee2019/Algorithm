{
  "nbformat": 4,
  "nbformat_minor": 0,
  "metadata": {
    "colab": {
      "name": "Copy of MyModel.ipynb",
      "provenance": [],
      "collapsed_sections": [],
      "authorship_tag": "ABX9TyN8BcDErIESX1EL7Lik/dkO",
      "include_colab_link": true
    },
    "kernelspec": {
      "display_name": "Python 3",
      "name": "python3"
    },
    "language_info": {
      "name": "python"
    }
  },
  "cells": [
    {
      "cell_type": "markdown",
      "metadata": {
        "id": "view-in-github",
        "colab_type": "text"
      },
      "source": [
        "<a href=\"https://colab.research.google.com/github/lowbee2019/Algorithm/blob/master/MyModel-demoV1.ipynb\" target=\"_parent\"><img src=\"https://colab.research.google.com/assets/colab-badge.svg\" alt=\"Open In Colab\"/></a>"
      ]
    },
    {
      "cell_type": "code",
      "metadata": {
        "colab": {
          "base_uri": "https://localhost:8080/"
        },
        "id": "uoFhItkFEsF8",
        "outputId": "f1dd5dab-41ec-48f8-b3fa-bdc9dc3c6780"
      },
      "source": [
        "!pip install emnist"
      ],
      "execution_count": 1,
      "outputs": [
        {
          "output_type": "stream",
          "text": [
            "Collecting emnist\n",
            "  Downloading https://files.pythonhosted.org/packages/d1/f4/78b24acbef9e8fe976dda700f16a3606f3b8363b015bc555f8050fbbd8ac/emnist-0.0-py3-none-any.whl\n",
            "Requirement already satisfied: requests in /usr/local/lib/python3.7/dist-packages (from emnist) (2.23.0)\n",
            "Requirement already satisfied: numpy in /usr/local/lib/python3.7/dist-packages (from emnist) (1.19.5)\n",
            "Requirement already satisfied: tqdm in /usr/local/lib/python3.7/dist-packages (from emnist) (4.41.1)\n",
            "Requirement already satisfied: certifi>=2017.4.17 in /usr/local/lib/python3.7/dist-packages (from requests->emnist) (2020.12.5)\n",
            "Requirement already satisfied: urllib3!=1.25.0,!=1.25.1,<1.26,>=1.21.1 in /usr/local/lib/python3.7/dist-packages (from requests->emnist) (1.24.3)\n",
            "Requirement already satisfied: chardet<4,>=3.0.2 in /usr/local/lib/python3.7/dist-packages (from requests->emnist) (3.0.4)\n",
            "Requirement already satisfied: idna<3,>=2.5 in /usr/local/lib/python3.7/dist-packages (from requests->emnist) (2.10)\n",
            "Installing collected packages: emnist\n",
            "Successfully installed emnist-0.0\n"
          ],
          "name": "stdout"
        }
      ]
    },
    {
      "cell_type": "code",
      "metadata": {
        "id": "9e4So1L3pPWp"
      },
      "source": [
        "import tensorflow as tf\n",
        "import numpy as np\n",
        "from tensorflow import keras\n",
        "import collections\n",
        "import copy\n",
        "import random\n",
        "import emnist"
      ],
      "execution_count": 2,
      "outputs": []
    },
    {
      "cell_type": "markdown",
      "metadata": {
        "id": "YQaIGTfxmSfi"
      },
      "source": [
        "# Server Initialization"
      ]
    },
    {
      "cell_type": "code",
      "metadata": {
        "id": "PTK_p961nsA5"
      },
      "source": [
        "class ParamServer(object):\n",
        "  def __init__(self,init_model_path):\n",
        "    self.init_model_path = init_model_path\n",
        "    self.round = 0\n",
        "    self.optimizer=\"adam\"\n",
        "    self.loss = \"sparse_categorical_crossentropy\"\n",
        "    self.metrics =['accuracy']\n",
        "    self.loss_acc=[]\n",
        "\n",
        "  def PreTrain(self,model,data,labels,batch_size=32,epochs=5):\n",
        "    model.compile(optimizer=self.optimizer,\n",
        "                  loss=self.loss,\n",
        "                  metrics=self.metrics)\n",
        "    _metrics = model.fit(data,labels,batch_size,epochs)\n",
        "    return model\n",
        "  \n",
        "  def PreEval(self,model,test_data,test_labels):\n",
        "    model.compile(optimizer=self.optimizer,\n",
        "                  loss=self.loss,\n",
        "                  metrics=self.metrics)\n",
        "    self.loss_acc.append(model.evaluate(test_data,test_labels))\n"
      ],
      "execution_count": 3,
      "outputs": []
    },
    {
      "cell_type": "markdown",
      "metadata": {
        "id": "iRvlGAmjmxbw"
      },
      "source": [
        "## Mnist数据集的预处理"
      ]
    },
    {
      "cell_type": "code",
      "metadata": {
        "id": "6b0_4VEYnemW",
        "colab": {
          "base_uri": "https://localhost:8080/"
        },
        "outputId": "c26ea59d-79ce-4ce2-c73f-24b0e915481d"
      },
      "source": [
        "mnist = tf.keras.datasets.mnist\n",
        "train,test = mnist.load_data()\n",
        "x_train,y_train = train\n",
        "x_test,y_test = test\n",
        "x_train,x_test = x_train/255.0,x_test/255.0"
      ],
      "execution_count": 4,
      "outputs": [
        {
          "output_type": "stream",
          "text": [
            "Downloading data from https://storage.googleapis.com/tensorflow/tf-keras-datasets/mnist.npz\n",
            "11493376/11490434 [==============================] - 0s 0us/step\n"
          ],
          "name": "stdout"
        }
      ]
    },
    {
      "cell_type": "code",
      "metadata": {
        "colab": {
          "base_uri": "https://localhost:8080/"
        },
        "id": "f9537dMSO_C_",
        "outputId": "eb4b4ce7-9660-4360-f89d-e82a02940239"
      },
      "source": [
        "x_train.shape"
      ],
      "execution_count": 5,
      "outputs": [
        {
          "output_type": "execute_result",
          "data": {
            "text/plain": [
              "(60000, 28, 28)"
            ]
          },
          "metadata": {
            "tags": []
          },
          "execution_count": 5
        }
      ]
    },
    {
      "cell_type": "markdown",
      "metadata": {
        "id": "2L712LCIm6Vv"
      },
      "source": [
        "## 模型的定义"
      ]
    },
    {
      "cell_type": "code",
      "metadata": {
        "id": "C0noj5RjmF0i"
      },
      "source": [
        "class FLModel(tf.keras.Model):\n",
        "  def __init__(self,row,col,num_classes=62,*args,**kwargs):\n",
        "    super(FLModel,self).__init__(*args,**kwargs)\n",
        "    self.row = row\n",
        "    self.col = col\n",
        "    self.num_classes = num_classes\n",
        "    self.flatten = tf.keras.layers.Flatten(input_shape=(row,col))\n",
        "    self.dense_1 = tf.keras.layers.Dense(500,activation='relu',name=\"dense_1\")\n",
        "    self.dense_2 = tf.keras.layers.Dense(num_classes,activation='softmax',name=\"dense_2\")\n",
        "    self.drop = tf.keras.layers.Dropout(0.2)\n",
        "\n",
        "\n",
        "  def call(self,inputs):\n",
        "    x = self.flatten(inputs)\n",
        "    x = self.dense_1(x)\n",
        "    x = self.drop(x)\n",
        "    x = self.dense_2(x)\n",
        "    return x\n",
        "  \n",
        "  def copy(self):\n",
        "    NewModel = FLModel(self.row,self.col,self.num_classes)\n",
        "    _ = NewModel(np.expand_dims(tf.zeros([self.row,self.col]),0))\n",
        "    ##Layers\n",
        "    NewVars = NewModel.trainable_variables #此处为空列表，因为没有训练,这个地方参数传递是不是有问题\n",
        "    OldVars = self.trainable_variables\n",
        "    for n,o in zip(NewVars,OldVars):\n",
        "      n.assign(o.numpy())\n",
        "    return NewModel\n",
        "\n",
        "  # def compute_output_shape(self,input_shape):\n",
        "  #   shape = tf.TensorShape(input_shape).as_list()\n",
        "  #   shape[-1] = self.num_classes\n",
        "  #   return tf.TensorShape(shape)"
      ],
      "execution_count": 6,
      "outputs": []
    },
    {
      "cell_type": "code",
      "metadata": {
        "id": "8-_EOR39lCAk"
      },
      "source": [
        ""
      ],
      "execution_count": null,
      "outputs": []
    },
    {
      "cell_type": "markdown",
      "metadata": {
        "id": "Z5LMvoXcoiz2"
      },
      "source": [
        "#Client Initialization\n",
        "模型训练和评估都要重写"
      ]
    },
    {
      "cell_type": "code",
      "metadata": {
        "id": "Hvu8wCjbooCF"
      },
      "source": [
        "class Client(object):\n",
        "  def __init__(self,id,model=None,Train_dataset=None,Test_dataset=None):\n",
        "    self.id = id\n",
        "    self.model = model\n",
        "    self.Train_dataset = Train_dataset\n",
        "    self.Test_dataset = Test_dataset\n",
        "    # from ParamServer\n",
        "    self.ParamModel = None\n",
        "    self.num_epochs = 5\n",
        "    self.batch_size = 32\n",
        "    self.shuffle_buffer = 100\n",
        "    self.prefetch_buffer = 10\n",
        "    ## \n",
        "\n",
        "\n",
        "  def ReceiveModel(self,ParamModel,num_epochs=1,batch_size=32,shuffle_buffer=100,prefetch_buffer=10):\n",
        "    self.ParamModel = ParamModel\n",
        "    self.num_epochs = num_epochs\n",
        "    self.batch_size = batch_size\n",
        "    self.shuffle_buffer = shuffle_buffer\n",
        "    self.prefetch_buffer = prefetch_buffer\n",
        "  \n",
        "\n",
        "  def preprocess(self,dataset):\n",
        "    def batch_format_fn(element):\n",
        "      return collections.OrderedDict(\n",
        "            \n",
        "            x = tf.reshape(element['pixels'],[-1,784]),\n",
        "            y = tf.reshape(element['label'],[-1,1])\n",
        "          )\n",
        "    return dataset.repeat(self.num_epochs).shuffle(self.shuffle_buffer).batch(\n",
        "        self.batch_size).map(batch_format_fn).prefetch(self.prefetch_buffer)\n",
        "\n",
        "  def NodeTrain(self):\n",
        "    model = self.ParamModel\n",
        "    # pre_data = self.preprocess(self.Train_dataset)\n",
        "    # print(type(pre_data))\n",
        "    # model.fit(x=pre_data['x'],y=pre_data['y'],batch_size=self.batch_size,epochs=self.num_epochs)\n",
        "    # x = np.array([i['pixels'].numpy() for i in self.Train_dataset])\n",
        "    # y = np.array([i['label'].numpy() for i in self.Train_dataset])\n",
        "    x,y = self.Train_dataset\n",
        "    model.compile(\n",
        "        optimizer='adam',\n",
        "        loss='sparse_categorical_crossentropy',\n",
        "        metrics=['accuracy'])\n",
        "    _metrics = model.fit(x,y,batch_size=self.batch_size,epochs=self.num_epochs)\n",
        "    self.model = model\n",
        "\n",
        "  def NodeEval(self):\n",
        "    x,y = self.Test_dataset\n",
        "    self.model.evaluate(x,y)\n"
      ],
      "execution_count": 7,
      "outputs": []
    },
    {
      "cell_type": "markdown",
      "metadata": {
        "id": "MwmKo3gLrI-i"
      },
      "source": [
        "# 阶段一：为Client分配数据（预处理工作）"
      ]
    },
    {
      "cell_type": "code",
      "metadata": {
        "id": "VcXnArpEjnnA"
      },
      "source": [
        "# emnist_dataset = emnist.extract_training_samples('byclass')"
      ],
      "execution_count": null,
      "outputs": []
    },
    {
      "cell_type": "code",
      "metadata": {
        "id": "9hJfX3uOyMGH"
      },
      "source": [
        "letters_dataset = emnist.extract_training_samples('letters')"
      ],
      "execution_count": 24,
      "outputs": []
    },
    {
      "cell_type": "code",
      "metadata": {
        "id": "yNlCcKrZuraD"
      },
      "source": [
        "letters_dataset = (letters_dataset[0]/255.0,letters_dataset[1]+9)"
      ],
      "execution_count": 25,
      "outputs": []
    },
    {
      "cell_type": "code",
      "metadata": {
        "colab": {
          "base_uri": "https://localhost:8080/"
        },
        "id": "eIIY87nj1RBg",
        "outputId": "0180342c-2f46-48ce-9b91-2ccb10b1344a"
      },
      "source": [
        "set(letters_dataset[1])"
      ],
      "execution_count": 26,
      "outputs": [
        {
          "output_type": "execute_result",
          "data": {
            "text/plain": [
              "{10,\n",
              " 11,\n",
              " 12,\n",
              " 13,\n",
              " 14,\n",
              " 15,\n",
              " 16,\n",
              " 17,\n",
              " 18,\n",
              " 19,\n",
              " 20,\n",
              " 21,\n",
              " 22,\n",
              " 23,\n",
              " 24,\n",
              " 25,\n",
              " 26,\n",
              " 27,\n",
              " 28,\n",
              " 29,\n",
              " 30,\n",
              " 31,\n",
              " 32,\n",
              " 33,\n",
              " 34,\n",
              " 35}"
            ]
          },
          "metadata": {
            "tags": []
          },
          "execution_count": 26
        }
      ]
    },
    {
      "cell_type": "code",
      "metadata": {
        "id": "GYETYI7g-In_"
      },
      "source": [
        "def create_data_for_clients(LetterSet,Num,DigitSet=train,TargetRate=0.7):\n",
        "  #Alpha: 需要掺入mnist的占比\n",
        "  #Beta: Emnist中数字的占比\n",
        "  # Beta = 34.0/73.0\n",
        "  Beta = 0\n",
        "  if TargetRate < Beta:\n",
        "    Alpha = 0\n",
        "  else:\n",
        "    Alpha = (TargetRate-Beta)/(1-Beta)\n",
        "  DigitNum = int(Alpha*Num)\n",
        "  LetterNum = Num-DigitNum\n",
        "  x_sequence = []\n",
        "  y_sequence = []\n",
        "  print(DigitNum,LetterNum)\n",
        "  if DigitNum > 0:\n",
        "    for i in range(DigitNum):\n",
        "      index = random.randint(0,len(DigitSet[0])-1)\n",
        "      x_sequence.append(DigitSet[0][index])\n",
        "      y_sequence.append(DigitSet[1][index])\n",
        "  if LetterNum > 0:\n",
        "    for i in range(LetterNum):\n",
        "      index = random.randint(0,len(LetterSet[0])-1)\n",
        "      x_sequence.append(LetterSet[0][index])\n",
        "      y_sequence.append(LetterSet[1][index])\n",
        "      #y_sequence.append(random.randint(0,9))\n",
        "  return (np.array(x_sequence),np.array(y_sequence))"
      ],
      "execution_count": 36,
      "outputs": []
    },
    {
      "cell_type": "code",
      "metadata": {
        "colab": {
          "base_uri": "https://localhost:8080/"
        },
        "id": "9DjtZ8BSjHx2",
        "outputId": "5f97a373-ef82-4151-ac02-1933c07e3f79"
      },
      "source": [
        "print(letters_dataset[1][2],letters_dataset[1][1])"
      ],
      "execution_count": 35,
      "outputs": [
        {
          "output_type": "stream",
          "text": [
            "25 16\n"
          ],
          "name": "stdout"
        }
      ]
    },
    {
      "cell_type": "code",
      "metadata": {
        "id": "jlR96ORjbt5V"
      },
      "source": [
        "# def create_data_for_clients(BasicSet,Num):\n",
        "#   x_sequence = []\n",
        "#   y_sequence = []\n",
        "#   for i in range(Num):\n",
        "#     index = random.randint(0,Num-1)\n",
        "#     x_sequence.append(BasicSet[0][index])\n",
        "#     y_sequence.append(BasicSet[1][index])\n",
        "#   return (np.array(x_sequence),np.array(y_sequence))"
      ],
      "execution_count": null,
      "outputs": []
    },
    {
      "cell_type": "code",
      "metadata": {
        "id": "QE_WXcMMt1kP"
      },
      "source": [
        "NUM_CLIENTS = 12\n",
        "NUM_TRAIN_SAMPLE_CLIENT = 2560\n",
        "NUM_TEST_SAMPLE_CLIENT = 256"
      ],
      "execution_count": 28,
      "outputs": []
    },
    {
      "cell_type": "code",
      "metadata": {
        "id": "-Tmf__umcO1l",
        "colab": {
          "base_uri": "https://localhost:8080/"
        },
        "outputId": "eed134c2-b927-4783-a51e-fd41fde74194"
      },
      "source": [
        "clients=[]\n",
        "for i in range(NUM_CLIENTS):\n",
        "  clients.append(Client(i,\n",
        "                        Train_dataset=create_data_for_clients(letters_dataset,NUM_TRAIN_SAMPLE_CLIENT,TargetRate=random.random()),\n",
        "                        Test_dataset=create_data_for_clients(letters_dataset,NUM_TEST_SAMPLE_CLIENT))\n",
        "  )"
      ],
      "execution_count": 37,
      "outputs": [
        {
          "output_type": "stream",
          "text": [
            "1236 1324\n",
            "179 77\n",
            "2408 152\n",
            "179 77\n",
            "1870 690\n",
            "179 77\n",
            "111 2449\n",
            "179 77\n",
            "884 1676\n",
            "179 77\n",
            "131 2429\n",
            "179 77\n",
            "1447 1113\n",
            "179 77\n",
            "1122 1438\n",
            "179 77\n",
            "1290 1270\n",
            "179 77\n",
            "363 2197\n",
            "179 77\n",
            "729 1831\n",
            "179 77\n",
            "719 1841\n",
            "179 77\n"
          ],
          "name": "stdout"
        }
      ]
    },
    {
      "cell_type": "markdown",
      "metadata": {
        "id": "V9Jjje417iuZ"
      },
      "source": [
        "Show DataSet"
      ]
    },
    {
      "cell_type": "code",
      "metadata": {
        "id": "8CsXpPMR7icz"
      },
      "source": [
        "import matplotlib.pyplot as plt"
      ],
      "execution_count": 14,
      "outputs": []
    },
    {
      "cell_type": "code",
      "metadata": {
        "colab": {
          "base_uri": "https://localhost:8080/",
          "height": 879
        },
        "id": "7RO4LfKq72nf",
        "outputId": "612d9f96-acbf-4047-fe19-d68ba37e25f5"
      },
      "source": [
        "f = plt.figure(figsize=(15,15))\n",
        "for i in range(NUM_CLIENTS):\n",
        "  client_dataset = clients[i].Train_dataset\n",
        "  plot_data = collections.defaultdict(list)\n",
        "  for label in client_dataset[1]:\n",
        "    plot_data[label].append(label)\n",
        "  plt.subplot(3,4,i+1)\n",
        "  plt.title('Client {}'.format(i))\n",
        "  for j in range(len(plot_data)):\n",
        "    plt.hist(\n",
        "        plot_data[j],\n",
        "        density = False,\n",
        "        bins = [x for x in range(len(plot_data)+1)]\n",
        "    )"
      ],
      "execution_count": 38,
      "outputs": [
        {
          "output_type": "display_data",
          "data": {
            "image/png": "[encoded data removed]",
            "text/plain": [
              "<Figure size 1080x1080 with 12 Axes>"
            ]
          },
          "metadata": {
            "tags": [],
            "needs_background": "light"
          }
        }
      ]
    },
    {
      "cell_type": "markdown",
      "metadata": {
        "id": "JfqcXNr8jqi1"
      },
      "source": [
        "显示一下数字与字母的对比\n"
      ]
    },
    {
      "cell_type": "code",
      "metadata": {
        "colab": {
          "base_uri": "https://localhost:8080/",
          "height": 862
        },
        "id": "SkJ-l1ZSjpWf",
        "outputId": "d219b232-5328-42d6-dea6-3e117d5c1bd1"
      },
      "source": [
        "f = plt.figure(figsize=(15,15))\n",
        "for i in range(NUM_CLIENTS):\n",
        "  client_dataset = clients[i].Train_dataset\n",
        "  plot_data = {0:0,1:0}\n",
        "  plot_labels = ['digits','letters']\n",
        "  for label in client_dataset[1]:\n",
        "    label = 0 if label < 10 else 1\n",
        "    plot_data[label]+=1\n",
        "  # print(plot_data)\n",
        "  data_labels = list(sorted(plot_data.keys()))\n",
        "  # print(data_labels)\n",
        "  data_nums = [plot_data[i] for i in data_labels]\n",
        "  colors = ['red','blue']\n",
        "  plt.subplot(3,4,i+1)\n",
        "  patches,text1,text2 = plt.pie(data_nums,\n",
        "                              labels=plot_labels,\n",
        "                              autopct='%3.2f%%',\n",
        "                              shadow=False,\n",
        "                              startangle=90,\n",
        "                              pctdistance=0.6)\n",
        "  plt.axis('equal')\n",
        "  plt.title('Client {}'.format(i))\n",
        "plt.show()\n"
      ],
      "execution_count": 39,
      "outputs": [
        {
          "output_type": "display_data",
          "data": {
            "image/png": "[encoded data removed]",
            "text/plain": [
              "<Figure size 1080x1080 with 12 Axes>"
            ]
          },
          "metadata": {
            "tags": []
          }
        }
      ]
    },
    {
      "cell_type": "code",
      "metadata": {
        "id": "UWBR9P212HDF"
      },
      "source": [
        ""
      ],
      "execution_count": null,
      "outputs": []
    },
    {
      "cell_type": "markdown",
      "metadata": {
        "id": "6PVxsGIpvlLn"
      },
      "source": [
        "#阶段二：中央服务器下发模型"
      ]
    },
    {
      "cell_type": "markdown",
      "metadata": {
        "id": "A5NIsOQgRp9h"
      },
      "source": [
        "Distance Between two models"
      ]
    },
    {
      "cell_type": "code",
      "metadata": {
        "id": "fX5rrSBk72Vw"
      },
      "source": [
        "def Distance(HookModel,TestModel):\n",
        "  len_it = len(HookModel.trainable_variables)\n",
        "  Hook_weights=[]\n",
        "  Test_weights=[]\n",
        "  for index in range(len_it):\n",
        "    Hook_weights.append(HookModel.trainable_variables[index].numpy())\n",
        "    Test_weights.append(TestModel.trainable_variables[index].numpy())\n",
        "  target = []\n",
        "  dis_norm2=[]\n",
        "  for i in range(len_it):\n",
        "    target.append(Hook_weights[i]-Test_weights[i])\n",
        "    dis_norm2.append(np.linalg.norm(target[i],2))\n",
        "  weight_weights = np.ones([len_it,1])\n",
        "  #调整权重\n",
        "  # weight_weights[0]=0\n",
        "  # weight_weights[1]=0\n",
        "  dis = np.dot(dis_norm2,weight_weights)\n",
        "  return dis\n",
        "  # return dis_norm2"
      ],
      "execution_count": 40,
      "outputs": []
    },
    {
      "cell_type": "code",
      "metadata": {
        "id": "KI9PCWxY716I"
      },
      "source": [
        "def BetterNode(clients,model,Total_NUM,FedAvg_NUM):\n",
        "  NodeDict=collections.OrderedDict()\n",
        "  for i in range(Total_NUM):\n",
        "    NodeDict[i] = Distance(model,clients[i].model)\n",
        "  Dlst = sorted(NodeDict.items(),key=lambda x:x[1])\n",
        "  NodeList = []\n",
        "  for i in range(FedAvg_NUM):\n",
        "    NodeList.append(Dlst[i][0])\n",
        "  return NodeList"
      ],
      "execution_count": 41,
      "outputs": []
    },
    {
      "cell_type": "markdown",
      "metadata": {
        "id": "_uNjI7abv3Vs"
      },
      "source": [
        "模型初始化"
      ]
    },
    {
      "cell_type": "code",
      "metadata": {
        "id": "PLJekuPtvxZl"
      },
      "source": [
        "InitModel = FLModel(row=28,col=28,num_classes=10)\n",
        "S = ParamServer(\"\")"
      ],
      "execution_count": 42,
      "outputs": []
    },
    {
      "cell_type": "code",
      "metadata": {
        "colab": {
          "base_uri": "https://localhost:8080/"
        },
        "id": "gd-HUkdMvxPV",
        "outputId": "e01df803-8ec0-4284-9c56-79beaf117082"
      },
      "source": [
        "S.PreEval(InitModel,x_test,y_test)"
      ],
      "execution_count": 43,
      "outputs": [
        {
          "output_type": "stream",
          "text": [
            "313/313 [==============================] - 1s 2ms/step - loss: 2.3641 - accuracy: 0.0612\n"
          ],
          "name": "stdout"
        }
      ]
    },
    {
      "cell_type": "code",
      "metadata": {
        "id": "UA00ouhWU28h"
      },
      "source": [
        "SendModel = InitModel"
      ],
      "execution_count": 44,
      "outputs": []
    },
    {
      "cell_type": "code",
      "metadata": {
        "colab": {
          "base_uri": "https://localhost:8080/"
        },
        "id": "SGo2NYXsv96h",
        "outputId": "2f600985-d0eb-4912-9b1d-67a202c92b15"
      },
      "source": [
        "SendModel = S.PreTrain(InitModel,x_train[0:200],y_train[0:200],epochs=1)\n",
        "S.PreEval(SendModel,x_test,y_test)"
      ],
      "execution_count": 45,
      "outputs": [
        {
          "output_type": "stream",
          "text": [
            "7/7 [==============================] - 0s 4ms/step - loss: 2.1884 - accuracy: 0.1802\n",
            "313/313 [==============================] - 1s 2ms/step - loss: 1.6845 - accuracy: 0.5640\n"
          ],
          "name": "stdout"
        }
      ]
    },
    {
      "cell_type": "markdown",
      "metadata": {
        "id": "7OmptaMzpR0P"
      },
      "source": [
        "# 阶段三：Clients 训练节点数据并聚合\n"
      ]
    },
    {
      "cell_type": "code",
      "metadata": {
        "id": "kr2PkfomvfWw"
      },
      "source": [
        ""
      ],
      "execution_count": null,
      "outputs": []
    },
    {
      "cell_type": "code",
      "metadata": {
        "id": "ve8Dc1KewGH_"
      },
      "source": [
        "def FedAvg(NUM_CLIENTS,model,FedAvg_NUM=7):\n",
        "  iterModel = model.copy()\n",
        "  len_it = len(iterModel.trainable_variables)\n",
        "  all_weights = []\n",
        "  FedNodeList=BetterNode(clients,iterModel,NUM_CLIENTS,FedAvg_NUM)\n",
        "  print(\"FedAvg Node is\",FedNodeList)\n",
        "  # Cut=2\n",
        "  # for c in range(Cut):\n",
        "  #   # tmp =np.array(iterModel.trainable_variables[c].numpy(),dtype='float64')\n",
        "  #   all_weights.append(iterModel.trainable_variables[c].numpy())\n",
        "\n",
        "  for weights_index in range(len_it):\n",
        "    tmp =np.zeros(iterModel.trainable_variables[weights_index].numpy().shape,dtype='float64')\n",
        "\n",
        "    for node in FedNodeList:\n",
        "      tmp += clients[node].model.trainable_variables[weights_index].numpy()\n",
        "    all_weights.append(tmp/FedAvg_NUM)\n",
        "  # print(all_weights)\n",
        "  iterModel_vars = iterModel.trainable_variables\n",
        "  for iter_v,n in zip(iterModel_vars,all_weights):\n",
        "    iter_v.assign(n)\n",
        "  return (iterModel,FedNodeList)"
      ],
      "execution_count": 46,
      "outputs": []
    },
    {
      "cell_type": "code",
      "metadata": {
        "id": "jl3dF36dw2hC"
      },
      "source": [
        "NUM_EPOCHS = 20"
      ],
      "execution_count": 47,
      "outputs": []
    },
    {
      "cell_type": "code",
      "metadata": {
        "id": "ocfoXDNgyTdP",
        "colab": {
          "base_uri": "https://localhost:8080/"
        },
        "outputId": "c12170af-098f-411a-e62f-42e562bd51c4"
      },
      "source": [
        "NodeList = []\n",
        "participator=NUM_CLIENTS\n",
        "for e in range(NUM_EPOCHS):\n",
        "  print(\"EPOCHS {} is starting...\".format(e))\n",
        "  for i in range(NUM_CLIENTS):\n",
        "    clients[i].ReceiveModel(SendModel.copy(),)\n",
        "    clients[i].NodeTrain()\n",
        "    # clients[i].NodeEval()\n",
        "    # DIS.append(Distance(SendModel,clients[i].model))\n",
        "  if participator < int(0.6*NUM_CLIENTS):\n",
        "    participator = int(0.6*NUM_CLIENTS) \n",
        "  FedModel,li = FedAvg(NUM_CLIENTS,SendModel,FedAvg_NUM=participator)\n",
        "  participator = participator-1\n",
        "  NodeList.append(li)\n",
        "  S.PreEval(FedModel,x_test,y_test)\n",
        "  SendModel = FedModel.copy()"
      ],
      "execution_count": 48,
      "outputs": [
        {
          "output_type": "stream",
          "text": [
            "EPOCHS 0 is starting...\n",
            "80/80 [==============================] - 1s 4ms/step - loss: 24.1137 - accuracy: 0.3911\n",
            "80/80 [==============================] - 1s 4ms/step - loss: 39.3820 - accuracy: 0.6575\n",
            "80/80 [==============================] - 1s 4ms/step - loss: 27.0086 - accuracy: 0.5526\n",
            "80/80 [==============================] - 1s 5ms/step - loss: 5.8964 - accuracy: 0.1233\n",
            "80/80 [==============================] - 1s 5ms/step - loss: 19.9019 - accuracy: 0.3056\n",
            "80/80 [==============================] - 1s 5ms/step - loss: 5.3030 - accuracy: 0.1283\n",
            "80/80 [==============================] - 1s 5ms/step - loss: 31.5154 - accuracy: 0.4166\n",
            "80/80 [==============================] - 1s 5ms/step - loss: 27.4656 - accuracy: 0.3300\n",
            "80/80 [==============================] - 1s 5ms/step - loss: 23.4415 - accuracy: 0.3752\n",
            "80/80 [==============================] - 1s 4ms/step - loss: 12.9629 - accuracy: 0.1597\n",
            "80/80 [==============================] - 1s 4ms/step - loss: 18.9266 - accuracy: 0.2718\n",
            "80/80 [==============================] - 1s 4ms/step - loss: 16.5832 - accuracy: 0.2542\n",
            "FedAvg Node is [1, 6, 2, 4, 0, 11, 8, 7, 10, 9, 3, 5]\n",
            "313/313 [==============================] - 1s 2ms/step - loss: 1.5695 - accuracy: 0.8607\n",
            "EPOCHS 1 is starting...\n",
            "80/80 [==============================] - 1s 4ms/step - loss: 8.5948 - accuracy: 0.4097\n",
            "80/80 [==============================] - 1s 4ms/step - loss: 11.0452 - accuracy: 0.7814\n",
            "80/80 [==============================] - 1s 4ms/step - loss: 9.4105 - accuracy: 0.6081\n",
            "80/80 [==============================] - 1s 4ms/step - loss: 3.0201 - accuracy: 0.1340\n",
            "80/80 [==============================] - 1s 4ms/step - loss: 7.5103 - accuracy: 0.3362\n",
            "80/80 [==============================] - 1s 5ms/step - loss: 3.1967 - accuracy: 0.1378\n",
            "80/80 [==============================] - 1s 5ms/step - loss: 8.8152 - accuracy: 0.4886\n",
            "80/80 [==============================] - 1s 5ms/step - loss: 7.4996 - accuracy: 0.4144\n",
            "80/80 [==============================] - 1s 5ms/step - loss: 7.2489 - accuracy: 0.4502\n",
            "80/80 [==============================] - 1s 5ms/step - loss: 4.8676 - accuracy: 0.1898\n",
            "80/80 [==============================] - 1s 4ms/step - loss: 6.5623 - accuracy: 0.2850\n",
            "80/80 [==============================] - 1s 4ms/step - loss: 5.7031 - accuracy: 0.2877\n",
            "FedAvg Node is [1, 2, 0, 6, 4, 7, 8, 11, 10, 9, 3]\n",
            "313/313 [==============================] - 1s 2ms/step - loss: 1.8646 - accuracy: 0.8761\n",
            "EPOCHS 2 is starting...\n",
            "80/80 [==============================] - 1s 4ms/step - loss: 3.8118 - accuracy: 0.4673\n",
            "80/80 [==============================] - 1s 4ms/step - loss: 5.3779 - accuracy: 0.7900\n",
            "80/80 [==============================] - 1s 4ms/step - loss: 3.9043 - accuracy: 0.6606\n",
            "80/80 [==============================] - 1s 4ms/step - loss: 2.6467 - accuracy: 0.1456\n",
            "80/80 [==============================] - 1s 4ms/step - loss: 4.0346 - accuracy: 0.3658\n",
            "80/80 [==============================] - 1s 4ms/step - loss: 2.5183 - accuracy: 0.1462\n",
            "80/80 [==============================] - 1s 4ms/step - loss: 4.2870 - accuracy: 0.5097\n",
            "80/80 [==============================] - 1s 4ms/step - loss: 4.1298 - accuracy: 0.4269\n",
            "80/80 [==============================] - 1s 4ms/step - loss: 4.3073 - accuracy: 0.4515\n",
            "80/80 [==============================] - 1s 4ms/step - loss: 3.0105 - accuracy: 0.2090\n",
            "80/80 [==============================] - 1s 4ms/step - loss: 3.6649 - accuracy: 0.3178\n",
            "80/80 [==============================] - 1s 4ms/step - loss: 3.3337 - accuracy: 0.2943\n",
            "FedAvg Node is [1, 2, 6, 0, 8, 7, 4, 10, 11, 9]\n",
            "313/313 [==============================] - 1s 2ms/step - loss: 2.0531 - accuracy: 0.8680\n",
            "EPOCHS 3 is starting...\n",
            "80/80 [==============================] - 1s 4ms/step - loss: 2.3778 - accuracy: 0.4900\n",
            "80/80 [==============================] - 1s 4ms/step - loss: 2.3550 - accuracy: 0.8173\n",
            "80/80 [==============================] - 1s 4ms/step - loss: 2.5565 - accuracy: 0.6483\n",
            "80/80 [==============================] - 1s 4ms/step - loss: 2.3769 - accuracy: 0.1520\n",
            "80/80 [==============================] - 1s 4ms/step - loss: 2.3557 - accuracy: 0.3679\n",
            "80/80 [==============================] - 1s 5ms/step - loss: 2.4890 - accuracy: 0.1277\n",
            "80/80 [==============================] - 1s 4ms/step - loss: 2.6466 - accuracy: 0.5295\n",
            "80/80 [==============================] - 1s 4ms/step - loss: 2.7604 - accuracy: 0.4274\n",
            "80/80 [==============================] - 1s 4ms/step - loss: 2.9293 - accuracy: 0.4688\n",
            "80/80 [==============================] - 1s 4ms/step - loss: 2.4337 - accuracy: 0.1963\n",
            "80/80 [==============================] - 1s 4ms/step - loss: 2.4184 - accuracy: 0.3301\n",
            "80/80 [==============================] - 1s 4ms/step - loss: 2.7605 - accuracy: 0.3079\n",
            "FedAvg Node is [1, 2, 6, 8, 0, 4, 7, 11, 10]\n",
            "313/313 [==============================] - 1s 2ms/step - loss: 2.1358 - accuracy: 0.8362\n",
            "EPOCHS 4 is starting...\n",
            "80/80 [==============================] - 1s 4ms/step - loss: 2.1993 - accuracy: 0.4692\n",
            "80/80 [==============================] - 1s 5ms/step - loss: 1.7485 - accuracy: 0.8271\n",
            "80/80 [==============================] - 1s 4ms/step - loss: 1.9015 - accuracy: 0.6647\n",
            "80/80 [==============================] - 1s 4ms/step - loss: 2.3779 - accuracy: 0.1335\n",
            "80/80 [==============================] - 1s 5ms/step - loss: 2.3080 - accuracy: 0.3598\n",
            "80/80 [==============================] - 1s 4ms/step - loss: 2.3652 - accuracy: 0.1442\n",
            "80/80 [==============================] - 1s 4ms/step - loss: 2.2104 - accuracy: 0.5360\n",
            "80/80 [==============================] - 1s 4ms/step - loss: 2.3789 - accuracy: 0.4568\n",
            "80/80 [==============================] - 1s 4ms/step - loss: 2.2235 - accuracy: 0.4856\n",
            "80/80 [==============================] - 1s 4ms/step - loss: 2.3190 - accuracy: 0.2034\n",
            "80/80 [==============================] - 1s 4ms/step - loss: 2.1821 - accuracy: 0.3338\n",
            "80/80 [==============================] - 1s 4ms/step - loss: 2.3242 - accuracy: 0.3093\n",
            "FedAvg Node is [1, 2, 6, 0, 8, 7, 11, 10]\n",
            "313/313 [==============================] - 1s 2ms/step - loss: 2.1537 - accuracy: 0.8150\n",
            "EPOCHS 5 is starting...\n",
            "80/80 [==============================] - 1s 5ms/step - loss: 1.9283 - accuracy: 0.4754\n",
            "80/80 [==============================] - 1s 4ms/step - loss: 1.5322 - accuracy: 0.8232\n",
            "80/80 [==============================] - 1s 5ms/step - loss: 1.7795 - accuracy: 0.6671\n",
            "80/80 [==============================] - 1s 5ms/step - loss: 2.3717 - accuracy: 0.1347\n",
            "80/80 [==============================] - 1s 4ms/step - loss: 2.1545 - accuracy: 0.3730\n",
            "80/80 [==============================] - 1s 5ms/step - loss: 2.3648 - accuracy: 0.1470\n",
            "80/80 [==============================] - 1s 4ms/step - loss: 2.0091 - accuracy: 0.5273\n",
            "80/80 [==============================] - 1s 4ms/step - loss: 2.1017 - accuracy: 0.4579\n",
            "80/80 [==============================] - 1s 4ms/step - loss: 1.9822 - accuracy: 0.4808\n",
            "80/80 [==============================] - 1s 4ms/step - loss: 2.3161 - accuracy: 0.2103\n",
            "80/80 [==============================] - 1s 4ms/step - loss: 2.1306 - accuracy: 0.3418\n",
            "80/80 [==============================] - 1s 4ms/step - loss: 2.1603 - accuracy: 0.3226\n",
            "FedAvg Node is [1, 2, 6, 8, 7, 0, 10]\n",
            "313/313 [==============================] - 1s 2ms/step - loss: 2.1519 - accuracy: 0.8124\n",
            "EPOCHS 6 is starting...\n",
            "80/80 [==============================] - 1s 4ms/step - loss: 1.8199 - accuracy: 0.4858\n",
            "80/80 [==============================] - 1s 4ms/step - loss: 1.3570 - accuracy: 0.8449\n",
            "80/80 [==============================] - 1s 4ms/step - loss: 1.5016 - accuracy: 0.6944\n",
            "80/80 [==============================] - 1s 4ms/step - loss: 2.3150 - accuracy: 0.1520\n",
            "80/80 [==============================] - 1s 4ms/step - loss: 2.0145 - accuracy: 0.3521\n",
            "80/80 [==============================] - 1s 4ms/step - loss: 2.3186 - accuracy: 0.1295\n",
            "80/80 [==============================] - 1s 4ms/step - loss: 1.9788 - accuracy: 0.5480\n",
            "80/80 [==============================] - 1s 4ms/step - loss: 2.0400 - accuracy: 0.4765\n",
            "80/80 [==============================] - 1s 4ms/step - loss: 1.9044 - accuracy: 0.4995\n",
            "80/80 [==============================] - 1s 4ms/step - loss: 2.2273 - accuracy: 0.2034\n",
            "80/80 [==============================] - 1s 4ms/step - loss: 2.0695 - accuracy: 0.3421\n",
            "80/80 [==============================] - 1s 4ms/step - loss: 2.1045 - accuracy: 0.3292\n",
            "FedAvg Node is [1, 6, 2, 8, 0, 4, 11]\n",
            "313/313 [==============================] - 1s 2ms/step - loss: 2.1459 - accuracy: 0.8363\n",
            "EPOCHS 7 is starting...\n",
            "80/80 [==============================] - 1s 4ms/step - loss: 1.7986 - accuracy: 0.4788\n",
            "80/80 [==============================] - 1s 4ms/step - loss: 1.1188 - accuracy: 0.8556\n",
            "80/80 [==============================] - 1s 4ms/step - loss: 1.5099 - accuracy: 0.6884\n",
            "80/80 [==============================] - 1s 4ms/step - loss: 2.3285 - accuracy: 0.1298\n",
            "80/80 [==============================] - 1s 4ms/step - loss: 1.9079 - accuracy: 0.3970\n",
            "80/80 [==============================] - 1s 4ms/step - loss: 2.3041 - accuracy: 0.1516\n",
            "80/80 [==============================] - 1s 4ms/step - loss: 1.6920 - accuracy: 0.5570\n",
            "80/80 [==============================] - 1s 4ms/step - loss: 1.9610 - accuracy: 0.4624\n",
            "80/80 [==============================] - 1s 4ms/step - loss: 2.0016 - accuracy: 0.4888\n",
            "80/80 [==============================] - 1s 5ms/step - loss: 2.2922 - accuracy: 0.2133\n",
            "80/80 [==============================] - 1s 5ms/step - loss: 2.2116 - accuracy: 0.3401\n",
            "80/80 [==============================] - 1s 4ms/step - loss: 2.0924 - accuracy: 0.3348\n",
            "FedAvg Node is [1, 2, 8, 6, 0, 9, 7]\n",
            "313/313 [==============================] - 1s 2ms/step - loss: 2.1355 - accuracy: 0.8460\n",
            "EPOCHS 8 is starting...\n",
            "80/80 [==============================] - 1s 4ms/step - loss: 1.8842 - accuracy: 0.4913\n",
            "80/80 [==============================] - 1s 4ms/step - loss: 1.1668 - accuracy: 0.8477\n",
            "80/80 [==============================] - 1s 5ms/step - loss: 1.4155 - accuracy: 0.6915\n",
            "80/80 [==============================] - 1s 4ms/step - loss: 2.3090 - accuracy: 0.1433\n",
            "80/80 [==============================] - 1s 4ms/step - loss: 2.0180 - accuracy: 0.3831\n",
            "80/80 [==============================] - 1s 4ms/step - loss: 2.3027 - accuracy: 0.1316\n",
            "80/80 [==============================] - 1s 4ms/step - loss: 1.6391 - accuracy: 0.5610\n",
            "80/80 [==============================] - 1s 4ms/step - loss: 2.0059 - accuracy: 0.4503\n",
            "80/80 [==============================] - 1s 4ms/step - loss: 1.8343 - accuracy: 0.5097\n",
            "80/80 [==============================] - 1s 5ms/step - loss: 2.1979 - accuracy: 0.2280\n",
            "80/80 [==============================] - 1s 4ms/step - loss: 2.0742 - accuracy: 0.3397\n",
            "80/80 [==============================] - 1s 4ms/step - loss: 2.0670 - accuracy: 0.3206\n",
            "FedAvg Node is [1, 2, 6, 0, 11, 4, 9]\n",
            "313/313 [==============================] - 1s 2ms/step - loss: 2.1228 - accuracy: 0.8566\n",
            "EPOCHS 9 is starting...\n",
            "80/80 [==============================] - 1s 5ms/step - loss: 1.6992 - accuracy: 0.5079\n",
            "80/80 [==============================] - 1s 4ms/step - loss: 1.0071 - accuracy: 0.8682\n",
            "80/80 [==============================] - 1s 4ms/step - loss: 1.3321 - accuracy: 0.7048\n",
            "80/80 [==============================] - 1s 4ms/step - loss: 2.3130 - accuracy: 0.1343\n",
            "80/80 [==============================] - 1s 5ms/step - loss: 1.9331 - accuracy: 0.4043\n",
            "80/80 [==============================] - 1s 4ms/step - loss: 2.2810 - accuracy: 0.1500\n",
            "80/80 [==============================] - 1s 4ms/step - loss: 1.5572 - accuracy: 0.5810\n",
            "80/80 [==============================] - 1s 5ms/step - loss: 1.9119 - accuracy: 0.4551\n",
            "80/80 [==============================] - 1s 5ms/step - loss: 1.9101 - accuracy: 0.5050\n",
            "80/80 [==============================] - 1s 4ms/step - loss: 2.2074 - accuracy: 0.2406\n",
            "80/80 [==============================] - 1s 4ms/step - loss: 1.9491 - accuracy: 0.3344\n",
            "80/80 [==============================] - 1s 4ms/step - loss: 2.1410 - accuracy: 0.3142\n",
            "FedAvg Node is [1, 2, 0, 6, 11, 4, 8]\n",
            "313/313 [==============================] - 1s 2ms/step - loss: 2.0945 - accuracy: 0.8801\n",
            "EPOCHS 10 is starting...\n",
            "80/80 [==============================] - 1s 4ms/step - loss: 1.7213 - accuracy: 0.4997\n",
            "80/80 [==============================] - 1s 4ms/step - loss: 1.0537 - accuracy: 0.8615\n",
            "80/80 [==============================] - 1s 4ms/step - loss: 1.3707 - accuracy: 0.7086\n",
            "80/80 [==============================] - 1s 4ms/step - loss: 2.3152 - accuracy: 0.1454\n",
            "80/80 [==============================] - 1s 4ms/step - loss: 1.9386 - accuracy: 0.3965\n",
            "80/80 [==============================] - 1s 4ms/step - loss: 2.2726 - accuracy: 0.1335\n",
            "80/80 [==============================] - 1s 4ms/step - loss: 1.5962 - accuracy: 0.5907\n",
            "80/80 [==============================] - 1s 4ms/step - loss: 2.0218 - accuracy: 0.4769\n",
            "80/80 [==============================] - 1s 4ms/step - loss: 1.8162 - accuracy: 0.5092\n",
            "80/80 [==============================] - 1s 4ms/step - loss: 2.2164 - accuracy: 0.2236\n",
            "80/80 [==============================] - 1s 4ms/step - loss: 2.1101 - accuracy: 0.3357\n",
            "80/80 [==============================] - 1s 4ms/step - loss: 2.0112 - accuracy: 0.3528\n",
            "FedAvg Node is [1, 6, 2, 8, 11, 0, 4]\n",
            "313/313 [==============================] - 1s 2ms/step - loss: 2.0694 - accuracy: 0.8968\n",
            "EPOCHS 11 is starting...\n",
            "80/80 [==============================] - 1s 4ms/step - loss: 1.7673 - accuracy: 0.5063\n",
            "80/80 [==============================] - 1s 4ms/step - loss: 1.1373 - accuracy: 0.8869\n",
            "80/80 [==============================] - 1s 4ms/step - loss: 1.2002 - accuracy: 0.7227\n",
            "80/80 [==============================] - 1s 4ms/step - loss: 2.3332 - accuracy: 0.1467\n",
            "80/80 [==============================] - 1s 4ms/step - loss: 1.9861 - accuracy: 0.4082\n",
            "80/80 [==============================] - 1s 4ms/step - loss: 2.2415 - accuracy: 0.1496\n",
            "80/80 [==============================] - 1s 4ms/step - loss: 1.8080 - accuracy: 0.5852\n",
            "80/80 [==============================] - 1s 4ms/step - loss: 2.0027 - accuracy: 0.4419\n",
            "80/80 [==============================] - 1s 4ms/step - loss: 1.7565 - accuracy: 0.5230\n",
            "80/80 [==============================] - 1s 5ms/step - loss: 2.2383 - accuracy: 0.2196\n",
            "80/80 [==============================] - 1s 4ms/step - loss: 2.0915 - accuracy: 0.3354\n",
            "80/80 [==============================] - 1s 4ms/step - loss: 2.0298 - accuracy: 0.3516\n",
            "FedAvg Node is [1, 6, 0, 2, 8, 7, 11]\n",
            "313/313 [==============================] - 1s 2ms/step - loss: 2.0635 - accuracy: 0.8901\n",
            "EPOCHS 12 is starting...\n",
            "80/80 [==============================] - 1s 4ms/step - loss: 1.6918 - accuracy: 0.4994\n",
            "80/80 [==============================] - 1s 4ms/step - loss: 1.0211 - accuracy: 0.8911\n",
            "80/80 [==============================] - 1s 4ms/step - loss: 1.3020 - accuracy: 0.7214\n",
            "80/80 [==============================] - 1s 4ms/step - loss: 2.3101 - accuracy: 0.1309\n",
            "80/80 [==============================] - 1s 4ms/step - loss: 1.9893 - accuracy: 0.3813\n",
            "80/80 [==============================] - 1s 4ms/step - loss: 2.3481 - accuracy: 0.1298\n",
            "80/80 [==============================] - 1s 4ms/step - loss: 1.5647 - accuracy: 0.5884\n",
            "80/80 [==============================] - 1s 4ms/step - loss: 1.9924 - accuracy: 0.4699\n",
            "80/80 [==============================] - 1s 4ms/step - loss: 1.7730 - accuracy: 0.5344\n",
            "80/80 [==============================] - 1s 4ms/step - loss: 2.2146 - accuracy: 0.2193\n",
            "80/80 [==============================] - 1s 4ms/step - loss: 2.1577 - accuracy: 0.3579\n",
            "80/80 [==============================] - 1s 4ms/step - loss: 1.9748 - accuracy: 0.3430\n",
            "FedAvg Node is [1, 2, 6, 8, 4, 0, 11]\n",
            "313/313 [==============================] - 1s 2ms/step - loss: 2.0236 - accuracy: 0.8989\n",
            "EPOCHS 13 is starting...\n",
            "80/80 [==============================] - 1s 4ms/step - loss: 1.7820 - accuracy: 0.5034\n",
            "80/80 [==============================] - 1s 5ms/step - loss: 0.9628 - accuracy: 0.8805\n",
            "80/80 [==============================] - 1s 4ms/step - loss: 1.1708 - accuracy: 0.7348\n",
            "80/80 [==============================] - 1s 4ms/step - loss: 2.3185 - accuracy: 0.1351\n",
            "80/80 [==============================] - 1s 5ms/step - loss: 1.9781 - accuracy: 0.3995\n",
            "80/80 [==============================] - 1s 4ms/step - loss: 2.2639 - accuracy: 0.1554\n",
            "80/80 [==============================] - 1s 4ms/step - loss: 1.6446 - accuracy: 0.5832\n",
            "80/80 [==============================] - 1s 4ms/step - loss: 1.9444 - accuracy: 0.4556\n",
            "80/80 [==============================] - 1s 5ms/step - loss: 1.7806 - accuracy: 0.5218\n",
            "80/80 [==============================] - 1s 4ms/step - loss: 2.2200 - accuracy: 0.2484\n",
            "80/80 [==============================] - 1s 4ms/step - loss: 2.0522 - accuracy: 0.3397\n",
            "80/80 [==============================] - 1s 5ms/step - loss: 2.0340 - accuracy: 0.3421\n",
            "FedAvg Node is [1, 6, 2, 11, 4, 8, 0]\n",
            "313/313 [==============================] - 1s 2ms/step - loss: 2.0059 - accuracy: 0.9087\n",
            "EPOCHS 14 is starting...\n",
            "80/80 [==============================] - 1s 5ms/step - loss: 1.6822 - accuracy: 0.5192\n",
            "80/80 [==============================] - 1s 4ms/step - loss: 0.8994 - accuracy: 0.8931\n",
            "80/80 [==============================] - 1s 4ms/step - loss: 1.3491 - accuracy: 0.7147\n",
            "80/80 [==============================] - 1s 4ms/step - loss: 2.3130 - accuracy: 0.1361\n",
            "80/80 [==============================] - 1s 4ms/step - loss: 2.0506 - accuracy: 0.4099\n",
            "80/80 [==============================] - 1s 4ms/step - loss: 2.2657 - accuracy: 0.1517\n",
            "80/80 [==============================] - 1s 4ms/step - loss: 1.7880 - accuracy: 0.5841\n",
            "80/80 [==============================] - 1s 4ms/step - loss: 1.8903 - accuracy: 0.4671\n",
            "80/80 [==============================] - 1s 4ms/step - loss: 1.8974 - accuracy: 0.5313\n",
            "80/80 [==============================] - 1s 4ms/step - loss: 2.3550 - accuracy: 0.2124\n",
            "80/80 [==============================] - 1s 4ms/step - loss: 2.2327 - accuracy: 0.3336\n",
            "80/80 [==============================] - 1s 4ms/step - loss: 1.9416 - accuracy: 0.3485\n",
            "FedAvg Node is [1, 2, 0, 8, 6, 4, 11]\n",
            "313/313 [==============================] - 1s 2ms/step - loss: 1.9986 - accuracy: 0.9054\n",
            "EPOCHS 15 is starting...\n",
            "80/80 [==============================] - 1s 4ms/step - loss: 1.7318 - accuracy: 0.5302\n",
            "80/80 [==============================] - 1s 4ms/step - loss: 0.9951 - accuracy: 0.8907\n",
            "80/80 [==============================] - 1s 4ms/step - loss: 1.3607 - accuracy: 0.7357\n",
            "80/80 [==============================] - 1s 4ms/step - loss: 2.2714 - accuracy: 0.1506\n",
            "80/80 [==============================] - 1s 4ms/step - loss: 1.8888 - accuracy: 0.4154\n",
            "80/80 [==============================] - 1s 4ms/step - loss: 2.3110 - accuracy: 0.1735\n",
            "80/80 [==============================] - 1s 4ms/step - loss: 1.4877 - accuracy: 0.6001\n",
            "80/80 [==============================] - 1s 4ms/step - loss: 1.7244 - accuracy: 0.4725\n",
            "80/80 [==============================] - 1s 4ms/step - loss: 1.7139 - accuracy: 0.5382\n",
            "80/80 [==============================] - 1s 4ms/step - loss: 2.2388 - accuracy: 0.2207\n",
            "80/80 [==============================] - 1s 4ms/step - loss: 2.1471 - accuracy: 0.3353\n",
            "80/80 [==============================] - 1s 5ms/step - loss: 1.9061 - accuracy: 0.3882\n",
            "FedAvg Node is [1, 2, 6, 8, 11, 0, 4]\n",
            "313/313 [==============================] - 1s 2ms/step - loss: 1.9855 - accuracy: 0.9095\n",
            "EPOCHS 16 is starting...\n",
            "80/80 [==============================] - 1s 4ms/step - loss: 1.6558 - accuracy: 0.5196\n",
            "80/80 [==============================] - 1s 4ms/step - loss: 0.9136 - accuracy: 0.8940\n",
            "80/80 [==============================] - 1s 4ms/step - loss: 1.2493 - accuracy: 0.7370\n",
            "80/80 [==============================] - 1s 4ms/step - loss: 2.3271 - accuracy: 0.1440\n",
            "80/80 [==============================] - 1s 5ms/step - loss: 1.8588 - accuracy: 0.4044\n",
            "80/80 [==============================] - 1s 5ms/step - loss: 2.3052 - accuracy: 0.1432\n",
            "80/80 [==============================] - 1s 4ms/step - loss: 1.5661 - accuracy: 0.5910\n",
            "80/80 [==============================] - 1s 4ms/step - loss: 2.1061 - accuracy: 0.4544\n",
            "80/80 [==============================] - 1s 4ms/step - loss: 1.8678 - accuracy: 0.5300\n",
            "80/80 [==============================] - 1s 4ms/step - loss: 2.3256 - accuracy: 0.2223\n",
            "80/80 [==============================] - 1s 5ms/step - loss: 2.2698 - accuracy: 0.3447\n",
            "80/80 [==============================] - 1s 4ms/step - loss: 1.8598 - accuracy: 0.3623\n",
            "FedAvg Node is [1, 2, 8, 6, 11, 0, 10]\n",
            "313/313 [==============================] - 1s 2ms/step - loss: 1.9723 - accuracy: 0.9050\n",
            "EPOCHS 17 is starting...\n",
            "80/80 [==============================] - 1s 4ms/step - loss: 1.8094 - accuracy: 0.5315\n",
            "80/80 [==============================] - 1s 4ms/step - loss: 0.8675 - accuracy: 0.8952\n",
            "80/80 [==============================] - 1s 5ms/step - loss: 1.2662 - accuracy: 0.7160\n",
            "80/80 [==============================] - 1s 5ms/step - loss: 2.3425 - accuracy: 0.1373\n",
            "80/80 [==============================] - 1s 5ms/step - loss: 2.0398 - accuracy: 0.4103\n",
            "80/80 [==============================] - 1s 5ms/step - loss: 2.3177 - accuracy: 0.1429\n",
            "80/80 [==============================] - 1s 5ms/step - loss: 1.6863 - accuracy: 0.5970\n",
            "80/80 [==============================] - 1s 4ms/step - loss: 2.0203 - accuracy: 0.4765\n",
            "80/80 [==============================] - 1s 5ms/step - loss: 1.7087 - accuracy: 0.5378\n",
            "80/80 [==============================] - 1s 5ms/step - loss: 2.4055 - accuracy: 0.2183\n",
            "80/80 [==============================] - 1s 5ms/step - loss: 2.0550 - accuracy: 0.3454\n",
            "80/80 [==============================] - 1s 5ms/step - loss: 1.9443 - accuracy: 0.3733\n",
            "FedAvg Node is [1, 2, 6, 0, 8, 7, 10]\n",
            "313/313 [==============================] - 1s 2ms/step - loss: 1.9863 - accuracy: 0.8974\n",
            "EPOCHS 18 is starting...\n",
            "80/80 [==============================] - 1s 5ms/step - loss: 1.7089 - accuracy: 0.5251\n",
            "80/80 [==============================] - 1s 4ms/step - loss: 0.7797 - accuracy: 0.9008\n",
            "80/80 [==============================] - 1s 4ms/step - loss: 1.2462 - accuracy: 0.7446\n",
            "80/80 [==============================] - 1s 4ms/step - loss: 2.3254 - accuracy: 0.1422\n",
            "80/80 [==============================] - 1s 4ms/step - loss: 2.0156 - accuracy: 0.4011\n",
            "80/80 [==============================] - 1s 4ms/step - loss: 2.2852 - accuracy: 0.1374\n",
            "80/80 [==============================] - 1s 4ms/step - loss: 1.6297 - accuracy: 0.6274\n",
            "80/80 [==============================] - 1s 4ms/step - loss: 1.9473 - accuracy: 0.4555\n",
            "80/80 [==============================] - 1s 4ms/step - loss: 1.6804 - accuracy: 0.5576\n",
            "80/80 [==============================] - 1s 5ms/step - loss: 2.2725 - accuracy: 0.2178\n",
            "80/80 [==============================] - 1s 5ms/step - loss: 2.0475 - accuracy: 0.3474\n",
            "80/80 [==============================] - 1s 4ms/step - loss: 2.0624 - accuracy: 0.3848\n",
            "FedAvg Node is [1, 0, 8, 2, 11, 6, 7]\n",
            "313/313 [==============================] - 1s 3ms/step - loss: 1.9387 - accuracy: 0.9028\n",
            "EPOCHS 19 is starting...\n",
            "80/80 [==============================] - 1s 5ms/step - loss: 1.6013 - accuracy: 0.5486\n",
            "80/80 [==============================] - 1s 4ms/step - loss: 1.0300 - accuracy: 0.8970\n",
            "80/80 [==============================] - 1s 4ms/step - loss: 1.4468 - accuracy: 0.7529\n",
            "80/80 [==============================] - 1s 5ms/step - loss: 2.3778 - accuracy: 0.1372\n",
            "80/80 [==============================] - 1s 4ms/step - loss: 1.9419 - accuracy: 0.4045\n",
            "80/80 [==============================] - 1s 4ms/step - loss: 2.3588 - accuracy: 0.1433\n",
            "80/80 [==============================] - 1s 4ms/step - loss: 1.8467 - accuracy: 0.6157\n",
            "80/80 [==============================] - 1s 4ms/step - loss: 1.9469 - accuracy: 0.4815\n",
            "80/80 [==============================] - 1s 4ms/step - loss: 1.6699 - accuracy: 0.5389\n",
            "80/80 [==============================] - 1s 4ms/step - loss: 2.3251 - accuracy: 0.2345\n",
            "80/80 [==============================] - 1s 5ms/step - loss: 2.0111 - accuracy: 0.3595\n",
            "80/80 [==============================] - 1s 5ms/step - loss: 1.9254 - accuracy: 0.3657\n",
            "FedAvg Node is [1, 2, 6, 8, 11, 7, 4]\n",
            "313/313 [==============================] - 1s 2ms/step - loss: 1.9301 - accuracy: 0.9085\n"
          ],
          "name": "stdout"
        }
      ]
    },
    {
      "cell_type": "code",
      "metadata": {
        "id": "HrqSmK9-9LWe"
      },
      "source": [
        ""
      ],
      "execution_count": null,
      "outputs": []
    },
    {
      "cell_type": "code",
      "metadata": {
        "colab": {
          "base_uri": "https://localhost:8080/",
          "height": 281
        },
        "id": "DHi6uBm58CVw",
        "outputId": "ca491ff3-3ae0-4aee-86d7-d1436f31cbe1"
      },
      "source": [
        "#deal the data\n",
        "S_acc =[S.loss_acc[i][1]*100 for i in range(len(S.loss_acc))]\n",
        "S_loss =[S.loss_acc[i][0] for i in range(len(S.loss_acc))]\n",
        "\n",
        "#prepare show image\n",
        "x = np.arange(len(S.loss_acc))\n",
        "fig = plt.figure()\n",
        "ax1 = fig.add_subplot(111)\n",
        "acc = ax1.plot(x,S_acc,'r',label='Acc')\n",
        "ax1.set_ylabel('Acc')\n",
        "ax1.set_title('Acc-Loss')\n",
        "\n",
        "ax2 = ax1.twinx()\n",
        "loss = ax2.plot(x,S_loss,label='Loss')\n",
        "ax2.set_ylabel('Loss')\n",
        "\n",
        "lns = acc+loss\n",
        "labs = [l.get_label() for l in lns]\n",
        "ax2.legend(lns,labs)\n",
        "plt.show()"
      ],
      "execution_count": 49,
      "outputs": [
        {
          "output_type": "display_data",
          "data": {
            "image/png": "[encoded data removed]",
            "text/plain": [
              "<Figure size 432x288 with 2 Axes>"
            ]
          },
          "metadata": {
            "tags": [],
            "needs_background": "light"
          }
        }
      ]
    },
    {
      "cell_type": "code",
      "metadata": {
        "colab": {
          "base_uri": "https://localhost:8080/"
        },
        "id": "WZkNvbEPDCpA",
        "outputId": "3a13aa08-ace8-4969-d1a0-8c0158dc8852"
      },
      "source": [
        "NodeList"
      ],
      "execution_count": 50,
      "outputs": [
        {
          "output_type": "execute_result",
          "data": {
            "text/plain": [
              "[[1, 6, 2, 4, 0, 11, 8, 7, 10, 9, 3, 5],\n",
              " [1, 2, 0, 6, 4, 7, 8, 11, 10, 9, 3],\n",
              " [1, 2, 6, 0, 8, 7, 4, 10, 11, 9],\n",
              " [1, 2, 6, 8, 0, 4, 7, 11, 10],\n",
              " [1, 2, 6, 0, 8, 7, 11, 10],\n",
              " [1, 2, 6, 8, 7, 0, 10],\n",
              " [1, 6, 2, 8, 0, 4, 11],\n",
              " [1, 2, 8, 6, 0, 9, 7],\n",
              " [1, 2, 6, 0, 11, 4, 9],\n",
              " [1, 2, 0, 6, 11, 4, 8],\n",
              " [1, 6, 2, 8, 11, 0, 4],\n",
              " [1, 6, 0, 2, 8, 7, 11],\n",
              " [1, 2, 6, 8, 4, 0, 11],\n",
              " [1, 6, 2, 11, 4, 8, 0],\n",
              " [1, 2, 0, 8, 6, 4, 11],\n",
              " [1, 2, 6, 8, 11, 0, 4],\n",
              " [1, 2, 8, 6, 11, 0, 10],\n",
              " [1, 2, 6, 0, 8, 7, 10],\n",
              " [1, 0, 8, 2, 11, 6, 7],\n",
              " [1, 2, 6, 8, 11, 7, 4]]"
            ]
          },
          "metadata": {
            "tags": []
          },
          "execution_count": 50
        }
      ]
    },
    {
      "cell_type": "code",
      "metadata": {
        "id": "NTRwgylhDcCO"
      },
      "source": [
        ""
      ],
      "execution_count": null,
      "outputs": []
    },
    {
      "cell_type": "code",
      "metadata": {
        "id": "sDJtUAMiD3vN"
      },
      "source": [
        ""
      ],
      "execution_count": null,
      "outputs": []
    },
    {
      "cell_type": "code",
      "metadata": {
        "colab": {
          "base_uri": "https://localhost:8080/",
          "height": 295
        },
        "id": "8LBgwA24FEVx",
        "outputId": "b1ab50f9-09f4-442a-f332-4f0b71eb0757"
      },
      "source": [
        "#deal the data\n",
        "img = np.ones(shape=(NUM_EPOCHS,NUM_CLIENTS),dtype=int)\n",
        "for i in range(len(NodeList)):\n",
        "  for j in NodeList[i]:\n",
        "    img[i][j]=0\n",
        "#prepare show image\n",
        "len_n = len(S.loss_acc)\n",
        "ax = plt.gca()\n",
        "ax.set_xlim(-0.5,NUM_CLIENTS-0.5)\n",
        "ax.set_ylim(-0.5,9.5)\n",
        "miloc = plt.MultipleLocator(1)\n",
        "ax.xaxis.set_minor_locator(miloc)\n",
        "plt.grid()\n",
        "plt.title(\"Nodes in each epoch\")\n",
        "plt.imshow(img*255,cmap='gray')\n",
        "plt.axis('on')\n",
        "plt.xlabel('Nodes')\n",
        "plt.ylabel('Epoch')\n",
        "x = np.arange(0.5,NUM_CLIENTS+0.5,1)\n",
        "y = np.arange(0.5,NUM_EPOCHS+0.5,1)\n",
        "plt.xticks()\n",
        "plt.yticks(y,(int(i-0.5) for i in y))\n",
        "plt.xticks(x,(int(i-0.5) for i in x))\n",
        "plt.show()"
      ],
      "execution_count": 51,
      "outputs": [
        {
          "output_type": "display_data",
          "data": {
            "image/png": "[encoded data removed]",
            "text/plain": [
              "<Figure size 432x288 with 1 Axes>"
            ]
          },
          "metadata": {
            "tags": [],
            "needs_background": "light"
          }
        }
      ]
    },
    {
      "cell_type": "markdown",
      "metadata": {
        "id": "i2axuRBsO6V7"
      },
      "source": [
        "设置对照组，即普通的FedAvg"
      ]
    },
    {
      "cell_type": "code",
      "metadata": {
        "id": "wwI_gLjwO5w4"
      },
      "source": [
        "def FedAvg_Baseline(NUM_CLIENTS,model):\n",
        "  iterModel = model.copy()\n",
        "  len_it = len(iterModel.trainable_variables)\n",
        "  all_weights = []\n",
        "  for weights_index in range(len_it):\n",
        "    tmp =np.zeros(iterModel.trainable_variables[weights_index].numpy().shape,dtype='float64')\n",
        "    for node in range(NUM_CLIENTS):\n",
        "      tmp += clients[node].model.trainable_variables[weights_index].numpy()\n",
        "    all_weights.append(tmp/NUM_CLIENTS)\n",
        "  # print(all_weights)\n",
        "  iterModel_vars = iterModel.trainable_variables\n",
        "  for iter_v,n in zip(iterModel_vars,all_weights):\n",
        "    iter_v.assign(n)\n",
        "  return iterModel"
      ],
      "execution_count": 52,
      "outputs": []
    },
    {
      "cell_type": "code",
      "metadata": {
        "colab": {
          "base_uri": "https://localhost:8080/"
        },
        "id": "X5o0nVueO0m7",
        "outputId": "7df73ccb-046e-4bd9-8782-eeda9403476b"
      },
      "source": [
        "InitModel = FLModel(row=28,col=28,num_classes=10)\n",
        "S2 = ParamServer(\"\")\n",
        "S2.PreEval(InitModel,x_test,y_test)"
      ],
      "execution_count": 53,
      "outputs": [
        {
          "output_type": "stream",
          "text": [
            "313/313 [==============================] - 1s 2ms/step - loss: 2.3588 - accuracy: 0.0802\n"
          ],
          "name": "stdout"
        }
      ]
    },
    {
      "cell_type": "code",
      "metadata": {
        "id": "3UUiDYqwWH3c"
      },
      "source": [
        "SendModel = InitModel"
      ],
      "execution_count": 54,
      "outputs": []
    },
    {
      "cell_type": "code",
      "metadata": {
        "colab": {
          "base_uri": "https://localhost:8080/"
        },
        "id": "KW2JdgUEP0C5",
        "outputId": "6b0f103a-667d-4996-d063-6823c4d75999"
      },
      "source": [
        "SendModel = S2.PreTrain(InitModel,x_train[0:200],y_train[0:200],epochs=1)\n",
        "S2.PreEval(SendModel,x_test,y_test)"
      ],
      "execution_count": 55,
      "outputs": [
        {
          "output_type": "stream",
          "text": [
            "7/7 [==============================] - 0s 5ms/step - loss: 2.1532 - accuracy: 0.2786\n",
            "313/313 [==============================] - 1s 2ms/step - loss: 1.6726 - accuracy: 0.5806\n"
          ],
          "name": "stdout"
        }
      ]
    },
    {
      "cell_type": "code",
      "metadata": {
        "id": "Bwd2uL1FUpeH"
      },
      "source": [
        "NUM_EPOCHS = 20"
      ],
      "execution_count": 56,
      "outputs": []
    },
    {
      "cell_type": "code",
      "metadata": {
        "colab": {
          "base_uri": "https://localhost:8080/"
        },
        "id": "dejoUrZlPz5l",
        "outputId": "82206f9a-1660-482f-b3ee-b90b498151fa"
      },
      "source": [
        "for e in range(NUM_EPOCHS):\n",
        "  print(\"EPOCHS {} is starting...\".format(e))\n",
        "  for i in range(NUM_CLIENTS):\n",
        "    clients[i].ReceiveModel(SendModel.copy())\n",
        "    clients[i].NodeTrain()\n",
        "    # clients[i].NodeEval()\n",
        "    # DIS.append(Distance(SendModel,clients[i].model))\n",
        "  FedModel = FedAvg_Baseline(NUM_CLIENTS,SendModel)\n",
        "  S2.PreEval(FedModel,x_test,y_test)\n",
        "  SendModel = FedModel.copy()"
      ],
      "execution_count": 57,
      "outputs": [
        {
          "output_type": "stream",
          "text": [
            "EPOCHS 0 is starting...\n",
            "80/80 [==============================] - 1s 4ms/step - loss: 20.9280 - accuracy: 0.4008\n",
            "80/80 [==============================] - 1s 4ms/step - loss: 39.1517 - accuracy: 0.6528\n",
            "80/80 [==============================] - 1s 4ms/step - loss: 28.4358 - accuracy: 0.5404\n",
            "80/80 [==============================] - 1s 4ms/step - loss: 5.2129 - accuracy: 0.1199\n",
            "80/80 [==============================] - 1s 4ms/step - loss: 17.9304 - accuracy: 0.3033\n",
            "80/80 [==============================] - 1s 4ms/step - loss: 5.6706 - accuracy: 0.1174\n",
            "80/80 [==============================] - 1s 4ms/step - loss: 25.1602 - accuracy: 0.4460\n",
            "80/80 [==============================] - 1s 4ms/step - loss: 24.5578 - accuracy: 0.3396\n",
            "80/80 [==============================] - 1s 4ms/step - loss: 20.8174 - accuracy: 0.3908\n",
            "80/80 [==============================] - 1s 4ms/step - loss: 11.8921 - accuracy: 0.1516\n",
            "80/80 [==============================] - 1s 4ms/step - loss: 19.7602 - accuracy: 0.2536\n",
            "80/80 [==============================] - 1s 4ms/step - loss: 16.5561 - accuracy: 0.2559\n",
            "313/313 [==============================] - 1s 2ms/step - loss: 1.5485 - accuracy: 0.8712\n",
            "EPOCHS 1 is starting...\n",
            "80/80 [==============================] - 1s 4ms/step - loss: 6.9487 - accuracy: 0.4310\n",
            "80/80 [==============================] - 1s 4ms/step - loss: 11.5592 - accuracy: 0.7688\n",
            "80/80 [==============================] - 1s 4ms/step - loss: 9.4120 - accuracy: 0.6118\n",
            "80/80 [==============================] - 1s 4ms/step - loss: 3.1764 - accuracy: 0.1446\n",
            "80/80 [==============================] - 1s 4ms/step - loss: 6.6990 - accuracy: 0.3448\n",
            "80/80 [==============================] - 1s 4ms/step - loss: 3.1599 - accuracy: 0.1358\n",
            "80/80 [==============================] - 1s 4ms/step - loss: 9.3699 - accuracy: 0.4949\n",
            "80/80 [==============================] - 1s 4ms/step - loss: 8.2105 - accuracy: 0.4046\n",
            "80/80 [==============================] - 1s 4ms/step - loss: 7.2820 - accuracy: 0.4609\n",
            "80/80 [==============================] - 1s 4ms/step - loss: 4.3436 - accuracy: 0.2035\n",
            "80/80 [==============================] - 1s 4ms/step - loss: 6.2220 - accuracy: 0.2806\n",
            "80/80 [==============================] - 1s 4ms/step - loss: 5.6672 - accuracy: 0.2858\n",
            "313/313 [==============================] - 1s 2ms/step - loss: 1.8610 - accuracy: 0.8841\n",
            "EPOCHS 2 is starting...\n",
            "80/80 [==============================] - 1s 4ms/step - loss: 3.9350 - accuracy: 0.4419\n",
            "80/80 [==============================] - 1s 4ms/step - loss: 4.6738 - accuracy: 0.8207\n",
            "80/80 [==============================] - 1s 4ms/step - loss: 4.1003 - accuracy: 0.6629\n",
            "80/80 [==============================] - 1s 4ms/step - loss: 2.6421 - accuracy: 0.1410\n",
            "80/80 [==============================] - 1s 4ms/step - loss: 3.7334 - accuracy: 0.3711\n",
            "80/80 [==============================] - 1s 4ms/step - loss: 2.6116 - accuracy: 0.1397\n",
            "80/80 [==============================] - 1s 4ms/step - loss: 4.4266 - accuracy: 0.5294\n",
            "80/80 [==============================] - 1s 4ms/step - loss: 4.4300 - accuracy: 0.4065\n",
            "80/80 [==============================] - 1s 4ms/step - loss: 4.0397 - accuracy: 0.4698\n",
            "80/80 [==============================] - 1s 4ms/step - loss: 3.2321 - accuracy: 0.2104\n",
            "80/80 [==============================] - 1s 4ms/step - loss: 3.6405 - accuracy: 0.3035\n",
            "80/80 [==============================] - 1s 4ms/step - loss: 3.4569 - accuracy: 0.3164\n",
            "313/313 [==============================] - 1s 2ms/step - loss: 2.0497 - accuracy: 0.8762\n",
            "EPOCHS 3 is starting...\n",
            "80/80 [==============================] - 1s 4ms/step - loss: 2.6578 - accuracy: 0.4488\n",
            "80/80 [==============================] - 1s 4ms/step - loss: 2.6893 - accuracy: 0.8194\n",
            "80/80 [==============================] - 1s 4ms/step - loss: 2.8166 - accuracy: 0.6742\n",
            "80/80 [==============================] - 1s 4ms/step - loss: 2.4157 - accuracy: 0.1345\n",
            "80/80 [==============================] - 1s 4ms/step - loss: 2.5888 - accuracy: 0.3750\n",
            "80/80 [==============================] - 1s 4ms/step - loss: 2.4178 - accuracy: 0.1428\n",
            "80/80 [==============================] - 1s 5ms/step - loss: 3.0487 - accuracy: 0.5390\n",
            "80/80 [==============================] - 1s 4ms/step - loss: 2.7629 - accuracy: 0.4290\n",
            "80/80 [==============================] - 1s 4ms/step - loss: 2.7126 - accuracy: 0.4734\n",
            "80/80 [==============================] - 1s 4ms/step - loss: 2.7488 - accuracy: 0.2118\n",
            "80/80 [==============================] - 1s 4ms/step - loss: 2.5111 - accuracy: 0.3270\n",
            "80/80 [==============================] - 1s 4ms/step - loss: 2.6402 - accuracy: 0.3073\n",
            "313/313 [==============================] - 1s 2ms/step - loss: 2.1236 - accuracy: 0.8498\n",
            "EPOCHS 4 is starting...\n",
            "80/80 [==============================] - 1s 4ms/step - loss: 2.0856 - accuracy: 0.4780\n",
            "80/80 [==============================] - 1s 4ms/step - loss: 1.8141 - accuracy: 0.8361\n",
            "80/80 [==============================] - 1s 4ms/step - loss: 2.1417 - accuracy: 0.6671\n",
            "80/80 [==============================] - 1s 4ms/step - loss: 2.4402 - accuracy: 0.1321\n",
            "80/80 [==============================] - 1s 4ms/step - loss: 2.3131 - accuracy: 0.3752\n",
            "80/80 [==============================] - 1s 5ms/step - loss: 2.4515 - accuracy: 0.1316\n",
            "80/80 [==============================] - 1s 4ms/step - loss: 2.1735 - accuracy: 0.5280\n",
            "80/80 [==============================] - 1s 4ms/step - loss: 2.3812 - accuracy: 0.4124\n",
            "80/80 [==============================] - 1s 4ms/step - loss: 2.2187 - accuracy: 0.4896\n",
            "80/80 [==============================] - 1s 4ms/step - loss: 2.3732 - accuracy: 0.2315\n",
            "80/80 [==============================] - 1s 4ms/step - loss: 2.2444 - accuracy: 0.3131\n",
            "80/80 [==============================] - 1s 4ms/step - loss: 2.3422 - accuracy: 0.3033\n",
            "313/313 [==============================] - 1s 2ms/step - loss: 2.1541 - accuracy: 0.8167\n",
            "EPOCHS 5 is starting...\n",
            "80/80 [==============================] - 1s 4ms/step - loss: 2.0741 - accuracy: 0.4948\n",
            "80/80 [==============================] - 1s 4ms/step - loss: 1.5694 - accuracy: 0.8170\n",
            "80/80 [==============================] - 1s 4ms/step - loss: 1.8815 - accuracy: 0.6691\n",
            "80/80 [==============================] - 1s 4ms/step - loss: 2.3051 - accuracy: 0.1367\n",
            "80/80 [==============================] - 1s 4ms/step - loss: 2.1838 - accuracy: 0.3512\n",
            "80/80 [==============================] - 1s 4ms/step - loss: 2.3445 - accuracy: 0.1297\n",
            "80/80 [==============================] - 1s 4ms/step - loss: 2.1201 - accuracy: 0.5241\n",
            "80/80 [==============================] - 1s 4ms/step - loss: 2.1616 - accuracy: 0.4421\n",
            "80/80 [==============================] - 1s 4ms/step - loss: 1.9817 - accuracy: 0.4849\n",
            "80/80 [==============================] - 1s 4ms/step - loss: 2.3105 - accuracy: 0.2182\n",
            "80/80 [==============================] - 1s 4ms/step - loss: 2.1799 - accuracy: 0.3400\n",
            "80/80 [==============================] - 1s 4ms/step - loss: 2.2673 - accuracy: 0.3101\n",
            "313/313 [==============================] - 1s 2ms/step - loss: 2.1764 - accuracy: 0.8043\n",
            "EPOCHS 6 is starting...\n",
            "80/80 [==============================] - 1s 4ms/step - loss: 1.8510 - accuracy: 0.4781\n",
            "80/80 [==============================] - 1s 4ms/step - loss: 1.4367 - accuracy: 0.8239\n",
            "80/80 [==============================] - 1s 4ms/step - loss: 1.6411 - accuracy: 0.6727\n",
            "80/80 [==============================] - 1s 4ms/step - loss: 2.2932 - accuracy: 0.1375\n",
            "80/80 [==============================] - 1s 5ms/step - loss: 2.0397 - accuracy: 0.3788\n",
            "80/80 [==============================] - 1s 5ms/step - loss: 2.3053 - accuracy: 0.1513\n",
            "80/80 [==============================] - 1s 4ms/step - loss: 1.7333 - accuracy: 0.5398\n",
            "80/80 [==============================] - 1s 4ms/step - loss: 1.9593 - accuracy: 0.4616\n",
            "80/80 [==============================] - 1s 4ms/step - loss: 1.9508 - accuracy: 0.4868\n",
            "80/80 [==============================] - 1s 4ms/step - loss: 2.1867 - accuracy: 0.2230\n",
            "80/80 [==============================] - 1s 4ms/step - loss: 2.1117 - accuracy: 0.3327\n",
            "80/80 [==============================] - 1s 4ms/step - loss: 2.0492 - accuracy: 0.3441\n",
            "313/313 [==============================] - 1s 2ms/step - loss: 2.1634 - accuracy: 0.8144\n",
            "EPOCHS 7 is starting...\n",
            "80/80 [==============================] - 1s 4ms/step - loss: 1.9102 - accuracy: 0.4811\n",
            "80/80 [==============================] - 1s 5ms/step - loss: 1.4043 - accuracy: 0.8339\n",
            "80/80 [==============================] - 1s 4ms/step - loss: 1.4722 - accuracy: 0.6984\n",
            "80/80 [==============================] - 1s 4ms/step - loss: 2.3157 - accuracy: 0.1347\n",
            "80/80 [==============================] - 1s 4ms/step - loss: 1.9168 - accuracy: 0.3976\n",
            "80/80 [==============================] - 1s 4ms/step - loss: 2.2090 - accuracy: 0.1626\n",
            "80/80 [==============================] - 1s 4ms/step - loss: 1.6369 - accuracy: 0.5553\n",
            "80/80 [==============================] - 1s 4ms/step - loss: 2.0575 - accuracy: 0.4410\n",
            "80/80 [==============================] - 1s 4ms/step - loss: 1.7930 - accuracy: 0.5135\n",
            "80/80 [==============================] - 1s 4ms/step - loss: 2.2491 - accuracy: 0.2246\n",
            "80/80 [==============================] - 1s 4ms/step - loss: 2.1144 - accuracy: 0.3251\n",
            "80/80 [==============================] - 1s 4ms/step - loss: 2.1729 - accuracy: 0.3141\n",
            "313/313 [==============================] - 1s 2ms/step - loss: 2.1599 - accuracy: 0.8040\n",
            "EPOCHS 8 is starting...\n",
            "80/80 [==============================] - 1s 4ms/step - loss: 1.8314 - accuracy: 0.4822\n",
            "80/80 [==============================] - 1s 4ms/step - loss: 1.1924 - accuracy: 0.8166\n",
            "80/80 [==============================] - 1s 4ms/step - loss: 1.4142 - accuracy: 0.6941\n",
            "80/80 [==============================] - 1s 4ms/step - loss: 2.3058 - accuracy: 0.1448\n",
            "80/80 [==============================] - 1s 4ms/step - loss: 1.9919 - accuracy: 0.3783\n",
            "80/80 [==============================] - 1s 4ms/step - loss: 2.2714 - accuracy: 0.1537\n",
            "80/80 [==============================] - 1s 4ms/step - loss: 1.7172 - accuracy: 0.5615\n",
            "80/80 [==============================] - 1s 4ms/step - loss: 1.9949 - accuracy: 0.4399\n",
            "80/80 [==============================] - 1s 4ms/step - loss: 1.7169 - accuracy: 0.5181\n",
            "80/80 [==============================] - 1s 5ms/step - loss: 2.2378 - accuracy: 0.2336\n",
            "80/80 [==============================] - 1s 4ms/step - loss: 1.9328 - accuracy: 0.3353\n",
            "80/80 [==============================] - 1s 4ms/step - loss: 2.0616 - accuracy: 0.3130\n",
            "313/313 [==============================] - 1s 2ms/step - loss: 2.1575 - accuracy: 0.7994\n",
            "EPOCHS 9 is starting...\n",
            "80/80 [==============================] - 1s 4ms/step - loss: 1.8047 - accuracy: 0.4809\n",
            "80/80 [==============================] - 1s 4ms/step - loss: 1.0611 - accuracy: 0.8576\n",
            "80/80 [==============================] - 1s 4ms/step - loss: 1.5453 - accuracy: 0.6808\n",
            "80/80 [==============================] - 1s 4ms/step - loss: 2.2792 - accuracy: 0.1663\n",
            "80/80 [==============================] - 1s 4ms/step - loss: 2.1094 - accuracy: 0.3742\n",
            "80/80 [==============================] - 1s 5ms/step - loss: 2.2418 - accuracy: 0.1739\n",
            "80/80 [==============================] - 1s 4ms/step - loss: 1.6912 - accuracy: 0.5355\n",
            "80/80 [==============================] - 1s 5ms/step - loss: 1.9108 - accuracy: 0.4444\n",
            "80/80 [==============================] - 1s 5ms/step - loss: 1.7393 - accuracy: 0.5048\n",
            "80/80 [==============================] - 1s 5ms/step - loss: 2.2530 - accuracy: 0.2325\n",
            "80/80 [==============================] - 1s 4ms/step - loss: 2.1797 - accuracy: 0.3296\n",
            "80/80 [==============================] - 1s 4ms/step - loss: 1.9434 - accuracy: 0.3299\n",
            "313/313 [==============================] - 1s 2ms/step - loss: 2.1310 - accuracy: 0.8412\n",
            "EPOCHS 10 is starting...\n",
            "80/80 [==============================] - 1s 4ms/step - loss: 1.6795 - accuracy: 0.4945\n",
            "80/80 [==============================] - 1s 4ms/step - loss: 1.3043 - accuracy: 0.8414\n",
            "80/80 [==============================] - 1s 5ms/step - loss: 1.5940 - accuracy: 0.7022\n",
            "80/80 [==============================] - 1s 4ms/step - loss: 2.2622 - accuracy: 0.1597\n",
            "80/80 [==============================] - 1s 5ms/step - loss: 2.0251 - accuracy: 0.4018\n",
            "80/80 [==============================] - 1s 4ms/step - loss: 2.2313 - accuracy: 0.1694\n",
            "80/80 [==============================] - 1s 5ms/step - loss: 1.6930 - accuracy: 0.5580\n",
            "80/80 [==============================] - 1s 4ms/step - loss: 1.9484 - accuracy: 0.4561\n",
            "80/80 [==============================] - 1s 4ms/step - loss: 1.7524 - accuracy: 0.5120\n",
            "80/80 [==============================] - 1s 4ms/step - loss: 2.2505 - accuracy: 0.2224\n",
            "80/80 [==============================] - 1s 4ms/step - loss: 1.9417 - accuracy: 0.3333\n",
            "80/80 [==============================] - 1s 5ms/step - loss: 2.0109 - accuracy: 0.3243\n",
            "313/313 [==============================] - 1s 2ms/step - loss: 2.1215 - accuracy: 0.8372\n",
            "EPOCHS 11 is starting...\n",
            "80/80 [==============================] - 1s 5ms/step - loss: 1.8191 - accuracy: 0.4963\n",
            "80/80 [==============================] - 1s 5ms/step - loss: 1.0051 - accuracy: 0.8795\n",
            "80/80 [==============================] - 1s 5ms/step - loss: 1.3915 - accuracy: 0.7011\n",
            "80/80 [==============================] - 1s 5ms/step - loss: 2.2984 - accuracy: 0.1596\n",
            "80/80 [==============================] - 1s 5ms/step - loss: 1.9548 - accuracy: 0.3878\n",
            "80/80 [==============================] - 1s 5ms/step - loss: 2.2589 - accuracy: 0.1609\n",
            "80/80 [==============================] - 1s 4ms/step - loss: 1.6199 - accuracy: 0.5578\n",
            "80/80 [==============================] - 1s 5ms/step - loss: 1.9379 - accuracy: 0.4609\n",
            "80/80 [==============================] - 1s 5ms/step - loss: 1.6281 - accuracy: 0.5069\n",
            "80/80 [==============================] - 1s 5ms/step - loss: 2.1234 - accuracy: 0.2393\n",
            "80/80 [==============================] - 1s 5ms/step - loss: 2.0732 - accuracy: 0.3363\n",
            "80/80 [==============================] - 1s 4ms/step - loss: 1.9480 - accuracy: 0.3381\n",
            "313/313 [==============================] - 1s 2ms/step - loss: 2.1220 - accuracy: 0.8562\n",
            "EPOCHS 12 is starting...\n",
            "80/80 [==============================] - 1s 4ms/step - loss: 1.7336 - accuracy: 0.5021\n",
            "80/80 [==============================] - 1s 5ms/step - loss: 1.1601 - accuracy: 0.8528\n",
            "80/80 [==============================] - 1s 4ms/step - loss: 1.3562 - accuracy: 0.7099\n",
            "80/80 [==============================] - 1s 4ms/step - loss: 2.3085 - accuracy: 0.1807\n",
            "80/80 [==============================] - 1s 4ms/step - loss: 1.9956 - accuracy: 0.4027\n",
            "80/80 [==============================] - 1s 5ms/step - loss: 2.2474 - accuracy: 0.1504\n",
            "80/80 [==============================] - 1s 4ms/step - loss: 1.8089 - accuracy: 0.5552\n",
            "80/80 [==============================] - 1s 4ms/step - loss: 1.8874 - accuracy: 0.4573\n",
            "80/80 [==============================] - 1s 4ms/step - loss: 1.5874 - accuracy: 0.5186\n",
            "80/80 [==============================] - 1s 5ms/step - loss: 2.2147 - accuracy: 0.2402\n",
            "80/80 [==============================] - 1s 4ms/step - loss: 2.0280 - accuracy: 0.3368\n",
            "80/80 [==============================] - 1s 5ms/step - loss: 1.9742 - accuracy: 0.3443\n",
            "313/313 [==============================] - 1s 2ms/step - loss: 2.1072 - accuracy: 0.8557\n",
            "EPOCHS 13 is starting...\n",
            "80/80 [==============================] - 1s 5ms/step - loss: 1.8832 - accuracy: 0.5173\n",
            "80/80 [==============================] - 1s 4ms/step - loss: 1.0540 - accuracy: 0.8626\n",
            "80/80 [==============================] - 1s 5ms/step - loss: 1.4173 - accuracy: 0.7158\n",
            "80/80 [==============================] - 1s 4ms/step - loss: 2.2784 - accuracy: 0.1624\n",
            "80/80 [==============================] - 1s 4ms/step - loss: 1.9927 - accuracy: 0.3915\n",
            "80/80 [==============================] - 1s 4ms/step - loss: 2.2520 - accuracy: 0.1729\n",
            "80/80 [==============================] - 1s 4ms/step - loss: 1.6268 - accuracy: 0.5606\n",
            "80/80 [==============================] - 1s 4ms/step - loss: 1.8812 - accuracy: 0.4753\n",
            "80/80 [==============================] - 1s 4ms/step - loss: 1.5960 - accuracy: 0.5259\n",
            "80/80 [==============================] - 1s 4ms/step - loss: 2.1189 - accuracy: 0.2422\n",
            "80/80 [==============================] - 1s 5ms/step - loss: 2.0266 - accuracy: 0.3252\n",
            "80/80 [==============================] - 1s 5ms/step - loss: 2.0901 - accuracy: 0.3305\n",
            "313/313 [==============================] - 1s 3ms/step - loss: 2.0979 - accuracy: 0.8505\n",
            "EPOCHS 14 is starting...\n",
            "80/80 [==============================] - 1s 5ms/step - loss: 1.6455 - accuracy: 0.5154\n",
            "80/80 [==============================] - 1s 5ms/step - loss: 1.0270 - accuracy: 0.8685\n",
            "80/80 [==============================] - 1s 5ms/step - loss: 1.4344 - accuracy: 0.7167\n",
            "80/80 [==============================] - 1s 4ms/step - loss: 2.2611 - accuracy: 0.1708\n",
            "80/80 [==============================] - 1s 4ms/step - loss: 1.8852 - accuracy: 0.4138\n",
            "80/80 [==============================] - 1s 5ms/step - loss: 2.2098 - accuracy: 0.1660\n",
            "80/80 [==============================] - 1s 4ms/step - loss: 1.6347 - accuracy: 0.5816\n",
            "80/80 [==============================] - 1s 5ms/step - loss: 1.8704 - accuracy: 0.4769\n",
            "80/80 [==============================] - 1s 4ms/step - loss: 1.7079 - accuracy: 0.5115\n",
            "80/80 [==============================] - 1s 4ms/step - loss: 2.2094 - accuracy: 0.2435\n",
            "80/80 [==============================] - 1s 4ms/step - loss: 1.9562 - accuracy: 0.3599\n",
            "80/80 [==============================] - 1s 4ms/step - loss: 1.9612 - accuracy: 0.3601\n",
            "313/313 [==============================] - 1s 2ms/step - loss: 2.0783 - accuracy: 0.8679\n",
            "EPOCHS 15 is starting...\n",
            "80/80 [==============================] - 1s 4ms/step - loss: 1.7406 - accuracy: 0.5227\n",
            "80/80 [==============================] - 1s 4ms/step - loss: 1.1330 - accuracy: 0.8660\n",
            "80/80 [==============================] - 1s 5ms/step - loss: 1.4705 - accuracy: 0.7129\n",
            "80/80 [==============================] - 1s 5ms/step - loss: 2.2883 - accuracy: 0.1519\n",
            "80/80 [==============================] - 1s 5ms/step - loss: 1.9007 - accuracy: 0.4165\n",
            "80/80 [==============================] - 1s 4ms/step - loss: 2.2483 - accuracy: 0.1694\n",
            "80/80 [==============================] - 1s 4ms/step - loss: 1.6145 - accuracy: 0.5763\n",
            "80/80 [==============================] - 1s 5ms/step - loss: 1.9448 - accuracy: 0.4899\n",
            "80/80 [==============================] - 1s 4ms/step - loss: 1.6920 - accuracy: 0.5213\n",
            "80/80 [==============================] - 1s 5ms/step - loss: 2.1103 - accuracy: 0.2464\n",
            "80/80 [==============================] - 1s 4ms/step - loss: 1.9453 - accuracy: 0.3729\n",
            "80/80 [==============================] - 1s 4ms/step - loss: 2.0640 - accuracy: 0.3545\n",
            "313/313 [==============================] - 1s 2ms/step - loss: 2.0569 - accuracy: 0.8852\n",
            "EPOCHS 16 is starting...\n",
            "80/80 [==============================] - 1s 4ms/step - loss: 1.7458 - accuracy: 0.5222\n",
            "80/80 [==============================] - 1s 4ms/step - loss: 1.1331 - accuracy: 0.8711\n",
            "80/80 [==============================] - 1s 4ms/step - loss: 1.4761 - accuracy: 0.6904\n",
            "80/80 [==============================] - 1s 5ms/step - loss: 2.2655 - accuracy: 0.1716\n",
            "80/80 [==============================] - 1s 4ms/step - loss: 1.9151 - accuracy: 0.4019\n",
            "80/80 [==============================] - 1s 4ms/step - loss: 2.2628 - accuracy: 0.1723\n",
            "80/80 [==============================] - 1s 4ms/step - loss: 1.6560 - accuracy: 0.5829\n",
            "80/80 [==============================] - 1s 4ms/step - loss: 1.7484 - accuracy: 0.4760\n",
            "80/80 [==============================] - 1s 4ms/step - loss: 1.6066 - accuracy: 0.5352\n",
            "80/80 [==============================] - 1s 4ms/step - loss: 2.1743 - accuracy: 0.2357\n",
            "80/80 [==============================] - 1s 4ms/step - loss: 1.9012 - accuracy: 0.3407\n",
            "80/80 [==============================] - 1s 4ms/step - loss: 1.9506 - accuracy: 0.3471\n",
            "313/313 [==============================] - 1s 2ms/step - loss: 2.0545 - accuracy: 0.8757\n",
            "EPOCHS 17 is starting...\n",
            "80/80 [==============================] - 1s 4ms/step - loss: 1.7517 - accuracy: 0.5075\n",
            "80/80 [==============================] - 1s 4ms/step - loss: 1.0252 - accuracy: 0.8696\n",
            "80/80 [==============================] - 1s 4ms/step - loss: 1.4077 - accuracy: 0.7094\n",
            "80/80 [==============================] - 1s 4ms/step - loss: 2.2848 - accuracy: 0.1730\n",
            "80/80 [==============================] - 1s 5ms/step - loss: 1.9685 - accuracy: 0.4184\n",
            "80/80 [==============================] - 1s 4ms/step - loss: 2.2163 - accuracy: 0.1682\n",
            "80/80 [==============================] - 1s 4ms/step - loss: 1.6212 - accuracy: 0.5862\n",
            "80/80 [==============================] - 1s 4ms/step - loss: 2.0029 - accuracy: 0.4605\n",
            "80/80 [==============================] - 1s 5ms/step - loss: 1.7563 - accuracy: 0.5277\n",
            "80/80 [==============================] - 1s 4ms/step - loss: 2.1901 - accuracy: 0.2431\n",
            "80/80 [==============================] - 1s 5ms/step - loss: 2.1570 - accuracy: 0.3490\n",
            "80/80 [==============================] - 1s 4ms/step - loss: 1.9089 - accuracy: 0.3657\n",
            "313/313 [==============================] - 1s 2ms/step - loss: 2.0285 - accuracy: 0.8880\n",
            "EPOCHS 18 is starting...\n",
            "80/80 [==============================] - 1s 4ms/step - loss: 1.7213 - accuracy: 0.5259\n",
            "80/80 [==============================] - 1s 5ms/step - loss: 0.9185 - accuracy: 0.8819\n",
            "80/80 [==============================] - 1s 5ms/step - loss: 1.4078 - accuracy: 0.7350\n",
            "80/80 [==============================] - 1s 4ms/step - loss: 2.2696 - accuracy: 0.1488\n",
            "80/80 [==============================] - 1s 4ms/step - loss: 1.9473 - accuracy: 0.3983\n",
            "80/80 [==============================] - 1s 4ms/step - loss: 2.2533 - accuracy: 0.1773\n",
            "80/80 [==============================] - 1s 5ms/step - loss: 1.6017 - accuracy: 0.5822\n",
            "80/80 [==============================] - 1s 4ms/step - loss: 2.0315 - accuracy: 0.4799\n",
            "80/80 [==============================] - 1s 4ms/step - loss: 1.6877 - accuracy: 0.5300\n",
            "80/80 [==============================] - 1s 5ms/step - loss: 2.1546 - accuracy: 0.2445\n",
            "80/80 [==============================] - 1s 4ms/step - loss: 2.1714 - accuracy: 0.3565\n",
            "80/80 [==============================] - 1s 4ms/step - loss: 1.9525 - accuracy: 0.3580\n",
            "313/313 [==============================] - 1s 2ms/step - loss: 2.0256 - accuracy: 0.8907\n",
            "EPOCHS 19 is starting...\n",
            "80/80 [==============================] - 1s 4ms/step - loss: 1.7883 - accuracy: 0.5114\n",
            "80/80 [==============================] - 1s 4ms/step - loss: 1.0150 - accuracy: 0.8758\n",
            "80/80 [==============================] - 1s 5ms/step - loss: 1.5697 - accuracy: 0.7195\n",
            "80/80 [==============================] - 1s 4ms/step - loss: 2.2472 - accuracy: 0.1685\n",
            "80/80 [==============================] - 1s 4ms/step - loss: 1.8059 - accuracy: 0.4140\n",
            "80/80 [==============================] - 1s 4ms/step - loss: 2.2233 - accuracy: 0.1737\n",
            "80/80 [==============================] - 1s 4ms/step - loss: 1.7617 - accuracy: 0.5886\n",
            "80/80 [==============================] - 1s 5ms/step - loss: 1.8681 - accuracy: 0.4922\n",
            "80/80 [==============================] - 1s 4ms/step - loss: 1.8450 - accuracy: 0.5301\n",
            "80/80 [==============================] - 1s 4ms/step - loss: 2.2044 - accuracy: 0.2401\n",
            "80/80 [==============================] - 1s 4ms/step - loss: 2.0530 - accuracy: 0.3587\n",
            "80/80 [==============================] - 1s 4ms/step - loss: 1.9168 - accuracy: 0.3812\n",
            "313/313 [==============================] - 1s 2ms/step - loss: 2.0262 - accuracy: 0.8927\n"
          ],
          "name": "stdout"
        }
      ]
    },
    {
      "cell_type": "code",
      "metadata": {
        "id": "NbpXvIuEPzwX"
      },
      "source": [
        ""
      ],
      "execution_count": null,
      "outputs": []
    },
    {
      "cell_type": "code",
      "metadata": {
        "id": "KtBMBFo7Pzg2",
        "colab": {
          "base_uri": "https://localhost:8080/",
          "height": 281
        },
        "outputId": "2bfe3814-043d-4c8b-9932-ad2082070927"
      },
      "source": [
        "S_acc2 =[S2.loss_acc[i][1]*100 for i in range(len(S2.loss_acc))]\n",
        "S_loss2 =[S2.loss_acc[i][0] for i in range(len(S2.loss_acc))]\n",
        "\n",
        "x = np.arange(len(S2.loss_acc))\n",
        "fig = plt.figure()\n",
        "ax1 = fig.add_subplot(111)\n",
        "acc = ax1.plot(x,S_acc2,'r',label='Acc')\n",
        "ax1.set_ylabel('Acc')\n",
        "ax1.set_title('Acc-Loss')\n",
        "\n",
        "ax2 = ax1.twinx()\n",
        "loss = ax2.plot(x,S_loss2,label='Loss')\n",
        "ax2.set_ylabel('Loss')\n",
        "\n",
        "lns = acc+loss\n",
        "labs = [l.get_label() for l in lns]\n",
        "ax2.legend(lns,labs)\n",
        "plt.show()"
      ],
      "execution_count": 58,
      "outputs": [
        {
          "output_type": "display_data",
          "data": {
            "image/png": "[encoded data removed]",
            "text/plain": [
              "<Figure size 432x288 with 2 Axes>"
            ]
          },
          "metadata": {
            "tags": [],
            "needs_background": "light"
          }
        }
      ]
    },
    {
      "cell_type": "markdown",
      "metadata": {
        "id": "WwiFCb96CUyn"
      },
      "source": [
        "聚合轮数较多时，本文设计的算法能对性能下降起到一个缓冲作用"
      ]
    },
    {
      "cell_type": "code",
      "metadata": {
        "colab": {
          "base_uri": "https://localhost:8080/",
          "height": 281
        },
        "id": "wuOQuKLaCUVF",
        "outputId": "60172b02-ae7b-44e1-dd00-4a3dd27fba72"
      },
      "source": [
        "x = np.arange(len(S2.loss_acc))\n",
        "fig = plt.figure()\n",
        "ax1 = fig.add_subplot(111)\n",
        "acc = ax1.plot(x,S_acc,'r',label='NewFed-Acc')\n",
        "ax1.set_ylabel('NewFed-Acc')\n",
        "ax1.set_title('New/FedAvg')\n",
        "\n",
        "ax2 = ax1.twinx()\n",
        "loss = ax2.plot(x,S_acc2,label='FedAvg-Acc')\n",
        "ax2.set_ylabel('FedAvg-Acc')\n",
        "\n",
        "lns = acc+loss\n",
        "labs = [l.get_label() for l in lns]\n",
        "ax2.legend(lns,labs)\n",
        "plt.show()"
      ],
      "execution_count": 59,
      "outputs": [
        {
          "output_type": "display_data",
          "data": {
            "image/png": "[encoded data removed]",
            "text/plain": [
              "<Figure size 432x288 with 2 Axes>"
            ]
          },
          "metadata": {
            "tags": [],
            "needs_background": "light"
          }
        }
      ]
    },
    {
      "cell_type": "code",
      "metadata": {
        "id": "mPLaC0tCDKLt"
      },
      "source": [
        ""
      ],
      "execution_count": null,
      "outputs": []
    }
  ]
}