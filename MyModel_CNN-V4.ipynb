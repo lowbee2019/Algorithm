{
  "nbformat": 4,
  "nbformat_minor": 0,
  "metadata": {
    "colab": {
      "name": "MyModel-CNN.ipynb",
      "provenance": [],
      "collapsed_sections": [
        "MwmKo3gLrI-i"
      ],
      "authorship_tag": "ABX9TyN5aSJ1pwUmN2FsQljCGXf0",
      "include_colab_link": true
    },
    "kernelspec": {
      "display_name": "Python 3",
      "name": "python3"
    },
    "language_info": {
      "name": "python"
    },
    "accelerator": "GPU"
  },
  "cells": [
    {
      "cell_type": "markdown",
      "metadata": {
        "id": "view-in-github",
        "colab_type": "text"
      },
      "source": [
        "<a href=\"https://colab.research.google.com/github/lowbee2019/Algorithm/blob/master/MyModel_CNN-V4.ipynb\" target=\"_parent\"><img src=\"https://colab.research.google.com/assets/colab-badge.svg\" alt=\"Open In Colab\"/></a>"
      ]
    },
    {
      "cell_type": "code",
      "metadata": {
        "colab": {
          "base_uri": "https://localhost:8080/"
        },
        "id": "uoFhItkFEsF8",
        "outputId": "0bda4e70-cc41-452c-c821-1ac17f2208f8"
      },
      "source": [
        "!pip install emnist"
      ],
      "execution_count": 1,
      "outputs": [
        {
          "output_type": "stream",
          "text": [
            "Collecting emnist\n",
            "  Downloading https://files.pythonhosted.org/packages/d1/f4/78b24acbef9e8fe976dda700f16a3606f3b8363b015bc555f8050fbbd8ac/emnist-0.0-py3-none-any.whl\n",
            "Requirement already satisfied: numpy in /usr/local/lib/python3.7/dist-packages (from emnist) (1.19.5)\n",
            "Requirement already satisfied: requests in /usr/local/lib/python3.7/dist-packages (from emnist) (2.23.0)\n",
            "Requirement already satisfied: tqdm in /usr/local/lib/python3.7/dist-packages (from emnist) (4.41.1)\n",
            "Requirement already satisfied: idna<3,>=2.5 in /usr/local/lib/python3.7/dist-packages (from requests->emnist) (2.10)\n",
            "Requirement already satisfied: certifi>=2017.4.17 in /usr/local/lib/python3.7/dist-packages (from requests->emnist) (2020.12.5)\n",
            "Requirement already satisfied: urllib3!=1.25.0,!=1.25.1,<1.26,>=1.21.1 in /usr/local/lib/python3.7/dist-packages (from requests->emnist) (1.24.3)\n",
            "Requirement already satisfied: chardet<4,>=3.0.2 in /usr/local/lib/python3.7/dist-packages (from requests->emnist) (3.0.4)\n",
            "Installing collected packages: emnist\n",
            "Successfully installed emnist-0.0\n"
          ],
          "name": "stdout"
        }
      ]
    },
    {
      "cell_type": "code",
      "metadata": {
        "id": "9e4So1L3pPWp"
      },
      "source": [
        "import tensorflow as tf\n",
        "import numpy as np\n",
        "from tensorflow.keras import datasets,layers,models\n",
        "import collections\n",
        "import copy\n",
        "import random\n",
        "import emnist\n",
        "import datetime\n",
        "import os\n",
        "import matplotlib.pyplot as plt"
      ],
      "execution_count": 2,
      "outputs": []
    },
    {
      "cell_type": "code",
      "metadata": {
        "id": "6pkKi1GlSJ0S"
      },
      "source": [
        "os.environ[\"CUDA_VISIBLE_DEVICES\"]=\"0\""
      ],
      "execution_count": 3,
      "outputs": []
    },
    {
      "cell_type": "markdown",
      "metadata": {
        "id": "YQaIGTfxmSfi"
      },
      "source": [
        "# Server Initialization"
      ]
    },
    {
      "cell_type": "code",
      "metadata": {
        "id": "PTK_p961nsA5"
      },
      "source": [
        "class ParamServer(object):\n",
        "  def __init__(self,init_model_path):\n",
        "    self.init_model_path = init_model_path\n",
        "    self.round = 0\n",
        "    self.optimizer = 'adam'\n",
        "    self.loss = \"sparse_categorical_crossentropy\"\n",
        "    self.metrics =['accuracy']\n",
        "    self.loss_acc = []\n",
        "\n",
        "  def PreTrain(self,model,data,labels,batch_size=32,epochs=5):\n",
        "    model.compile(optimizer=self.optimizer,\n",
        "                  loss=self.loss,\n",
        "                  metrics=self.metrics)\n",
        "    _metrics = model.fit(data,labels,batch_size,epochs)\n",
        "    return model\n",
        "  \n",
        "  def PreEval(self,model,validation_data):\n",
        "    model.compile(optimizer=self.optimizer,\n",
        "                  loss=self.loss,\n",
        "                  metrics=self.metrics)\n",
        "    self.loss_acc.append(model.evaluate(x=validation_data[0],y=validation_data[1]))\n"
      ],
      "execution_count": 4,
      "outputs": []
    },
    {
      "cell_type": "markdown",
      "metadata": {
        "id": "iRvlGAmjmxbw"
      },
      "source": [
        "## Emnist数据集的预处理"
      ]
    },
    {
      "cell_type": "code",
      "metadata": {
        "id": "uUdPNuYqDmbD",
        "colab": {
          "base_uri": "https://localhost:8080/"
        },
        "outputId": "2808592c-226a-4790-ee09-60c4e544adfc"
      },
      "source": [
        "LetterDataSet = emnist.extract_training_samples('letters')\n",
        "DigitDataSet = emnist.extract_training_samples('digits')\n",
        "\n",
        "LetterDataSet = (np.expand_dims(LetterDataSet[0]/255.0,axis=3),np.expand_dims(LetterDataSet[1]*0+10,axis=1)) \n",
        "DigitDataSet = (np.expand_dims(DigitDataSet[0]/255.0,axis=3),np.expand_dims(DigitDataSet[1],axis=1))"
      ],
      "execution_count": 5,
      "outputs": [
        {
          "output_type": "stream",
          "text": [
            "Downloading emnist.zip: 536MB [00:02, 194MB/s]\n"
          ],
          "name": "stderr"
        }
      ]
    },
    {
      "cell_type": "code",
      "metadata": {
        "id": "0m0trPD8oxLO"
      },
      "source": [
        "sa = set()\n",
        "for [i] in LetterDataSet[1].tolist():\n",
        "  sa.add(i)\n",
        "for [i] in DigitDataSet[1].tolist():\n",
        "  sa.add(i)\n",
        "sa"
      ],
      "execution_count": null,
      "outputs": []
    },
    {
      "cell_type": "code",
      "metadata": {
        "colab": {
          "base_uri": "https://localhost:8080/"
        },
        "id": "N66yuvvfDmHF",
        "outputId": "e6e9f4af-bdfc-4f3c-a063-04ee955b31f8"
      },
      "source": [
        "LetterDataSet[0].shape,DigitDataSet[0].shape"
      ],
      "execution_count": null,
      "outputs": [
        {
          "output_type": "execute_result",
          "data": {
            "text/plain": [
              "((124800, 28, 28, 1), (240000, 28, 28, 1))"
            ]
          },
          "metadata": {
            "tags": []
          },
          "execution_count": 92
        }
      ]
    },
    {
      "cell_type": "code",
      "metadata": {
        "id": "qA_gvtUkm8sV"
      },
      "source": [
        "ShareData = DigitDataSet[0][0:200]\n",
        "ShareLabel = DigitDataSet[1][0:200]\n",
        "validation_data=(ShareData,ShareLabel)"
      ],
      "execution_count": 6,
      "outputs": []
    },
    {
      "cell_type": "markdown",
      "metadata": {
        "id": "2L712LCIm6Vv"
      },
      "source": [
        "## 模型的定义"
      ]
    },
    {
      "cell_type": "code",
      "metadata": {
        "id": "C0noj5RjmF0i"
      },
      "source": [
        "class FLModel(tf.keras.Model):\n",
        "  def __init__(self,row,col,num_classes=62,*args,**kwargs):\n",
        "    super(FLModel,self).__init__(*args,**kwargs)\n",
        "    self.row = row\n",
        "    self.col = col\n",
        "    self.num_classes = num_classes\n",
        "    # self.flatten = tf.keras.layers.Flatten(input_shape=(row,col))\n",
        "    # self.dense_1 = tf.keras.layers.Dense(128,activation='relu',name=\"dense_1\")\n",
        "    # self.dense_2 = tf.keras.layers.Dense(num_classes,activation='softmax',name=\"dense_2\")\n",
        "    # self.drop = tf.keras.layers.Dropout(0.2)\n",
        "    \n",
        "    self.model = models.Sequential()\n",
        "    # 第1层卷积，卷积核大小为3*3，32个，28*28为待训练图片的大小\n",
        "    self.model.add(layers.Conv2D(32, (3, 3), activation='relu', input_shape=(self.row, self.col, 1)))\n",
        "    self.model.add(layers.MaxPooling2D((2, 2)))\n",
        "    # 第2层卷积，卷积核大小为3*3，64个\n",
        "    self.model.add(layers.Conv2D(64, (3, 3), activation='relu'))\n",
        "    self.model.add(layers.MaxPooling2D((2, 2)))\n",
        "    # 第3层卷积，卷积核大小为3*3，64个\n",
        "    self.model.add(layers.Conv2D(64, (3, 3), activation='relu'))\n",
        "\n",
        "    self.model.add(layers.Flatten())\n",
        "    self.model.add(layers.Dense(64, activation='relu'))\n",
        "    self.model.add(layers.Dense(num_classes, activation='softmax'))\n",
        "\n",
        "    # self.model.summary()\n",
        "\n",
        "    # self.model = model\n",
        "\n",
        "\n",
        "  \n",
        "  # def call(self,inputs):\n",
        "  #   x = self.flatten(inputs)\n",
        "  #   x = self.dense_1(x)\n",
        "  #   x = self.drop(x)\n",
        "  #   x = self.dense_2(x)\n",
        "  #   return x\n",
        "  def call(self,inputs):\n",
        "    return self.model(inputs)\n",
        "\n",
        "  def copy(self):\n",
        "    NewModel = FLModel(self.row,self.col,self.num_classes)\n",
        "    _ = NewModel(tf.convert_to_tensor(np.zeros([1,self.row,self.col,1])))\n",
        "    ##Layers\n",
        "    NewVars = NewModel.trainable_variables #此处为空列表，因为没有训练,这个地方参数传递是不是有问题\n",
        "    OldVars = self.trainable_variables\n",
        "    for n,o in zip(NewVars,OldVars):\n",
        "      n.assign(o.numpy())\n",
        "    return NewModel\n",
        "\n",
        "  # def compute_output_shape(self,input_shape):\n",
        "  #   shape = tf.TensorShape(input_shape).as_list()\n",
        "  #   shape[-1] = self.num_classes\n",
        "  #   return tf.TensorShape(shape)"
      ],
      "execution_count": 7,
      "outputs": []
    },
    {
      "cell_type": "markdown",
      "metadata": {
        "id": "Z5LMvoXcoiz2"
      },
      "source": [
        "#Client Initialization\n",
        "模型训练和评估都要重写"
      ]
    },
    {
      "cell_type": "code",
      "metadata": {
        "id": "Hvu8wCjbooCF"
      },
      "source": [
        "class Client(object):\n",
        "  def __init__(self,id,model=None,Train_dataset=None,Test_dataset=None):\n",
        "    self.id = id\n",
        "    self.model = model\n",
        "    self.Train_dataset = Train_dataset\n",
        "    self.Test_dataset = Test_dataset\n",
        "    # from ParamServer\n",
        "    self.ParamModel = None\n",
        "    self.num_epochs = 5\n",
        "    self.batch_size = 32\n",
        "    self.shuffle_buffer = 100\n",
        "    self.prefetch_buffer = 10\n",
        "\n",
        "\n",
        "  def ReceiveModel(self,ParamModel,num_epochs=1,batch_size=32,shuffle_buffer=100,prefetch_buffer=10):\n",
        "    self.ParamModel = ParamModel\n",
        "    self.num_epochs = num_epochs\n",
        "    self.batch_size = batch_size\n",
        "    self.shuffle_buffer = shuffle_buffer\n",
        "    self.prefetch_buffer = prefetch_buffer\n",
        "  \n",
        "\n",
        "  # def preprocess(self,dataset):\n",
        "  #   def batch_format_fn(element):\n",
        "  #     return collections.OrderedDict(\n",
        "            \n",
        "  #           x = tf.reshape(element['pixels'],[-1,784]),\n",
        "  #           y = tf.reshape(element['label'],[-1,1])\n",
        "  #         )\n",
        "  #   return dataset.repeat(self.num_epochs).shuffle(self.shuffle_buffer).batch(\n",
        "  #       self.batch_size).map(batch_format_fn).prefetch(self.prefetch_buffer)\n",
        "\n",
        "  def NodeTrain(self):\n",
        "    model = self.ParamModel\n",
        "    # pre_data = self.preprocess(self.Train_dataset)\n",
        "    # print(type(pre_data))\n",
        "    # model.fit(x=pre_data['x'],y=pre_data['y'],batch_size=self.batch_size,epochs=self.num_epochs)\n",
        "    # x = np.array([i['pixels'].numpy() for i in self.Train_dataset])\n",
        "    # y = np.array([i['label'].numpy() for i in self.Train_dataset])\n",
        "    x,y = self.Train_dataset\n",
        "    model.compile(\n",
        "        # optimizer=keras.optimizers.SGD(lr=0.01, momentum=0.0, decay=0.0, nesterov=False),##'adam',\n",
        "        optimizer='adam',\n",
        "        loss='sparse_categorical_crossentropy',\n",
        "        metrics=['accuracy'])\n",
        "    # log_dir=\"logs/fit/\" + datetime.datetime.now().strftime(\"%Y%m%d-%H%M%S\")\n",
        "    # tensorboard_callback = tf.keras.callbacks.TensorBoard(log_dir=log_dir, histogram_freq=1)\n",
        "    _metrics = model.fit(x,y,batch_size=self.batch_size,epochs=self.num_epochs)\n",
        "    self.model = model\n",
        "\n",
        "  def NodeEval(self):\n",
        "    x,y = self.Test_dataset\n",
        "    return self.model.evaluate(x,y)\n"
      ],
      "execution_count": 8,
      "outputs": []
    },
    {
      "cell_type": "markdown",
      "metadata": {
        "id": "MwmKo3gLrI-i"
      },
      "source": [
        "# 阶段一：为Client分配数据（预处理工作）"
      ]
    },
    {
      "cell_type": "markdown",
      "metadata": {
        "id": "En8MczNik638"
      },
      "source": [
        "#阶段一：服务器完成模型初始化"
      ]
    },
    {
      "cell_type": "code",
      "metadata": {
        "id": "m2w8RJUtGss2"
      },
      "source": [
        "def create_data_for_clients(SampleNum,LetterDataSet,DigitDataSet,DigitPercentage=0.7):\n",
        "  DigitNum = int(SampleNum*DigitPercentage)\n",
        "  LetterNum = SampleNum - DigitNum\n",
        "  x_sequence = []\n",
        "  y_sequence = []\n",
        "  if DigitNum > 0:\n",
        "    for i in range(DigitNum):\n",
        "      index = random.randint(0,len(DigitDataSet[0])-1)\n",
        "      x_sequence.append(DigitDataSet[0][index])\n",
        "      y_sequence.append(DigitDataSet[1][index])\n",
        "  if LetterNum > 0:\n",
        "    for j in range(LetterNum):\n",
        "      index = random.randint(0,len(LetterDataSet[0])-1)\n",
        "      x_sequence.append(LetterDataSet[0][index])\n",
        "      y_sequence.append(LetterDataSet[1][index])\n",
        "  # print(x_sequence[1].shape,y_sequence[1].shape)\n",
        "  x = np.array(x_sequence,dtype=np.float64)\n",
        "  y = np.array(y_sequence,dtype=np.int8)\n",
        "  #shuffle\n",
        "  state = np.random.get_state()\n",
        "  np.random.shuffle(x)\n",
        "  np.random.set_state(state)\n",
        "  np.random.shuffle(y)\n",
        "  \n",
        "  return (x,y)"
      ],
      "execution_count": 9,
      "outputs": []
    },
    {
      "cell_type": "code",
      "metadata": {
        "id": "QE_WXcMMt1kP"
      },
      "source": [
        "NUM_CLIENTS = 12\n",
        "NUM_TRAIN_SAMPLE_CLIENT = 256\n",
        "NUM_TEST_SAMPLE_CLIENT = 256"
      ],
      "execution_count": 10,
      "outputs": []
    },
    {
      "cell_type": "code",
      "metadata": {
        "id": "-Tmf__umcO1l"
      },
      "source": [
        "clients=[]\n",
        "for i in range(NUM_CLIENTS):\n",
        "  clients.append(Client(i,\n",
        "                        Train_dataset=create_data_for_clients(SampleNum=random.randint(256,1280),\n",
        "                                                              LetterDataSet=LetterDataSet,\n",
        "                                                              DigitDataSet=DigitDataSet,\n",
        "                                                              DigitPercentage=random.random()),\n",
        "                        Test_dataset=validation_data\n",
        "                        )\n",
        "  )"
      ],
      "execution_count": 11,
      "outputs": []
    },
    {
      "cell_type": "markdown",
      "metadata": {
        "id": "V9Jjje417iuZ"
      },
      "source": [
        "Show DataSet"
      ]
    },
    {
      "cell_type": "code",
      "metadata": {
        "colab": {
          "base_uri": "https://localhost:8080/",
          "height": 879
        },
        "id": "7RO4LfKq72nf",
        "outputId": "9a915675-54d5-4acb-df64-799d3ad5d8de"
      },
      "source": [
        "f = plt.figure(figsize=(15,15))\n",
        "for i in range(NUM_CLIENTS):\n",
        "  client_dataset = clients[i].Train_dataset\n",
        "  plot_data = collections.defaultdict(list)\n",
        "  for [label] in client_dataset[1].tolist():\n",
        "    plot_data[label].append(label)\n",
        "  plt.subplot(3,4,i+1)\n",
        "  plt.title('Client {}'.format(i))\n",
        "  for j in range(len(plot_data)):\n",
        "    plt.hist(\n",
        "        plot_data[j],\n",
        "        density = False,\n",
        "        bins = [x for x in range(len(plot_data)+1)]\n",
        "    )"
      ],
      "execution_count": 12,
      "outputs": [
        {
          "output_type": "display_data",
          "data": {
            "image/png": "[encoded data removed]",
            "text/plain": [
              "<Figure size 1080x1080 with 12 Axes>"
            ]
          },
          "metadata": {
            "tags": [],
            "needs_background": "light"
          }
        }
      ]
    },
    {
      "cell_type": "markdown",
      "metadata": {
        "id": "JfqcXNr8jqi1"
      },
      "source": [
        "显示一下数字与字母的对比\n"
      ]
    },
    {
      "cell_type": "code",
      "metadata": {
        "colab": {
          "base_uri": "https://localhost:8080/",
          "height": 862
        },
        "id": "SkJ-l1ZSjpWf",
        "outputId": "378b1b6c-20f4-4445-ce43-52691d28f2b2"
      },
      "source": [
        "f = plt.figure(figsize=(15,15))\n",
        "for i in range(NUM_CLIENTS):\n",
        "  client_dataset = clients[i].Train_dataset\n",
        "  plot_data = {0:0,1:0}\n",
        "  plot_labels = ['digits','letters']\n",
        "  for label in client_dataset[1]:\n",
        "    label = 0 if label < 10 else 1\n",
        "    plot_data[label]+=1\n",
        "  # print(plot_data)\n",
        "  data_labels = list(sorted(plot_data.keys()))\n",
        "  # print(data_labels)\n",
        "  data_nums = [plot_data[i] for i in data_labels]\n",
        "  colors = ['red','blue']\n",
        "  plt.subplot(3,4,i+1)\n",
        "  patches,text1,text2 = plt.pie(data_nums,\n",
        "                              labels=plot_labels,\n",
        "                              autopct='%3.2f%%',\n",
        "                              shadow=False,\n",
        "                              startangle=90,\n",
        "                              pctdistance=0.6)\n",
        "  plt.axis('equal')\n",
        "  plt.title('Client {}'.format(i))\n",
        "plt.show()\n"
      ],
      "execution_count": 13,
      "outputs": [
        {
          "output_type": "display_data",
          "data": {
            "image/png": "[encoded data removed]",
            "text/plain": [
              "<Figure size 1080x1080 with 12 Axes>"
            ]
          },
          "metadata": {
            "tags": []
          }
        }
      ]
    },
    {
      "cell_type": "code",
      "metadata": {
        "id": "UWBR9P212HDF"
      },
      "source": [
        ""
      ],
      "execution_count": null,
      "outputs": []
    },
    {
      "cell_type": "markdown",
      "metadata": {
        "id": "6PVxsGIpvlLn"
      },
      "source": [
        "##阶段二：中央服务器下发模型"
      ]
    },
    {
      "cell_type": "markdown",
      "metadata": {
        "id": "A5NIsOQgRp9h"
      },
      "source": [
        "Distance Between two models"
      ]
    },
    {
      "cell_type": "code",
      "metadata": {
        "id": "fX5rrSBk72Vw"
      },
      "source": [
        "def Distance(HookModel,TestModel):\n",
        "  len_it = len(HookModel.trainable_variables)\n",
        "  Hook_weights=[]\n",
        "  Test_weights=[]\n",
        "  for index in range(len_it):\n",
        "    Hook_weights.append(HookModel.trainable_variables[index].numpy().reshape(-1,))\n",
        "    Test_weights.append(TestModel.trainable_variables[index].numpy().reshape(-1,))\n",
        "  target = []\n",
        "  dis_norm2=[]\n",
        "  for i in range(len_it):\n",
        "    target.append(Hook_weights[i]-Test_weights[i])\n",
        "    dis_norm2.append(np.linalg.norm(target[i],2))\n",
        "  weight_weights = np.ones([len_it,1])\n",
        "  #调整权重\n",
        "  # weight_weights[0]=0\n",
        "  # weight_weights[1]=0\n",
        "  dis = np.dot(dis_norm2,weight_weights)\n",
        "  return dis\n",
        "  # return dis_norm2"
      ],
      "execution_count": 14,
      "outputs": []
    },
    {
      "cell_type": "code",
      "metadata": {
        "id": "KI9PCWxY716I"
      },
      "source": [
        "def BetterNode(clients,model,Total_NUM,FedAvg_NUM):\n",
        "  NodeDict=collections.OrderedDict()\n",
        "  for i in range(Total_NUM):\n",
        "    NodeDict[i] = Distance(model,clients[i].model)\n",
        "  Dlst = sorted(NodeDict.items(),key=lambda x:x[1])\n",
        "  NodeList = []\n",
        "  for i in range(FedAvg_NUM):\n",
        "    NodeList.append(Dlst[i][0])\n",
        "  return (NodeList,NodeDict)"
      ],
      "execution_count": 15,
      "outputs": []
    },
    {
      "cell_type": "markdown",
      "metadata": {
        "id": "_uNjI7abv3Vs"
      },
      "source": [
        "模型初始化"
      ]
    },
    {
      "cell_type": "code",
      "metadata": {
        "id": "PLJekuPtvxZl",
        "colab": {
          "base_uri": "https://localhost:8080/"
        },
        "outputId": "56439bfb-dd0c-4211-a2f6-e2174281ed6a"
      },
      "source": [
        "InitModel = FLModel(row=28,col=28,num_classes=11)\n",
        "S = ParamServer(\"\")\n",
        "S.PreEval(InitModel,validation_data)"
      ],
      "execution_count": 40,
      "outputs": [
        {
          "output_type": "stream",
          "text": [
            "7/7 [==============================] - 0s 3ms/step - loss: 2.4127 - accuracy: 0.0295\n"
          ],
          "name": "stdout"
        }
      ]
    },
    {
      "cell_type": "code",
      "metadata": {
        "colab": {
          "base_uri": "https://localhost:8080/"
        },
        "id": "4K48O8MylnxW",
        "outputId": "269bf714-c381-4db1-8905-d8b9437a0f14"
      },
      "source": [
        "InitModel.model.summary()"
      ],
      "execution_count": 17,
      "outputs": [
        {
          "output_type": "stream",
          "text": [
            "Model: \"sequential\"\n",
            "_________________________________________________________________\n",
            "Layer (type)                 Output Shape              Param #   \n",
            "=================================================================\n",
            "conv2d (Conv2D)              (None, 26, 26, 32)        320       \n",
            "_________________________________________________________________\n",
            "max_pooling2d (MaxPooling2D) (None, 13, 13, 32)        0         \n",
            "_________________________________________________________________\n",
            "conv2d_1 (Conv2D)            (None, 11, 11, 64)        18496     \n",
            "_________________________________________________________________\n",
            "max_pooling2d_1 (MaxPooling2 (None, 5, 5, 64)          0         \n",
            "_________________________________________________________________\n",
            "conv2d_2 (Conv2D)            (None, 3, 3, 64)          36928     \n",
            "_________________________________________________________________\n",
            "flatten (Flatten)            (None, 576)               0         \n",
            "_________________________________________________________________\n",
            "dense (Dense)                (None, 64)                36928     \n",
            "_________________________________________________________________\n",
            "dense_1 (Dense)              (None, 11)                715       \n",
            "=================================================================\n",
            "Total params: 93,387\n",
            "Trainable params: 93,387\n",
            "Non-trainable params: 0\n",
            "_________________________________________________________________\n"
          ],
          "name": "stdout"
        }
      ]
    },
    {
      "cell_type": "code",
      "metadata": {
        "id": "JOyiDCbPe9Jc"
      },
      "source": [
        "SendModel = InitModel"
      ],
      "execution_count": 41,
      "outputs": []
    },
    {
      "cell_type": "code",
      "metadata": {
        "colab": {
          "base_uri": "https://localhost:8080/"
        },
        "id": "SGo2NYXsv96h",
        "outputId": "b54feb70-dbc0-4faa-f52f-9fab309fd1ef"
      },
      "source": [
        "SendModel = S.PreTrain(InitModel,ShareData,ShareLabel,epochs=1)\n",
        "S.PreEval(SendModel,validation_data)"
      ],
      "execution_count": 42,
      "outputs": [
        {
          "output_type": "stream",
          "text": [
            "7/7 [==============================] - 0s 4ms/step - loss: 2.3782 - accuracy: 0.0610\n",
            "7/7 [==============================] - 0s 3ms/step - loss: 2.2064 - accuracy: 0.2839\n"
          ],
          "name": "stdout"
        }
      ]
    },
    {
      "cell_type": "markdown",
      "metadata": {
        "id": "7OmptaMzpR0P"
      },
      "source": [
        "# 阶段三：Clients 训练节点数据并聚合\n"
      ]
    },
    {
      "cell_type": "code",
      "metadata": {
        "id": "kr2PkfomvfWw"
      },
      "source": [
        ""
      ],
      "execution_count": null,
      "outputs": []
    },
    {
      "cell_type": "code",
      "metadata": {
        "id": "ve8Dc1KewGH_"
      },
      "source": [
        "def FedAvg(NUM_CLIENTS,model,FedAvg_NUM=7):\n",
        "  iterModel = model.copy()\n",
        "  len_it = len(iterModel.trainable_variables)\n",
        "  all_weights = []\n",
        "  FedNodeList=BetterNode(clients,iterModel,NUM_CLIENTS,FedAvg_NUM)\n",
        "  print(\"FedAvg Node is\",FedNodeList)\n",
        "\n",
        "  # for c in range(Cut):\n",
        "  #   # tmp =np.array(iterModel.trainable_variables[c].numpy(),dtype='float64')\n",
        "  #   all_weights.append(iterModel.trainable_variables[c].numpy())\n",
        "\n",
        "  for weights_index in range(len_it):\n",
        "    tmp =np.zeros(iterModel.trainable_variables[weights_index].numpy().shape,dtype='float64')\n",
        "\n",
        "    for node in FedNodeList:\n",
        "      tmp += clients[node].model.trainable_variables[weights_index].numpy()\n",
        "    all_weights.append(tmp/FedAvg_NUM)\n",
        "  # print(all_weights)\n",
        "  iterModel_vars = iterModel.trainable_variables\n",
        "  for iter_v,n in zip(iterModel_vars,all_weights):\n",
        "    iter_v.assign(n)\n",
        "  return (iterModel,FedNodeList)"
      ],
      "execution_count": 20,
      "outputs": []
    },
    {
      "cell_type": "code",
      "metadata": {
        "id": "I6HSFpcqrK_2"
      },
      "source": [
        "def FedAvgwithAcc(NUM_CLIENTS,model,FedAvg_NUM,Weights):\n",
        "  iterModel = model.copy()\n",
        "  len_it = len(iterModel.trainable_variables)\n",
        "  all_weights = []\n",
        "  FedNodeList,NodeDict=BetterNode(clients,iterModel,NUM_CLIENTS,FedAvg_NUM)\n",
        "  # print(\"FedAvg Node is\",FedNodeList)\n",
        "\n",
        "  # for c in range(Cut):\n",
        "  #   # tmp =np.array(iterModel.trainable_variables[c].numpy(),dtype='float64')\n",
        "  #   all_weights.append(iterModel.trainable_variables[c].numpy())\n",
        "  # mult = [np.exp(Weights[i])*NodeDict[i] for i in range(NUM_CLIENTS)]\n",
        "  mult = [Weights[i]*NodeDict[i] for i in range(NUM_CLIENTS)]\n",
        "  exp_sum = np.sum(mult)\n",
        "  Weights = mult/exp_sum\n",
        "  ###Softmax\n",
        "  FedAvg_NUM = NUM_CLIENTS\n",
        "  for weights_index in range(len_it):\n",
        "    tmp =np.zeros(iterModel.trainable_variables[weights_index].numpy().shape,dtype='float64')\n",
        "\n",
        "    # for node in FedNodeList:\n",
        "    for node in range(NUM_CLIENTS):\n",
        "      tmp += clients[node].model.trainable_variables[weights_index].numpy()*Weights[node]\n",
        "    all_weights.append(tmp)\n",
        "  # print(all_weights)\n",
        "  iterModel_vars = iterModel.trainable_variables\n",
        "  for iter_v,n in zip(iterModel_vars,all_weights):\n",
        "    iter_v.assign(n)\n",
        "  return (iterModel,FedNodeList)"
      ],
      "execution_count": 39,
      "outputs": []
    },
    {
      "cell_type": "code",
      "metadata": {
        "id": "jl3dF36dw2hC"
      },
      "source": [
        "NUM_EPOCHS = 20"
      ],
      "execution_count": 22,
      "outputs": []
    },
    {
      "cell_type": "code",
      "metadata": {
        "colab": {
          "base_uri": "https://localhost:8080/"
        },
        "id": "ocfoXDNgyTdP",
        "outputId": "8ed72f0f-4271-4630-8ad5-0b47970dc3a8"
      },
      "source": [
        "# NodeList=[]\n",
        "# participator = NUM_CLIENTS\n",
        "# for e in range(NUM_EPOCHS):\n",
        "#   print(\"EPOCHS {} is starting...\".format(e))\n",
        "#   for i in range(NUM_CLIENTS):\n",
        "#     clients[i].ReceiveModel(SendModel.copy())\n",
        "#     clients[i].NodeTrain()\n",
        "#     # clients[i].NodeEval()\n",
        "#     # DIS.append(Distance(SendModel,clients[i].model))\n",
        "#   if participator < int(0.6*NUM_CLIENTS):\n",
        "#     participator = int(0.6*NUM_CLIENTS) \n",
        "#   FedModel,li = FedAvg(NUM_CLIENTS,SendModel,FedAvg_NUM=participator)\n",
        "#   participator = participator-1\n",
        "#   NodeList.append(li)\n",
        "#   S.PreEval(FedModel,validation_data)\n",
        "#   SendModel = FedModel.copy()"
      ],
      "execution_count": null,
      "outputs": [
        {
          "output_type": "stream",
          "text": [
            "EPOCHS 0 is starting...\n",
            "40/40 [==============================] - 2s 28ms/step - loss: 2.1896 - accuracy: 0.2899\n",
            "40/40 [==============================] - 2s 28ms/step - loss: 1.4690 - accuracy: 0.7032\n",
            "40/40 [==============================] - 2s 27ms/step - loss: 2.1655 - accuracy: 0.3039\n",
            "40/40 [==============================] - 2s 28ms/step - loss: 1.0224 - accuracy: 0.8243\n",
            "40/40 [==============================] - 2s 27ms/step - loss: 2.1941 - accuracy: 0.2155\n",
            "40/40 [==============================] - 1s 27ms/step - loss: 1.9817 - accuracy: 0.4396\n",
            "40/40 [==============================] - 2s 27ms/step - loss: 1.1202 - accuracy: 0.8125\n",
            "40/40 [==============================] - 2s 28ms/step - loss: 2.1607 - accuracy: 0.2967\n",
            "40/40 [==============================] - 2s 27ms/step - loss: 2.1719 - accuracy: 0.2308\n",
            "40/40 [==============================] - 2s 28ms/step - loss: 2.0603 - accuracy: 0.4243\n",
            "FedAvg Node is [1, 6, 3, 5, 9, 7, 0, 4, 8, 2]\n",
            "7/7 [==============================] - 0s 10ms/step - loss: 3.5404 - accuracy: 0.0000e+00\n",
            "EPOCHS 1 is starting...\n",
            "40/40 [==============================] - 2s 27ms/step - loss: 1.6572 - accuracy: 0.4499\n",
            "40/40 [==============================] - 2s 27ms/step - loss: 0.9247 - accuracy: 0.7876\n",
            "40/40 [==============================] - 2s 27ms/step - loss: 1.9593 - accuracy: 0.3943\n",
            "40/40 [==============================] - 2s 28ms/step - loss: 0.3350 - accuracy: 0.9537\n",
            "40/40 [==============================] - 2s 27ms/step - loss: 1.9101 - accuracy: 0.4138\n",
            "40/40 [==============================] - 2s 28ms/step - loss: 1.5001 - accuracy: 0.5579\n",
            "40/40 [==============================] - 2s 27ms/step - loss: 0.4719 - accuracy: 0.9147\n",
            "40/40 [==============================] - 2s 27ms/step - loss: 1.7017 - accuracy: 0.4564\n",
            "40/40 [==============================] - 2s 27ms/step - loss: 1.8991 - accuracy: 0.4007\n",
            "40/40 [==============================] - 2s 28ms/step - loss: 1.5531 - accuracy: 0.5292\n",
            "FedAvg Node is [3, 6, 1, 5, 9, 7, 0, 8, 4]\n",
            "7/7 [==============================] - 0s 8ms/step - loss: 1.9692 - accuracy: 0.2237\n",
            "EPOCHS 2 is starting...\n",
            "40/40 [==============================] - 2s 28ms/step - loss: 1.1101 - accuracy: 0.6019\n",
            "40/40 [==============================] - 2s 28ms/step - loss: 0.6705 - accuracy: 0.8078\n",
            "40/40 [==============================] - 2s 27ms/step - loss: 1.0545 - accuracy: 0.6693\n",
            "40/40 [==============================] - 2s 27ms/step - loss: 0.2905 - accuracy: 0.9353\n",
            "40/40 [==============================] - 2s 28ms/step - loss: 1.0448 - accuracy: 0.6498\n",
            "40/40 [==============================] - 2s 27ms/step - loss: 1.0106 - accuracy: 0.6589\n",
            "40/40 [==============================] - 2s 28ms/step - loss: 0.4049 - accuracy: 0.9172\n",
            "40/40 [==============================] - 2s 28ms/step - loss: 1.0451 - accuracy: 0.6244\n",
            "40/40 [==============================] - 2s 27ms/step - loss: 1.0924 - accuracy: 0.6354\n",
            "40/40 [==============================] - 2s 28ms/step - loss: 0.9351 - accuracy: 0.6598\n",
            "FedAvg Node is [6, 3, 1, 5, 9, 7, 0, 8]\n",
            "7/7 [==============================] - 0s 10ms/step - loss: 1.2530 - accuracy: 0.5191\n",
            "EPOCHS 3 is starting...\n",
            "40/40 [==============================] - 2s 28ms/step - loss: 0.7669 - accuracy: 0.7408\n",
            "40/40 [==============================] - 2s 28ms/step - loss: 0.5277 - accuracy: 0.8286\n",
            "40/40 [==============================] - 2s 28ms/step - loss: 0.6833 - accuracy: 0.7781\n",
            "40/40 [==============================] - 2s 28ms/step - loss: 0.2767 - accuracy: 0.9379\n",
            "40/40 [==============================] - 2s 27ms/step - loss: 0.7600 - accuracy: 0.7331\n",
            "40/40 [==============================] - 2s 28ms/step - loss: 0.8369 - accuracy: 0.6905\n",
            "40/40 [==============================] - 2s 28ms/step - loss: 0.3382 - accuracy: 0.9169\n",
            "40/40 [==============================] - 2s 28ms/step - loss: 0.8761 - accuracy: 0.7018\n",
            "40/40 [==============================] - 2s 28ms/step - loss: 0.8463 - accuracy: 0.6972\n",
            "40/40 [==============================] - 2s 29ms/step - loss: 0.7556 - accuracy: 0.7154\n",
            "FedAvg Node is [3, 6, 1, 9, 5, 0, 4]\n",
            "7/7 [==============================] - 0s 8ms/step - loss: 1.1013 - accuracy: 0.5604\n",
            "EPOCHS 4 is starting...\n",
            "40/40 [==============================] - 2s 28ms/step - loss: 0.6710 - accuracy: 0.7576\n",
            "40/40 [==============================] - 2s 28ms/step - loss: 0.4900 - accuracy: 0.8319\n",
            "40/40 [==============================] - 2s 28ms/step - loss: 0.6012 - accuracy: 0.8000\n",
            "40/40 [==============================] - 2s 28ms/step - loss: 0.2361 - accuracy: 0.9392\n",
            "40/40 [==============================] - 2s 27ms/step - loss: 0.6803 - accuracy: 0.7739\n",
            "40/40 [==============================] - 2s 28ms/step - loss: 0.6930 - accuracy: 0.7563\n",
            "40/40 [==============================] - 2s 28ms/step - loss: 0.3395 - accuracy: 0.9171\n",
            "40/40 [==============================] - 2s 28ms/step - loss: 0.7096 - accuracy: 0.7586\n",
            "40/40 [==============================] - 2s 28ms/step - loss: 0.7037 - accuracy: 0.7747\n",
            "40/40 [==============================] - 2s 27ms/step - loss: 0.6958 - accuracy: 0.7379\n",
            "FedAvg Node is [1, 6, 3, 9, 5, 7]\n",
            "7/7 [==============================] - 0s 8ms/step - loss: 1.0935 - accuracy: 0.5932\n",
            "EPOCHS 5 is starting...\n",
            "40/40 [==============================] - 2s 28ms/step - loss: 0.6439 - accuracy: 0.7663\n",
            "40/40 [==============================] - 2s 28ms/step - loss: 0.4551 - accuracy: 0.8234\n",
            "40/40 [==============================] - 2s 28ms/step - loss: 0.5971 - accuracy: 0.7836\n",
            "40/40 [==============================] - 2s 28ms/step - loss: 0.2078 - accuracy: 0.9558\n",
            "40/40 [==============================] - 2s 28ms/step - loss: 0.6186 - accuracy: 0.8201\n",
            "40/40 [==============================] - 2s 28ms/step - loss: 0.6608 - accuracy: 0.7489\n",
            "40/40 [==============================] - 2s 28ms/step - loss: 0.3129 - accuracy: 0.9064\n",
            "40/40 [==============================] - 2s 28ms/step - loss: 0.6868 - accuracy: 0.7594\n",
            "40/40 [==============================] - 2s 27ms/step - loss: 0.5983 - accuracy: 0.7951\n",
            "40/40 [==============================] - 2s 28ms/step - loss: 0.6669 - accuracy: 0.7547\n",
            "FedAvg Node is [6, 3, 1, 5, 9, 7]\n",
            "7/7 [==============================] - 0s 9ms/step - loss: 1.0485 - accuracy: 0.6107\n",
            "EPOCHS 6 is starting...\n",
            "40/40 [==============================] - 2s 28ms/step - loss: 0.5949 - accuracy: 0.7799\n",
            "40/40 [==============================] - 2s 28ms/step - loss: 0.4274 - accuracy: 0.8403\n",
            "40/40 [==============================] - 2s 28ms/step - loss: 0.4993 - accuracy: 0.8352\n",
            "40/40 [==============================] - 2s 28ms/step - loss: 0.1836 - accuracy: 0.9514\n",
            "40/40 [==============================] - 2s 27ms/step - loss: 0.5954 - accuracy: 0.8022\n",
            "40/40 [==============================] - 2s 27ms/step - loss: 0.6176 - accuracy: 0.7899\n",
            "40/40 [==============================] - 2s 28ms/step - loss: 0.2688 - accuracy: 0.9255\n",
            "40/40 [==============================] - 2s 28ms/step - loss: 0.5753 - accuracy: 0.8030\n",
            "40/40 [==============================] - 2s 28ms/step - loss: 0.5811 - accuracy: 0.8248\n",
            "40/40 [==============================] - 2s 28ms/step - loss: 0.5530 - accuracy: 0.7909\n",
            "FedAvg Node is [1, 6, 9, 5, 0, 3]\n",
            "7/7 [==============================] - 0s 8ms/step - loss: 0.8591 - accuracy: 0.7099\n",
            "EPOCHS 7 is starting...\n",
            "40/40 [==============================] - 2s 27ms/step - loss: 0.5474 - accuracy: 0.8097\n",
            "40/40 [==============================] - 2s 28ms/step - loss: 0.3781 - accuracy: 0.8670\n",
            "40/40 [==============================] - 2s 28ms/step - loss: 0.5108 - accuracy: 0.8373\n",
            "40/40 [==============================] - 2s 27ms/step - loss: 0.1966 - accuracy: 0.9487\n",
            "40/40 [==============================] - 2s 28ms/step - loss: 0.5809 - accuracy: 0.7986\n",
            "40/40 [==============================] - 2s 28ms/step - loss: 0.5736 - accuracy: 0.7989\n",
            "40/40 [==============================] - 2s 28ms/step - loss: 0.2497 - accuracy: 0.9216\n",
            "40/40 [==============================] - 2s 28ms/step - loss: 0.5537 - accuracy: 0.8087\n",
            "40/40 [==============================] - 2s 28ms/step - loss: 0.5472 - accuracy: 0.7994\n",
            "40/40 [==============================] - 2s 28ms/step - loss: 0.5646 - accuracy: 0.7938\n",
            "FedAvg Node is [1, 6, 3, 7, 9, 5]\n",
            "7/7 [==============================] - 0s 8ms/step - loss: 0.9280 - accuracy: 0.6096\n",
            "EPOCHS 8 is starting...\n",
            "40/40 [==============================] - 2s 28ms/step - loss: 0.5117 - accuracy: 0.8198\n",
            "40/40 [==============================] - 2s 28ms/step - loss: 0.3252 - accuracy: 0.8847\n",
            "40/40 [==============================] - 2s 28ms/step - loss: 0.4362 - accuracy: 0.8480\n",
            "40/40 [==============================] - 2s 27ms/step - loss: 0.1605 - accuracy: 0.9525\n",
            "40/40 [==============================] - 2s 28ms/step - loss: 0.5146 - accuracy: 0.8260\n",
            "40/40 [==============================] - 2s 28ms/step - loss: 0.5386 - accuracy: 0.7974\n",
            "40/40 [==============================] - 2s 27ms/step - loss: 0.2528 - accuracy: 0.9273\n",
            "40/40 [==============================] - 2s 28ms/step - loss: 0.5065 - accuracy: 0.8059\n",
            "40/40 [==============================] - 2s 28ms/step - loss: 0.4920 - accuracy: 0.8296\n",
            "40/40 [==============================] - 2s 28ms/step - loss: 0.5105 - accuracy: 0.8129\n",
            "FedAvg Node is [6, 1, 9, 3, 5, 7]\n",
            "7/7 [==============================] - 0s 8ms/step - loss: 0.7730 - accuracy: 0.7077\n",
            "EPOCHS 9 is starting...\n",
            "40/40 [==============================] - 2s 27ms/step - loss: 0.4847 - accuracy: 0.8173\n",
            "40/40 [==============================] - 2s 28ms/step - loss: 0.2825 - accuracy: 0.8915\n",
            "40/40 [==============================] - 2s 27ms/step - loss: 0.4128 - accuracy: 0.8672\n",
            "40/40 [==============================] - 2s 28ms/step - loss: 0.1800 - accuracy: 0.9577\n",
            "40/40 [==============================] - 2s 28ms/step - loss: 0.4740 - accuracy: 0.8338\n",
            "40/40 [==============================] - 2s 28ms/step - loss: 0.5339 - accuracy: 0.8104\n",
            "40/40 [==============================] - 2s 28ms/step - loss: 0.2122 - accuracy: 0.9398\n",
            "40/40 [==============================] - 2s 28ms/step - loss: 0.4500 - accuracy: 0.8427\n",
            "40/40 [==============================] - 2s 27ms/step - loss: 0.4502 - accuracy: 0.8533\n",
            "40/40 [==============================] - 2s 28ms/step - loss: 0.4464 - accuracy: 0.8336\n",
            "FedAvg Node is [1, 5, 6, 3, 9, 7]\n",
            "7/7 [==============================] - 0s 9ms/step - loss: 0.7348 - accuracy: 0.7114\n",
            "EPOCHS 10 is starting...\n",
            "40/40 [==============================] - 2s 27ms/step - loss: 0.4411 - accuracy: 0.8488\n",
            "40/40 [==============================] - 2s 27ms/step - loss: 0.3409 - accuracy: 0.8810\n",
            "40/40 [==============================] - 2s 28ms/step - loss: 0.3666 - accuracy: 0.8769\n",
            "40/40 [==============================] - 2s 28ms/step - loss: 0.1575 - accuracy: 0.9613\n",
            "40/40 [==============================] - 2s 28ms/step - loss: 0.4419 - accuracy: 0.8569\n",
            "40/40 [==============================] - 2s 29ms/step - loss: 0.4703 - accuracy: 0.8200\n",
            "40/40 [==============================] - 2s 28ms/step - loss: 0.2149 - accuracy: 0.9346\n",
            "40/40 [==============================] - 2s 28ms/step - loss: 0.4384 - accuracy: 0.8502\n",
            "40/40 [==============================] - 2s 27ms/step - loss: 0.4529 - accuracy: 0.8485\n",
            "40/40 [==============================] - 2s 28ms/step - loss: 0.4566 - accuracy: 0.8231\n",
            "FedAvg Node is [1, 6, 9, 5, 7, 0]\n",
            "7/7 [==============================] - 0s 10ms/step - loss: 0.5359 - accuracy: 0.8091\n",
            "EPOCHS 11 is starting...\n",
            "40/40 [==============================] - 2s 28ms/step - loss: 0.4428 - accuracy: 0.8371\n",
            "40/40 [==============================] - 2s 28ms/step - loss: 0.3071 - accuracy: 0.8856\n",
            "40/40 [==============================] - 2s 28ms/step - loss: 0.3446 - accuracy: 0.8905\n",
            "40/40 [==============================] - 2s 28ms/step - loss: 0.1889 - accuracy: 0.9292\n",
            "40/40 [==============================] - 2s 28ms/step - loss: 0.4214 - accuracy: 0.8671\n",
            "40/40 [==============================] - 2s 28ms/step - loss: 0.4381 - accuracy: 0.8270\n",
            "40/40 [==============================] - 2s 28ms/step - loss: 0.1878 - accuracy: 0.9321\n",
            "40/40 [==============================] - 2s 28ms/step - loss: 0.4240 - accuracy: 0.8674\n",
            "40/40 [==============================] - 2s 28ms/step - loss: 0.3800 - accuracy: 0.8631\n",
            "40/40 [==============================] - 2s 28ms/step - loss: 0.4286 - accuracy: 0.8468\n",
            "FedAvg Node is [7, 9, 1, 6, 5, 8]\n",
            "7/7 [==============================] - 0s 8ms/step - loss: 0.4700 - accuracy: 0.8214\n",
            "EPOCHS 12 is starting...\n",
            "40/40 [==============================] - 2s 28ms/step - loss: 0.4174 - accuracy: 0.8402\n",
            "40/40 [==============================] - 2s 28ms/step - loss: 0.3258 - accuracy: 0.8698\n",
            "40/40 [==============================] - 2s 28ms/step - loss: 0.3433 - accuracy: 0.8896\n",
            "40/40 [==============================] - 2s 28ms/step - loss: 0.1540 - accuracy: 0.9506\n",
            "40/40 [==============================] - 2s 27ms/step - loss: 0.3992 - accuracy: 0.8683\n",
            "40/40 [==============================] - 2s 28ms/step - loss: 0.4562 - accuracy: 0.8171\n",
            "40/40 [==============================] - 2s 28ms/step - loss: 0.2113 - accuracy: 0.9347\n",
            "40/40 [==============================] - 2s 28ms/step - loss: 0.3968 - accuracy: 0.8617\n",
            "40/40 [==============================] - 2s 28ms/step - loss: 0.3717 - accuracy: 0.8719\n",
            "40/40 [==============================] - 2s 28ms/step - loss: 0.3996 - accuracy: 0.8600\n",
            "FedAvg Node is [5, 6, 9, 1, 0, 7]\n",
            "7/7 [==============================] - 0s 9ms/step - loss: 0.4597 - accuracy: 0.8303\n",
            "EPOCHS 13 is starting...\n",
            "40/40 [==============================] - 2s 28ms/step - loss: 0.3699 - accuracy: 0.8568\n",
            "40/40 [==============================] - 2s 27ms/step - loss: 0.2999 - accuracy: 0.8863\n",
            "40/40 [==============================] - 2s 28ms/step - loss: 0.3251 - accuracy: 0.8889\n",
            "40/40 [==============================] - 2s 28ms/step - loss: 0.1565 - accuracy: 0.9470\n",
            "40/40 [==============================] - 2s 28ms/step - loss: 0.3860 - accuracy: 0.8774\n",
            "40/40 [==============================] - 2s 29ms/step - loss: 0.3959 - accuracy: 0.8358\n",
            "40/40 [==============================] - 2s 28ms/step - loss: 0.2173 - accuracy: 0.9283\n",
            "40/40 [==============================] - 2s 28ms/step - loss: 0.3551 - accuracy: 0.8774\n",
            "40/40 [==============================] - 2s 28ms/step - loss: 0.3567 - accuracy: 0.8824\n",
            "40/40 [==============================] - 2s 28ms/step - loss: 0.3727 - accuracy: 0.8489\n",
            "FedAvg Node is [1, 9, 0, 7, 5, 8]\n",
            "7/7 [==============================] - 0s 9ms/step - loss: 0.3603 - accuracy: 0.8794\n",
            "EPOCHS 14 is starting...\n",
            "40/40 [==============================] - 2s 28ms/step - loss: 0.3568 - accuracy: 0.8730\n",
            "40/40 [==============================] - 2s 28ms/step - loss: 0.3282 - accuracy: 0.8917\n",
            "40/40 [==============================] - 2s 28ms/step - loss: 0.2663 - accuracy: 0.9254\n",
            "40/40 [==============================] - 2s 28ms/step - loss: 0.1402 - accuracy: 0.9559\n",
            "40/40 [==============================] - 2s 28ms/step - loss: 0.3530 - accuracy: 0.8862\n",
            "40/40 [==============================] - 2s 28ms/step - loss: 0.4471 - accuracy: 0.8034\n",
            "40/40 [==============================] - 2s 28ms/step - loss: 0.1988 - accuracy: 0.9289\n",
            "40/40 [==============================] - 2s 29ms/step - loss: 0.3667 - accuracy: 0.8651\n",
            "40/40 [==============================] - 2s 28ms/step - loss: 0.3057 - accuracy: 0.8999\n",
            "40/40 [==============================] - 2s 28ms/step - loss: 0.3639 - accuracy: 0.8511\n",
            "FedAvg Node is [7, 9, 0, 1, 8, 5]\n",
            "7/7 [==============================] - 1s 9ms/step - loss: 0.3175 - accuracy: 0.8830\n",
            "EPOCHS 15 is starting...\n",
            "40/40 [==============================] - 2s 28ms/step - loss: 0.3175 - accuracy: 0.8821\n",
            "40/40 [==============================] - 2s 28ms/step - loss: 0.2908 - accuracy: 0.8994\n",
            "40/40 [==============================] - 2s 28ms/step - loss: 0.2534 - accuracy: 0.9146\n",
            "40/40 [==============================] - 2s 27ms/step - loss: 0.1913 - accuracy: 0.9432\n",
            "40/40 [==============================] - 2s 28ms/step - loss: 0.3444 - accuracy: 0.8961\n",
            "40/40 [==============================] - 2s 28ms/step - loss: 0.3832 - accuracy: 0.8560\n",
            "40/40 [==============================] - 2s 28ms/step - loss: 0.2378 - accuracy: 0.9135\n",
            "40/40 [==============================] - 2s 29ms/step - loss: 0.3472 - accuracy: 0.8792\n",
            "40/40 [==============================] - 2s 28ms/step - loss: 0.2523 - accuracy: 0.9146\n",
            "40/40 [==============================] - 2s 28ms/step - loss: 0.3469 - accuracy: 0.8701\n",
            "FedAvg Node is [1, 9, 5, 0, 7, 8]\n",
            "7/7 [==============================] - 0s 9ms/step - loss: 0.3399 - accuracy: 0.8847\n",
            "EPOCHS 16 is starting...\n",
            "40/40 [==============================] - 2s 28ms/step - loss: 0.3456 - accuracy: 0.8786\n",
            "40/40 [==============================] - 2s 28ms/step - loss: 0.2838 - accuracy: 0.8927\n",
            "40/40 [==============================] - 2s 28ms/step - loss: 0.2728 - accuracy: 0.9096\n",
            "40/40 [==============================] - 2s 28ms/step - loss: 0.1407 - accuracy: 0.9453\n",
            "40/40 [==============================] - 2s 28ms/step - loss: 0.3201 - accuracy: 0.8942\n",
            "40/40 [==============================] - 2s 28ms/step - loss: 0.3637 - accuracy: 0.8539\n",
            "40/40 [==============================] - 2s 28ms/step - loss: 0.2130 - accuracy: 0.9252\n",
            "40/40 [==============================] - 2s 28ms/step - loss: 0.3370 - accuracy: 0.8846\n",
            "40/40 [==============================] - 2s 28ms/step - loss: 0.2717 - accuracy: 0.9174\n",
            "40/40 [==============================] - 2s 28ms/step - loss: 0.3485 - accuracy: 0.8852\n",
            "FedAvg Node is [7, 0, 1, 9, 5, 8]\n",
            "7/7 [==============================] - 0s 9ms/step - loss: 0.3192 - accuracy: 0.9048\n",
            "EPOCHS 17 is starting...\n",
            "40/40 [==============================] - 2s 28ms/step - loss: 0.3274 - accuracy: 0.8740\n",
            "40/40 [==============================] - 2s 28ms/step - loss: 0.2688 - accuracy: 0.8860\n",
            "40/40 [==============================] - 2s 28ms/step - loss: 0.2338 - accuracy: 0.9255\n",
            "40/40 [==============================] - 2s 28ms/step - loss: 0.1943 - accuracy: 0.9338\n",
            "40/40 [==============================] - 2s 28ms/step - loss: 0.2898 - accuracy: 0.9005\n",
            "40/40 [==============================] - 2s 28ms/step - loss: 0.4103 - accuracy: 0.8281\n",
            "40/40 [==============================] - 2s 28ms/step - loss: 0.2050 - accuracy: 0.9214\n",
            "40/40 [==============================] - 2s 28ms/step - loss: 0.3194 - accuracy: 0.8766\n",
            "40/40 [==============================] - 2s 28ms/step - loss: 0.2577 - accuracy: 0.9092\n",
            "40/40 [==============================] - 2s 29ms/step - loss: 0.3255 - accuracy: 0.8752\n",
            "FedAvg Node is [9, 0, 1, 5, 7, 2]\n",
            "7/7 [==============================] - 0s 8ms/step - loss: 0.2556 - accuracy: 0.9176\n",
            "EPOCHS 18 is starting...\n",
            "40/40 [==============================] - 2s 28ms/step - loss: 0.3325 - accuracy: 0.8996\n",
            "40/40 [==============================] - 2s 28ms/step - loss: 0.2751 - accuracy: 0.8905\n",
            "40/40 [==============================] - 2s 29ms/step - loss: 0.2441 - accuracy: 0.9244\n",
            "40/40 [==============================] - 2s 28ms/step - loss: 0.1599 - accuracy: 0.9443\n",
            "40/40 [==============================] - 2s 28ms/step - loss: 0.3016 - accuracy: 0.9019\n",
            "40/40 [==============================] - 2s 28ms/step - loss: 0.3516 - accuracy: 0.8616\n",
            "40/40 [==============================] - 2s 28ms/step - loss: 0.2279 - accuracy: 0.9154\n",
            "40/40 [==============================] - 2s 28ms/step - loss: 0.2903 - accuracy: 0.8976\n",
            "40/40 [==============================] - 2s 28ms/step - loss: 0.2814 - accuracy: 0.9067\n",
            "40/40 [==============================] - 2s 28ms/step - loss: 0.3223 - accuracy: 0.8763\n",
            "FedAvg Node is [7, 0, 9, 8, 1, 5]\n",
            "7/7 [==============================] - 0s 8ms/step - loss: 0.2705 - accuracy: 0.9139\n",
            "EPOCHS 19 is starting...\n",
            "40/40 [==============================] - 2s 28ms/step - loss: 0.3005 - accuracy: 0.8871\n",
            "40/40 [==============================] - 2s 28ms/step - loss: 0.2418 - accuracy: 0.8984\n",
            "40/40 [==============================] - 2s 28ms/step - loss: 0.2250 - accuracy: 0.9301\n",
            "40/40 [==============================] - 2s 28ms/step - loss: 0.1309 - accuracy: 0.9529\n",
            "40/40 [==============================] - 2s 28ms/step - loss: 0.2739 - accuracy: 0.9049\n",
            "40/40 [==============================] - 2s 28ms/step - loss: 0.3610 - accuracy: 0.8561\n",
            "40/40 [==============================] - 2s 29ms/step - loss: 0.2146 - accuracy: 0.9258\n",
            "40/40 [==============================] - 2s 28ms/step - loss: 0.2938 - accuracy: 0.8841\n",
            "40/40 [==============================] - 2s 28ms/step - loss: 0.2218 - accuracy: 0.9289\n",
            "40/40 [==============================] - 2s 28ms/step - loss: 0.3083 - accuracy: 0.8751\n",
            "FedAvg Node is [9, 0, 5, 7, 8, 1]\n",
            "7/7 [==============================] - 0s 8ms/step - loss: 0.2678 - accuracy: 0.9107\n",
            "EPOCHS 20 is starting...\n",
            "40/40 [==============================] - 2s 28ms/step - loss: 0.2776 - accuracy: 0.9075\n",
            "40/40 [==============================] - 2s 28ms/step - loss: 0.2439 - accuracy: 0.8827\n",
            "40/40 [==============================] - 2s 28ms/step - loss: 0.2229 - accuracy: 0.9306\n",
            "40/40 [==============================] - 2s 28ms/step - loss: 0.1650 - accuracy: 0.9406\n",
            "40/40 [==============================] - 2s 28ms/step - loss: 0.3107 - accuracy: 0.8846\n",
            "40/40 [==============================] - 2s 29ms/step - loss: 0.3269 - accuracy: 0.8619\n",
            "40/40 [==============================] - 2s 28ms/step - loss: 0.2236 - accuracy: 0.9226\n",
            "40/40 [==============================] - 2s 28ms/step - loss: 0.2519 - accuracy: 0.9141\n",
            "40/40 [==============================] - 2s 28ms/step - loss: 0.2097 - accuracy: 0.9262\n",
            "40/40 [==============================] - 2s 28ms/step - loss: 0.2978 - accuracy: 0.8868\n",
            "FedAvg Node is [7, 1, 5, 0, 9, 8]\n",
            "7/7 [==============================] - 0s 8ms/step - loss: 0.2728 - accuracy: 0.9229\n",
            "EPOCHS 21 is starting...\n",
            "40/40 [==============================] - 2s 29ms/step - loss: 0.2728 - accuracy: 0.9023\n",
            "40/40 [==============================] - 2s 29ms/step - loss: 0.2590 - accuracy: 0.8954\n",
            "40/40 [==============================] - 2s 28ms/step - loss: 0.2049 - accuracy: 0.9414\n",
            "40/40 [==============================] - 2s 28ms/step - loss: 0.1712 - accuracy: 0.9338\n",
            "40/40 [==============================] - 2s 28ms/step - loss: 0.3018 - accuracy: 0.8923\n",
            "40/40 [==============================] - 2s 28ms/step - loss: 0.3013 - accuracy: 0.8755\n",
            "40/40 [==============================] - 2s 29ms/step - loss: 0.2198 - accuracy: 0.9144\n",
            "40/40 [==============================] - 2s 28ms/step - loss: 0.2513 - accuracy: 0.9082\n",
            "40/40 [==============================] - 2s 28ms/step - loss: 0.2243 - accuracy: 0.9205\n",
            "40/40 [==============================] - 2s 28ms/step - loss: 0.2662 - accuracy: 0.8856\n",
            "FedAvg Node is [0, 5, 7, 9, 1, 8]\n",
            "7/7 [==============================] - 0s 8ms/step - loss: 0.1998 - accuracy: 0.9515\n",
            "EPOCHS 22 is starting...\n",
            "40/40 [==============================] - 2s 28ms/step - loss: 0.2516 - accuracy: 0.9064\n",
            "40/40 [==============================] - 2s 28ms/step - loss: 0.2225 - accuracy: 0.9005\n",
            "40/40 [==============================] - 2s 28ms/step - loss: 0.2179 - accuracy: 0.9216\n",
            "40/40 [==============================] - 2s 29ms/step - loss: 0.2050 - accuracy: 0.9324\n",
            "40/40 [==============================] - 2s 28ms/step - loss: 0.2764 - accuracy: 0.9092\n",
            "40/40 [==============================] - 2s 28ms/step - loss: 0.3009 - accuracy: 0.8717\n",
            "40/40 [==============================] - 2s 28ms/step - loss: 0.2189 - accuracy: 0.9113\n",
            "40/40 [==============================] - 2s 29ms/step - loss: 0.2424 - accuracy: 0.9136\n",
            "40/40 [==============================] - 2s 29ms/step - loss: 0.2012 - accuracy: 0.9330\n",
            "40/40 [==============================] - 2s 29ms/step - loss: 0.2834 - accuracy: 0.8927\n",
            "FedAvg Node is [0, 5, 7, 9, 1, 8]\n",
            "7/7 [==============================] - 1s 8ms/step - loss: 0.2342 - accuracy: 0.9392\n",
            "EPOCHS 23 is starting...\n",
            "40/40 [==============================] - 2s 28ms/step - loss: 0.2770 - accuracy: 0.8965\n",
            "40/40 [==============================] - 2s 28ms/step - loss: 0.2239 - accuracy: 0.8993\n",
            "40/40 [==============================] - 2s 29ms/step - loss: 0.2009 - accuracy: 0.9373\n",
            "40/40 [==============================] - 2s 28ms/step - loss: 0.1490 - accuracy: 0.9523\n",
            "40/40 [==============================] - 2s 28ms/step - loss: 0.2810 - accuracy: 0.8965\n",
            "40/40 [==============================] - 2s 28ms/step - loss: 0.3076 - accuracy: 0.8573\n",
            "40/40 [==============================] - 2s 28ms/step - loss: 0.2139 - accuracy: 0.9248\n",
            "40/40 [==============================] - 2s 28ms/step - loss: 0.2519 - accuracy: 0.9166\n",
            "40/40 [==============================] - 2s 29ms/step - loss: 0.1739 - accuracy: 0.9460\n",
            "40/40 [==============================] - 2s 28ms/step - loss: 0.2497 - accuracy: 0.9053\n",
            "FedAvg Node is [0, 8, 9, 5, 1, 7]\n",
            "7/7 [==============================] - 0s 10ms/step - loss: 0.2058 - accuracy: 0.9419\n",
            "EPOCHS 24 is starting...\n",
            "40/40 [==============================] - 2s 29ms/step - loss: 0.2350 - accuracy: 0.9183\n",
            "40/40 [==============================] - 2s 29ms/step - loss: 0.2457 - accuracy: 0.9016\n",
            "40/40 [==============================] - 2s 29ms/step - loss: 0.1997 - accuracy: 0.9339\n",
            "40/40 [==============================] - 2s 29ms/step - loss: 0.1790 - accuracy: 0.9302\n",
            "40/40 [==============================] - 2s 28ms/step - loss: 0.2775 - accuracy: 0.9084\n",
            "40/40 [==============================] - 2s 29ms/step - loss: 0.2592 - accuracy: 0.8998\n",
            "40/40 [==============================] - 2s 28ms/step - loss: 0.2068 - accuracy: 0.9200\n",
            "40/40 [==============================] - 2s 29ms/step - loss: 0.2420 - accuracy: 0.9176\n",
            "40/40 [==============================] - 2s 29ms/step - loss: 0.1689 - accuracy: 0.9322\n",
            "40/40 [==============================] - 2s 28ms/step - loss: 0.2419 - accuracy: 0.9053\n",
            "FedAvg Node is [9, 7, 5, 1, 0, 8]\n",
            "7/7 [==============================] - 0s 8ms/step - loss: 0.2264 - accuracy: 0.9392\n",
            "EPOCHS 25 is starting...\n",
            "40/40 [==============================] - 2s 29ms/step - loss: 0.2532 - accuracy: 0.9087\n",
            "40/40 [==============================] - 2s 28ms/step - loss: 0.2262 - accuracy: 0.9041\n",
            "40/40 [==============================] - 2s 28ms/step - loss: 0.2063 - accuracy: 0.9244\n",
            "40/40 [==============================] - 2s 28ms/step - loss: 0.1614 - accuracy: 0.9432\n",
            "40/40 [==============================] - 2s 28ms/step - loss: 0.2877 - accuracy: 0.9038\n",
            "40/40 [==============================] - 2s 29ms/step - loss: 0.2715 - accuracy: 0.8872\n",
            "40/40 [==============================] - 2s 28ms/step - loss: 0.2425 - accuracy: 0.9142\n",
            "40/40 [==============================] - 2s 28ms/step - loss: 0.2292 - accuracy: 0.9324\n",
            "40/40 [==============================] - 2s 28ms/step - loss: 0.1761 - accuracy: 0.9400\n",
            "40/40 [==============================] - 2s 28ms/step - loss: 0.2477 - accuracy: 0.9019\n",
            "FedAvg Node is [7, 0, 9, 5, 8, 1]\n",
            "7/7 [==============================] - 0s 10ms/step - loss: 0.2087 - accuracy: 0.9488\n",
            "EPOCHS 26 is starting...\n",
            "40/40 [==============================] - 2s 29ms/step - loss: 0.2082 - accuracy: 0.9363\n",
            "40/40 [==============================] - 2s 28ms/step - loss: 0.2110 - accuracy: 0.9078\n",
            "40/40 [==============================] - 2s 29ms/step - loss: 0.2129 - accuracy: 0.9269\n",
            "40/40 [==============================] - 2s 28ms/step - loss: 0.1480 - accuracy: 0.9508\n",
            "40/40 [==============================] - 2s 28ms/step - loss: 0.2490 - accuracy: 0.9166\n",
            "40/40 [==============================] - 2s 28ms/step - loss: 0.2547 - accuracy: 0.8998\n",
            "40/40 [==============================] - 2s 28ms/step - loss: 0.2170 - accuracy: 0.9287\n",
            "40/40 [==============================] - 2s 28ms/step - loss: 0.2339 - accuracy: 0.9239\n",
            "40/40 [==============================] - 2s 28ms/step - loss: 0.1639 - accuracy: 0.9478\n",
            "40/40 [==============================] - 2s 28ms/step - loss: 0.2553 - accuracy: 0.8867\n",
            "FedAvg Node is [7, 9, 8, 1, 0, 5]\n",
            "7/7 [==============================] - 0s 9ms/step - loss: 0.1980 - accuracy: 0.9488\n",
            "EPOCHS 27 is starting...\n",
            "40/40 [==============================] - 2s 29ms/step - loss: 0.2131 - accuracy: 0.9203\n",
            "40/40 [==============================] - 2s 29ms/step - loss: 0.2148 - accuracy: 0.9152\n",
            "40/40 [==============================] - 2s 28ms/step - loss: 0.2172 - accuracy: 0.9292\n",
            "40/40 [==============================] - 2s 29ms/step - loss: 0.1579 - accuracy: 0.9501\n",
            "40/40 [==============================] - 2s 28ms/step - loss: 0.2702 - accuracy: 0.9097\n",
            "40/40 [==============================] - 2s 28ms/step - loss: 0.2572 - accuracy: 0.8860\n",
            "40/40 [==============================] - 2s 28ms/step - loss: 0.1893 - accuracy: 0.9247\n",
            "40/40 [==============================] - 2s 30ms/step - loss: 0.2567 - accuracy: 0.9069\n",
            "40/40 [==============================] - 2s 29ms/step - loss: 0.1568 - accuracy: 0.9421\n",
            "40/40 [==============================] - 2s 29ms/step - loss: 0.2419 - accuracy: 0.9061\n",
            "FedAvg Node is [9, 0, 5, 7, 1, 8]\n",
            "7/7 [==============================] - 0s 8ms/step - loss: 0.2211 - accuracy: 0.9370\n",
            "EPOCHS 28 is starting...\n",
            "40/40 [==============================] - 2s 29ms/step - loss: 0.2411 - accuracy: 0.9118\n",
            "40/40 [==============================] - 2s 29ms/step - loss: 0.2118 - accuracy: 0.9111\n",
            "40/40 [==============================] - 2s 29ms/step - loss: 0.2232 - accuracy: 0.9250\n",
            "40/40 [==============================] - 2s 29ms/step - loss: 0.1565 - accuracy: 0.9453\n",
            "40/40 [==============================] - 2s 29ms/step - loss: 0.2776 - accuracy: 0.8985\n",
            "40/40 [==============================] - 2s 29ms/step - loss: 0.2326 - accuracy: 0.9125\n",
            "40/40 [==============================] - 2s 29ms/step - loss: 0.1974 - accuracy: 0.9132\n",
            "40/40 [==============================] - 2s 29ms/step - loss: 0.2203 - accuracy: 0.9222\n",
            "40/40 [==============================] - 2s 29ms/step - loss: 0.1371 - accuracy: 0.9513\n",
            "40/40 [==============================] - 2s 29ms/step - loss: 0.2025 - accuracy: 0.9156\n",
            "FedAvg Node is [5, 7, 8, 9, 0, 1]\n",
            "7/7 [==============================] - 0s 10ms/step - loss: 0.2193 - accuracy: 0.9317\n",
            "EPOCHS 29 is starting...\n",
            "40/40 [==============================] - 2s 29ms/step - loss: 0.2103 - accuracy: 0.9198\n",
            "40/40 [==============================] - 2s 29ms/step - loss: 0.1950 - accuracy: 0.9099\n",
            "40/40 [==============================] - 2s 29ms/step - loss: 0.2012 - accuracy: 0.9405\n",
            "40/40 [==============================] - 2s 29ms/step - loss: 0.1521 - accuracy: 0.9592\n",
            "40/40 [==============================] - 2s 29ms/step - loss: 0.2653 - accuracy: 0.9114\n",
            "40/40 [==============================] - 2s 28ms/step - loss: 0.2523 - accuracy: 0.8950\n",
            "40/40 [==============================] - 2s 28ms/step - loss: 0.2131 - accuracy: 0.9251\n",
            "40/40 [==============================] - 2s 29ms/step - loss: 0.2054 - accuracy: 0.9228\n",
            "40/40 [==============================] - 2s 28ms/step - loss: 0.1518 - accuracy: 0.9478\n",
            "40/40 [==============================] - 2s 28ms/step - loss: 0.2142 - accuracy: 0.9084\n",
            "FedAvg Node is [9, 8, 7, 0, 5, 1]\n",
            "7/7 [==============================] - 0s 8ms/step - loss: 0.2503 - accuracy: 0.9272\n"
          ],
          "name": "stdout"
        }
      ]
    },
    {
      "cell_type": "code",
      "metadata": {
        "colab": {
          "base_uri": "https://localhost:8080/"
        },
        "id": "chwpV3rDr5r2",
        "outputId": "d5229b26-3b5f-4397-f1e6-d9964551c210"
      },
      "source": [
        "NodeList=[]\n",
        "ACC_Client_Test=[]\n",
        "participator = NUM_CLIENTS\n",
        "for e in range(NUM_EPOCHS):\n",
        "  tmp=[]\n",
        "  print(\"EPOCHS {} is starting...\".format(e))\n",
        "  for i in range(NUM_CLIENTS):\n",
        "    clients[i].ReceiveModel(SendModel.copy())\n",
        "    clients[i].NodeTrain()\n",
        "    tmp.append(clients[i].NodeEval()[1])\n",
        "    # clients[i].NodeEval()\n",
        "    # DIS.append(Distance(SendModel,clients[i].model))\n",
        "  if participator < int(0.6*NUM_CLIENTS):\n",
        "    participator = int(0.6*NUM_CLIENTS) \n",
        "  FedModel,li = FedAvgwithAcc(NUM_CLIENTS,SendModel,FedAvg_NUM=participator,Weights=tmp)\n",
        "  participator = participator-1\n",
        "  NodeList.append(li)\n",
        "  ACC_Client_Test.append(tmp)\n",
        "  S.PreEval(FedModel,validation_data)\n",
        "  print(\"The Acc on each client...\",tmp)\n",
        "  SendModel = FedModel.copy()"
      ],
      "execution_count": 43,
      "outputs": [
        {
          "output_type": "stream",
          "text": [
            "EPOCHS 0 is starting...\n",
            "35/35 [==============================] - 0s 3ms/step - loss: 2.1342 - accuracy: 0.3093\n",
            "7/7 [==============================] - 0s 3ms/step - loss: 0.9676 - accuracy: 0.6800\n",
            "22/22 [==============================] - 0s 3ms/step - loss: 2.2873 - accuracy: 0.2179\n",
            "7/7 [==============================] - 0s 3ms/step - loss: 1.7122 - accuracy: 0.5800\n",
            "27/27 [==============================] - 0s 3ms/step - loss: 2.0444 - accuracy: 0.4801\n",
            "7/7 [==============================] - 0s 3ms/step - loss: 3.7048 - accuracy: 0.0000e+00\n",
            "28/28 [==============================] - 1s 3ms/step - loss: 2.2031 - accuracy: 0.2844\n",
            "7/7 [==============================] - 0s 3ms/step - loss: 1.8191 - accuracy: 0.3450\n",
            "14/14 [==============================] - 0s 3ms/step - loss: 2.3180 - accuracy: 0.2222\n",
            "7/7 [==============================] - 0s 3ms/step - loss: 1.9678 - accuracy: 0.2100\n",
            "32/32 [==============================] - 0s 3ms/step - loss: 1.9816 - accuracy: 0.5015\n",
            "7/7 [==============================] - 0s 3ms/step - loss: 3.3930 - accuracy: 0.0000e+00\n",
            "37/37 [==============================] - 0s 3ms/step - loss: 1.8901 - accuracy: 0.4155\n",
            "7/7 [==============================] - 0s 3ms/step - loss: 0.6515 - accuracy: 0.8000\n",
            "32/32 [==============================] - 0s 3ms/step - loss: 2.2475 - accuracy: 0.2541\n",
            "7/7 [==============================] - 0s 3ms/step - loss: 1.8268 - accuracy: 0.2450\n",
            "14/14 [==============================] - 0s 4ms/step - loss: 2.3592 - accuracy: 0.2247\n",
            "7/7 [==============================] - 0s 3ms/step - loss: 2.6857 - accuracy: 0.0000e+00\n",
            "12/12 [==============================] - 0s 3ms/step - loss: 2.4053 - accuracy: 0.1858\n",
            "7/7 [==============================] - 0s 3ms/step - loss: 2.3924 - accuracy: 0.0000e+00\n",
            "27/27 [==============================] - 0s 3ms/step - loss: 2.0534 - accuracy: 0.4697\n",
            "7/7 [==============================] - 0s 3ms/step - loss: 3.2452 - accuracy: 0.0000e+00\n",
            "25/25 [==============================] - 0s 3ms/step - loss: 2.2768 - accuracy: 0.2355\n",
            "7/7 [==============================] - 0s 4ms/step - loss: 1.9481 - accuracy: 0.2700\n",
            "7/7 [==============================] - 0s 3ms/step - loss: 1.3123 - accuracy: 0.5331\n",
            "The Acc on each client... [0.6800000071525574, 0.5799999833106995, 0.0, 0.3449999988079071, 0.20999999344348907, 0.0, 0.800000011920929, 0.24500000476837158, 0.0, 0.0, 0.0, 0.27000001072883606]\n",
            "EPOCHS 1 is starting...\n",
            "35/35 [==============================] - 0s 3ms/step - loss: 1.2142 - accuracy: 0.6100\n",
            "7/7 [==============================] - 0s 3ms/step - loss: 0.4695 - accuracy: 0.8600\n",
            "22/22 [==============================] - 0s 3ms/step - loss: 1.3193 - accuracy: 0.5300\n",
            "7/7 [==============================] - 0s 3ms/step - loss: 0.8469 - accuracy: 0.7350\n",
            "27/27 [==============================] - 1s 3ms/step - loss: 1.0214 - accuracy: 0.7028\n",
            "7/7 [==============================] - 0s 3ms/step - loss: 2.2275 - accuracy: 0.1850\n",
            "28/28 [==============================] - 0s 3ms/step - loss: 1.1936 - accuracy: 0.5927\n",
            "7/7 [==============================] - 0s 3ms/step - loss: 1.0525 - accuracy: 0.6100\n",
            "14/14 [==============================] - 0s 3ms/step - loss: 1.2278 - accuracy: 0.5954\n",
            "7/7 [==============================] - 0s 3ms/step - loss: 0.7887 - accuracy: 0.7600\n",
            "32/32 [==============================] - 0s 3ms/step - loss: 1.0602 - accuracy: 0.6953\n",
            "7/7 [==============================] - 0s 3ms/step - loss: 1.6681 - accuracy: 0.2500\n",
            "37/37 [==============================] - 0s 3ms/step - loss: 0.9137 - accuracy: 0.7529\n",
            "7/7 [==============================] - 0s 3ms/step - loss: 0.4937 - accuracy: 0.8900\n",
            "32/32 [==============================] - 0s 3ms/step - loss: 1.2017 - accuracy: 0.5883\n",
            "7/7 [==============================] - 0s 3ms/step - loss: 1.0718 - accuracy: 0.6250\n",
            "14/14 [==============================] - 0s 3ms/step - loss: 1.2207 - accuracy: 0.5605\n",
            "7/7 [==============================] - 0s 4ms/step - loss: 1.1047 - accuracy: 0.6450\n",
            "12/12 [==============================] - 0s 3ms/step - loss: 1.3021 - accuracy: 0.5375\n",
            "7/7 [==============================] - 0s 3ms/step - loss: 1.0689 - accuracy: 0.6350\n",
            "27/27 [==============================] - 0s 3ms/step - loss: 0.9393 - accuracy: 0.7501\n",
            "7/7 [==============================] - 0s 3ms/step - loss: 2.0583 - accuracy: 0.1550\n",
            "25/25 [==============================] - 0s 3ms/step - loss: 1.3052 - accuracy: 0.5580\n",
            "7/7 [==============================] - 0s 3ms/step - loss: 0.7161 - accuracy: 0.7650\n",
            "7/7 [==============================] - 0s 3ms/step - loss: 0.6807 - accuracy: 0.7886\n",
            "The Acc on each client... [0.8600000143051147, 0.7350000143051147, 0.1850000023841858, 0.6100000143051147, 0.7599999904632568, 0.25, 0.8899999856948853, 0.625, 0.6449999809265137, 0.6349999904632568, 0.1550000011920929, 0.7649999856948853]\n",
            "EPOCHS 2 is starting...\n",
            "35/35 [==============================] - 0s 3ms/step - loss: 0.8406 - accuracy: 0.7444\n",
            "7/7 [==============================] - 0s 3ms/step - loss: 0.6270 - accuracy: 0.8050\n",
            "22/22 [==============================] - 1s 3ms/step - loss: 0.9898 - accuracy: 0.6290\n",
            "7/7 [==============================] - 0s 3ms/step - loss: 0.6325 - accuracy: 0.8150\n",
            "27/27 [==============================] - 0s 3ms/step - loss: 0.9379 - accuracy: 0.6949\n",
            "7/7 [==============================] - 0s 3ms/step - loss: 1.5548 - accuracy: 0.2800\n",
            "28/28 [==============================] - 1s 3ms/step - loss: 1.0034 - accuracy: 0.6346\n",
            "7/7 [==============================] - 0s 3ms/step - loss: 1.0491 - accuracy: 0.6400\n",
            "14/14 [==============================] - 0s 4ms/step - loss: 0.9937 - accuracy: 0.6608\n",
            "7/7 [==============================] - 0s 3ms/step - loss: 0.6046 - accuracy: 0.8200\n",
            "32/32 [==============================] - 1s 4ms/step - loss: 0.8133 - accuracy: 0.7389\n",
            "7/7 [==============================] - 0s 3ms/step - loss: 1.0878 - accuracy: 0.5700\n",
            "37/37 [==============================] - 0s 3ms/step - loss: 0.6705 - accuracy: 0.7998\n",
            "7/7 [==============================] - 0s 3ms/step - loss: 0.3512 - accuracy: 0.8850\n",
            "32/32 [==============================] - 0s 3ms/step - loss: 1.1042 - accuracy: 0.5878\n",
            "7/7 [==============================] - 0s 3ms/step - loss: 0.9111 - accuracy: 0.6250\n",
            "14/14 [==============================] - 0s 3ms/step - loss: 0.9715 - accuracy: 0.6797\n",
            "7/7 [==============================] - 0s 3ms/step - loss: 1.0566 - accuracy: 0.5850\n",
            "12/12 [==============================] - 0s 4ms/step - loss: 1.0001 - accuracy: 0.6976\n",
            "7/7 [==============================] - 0s 3ms/step - loss: 0.8670 - accuracy: 0.6900\n",
            "27/27 [==============================] - 0s 3ms/step - loss: 0.8342 - accuracy: 0.7241\n",
            "7/7 [==============================] - 0s 3ms/step - loss: 1.6545 - accuracy: 0.3350\n",
            "25/25 [==============================] - 0s 3ms/step - loss: 0.8919 - accuracy: 0.6998\n",
            "7/7 [==============================] - 0s 3ms/step - loss: 0.5348 - accuracy: 0.8200\n",
            "7/7 [==============================] - 0s 3ms/step - loss: 0.5933 - accuracy: 0.8196\n",
            "The Acc on each client... [0.8050000071525574, 0.8149999976158142, 0.2800000011920929, 0.6399999856948853, 0.8199999928474426, 0.5699999928474426, 0.8849999904632568, 0.625, 0.5849999785423279, 0.6899999976158142, 0.33500000834465027, 0.8199999928474426]\n",
            "EPOCHS 3 is starting...\n",
            "35/35 [==============================] - 0s 3ms/step - loss: 0.7234 - accuracy: 0.7652\n",
            "7/7 [==============================] - 0s 3ms/step - loss: 0.3948 - accuracy: 0.9050\n",
            "22/22 [==============================] - 0s 4ms/step - loss: 0.9151 - accuracy: 0.6774\n",
            "7/7 [==============================] - 0s 3ms/step - loss: 0.5675 - accuracy: 0.8050\n",
            "27/27 [==============================] - 0s 3ms/step - loss: 0.7697 - accuracy: 0.7482\n",
            "7/7 [==============================] - 0s 3ms/step - loss: 1.3990 - accuracy: 0.3700\n",
            "28/28 [==============================] - 0s 3ms/step - loss: 0.8944 - accuracy: 0.6744\n",
            "7/7 [==============================] - 0s 3ms/step - loss: 0.7675 - accuracy: 0.7300\n",
            "14/14 [==============================] - 0s 3ms/step - loss: 0.8662 - accuracy: 0.6854\n",
            "7/7 [==============================] - 0s 3ms/step - loss: 0.6149 - accuracy: 0.7900\n",
            "32/32 [==============================] - 0s 3ms/step - loss: 0.7193 - accuracy: 0.7298\n",
            "7/7 [==============================] - 0s 3ms/step - loss: 0.9751 - accuracy: 0.6050\n",
            "37/37 [==============================] - 0s 3ms/step - loss: 0.4821 - accuracy: 0.8596\n",
            "7/7 [==============================] - 0s 3ms/step - loss: 0.3973 - accuracy: 0.8800\n",
            "32/32 [==============================] - 0s 3ms/step - loss: 0.8174 - accuracy: 0.7241\n",
            "7/7 [==============================] - 0s 3ms/step - loss: 0.7831 - accuracy: 0.7150\n",
            "14/14 [==============================] - 0s 3ms/step - loss: 0.8715 - accuracy: 0.6814\n",
            "7/7 [==============================] - 0s 3ms/step - loss: 0.9531 - accuracy: 0.6000\n",
            "12/12 [==============================] - 0s 4ms/step - loss: 0.6941 - accuracy: 0.7982\n",
            "7/7 [==============================] - 0s 3ms/step - loss: 0.8543 - accuracy: 0.6700\n",
            "27/27 [==============================] - 0s 3ms/step - loss: 0.7372 - accuracy: 0.7264\n",
            "7/7 [==============================] - 0s 3ms/step - loss: 1.3538 - accuracy: 0.4300\n",
            "25/25 [==============================] - 1s 3ms/step - loss: 0.8794 - accuracy: 0.7198\n",
            "7/7 [==============================] - 0s 3ms/step - loss: 0.5609 - accuracy: 0.8350\n",
            "7/7 [==============================] - 0s 3ms/step - loss: 0.5675 - accuracy: 0.8295\n",
            "The Acc on each client... [0.9049999713897705, 0.8050000071525574, 0.3700000047683716, 0.7300000190734863, 0.7900000214576721, 0.6050000190734863, 0.8799999952316284, 0.7149999737739563, 0.6000000238418579, 0.6700000166893005, 0.4300000071525574, 0.8349999785423279]\n",
            "EPOCHS 4 is starting...\n",
            "35/35 [==============================] - 0s 3ms/step - loss: 0.6848 - accuracy: 0.7719\n",
            "7/7 [==============================] - 0s 3ms/step - loss: 0.4561 - accuracy: 0.8900\n",
            "22/22 [==============================] - 0s 3ms/step - loss: 0.7206 - accuracy: 0.7254\n",
            "7/7 [==============================] - 0s 3ms/step - loss: 0.5660 - accuracy: 0.8350\n",
            "27/27 [==============================] - 0s 3ms/step - loss: 0.6273 - accuracy: 0.7867\n",
            "7/7 [==============================] - 0s 3ms/step - loss: 1.2219 - accuracy: 0.4800\n",
            "28/28 [==============================] - 0s 3ms/step - loss: 0.6944 - accuracy: 0.7427\n",
            "7/7 [==============================] - 0s 3ms/step - loss: 0.4554 - accuracy: 0.8750\n",
            "14/14 [==============================] - 0s 3ms/step - loss: 0.5511 - accuracy: 0.8137\n",
            "7/7 [==============================] - 0s 3ms/step - loss: 0.4365 - accuracy: 0.8450\n",
            "32/32 [==============================] - 0s 3ms/step - loss: 0.6449 - accuracy: 0.7756\n",
            "7/7 [==============================] - 0s 3ms/step - loss: 1.1968 - accuracy: 0.5550\n",
            "37/37 [==============================] - 0s 3ms/step - loss: 0.4508 - accuracy: 0.8670\n",
            "7/7 [==============================] - 0s 3ms/step - loss: 0.2840 - accuracy: 0.9150\n",
            "32/32 [==============================] - 0s 3ms/step - loss: 0.7417 - accuracy: 0.7277\n",
            "7/7 [==============================] - 0s 3ms/step - loss: 0.6388 - accuracy: 0.7800\n",
            "14/14 [==============================] - 0s 3ms/step - loss: 0.7679 - accuracy: 0.6951\n",
            "7/7 [==============================] - 0s 3ms/step - loss: 0.9159 - accuracy: 0.6750\n",
            "12/12 [==============================] - 0s 3ms/step - loss: 0.7346 - accuracy: 0.7479\n",
            "7/7 [==============================] - 0s 3ms/step - loss: 0.7586 - accuracy: 0.7200\n",
            "27/27 [==============================] - 1s 4ms/step - loss: 0.6739 - accuracy: 0.7507\n",
            "7/7 [==============================] - 0s 3ms/step - loss: 1.5991 - accuracy: 0.3800\n",
            "25/25 [==============================] - 0s 3ms/step - loss: 0.7430 - accuracy: 0.7334\n",
            "7/7 [==============================] - 0s 3ms/step - loss: 0.5840 - accuracy: 0.7850\n",
            "7/7 [==============================] - 0s 3ms/step - loss: 0.4882 - accuracy: 0.8657\n",
            "The Acc on each client... [0.8899999856948853, 0.8349999785423279, 0.47999998927116394, 0.875, 0.8450000286102295, 0.5550000071525574, 0.9150000214576721, 0.7799999713897705, 0.675000011920929, 0.7200000286102295, 0.3799999952316284, 0.7850000262260437]\n",
            "EPOCHS 5 is starting...\n",
            "35/35 [==============================] - 0s 3ms/step - loss: 0.5817 - accuracy: 0.8115\n",
            "7/7 [==============================] - 0s 4ms/step - loss: 0.3864 - accuracy: 0.8900\n",
            "22/22 [==============================] - 1s 4ms/step - loss: 0.7048 - accuracy: 0.7429\n",
            "7/7 [==============================] - 0s 3ms/step - loss: 0.4509 - accuracy: 0.8800\n",
            "27/27 [==============================] - 0s 3ms/step - loss: 0.6211 - accuracy: 0.7881\n",
            "7/7 [==============================] - 0s 3ms/step - loss: 1.0831 - accuracy: 0.4850\n",
            "28/28 [==============================] - 0s 3ms/step - loss: 0.6213 - accuracy: 0.7778\n",
            "7/7 [==============================] - 0s 3ms/step - loss: 0.6897 - accuracy: 0.7750\n",
            "14/14 [==============================] - 0s 3ms/step - loss: 0.5540 - accuracy: 0.8267\n",
            "7/7 [==============================] - 0s 3ms/step - loss: 0.3946 - accuracy: 0.9100\n",
            "32/32 [==============================] - 0s 3ms/step - loss: 0.6373 - accuracy: 0.7848\n",
            "7/7 [==============================] - 0s 3ms/step - loss: 1.3725 - accuracy: 0.4350\n",
            "37/37 [==============================] - 0s 3ms/step - loss: 0.3743 - accuracy: 0.8915\n",
            "7/7 [==============================] - 0s 3ms/step - loss: 0.2733 - accuracy: 0.9300\n",
            "32/32 [==============================] - 0s 4ms/step - loss: 0.7253 - accuracy: 0.7343\n",
            "7/7 [==============================] - 0s 3ms/step - loss: 0.5128 - accuracy: 0.8350\n",
            "14/14 [==============================] - 0s 3ms/step - loss: 0.6648 - accuracy: 0.7498\n",
            "7/7 [==============================] - 0s 3ms/step - loss: 0.8014 - accuracy: 0.7050\n",
            "12/12 [==============================] - 0s 4ms/step - loss: 0.6487 - accuracy: 0.7766\n",
            "7/7 [==============================] - 0s 3ms/step - loss: 0.5723 - accuracy: 0.8100\n",
            "27/27 [==============================] - 0s 4ms/step - loss: 0.5883 - accuracy: 0.7854\n",
            "7/7 [==============================] - 0s 3ms/step - loss: 1.0682 - accuracy: 0.5950\n",
            "25/25 [==============================] - 0s 3ms/step - loss: 0.6810 - accuracy: 0.7767\n",
            "7/7 [==============================] - 0s 3ms/step - loss: 0.5926 - accuracy: 0.8200\n",
            "7/7 [==============================] - 0s 3ms/step - loss: 0.4501 - accuracy: 0.8605\n",
            "The Acc on each client... [0.8899999856948853, 0.8799999952316284, 0.48500001430511475, 0.7749999761581421, 0.9100000262260437, 0.4350000023841858, 0.9300000071525574, 0.8349999785423279, 0.7049999833106995, 0.8100000023841858, 0.5950000286102295, 0.8199999928474426]\n",
            "EPOCHS 6 is starting...\n",
            "35/35 [==============================] - 0s 3ms/step - loss: 0.5832 - accuracy: 0.8156\n",
            "7/7 [==============================] - 0s 3ms/step - loss: 0.3486 - accuracy: 0.9050\n",
            "22/22 [==============================] - 0s 3ms/step - loss: 0.6250 - accuracy: 0.7907\n",
            "7/7 [==============================] - 0s 3ms/step - loss: 0.3528 - accuracy: 0.8950\n",
            "27/27 [==============================] - 0s 4ms/step - loss: 0.5409 - accuracy: 0.7857\n",
            "7/7 [==============================] - 0s 3ms/step - loss: 1.5203 - accuracy: 0.3950\n",
            "28/28 [==============================] - 0s 3ms/step - loss: 0.5463 - accuracy: 0.8021\n",
            "7/7 [==============================] - 0s 3ms/step - loss: 0.4015 - accuracy: 0.8900\n",
            "14/14 [==============================] - 0s 3ms/step - loss: 0.4902 - accuracy: 0.8264\n",
            "7/7 [==============================] - 0s 3ms/step - loss: 0.4468 - accuracy: 0.8550\n",
            "32/32 [==============================] - 0s 3ms/step - loss: 0.6153 - accuracy: 0.7701\n",
            "7/7 [==============================] - 0s 3ms/step - loss: 0.8317 - accuracy: 0.7250\n",
            "37/37 [==============================] - 0s 3ms/step - loss: 0.3777 - accuracy: 0.9042\n",
            "7/7 [==============================] - 0s 4ms/step - loss: 0.3119 - accuracy: 0.9000\n",
            "32/32 [==============================] - 0s 4ms/step - loss: 0.6805 - accuracy: 0.7446\n",
            "7/7 [==============================] - 0s 3ms/step - loss: 0.6296 - accuracy: 0.8000\n",
            "14/14 [==============================] - 0s 3ms/step - loss: 0.5854 - accuracy: 0.7678\n",
            "7/7 [==============================] - 1s 3ms/step - loss: 0.8216 - accuracy: 0.6700\n",
            "12/12 [==============================] - 0s 4ms/step - loss: 0.6246 - accuracy: 0.7870\n",
            "7/7 [==============================] - 0s 3ms/step - loss: 0.5784 - accuracy: 0.7600\n",
            "27/27 [==============================] - 0s 3ms/step - loss: 0.5743 - accuracy: 0.8011\n",
            "7/7 [==============================] - 0s 3ms/step - loss: 0.9270 - accuracy: 0.5750\n",
            "25/25 [==============================] - 0s 4ms/step - loss: 0.5629 - accuracy: 0.8147\n",
            "7/7 [==============================] - 0s 4ms/step - loss: 0.3578 - accuracy: 0.8950\n",
            "7/7 [==============================] - 0s 3ms/step - loss: 0.3878 - accuracy: 0.8674\n",
            "The Acc on each client... [0.9049999713897705, 0.8949999809265137, 0.39500001072883606, 0.8899999856948853, 0.8550000190734863, 0.7250000238418579, 0.8999999761581421, 0.800000011920929, 0.6700000166893005, 0.7599999904632568, 0.574999988079071, 0.8949999809265137]\n",
            "EPOCHS 7 is starting...\n",
            "35/35 [==============================] - 0s 4ms/step - loss: 0.5341 - accuracy: 0.8413\n",
            "7/7 [==============================] - 0s 3ms/step - loss: 0.3118 - accuracy: 0.9200\n",
            "22/22 [==============================] - 0s 4ms/step - loss: 0.5564 - accuracy: 0.8141\n",
            "7/7 [==============================] - 0s 3ms/step - loss: 0.3312 - accuracy: 0.9000\n",
            "27/27 [==============================] - 0s 4ms/step - loss: 0.5055 - accuracy: 0.8122\n",
            "7/7 [==============================] - 0s 3ms/step - loss: 1.1595 - accuracy: 0.4850\n",
            "28/28 [==============================] - 0s 3ms/step - loss: 0.5251 - accuracy: 0.8010\n",
            "7/7 [==============================] - 0s 3ms/step - loss: 0.6540 - accuracy: 0.7750\n",
            "14/14 [==============================] - 0s 3ms/step - loss: 0.4033 - accuracy: 0.8592\n",
            "7/7 [==============================] - 0s 3ms/step - loss: 0.4255 - accuracy: 0.8700\n",
            "32/32 [==============================] - 0s 3ms/step - loss: 0.4953 - accuracy: 0.8277\n",
            "7/7 [==============================] - 0s 3ms/step - loss: 1.1501 - accuracy: 0.5050\n",
            "37/37 [==============================] - 1s 3ms/step - loss: 0.3311 - accuracy: 0.9130\n",
            "7/7 [==============================] - 0s 3ms/step - loss: 0.2362 - accuracy: 0.9150\n",
            "32/32 [==============================] - 0s 4ms/step - loss: 0.6453 - accuracy: 0.7659\n",
            "7/7 [==============================] - 0s 3ms/step - loss: 0.5072 - accuracy: 0.8350\n",
            "14/14 [==============================] - 0s 4ms/step - loss: 0.6276 - accuracy: 0.7786\n",
            "7/7 [==============================] - 0s 3ms/step - loss: 0.5823 - accuracy: 0.7900\n",
            "12/12 [==============================] - 0s 4ms/step - loss: 0.4851 - accuracy: 0.8365\n",
            "7/7 [==============================] - 0s 5ms/step - loss: 0.4273 - accuracy: 0.8450\n",
            "27/27 [==============================] - 0s 3ms/step - loss: 0.5091 - accuracy: 0.8076\n",
            "7/7 [==============================] - 0s 3ms/step - loss: 1.7260 - accuracy: 0.3650\n",
            "25/25 [==============================] - 0s 4ms/step - loss: 0.5275 - accuracy: 0.8261\n",
            "7/7 [==============================] - 0s 3ms/step - loss: 0.3382 - accuracy: 0.8950\n",
            "7/7 [==============================] - 0s 3ms/step - loss: 0.3606 - accuracy: 0.9059\n",
            "The Acc on each client... [0.9200000166893005, 0.8999999761581421, 0.48500001430511475, 0.7749999761581421, 0.8700000047683716, 0.5049999952316284, 0.9150000214576721, 0.8349999785423279, 0.7900000214576721, 0.8450000286102295, 0.36500000953674316, 0.8949999809265137]\n",
            "EPOCHS 8 is starting...\n",
            "35/35 [==============================] - 1s 4ms/step - loss: 0.4993 - accuracy: 0.8367\n",
            "7/7 [==============================] - 0s 3ms/step - loss: 0.2734 - accuracy: 0.9200\n",
            "22/22 [==============================] - 0s 4ms/step - loss: 0.5208 - accuracy: 0.8177\n",
            "7/7 [==============================] - 0s 3ms/step - loss: 0.5159 - accuracy: 0.8350\n",
            "27/27 [==============================] - 0s 4ms/step - loss: 0.4896 - accuracy: 0.8207\n",
            "7/7 [==============================] - 0s 4ms/step - loss: 0.9628 - accuracy: 0.5450\n",
            "28/28 [==============================] - 0s 3ms/step - loss: 0.5270 - accuracy: 0.8159\n",
            "7/7 [==============================] - 0s 3ms/step - loss: 0.4880 - accuracy: 0.8300\n",
            "14/14 [==============================] - 0s 3ms/step - loss: 0.4151 - accuracy: 0.8560\n",
            "7/7 [==============================] - 0s 4ms/step - loss: 0.2658 - accuracy: 0.9350\n",
            "32/32 [==============================] - 0s 3ms/step - loss: 0.4870 - accuracy: 0.8086\n",
            "7/7 [==============================] - 0s 3ms/step - loss: 0.6346 - accuracy: 0.7450\n",
            "37/37 [==============================] - 1s 3ms/step - loss: 0.2651 - accuracy: 0.9242\n",
            "7/7 [==============================] - 0s 3ms/step - loss: 0.1759 - accuracy: 0.9350\n",
            "32/32 [==============================] - 1s 4ms/step - loss: 0.6257 - accuracy: 0.7845\n",
            "7/7 [==============================] - 0s 3ms/step - loss: 0.4304 - accuracy: 0.8600\n",
            "14/14 [==============================] - 0s 3ms/step - loss: 0.4731 - accuracy: 0.8037\n",
            "7/7 [==============================] - 0s 3ms/step - loss: 0.7101 - accuracy: 0.7200\n",
            "12/12 [==============================] - 0s 4ms/step - loss: 0.5468 - accuracy: 0.8081\n",
            "7/7 [==============================] - 0s 3ms/step - loss: 0.3735 - accuracy: 0.8850\n",
            "27/27 [==============================] - 0s 3ms/step - loss: 0.5195 - accuracy: 0.8172\n",
            "7/7 [==============================] - 0s 3ms/step - loss: 1.1439 - accuracy: 0.5350\n",
            "25/25 [==============================] - 0s 3ms/step - loss: 0.4629 - accuracy: 0.8450\n",
            "7/7 [==============================] - 0s 3ms/step - loss: 0.2962 - accuracy: 0.9100\n",
            "7/7 [==============================] - 0s 3ms/step - loss: 0.3225 - accuracy: 0.9092\n",
            "The Acc on each client... [0.9200000166893005, 0.8349999785423279, 0.5450000166893005, 0.8299999833106995, 0.9350000023841858, 0.7450000047683716, 0.9350000023841858, 0.8600000143051147, 0.7200000286102295, 0.8849999904632568, 0.5350000262260437, 0.9100000262260437]\n",
            "EPOCHS 9 is starting...\n",
            "35/35 [==============================] - 1s 4ms/step - loss: 0.4344 - accuracy: 0.8627\n",
            "7/7 [==============================] - 0s 3ms/step - loss: 0.2775 - accuracy: 0.9350\n",
            "22/22 [==============================] - 0s 4ms/step - loss: 0.4742 - accuracy: 0.8361\n",
            "7/7 [==============================] - 0s 3ms/step - loss: 0.3042 - accuracy: 0.9200\n",
            "27/27 [==============================] - 0s 4ms/step - loss: 0.4165 - accuracy: 0.8447\n",
            "7/7 [==============================] - 0s 3ms/step - loss: 0.5934 - accuracy: 0.7800\n",
            "28/28 [==============================] - 0s 3ms/step - loss: 0.4461 - accuracy: 0.8540\n",
            "7/7 [==============================] - 0s 3ms/step - loss: 0.3916 - accuracy: 0.8650\n",
            "14/14 [==============================] - 0s 4ms/step - loss: 0.4186 - accuracy: 0.8541\n",
            "7/7 [==============================] - 0s 3ms/step - loss: 0.2373 - accuracy: 0.9350\n",
            "32/32 [==============================] - 1s 3ms/step - loss: 0.4680 - accuracy: 0.8320\n",
            "7/7 [==============================] - 0s 3ms/step - loss: 0.5165 - accuracy: 0.8300\n",
            "37/37 [==============================] - 0s 3ms/step - loss: 0.2625 - accuracy: 0.9200\n",
            "7/7 [==============================] - 0s 3ms/step - loss: 0.1941 - accuracy: 0.9450\n",
            "32/32 [==============================] - 0s 4ms/step - loss: 0.5054 - accuracy: 0.8174\n",
            "7/7 [==============================] - 0s 3ms/step - loss: 0.3160 - accuracy: 0.9100\n",
            "14/14 [==============================] - 0s 3ms/step - loss: 0.5050 - accuracy: 0.8114\n",
            "7/7 [==============================] - 0s 3ms/step - loss: 0.5501 - accuracy: 0.8100\n",
            "12/12 [==============================] - 0s 4ms/step - loss: 0.4520 - accuracy: 0.8367\n",
            "7/7 [==============================] - 0s 3ms/step - loss: 0.3214 - accuracy: 0.9050\n",
            "27/27 [==============================] - 0s 3ms/step - loss: 0.5152 - accuracy: 0.8076\n",
            "7/7 [==============================] - 0s 3ms/step - loss: 0.9673 - accuracy: 0.5400\n",
            "25/25 [==============================] - 0s 3ms/step - loss: 0.4602 - accuracy: 0.8420\n",
            "7/7 [==============================] - 0s 3ms/step - loss: 0.3344 - accuracy: 0.8900\n",
            "7/7 [==============================] - 0s 3ms/step - loss: 0.2891 - accuracy: 0.9236\n",
            "The Acc on each client... [0.9350000023841858, 0.9200000166893005, 0.7799999713897705, 0.8650000095367432, 0.9350000023841858, 0.8299999833106995, 0.9449999928474426, 0.9100000262260437, 0.8100000023841858, 0.9049999713897705, 0.5400000214576721, 0.8899999856948853]\n",
            "EPOCHS 10 is starting...\n",
            "35/35 [==============================] - 0s 3ms/step - loss: 0.3963 - accuracy: 0.8638\n",
            "7/7 [==============================] - 0s 3ms/step - loss: 0.2771 - accuracy: 0.9150\n",
            "22/22 [==============================] - 0s 4ms/step - loss: 0.5095 - accuracy: 0.8164\n",
            "7/7 [==============================] - 0s 3ms/step - loss: 0.4344 - accuracy: 0.8800\n",
            "27/27 [==============================] - 0s 4ms/step - loss: 0.4843 - accuracy: 0.8428\n",
            "7/7 [==============================] - 0s 3ms/step - loss: 0.9457 - accuracy: 0.5850\n",
            "28/28 [==============================] - 0s 3ms/step - loss: 0.4576 - accuracy: 0.8434\n",
            "7/7 [==============================] - 0s 3ms/step - loss: 0.5403 - accuracy: 0.8150\n",
            "14/14 [==============================] - 0s 3ms/step - loss: 0.3480 - accuracy: 0.8622\n",
            "7/7 [==============================] - 0s 3ms/step - loss: 0.2941 - accuracy: 0.9150\n",
            "32/32 [==============================] - 0s 3ms/step - loss: 0.4579 - accuracy: 0.8426\n",
            "7/7 [==============================] - 0s 3ms/step - loss: 0.9033 - accuracy: 0.6200\n",
            "37/37 [==============================] - 0s 3ms/step - loss: 0.2248 - accuracy: 0.9373\n",
            "7/7 [==============================] - 0s 3ms/step - loss: 0.1705 - accuracy: 0.9450\n",
            "32/32 [==============================] - 0s 3ms/step - loss: 0.5074 - accuracy: 0.8269\n",
            "7/7 [==============================] - 0s 3ms/step - loss: 0.4818 - accuracy: 0.8400\n",
            "14/14 [==============================] - 0s 3ms/step - loss: 0.5346 - accuracy: 0.7952\n",
            "7/7 [==============================] - 0s 3ms/step - loss: 0.4863 - accuracy: 0.8350\n",
            "12/12 [==============================] - 0s 3ms/step - loss: 0.4833 - accuracy: 0.8170\n",
            "7/7 [==============================] - 0s 3ms/step - loss: 0.3584 - accuracy: 0.8950\n",
            "27/27 [==============================] - 0s 3ms/step - loss: 0.5134 - accuracy: 0.8239\n",
            "7/7 [==============================] - 0s 3ms/step - loss: 0.8685 - accuracy: 0.6350\n",
            "25/25 [==============================] - 0s 3ms/step - loss: 0.4793 - accuracy: 0.8520\n",
            "7/7 [==============================] - 0s 3ms/step - loss: 0.3013 - accuracy: 0.8900\n",
            "7/7 [==============================] - 0s 3ms/step - loss: 0.3154 - accuracy: 0.9230\n",
            "The Acc on each client... [0.9150000214576721, 0.8799999952316284, 0.5849999785423279, 0.8149999976158142, 0.9150000214576721, 0.6200000047683716, 0.9449999928474426, 0.8399999737739563, 0.8349999785423279, 0.8949999809265137, 0.6349999904632568, 0.8899999856948853]\n",
            "EPOCHS 11 is starting...\n",
            "35/35 [==============================] - 0s 3ms/step - loss: 0.4162 - accuracy: 0.8722\n",
            "7/7 [==============================] - 0s 3ms/step - loss: 0.2211 - accuracy: 0.9450\n",
            "22/22 [==============================] - 0s 3ms/step - loss: 0.4069 - accuracy: 0.8524\n",
            "7/7 [==============================] - 0s 5ms/step - loss: 0.2814 - accuracy: 0.9200\n",
            "27/27 [==============================] - 1s 4ms/step - loss: 0.4517 - accuracy: 0.8434\n",
            "7/7 [==============================] - 0s 3ms/step - loss: 0.8416 - accuracy: 0.6250\n",
            "28/28 [==============================] - 0s 4ms/step - loss: 0.4051 - accuracy: 0.8699\n",
            "7/7 [==============================] - 1s 3ms/step - loss: 0.3233 - accuracy: 0.8950\n",
            "14/14 [==============================] - 0s 3ms/step - loss: 0.3036 - accuracy: 0.9001\n",
            "7/7 [==============================] - 0s 3ms/step - loss: 0.3914 - accuracy: 0.8800\n",
            "32/32 [==============================] - 0s 3ms/step - loss: 0.4185 - accuracy: 0.8410\n",
            "7/7 [==============================] - 0s 3ms/step - loss: 0.8736 - accuracy: 0.6250\n",
            "37/37 [==============================] - 0s 3ms/step - loss: 0.2011 - accuracy: 0.9380\n",
            "7/7 [==============================] - 0s 3ms/step - loss: 0.1850 - accuracy: 0.9400\n",
            "32/32 [==============================] - 0s 3ms/step - loss: 0.4368 - accuracy: 0.8557\n",
            "7/7 [==============================] - 0s 3ms/step - loss: 0.3815 - accuracy: 0.8700\n",
            "14/14 [==============================] - 0s 4ms/step - loss: 0.4519 - accuracy: 0.8288\n",
            "7/7 [==============================] - 0s 3ms/step - loss: 0.4024 - accuracy: 0.8900\n",
            "12/12 [==============================] - 0s 4ms/step - loss: 0.4491 - accuracy: 0.8415\n",
            "7/7 [==============================] - 0s 3ms/step - loss: 0.4142 - accuracy: 0.8550\n",
            "27/27 [==============================] - 0s 3ms/step - loss: 0.4495 - accuracy: 0.8020\n",
            "7/7 [==============================] - 0s 3ms/step - loss: 0.9065 - accuracy: 0.6300\n",
            "25/25 [==============================] - 0s 4ms/step - loss: 0.4969 - accuracy: 0.8292\n",
            "7/7 [==============================] - 0s 3ms/step - loss: 0.2620 - accuracy: 0.9250\n",
            "7/7 [==============================] - 0s 3ms/step - loss: 0.2615 - accuracy: 0.9450\n",
            "The Acc on each client... [0.9449999928474426, 0.9200000166893005, 0.625, 0.8949999809265137, 0.8799999952316284, 0.625, 0.9399999976158142, 0.8700000047683716, 0.8899999856948853, 0.8550000190734863, 0.6299999952316284, 0.925000011920929]\n",
            "EPOCHS 12 is starting...\n",
            "35/35 [==============================] - 0s 3ms/step - loss: 0.3727 - accuracy: 0.8846\n",
            "7/7 [==============================] - 0s 3ms/step - loss: 0.2317 - accuracy: 0.9500\n",
            "22/22 [==============================] - 0s 4ms/step - loss: 0.3971 - accuracy: 0.8653\n",
            "7/7 [==============================] - 0s 3ms/step - loss: 0.3742 - accuracy: 0.8950\n",
            "27/27 [==============================] - 0s 3ms/step - loss: 0.4001 - accuracy: 0.8407\n",
            "7/7 [==============================] - 0s 3ms/step - loss: 0.6432 - accuracy: 0.7200\n",
            "28/28 [==============================] - 0s 3ms/step - loss: 0.4082 - accuracy: 0.8733\n",
            "7/7 [==============================] - 0s 3ms/step - loss: 0.5146 - accuracy: 0.8250\n",
            "14/14 [==============================] - 0s 3ms/step - loss: 0.2919 - accuracy: 0.9127\n",
            "7/7 [==============================] - 0s 3ms/step - loss: 0.2443 - accuracy: 0.9200\n",
            "32/32 [==============================] - 0s 4ms/step - loss: 0.4002 - accuracy: 0.8392\n",
            "7/7 [==============================] - 0s 3ms/step - loss: 0.8564 - accuracy: 0.6500\n",
            "37/37 [==============================] - 0s 3ms/step - loss: 0.1824 - accuracy: 0.9514\n",
            "7/7 [==============================] - 0s 4ms/step - loss: 0.1605 - accuracy: 0.9450\n",
            "32/32 [==============================] - 0s 3ms/step - loss: 0.4627 - accuracy: 0.8322\n",
            "7/7 [==============================] - 0s 3ms/step - loss: 0.4181 - accuracy: 0.8600\n",
            "14/14 [==============================] - 0s 4ms/step - loss: 0.4479 - accuracy: 0.8289\n",
            "7/7 [==============================] - 0s 3ms/step - loss: 0.4069 - accuracy: 0.8650\n",
            "12/12 [==============================] - 0s 4ms/step - loss: 0.4645 - accuracy: 0.8574\n",
            "7/7 [==============================] - 0s 3ms/step - loss: 0.4423 - accuracy: 0.8500\n",
            "27/27 [==============================] - 0s 4ms/step - loss: 0.3992 - accuracy: 0.8309\n",
            "7/7 [==============================] - 0s 3ms/step - loss: 0.7136 - accuracy: 0.6750\n",
            "25/25 [==============================] - 0s 4ms/step - loss: 0.4158 - accuracy: 0.8668\n",
            "7/7 [==============================] - 0s 3ms/step - loss: 0.2695 - accuracy: 0.9350\n",
            "7/7 [==============================] - 0s 3ms/step - loss: 0.2700 - accuracy: 0.9390\n",
            "The Acc on each client... [0.949999988079071, 0.8949999809265137, 0.7200000286102295, 0.824999988079071, 0.9200000166893005, 0.6499999761581421, 0.9449999928474426, 0.8600000143051147, 0.8650000095367432, 0.8500000238418579, 0.675000011920929, 0.9350000023841858]\n",
            "EPOCHS 13 is starting...\n",
            "35/35 [==============================] - 0s 3ms/step - loss: 0.3584 - accuracy: 0.8766\n",
            "7/7 [==============================] - 0s 3ms/step - loss: 0.2265 - accuracy: 0.9450\n",
            "22/22 [==============================] - 1s 4ms/step - loss: 0.3530 - accuracy: 0.8837\n",
            "7/7 [==============================] - 0s 3ms/step - loss: 0.2827 - accuracy: 0.9200\n",
            "27/27 [==============================] - 0s 3ms/step - loss: 0.3943 - accuracy: 0.8372\n",
            "7/7 [==============================] - 0s 3ms/step - loss: 0.6906 - accuracy: 0.7050\n",
            "28/28 [==============================] - 0s 3ms/step - loss: 0.3748 - accuracy: 0.8686\n",
            "7/7 [==============================] - 0s 3ms/step - loss: 0.3060 - accuracy: 0.8900\n",
            "14/14 [==============================] - 0s 3ms/step - loss: 0.2914 - accuracy: 0.9192\n",
            "7/7 [==============================] - 0s 3ms/step - loss: 0.1693 - accuracy: 0.9600\n",
            "32/32 [==============================] - 0s 3ms/step - loss: 0.4162 - accuracy: 0.8285\n",
            "7/7 [==============================] - 0s 3ms/step - loss: 0.9977 - accuracy: 0.5650\n",
            "37/37 [==============================] - 0s 3ms/step - loss: 0.2015 - accuracy: 0.9317\n",
            "7/7 [==============================] - 0s 4ms/step - loss: 0.1777 - accuracy: 0.9500\n",
            "32/32 [==============================] - 0s 4ms/step - loss: 0.4595 - accuracy: 0.8461\n",
            "7/7 [==============================] - 0s 3ms/step - loss: 0.2715 - accuracy: 0.9100\n",
            "14/14 [==============================] - 0s 3ms/step - loss: 0.4360 - accuracy: 0.8068\n",
            "7/7 [==============================] - 0s 3ms/step - loss: 0.3271 - accuracy: 0.9000\n",
            "12/12 [==============================] - 0s 4ms/step - loss: 0.4500 - accuracy: 0.8368\n",
            "7/7 [==============================] - 0s 3ms/step - loss: 0.3796 - accuracy: 0.8850\n",
            "27/27 [==============================] - 0s 3ms/step - loss: 0.4749 - accuracy: 0.8309\n",
            "7/7 [==============================] - 0s 4ms/step - loss: 0.9324 - accuracy: 0.6050\n",
            "25/25 [==============================] - 0s 3ms/step - loss: 0.4003 - accuracy: 0.8585\n",
            "7/7 [==============================] - 0s 3ms/step - loss: 0.2700 - accuracy: 0.9100\n",
            "7/7 [==============================] - 0s 3ms/step - loss: 0.2320 - accuracy: 0.9427\n",
            "The Acc on each client... [0.9449999928474426, 0.9200000166893005, 0.7049999833106995, 0.8899999856948853, 0.9599999785423279, 0.5649999976158142, 0.949999988079071, 0.9100000262260437, 0.8999999761581421, 0.8849999904632568, 0.6050000190734863, 0.9100000262260437]\n",
            "EPOCHS 14 is starting...\n",
            "35/35 [==============================] - 1s 3ms/step - loss: 0.3267 - accuracy: 0.9007\n",
            "7/7 [==============================] - 0s 3ms/step - loss: 0.2114 - accuracy: 0.9500\n",
            "22/22 [==============================] - 0s 3ms/step - loss: 0.3741 - accuracy: 0.8711\n",
            "7/7 [==============================] - 0s 3ms/step - loss: 0.2612 - accuracy: 0.9350\n",
            "27/27 [==============================] - 0s 3ms/step - loss: 0.4307 - accuracy: 0.8231\n",
            "7/7 [==============================] - 0s 3ms/step - loss: 0.7188 - accuracy: 0.7250\n",
            "28/28 [==============================] - 0s 3ms/step - loss: 0.3907 - accuracy: 0.8587\n",
            "7/7 [==============================] - 0s 3ms/step - loss: 0.3696 - accuracy: 0.8950\n",
            "14/14 [==============================] - 0s 3ms/step - loss: 0.2936 - accuracy: 0.9027\n",
            "7/7 [==============================] - 0s 3ms/step - loss: 0.2734 - accuracy: 0.9250\n",
            "32/32 [==============================] - 0s 3ms/step - loss: 0.4562 - accuracy: 0.8258\n",
            "7/7 [==============================] - 0s 3ms/step - loss: 0.8350 - accuracy: 0.6400\n",
            "37/37 [==============================] - 0s 3ms/step - loss: 0.1792 - accuracy: 0.9421\n",
            "7/7 [==============================] - 0s 3ms/step - loss: 0.1452 - accuracy: 0.9550\n",
            "32/32 [==============================] - 0s 4ms/step - loss: 0.4557 - accuracy: 0.8292\n",
            "7/7 [==============================] - 0s 3ms/step - loss: 0.3209 - accuracy: 0.9000\n",
            "14/14 [==============================] - 0s 5ms/step - loss: 0.4046 - accuracy: 0.8254\n",
            "7/7 [==============================] - 0s 3ms/step - loss: 0.3220 - accuracy: 0.9200\n",
            "12/12 [==============================] - 0s 4ms/step - loss: 0.4640 - accuracy: 0.8407\n",
            "7/7 [==============================] - 0s 3ms/step - loss: 0.2173 - accuracy: 0.9550\n",
            "27/27 [==============================] - 0s 3ms/step - loss: 0.4302 - accuracy: 0.8384\n",
            "7/7 [==============================] - 0s 3ms/step - loss: 1.1798 - accuracy: 0.4750\n",
            "25/25 [==============================] - 0s 3ms/step - loss: 0.3502 - accuracy: 0.8738\n",
            "7/7 [==============================] - 1s 3ms/step - loss: 0.2521 - accuracy: 0.9400\n",
            "7/7 [==============================] - 0s 3ms/step - loss: 0.2293 - accuracy: 0.9477\n",
            "The Acc on each client... [0.949999988079071, 0.9350000023841858, 0.7250000238418579, 0.8949999809265137, 0.925000011920929, 0.6399999856948853, 0.9549999833106995, 0.8999999761581421, 0.9200000166893005, 0.9549999833106995, 0.4749999940395355, 0.9399999976158142]\n",
            "EPOCHS 15 is starting...\n",
            "35/35 [==============================] - 0s 3ms/step - loss: 0.3398 - accuracy: 0.8927\n",
            "7/7 [==============================] - 0s 4ms/step - loss: 0.1922 - accuracy: 0.9500\n",
            "22/22 [==============================] - 0s 3ms/step - loss: 0.3126 - accuracy: 0.8915\n",
            "7/7 [==============================] - 0s 3ms/step - loss: 0.3380 - accuracy: 0.8950\n",
            "27/27 [==============================] - 0s 3ms/step - loss: 0.4644 - accuracy: 0.8213\n",
            "7/7 [==============================] - 0s 3ms/step - loss: 0.7825 - accuracy: 0.6250\n",
            "28/28 [==============================] - 0s 4ms/step - loss: 0.3240 - accuracy: 0.8877\n",
            "7/7 [==============================] - 0s 3ms/step - loss: 0.3265 - accuracy: 0.8850\n",
            "14/14 [==============================] - 0s 3ms/step - loss: 0.2928 - accuracy: 0.8956\n",
            "7/7 [==============================] - 0s 3ms/step - loss: 0.2103 - accuracy: 0.9350\n",
            "32/32 [==============================] - 1s 4ms/step - loss: 0.3725 - accuracy: 0.8635\n",
            "7/7 [==============================] - 0s 4ms/step - loss: 0.6190 - accuracy: 0.7550\n",
            "37/37 [==============================] - 0s 3ms/step - loss: 0.1569 - accuracy: 0.9604\n",
            "7/7 [==============================] - 0s 4ms/step - loss: 0.1292 - accuracy: 0.9650\n",
            "32/32 [==============================] - 0s 3ms/step - loss: 0.3775 - accuracy: 0.8490\n",
            "7/7 [==============================] - 0s 3ms/step - loss: 0.3741 - accuracy: 0.8750\n",
            "14/14 [==============================] - 0s 3ms/step - loss: 0.3797 - accuracy: 0.8586\n",
            "7/7 [==============================] - 0s 3ms/step - loss: 0.5148 - accuracy: 0.8300\n",
            "12/12 [==============================] - 0s 3ms/step - loss: 0.3861 - accuracy: 0.8588\n",
            "7/7 [==============================] - 0s 3ms/step - loss: 0.2515 - accuracy: 0.9300\n",
            "27/27 [==============================] - 0s 3ms/step - loss: 0.3852 - accuracy: 0.8469\n",
            "7/7 [==============================] - 0s 4ms/step - loss: 0.6522 - accuracy: 0.7500\n",
            "25/25 [==============================] - 0s 4ms/step - loss: 0.3451 - accuracy: 0.8875\n",
            "7/7 [==============================] - 0s 3ms/step - loss: 0.2153 - accuracy: 0.9350\n",
            "7/7 [==============================] - 0s 3ms/step - loss: 0.2295 - accuracy: 0.9427\n",
            "The Acc on each client... [0.949999988079071, 0.8949999809265137, 0.625, 0.8849999904632568, 0.9350000023841858, 0.7549999952316284, 0.9649999737739563, 0.875, 0.8299999833106995, 0.9300000071525574, 0.75, 0.9350000023841858]\n",
            "EPOCHS 16 is starting...\n",
            "35/35 [==============================] - 1s 4ms/step - loss: 0.2944 - accuracy: 0.9072\n",
            "7/7 [==============================] - 0s 4ms/step - loss: 0.2156 - accuracy: 0.9400\n",
            "22/22 [==============================] - 0s 4ms/step - loss: 0.3416 - accuracy: 0.8777\n",
            "7/7 [==============================] - 0s 3ms/step - loss: 0.2548 - accuracy: 0.9350\n",
            "27/27 [==============================] - 0s 4ms/step - loss: 0.4169 - accuracy: 0.8364\n",
            "7/7 [==============================] - 0s 3ms/step - loss: 0.7551 - accuracy: 0.7200\n",
            "28/28 [==============================] - 0s 4ms/step - loss: 0.3296 - accuracy: 0.8826\n",
            "7/7 [==============================] - 0s 3ms/step - loss: 0.5847 - accuracy: 0.8100\n",
            "14/14 [==============================] - 0s 4ms/step - loss: 0.2243 - accuracy: 0.9056\n",
            "7/7 [==============================] - 0s 3ms/step - loss: 0.2805 - accuracy: 0.9250\n",
            "32/32 [==============================] - 0s 4ms/step - loss: 0.3733 - accuracy: 0.8541\n",
            "7/7 [==============================] - 0s 3ms/step - loss: 0.9776 - accuracy: 0.5950\n",
            "37/37 [==============================] - 0s 3ms/step - loss: 0.1458 - accuracy: 0.9596\n",
            "7/7 [==============================] - 0s 3ms/step - loss: 0.1546 - accuracy: 0.9650\n",
            "32/32 [==============================] - 0s 4ms/step - loss: 0.4182 - accuracy: 0.8468\n",
            "7/7 [==============================] - 0s 3ms/step - loss: 0.3917 - accuracy: 0.8500\n",
            "14/14 [==============================] - 0s 4ms/step - loss: 0.3913 - accuracy: 0.8554\n",
            "7/7 [==============================] - 0s 3ms/step - loss: 0.3531 - accuracy: 0.8950\n",
            "12/12 [==============================] - 1s 4ms/step - loss: 0.3447 - accuracy: 0.8751\n",
            "7/7 [==============================] - 0s 3ms/step - loss: 0.2867 - accuracy: 0.9000\n",
            "27/27 [==============================] - 0s 4ms/step - loss: 0.3199 - accuracy: 0.8741\n",
            "7/7 [==============================] - 0s 3ms/step - loss: 0.8023 - accuracy: 0.6400\n",
            "25/25 [==============================] - 0s 4ms/step - loss: 0.3474 - accuracy: 0.8803\n",
            "7/7 [==============================] - 0s 3ms/step - loss: 0.1601 - accuracy: 0.9600\n",
            "7/7 [==============================] - 0s 3ms/step - loss: 0.2168 - accuracy: 0.9526\n",
            "The Acc on each client... [0.9399999976158142, 0.9350000023841858, 0.7200000286102295, 0.8100000023841858, 0.925000011920929, 0.5950000286102295, 0.9649999737739563, 0.8500000238418579, 0.8949999809265137, 0.8999999761581421, 0.6399999856948853, 0.9599999785423279]\n",
            "EPOCHS 17 is starting...\n",
            "35/35 [==============================] - 0s 3ms/step - loss: 0.2935 - accuracy: 0.9078\n",
            "7/7 [==============================] - 0s 3ms/step - loss: 0.1699 - accuracy: 0.9700\n",
            "22/22 [==============================] - 0s 3ms/step - loss: 0.3236 - accuracy: 0.8873\n",
            "7/7 [==============================] - 0s 3ms/step - loss: 0.2280 - accuracy: 0.9300\n",
            "27/27 [==============================] - 0s 4ms/step - loss: 0.3411 - accuracy: 0.8732\n",
            "7/7 [==============================] - 0s 3ms/step - loss: 0.5305 - accuracy: 0.7650\n",
            "28/28 [==============================] - 0s 4ms/step - loss: 0.3005 - accuracy: 0.9026\n",
            "7/7 [==============================] - 0s 3ms/step - loss: 0.3459 - accuracy: 0.8950\n",
            "14/14 [==============================] - 0s 4ms/step - loss: 0.2230 - accuracy: 0.9289\n",
            "7/7 [==============================] - 0s 3ms/step - loss: 0.1892 - accuracy: 0.9400\n",
            "32/32 [==============================] - 1s 4ms/step - loss: 0.4221 - accuracy: 0.8345\n",
            "7/7 [==============================] - 0s 3ms/step - loss: 0.8208 - accuracy: 0.5700\n",
            "37/37 [==============================] - 1s 3ms/step - loss: 0.1323 - accuracy: 0.9573\n",
            "7/7 [==============================] - 0s 4ms/step - loss: 0.1053 - accuracy: 0.9800\n",
            "32/32 [==============================] - 0s 4ms/step - loss: 0.3934 - accuracy: 0.8619\n",
            "7/7 [==============================] - 0s 3ms/step - loss: 0.3675 - accuracy: 0.8750\n",
            "14/14 [==============================] - 0s 4ms/step - loss: 0.3731 - accuracy: 0.8502\n",
            "7/7 [==============================] - 0s 3ms/step - loss: 0.3308 - accuracy: 0.9200\n",
            "12/12 [==============================] - 1s 4ms/step - loss: 0.3211 - accuracy: 0.8985\n",
            "7/7 [==============================] - 0s 3ms/step - loss: 0.4264 - accuracy: 0.8050\n",
            "27/27 [==============================] - 0s 4ms/step - loss: 0.4089 - accuracy: 0.8316\n",
            "7/7 [==============================] - 0s 4ms/step - loss: 0.8795 - accuracy: 0.6150\n",
            "25/25 [==============================] - 0s 3ms/step - loss: 0.3431 - accuracy: 0.8874\n",
            "7/7 [==============================] - 0s 4ms/step - loss: 0.2197 - accuracy: 0.9200\n",
            "7/7 [==============================] - 0s 3ms/step - loss: 0.2163 - accuracy: 0.9545\n",
            "The Acc on each client... [0.9700000286102295, 0.9300000071525574, 0.7649999856948853, 0.8949999809265137, 0.9399999976158142, 0.5699999928474426, 0.9800000190734863, 0.875, 0.9200000166893005, 0.8050000071525574, 0.6150000095367432, 0.9200000166893005]\n",
            "EPOCHS 18 is starting...\n",
            "35/35 [==============================] - 0s 4ms/step - loss: 0.3192 - accuracy: 0.8983\n",
            "7/7 [==============================] - 0s 3ms/step - loss: 0.1921 - accuracy: 0.9550\n",
            "22/22 [==============================] - 0s 4ms/step - loss: 0.2780 - accuracy: 0.8894\n",
            "7/7 [==============================] - 0s 3ms/step - loss: 0.2284 - accuracy: 0.9550\n",
            "27/27 [==============================] - 0s 4ms/step - loss: 0.3669 - accuracy: 0.8700\n",
            "7/7 [==============================] - 0s 3ms/step - loss: 0.6278 - accuracy: 0.7550\n",
            "28/28 [==============================] - 0s 3ms/step - loss: 0.2935 - accuracy: 0.8937\n",
            "7/7 [==============================] - 0s 3ms/step - loss: 0.2676 - accuracy: 0.9200\n",
            "14/14 [==============================] - 0s 4ms/step - loss: 0.1990 - accuracy: 0.9264\n",
            "7/7 [==============================] - 0s 3ms/step - loss: 0.2537 - accuracy: 0.9350\n",
            "32/32 [==============================] - 0s 4ms/step - loss: 0.3674 - accuracy: 0.8536\n",
            "7/7 [==============================] - 0s 3ms/step - loss: 0.6128 - accuracy: 0.7650\n",
            "37/37 [==============================] - 0s 3ms/step - loss: 0.1528 - accuracy: 0.9515\n",
            "7/7 [==============================] - 0s 3ms/step - loss: 0.0992 - accuracy: 0.9800\n",
            "32/32 [==============================] - 0s 4ms/step - loss: 0.4170 - accuracy: 0.8634\n",
            "7/7 [==============================] - 0s 3ms/step - loss: 0.4049 - accuracy: 0.8300\n",
            "14/14 [==============================] - 0s 3ms/step - loss: 0.4102 - accuracy: 0.8404\n",
            "7/7 [==============================] - 0s 3ms/step - loss: 0.2800 - accuracy: 0.9250\n",
            "12/12 [==============================] - 0s 3ms/step - loss: 0.3070 - accuracy: 0.8957\n",
            "7/7 [==============================] - 0s 3ms/step - loss: 0.3196 - accuracy: 0.9000\n",
            "27/27 [==============================] - 0s 4ms/step - loss: 0.3179 - accuracy: 0.8916\n",
            "7/7 [==============================] - 0s 3ms/step - loss: 0.8743 - accuracy: 0.5800\n",
            "25/25 [==============================] - 0s 4ms/step - loss: 0.3495 - accuracy: 0.8840\n",
            "7/7 [==============================] - 0s 3ms/step - loss: 0.1876 - accuracy: 0.9600\n",
            "7/7 [==============================] - 0s 3ms/step - loss: 0.2140 - accuracy: 0.9496\n",
            "The Acc on each client... [0.9549999833106995, 0.9549999833106995, 0.7549999952316284, 0.9200000166893005, 0.9350000023841858, 0.7649999856948853, 0.9800000190734863, 0.8299999833106995, 0.925000011920929, 0.8999999761581421, 0.5799999833106995, 0.9599999785423279]\n",
            "EPOCHS 19 is starting...\n",
            "35/35 [==============================] - 0s 4ms/step - loss: 0.2689 - accuracy: 0.9050\n",
            "7/7 [==============================] - 0s 3ms/step - loss: 0.1597 - accuracy: 0.9650\n",
            "22/22 [==============================] - 0s 4ms/step - loss: 0.3065 - accuracy: 0.8990\n",
            "7/7 [==============================] - 0s 3ms/step - loss: 0.2109 - accuracy: 0.9450\n",
            "27/27 [==============================] - 0s 4ms/step - loss: 0.3859 - accuracy: 0.8521\n",
            "7/7 [==============================] - 0s 4ms/step - loss: 0.6002 - accuracy: 0.6900\n",
            "28/28 [==============================] - 0s 4ms/step - loss: 0.2947 - accuracy: 0.8975\n",
            "7/7 [==============================] - 0s 3ms/step - loss: 0.3067 - accuracy: 0.9050\n",
            "14/14 [==============================] - 0s 4ms/step - loss: 0.2140 - accuracy: 0.9055\n",
            "7/7 [==============================] - 0s 3ms/step - loss: 0.1625 - accuracy: 0.9600\n",
            "32/32 [==============================] - 0s 4ms/step - loss: 0.3611 - accuracy: 0.8449\n",
            "7/7 [==============================] - 0s 3ms/step - loss: 0.4897 - accuracy: 0.7950\n",
            "37/37 [==============================] - 1s 3ms/step - loss: 0.1271 - accuracy: 0.9576\n",
            "7/7 [==============================] - 0s 4ms/step - loss: 0.1299 - accuracy: 0.9650\n",
            "32/32 [==============================] - 1s 4ms/step - loss: 0.3902 - accuracy: 0.8682\n",
            "7/7 [==============================] - 0s 4ms/step - loss: 0.2576 - accuracy: 0.9300\n",
            "14/14 [==============================] - 0s 4ms/step - loss: 0.3406 - accuracy: 0.8689\n",
            "7/7 [==============================] - 0s 3ms/step - loss: 0.3149 - accuracy: 0.8850\n",
            "12/12 [==============================] - 0s 4ms/step - loss: 0.3366 - accuracy: 0.8998\n",
            "7/7 [==============================] - 0s 3ms/step - loss: 0.2426 - accuracy: 0.9400\n",
            "27/27 [==============================] - 0s 4ms/step - loss: 0.3060 - accuracy: 0.8939\n",
            "7/7 [==============================] - 0s 3ms/step - loss: 0.8153 - accuracy: 0.6250\n",
            "25/25 [==============================] - 0s 4ms/step - loss: 0.3223 - accuracy: 0.8900\n",
            "7/7 [==============================] - 0s 3ms/step - loss: 0.1398 - accuracy: 0.9650\n",
            "7/7 [==============================] - 0s 4ms/step - loss: 0.1872 - accuracy: 0.9545\n",
            "The Acc on each client... [0.9649999737739563, 0.9449999928474426, 0.6899999976158142, 0.9049999713897705, 0.9599999785423279, 0.7950000166893005, 0.9649999737739563, 0.9300000071525574, 0.8849999904632568, 0.9399999976158142, 0.625, 0.9649999737739563]\n"
          ],
          "name": "stdout"
        }
      ]
    },
    {
      "cell_type": "code",
      "metadata": {
        "colab": {
          "base_uri": "https://localhost:8080/",
          "height": 281
        },
        "id": "MlX5KEebHTeY",
        "outputId": "0c8c9c67-4d64-42ac-95a6-6f32a84a0cb9"
      },
      "source": [
        "#deal the data\n",
        "S_acc =[S.loss_acc[i][1]*100 for i in range(len(S.loss_acc))]\n",
        "S_loss =[S.loss_acc[i][0] for i in range(len(S.loss_acc))]\n",
        "\n",
        "#prepare show image\n",
        "x = np.arange(len(S.loss_acc))\n",
        "fig = plt.figure()\n",
        "ax1 = fig.add_subplot(111)\n",
        "acc = ax1.plot(x,S_acc,'r',label='Acc')\n",
        "ax1.set_ylabel('Acc')\n",
        "ax1.set_title('Acc-Loss')\n",
        "\n",
        "ax2 = ax1.twinx()\n",
        "loss = ax2.plot(x,S_loss,label='Loss')\n",
        "ax2.set_ylabel('Loss')\n",
        "\n",
        "lns = acc+loss\n",
        "labs = [l.get_label() for l in lns]\n",
        "ax2.legend(lns,labs)\n",
        "plt.show()"
      ],
      "execution_count": 44,
      "outputs": [
        {
          "output_type": "display_data",
          "data": {
            "image/png": "[encoded data removed]",
            "text/plain": [
              "<Figure size 432x288 with 2 Axes>"
            ]
          },
          "metadata": {
            "tags": [],
            "needs_background": "light"
          }
        }
      ]
    },
    {
      "cell_type": "code",
      "metadata": {
        "colab": {
          "base_uri": "https://localhost:8080/"
        },
        "id": "lXC1RS38HTXb",
        "outputId": "0490a353-c007-4da3-d6dc-80e241bf3059"
      },
      "source": [
        "NodeList"
      ],
      "execution_count": 45,
      "outputs": [
        {
          "output_type": "execute_result",
          "data": {
            "text/plain": [
              "[[9, 4, 8, 1, 10, 2, 5, 11, 3, 7, 0, 6],\n",
              " [8, 9, 4, 1, 2, 11, 10, 3, 5, 7, 0],\n",
              " [9, 4, 8, 1, 11, 3, 10, 2, 5, 0],\n",
              " [9, 4, 8, 1, 11, 5, 2, 3, 10],\n",
              " [4, 8, 9, 1, 11, 3, 10, 2],\n",
              " [8, 9, 4, 1, 11, 10, 2],\n",
              " [9, 8, 4, 11, 1, 10, 3],\n",
              " [9, 4, 8, 1, 11, 10, 3],\n",
              " [8, 9, 4, 1, 11, 3, 2],\n",
              " [9, 8, 4, 1, 11, 2, 3],\n",
              " [9, 8, 4, 1, 3, 2, 11],\n",
              " [9, 8, 4, 1, 3, 11, 2],\n",
              " [4, 8, 9, 1, 11, 2, 10],\n",
              " [4, 9, 8, 1, 11, 3, 7],\n",
              " [9, 8, 4, 1, 11, 2, 3],\n",
              " [4, 9, 8, 11, 1, 2, 3],\n",
              " [9, 8, 4, 1, 11, 2, 7],\n",
              " [9, 8, 4, 1, 11, 3, 2],\n",
              " [9, 8, 4, 1, 11, 3, 10],\n",
              " [9, 8, 4, 1, 2, 11, 10]]"
            ]
          },
          "metadata": {
            "tags": []
          },
          "execution_count": 45
        }
      ]
    },
    {
      "cell_type": "code",
      "metadata": {
        "colab": {
          "base_uri": "https://localhost:8080/",
          "height": 279
        },
        "id": "LM3n47YxHTNn",
        "outputId": "c25c319d-dbab-45b1-efe2-02df594ff575"
      },
      "source": [
        "#deal the data\n",
        "img = np.ones(shape=(NUM_CLIENTS,NUM_EPOCHS),dtype=int)\n",
        "for i in range(len(NodeList)):\n",
        "  for j in NodeList[i]:\n",
        "    img[j][i]=0\n",
        "#prepare show image\n",
        "len_n = len(S.loss_acc)\n",
        "ax = plt.gca()\n",
        "ax.set_ylim(-0.5,NUM_CLIENTS-0.5)\n",
        "ax.set_xlim(-0.5,9.5)\n",
        "miloc = plt.MultipleLocator(1)\n",
        "ax.xaxis.set_minor_locator(miloc)\n",
        "plt.grid()\n",
        "plt.title(\"Nodes in each epoch\")\n",
        "plt.imshow(img*255,cmap='gray')\n",
        "plt.axis('on')\n",
        "plt.xlabel('Epochs')\n",
        "plt.ylabel('Nodes')\n",
        "y = np.arange(0.5,NUM_CLIENTS+0.5,1)\n",
        "x = np.arange(0.5,NUM_EPOCHS+0.5,1)\n",
        "plt.xticks()\n",
        "plt.yticks(y,(int(i-0.5) for i in y))\n",
        "plt.xticks(x,(int(i-0.5) for i in x))\n",
        "plt.show()"
      ],
      "execution_count": 46,
      "outputs": [
        {
          "output_type": "display_data",
          "data": {
            "image/png": "[encoded data removed]",
            "text/plain": [
              "<Figure size 432x288 with 1 Axes>"
            ]
          },
          "metadata": {
            "tags": [],
            "needs_background": "light"
          }
        }
      ]
    },
    {
      "cell_type": "markdown",
      "metadata": {
        "id": "i2axuRBsO6V7"
      },
      "source": [
        "设置对照组，即普通的FedAvg"
      ]
    },
    {
      "cell_type": "code",
      "metadata": {
        "id": "wwI_gLjwO5w4"
      },
      "source": [
        "def FedAvg_Baseline(NUM_CLIENTS,model):\n",
        "  iterModel = model.copy()\n",
        "  len_it = len(iterModel.trainable_variables)\n",
        "  all_weights = []\n",
        "  for weights_index in range(len_it):\n",
        "    tmp =np.zeros(iterModel.trainable_variables[weights_index].numpy().shape,dtype='float64')\n",
        "    for node in range(NUM_CLIENTS):\n",
        "      tmp += clients[node].model.trainable_variables[weights_index].numpy()\n",
        "    all_weights.append(tmp/NUM_CLIENTS)\n",
        "  # print(all_weights)\n",
        "  iterModel_vars = iterModel.trainable_variables\n",
        "  for iter_v,n in zip(iterModel_vars,all_weights):\n",
        "    iter_v.assign(n)\n",
        "  return iterModel"
      ],
      "execution_count": 33,
      "outputs": []
    },
    {
      "cell_type": "code",
      "metadata": {
        "colab": {
          "base_uri": "https://localhost:8080/"
        },
        "id": "X5o0nVueO0m7",
        "outputId": "dabc1e2b-896c-4d5e-921e-eb065ef6f424"
      },
      "source": [
        "InitModel = FLModel(row=28,col=28,num_classes=11)\n",
        "S2 = ParamServer(\"\")\n",
        "S2.PreEval(InitModel,validation_data)\n",
        "SendModel = InitModel"
      ],
      "execution_count": 34,
      "outputs": [
        {
          "output_type": "stream",
          "text": [
            "7/7 [==============================] - 0s 3ms/step - loss: 2.3885 - accuracy: 0.0285\n"
          ],
          "name": "stdout"
        }
      ]
    },
    {
      "cell_type": "code",
      "metadata": {
        "colab": {
          "base_uri": "https://localhost:8080/"
        },
        "id": "KW2JdgUEP0C5",
        "outputId": "a55f02fe-c510-4f1e-dea5-7a2694c82197"
      },
      "source": [
        "SendModel = S2.PreTrain(InitModel,DigitDataSet[0][0:200],DigitDataSet[1][0:200],epochs=1)\n",
        "S2.PreEval(SendModel,validation_data)"
      ],
      "execution_count": 35,
      "outputs": [
        {
          "output_type": "stream",
          "text": [
            "7/7 [==============================] - 0s 4ms/step - loss: 2.3599 - accuracy: 0.0808\n",
            "7/7 [==============================] - 0s 2ms/step - loss: 2.1824 - accuracy: 0.3074\n"
          ],
          "name": "stdout"
        }
      ]
    },
    {
      "cell_type": "code",
      "metadata": {
        "id": "Bwd2uL1FUpeH"
      },
      "source": [
        "NUM_EPOCHS = 10"
      ],
      "execution_count": null,
      "outputs": []
    },
    {
      "cell_type": "code",
      "metadata": {
        "colab": {
          "base_uri": "https://localhost:8080/"
        },
        "id": "dejoUrZlPz5l",
        "outputId": "2dc2e0b2-ff76-46ed-95e7-6d50fe4b19ac"
      },
      "source": [
        "for e in range(NUM_EPOCHS):\n",
        "  print(\"EPOCHS {} is starting...\".format(e))\n",
        "  for i in range(NUM_CLIENTS):\n",
        "    clients[i].ReceiveModel(SendModel.copy())\n",
        "    clients[i].NodeTrain()\n",
        "    # clients[i].NodeEval()\n",
        "    # DIS.append(Distance(SendModel,clients[i].model))\n",
        "  FedModel = FedAvg_Baseline(NUM_CLIENTS,SendModel)\n",
        "  S2.PreEval(FedModel,validation_data)\n",
        "  SendModel = FedModel.copy()"
      ],
      "execution_count": 36,
      "outputs": [
        {
          "output_type": "stream",
          "text": [
            "EPOCHS 0 is starting...\n",
            "35/35 [==============================] - 1s 3ms/step - loss: 2.1360 - accuracy: 0.3183\n",
            "22/22 [==============================] - 0s 3ms/step - loss: 2.3372 - accuracy: 0.2089\n",
            "27/27 [==============================] - 0s 4ms/step - loss: 2.1678 - accuracy: 0.4282\n",
            "28/28 [==============================] - 0s 3ms/step - loss: 2.3488 - accuracy: 0.2325\n",
            "14/14 [==============================] - 0s 4ms/step - loss: 2.3696 - accuracy: 0.2422\n",
            "32/32 [==============================] - 0s 3ms/step - loss: 2.0912 - accuracy: 0.4563\n",
            "37/37 [==============================] - 0s 3ms/step - loss: 1.9039 - accuracy: 0.4824\n",
            "32/32 [==============================] - 0s 3ms/step - loss: 2.2630 - accuracy: 0.3114\n",
            "14/14 [==============================] - 0s 3ms/step - loss: 2.3659 - accuracy: 0.2701\n",
            "12/12 [==============================] - 0s 3ms/step - loss: 2.3169 - accuracy: 0.2533\n",
            "27/27 [==============================] - 0s 3ms/step - loss: 2.1051 - accuracy: 0.4537\n",
            "25/25 [==============================] - 0s 4ms/step - loss: 2.2775 - accuracy: 0.1980\n",
            "7/7 [==============================] - 0s 3ms/step - loss: 2.5033 - accuracy: 0.0000e+00\n",
            "EPOCHS 1 is starting...\n",
            "35/35 [==============================] - 0s 3ms/step - loss: 1.6723 - accuracy: 0.4784\n",
            "22/22 [==============================] - 1s 3ms/step - loss: 1.6643 - accuracy: 0.4369\n",
            "27/27 [==============================] - 0s 3ms/step - loss: 1.0500 - accuracy: 0.7475\n",
            "28/28 [==============================] - 1s 4ms/step - loss: 1.6476 - accuracy: 0.4291\n",
            "14/14 [==============================] - 0s 4ms/step - loss: 1.9179 - accuracy: 0.3894\n",
            "32/32 [==============================] - 1s 3ms/step - loss: 1.1027 - accuracy: 0.6995\n",
            "37/37 [==============================] - 0s 3ms/step - loss: 1.6555 - accuracy: 0.5207\n",
            "32/32 [==============================] - 0s 3ms/step - loss: 1.6013 - accuracy: 0.4412\n",
            "14/14 [==============================] - 0s 3ms/step - loss: 1.6013 - accuracy: 0.4552\n",
            "12/12 [==============================] - 0s 3ms/step - loss: 1.9311 - accuracy: 0.3794\n",
            "27/27 [==============================] - 0s 3ms/step - loss: 1.0447 - accuracy: 0.7496\n",
            "25/25 [==============================] - 0s 3ms/step - loss: 1.7561 - accuracy: 0.4362\n",
            "7/7 [==============================] - 0s 3ms/step - loss: 1.0718 - accuracy: 0.6102\n",
            "EPOCHS 2 is starting...\n",
            "35/35 [==============================] - 0s 3ms/step - loss: 0.9824 - accuracy: 0.6935\n",
            "22/22 [==============================] - 0s 3ms/step - loss: 1.0841 - accuracy: 0.6075\n",
            "27/27 [==============================] - 1s 3ms/step - loss: 0.8629 - accuracy: 0.7468\n",
            "28/28 [==============================] - 0s 3ms/step - loss: 1.0355 - accuracy: 0.6305\n",
            "14/14 [==============================] - 0s 3ms/step - loss: 0.9552 - accuracy: 0.6727\n",
            "32/32 [==============================] - 0s 3ms/step - loss: 0.8106 - accuracy: 0.7273\n",
            "37/37 [==============================] - 0s 3ms/step - loss: 0.7272 - accuracy: 0.7872\n",
            "32/32 [==============================] - 0s 4ms/step - loss: 1.0476 - accuracy: 0.6120\n",
            "14/14 [==============================] - 0s 3ms/step - loss: 1.0489 - accuracy: 0.5956\n",
            "12/12 [==============================] - 0s 3ms/step - loss: 1.0933 - accuracy: 0.6367\n",
            "27/27 [==============================] - 0s 3ms/step - loss: 0.8373 - accuracy: 0.7405\n",
            "25/25 [==============================] - 0s 3ms/step - loss: 1.0695 - accuracy: 0.6265\n",
            "7/7 [==============================] - 0s 3ms/step - loss: 0.8209 - accuracy: 0.7166\n",
            "EPOCHS 3 is starting...\n",
            "35/35 [==============================] - 0s 3ms/step - loss: 0.7921 - accuracy: 0.7579\n",
            "22/22 [==============================] - 0s 3ms/step - loss: 0.9232 - accuracy: 0.6734\n",
            "27/27 [==============================] - 0s 3ms/step - loss: 0.7567 - accuracy: 0.7336\n",
            "28/28 [==============================] - 1s 3ms/step - loss: 0.8801 - accuracy: 0.7049\n",
            "14/14 [==============================] - 0s 3ms/step - loss: 0.7635 - accuracy: 0.7587\n",
            "32/32 [==============================] - 0s 3ms/step - loss: 0.6587 - accuracy: 0.7933\n",
            "37/37 [==============================] - 0s 3ms/step - loss: 0.5743 - accuracy: 0.8301\n",
            "32/32 [==============================] - 0s 3ms/step - loss: 0.9848 - accuracy: 0.6638\n",
            "14/14 [==============================] - 0s 4ms/step - loss: 0.8331 - accuracy: 0.6898\n",
            "12/12 [==============================] - 0s 3ms/step - loss: 0.9140 - accuracy: 0.6948\n",
            "27/27 [==============================] - 0s 3ms/step - loss: 0.6683 - accuracy: 0.7411\n",
            "25/25 [==============================] - 0s 3ms/step - loss: 0.8103 - accuracy: 0.7300\n",
            "7/7 [==============================] - 0s 3ms/step - loss: 0.7246 - accuracy: 0.7730\n",
            "EPOCHS 4 is starting...\n",
            "35/35 [==============================] - 0s 3ms/step - loss: 0.6598 - accuracy: 0.7756\n",
            "22/22 [==============================] - 0s 3ms/step - loss: 0.7620 - accuracy: 0.7190\n",
            "27/27 [==============================] - 0s 3ms/step - loss: 0.5644 - accuracy: 0.7897\n",
            "28/28 [==============================] - 0s 3ms/step - loss: 0.7220 - accuracy: 0.7449\n",
            "14/14 [==============================] - 1s 3ms/step - loss: 0.6854 - accuracy: 0.7730\n",
            "32/32 [==============================] - 0s 3ms/step - loss: 0.7201 - accuracy: 0.7449\n",
            "37/37 [==============================] - 0s 3ms/step - loss: 0.4494 - accuracy: 0.8710\n",
            "32/32 [==============================] - 0s 3ms/step - loss: 0.7874 - accuracy: 0.7092\n",
            "14/14 [==============================] - 0s 3ms/step - loss: 0.7887 - accuracy: 0.7039\n",
            "12/12 [==============================] - 0s 4ms/step - loss: 0.6807 - accuracy: 0.7595\n",
            "27/27 [==============================] - 0s 3ms/step - loss: 0.6557 - accuracy: 0.7860\n",
            "25/25 [==============================] - 0s 3ms/step - loss: 0.7434 - accuracy: 0.7640\n",
            "7/7 [==============================] - 0s 3ms/step - loss: 0.6388 - accuracy: 0.7946\n",
            "EPOCHS 5 is starting...\n",
            "35/35 [==============================] - 0s 3ms/step - loss: 0.6661 - accuracy: 0.7861\n",
            "22/22 [==============================] - 0s 3ms/step - loss: 0.6842 - accuracy: 0.7546\n",
            "27/27 [==============================] - 0s 3ms/step - loss: 0.4919 - accuracy: 0.8139\n",
            "28/28 [==============================] - 0s 3ms/step - loss: 0.5796 - accuracy: 0.8123\n",
            "14/14 [==============================] - 0s 3ms/step - loss: 0.5671 - accuracy: 0.8136\n",
            "32/32 [==============================] - 1s 3ms/step - loss: 0.5935 - accuracy: 0.7827\n",
            "37/37 [==============================] - 0s 3ms/step - loss: 0.4149 - accuracy: 0.8763\n",
            "32/32 [==============================] - 0s 3ms/step - loss: 0.7627 - accuracy: 0.7238\n",
            "14/14 [==============================] - 0s 4ms/step - loss: 0.6425 - accuracy: 0.7628\n",
            "12/12 [==============================] - 0s 4ms/step - loss: 0.5971 - accuracy: 0.7931\n",
            "27/27 [==============================] - 0s 3ms/step - loss: 0.5791 - accuracy: 0.8036\n",
            "25/25 [==============================] - 0s 4ms/step - loss: 0.7052 - accuracy: 0.7413\n",
            "7/7 [==============================] - 0s 3ms/step - loss: 0.5986 - accuracy: 0.7972\n",
            "EPOCHS 6 is starting...\n",
            "35/35 [==============================] - 0s 3ms/step - loss: 0.6184 - accuracy: 0.7940\n",
            "22/22 [==============================] - 0s 3ms/step - loss: 0.6498 - accuracy: 0.7689\n",
            "27/27 [==============================] - 0s 4ms/step - loss: 0.5003 - accuracy: 0.8389\n",
            "28/28 [==============================] - 0s 4ms/step - loss: 0.5996 - accuracy: 0.8201\n",
            "14/14 [==============================] - 0s 3ms/step - loss: 0.4752 - accuracy: 0.8420\n",
            "32/32 [==============================] - 0s 3ms/step - loss: 0.5712 - accuracy: 0.7850\n",
            "37/37 [==============================] - 1s 3ms/step - loss: 0.3674 - accuracy: 0.8927\n",
            "32/32 [==============================] - 1s 4ms/step - loss: 0.6604 - accuracy: 0.7586\n",
            "14/14 [==============================] - 0s 3ms/step - loss: 0.6359 - accuracy: 0.7624\n",
            "12/12 [==============================] - 0s 3ms/step - loss: 0.5567 - accuracy: 0.7902\n",
            "27/27 [==============================] - 0s 3ms/step - loss: 0.4869 - accuracy: 0.8052\n",
            "25/25 [==============================] - 0s 3ms/step - loss: 0.6280 - accuracy: 0.7912\n",
            "7/7 [==============================] - 0s 3ms/step - loss: 0.5104 - accuracy: 0.8413\n",
            "EPOCHS 7 is starting...\n",
            "35/35 [==============================] - 0s 3ms/step - loss: 0.5509 - accuracy: 0.8189\n",
            "22/22 [==============================] - 0s 3ms/step - loss: 0.5659 - accuracy: 0.7783\n",
            "27/27 [==============================] - 0s 3ms/step - loss: 0.4825 - accuracy: 0.8211\n",
            "28/28 [==============================] - 0s 3ms/step - loss: 0.5631 - accuracy: 0.8161\n",
            "14/14 [==============================] - 0s 4ms/step - loss: 0.5005 - accuracy: 0.8373\n",
            "32/32 [==============================] - 0s 3ms/step - loss: 0.4652 - accuracy: 0.8217\n",
            "37/37 [==============================] - 0s 3ms/step - loss: 0.3011 - accuracy: 0.9100\n",
            "32/32 [==============================] - 1s 3ms/step - loss: 0.6070 - accuracy: 0.7741\n",
            "14/14 [==============================] - 0s 3ms/step - loss: 0.6218 - accuracy: 0.7550\n",
            "12/12 [==============================] - 0s 3ms/step - loss: 0.4587 - accuracy: 0.8635\n",
            "27/27 [==============================] - 0s 3ms/step - loss: 0.5346 - accuracy: 0.7952\n",
            "25/25 [==============================] - 0s 4ms/step - loss: 0.6017 - accuracy: 0.7775\n",
            "7/7 [==============================] - 0s 3ms/step - loss: 0.4493 - accuracy: 0.8575\n",
            "EPOCHS 8 is starting...\n",
            "35/35 [==============================] - 0s 3ms/step - loss: 0.5058 - accuracy: 0.8395\n",
            "22/22 [==============================] - 0s 3ms/step - loss: 0.5922 - accuracy: 0.7871\n",
            "27/27 [==============================] - 0s 3ms/step - loss: 0.4485 - accuracy: 0.8366\n",
            "28/28 [==============================] - 0s 3ms/step - loss: 0.5337 - accuracy: 0.8217\n",
            "14/14 [==============================] - 0s 3ms/step - loss: 0.4790 - accuracy: 0.8459\n",
            "32/32 [==============================] - 0s 3ms/step - loss: 0.4989 - accuracy: 0.8225\n",
            "37/37 [==============================] - 0s 3ms/step - loss: 0.2565 - accuracy: 0.9306\n",
            "32/32 [==============================] - 0s 3ms/step - loss: 0.5971 - accuracy: 0.7755\n",
            "14/14 [==============================] - 1s 4ms/step - loss: 0.5770 - accuracy: 0.7626\n",
            "12/12 [==============================] - 0s 3ms/step - loss: 0.5204 - accuracy: 0.8102\n",
            "27/27 [==============================] - 0s 3ms/step - loss: 0.4586 - accuracy: 0.8104\n",
            "25/25 [==============================] - 0s 3ms/step - loss: 0.5179 - accuracy: 0.8307\n",
            "7/7 [==============================] - 0s 3ms/step - loss: 0.4336 - accuracy: 0.8517\n",
            "EPOCHS 9 is starting...\n",
            "35/35 [==============================] - 0s 3ms/step - loss: 0.4358 - accuracy: 0.8632\n",
            "22/22 [==============================] - 0s 3ms/step - loss: 0.5131 - accuracy: 0.8016\n",
            "27/27 [==============================] - 0s 3ms/step - loss: 0.4449 - accuracy: 0.8307\n",
            "28/28 [==============================] - 0s 3ms/step - loss: 0.4480 - accuracy: 0.8406\n",
            "14/14 [==============================] - 0s 3ms/step - loss: 0.3764 - accuracy: 0.8649\n",
            "32/32 [==============================] - 0s 4ms/step - loss: 0.5065 - accuracy: 0.8247\n",
            "37/37 [==============================] - 0s 3ms/step - loss: 0.2785 - accuracy: 0.9190\n",
            "32/32 [==============================] - 0s 3ms/step - loss: 0.5786 - accuracy: 0.7912\n",
            "14/14 [==============================] - 0s 3ms/step - loss: 0.5070 - accuracy: 0.7959\n",
            "12/12 [==============================] - 1s 3ms/step - loss: 0.4243 - accuracy: 0.8803\n",
            "27/27 [==============================] - 0s 3ms/step - loss: 0.4429 - accuracy: 0.8442\n",
            "25/25 [==============================] - 0s 3ms/step - loss: 0.4848 - accuracy: 0.8402\n",
            "7/7 [==============================] - 0s 3ms/step - loss: 0.3945 - accuracy: 0.8612\n",
            "EPOCHS 10 is starting...\n",
            "35/35 [==============================] - 0s 3ms/step - loss: 0.4339 - accuracy: 0.8659\n",
            "22/22 [==============================] - 0s 3ms/step - loss: 0.4394 - accuracy: 0.8376\n",
            "27/27 [==============================] - 0s 3ms/step - loss: 0.4487 - accuracy: 0.8147\n",
            "28/28 [==============================] - 0s 4ms/step - loss: 0.4413 - accuracy: 0.8431\n",
            "14/14 [==============================] - 0s 3ms/step - loss: 0.3353 - accuracy: 0.8746\n",
            "32/32 [==============================] - 0s 3ms/step - loss: 0.4422 - accuracy: 0.8236\n",
            "37/37 [==============================] - 0s 3ms/step - loss: 0.2471 - accuracy: 0.9198\n",
            "32/32 [==============================] - 0s 3ms/step - loss: 0.4848 - accuracy: 0.8422\n",
            "14/14 [==============================] - 0s 3ms/step - loss: 0.4559 - accuracy: 0.8349\n",
            "12/12 [==============================] - 0s 3ms/step - loss: 0.4504 - accuracy: 0.8623\n",
            "27/27 [==============================] - 1s 3ms/step - loss: 0.4816 - accuracy: 0.8018\n",
            "25/25 [==============================] - 0s 4ms/step - loss: 0.4632 - accuracy: 0.8513\n",
            "7/7 [==============================] - 0s 3ms/step - loss: 0.3247 - accuracy: 0.8774\n",
            "EPOCHS 11 is starting...\n",
            "35/35 [==============================] - 0s 3ms/step - loss: 0.4036 - accuracy: 0.8723\n",
            "22/22 [==============================] - 0s 3ms/step - loss: 0.4418 - accuracy: 0.8336\n",
            "27/27 [==============================] - 0s 3ms/step - loss: 0.4031 - accuracy: 0.8385\n",
            "28/28 [==============================] - 0s 3ms/step - loss: 0.4672 - accuracy: 0.8273\n",
            "14/14 [==============================] - 0s 3ms/step - loss: 0.3828 - accuracy: 0.8742\n",
            "32/32 [==============================] - 0s 3ms/step - loss: 0.4683 - accuracy: 0.8180\n",
            "37/37 [==============================] - 0s 3ms/step - loss: 0.2545 - accuracy: 0.9313\n",
            "32/32 [==============================] - 0s 3ms/step - loss: 0.4486 - accuracy: 0.8420\n",
            "14/14 [==============================] - 0s 3ms/step - loss: 0.5139 - accuracy: 0.8016\n",
            "12/12 [==============================] - 0s 3ms/step - loss: 0.4113 - accuracy: 0.8592\n",
            "27/27 [==============================] - 0s 4ms/step - loss: 0.4057 - accuracy: 0.8489\n",
            "25/25 [==============================] - 1s 3ms/step - loss: 0.4494 - accuracy: 0.8515\n",
            "7/7 [==============================] - 0s 3ms/step - loss: 0.3216 - accuracy: 0.8883\n",
            "EPOCHS 12 is starting...\n",
            "35/35 [==============================] - 0s 3ms/step - loss: 0.3836 - accuracy: 0.8714\n",
            "22/22 [==============================] - 0s 4ms/step - loss: 0.4359 - accuracy: 0.8204\n",
            "27/27 [==============================] - 0s 3ms/step - loss: 0.4198 - accuracy: 0.8530\n",
            "28/28 [==============================] - 0s 3ms/step - loss: 0.4153 - accuracy: 0.8640\n",
            "14/14 [==============================] - 0s 4ms/step - loss: 0.3097 - accuracy: 0.8849\n",
            "32/32 [==============================] - 0s 3ms/step - loss: 0.4994 - accuracy: 0.8157\n",
            "37/37 [==============================] - 0s 3ms/step - loss: 0.2148 - accuracy: 0.9378\n",
            "32/32 [==============================] - 0s 3ms/step - loss: 0.4264 - accuracy: 0.8454\n",
            "14/14 [==============================] - 0s 3ms/step - loss: 0.4290 - accuracy: 0.8419\n",
            "12/12 [==============================] - 0s 3ms/step - loss: 0.4105 - accuracy: 0.8444\n",
            "27/27 [==============================] - 0s 3ms/step - loss: 0.3922 - accuracy: 0.8345\n",
            "25/25 [==============================] - 0s 3ms/step - loss: 0.3752 - accuracy: 0.8749\n",
            "7/7 [==============================] - 0s 3ms/step - loss: 0.3300 - accuracy: 0.8937\n",
            "EPOCHS 13 is starting...\n",
            "35/35 [==============================] - 0s 4ms/step - loss: 0.3549 - accuracy: 0.8889\n",
            "22/22 [==============================] - 0s 3ms/step - loss: 0.4408 - accuracy: 0.8192\n",
            "27/27 [==============================] - 0s 3ms/step - loss: 0.3692 - accuracy: 0.8746\n",
            "28/28 [==============================] - 0s 3ms/step - loss: 0.3794 - accuracy: 0.8782\n",
            "14/14 [==============================] - 0s 3ms/step - loss: 0.3399 - accuracy: 0.8944\n",
            "32/32 [==============================] - 0s 3ms/step - loss: 0.3955 - accuracy: 0.8338\n",
            "37/37 [==============================] - 0s 3ms/step - loss: 0.1689 - accuracy: 0.9456\n",
            "32/32 [==============================] - 0s 3ms/step - loss: 0.4925 - accuracy: 0.8233\n",
            "14/14 [==============================] - 0s 3ms/step - loss: 0.4508 - accuracy: 0.8285\n",
            "12/12 [==============================] - 0s 3ms/step - loss: 0.4032 - accuracy: 0.8300\n",
            "27/27 [==============================] - 0s 3ms/step - loss: 0.4269 - accuracy: 0.8383\n",
            "25/25 [==============================] - 0s 3ms/step - loss: 0.4251 - accuracy: 0.8584\n",
            "7/7 [==============================] - 0s 3ms/step - loss: 0.3053 - accuracy: 0.8941\n",
            "EPOCHS 14 is starting...\n",
            "35/35 [==============================] - 0s 3ms/step - loss: 0.3253 - accuracy: 0.8943\n",
            "22/22 [==============================] - 0s 3ms/step - loss: 0.3752 - accuracy: 0.8511\n",
            "27/27 [==============================] - 0s 3ms/step - loss: 0.3143 - accuracy: 0.8806\n",
            "28/28 [==============================] - 0s 3ms/step - loss: 0.3407 - accuracy: 0.8791\n",
            "14/14 [==============================] - 0s 3ms/step - loss: 0.3263 - accuracy: 0.9035\n",
            "32/32 [==============================] - 0s 3ms/step - loss: 0.3821 - accuracy: 0.8334\n",
            "37/37 [==============================] - 0s 3ms/step - loss: 0.1832 - accuracy: 0.9402\n",
            "32/32 [==============================] - 0s 4ms/step - loss: 0.4576 - accuracy: 0.8273\n",
            "14/14 [==============================] - 0s 4ms/step - loss: 0.4148 - accuracy: 0.8441\n",
            "12/12 [==============================] - 0s 4ms/step - loss: 0.3500 - accuracy: 0.8865\n",
            "27/27 [==============================] - 1s 3ms/step - loss: 0.3644 - accuracy: 0.8559\n",
            "25/25 [==============================] - 0s 4ms/step - loss: 0.3743 - accuracy: 0.8721\n",
            "7/7 [==============================] - 0s 3ms/step - loss: 0.2770 - accuracy: 0.9091\n",
            "EPOCHS 15 is starting...\n",
            "35/35 [==============================] - 1s 4ms/step - loss: 0.3126 - accuracy: 0.9046\n",
            "22/22 [==============================] - 0s 4ms/step - loss: 0.3446 - accuracy: 0.8573\n",
            "27/27 [==============================] - 0s 4ms/step - loss: 0.3769 - accuracy: 0.8381\n",
            "28/28 [==============================] - 0s 3ms/step - loss: 0.3381 - accuracy: 0.8743\n",
            "14/14 [==============================] - 0s 4ms/step - loss: 0.2598 - accuracy: 0.9134\n",
            "32/32 [==============================] - 0s 3ms/step - loss: 0.3996 - accuracy: 0.8353\n",
            "37/37 [==============================] - 0s 3ms/step - loss: 0.1903 - accuracy: 0.9372\n",
            "32/32 [==============================] - 0s 3ms/step - loss: 0.4094 - accuracy: 0.8513\n",
            "14/14 [==============================] - 0s 3ms/step - loss: 0.4354 - accuracy: 0.8307\n",
            "12/12 [==============================] - 0s 3ms/step - loss: 0.3972 - accuracy: 0.8638\n",
            "27/27 [==============================] - 0s 3ms/step - loss: 0.4013 - accuracy: 0.8411\n",
            "25/25 [==============================] - 0s 3ms/step - loss: 0.3647 - accuracy: 0.8828\n",
            "7/7 [==============================] - 0s 3ms/step - loss: 0.2695 - accuracy: 0.9226\n",
            "EPOCHS 16 is starting...\n",
            "35/35 [==============================] - 0s 4ms/step - loss: 0.3443 - accuracy: 0.8910\n",
            "22/22 [==============================] - 0s 3ms/step - loss: 0.3475 - accuracy: 0.8677\n",
            "27/27 [==============================] - 0s 3ms/step - loss: 0.3395 - accuracy: 0.8564\n",
            "28/28 [==============================] - 0s 3ms/step - loss: 0.3349 - accuracy: 0.8796\n",
            "14/14 [==============================] - 0s 4ms/step - loss: 0.2606 - accuracy: 0.9152\n",
            "32/32 [==============================] - 0s 4ms/step - loss: 0.3845 - accuracy: 0.8432\n",
            "37/37 [==============================] - 0s 3ms/step - loss: 0.1433 - accuracy: 0.9583\n",
            "32/32 [==============================] - 0s 3ms/step - loss: 0.4559 - accuracy: 0.8408\n",
            "14/14 [==============================] - 0s 3ms/step - loss: 0.3724 - accuracy: 0.8610\n",
            "12/12 [==============================] - 0s 4ms/step - loss: 0.3523 - accuracy: 0.8882\n",
            "27/27 [==============================] - 0s 3ms/step - loss: 0.3753 - accuracy: 0.8353\n",
            "25/25 [==============================] - 0s 3ms/step - loss: 0.3555 - accuracy: 0.8736\n",
            "7/7 [==============================] - 0s 3ms/step - loss: 0.2706 - accuracy: 0.9118\n",
            "EPOCHS 17 is starting...\n",
            "35/35 [==============================] - 0s 3ms/step - loss: 0.2981 - accuracy: 0.9131\n",
            "22/22 [==============================] - 0s 3ms/step - loss: 0.3715 - accuracy: 0.8669\n",
            "27/27 [==============================] - 0s 3ms/step - loss: 0.3503 - accuracy: 0.8629\n",
            "28/28 [==============================] - 0s 3ms/step - loss: 0.3511 - accuracy: 0.8825\n",
            "14/14 [==============================] - 0s 4ms/step - loss: 0.2028 - accuracy: 0.9210\n",
            "32/32 [==============================] - 0s 4ms/step - loss: 0.3864 - accuracy: 0.8442\n",
            "37/37 [==============================] - 0s 3ms/step - loss: 0.1986 - accuracy: 0.9397\n",
            "32/32 [==============================] - 0s 3ms/step - loss: 0.4263 - accuracy: 0.8581\n",
            "14/14 [==============================] - 0s 4ms/step - loss: 0.3647 - accuracy: 0.8465\n",
            "12/12 [==============================] - 0s 4ms/step - loss: 0.3725 - accuracy: 0.8838\n",
            "27/27 [==============================] - 0s 4ms/step - loss: 0.3497 - accuracy: 0.8659\n",
            "25/25 [==============================] - 0s 3ms/step - loss: 0.3399 - accuracy: 0.8851\n",
            "7/7 [==============================] - 0s 3ms/step - loss: 0.2603 - accuracy: 0.9276\n",
            "EPOCHS 18 is starting...\n",
            "35/35 [==============================] - 0s 4ms/step - loss: 0.2929 - accuracy: 0.9081\n",
            "22/22 [==============================] - 0s 3ms/step - loss: 0.3048 - accuracy: 0.8836\n",
            "27/27 [==============================] - 0s 3ms/step - loss: 0.3033 - accuracy: 0.8800\n",
            "28/28 [==============================] - 0s 3ms/step - loss: 0.3028 - accuracy: 0.8828\n",
            "14/14 [==============================] - 0s 3ms/step - loss: 0.2574 - accuracy: 0.9186\n",
            "32/32 [==============================] - 0s 3ms/step - loss: 0.3649 - accuracy: 0.8575\n",
            "37/37 [==============================] - 0s 3ms/step - loss: 0.1472 - accuracy: 0.9500\n",
            "32/32 [==============================] - 0s 3ms/step - loss: 0.4261 - accuracy: 0.8365\n",
            "14/14 [==============================] - 0s 3ms/step - loss: 0.3619 - accuracy: 0.8495\n",
            "12/12 [==============================] - 0s 3ms/step - loss: 0.3484 - accuracy: 0.8953\n",
            "27/27 [==============================] - 0s 3ms/step - loss: 0.3262 - accuracy: 0.8592\n",
            "25/25 [==============================] - 0s 4ms/step - loss: 0.3240 - accuracy: 0.8842\n",
            "7/7 [==============================] - 0s 3ms/step - loss: 0.2331 - accuracy: 0.9418\n",
            "EPOCHS 19 is starting...\n",
            "35/35 [==============================] - 0s 3ms/step - loss: 0.2995 - accuracy: 0.9085\n",
            "22/22 [==============================] - 0s 3ms/step - loss: 0.3165 - accuracy: 0.8882\n",
            "27/27 [==============================] - 0s 3ms/step - loss: 0.3236 - accuracy: 0.8714\n",
            "28/28 [==============================] - 1s 3ms/step - loss: 0.2745 - accuracy: 0.9028\n",
            "14/14 [==============================] - 0s 4ms/step - loss: 0.1940 - accuracy: 0.9282\n",
            "32/32 [==============================] - 0s 4ms/step - loss: 0.3766 - accuracy: 0.8538\n",
            "37/37 [==============================] - 1s 3ms/step - loss: 0.1534 - accuracy: 0.9558\n",
            "32/32 [==============================] - 0s 3ms/step - loss: 0.4105 - accuracy: 0.8537\n",
            "14/14 [==============================] - 0s 3ms/step - loss: 0.3951 - accuracy: 0.8419\n",
            "12/12 [==============================] - 0s 3ms/step - loss: 0.2341 - accuracy: 0.9122\n",
            "27/27 [==============================] - 0s 3ms/step - loss: 0.3405 - accuracy: 0.8616\n",
            "25/25 [==============================] - 0s 3ms/step - loss: 0.3112 - accuracy: 0.8997\n",
            "7/7 [==============================] - 0s 3ms/step - loss: 0.2333 - accuracy: 0.9226\n"
          ],
          "name": "stdout"
        }
      ]
    },
    {
      "cell_type": "code",
      "metadata": {
        "id": "NbpXvIuEPzwX",
        "colab": {
          "base_uri": "https://localhost:8080/",
          "height": 281
        },
        "outputId": "3c76f70c-5b81-4391-c0d2-4825e019dc19"
      },
      "source": [
        "S_acc2 =[S2.loss_acc[i][1]*100 for i in range(len(S2.loss_acc))]\n",
        "S_loss2 =[S2.loss_acc[i][0] for i in range(len(S2.loss_acc))]\n",
        "\n",
        "x = np.arange(len(S2.loss_acc))\n",
        "fig = plt.figure()\n",
        "ax1 = fig.add_subplot(111)\n",
        "acc = ax1.plot(x,S_acc2,'r',label='Acc')\n",
        "ax1.set_ylabel('Acc')\n",
        "ax1.set_title('Acc-Loss')\n",
        "\n",
        "ax2 = ax1.twinx()\n",
        "loss = ax2.plot(x,S_loss2,label='Loss')\n",
        "ax2.set_ylabel('Loss')\n",
        "\n",
        "lns = acc+loss\n",
        "labs = [l.get_label() for l in lns]\n",
        "ax2.legend(lns,labs)\n",
        "plt.show()"
      ],
      "execution_count": 37,
      "outputs": [
        {
          "output_type": "display_data",
          "data": {
            "image/png": "[encoded data removed]",
            "text/plain": [
              "<Figure size 432x288 with 2 Axes>"
            ]
          },
          "metadata": {
            "tags": [],
            "needs_background": "light"
          }
        }
      ]
    },
    {
      "cell_type": "code",
      "metadata": {
        "id": "KtBMBFo7Pzg2",
        "colab": {
          "base_uri": "https://localhost:8080/",
          "height": 295
        },
        "outputId": "5733e0f7-ee79-476e-f909-f501d0ea865e"
      },
      "source": [
        "iters = np.arange(len(S2.loss_acc))\n",
        "fig = plt.figure()\n",
        "plt.title('Result Analysis')\n",
        "plt.plot(iters,S_acc,color='red',label='NewFed Accuracy')\n",
        "plt.plot(iters,S_acc2,color='blue',label='Baseline Accuracy')\n",
        "plt.legend()\n",
        "plt.xlabel('iteration times')\n",
        "plt.ylabel('rate')\n",
        "plt.show()"
      ],
      "execution_count": 47,
      "outputs": [
        {
          "output_type": "display_data",
          "data": {
            "image/png": "[encoded data removed]",
            "text/plain": [
              "<Figure size 432x288 with 1 Axes>"
            ]
          },
          "metadata": {
            "tags": [],
            "needs_background": "light"
          }
        }
      ]
    }
  ]
}