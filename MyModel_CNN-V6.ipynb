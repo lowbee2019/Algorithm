{
  "nbformat": 4,
  "nbformat_minor": 0,
  "metadata": {
    "colab": {
      "name": "MyModel-CNN.ipynb",
      "provenance": [],
      "collapsed_sections": [
        "MwmKo3gLrI-i"
      ],
      "authorship_tag": "ABX9TyOom00lVjM8AXkgAnBJL95K",
      "include_colab_link": true
    },
    "kernelspec": {
      "display_name": "Python 3",
      "name": "python3"
    },
    "language_info": {
      "name": "python"
    },
    "accelerator": "GPU"
  },
  "cells": [
    {
      "cell_type": "markdown",
      "metadata": {
        "id": "view-in-github",
        "colab_type": "text"
      },
      "source": [
        "<a href=\"https://colab.research.google.com/github/lowbee2019/Algorithm/blob/master/MyModel_CNN-V6.ipynb\" target=\"_parent\"><img src=\"https://colab.research.google.com/assets/colab-badge.svg\" alt=\"Open In Colab\"/></a>"
      ]
    },
    {
      "cell_type": "markdown",
      "metadata": {
        "id": "vshjLqDgO5yu"
      },
      "source": [
        "# 实验环境准备"
      ]
    },
    {
      "cell_type": "code",
      "metadata": {
        "colab": {
          "base_uri": "https://localhost:8080/"
        },
        "id": "uoFhItkFEsF8",
        "outputId": "5827cd80-499a-4bf7-b638-e27305de0f6f"
      },
      "source": [
        "!pip install emnist"
      ],
      "execution_count": 2,
      "outputs": [
        {
          "output_type": "stream",
          "text": [
            "Collecting emnist\n",
            "  Downloading https://files.pythonhosted.org/packages/d1/f4/78b24acbef9e8fe976dda700f16a3606f3b8363b015bc555f8050fbbd8ac/emnist-0.0-py3-none-any.whl\n",
            "Requirement already satisfied: numpy in /usr/local/lib/python3.7/dist-packages (from emnist) (1.19.5)\n",
            "Requirement already satisfied: tqdm in /usr/local/lib/python3.7/dist-packages (from emnist) (4.41.1)\n",
            "Requirement already satisfied: requests in /usr/local/lib/python3.7/dist-packages (from emnist) (2.23.0)\n",
            "Requirement already satisfied: chardet<4,>=3.0.2 in /usr/local/lib/python3.7/dist-packages (from requests->emnist) (3.0.4)\n",
            "Requirement already satisfied: certifi>=2017.4.17 in /usr/local/lib/python3.7/dist-packages (from requests->emnist) (2020.12.5)\n",
            "Requirement already satisfied: urllib3!=1.25.0,!=1.25.1,<1.26,>=1.21.1 in /usr/local/lib/python3.7/dist-packages (from requests->emnist) (1.24.3)\n",
            "Requirement already satisfied: idna<3,>=2.5 in /usr/local/lib/python3.7/dist-packages (from requests->emnist) (2.10)\n",
            "Installing collected packages: emnist\n",
            "Successfully installed emnist-0.0\n"
          ],
          "name": "stdout"
        }
      ]
    },
    {
      "cell_type": "code",
      "metadata": {
        "id": "9e4So1L3pPWp"
      },
      "source": [
        "import tensorflow as tf\n",
        "import numpy as np\n",
        "from tensorflow.keras import datasets,layers,models\n",
        "import collections\n",
        "import copy\n",
        "import random\n",
        "import emnist\n",
        "import datetime\n",
        "import os\n",
        "import matplotlib.pyplot as plt"
      ],
      "execution_count": 3,
      "outputs": []
    },
    {
      "cell_type": "code",
      "metadata": {
        "id": "6pkKi1GlSJ0S"
      },
      "source": [
        "os.environ[\"CUDA_VISIBLE_DEVICES\"]=\"0\""
      ],
      "execution_count": 4,
      "outputs": []
    },
    {
      "cell_type": "markdown",
      "metadata": {
        "id": "YQaIGTfxmSfi"
      },
      "source": [
        "# Server Initialization"
      ]
    },
    {
      "cell_type": "code",
      "metadata": {
        "id": "PTK_p961nsA5"
      },
      "source": [
        "class ParamServer(object):\n",
        "  def __init__(self,init_model_path):\n",
        "    self.init_model_path = init_model_path\n",
        "    self.round = 0\n",
        "    self.optimizer = 'adam'\n",
        "    self.loss = \"sparse_categorical_crossentropy\"\n",
        "    self.metrics =['accuracy']\n",
        "    self.loss_acc = []\n",
        "\n",
        "  def PreTrain(self,model,data,labels,batch_size=32,epochs=5):\n",
        "    model.compile(optimizer=self.optimizer,\n",
        "                  loss=self.loss,\n",
        "                  metrics=self.metrics)\n",
        "    _metrics = model.fit(data,labels,batch_size,epochs)\n",
        "    return model\n",
        "  \n",
        "  def PreEval(self,model,validation_data):\n",
        "    model.compile(optimizer=self.optimizer,\n",
        "                  loss=self.loss,\n",
        "                  metrics=self.metrics)\n",
        "    self.loss_acc.append(model.evaluate(x=validation_data[0],y=validation_data[1]))\n"
      ],
      "execution_count": 5,
      "outputs": []
    },
    {
      "cell_type": "markdown",
      "metadata": {
        "id": "iRvlGAmjmxbw"
      },
      "source": [
        "## Emnist数据集的预处理"
      ]
    },
    {
      "cell_type": "code",
      "metadata": {
        "id": "uUdPNuYqDmbD",
        "colab": {
          "base_uri": "https://localhost:8080/"
        },
        "outputId": "641d50b7-4b92-404b-af6d-e3c49621d27f"
      },
      "source": [
        "LetterDataSet = emnist.extract_training_samples('letters')\n",
        "DigitDataSet = emnist.extract_training_samples('digits')\n",
        "\n",
        "LetterDataSet = (np.expand_dims(LetterDataSet[0]/255.0,axis=3),np.expand_dims(LetterDataSet[1]*0+10,axis=1)) \n",
        "DigitDataSet = (np.expand_dims(DigitDataSet[0]/255.0,axis=3),np.expand_dims(DigitDataSet[1],axis=1))"
      ],
      "execution_count": 6,
      "outputs": [
        {
          "output_type": "stream",
          "text": [
            "Downloading emnist.zip: 536MB [00:03, 144MB/s]\n"
          ],
          "name": "stderr"
        }
      ]
    },
    {
      "cell_type": "code",
      "metadata": {
        "colab": {
          "base_uri": "https://localhost:8080/"
        },
        "id": "N66yuvvfDmHF",
        "outputId": "96293007-0d92-492e-b0ff-9308869b53a3"
      },
      "source": [
        "LetterDataSet[0].shape,DigitDataSet[0].shape"
      ],
      "execution_count": 7,
      "outputs": [
        {
          "output_type": "execute_result",
          "data": {
            "text/plain": [
              "((124800, 28, 28, 1), (240000, 28, 28, 1))"
            ]
          },
          "metadata": {
            "tags": []
          },
          "execution_count": 7
        }
      ]
    },
    {
      "cell_type": "code",
      "metadata": {
        "id": "qA_gvtUkm8sV"
      },
      "source": [
        "ShareData = DigitDataSet[0][0:200]\n",
        "ShareLabel = DigitDataSet[1][0:200]\n",
        "validation_data=(ShareData,ShareLabel)\n",
        "validation_sever = (DigitDataSet[0][200:400],DigitDataSet[1][200:400])"
      ],
      "execution_count": 51,
      "outputs": []
    },
    {
      "cell_type": "markdown",
      "metadata": {
        "id": "2L712LCIm6Vv"
      },
      "source": [
        "## 模型的定义"
      ]
    },
    {
      "cell_type": "code",
      "metadata": {
        "id": "C0noj5RjmF0i"
      },
      "source": [
        "class FLModel(tf.keras.Model):\n",
        "  def __init__(self,row,col,num_classes=62,*args,**kwargs):\n",
        "    super(FLModel,self).__init__(*args,**kwargs)\n",
        "    self.row = row\n",
        "    self.col = col\n",
        "    self.num_classes = num_classes\n",
        "    # self.flatten = tf.keras.layers.Flatten(input_shape=(row,col))\n",
        "    # self.dense_1 = tf.keras.layers.Dense(128,activation='relu',name=\"dense_1\")\n",
        "    # self.dense_2 = tf.keras.layers.Dense(num_classes,activation='softmax',name=\"dense_2\")\n",
        "    # self.drop = tf.keras.layers.Dropout(0.2)\n",
        "    \n",
        "    self.model = models.Sequential()\n",
        "    # 第1层卷积，卷积核大小为3*3，32个，28*28为待训练图片的大小\n",
        "    self.model.add(layers.Conv2D(32, (3, 3), activation='relu', input_shape=(self.row, self.col, 1)))\n",
        "    self.model.add(layers.MaxPooling2D((2, 2)))\n",
        "    # 第2层卷积，卷积核大小为3*3，64个\n",
        "    self.model.add(layers.Conv2D(64, (3, 3), activation='relu'))\n",
        "    self.model.add(layers.MaxPooling2D((2, 2)))\n",
        "    # 第3层卷积，卷积核大小为3*3，64个\n",
        "    self.model.add(layers.Conv2D(64, (3, 3), activation='relu'))\n",
        "\n",
        "    self.model.add(layers.Flatten())\n",
        "    self.model.add(layers.Dense(64, activation='relu'))\n",
        "    self.model.add(layers.Dense(num_classes, activation='softmax'))\n",
        "\n",
        "  def call(self,inputs):\n",
        "    return self.model(inputs)\n",
        "\n",
        "  def copy(self):\n",
        "    NewModel = FLModel(self.row,self.col,self.num_classes)\n",
        "    _ = NewModel(tf.convert_to_tensor(np.zeros([1,self.row,self.col,1])))\n",
        "    ##Layers\n",
        "    NewVars = NewModel.trainable_variables #此处为空列表，因为没有训练,这个地方参数传递是不是有问题\n",
        "    OldVars = self.trainable_variables\n",
        "    for n,o in zip(NewVars,OldVars):\n",
        "      n.assign(o.numpy())\n",
        "    return NewModel\n"
      ],
      "execution_count": 9,
      "outputs": []
    },
    {
      "cell_type": "markdown",
      "metadata": {
        "id": "Z5LMvoXcoiz2"
      },
      "source": [
        "#Client Initialization"
      ]
    },
    {
      "cell_type": "code",
      "metadata": {
        "id": "Hvu8wCjbooCF"
      },
      "source": [
        "class Client(object):\n",
        "  def __init__(self,id,model=None,Train_dataset=None,Test_dataset=None):\n",
        "    self.id = id\n",
        "    self.model = model\n",
        "    self.Train_dataset = Train_dataset\n",
        "    self.Test_dataset = Test_dataset\n",
        "    # from ParamServer\n",
        "    self.ParamModel = None\n",
        "    self.num_epochs = 5\n",
        "    self.batch_size = 32\n",
        "    self.shuffle_buffer = 100\n",
        "    self.prefetch_buffer = 10\n",
        "\n",
        "\n",
        "  def ReceiveModel(self,ParamModel,num_epochs=1,batch_size=32,shuffle_buffer=100,prefetch_buffer=10):\n",
        "    self.ParamModel = ParamModel\n",
        "    self.num_epochs = num_epochs\n",
        "    self.batch_size = batch_size\n",
        "    self.shuffle_buffer = shuffle_buffer\n",
        "    self.prefetch_buffer = prefetch_buffer\n",
        "  \n",
        "\n",
        "  def NodeTrain(self):\n",
        "    model = self.ParamModel\n",
        "    x,y = self.Train_dataset\n",
        "    model.compile(\n",
        "        # optimizer=keras.optimizers.SGD(lr=0.01, momentum=0.0, decay=0.0, nesterov=False),##'adam',\n",
        "        optimizer='adam',\n",
        "        loss='sparse_categorical_crossentropy',\n",
        "        metrics=['accuracy'])\n",
        "    \n",
        "    _metrics = model.fit(x,y,batch_size=self.batch_size,epochs=self.num_epochs)\n",
        "    self.model = model\n",
        "\n",
        "  def NodeEval(self):\n",
        "    x,y = self.Test_dataset\n",
        "    return self.model.evaluate(x,y)\n"
      ],
      "execution_count": 10,
      "outputs": []
    },
    {
      "cell_type": "code",
      "metadata": {
        "id": "rBIE9FKUNNJX"
      },
      "source": [
        "def create_data_for_clients(SampleNum,LetterDataSet,DigitDataSet,DigitPercentage=0.7):\n",
        "  DigitNum = int(SampleNum*DigitPercentage)\n",
        "  LetterNum = SampleNum - DigitNum\n",
        "  x_sequence = []\n",
        "  y_sequence = []\n",
        "  if DigitNum > 0:\n",
        "    for i in range(DigitNum):\n",
        "      index = random.randint(0,len(DigitDataSet[0])-1)\n",
        "      x_sequence.append(DigitDataSet[0][index])\n",
        "      y_sequence.append(DigitDataSet[1][index])\n",
        "  if LetterNum > 0:\n",
        "    for j in range(LetterNum):\n",
        "      index = random.randint(0,len(LetterDataSet[0])-1)\n",
        "      x_sequence.append(LetterDataSet[0][index])\n",
        "      y_sequence.append(LetterDataSet[1][index])\n",
        "  # print(x_sequence[1].shape,y_sequence[1].shape)\n",
        "  x = np.array(x_sequence,dtype=np.float64)\n",
        "  y = np.array(y_sequence,dtype=np.int8)\n",
        "  #shuffle\n",
        "  state = np.random.get_state()\n",
        "  np.random.shuffle(x)\n",
        "  np.random.set_state(state)\n",
        "  np.random.shuffle(y)\n",
        "  \n",
        "  return (x,y)"
      ],
      "execution_count": 11,
      "outputs": []
    },
    {
      "cell_type": "markdown",
      "metadata": {
        "id": "En8MczNik638"
      },
      "source": [
        "#阶段一：为Client分配数据（预处理工作）"
      ]
    },
    {
      "cell_type": "code",
      "metadata": {
        "id": "QE_WXcMMt1kP"
      },
      "source": [
        "NUM_CLIENTS = 12\n",
        "NUM_TRAIN_SAMPLE_CLIENT = 256\n",
        "NUM_TEST_SAMPLE_CLIENT = 256\n",
        "CLASS_NUM = 11\n",
        "NUM_EPOCHS = 20"
      ],
      "execution_count": 61,
      "outputs": []
    },
    {
      "cell_type": "code",
      "metadata": {
        "id": "-Tmf__umcO1l"
      },
      "source": [
        "clients=[]\n",
        "for i in range(NUM_CLIENTS):\n",
        "  clients.append(Client(i,\n",
        "                        Train_dataset=create_data_for_clients(SampleNum=256,\n",
        "                                                              LetterDataSet=LetterDataSet,\n",
        "                                                              DigitDataSet=DigitDataSet,\n",
        "                                                              DigitPercentage=random.random()),\n",
        "                        Test_dataset=validation_data\n",
        "                        )\n",
        "  )"
      ],
      "execution_count": 62,
      "outputs": []
    },
    {
      "cell_type": "markdown",
      "metadata": {
        "id": "V9Jjje417iuZ"
      },
      "source": [
        "Show DataSet"
      ]
    },
    {
      "cell_type": "code",
      "metadata": {
        "colab": {
          "base_uri": "https://localhost:8080/",
          "height": 879
        },
        "id": "7RO4LfKq72nf",
        "outputId": "df68e09e-82b8-433c-eb9f-ed284362cbc1"
      },
      "source": [
        "\n",
        "f = plt.figure(figsize=(15,15))\n",
        "for i in range(NUM_CLIENTS):\n",
        "  client_dataset = clients[i].Train_dataset\n",
        "  plot_data = collections.defaultdict(list)\n",
        "  for [label] in client_dataset[1].tolist():\n",
        "    plot_data[label].append(label)\n",
        "  plt.subplot(3,4,i+1)\n",
        "  plt.title('Client {}'.format(i))\n",
        "  for j in range(CLASS_NUM):\n",
        "    plt.hist(\n",
        "        plot_data[j],\n",
        "        density = False,\n",
        "        bins = [x for x in range(len(plot_data)+1)]\n",
        "    )"
      ],
      "execution_count": 63,
      "outputs": [
        {
          "output_type": "display_data",
          "data": {
            "image/png": "[encoded data removed]",
            "text/plain": [
              "<Figure size 1080x1080 with 12 Axes>"
            ]
          },
          "metadata": {
            "tags": [],
            "needs_background": "light"
          }
        }
      ]
    },
    {
      "cell_type": "markdown",
      "metadata": {
        "id": "JfqcXNr8jqi1"
      },
      "source": [
        "显示一下数字与字母的对比\n"
      ]
    },
    {
      "cell_type": "code",
      "metadata": {
        "colab": {
          "base_uri": "https://localhost:8080/",
          "height": 862
        },
        "id": "SkJ-l1ZSjpWf",
        "outputId": "7a6a87c5-bda6-4d92-fe11-56bc3610d8f3"
      },
      "source": [
        "f = plt.figure(figsize=(15,15))\n",
        "for i in range(NUM_CLIENTS):\n",
        "  client_dataset = clients[i].Train_dataset\n",
        "  plot_data = {0:0,1:0}\n",
        "  plot_labels = ['digits','letters']\n",
        "  for label in client_dataset[1]:\n",
        "    label = 0 if label < 10 else 1\n",
        "    plot_data[label]+=1\n",
        "  # print(plot_data)\n",
        "  data_labels = list(sorted(plot_data.keys()))\n",
        "  # print(data_labels)\n",
        "  data_nums = [plot_data[i] for i in data_labels]\n",
        "  colors = ['red','blue']\n",
        "  plt.subplot(3,4,i+1)\n",
        "  patches,text1,text2 = plt.pie(data_nums,\n",
        "                              labels=plot_labels,\n",
        "                              autopct='%3.2f%%',\n",
        "                              shadow=False,\n",
        "                              startangle=90,\n",
        "                              pctdistance=0.6)\n",
        "  plt.axis('equal')\n",
        "  plt.title('Client {}'.format(i))\n",
        "plt.show()\n"
      ],
      "execution_count": 64,
      "outputs": [
        {
          "output_type": "display_data",
          "data": {
            "image/png": "[encoded data removed]",
            "text/plain": [
              "<Figure size 1080x1080 with 12 Axes>"
            ]
          },
          "metadata": {
            "tags": []
          }
        }
      ]
    },
    {
      "cell_type": "markdown",
      "metadata": {
        "id": "6PVxsGIpvlLn"
      },
      "source": [
        "#阶段二：中央服务器下发模型"
      ]
    },
    {
      "cell_type": "markdown",
      "metadata": {
        "id": "A5NIsOQgRp9h"
      },
      "source": [
        "Distance Between two models"
      ]
    },
    {
      "cell_type": "code",
      "metadata": {
        "id": "fX5rrSBk72Vw"
      },
      "source": [
        "def Distance(HookModel,TestModel):\n",
        "  len_it = len(HookModel.trainable_variables)\n",
        "  Hook_weights=[]\n",
        "  Test_weights=[]\n",
        "  for index in range(len_it):\n",
        "    Hook_weights.append(HookModel.trainable_variables[index].numpy().reshape(-1,))\n",
        "    Test_weights.append(TestModel.trainable_variables[index].numpy().reshape(-1,))\n",
        "  target = []\n",
        "  dis_norm2=[]\n",
        "  for i in range(len_it):\n",
        "    target.append(Hook_weights[i]-Test_weights[i])\n",
        "    dis_norm2.append(np.linalg.norm(target[i],2))\n",
        "  weight_weights = np.ones([len_it,1])\n",
        "  #调整权重\n",
        "  # weight_weights[0]=0\n",
        "  # weight_weights[1]=0\n",
        "  dis = np.dot(dis_norm2,weight_weights)\n",
        "  return dis"
      ],
      "execution_count": 16,
      "outputs": []
    },
    {
      "cell_type": "code",
      "metadata": {
        "id": "IYTX2XVhSCoD"
      },
      "source": [
        "def GetDistDict(Clients,Clients_Num,TargetModel):\n",
        "  \"\"\"\n",
        "  return {'client id':Distance(TargetModel,client_id.model)}\n",
        "  \"\"\"\n",
        "  DistDict = collections.OrderedDict()\n",
        "  for i in range(Clients_Num):\n",
        "    DistDict[i] = Distance(TargetModel,Clients[i].model)\n",
        "  return DistDict"
      ],
      "execution_count": 17,
      "outputs": []
    },
    {
      "cell_type": "code",
      "metadata": {
        "id": "-P3c9QztWPLj"
      },
      "source": [
        "def ParticipatedNode(AccuracyList,AccThreshold=0.05):\n",
        "  tmp = [i for i in range(len(AccuracyList)) if AccuracyList[i]>AccThreshold]\n",
        "\n",
        "  if len(tmp):\n",
        "    return tmp\n",
        "  else:\n",
        "    return [i for i in range(len(AccuracyList))]"
      ],
      "execution_count": 18,
      "outputs": []
    },
    {
      "cell_type": "code",
      "metadata": {
        "id": "KI9PCWxY716I"
      },
      "source": [
        "def BetterNode(clients,model,Total_NUM,FedAvg_NUM):\n",
        "  NodeDict=collections.OrderedDict()\n",
        "  for i in range(Total_NUM):\n",
        "    NodeDict[i] = Distance(model,clients[i].model)\n",
        "  Dlst = sorted(NodeDict.items(),key=lambda x:x[1])\n",
        "  NodeList = []\n",
        "  for i in range(FedAvg_NUM):\n",
        "    NodeList.append(Dlst[i][0])\n",
        "  return (NodeList,NodeDict)"
      ],
      "execution_count": 16,
      "outputs": []
    },
    {
      "cell_type": "markdown",
      "metadata": {
        "id": "_uNjI7abv3Vs"
      },
      "source": [
        "模型初始化"
      ]
    },
    {
      "cell_type": "code",
      "metadata": {
        "id": "PLJekuPtvxZl",
        "colab": {
          "base_uri": "https://localhost:8080/"
        },
        "outputId": "7aafed75-f8ac-411b-9532-3030340866ee"
      },
      "source": [
        "InitModel = FLModel(row=28,col=28,num_classes=CLASS_NUM)\n",
        "S = ParamServer(\"\")\n",
        "S.PreEval(InitModel,validation_data)\n",
        "SendModel = InitModel"
      ],
      "execution_count": 65,
      "outputs": [
        {
          "output_type": "stream",
          "text": [
            "7/7 [==============================] - 0s 3ms/step - loss: 2.3994 - accuracy: 0.0960\n"
          ],
          "name": "stdout"
        }
      ]
    },
    {
      "cell_type": "code",
      "metadata": {
        "colab": {
          "base_uri": "https://localhost:8080/"
        },
        "id": "4K48O8MylnxW",
        "outputId": "269bf714-c381-4db1-8905-d8b9437a0f14"
      },
      "source": [
        "#InitModel.model.summary()"
      ],
      "execution_count": null,
      "outputs": [
        {
          "output_type": "stream",
          "text": [
            "Model: \"sequential\"\n",
            "_________________________________________________________________\n",
            "Layer (type)                 Output Shape              Param #   \n",
            "=================================================================\n",
            "conv2d (Conv2D)              (None, 26, 26, 32)        320       \n",
            "_________________________________________________________________\n",
            "max_pooling2d (MaxPooling2D) (None, 13, 13, 32)        0         \n",
            "_________________________________________________________________\n",
            "conv2d_1 (Conv2D)            (None, 11, 11, 64)        18496     \n",
            "_________________________________________________________________\n",
            "max_pooling2d_1 (MaxPooling2 (None, 5, 5, 64)          0         \n",
            "_________________________________________________________________\n",
            "conv2d_2 (Conv2D)            (None, 3, 3, 64)          36928     \n",
            "_________________________________________________________________\n",
            "flatten (Flatten)            (None, 576)               0         \n",
            "_________________________________________________________________\n",
            "dense (Dense)                (None, 64)                36928     \n",
            "_________________________________________________________________\n",
            "dense_1 (Dense)              (None, 11)                715       \n",
            "=================================================================\n",
            "Total params: 93,387\n",
            "Trainable params: 93,387\n",
            "Non-trainable params: 0\n",
            "_________________________________________________________________\n"
          ],
          "name": "stdout"
        }
      ]
    },
    {
      "cell_type": "markdown",
      "metadata": {
        "id": "eMZP89WLPF_3"
      },
      "source": [
        "使用随机初始化的模型进行预测，不预测也可以！"
      ]
    },
    {
      "cell_type": "code",
      "metadata": {
        "colab": {
          "base_uri": "https://localhost:8080/"
        },
        "id": "SGo2NYXsv96h",
        "outputId": "720f0df0-ed2a-478f-90ac-c2551703e8d5"
      },
      "source": [
        "SendModel = S.PreTrain(InitModel,ShareData,ShareLabel,epochs=1)\n",
        "S.PreEval(SendModel,validation_data)"
      ],
      "execution_count": null,
      "outputs": [
        {
          "output_type": "stream",
          "text": [
            "7/7 [==============================] - 0s 4ms/step - loss: 2.3625 - accuracy: 0.1198\n",
            "7/7 [==============================] - 0s 3ms/step - loss: 2.1860 - accuracy: 0.1877\n"
          ],
          "name": "stdout"
        }
      ]
    },
    {
      "cell_type": "markdown",
      "metadata": {
        "id": "7OmptaMzpR0P"
      },
      "source": [
        "# 阶段三：Clients 训练节点数据并聚合\n"
      ]
    },
    {
      "cell_type": "code",
      "metadata": {
        "id": "I6HSFpcqrK_2"
      },
      "source": [
        "def FedAvgwithAcc(NUM_CLIENTS,model,AccuracyList):\n",
        "  iterModel = model.copy()\n",
        "  len_it = len(iterModel.trainable_variables)\n",
        "  all_weights = []\n",
        "  # FedNodeList,NodeDict=BetterNode(clients,iterModel,NUM_CLIENTS,FedAvg_NUM=8)\n",
        "  NodeDict = GetDistDict(Clients=clients,Clients_Num=NUM_CLIENTS,TargetModel=iterModel)\n",
        "  FedNodeList = ParticipatedNode(AccuracyList=AccuracyList,AccThreshold=-1) # \"-1\" means that each one participate FedAvg.\n",
        "\n",
        "  # print(\"FedAvg Node is\",FedNodeList)\n",
        "  print(\"FedNodeList is \",FedNodeList)\n",
        "  # mult = [AccuracyList[i]/np.exp(NodeDict[i]) for i in range(NUM_CLIENTS)] # no threshold\n",
        "  mult = [AccuracyList[i]/np.exp(NodeDict[i]) for i in FedNodeList] \n",
        "  # print(\"The Distance are ...\",NodeDict)\n",
        "  # print(\"The AD are ...\",mult)\n",
        "  exp_sum = np.sum(mult)\n",
        "  # Weights = mult/exp_sum\n",
        "  Weights = {k:v for (k,v) in zip(FedNodeList,mult/exp_sum)}\n",
        "  print(\"Weights are...\",Weights)\n",
        "  ###Softmax\n",
        "\n",
        "  for weights_index in range(len_it):\n",
        "    tmp =np.zeros(iterModel.trainable_variables[weights_index].numpy().shape,dtype='float64')\n",
        "\n",
        "    for node in FedNodeList:\n",
        "    # for node in range(NUM_CLIENTS):\n",
        "      tmp += clients[node].model.trainable_variables[weights_index].numpy()*Weights[node]\n",
        "    all_weights.append(tmp)\n",
        "  # print(all_weights)\n",
        "  iterModel_vars = iterModel.trainable_variables\n",
        "  for iter_v,n in zip(iterModel_vars,all_weights):\n",
        "    iter_v.assign(n)\n",
        "  return (iterModel,FedNodeList,Weights)"
      ],
      "execution_count": 34,
      "outputs": []
    },
    {
      "cell_type": "code",
      "metadata": {
        "id": "jl3dF36dw2hC"
      },
      "source": [
        ""
      ],
      "execution_count": null,
      "outputs": []
    },
    {
      "cell_type": "code",
      "metadata": {
        "colab": {
          "base_uri": "https://localhost:8080/"
        },
        "id": "chwpV3rDr5r2",
        "outputId": "0ec0b10c-2287-47be-f730-66b261ef386c"
      },
      "source": [
        "NodeList=[]\n",
        "ACC_Client_Test=[]\n",
        "WeightsEachEpoche = []\n",
        "for e in range(NUM_EPOCHS):\n",
        "  Acc_tmp=[]\n",
        "  Weight_tmp=[]\n",
        "  print(\"EPOCHS {} is starting...\".format(e))\n",
        "  for i in range(NUM_CLIENTS):\n",
        "    clients[i].ReceiveModel(SendModel.copy())\n",
        "    clients[i].NodeTrain()\n",
        "    Acc_tmp.append(clients[i].NodeEval()[1])\n",
        "\n",
        "  FedModel,li,Weight_tmp = FedAvgwithAcc(NUM_CLIENTS,SendModel,AccuracyList=Acc_tmp)\n",
        "  #---Recording---\n",
        "  NodeList.append(li)\n",
        "  WeightsEachEpoche.append(Weight_tmp)\n",
        "  ACC_Client_Test.append(Acc_tmp)\n",
        "  print(\"The Acc on each client...\",Acc_tmp)\n",
        "  #---Testing---\n",
        "  S.PreEval(FedModel,validation_sever)\n",
        "  SendModel = FedModel.copy()"
      ],
      "execution_count": 66,
      "outputs": [
        {
          "output_type": "stream",
          "text": [
            "EPOCHS 0 is starting...\n",
            "8/8 [==============================] - 0s 3ms/step - loss: 2.3759 - accuracy: 0.1796\n",
            "7/7 [==============================] - 0s 3ms/step - loss: 2.2404 - accuracy: 0.3450\n",
            "8/8 [==============================] - 0s 3ms/step - loss: 2.2851 - accuracy: 0.2668\n",
            "7/7 [==============================] - 0s 2ms/step - loss: 2.8966 - accuracy: 0.0000e+00\n",
            "8/8 [==============================] - 0s 3ms/step - loss: 2.3557 - accuracy: 0.1566\n",
            "7/7 [==============================] - 0s 2ms/step - loss: 2.5121 - accuracy: 0.0000e+00\n",
            "8/8 [==============================] - 0s 3ms/step - loss: 2.2432 - accuracy: 0.3150\n",
            "7/7 [==============================] - 0s 3ms/step - loss: 2.8259 - accuracy: 0.0000e+00\n",
            "8/8 [==============================] - 0s 5ms/step - loss: 1.7101 - accuracy: 0.6375\n",
            "7/7 [==============================] - 0s 3ms/step - loss: 10.7703 - accuracy: 0.0000e+00\n",
            "8/8 [==============================] - 0s 3ms/step - loss: 1.9210 - accuracy: 0.5266\n",
            "7/7 [==============================] - 0s 3ms/step - loss: 5.5500 - accuracy: 0.0000e+00\n",
            "8/8 [==============================] - 0s 3ms/step - loss: 2.3662 - accuracy: 0.1490\n",
            "7/7 [==============================] - 0s 3ms/step - loss: 2.1728 - accuracy: 0.4850\n",
            "8/8 [==============================] - 1s 3ms/step - loss: 2.0927 - accuracy: 0.4053\n",
            "7/7 [==============================] - 0s 2ms/step - loss: 3.4913 - accuracy: 0.0000e+00\n",
            "8/8 [==============================] - 0s 3ms/step - loss: 2.3828 - accuracy: 0.1640\n",
            "7/7 [==============================] - 0s 3ms/step - loss: 2.2624 - accuracy: 0.3550\n",
            "8/8 [==============================] - 0s 3ms/step - loss: 2.3560 - accuracy: 0.1167\n",
            "7/7 [==============================] - 0s 3ms/step - loss: 2.1542 - accuracy: 0.3250\n",
            "8/8 [==============================] - 0s 3ms/step - loss: 2.3689 - accuracy: 0.1296\n",
            "7/7 [==============================] - 0s 3ms/step - loss: 2.2231 - accuracy: 0.2550\n",
            "8/8 [==============================] - 0s 4ms/step - loss: 1.7160 - accuracy: 0.6517\n",
            "7/7 [==============================] - 0s 3ms/step - loss: 11.1062 - accuracy: 0.0000e+00\n",
            "FedNodeList is  [0, 1, 2, 3, 4, 5, 6, 7, 8, 9, 10, 11]\n",
            "Weights are... {0: array([0.19414432]), 1: array([0.]), 2: array([0.]), 3: array([0.]), 4: array([0.]), 5: array([0.]), 6: array([0.2794785]), 7: array([0.]), 8: array([0.21407114]), 9: array([0.17310568]), 10: array([0.13920036]), 11: array([0.])}\n",
            "The Acc on each client... [0.3449999988079071, 0.0, 0.0, 0.0, 0.0, 0.0, 0.48500001430511475, 0.0, 0.35499998927116394, 0.32499998807907104, 0.2549999952316284, 0.0]\n",
            "7/7 [==============================] - 0s 3ms/step - loss: 2.2287 - accuracy: 0.4615\n",
            "EPOCHS 1 is starting...\n",
            "8/8 [==============================] - 0s 3ms/step - loss: 2.1630 - accuracy: 0.4084\n",
            "7/7 [==============================] - 0s 2ms/step - loss: 1.6892 - accuracy: 0.6000\n",
            "8/8 [==============================] - 0s 3ms/step - loss: 2.1974 - accuracy: 0.3346\n",
            "7/7 [==============================] - 0s 3ms/step - loss: 2.5697 - accuracy: 0.0000e+00\n",
            "8/8 [==============================] - 0s 3ms/step - loss: 2.2210 - accuracy: 0.3257\n",
            "7/7 [==============================] - 0s 2ms/step - loss: 2.1275 - accuracy: 0.1200\n",
            "8/8 [==============================] - 0s 3ms/step - loss: 2.1292 - accuracy: 0.4149\n",
            "7/7 [==============================] - 0s 2ms/step - loss: 2.4529 - accuracy: 0.0000e+00\n",
            "8/8 [==============================] - 0s 3ms/step - loss: 1.8018 - accuracy: 0.6044\n",
            "7/7 [==============================] - 0s 2ms/step - loss: 9.0654 - accuracy: 0.0000e+00\n",
            "8/8 [==============================] - 1s 3ms/step - loss: 1.9413 - accuracy: 0.5534\n",
            "7/7 [==============================] - 0s 3ms/step - loss: 6.1602 - accuracy: 0.0000e+00\n",
            "8/8 [==============================] - 0s 3ms/step - loss: 2.1817 - accuracy: 0.4318\n",
            "7/7 [==============================] - 0s 3ms/step - loss: 1.7413 - accuracy: 0.4600\n",
            "8/8 [==============================] - 0s 3ms/step - loss: 2.1281 - accuracy: 0.4391\n",
            "7/7 [==============================] - 0s 3ms/step - loss: 3.2465 - accuracy: 0.0000e+00\n",
            "8/8 [==============================] - 0s 3ms/step - loss: 2.2392 - accuracy: 0.3401\n",
            "7/7 [==============================] - 0s 3ms/step - loss: 1.9330 - accuracy: 0.5350\n",
            "8/8 [==============================] - 0s 3ms/step - loss: 2.1748 - accuracy: 0.3710\n",
            "7/7 [==============================] - 0s 2ms/step - loss: 1.7732 - accuracy: 0.4050\n",
            "8/8 [==============================] - 0s 3ms/step - loss: 2.1827 - accuracy: 0.3688\n",
            "7/7 [==============================] - 0s 3ms/step - loss: 1.9201 - accuracy: 0.4250\n",
            "8/8 [==============================] - 0s 3ms/step - loss: 1.8577 - accuracy: 0.5825\n",
            "7/7 [==============================] - 0s 2ms/step - loss: 8.2895 - accuracy: 0.0000e+00\n",
            "FedNodeList is  [0, 1, 2, 3, 4, 5, 6, 7, 8, 9, 10, 11]\n",
            "Weights are... {0: array([0.22298951]), 1: array([0.]), 2: array([0.05209871]), 3: array([0.]), 4: array([0.]), 5: array([0.]), 6: array([0.17824147]), 7: array([0.]), 8: array([0.22449354]), 9: array([0.16118275]), 10: array([0.16099402]), 11: array([0.])}\n",
            "The Acc on each client... [0.6000000238418579, 0.0, 0.11999999731779099, 0.0, 0.0, 0.0, 0.46000000834465027, 0.0, 0.5350000262260437, 0.4050000011920929, 0.42500001192092896, 0.0]\n",
            "7/7 [==============================] - 0s 3ms/step - loss: 1.7667 - accuracy: 0.6989\n",
            "EPOCHS 2 is starting...\n",
            "8/8 [==============================] - 0s 3ms/step - loss: 1.6871 - accuracy: 0.5879\n",
            "7/7 [==============================] - 0s 3ms/step - loss: 1.1599 - accuracy: 0.6300\n",
            "8/8 [==============================] - 0s 3ms/step - loss: 1.8688 - accuracy: 0.4125\n",
            "7/7 [==============================] - 0s 3ms/step - loss: 1.9262 - accuracy: 0.1400\n",
            "8/8 [==============================] - 0s 3ms/step - loss: 1.7740 - accuracy: 0.4152\n",
            "7/7 [==============================] - 0s 2ms/step - loss: 1.5315 - accuracy: 0.3850\n",
            "8/8 [==============================] - 0s 3ms/step - loss: 1.8366 - accuracy: 0.4204\n",
            "7/7 [==============================] - 0s 3ms/step - loss: 1.9176 - accuracy: 0.1750\n",
            "8/8 [==============================] - 1s 3ms/step - loss: 1.2050 - accuracy: 0.6804\n",
            "7/7 [==============================] - 0s 3ms/step - loss: 8.9132 - accuracy: 0.0000e+00\n",
            "8/8 [==============================] - 0s 3ms/step - loss: 1.4704 - accuracy: 0.6198\n",
            "7/7 [==============================] - 0s 3ms/step - loss: 3.4395 - accuracy: 0.0000e+00\n",
            "8/8 [==============================] - 0s 4ms/step - loss: 1.7774 - accuracy: 0.5374\n",
            "7/7 [==============================] - 0s 3ms/step - loss: 1.1567 - accuracy: 0.6550\n",
            "8/8 [==============================] - 0s 3ms/step - loss: 1.6463 - accuracy: 0.5130\n",
            "7/7 [==============================] - 0s 3ms/step - loss: 2.3033 - accuracy: 0.0550\n",
            "8/8 [==============================] - 0s 3ms/step - loss: 1.7945 - accuracy: 0.5242\n",
            "7/7 [==============================] - 0s 3ms/step - loss: 1.3984 - accuracy: 0.5400\n",
            "8/8 [==============================] - 0s 3ms/step - loss: 1.7177 - accuracy: 0.5483\n",
            "7/7 [==============================] - 0s 3ms/step - loss: 1.1921 - accuracy: 0.6350\n",
            "8/8 [==============================] - 0s 3ms/step - loss: 1.7265 - accuracy: 0.5243\n",
            "7/7 [==============================] - 0s 3ms/step - loss: 1.3104 - accuracy: 0.5850\n",
            "8/8 [==============================] - 0s 3ms/step - loss: 1.3112 - accuracy: 0.6316\n",
            "7/7 [==============================] - 0s 3ms/step - loss: 8.3652 - accuracy: 0.0000e+00\n",
            "FedNodeList is  [0, 1, 2, 3, 4, 5, 6, 7, 8, 9, 10, 11]\n",
            "Weights are... {0: array([0.14941711]), 1: array([0.04613946]), 2: array([0.09789648]), 3: array([0.0622018]), 4: array([0.]), 5: array([0.]), 6: array([0.16610146]), 7: array([0.01814558]), 8: array([0.15429206]), 9: array([0.16172509]), 10: array([0.14408096]), 11: array([0.])}\n",
            "The Acc on each client... [0.6299999952316284, 0.14000000059604645, 0.38499999046325684, 0.17499999701976776, 0.0, 0.0, 0.6549999713897705, 0.054999999701976776, 0.5400000214576721, 0.6349999904632568, 0.5849999785423279, 0.0]\n",
            "7/7 [==============================] - 0s 3ms/step - loss: 1.1760 - accuracy: 0.7807\n",
            "EPOCHS 3 is starting...\n",
            "8/8 [==============================] - 0s 3ms/step - loss: 1.3702 - accuracy: 0.6090\n",
            "7/7 [==============================] - 0s 3ms/step - loss: 1.1830 - accuracy: 0.6150\n",
            "8/8 [==============================] - 0s 3ms/step - loss: 1.6594 - accuracy: 0.4351\n",
            "7/7 [==============================] - 0s 2ms/step - loss: 1.4916 - accuracy: 0.3550\n",
            "8/8 [==============================] - 0s 3ms/step - loss: 1.5537 - accuracy: 0.4472\n",
            "7/7 [==============================] - 0s 3ms/step - loss: 1.3909 - accuracy: 0.4950\n",
            "8/8 [==============================] - 1s 3ms/step - loss: 1.5343 - accuracy: 0.4601\n",
            "7/7 [==============================] - 0s 3ms/step - loss: 1.8788 - accuracy: 0.1800\n",
            "8/8 [==============================] - 0s 3ms/step - loss: 1.0990 - accuracy: 0.6721\n",
            "7/7 [==============================] - 0s 3ms/step - loss: 8.8217 - accuracy: 0.0000e+00\n",
            "8/8 [==============================] - 0s 3ms/step - loss: 1.4248 - accuracy: 0.5739\n",
            "7/7 [==============================] - 0s 3ms/step - loss: 2.7673 - accuracy: 0.0000e+00\n",
            "8/8 [==============================] - 0s 3ms/step - loss: 1.3695 - accuracy: 0.5833\n",
            "7/7 [==============================] - 0s 3ms/step - loss: 1.0431 - accuracy: 0.6900\n",
            "8/8 [==============================] - 0s 3ms/step - loss: 1.4951 - accuracy: 0.4391\n",
            "7/7 [==============================] - 0s 3ms/step - loss: 1.8031 - accuracy: 0.2950\n",
            "8/8 [==============================] - 0s 3ms/step - loss: 1.3994 - accuracy: 0.5512\n",
            "7/7 [==============================] - 0s 3ms/step - loss: 1.0520 - accuracy: 0.7500\n",
            "8/8 [==============================] - 0s 3ms/step - loss: 1.1755 - accuracy: 0.6521\n",
            "7/7 [==============================] - 0s 3ms/step - loss: 0.8559 - accuracy: 0.7300\n",
            "8/8 [==============================] - 0s 4ms/step - loss: 1.2098 - accuracy: 0.6386\n",
            "7/7 [==============================] - 0s 3ms/step - loss: 0.9420 - accuracy: 0.7300\n",
            "8/8 [==============================] - 0s 3ms/step - loss: 1.2289 - accuracy: 0.6483\n",
            "7/7 [==============================] - 0s 3ms/step - loss: 6.2332 - accuracy: 0.0000e+00\n",
            "FedNodeList is  [0, 1, 2, 3, 4, 5, 6, 7, 8, 9, 10, 11]\n",
            "Weights are... {0: array([0.12471186]), 1: array([0.08225293]), 2: array([0.11566236]), 3: array([0.04077532]), 4: array([0.]), 5: array([0.]), 6: array([0.13593897]), 7: array([0.05961376]), 8: array([0.1590105]), 9: array([0.14486372]), 10: array([0.13717058]), 11: array([0.])}\n",
            "The Acc on each client... [0.6150000095367432, 0.35499998927116394, 0.4950000047683716, 0.18000000715255737, 0.0, 0.0, 0.6899999976158142, 0.29499998688697815, 0.75, 0.7300000190734863, 0.7300000190734863, 0.0]\n",
            "7/7 [==============================] - 0s 3ms/step - loss: 0.9684 - accuracy: 0.8150\n",
            "EPOCHS 4 is starting...\n",
            "8/8 [==============================] - 0s 3ms/step - loss: 1.0783 - accuracy: 0.7017\n",
            "7/7 [==============================] - 0s 3ms/step - loss: 1.1681 - accuracy: 0.5700\n",
            "8/8 [==============================] - 0s 3ms/step - loss: 1.3815 - accuracy: 0.5094\n",
            "7/7 [==============================] - 0s 3ms/step - loss: 1.3115 - accuracy: 0.4950\n",
            "8/8 [==============================] - 1s 5ms/step - loss: 1.5213 - accuracy: 0.4664\n",
            "7/7 [==============================] - 0s 3ms/step - loss: 1.1236 - accuracy: 0.6300\n",
            "8/8 [==============================] - 0s 3ms/step - loss: 1.4090 - accuracy: 0.4865\n",
            "7/7 [==============================] - 0s 3ms/step - loss: 1.3104 - accuracy: 0.4850\n",
            "8/8 [==============================] - 0s 3ms/step - loss: 0.8048 - accuracy: 0.7527\n",
            "7/7 [==============================] - 0s 3ms/step - loss: 8.3941 - accuracy: 0.0000e+00\n",
            "8/8 [==============================] - 0s 3ms/step - loss: 1.2399 - accuracy: 0.6134\n",
            "7/7 [==============================] - 0s 3ms/step - loss: 2.2741 - accuracy: 0.1300\n",
            "8/8 [==============================] - 0s 3ms/step - loss: 1.0164 - accuracy: 0.7384\n",
            "7/7 [==============================] - 0s 3ms/step - loss: 0.8290 - accuracy: 0.7500\n",
            "8/8 [==============================] - 0s 3ms/step - loss: 1.3823 - accuracy: 0.5199\n",
            "7/7 [==============================] - 0s 3ms/step - loss: 1.5691 - accuracy: 0.3950\n",
            "8/8 [==============================] - 0s 3ms/step - loss: 1.1471 - accuracy: 0.6292\n",
            "7/7 [==============================] - 0s 3ms/step - loss: 0.9051 - accuracy: 0.7250\n",
            "8/8 [==============================] - 0s 3ms/step - loss: 1.1333 - accuracy: 0.6737\n",
            "7/7 [==============================] - 0s 3ms/step - loss: 0.7499 - accuracy: 0.7650\n",
            "8/8 [==============================] - 0s 3ms/step - loss: 1.1860 - accuracy: 0.6652\n",
            "7/7 [==============================] - 0s 3ms/step - loss: 0.9036 - accuracy: 0.7000\n",
            "8/8 [==============================] - 0s 3ms/step - loss: 1.1294 - accuracy: 0.6284\n",
            "7/7 [==============================] - 0s 3ms/step - loss: 5.4807 - accuracy: 0.0000e+00\n",
            "FedNodeList is  [0, 1, 2, 3, 4, 5, 6, 7, 8, 9, 10, 11]\n",
            "Weights are... {0: array([0.1019215]), 1: array([0.08814135]), 2: array([0.12598657]), 3: array([0.09444194]), 4: array([0.]), 5: array([0.017601]), 6: array([0.1185917]), 7: array([0.07213893]), 8: array([0.12885536]), 9: array([0.13221669]), 10: array([0.12010496]), 11: array([0.])}\n",
            "The Acc on each client... [0.5699999928474426, 0.4950000047683716, 0.6299999952316284, 0.48500001430511475, 0.0, 0.12999999523162842, 0.75, 0.39500001072883606, 0.7250000238418579, 0.7649999856948853, 0.699999988079071, 0.0]\n",
            "7/7 [==============================] - 0s 3ms/step - loss: 0.8639 - accuracy: 0.8184\n",
            "EPOCHS 5 is starting...\n",
            "8/8 [==============================] - 0s 3ms/step - loss: 0.9911 - accuracy: 0.6958\n",
            "7/7 [==============================] - 0s 3ms/step - loss: 1.0517 - accuracy: 0.6650\n",
            "8/8 [==============================] - 1s 3ms/step - loss: 1.3369 - accuracy: 0.5025\n",
            "7/7 [==============================] - 0s 3ms/step - loss: 1.0564 - accuracy: 0.7100\n",
            "8/8 [==============================] - 0s 3ms/step - loss: 1.1180 - accuracy: 0.6228\n",
            "7/7 [==============================] - 0s 3ms/step - loss: 1.2910 - accuracy: 0.5050\n",
            "8/8 [==============================] - 0s 3ms/step - loss: 1.2696 - accuracy: 0.6231\n",
            "7/7 [==============================] - 0s 3ms/step - loss: 1.4262 - accuracy: 0.4250\n",
            "8/8 [==============================] - 0s 3ms/step - loss: 0.9176 - accuracy: 0.6786\n",
            "7/7 [==============================] - 0s 3ms/step - loss: 8.9235 - accuracy: 0.0000e+00\n",
            "8/8 [==============================] - 0s 3ms/step - loss: 1.1036 - accuracy: 0.6052\n",
            "7/7 [==============================] - 0s 3ms/step - loss: 2.1658 - accuracy: 0.1950\n",
            "8/8 [==============================] - 0s 3ms/step - loss: 0.9262 - accuracy: 0.7136\n",
            "7/7 [==============================] - 0s 3ms/step - loss: 0.7248 - accuracy: 0.7900\n",
            "8/8 [==============================] - 0s 3ms/step - loss: 1.1299 - accuracy: 0.6083\n",
            "7/7 [==============================] - 0s 3ms/step - loss: 1.2515 - accuracy: 0.5800\n",
            "8/8 [==============================] - 0s 3ms/step - loss: 1.1097 - accuracy: 0.6403\n",
            "7/7 [==============================] - 0s 3ms/step - loss: 0.7920 - accuracy: 0.7650\n",
            "8/8 [==============================] - 0s 3ms/step - loss: 0.8271 - accuracy: 0.7728\n",
            "7/7 [==============================] - 0s 3ms/step - loss: 0.6185 - accuracy: 0.8050\n",
            "8/8 [==============================] - 0s 3ms/step - loss: 0.9341 - accuracy: 0.7355\n",
            "7/7 [==============================] - 0s 3ms/step - loss: 0.9224 - accuracy: 0.7300\n",
            "8/8 [==============================] - 0s 3ms/step - loss: 0.9189 - accuracy: 0.7273\n",
            "7/7 [==============================] - 0s 3ms/step - loss: 6.2207 - accuracy: 0.0000e+00\n",
            "FedNodeList is  [0, 1, 2, 3, 4, 5, 6, 7, 8, 9, 10, 11]\n",
            "Weights are... {0: array([0.11095992]), 1: array([0.11547129]), 2: array([0.08065414]), 3: array([0.07556442]), 4: array([0.]), 5: array([0.02348616]), 6: array([0.1209586]), 7: array([0.08886033]), 8: array([0.13967176]), 9: array([0.1341301]), 10: array([0.11024328]), 11: array([0.])}\n",
            "The Acc on each client... [0.6650000214576721, 0.7099999785423279, 0.5049999952316284, 0.42500001192092896, 0.0, 0.19499999284744263, 0.7900000214576721, 0.5799999833106995, 0.7649999856948853, 0.8050000071525574, 0.7300000190734863, 0.0]\n",
            "7/7 [==============================] - 0s 3ms/step - loss: 0.7719 - accuracy: 0.8030\n",
            "EPOCHS 6 is starting...\n",
            "8/8 [==============================] - 1s 3ms/step - loss: 0.8932 - accuracy: 0.7397\n",
            "7/7 [==============================] - 0s 3ms/step - loss: 0.9824 - accuracy: 0.6550\n",
            "8/8 [==============================] - 0s 3ms/step - loss: 1.1665 - accuracy: 0.5889\n",
            "7/7 [==============================] - 0s 3ms/step - loss: 1.1166 - accuracy: 0.5650\n",
            "8/8 [==============================] - 0s 4ms/step - loss: 1.1277 - accuracy: 0.6408\n",
            "7/7 [==============================] - 0s 3ms/step - loss: 0.7624 - accuracy: 0.7650\n",
            "8/8 [==============================] - 0s 4ms/step - loss: 1.1211 - accuracy: 0.5812\n",
            "7/7 [==============================] - 0s 3ms/step - loss: 1.1910 - accuracy: 0.5600\n",
            "8/8 [==============================] - 0s 3ms/step - loss: 0.7767 - accuracy: 0.7126\n",
            "7/7 [==============================] - 0s 3ms/step - loss: 7.1575 - accuracy: 0.0000e+00\n",
            "8/8 [==============================] - 0s 4ms/step - loss: 1.0888 - accuracy: 0.6545\n",
            "7/7 [==============================] - 0s 3ms/step - loss: 1.9120 - accuracy: 0.2000\n",
            "8/8 [==============================] - 0s 3ms/step - loss: 0.8152 - accuracy: 0.7613\n",
            "7/7 [==============================] - 0s 3ms/step - loss: 0.6757 - accuracy: 0.7900\n",
            "8/8 [==============================] - 0s 3ms/step - loss: 1.1434 - accuracy: 0.6012\n",
            "7/7 [==============================] - 0s 3ms/step - loss: 1.3900 - accuracy: 0.4300\n",
            "8/8 [==============================] - 0s 4ms/step - loss: 0.9179 - accuracy: 0.7512\n",
            "7/7 [==============================] - 0s 4ms/step - loss: 0.8819 - accuracy: 0.7000\n",
            "8/8 [==============================] - 0s 3ms/step - loss: 0.8077 - accuracy: 0.7741\n",
            "7/7 [==============================] - 0s 3ms/step - loss: 0.6928 - accuracy: 0.7400\n",
            "8/8 [==============================] - 0s 3ms/step - loss: 0.8490 - accuracy: 0.7544\n",
            "7/7 [==============================] - 0s 3ms/step - loss: 0.6982 - accuracy: 0.7950\n",
            "8/8 [==============================] - 0s 3ms/step - loss: 0.8603 - accuracy: 0.7670\n",
            "7/7 [==============================] - 0s 3ms/step - loss: 4.7165 - accuracy: 0.0000e+00\n",
            "FedNodeList is  [0, 1, 2, 3, 4, 5, 6, 7, 8, 9, 10, 11]\n",
            "Weights are... {0: array([0.10568859]), 1: array([0.09145401]), 2: array([0.1194664]), 3: array([0.09472383]), 4: array([0.]), 5: array([0.02809715]), 6: array([0.12817023]), 7: array([0.06727437]), 8: array([0.10703292]), 9: array([0.12538658]), 10: array([0.13270591]), 11: array([0.])}\n",
            "The Acc on each client... [0.6549999713897705, 0.5649999976158142, 0.7649999856948853, 0.5600000023841858, 0.0, 0.20000000298023224, 0.7900000214576721, 0.4300000071525574, 0.699999988079071, 0.7400000095367432, 0.7950000166893005, 0.0]\n",
            "7/7 [==============================] - 0s 3ms/step - loss: 0.6740 - accuracy: 0.8247\n",
            "EPOCHS 7 is starting...\n",
            "8/8 [==============================] - 0s 3ms/step - loss: 0.7842 - accuracy: 0.7416\n",
            "7/7 [==============================] - 0s 3ms/step - loss: 0.8549 - accuracy: 0.7450\n",
            "8/8 [==============================] - 0s 3ms/step - loss: 1.2067 - accuracy: 0.5694\n",
            "7/7 [==============================] - 0s 3ms/step - loss: 0.9876 - accuracy: 0.6900\n",
            "8/8 [==============================] - 0s 3ms/step - loss: 1.0187 - accuracy: 0.6248\n",
            "7/7 [==============================] - 0s 3ms/step - loss: 1.2134 - accuracy: 0.5800\n",
            "8/8 [==============================] - 0s 3ms/step - loss: 1.0087 - accuracy: 0.6605\n",
            "7/7 [==============================] - 0s 4ms/step - loss: 0.9051 - accuracy: 0.7150\n",
            "8/8 [==============================] - 0s 3ms/step - loss: 0.7206 - accuracy: 0.8057\n",
            "7/7 [==============================] - 0s 3ms/step - loss: 8.5472 - accuracy: 0.0000e+00\n",
            "8/8 [==============================] - 0s 3ms/step - loss: 1.0365 - accuracy: 0.6383\n",
            "7/7 [==============================] - 0s 3ms/step - loss: 1.8412 - accuracy: 0.2350\n",
            "8/8 [==============================] - 0s 3ms/step - loss: 0.7777 - accuracy: 0.7855\n",
            "7/7 [==============================] - 0s 3ms/step - loss: 0.7658 - accuracy: 0.7350\n",
            "8/8 [==============================] - 0s 4ms/step - loss: 1.1094 - accuracy: 0.6238\n",
            "7/7 [==============================] - 0s 3ms/step - loss: 1.1424 - accuracy: 0.6000\n",
            "8/8 [==============================] - 0s 4ms/step - loss: 0.8215 - accuracy: 0.7661\n",
            "7/7 [==============================] - 0s 3ms/step - loss: 0.9366 - accuracy: 0.7100\n",
            "8/8 [==============================] - 0s 4ms/step - loss: 0.7233 - accuracy: 0.7906\n",
            "7/7 [==============================] - 0s 3ms/step - loss: 0.5525 - accuracy: 0.8250\n",
            "8/8 [==============================] - 0s 3ms/step - loss: 0.8256 - accuracy: 0.7696\n",
            "7/7 [==============================] - 0s 3ms/step - loss: 0.6387 - accuracy: 0.8000\n",
            "8/8 [==============================] - 0s 3ms/step - loss: 0.9815 - accuracy: 0.7289\n",
            "7/7 [==============================] - 0s 3ms/step - loss: 6.4397 - accuracy: 0.0000e+00\n",
            "FedNodeList is  [0, 1, 2, 3, 4, 5, 6, 7, 8, 9, 10, 11]\n",
            "Weights are... {0: array([0.1183133]), 1: array([0.09413486]), 2: array([0.08780619]), 3: array([0.1082454]), 4: array([0.]), 5: array([0.02854806]), 6: array([0.1165289]), 7: array([0.08353176]), 8: array([0.10138959]), 9: array([0.12934717]), 10: array([0.13215479]), 11: array([0.])}\n",
            "The Acc on each client... [0.7450000047683716, 0.6899999976158142, 0.5799999833106995, 0.7149999737739563, 0.0, 0.23499999940395355, 0.7350000143051147, 0.6000000238418579, 0.7099999785423279, 0.824999988079071, 0.800000011920929, 0.0]\n",
            "7/7 [==============================] - 0s 3ms/step - loss: 0.6453 - accuracy: 0.8420\n",
            "EPOCHS 8 is starting...\n",
            "8/8 [==============================] - 0s 4ms/step - loss: 0.7685 - accuracy: 0.7751\n",
            "7/7 [==============================] - 0s 3ms/step - loss: 0.6616 - accuracy: 0.8050\n",
            "8/8 [==============================] - 0s 3ms/step - loss: 1.1953 - accuracy: 0.5557\n",
            "7/7 [==============================] - 0s 3ms/step - loss: 0.8963 - accuracy: 0.7450\n",
            "8/8 [==============================] - 0s 3ms/step - loss: 0.8169 - accuracy: 0.7488\n",
            "7/7 [==============================] - 0s 3ms/step - loss: 0.7093 - accuracy: 0.7950\n",
            "8/8 [==============================] - 0s 4ms/step - loss: 0.9644 - accuracy: 0.6330\n",
            "7/7 [==============================] - 0s 3ms/step - loss: 0.9876 - accuracy: 0.6550\n",
            "8/8 [==============================] - 0s 3ms/step - loss: 0.7171 - accuracy: 0.7170\n",
            "7/7 [==============================] - 0s 3ms/step - loss: 7.4514 - accuracy: 0.0000e+00\n",
            "8/8 [==============================] - 0s 3ms/step - loss: 1.0249 - accuracy: 0.6901\n",
            "7/7 [==============================] - 0s 3ms/step - loss: 1.5491 - accuracy: 0.3350\n",
            "8/8 [==============================] - 0s 3ms/step - loss: 0.7764 - accuracy: 0.7643\n",
            "7/7 [==============================] - 0s 3ms/step - loss: 0.5989 - accuracy: 0.8200\n",
            "8/8 [==============================] - 0s 4ms/step - loss: 0.9302 - accuracy: 0.6543\n",
            "7/7 [==============================] - 0s 3ms/step - loss: 1.0932 - accuracy: 0.6250\n",
            "8/8 [==============================] - 0s 3ms/step - loss: 0.7493 - accuracy: 0.7248\n",
            "7/7 [==============================] - 0s 3ms/step - loss: 0.6050 - accuracy: 0.7900\n",
            "8/8 [==============================] - 0s 3ms/step - loss: 0.7712 - accuracy: 0.8002\n",
            "7/7 [==============================] - 0s 3ms/step - loss: 0.5413 - accuracy: 0.8200\n",
            "8/8 [==============================] - 0s 3ms/step - loss: 0.7438 - accuracy: 0.7516\n",
            "7/7 [==============================] - 0s 4ms/step - loss: 0.5509 - accuracy: 0.8250\n",
            "8/8 [==============================] - 0s 3ms/step - loss: 0.7896 - accuracy: 0.7318\n",
            "7/7 [==============================] - 0s 3ms/step - loss: 6.7508 - accuracy: 0.0000e+00\n",
            "FedNodeList is  [0, 1, 2, 3, 4, 5, 6, 7, 8, 9, 10, 11]\n",
            "Weights are... {0: array([0.12734562]), 1: array([0.10358452]), 2: array([0.11322673]), 3: array([0.09188156]), 4: array([0.]), 5: array([0.03581933]), 6: array([0.10939076]), 7: array([0.08650366]), 8: array([0.11093658]), 9: array([0.11111747]), 10: array([0.11019376]), 11: array([0.])}\n",
            "The Acc on each client... [0.8050000071525574, 0.7450000047683716, 0.7950000166893005, 0.6549999713897705, 0.0, 0.33500000834465027, 0.8199999928474426, 0.625, 0.7900000214576721, 0.8199999928474426, 0.824999988079071, 0.0]\n",
            "7/7 [==============================] - 0s 3ms/step - loss: 0.5642 - accuracy: 0.8561\n",
            "EPOCHS 9 is starting...\n",
            "8/8 [==============================] - 0s 3ms/step - loss: 0.7265 - accuracy: 0.7756\n",
            "7/7 [==============================] - 0s 3ms/step - loss: 0.7918 - accuracy: 0.7450\n",
            "8/8 [==============================] - 0s 3ms/step - loss: 1.0291 - accuracy: 0.6032\n",
            "7/7 [==============================] - 0s 3ms/step - loss: 0.9649 - accuracy: 0.6200\n",
            "8/8 [==============================] - 0s 3ms/step - loss: 0.9521 - accuracy: 0.7061\n",
            "7/7 [==============================] - 0s 3ms/step - loss: 0.7687 - accuracy: 0.7850\n",
            "8/8 [==============================] - 0s 4ms/step - loss: 0.8726 - accuracy: 0.6643\n",
            "7/7 [==============================] - 0s 3ms/step - loss: 0.6920 - accuracy: 0.7850\n",
            "8/8 [==============================] - 0s 4ms/step - loss: 0.7403 - accuracy: 0.7481\n",
            "7/7 [==============================] - 0s 4ms/step - loss: 6.7924 - accuracy: 0.0100\n",
            "8/8 [==============================] - 0s 3ms/step - loss: 0.9819 - accuracy: 0.6187\n",
            "7/7 [==============================] - 0s 3ms/step - loss: 1.7586 - accuracy: 0.3150\n",
            "8/8 [==============================] - 0s 4ms/step - loss: 0.6193 - accuracy: 0.8199\n",
            "7/7 [==============================] - 0s 3ms/step - loss: 0.5859 - accuracy: 0.8450\n",
            "8/8 [==============================] - 0s 3ms/step - loss: 0.9718 - accuracy: 0.6593\n",
            "7/7 [==============================] - 0s 3ms/step - loss: 1.1629 - accuracy: 0.5650\n",
            "8/8 [==============================] - 0s 4ms/step - loss: 0.6691 - accuracy: 0.8027\n",
            "7/7 [==============================] - 0s 3ms/step - loss: 0.7269 - accuracy: 0.7450\n",
            "8/8 [==============================] - 0s 3ms/step - loss: 0.5620 - accuracy: 0.8258\n",
            "7/7 [==============================] - 0s 3ms/step - loss: 0.6654 - accuracy: 0.7550\n",
            "8/8 [==============================] - 0s 4ms/step - loss: 0.7581 - accuracy: 0.7674\n",
            "7/7 [==============================] - 0s 3ms/step - loss: 0.5815 - accuracy: 0.8200\n",
            "8/8 [==============================] - 0s 3ms/step - loss: 0.9815 - accuracy: 0.7127\n",
            "7/7 [==============================] - 0s 3ms/step - loss: 5.1648 - accuracy: 0.0000e+00\n",
            "FedNodeList is  [0, 1, 2, 3, 4, 5, 6, 7, 8, 9, 10, 11]\n",
            "Weights are... {0: array([0.10577558]), 1: array([0.09239164]), 2: array([0.11799482]), 3: array([0.11887827]), 4: array([0.00084093]), 5: array([0.04157845]), 6: array([0.12388881]), 7: array([0.07842262]), 8: array([0.08962823]), 9: array([0.10429981]), 10: array([0.12630085]), 11: array([0.])}\n",
            "The Acc on each client... [0.7450000047683716, 0.6200000047683716, 0.7850000262260437, 0.7850000262260437, 0.009999999776482582, 0.3149999976158142, 0.8450000286102295, 0.5649999976158142, 0.7450000047683716, 0.7549999952316284, 0.8199999928474426, 0.0]\n",
            "7/7 [==============================] - 0s 3ms/step - loss: 0.5383 - accuracy: 0.8645\n",
            "EPOCHS 10 is starting...\n",
            "8/8 [==============================] - 0s 3ms/step - loss: 0.7211 - accuracy: 0.7760\n",
            "7/7 [==============================] - 0s 3ms/step - loss: 0.7155 - accuracy: 0.7750\n",
            "8/8 [==============================] - 0s 4ms/step - loss: 0.9921 - accuracy: 0.6512\n",
            "7/7 [==============================] - 0s 3ms/step - loss: 0.7810 - accuracy: 0.7600\n",
            "8/8 [==============================] - 0s 3ms/step - loss: 0.8023 - accuracy: 0.7334\n",
            "7/7 [==============================] - 0s 3ms/step - loss: 0.6287 - accuracy: 0.8200\n",
            "8/8 [==============================] - 0s 4ms/step - loss: 0.9247 - accuracy: 0.6469\n",
            "7/7 [==============================] - 0s 3ms/step - loss: 0.7906 - accuracy: 0.7550\n",
            "8/8 [==============================] - 0s 3ms/step - loss: 0.7217 - accuracy: 0.7918\n",
            "7/7 [==============================] - 0s 3ms/step - loss: 8.3994 - accuracy: 0.0000e+00\n",
            "8/8 [==============================] - 0s 4ms/step - loss: 0.8750 - accuracy: 0.7148\n",
            "7/7 [==============================] - 0s 3ms/step - loss: 1.3854 - accuracy: 0.3600\n",
            "8/8 [==============================] - 0s 4ms/step - loss: 0.6443 - accuracy: 0.7883\n",
            "7/7 [==============================] - 0s 3ms/step - loss: 0.5470 - accuracy: 0.8200\n",
            "8/8 [==============================] - 1s 3ms/step - loss: 0.9821 - accuracy: 0.6776\n",
            "7/7 [==============================] - 0s 3ms/step - loss: 1.0332 - accuracy: 0.6600\n",
            "8/8 [==============================] - 0s 4ms/step - loss: 0.7273 - accuracy: 0.7443\n",
            "7/7 [==============================] - 0s 3ms/step - loss: 0.8363 - accuracy: 0.7100\n",
            "8/8 [==============================] - 0s 3ms/step - loss: 0.6375 - accuracy: 0.8372\n",
            "7/7 [==============================] - 0s 3ms/step - loss: 0.4002 - accuracy: 0.8900\n",
            "8/8 [==============================] - 0s 3ms/step - loss: 0.6378 - accuracy: 0.8178\n",
            "7/7 [==============================] - 0s 3ms/step - loss: 0.5991 - accuracy: 0.7750\n",
            "8/8 [==============================] - 0s 4ms/step - loss: 0.7161 - accuracy: 0.7899\n",
            "7/7 [==============================] - 0s 3ms/step - loss: 3.6927 - accuracy: 0.0100\n",
            "FedNodeList is  [0, 1, 2, 3, 4, 5, 6, 7, 8, 9, 10, 11]\n",
            "Weights are... {0: array([0.11434036]), 1: array([0.10426626]), 2: array([0.11793292]), 3: array([0.10081581]), 4: array([0.]), 5: array([0.04037069]), 6: array([0.11652725]), 7: array([0.07300481]), 8: array([0.10280484]), 9: array([0.11872408]), 10: array([0.11044478]), 11: array([0.0007682])}\n",
            "The Acc on each client... [0.7749999761581421, 0.7599999904632568, 0.8199999928474426, 0.7549999952316284, 0.0, 0.36000001430511475, 0.8199999928474426, 0.6600000262260437, 0.7099999785423279, 0.8899999856948853, 0.7749999761581421, 0.009999999776482582]\n",
            "7/7 [==============================] - 0s 3ms/step - loss: 0.5192 - accuracy: 0.8701\n",
            "EPOCHS 11 is starting...\n",
            "8/8 [==============================] - 0s 4ms/step - loss: 0.6941 - accuracy: 0.7753\n",
            "7/7 [==============================] - 0s 3ms/step - loss: 0.4341 - accuracy: 0.8600\n",
            "8/8 [==============================] - 0s 3ms/step - loss: 0.9682 - accuracy: 0.6589\n",
            "7/7 [==============================] - 0s 3ms/step - loss: 0.8512 - accuracy: 0.7050\n",
            "8/8 [==============================] - 0s 3ms/step - loss: 0.7593 - accuracy: 0.7527\n",
            "7/7 [==============================] - 0s 4ms/step - loss: 0.5839 - accuracy: 0.8300\n",
            "8/8 [==============================] - 0s 3ms/step - loss: 0.7386 - accuracy: 0.7218\n",
            "7/7 [==============================] - 0s 3ms/step - loss: 1.0610 - accuracy: 0.5900\n",
            "8/8 [==============================] - 0s 4ms/step - loss: 0.6250 - accuracy: 0.7939\n",
            "7/7 [==============================] - 0s 3ms/step - loss: 9.7454 - accuracy: 0.0000e+00\n",
            "8/8 [==============================] - 0s 3ms/step - loss: 0.8010 - accuracy: 0.7040\n",
            "7/7 [==============================] - 0s 3ms/step - loss: 1.5670 - accuracy: 0.2900\n",
            "8/8 [==============================] - 1s 4ms/step - loss: 0.6754 - accuracy: 0.7927\n",
            "7/7 [==============================] - 0s 3ms/step - loss: 0.4799 - accuracy: 0.8450\n",
            "8/8 [==============================] - 0s 4ms/step - loss: 0.9031 - accuracy: 0.6825\n",
            "7/7 [==============================] - 0s 3ms/step - loss: 1.2293 - accuracy: 0.4700\n",
            "8/8 [==============================] - 0s 4ms/step - loss: 0.6819 - accuracy: 0.8053\n",
            "7/7 [==============================] - 0s 3ms/step - loss: 0.6610 - accuracy: 0.7650\n",
            "8/8 [==============================] - 0s 4ms/step - loss: 0.5261 - accuracy: 0.8671\n",
            "7/7 [==============================] - 0s 3ms/step - loss: 0.3684 - accuracy: 0.9000\n",
            "8/8 [==============================] - 0s 3ms/step - loss: 0.6257 - accuracy: 0.7866\n",
            "7/7 [==============================] - 0s 3ms/step - loss: 0.5593 - accuracy: 0.8300\n",
            "8/8 [==============================] - 0s 3ms/step - loss: 0.7419 - accuracy: 0.7275\n",
            "7/7 [==============================] - 0s 3ms/step - loss: 3.8455 - accuracy: 0.0100\n",
            "FedNodeList is  [0, 1, 2, 3, 4, 5, 6, 7, 8, 9, 10, 11]\n",
            "Weights are... {0: array([0.13683214]), 1: array([0.10370276]), 2: array([0.1298562]), 3: array([0.08255074]), 4: array([0.]), 5: array([0.03220687]), 6: array([0.12457308]), 7: array([0.06335919]), 8: array([0.10654921]), 9: array([0.10771785]), 10: array([0.11177555]), 11: array([0.00087642])}\n",
            "The Acc on each client... [0.8600000143051147, 0.7049999833106995, 0.8299999833106995, 0.5899999737739563, 0.0, 0.28999999165534973, 0.8450000286102295, 0.4699999988079071, 0.7649999856948853, 0.8999999761581421, 0.8299999833106995, 0.009999999776482582]\n",
            "7/7 [==============================] - 0s 3ms/step - loss: 0.4808 - accuracy: 0.8701\n",
            "EPOCHS 12 is starting...\n",
            "8/8 [==============================] - 0s 3ms/step - loss: 0.5971 - accuracy: 0.7765\n",
            "7/7 [==============================] - 0s 3ms/step - loss: 0.6671 - accuracy: 0.7700\n",
            "8/8 [==============================] - 0s 4ms/step - loss: 0.8972 - accuracy: 0.6870\n",
            "7/7 [==============================] - 0s 3ms/step - loss: 0.8263 - accuracy: 0.7300\n",
            "8/8 [==============================] - 0s 3ms/step - loss: 0.7779 - accuracy: 0.7464\n",
            "7/7 [==============================] - 0s 3ms/step - loss: 0.5827 - accuracy: 0.8350\n",
            "8/8 [==============================] - 0s 3ms/step - loss: 0.8682 - accuracy: 0.6413\n",
            "7/7 [==============================] - 0s 3ms/step - loss: 0.6136 - accuracy: 0.8400\n",
            "8/8 [==============================] - 0s 3ms/step - loss: 0.6508 - accuracy: 0.8165\n",
            "7/7 [==============================] - 0s 3ms/step - loss: 7.9500 - accuracy: 0.0000e+00\n",
            "8/8 [==============================] - 1s 4ms/step - loss: 0.8639 - accuracy: 0.7413\n",
            "7/7 [==============================] - 0s 3ms/step - loss: 1.1100 - accuracy: 0.5800\n",
            "8/8 [==============================] - 0s 5ms/step - loss: 0.5574 - accuracy: 0.8423\n",
            "7/7 [==============================] - 0s 3ms/step - loss: 0.6509 - accuracy: 0.8150\n",
            "8/8 [==============================] - 0s 4ms/step - loss: 0.9633 - accuracy: 0.6402\n",
            "7/7 [==============================] - 0s 3ms/step - loss: 1.0508 - accuracy: 0.5950\n",
            "8/8 [==============================] - 0s 3ms/step - loss: 0.6049 - accuracy: 0.7973\n",
            "7/7 [==============================] - 0s 3ms/step - loss: 0.8780 - accuracy: 0.6950\n",
            "8/8 [==============================] - 0s 4ms/step - loss: 0.4891 - accuracy: 0.8614\n",
            "7/7 [==============================] - 0s 3ms/step - loss: 0.3788 - accuracy: 0.8900\n",
            "8/8 [==============================] - 0s 3ms/step - loss: 0.6355 - accuracy: 0.8016\n",
            "7/7 [==============================] - 0s 3ms/step - loss: 0.4434 - accuracy: 0.8550\n",
            "8/8 [==============================] - 0s 3ms/step - loss: 0.6285 - accuracy: 0.7732\n",
            "7/7 [==============================] - 0s 3ms/step - loss: 5.0956 - accuracy: 0.0200\n",
            "FedNodeList is  [0, 1, 2, 3, 4, 5, 6, 7, 8, 9, 10, 11]\n",
            "Weights are... {0: array([0.09877965]), 1: array([0.10616904]), 2: array([0.10800961]), 3: array([0.11695987]), 4: array([0.]), 5: array([0.07090129]), 6: array([0.11421476]), 7: array([0.06956821]), 8: array([0.09091385]), 9: array([0.11466212]), 10: array([0.1081034]), 11: array([0.0017182])}\n",
            "The Acc on each client... [0.7699999809265137, 0.7300000190734863, 0.8349999785423279, 0.8399999737739563, 0.0, 0.5799999833106995, 0.8149999976158142, 0.5950000286102295, 0.6949999928474426, 0.8899999856948853, 0.8550000190734863, 0.019999999552965164]\n",
            "7/7 [==============================] - 0s 3ms/step - loss: 0.4915 - accuracy: 0.8611\n",
            "EPOCHS 13 is starting...\n",
            "8/8 [==============================] - 0s 4ms/step - loss: 0.5501 - accuracy: 0.8502\n",
            "7/7 [==============================] - 0s 3ms/step - loss: 0.4500 - accuracy: 0.8600\n",
            "8/8 [==============================] - 0s 4ms/step - loss: 0.8624 - accuracy: 0.6727\n",
            "7/7 [==============================] - 0s 3ms/step - loss: 0.8949 - accuracy: 0.6900\n",
            "8/8 [==============================] - 0s 4ms/step - loss: 0.7437 - accuracy: 0.7942\n",
            "7/7 [==============================] - 0s 3ms/step - loss: 0.5928 - accuracy: 0.8400\n",
            "8/8 [==============================] - 0s 3ms/step - loss: 0.7606 - accuracy: 0.7129\n",
            "7/7 [==============================] - 0s 4ms/step - loss: 0.8502 - accuracy: 0.6850\n",
            "8/8 [==============================] - 1s 3ms/step - loss: 0.5824 - accuracy: 0.8128\n",
            "7/7 [==============================] - 0s 3ms/step - loss: 6.9258 - accuracy: 0.0000e+00\n",
            "8/8 [==============================] - 0s 3ms/step - loss: 0.8679 - accuracy: 0.6802\n",
            "7/7 [==============================] - 0s 3ms/step - loss: 1.4142 - accuracy: 0.3750\n",
            "8/8 [==============================] - 0s 3ms/step - loss: 0.5649 - accuracy: 0.8148\n",
            "7/7 [==============================] - 0s 3ms/step - loss: 0.6537 - accuracy: 0.7750\n",
            "8/8 [==============================] - 0s 4ms/step - loss: 0.7433 - accuracy: 0.7043\n",
            "7/7 [==============================] - 0s 3ms/step - loss: 0.9578 - accuracy: 0.6600\n",
            "8/8 [==============================] - 0s 3ms/step - loss: 0.6603 - accuracy: 0.8145\n",
            "7/7 [==============================] - 0s 3ms/step - loss: 0.5512 - accuracy: 0.8350\n",
            "8/8 [==============================] - 0s 3ms/step - loss: 0.4586 - accuracy: 0.8573\n",
            "7/7 [==============================] - 0s 3ms/step - loss: 0.4518 - accuracy: 0.8400\n",
            "8/8 [==============================] - 0s 4ms/step - loss: 0.5631 - accuracy: 0.8199\n",
            "7/7 [==============================] - 0s 3ms/step - loss: 0.5531 - accuracy: 0.8200\n",
            "8/8 [==============================] - 0s 3ms/step - loss: 0.6952 - accuracy: 0.7806\n",
            "7/7 [==============================] - 0s 3ms/step - loss: 4.9016 - accuracy: 0.0200\n",
            "FedNodeList is  [0, 1, 2, 3, 4, 5, 6, 7, 8, 9, 10, 11]\n",
            "Weights are... {0: array([0.10145449]), 1: array([0.0981215]), 2: array([0.12187968]), 3: array([0.09581639]), 4: array([0.]), 5: array([0.04206674]), 6: array([0.10502817]), 7: array([0.08598652]), 8: array([0.12529726]), 9: array([0.11986091]), 10: array([0.10284332]), 11: array([0.00164502])}\n",
            "The Acc on each client... [0.8600000143051147, 0.6899999976158142, 0.8399999737739563, 0.6850000023841858, 0.0, 0.375, 0.7749999761581421, 0.6600000262260437, 0.8349999785423279, 0.8399999737739563, 0.8199999928474426, 0.019999999552965164]\n",
            "7/7 [==============================] - 0s 3ms/step - loss: 0.4481 - accuracy: 0.8653\n",
            "EPOCHS 14 is starting...\n",
            "8/8 [==============================] - 0s 3ms/step - loss: 0.4856 - accuracy: 0.8508\n",
            "7/7 [==============================] - 0s 3ms/step - loss: 0.4902 - accuracy: 0.8550\n",
            "8/8 [==============================] - 0s 4ms/step - loss: 0.8063 - accuracy: 0.7067\n",
            "7/7 [==============================] - 0s 3ms/step - loss: 0.6464 - accuracy: 0.8050\n",
            "8/8 [==============================] - 0s 4ms/step - loss: 0.7488 - accuracy: 0.7668\n",
            "7/7 [==============================] - 0s 3ms/step - loss: 0.6201 - accuracy: 0.8150\n",
            "8/8 [==============================] - 0s 3ms/step - loss: 0.7513 - accuracy: 0.6907\n",
            "7/7 [==============================] - 0s 3ms/step - loss: 0.5569 - accuracy: 0.8000\n",
            "8/8 [==============================] - 1s 4ms/step - loss: 0.5665 - accuracy: 0.8261\n",
            "7/7 [==============================] - 0s 3ms/step - loss: 6.3235 - accuracy: 0.0050\n",
            "8/8 [==============================] - 0s 3ms/step - loss: 0.7818 - accuracy: 0.7357\n",
            "7/7 [==============================] - 0s 3ms/step - loss: 1.3146 - accuracy: 0.4450\n",
            "8/8 [==============================] - 0s 4ms/step - loss: 0.5550 - accuracy: 0.8269\n",
            "7/7 [==============================] - 0s 3ms/step - loss: 0.5241 - accuracy: 0.8300\n",
            "8/8 [==============================] - 0s 4ms/step - loss: 0.8101 - accuracy: 0.7347\n",
            "7/7 [==============================] - 0s 3ms/step - loss: 0.9897 - accuracy: 0.6150\n",
            "8/8 [==============================] - 0s 3ms/step - loss: 0.5178 - accuracy: 0.8257\n",
            "7/7 [==============================] - 0s 4ms/step - loss: 0.5140 - accuracy: 0.8100\n",
            "8/8 [==============================] - 0s 4ms/step - loss: 0.4190 - accuracy: 0.8908\n",
            "7/7 [==============================] - 0s 3ms/step - loss: 0.3834 - accuracy: 0.8600\n",
            "8/8 [==============================] - 0s 4ms/step - loss: 0.4491 - accuracy: 0.8655\n",
            "7/7 [==============================] - 0s 3ms/step - loss: 0.4097 - accuracy: 0.8550\n",
            "8/8 [==============================] - 0s 4ms/step - loss: 0.7697 - accuracy: 0.7506\n",
            "7/7 [==============================] - 0s 3ms/step - loss: 3.9825 - accuracy: 0.0250\n",
            "FedNodeList is  [0, 1, 2, 3, 4, 5, 6, 7, 8, 9, 10, 11]\n",
            "Weights are... {0: array([0.1108385]), 1: array([0.10718598]), 2: array([0.10424764]), 3: array([0.10843758]), 4: array([0.00042314]), 5: array([0.05245126]), 6: array([0.10287642]), 7: array([0.07542456]), 8: array([0.11449239]), 9: array([0.10382553]), 10: array([0.11782753]), 11: array([0.00196948])}\n",
            "The Acc on each client... [0.8550000190734863, 0.8050000071525574, 0.8149999976158142, 0.800000011920929, 0.004999999888241291, 0.4449999928474426, 0.8299999833106995, 0.6150000095367432, 0.8100000023841858, 0.8600000143051147, 0.8550000190734863, 0.02500000037252903]\n",
            "7/7 [==============================] - 0s 4ms/step - loss: 0.4197 - accuracy: 0.8917\n",
            "EPOCHS 15 is starting...\n",
            "8/8 [==============================] - 0s 4ms/step - loss: 0.5646 - accuracy: 0.8378\n",
            "7/7 [==============================] - 0s 3ms/step - loss: 0.3854 - accuracy: 0.8950\n",
            "8/8 [==============================] - 0s 4ms/step - loss: 0.8754 - accuracy: 0.7044\n",
            "7/7 [==============================] - 0s 4ms/step - loss: 0.6406 - accuracy: 0.8000\n",
            "8/8 [==============================] - 0s 5ms/step - loss: 0.6598 - accuracy: 0.8052\n",
            "7/7 [==============================] - 0s 3ms/step - loss: 0.4667 - accuracy: 0.8600\n",
            "8/8 [==============================] - 1s 4ms/step - loss: 0.7319 - accuracy: 0.7386\n",
            "7/7 [==============================] - 0s 3ms/step - loss: 0.7180 - accuracy: 0.7350\n",
            "8/8 [==============================] - 0s 4ms/step - loss: 0.6614 - accuracy: 0.7801\n",
            "7/7 [==============================] - 0s 3ms/step - loss: 7.6170 - accuracy: 0.0000e+00\n",
            "8/8 [==============================] - 0s 4ms/step - loss: 0.8462 - accuracy: 0.6946\n",
            "7/7 [==============================] - 0s 4ms/step - loss: 1.4101 - accuracy: 0.3400\n",
            "8/8 [==============================] - 0s 3ms/step - loss: 0.4896 - accuracy: 0.8609\n",
            "7/7 [==============================] - 0s 3ms/step - loss: 0.5312 - accuracy: 0.8500\n",
            "8/8 [==============================] - 0s 4ms/step - loss: 0.7091 - accuracy: 0.7537\n",
            "7/7 [==============================] - 0s 3ms/step - loss: 1.0905 - accuracy: 0.5700\n",
            "8/8 [==============================] - 0s 4ms/step - loss: 0.4931 - accuracy: 0.8404\n",
            "7/7 [==============================] - 0s 3ms/step - loss: 0.6106 - accuracy: 0.7850\n",
            "8/8 [==============================] - 0s 4ms/step - loss: 0.3374 - accuracy: 0.8877\n",
            "7/7 [==============================] - 0s 4ms/step - loss: 0.3928 - accuracy: 0.8800\n",
            "8/8 [==============================] - 0s 4ms/step - loss: 0.5059 - accuracy: 0.8455\n",
            "7/7 [==============================] - 0s 3ms/step - loss: 0.5194 - accuracy: 0.8500\n",
            "8/8 [==============================] - 0s 4ms/step - loss: 0.8660 - accuracy: 0.7204\n",
            "7/7 [==============================] - 0s 3ms/step - loss: 3.2480 - accuracy: 0.0500\n",
            "FedNodeList is  [0, 1, 2, 3, 4, 5, 6, 7, 8, 9, 10, 11]\n",
            "Weights are... {0: array([0.12019755]), 1: array([0.11566979]), 2: array([0.11324052]), 3: array([0.10356829]), 4: array([0.]), 5: array([0.03455039]), 6: array([0.11235765]), 7: array([0.06724269]), 8: array([0.10197561]), 9: array([0.12155972]), 10: array([0.10563272]), 11: array([0.00400508])}\n",
            "The Acc on each client... [0.8949999809265137, 0.800000011920929, 0.8600000143051147, 0.7350000143051147, 0.0, 0.3400000035762787, 0.8500000238418579, 0.5699999928474426, 0.7850000262260437, 0.8799999952316284, 0.8500000238418579, 0.05000000074505806]\n",
            "7/7 [==============================] - 0s 4ms/step - loss: 0.4336 - accuracy: 0.8368\n",
            "EPOCHS 16 is starting...\n",
            "8/8 [==============================] - 0s 4ms/step - loss: 0.4807 - accuracy: 0.8630\n",
            "7/7 [==============================] - 0s 3ms/step - loss: 0.4623 - accuracy: 0.8500\n",
            "8/8 [==============================] - 0s 4ms/step - loss: 0.6694 - accuracy: 0.7318\n",
            "7/7 [==============================] - 0s 3ms/step - loss: 0.6075 - accuracy: 0.8200\n",
            "8/8 [==============================] - 1s 4ms/step - loss: 0.6257 - accuracy: 0.8083\n",
            "7/7 [==============================] - 0s 3ms/step - loss: 0.5852 - accuracy: 0.8100\n",
            "8/8 [==============================] - 0s 4ms/step - loss: 0.7256 - accuracy: 0.7590\n",
            "7/7 [==============================] - 0s 3ms/step - loss: 0.7382 - accuracy: 0.7650\n",
            "8/8 [==============================] - 0s 3ms/step - loss: 0.5473 - accuracy: 0.8444\n",
            "7/7 [==============================] - 0s 4ms/step - loss: 5.2696 - accuracy: 0.0100\n",
            "8/8 [==============================] - 0s 3ms/step - loss: 0.7022 - accuracy: 0.7531\n",
            "7/7 [==============================] - 0s 3ms/step - loss: 1.3564 - accuracy: 0.4600\n",
            "8/8 [==============================] - 0s 4ms/step - loss: 0.4201 - accuracy: 0.8659\n",
            "7/7 [==============================] - 0s 3ms/step - loss: 0.4170 - accuracy: 0.8750\n",
            "8/8 [==============================] - 0s 4ms/step - loss: 0.7579 - accuracy: 0.7428\n",
            "7/7 [==============================] - 0s 3ms/step - loss: 1.2237 - accuracy: 0.4850\n",
            "8/8 [==============================] - 0s 3ms/step - loss: 0.4749 - accuracy: 0.8172\n",
            "7/7 [==============================] - 0s 3ms/step - loss: 0.5592 - accuracy: 0.8250\n",
            "8/8 [==============================] - 0s 3ms/step - loss: 0.4753 - accuracy: 0.8809\n",
            "7/7 [==============================] - 0s 3ms/step - loss: 0.3641 - accuracy: 0.8650\n",
            "8/8 [==============================] - 0s 4ms/step - loss: 0.4847 - accuracy: 0.8561\n",
            "7/7 [==============================] - 0s 3ms/step - loss: 0.5025 - accuracy: 0.8200\n",
            "8/8 [==============================] - 0s 4ms/step - loss: 0.6531 - accuracy: 0.8007\n",
            "7/7 [==============================] - 0s 3ms/step - loss: 4.1328 - accuracy: 0.0050\n",
            "FedNodeList is  [0, 1, 2, 3, 4, 5, 6, 7, 8, 9, 10, 11]\n",
            "Weights are... {0: array([0.10631936]), 1: array([0.11880424]), 2: array([0.10871203]), 3: array([0.11396493]), 4: array([0.00074525]), 5: array([0.04851265]), 6: array([0.11135199]), 7: array([0.05369705]), 8: array([0.11120805]), 9: array([0.11489818]), 10: array([0.11141564]), 11: array([0.00037063])}\n",
            "The Acc on each client... [0.8500000238418579, 0.8199999928474426, 0.8100000023841858, 0.7649999856948853, 0.009999999776482582, 0.46000000834465027, 0.875, 0.48500001430511475, 0.824999988079071, 0.8650000095367432, 0.8199999928474426, 0.004999999888241291]\n",
            "7/7 [==============================] - 0s 3ms/step - loss: 0.3833 - accuracy: 0.8672\n",
            "EPOCHS 17 is starting...\n",
            "8/8 [==============================] - 0s 4ms/step - loss: 0.4655 - accuracy: 0.8746\n",
            "7/7 [==============================] - 0s 3ms/step - loss: 0.5378 - accuracy: 0.8450\n",
            "8/8 [==============================] - 0s 4ms/step - loss: 0.7519 - accuracy: 0.6966\n",
            "7/7 [==============================] - 0s 3ms/step - loss: 0.6366 - accuracy: 0.7900\n",
            "8/8 [==============================] - 0s 4ms/step - loss: 0.6248 - accuracy: 0.8295\n",
            "7/7 [==============================] - 0s 4ms/step - loss: 0.4363 - accuracy: 0.8750\n",
            "8/8 [==============================] - 0s 3ms/step - loss: 0.7221 - accuracy: 0.7369\n",
            "7/7 [==============================] - 0s 3ms/step - loss: 0.5815 - accuracy: 0.8150\n",
            "8/8 [==============================] - 0s 4ms/step - loss: 0.5699 - accuracy: 0.8227\n",
            "7/7 [==============================] - 0s 3ms/step - loss: 4.5219 - accuracy: 0.1000\n",
            "8/8 [==============================] - 0s 3ms/step - loss: 0.6527 - accuracy: 0.7662\n",
            "7/7 [==============================] - 0s 3ms/step - loss: 1.1021 - accuracy: 0.5000\n",
            "8/8 [==============================] - 0s 4ms/step - loss: 0.3318 - accuracy: 0.8949\n",
            "7/7 [==============================] - 0s 3ms/step - loss: 0.3792 - accuracy: 0.8750\n",
            "8/8 [==============================] - 0s 4ms/step - loss: 0.6862 - accuracy: 0.7469\n",
            "7/7 [==============================] - 0s 3ms/step - loss: 0.9207 - accuracy: 0.6700\n",
            "8/8 [==============================] - 0s 4ms/step - loss: 0.4315 - accuracy: 0.8638\n",
            "7/7 [==============================] - 0s 3ms/step - loss: 0.4771 - accuracy: 0.8450\n",
            "8/8 [==============================] - 0s 4ms/step - loss: 0.4419 - accuracy: 0.9208\n",
            "7/7 [==============================] - 0s 3ms/step - loss: 0.3600 - accuracy: 0.8850\n",
            "8/8 [==============================] - 0s 3ms/step - loss: 0.5654 - accuracy: 0.8095\n",
            "7/7 [==============================] - 0s 3ms/step - loss: 0.5437 - accuracy: 0.8400\n",
            "8/8 [==============================] - 0s 4ms/step - loss: 0.7539 - accuracy: 0.7939\n",
            "7/7 [==============================] - 0s 3ms/step - loss: 3.5593 - accuracy: 0.0050\n",
            "FedNodeList is  [0, 1, 2, 3, 4, 5, 6, 7, 8, 9, 10, 11]\n",
            "Weights are... {0: array([0.11895161]), 1: array([0.10244521]), 2: array([0.11185059]), 3: array([0.11175908]), 4: array([0.0080897]), 5: array([0.05658993]), 6: array([0.10655532]), 7: array([0.06866034]), 8: array([0.09855179]), 9: array([0.11177866]), 10: array([0.10439396]), 11: array([0.00037382])}\n",
            "The Acc on each client... [0.8450000286102295, 0.7900000214576721, 0.875, 0.8149999976158142, 0.10000000149011612, 0.5, 0.875, 0.6700000166893005, 0.8450000286102295, 0.8849999904632568, 0.8399999737739563, 0.004999999888241291]\n",
            "7/7 [==============================] - 0s 3ms/step - loss: 0.3596 - accuracy: 0.8791\n",
            "EPOCHS 18 is starting...\n",
            "8/8 [==============================] - 0s 4ms/step - loss: 0.4497 - accuracy: 0.8801\n",
            "7/7 [==============================] - 0s 3ms/step - loss: 0.4378 - accuracy: 0.8750\n",
            "8/8 [==============================] - 0s 4ms/step - loss: 0.7063 - accuracy: 0.7576\n",
            "7/7 [==============================] - 0s 3ms/step - loss: 0.6184 - accuracy: 0.8300\n",
            "8/8 [==============================] - 0s 4ms/step - loss: 0.5477 - accuracy: 0.8291\n",
            "7/7 [==============================] - 0s 3ms/step - loss: 0.4801 - accuracy: 0.8550\n",
            "8/8 [==============================] - 0s 4ms/step - loss: 0.6657 - accuracy: 0.7622\n",
            "7/7 [==============================] - 0s 4ms/step - loss: 0.8154 - accuracy: 0.7150\n",
            "8/8 [==============================] - 0s 4ms/step - loss: 0.5716 - accuracy: 0.8263\n",
            "7/7 [==============================] - 0s 4ms/step - loss: 4.5923 - accuracy: 0.0350\n",
            "8/8 [==============================] - 0s 4ms/step - loss: 0.5882 - accuracy: 0.8057\n",
            "7/7 [==============================] - 0s 3ms/step - loss: 1.4682 - accuracy: 0.3550\n",
            "8/8 [==============================] - 0s 4ms/step - loss: 0.4090 - accuracy: 0.8718\n",
            "7/7 [==============================] - 0s 3ms/step - loss: 0.4240 - accuracy: 0.8700\n",
            "8/8 [==============================] - 0s 4ms/step - loss: 0.7662 - accuracy: 0.7357\n",
            "7/7 [==============================] - 0s 3ms/step - loss: 0.7975 - accuracy: 0.7300\n",
            "8/8 [==============================] - 0s 4ms/step - loss: 0.4274 - accuracy: 0.8922\n",
            "7/7 [==============================] - 0s 3ms/step - loss: 0.5482 - accuracy: 0.8250\n",
            "8/8 [==============================] - 0s 4ms/step - loss: 0.3332 - accuracy: 0.9110\n",
            "7/7 [==============================] - 0s 3ms/step - loss: 0.3899 - accuracy: 0.8500\n",
            "8/8 [==============================] - 0s 4ms/step - loss: 0.4394 - accuracy: 0.8768\n",
            "7/7 [==============================] - 0s 3ms/step - loss: 0.3685 - accuracy: 0.8900\n",
            "8/8 [==============================] - 1s 4ms/step - loss: 0.7308 - accuracy: 0.7505\n",
            "7/7 [==============================] - 0s 3ms/step - loss: 3.9522 - accuracy: 0.0050\n",
            "FedNodeList is  [0, 1, 2, 3, 4, 5, 6, 7, 8, 9, 10, 11]\n",
            "Weights are... {0: array([0.11144927]), 1: array([0.10947753]), 2: array([0.12273336]), 3: array([0.09443263]), 4: array([0.00267184]), 5: array([0.03906521]), 6: array([0.10240508]), 7: array([0.08564568]), 8: array([0.11569485]), 9: array([0.10999934]), 10: array([0.10608616]), 11: array([0.00033905])}\n",
            "The Acc on each client... [0.875, 0.8299999833106995, 0.8550000190734863, 0.7149999737739563, 0.03500000014901161, 0.35499998927116394, 0.8700000047683716, 0.7300000190734863, 0.824999988079071, 0.8500000238418579, 0.8899999856948853, 0.004999999888241291]\n",
            "7/7 [==============================] - 0s 4ms/step - loss: 0.3534 - accuracy: 0.8837\n",
            "EPOCHS 19 is starting...\n",
            "8/8 [==============================] - 0s 4ms/step - loss: 0.4246 - accuracy: 0.8808\n",
            "7/7 [==============================] - 0s 4ms/step - loss: 0.4722 - accuracy: 0.8450\n",
            "8/8 [==============================] - 0s 3ms/step - loss: 0.7366 - accuracy: 0.7401\n",
            "7/7 [==============================] - 0s 3ms/step - loss: 0.4815 - accuracy: 0.8750\n",
            "8/8 [==============================] - 0s 5ms/step - loss: 0.4995 - accuracy: 0.8300\n",
            "7/7 [==============================] - 0s 3ms/step - loss: 0.5503 - accuracy: 0.8200\n",
            "8/8 [==============================] - 0s 4ms/step - loss: 0.5488 - accuracy: 0.7719\n",
            "7/7 [==============================] - 0s 3ms/step - loss: 0.6957 - accuracy: 0.7500\n",
            "8/8 [==============================] - 0s 4ms/step - loss: 0.7160 - accuracy: 0.7695\n",
            "7/7 [==============================] - 0s 4ms/step - loss: 4.8754 - accuracy: 0.0400\n",
            "8/8 [==============================] - 0s 4ms/step - loss: 0.7596 - accuracy: 0.7536\n",
            "7/7 [==============================] - 0s 3ms/step - loss: 1.2843 - accuracy: 0.4350\n",
            "8/8 [==============================] - 0s 4ms/step - loss: 0.3366 - accuracy: 0.9060\n",
            "7/7 [==============================] - 0s 3ms/step - loss: 0.4003 - accuracy: 0.8550\n",
            "8/8 [==============================] - 0s 4ms/step - loss: 0.8157 - accuracy: 0.7071\n",
            "7/7 [==============================] - 0s 3ms/step - loss: 0.8792 - accuracy: 0.6600\n",
            "8/8 [==============================] - 0s 4ms/step - loss: 0.4664 - accuracy: 0.8433\n",
            "7/7 [==============================] - 0s 3ms/step - loss: 0.4989 - accuracy: 0.8400\n",
            "8/8 [==============================] - 0s 3ms/step - loss: 0.3208 - accuracy: 0.9394\n",
            "7/7 [==============================] - 0s 3ms/step - loss: 0.3438 - accuracy: 0.8850\n",
            "8/8 [==============================] - 1s 4ms/step - loss: 0.4092 - accuracy: 0.8610\n",
            "7/7 [==============================] - 0s 3ms/step - loss: 0.3352 - accuracy: 0.8900\n",
            "8/8 [==============================] - 0s 4ms/step - loss: 0.6818 - accuracy: 0.7740\n",
            "7/7 [==============================] - 0s 3ms/step - loss: 4.3633 - accuracy: 0.0050\n",
            "FedNodeList is  [0, 1, 2, 3, 4, 5, 6, 7, 8, 9, 10, 11]\n",
            "Weights are... {0: array([0.11692771]), 1: array([0.11691763]), 2: array([0.10282919]), 3: array([0.0889918]), 4: array([0.00280118]), 5: array([0.04350365]), 6: array([0.11018648]), 7: array([0.07458605]), 8: array([0.10574258]), 9: array([0.11966115]), 10: array([0.11749418]), 11: array([0.0003584])}\n",
            "The Acc on each client... [0.8450000286102295, 0.875, 0.8199999928474426, 0.75, 0.03999999910593033, 0.4350000023841858, 0.8550000190734863, 0.6600000262260437, 0.8399999737739563, 0.8849999904632568, 0.8899999856948853, 0.004999999888241291]\n",
            "7/7 [==============================] - 0s 3ms/step - loss: 0.3404 - accuracy: 0.8936\n"
          ],
          "name": "stdout"
        }
      ]
    },
    {
      "cell_type": "code",
      "metadata": {
        "colab": {
          "base_uri": "https://localhost:8080/"
        },
        "id": "SN_x_DiAUfqb",
        "outputId": "20a37309-0b29-42ab-a5f8-ca7212d4043b"
      },
      "source": [
        "WeightsEachEpoche"
      ],
      "execution_count": 60,
      "outputs": [
        {
          "output_type": "execute_result",
          "data": {
            "text/plain": [
              "[{0: array([0.]),\n",
              "  1: array([0.]),\n",
              "  2: array([0.]),\n",
              "  3: array([0.]),\n",
              "  4: array([0.42381191]),\n",
              "  5: array([0.03464526]),\n",
              "  6: array([0.]),\n",
              "  7: array([0.]),\n",
              "  8: array([0.54154283]),\n",
              "  9: array([0.]),\n",
              "  10: array([0.]),\n",
              "  11: array([0.])},\n",
              " {0: array([0.]),\n",
              "  1: array([0.00532744]),\n",
              "  2: array([0.]),\n",
              "  3: array([0.]),\n",
              "  4: array([0.30509825]),\n",
              "  5: array([0.23902556]),\n",
              "  6: array([0.]),\n",
              "  7: array([0.07246714]),\n",
              "  8: array([0.20034362]),\n",
              "  9: array([0.]),\n",
              "  10: array([0.17773798]),\n",
              "  11: array([0.])},\n",
              " {0: array([0.]),\n",
              "  1: array([0.16892834]),\n",
              "  2: array([0.]),\n",
              "  3: array([0.0090521]),\n",
              "  4: array([0.17818937]),\n",
              "  5: array([0.18789113]),\n",
              "  6: array([0.]),\n",
              "  7: array([0.15475395]),\n",
              "  8: array([0.14434162]),\n",
              "  9: array([0.]),\n",
              "  10: array([0.15684349]),\n",
              "  11: array([0.])},\n",
              " {0: array([0.]),\n",
              "  1: array([0.1156111]),\n",
              "  2: array([0.]),\n",
              "  3: array([0.05923383]),\n",
              "  4: array([0.14661067]),\n",
              "  5: array([0.17033132]),\n",
              "  6: array([0.]),\n",
              "  7: array([0.1780402]),\n",
              "  8: array([0.19844349]),\n",
              "  9: array([0.]),\n",
              "  10: array([0.13172939]),\n",
              "  11: array([0.])},\n",
              " {0: array([0.]),\n",
              "  1: array([0.16585846]),\n",
              "  2: array([0.]),\n",
              "  3: array([0.08456694]),\n",
              "  4: array([0.14575741]),\n",
              "  5: array([0.17353157]),\n",
              "  6: array([0.]),\n",
              "  7: array([0.12635137]),\n",
              "  8: array([0.17369531]),\n",
              "  9: array([0.]),\n",
              "  10: array([0.12444017]),\n",
              "  11: array([0.00579877])},\n",
              " {0: array([0.]),\n",
              "  1: array([0.1422235]),\n",
              "  2: array([0.]),\n",
              "  3: array([0.11273944]),\n",
              "  4: array([0.16591677]),\n",
              "  5: array([0.16621965]),\n",
              "  6: array([0.]),\n",
              "  7: array([0.10710559]),\n",
              "  8: array([0.15901667]),\n",
              "  9: array([0.]),\n",
              "  10: array([0.14677837]),\n",
              "  11: array([0.])},\n",
              " {0: array([0.]),\n",
              "  1: array([0.11306006]),\n",
              "  2: array([0.]),\n",
              "  3: array([0.11656615]),\n",
              "  4: array([0.13315352]),\n",
              "  5: array([0.16210537]),\n",
              "  6: array([0.]),\n",
              "  7: array([0.14420501]),\n",
              "  8: array([0.14251895]),\n",
              "  9: array([0.]),\n",
              "  10: array([0.18839093]),\n",
              "  11: array([0.])},\n",
              " {0: array([0.00909974]),\n",
              "  1: array([0.11446217]),\n",
              "  2: array([0.]),\n",
              "  3: array([0.11230182]),\n",
              "  4: array([0.13752845]),\n",
              "  5: array([0.17898661]),\n",
              "  6: array([0.]),\n",
              "  7: array([0.14132414]),\n",
              "  8: array([0.16388185]),\n",
              "  9: array([0.]),\n",
              "  10: array([0.13004329]),\n",
              "  11: array([0.01237192])},\n",
              " {0: array([0.03761527]),\n",
              "  1: array([0.11703432]),\n",
              "  2: array([0.]),\n",
              "  3: array([0.05383275]),\n",
              "  4: array([0.16247892]),\n",
              "  5: array([0.14431537]),\n",
              "  6: array([0.]),\n",
              "  7: array([0.13070178]),\n",
              "  8: array([0.19944608]),\n",
              "  9: array([0.]),\n",
              "  10: array([0.14883939]),\n",
              "  11: array([0.00573614])},\n",
              " {0: array([0.02862267]),\n",
              "  1: array([0.09780928]),\n",
              "  2: array([0.]),\n",
              "  3: array([0.08694625]),\n",
              "  4: array([0.15969904]),\n",
              "  5: array([0.17611997]),\n",
              "  6: array([0.]),\n",
              "  7: array([0.14090475]),\n",
              "  8: array([0.16401281]),\n",
              "  9: array([0.]),\n",
              "  10: array([0.13094345]),\n",
              "  11: array([0.01494176])},\n",
              " {0: array([0.00463612]),\n",
              "  1: array([0.11861519]),\n",
              "  2: array([0.]),\n",
              "  3: array([0.10714327]),\n",
              "  4: array([0.15514173]),\n",
              "  5: array([0.16504284]),\n",
              "  6: array([0.]),\n",
              "  7: array([0.13751237]),\n",
              "  8: array([0.15748936]),\n",
              "  9: array([0.]),\n",
              "  10: array([0.14449621]),\n",
              "  11: array([0.00992291])},\n",
              " {0: array([0.04156297]),\n",
              "  1: array([0.13338095]),\n",
              "  2: array([0.]),\n",
              "  3: array([0.06633697]),\n",
              "  4: array([0.14569255]),\n",
              "  5: array([0.15425566]),\n",
              "  6: array([0.]),\n",
              "  7: array([0.15661164]),\n",
              "  8: array([0.1489308]),\n",
              "  9: array([0.]),\n",
              "  10: array([0.12555234]),\n",
              "  11: array([0.02767613])},\n",
              " {0: array([0.0409969]),\n",
              "  1: array([0.12188427]),\n",
              "  2: array([0.]),\n",
              "  3: array([0.10132092]),\n",
              "  4: array([0.15273633]),\n",
              "  5: array([0.13921247]),\n",
              "  6: array([0.]),\n",
              "  7: array([0.13828405]),\n",
              "  8: array([0.13233417]),\n",
              "  9: array([0.]),\n",
              "  10: array([0.14527545]),\n",
              "  11: array([0.02795544])},\n",
              " {0: array([0.04035347]),\n",
              "  1: array([0.11365971]),\n",
              "  2: array([0.]),\n",
              "  3: array([0.11352066]),\n",
              "  4: array([0.13801115]),\n",
              "  5: array([0.16036406]),\n",
              "  6: array([0.]),\n",
              "  7: array([0.13306456]),\n",
              "  8: array([0.13750737]),\n",
              "  9: array([0.]),\n",
              "  10: array([0.14342713]),\n",
              "  11: array([0.02009189])},\n",
              " {0: array([0.03555581]),\n",
              "  1: array([0.1416708]),\n",
              "  2: array([0.]),\n",
              "  3: array([0.11967976]),\n",
              "  4: array([0.12262994]),\n",
              "  5: array([0.15510091]),\n",
              "  6: array([0.]),\n",
              "  7: array([0.11981116]),\n",
              "  8: array([0.13850453]),\n",
              "  9: array([0.]),\n",
              "  10: array([0.15417692]),\n",
              "  11: array([0.01287018])},\n",
              " {0: array([0.03012853]),\n",
              "  1: array([0.13090001]),\n",
              "  2: array([0.]),\n",
              "  3: array([0.11787406]),\n",
              "  4: array([0.13328411]),\n",
              "  5: array([0.13109472]),\n",
              "  6: array([0.]),\n",
              "  7: array([0.14884991]),\n",
              "  8: array([0.13767223]),\n",
              "  9: array([0.]),\n",
              "  10: array([0.15165887]),\n",
              "  11: array([0.01853755])},\n",
              " {0: array([0.02369517]),\n",
              "  1: array([0.09951511]),\n",
              "  2: array([0.]),\n",
              "  3: array([0.11364938]),\n",
              "  4: array([0.14521581]),\n",
              "  5: array([0.16580925]),\n",
              "  6: array([0.]),\n",
              "  7: array([0.11340194]),\n",
              "  8: array([0.1700941]),\n",
              "  9: array([0.]),\n",
              "  10: array([0.14042411]),\n",
              "  11: array([0.02819512])},\n",
              " {0: array([0.04013717]),\n",
              "  1: array([0.15134016]),\n",
              "  2: array([0.]),\n",
              "  3: array([0.07015217]),\n",
              "  4: array([0.15162473]),\n",
              "  5: array([0.12526719]),\n",
              "  6: array([0.]),\n",
              "  7: array([0.13662217]),\n",
              "  8: array([0.15742069]),\n",
              "  9: array([0.]),\n",
              "  10: array([0.14968325]),\n",
              "  11: array([0.01775247])},\n",
              " {0: array([0.05696671]),\n",
              "  1: array([0.11724506]),\n",
              "  2: array([0.]),\n",
              "  3: array([0.09198085]),\n",
              "  4: array([0.14773969]),\n",
              "  5: array([0.14117922]),\n",
              "  6: array([0.]),\n",
              "  7: array([0.12882352]),\n",
              "  8: array([0.14549213]),\n",
              "  9: array([0.]),\n",
              "  10: array([0.15952125]),\n",
              "  11: array([0.01105158])},\n",
              " {0: array([0.02241562]),\n",
              "  1: array([0.13338109]),\n",
              "  2: array([0.]),\n",
              "  3: array([0.13109742]),\n",
              "  4: array([0.1283978]),\n",
              "  5: array([0.1406831]),\n",
              "  6: array([0.]),\n",
              "  7: array([0.12284292]),\n",
              "  8: array([0.14411018]),\n",
              "  9: array([0.]),\n",
              "  10: array([0.13465512]),\n",
              "  11: array([0.04241676])}]"
            ]
          },
          "metadata": {
            "tags": []
          },
          "execution_count": 60
        }
      ]
    },
    {
      "cell_type": "code",
      "metadata": {
        "colab": {
          "base_uri": "https://localhost:8080/",
          "height": 295
        },
        "id": "MlX5KEebHTeY",
        "outputId": "8c48883a-5d89-4161-dc9b-7e3f935e1b33"
      },
      "source": [
        "#deal the data\n",
        "S_acc =[S.loss_acc[i][1]*100 for i in range(len(S.loss_acc))]\n",
        "S_loss =[S.loss_acc[i][0] for i in range(len(S.loss_acc))]\n",
        "\n",
        "#prepare show image\n",
        "x = np.arange(len(S.loss_acc)).astype(dtype=np.str)\n",
        "fig = plt.figure()\n",
        "ax1 = fig.add_subplot(111)\n",
        "acc = ax1.plot(x,S_acc,'r',label='Acc')\n",
        "ax1.set_ylabel('Acc')\n",
        "ax1.set_xlabel(\"Epoches\")\n",
        "ax1.set_title('Acc-Loss')\n",
        "\n",
        "ax2 = ax1.twinx()\n",
        "loss = ax2.plot(x,S_loss,label='Loss')\n",
        "ax2.set_ylabel('Loss')\n",
        "\n",
        "\n",
        "lns = acc+loss\n",
        "labs = [l.get_label() for l in lns]\n",
        "ax2.legend(lns,labs)\n",
        "plt.show()"
      ],
      "execution_count": 67,
      "outputs": [
        {
          "output_type": "display_data",
          "data": {
            "image/png": "[encoded data removed]",
            "text/plain": [
              "<Figure size 432x288 with 2 Axes>"
            ]
          },
          "metadata": {
            "tags": [],
            "needs_background": "light"
          }
        }
      ]
    },
    {
      "cell_type": "code",
      "metadata": {
        "colab": {
          "base_uri": "https://localhost:8080/"
        },
        "id": "lXC1RS38HTXb",
        "outputId": "1240a654-5596-48af-f382-41688c9b068b"
      },
      "source": [
        "NodeList"
      ],
      "execution_count": 23,
      "outputs": [
        {
          "output_type": "execute_result",
          "data": {
            "text/plain": [
              "[[0, 1, 2, 3, 4, 5, 6, 7, 8, 9, 10, 11],\n",
              " [0, 1, 2, 3, 4, 5, 6, 7, 8, 9, 10, 11],\n",
              " [0, 1, 2, 3, 4, 5, 6, 7, 8, 9, 10, 11],\n",
              " [0, 1, 2, 3, 4, 5, 6, 7, 8, 9, 10, 11],\n",
              " [0, 1, 2, 3, 4, 5, 6, 7, 8, 9, 10, 11],\n",
              " [0, 1, 2, 3, 4, 5, 6, 7, 8, 9, 10, 11],\n",
              " [0, 1, 2, 3, 4, 5, 6, 7, 8, 9, 10, 11],\n",
              " [0, 1, 2, 3, 4, 5, 6, 7, 8, 9, 10, 11],\n",
              " [0, 1, 2, 3, 4, 5, 6, 7, 8, 9, 10, 11],\n",
              " [0, 1, 2, 3, 4, 5, 6, 7, 8, 9, 10, 11],\n",
              " [0, 1, 2, 3, 4, 5, 6, 7, 8, 9, 10, 11],\n",
              " [0, 1, 2, 3, 4, 5, 6, 7, 8, 9, 10, 11],\n",
              " [0, 1, 2, 3, 4, 5, 6, 7, 8, 9, 10, 11],\n",
              " [0, 1, 2, 3, 4, 5, 6, 7, 8, 9, 10, 11],\n",
              " [0, 1, 2, 3, 4, 5, 6, 7, 8, 9, 10, 11],\n",
              " [0, 1, 2, 3, 4, 5, 6, 7, 8, 9, 10, 11],\n",
              " [0, 1, 2, 3, 4, 5, 6, 7, 8, 9, 10, 11],\n",
              " [0, 1, 2, 3, 4, 5, 6, 7, 8, 9, 10, 11],\n",
              " [0, 1, 2, 3, 4, 5, 6, 7, 8, 9, 10, 11],\n",
              " [0, 1, 2, 3, 4, 5, 6, 7, 8, 9, 10, 11]]"
            ]
          },
          "metadata": {
            "tags": []
          },
          "execution_count": 23
        }
      ]
    },
    {
      "cell_type": "code",
      "metadata": {
        "colab": {
          "base_uri": "https://localhost:8080/",
          "height": 279
        },
        "id": "LM3n47YxHTNn",
        "outputId": "1f02d031-a516-47fd-a1c9-bd3d7f5f9ca0"
      },
      "source": [
        "#deal the data\n",
        "img = np.ones(shape=(NUM_CLIENTS,NUM_EPOCHS),dtype=int)\n",
        "for i in range(len(NodeList)):\n",
        "  for j in NodeList[i]:\n",
        "    img[j][i]=0\n",
        "#prepare show image\n",
        "len_n = len(S.loss_acc)\n",
        "ax = plt.gca()\n",
        "ax.set_ylim(-0.5,NUM_CLIENTS-0.5)\n",
        "ax.set_xlim(-0.5,9.5)\n",
        "miloc = plt.MultipleLocator(1)\n",
        "ax.xaxis.set_minor_locator(miloc)\n",
        "plt.grid()\n",
        "plt.title(\"Nodes in each epoch\")\n",
        "plt.imshow(img*255,cmap='gray')\n",
        "plt.axis('on')\n",
        "plt.xlabel('Epochs')\n",
        "plt.ylabel('Nodes')\n",
        "y = np.arange(0.5,NUM_CLIENTS+0.5,1)\n",
        "x = np.arange(0.5,NUM_EPOCHS+0.5,1)\n",
        "plt.xticks()\n",
        "plt.yticks(y,(int(i-0.5) for i in y))\n",
        "plt.xticks(x,(int(i-0.5) for i in x))\n",
        "plt.show()"
      ],
      "execution_count": 55,
      "outputs": [
        {
          "output_type": "display_data",
          "data": {
            "image/png": "[encoded data removed]",
            "text/plain": [
              "<Figure size 432x288 with 1 Axes>"
            ]
          },
          "metadata": {
            "tags": [],
            "needs_background": "light"
          }
        }
      ]
    },
    {
      "cell_type": "markdown",
      "metadata": {
        "id": "i2axuRBsO6V7"
      },
      "source": [
        "# 阶段四：设置对照组，即普通的FedAvg"
      ]
    },
    {
      "cell_type": "code",
      "metadata": {
        "id": "wwI_gLjwO5w4"
      },
      "source": [
        "def FedAvg_Baseline(NUM_CLIENTS,model):\n",
        "  iterModel = model.copy()\n",
        "  len_it = len(iterModel.trainable_variables)\n",
        "  all_weights = []\n",
        "  for weights_index in range(len_it):\n",
        "    tmp =np.zeros(iterModel.trainable_variables[weights_index].numpy().shape,dtype='float64')\n",
        "    for node in range(NUM_CLIENTS):\n",
        "      tmp += clients[node].model.trainable_variables[weights_index].numpy()\n",
        "    all_weights.append(tmp/NUM_CLIENTS)\n",
        "  # print(all_weights)\n",
        "  iterModel_vars = iterModel.trainable_variables\n",
        "  for iter_v,n in zip(iterModel_vars,all_weights):\n",
        "    iter_v.assign(n)\n",
        "  return iterModel"
      ],
      "execution_count": 25,
      "outputs": []
    },
    {
      "cell_type": "code",
      "metadata": {
        "colab": {
          "base_uri": "https://localhost:8080/"
        },
        "id": "X5o0nVueO0m7",
        "outputId": "39b176ba-2f85-4863-91b0-fc1cc62263df"
      },
      "source": [
        "InitModel = FLModel(row=28,col=28,num_classes=CLASS_NUM)\n",
        "S2 = ParamServer(\"\")\n",
        "S2.PreEval(InitModel,validation_data)\n",
        "SendModel = InitModel"
      ],
      "execution_count": 68,
      "outputs": [
        {
          "output_type": "stream",
          "text": [
            "7/7 [==============================] - 0s 2ms/step - loss: 2.3944 - accuracy: 0.0746\n"
          ],
          "name": "stdout"
        }
      ]
    },
    {
      "cell_type": "code",
      "metadata": {
        "colab": {
          "base_uri": "https://localhost:8080/"
        },
        "id": "KW2JdgUEP0C5",
        "outputId": "e2fec499-0c74-4ab2-dce2-ddbd39cc158f"
      },
      "source": [
        "SendModel = S2.PreTrain(InitModel,DigitDataSet[0][0:200],DigitDataSet[1][0:200],epochs=1)\n",
        "S2.PreEval(SendModel,validation_data)"
      ],
      "execution_count": null,
      "outputs": [
        {
          "output_type": "stream",
          "text": [
            "7/7 [==============================] - 0s 4ms/step - loss: 2.3702 - accuracy: 0.1414\n",
            "7/7 [==============================] - 0s 3ms/step - loss: 2.1797 - accuracy: 0.2646\n"
          ],
          "name": "stdout"
        }
      ]
    },
    {
      "cell_type": "code",
      "metadata": {
        "colab": {
          "base_uri": "https://localhost:8080/"
        },
        "id": "dejoUrZlPz5l",
        "outputId": "f5e1687f-45de-4d6f-97e8-b206b42bb091"
      },
      "source": [
        "for e in range(NUM_EPOCHS):\n",
        "  print(\"EPOCHS {} is starting...\".format(e))\n",
        "  for i in range(NUM_CLIENTS):\n",
        "    clients[i].ReceiveModel(SendModel.copy())\n",
        "    clients[i].NodeTrain()\n",
        "    # clients[i].NodeEval()\n",
        "    # DIS.append(Distance(SendModel,clients[i].model))\n",
        "  FedModel = FedAvg_Baseline(NUM_CLIENTS,SendModel)\n",
        "  S2.PreEval(FedModel,validation_sever)\n",
        "  SendModel = FedModel.copy()"
      ],
      "execution_count": 69,
      "outputs": [
        {
          "output_type": "stream",
          "text": [
            "EPOCHS 0 is starting...\n",
            "8/8 [==============================] - 0s 3ms/step - loss: 2.3761 - accuracy: 0.1811\n",
            "8/8 [==============================] - 0s 3ms/step - loss: 2.3318 - accuracy: 0.2173\n",
            "8/8 [==============================] - 0s 4ms/step - loss: 2.3825 - accuracy: 0.1491\n",
            "8/8 [==============================] - 0s 3ms/step - loss: 2.3377 - accuracy: 0.1804\n",
            "8/8 [==============================] - 0s 3ms/step - loss: 2.0352 - accuracy: 0.5886\n",
            "8/8 [==============================] - 0s 3ms/step - loss: 2.1188 - accuracy: 0.5243\n",
            "8/8 [==============================] - 0s 4ms/step - loss: 2.3795 - accuracy: 0.1434\n",
            "8/8 [==============================] - 0s 3ms/step - loss: 2.2339 - accuracy: 0.3288\n",
            "8/8 [==============================] - 0s 3ms/step - loss: 2.3845 - accuracy: 0.1126\n",
            "8/8 [==============================] - 0s 4ms/step - loss: 2.3708 - accuracy: 0.1315\n",
            "8/8 [==============================] - 1s 3ms/step - loss: 2.3744 - accuracy: 0.1352\n",
            "8/8 [==============================] - 0s 3ms/step - loss: 2.0501 - accuracy: 0.6054\n",
            "7/7 [==============================] - 0s 2ms/step - loss: 2.5495 - accuracy: 0.0000e+00\n",
            "EPOCHS 1 is starting...\n",
            "8/8 [==============================] - 0s 3ms/step - loss: 2.3698 - accuracy: 0.1756\n",
            "8/8 [==============================] - 0s 3ms/step - loss: 2.1084 - accuracy: 0.3691\n",
            "8/8 [==============================] - 0s 3ms/step - loss: 2.2613 - accuracy: 0.2072\n",
            "8/8 [==============================] - 0s 3ms/step - loss: 2.0727 - accuracy: 0.3780\n",
            "8/8 [==============================] - 0s 3ms/step - loss: 0.9129 - accuracy: 0.9466\n",
            "8/8 [==============================] - 0s 3ms/step - loss: 1.3270 - accuracy: 0.7813\n",
            "8/8 [==============================] - 0s 3ms/step - loss: 2.3959 - accuracy: 0.1233\n",
            "8/8 [==============================] - 0s 3ms/step - loss: 1.7308 - accuracy: 0.6080\n",
            "8/8 [==============================] - 0s 3ms/step - loss: 2.2772 - accuracy: 0.1896\n",
            "8/8 [==============================] - 0s 3ms/step - loss: 2.3995 - accuracy: 0.1053\n",
            "8/8 [==============================] - 0s 3ms/step - loss: 2.3929 - accuracy: 0.1259\n",
            "8/8 [==============================] - 1s 3ms/step - loss: 0.9524 - accuracy: 0.9055\n",
            "7/7 [==============================] - 0s 3ms/step - loss: 2.4055 - accuracy: 0.0000e+00\n",
            "EPOCHS 2 is starting...\n",
            "8/8 [==============================] - 0s 3ms/step - loss: 2.1538 - accuracy: 0.2800\n",
            "8/8 [==============================] - 0s 3ms/step - loss: 2.0262 - accuracy: 0.3583\n",
            "8/8 [==============================] - 0s 3ms/step - loss: 2.1579 - accuracy: 0.2384\n",
            "8/8 [==============================] - 0s 3ms/step - loss: 1.9236 - accuracy: 0.4161\n",
            "8/8 [==============================] - 0s 3ms/step - loss: 0.8304 - accuracy: 0.9400\n",
            "8/8 [==============================] - 0s 3ms/step - loss: 1.2383 - accuracy: 0.7672\n",
            "8/8 [==============================] - 0s 3ms/step - loss: 2.2115 - accuracy: 0.2391\n",
            "8/8 [==============================] - 0s 4ms/step - loss: 1.6686 - accuracy: 0.5661\n",
            "8/8 [==============================] - 0s 3ms/step - loss: 2.2220 - accuracy: 0.2175\n",
            "8/8 [==============================] - 0s 3ms/step - loss: 2.2257 - accuracy: 0.1760\n",
            "8/8 [==============================] - 0s 3ms/step - loss: 2.1986 - accuracy: 0.2370\n",
            "8/8 [==============================] - 0s 4ms/step - loss: 0.9088 - accuracy: 0.9080\n",
            "7/7 [==============================] - 0s 3ms/step - loss: 2.2666 - accuracy: 0.0303\n",
            "EPOCHS 3 is starting...\n",
            "8/8 [==============================] - 0s 3ms/step - loss: 1.9291 - accuracy: 0.3366\n",
            "8/8 [==============================] - 0s 3ms/step - loss: 1.8056 - accuracy: 0.3913\n",
            "8/8 [==============================] - 0s 3ms/step - loss: 1.8751 - accuracy: 0.3496\n",
            "8/8 [==============================] - 0s 3ms/step - loss: 1.7697 - accuracy: 0.4306\n",
            "8/8 [==============================] - 0s 3ms/step - loss: 0.6797 - accuracy: 0.9484\n",
            "8/8 [==============================] - 0s 3ms/step - loss: 1.0936 - accuracy: 0.7612\n",
            "8/8 [==============================] - 0s 3ms/step - loss: 2.0618 - accuracy: 0.3195\n",
            "8/8 [==============================] - 0s 3ms/step - loss: 1.4401 - accuracy: 0.6113\n",
            "8/8 [==============================] - 0s 3ms/step - loss: 1.9507 - accuracy: 0.3221\n",
            "8/8 [==============================] - 0s 3ms/step - loss: 2.0134 - accuracy: 0.3163\n",
            "8/8 [==============================] - 0s 3ms/step - loss: 2.0049 - accuracy: 0.3421\n",
            "8/8 [==============================] - 0s 3ms/step - loss: 0.7206 - accuracy: 0.9167\n",
            "7/7 [==============================] - 0s 3ms/step - loss: 1.8737 - accuracy: 0.2283\n",
            "EPOCHS 4 is starting...\n",
            "8/8 [==============================] - 0s 3ms/step - loss: 1.5587 - accuracy: 0.5525\n",
            "8/8 [==============================] - 0s 3ms/step - loss: 1.5643 - accuracy: 0.4910\n",
            "8/8 [==============================] - 0s 3ms/step - loss: 1.6257 - accuracy: 0.4741\n",
            "8/8 [==============================] - 0s 3ms/step - loss: 1.6481 - accuracy: 0.4587\n",
            "8/8 [==============================] - 0s 3ms/step - loss: 0.6295 - accuracy: 0.9014\n",
            "8/8 [==============================] - 0s 3ms/step - loss: 0.9220 - accuracy: 0.7916\n",
            "8/8 [==============================] - 0s 3ms/step - loss: 1.7567 - accuracy: 0.4270\n",
            "8/8 [==============================] - 0s 3ms/step - loss: 1.3584 - accuracy: 0.6130\n",
            "8/8 [==============================] - 0s 3ms/step - loss: 1.7059 - accuracy: 0.4739\n",
            "8/8 [==============================] - 0s 3ms/step - loss: 1.6605 - accuracy: 0.4957\n",
            "8/8 [==============================] - 0s 3ms/step - loss: 1.6753 - accuracy: 0.5052\n",
            "8/8 [==============================] - 0s 3ms/step - loss: 0.7072 - accuracy: 0.9135\n",
            "7/7 [==============================] - 0s 3ms/step - loss: 1.5917 - accuracy: 0.3733\n",
            "EPOCHS 5 is starting...\n",
            "8/8 [==============================] - 0s 3ms/step - loss: 1.2878 - accuracy: 0.5833\n",
            "8/8 [==============================] - 0s 3ms/step - loss: 1.3495 - accuracy: 0.5461\n",
            "8/8 [==============================] - 0s 5ms/step - loss: 1.3894 - accuracy: 0.5600\n",
            "8/8 [==============================] - 0s 3ms/step - loss: 1.4051 - accuracy: 0.5665\n",
            "8/8 [==============================] - 0s 3ms/step - loss: 0.4954 - accuracy: 0.9308\n",
            "8/8 [==============================] - 0s 3ms/step - loss: 0.8760 - accuracy: 0.7750\n",
            "8/8 [==============================] - 0s 3ms/step - loss: 1.3904 - accuracy: 0.5860\n",
            "8/8 [==============================] - 0s 3ms/step - loss: 1.2565 - accuracy: 0.6162\n",
            "8/8 [==============================] - 0s 3ms/step - loss: 1.4068 - accuracy: 0.5727\n",
            "8/8 [==============================] - 0s 3ms/step - loss: 1.2415 - accuracy: 0.6257\n",
            "8/8 [==============================] - 0s 3ms/step - loss: 1.3925 - accuracy: 0.5508\n",
            "8/8 [==============================] - 0s 3ms/step - loss: 0.6356 - accuracy: 0.8561\n",
            "7/7 [==============================] - 0s 3ms/step - loss: 1.2963 - accuracy: 0.4907\n",
            "EPOCHS 6 is starting...\n",
            "8/8 [==============================] - 0s 3ms/step - loss: 1.1928 - accuracy: 0.6077\n",
            "8/8 [==============================] - 0s 3ms/step - loss: 1.1504 - accuracy: 0.6107\n",
            "8/8 [==============================] - 0s 3ms/step - loss: 1.2397 - accuracy: 0.5915\n",
            "8/8 [==============================] - 0s 3ms/step - loss: 1.2544 - accuracy: 0.5497\n",
            "8/8 [==============================] - 0s 3ms/step - loss: 0.5245 - accuracy: 0.9110\n",
            "8/8 [==============================] - 0s 5ms/step - loss: 0.7870 - accuracy: 0.8232\n",
            "8/8 [==============================] - 0s 3ms/step - loss: 1.1472 - accuracy: 0.6580\n",
            "8/8 [==============================] - 0s 3ms/step - loss: 1.0026 - accuracy: 0.6653\n",
            "8/8 [==============================] - 0s 3ms/step - loss: 1.2787 - accuracy: 0.6124\n",
            "8/8 [==============================] - 0s 3ms/step - loss: 1.0634 - accuracy: 0.6132\n",
            "8/8 [==============================] - 0s 3ms/step - loss: 1.1190 - accuracy: 0.6418\n",
            "8/8 [==============================] - 0s 3ms/step - loss: 0.6449 - accuracy: 0.8094\n",
            "7/7 [==============================] - 0s 3ms/step - loss: 1.0238 - accuracy: 0.7050\n",
            "EPOCHS 7 is starting...\n",
            "8/8 [==============================] - 0s 3ms/step - loss: 0.8810 - accuracy: 0.7149\n",
            "8/8 [==============================] - 0s 3ms/step - loss: 1.0809 - accuracy: 0.6527\n",
            "8/8 [==============================] - 0s 4ms/step - loss: 1.1145 - accuracy: 0.6124\n",
            "8/8 [==============================] - 0s 3ms/step - loss: 1.0854 - accuracy: 0.5724\n",
            "8/8 [==============================] - 0s 3ms/step - loss: 0.5630 - accuracy: 0.8801\n",
            "8/8 [==============================] - 0s 3ms/step - loss: 0.7181 - accuracy: 0.8026\n",
            "8/8 [==============================] - 0s 3ms/step - loss: 1.0382 - accuracy: 0.6696\n",
            "8/8 [==============================] - 0s 3ms/step - loss: 1.0966 - accuracy: 0.6272\n",
            "8/8 [==============================] - 0s 4ms/step - loss: 1.0007 - accuracy: 0.6249\n",
            "8/8 [==============================] - 0s 3ms/step - loss: 0.9705 - accuracy: 0.7006\n",
            "8/8 [==============================] - 0s 3ms/step - loss: 0.9866 - accuracy: 0.7126\n",
            "8/8 [==============================] - 0s 3ms/step - loss: 0.7187 - accuracy: 0.7803\n",
            "7/7 [==============================] - 0s 3ms/step - loss: 1.0164 - accuracy: 0.6524\n",
            "EPOCHS 8 is starting...\n",
            "8/8 [==============================] - 0s 3ms/step - loss: 0.8371 - accuracy: 0.7028\n",
            "8/8 [==============================] - 0s 3ms/step - loss: 1.0463 - accuracy: 0.6564\n",
            "8/8 [==============================] - 0s 3ms/step - loss: 0.9706 - accuracy: 0.6811\n",
            "8/8 [==============================] - 0s 3ms/step - loss: 1.0642 - accuracy: 0.5840\n",
            "8/8 [==============================] - 0s 3ms/step - loss: 0.5616 - accuracy: 0.8485\n",
            "8/8 [==============================] - 1s 3ms/step - loss: 0.7437 - accuracy: 0.8131\n",
            "8/8 [==============================] - 0s 3ms/step - loss: 0.9691 - accuracy: 0.7239\n",
            "8/8 [==============================] - 0s 3ms/step - loss: 0.9257 - accuracy: 0.6922\n",
            "8/8 [==============================] - 0s 3ms/step - loss: 0.9691 - accuracy: 0.7183\n",
            "8/8 [==============================] - 0s 3ms/step - loss: 0.9183 - accuracy: 0.7099\n",
            "8/8 [==============================] - 0s 3ms/step - loss: 1.0061 - accuracy: 0.6943\n",
            "8/8 [==============================] - 0s 3ms/step - loss: 0.4810 - accuracy: 0.8975\n",
            "7/7 [==============================] - 0s 3ms/step - loss: 0.7567 - accuracy: 0.8009\n",
            "EPOCHS 9 is starting...\n",
            "8/8 [==============================] - 0s 3ms/step - loss: 0.7806 - accuracy: 0.7678\n",
            "8/8 [==============================] - 0s 3ms/step - loss: 1.0977 - accuracy: 0.6247\n",
            "8/8 [==============================] - 0s 3ms/step - loss: 0.8338 - accuracy: 0.7200\n",
            "8/8 [==============================] - 0s 3ms/step - loss: 0.9642 - accuracy: 0.6654\n",
            "8/8 [==============================] - 0s 3ms/step - loss: 0.4988 - accuracy: 0.8654\n",
            "8/8 [==============================] - 0s 3ms/step - loss: 0.7730 - accuracy: 0.7500\n",
            "8/8 [==============================] - 1s 3ms/step - loss: 0.8227 - accuracy: 0.7560\n",
            "8/8 [==============================] - 0s 3ms/step - loss: 0.8942 - accuracy: 0.7051\n",
            "8/8 [==============================] - 0s 3ms/step - loss: 0.8126 - accuracy: 0.7096\n",
            "8/8 [==============================] - 0s 3ms/step - loss: 0.7260 - accuracy: 0.8054\n",
            "8/8 [==============================] - 0s 4ms/step - loss: 0.8021 - accuracy: 0.7418\n",
            "8/8 [==============================] - 0s 3ms/step - loss: 0.7010 - accuracy: 0.8009\n",
            "7/7 [==============================] - 0s 3ms/step - loss: 0.7778 - accuracy: 0.7601\n",
            "EPOCHS 10 is starting...\n",
            "8/8 [==============================] - 0s 3ms/step - loss: 0.8050 - accuracy: 0.7563\n",
            "8/8 [==============================] - 0s 3ms/step - loss: 0.9501 - accuracy: 0.6418\n",
            "8/8 [==============================] - 0s 3ms/step - loss: 0.8716 - accuracy: 0.6753\n",
            "8/8 [==============================] - 0s 3ms/step - loss: 0.8845 - accuracy: 0.6361\n",
            "8/8 [==============================] - 0s 3ms/step - loss: 0.4541 - accuracy: 0.9029\n",
            "8/8 [==============================] - 0s 4ms/step - loss: 0.6281 - accuracy: 0.8003\n",
            "8/8 [==============================] - 0s 3ms/step - loss: 0.8413 - accuracy: 0.6991\n",
            "8/8 [==============================] - 1s 3ms/step - loss: 0.7673 - accuracy: 0.7023\n",
            "8/8 [==============================] - 0s 3ms/step - loss: 0.7522 - accuracy: 0.7278\n",
            "8/8 [==============================] - 0s 3ms/step - loss: 0.6663 - accuracy: 0.7669\n",
            "8/8 [==============================] - 0s 3ms/step - loss: 0.8680 - accuracy: 0.7401\n",
            "8/8 [==============================] - 0s 3ms/step - loss: 0.5377 - accuracy: 0.9018\n",
            "7/7 [==============================] - 0s 3ms/step - loss: 0.6930 - accuracy: 0.7777\n",
            "EPOCHS 11 is starting...\n",
            "8/8 [==============================] - 0s 3ms/step - loss: 0.6340 - accuracy: 0.8046\n",
            "8/8 [==============================] - 0s 3ms/step - loss: 0.8204 - accuracy: 0.7251\n",
            "8/8 [==============================] - 0s 3ms/step - loss: 0.8135 - accuracy: 0.6959\n",
            "8/8 [==============================] - 0s 3ms/step - loss: 0.9358 - accuracy: 0.6708\n",
            "8/8 [==============================] - 0s 3ms/step - loss: 0.4465 - accuracy: 0.8658\n",
            "8/8 [==============================] - 0s 3ms/step - loss: 0.7211 - accuracy: 0.7563\n",
            "8/8 [==============================] - 0s 4ms/step - loss: 0.5766 - accuracy: 0.8146\n",
            "8/8 [==============================] - 0s 3ms/step - loss: 0.7530 - accuracy: 0.7212\n",
            "8/8 [==============================] - 1s 4ms/step - loss: 0.6792 - accuracy: 0.7327\n",
            "8/8 [==============================] - 0s 3ms/step - loss: 0.5854 - accuracy: 0.7954\n",
            "8/8 [==============================] - 0s 3ms/step - loss: 0.6667 - accuracy: 0.7698\n",
            "8/8 [==============================] - 0s 3ms/step - loss: 0.5625 - accuracy: 0.8168\n",
            "7/7 [==============================] - 0s 3ms/step - loss: 0.6596 - accuracy: 0.8018\n",
            "EPOCHS 12 is starting...\n",
            "8/8 [==============================] - 0s 3ms/step - loss: 0.6493 - accuracy: 0.8042\n",
            "8/8 [==============================] - 0s 3ms/step - loss: 0.7553 - accuracy: 0.6967\n",
            "8/8 [==============================] - 0s 3ms/step - loss: 0.7408 - accuracy: 0.7499\n",
            "8/8 [==============================] - 0s 3ms/step - loss: 0.8503 - accuracy: 0.6338\n",
            "8/8 [==============================] - 0s 4ms/step - loss: 0.4719 - accuracy: 0.8164\n",
            "8/8 [==============================] - 0s 3ms/step - loss: 0.6114 - accuracy: 0.7733\n",
            "8/8 [==============================] - 0s 3ms/step - loss: 0.6151 - accuracy: 0.8045\n",
            "8/8 [==============================] - 0s 3ms/step - loss: 0.8149 - accuracy: 0.6974\n",
            "8/8 [==============================] - 0s 3ms/step - loss: 0.6647 - accuracy: 0.7832\n",
            "8/8 [==============================] - 1s 3ms/step - loss: 0.5973 - accuracy: 0.7592\n",
            "8/8 [==============================] - 0s 3ms/step - loss: 0.7476 - accuracy: 0.7380\n",
            "8/8 [==============================] - 0s 4ms/step - loss: 0.5871 - accuracy: 0.8493\n",
            "7/7 [==============================] - 0s 3ms/step - loss: 0.6231 - accuracy: 0.8189\n",
            "EPOCHS 13 is starting...\n",
            "8/8 [==============================] - 0s 3ms/step - loss: 0.6662 - accuracy: 0.7759\n",
            "8/8 [==============================] - 0s 3ms/step - loss: 0.7514 - accuracy: 0.6733\n",
            "8/8 [==============================] - 0s 3ms/step - loss: 0.6195 - accuracy: 0.7779\n",
            "8/8 [==============================] - 0s 3ms/step - loss: 0.8296 - accuracy: 0.6619\n",
            "8/8 [==============================] - 0s 3ms/step - loss: 0.5310 - accuracy: 0.8532\n",
            "8/8 [==============================] - 0s 3ms/step - loss: 0.6105 - accuracy: 0.7983\n",
            "8/8 [==============================] - 0s 3ms/step - loss: 0.5898 - accuracy: 0.8320\n",
            "8/8 [==============================] - 0s 3ms/step - loss: 0.6814 - accuracy: 0.7530\n",
            "8/8 [==============================] - 0s 3ms/step - loss: 0.7764 - accuracy: 0.7080\n",
            "8/8 [==============================] - 0s 4ms/step - loss: 0.5423 - accuracy: 0.8665\n",
            "8/8 [==============================] - 0s 4ms/step - loss: 0.6955 - accuracy: 0.7741\n",
            "8/8 [==============================] - 0s 3ms/step - loss: 0.5883 - accuracy: 0.8559\n",
            "7/7 [==============================] - 0s 3ms/step - loss: 0.5740 - accuracy: 0.8264\n",
            "EPOCHS 14 is starting...\n",
            "8/8 [==============================] - 0s 4ms/step - loss: 0.6357 - accuracy: 0.8011\n",
            "8/8 [==============================] - 0s 4ms/step - loss: 0.7649 - accuracy: 0.6954\n",
            "8/8 [==============================] - 0s 3ms/step - loss: 0.6084 - accuracy: 0.7850\n",
            "8/8 [==============================] - 0s 3ms/step - loss: 0.8103 - accuracy: 0.6940\n",
            "8/8 [==============================] - 0s 3ms/step - loss: 0.4888 - accuracy: 0.8606\n",
            "8/8 [==============================] - 0s 3ms/step - loss: 0.6019 - accuracy: 0.7814\n",
            "8/8 [==============================] - 0s 4ms/step - loss: 0.5017 - accuracy: 0.8370\n",
            "8/8 [==============================] - 0s 3ms/step - loss: 0.7233 - accuracy: 0.7394\n",
            "8/8 [==============================] - 0s 3ms/step - loss: 0.6016 - accuracy: 0.7920\n",
            "8/8 [==============================] - 0s 3ms/step - loss: 0.5416 - accuracy: 0.8556\n",
            "8/8 [==============================] - 0s 3ms/step - loss: 0.6173 - accuracy: 0.7657\n",
            "8/8 [==============================] - 0s 3ms/step - loss: 0.5421 - accuracy: 0.8379\n",
            "7/7 [==============================] - 0s 3ms/step - loss: 0.5884 - accuracy: 0.8176\n",
            "EPOCHS 15 is starting...\n",
            "8/8 [==============================] - 0s 3ms/step - loss: 0.5864 - accuracy: 0.7941\n",
            "8/8 [==============================] - 0s 3ms/step - loss: 0.7944 - accuracy: 0.7111\n",
            "8/8 [==============================] - 0s 4ms/step - loss: 0.6482 - accuracy: 0.7733\n",
            "8/8 [==============================] - 0s 3ms/step - loss: 0.7683 - accuracy: 0.6746\n",
            "8/8 [==============================] - 0s 3ms/step - loss: 0.3622 - accuracy: 0.8719\n",
            "8/8 [==============================] - 0s 3ms/step - loss: 0.5371 - accuracy: 0.8371\n",
            "8/8 [==============================] - 0s 3ms/step - loss: 0.5321 - accuracy: 0.8621\n",
            "8/8 [==============================] - 0s 3ms/step - loss: 0.6774 - accuracy: 0.7864\n",
            "8/8 [==============================] - 0s 3ms/step - loss: 0.6282 - accuracy: 0.8032\n",
            "8/8 [==============================] - 0s 3ms/step - loss: 0.4873 - accuracy: 0.8747\n",
            "8/8 [==============================] - 0s 3ms/step - loss: 0.5818 - accuracy: 0.8132\n",
            "8/8 [==============================] - 0s 3ms/step - loss: 0.4103 - accuracy: 0.8632\n",
            "7/7 [==============================] - 0s 3ms/step - loss: 0.5225 - accuracy: 0.8236\n",
            "EPOCHS 16 is starting...\n",
            "8/8 [==============================] - 1s 3ms/step - loss: 0.5417 - accuracy: 0.8361\n",
            "8/8 [==============================] - 0s 3ms/step - loss: 0.7207 - accuracy: 0.7304\n",
            "8/8 [==============================] - 0s 3ms/step - loss: 0.5951 - accuracy: 0.8069\n",
            "8/8 [==============================] - 0s 3ms/step - loss: 0.7524 - accuracy: 0.7025\n",
            "8/8 [==============================] - 0s 4ms/step - loss: 0.3480 - accuracy: 0.8980\n",
            "8/8 [==============================] - 0s 3ms/step - loss: 0.6183 - accuracy: 0.7555\n",
            "8/8 [==============================] - 0s 3ms/step - loss: 0.5055 - accuracy: 0.8534\n",
            "8/8 [==============================] - 0s 3ms/step - loss: 0.6628 - accuracy: 0.7465\n",
            "8/8 [==============================] - 0s 4ms/step - loss: 0.4669 - accuracy: 0.8561\n",
            "8/8 [==============================] - 0s 3ms/step - loss: 0.5649 - accuracy: 0.8420\n",
            "8/8 [==============================] - 0s 3ms/step - loss: 0.4756 - accuracy: 0.8454\n",
            "8/8 [==============================] - 0s 3ms/step - loss: 0.5732 - accuracy: 0.8340\n",
            "7/7 [==============================] - 0s 3ms/step - loss: 0.5091 - accuracy: 0.8368\n",
            "EPOCHS 17 is starting...\n",
            "8/8 [==============================] - 0s 3ms/step - loss: 0.5457 - accuracy: 0.8164\n",
            "8/8 [==============================] - 1s 3ms/step - loss: 0.7097 - accuracy: 0.7429\n",
            "8/8 [==============================] - 0s 3ms/step - loss: 0.5173 - accuracy: 0.7961\n",
            "8/8 [==============================] - 0s 4ms/step - loss: 0.6519 - accuracy: 0.7650\n",
            "8/8 [==============================] - 0s 4ms/step - loss: 0.3713 - accuracy: 0.8958\n",
            "8/8 [==============================] - 0s 3ms/step - loss: 0.5180 - accuracy: 0.8222\n",
            "8/8 [==============================] - 0s 3ms/step - loss: 0.4940 - accuracy: 0.8370\n",
            "8/8 [==============================] - 0s 3ms/step - loss: 0.6259 - accuracy: 0.7570\n",
            "8/8 [==============================] - 0s 3ms/step - loss: 0.5412 - accuracy: 0.8361\n",
            "8/8 [==============================] - 0s 3ms/step - loss: 0.3807 - accuracy: 0.8929\n",
            "8/8 [==============================] - 0s 3ms/step - loss: 0.4701 - accuracy: 0.8518\n",
            "8/8 [==============================] - 0s 4ms/step - loss: 0.5238 - accuracy: 0.8054\n",
            "7/7 [==============================] - 0s 3ms/step - loss: 0.4743 - accuracy: 0.8402\n",
            "EPOCHS 18 is starting...\n",
            "8/8 [==============================] - 0s 3ms/step - loss: 0.5134 - accuracy: 0.8390\n",
            "8/8 [==============================] - 0s 4ms/step - loss: 0.6498 - accuracy: 0.7643\n",
            "8/8 [==============================] - 1s 4ms/step - loss: 0.5699 - accuracy: 0.8033\n",
            "8/8 [==============================] - 0s 3ms/step - loss: 0.5208 - accuracy: 0.7891\n",
            "8/8 [==============================] - 0s 3ms/step - loss: 0.4405 - accuracy: 0.8545\n",
            "8/8 [==============================] - 0s 4ms/step - loss: 0.5629 - accuracy: 0.8082\n",
            "8/8 [==============================] - 0s 3ms/step - loss: 0.4797 - accuracy: 0.8360\n",
            "8/8 [==============================] - 0s 3ms/step - loss: 0.6780 - accuracy: 0.7681\n",
            "8/8 [==============================] - 0s 3ms/step - loss: 0.5449 - accuracy: 0.8276\n",
            "8/8 [==============================] - 0s 4ms/step - loss: 0.4860 - accuracy: 0.8634\n",
            "8/8 [==============================] - 0s 3ms/step - loss: 0.4941 - accuracy: 0.8348\n",
            "8/8 [==============================] - 0s 3ms/step - loss: 0.5593 - accuracy: 0.8191\n",
            "7/7 [==============================] - 0s 3ms/step - loss: 0.4600 - accuracy: 0.8414\n",
            "EPOCHS 19 is starting...\n",
            "8/8 [==============================] - 0s 3ms/step - loss: 0.5356 - accuracy: 0.8581\n",
            "8/8 [==============================] - 0s 3ms/step - loss: 0.5660 - accuracy: 0.7648\n",
            "8/8 [==============================] - 0s 3ms/step - loss: 0.5871 - accuracy: 0.7920\n",
            "8/8 [==============================] - 1s 4ms/step - loss: 0.6046 - accuracy: 0.7972\n",
            "8/8 [==============================] - 0s 3ms/step - loss: 0.4265 - accuracy: 0.8601\n",
            "8/8 [==============================] - 0s 3ms/step - loss: 0.5897 - accuracy: 0.8180\n",
            "8/8 [==============================] - 0s 3ms/step - loss: 0.4302 - accuracy: 0.8536\n",
            "8/8 [==============================] - 0s 3ms/step - loss: 0.6108 - accuracy: 0.7699\n",
            "8/8 [==============================] - 0s 3ms/step - loss: 0.4725 - accuracy: 0.8220\n",
            "8/8 [==============================] - 0s 4ms/step - loss: 0.4190 - accuracy: 0.8727\n",
            "8/8 [==============================] - 0s 3ms/step - loss: 0.5299 - accuracy: 0.7855\n",
            "8/8 [==============================] - 0s 3ms/step - loss: 0.4809 - accuracy: 0.8547\n",
            "7/7 [==============================] - 0s 3ms/step - loss: 0.4734 - accuracy: 0.8333\n"
          ],
          "name": "stdout"
        }
      ]
    },
    {
      "cell_type": "code",
      "metadata": {
        "id": "NbpXvIuEPzwX",
        "colab": {
          "base_uri": "https://localhost:8080/",
          "height": 295
        },
        "outputId": "40bb8dae-41ef-42ed-d3cf-fc9917b6d5c9"
      },
      "source": [
        "S_acc2 =[S2.loss_acc[i][1]*100 for i in range(len(S2.loss_acc))]\n",
        "S_loss2 =[S2.loss_acc[i][0] for i in range(len(S2.loss_acc))]\n",
        "\n",
        "x = np.arange(len(S2.loss_acc)).astype(dtype=np.str)\n",
        "fig = plt.figure()\n",
        "ax1 = fig.add_subplot(111)\n",
        "acc = ax1.plot(x,S_acc2,'r',label='Acc')\n",
        "ax1.set_ylabel('Acc')\n",
        "ax1.set_title('Acc-Loss')\n",
        "ax1.set_xlabel(\"Epoches\")\n",
        "\n",
        "ax2 = ax1.twinx()\n",
        "loss = ax2.plot(x,S_loss2,label='Loss')\n",
        "ax2.set_ylabel('Loss')\n",
        "\n",
        "lns = acc+loss\n",
        "labs = [l.get_label() for l in lns]\n",
        "ax2.legend(lns,labs)\n",
        "plt.show()"
      ],
      "execution_count": 70,
      "outputs": [
        {
          "output_type": "display_data",
          "data": {
            "image/png": "[encoded data removed]",
            "text/plain": [
              "<Figure size 432x288 with 2 Axes>"
            ]
          },
          "metadata": {
            "tags": [],
            "needs_background": "light"
          }
        }
      ]
    },
    {
      "cell_type": "markdown",
      "metadata": {
        "id": "_uH968k_P5dH"
      },
      "source": [
        "# 实验结果对比"
      ]
    },
    {
      "cell_type": "code",
      "metadata": {
        "id": "KtBMBFo7Pzg2",
        "colab": {
          "base_uri": "https://localhost:8080/",
          "height": 295
        },
        "outputId": "a89a0752-af51-4a3a-a50b-d8e33c1aa796"
      },
      "source": [
        "iters = np.arange(len(S2.loss_acc)).astype(dtype=np.str)\n",
        "fig = plt.figure()\n",
        "plt.title('Result Analysis')\n",
        "plt.plot(iters,S_acc,color='red',label='NewFed Accuracy')\n",
        "plt.plot(iters,S_acc2,color='blue',label='Baseline Accuracy')\n",
        "plt.legend()\n",
        "plt.xlabel('iteration times')\n",
        "plt.ylabel('rate')\n",
        "plt.xlim(0,20)\n",
        "plt.show()"
      ],
      "execution_count": 71,
      "outputs": [
        {
          "output_type": "display_data",
          "data": {
            "image/png": "[encoded data removed]",
            "text/plain": [
              "<Figure size 432x288 with 1 Axes>"
            ]
          },
          "metadata": {
            "tags": [],
            "needs_background": "light"
          }
        }
      ]
    },
    {
      "cell_type": "code",
      "metadata": {
        "id": "7Ed0W7m8_dv8"
      },
      "source": [
        ""
      ],
      "execution_count": null,
      "outputs": []
    }
  ]
}