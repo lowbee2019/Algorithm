{
  "nbformat": 4,
  "nbformat_minor": 0,
  "metadata": {
    "colab": {
      "name": "MyModel-CNN.ipynb",
      "provenance": [],
      "collapsed_sections": [
        "MwmKo3gLrI-i"
      ],
      "authorship_tag": "ABX9TyPfs4bYz7P2pb5p9nBWzRFJ",
      "include_colab_link": true
    },
    "kernelspec": {
      "display_name": "Python 3",
      "name": "python3"
    },
    "language_info": {
      "name": "python"
    }
  },
  "cells": [
    {
      "cell_type": "markdown",
      "metadata": {
        "id": "view-in-github",
        "colab_type": "text"
      },
      "source": [
        "<a href=\"https://colab.research.google.com/github/lowbee2019/Algorithm/blob/master/MyModel_CNN-V1.ipynb\" target=\"_parent\"><img src=\"https://colab.research.google.com/assets/colab-badge.svg\" alt=\"Open In Colab\"/></a>"
      ]
    },
    {
      "cell_type": "code",
      "metadata": {
        "colab": {
          "base_uri": "https://localhost:8080/"
        },
        "id": "uoFhItkFEsF8",
        "outputId": "a36465a3-2314-494a-eb9a-d94bd2787188"
      },
      "source": [
        "!pip install emnist"
      ],
      "execution_count": 52,
      "outputs": [
        {
          "output_type": "stream",
          "text": [
            "Requirement already satisfied: emnist in /usr/local/lib/python3.7/dist-packages (0.0)\n",
            "Requirement already satisfied: tqdm in /usr/local/lib/python3.7/dist-packages (from emnist) (4.41.1)\n",
            "Requirement already satisfied: requests in /usr/local/lib/python3.7/dist-packages (from emnist) (2.23.0)\n",
            "Requirement already satisfied: numpy in /usr/local/lib/python3.7/dist-packages (from emnist) (1.19.5)\n",
            "Requirement already satisfied: idna<3,>=2.5 in /usr/local/lib/python3.7/dist-packages (from requests->emnist) (2.10)\n",
            "Requirement already satisfied: chardet<4,>=3.0.2 in /usr/local/lib/python3.7/dist-packages (from requests->emnist) (3.0.4)\n",
            "Requirement already satisfied: urllib3!=1.25.0,!=1.25.1,<1.26,>=1.21.1 in /usr/local/lib/python3.7/dist-packages (from requests->emnist) (1.24.3)\n",
            "Requirement already satisfied: certifi>=2017.4.17 in /usr/local/lib/python3.7/dist-packages (from requests->emnist) (2020.12.5)\n"
          ],
          "name": "stdout"
        }
      ]
    },
    {
      "cell_type": "code",
      "metadata": {
        "id": "9e4So1L3pPWp"
      },
      "source": [
        "import tensorflow as tf\n",
        "import numpy as np\n",
        "from tensorflow.keras import datasets,layers,models\n",
        "import collections\n",
        "import copy\n",
        "import random\n",
        "import emnist\n",
        "import datetime"
      ],
      "execution_count": 53,
      "outputs": []
    },
    {
      "cell_type": "markdown",
      "metadata": {
        "id": "YQaIGTfxmSfi"
      },
      "source": [
        "# Server Initialization"
      ]
    },
    {
      "cell_type": "code",
      "metadata": {
        "id": "PTK_p961nsA5"
      },
      "source": [
        "class ParamServer(object):\n",
        "  def __init__(self,init_model_path):\n",
        "    self.init_model_path = init_model_path\n",
        "    self.round = 0\n",
        "    self.optimizer = 'adam'\n",
        "    self.loss = \"sparse_categorical_crossentropy\"\n",
        "    self.metrics =['accuracy']\n",
        "    self.loss_acc = []\n",
        "\n",
        "  def PreTrain(self,model,data,labels,batch_size=32,epochs=5):\n",
        "    model.compile(optimizer=self.optimizer,\n",
        "                  loss=self.loss,\n",
        "                  metrics=self.metrics)\n",
        "    _metrics = model.fit(data,labels,batch_size,epochs)\n",
        "    return model\n",
        "  \n",
        "  def PreEval(self,model,validation_data):\n",
        "    model.compile(optimizer=self.optimizer,\n",
        "                  loss=self.loss,\n",
        "                  metrics=self.metrics)\n",
        "    self.loss_acc.append(model.evaluate(x=validation_data[0],y=validation_data[1]))\n"
      ],
      "execution_count": 135,
      "outputs": []
    },
    {
      "cell_type": "markdown",
      "metadata": {
        "id": "iRvlGAmjmxbw"
      },
      "source": [
        "## Emnist数据集的预处理"
      ]
    },
    {
      "cell_type": "code",
      "metadata": {
        "id": "uUdPNuYqDmbD"
      },
      "source": [
        "LetterDataSet = emnist.extract_training_samples('letters')\n",
        "DigitDataSet = emnist.extract_training_samples('digits')\n",
        "\n",
        "LetterDataSet = (np.expand_dims(LetterDataSet[0]/255.0,axis=3),np.expand_dims(LetterDataSet[1]*0+10,axis=1)) \n",
        "DigitDataSet = (np.expand_dims(DigitDataSet[0]/255.0,axis=3),np.expand_dims(DigitDataSet[1],axis=1))"
      ],
      "execution_count": 55,
      "outputs": []
    },
    {
      "cell_type": "code",
      "metadata": {
        "colab": {
          "base_uri": "https://localhost:8080/"
        },
        "id": "N66yuvvfDmHF",
        "outputId": "b9650e1e-31ec-464a-88e0-a1ac66ea0e2e"
      },
      "source": [
        "LetterDataSet[0].shape,DigitDataSet[0].shape"
      ],
      "execution_count": 56,
      "outputs": [
        {
          "output_type": "execute_result",
          "data": {
            "text/plain": [
              "((124800, 28, 28, 1), (240000, 28, 28, 1))"
            ]
          },
          "metadata": {
            "tags": []
          },
          "execution_count": 56
        }
      ]
    },
    {
      "cell_type": "code",
      "metadata": {
        "id": "qA_gvtUkm8sV"
      },
      "source": [
        "ShareData = DigitDataSet[0][0:200]\n",
        "ShareLabel = DigitDataSet[1][0:200]\n",
        "validation_data=(ShareData,ShareLabel)"
      ],
      "execution_count": 58,
      "outputs": []
    },
    {
      "cell_type": "markdown",
      "metadata": {
        "id": "2L712LCIm6Vv"
      },
      "source": [
        "## 模型的定义"
      ]
    },
    {
      "cell_type": "code",
      "metadata": {
        "id": "C0noj5RjmF0i"
      },
      "source": [
        "class FLModel(tf.keras.Model):\n",
        "  def __init__(self,row,col,num_classes=62,*args,**kwargs):\n",
        "    super(FLModel,self).__init__(*args,**kwargs)\n",
        "    self.row = row\n",
        "    self.col = col\n",
        "    self.num_classes = num_classes\n",
        "    # self.flatten = tf.keras.layers.Flatten(input_shape=(row,col))\n",
        "    # self.dense_1 = tf.keras.layers.Dense(128,activation='relu',name=\"dense_1\")\n",
        "    # self.dense_2 = tf.keras.layers.Dense(num_classes,activation='softmax',name=\"dense_2\")\n",
        "    # self.drop = tf.keras.layers.Dropout(0.2)\n",
        "    \n",
        "    self.model = models.Sequential()\n",
        "    # 第1层卷积，卷积核大小为3*3，32个，28*28为待训练图片的大小\n",
        "    self.model.add(layers.Conv2D(32, (3, 3), activation='relu', input_shape=(self.row, self.col, 1)))\n",
        "    self.model.add(layers.MaxPooling2D((2, 2)))\n",
        "    # 第2层卷积，卷积核大小为3*3，64个\n",
        "    self.model.add(layers.Conv2D(64, (3, 3), activation='relu'))\n",
        "    self.model.add(layers.MaxPooling2D((2, 2)))\n",
        "    # 第3层卷积，卷积核大小为3*3，64个\n",
        "    self.model.add(layers.Conv2D(64, (3, 3), activation='relu'))\n",
        "\n",
        "    self.model.add(layers.Flatten())\n",
        "    self.model.add(layers.Dense(64, activation='relu'))\n",
        "    self.model.add(layers.Dense(num_classes, activation='softmax'))\n",
        "\n",
        "    # self.model.summary()\n",
        "\n",
        "    # self.model = model\n",
        "\n",
        "\n",
        "  \n",
        "  # def call(self,inputs):\n",
        "  #   x = self.flatten(inputs)\n",
        "  #   x = self.dense_1(x)\n",
        "  #   x = self.drop(x)\n",
        "  #   x = self.dense_2(x)\n",
        "  #   return x\n",
        "  def call(self,inputs):\n",
        "    return self.model(inputs)\n",
        "\n",
        "  def copy(self):\n",
        "    NewModel = FLModel(self.row,self.col,self.num_classes)\n",
        "    _ = NewModel(tf.convert_to_tensor(np.zeros([1,self.row,self.col,1])))\n",
        "    ##Layers\n",
        "    NewVars = NewModel.trainable_variables #此处为空列表，因为没有训练,这个地方参数传递是不是有问题\n",
        "    OldVars = self.trainable_variables\n",
        "    for n,o in zip(NewVars,OldVars):\n",
        "      n.assign(o.numpy())\n",
        "    return NewModel\n",
        "\n",
        "  # def compute_output_shape(self,input_shape):\n",
        "  #   shape = tf.TensorShape(input_shape).as_list()\n",
        "  #   shape[-1] = self.num_classes\n",
        "  #   return tf.TensorShape(shape)"
      ],
      "execution_count": 57,
      "outputs": []
    },
    {
      "cell_type": "markdown",
      "metadata": {
        "id": "Z5LMvoXcoiz2"
      },
      "source": [
        "#Client Initialization\n",
        "模型训练和评估都要重写"
      ]
    },
    {
      "cell_type": "code",
      "metadata": {
        "id": "Hvu8wCjbooCF"
      },
      "source": [
        "class Client(object):\n",
        "  def __init__(self,id,model=None,Train_dataset=None,Test_dataset=None):\n",
        "    self.id = id\n",
        "    self.model = model\n",
        "    self.Train_dataset = Train_dataset\n",
        "    self.Test_dataset = Test_dataset\n",
        "    # from ParamServer\n",
        "    self.ParamModel = None\n",
        "    self.num_epochs = 5\n",
        "    self.batch_size = 32\n",
        "    self.shuffle_buffer = 100\n",
        "    self.prefetch_buffer = 10\n",
        "\n",
        "\n",
        "  def ReceiveModel(self,ParamModel,num_epochs=1,batch_size=32,shuffle_buffer=100,prefetch_buffer=10):\n",
        "    self.ParamModel = ParamModel\n",
        "    self.num_epochs = num_epochs\n",
        "    self.batch_size = batch_size\n",
        "    self.shuffle_buffer = shuffle_buffer\n",
        "    self.prefetch_buffer = prefetch_buffer\n",
        "  \n",
        "\n",
        "  # def preprocess(self,dataset):\n",
        "  #   def batch_format_fn(element):\n",
        "  #     return collections.OrderedDict(\n",
        "            \n",
        "  #           x = tf.reshape(element['pixels'],[-1,784]),\n",
        "  #           y = tf.reshape(element['label'],[-1,1])\n",
        "  #         )\n",
        "  #   return dataset.repeat(self.num_epochs).shuffle(self.shuffle_buffer).batch(\n",
        "  #       self.batch_size).map(batch_format_fn).prefetch(self.prefetch_buffer)\n",
        "\n",
        "  def NodeTrain(self):\n",
        "    model = self.ParamModel\n",
        "    # pre_data = self.preprocess(self.Train_dataset)\n",
        "    # print(type(pre_data))\n",
        "    # model.fit(x=pre_data['x'],y=pre_data['y'],batch_size=self.batch_size,epochs=self.num_epochs)\n",
        "    # x = np.array([i['pixels'].numpy() for i in self.Train_dataset])\n",
        "    # y = np.array([i['label'].numpy() for i in self.Train_dataset])\n",
        "    x,y = self.Train_dataset\n",
        "    model.compile(\n",
        "        # optimizer=keras.optimizers.SGD(lr=0.01, momentum=0.0, decay=0.0, nesterov=False),##'adam',\n",
        "        optimizer='adam',\n",
        "        loss='sparse_categorical_crossentropy',\n",
        "        metrics=['accuracy'])\n",
        "    # log_dir=\"logs/fit/\" + datetime.datetime.now().strftime(\"%Y%m%d-%H%M%S\")\n",
        "    # tensorboard_callback = tf.keras.callbacks.TensorBoard(log_dir=log_dir, histogram_freq=1)\n",
        "    _metrics = model.fit(x,y,batch_size=self.batch_size,epochs=self.num_epochs)\n",
        "    self.model = model\n",
        "\n",
        "  def NodeEval(self):\n",
        "    x,y = self.Test_dataset\n",
        "    self.model.evaluate(x,y)\n"
      ],
      "execution_count": 59,
      "outputs": []
    },
    {
      "cell_type": "markdown",
      "metadata": {
        "id": "MwmKo3gLrI-i"
      },
      "source": [
        "# 阶段一：为Client分配数据（预处理工作）"
      ]
    },
    {
      "cell_type": "markdown",
      "metadata": {
        "id": "En8MczNik638"
      },
      "source": [
        "#阶段一：服务器完成模型初始化"
      ]
    },
    {
      "cell_type": "code",
      "metadata": {
        "id": "m2w8RJUtGss2"
      },
      "source": [
        "def create_data_for_clients(SampleNum,LetterDataSet,DigitDataSet,DigitPercentage=0.7):\n",
        "  DigitNum = int(SampleNum*DigitPercentage)\n",
        "  LetterNum = SampleNum - DigitNum\n",
        "  x_sequence = []\n",
        "  y_sequence = []\n",
        "  if DigitNum > 0:\n",
        "    for i in range(DigitNum):\n",
        "      index = random.randint(0,len(DigitDataSet[0])-1)\n",
        "      x_sequence.append(DigitDataSet[0][index])\n",
        "      y_sequence.append(DigitDataSet[1][index])\n",
        "  if LetterNum > 0:\n",
        "    for j in range(LetterNum):\n",
        "      index = random.randint(0,len(LetterDataSet[0])-1)\n",
        "      x_sequence.append(LetterDataSet[0][index])\n",
        "      y_sequence.append(LetterDataSet[1][index])\n",
        "  # print(x_sequence[1].shape,y_sequence[1].shape)\n",
        "  x = np.array(x_sequence,dtype=np.float64)\n",
        "  y = np.array(y_sequence,dtype=np.int8)\n",
        "  #shuffle\n",
        "  state = np.random.get_state()\n",
        "  np.random.shuffle(x)\n",
        "  np.random.set_state(state)\n",
        "  np.random.shuffle(y)\n",
        "  \n",
        "  return (x,y)"
      ],
      "execution_count": 51,
      "outputs": []
    },
    {
      "cell_type": "code",
      "metadata": {
        "id": "QE_WXcMMt1kP"
      },
      "source": [
        "NUM_CLIENTS = 10\n",
        "NUM_TRAIN_SAMPLE_CLIENT = 1280\n",
        "NUM_TEST_SAMPLE_CLIENT = 256"
      ],
      "execution_count": 14,
      "outputs": []
    },
    {
      "cell_type": "code",
      "metadata": {
        "id": "-Tmf__umcO1l"
      },
      "source": [
        "clients=[]\n",
        "for i in range(NUM_CLIENTS):\n",
        "  clients.append(Client(i,\n",
        "                        Train_dataset=create_data_for_clients(SampleNum=NUM_TRAIN_SAMPLE_CLIENT,\n",
        "                                                              LetterDataSet=LetterDataSet,\n",
        "                                                              DigitDataSet=DigitDataSet,\n",
        "                                                              DigitPercentage=random.random()),\n",
        "                        Test_dataset=create_data_for_clients(SampleNum=NUM_TEST_SAMPLE_CLIENT,\n",
        "                                                             LetterDataSet=LetterDataSet,\n",
        "                                                             DigitDataSet=DigitDataSet,\n",
        "                                                             DigitPercentage=0.7)\n",
        "                        )\n",
        "  )"
      ],
      "execution_count": 123,
      "outputs": []
    },
    {
      "cell_type": "markdown",
      "metadata": {
        "id": "V9Jjje417iuZ"
      },
      "source": [
        "Show DataSet"
      ]
    },
    {
      "cell_type": "code",
      "metadata": {
        "id": "8CsXpPMR7icz"
      },
      "source": [
        "import matplotlib.pyplot as plt"
      ],
      "execution_count": 17,
      "outputs": []
    },
    {
      "cell_type": "code",
      "metadata": {
        "colab": {
          "base_uri": "https://localhost:8080/",
          "height": 879
        },
        "id": "7RO4LfKq72nf",
        "outputId": "c72ed09a-deda-411e-9de7-cce41f003401"
      },
      "source": [
        "f = plt.figure(figsize=(15,15))\n",
        "for i in range(NUM_CLIENTS):\n",
        "  client_dataset = clients[i].Train_dataset\n",
        "  plot_data = collections.defaultdict(list)\n",
        "  for [label] in client_dataset[1].tolist():\n",
        "    plot_data[label].append(label)\n",
        "  plt.subplot(3,4,i+1)\n",
        "  plt.title('Client {}'.format(i))\n",
        "  for j in range(len(plot_data)):\n",
        "    plt.hist(\n",
        "        plot_data[j],\n",
        "        density = False,\n",
        "        bins = [x for x in range(len(plot_data)+1)]\n",
        "    )"
      ],
      "execution_count": 125,
      "outputs": [
        {
          "output_type": "display_data",
          "data": {
            "image/png": "[encoded data removed]",
            "text/plain": [
              "<Figure size 1080x1080 with 10 Axes>"
            ]
          },
          "metadata": {
            "tags": [],
            "needs_background": "light"
          }
        }
      ]
    },
    {
      "cell_type": "markdown",
      "metadata": {
        "id": "JfqcXNr8jqi1"
      },
      "source": [
        "显示一下数字与字母的对比\n"
      ]
    },
    {
      "cell_type": "code",
      "metadata": {
        "colab": {
          "base_uri": "https://localhost:8080/",
          "height": 862
        },
        "id": "SkJ-l1ZSjpWf",
        "outputId": "2dc6739d-d31a-40f3-f1c5-edb9249a87cc"
      },
      "source": [
        "f = plt.figure(figsize=(15,15))\n",
        "for i in range(NUM_CLIENTS):\n",
        "  client_dataset = clients[i].Train_dataset\n",
        "  plot_data = {0:0,1:0}\n",
        "  plot_labels = ['digits','letters']\n",
        "  for label in client_dataset[1]:\n",
        "    label = 0 if label < 10 else 1\n",
        "    plot_data[label]+=1\n",
        "  # print(plot_data)\n",
        "  data_labels = list(sorted(plot_data.keys()))\n",
        "  # print(data_labels)\n",
        "  data_nums = [plot_data[i] for i in data_labels]\n",
        "  colors = ['red','blue']\n",
        "  plt.subplot(3,4,i+1)\n",
        "  patches,text1,text2 = plt.pie(data_nums,\n",
        "                              labels=plot_labels,\n",
        "                              autopct='%3.2f%%',\n",
        "                              shadow=False,\n",
        "                              startangle=90,\n",
        "                              pctdistance=0.6)\n",
        "  plt.axis('equal')\n",
        "  plt.title('Client {}'.format(i))\n",
        "plt.show()\n"
      ],
      "execution_count": 124,
      "outputs": [
        {
          "output_type": "display_data",
          "data": {
            "image/png": "[encoded data removed]",
            "text/plain": [
              "<Figure size 1080x1080 with 10 Axes>"
            ]
          },
          "metadata": {
            "tags": []
          }
        }
      ]
    },
    {
      "cell_type": "code",
      "metadata": {
        "id": "UWBR9P212HDF"
      },
      "source": [
        ""
      ],
      "execution_count": null,
      "outputs": []
    },
    {
      "cell_type": "markdown",
      "metadata": {
        "id": "6PVxsGIpvlLn"
      },
      "source": [
        "##阶段二：中央服务器下发模型"
      ]
    },
    {
      "cell_type": "markdown",
      "metadata": {
        "id": "A5NIsOQgRp9h"
      },
      "source": [
        "Distance Between two models"
      ]
    },
    {
      "cell_type": "code",
      "metadata": {
        "id": "fX5rrSBk72Vw"
      },
      "source": [
        "def Distance(HookModel,TestModel):\n",
        "  len_it = len(HookModel.trainable_variables)\n",
        "  Hook_weights=[]\n",
        "  Test_weights=[]\n",
        "  for index in range(len_it):\n",
        "    Hook_weights.append(HookModel.trainable_variables[index].numpy().reshape(-1,))\n",
        "    Test_weights.append(TestModel.trainable_variables[index].numpy().reshape(-1,))\n",
        "  target = []\n",
        "  dis_norm2=[]\n",
        "  for i in range(len_it):\n",
        "    target.append(Hook_weights[i]-Test_weights[i])\n",
        "    dis_norm2.append(np.linalg.norm(target[i],2))\n",
        "  weight_weights = np.ones([len_it,1])\n",
        "  #调整权重\n",
        "  # weight_weights[0]=0\n",
        "  # weight_weights[1]=0\n",
        "  dis = np.dot(dis_norm2,weight_weights)\n",
        "  return dis\n",
        "  # return dis_norm2"
      ],
      "execution_count": 106,
      "outputs": []
    },
    {
      "cell_type": "code",
      "metadata": {
        "id": "KI9PCWxY716I"
      },
      "source": [
        "def BetterNode(clients,model,Total_NUM,FedAvg_NUM):\n",
        "  NodeDict=collections.OrderedDict()\n",
        "  for i in range(Total_NUM):\n",
        "    NodeDict[i] = Distance(model,clients[i].model)\n",
        "  Dlst = sorted(NodeDict.items(),key=lambda x:x[1])\n",
        "  NodeList = []\n",
        "  for i in range(FedAvg_NUM):\n",
        "    NodeList.append(Dlst[i][0])\n",
        "  return NodeList"
      ],
      "execution_count": 107,
      "outputs": []
    },
    {
      "cell_type": "markdown",
      "metadata": {
        "id": "_uNjI7abv3Vs"
      },
      "source": [
        "模型初始化"
      ]
    },
    {
      "cell_type": "code",
      "metadata": {
        "id": "PLJekuPtvxZl",
        "colab": {
          "base_uri": "https://localhost:8080/"
        },
        "outputId": "80a80bd4-0216-4e1d-c698-9192a65c07c7"
      },
      "source": [
        "InitModel = FLModel(row=28,col=28,num_classes=11)\n",
        "S = ParamServer(\"\")\n",
        "S.PreEval(InitModel,validation_data)"
      ],
      "execution_count": 170,
      "outputs": [
        {
          "output_type": "stream",
          "text": [
            "7/7 [==============================] - 0s 8ms/step - loss: 2.4100 - accuracy: 0.1173\n"
          ],
          "name": "stdout"
        }
      ]
    },
    {
      "cell_type": "code",
      "metadata": {
        "id": "JOyiDCbPe9Jc"
      },
      "source": [
        "SendModel = InitModel"
      ],
      "execution_count": 171,
      "outputs": []
    },
    {
      "cell_type": "code",
      "metadata": {
        "colab": {
          "base_uri": "https://localhost:8080/"
        },
        "id": "SGo2NYXsv96h",
        "outputId": "884985ef-a1f8-4f99-86f7-c7e72b9f14af"
      },
      "source": [
        "SendModel = S.PreTrain(InitModel,ShareData,ShareLabel,epochs=1)\n",
        "S.PreEval(SendModel,validation_data)"
      ],
      "execution_count": 151,
      "outputs": [
        {
          "output_type": "stream",
          "text": [
            "7/7 [==============================] - 1s 23ms/step - loss: 2.3525 - accuracy: 0.1770\n",
            "7/7 [==============================] - 0s 8ms/step - loss: 2.1724 - accuracy: 0.3161\n"
          ],
          "name": "stdout"
        }
      ]
    },
    {
      "cell_type": "markdown",
      "metadata": {
        "id": "7OmptaMzpR0P"
      },
      "source": [
        "# 阶段三：Clients 训练节点数据并聚合\n"
      ]
    },
    {
      "cell_type": "code",
      "metadata": {
        "id": "kr2PkfomvfWw"
      },
      "source": [
        ""
      ],
      "execution_count": null,
      "outputs": []
    },
    {
      "cell_type": "code",
      "metadata": {
        "id": "ve8Dc1KewGH_"
      },
      "source": [
        "def FedAvg(NUM_CLIENTS,model,FedAvg_NUM=7):\n",
        "  iterModel = model.copy()\n",
        "  len_it = len(iterModel.trainable_variables)\n",
        "  all_weights = []\n",
        "  FedNodeList=BetterNode(clients,iterModel,NUM_CLIENTS,FedAvg_NUM)\n",
        "  print(\"FedAvg Node is\",FedNodeList)\n",
        "\n",
        "  # for c in range(Cut):\n",
        "  #   # tmp =np.array(iterModel.trainable_variables[c].numpy(),dtype='float64')\n",
        "  #   all_weights.append(iterModel.trainable_variables[c].numpy())\n",
        "\n",
        "  for weights_index in range(len_it):\n",
        "    tmp =np.zeros(iterModel.trainable_variables[weights_index].numpy().shape,dtype='float64')\n",
        "\n",
        "    for node in FedNodeList:\n",
        "      tmp += clients[node].model.trainable_variables[weights_index].numpy()\n",
        "    all_weights.append(tmp/FedAvg_NUM)\n",
        "  # print(all_weights)\n",
        "  iterModel_vars = iterModel.trainable_variables\n",
        "  for iter_v,n in zip(iterModel_vars,all_weights):\n",
        "    iter_v.assign(n)\n",
        "  return (iterModel,FedNodeList)"
      ],
      "execution_count": 152,
      "outputs": []
    },
    {
      "cell_type": "code",
      "metadata": {
        "id": "jl3dF36dw2hC"
      },
      "source": [
        "NUM_EPOCHS = 30"
      ],
      "execution_count": 153,
      "outputs": []
    },
    {
      "cell_type": "code",
      "metadata": {
        "colab": {
          "base_uri": "https://localhost:8080/"
        },
        "id": "ocfoXDNgyTdP",
        "outputId": "8ed72f0f-4271-4630-8ad5-0b47970dc3a8"
      },
      "source": [
        "NodeList=[]\n",
        "participator = NUM_CLIENTS\n",
        "for e in range(NUM_EPOCHS):\n",
        "  print(\"EPOCHS {} is starting...\".format(e))\n",
        "  for i in range(NUM_CLIENTS):\n",
        "    clients[i].ReceiveModel(SendModel.copy())\n",
        "    clients[i].NodeTrain()\n",
        "    # clients[i].NodeEval()\n",
        "    # DIS.append(Distance(SendModel,clients[i].model))\n",
        "  if participator < int(0.6*NUM_CLIENTS):\n",
        "    participator = int(0.6*NUM_CLIENTS) \n",
        "  FedModel,li = FedAvg(NUM_CLIENTS,SendModel,FedAvg_NUM=participator)\n",
        "  participator = participator-1\n",
        "  NodeList.append(li)\n",
        "  S.PreEval(FedModel,validation_data)\n",
        "  SendModel = FedModel.copy()"
      ],
      "execution_count": 172,
      "outputs": [
        {
          "output_type": "stream",
          "text": [
            "EPOCHS 0 is starting...\n",
            "40/40 [==============================] - 2s 28ms/step - loss: 2.1896 - accuracy: 0.2899\n",
            "40/40 [==============================] - 2s 28ms/step - loss: 1.4690 - accuracy: 0.7032\n",
            "40/40 [==============================] - 2s 27ms/step - loss: 2.1655 - accuracy: 0.3039\n",
            "40/40 [==============================] - 2s 28ms/step - loss: 1.0224 - accuracy: 0.8243\n",
            "40/40 [==============================] - 2s 27ms/step - loss: 2.1941 - accuracy: 0.2155\n",
            "40/40 [==============================] - 1s 27ms/step - loss: 1.9817 - accuracy: 0.4396\n",
            "40/40 [==============================] - 2s 27ms/step - loss: 1.1202 - accuracy: 0.8125\n",
            "40/40 [==============================] - 2s 28ms/step - loss: 2.1607 - accuracy: 0.2967\n",
            "40/40 [==============================] - 2s 27ms/step - loss: 2.1719 - accuracy: 0.2308\n",
            "40/40 [==============================] - 2s 28ms/step - loss: 2.0603 - accuracy: 0.4243\n",
            "FedAvg Node is [1, 6, 3, 5, 9, 7, 0, 4, 8, 2]\n",
            "7/7 [==============================] - 0s 10ms/step - loss: 3.5404 - accuracy: 0.0000e+00\n",
            "EPOCHS 1 is starting...\n",
            "40/40 [==============================] - 2s 27ms/step - loss: 1.6572 - accuracy: 0.4499\n",
            "40/40 [==============================] - 2s 27ms/step - loss: 0.9247 - accuracy: 0.7876\n",
            "40/40 [==============================] - 2s 27ms/step - loss: 1.9593 - accuracy: 0.3943\n",
            "40/40 [==============================] - 2s 28ms/step - loss: 0.3350 - accuracy: 0.9537\n",
            "40/40 [==============================] - 2s 27ms/step - loss: 1.9101 - accuracy: 0.4138\n",
            "40/40 [==============================] - 2s 28ms/step - loss: 1.5001 - accuracy: 0.5579\n",
            "40/40 [==============================] - 2s 27ms/step - loss: 0.4719 - accuracy: 0.9147\n",
            "40/40 [==============================] - 2s 27ms/step - loss: 1.7017 - accuracy: 0.4564\n",
            "40/40 [==============================] - 2s 27ms/step - loss: 1.8991 - accuracy: 0.4007\n",
            "40/40 [==============================] - 2s 28ms/step - loss: 1.5531 - accuracy: 0.5292\n",
            "FedAvg Node is [3, 6, 1, 5, 9, 7, 0, 8, 4]\n",
            "7/7 [==============================] - 0s 8ms/step - loss: 1.9692 - accuracy: 0.2237\n",
            "EPOCHS 2 is starting...\n",
            "40/40 [==============================] - 2s 28ms/step - loss: 1.1101 - accuracy: 0.6019\n",
            "40/40 [==============================] - 2s 28ms/step - loss: 0.6705 - accuracy: 0.8078\n",
            "40/40 [==============================] - 2s 27ms/step - loss: 1.0545 - accuracy: 0.6693\n",
            "40/40 [==============================] - 2s 27ms/step - loss: 0.2905 - accuracy: 0.9353\n",
            "40/40 [==============================] - 2s 28ms/step - loss: 1.0448 - accuracy: 0.6498\n",
            "40/40 [==============================] - 2s 27ms/step - loss: 1.0106 - accuracy: 0.6589\n",
            "40/40 [==============================] - 2s 28ms/step - loss: 0.4049 - accuracy: 0.9172\n",
            "40/40 [==============================] - 2s 28ms/step - loss: 1.0451 - accuracy: 0.6244\n",
            "40/40 [==============================] - 2s 27ms/step - loss: 1.0924 - accuracy: 0.6354\n",
            "40/40 [==============================] - 2s 28ms/step - loss: 0.9351 - accuracy: 0.6598\n",
            "FedAvg Node is [6, 3, 1, 5, 9, 7, 0, 8]\n",
            "7/7 [==============================] - 0s 10ms/step - loss: 1.2530 - accuracy: 0.5191\n",
            "EPOCHS 3 is starting...\n",
            "40/40 [==============================] - 2s 28ms/step - loss: 0.7669 - accuracy: 0.7408\n",
            "40/40 [==============================] - 2s 28ms/step - loss: 0.5277 - accuracy: 0.8286\n",
            "40/40 [==============================] - 2s 28ms/step - loss: 0.6833 - accuracy: 0.7781\n",
            "40/40 [==============================] - 2s 28ms/step - loss: 0.2767 - accuracy: 0.9379\n",
            "40/40 [==============================] - 2s 27ms/step - loss: 0.7600 - accuracy: 0.7331\n",
            "40/40 [==============================] - 2s 28ms/step - loss: 0.8369 - accuracy: 0.6905\n",
            "40/40 [==============================] - 2s 28ms/step - loss: 0.3382 - accuracy: 0.9169\n",
            "40/40 [==============================] - 2s 28ms/step - loss: 0.8761 - accuracy: 0.7018\n",
            "40/40 [==============================] - 2s 28ms/step - loss: 0.8463 - accuracy: 0.6972\n",
            "40/40 [==============================] - 2s 29ms/step - loss: 0.7556 - accuracy: 0.7154\n",
            "FedAvg Node is [3, 6, 1, 9, 5, 0, 4]\n",
            "7/7 [==============================] - 0s 8ms/step - loss: 1.1013 - accuracy: 0.5604\n",
            "EPOCHS 4 is starting...\n",
            "40/40 [==============================] - 2s 28ms/step - loss: 0.6710 - accuracy: 0.7576\n",
            "40/40 [==============================] - 2s 28ms/step - loss: 0.4900 - accuracy: 0.8319\n",
            "40/40 [==============================] - 2s 28ms/step - loss: 0.6012 - accuracy: 0.8000\n",
            "40/40 [==============================] - 2s 28ms/step - loss: 0.2361 - accuracy: 0.9392\n",
            "40/40 [==============================] - 2s 27ms/step - loss: 0.6803 - accuracy: 0.7739\n",
            "40/40 [==============================] - 2s 28ms/step - loss: 0.6930 - accuracy: 0.7563\n",
            "40/40 [==============================] - 2s 28ms/step - loss: 0.3395 - accuracy: 0.9171\n",
            "40/40 [==============================] - 2s 28ms/step - loss: 0.7096 - accuracy: 0.7586\n",
            "40/40 [==============================] - 2s 28ms/step - loss: 0.7037 - accuracy: 0.7747\n",
            "40/40 [==============================] - 2s 27ms/step - loss: 0.6958 - accuracy: 0.7379\n",
            "FedAvg Node is [1, 6, 3, 9, 5, 7]\n",
            "7/7 [==============================] - 0s 8ms/step - loss: 1.0935 - accuracy: 0.5932\n",
            "EPOCHS 5 is starting...\n",
            "40/40 [==============================] - 2s 28ms/step - loss: 0.6439 - accuracy: 0.7663\n",
            "40/40 [==============================] - 2s 28ms/step - loss: 0.4551 - accuracy: 0.8234\n",
            "40/40 [==============================] - 2s 28ms/step - loss: 0.5971 - accuracy: 0.7836\n",
            "40/40 [==============================] - 2s 28ms/step - loss: 0.2078 - accuracy: 0.9558\n",
            "40/40 [==============================] - 2s 28ms/step - loss: 0.6186 - accuracy: 0.8201\n",
            "40/40 [==============================] - 2s 28ms/step - loss: 0.6608 - accuracy: 0.7489\n",
            "40/40 [==============================] - 2s 28ms/step - loss: 0.3129 - accuracy: 0.9064\n",
            "40/40 [==============================] - 2s 28ms/step - loss: 0.6868 - accuracy: 0.7594\n",
            "40/40 [==============================] - 2s 27ms/step - loss: 0.5983 - accuracy: 0.7951\n",
            "40/40 [==============================] - 2s 28ms/step - loss: 0.6669 - accuracy: 0.7547\n",
            "FedAvg Node is [6, 3, 1, 5, 9, 7]\n",
            "7/7 [==============================] - 0s 9ms/step - loss: 1.0485 - accuracy: 0.6107\n",
            "EPOCHS 6 is starting...\n",
            "40/40 [==============================] - 2s 28ms/step - loss: 0.5949 - accuracy: 0.7799\n",
            "40/40 [==============================] - 2s 28ms/step - loss: 0.4274 - accuracy: 0.8403\n",
            "40/40 [==============================] - 2s 28ms/step - loss: 0.4993 - accuracy: 0.8352\n",
            "40/40 [==============================] - 2s 28ms/step - loss: 0.1836 - accuracy: 0.9514\n",
            "40/40 [==============================] - 2s 27ms/step - loss: 0.5954 - accuracy: 0.8022\n",
            "40/40 [==============================] - 2s 27ms/step - loss: 0.6176 - accuracy: 0.7899\n",
            "40/40 [==============================] - 2s 28ms/step - loss: 0.2688 - accuracy: 0.9255\n",
            "40/40 [==============================] - 2s 28ms/step - loss: 0.5753 - accuracy: 0.8030\n",
            "40/40 [==============================] - 2s 28ms/step - loss: 0.5811 - accuracy: 0.8248\n",
            "40/40 [==============================] - 2s 28ms/step - loss: 0.5530 - accuracy: 0.7909\n",
            "FedAvg Node is [1, 6, 9, 5, 0, 3]\n",
            "7/7 [==============================] - 0s 8ms/step - loss: 0.8591 - accuracy: 0.7099\n",
            "EPOCHS 7 is starting...\n",
            "40/40 [==============================] - 2s 27ms/step - loss: 0.5474 - accuracy: 0.8097\n",
            "40/40 [==============================] - 2s 28ms/step - loss: 0.3781 - accuracy: 0.8670\n",
            "40/40 [==============================] - 2s 28ms/step - loss: 0.5108 - accuracy: 0.8373\n",
            "40/40 [==============================] - 2s 27ms/step - loss: 0.1966 - accuracy: 0.9487\n",
            "40/40 [==============================] - 2s 28ms/step - loss: 0.5809 - accuracy: 0.7986\n",
            "40/40 [==============================] - 2s 28ms/step - loss: 0.5736 - accuracy: 0.7989\n",
            "40/40 [==============================] - 2s 28ms/step - loss: 0.2497 - accuracy: 0.9216\n",
            "40/40 [==============================] - 2s 28ms/step - loss: 0.5537 - accuracy: 0.8087\n",
            "40/40 [==============================] - 2s 28ms/step - loss: 0.5472 - accuracy: 0.7994\n",
            "40/40 [==============================] - 2s 28ms/step - loss: 0.5646 - accuracy: 0.7938\n",
            "FedAvg Node is [1, 6, 3, 7, 9, 5]\n",
            "7/7 [==============================] - 0s 8ms/step - loss: 0.9280 - accuracy: 0.6096\n",
            "EPOCHS 8 is starting...\n",
            "40/40 [==============================] - 2s 28ms/step - loss: 0.5117 - accuracy: 0.8198\n",
            "40/40 [==============================] - 2s 28ms/step - loss: 0.3252 - accuracy: 0.8847\n",
            "40/40 [==============================] - 2s 28ms/step - loss: 0.4362 - accuracy: 0.8480\n",
            "40/40 [==============================] - 2s 27ms/step - loss: 0.1605 - accuracy: 0.9525\n",
            "40/40 [==============================] - 2s 28ms/step - loss: 0.5146 - accuracy: 0.8260\n",
            "40/40 [==============================] - 2s 28ms/step - loss: 0.5386 - accuracy: 0.7974\n",
            "40/40 [==============================] - 2s 27ms/step - loss: 0.2528 - accuracy: 0.9273\n",
            "40/40 [==============================] - 2s 28ms/step - loss: 0.5065 - accuracy: 0.8059\n",
            "40/40 [==============================] - 2s 28ms/step - loss: 0.4920 - accuracy: 0.8296\n",
            "40/40 [==============================] - 2s 28ms/step - loss: 0.5105 - accuracy: 0.8129\n",
            "FedAvg Node is [6, 1, 9, 3, 5, 7]\n",
            "7/7 [==============================] - 0s 8ms/step - loss: 0.7730 - accuracy: 0.7077\n",
            "EPOCHS 9 is starting...\n",
            "40/40 [==============================] - 2s 27ms/step - loss: 0.4847 - accuracy: 0.8173\n",
            "40/40 [==============================] - 2s 28ms/step - loss: 0.2825 - accuracy: 0.8915\n",
            "40/40 [==============================] - 2s 27ms/step - loss: 0.4128 - accuracy: 0.8672\n",
            "40/40 [==============================] - 2s 28ms/step - loss: 0.1800 - accuracy: 0.9577\n",
            "40/40 [==============================] - 2s 28ms/step - loss: 0.4740 - accuracy: 0.8338\n",
            "40/40 [==============================] - 2s 28ms/step - loss: 0.5339 - accuracy: 0.8104\n",
            "40/40 [==============================] - 2s 28ms/step - loss: 0.2122 - accuracy: 0.9398\n",
            "40/40 [==============================] - 2s 28ms/step - loss: 0.4500 - accuracy: 0.8427\n",
            "40/40 [==============================] - 2s 27ms/step - loss: 0.4502 - accuracy: 0.8533\n",
            "40/40 [==============================] - 2s 28ms/step - loss: 0.4464 - accuracy: 0.8336\n",
            "FedAvg Node is [1, 5, 6, 3, 9, 7]\n",
            "7/7 [==============================] - 0s 9ms/step - loss: 0.7348 - accuracy: 0.7114\n",
            "EPOCHS 10 is starting...\n",
            "40/40 [==============================] - 2s 27ms/step - loss: 0.4411 - accuracy: 0.8488\n",
            "40/40 [==============================] - 2s 27ms/step - loss: 0.3409 - accuracy: 0.8810\n",
            "40/40 [==============================] - 2s 28ms/step - loss: 0.3666 - accuracy: 0.8769\n",
            "40/40 [==============================] - 2s 28ms/step - loss: 0.1575 - accuracy: 0.9613\n",
            "40/40 [==============================] - 2s 28ms/step - loss: 0.4419 - accuracy: 0.8569\n",
            "40/40 [==============================] - 2s 29ms/step - loss: 0.4703 - accuracy: 0.8200\n",
            "40/40 [==============================] - 2s 28ms/step - loss: 0.2149 - accuracy: 0.9346\n",
            "40/40 [==============================] - 2s 28ms/step - loss: 0.4384 - accuracy: 0.8502\n",
            "40/40 [==============================] - 2s 27ms/step - loss: 0.4529 - accuracy: 0.8485\n",
            "40/40 [==============================] - 2s 28ms/step - loss: 0.4566 - accuracy: 0.8231\n",
            "FedAvg Node is [1, 6, 9, 5, 7, 0]\n",
            "7/7 [==============================] - 0s 10ms/step - loss: 0.5359 - accuracy: 0.8091\n",
            "EPOCHS 11 is starting...\n",
            "40/40 [==============================] - 2s 28ms/step - loss: 0.4428 - accuracy: 0.8371\n",
            "40/40 [==============================] - 2s 28ms/step - loss: 0.3071 - accuracy: 0.8856\n",
            "40/40 [==============================] - 2s 28ms/step - loss: 0.3446 - accuracy: 0.8905\n",
            "40/40 [==============================] - 2s 28ms/step - loss: 0.1889 - accuracy: 0.9292\n",
            "40/40 [==============================] - 2s 28ms/step - loss: 0.4214 - accuracy: 0.8671\n",
            "40/40 [==============================] - 2s 28ms/step - loss: 0.4381 - accuracy: 0.8270\n",
            "40/40 [==============================] - 2s 28ms/step - loss: 0.1878 - accuracy: 0.9321\n",
            "40/40 [==============================] - 2s 28ms/step - loss: 0.4240 - accuracy: 0.8674\n",
            "40/40 [==============================] - 2s 28ms/step - loss: 0.3800 - accuracy: 0.8631\n",
            "40/40 [==============================] - 2s 28ms/step - loss: 0.4286 - accuracy: 0.8468\n",
            "FedAvg Node is [7, 9, 1, 6, 5, 8]\n",
            "7/7 [==============================] - 0s 8ms/step - loss: 0.4700 - accuracy: 0.8214\n",
            "EPOCHS 12 is starting...\n",
            "40/40 [==============================] - 2s 28ms/step - loss: 0.4174 - accuracy: 0.8402\n",
            "40/40 [==============================] - 2s 28ms/step - loss: 0.3258 - accuracy: 0.8698\n",
            "40/40 [==============================] - 2s 28ms/step - loss: 0.3433 - accuracy: 0.8896\n",
            "40/40 [==============================] - 2s 28ms/step - loss: 0.1540 - accuracy: 0.9506\n",
            "40/40 [==============================] - 2s 27ms/step - loss: 0.3992 - accuracy: 0.8683\n",
            "40/40 [==============================] - 2s 28ms/step - loss: 0.4562 - accuracy: 0.8171\n",
            "40/40 [==============================] - 2s 28ms/step - loss: 0.2113 - accuracy: 0.9347\n",
            "40/40 [==============================] - 2s 28ms/step - loss: 0.3968 - accuracy: 0.8617\n",
            "40/40 [==============================] - 2s 28ms/step - loss: 0.3717 - accuracy: 0.8719\n",
            "40/40 [==============================] - 2s 28ms/step - loss: 0.3996 - accuracy: 0.8600\n",
            "FedAvg Node is [5, 6, 9, 1, 0, 7]\n",
            "7/7 [==============================] - 0s 9ms/step - loss: 0.4597 - accuracy: 0.8303\n",
            "EPOCHS 13 is starting...\n",
            "40/40 [==============================] - 2s 28ms/step - loss: 0.3699 - accuracy: 0.8568\n",
            "40/40 [==============================] - 2s 27ms/step - loss: 0.2999 - accuracy: 0.8863\n",
            "40/40 [==============================] - 2s 28ms/step - loss: 0.3251 - accuracy: 0.8889\n",
            "40/40 [==============================] - 2s 28ms/step - loss: 0.1565 - accuracy: 0.9470\n",
            "40/40 [==============================] - 2s 28ms/step - loss: 0.3860 - accuracy: 0.8774\n",
            "40/40 [==============================] - 2s 29ms/step - loss: 0.3959 - accuracy: 0.8358\n",
            "40/40 [==============================] - 2s 28ms/step - loss: 0.2173 - accuracy: 0.9283\n",
            "40/40 [==============================] - 2s 28ms/step - loss: 0.3551 - accuracy: 0.8774\n",
            "40/40 [==============================] - 2s 28ms/step - loss: 0.3567 - accuracy: 0.8824\n",
            "40/40 [==============================] - 2s 28ms/step - loss: 0.3727 - accuracy: 0.8489\n",
            "FedAvg Node is [1, 9, 0, 7, 5, 8]\n",
            "7/7 [==============================] - 0s 9ms/step - loss: 0.3603 - accuracy: 0.8794\n",
            "EPOCHS 14 is starting...\n",
            "40/40 [==============================] - 2s 28ms/step - loss: 0.3568 - accuracy: 0.8730\n",
            "40/40 [==============================] - 2s 28ms/step - loss: 0.3282 - accuracy: 0.8917\n",
            "40/40 [==============================] - 2s 28ms/step - loss: 0.2663 - accuracy: 0.9254\n",
            "40/40 [==============================] - 2s 28ms/step - loss: 0.1402 - accuracy: 0.9559\n",
            "40/40 [==============================] - 2s 28ms/step - loss: 0.3530 - accuracy: 0.8862\n",
            "40/40 [==============================] - 2s 28ms/step - loss: 0.4471 - accuracy: 0.8034\n",
            "40/40 [==============================] - 2s 28ms/step - loss: 0.1988 - accuracy: 0.9289\n",
            "40/40 [==============================] - 2s 29ms/step - loss: 0.3667 - accuracy: 0.8651\n",
            "40/40 [==============================] - 2s 28ms/step - loss: 0.3057 - accuracy: 0.8999\n",
            "40/40 [==============================] - 2s 28ms/step - loss: 0.3639 - accuracy: 0.8511\n",
            "FedAvg Node is [7, 9, 0, 1, 8, 5]\n",
            "7/7 [==============================] - 1s 9ms/step - loss: 0.3175 - accuracy: 0.8830\n",
            "EPOCHS 15 is starting...\n",
            "40/40 [==============================] - 2s 28ms/step - loss: 0.3175 - accuracy: 0.8821\n",
            "40/40 [==============================] - 2s 28ms/step - loss: 0.2908 - accuracy: 0.8994\n",
            "40/40 [==============================] - 2s 28ms/step - loss: 0.2534 - accuracy: 0.9146\n",
            "40/40 [==============================] - 2s 27ms/step - loss: 0.1913 - accuracy: 0.9432\n",
            "40/40 [==============================] - 2s 28ms/step - loss: 0.3444 - accuracy: 0.8961\n",
            "40/40 [==============================] - 2s 28ms/step - loss: 0.3832 - accuracy: 0.8560\n",
            "40/40 [==============================] - 2s 28ms/step - loss: 0.2378 - accuracy: 0.9135\n",
            "40/40 [==============================] - 2s 29ms/step - loss: 0.3472 - accuracy: 0.8792\n",
            "40/40 [==============================] - 2s 28ms/step - loss: 0.2523 - accuracy: 0.9146\n",
            "40/40 [==============================] - 2s 28ms/step - loss: 0.3469 - accuracy: 0.8701\n",
            "FedAvg Node is [1, 9, 5, 0, 7, 8]\n",
            "7/7 [==============================] - 0s 9ms/step - loss: 0.3399 - accuracy: 0.8847\n",
            "EPOCHS 16 is starting...\n",
            "40/40 [==============================] - 2s 28ms/step - loss: 0.3456 - accuracy: 0.8786\n",
            "40/40 [==============================] - 2s 28ms/step - loss: 0.2838 - accuracy: 0.8927\n",
            "40/40 [==============================] - 2s 28ms/step - loss: 0.2728 - accuracy: 0.9096\n",
            "40/40 [==============================] - 2s 28ms/step - loss: 0.1407 - accuracy: 0.9453\n",
            "40/40 [==============================] - 2s 28ms/step - loss: 0.3201 - accuracy: 0.8942\n",
            "40/40 [==============================] - 2s 28ms/step - loss: 0.3637 - accuracy: 0.8539\n",
            "40/40 [==============================] - 2s 28ms/step - loss: 0.2130 - accuracy: 0.9252\n",
            "40/40 [==============================] - 2s 28ms/step - loss: 0.3370 - accuracy: 0.8846\n",
            "40/40 [==============================] - 2s 28ms/step - loss: 0.2717 - accuracy: 0.9174\n",
            "40/40 [==============================] - 2s 28ms/step - loss: 0.3485 - accuracy: 0.8852\n",
            "FedAvg Node is [7, 0, 1, 9, 5, 8]\n",
            "7/7 [==============================] - 0s 9ms/step - loss: 0.3192 - accuracy: 0.9048\n",
            "EPOCHS 17 is starting...\n",
            "40/40 [==============================] - 2s 28ms/step - loss: 0.3274 - accuracy: 0.8740\n",
            "40/40 [==============================] - 2s 28ms/step - loss: 0.2688 - accuracy: 0.8860\n",
            "40/40 [==============================] - 2s 28ms/step - loss: 0.2338 - accuracy: 0.9255\n",
            "40/40 [==============================] - 2s 28ms/step - loss: 0.1943 - accuracy: 0.9338\n",
            "40/40 [==============================] - 2s 28ms/step - loss: 0.2898 - accuracy: 0.9005\n",
            "40/40 [==============================] - 2s 28ms/step - loss: 0.4103 - accuracy: 0.8281\n",
            "40/40 [==============================] - 2s 28ms/step - loss: 0.2050 - accuracy: 0.9214\n",
            "40/40 [==============================] - 2s 28ms/step - loss: 0.3194 - accuracy: 0.8766\n",
            "40/40 [==============================] - 2s 28ms/step - loss: 0.2577 - accuracy: 0.9092\n",
            "40/40 [==============================] - 2s 29ms/step - loss: 0.3255 - accuracy: 0.8752\n",
            "FedAvg Node is [9, 0, 1, 5, 7, 2]\n",
            "7/7 [==============================] - 0s 8ms/step - loss: 0.2556 - accuracy: 0.9176\n",
            "EPOCHS 18 is starting...\n",
            "40/40 [==============================] - 2s 28ms/step - loss: 0.3325 - accuracy: 0.8996\n",
            "40/40 [==============================] - 2s 28ms/step - loss: 0.2751 - accuracy: 0.8905\n",
            "40/40 [==============================] - 2s 29ms/step - loss: 0.2441 - accuracy: 0.9244\n",
            "40/40 [==============================] - 2s 28ms/step - loss: 0.1599 - accuracy: 0.9443\n",
            "40/40 [==============================] - 2s 28ms/step - loss: 0.3016 - accuracy: 0.9019\n",
            "40/40 [==============================] - 2s 28ms/step - loss: 0.3516 - accuracy: 0.8616\n",
            "40/40 [==============================] - 2s 28ms/step - loss: 0.2279 - accuracy: 0.9154\n",
            "40/40 [==============================] - 2s 28ms/step - loss: 0.2903 - accuracy: 0.8976\n",
            "40/40 [==============================] - 2s 28ms/step - loss: 0.2814 - accuracy: 0.9067\n",
            "40/40 [==============================] - 2s 28ms/step - loss: 0.3223 - accuracy: 0.8763\n",
            "FedAvg Node is [7, 0, 9, 8, 1, 5]\n",
            "7/7 [==============================] - 0s 8ms/step - loss: 0.2705 - accuracy: 0.9139\n",
            "EPOCHS 19 is starting...\n",
            "40/40 [==============================] - 2s 28ms/step - loss: 0.3005 - accuracy: 0.8871\n",
            "40/40 [==============================] - 2s 28ms/step - loss: 0.2418 - accuracy: 0.8984\n",
            "40/40 [==============================] - 2s 28ms/step - loss: 0.2250 - accuracy: 0.9301\n",
            "40/40 [==============================] - 2s 28ms/step - loss: 0.1309 - accuracy: 0.9529\n",
            "40/40 [==============================] - 2s 28ms/step - loss: 0.2739 - accuracy: 0.9049\n",
            "40/40 [==============================] - 2s 28ms/step - loss: 0.3610 - accuracy: 0.8561\n",
            "40/40 [==============================] - 2s 29ms/step - loss: 0.2146 - accuracy: 0.9258\n",
            "40/40 [==============================] - 2s 28ms/step - loss: 0.2938 - accuracy: 0.8841\n",
            "40/40 [==============================] - 2s 28ms/step - loss: 0.2218 - accuracy: 0.9289\n",
            "40/40 [==============================] - 2s 28ms/step - loss: 0.3083 - accuracy: 0.8751\n",
            "FedAvg Node is [9, 0, 5, 7, 8, 1]\n",
            "7/7 [==============================] - 0s 8ms/step - loss: 0.2678 - accuracy: 0.9107\n",
            "EPOCHS 20 is starting...\n",
            "40/40 [==============================] - 2s 28ms/step - loss: 0.2776 - accuracy: 0.9075\n",
            "40/40 [==============================] - 2s 28ms/step - loss: 0.2439 - accuracy: 0.8827\n",
            "40/40 [==============================] - 2s 28ms/step - loss: 0.2229 - accuracy: 0.9306\n",
            "40/40 [==============================] - 2s 28ms/step - loss: 0.1650 - accuracy: 0.9406\n",
            "40/40 [==============================] - 2s 28ms/step - loss: 0.3107 - accuracy: 0.8846\n",
            "40/40 [==============================] - 2s 29ms/step - loss: 0.3269 - accuracy: 0.8619\n",
            "40/40 [==============================] - 2s 28ms/step - loss: 0.2236 - accuracy: 0.9226\n",
            "40/40 [==============================] - 2s 28ms/step - loss: 0.2519 - accuracy: 0.9141\n",
            "40/40 [==============================] - 2s 28ms/step - loss: 0.2097 - accuracy: 0.9262\n",
            "40/40 [==============================] - 2s 28ms/step - loss: 0.2978 - accuracy: 0.8868\n",
            "FedAvg Node is [7, 1, 5, 0, 9, 8]\n",
            "7/7 [==============================] - 0s 8ms/step - loss: 0.2728 - accuracy: 0.9229\n",
            "EPOCHS 21 is starting...\n",
            "40/40 [==============================] - 2s 29ms/step - loss: 0.2728 - accuracy: 0.9023\n",
            "40/40 [==============================] - 2s 29ms/step - loss: 0.2590 - accuracy: 0.8954\n",
            "40/40 [==============================] - 2s 28ms/step - loss: 0.2049 - accuracy: 0.9414\n",
            "40/40 [==============================] - 2s 28ms/step - loss: 0.1712 - accuracy: 0.9338\n",
            "40/40 [==============================] - 2s 28ms/step - loss: 0.3018 - accuracy: 0.8923\n",
            "40/40 [==============================] - 2s 28ms/step - loss: 0.3013 - accuracy: 0.8755\n",
            "40/40 [==============================] - 2s 29ms/step - loss: 0.2198 - accuracy: 0.9144\n",
            "40/40 [==============================] - 2s 28ms/step - loss: 0.2513 - accuracy: 0.9082\n",
            "40/40 [==============================] - 2s 28ms/step - loss: 0.2243 - accuracy: 0.9205\n",
            "40/40 [==============================] - 2s 28ms/step - loss: 0.2662 - accuracy: 0.8856\n",
            "FedAvg Node is [0, 5, 7, 9, 1, 8]\n",
            "7/7 [==============================] - 0s 8ms/step - loss: 0.1998 - accuracy: 0.9515\n",
            "EPOCHS 22 is starting...\n",
            "40/40 [==============================] - 2s 28ms/step - loss: 0.2516 - accuracy: 0.9064\n",
            "40/40 [==============================] - 2s 28ms/step - loss: 0.2225 - accuracy: 0.9005\n",
            "40/40 [==============================] - 2s 28ms/step - loss: 0.2179 - accuracy: 0.9216\n",
            "40/40 [==============================] - 2s 29ms/step - loss: 0.2050 - accuracy: 0.9324\n",
            "40/40 [==============================] - 2s 28ms/step - loss: 0.2764 - accuracy: 0.9092\n",
            "40/40 [==============================] - 2s 28ms/step - loss: 0.3009 - accuracy: 0.8717\n",
            "40/40 [==============================] - 2s 28ms/step - loss: 0.2189 - accuracy: 0.9113\n",
            "40/40 [==============================] - 2s 29ms/step - loss: 0.2424 - accuracy: 0.9136\n",
            "40/40 [==============================] - 2s 29ms/step - loss: 0.2012 - accuracy: 0.9330\n",
            "40/40 [==============================] - 2s 29ms/step - loss: 0.2834 - accuracy: 0.8927\n",
            "FedAvg Node is [0, 5, 7, 9, 1, 8]\n",
            "7/7 [==============================] - 1s 8ms/step - loss: 0.2342 - accuracy: 0.9392\n",
            "EPOCHS 23 is starting...\n",
            "40/40 [==============================] - 2s 28ms/step - loss: 0.2770 - accuracy: 0.8965\n",
            "40/40 [==============================] - 2s 28ms/step - loss: 0.2239 - accuracy: 0.8993\n",
            "40/40 [==============================] - 2s 29ms/step - loss: 0.2009 - accuracy: 0.9373\n",
            "40/40 [==============================] - 2s 28ms/step - loss: 0.1490 - accuracy: 0.9523\n",
            "40/40 [==============================] - 2s 28ms/step - loss: 0.2810 - accuracy: 0.8965\n",
            "40/40 [==============================] - 2s 28ms/step - loss: 0.3076 - accuracy: 0.8573\n",
            "40/40 [==============================] - 2s 28ms/step - loss: 0.2139 - accuracy: 0.9248\n",
            "40/40 [==============================] - 2s 28ms/step - loss: 0.2519 - accuracy: 0.9166\n",
            "40/40 [==============================] - 2s 29ms/step - loss: 0.1739 - accuracy: 0.9460\n",
            "40/40 [==============================] - 2s 28ms/step - loss: 0.2497 - accuracy: 0.9053\n",
            "FedAvg Node is [0, 8, 9, 5, 1, 7]\n",
            "7/7 [==============================] - 0s 10ms/step - loss: 0.2058 - accuracy: 0.9419\n",
            "EPOCHS 24 is starting...\n",
            "40/40 [==============================] - 2s 29ms/step - loss: 0.2350 - accuracy: 0.9183\n",
            "40/40 [==============================] - 2s 29ms/step - loss: 0.2457 - accuracy: 0.9016\n",
            "40/40 [==============================] - 2s 29ms/step - loss: 0.1997 - accuracy: 0.9339\n",
            "40/40 [==============================] - 2s 29ms/step - loss: 0.1790 - accuracy: 0.9302\n",
            "40/40 [==============================] - 2s 28ms/step - loss: 0.2775 - accuracy: 0.9084\n",
            "40/40 [==============================] - 2s 29ms/step - loss: 0.2592 - accuracy: 0.8998\n",
            "40/40 [==============================] - 2s 28ms/step - loss: 0.2068 - accuracy: 0.9200\n",
            "40/40 [==============================] - 2s 29ms/step - loss: 0.2420 - accuracy: 0.9176\n",
            "40/40 [==============================] - 2s 29ms/step - loss: 0.1689 - accuracy: 0.9322\n",
            "40/40 [==============================] - 2s 28ms/step - loss: 0.2419 - accuracy: 0.9053\n",
            "FedAvg Node is [9, 7, 5, 1, 0, 8]\n",
            "7/7 [==============================] - 0s 8ms/step - loss: 0.2264 - accuracy: 0.9392\n",
            "EPOCHS 25 is starting...\n",
            "40/40 [==============================] - 2s 29ms/step - loss: 0.2532 - accuracy: 0.9087\n",
            "40/40 [==============================] - 2s 28ms/step - loss: 0.2262 - accuracy: 0.9041\n",
            "40/40 [==============================] - 2s 28ms/step - loss: 0.2063 - accuracy: 0.9244\n",
            "40/40 [==============================] - 2s 28ms/step - loss: 0.1614 - accuracy: 0.9432\n",
            "40/40 [==============================] - 2s 28ms/step - loss: 0.2877 - accuracy: 0.9038\n",
            "40/40 [==============================] - 2s 29ms/step - loss: 0.2715 - accuracy: 0.8872\n",
            "40/40 [==============================] - 2s 28ms/step - loss: 0.2425 - accuracy: 0.9142\n",
            "40/40 [==============================] - 2s 28ms/step - loss: 0.2292 - accuracy: 0.9324\n",
            "40/40 [==============================] - 2s 28ms/step - loss: 0.1761 - accuracy: 0.9400\n",
            "40/40 [==============================] - 2s 28ms/step - loss: 0.2477 - accuracy: 0.9019\n",
            "FedAvg Node is [7, 0, 9, 5, 8, 1]\n",
            "7/7 [==============================] - 0s 10ms/step - loss: 0.2087 - accuracy: 0.9488\n",
            "EPOCHS 26 is starting...\n",
            "40/40 [==============================] - 2s 29ms/step - loss: 0.2082 - accuracy: 0.9363\n",
            "40/40 [==============================] - 2s 28ms/step - loss: 0.2110 - accuracy: 0.9078\n",
            "40/40 [==============================] - 2s 29ms/step - loss: 0.2129 - accuracy: 0.9269\n",
            "40/40 [==============================] - 2s 28ms/step - loss: 0.1480 - accuracy: 0.9508\n",
            "40/40 [==============================] - 2s 28ms/step - loss: 0.2490 - accuracy: 0.9166\n",
            "40/40 [==============================] - 2s 28ms/step - loss: 0.2547 - accuracy: 0.8998\n",
            "40/40 [==============================] - 2s 28ms/step - loss: 0.2170 - accuracy: 0.9287\n",
            "40/40 [==============================] - 2s 28ms/step - loss: 0.2339 - accuracy: 0.9239\n",
            "40/40 [==============================] - 2s 28ms/step - loss: 0.1639 - accuracy: 0.9478\n",
            "40/40 [==============================] - 2s 28ms/step - loss: 0.2553 - accuracy: 0.8867\n",
            "FedAvg Node is [7, 9, 8, 1, 0, 5]\n",
            "7/7 [==============================] - 0s 9ms/step - loss: 0.1980 - accuracy: 0.9488\n",
            "EPOCHS 27 is starting...\n",
            "40/40 [==============================] - 2s 29ms/step - loss: 0.2131 - accuracy: 0.9203\n",
            "40/40 [==============================] - 2s 29ms/step - loss: 0.2148 - accuracy: 0.9152\n",
            "40/40 [==============================] - 2s 28ms/step - loss: 0.2172 - accuracy: 0.9292\n",
            "40/40 [==============================] - 2s 29ms/step - loss: 0.1579 - accuracy: 0.9501\n",
            "40/40 [==============================] - 2s 28ms/step - loss: 0.2702 - accuracy: 0.9097\n",
            "40/40 [==============================] - 2s 28ms/step - loss: 0.2572 - accuracy: 0.8860\n",
            "40/40 [==============================] - 2s 28ms/step - loss: 0.1893 - accuracy: 0.9247\n",
            "40/40 [==============================] - 2s 30ms/step - loss: 0.2567 - accuracy: 0.9069\n",
            "40/40 [==============================] - 2s 29ms/step - loss: 0.1568 - accuracy: 0.9421\n",
            "40/40 [==============================] - 2s 29ms/step - loss: 0.2419 - accuracy: 0.9061\n",
            "FedAvg Node is [9, 0, 5, 7, 1, 8]\n",
            "7/7 [==============================] - 0s 8ms/step - loss: 0.2211 - accuracy: 0.9370\n",
            "EPOCHS 28 is starting...\n",
            "40/40 [==============================] - 2s 29ms/step - loss: 0.2411 - accuracy: 0.9118\n",
            "40/40 [==============================] - 2s 29ms/step - loss: 0.2118 - accuracy: 0.9111\n",
            "40/40 [==============================] - 2s 29ms/step - loss: 0.2232 - accuracy: 0.9250\n",
            "40/40 [==============================] - 2s 29ms/step - loss: 0.1565 - accuracy: 0.9453\n",
            "40/40 [==============================] - 2s 29ms/step - loss: 0.2776 - accuracy: 0.8985\n",
            "40/40 [==============================] - 2s 29ms/step - loss: 0.2326 - accuracy: 0.9125\n",
            "40/40 [==============================] - 2s 29ms/step - loss: 0.1974 - accuracy: 0.9132\n",
            "40/40 [==============================] - 2s 29ms/step - loss: 0.2203 - accuracy: 0.9222\n",
            "40/40 [==============================] - 2s 29ms/step - loss: 0.1371 - accuracy: 0.9513\n",
            "40/40 [==============================] - 2s 29ms/step - loss: 0.2025 - accuracy: 0.9156\n",
            "FedAvg Node is [5, 7, 8, 9, 0, 1]\n",
            "7/7 [==============================] - 0s 10ms/step - loss: 0.2193 - accuracy: 0.9317\n",
            "EPOCHS 29 is starting...\n",
            "40/40 [==============================] - 2s 29ms/step - loss: 0.2103 - accuracy: 0.9198\n",
            "40/40 [==============================] - 2s 29ms/step - loss: 0.1950 - accuracy: 0.9099\n",
            "40/40 [==============================] - 2s 29ms/step - loss: 0.2012 - accuracy: 0.9405\n",
            "40/40 [==============================] - 2s 29ms/step - loss: 0.1521 - accuracy: 0.9592\n",
            "40/40 [==============================] - 2s 29ms/step - loss: 0.2653 - accuracy: 0.9114\n",
            "40/40 [==============================] - 2s 28ms/step - loss: 0.2523 - accuracy: 0.8950\n",
            "40/40 [==============================] - 2s 28ms/step - loss: 0.2131 - accuracy: 0.9251\n",
            "40/40 [==============================] - 2s 29ms/step - loss: 0.2054 - accuracy: 0.9228\n",
            "40/40 [==============================] - 2s 28ms/step - loss: 0.1518 - accuracy: 0.9478\n",
            "40/40 [==============================] - 2s 28ms/step - loss: 0.2142 - accuracy: 0.9084\n",
            "FedAvg Node is [9, 8, 7, 0, 5, 1]\n",
            "7/7 [==============================] - 0s 8ms/step - loss: 0.2503 - accuracy: 0.9272\n"
          ],
          "name": "stdout"
        }
      ]
    },
    {
      "cell_type": "code",
      "metadata": {
        "colab": {
          "base_uri": "https://localhost:8080/",
          "height": 281
        },
        "id": "MlX5KEebHTeY",
        "outputId": "357a0c6f-079b-460d-a394-6c195a8b989d"
      },
      "source": [
        "#deal the data\n",
        "S_acc =[S.loss_acc[i][1]*100 for i in range(len(S.loss_acc))]\n",
        "S_loss =[S.loss_acc[i][0] for i in range(len(S.loss_acc))]\n",
        "\n",
        "#prepare show image\n",
        "x = np.arange(len(S.loss_acc))\n",
        "fig = plt.figure()\n",
        "ax1 = fig.add_subplot(111)\n",
        "acc = ax1.plot(x,S_acc,'r',label='Acc')\n",
        "ax1.set_ylabel('Acc')\n",
        "ax1.set_title('Acc-Loss')\n",
        "\n",
        "ax2 = ax1.twinx()\n",
        "loss = ax2.plot(x,S_loss,label='Loss')\n",
        "ax2.set_ylabel('Loss')\n",
        "\n",
        "lns = acc+loss\n",
        "labs = [l.get_label() for l in lns]\n",
        "ax2.legend(lns,labs)\n",
        "plt.show()"
      ],
      "execution_count": 173,
      "outputs": [
        {
          "output_type": "display_data",
          "data": {
            "image/png": "[encoded data removed]",
            "text/plain": [
              "<Figure size 432x288 with 2 Axes>"
            ]
          },
          "metadata": {
            "tags": [],
            "needs_background": "light"
          }
        }
      ]
    },
    {
      "cell_type": "code",
      "metadata": {
        "colab": {
          "base_uri": "https://localhost:8080/"
        },
        "id": "lXC1RS38HTXb",
        "outputId": "bef6ef86-0c50-4977-b889-086975e42949"
      },
      "source": [
        "NodeList"
      ],
      "execution_count": 174,
      "outputs": [
        {
          "output_type": "execute_result",
          "data": {
            "text/plain": [
              "[[1, 6, 3, 5, 9, 7, 0, 4, 8, 2],\n",
              " [3, 6, 1, 5, 9, 7, 0, 8, 4],\n",
              " [6, 3, 1, 5, 9, 7, 0, 8],\n",
              " [3, 6, 1, 9, 5, 0, 4],\n",
              " [1, 6, 3, 9, 5, 7],\n",
              " [6, 3, 1, 5, 9, 7],\n",
              " [1, 6, 9, 5, 0, 3],\n",
              " [1, 6, 3, 7, 9, 5],\n",
              " [6, 1, 9, 3, 5, 7],\n",
              " [1, 5, 6, 3, 9, 7],\n",
              " [1, 6, 9, 5, 7, 0],\n",
              " [7, 9, 1, 6, 5, 8],\n",
              " [5, 6, 9, 1, 0, 7],\n",
              " [1, 9, 0, 7, 5, 8],\n",
              " [7, 9, 0, 1, 8, 5],\n",
              " [1, 9, 5, 0, 7, 8],\n",
              " [7, 0, 1, 9, 5, 8],\n",
              " [9, 0, 1, 5, 7, 2],\n",
              " [7, 0, 9, 8, 1, 5],\n",
              " [9, 0, 5, 7, 8, 1],\n",
              " [7, 1, 5, 0, 9, 8],\n",
              " [0, 5, 7, 9, 1, 8],\n",
              " [0, 5, 7, 9, 1, 8],\n",
              " [0, 8, 9, 5, 1, 7],\n",
              " [9, 7, 5, 1, 0, 8],\n",
              " [7, 0, 9, 5, 8, 1],\n",
              " [7, 9, 8, 1, 0, 5],\n",
              " [9, 0, 5, 7, 1, 8],\n",
              " [5, 7, 8, 9, 0, 1],\n",
              " [9, 8, 7, 0, 5, 1]]"
            ]
          },
          "metadata": {
            "tags": []
          },
          "execution_count": 174
        }
      ]
    },
    {
      "cell_type": "code",
      "metadata": {
        "colab": {
          "base_uri": "https://localhost:8080/",
          "height": 295
        },
        "id": "LM3n47YxHTNn",
        "outputId": "02b1320e-8da2-4ed9-ffaa-dc5f3ebca5c7"
      },
      "source": [
        "#deal the data\n",
        "img = np.ones(shape=(NUM_EPOCHS,NUM_CLIENTS),dtype=int)\n",
        "for i in range(len(NodeList)):\n",
        "  for j in NodeList[i]:\n",
        "    img[i][j]=0\n",
        "#prepare show image\n",
        "len_n = len(S.loss_acc)\n",
        "ax = plt.gca()\n",
        "ax.set_xlim(-0.5,NUM_CLIENTS-0.5)\n",
        "ax.set_ylim(-0.5,9.5)\n",
        "miloc = plt.MultipleLocator(1)\n",
        "ax.xaxis.set_minor_locator(miloc)\n",
        "plt.grid()\n",
        "plt.title(\"Nodes in each epoch\")\n",
        "plt.imshow(img*255,cmap='gray')\n",
        "plt.axis('on')\n",
        "plt.xlabel('Nodes')\n",
        "plt.ylabel('Epoch')\n",
        "x = np.arange(0.5,NUM_CLIENTS+0.5,1)\n",
        "y = np.arange(0.5,NUM_EPOCHS+0.5,1)\n",
        "plt.xticks()\n",
        "plt.yticks(y,(int(i-0.5) for i in y))\n",
        "plt.xticks(x,(int(i-0.5) for i in x))\n",
        "plt.show()"
      ],
      "execution_count": 157,
      "outputs": [
        {
          "output_type": "display_data",
          "data": {
            "image/png": "[encoded data removed]",
            "text/plain": [
              "<Figure size 432x288 with 1 Axes>"
            ]
          },
          "metadata": {
            "tags": [],
            "needs_background": "light"
          }
        }
      ]
    },
    {
      "cell_type": "markdown",
      "metadata": {
        "id": "i2axuRBsO6V7"
      },
      "source": [
        "设置对照组，即普通的FedAvg"
      ]
    },
    {
      "cell_type": "code",
      "metadata": {
        "id": "wwI_gLjwO5w4"
      },
      "source": [
        "def FedAvg_Baseline(NUM_CLIENTS,model):\n",
        "  iterModel = model.copy()\n",
        "  len_it = len(iterModel.trainable_variables)\n",
        "  all_weights = []\n",
        "  for weights_index in range(len_it):\n",
        "    tmp =np.zeros(iterModel.trainable_variables[weights_index].numpy().shape,dtype='float64')\n",
        "    for node in range(NUM_CLIENTS):\n",
        "      tmp += clients[node].model.trainable_variables[weights_index].numpy()\n",
        "    all_weights.append(tmp/NUM_CLIENTS)\n",
        "  # print(all_weights)\n",
        "  iterModel_vars = iterModel.trainable_variables\n",
        "  for iter_v,n in zip(iterModel_vars,all_weights):\n",
        "    iter_v.assign(n)\n",
        "  return iterModel"
      ],
      "execution_count": 175,
      "outputs": []
    },
    {
      "cell_type": "code",
      "metadata": {
        "colab": {
          "base_uri": "https://localhost:8080/"
        },
        "id": "X5o0nVueO0m7",
        "outputId": "e4b1623d-7669-43bd-f6a9-080cfb2437b7"
      },
      "source": [
        "InitModel = FLModel(row=28,col=28,num_classes=11)\n",
        "S2 = ParamServer(\"\")\n",
        "S2.PreEval(InitModel,validation_data)\n",
        "SendModel = InitModel"
      ],
      "execution_count": 176,
      "outputs": [
        {
          "output_type": "stream",
          "text": [
            "7/7 [==============================] - 0s 8ms/step - loss: 2.3913 - accuracy: 0.1459\n"
          ],
          "name": "stdout"
        }
      ]
    },
    {
      "cell_type": "code",
      "metadata": {
        "colab": {
          "base_uri": "https://localhost:8080/"
        },
        "id": "KW2JdgUEP0C5",
        "outputId": "5c56db69-fb64-4bbf-b55d-3ff00e595673"
      },
      "source": [
        "SendModel = S2.PreTrain(InitModel,DigitDataSet[0][0:200],DigitDataSet[1][0:200],epochs=1)\n",
        "S2.PreEval(SendModel,validation_data)"
      ],
      "execution_count": 160,
      "outputs": [
        {
          "output_type": "stream",
          "text": [
            "7/7 [==============================] - 1s 26ms/step - loss: 2.3700 - accuracy: 0.0852\n",
            "7/7 [==============================] - 0s 8ms/step - loss: 2.2193 - accuracy: 0.2868\n"
          ],
          "name": "stdout"
        }
      ]
    },
    {
      "cell_type": "code",
      "metadata": {
        "id": "Bwd2uL1FUpeH"
      },
      "source": [
        "NUM_EPOCHS = 30"
      ],
      "execution_count": 161,
      "outputs": []
    },
    {
      "cell_type": "code",
      "metadata": {
        "colab": {
          "base_uri": "https://localhost:8080/",
          "height": 515
        },
        "id": "dejoUrZlPz5l",
        "outputId": "f7611a33-da76-4d20-ce84-ef889f95c68a"
      },
      "source": [
        "for e in range(NUM_EPOCHS):\n",
        "  print(\"EPOCHS {} is starting...\".format(e))\n",
        "  for i in range(NUM_CLIENTS):\n",
        "    clients[i].ReceiveModel(SendModel.copy())\n",
        "    clients[i].NodeTrain()\n",
        "    # clients[i].NodeEval()\n",
        "    # DIS.append(Distance(SendModel,clients[i].model))\n",
        "  FedModel = FedAvg_Baseline(NUM_CLIENTS,SendModel)\n",
        "  S2.PreEval(FedModel,validation_data)\n",
        "  SendModel = FedModel.copy()"
      ],
      "execution_count": 178,
      "outputs": [
        {
          "output_type": "stream",
          "text": [
            "EPOCHS 0 is starting...\n",
            "40/40 [==============================] - 2s 27ms/step - loss: 0.2105 - accuracy: 0.9146\n",
            "40/40 [==============================] - 2s 28ms/step - loss: 0.2231 - accuracy: 0.9082\n",
            "40/40 [==============================] - 2s 27ms/step - loss: 0.1354 - accuracy: 0.9667\n",
            "40/40 [==============================] - 2s 27ms/step - loss: 0.1152 - accuracy: 0.9538\n",
            "40/40 [==============================] - 2s 27ms/step - loss: 0.1933 - accuracy: 0.9440\n",
            "15/40 [==========>...................] - ETA: 0s - loss: 0.2313 - accuracy: 0.9000"
          ],
          "name": "stdout"
        },
        {
          "output_type": "error",
          "ename": "KeyboardInterrupt",
          "evalue": "ignored",
          "traceback": [
            "\u001b[0;31m---------------------------------------------------------------------------\u001b[0m",
            "\u001b[0;31mKeyboardInterrupt\u001b[0m                         Traceback (most recent call last)",
            "\u001b[0;32m<ipython-input-178-6704f4e50aaf>\u001b[0m in \u001b[0;36m<module>\u001b[0;34m()\u001b[0m\n\u001b[1;32m      3\u001b[0m   \u001b[0;32mfor\u001b[0m \u001b[0mi\u001b[0m \u001b[0;32min\u001b[0m \u001b[0mrange\u001b[0m\u001b[0;34m(\u001b[0m\u001b[0mNUM_CLIENTS\u001b[0m\u001b[0;34m)\u001b[0m\u001b[0;34m:\u001b[0m\u001b[0;34m\u001b[0m\u001b[0;34m\u001b[0m\u001b[0m\n\u001b[1;32m      4\u001b[0m     \u001b[0mclients\u001b[0m\u001b[0;34m[\u001b[0m\u001b[0mi\u001b[0m\u001b[0;34m]\u001b[0m\u001b[0;34m.\u001b[0m\u001b[0mReceiveModel\u001b[0m\u001b[0;34m(\u001b[0m\u001b[0mSendModel\u001b[0m\u001b[0;34m.\u001b[0m\u001b[0mcopy\u001b[0m\u001b[0;34m(\u001b[0m\u001b[0;34m)\u001b[0m\u001b[0;34m)\u001b[0m\u001b[0;34m\u001b[0m\u001b[0;34m\u001b[0m\u001b[0m\n\u001b[0;32m----> 5\u001b[0;31m     \u001b[0mclients\u001b[0m\u001b[0;34m[\u001b[0m\u001b[0mi\u001b[0m\u001b[0;34m]\u001b[0m\u001b[0;34m.\u001b[0m\u001b[0mNodeTrain\u001b[0m\u001b[0;34m(\u001b[0m\u001b[0;34m)\u001b[0m\u001b[0;34m\u001b[0m\u001b[0;34m\u001b[0m\u001b[0m\n\u001b[0m\u001b[1;32m      6\u001b[0m     \u001b[0;31m# clients[i].NodeEval()\u001b[0m\u001b[0;34m\u001b[0m\u001b[0;34m\u001b[0m\u001b[0;34m\u001b[0m\u001b[0m\n\u001b[1;32m      7\u001b[0m     \u001b[0;31m# DIS.append(Distance(SendModel,clients[i].model))\u001b[0m\u001b[0;34m\u001b[0m\u001b[0;34m\u001b[0m\u001b[0;34m\u001b[0m\u001b[0m\n",
            "\u001b[0;32m<ipython-input-59-6710b21057f4>\u001b[0m in \u001b[0;36mNodeTrain\u001b[0;34m(self)\u001b[0m\n\u001b[1;32m     46\u001b[0m     \u001b[0;31m# log_dir=\"logs/fit/\" + datetime.datetime.now().strftime(\"%Y%m%d-%H%M%S\")\u001b[0m\u001b[0;34m\u001b[0m\u001b[0;34m\u001b[0m\u001b[0;34m\u001b[0m\u001b[0m\n\u001b[1;32m     47\u001b[0m     \u001b[0;31m# tensorboard_callback = tf.keras.callbacks.TensorBoard(log_dir=log_dir, histogram_freq=1)\u001b[0m\u001b[0;34m\u001b[0m\u001b[0;34m\u001b[0m\u001b[0;34m\u001b[0m\u001b[0m\n\u001b[0;32m---> 48\u001b[0;31m     \u001b[0m_metrics\u001b[0m \u001b[0;34m=\u001b[0m \u001b[0mmodel\u001b[0m\u001b[0;34m.\u001b[0m\u001b[0mfit\u001b[0m\u001b[0;34m(\u001b[0m\u001b[0mx\u001b[0m\u001b[0;34m,\u001b[0m\u001b[0my\u001b[0m\u001b[0;34m,\u001b[0m\u001b[0mbatch_size\u001b[0m\u001b[0;34m=\u001b[0m\u001b[0mself\u001b[0m\u001b[0;34m.\u001b[0m\u001b[0mbatch_size\u001b[0m\u001b[0;34m,\u001b[0m\u001b[0mepochs\u001b[0m\u001b[0;34m=\u001b[0m\u001b[0mself\u001b[0m\u001b[0;34m.\u001b[0m\u001b[0mnum_epochs\u001b[0m\u001b[0;34m)\u001b[0m\u001b[0;34m\u001b[0m\u001b[0;34m\u001b[0m\u001b[0m\n\u001b[0m\u001b[1;32m     49\u001b[0m     \u001b[0mself\u001b[0m\u001b[0;34m.\u001b[0m\u001b[0mmodel\u001b[0m \u001b[0;34m=\u001b[0m \u001b[0mmodel\u001b[0m\u001b[0;34m\u001b[0m\u001b[0;34m\u001b[0m\u001b[0m\n\u001b[1;32m     50\u001b[0m \u001b[0;34m\u001b[0m\u001b[0m\n",
            "\u001b[0;32m/usr/local/lib/python3.7/dist-packages/tensorflow/python/keras/engine/training.py\u001b[0m in \u001b[0;36mfit\u001b[0;34m(self, x, y, batch_size, epochs, verbose, callbacks, validation_split, validation_data, shuffle, class_weight, sample_weight, initial_epoch, steps_per_epoch, validation_steps, validation_batch_size, validation_freq, max_queue_size, workers, use_multiprocessing)\u001b[0m\n\u001b[1;32m   1098\u001b[0m                 _r=1):\n\u001b[1;32m   1099\u001b[0m               \u001b[0mcallbacks\u001b[0m\u001b[0;34m.\u001b[0m\u001b[0mon_train_batch_begin\u001b[0m\u001b[0;34m(\u001b[0m\u001b[0mstep\u001b[0m\u001b[0;34m)\u001b[0m\u001b[0;34m\u001b[0m\u001b[0;34m\u001b[0m\u001b[0m\n\u001b[0;32m-> 1100\u001b[0;31m               \u001b[0mtmp_logs\u001b[0m \u001b[0;34m=\u001b[0m \u001b[0mself\u001b[0m\u001b[0;34m.\u001b[0m\u001b[0mtrain_function\u001b[0m\u001b[0;34m(\u001b[0m\u001b[0miterator\u001b[0m\u001b[0;34m)\u001b[0m\u001b[0;34m\u001b[0m\u001b[0;34m\u001b[0m\u001b[0m\n\u001b[0m\u001b[1;32m   1101\u001b[0m               \u001b[0;32mif\u001b[0m \u001b[0mdata_handler\u001b[0m\u001b[0;34m.\u001b[0m\u001b[0mshould_sync\u001b[0m\u001b[0;34m:\u001b[0m\u001b[0;34m\u001b[0m\u001b[0;34m\u001b[0m\u001b[0m\n\u001b[1;32m   1102\u001b[0m                 \u001b[0mcontext\u001b[0m\u001b[0;34m.\u001b[0m\u001b[0masync_wait\u001b[0m\u001b[0;34m(\u001b[0m\u001b[0;34m)\u001b[0m\u001b[0;34m\u001b[0m\u001b[0;34m\u001b[0m\u001b[0m\n",
            "\u001b[0;32m/usr/local/lib/python3.7/dist-packages/tensorflow/python/eager/def_function.py\u001b[0m in \u001b[0;36m__call__\u001b[0;34m(self, *args, **kwds)\u001b[0m\n\u001b[1;32m    826\u001b[0m     \u001b[0mtracing_count\u001b[0m \u001b[0;34m=\u001b[0m \u001b[0mself\u001b[0m\u001b[0;34m.\u001b[0m\u001b[0mexperimental_get_tracing_count\u001b[0m\u001b[0;34m(\u001b[0m\u001b[0;34m)\u001b[0m\u001b[0;34m\u001b[0m\u001b[0;34m\u001b[0m\u001b[0m\n\u001b[1;32m    827\u001b[0m     \u001b[0;32mwith\u001b[0m \u001b[0mtrace\u001b[0m\u001b[0;34m.\u001b[0m\u001b[0mTrace\u001b[0m\u001b[0;34m(\u001b[0m\u001b[0mself\u001b[0m\u001b[0;34m.\u001b[0m\u001b[0m_name\u001b[0m\u001b[0;34m)\u001b[0m \u001b[0;32mas\u001b[0m \u001b[0mtm\u001b[0m\u001b[0;34m:\u001b[0m\u001b[0;34m\u001b[0m\u001b[0;34m\u001b[0m\u001b[0m\n\u001b[0;32m--> 828\u001b[0;31m       \u001b[0mresult\u001b[0m \u001b[0;34m=\u001b[0m \u001b[0mself\u001b[0m\u001b[0;34m.\u001b[0m\u001b[0m_call\u001b[0m\u001b[0;34m(\u001b[0m\u001b[0;34m*\u001b[0m\u001b[0margs\u001b[0m\u001b[0;34m,\u001b[0m \u001b[0;34m**\u001b[0m\u001b[0mkwds\u001b[0m\u001b[0;34m)\u001b[0m\u001b[0;34m\u001b[0m\u001b[0;34m\u001b[0m\u001b[0m\n\u001b[0m\u001b[1;32m    829\u001b[0m       \u001b[0mcompiler\u001b[0m \u001b[0;34m=\u001b[0m \u001b[0;34m\"xla\"\u001b[0m \u001b[0;32mif\u001b[0m \u001b[0mself\u001b[0m\u001b[0;34m.\u001b[0m\u001b[0m_experimental_compile\u001b[0m \u001b[0;32melse\u001b[0m \u001b[0;34m\"nonXla\"\u001b[0m\u001b[0;34m\u001b[0m\u001b[0;34m\u001b[0m\u001b[0m\n\u001b[1;32m    830\u001b[0m       \u001b[0mnew_tracing_count\u001b[0m \u001b[0;34m=\u001b[0m \u001b[0mself\u001b[0m\u001b[0;34m.\u001b[0m\u001b[0mexperimental_get_tracing_count\u001b[0m\u001b[0;34m(\u001b[0m\u001b[0;34m)\u001b[0m\u001b[0;34m\u001b[0m\u001b[0;34m\u001b[0m\u001b[0m\n",
            "\u001b[0;32m/usr/local/lib/python3.7/dist-packages/tensorflow/python/eager/def_function.py\u001b[0m in \u001b[0;36m_call\u001b[0;34m(self, *args, **kwds)\u001b[0m\n\u001b[1;32m    853\u001b[0m       \u001b[0;31m# In this case we have created variables on the first call, so we run the\u001b[0m\u001b[0;34m\u001b[0m\u001b[0;34m\u001b[0m\u001b[0;34m\u001b[0m\u001b[0m\n\u001b[1;32m    854\u001b[0m       \u001b[0;31m# defunned version which is guaranteed to never create variables.\u001b[0m\u001b[0;34m\u001b[0m\u001b[0;34m\u001b[0m\u001b[0;34m\u001b[0m\u001b[0m\n\u001b[0;32m--> 855\u001b[0;31m       \u001b[0;32mreturn\u001b[0m \u001b[0mself\u001b[0m\u001b[0;34m.\u001b[0m\u001b[0m_stateless_fn\u001b[0m\u001b[0;34m(\u001b[0m\u001b[0;34m*\u001b[0m\u001b[0margs\u001b[0m\u001b[0;34m,\u001b[0m \u001b[0;34m**\u001b[0m\u001b[0mkwds\u001b[0m\u001b[0;34m)\u001b[0m  \u001b[0;31m# pylint: disable=not-callable\u001b[0m\u001b[0;34m\u001b[0m\u001b[0;34m\u001b[0m\u001b[0m\n\u001b[0m\u001b[1;32m    856\u001b[0m     \u001b[0;32melif\u001b[0m \u001b[0mself\u001b[0m\u001b[0;34m.\u001b[0m\u001b[0m_stateful_fn\u001b[0m \u001b[0;32mis\u001b[0m \u001b[0;32mnot\u001b[0m \u001b[0;32mNone\u001b[0m\u001b[0;34m:\u001b[0m\u001b[0;34m\u001b[0m\u001b[0;34m\u001b[0m\u001b[0m\n\u001b[1;32m    857\u001b[0m       \u001b[0;31m# Release the lock early so that multiple threads can perform the call\u001b[0m\u001b[0;34m\u001b[0m\u001b[0;34m\u001b[0m\u001b[0;34m\u001b[0m\u001b[0m\n",
            "\u001b[0;32m/usr/local/lib/python3.7/dist-packages/tensorflow/python/eager/function.py\u001b[0m in \u001b[0;36m__call__\u001b[0;34m(self, *args, **kwargs)\u001b[0m\n\u001b[1;32m   2941\u001b[0m        filtered_flat_args) = self._maybe_define_function(args, kwargs)\n\u001b[1;32m   2942\u001b[0m     return graph_function._call_flat(\n\u001b[0;32m-> 2943\u001b[0;31m         filtered_flat_args, captured_inputs=graph_function.captured_inputs)  # pylint: disable=protected-access\n\u001b[0m\u001b[1;32m   2944\u001b[0m \u001b[0;34m\u001b[0m\u001b[0m\n\u001b[1;32m   2945\u001b[0m   \u001b[0;34m@\u001b[0m\u001b[0mproperty\u001b[0m\u001b[0;34m\u001b[0m\u001b[0;34m\u001b[0m\u001b[0m\n",
            "\u001b[0;32m/usr/local/lib/python3.7/dist-packages/tensorflow/python/eager/function.py\u001b[0m in \u001b[0;36m_call_flat\u001b[0;34m(self, args, captured_inputs, cancellation_manager)\u001b[0m\n\u001b[1;32m   1917\u001b[0m       \u001b[0;31m# No tape is watching; skip to running the function.\u001b[0m\u001b[0;34m\u001b[0m\u001b[0;34m\u001b[0m\u001b[0;34m\u001b[0m\u001b[0m\n\u001b[1;32m   1918\u001b[0m       return self._build_call_outputs(self._inference_function.call(\n\u001b[0;32m-> 1919\u001b[0;31m           ctx, args, cancellation_manager=cancellation_manager))\n\u001b[0m\u001b[1;32m   1920\u001b[0m     forward_backward = self._select_forward_and_backward_functions(\n\u001b[1;32m   1921\u001b[0m         \u001b[0margs\u001b[0m\u001b[0;34m,\u001b[0m\u001b[0;34m\u001b[0m\u001b[0;34m\u001b[0m\u001b[0m\n",
            "\u001b[0;32m/usr/local/lib/python3.7/dist-packages/tensorflow/python/eager/function.py\u001b[0m in \u001b[0;36mcall\u001b[0;34m(self, ctx, args, cancellation_manager)\u001b[0m\n\u001b[1;32m    558\u001b[0m               \u001b[0minputs\u001b[0m\u001b[0;34m=\u001b[0m\u001b[0margs\u001b[0m\u001b[0;34m,\u001b[0m\u001b[0;34m\u001b[0m\u001b[0;34m\u001b[0m\u001b[0m\n\u001b[1;32m    559\u001b[0m               \u001b[0mattrs\u001b[0m\u001b[0;34m=\u001b[0m\u001b[0mattrs\u001b[0m\u001b[0;34m,\u001b[0m\u001b[0;34m\u001b[0m\u001b[0;34m\u001b[0m\u001b[0m\n\u001b[0;32m--> 560\u001b[0;31m               ctx=ctx)\n\u001b[0m\u001b[1;32m    561\u001b[0m         \u001b[0;32melse\u001b[0m\u001b[0;34m:\u001b[0m\u001b[0;34m\u001b[0m\u001b[0;34m\u001b[0m\u001b[0m\n\u001b[1;32m    562\u001b[0m           outputs = execute.execute_with_cancellation(\n",
            "\u001b[0;32m/usr/local/lib/python3.7/dist-packages/tensorflow/python/eager/execute.py\u001b[0m in \u001b[0;36mquick_execute\u001b[0;34m(op_name, num_outputs, inputs, attrs, ctx, name)\u001b[0m\n\u001b[1;32m     58\u001b[0m     \u001b[0mctx\u001b[0m\u001b[0;34m.\u001b[0m\u001b[0mensure_initialized\u001b[0m\u001b[0;34m(\u001b[0m\u001b[0;34m)\u001b[0m\u001b[0;34m\u001b[0m\u001b[0;34m\u001b[0m\u001b[0m\n\u001b[1;32m     59\u001b[0m     tensors = pywrap_tfe.TFE_Py_Execute(ctx._handle, device_name, op_name,\n\u001b[0;32m---> 60\u001b[0;31m                                         inputs, attrs, num_outputs)\n\u001b[0m\u001b[1;32m     61\u001b[0m   \u001b[0;32mexcept\u001b[0m \u001b[0mcore\u001b[0m\u001b[0;34m.\u001b[0m\u001b[0m_NotOkStatusException\u001b[0m \u001b[0;32mas\u001b[0m \u001b[0me\u001b[0m\u001b[0;34m:\u001b[0m\u001b[0;34m\u001b[0m\u001b[0;34m\u001b[0m\u001b[0m\n\u001b[1;32m     62\u001b[0m     \u001b[0;32mif\u001b[0m \u001b[0mname\u001b[0m \u001b[0;32mis\u001b[0m \u001b[0;32mnot\u001b[0m \u001b[0;32mNone\u001b[0m\u001b[0;34m:\u001b[0m\u001b[0;34m\u001b[0m\u001b[0;34m\u001b[0m\u001b[0m\n",
            "\u001b[0;31mKeyboardInterrupt\u001b[0m: "
          ]
        }
      ]
    },
    {
      "cell_type": "code",
      "metadata": {
        "id": "NbpXvIuEPzwX",
        "colab": {
          "base_uri": "https://localhost:8080/",
          "height": 281
        },
        "outputId": "dc17b1dd-acfd-4dbc-cd7f-f3709f1be0a0"
      },
      "source": [
        "S_acc2 =[S2.loss_acc[i][1]*100 for i in range(len(S2.loss_acc))]\n",
        "S_loss2 =[S2.loss_acc[i][0] for i in range(len(S2.loss_acc))]\n",
        "\n",
        "x = np.arange(len(S2.loss_acc))\n",
        "fig = plt.figure()\n",
        "ax1 = fig.add_subplot(111)\n",
        "acc = ax1.plot(x,S_acc2,'r',label='Acc')\n",
        "ax1.set_ylabel('Acc')\n",
        "ax1.set_title('Acc-Loss')\n",
        "\n",
        "ax2 = ax1.twinx()\n",
        "loss = ax2.plot(x,S_loss2,label='Loss')\n",
        "ax2.set_ylabel('Loss')\n",
        "\n",
        "lns = acc+loss\n",
        "labs = [l.get_label() for l in lns]\n",
        "ax2.legend(lns,labs)\n",
        "plt.show()"
      ],
      "execution_count": 179,
      "outputs": [
        {
          "output_type": "display_data",
          "data": {
            "image/png": "[encoded data removed]",
            "text/plain": [
              "<Figure size 432x288 with 2 Axes>"
            ]
          },
          "metadata": {
            "tags": [],
            "needs_background": "light"
          }
        }
      ]
    },
    {
      "cell_type": "code",
      "metadata": {
        "id": "KtBMBFo7Pzg2",
        "colab": {
          "base_uri": "https://localhost:8080/",
          "height": 295
        },
        "outputId": "aba3c614-21d0-4980-c2ab-29c32e8ce9c3"
      },
      "source": [
        "iters = np.arange(len(S2.loss_acc))\n",
        "fig = plt.figure()\n",
        "plt.title('Result Analysis')\n",
        "plt.plot(iters,S_acc,color='red',label='NewFed Accuracy')\n",
        "plt.plot(iters,S_acc2,color='blue',label='Baseline Accuracy')\n",
        "plt.legend()\n",
        "plt.xlabel('iteration times')\n",
        "plt.ylabel('rate')\n",
        "plt.show()"
      ],
      "execution_count": 180,
      "outputs": [
        {
          "output_type": "display_data",
          "data": {
            "image/png": "[encoded data removed]",
            "text/plain": [
              "<Figure size 432x288 with 1 Axes>"
            ]
          },
          "metadata": {
            "tags": [],
            "needs_background": "light"
          }
        }
      ]
    },
    {
      "cell_type": "code",
      "metadata": {
        "colab": {
          "base_uri": "https://localhost:8080/",
          "height": 281
        },
        "id": "Yzr2Fcf8SVvx",
        "outputId": "25a73e56-a77c-442b-8451-5357184c2b9f"
      },
      "source": [
        "x = np.arange(len(S2.loss_acc))\n",
        "fig = plt.figure()\n",
        "ax1 = fig.add_subplot(111)\n",
        "acc = ax1.plot(x,S_acc,'r',label='NewFed-Acc')\n",
        "ax1.set_ylabel('NewFed-Acc')\n",
        "ax1.set_title('New/FedAvg')\n",
        "\n",
        "ax2 = ax1.twinx()\n",
        "loss = ax2.plot(x,S_acc2,label='FedAvg-Acc')\n",
        "ax2.set_ylabel('FedAvg-Acc')\n",
        "\n",
        "lns = acc+loss\n",
        "labs = [l.get_label() for l in lns]\n",
        "ax2.legend(lns,labs)\n",
        "plt.show()"
      ],
      "execution_count": 181,
      "outputs": [
        {
          "output_type": "display_data",
          "data": {
            "image/png": "[encoded data removed]",
            "text/plain": [
              "<Figure size 432x288 with 2 Axes>"
            ]
          },
          "metadata": {
            "tags": [],
            "needs_background": "light"
          }
        }
      ]
    },
    {
      "cell_type": "code",
      "metadata": {
        "id": "0YVEtY8ISVlW"
      },
      "source": [
        ""
      ],
      "execution_count": null,
      "outputs": []
    },
    {
      "cell_type": "markdown",
      "metadata": {
        "id": "rpREw9q5Se9f"
      },
      "source": [
        "## 模型聚合 FedAvg\n",
        "THIS IS THE MOST IMPORANT！"
      ]
    },
    {
      "cell_type": "code",
      "metadata": {
        "id": "2RRqKgiqSRFF"
      },
      "source": [
        "##先实现普通聚合，再考虑距离问题"
      ],
      "execution_count": null,
      "outputs": []
    },
    {
      "cell_type": "code",
      "metadata": {
        "colab": {
          "base_uri": "https://localhost:8080/"
        },
        "id": "bIOKI885TN31",
        "outputId": "75a8957a-2d67-49f9-d0a1-d340a623ce3f"
      },
      "source": [
        "# clients[0].Train_dataset[0].shape"
      ],
      "execution_count": null,
      "outputs": [
        {
          "output_type": "execute_result",
          "data": {
            "text/plain": [
              "(60000, 28, 28)"
            ]
          },
          "metadata": {
            "tags": []
          },
          "execution_count": 182
        }
      ]
    },
    {
      "cell_type": "code",
      "metadata": {
        "colab": {
          "base_uri": "https://localhost:8080/"
        },
        "id": "P9fgFEGKT41m",
        "outputId": "e4c6fb02-b699-4c76-a013-0163740fe1e8"
      },
      "source": [
        "# a_1 = a.trainable_variables\n",
        "# b_1 = clients[0].model.trainable_variables\n",
        "# for _a,_b in zip(a_1,b_1):\n",
        "#   # print(_a,_b,'\\n')\n",
        "#   print(type(_a))"
      ],
      "execution_count": null,
      "outputs": [
        {
          "output_type": "stream",
          "text": [
            "<class 'tensorflow.python.eager.def_function.UnliftedInitializerVariable'>\n",
            "<class 'tensorflow.python.eager.def_function.UnliftedInitializerVariable'>\n",
            "<class 'tensorflow.python.eager.def_function.UnliftedInitializerVariable'>\n",
            "<class 'tensorflow.python.eager.def_function.UnliftedInitializerVariable'>\n"
          ],
          "name": "stdout"
        }
      ]
    },
    {
      "cell_type": "code",
      "metadata": {
        "id": "UJUbvaVsZP4P"
      },
      "source": [
        "# tmp = a_1[0]\n",
        "# tmp2 = b_1[0]"
      ],
      "execution_count": null,
      "outputs": []
    },
    {
      "cell_type": "code",
      "metadata": {
        "colab": {
          "base_uri": "https://localhost:8080/"
        },
        "id": "HYDG5UaqZP1s",
        "outputId": "f27ff669-b776-488d-f1a6-85d06edbf27e"
      },
      "source": [
        "# print(tmp.name)\n",
        "# print(tmp2.name)"
      ],
      "execution_count": null,
      "outputs": [
        {
          "output_type": "stream",
          "text": [
            "fl_model_57/dense_1/kernel:0\n",
            "fl_model_60/dense_1/kernel:0\n"
          ],
          "name": "stdout"
        }
      ]
    },
    {
      "cell_type": "code",
      "metadata": {
        "colab": {
          "base_uri": "https://localhost:8080/"
        },
        "id": "1MCj2AqXZPzY",
        "outputId": "0102b751-5f6c-4f17-d7fb-361d68ba5c3c"
      },
      "source": [
        "# tmp.numpy()"
      ],
      "execution_count": null,
      "outputs": [
        {
          "output_type": "execute_result",
          "data": {
            "text/plain": [
              "array([[-0.07970653,  0.07991762,  0.05910995, ...,  0.0579403 ,\n",
              "         0.0321511 ,  0.02421231],\n",
              "       [-0.05695383,  0.03625515, -0.06860252, ...,  0.02591816,\n",
              "         0.04554088,  0.02055327],\n",
              "       [-0.01783558, -0.04462572, -0.02057564, ...,  0.02187481,\n",
              "        -0.04054561, -0.02853347],\n",
              "       ...,\n",
              "       [-0.05783828, -0.05880497,  0.07976013, ..., -0.03510847,\n",
              "        -0.03695404,  0.03616227],\n",
              "       [-0.06651882,  0.02818294, -0.02726433, ..., -0.05769905,\n",
              "        -0.04426115, -0.00901749],\n",
              "       [-0.01624558,  0.05673347, -0.07569796, ..., -0.05263541,\n",
              "        -0.0753431 , -0.04903179]], dtype=float32)"
            ]
          },
          "metadata": {
            "tags": []
          },
          "execution_count": 198
        }
      ]
    },
    {
      "cell_type": "code",
      "metadata": {
        "colab": {
          "base_uri": "https://localhost:8080/"
        },
        "id": "3kMMoHjAg6ZA",
        "outputId": "7530bd17-18dd-4904-93c1-a465a682b56e"
      },
      "source": [
        "# tmp.numpy().shape"
      ],
      "execution_count": null,
      "outputs": [
        {
          "output_type": "execute_result",
          "data": {
            "text/plain": [
              "(784, 128)"
            ]
          },
          "metadata": {
            "tags": []
          },
          "execution_count": 203
        }
      ]
    },
    {
      "cell_type": "code",
      "metadata": {
        "id": "szwdWjJOhhPO"
      },
      "source": [
        "#  tmp2 =np.zeros(a.trainable_variables[0].numpy().shape,dtype='float64')"
      ],
      "execution_count": null,
      "outputs": []
    },
    {
      "cell_type": "code",
      "metadata": {
        "colab": {
          "base_uri": "https://localhost:8080/"
        },
        "id": "ThtNgQgrhncc",
        "outputId": "cc972f15-4527-4670-a94a-98797e7e253f"
      },
      "source": [
        "# tmp2.shape"
      ],
      "execution_count": null,
      "outputs": [
        {
          "output_type": "execute_result",
          "data": {
            "text/plain": [
              "(784, 128)"
            ]
          },
          "metadata": {
            "tags": []
          },
          "execution_count": 213
        }
      ]
    },
    {
      "cell_type": "code",
      "metadata": {
        "id": "YopyPHTFZPw0"
      },
      "source": [
        "#聚合先不考虑权重\n",
        "def FedAvg(NUM_CLIENTS):\n",
        "  iterModel = a.copy()\n",
        "  len_it = len(iterModel.trainable_variables)\n",
        "  all_weights = []\n",
        "  for weights_index in range(len_it):\n",
        "    tmp =np.zeros(iterModel.trainable_variables[weights_index].numpy().shape,dtype='float64')\n",
        "\n",
        "    for node in range(NUM_CLIENTS):\n",
        "      tmp += clients[node].model.trainable_variables[weights_index].numpy()\n",
        "    all_weights.append(tmp)\n",
        "  # print(all_weights)\n",
        "  iterModel_vars = iterModel.trainable_variables\n",
        "  for iter_v,n in zip(iterModel_vars,all_weights):\n",
        "    iter_v.assign(n)\n",
        "  return iterModel"
      ],
      "execution_count": null,
      "outputs": []
    },
    {
      "cell_type": "code",
      "metadata": {
        "id": "FlyPcfg2ZPuM"
      },
      "source": [
        "fedmodel = FedAvg(10)"
      ],
      "execution_count": null,
      "outputs": []
    },
    {
      "cell_type": "code",
      "metadata": {
        "id": "Y4fq1H9TZPq2"
      },
      "source": [
        "#昨天留的任务是如何把聚合后的numpy数组，转到模型中"
      ],
      "execution_count": null,
      "outputs": []
    },
    {
      "cell_type": "code",
      "metadata": {
        "colab": {
          "base_uri": "https://localhost:8080/"
        },
        "id": "6EWPH4k7RSYB",
        "outputId": "bbcaabfd-3c96-4aa0-9829-78d0eb485287"
      },
      "source": [
        "S.PreEval(fedmodel,x_test,y_test)"
      ],
      "execution_count": null,
      "outputs": [
        {
          "output_type": "stream",
          "text": [
            "313/313 [==============================] - 1s 1ms/step - loss: 7.8235 - accuracy: 0.2031\n"
          ],
          "name": "stdout"
        }
      ]
    },
    {
      "cell_type": "code",
      "metadata": {
        "colab": {
          "base_uri": "https://localhost:8080/"
        },
        "id": "j_8dKE06KK4e",
        "outputId": "67908246-b8a4-4577-bd63-5c230caa5209"
      },
      "source": [
        "len(fed)"
      ],
      "execution_count": null,
      "outputs": [
        {
          "output_type": "execute_result",
          "data": {
            "text/plain": [
              "4"
            ]
          },
          "metadata": {
            "tags": []
          },
          "execution_count": 125
        }
      ]
    }
  ]
}