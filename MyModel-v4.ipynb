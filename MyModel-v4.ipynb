{
  "nbformat": 4,
  "nbformat_minor": 0,
  "metadata": {
    "colab": {
      "name": "Copy of MyModel.ipynb",
      "provenance": [],
      "collapsed_sections": [
        "MwmKo3gLrI-i",
        "En8MczNik638"
      ],
      "authorship_tag": "ABX9TyNTFgU6fCm8NiY4bRYDslni",
      "include_colab_link": true
    },
    "kernelspec": {
      "display_name": "Python 3",
      "name": "python3"
    },
    "language_info": {
      "name": "python"
    }
  },
  "cells": [
    {
      "cell_type": "markdown",
      "metadata": {
        "id": "view-in-github",
        "colab_type": "text"
      },
      "source": [
        "<a href=\"https://colab.research.google.com/github/lowbee2019/Algorithm/blob/master/MyModel-v4.ipynb\" target=\"_parent\"><img src=\"https://colab.research.google.com/assets/colab-badge.svg\" alt=\"Open In Colab\"/></a>"
      ]
    },
    {
      "cell_type": "code",
      "metadata": {
        "colab": {
          "base_uri": "https://localhost:8080/"
        },
        "id": "uoFhItkFEsF8",
        "outputId": "832073e5-a347-4df9-fca3-e5f4eb86ade8"
      },
      "source": [
        "!pip install emnist"
      ],
      "execution_count": 270,
      "outputs": [
        {
          "output_type": "stream",
          "text": [
            "Requirement already satisfied: emnist in /usr/local/lib/python3.7/dist-packages (0.0)\n",
            "Requirement already satisfied: numpy in /usr/local/lib/python3.7/dist-packages (from emnist) (1.19.5)\n",
            "Requirement already satisfied: requests in /usr/local/lib/python3.7/dist-packages (from emnist) (2.23.0)\n",
            "Requirement already satisfied: tqdm in /usr/local/lib/python3.7/dist-packages (from emnist) (4.41.1)\n",
            "Requirement already satisfied: urllib3!=1.25.0,!=1.25.1,<1.26,>=1.21.1 in /usr/local/lib/python3.7/dist-packages (from requests->emnist) (1.24.3)\n",
            "Requirement already satisfied: chardet<4,>=3.0.2 in /usr/local/lib/python3.7/dist-packages (from requests->emnist) (3.0.4)\n",
            "Requirement already satisfied: certifi>=2017.4.17 in /usr/local/lib/python3.7/dist-packages (from requests->emnist) (2020.12.5)\n",
            "Requirement already satisfied: idna<3,>=2.5 in /usr/local/lib/python3.7/dist-packages (from requests->emnist) (2.10)\n"
          ],
          "name": "stdout"
        }
      ]
    },
    {
      "cell_type": "code",
      "metadata": {
        "id": "9e4So1L3pPWp"
      },
      "source": [
        "import tensorflow as tf\n",
        "import numpy as np\n",
        "from tensorflow import keras\n",
        "import collections\n",
        "import copy\n",
        "import random\n",
        "import emnist"
      ],
      "execution_count": 271,
      "outputs": []
    },
    {
      "cell_type": "markdown",
      "metadata": {
        "id": "YQaIGTfxmSfi"
      },
      "source": [
        "# Server Initialization"
      ]
    },
    {
      "cell_type": "code",
      "metadata": {
        "id": "PTK_p961nsA5"
      },
      "source": [
        "class ParamServer(object):\n",
        "  def __init__(self,init_model_path):\n",
        "    self.init_model_path = init_model_path\n",
        "    self.round = 0\n",
        "    self.optimizer=\"adam\"\n",
        "    self.loss = \"sparse_categorical_crossentropy\"\n",
        "    self.metrics =['accuracy']\n",
        "    self.loss_acc=[]\n",
        "\n",
        "  def PreTrain(self,model,data,labels,batch_size=32,epochs=5):\n",
        "    model.compile(optimizer=self.optimizer,\n",
        "                  loss=self.loss,\n",
        "                  metrics=self.metrics)\n",
        "    _metrics = model.fit(data,labels,batch_size,epochs)\n",
        "    return model\n",
        "  \n",
        "  def PreEval(self,model,test_data,test_labels):\n",
        "    model.compile(optimizer=self.optimizer,\n",
        "                  loss=self.loss,\n",
        "                  metrics=self.metrics)\n",
        "    self.loss_acc.append(model.evaluate(test_data,test_labels))\n"
      ],
      "execution_count": 272,
      "outputs": []
    },
    {
      "cell_type": "markdown",
      "metadata": {
        "id": "iRvlGAmjmxbw"
      },
      "source": [
        "## Mnist数据集的预处理"
      ]
    },
    {
      "cell_type": "code",
      "metadata": {
        "id": "6b0_4VEYnemW"
      },
      "source": [
        "mnist = tf.keras.datasets.mnist\n",
        "train,test = mnist.load_data()\n",
        "x_train,y_train = train\n",
        "x_test,y_test = test\n",
        "x_train,x_test = x_train/255.0,x_test/255.0"
      ],
      "execution_count": 113,
      "outputs": []
    },
    {
      "cell_type": "code",
      "metadata": {
        "colab": {
          "base_uri": "https://localhost:8080/"
        },
        "id": "f9537dMSO_C_",
        "outputId": "0fc3725a-b81f-4e6d-968b-a6ab3f127e47"
      },
      "source": [
        "x_train.shape"
      ],
      "execution_count": null,
      "outputs": [
        {
          "output_type": "execute_result",
          "data": {
            "text/plain": [
              "(60000, 28, 28)"
            ]
          },
          "metadata": {
            "tags": []
          },
          "execution_count": 5
        }
      ]
    },
    {
      "cell_type": "markdown",
      "metadata": {
        "id": "2L712LCIm6Vv"
      },
      "source": [
        "## 模型的定义"
      ]
    },
    {
      "cell_type": "code",
      "metadata": {
        "id": "C0noj5RjmF0i"
      },
      "source": [
        "class FLModel(tf.keras.Model):\n",
        "  def __init__(self,row,col,num_classes=62,*args,**kwargs):\n",
        "    super(FLModel,self).__init__(*args,**kwargs)\n",
        "    self.row = row\n",
        "    self.col = col\n",
        "    self.num_classes = num_classes\n",
        "    self.flatten = tf.keras.layers.Flatten(input_shape=(row,col))\n",
        "    self.dense_1 = tf.keras.layers.Dense(500,activation='relu',name=\"dense_1\")\n",
        "    self.dense_2 = tf.keras.layers.Dense(num_classes,activation='softmax',name=\"dense_2\")\n",
        "    self.drop = tf.keras.layers.Dropout(0.2)\n",
        "\n",
        "\n",
        "  def call(self,inputs):\n",
        "    x = self.flatten(inputs)\n",
        "    x = self.dense_1(x)\n",
        "    x = self.drop(x)\n",
        "    x = self.dense_2(x)\n",
        "    return x\n",
        "  \n",
        "  def copy(self):\n",
        "    NewModel = FLModel(self.row,self.col,self.num_classes)\n",
        "    _ = NewModel(np.expand_dims(tf.zeros([self.row,self.col]),0))\n",
        "    ##Layers\n",
        "    NewVars = NewModel.trainable_variables #此处为空列表，因为没有训练,这个地方参数传递是不是有问题\n",
        "    OldVars = self.trainable_variables\n",
        "    for n,o in zip(NewVars,OldVars):\n",
        "      n.assign(o.numpy())\n",
        "    return NewModel\n",
        "\n",
        "  # def compute_output_shape(self,input_shape):\n",
        "  #   shape = tf.TensorShape(input_shape).as_list()\n",
        "  #   shape[-1] = self.num_classes\n",
        "  #   return tf.TensorShape(shape)"
      ],
      "execution_count": 273,
      "outputs": []
    },
    {
      "cell_type": "code",
      "metadata": {
        "id": "8-_EOR39lCAk"
      },
      "source": [
        ""
      ],
      "execution_count": null,
      "outputs": []
    },
    {
      "cell_type": "markdown",
      "metadata": {
        "id": "Z5LMvoXcoiz2"
      },
      "source": [
        "#Client Initialization\n",
        "模型训练和评估都要重写"
      ]
    },
    {
      "cell_type": "code",
      "metadata": {
        "id": "Hvu8wCjbooCF"
      },
      "source": [
        "class Client(object):\n",
        "  def __init__(self,id,model=None,Train_dataset=None,Test_dataset=None):\n",
        "    self.id = id\n",
        "    self.model = model\n",
        "    self.Train_dataset = Train_dataset\n",
        "    self.Test_dataset = Test_dataset\n",
        "    # from ParamServer\n",
        "    self.ParamModel = None\n",
        "    self.num_epochs = 5\n",
        "    self.batch_size = 32\n",
        "    self.shuffle_buffer = 100\n",
        "    self.prefetch_buffer = 10\n",
        "    ## \n",
        "\n",
        "\n",
        "  def ReceiveModel(self,ParamModel,num_epochs=1,batch_size=32,shuffle_buffer=100,prefetch_buffer=10):\n",
        "    self.ParamModel = ParamModel\n",
        "    self.num_epochs = num_epochs\n",
        "    self.batch_size = batch_size\n",
        "    self.shuffle_buffer = shuffle_buffer\n",
        "    self.prefetch_buffer = prefetch_buffer\n",
        "  \n",
        "\n",
        "  def preprocess(self,dataset):\n",
        "    def batch_format_fn(element):\n",
        "      return collections.OrderedDict(\n",
        "            \n",
        "            x = tf.reshape(element['pixels'],[-1,784]),\n",
        "            y = tf.reshape(element['label'],[-1,1])\n",
        "          )\n",
        "    return dataset.repeat(self.num_epochs).shuffle(self.shuffle_buffer).batch(\n",
        "        self.batch_size).map(batch_format_fn).prefetch(self.prefetch_buffer)\n",
        "\n",
        "  def NodeTrain(self):\n",
        "    model = self.ParamModel\n",
        "    # pre_data = self.preprocess(self.Train_dataset)\n",
        "    # print(type(pre_data))\n",
        "    # model.fit(x=pre_data['x'],y=pre_data['y'],batch_size=self.batch_size,epochs=self.num_epochs)\n",
        "    # x = np.array([i['pixels'].numpy() for i in self.Train_dataset])\n",
        "    # y = np.array([i['label'].numpy() for i in self.Train_dataset])\n",
        "    x,y = self.Train_dataset\n",
        "    model.compile(\n",
        "        optimizer='adam',\n",
        "        loss='sparse_categorical_crossentropy',\n",
        "        metrics=['accuracy'])\n",
        "    _metrics = model.fit(x,y,batch_size=self.batch_size,epochs=self.num_epochs)\n",
        "    self.model = model\n",
        "\n",
        "  def NodeEval(self):\n",
        "    x,y = self.Test_dataset\n",
        "    self.model.evaluate(x,y)\n"
      ],
      "execution_count": 274,
      "outputs": []
    },
    {
      "cell_type": "markdown",
      "metadata": {
        "id": "MwmKo3gLrI-i"
      },
      "source": [
        "# 阶段一：为Client分配数据（预处理工作）"
      ]
    },
    {
      "cell_type": "markdown",
      "metadata": {
        "id": "En8MczNik638"
      },
      "source": [
        "#阶段一：服务器完成模型初始化"
      ]
    },
    {
      "cell_type": "code",
      "metadata": {
        "id": "VcXnArpEjnnA"
      },
      "source": [
        "# emnist_dataset = emnist.extract_training_samples('byclass')"
      ],
      "execution_count": null,
      "outputs": []
    },
    {
      "cell_type": "code",
      "metadata": {
        "id": "9hJfX3uOyMGH"
      },
      "source": [
        "emnist_dataset = emnist.extract_training_samples('letters')"
      ],
      "execution_count": 195,
      "outputs": []
    },
    {
      "cell_type": "code",
      "metadata": {
        "id": "yNlCcKrZuraD"
      },
      "source": [
        "emnist_dataset = (emnist_dataset[0]/255.0,emnist_dataset[1]+9)"
      ],
      "execution_count": 196,
      "outputs": []
    },
    {
      "cell_type": "code",
      "metadata": {
        "colab": {
          "base_uri": "https://localhost:8080/"
        },
        "id": "eIIY87nj1RBg",
        "outputId": "07365ee9-878b-4e91-e749-e6bcdca9d101"
      },
      "source": [
        "set(emnist_dataset[1])"
      ],
      "execution_count": 197,
      "outputs": [
        {
          "output_type": "execute_result",
          "data": {
            "text/plain": [
              "{10,\n",
              " 11,\n",
              " 12,\n",
              " 13,\n",
              " 14,\n",
              " 15,\n",
              " 16,\n",
              " 17,\n",
              " 18,\n",
              " 19,\n",
              " 20,\n",
              " 21,\n",
              " 22,\n",
              " 23,\n",
              " 24,\n",
              " 25,\n",
              " 26,\n",
              " 27,\n",
              " 28,\n",
              " 29,\n",
              " 30,\n",
              " 31,\n",
              " 32,\n",
              " 33,\n",
              " 34,\n",
              " 35}"
            ]
          },
          "metadata": {
            "tags": []
          },
          "execution_count": 197
        }
      ]
    },
    {
      "cell_type": "code",
      "metadata": {
        "id": "GYETYI7g-In_"
      },
      "source": [
        "def create_data_for_clients(BasicSet,Num,TuneSet=train,TargetRate=0.7):\n",
        "  #Alpha: 需要掺入mnist的占比\n",
        "  #Beta: Emnist中数字的占比\n",
        "  # Beta = 34.0/73.0\n",
        "  Beta = 0\n",
        "  if TargetRate < Beta:\n",
        "    Alpha = 0\n",
        "  else:\n",
        "    Alpha = (TargetRate-Beta)/(1-Beta)\n",
        "  TuneNum = int(Alpha*Num)\n",
        "  BasicNum = Num-TuneNum\n",
        "  x_sequence = []\n",
        "  y_sequence = []\n",
        "  print(TuneNum,BasicNum)\n",
        "  if TuneNum > 0:\n",
        "    for i in range(TuneNum):\n",
        "      index = random.randint(0,len(TuneSet[0])-1)\n",
        "      x_sequence.append(TuneSet[0][index])\n",
        "      y_sequence.append(TuneSet[1][index])\n",
        "  if BasicNum > 0:\n",
        "    for i in range(BasicNum):\n",
        "      index = random.randint(0,len(BasicSet[0])-1)\n",
        "      x_sequence.append(BasicSet[0][index])\n",
        "      y_sequence.append(BasicSet[1][index])\n",
        "  return (np.array(x_sequence),np.array(y_sequence))"
      ],
      "execution_count": null,
      "outputs": []
    },
    {
      "cell_type": "code",
      "metadata": {
        "id": "jlR96ORjbt5V"
      },
      "source": [
        "# def create_data_for_clients(BasicSet,Num):\n",
        "#   x_sequence = []\n",
        "#   y_sequence = []\n",
        "#   for i in range(Num):\n",
        "#     index = random.randint(0,Num-1)\n",
        "#     x_sequence.append(BasicSet[0][index])\n",
        "#     y_sequence.append(BasicSet[1][index])\n",
        "#   return (np.array(x_sequence),np.array(y_sequence))"
      ],
      "execution_count": null,
      "outputs": []
    },
    {
      "cell_type": "code",
      "metadata": {
        "id": "QE_WXcMMt1kP"
      },
      "source": [
        "NUM_CLIENTS = 12\n",
        "NUM_TRAIN_SAMPLE_CLIENT = 1280\n",
        "NUM_TEST_SAMPLE_CLIENT = 256"
      ],
      "execution_count": 311,
      "outputs": []
    },
    {
      "cell_type": "code",
      "metadata": {
        "id": "-Tmf__umcO1l",
        "colab": {
          "base_uri": "https://localhost:8080/"
        },
        "outputId": "50bc786f-9e97-41fe-a682-a6448f19886c"
      },
      "source": [
        "clients=[]\n",
        "for i in range(NUM_CLIENTS):\n",
        "  clients.append(Client(i,\n",
        "                        Train_dataset=create_data_for_clients(emnist_dataset,NUM_TRAIN_SAMPLE_CLIENT,TargetRate=random.random()),\n",
        "                        Test_dataset=create_data_for_clients(emnist_dataset,NUM_TEST_SAMPLE_CLIENT))\n",
        "  )"
      ],
      "execution_count": 312,
      "outputs": [
        {
          "output_type": "stream",
          "text": [
            "782 498\n",
            "179 77\n",
            "133 1147\n",
            "179 77\n",
            "714 566\n",
            "179 77\n",
            "1000 280\n",
            "179 77\n",
            "795 485\n",
            "179 77\n",
            "913 367\n",
            "179 77\n",
            "737 543\n",
            "179 77\n",
            "76 1204\n",
            "179 77\n",
            "118 1162\n",
            "179 77\n",
            "549 731\n",
            "179 77\n",
            "1002 278\n",
            "179 77\n",
            "280 1000\n",
            "179 77\n"
          ],
          "name": "stdout"
        }
      ]
    },
    {
      "cell_type": "markdown",
      "metadata": {
        "id": "V9Jjje417iuZ"
      },
      "source": [
        "Show DataSet"
      ]
    },
    {
      "cell_type": "code",
      "metadata": {
        "id": "8CsXpPMR7icz"
      },
      "source": [
        "import matplotlib.pyplot as plt"
      ],
      "execution_count": null,
      "outputs": []
    },
    {
      "cell_type": "code",
      "metadata": {
        "colab": {
          "base_uri": "https://localhost:8080/",
          "height": 879
        },
        "id": "7RO4LfKq72nf",
        "outputId": "9d34fb86-f709-4250-f223-4b59cabd7570"
      },
      "source": [
        "f = plt.figure(figsize=(15,15))\n",
        "for i in range(NUM_CLIENTS):\n",
        "  client_dataset = clients[i].Train_dataset\n",
        "  plot_data = collections.defaultdict(list)\n",
        "  for label in client_dataset[1]:\n",
        "    plot_data[label].append(label)\n",
        "  plt.subplot(3,4,i+1)\n",
        "  plt.title('Client {}'.format(i))\n",
        "  for j in range(len(plot_data)):\n",
        "    plt.hist(\n",
        "        plot_data[j],\n",
        "        density = False,\n",
        "        bins = [x for x in range(len(plot_data)+1)]\n",
        "    )"
      ],
      "execution_count": 313,
      "outputs": [
        {
          "output_type": "display_data",
          "data": {
            "image/png": "[encoded data removed]",
            "text/plain": [
              "<Figure size 1080x1080 with 12 Axes>"
            ]
          },
          "metadata": {
            "tags": [],
            "needs_background": "light"
          }
        }
      ]
    },
    {
      "cell_type": "markdown",
      "metadata": {
        "id": "JfqcXNr8jqi1"
      },
      "source": [
        "显示一下数字与字母的对比\n"
      ]
    },
    {
      "cell_type": "code",
      "metadata": {
        "colab": {
          "base_uri": "https://localhost:8080/",
          "height": 862
        },
        "id": "SkJ-l1ZSjpWf",
        "outputId": "11c1dfc8-b940-4e98-9761-7262ded253d8"
      },
      "source": [
        "f = plt.figure(figsize=(15,15))\n",
        "for i in range(NUM_CLIENTS):\n",
        "  client_dataset = clients[i].Train_dataset\n",
        "  plot_data = {0:0,1:0}\n",
        "  plot_labels = ['digits','letters']\n",
        "  for label in client_dataset[1]:\n",
        "    label = 0 if label < 10 else 1\n",
        "    plot_data[label]+=1\n",
        "  # print(plot_data)\n",
        "  data_labels = list(sorted(plot_data.keys()))\n",
        "  # print(data_labels)\n",
        "  data_nums = [plot_data[i] for i in data_labels]\n",
        "  colors = ['red','blue']\n",
        "  plt.subplot(3,4,i+1)\n",
        "  patches,text1,text2 = plt.pie(data_nums,\n",
        "                              labels=plot_labels,\n",
        "                              autopct='%3.2f%%',\n",
        "                              shadow=False,\n",
        "                              startangle=90,\n",
        "                              pctdistance=0.6)\n",
        "  plt.axis('equal')\n",
        "  plt.title('Client {}'.format(i))\n",
        "plt.show()\n"
      ],
      "execution_count": 314,
      "outputs": [
        {
          "output_type": "display_data",
          "data": {
            "image/png": "[encoded data removed]",
            "text/plain": [
              "<Figure size 1080x1080 with 12 Axes>"
            ]
          },
          "metadata": {
            "tags": []
          }
        }
      ]
    },
    {
      "cell_type": "code",
      "metadata": {
        "id": "UWBR9P212HDF"
      },
      "source": [
        ""
      ],
      "execution_count": null,
      "outputs": []
    },
    {
      "cell_type": "markdown",
      "metadata": {
        "id": "6PVxsGIpvlLn"
      },
      "source": [
        "##阶段二：中央服务器下发模型"
      ]
    },
    {
      "cell_type": "markdown",
      "metadata": {
        "id": "A5NIsOQgRp9h"
      },
      "source": [
        "Distance Between two models"
      ]
    },
    {
      "cell_type": "code",
      "metadata": {
        "id": "fX5rrSBk72Vw"
      },
      "source": [
        "def Distance(HookModel,TestModel):\n",
        "  len_it = len(HookModel.trainable_variables)\n",
        "  Hook_weights=[]\n",
        "  Test_weights=[]\n",
        "  for index in range(len_it):\n",
        "    Hook_weights.append(HookModel.trainable_variables[index].numpy())\n",
        "    Test_weights.append(TestModel.trainable_variables[index].numpy())\n",
        "  target = []\n",
        "  dis_norm2=[]\n",
        "  for i in range(len_it):\n",
        "    target.append(Hook_weights[i]-Test_weights[i])\n",
        "    dis_norm2.append(np.linalg.norm(target[i],2))\n",
        "  weight_weights = np.ones([len_it,1])\n",
        "  #调整权重\n",
        "  # weight_weights[0]=0\n",
        "  # weight_weights[1]=0\n",
        "  dis = np.dot(dis_norm2,weight_weights)\n",
        "  return dis\n",
        "  # return dis_norm2"
      ],
      "execution_count": 295,
      "outputs": []
    },
    {
      "cell_type": "code",
      "metadata": {
        "id": "KI9PCWxY716I"
      },
      "source": [
        "def BetterNode(clients,model,Total_NUM,FedAvg_NUM):\n",
        "  NodeDict=collections.OrderedDict()\n",
        "  for i in range(Total_NUM):\n",
        "    NodeDict[i] = Distance(model,clients[i].model)\n",
        "  Dlst = sorted(NodeDict.items(),key=lambda x:x[1])\n",
        "  NodeList = []\n",
        "  for i in range(FedAvg_NUM):\n",
        "    NodeList.append(Dlst[i][0])\n",
        "  return NodeList"
      ],
      "execution_count": null,
      "outputs": []
    },
    {
      "cell_type": "markdown",
      "metadata": {
        "id": "_uNjI7abv3Vs"
      },
      "source": [
        "模型初始化"
      ]
    },
    {
      "cell_type": "code",
      "metadata": {
        "id": "PLJekuPtvxZl"
      },
      "source": [
        "InitModel = FLModel(row=28,col=28,num_classes=36)\n",
        "S = ParamServer(\"\")"
      ],
      "execution_count": 322,
      "outputs": []
    },
    {
      "cell_type": "code",
      "metadata": {
        "colab": {
          "base_uri": "https://localhost:8080/"
        },
        "id": "gd-HUkdMvxPV",
        "outputId": "ae3fd13f-5300-416b-c7a5-55c9270b6e1d"
      },
      "source": [
        "S.PreEval(InitModel,x_test,y_test)"
      ],
      "execution_count": 323,
      "outputs": [
        {
          "output_type": "stream",
          "text": [
            "313/313 [==============================] - 1s 2ms/step - loss: 3.6068 - accuracy: 0.0395\n"
          ],
          "name": "stdout"
        }
      ]
    },
    {
      "cell_type": "code",
      "metadata": {
        "colab": {
          "base_uri": "https://localhost:8080/"
        },
        "id": "SGo2NYXsv96h",
        "outputId": "403b89f5-83bb-4c97-e643-22387f59b783"
      },
      "source": [
        "SendModel = S.PreTrain(InitModel,x_train[0:200],y_train[0:200],epochs=1)\n",
        "S.PreEval(SendModel,x_test,y_test)"
      ],
      "execution_count": 324,
      "outputs": [
        {
          "output_type": "stream",
          "text": [
            "7/7 [==============================] - 0s 5ms/step - loss: 3.1093 - accuracy: 0.1949\n",
            "313/313 [==============================] - 1s 2ms/step - loss: 1.9790 - accuracy: 0.5305\n"
          ],
          "name": "stdout"
        }
      ]
    },
    {
      "cell_type": "markdown",
      "metadata": {
        "id": "7OmptaMzpR0P"
      },
      "source": [
        "# 阶段三：Clients 训练节点数据并聚合\n"
      ]
    },
    {
      "cell_type": "code",
      "metadata": {
        "id": "kr2PkfomvfWw"
      },
      "source": [
        ""
      ],
      "execution_count": null,
      "outputs": []
    },
    {
      "cell_type": "code",
      "metadata": {
        "id": "ve8Dc1KewGH_"
      },
      "source": [
        "def FedAvg(NUM_CLIENTS,model,FedAvg_NUM=7):\n",
        "  iterModel = model.copy()\n",
        "  len_it = len(iterModel.trainable_variables)\n",
        "  all_weights = []\n",
        "  FedNodeList=BetterNode(clients,iterModel,NUM_CLIENTS,FedAvg_NUM)\n",
        "  print(\"FedAvg Node is\",FedNodeList)\n",
        "  Cut=2\n",
        "  for c in range(Cut):\n",
        "    # tmp =np.array(iterModel.trainable_variables[c].numpy(),dtype='float64')\n",
        "    all_weights.append(iterModel.trainable_variables[c].numpy())\n",
        "\n",
        "  for weights_index in range(Cut,len_it):\n",
        "    tmp =np.zeros(iterModel.trainable_variables[weights_index].numpy().shape,dtype='float64')\n",
        "\n",
        "    for node in FedNodeList:\n",
        "      tmp += clients[node].model.trainable_variables[weights_index].numpy()\n",
        "    all_weights.append(tmp/FedAvg_NUM)\n",
        "  # print(all_weights)\n",
        "  iterModel_vars = iterModel.trainable_variables\n",
        "  for iter_v,n in zip(iterModel_vars,all_weights):\n",
        "    iter_v.assign(n)\n",
        "  return (iterModel,FedNodeList)"
      ],
      "execution_count": 124,
      "outputs": []
    },
    {
      "cell_type": "code",
      "metadata": {
        "id": "jl3dF36dw2hC"
      },
      "source": [
        "NUM_EPOCHS = 10"
      ],
      "execution_count": null,
      "outputs": []
    },
    {
      "cell_type": "code",
      "metadata": {
        "id": "ocfoXDNgyTdP",
        "colab": {
          "base_uri": "https://localhost:8080/"
        },
        "outputId": "4ddbe80d-4537-42ab-8c16-a9c1f88af868"
      },
      "source": [
        "NodeList = []\n",
        "for e in range(NUM_EPOCHS):\n",
        "  print(\"EPOCHS {} is starting...\".format(e))\n",
        "  for i in range(NUM_CLIENTS):\n",
        "    clients[i].ReceiveModel(SendModel.copy(),)\n",
        "    clients[i].NodeTrain()\n",
        "    # clients[i].NodeEval()\n",
        "    # DIS.append(Distance(SendModel,clients[i].model))\n",
        "  FedModel,li = FedAvg(NUM_CLIENTS,SendModel)\n",
        "  NodeList.append(li)\n",
        "  S.PreEval(FedModel,x_test,y_test)\n",
        "  SendModel = FedModel.copy()"
      ],
      "execution_count": 325,
      "outputs": [
        {
          "output_type": "stream",
          "text": [
            "EPOCHS 0 is starting...\n",
            "40/40 [==============================] - 1s 5ms/step - loss: 41.3774 - accuracy: 0.3653\n",
            "40/40 [==============================] - 1s 5ms/step - loss: 14.7032 - accuracy: 0.0745\n",
            "40/40 [==============================] - 1s 5ms/step - loss: 37.5599 - accuracy: 0.3399\n",
            "40/40 [==============================] - 1s 5ms/step - loss: 45.8995 - accuracy: 0.4821\n",
            "40/40 [==============================] - 1s 5ms/step - loss: 43.7248 - accuracy: 0.3690\n",
            "40/40 [==============================] - 1s 5ms/step - loss: 49.4021 - accuracy: 0.4292\n",
            "40/40 [==============================] - 1s 5ms/step - loss: 53.4472 - accuracy: 0.3073\n",
            "40/40 [==============================] - 1s 5ms/step - loss: 9.5785 - accuracy: 0.0768\n",
            "40/40 [==============================] - 1s 5ms/step - loss: 12.8673 - accuracy: 0.0807\n",
            "40/40 [==============================] - 1s 6ms/step - loss: 40.8281 - accuracy: 0.2314\n",
            "40/40 [==============================] - 1s 5ms/step - loss: 39.9004 - accuracy: 0.5066\n",
            "40/40 [==============================] - 1s 5ms/step - loss: 22.0955 - accuracy: 0.1291\n",
            "FedAvg Node is [3, 10, 5, 0, 4, 6, 2]\n",
            "313/313 [==============================] - 1s 2ms/step - loss: 2.0301 - accuracy: 0.5693\n",
            "EPOCHS 1 is starting...\n",
            "40/40 [==============================] - 1s 5ms/step - loss: 36.7737 - accuracy: 0.3980\n",
            "40/40 [==============================] - 1s 5ms/step - loss: 11.0371 - accuracy: 0.1157\n",
            "40/40 [==============================] - 1s 5ms/step - loss: 29.3679 - accuracy: 0.3621\n",
            "40/40 [==============================] - 1s 5ms/step - loss: 44.7687 - accuracy: 0.4701\n",
            "40/40 [==============================] - 1s 5ms/step - loss: 32.3869 - accuracy: 0.4010\n",
            "40/40 [==============================] - 1s 5ms/step - loss: 49.3341 - accuracy: 0.4240\n",
            "40/40 [==============================] - 1s 5ms/step - loss: 39.7230 - accuracy: 0.3346\n",
            "40/40 [==============================] - 1s 5ms/step - loss: 8.0239 - accuracy: 0.1345\n",
            "40/40 [==============================] - 1s 5ms/step - loss: 11.2557 - accuracy: 0.1046\n",
            "40/40 [==============================] - 1s 5ms/step - loss: 28.6031 - accuracy: 0.2806\n",
            "40/40 [==============================] - 1s 5ms/step - loss: 41.6222 - accuracy: 0.5188\n",
            "40/40 [==============================] - 1s 5ms/step - loss: 19.7024 - accuracy: 0.1593\n",
            "FedAvg Node is [10, 3, 5, 4, 0, 2, 6]\n",
            "313/313 [==============================] - 1s 2ms/step - loss: 2.1431 - accuracy: 0.6032\n",
            "EPOCHS 2 is starting...\n",
            "40/40 [==============================] - 1s 5ms/step - loss: 31.4674 - accuracy: 0.3970\n",
            "40/40 [==============================] - 1s 5ms/step - loss: 11.4551 - accuracy: 0.1513\n",
            "40/40 [==============================] - 1s 5ms/step - loss: 30.5267 - accuracy: 0.3848\n",
            "40/40 [==============================] - 1s 5ms/step - loss: 38.5472 - accuracy: 0.4822\n",
            "40/40 [==============================] - 1s 5ms/step - loss: 34.2810 - accuracy: 0.4144\n",
            "40/40 [==============================] - 1s 5ms/step - loss: 39.2409 - accuracy: 0.4714\n",
            "40/40 [==============================] - 1s 5ms/step - loss: 33.9737 - accuracy: 0.3661\n",
            "40/40 [==============================] - 1s 5ms/step - loss: 8.9587 - accuracy: 0.1880\n",
            "40/40 [==============================] - 1s 5ms/step - loss: 10.2775 - accuracy: 0.1352\n",
            "40/40 [==============================] - 1s 5ms/step - loss: 25.7942 - accuracy: 0.3087\n",
            "40/40 [==============================] - 0s 4ms/step - loss: 36.0242 - accuracy: 0.5070\n",
            "40/40 [==============================] - 1s 5ms/step - loss: 16.9144 - accuracy: 0.1717\n",
            "FedAvg Node is [3, 10, 5, 4, 0, 6, 2]\n",
            "313/313 [==============================] - 1s 2ms/step - loss: 2.2560 - accuracy: 0.6433\n",
            "EPOCHS 3 is starting...\n",
            "40/40 [==============================] - 1s 5ms/step - loss: 31.9570 - accuracy: 0.3933\n",
            "40/40 [==============================] - 1s 5ms/step - loss: 11.8654 - accuracy: 0.1905\n",
            "40/40 [==============================] - 1s 5ms/step - loss: 27.2737 - accuracy: 0.3947\n",
            "40/40 [==============================] - 1s 5ms/step - loss: 27.6949 - accuracy: 0.5485\n",
            "40/40 [==============================] - 1s 5ms/step - loss: 33.3388 - accuracy: 0.4229\n",
            "40/40 [==============================] - 1s 5ms/step - loss: 32.2053 - accuracy: 0.4753\n",
            "40/40 [==============================] - 1s 5ms/step - loss: 30.1561 - accuracy: 0.3623\n",
            "40/40 [==============================] - 1s 5ms/step - loss: 7.7940 - accuracy: 0.2010\n",
            "40/40 [==============================] - 1s 5ms/step - loss: 9.8229 - accuracy: 0.2137\n",
            "40/40 [==============================] - 1s 5ms/step - loss: 25.4483 - accuracy: 0.3170\n",
            "40/40 [==============================] - 1s 5ms/step - loss: 33.2974 - accuracy: 0.5315\n",
            "40/40 [==============================] - 1s 5ms/step - loss: 19.8068 - accuracy: 0.2144\n",
            "FedAvg Node is [10, 0, 5, 3, 4, 6, 2]\n",
            "313/313 [==============================] - 1s 2ms/step - loss: 2.3238 - accuracy: 0.6754\n",
            "EPOCHS 4 is starting...\n",
            "40/40 [==============================] - 1s 5ms/step - loss: 20.3659 - accuracy: 0.4579\n",
            "40/40 [==============================] - 1s 5ms/step - loss: 11.6123 - accuracy: 0.2103\n",
            "40/40 [==============================] - 1s 5ms/step - loss: 30.9466 - accuracy: 0.3985\n",
            "40/40 [==============================] - 1s 5ms/step - loss: 29.7983 - accuracy: 0.5527\n",
            "40/40 [==============================] - 1s 5ms/step - loss: 24.2068 - accuracy: 0.4397\n",
            "40/40 [==============================] - 1s 5ms/step - loss: 26.2983 - accuracy: 0.5318\n",
            "40/40 [==============================] - 1s 6ms/step - loss: 28.6926 - accuracy: 0.3912\n",
            "40/40 [==============================] - 1s 5ms/step - loss: 7.8709 - accuracy: 0.2084\n",
            "40/40 [==============================] - 1s 5ms/step - loss: 10.5591 - accuracy: 0.2199\n",
            "40/40 [==============================] - 1s 5ms/step - loss: 21.0392 - accuracy: 0.3372\n",
            "40/40 [==============================] - 1s 5ms/step - loss: 32.5238 - accuracy: 0.5459\n",
            "40/40 [==============================] - 1s 5ms/step - loss: 16.6900 - accuracy: 0.2268\n",
            "FedAvg Node is [10, 5, 3, 6, 4, 2, 0]\n",
            "313/313 [==============================] - 1s 3ms/step - loss: 2.3028 - accuracy: 0.7117\n",
            "EPOCHS 5 is starting...\n",
            "40/40 [==============================] - 1s 5ms/step - loss: 21.9040 - accuracy: 0.4540\n",
            "40/40 [==============================] - 1s 5ms/step - loss: 11.3065 - accuracy: 0.2383\n",
            "40/40 [==============================] - 1s 5ms/step - loss: 24.2867 - accuracy: 0.4035\n",
            "40/40 [==============================] - 1s 5ms/step - loss: 29.1738 - accuracy: 0.5694\n",
            "40/40 [==============================] - 1s 5ms/step - loss: 25.4783 - accuracy: 0.4706\n",
            "40/40 [==============================] - 1s 5ms/step - loss: 31.1366 - accuracy: 0.5129\n",
            "40/40 [==============================] - 1s 5ms/step - loss: 22.8018 - accuracy: 0.4257\n",
            "40/40 [==============================] - 1s 5ms/step - loss: 8.4097 - accuracy: 0.2566\n",
            "40/40 [==============================] - 1s 5ms/step - loss: 11.5001 - accuracy: 0.2055\n",
            "40/40 [==============================] - 1s 5ms/step - loss: 22.4853 - accuracy: 0.3548\n",
            "40/40 [==============================] - 1s 5ms/step - loss: 27.4027 - accuracy: 0.5729\n",
            "40/40 [==============================] - 1s 5ms/step - loss: 17.1483 - accuracy: 0.2903\n",
            "FedAvg Node is [2, 10, 3, 0, 5, 4, 6]\n",
            "313/313 [==============================] - 1s 2ms/step - loss: 2.2820 - accuracy: 0.7372\n",
            "EPOCHS 6 is starting...\n",
            "40/40 [==============================] - 1s 5ms/step - loss: 23.7929 - accuracy: 0.4832\n",
            "40/40 [==============================] - 1s 5ms/step - loss: 10.3614 - accuracy: 0.2924\n",
            "40/40 [==============================] - 1s 5ms/step - loss: 22.5355 - accuracy: 0.4442\n",
            "40/40 [==============================] - 1s 5ms/step - loss: 32.4741 - accuracy: 0.5445\n",
            "40/40 [==============================] - 0s 5ms/step - loss: 24.2126 - accuracy: 0.4719\n",
            "40/40 [==============================] - 1s 5ms/step - loss: 24.6169 - accuracy: 0.5500\n",
            "40/40 [==============================] - 1s 5ms/step - loss: 26.4364 - accuracy: 0.4416\n",
            "40/40 [==============================] - 1s 5ms/step - loss: 9.0243 - accuracy: 0.2876\n",
            "40/40 [==============================] - 1s 5ms/step - loss: 10.3785 - accuracy: 0.2699\n",
            "40/40 [==============================] - 1s 5ms/step - loss: 18.1639 - accuracy: 0.3848\n",
            "40/40 [==============================] - 1s 5ms/step - loss: 24.7339 - accuracy: 0.5851\n",
            "40/40 [==============================] - 1s 5ms/step - loss: 18.5069 - accuracy: 0.3012\n",
            "FedAvg Node is [3, 0, 6, 5, 10, 2, 4]\n",
            "313/313 [==============================] - 1s 2ms/step - loss: 2.2438 - accuracy: 0.7522\n",
            "EPOCHS 7 is starting...\n",
            "40/40 [==============================] - 1s 5ms/step - loss: 23.9276 - accuracy: 0.4852\n",
            "40/40 [==============================] - 0s 4ms/step - loss: 9.1480 - accuracy: 0.3213\n",
            "40/40 [==============================] - 1s 5ms/step - loss: 17.5500 - accuracy: 0.5002\n",
            "40/40 [==============================] - 1s 5ms/step - loss: 25.5147 - accuracy: 0.5964\n",
            "40/40 [==============================] - 1s 5ms/step - loss: 20.6456 - accuracy: 0.5382\n",
            "40/40 [==============================] - 1s 5ms/step - loss: 24.1323 - accuracy: 0.5738\n",
            "40/40 [==============================] - 1s 5ms/step - loss: 20.0874 - accuracy: 0.4788\n",
            "40/40 [==============================] - 1s 5ms/step - loss: 6.9462 - accuracy: 0.3491\n",
            "40/40 [==============================] - 1s 5ms/step - loss: 8.8278 - accuracy: 0.3188\n",
            "40/40 [==============================] - 1s 5ms/step - loss: 22.4261 - accuracy: 0.3818\n",
            "40/40 [==============================] - 1s 5ms/step - loss: 27.4791 - accuracy: 0.5950\n",
            "40/40 [==============================] - 0s 4ms/step - loss: 15.3019 - accuracy: 0.2855\n",
            "FedAvg Node is [0, 6, 3, 4, 2, 10, 5]\n",
            "313/313 [==============================] - 1s 2ms/step - loss: 2.2343 - accuracy: 0.7623\n",
            "EPOCHS 8 is starting...\n",
            "40/40 [==============================] - 1s 5ms/step - loss: 18.9836 - accuracy: 0.5310\n",
            "40/40 [==============================] - 1s 6ms/step - loss: 8.1252 - accuracy: 0.3361\n",
            "40/40 [==============================] - 0s 4ms/step - loss: 19.7793 - accuracy: 0.5047\n",
            "40/40 [==============================] - 1s 5ms/step - loss: 29.2792 - accuracy: 0.5988\n",
            "40/40 [==============================] - 1s 5ms/step - loss: 18.7846 - accuracy: 0.5558\n",
            "40/40 [==============================] - 1s 5ms/step - loss: 25.3641 - accuracy: 0.5564\n",
            "40/40 [==============================] - 1s 5ms/step - loss: 19.7816 - accuracy: 0.4747\n",
            "40/40 [==============================] - 1s 5ms/step - loss: 7.6886 - accuracy: 0.3449\n",
            "40/40 [==============================] - 1s 5ms/step - loss: 8.4622 - accuracy: 0.3218\n",
            "40/40 [==============================] - 1s 5ms/step - loss: 20.2593 - accuracy: 0.4166\n",
            "40/40 [==============================] - 0s 5ms/step - loss: 29.0474 - accuracy: 0.5658\n",
            "40/40 [==============================] - 1s 5ms/step - loss: 14.2808 - accuracy: 0.3682\n",
            "FedAvg Node is [10, 5, 3, 0, 9, 4, 6]\n",
            "313/313 [==============================] - 1s 2ms/step - loss: 2.2411 - accuracy: 0.7691\n",
            "EPOCHS 9 is starting...\n",
            "40/40 [==============================] - 1s 5ms/step - loss: 19.3648 - accuracy: 0.5426\n",
            "40/40 [==============================] - 1s 5ms/step - loss: 9.0719 - accuracy: 0.3351\n",
            "40/40 [==============================] - 1s 5ms/step - loss: 18.4860 - accuracy: 0.5117\n",
            "40/40 [==============================] - 1s 5ms/step - loss: 22.8902 - accuracy: 0.6026\n",
            "40/40 [==============================] - 1s 5ms/step - loss: 19.3663 - accuracy: 0.5538\n",
            "40/40 [==============================] - 1s 5ms/step - loss: 18.6501 - accuracy: 0.5865\n",
            "40/40 [==============================] - 1s 5ms/step - loss: 21.4318 - accuracy: 0.4966\n",
            "40/40 [==============================] - 1s 5ms/step - loss: 8.3022 - accuracy: 0.3421\n",
            "40/40 [==============================] - 1s 5ms/step - loss: 10.2355 - accuracy: 0.3500\n",
            "40/40 [==============================] - 1s 5ms/step - loss: 18.3308 - accuracy: 0.4337\n",
            "40/40 [==============================] - 1s 5ms/step - loss: 24.6455 - accuracy: 0.6140\n",
            "40/40 [==============================] - 1s 5ms/step - loss: 17.1534 - accuracy: 0.3451\n",
            "FedAvg Node is [3, 2, 0, 4, 10, 5, 6]\n",
            "313/313 [==============================] - 1s 2ms/step - loss: 2.2318 - accuracy: 0.7671\n"
          ],
          "name": "stdout"
        }
      ]
    },
    {
      "cell_type": "code",
      "metadata": {
        "id": "HrqSmK9-9LWe"
      },
      "source": [
        "S_acc =[S.loss_acc[i][1]*100 for i in range(len(S.loss_acc))]\n",
        "S_loss =[S.loss_acc[i][0] for i in range(len(S.loss_acc))]"
      ],
      "execution_count": 326,
      "outputs": []
    },
    {
      "cell_type": "code",
      "metadata": {
        "colab": {
          "base_uri": "https://localhost:8080/",
          "height": 281
        },
        "id": "DHi6uBm58CVw",
        "outputId": "2c575b2b-ed11-48e7-d26c-cd13f17320ae"
      },
      "source": [
        "x = np.arange(len(S.loss_acc))\n",
        "fig = plt.figure()\n",
        "ax1 = fig.add_subplot(111)\n",
        "acc = ax1.plot(x,S_acc,'r',label='Acc')\n",
        "ax1.set_ylabel('Acc')\n",
        "ax1.set_title('Acc-Loss')\n",
        "\n",
        "ax2 = ax1.twinx()\n",
        "loss = ax2.plot(x,S_loss,label='Loss')\n",
        "ax2.set_ylabel('Loss')\n",
        "\n",
        "lns = acc+loss\n",
        "labs = [l.get_label() for l in lns]\n",
        "ax2.legend(lns,labs)\n",
        "plt.show()"
      ],
      "execution_count": 327,
      "outputs": [
        {
          "output_type": "display_data",
          "data": {
            "image/png": "[encoded data removed]",
            "text/plain": [
              "<Figure size 432x288 with 2 Axes>"
            ]
          },
          "metadata": {
            "tags": [],
            "needs_background": "light"
          }
        }
      ]
    },
    {
      "cell_type": "code",
      "metadata": {
        "colab": {
          "base_uri": "https://localhost:8080/"
        },
        "id": "WZkNvbEPDCpA",
        "outputId": "08810faf-8c7a-43dd-fa27-ab9d9c3ae288"
      },
      "source": [
        "NodeList"
      ],
      "execution_count": 226,
      "outputs": [
        {
          "output_type": "execute_result",
          "data": {
            "text/plain": [
              "[[2, 4, 1, 6, 5, 7, 8],\n",
              " [2, 0, 5, 6, 8, 1, 4],\n",
              " [8, 0, 2, 7, 5, 4, 1],\n",
              " [7, 8, 2, 6, 1, 5, 3],\n",
              " [0, 5, 2, 1, 8, 7, 6],\n",
              " [7, 5, 8, 6, 3, 1, 2],\n",
              " [8, 7, 0, 5, 2, 6, 1],\n",
              " [6, 1, 3, 8, 7, 5, 0],\n",
              " [5, 7, 8, 0, 6, 3, 2],\n",
              " [8, 5, 6, 1, 7, 2, 3]]"
            ]
          },
          "metadata": {
            "tags": []
          },
          "execution_count": 226
        }
      ]
    },
    {
      "cell_type": "code",
      "metadata": {
        "id": "NTRwgylhDcCO"
      },
      "source": [
        "img = np.ones(shape=(10,len(S.loss_acc)),dtype=int)"
      ],
      "execution_count": 328,
      "outputs": []
    },
    {
      "cell_type": "code",
      "metadata": {
        "id": "sDJtUAMiD3vN"
      },
      "source": [
        "for i in range(len(NodeList)):\n",
        "  for j in NodeList[i]:\n",
        "    img[i][j]=0"
      ],
      "execution_count": 329,
      "outputs": []
    },
    {
      "cell_type": "code",
      "metadata": {
        "colab": {
          "base_uri": "https://localhost:8080/",
          "height": 295
        },
        "id": "8LBgwA24FEVx",
        "outputId": "4dc35850-bb0a-4835-a35c-5b1df1301ed6"
      },
      "source": [
        "len_n = len(S.loss_acc)\n",
        "ax = plt.gca()\n",
        "ax.set_xlim(-0.5,len_n-0.5)\n",
        "ax.set_ylim(-0.5,9.5)\n",
        "miloc = plt.MultipleLocator(1)\n",
        "ax.xaxis.set_minor_locator(miloc)\n",
        "plt.grid()\n",
        "plt.title(\"Nodes in each epoch\")\n",
        "plt.imshow(img*255,cmap='gray')\n",
        "plt.axis('on')\n",
        "plt.xlabel('Nodes')\n",
        "plt.ylabel('Epoch')\n",
        "x = np.arange(0.5,len_n+0.5,1)\n",
        "y = np.arange(0.5,10.5,1)\n",
        "plt.xticks()\n",
        "plt.yticks(y,(int(i-0.5) for i in y))\n",
        "plt.xticks(x,(int(i-0.5) for i in x))\n",
        "plt.show()"
      ],
      "execution_count": 331,
      "outputs": [
        {
          "output_type": "display_data",
          "data": {
            "image/png": "[encoded data removed]",
            "text/plain": [
              "<Figure size 432x288 with 1 Axes>"
            ]
          },
          "metadata": {
            "tags": [],
            "needs_background": "light"
          }
        }
      ]
    },
    {
      "cell_type": "markdown",
      "metadata": {
        "id": "i2axuRBsO6V7"
      },
      "source": [
        "设置对照组，即普通的FedAvg"
      ]
    },
    {
      "cell_type": "code",
      "metadata": {
        "id": "wwI_gLjwO5w4"
      },
      "source": [
        "def FedAvg_Baseline(NUM_CLIENTS,model):\n",
        "  iterModel = model.copy()\n",
        "  len_it = len(iterModel.trainable_variables)\n",
        "  all_weights = []\n",
        "  for weights_index in range(len_it):\n",
        "    tmp =np.zeros(iterModel.trainable_variables[weights_index].numpy().shape,dtype='float64')\n",
        "    for node in range(NUM_CLIENTS):\n",
        "      tmp += clients[node].model.trainable_variables[weights_index].numpy()\n",
        "    all_weights.append(tmp/NUM_CLIENTS)\n",
        "  # print(all_weights)\n",
        "  iterModel_vars = iterModel.trainable_variables\n",
        "  for iter_v,n in zip(iterModel_vars,all_weights):\n",
        "    iter_v.assign(n)\n",
        "  return iterModel"
      ],
      "execution_count": 305,
      "outputs": []
    },
    {
      "cell_type": "code",
      "metadata": {
        "colab": {
          "base_uri": "https://localhost:8080/"
        },
        "id": "X5o0nVueO0m7",
        "outputId": "95f9a8ff-e791-4a64-a342-f8851110bac2"
      },
      "source": [
        "InitModel = FLModel(row=28,col=28,num_classes=36)\n",
        "S2 = ParamServer(\"\")\n",
        "S2.PreEval(InitModel,x_test,y_test)"
      ],
      "execution_count": 332,
      "outputs": [
        {
          "output_type": "stream",
          "text": [
            "313/313 [==============================] - 1s 3ms/step - loss: 3.5249 - accuracy: 0.0622\n"
          ],
          "name": "stdout"
        }
      ]
    },
    {
      "cell_type": "code",
      "metadata": {
        "colab": {
          "base_uri": "https://localhost:8080/"
        },
        "id": "KW2JdgUEP0C5",
        "outputId": "2914b669-9f2a-4745-884b-ac968a0c2529"
      },
      "source": [
        "SendModel = S2.PreTrain(InitModel,x_train[0:200],y_train[0:200],epochs=1)\n",
        "S2.PreEval(SendModel,x_test,y_test)"
      ],
      "execution_count": 333,
      "outputs": [
        {
          "output_type": "stream",
          "text": [
            "7/7 [==============================] - 0s 5ms/step - loss: 3.1025 - accuracy: 0.2072\n",
            "313/313 [==============================] - 1s 2ms/step - loss: 1.9525 - accuracy: 0.5709\n"
          ],
          "name": "stdout"
        }
      ]
    },
    {
      "cell_type": "code",
      "metadata": {
        "id": "Bwd2uL1FUpeH"
      },
      "source": [
        "NUM_EPOCHS = 10"
      ],
      "execution_count": 291,
      "outputs": []
    },
    {
      "cell_type": "code",
      "metadata": {
        "colab": {
          "base_uri": "https://localhost:8080/"
        },
        "id": "dejoUrZlPz5l",
        "outputId": "8f549192-7541-45a7-8c74-95efd5016f09"
      },
      "source": [
        "for e in range(NUM_EPOCHS):\n",
        "  print(\"EPOCHS {} is starting...\".format(e))\n",
        "  for i in range(NUM_CLIENTS):\n",
        "    clients[i].ReceiveModel(SendModel.copy())\n",
        "    clients[i].NodeTrain()\n",
        "    # clients[i].NodeEval()\n",
        "    # DIS.append(Distance(SendModel,clients[i].model))\n",
        "  FedModel = FedAvg_Baseline(NUM_CLIENTS,SendModel)\n",
        "  S2.PreEval(FedModel,x_test,y_test)\n",
        "  SendModel = FedModel.copy()"
      ],
      "execution_count": 334,
      "outputs": [
        {
          "output_type": "stream",
          "text": [
            "EPOCHS 0 is starting...\n",
            "40/40 [==============================] - 1s 5ms/step - loss: 30.6498 - accuracy: 0.3889\n",
            "40/40 [==============================] - 1s 5ms/step - loss: 12.2691 - accuracy: 0.0905\n",
            "40/40 [==============================] - 1s 5ms/step - loss: 32.3587 - accuracy: 0.3641\n",
            "40/40 [==============================] - 1s 5ms/step - loss: 38.5431 - accuracy: 0.5148\n",
            "40/40 [==============================] - 1s 5ms/step - loss: 40.8659 - accuracy: 0.3926\n",
            "40/40 [==============================] - 1s 5ms/step - loss: 38.4417 - accuracy: 0.4673\n",
            "40/40 [==============================] - 1s 5ms/step - loss: 38.7848 - accuracy: 0.3512\n",
            "40/40 [==============================] - 1s 5ms/step - loss: 7.7271 - accuracy: 0.1133\n",
            "40/40 [==============================] - 1s 5ms/step - loss: 12.0582 - accuracy: 0.0793\n",
            "40/40 [==============================] - 1s 5ms/step - loss: 32.3823 - accuracy: 0.2670\n",
            "40/40 [==============================] - 1s 5ms/step - loss: 40.3690 - accuracy: 0.5090\n",
            "40/40 [==============================] - 1s 4ms/step - loss: 19.5518 - accuracy: 0.1220\n",
            "313/313 [==============================] - 1s 2ms/step - loss: 2.1722 - accuracy: 0.8481\n",
            "EPOCHS 1 is starting...\n",
            "40/40 [==============================] - 1s 5ms/step - loss: 17.2656 - accuracy: 0.5197\n",
            "40/40 [==============================] - 1s 5ms/step - loss: 7.0099 - accuracy: 0.2580\n",
            "40/40 [==============================] - 1s 5ms/step - loss: 13.1916 - accuracy: 0.4677\n",
            "40/40 [==============================] - 1s 5ms/step - loss: 18.9486 - accuracy: 0.6092\n",
            "40/40 [==============================] - 1s 5ms/step - loss: 13.5707 - accuracy: 0.5022\n",
            "40/40 [==============================] - 1s 5ms/step - loss: 14.8365 - accuracy: 0.5922\n",
            "40/40 [==============================] - 1s 5ms/step - loss: 18.0815 - accuracy: 0.4738\n",
            "40/40 [==============================] - 1s 5ms/step - loss: 6.4465 - accuracy: 0.2569\n",
            "40/40 [==============================] - 1s 5ms/step - loss: 6.3383 - accuracy: 0.2180\n",
            "40/40 [==============================] - 1s 5ms/step - loss: 16.5582 - accuracy: 0.3746\n",
            "40/40 [==============================] - 1s 5ms/step - loss: 12.9173 - accuracy: 0.6466\n",
            "40/40 [==============================] - 1s 5ms/step - loss: 8.0066 - accuracy: 0.3064\n",
            "313/313 [==============================] - 1s 3ms/step - loss: 2.3527 - accuracy: 0.8789\n",
            "EPOCHS 2 is starting...\n",
            "40/40 [==============================] - 1s 5ms/step - loss: 10.0327 - accuracy: 0.6246\n",
            "40/40 [==============================] - 1s 5ms/step - loss: 6.0537 - accuracy: 0.3695\n",
            "40/40 [==============================] - 1s 5ms/step - loss: 9.5726 - accuracy: 0.5785\n",
            "40/40 [==============================] - 1s 5ms/step - loss: 13.1724 - accuracy: 0.6915\n",
            "40/40 [==============================] - 1s 5ms/step - loss: 13.3917 - accuracy: 0.5923\n",
            "40/40 [==============================] - 1s 5ms/step - loss: 13.8243 - accuracy: 0.6578\n",
            "40/40 [==============================] - 1s 5ms/step - loss: 11.1718 - accuracy: 0.5700\n",
            "40/40 [==============================] - 1s 5ms/step - loss: 6.3508 - accuracy: 0.3710\n",
            "40/40 [==============================] - 1s 5ms/step - loss: 6.4201 - accuracy: 0.3407\n",
            "40/40 [==============================] - 1s 5ms/step - loss: 9.3791 - accuracy: 0.5020\n",
            "40/40 [==============================] - 1s 5ms/step - loss: 12.1362 - accuracy: 0.6807\n",
            "40/40 [==============================] - 1s 5ms/step - loss: 7.6386 - accuracy: 0.4147\n",
            "313/313 [==============================] - 1s 2ms/step - loss: 2.3203 - accuracy: 0.8829\n",
            "EPOCHS 3 is starting...\n",
            "40/40 [==============================] - 1s 5ms/step - loss: 9.1273 - accuracy: 0.6584\n",
            "40/40 [==============================] - 1s 5ms/step - loss: 5.7057 - accuracy: 0.4466\n",
            "40/40 [==============================] - 1s 5ms/step - loss: 7.7363 - accuracy: 0.6553\n",
            "40/40 [==============================] - 1s 5ms/step - loss: 7.7740 - accuracy: 0.7577\n",
            "40/40 [==============================] - 1s 5ms/step - loss: 9.2301 - accuracy: 0.6718\n",
            "40/40 [==============================] - 1s 5ms/step - loss: 9.6551 - accuracy: 0.6941\n",
            "40/40 [==============================] - 1s 5ms/step - loss: 9.4513 - accuracy: 0.6178\n",
            "40/40 [==============================] - 1s 5ms/step - loss: 4.0696 - accuracy: 0.4307\n",
            "40/40 [==============================] - 1s 5ms/step - loss: 4.8249 - accuracy: 0.4698\n",
            "40/40 [==============================] - 1s 5ms/step - loss: 7.5444 - accuracy: 0.5686\n",
            "40/40 [==============================] - 1s 5ms/step - loss: 8.2108 - accuracy: 0.7426\n",
            "40/40 [==============================] - 1s 5ms/step - loss: 7.1658 - accuracy: 0.4887\n",
            "313/313 [==============================] - 1s 3ms/step - loss: 2.2192 - accuracy: 0.8902\n",
            "EPOCHS 4 is starting...\n",
            "40/40 [==============================] - 1s 5ms/step - loss: 8.2205 - accuracy: 0.6671\n",
            "40/40 [==============================] - 1s 5ms/step - loss: 5.0878 - accuracy: 0.5145\n",
            "40/40 [==============================] - 1s 5ms/step - loss: 8.9141 - accuracy: 0.6489\n",
            "40/40 [==============================] - 1s 5ms/step - loss: 10.4987 - accuracy: 0.7691\n",
            "40/40 [==============================] - 1s 5ms/step - loss: 8.7195 - accuracy: 0.6763\n",
            "40/40 [==============================] - 1s 5ms/step - loss: 9.1172 - accuracy: 0.7305\n",
            "40/40 [==============================] - 1s 5ms/step - loss: 8.9502 - accuracy: 0.6662\n",
            "40/40 [==============================] - 1s 5ms/step - loss: 4.2653 - accuracy: 0.4896\n",
            "40/40 [==============================] - 1s 5ms/step - loss: 4.7216 - accuracy: 0.5046\n",
            "40/40 [==============================] - 1s 5ms/step - loss: 7.4100 - accuracy: 0.6007\n",
            "40/40 [==============================] - 1s 5ms/step - loss: 7.8538 - accuracy: 0.7729\n",
            "40/40 [==============================] - 1s 5ms/step - loss: 6.7119 - accuracy: 0.5476\n",
            "313/313 [==============================] - 1s 3ms/step - loss: 2.1297 - accuracy: 0.8936\n",
            "EPOCHS 5 is starting...\n",
            "40/40 [==============================] - 1s 5ms/step - loss: 7.3966 - accuracy: 0.7233\n",
            "40/40 [==============================] - 1s 5ms/step - loss: 4.2981 - accuracy: 0.5324\n",
            "40/40 [==============================] - 1s 5ms/step - loss: 8.5520 - accuracy: 0.6669\n",
            "40/40 [==============================] - 1s 5ms/step - loss: 9.0861 - accuracy: 0.7883\n",
            "40/40 [==============================] - 1s 6ms/step - loss: 9.0868 - accuracy: 0.7092\n",
            "40/40 [==============================] - 1s 5ms/step - loss: 8.4986 - accuracy: 0.7576\n",
            "40/40 [==============================] - 1s 5ms/step - loss: 9.9235 - accuracy: 0.6663\n",
            "40/40 [==============================] - 1s 5ms/step - loss: 3.5725 - accuracy: 0.5264\n",
            "40/40 [==============================] - 1s 5ms/step - loss: 4.4425 - accuracy: 0.5194\n",
            "40/40 [==============================] - 1s 6ms/step - loss: 6.3375 - accuracy: 0.6482\n",
            "40/40 [==============================] - 1s 5ms/step - loss: 7.3914 - accuracy: 0.7911\n",
            "40/40 [==============================] - 1s 5ms/step - loss: 6.1177 - accuracy: 0.5639\n",
            "313/313 [==============================] - 1s 3ms/step - loss: 2.0409 - accuracy: 0.8989\n",
            "EPOCHS 6 is starting...\n",
            "40/40 [==============================] - 1s 5ms/step - loss: 6.9742 - accuracy: 0.7509\n",
            "40/40 [==============================] - 1s 5ms/step - loss: 3.8921 - accuracy: 0.5491\n",
            "40/40 [==============================] - 1s 5ms/step - loss: 7.0380 - accuracy: 0.6823\n",
            "40/40 [==============================] - 1s 5ms/step - loss: 7.7250 - accuracy: 0.8112\n",
            "40/40 [==============================] - 1s 6ms/step - loss: 8.2218 - accuracy: 0.7206\n",
            "40/40 [==============================] - 1s 5ms/step - loss: 6.4761 - accuracy: 0.7889\n",
            "40/40 [==============================] - 1s 5ms/step - loss: 8.3574 - accuracy: 0.6748\n",
            "40/40 [==============================] - 1s 5ms/step - loss: 3.5136 - accuracy: 0.5305\n",
            "40/40 [==============================] - 1s 5ms/step - loss: 4.9104 - accuracy: 0.5731\n",
            "40/40 [==============================] - 1s 5ms/step - loss: 7.3739 - accuracy: 0.6782\n",
            "40/40 [==============================] - 1s 5ms/step - loss: 7.7033 - accuracy: 0.8166\n",
            "40/40 [==============================] - 1s 5ms/step - loss: 5.4229 - accuracy: 0.6190\n",
            "313/313 [==============================] - 1s 3ms/step - loss: 1.9284 - accuracy: 0.8875\n",
            "EPOCHS 7 is starting...\n",
            "40/40 [==============================] - 1s 5ms/step - loss: 7.3678 - accuracy: 0.7381\n",
            "40/40 [==============================] - 1s 5ms/step - loss: 3.4236 - accuracy: 0.6049\n",
            "40/40 [==============================] - 1s 6ms/step - loss: 5.7797 - accuracy: 0.7035\n",
            "40/40 [==============================] - 1s 5ms/step - loss: 8.6445 - accuracy: 0.8191\n",
            "40/40 [==============================] - 1s 6ms/step - loss: 6.5267 - accuracy: 0.7438\n",
            "40/40 [==============================] - 1s 6ms/step - loss: 9.3986 - accuracy: 0.7939\n",
            "40/40 [==============================] - 1s 6ms/step - loss: 8.8108 - accuracy: 0.6982\n",
            "40/40 [==============================] - 1s 6ms/step - loss: 3.4923 - accuracy: 0.5764\n",
            "40/40 [==============================] - 1s 5ms/step - loss: 3.9749 - accuracy: 0.6187\n",
            "40/40 [==============================] - 1s 6ms/step - loss: 6.0133 - accuracy: 0.6733\n",
            "40/40 [==============================] - 1s 6ms/step - loss: 8.5875 - accuracy: 0.8117\n",
            "40/40 [==============================] - 1s 5ms/step - loss: 4.9068 - accuracy: 0.6559\n",
            "313/313 [==============================] - 1s 3ms/step - loss: 1.8723 - accuracy: 0.8940\n",
            "EPOCHS 8 is starting...\n",
            "40/40 [==============================] - 1s 5ms/step - loss: 7.8756 - accuracy: 0.7613\n",
            "40/40 [==============================] - 1s 6ms/step - loss: 4.1328 - accuracy: 0.6360\n",
            "40/40 [==============================] - 1s 5ms/step - loss: 5.1952 - accuracy: 0.7490\n",
            "40/40 [==============================] - 1s 6ms/step - loss: 7.5939 - accuracy: 0.8340\n",
            "40/40 [==============================] - 1s 6ms/step - loss: 7.4138 - accuracy: 0.7357\n",
            "40/40 [==============================] - 1s 5ms/step - loss: 6.6135 - accuracy: 0.7832\n",
            "40/40 [==============================] - 1s 5ms/step - loss: 8.0306 - accuracy: 0.7244\n",
            "40/40 [==============================] - 1s 6ms/step - loss: 4.0689 - accuracy: 0.5975\n",
            "40/40 [==============================] - 1s 6ms/step - loss: 3.3490 - accuracy: 0.5981\n",
            "40/40 [==============================] - 1s 5ms/step - loss: 5.1627 - accuracy: 0.7012\n",
            "40/40 [==============================] - 1s 5ms/step - loss: 7.1500 - accuracy: 0.8214\n",
            "40/40 [==============================] - 1s 5ms/step - loss: 4.8394 - accuracy: 0.6544\n",
            "313/313 [==============================] - 1s 3ms/step - loss: 1.8051 - accuracy: 0.8876\n",
            "EPOCHS 9 is starting...\n",
            "40/40 [==============================] - 1s 5ms/step - loss: 6.0403 - accuracy: 0.7730\n",
            "40/40 [==============================] - 1s 5ms/step - loss: 3.6193 - accuracy: 0.6196\n",
            "40/40 [==============================] - 1s 6ms/step - loss: 5.6908 - accuracy: 0.7663\n",
            "40/40 [==============================] - 1s 5ms/step - loss: 8.7052 - accuracy: 0.8259\n",
            "40/40 [==============================] - 1s 5ms/step - loss: 6.4868 - accuracy: 0.7668\n",
            "40/40 [==============================] - 1s 5ms/step - loss: 5.5794 - accuracy: 0.8165\n",
            "40/40 [==============================] - 1s 5ms/step - loss: 7.0817 - accuracy: 0.7185\n",
            "40/40 [==============================] - 1s 6ms/step - loss: 3.5265 - accuracy: 0.6296\n",
            "40/40 [==============================] - 1s 5ms/step - loss: 3.4915 - accuracy: 0.6141\n",
            "40/40 [==============================] - 1s 6ms/step - loss: 5.6723 - accuracy: 0.6894\n",
            "40/40 [==============================] - 1s 5ms/step - loss: 5.3591 - accuracy: 0.8404\n",
            "40/40 [==============================] - 1s 5ms/step - loss: 5.7789 - accuracy: 0.6583\n",
            "313/313 [==============================] - 1s 3ms/step - loss: 1.7391 - accuracy: 0.8810\n"
          ],
          "name": "stdout"
        }
      ]
    },
    {
      "cell_type": "code",
      "metadata": {
        "id": "NbpXvIuEPzwX"
      },
      "source": [
        "S_acc =[S2.loss_acc[i][1]*100 for i in range(len(S2.loss_acc))]\n",
        "S_loss =[S2.loss_acc[i][0] for i in range(len(S2.loss_acc))]"
      ],
      "execution_count": 335,
      "outputs": []
    },
    {
      "cell_type": "code",
      "metadata": {
        "id": "KtBMBFo7Pzg2",
        "colab": {
          "base_uri": "https://localhost:8080/",
          "height": 281
        },
        "outputId": "928aa995-3eae-4094-cf2e-da1f4b7d9d39"
      },
      "source": [
        "x = np.arange(len(S2.loss_acc))\n",
        "fig = plt.figure()\n",
        "ax1 = fig.add_subplot(111)\n",
        "acc = ax1.plot(x,S_acc,'r',label='Acc')\n",
        "ax1.set_ylabel('Acc')\n",
        "ax1.set_title('Acc-Loss')\n",
        "\n",
        "ax2 = ax1.twinx()\n",
        "loss = ax2.plot(x,S_loss,label='Loss')\n",
        "ax2.set_ylabel('Loss')\n",
        "\n",
        "lns = acc+loss\n",
        "labs = [l.get_label() for l in lns]\n",
        "ax2.legend(lns,labs)\n",
        "plt.show()"
      ],
      "execution_count": 336,
      "outputs": [
        {
          "output_type": "display_data",
          "data": {
            "image/png": "[encoded data removed]",
            "text/plain": [
              "<Figure size 432x288 with 2 Axes>"
            ]
          },
          "metadata": {
            "tags": [],
            "needs_background": "light"
          }
        }
      ]
    },
    {
      "cell_type": "markdown",
      "metadata": {
        "id": "7Wefk859SVCz"
      },
      "source": [
        "## 节点训练\n",
        "OK！fine,我这两天就是为了实现一个循环。。。\n",
        "真他娘的丢人"
      ]
    },
    {
      "cell_type": "code",
      "metadata": {
        "id": "BqZPIlu6QQjN"
      },
      "source": [
        "for i in range(NUM_CLIENTS):\n",
        "  clients[i].ReceiveModel(a.copy())\n",
        "  clients[i].NodeTrain()"
      ],
      "execution_count": null,
      "outputs": []
    },
    {
      "cell_type": "code",
      "metadata": {
        "colab": {
          "base_uri": "https://localhost:8080/"
        },
        "id": "WoYtJOhkROaV",
        "outputId": "f22e3092-0849-4303-e944-f590c62aa997"
      },
      "source": [
        "for i in range(NUM_CLIENTS):\n",
        "  print(\"Node {} is evaluating...\".format(i))\n",
        "  clients[i].NodeEval()\n",
        "  ##虽然这个步骤没啥用"
      ],
      "execution_count": null,
      "outputs": [
        {
          "output_type": "stream",
          "text": [
            "Node 0 is evaluating...\n",
            "313/313 [==============================] - 0s 1ms/step - loss: 0.3676 - accuracy: 0.9269\n",
            "Node 1 is evaluating...\n",
            "313/313 [==============================] - 0s 1ms/step - loss: 0.3695 - accuracy: 0.9273\n",
            "Node 2 is evaluating...\n",
            "313/313 [==============================] - 0s 1ms/step - loss: 0.5132 - accuracy: 0.9271\n",
            "Node 3 is evaluating...\n",
            "313/313 [==============================] - 0s 1ms/step - loss: 0.3902 - accuracy: 0.9242\n",
            "Node 4 is evaluating...\n",
            "313/313 [==============================] - 0s 1ms/step - loss: 0.4435 - accuracy: 0.9231\n",
            "Node 5 is evaluating...\n",
            "313/313 [==============================] - 1s 1ms/step - loss: 0.3814 - accuracy: 0.9300\n",
            "Node 6 is evaluating...\n",
            "313/313 [==============================] - 0s 1ms/step - loss: 0.3722 - accuracy: 0.9262\n",
            "Node 7 is evaluating...\n",
            "313/313 [==============================] - 0s 1ms/step - loss: 0.3679 - accuracy: 0.9250\n",
            "Node 8 is evaluating...\n",
            "313/313 [==============================] - 0s 1ms/step - loss: 0.4051 - accuracy: 0.9242\n",
            "Node 9 is evaluating...\n",
            "313/313 [==============================] - 0s 1ms/step - loss: 0.3989 - accuracy: 0.9185\n"
          ],
          "name": "stdout"
        }
      ]
    },
    {
      "cell_type": "code",
      "metadata": {
        "id": "PXF-zOUIZGDO"
      },
      "source": [
        "def DiffModel(model1,model2,layer_name,w_vs_b=0):\n",
        "  l1 = model1.get_layer(layer_name).get_weights()[w_vs_b].reshape([-1,])\n",
        "  l2 = model2.get_layer(layer_name).get_weights()[w_vs_b].reshape([-1,])\n",
        "  # l1 = model1.trainable_variables\n",
        "  # l2 = model2.trainable_variables\n",
        "  # print(l1)\n",
        "  l1.shape\n",
        "  # l1 = l1.reshape([-1,])\n",
        "  # l2 = l2.reshape([-1,])\n",
        "  for i in range(len(l1)):\n",
        "    if l1[i]!=l2[i]:\n",
        "      print(\"NOT SAME MODEL\")\n",
        "      return"
      ],
      "execution_count": null,
      "outputs": []
    },
    {
      "cell_type": "code",
      "metadata": {
        "colab": {
          "base_uri": "https://localhost:8080/"
        },
        "id": "WYehgejDZJZw",
        "outputId": "f8c651dd-b7b4-41a7-f3ca-67afd9d626cd"
      },
      "source": [
        "DiffModel(clients[0].model,clients[1].model,'dense_1')"
      ],
      "execution_count": null,
      "outputs": [
        {
          "output_type": "stream",
          "text": [
            "NOT SAME MODEL\n"
          ],
          "name": "stdout"
        }
      ]
    },
    {
      "cell_type": "markdown",
      "metadata": {
        "id": "rpREw9q5Se9f"
      },
      "source": [
        "## 模型聚合 FedAvg\n",
        "THIS IS THE MOST IMPORANT！"
      ]
    },
    {
      "cell_type": "code",
      "metadata": {
        "id": "2RRqKgiqSRFF"
      },
      "source": [
        "##先实现普通聚合，再考虑距离问题"
      ],
      "execution_count": null,
      "outputs": []
    },
    {
      "cell_type": "code",
      "metadata": {
        "colab": {
          "base_uri": "https://localhost:8080/"
        },
        "id": "bIOKI885TN31",
        "outputId": "75a8957a-2d67-49f9-d0a1-d340a623ce3f"
      },
      "source": [
        "# clients[0].Train_dataset[0].shape"
      ],
      "execution_count": null,
      "outputs": [
        {
          "output_type": "execute_result",
          "data": {
            "text/plain": [
              "(60000, 28, 28)"
            ]
          },
          "metadata": {
            "tags": []
          },
          "execution_count": 182
        }
      ]
    },
    {
      "cell_type": "code",
      "metadata": {
        "colab": {
          "base_uri": "https://localhost:8080/"
        },
        "id": "P9fgFEGKT41m",
        "outputId": "e4c6fb02-b699-4c76-a013-0163740fe1e8"
      },
      "source": [
        "# a_1 = a.trainable_variables\n",
        "# b_1 = clients[0].model.trainable_variables\n",
        "# for _a,_b in zip(a_1,b_1):\n",
        "#   # print(_a,_b,'\\n')\n",
        "#   print(type(_a))"
      ],
      "execution_count": null,
      "outputs": [
        {
          "output_type": "stream",
          "text": [
            "<class 'tensorflow.python.eager.def_function.UnliftedInitializerVariable'>\n",
            "<class 'tensorflow.python.eager.def_function.UnliftedInitializerVariable'>\n",
            "<class 'tensorflow.python.eager.def_function.UnliftedInitializerVariable'>\n",
            "<class 'tensorflow.python.eager.def_function.UnliftedInitializerVariable'>\n"
          ],
          "name": "stdout"
        }
      ]
    },
    {
      "cell_type": "code",
      "metadata": {
        "id": "UJUbvaVsZP4P"
      },
      "source": [
        "# tmp = a_1[0]\n",
        "# tmp2 = b_1[0]"
      ],
      "execution_count": null,
      "outputs": []
    },
    {
      "cell_type": "code",
      "metadata": {
        "colab": {
          "base_uri": "https://localhost:8080/"
        },
        "id": "HYDG5UaqZP1s",
        "outputId": "f27ff669-b776-488d-f1a6-85d06edbf27e"
      },
      "source": [
        "# print(tmp.name)\n",
        "# print(tmp2.name)"
      ],
      "execution_count": null,
      "outputs": [
        {
          "output_type": "stream",
          "text": [
            "fl_model_57/dense_1/kernel:0\n",
            "fl_model_60/dense_1/kernel:0\n"
          ],
          "name": "stdout"
        }
      ]
    },
    {
      "cell_type": "code",
      "metadata": {
        "colab": {
          "base_uri": "https://localhost:8080/"
        },
        "id": "1MCj2AqXZPzY",
        "outputId": "0102b751-5f6c-4f17-d7fb-361d68ba5c3c"
      },
      "source": [
        "# tmp.numpy()"
      ],
      "execution_count": null,
      "outputs": [
        {
          "output_type": "execute_result",
          "data": {
            "text/plain": [
              "array([[-0.07970653,  0.07991762,  0.05910995, ...,  0.0579403 ,\n",
              "         0.0321511 ,  0.02421231],\n",
              "       [-0.05695383,  0.03625515, -0.06860252, ...,  0.02591816,\n",
              "         0.04554088,  0.02055327],\n",
              "       [-0.01783558, -0.04462572, -0.02057564, ...,  0.02187481,\n",
              "        -0.04054561, -0.02853347],\n",
              "       ...,\n",
              "       [-0.05783828, -0.05880497,  0.07976013, ..., -0.03510847,\n",
              "        -0.03695404,  0.03616227],\n",
              "       [-0.06651882,  0.02818294, -0.02726433, ..., -0.05769905,\n",
              "        -0.04426115, -0.00901749],\n",
              "       [-0.01624558,  0.05673347, -0.07569796, ..., -0.05263541,\n",
              "        -0.0753431 , -0.04903179]], dtype=float32)"
            ]
          },
          "metadata": {
            "tags": []
          },
          "execution_count": 198
        }
      ]
    },
    {
      "cell_type": "code",
      "metadata": {
        "colab": {
          "base_uri": "https://localhost:8080/"
        },
        "id": "3kMMoHjAg6ZA",
        "outputId": "7530bd17-18dd-4904-93c1-a465a682b56e"
      },
      "source": [
        "# tmp.numpy().shape"
      ],
      "execution_count": null,
      "outputs": [
        {
          "output_type": "execute_result",
          "data": {
            "text/plain": [
              "(784, 128)"
            ]
          },
          "metadata": {
            "tags": []
          },
          "execution_count": 203
        }
      ]
    },
    {
      "cell_type": "code",
      "metadata": {
        "id": "szwdWjJOhhPO"
      },
      "source": [
        "#  tmp2 =np.zeros(a.trainable_variables[0].numpy().shape,dtype='float64')"
      ],
      "execution_count": null,
      "outputs": []
    },
    {
      "cell_type": "code",
      "metadata": {
        "colab": {
          "base_uri": "https://localhost:8080/"
        },
        "id": "ThtNgQgrhncc",
        "outputId": "cc972f15-4527-4670-a94a-98797e7e253f"
      },
      "source": [
        "# tmp2.shape"
      ],
      "execution_count": null,
      "outputs": [
        {
          "output_type": "execute_result",
          "data": {
            "text/plain": [
              "(784, 128)"
            ]
          },
          "metadata": {
            "tags": []
          },
          "execution_count": 213
        }
      ]
    },
    {
      "cell_type": "code",
      "metadata": {
        "id": "YopyPHTFZPw0"
      },
      "source": [
        "#聚合先不考虑权重\n",
        "def FedAvg(NUM_CLIENTS):\n",
        "  iterModel = a.copy()\n",
        "  len_it = len(iterModel.trainable_variables)\n",
        "  all_weights = []\n",
        "  for weights_index in range(len_it):\n",
        "    tmp =np.zeros(iterModel.trainable_variables[weights_index].numpy().shape,dtype='float64')\n",
        "\n",
        "    for node in range(NUM_CLIENTS):\n",
        "      tmp += clients[node].model.trainable_variables[weights_index].numpy()\n",
        "    all_weights.append(tmp)\n",
        "  # print(all_weights)\n",
        "  iterModel_vars = iterModel.trainable_variables\n",
        "  for iter_v,n in zip(iterModel_vars,all_weights):\n",
        "    iter_v.assign(n)\n",
        "  return iterModel"
      ],
      "execution_count": null,
      "outputs": []
    },
    {
      "cell_type": "code",
      "metadata": {
        "id": "FlyPcfg2ZPuM"
      },
      "source": [
        "fedmodel = FedAvg(10)"
      ],
      "execution_count": null,
      "outputs": []
    },
    {
      "cell_type": "code",
      "metadata": {
        "id": "Y4fq1H9TZPq2"
      },
      "source": [
        "#昨天留的任务是如何把聚合后的numpy数组，转到模型中"
      ],
      "execution_count": null,
      "outputs": []
    },
    {
      "cell_type": "code",
      "metadata": {
        "colab": {
          "base_uri": "https://localhost:8080/"
        },
        "id": "6EWPH4k7RSYB",
        "outputId": "bbcaabfd-3c96-4aa0-9829-78d0eb485287"
      },
      "source": [
        "S.PreEval(fedmodel,x_test,y_test)"
      ],
      "execution_count": null,
      "outputs": [
        {
          "output_type": "stream",
          "text": [
            "313/313 [==============================] - 1s 1ms/step - loss: 7.8235 - accuracy: 0.2031\n"
          ],
          "name": "stdout"
        }
      ]
    },
    {
      "cell_type": "code",
      "metadata": {
        "colab": {
          "base_uri": "https://localhost:8080/"
        },
        "id": "j_8dKE06KK4e",
        "outputId": "67908246-b8a4-4577-bd63-5c230caa5209"
      },
      "source": [
        "len(fed)"
      ],
      "execution_count": null,
      "outputs": [
        {
          "output_type": "execute_result",
          "data": {
            "text/plain": [
              "4"
            ]
          },
          "metadata": {
            "tags": []
          },
          "execution_count": 125
        }
      ]
    },
    {
      "cell_type": "code",
      "metadata": {
        "id": "XZJXISaLFxtZ"
      },
      "source": [
        "img = np.array(np.random.randint(2,size=(10,10))*255)"
      ],
      "execution_count": null,
      "outputs": []
    },
    {
      "cell_type": "code",
      "metadata": {
        "colab": {
          "base_uri": "https://localhost:8080/"
        },
        "id": "LIF3M3c1IHWq",
        "outputId": "2983b9c1-fbb1-4e62-9757-e578200d39f8"
      },
      "source": [
        "img"
      ],
      "execution_count": null,
      "outputs": [
        {
          "output_type": "execute_result",
          "data": {
            "text/plain": [
              "array([[255, 255, 255,   0,   0, 255,   0,   0, 255, 255],\n",
              "       [  0, 255, 255, 255, 255, 255, 255,   0,   0,   0],\n",
              "       [255, 255, 255, 255,   0,   0, 255, 255,   0, 255],\n",
              "       [  0, 255, 255, 255, 255,   0, 255, 255,   0, 255],\n",
              "       [255, 255,   0, 255,   0, 255,   0,   0, 255,   0],\n",
              "       [  0,   0,   0, 255, 255, 255,   0, 255,   0, 255],\n",
              "       [  0, 255, 255,   0, 255, 255, 255,   0,   0, 255],\n",
              "       [  0, 255, 255,   0,   0, 255, 255, 255, 255,   0],\n",
              "       [255,   0,   0,   0,   0,   0,   0,   0, 255, 255],\n",
              "       [255, 255, 255,   0,   0, 255, 255,   0, 255, 255]])"
            ]
          },
          "metadata": {
            "tags": []
          },
          "execution_count": 46
        }
      ]
    },
    {
      "cell_type": "code",
      "metadata": {
        "colab": {
          "base_uri": "https://localhost:8080/",
          "height": 295
        },
        "id": "Sf0VX34pFxqi",
        "outputId": "76717e23-e60a-4f36-822c-f8d92b96c59d"
      },
      "source": [
        "ax = plt.gca()\n",
        "ax.set_xlim(-0.5,9.5)\n",
        "ax.set_ylim(-0.5,9.5)\n",
        "miloc = plt.MultipleLocator(1)\n",
        "ax.xaxis.set_minor_locator(miloc)\n",
        "plt.grid()\n",
        "plt.title(\"Nodes in each epoch\")\n",
        "plt.imshow(img,cmap='gray')\n",
        "plt.axis('on')\n",
        "plt.xlabel('Nodes')\n",
        "plt.ylabel('Epoch')\n",
        "x = np.arange(0.5,10.5,1)\n",
        "y = np.arange(0.5,10.5,1)\n",
        "plt.xticks()\n",
        "plt.yticks(y,(int(i-0.5) for i in y))\n",
        "plt.xticks(x,(int(i-0.5) for i in x))\n",
        "plt.show()"
      ],
      "execution_count": 99,
      "outputs": [
        {
          "output_type": "display_data",
          "data": {
            "image/png": "[encoded data removed]",
            "text/plain": [
              "<Figure size 432x288 with 1 Axes>"
            ]
          },
          "metadata": {
            "tags": [],
            "needs_background": "light"
          }
        }
      ]
    },
    {
      "cell_type": "code",
      "metadata": {
        "id": "dCoj3_-HFxnr"
      },
      "source": [
        "img2 = np.array([random.random() for x in range(10)])"
      ],
      "execution_count": 105,
      "outputs": []
    },
    {
      "cell_type": "code",
      "metadata": {
        "id": "FyWkxX6_FxfZ",
        "colab": {
          "base_uri": "https://localhost:8080/"
        },
        "outputId": "17251ceb-5285-48da-a480-a992c0649c59"
      },
      "source": [
        "img2"
      ],
      "execution_count": 106,
      "outputs": [
        {
          "output_type": "execute_result",
          "data": {
            "text/plain": [
              "array([0.62784529, 0.28131526, 0.01260447, 0.43294956, 0.66724747,\n",
              "       0.61818811, 0.37726141, 0.77486108, 0.34165029, 0.03846563])"
            ]
          },
          "metadata": {
            "tags": []
          },
          "execution_count": 106
        }
      ]
    },
    {
      "cell_type": "code",
      "metadata": {
        "id": "KevwPJasycdx"
      },
      "source": [
        "x = np.arange(10)"
      ],
      "execution_count": 108,
      "outputs": []
    },
    {
      "cell_type": "code",
      "metadata": {
        "colab": {
          "base_uri": "https://localhost:8080/",
          "height": 266
        },
        "id": "fQxLheAu2UH-",
        "outputId": "cfbb22a5-7111-49b0-a2a8-ed060a716656"
      },
      "source": [
        "l1 = plt.plot(x,img2,'r--',label='type1')"
      ],
      "execution_count": 110,
      "outputs": [
        {
          "output_type": "display_data",
          "data": {
            "image/png": "[encoded data removed]",
            "text/plain": [
              "<Figure size 432x288 with 1 Axes>"
            ]
          },
          "metadata": {
            "tags": [],
            "needs_background": "light"
          }
        }
      ]
    },
    {
      "cell_type": "code",
      "metadata": {
        "id": "0OQ_Tp6d2W4i"
      },
      "source": [
        ""
      ],
      "execution_count": null,
      "outputs": []
    }
  ]
}