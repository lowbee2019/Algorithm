{
  "nbformat": 4,
  "nbformat_minor": 0,
  "metadata": {
    "colab": {
      "name": "MyModel.ipynb",
      "provenance": [],
      "collapsed_sections": [
        "En8MczNik638",
        "MwmKo3gLrI-i"
      ],
      "authorship_tag": "ABX9TyP45ttwEPTAU/fBHhgMuk80",
      "include_colab_link": true
    },
    "kernelspec": {
      "display_name": "Python 3",
      "name": "python3"
    },
    "language_info": {
      "name": "python"
    }
  },
  "cells": [
    {
      "cell_type": "markdown",
      "metadata": {
        "id": "view-in-github",
        "colab_type": "text"
      },
      "source": [
        "<a href=\"https://colab.research.google.com/github/lowbee2019/Algorithm/blob/master/MyModel-v3.ipynb\" target=\"_parent\"><img src=\"https://colab.research.google.com/assets/colab-badge.svg\" alt=\"Open In Colab\"/></a>"
      ]
    },
    {
      "cell_type": "code",
      "metadata": {
        "colab": {
          "base_uri": "https://localhost:8080/"
        },
        "id": "uoFhItkFEsF8",
        "outputId": "82001a5c-3cee-4d93-9bab-e0f903b8994b"
      },
      "source": [
        "!pip install emnist"
      ],
      "execution_count": null,
      "outputs": [
        {
          "output_type": "stream",
          "text": [
            "Collecting emnist\n",
            "  Downloading https://files.pythonhosted.org/packages/d1/f4/78b24acbef9e8fe976dda700f16a3606f3b8363b015bc555f8050fbbd8ac/emnist-0.0-py3-none-any.whl\n",
            "Requirement already satisfied: tqdm in /usr/local/lib/python3.7/dist-packages (from emnist) (4.41.1)\n",
            "Requirement already satisfied: numpy in /usr/local/lib/python3.7/dist-packages (from emnist) (1.19.5)\n",
            "Requirement already satisfied: requests in /usr/local/lib/python3.7/dist-packages (from emnist) (2.23.0)\n",
            "Requirement already satisfied: idna<3,>=2.5 in /usr/local/lib/python3.7/dist-packages (from requests->emnist) (2.10)\n",
            "Requirement already satisfied: certifi>=2017.4.17 in /usr/local/lib/python3.7/dist-packages (from requests->emnist) (2020.12.5)\n",
            "Requirement already satisfied: urllib3!=1.25.0,!=1.25.1,<1.26,>=1.21.1 in /usr/local/lib/python3.7/dist-packages (from requests->emnist) (1.24.3)\n",
            "Requirement already satisfied: chardet<4,>=3.0.2 in /usr/local/lib/python3.7/dist-packages (from requests->emnist) (3.0.4)\n",
            "Installing collected packages: emnist\n",
            "Successfully installed emnist-0.0\n"
          ],
          "name": "stdout"
        }
      ]
    },
    {
      "cell_type": "code",
      "metadata": {
        "id": "9e4So1L3pPWp"
      },
      "source": [
        "import tensorflow as tf\n",
        "import numpy as np\n",
        "from tensorflow import keras\n",
        "import collections\n",
        "import copy\n",
        "import random\n",
        "import emnist"
      ],
      "execution_count": null,
      "outputs": []
    },
    {
      "cell_type": "markdown",
      "metadata": {
        "id": "YQaIGTfxmSfi"
      },
      "source": [
        "# Server Initialization"
      ]
    },
    {
      "cell_type": "code",
      "metadata": {
        "id": "PTK_p961nsA5"
      },
      "source": [
        "class ParamServer(object):\n",
        "  def __init__(self,init_model_path):\n",
        "    self.init_model_path = init_model_path\n",
        "    self.round = 0\n",
        "    self.optimizer=\"adam\"\n",
        "    self.loss = \"sparse_categorical_crossentropy\"\n",
        "    self.metrics =['accuracy']\n",
        "\n",
        "  def PreTrain(self,model,data,labels,batch_size=32,epochs=5):\n",
        "    model.compile(optimizer=self.optimizer,\n",
        "                  loss=self.loss,\n",
        "                  metrics=self.metrics)\n",
        "    _metrics = model.fit(data,labels,batch_size,epochs)\n",
        "    return model\n",
        "  \n",
        "  def PreEval(self,model,test_data,test_labels):\n",
        "    model.compile(optimizer=self.optimizer,\n",
        "                  loss=self.loss,\n",
        "                  metrics=self.metrics)\n",
        "    model.evaluate(test_data,test_labels)\n"
      ],
      "execution_count": null,
      "outputs": []
    },
    {
      "cell_type": "markdown",
      "metadata": {
        "id": "iRvlGAmjmxbw"
      },
      "source": [
        "## Mnist数据集的预处理"
      ]
    },
    {
      "cell_type": "code",
      "metadata": {
        "id": "6b0_4VEYnemW",
        "colab": {
          "base_uri": "https://localhost:8080/"
        },
        "outputId": "d5267823-db71-42e3-d253-1f0379130237"
      },
      "source": [
        "mnist = tf.keras.datasets.mnist\n",
        "train,test = mnist.load_data()\n",
        "x_train,y_train = train\n",
        "x_test,y_test = test\n",
        "x_train,x_test = x_train/255.0,x_test/255.0"
      ],
      "execution_count": null,
      "outputs": [
        {
          "output_type": "stream",
          "text": [
            "Downloading data from https://storage.googleapis.com/tensorflow/tf-keras-datasets/mnist.npz\n",
            "11493376/11490434 [==============================] - 0s 0us/step\n"
          ],
          "name": "stdout"
        }
      ]
    },
    {
      "cell_type": "code",
      "metadata": {
        "colab": {
          "base_uri": "https://localhost:8080/"
        },
        "id": "f9537dMSO_C_",
        "outputId": "0fc3725a-b81f-4e6d-968b-a6ab3f127e47"
      },
      "source": [
        "x_train.shape"
      ],
      "execution_count": null,
      "outputs": [
        {
          "output_type": "execute_result",
          "data": {
            "text/plain": [
              "(60000, 28, 28)"
            ]
          },
          "metadata": {
            "tags": []
          },
          "execution_count": 5
        }
      ]
    },
    {
      "cell_type": "markdown",
      "metadata": {
        "id": "2L712LCIm6Vv"
      },
      "source": [
        "## 模型的定义"
      ]
    },
    {
      "cell_type": "code",
      "metadata": {
        "id": "C0noj5RjmF0i"
      },
      "source": [
        "class FLModel(tf.keras.Model):\n",
        "  def __init__(self,row,col,num_classes=62,*args,**kwargs):\n",
        "    super(FLModel,self).__init__(*args,**kwargs)\n",
        "    self.row = row\n",
        "    self.col = col\n",
        "    self.num_classes = num_classes\n",
        "    self.flatten = tf.keras.layers.Flatten(input_shape=(row,col))\n",
        "    self.dense_1 = tf.keras.layers.Dense(128,activation='relu',name=\"dense_1\")\n",
        "    self.dense_2 = tf.keras.layers.Dense(num_classes,activation='softmax',name=\"dense_2\")\n",
        "    self.drop = tf.keras.layers.Dropout(0.2)\n",
        "\n",
        "\n",
        "  def call(self,inputs):\n",
        "    x = self.flatten(inputs)\n",
        "    x = self.dense_1(x)\n",
        "    x = self.drop(x)\n",
        "    x = self.dense_2(x)\n",
        "    return x\n",
        "  \n",
        "  def copy(self):\n",
        "    NewModel = FLModel(self.row,self.col,self.num_classes)\n",
        "    _ = NewModel(np.expand_dims(tf.zeros([self.row,self.col]),0))\n",
        "    ##Layers\n",
        "    NewVars = NewModel.trainable_variables #此处为空列表，因为没有训练,这个地方参数传递是不是有问题\n",
        "    OldVars = self.trainable_variables\n",
        "    for n,o in zip(NewVars,OldVars):\n",
        "      n.assign(o.numpy())\n",
        "    return NewModel\n",
        "\n",
        "  # def compute_output_shape(self,input_shape):\n",
        "  #   shape = tf.TensorShape(input_shape).as_list()\n",
        "  #   shape[-1] = self.num_classes\n",
        "  #   return tf.TensorShape(shape)"
      ],
      "execution_count": null,
      "outputs": []
    },
    {
      "cell_type": "code",
      "metadata": {
        "id": "8-_EOR39lCAk"
      },
      "source": [
        ""
      ],
      "execution_count": null,
      "outputs": []
    },
    {
      "cell_type": "markdown",
      "metadata": {
        "id": "Z5LMvoXcoiz2"
      },
      "source": [
        "#Client Initialization\n",
        "模型训练和评估都要重写"
      ]
    },
    {
      "cell_type": "code",
      "metadata": {
        "id": "Hvu8wCjbooCF"
      },
      "source": [
        "class Client(object):\n",
        "  def __init__(self,id,model=None,Train_dataset=None,Test_dataset=None):\n",
        "    self.id = id\n",
        "    self.model = model\n",
        "    self.Train_dataset = Train_dataset\n",
        "    self.Test_dataset = Test_dataset\n",
        "    # from ParamServer\n",
        "    self.ParamModel = None\n",
        "    self.num_epochs = 5\n",
        "    self.batch_size = 32\n",
        "    self.shuffle_buffer = 100\n",
        "    self.prefetch_buffer = 10\n",
        "\n",
        "\n",
        "  def ReceiveModel(self,ParamModel,num_epochs=1,batch_size=32,shuffle_buffer=100,prefetch_buffer=10):\n",
        "    self.ParamModel = ParamModel\n",
        "    self.num_epochs = num_epochs\n",
        "    self.batch_size = batch_size\n",
        "    self.shuffle_buffer = shuffle_buffer\n",
        "    self.prefetch_buffer = prefetch_buffer\n",
        "  \n",
        "\n",
        "  def preprocess(self,dataset):\n",
        "    def batch_format_fn(element):\n",
        "      return collections.OrderedDict(\n",
        "            \n",
        "            x = tf.reshape(element['pixels'],[-1,784]),\n",
        "            y = tf.reshape(element['label'],[-1,1])\n",
        "          )\n",
        "    return dataset.repeat(self.num_epochs).shuffle(self.shuffle_buffer).batch(\n",
        "        self.batch_size).map(batch_format_fn).prefetch(self.prefetch_buffer)\n",
        "\n",
        "  def NodeTrain(self):\n",
        "    model = self.ParamModel\n",
        "    # pre_data = self.preprocess(self.Train_dataset)\n",
        "    # print(type(pre_data))\n",
        "    # model.fit(x=pre_data['x'],y=pre_data['y'],batch_size=self.batch_size,epochs=self.num_epochs)\n",
        "    # x = np.array([i['pixels'].numpy() for i in self.Train_dataset])\n",
        "    # y = np.array([i['label'].numpy() for i in self.Train_dataset])\n",
        "    x,y = self.Train_dataset\n",
        "    model.compile(\n",
        "        optimizer='adam',\n",
        "        loss='sparse_categorical_crossentropy',\n",
        "        metrics=['accuracy'])\n",
        "    _metrics = model.fit(x,y,batch_size=self.batch_size,epochs=self.num_epochs)\n",
        "    self.model = model\n",
        "\n",
        "  def NodeEval(self):\n",
        "    x,y = self.Test_dataset\n",
        "    self.model.evaluate(x,y)\n"
      ],
      "execution_count": null,
      "outputs": []
    },
    {
      "cell_type": "markdown",
      "metadata": {
        "id": "MwmKo3gLrI-i"
      },
      "source": [
        "# 阶段一：为Client分配数据（预处理工作）"
      ]
    },
    {
      "cell_type": "markdown",
      "metadata": {
        "id": "En8MczNik638"
      },
      "source": [
        "#阶段一：服务器完成模型初始化"
      ]
    },
    {
      "cell_type": "code",
      "metadata": {
        "id": "VcXnArpEjnnA",
        "colab": {
          "base_uri": "https://localhost:8080/"
        },
        "outputId": "ffe9f789-0bd5-4a8d-e73c-a99356370130"
      },
      "source": [
        "# emnist_dataset = emnist.extract_training_samples('byclass')"
      ],
      "execution_count": null,
      "outputs": [
        {
          "output_type": "stream",
          "text": [
            "Downloading emnist.zip: 536MB [00:05, 102MB/s]\n"
          ],
          "name": "stderr"
        }
      ]
    },
    {
      "cell_type": "code",
      "metadata": {
        "id": "9hJfX3uOyMGH"
      },
      "source": [
        "emnist_dataset = emnist.extract_training_samples('letters')"
      ],
      "execution_count": 101,
      "outputs": []
    },
    {
      "cell_type": "code",
      "metadata": {
        "id": "yNlCcKrZuraD"
      },
      "source": [
        "emnist_dataset = (emnist_dataset[0]/255.0,emnist_dataset[1]+9)"
      ],
      "execution_count": 102,
      "outputs": []
    },
    {
      "cell_type": "code",
      "metadata": {
        "colab": {
          "base_uri": "https://localhost:8080/"
        },
        "id": "eIIY87nj1RBg",
        "outputId": "c7888d5c-51bd-45aa-f5ee-4b18c7f699b3"
      },
      "source": [
        "set(emnist_dataset[1])"
      ],
      "execution_count": 104,
      "outputs": [
        {
          "output_type": "execute_result",
          "data": {
            "text/plain": [
              "{10,\n",
              " 11,\n",
              " 12,\n",
              " 13,\n",
              " 14,\n",
              " 15,\n",
              " 16,\n",
              " 17,\n",
              " 18,\n",
              " 19,\n",
              " 20,\n",
              " 21,\n",
              " 22,\n",
              " 23,\n",
              " 24,\n",
              " 25,\n",
              " 26,\n",
              " 27,\n",
              " 28,\n",
              " 29,\n",
              " 30,\n",
              " 31,\n",
              " 32,\n",
              " 33,\n",
              " 34,\n",
              " 35}"
            ]
          },
          "metadata": {
            "tags": []
          },
          "execution_count": 104
        }
      ]
    },
    {
      "cell_type": "code",
      "metadata": {
        "id": "GYETYI7g-In_"
      },
      "source": [
        "def create_data_for_clients(BasicSet,Num,TuneSet=train,TargetRate=0.7):\n",
        "  #Alpha: 需要掺入mnist的占比\n",
        "  #Beta: Emnist中数字的占比\n",
        "  # Beta = 34.0/73.0\n",
        "  Beta = 0\n",
        "  if TargetRate < Beta:\n",
        "    Alpha = 0\n",
        "  else:\n",
        "    Alpha = (TargetRate-Beta)/(1-Beta)\n",
        "  TuneNum = int(Alpha*Num)\n",
        "  BasicNum = Num-TuneNum\n",
        "  x_sequence = []\n",
        "  y_sequence = []\n",
        "  print(TuneNum,BasicNum)\n",
        "  if TuneNum > 0:\n",
        "    for i in range(TuneNum):\n",
        "      index = random.randint(0,len(TuneSet[0])-1)\n",
        "      x_sequence.append(TuneSet[0][index])\n",
        "      y_sequence.append(TuneSet[1][index])\n",
        "  if BasicNum > 0:\n",
        "    for i in range(BasicNum):\n",
        "      index = random.randint(0,len(BasicSet[0])-1)\n",
        "      x_sequence.append(BasicSet[0][index])\n",
        "      y_sequence.append(BasicSet[1][index])\n",
        "  return (np.array(x_sequence),np.array(y_sequence))"
      ],
      "execution_count": 77,
      "outputs": []
    },
    {
      "cell_type": "code",
      "metadata": {
        "id": "jlR96ORjbt5V"
      },
      "source": [
        "# def create_data_for_clients(BasicSet,Num):\n",
        "#   x_sequence = []\n",
        "#   y_sequence = []\n",
        "#   for i in range(Num):\n",
        "#     index = random.randint(0,Num-1)\n",
        "#     x_sequence.append(BasicSet[0][index])\n",
        "#     y_sequence.append(BasicSet[1][index])\n",
        "#   return (np.array(x_sequence),np.array(y_sequence))"
      ],
      "execution_count": null,
      "outputs": []
    },
    {
      "cell_type": "code",
      "metadata": {
        "id": "QE_WXcMMt1kP"
      },
      "source": [
        "NUM_CLIENTS = 10\n",
        "NUM_TRAIN_SAMPLE_CLIENT = 6400\n",
        "NUM_TEST_SAMPLE_CLIENT = 256"
      ],
      "execution_count": null,
      "outputs": []
    },
    {
      "cell_type": "code",
      "metadata": {
        "id": "-Tmf__umcO1l",
        "colab": {
          "base_uri": "https://localhost:8080/"
        },
        "outputId": "45253a48-38d6-4706-e45a-b05b1fdfd53b"
      },
      "source": [
        "clients=[]\n",
        "for i in range(NUM_CLIENTS):\n",
        "  clients.append(Client(i,\n",
        "                        Train_dataset=create_data_for_clients(emnist_dataset,NUM_TRAIN_SAMPLE_CLIENT,TargetRate=random.random()),\n",
        "                        Test_dataset=create_data_for_clients(emnist_dataset,NUM_TEST_SAMPLE_CLIENT))\n",
        "  )"
      ],
      "execution_count": 106,
      "outputs": [
        {
          "output_type": "stream",
          "text": [
            "1331 5069\n",
            "179 77\n",
            "1828 4572\n",
            "179 77\n",
            "1519 4881\n",
            "179 77\n",
            "4806 1594\n",
            "179 77\n",
            "5141 1259\n",
            "179 77\n",
            "5934 466\n",
            "179 77\n",
            "4488 1912\n",
            "179 77\n",
            "4768 1632\n",
            "179 77\n",
            "5201 1199\n",
            "179 77\n",
            "721 5679\n",
            "179 77\n"
          ],
          "name": "stdout"
        }
      ]
    },
    {
      "cell_type": "markdown",
      "metadata": {
        "id": "V9Jjje417iuZ"
      },
      "source": [
        "Show DataSet"
      ]
    },
    {
      "cell_type": "code",
      "metadata": {
        "id": "8CsXpPMR7icz"
      },
      "source": [
        "import matplotlib.pyplot as plt"
      ],
      "execution_count": null,
      "outputs": []
    },
    {
      "cell_type": "code",
      "metadata": {
        "colab": {
          "base_uri": "https://localhost:8080/",
          "height": 879
        },
        "id": "7RO4LfKq72nf",
        "outputId": "c1763b6f-d130-436e-9620-79495a59c41a"
      },
      "source": [
        "f = plt.figure(figsize=(15,15))\n",
        "for i in range(NUM_CLIENTS):\n",
        "  client_dataset = clients[i].Train_dataset\n",
        "  plot_data = collections.defaultdict(list)\n",
        "  for label in client_dataset[1]:\n",
        "    plot_data[label].append(label)\n",
        "  plt.subplot(3,4,i+1)\n",
        "  plt.title('Client {}'.format(i))\n",
        "  for j in range(len(plot_data)):\n",
        "    plt.hist(\n",
        "        plot_data[j],\n",
        "        density = False,\n",
        "        bins = [x for x in range(len(plot_data)+1)]\n",
        "    )"
      ],
      "execution_count": 107,
      "outputs": [
        {
          "output_type": "display_data",
          "data": {
            "image/png": "[encoded data removed]",
            "text/plain": [
              "<Figure size 1080x1080 with 10 Axes>"
            ]
          },
          "metadata": {
            "tags": [],
            "needs_background": "light"
          }
        }
      ]
    },
    {
      "cell_type": "markdown",
      "metadata": {
        "id": "JfqcXNr8jqi1"
      },
      "source": [
        "显示一下数字与字母的对比\n"
      ]
    },
    {
      "cell_type": "code",
      "metadata": {
        "colab": {
          "base_uri": "https://localhost:8080/",
          "height": 862
        },
        "id": "SkJ-l1ZSjpWf",
        "outputId": "e1ae9783-f3ac-4648-c257-2ce2b3f82858"
      },
      "source": [
        "f = plt.figure(figsize=(15,15))\n",
        "for i in range(NUM_CLIENTS):\n",
        "  client_dataset = clients[i].Train_dataset\n",
        "  plot_data = {0:0,1:0}\n",
        "  plot_labels = ['digits','letters']\n",
        "  for label in client_dataset[1]:\n",
        "    label = 0 if label < 10 else 1\n",
        "    plot_data[label]+=1\n",
        "  # print(plot_data)\n",
        "  data_labels = list(sorted(plot_data.keys()))\n",
        "  # print(data_labels)\n",
        "  data_nums = [plot_data[i] for i in data_labels]\n",
        "  colors = ['red','blue']\n",
        "  plt.subplot(3,4,i+1)\n",
        "  patches,text1,text2 = plt.pie(data_nums,\n",
        "                              labels=plot_labels,\n",
        "                              autopct='%3.2f%%',\n",
        "                              shadow=False,\n",
        "                              startangle=90,\n",
        "                              pctdistance=0.6)\n",
        "  plt.axis('equal')\n",
        "  plt.title('Client {}'.format(i))\n",
        "plt.show()\n"
      ],
      "execution_count": 108,
      "outputs": [
        {
          "output_type": "display_data",
          "data": {
            "image/png": "[encoded data removed]",
            "text/plain": [
              "<Figure size 1080x1080 with 10 Axes>"
            ]
          },
          "metadata": {
            "tags": []
          }
        }
      ]
    },
    {
      "cell_type": "code",
      "metadata": {
        "id": "UWBR9P212HDF"
      },
      "source": [
        ""
      ],
      "execution_count": null,
      "outputs": []
    },
    {
      "cell_type": "markdown",
      "metadata": {
        "id": "6PVxsGIpvlLn"
      },
      "source": [
        "##阶段二：中央服务器下发模型"
      ]
    },
    {
      "cell_type": "markdown",
      "metadata": {
        "id": "A5NIsOQgRp9h"
      },
      "source": [
        "Distance Between two models"
      ]
    },
    {
      "cell_type": "code",
      "metadata": {
        "id": "fX5rrSBk72Vw"
      },
      "source": [
        "def Distance(HookModel,TestModel):\n",
        "  len_it = len(HookModel.trainable_variables)\n",
        "  Hook_weights=[]\n",
        "  Test_weights=[]\n",
        "  for index in range(len_it):\n",
        "    Hook_weights.append(HookModel.trainable_variables[index].numpy())\n",
        "    Test_weights.append(TestModel.trainable_variables[index].numpy())\n",
        "  target = []\n",
        "  dis_norm2=[]\n",
        "  for i in range(len_it):\n",
        "    target.append(Hook_weights[i]-Test_weights[i])\n",
        "    dis_norm2.append(np.linalg.norm(target[i],2))\n",
        "  weight_weights = np.ones([len_it,1])\n",
        "  #调整权重\n",
        "  weight_weights[0]=0\n",
        "  weight_weights[1]=0\n",
        "  dis = np.dot(dis_norm2,weight_weights)\n",
        "  return dis\n",
        "  # return dis_norm2"
      ],
      "execution_count": 50,
      "outputs": []
    },
    {
      "cell_type": "code",
      "metadata": {
        "id": "KI9PCWxY716I"
      },
      "source": [
        "def BetterNode(clients,model,Total_NUM,FedAvg_NUM):\n",
        "  NodeDict=collections.OrderedDict()\n",
        "  for i in range(Total_NUM):\n",
        "    NodeDict[i] = Distance(model,clients[i].model)\n",
        "  Dlst = sorted(NodeDict.items(),key=lambda x:x[1])\n",
        "  NodeList = []\n",
        "  for i in range(FedAvg_NUM):\n",
        "    NodeList.append(Dlst[i][0])\n",
        "  return NodeList"
      ],
      "execution_count": 51,
      "outputs": []
    },
    {
      "cell_type": "markdown",
      "metadata": {
        "id": "_uNjI7abv3Vs"
      },
      "source": [
        "模型初始化"
      ]
    },
    {
      "cell_type": "code",
      "metadata": {
        "id": "PLJekuPtvxZl"
      },
      "source": [
        "InitModel = FLModel(row=28,col=28,num_classes=36)\n",
        "S = ParamServer(\"\")"
      ],
      "execution_count": 122,
      "outputs": []
    },
    {
      "cell_type": "code",
      "metadata": {
        "colab": {
          "base_uri": "https://localhost:8080/"
        },
        "id": "gd-HUkdMvxPV",
        "outputId": "aca7ea81-f8a0-40cb-ca6b-1095ee1a005b"
      },
      "source": [
        "S.PreEval(InitModel,x_test,y_test)"
      ],
      "execution_count": 123,
      "outputs": [
        {
          "output_type": "stream",
          "text": [
            "313/313 [==============================] - 1s 1ms/step - loss: 3.5706 - accuracy: 0.0125\n"
          ],
          "name": "stdout"
        }
      ]
    },
    {
      "cell_type": "code",
      "metadata": {
        "colab": {
          "base_uri": "https://localhost:8080/"
        },
        "id": "SGo2NYXsv96h",
        "outputId": "ac06205d-fe80-420d-81b5-bc43768980b1"
      },
      "source": [
        "SendModel = S.PreTrain(InitModel,x_train[0:200],y_train[0:200],epochs=1)\n",
        "S.PreEval(SendModel,x_test,y_test)"
      ],
      "execution_count": 124,
      "outputs": [
        {
          "output_type": "stream",
          "text": [
            "7/7 [==============================] - 0s 3ms/step - loss: 3.3375 - accuracy: 0.0848\n",
            "313/313 [==============================] - 1s 1ms/step - loss: 2.6291 - accuracy: 0.2625\n"
          ],
          "name": "stdout"
        }
      ]
    },
    {
      "cell_type": "markdown",
      "metadata": {
        "id": "7OmptaMzpR0P"
      },
      "source": [
        "# 阶段三：Clients 训练节点数据并聚合\n"
      ]
    },
    {
      "cell_type": "code",
      "metadata": {
        "id": "kr2PkfomvfWw"
      },
      "source": [
        ""
      ],
      "execution_count": 111,
      "outputs": []
    },
    {
      "cell_type": "code",
      "metadata": {
        "id": "ve8Dc1KewGH_"
      },
      "source": [
        "def FedAvg(NUM_CLIENTS,model,FedAvg_NUM=7):\n",
        "  iterModel = model.copy()\n",
        "  len_it = len(iterModel.trainable_variables)\n",
        "  all_weights = []\n",
        "  FedNodeList=BetterNode(clients,iterModel,NUM_CLIENTS,FedAvg_NUM)\n",
        "  print(\"FedAvg Node is\",FedNodeList)\n",
        "  Cut=2\n",
        "  for c in range(Cut):\n",
        "    # tmp =np.array(iterModel.trainable_variables[c].numpy(),dtype='float64')\n",
        "    all_weights.append(iterModel.trainable_variables[c].numpy())\n",
        "\n",
        "  for weights_index in range(Cut,len_it):\n",
        "    tmp =np.zeros(iterModel.trainable_variables[weights_index].numpy().shape,dtype='float64')\n",
        "\n",
        "    for node in FedNodeList:\n",
        "      tmp += clients[node].model.trainable_variables[weights_index].numpy()\n",
        "    all_weights.append(tmp/FedAvg_NUM)\n",
        "  # print(all_weights)\n",
        "  iterModel_vars = iterModel.trainable_variables\n",
        "  for iter_v,n in zip(iterModel_vars,all_weights):\n",
        "    iter_v.assign(n)\n",
        "  return iterModel"
      ],
      "execution_count": 84,
      "outputs": []
    },
    {
      "cell_type": "code",
      "metadata": {
        "id": "jl3dF36dw2hC"
      },
      "source": [
        "NUM_EPOCHS = 30"
      ],
      "execution_count": 113,
      "outputs": []
    },
    {
      "cell_type": "code",
      "metadata": {
        "colab": {
          "base_uri": "https://localhost:8080/"
        },
        "id": "ocfoXDNgyTdP",
        "outputId": "7332d020-87f6-4250-b6be-4d4432129fe8"
      },
      "source": [
        "for e in range(NUM_EPOCHS):\n",
        "  print(\"EPOCHS {} is starting...\".format(e))\n",
        "  for i in range(NUM_CLIENTS):\n",
        "    clients[i].ReceiveModel(SendModel.copy())\n",
        "    clients[i].NodeTrain()\n",
        "    # clients[i].NodeEval()\n",
        "    # DIS.append(Distance(SendModel,clients[i].model))\n",
        "  FedModel = FedAvg(NUM_CLIENTS,SendModel)\n",
        "  S.PreEval(FedModel,x_test,y_test)\n",
        "  SendModel = FedModel.copy()"
      ],
      "execution_count": 125,
      "outputs": [
        {
          "output_type": "stream",
          "text": [
            "EPOCHS 0 is starting...\n",
            "200/200 [==============================] - 1s 2ms/step - loss: 13.3669 - accuracy: 0.1323\n",
            "200/200 [==============================] - 1s 2ms/step - loss: 15.4047 - accuracy: 0.1704\n",
            "200/200 [==============================] - 1s 2ms/step - loss: 13.4475 - accuracy: 0.1700\n",
            "200/200 [==============================] - 1s 2ms/step - loss: 24.1314 - accuracy: 0.4724\n",
            "200/200 [==============================] - 1s 2ms/step - loss: 24.0431 - accuracy: 0.5113\n",
            "200/200 [==============================] - 1s 2ms/step - loss: 29.6657 - accuracy: 0.5998\n",
            "200/200 [==============================] - 1s 2ms/step - loss: 23.7534 - accuracy: 0.4344\n",
            "200/200 [==============================] - 1s 2ms/step - loss: 26.0264 - accuracy: 0.4650\n",
            "200/200 [==============================] - 1s 2ms/step - loss: 28.0871 - accuracy: 0.5099\n",
            "200/200 [==============================] - 1s 2ms/step - loss: 11.6447 - accuracy: 0.1019\n",
            "FedAvg Node is [4, 7, 3, 5, 6, 8, 1]\n",
            "313/313 [==============================] - 1s 1ms/step - loss: 2.5114 - accuracy: 0.3222\n",
            "EPOCHS 1 is starting...\n",
            "200/200 [==============================] - 1s 2ms/step - loss: 10.1090 - accuracy: 0.1744\n",
            "200/200 [==============================] - 1s 2ms/step - loss: 13.2400 - accuracy: 0.2043\n",
            "200/200 [==============================] - 1s 2ms/step - loss: 12.4206 - accuracy: 0.1827\n",
            "200/200 [==============================] - 1s 2ms/step - loss: 19.7549 - accuracy: 0.4957\n",
            "200/200 [==============================] - 1s 2ms/step - loss: 21.1977 - accuracy: 0.5339\n",
            "200/200 [==============================] - 1s 2ms/step - loss: 22.9068 - accuracy: 0.6291\n",
            "200/200 [==============================] - 1s 2ms/step - loss: 21.1504 - accuracy: 0.4704\n",
            "200/200 [==============================] - 1s 2ms/step - loss: 22.6103 - accuracy: 0.4899\n",
            "200/200 [==============================] - 1s 2ms/step - loss: 22.0513 - accuracy: 0.5370\n",
            "200/200 [==============================] - 1s 2ms/step - loss: 8.5025 - accuracy: 0.1316\n",
            "FedAvg Node is [8, 3, 5, 4, 7, 6, 0]\n",
            "313/313 [==============================] - 1s 1ms/step - loss: 2.4730 - accuracy: 0.3892\n",
            "EPOCHS 2 is starting...\n",
            "200/200 [==============================] - 1s 2ms/step - loss: 9.5130 - accuracy: 0.1917\n",
            "200/200 [==============================] - 1s 2ms/step - loss: 12.6870 - accuracy: 0.2226\n",
            "200/200 [==============================] - 1s 2ms/step - loss: 10.5565 - accuracy: 0.2029\n",
            "200/200 [==============================] - 1s 2ms/step - loss: 19.4455 - accuracy: 0.5078\n",
            "200/200 [==============================] - 1s 2ms/step - loss: 17.5024 - accuracy: 0.5454\n",
            "200/200 [==============================] - 1s 2ms/step - loss: 21.2603 - accuracy: 0.6308\n",
            "200/200 [==============================] - 1s 2ms/step - loss: 18.8523 - accuracy: 0.4755\n",
            "200/200 [==============================] - 1s 2ms/step - loss: 18.8070 - accuracy: 0.5071\n",
            "200/200 [==============================] - 1s 2ms/step - loss: 21.7332 - accuracy: 0.5387\n",
            "200/200 [==============================] - 1s 2ms/step - loss: 8.4033 - accuracy: 0.1655\n",
            "FedAvg Node is [4, 3, 5, 8, 7, 6, 1]\n",
            "313/313 [==============================] - 1s 1ms/step - loss: 2.4487 - accuracy: 0.4333\n",
            "EPOCHS 3 is starting...\n",
            "200/200 [==============================] - 1s 2ms/step - loss: 9.1729 - accuracy: 0.2379\n",
            "200/200 [==============================] - 1s 2ms/step - loss: 11.0157 - accuracy: 0.2616\n",
            "200/200 [==============================] - 1s 2ms/step - loss: 9.3707 - accuracy: 0.2418\n",
            "200/200 [==============================] - 1s 2ms/step - loss: 16.1726 - accuracy: 0.5357\n",
            "200/200 [==============================] - 1s 2ms/step - loss: 16.8754 - accuracy: 0.5557\n",
            "200/200 [==============================] - 1s 2ms/step - loss: 17.1471 - accuracy: 0.6662\n",
            "200/200 [==============================] - 1s 2ms/step - loss: 15.8835 - accuracy: 0.4972\n",
            "200/200 [==============================] - 1s 2ms/step - loss: 16.7724 - accuracy: 0.5317\n",
            "200/200 [==============================] - 1s 2ms/step - loss: 16.5436 - accuracy: 0.5826\n",
            "200/200 [==============================] - 1s 2ms/step - loss: 7.0305 - accuracy: 0.2099\n",
            "FedAvg Node is [3, 6, 5, 7, 4, 8, 1]\n",
            "313/313 [==============================] - 1s 1ms/step - loss: 2.4370 - accuracy: 0.4841\n",
            "EPOCHS 4 is starting...\n",
            "200/200 [==============================] - 1s 2ms/step - loss: 8.2888 - accuracy: 0.2636\n",
            "200/200 [==============================] - 1s 2ms/step - loss: 9.8085 - accuracy: 0.2866\n",
            "200/200 [==============================] - 1s 2ms/step - loss: 8.3136 - accuracy: 0.2706\n",
            "200/200 [==============================] - 1s 2ms/step - loss: 13.6795 - accuracy: 0.5652\n",
            "200/200 [==============================] - 1s 2ms/step - loss: 13.9361 - accuracy: 0.5891\n",
            "200/200 [==============================] - 1s 2ms/step - loss: 16.7049 - accuracy: 0.6551\n",
            "200/200 [==============================] - 1s 2ms/step - loss: 14.0316 - accuracy: 0.5271\n",
            "200/200 [==============================] - 1s 2ms/step - loss: 13.5230 - accuracy: 0.5421\n",
            "200/200 [==============================] - 1s 2ms/step - loss: 15.4037 - accuracy: 0.5752\n",
            "200/200 [==============================] - 1s 2ms/step - loss: 6.0989 - accuracy: 0.2563\n",
            "FedAvg Node is [3, 4, 8, 7, 6, 5, 1]\n",
            "313/313 [==============================] - 1s 1ms/step - loss: 2.4262 - accuracy: 0.5273\n",
            "EPOCHS 5 is starting...\n",
            "200/200 [==============================] - 1s 2ms/step - loss: 7.6142 - accuracy: 0.2978\n",
            "200/200 [==============================] - 1s 2ms/step - loss: 7.6615 - accuracy: 0.3411\n",
            "200/200 [==============================] - 1s 2ms/step - loss: 7.1261 - accuracy: 0.3317\n",
            "200/200 [==============================] - 1s 2ms/step - loss: 12.4571 - accuracy: 0.5887\n",
            "200/200 [==============================] - 1s 2ms/step - loss: 12.2136 - accuracy: 0.6044\n",
            "200/200 [==============================] - 1s 2ms/step - loss: 13.8403 - accuracy: 0.6858\n",
            "200/200 [==============================] - 1s 2ms/step - loss: 12.5988 - accuracy: 0.5406\n",
            "200/200 [==============================] - 1s 2ms/step - loss: 13.1362 - accuracy: 0.5668\n",
            "200/200 [==============================] - 1s 2ms/step - loss: 11.8521 - accuracy: 0.6136\n",
            "200/200 [==============================] - 1s 2ms/step - loss: 6.2100 - accuracy: 0.2875\n",
            "FedAvg Node is [4, 8, 7, 6, 5, 3, 1]\n",
            "313/313 [==============================] - 1s 1ms/step - loss: 2.4318 - accuracy: 0.5674\n",
            "EPOCHS 6 is starting...\n",
            "200/200 [==============================] - 1s 2ms/step - loss: 7.3422 - accuracy: 0.3366\n",
            "200/200 [==============================] - 1s 2ms/step - loss: 8.2171 - accuracy: 0.3653\n",
            "200/200 [==============================] - 1s 2ms/step - loss: 7.0744 - accuracy: 0.3606\n",
            "200/200 [==============================] - 1s 2ms/step - loss: 10.8482 - accuracy: 0.5930\n",
            "200/200 [==============================] - 1s 2ms/step - loss: 12.3017 - accuracy: 0.6203\n",
            "200/200 [==============================] - 1s 2ms/step - loss: 12.2326 - accuracy: 0.6883\n",
            "200/200 [==============================] - 1s 2ms/step - loss: 11.9104 - accuracy: 0.5587\n",
            "200/200 [==============================] - 1s 2ms/step - loss: 12.2300 - accuracy: 0.5778\n",
            "200/200 [==============================] - 1s 2ms/step - loss: 12.4465 - accuracy: 0.6186\n",
            "200/200 [==============================] - 1s 2ms/step - loss: 5.7623 - accuracy: 0.3020\n",
            "FedAvg Node is [4, 3, 8, 7, 5, 6, 1]\n",
            "313/313 [==============================] - 1s 1ms/step - loss: 2.4392 - accuracy: 0.5957\n",
            "EPOCHS 7 is starting...\n",
            "200/200 [==============================] - 1s 2ms/step - loss: 6.3957 - accuracy: 0.3644\n",
            "200/200 [==============================] - 1s 2ms/step - loss: 7.1953 - accuracy: 0.3896\n",
            "200/200 [==============================] - 1s 2ms/step - loss: 6.3036 - accuracy: 0.3805\n",
            "200/200 [==============================] - 1s 2ms/step - loss: 9.7921 - accuracy: 0.6154\n",
            "200/200 [==============================] - 1s 2ms/step - loss: 10.2779 - accuracy: 0.6335\n",
            "200/200 [==============================] - 1s 2ms/step - loss: 11.8109 - accuracy: 0.7061\n",
            "200/200 [==============================] - 1s 2ms/step - loss: 10.7553 - accuracy: 0.5620\n",
            "200/200 [==============================] - 1s 2ms/step - loss: 10.4994 - accuracy: 0.5985\n",
            "200/200 [==============================] - 1s 2ms/step - loss: 9.8537 - accuracy: 0.6361\n",
            "200/200 [==============================] - 1s 2ms/step - loss: 5.0980 - accuracy: 0.3604\n",
            "FedAvg Node is [8, 3, 7, 4, 5, 9, 0]\n",
            "313/313 [==============================] - 1s 1ms/step - loss: 2.4678 - accuracy: 0.6186\n",
            "EPOCHS 8 is starting...\n",
            "200/200 [==============================] - 1s 2ms/step - loss: 6.3623 - accuracy: 0.4063\n",
            "200/200 [==============================] - 1s 2ms/step - loss: 7.0018 - accuracy: 0.4228\n",
            "200/200 [==============================] - 1s 2ms/step - loss: 6.1032 - accuracy: 0.4053\n",
            "200/200 [==============================] - 1s 2ms/step - loss: 8.5747 - accuracy: 0.6402\n",
            "200/200 [==============================] - 1s 2ms/step - loss: 9.0502 - accuracy: 0.6540\n",
            "200/200 [==============================] - 1s 2ms/step - loss: 10.3381 - accuracy: 0.7132\n",
            "200/200 [==============================] - 1s 2ms/step - loss: 8.9157 - accuracy: 0.5952\n",
            "200/200 [==============================] - 1s 2ms/step - loss: 9.1437 - accuracy: 0.6165\n",
            "200/200 [==============================] - 1s 2ms/step - loss: 10.0484 - accuracy: 0.6404\n",
            "200/200 [==============================] - 1s 2ms/step - loss: 5.1181 - accuracy: 0.3527\n",
            "FedAvg Node is [3, 7, 8, 4, 6, 0, 1]\n",
            "313/313 [==============================] - 1s 1ms/step - loss: 2.5098 - accuracy: 0.5867\n",
            "EPOCHS 9 is starting...\n",
            "200/200 [==============================] - 1s 2ms/step - loss: 6.0122 - accuracy: 0.4226\n",
            "200/200 [==============================] - 1s 2ms/step - loss: 6.6041 - accuracy: 0.4421\n",
            "200/200 [==============================] - 1s 2ms/step - loss: 5.7988 - accuracy: 0.4349\n",
            "200/200 [==============================] - 1s 2ms/step - loss: 8.7904 - accuracy: 0.6355\n",
            "200/200 [==============================] - 1s 2ms/step - loss: 8.6854 - accuracy: 0.6573\n",
            "200/200 [==============================] - 1s 2ms/step - loss: 9.1058 - accuracy: 0.7269\n",
            "200/200 [==============================] - 1s 2ms/step - loss: 8.9530 - accuracy: 0.6107\n",
            "200/200 [==============================] - 1s 2ms/step - loss: 8.9767 - accuracy: 0.6261\n",
            "200/200 [==============================] - 1s 2ms/step - loss: 9.0572 - accuracy: 0.6572\n",
            "200/200 [==============================] - 1s 2ms/step - loss: 4.6304 - accuracy: 0.4060\n",
            "FedAvg Node is [3, 4, 6, 8, 7, 5, 2]\n",
            "313/313 [==============================] - 1s 1ms/step - loss: 2.5152 - accuracy: 0.5753\n",
            "EPOCHS 10 is starting...\n",
            "200/200 [==============================] - 1s 2ms/step - loss: 5.2133 - accuracy: 0.4413\n",
            "200/200 [==============================] - 1s 2ms/step - loss: 6.1612 - accuracy: 0.4352\n",
            "200/200 [==============================] - 1s 2ms/step - loss: 5.9401 - accuracy: 0.4518\n",
            "200/200 [==============================] - 1s 2ms/step - loss: 8.2854 - accuracy: 0.6520\n",
            "200/200 [==============================] - 1s 2ms/step - loss: 7.8901 - accuracy: 0.6666\n",
            "200/200 [==============================] - 1s 2ms/step - loss: 8.3095 - accuracy: 0.7174\n",
            "200/200 [==============================] - 1s 2ms/step - loss: 8.5500 - accuracy: 0.6164\n",
            "200/200 [==============================] - 1s 2ms/step - loss: 8.9279 - accuracy: 0.6433\n",
            "200/200 [==============================] - 1s 2ms/step - loss: 8.3313 - accuracy: 0.6742\n",
            "200/200 [==============================] - 1s 2ms/step - loss: 4.8048 - accuracy: 0.4201\n",
            "FedAvg Node is [7, 4, 8, 2, 1, 3, 5]\n",
            "313/313 [==============================] - 1s 1ms/step - loss: 2.5365 - accuracy: 0.5463\n",
            "EPOCHS 11 is starting...\n",
            "200/200 [==============================] - 1s 2ms/step - loss: 4.8732 - accuracy: 0.4536\n",
            "200/200 [==============================] - 1s 2ms/step - loss: 5.6975 - accuracy: 0.4701\n",
            "200/200 [==============================] - 1s 2ms/step - loss: 5.2087 - accuracy: 0.4613\n",
            "200/200 [==============================] - 1s 2ms/step - loss: 8.2019 - accuracy: 0.6592\n",
            "200/200 [==============================] - 1s 2ms/step - loss: 6.8464 - accuracy: 0.6919\n",
            "200/200 [==============================] - 1s 2ms/step - loss: 8.4436 - accuracy: 0.7303\n",
            "200/200 [==============================] - 1s 2ms/step - loss: 7.8852 - accuracy: 0.6247\n",
            "200/200 [==============================] - 1s 2ms/step - loss: 7.5477 - accuracy: 0.6537\n",
            "200/200 [==============================] - 1s 2ms/step - loss: 7.4172 - accuracy: 0.6829\n",
            "200/200 [==============================] - 1s 2ms/step - loss: 4.4004 - accuracy: 0.4277\n",
            "FedAvg Node is [7, 3, 1, 4, 6, 8, 5]\n",
            "313/313 [==============================] - 1s 1ms/step - loss: 2.5312 - accuracy: 0.5554\n",
            "EPOCHS 12 is starting...\n",
            "200/200 [==============================] - 1s 2ms/step - loss: 4.9081 - accuracy: 0.4536\n",
            "200/200 [==============================] - 1s 2ms/step - loss: 5.4190 - accuracy: 0.4779\n",
            "200/200 [==============================] - 1s 2ms/step - loss: 4.8895 - accuracy: 0.4821\n",
            "200/200 [==============================] - 1s 2ms/step - loss: 6.9825 - accuracy: 0.6571\n",
            "200/200 [==============================] - 1s 2ms/step - loss: 6.9553 - accuracy: 0.6781\n",
            "200/200 [==============================] - 1s 2ms/step - loss: 7.6288 - accuracy: 0.7352\n",
            "200/200 [==============================] - 1s 2ms/step - loss: 6.4437 - accuracy: 0.6445\n",
            "200/200 [==============================] - 1s 2ms/step - loss: 6.8628 - accuracy: 0.6537\n",
            "200/200 [==============================] - 1s 2ms/step - loss: 6.8337 - accuracy: 0.6782\n",
            "200/200 [==============================] - 1s 2ms/step - loss: 4.3513 - accuracy: 0.4299\n",
            "FedAvg Node is [6, 7, 8, 4, 3, 5, 1]\n",
            "313/313 [==============================] - 1s 1ms/step - loss: 2.5422 - accuracy: 0.5231\n",
            "EPOCHS 13 is starting...\n",
            "200/200 [==============================] - 1s 2ms/step - loss: 4.8404 - accuracy: 0.4533\n",
            "200/200 [==============================] - 1s 2ms/step - loss: 4.6132 - accuracy: 0.4998\n",
            "200/200 [==============================] - 1s 2ms/step - loss: 4.8447 - accuracy: 0.4742\n",
            "200/200 [==============================] - 1s 2ms/step - loss: 6.0742 - accuracy: 0.6655\n",
            "200/200 [==============================] - 1s 2ms/step - loss: 6.6530 - accuracy: 0.6771\n",
            "200/200 [==============================] - 1s 2ms/step - loss: 7.0678 - accuracy: 0.7375\n",
            "200/200 [==============================] - 1s 2ms/step - loss: 6.7023 - accuracy: 0.6438\n",
            "200/200 [==============================] - 1s 2ms/step - loss: 6.8485 - accuracy: 0.6522\n",
            "200/200 [==============================] - 1s 2ms/step - loss: 6.3212 - accuracy: 0.6898\n",
            "200/200 [==============================] - 1s 2ms/step - loss: 4.0372 - accuracy: 0.4449\n",
            "FedAvg Node is [4, 8, 3, 7, 6, 1, 5]\n",
            "313/313 [==============================] - 1s 1ms/step - loss: 2.5377 - accuracy: 0.5118\n",
            "EPOCHS 14 is starting...\n",
            "200/200 [==============================] - 1s 2ms/step - loss: 4.4764 - accuracy: 0.4638\n",
            "200/200 [==============================] - 1s 2ms/step - loss: 5.3060 - accuracy: 0.4806\n",
            "200/200 [==============================] - 1s 2ms/step - loss: 4.7164 - accuracy: 0.4681\n",
            "200/200 [==============================] - 1s 2ms/step - loss: 6.0113 - accuracy: 0.6797\n",
            "200/200 [==============================] - 1s 2ms/step - loss: 6.2095 - accuracy: 0.6793\n",
            "200/200 [==============================] - 1s 2ms/step - loss: 5.9616 - accuracy: 0.7366\n",
            "200/200 [==============================] - 1s 2ms/step - loss: 5.7836 - accuracy: 0.6474\n",
            "200/200 [==============================] - 1s 2ms/step - loss: 6.2695 - accuracy: 0.6583\n",
            "200/200 [==============================] - 1s 2ms/step - loss: 5.9158 - accuracy: 0.6928\n",
            "200/200 [==============================] - 1s 2ms/step - loss: 4.0502 - accuracy: 0.4453\n",
            "FedAvg Node is [7, 3, 8, 4, 6, 5, 1]\n",
            "313/313 [==============================] - 1s 1ms/step - loss: 2.5567 - accuracy: 0.4777\n",
            "EPOCHS 15 is starting...\n",
            "200/200 [==============================] - 1s 2ms/step - loss: 4.7471 - accuracy: 0.4679\n",
            "200/200 [==============================] - 1s 2ms/step - loss: 4.4398 - accuracy: 0.5001\n",
            "200/200 [==============================] - 1s 2ms/step - loss: 4.4700 - accuracy: 0.5025\n",
            "200/200 [==============================] - 1s 2ms/step - loss: 5.7323 - accuracy: 0.6659\n",
            "200/200 [==============================] - 1s 2ms/step - loss: 5.4902 - accuracy: 0.6901\n",
            "200/200 [==============================] - 1s 2ms/step - loss: 6.5969 - accuracy: 0.7260\n",
            "200/200 [==============================] - 1s 2ms/step - loss: 5.9753 - accuracy: 0.6515\n",
            "200/200 [==============================] - 1s 2ms/step - loss: 5.7290 - accuracy: 0.6634\n",
            "200/200 [==============================] - 1s 2ms/step - loss: 5.5567 - accuracy: 0.6869\n",
            "200/200 [==============================] - 1s 2ms/step - loss: 3.7573 - accuracy: 0.4510\n",
            "FedAvg Node is [6, 8, 3, 4, 5, 7, 0]\n",
            "313/313 [==============================] - 1s 1ms/step - loss: 2.5646 - accuracy: 0.4554\n",
            "EPOCHS 16 is starting...\n",
            "200/200 [==============================] - 1s 2ms/step - loss: 4.3354 - accuracy: 0.4852\n",
            "200/200 [==============================] - 1s 2ms/step - loss: 4.3816 - accuracy: 0.4975\n",
            "200/200 [==============================] - 1s 2ms/step - loss: 4.4075 - accuracy: 0.5116\n",
            "200/200 [==============================] - 1s 2ms/step - loss: 5.2966 - accuracy: 0.6790\n",
            "200/200 [==============================] - 1s 2ms/step - loss: 5.1285 - accuracy: 0.6921\n",
            "200/200 [==============================] - 1s 2ms/step - loss: 5.6493 - accuracy: 0.7305\n",
            "200/200 [==============================] - 1s 2ms/step - loss: 5.5206 - accuracy: 0.6435\n",
            "200/200 [==============================] - 1s 2ms/step - loss: 6.0072 - accuracy: 0.6725\n",
            "200/200 [==============================] - 1s 2ms/step - loss: 5.3779 - accuracy: 0.6897\n",
            "200/200 [==============================] - 1s 2ms/step - loss: 3.6414 - accuracy: 0.4663\n",
            "FedAvg Node is [7, 4, 3, 8, 5, 6, 2]\n",
            "313/313 [==============================] - 1s 1ms/step - loss: 2.5845 - accuracy: 0.4232\n",
            "EPOCHS 17 is starting...\n",
            "200/200 [==============================] - 1s 2ms/step - loss: 4.0406 - accuracy: 0.4879\n",
            "200/200 [==============================] - 1s 2ms/step - loss: 4.2982 - accuracy: 0.4862\n",
            "200/200 [==============================] - 1s 2ms/step - loss: 4.3178 - accuracy: 0.5145\n",
            "200/200 [==============================] - 1s 2ms/step - loss: 5.4392 - accuracy: 0.6658\n",
            "200/200 [==============================] - 1s 2ms/step - loss: 4.7094 - accuracy: 0.7053\n",
            "200/200 [==============================] - 1s 2ms/step - loss: 5.1170 - accuracy: 0.7445\n",
            "200/200 [==============================] - 1s 2ms/step - loss: 5.4656 - accuracy: 0.6477\n",
            "200/200 [==============================] - 1s 2ms/step - loss: 5.3028 - accuracy: 0.6735\n",
            "200/200 [==============================] - 1s 2ms/step - loss: 4.9686 - accuracy: 0.6920\n",
            "200/200 [==============================] - 1s 2ms/step - loss: 3.7500 - accuracy: 0.4810\n",
            "FedAvg Node is [8, 7, 3, 4, 6, 5, 2]\n",
            "313/313 [==============================] - 1s 1ms/step - loss: 2.6076 - accuracy: 0.3719\n",
            "EPOCHS 18 is starting...\n",
            "200/200 [==============================] - 1s 2ms/step - loss: 4.1712 - accuracy: 0.5057\n",
            "200/200 [==============================] - 1s 2ms/step - loss: 4.0712 - accuracy: 0.4997\n",
            "200/200 [==============================] - 1s 2ms/step - loss: 4.2907 - accuracy: 0.4887\n",
            "200/200 [==============================] - 1s 2ms/step - loss: 5.2428 - accuracy: 0.6723\n",
            "200/200 [==============================] - 1s 2ms/step - loss: 5.4252 - accuracy: 0.6904\n",
            "200/200 [==============================] - 1s 2ms/step - loss: 4.6907 - accuracy: 0.7300\n",
            "200/200 [==============================] - 1s 2ms/step - loss: 5.7880 - accuracy: 0.6422\n",
            "200/200 [==============================] - 1s 2ms/step - loss: 4.8697 - accuracy: 0.6745\n",
            "200/200 [==============================] - 1s 2ms/step - loss: 5.3146 - accuracy: 0.6839\n",
            "200/200 [==============================] - 1s 2ms/step - loss: 3.4673 - accuracy: 0.4953\n",
            "FedAvg Node is [7, 8, 3, 4, 5, 6, 2]\n",
            "313/313 [==============================] - 1s 1ms/step - loss: 2.6271 - accuracy: 0.3502\n",
            "EPOCHS 19 is starting...\n",
            "200/200 [==============================] - 1s 2ms/step - loss: 4.1402 - accuracy: 0.4960\n",
            "200/200 [==============================] - 1s 2ms/step - loss: 4.4583 - accuracy: 0.5083\n",
            "200/200 [==============================] - 1s 2ms/step - loss: 4.0113 - accuracy: 0.4989\n",
            "200/200 [==============================] - 1s 2ms/step - loss: 5.2892 - accuracy: 0.6693\n",
            "200/200 [==============================] - 1s 2ms/step - loss: 4.7489 - accuracy: 0.6909\n",
            "200/200 [==============================] - 1s 2ms/step - loss: 5.0859 - accuracy: 0.7354\n",
            "200/200 [==============================] - 1s 2ms/step - loss: 4.5969 - accuracy: 0.6586\n",
            "200/200 [==============================] - 1s 2ms/step - loss: 5.5600 - accuracy: 0.6689\n",
            "200/200 [==============================] - 1s 2ms/step - loss: 4.7502 - accuracy: 0.6891\n",
            "200/200 [==============================] - 1s 2ms/step - loss: 3.4190 - accuracy: 0.4968\n",
            "FedAvg Node is [3, 7, 4, 8, 5, 6, 1]\n",
            "313/313 [==============================] - 1s 1ms/step - loss: 2.6449 - accuracy: 0.3285\n",
            "EPOCHS 20 is starting...\n",
            "200/200 [==============================] - 1s 2ms/step - loss: 4.1071 - accuracy: 0.4908\n",
            "200/200 [==============================] - 1s 2ms/step - loss: 4.3618 - accuracy: 0.5003\n",
            "200/200 [==============================] - 1s 2ms/step - loss: 3.9270 - accuracy: 0.4985\n",
            "200/200 [==============================] - 1s 2ms/step - loss: 4.5032 - accuracy: 0.6906\n",
            "200/200 [==============================] - 1s 2ms/step - loss: 5.1322 - accuracy: 0.6891\n",
            "200/200 [==============================] - 1s 2ms/step - loss: 4.6284 - accuracy: 0.7590\n",
            "200/200 [==============================] - 1s 2ms/step - loss: 4.8711 - accuracy: 0.6502\n",
            "200/200 [==============================] - 1s 2ms/step - loss: 4.8247 - accuracy: 0.6641\n",
            "200/200 [==============================] - 1s 2ms/step - loss: 4.9084 - accuracy: 0.6942\n",
            "200/200 [==============================] - 1s 2ms/step - loss: 3.5418 - accuracy: 0.4500\n",
            "FedAvg Node is [3, 4, 8, 6, 7, 0, 5]\n",
            "313/313 [==============================] - 1s 1ms/step - loss: 2.6819 - accuracy: 0.2759\n",
            "EPOCHS 21 is starting...\n",
            "200/200 [==============================] - 1s 2ms/step - loss: 3.6740 - accuracy: 0.4815\n",
            "200/200 [==============================] - 1s 2ms/step - loss: 3.6625 - accuracy: 0.4952\n",
            "200/200 [==============================] - 1s 2ms/step - loss: 3.8756 - accuracy: 0.5118\n",
            "200/200 [==============================] - 1s 2ms/step - loss: 4.5021 - accuracy: 0.6822\n",
            "200/200 [==============================] - 1s 2ms/step - loss: 4.0239 - accuracy: 0.7042\n",
            "200/200 [==============================] - 1s 2ms/step - loss: 5.0788 - accuracy: 0.7216\n",
            "200/200 [==============================] - 1s 2ms/step - loss: 4.9701 - accuracy: 0.6488\n",
            "200/200 [==============================] - 1s 2ms/step - loss: 4.7227 - accuracy: 0.6675\n",
            "200/200 [==============================] - 1s 2ms/step - loss: 4.5668 - accuracy: 0.6940\n",
            "200/200 [==============================] - 1s 2ms/step - loss: 3.3664 - accuracy: 0.4722\n",
            "FedAvg Node is [6, 4, 7, 5, 3, 8, 1]\n",
            "313/313 [==============================] - 1s 1ms/step - loss: 2.7010 - accuracy: 0.2405\n",
            "EPOCHS 22 is starting...\n",
            "200/200 [==============================] - 1s 2ms/step - loss: 3.5890 - accuracy: 0.5048\n",
            "200/200 [==============================] - 1s 2ms/step - loss: 4.3967 - accuracy: 0.5214\n",
            "200/200 [==============================] - 1s 2ms/step - loss: 3.6958 - accuracy: 0.5041\n",
            "200/200 [==============================] - 1s 2ms/step - loss: 4.5238 - accuracy: 0.6706\n",
            "200/200 [==============================] - 1s 2ms/step - loss: 4.5408 - accuracy: 0.6910\n",
            "200/200 [==============================] - 1s 2ms/step - loss: 4.0963 - accuracy: 0.7492\n",
            "200/200 [==============================] - 1s 2ms/step - loss: 5.0769 - accuracy: 0.6435\n",
            "200/200 [==============================] - 1s 2ms/step - loss: 4.7533 - accuracy: 0.6570\n",
            "200/200 [==============================] - 1s 2ms/step - loss: 4.7501 - accuracy: 0.6937\n",
            "200/200 [==============================] - 1s 2ms/step - loss: 3.6850 - accuracy: 0.4665\n",
            "FedAvg Node is [6, 4, 8, 3, 7, 2, 5]\n",
            "313/313 [==============================] - 1s 1ms/step - loss: 2.7260 - accuracy: 0.2278\n",
            "EPOCHS 23 is starting...\n",
            "200/200 [==============================] - 1s 2ms/step - loss: 3.3135 - accuracy: 0.5092\n",
            "200/200 [==============================] - 1s 2ms/step - loss: 3.6669 - accuracy: 0.5282\n",
            "200/200 [==============================] - 1s 2ms/step - loss: 3.6850 - accuracy: 0.5040\n",
            "200/200 [==============================] - 1s 2ms/step - loss: 4.4869 - accuracy: 0.6747\n",
            "200/200 [==============================] - 1s 2ms/step - loss: 4.3761 - accuracy: 0.6985\n",
            "200/200 [==============================] - 1s 2ms/step - loss: 4.3115 - accuracy: 0.7391\n",
            "200/200 [==============================] - 1s 2ms/step - loss: 4.3955 - accuracy: 0.6638\n",
            "200/200 [==============================] - 1s 2ms/step - loss: 4.6870 - accuracy: 0.6602\n",
            "200/200 [==============================] - 1s 2ms/step - loss: 4.7741 - accuracy: 0.6873\n",
            "200/200 [==============================] - 1s 2ms/step - loss: 3.3082 - accuracy: 0.4937\n",
            "FedAvg Node is [7, 8, 3, 6, 4, 0, 1]\n",
            "313/313 [==============================] - 1s 1ms/step - loss: 2.8030 - accuracy: 0.1605\n",
            "EPOCHS 24 is starting...\n",
            "200/200 [==============================] - 1s 2ms/step - loss: 3.5060 - accuracy: 0.5017\n",
            "200/200 [==============================] - 1s 2ms/step - loss: 4.2163 - accuracy: 0.5101\n",
            "200/200 [==============================] - 1s 2ms/step - loss: 3.9899 - accuracy: 0.5144\n",
            "200/200 [==============================] - 1s 2ms/step - loss: 4.5657 - accuracy: 0.6687\n",
            "200/200 [==============================] - 1s 2ms/step - loss: 4.1806 - accuracy: 0.6925\n",
            "200/200 [==============================] - 1s 2ms/step - loss: 5.0211 - accuracy: 0.7301\n",
            "200/200 [==============================] - 1s 2ms/step - loss: 4.6731 - accuracy: 0.6638\n",
            "200/200 [==============================] - 1s 2ms/step - loss: 4.2555 - accuracy: 0.6763\n",
            "200/200 [==============================] - 1s 2ms/step - loss: 4.0973 - accuracy: 0.6930\n",
            "200/200 [==============================] - 1s 2ms/step - loss: 3.4127 - accuracy: 0.4793\n",
            "FedAvg Node is [8, 7, 3, 6, 4, 5, 2]\n",
            "313/313 [==============================] - 1s 1ms/step - loss: 2.8326 - accuracy: 0.1362\n",
            "EPOCHS 25 is starting...\n",
            "200/200 [==============================] - 1s 2ms/step - loss: 3.6659 - accuracy: 0.5206\n",
            "200/200 [==============================] - 1s 2ms/step - loss: 4.0149 - accuracy: 0.5130\n",
            "200/200 [==============================] - 1s 2ms/step - loss: 3.6506 - accuracy: 0.5139\n",
            "200/200 [==============================] - 1s 2ms/step - loss: 4.2186 - accuracy: 0.6826\n",
            "200/200 [==============================] - 1s 2ms/step - loss: 4.1148 - accuracy: 0.6936\n",
            "200/200 [==============================] - 1s 2ms/step - loss: 4.2858 - accuracy: 0.7456\n",
            "200/200 [==============================] - 1s 2ms/step - loss: 4.3076 - accuracy: 0.6449\n",
            "200/200 [==============================] - 1s 2ms/step - loss: 4.3410 - accuracy: 0.6706\n",
            "200/200 [==============================] - 1s 2ms/step - loss: 4.8379 - accuracy: 0.6847\n",
            "200/200 [==============================] - 1s 2ms/step - loss: 3.3519 - accuracy: 0.4673\n",
            "FedAvg Node is [3, 8, 7, 4, 5, 6, 0]\n",
            "313/313 [==============================] - 1s 1ms/step - loss: 2.8576 - accuracy: 0.1213\n",
            "EPOCHS 26 is starting...\n",
            "200/200 [==============================] - 1s 2ms/step - loss: 3.5214 - accuracy: 0.4958\n",
            "200/200 [==============================] - 1s 2ms/step - loss: 3.8453 - accuracy: 0.5178\n",
            "200/200 [==============================] - 1s 2ms/step - loss: 3.7000 - accuracy: 0.5037\n",
            "200/200 [==============================] - 1s 2ms/step - loss: 4.0005 - accuracy: 0.6792\n",
            "200/200 [==============================] - 1s 2ms/step - loss: 4.2776 - accuracy: 0.6907\n",
            "200/200 [==============================] - 1s 2ms/step - loss: 4.7154 - accuracy: 0.7246\n",
            "200/200 [==============================] - 1s 2ms/step - loss: 4.3130 - accuracy: 0.6422\n",
            "200/200 [==============================] - 1s 2ms/step - loss: 4.6517 - accuracy: 0.6627\n",
            "200/200 [==============================] - 1s 2ms/step - loss: 4.4950 - accuracy: 0.6953\n",
            "200/200 [==============================] - 1s 2ms/step - loss: 3.4192 - accuracy: 0.4696\n",
            "FedAvg Node is [8, 7, 4, 3, 5, 6, 2]\n",
            "313/313 [==============================] - 1s 1ms/step - loss: 2.8765 - accuracy: 0.1087\n",
            "EPOCHS 27 is starting...\n",
            "200/200 [==============================] - 1s 2ms/step - loss: 3.5199 - accuracy: 0.5086\n",
            "200/200 [==============================] - 1s 2ms/step - loss: 3.8368 - accuracy: 0.5012\n",
            "200/200 [==============================] - 1s 2ms/step - loss: 3.6463 - accuracy: 0.5143\n",
            "200/200 [==============================] - 1s 2ms/step - loss: 4.2812 - accuracy: 0.6808\n",
            "200/200 [==============================] - 1s 2ms/step - loss: 4.6822 - accuracy: 0.6737\n",
            "200/200 [==============================] - 1s 2ms/step - loss: 5.0711 - accuracy: 0.7252\n",
            "200/200 [==============================] - 1s 2ms/step - loss: 5.1092 - accuracy: 0.6223\n",
            "200/200 [==============================] - 1s 2ms/step - loss: 4.1704 - accuracy: 0.6680\n",
            "200/200 [==============================] - 1s 2ms/step - loss: 4.6164 - accuracy: 0.6793\n",
            "200/200 [==============================] - 1s 2ms/step - loss: 3.2275 - accuracy: 0.5147\n",
            "FedAvg Node is [3, 4, 6, 8, 7, 5, 0]\n",
            "313/313 [==============================] - 1s 1ms/step - loss: 2.8732 - accuracy: 0.1024\n",
            "EPOCHS 28 is starting...\n",
            "200/200 [==============================] - 1s 2ms/step - loss: 3.6464 - accuracy: 0.4966\n",
            "200/200 [==============================] - 1s 2ms/step - loss: 4.1254 - accuracy: 0.5358\n",
            "200/200 [==============================] - 1s 2ms/step - loss: 3.6323 - accuracy: 0.5213\n",
            "200/200 [==============================] - 1s 2ms/step - loss: 4.2608 - accuracy: 0.6583\n",
            "200/200 [==============================] - 1s 2ms/step - loss: 4.6673 - accuracy: 0.6824\n",
            "200/200 [==============================] - 1s 2ms/step - loss: 3.8527 - accuracy: 0.7446\n",
            "200/200 [==============================] - 1s 2ms/step - loss: 4.1827 - accuracy: 0.6496\n",
            "200/200 [==============================] - 1s 2ms/step - loss: 4.1363 - accuracy: 0.6651\n",
            "200/200 [==============================] - 1s 2ms/step - loss: 4.2545 - accuracy: 0.6857\n",
            "200/200 [==============================] - 1s 2ms/step - loss: 3.1965 - accuracy: 0.4961\n",
            "FedAvg Node is [3, 8, 7, 1, 4, 6, 0]\n",
            "313/313 [==============================] - 1s 1ms/step - loss: 2.9376 - accuracy: 0.0795\n",
            "EPOCHS 29 is starting...\n",
            "200/200 [==============================] - 1s 2ms/step - loss: 3.9040 - accuracy: 0.5010\n",
            "200/200 [==============================] - 1s 2ms/step - loss: 3.6899 - accuracy: 0.5225\n",
            "200/200 [==============================] - 1s 2ms/step - loss: 3.6924 - accuracy: 0.5192\n",
            "200/200 [==============================] - 1s 2ms/step - loss: 4.3658 - accuracy: 0.6646\n",
            "200/200 [==============================] - 1s 2ms/step - loss: 4.2860 - accuracy: 0.6864\n",
            "200/200 [==============================] - 1s 2ms/step - loss: 4.4063 - accuracy: 0.7230\n",
            "200/200 [==============================] - 1s 2ms/step - loss: 4.3785 - accuracy: 0.6617\n",
            "200/200 [==============================] - 1s 2ms/step - loss: 4.7327 - accuracy: 0.6550\n",
            "200/200 [==============================] - 1s 2ms/step - loss: 4.2891 - accuracy: 0.6943\n",
            "200/200 [==============================] - 1s 2ms/step - loss: 3.2057 - accuracy: 0.4933\n",
            "FedAvg Node is [4, 7, 3, 6, 8, 5, 1]\n",
            "313/313 [==============================] - 1s 1ms/step - loss: 2.9467 - accuracy: 0.0767\n"
          ],
          "name": "stdout"
        }
      ]
    },
    {
      "cell_type": "markdown",
      "metadata": {
        "id": "i2axuRBsO6V7"
      },
      "source": [
        "设置对照组，即普通的FedAvg"
      ]
    },
    {
      "cell_type": "code",
      "metadata": {
        "id": "wwI_gLjwO5w4"
      },
      "source": [
        "def FedAvg_Baseline(NUM_CLIENTS,model):\n",
        "  iterModel = model.copy()\n",
        "  len_it = len(iterModel.trainable_variables)\n",
        "  all_weights = []\n",
        "  for weights_index in range(len_it):\n",
        "    tmp =np.zeros(iterModel.trainable_variables[weights_index].numpy().shape,dtype='float64')\n",
        "    for node in range(NUM_CLIENTS):\n",
        "      tmp += clients[node].model.trainable_variables[weights_index].numpy()\n",
        "    all_weights.append(tmp/NUM_CLIENTS)\n",
        "  # print(all_weights)\n",
        "  iterModel_vars = iterModel.trainable_variables\n",
        "  for iter_v,n in zip(iterModel_vars,all_weights):\n",
        "    iter_v.assign(n)\n",
        "  return iterModel"
      ],
      "execution_count": 86,
      "outputs": []
    },
    {
      "cell_type": "code",
      "metadata": {
        "colab": {
          "base_uri": "https://localhost:8080/"
        },
        "id": "X5o0nVueO0m7",
        "outputId": "86ecbb6a-beb2-4e95-ea6c-5844dff982ea"
      },
      "source": [
        "InitModel = FLModel(row=28,col=28,num_classes=62)\n",
        "S = ParamServer(\"\")\n",
        "S.PreEval(InitModel,x_test,y_test)"
      ],
      "execution_count": 87,
      "outputs": [
        {
          "output_type": "stream",
          "text": [
            "313/313 [==============================] - 1s 1ms/step - loss: 4.3111 - accuracy: 1.6086e-04\n"
          ],
          "name": "stdout"
        }
      ]
    },
    {
      "cell_type": "code",
      "metadata": {
        "colab": {
          "base_uri": "https://localhost:8080/"
        },
        "id": "KW2JdgUEP0C5",
        "outputId": "1810862c-d022-4b0b-c7b5-b8291a10163b"
      },
      "source": [
        "SendModel = S.PreTrain(InitModel,x_train[0:1000],y_train[0:1000],epochs=1)\n",
        "S.PreEval(SendModel,x_test,y_test)"
      ],
      "execution_count": 88,
      "outputs": [
        {
          "output_type": "stream",
          "text": [
            "32/32 [==============================] - 0s 2ms/step - loss: 3.2752 - accuracy: 0.2235\n",
            "313/313 [==============================] - 1s 1ms/step - loss: 1.3245 - accuracy: 0.6933\n"
          ],
          "name": "stdout"
        }
      ]
    },
    {
      "cell_type": "code",
      "metadata": {
        "id": "Bwd2uL1FUpeH"
      },
      "source": [
        "NUM_EPOCHS = 15"
      ],
      "execution_count": null,
      "outputs": []
    },
    {
      "cell_type": "code",
      "metadata": {
        "colab": {
          "base_uri": "https://localhost:8080/"
        },
        "id": "dejoUrZlPz5l",
        "outputId": "b37662ee-a2e6-4e40-b2d7-40a3c28258a2"
      },
      "source": [
        "for e in range(NUM_EPOCHS):\n",
        "  print(\"EPOCHS {} is starting...\".format(e))\n",
        "  for i in range(NUM_CLIENTS):\n",
        "    clients[i].ReceiveModel(SendModel.copy())\n",
        "    clients[i].NodeTrain()\n",
        "    # clients[i].NodeEval()\n",
        "    # DIS.append(Distance(SendModel,clients[i].model))\n",
        "  FedModel = FedAvg_Baseline(NUM_CLIENTS,SendModel)\n",
        "  S.PreEval(FedModel,x_test,y_test)\n",
        "  SendModel = FedModel.copy()"
      ],
      "execution_count": 89,
      "outputs": [
        {
          "output_type": "stream",
          "text": [
            "EPOCHS 0 is starting...\n",
            "200/200 [==============================] - 1s 2ms/step - loss: 28.1243 - accuracy: 0.5670\n",
            "200/200 [==============================] - 1s 2ms/step - loss: 17.6417 - accuracy: 0.1750\n",
            "200/200 [==============================] - 1s 2ms/step - loss: 21.1630 - accuracy: 0.2328\n",
            "200/200 [==============================] - 1s 2ms/step - loss: 16.8457 - accuracy: 0.1800\n",
            "200/200 [==============================] - 1s 2ms/step - loss: 8.2823 - accuracy: 0.0897\n",
            "200/200 [==============================] - 1s 2ms/step - loss: 9.8764 - accuracy: 0.1255\n",
            "200/200 [==============================] - 1s 2ms/step - loss: 28.3314 - accuracy: 0.5030\n",
            "200/200 [==============================] - 1s 2ms/step - loss: 36.5221 - accuracy: 0.6796\n",
            "200/200 [==============================] - 1s 2ms/step - loss: 30.9199 - accuracy: 0.4377\n",
            "200/200 [==============================] - 1s 2ms/step - loss: 34.3413 - accuracy: 0.6129\n",
            "313/313 [==============================] - 1s 1ms/step - loss: 2.4843 - accuracy: 0.8712\n",
            "EPOCHS 1 is starting...\n",
            "200/200 [==============================] - 1s 2ms/step - loss: 8.5701 - accuracy: 0.6611\n",
            "200/200 [==============================] - 1s 2ms/step - loss: 6.0243 - accuracy: 0.3411\n",
            "200/200 [==============================] - 1s 2ms/step - loss: 6.6344 - accuracy: 0.3963\n",
            "200/200 [==============================] - 1s 2ms/step - loss: 6.3983 - accuracy: 0.3298\n",
            "200/200 [==============================] - 1s 2ms/step - loss: 4.5935 - accuracy: 0.2713\n",
            "200/200 [==============================] - 1s 2ms/step - loss: 5.0184 - accuracy: 0.2995\n",
            "200/200 [==============================] - 1s 2ms/step - loss: 7.6038 - accuracy: 0.6176\n",
            "200/200 [==============================] - 1s 2ms/step - loss: 8.2524 - accuracy: 0.7618\n",
            "200/200 [==============================] - 1s 2ms/step - loss: 7.8252 - accuracy: 0.5535\n",
            "200/200 [==============================] - 1s 2ms/step - loss: 8.2552 - accuracy: 0.7062\n",
            "313/313 [==============================] - 1s 1ms/step - loss: 3.1001 - accuracy: 0.6940\n",
            "EPOCHS 2 is starting...\n",
            "200/200 [==============================] - 1s 2ms/step - loss: 4.6749 - accuracy: 0.7021\n",
            "200/200 [==============================] - 1s 2ms/step - loss: 4.4938 - accuracy: 0.4742\n",
            "200/200 [==============================] - 1s 2ms/step - loss: 4.6736 - accuracy: 0.5087\n",
            "200/200 [==============================] - 1s 2ms/step - loss: 4.7850 - accuracy: 0.4631\n",
            "200/200 [==============================] - 1s 2ms/step - loss: 3.6009 - accuracy: 0.4124\n",
            "200/200 [==============================] - 1s 2ms/step - loss: 3.9315 - accuracy: 0.4328\n",
            "200/200 [==============================] - 1s 2ms/step - loss: 5.0567 - accuracy: 0.6754\n",
            "200/200 [==============================] - 1s 2ms/step - loss: 4.6504 - accuracy: 0.7777\n",
            "200/200 [==============================] - 1s 2ms/step - loss: 5.0276 - accuracy: 0.6205\n",
            "200/200 [==============================] - 1s 2ms/step - loss: 4.3846 - accuracy: 0.7456\n",
            "313/313 [==============================] - 1s 1ms/step - loss: 3.2106 - accuracy: 0.3641\n",
            "EPOCHS 3 is starting...\n",
            "200/200 [==============================] - 1s 2ms/step - loss: 4.0015 - accuracy: 0.7531\n",
            "200/200 [==============================] - 1s 2ms/step - loss: 3.9386 - accuracy: 0.5418\n",
            "200/200 [==============================] - 1s 2ms/step - loss: 3.9963 - accuracy: 0.5689\n",
            "200/200 [==============================] - 1s 2ms/step - loss: 4.0534 - accuracy: 0.5374\n",
            "200/200 [==============================] - 1s 2ms/step - loss: 3.1599 - accuracy: 0.4783\n",
            "200/200 [==============================] - 1s 2ms/step - loss: 3.3989 - accuracy: 0.4879\n",
            "200/200 [==============================] - 1s 2ms/step - loss: 4.1298 - accuracy: 0.7351\n",
            "200/200 [==============================] - 1s 2ms/step - loss: 3.1951 - accuracy: 0.8138\n",
            "200/200 [==============================] - 1s 2ms/step - loss: 3.8814 - accuracy: 0.6881\n",
            "200/200 [==============================] - 1s 2ms/step - loss: 3.6387 - accuracy: 0.7681\n",
            "313/313 [==============================] - 1s 1ms/step - loss: 3.1273 - accuracy: 0.2698\n",
            "EPOCHS 4 is starting...\n",
            "200/200 [==============================] - 1s 2ms/step - loss: 3.5613 - accuracy: 0.7691\n",
            "200/200 [==============================] - 1s 2ms/step - loss: 3.4305 - accuracy: 0.5999\n",
            "200/200 [==============================] - 1s 2ms/step - loss: 3.3048 - accuracy: 0.6220\n",
            "200/200 [==============================] - 1s 2ms/step - loss: 3.9641 - accuracy: 0.5902\n",
            "200/200 [==============================] - 1s 2ms/step - loss: 2.5914 - accuracy: 0.5400\n",
            "200/200 [==============================] - 1s 2ms/step - loss: 2.7441 - accuracy: 0.5440\n",
            "200/200 [==============================] - 1s 2ms/step - loss: 3.9901 - accuracy: 0.7444\n",
            "200/200 [==============================] - 1s 2ms/step - loss: 3.1975 - accuracy: 0.8333\n",
            "200/200 [==============================] - 1s 2ms/step - loss: 3.5688 - accuracy: 0.7103\n",
            "200/200 [==============================] - 1s 2ms/step - loss: 3.5007 - accuracy: 0.7859\n",
            "313/313 [==============================] - 1s 1ms/step - loss: 2.9927 - accuracy: 0.2943\n",
            "EPOCHS 5 is starting...\n",
            "200/200 [==============================] - 1s 2ms/step - loss: 3.3691 - accuracy: 0.7867\n",
            "200/200 [==============================] - 1s 2ms/step - loss: 2.9742 - accuracy: 0.6318\n",
            "200/200 [==============================] - 1s 2ms/step - loss: 3.0949 - accuracy: 0.6373\n",
            "200/200 [==============================] - 1s 2ms/step - loss: 3.3617 - accuracy: 0.6191\n",
            "200/200 [==============================] - 1s 2ms/step - loss: 2.2854 - accuracy: 0.5723\n",
            "200/200 [==============================] - 1s 2ms/step - loss: 2.6219 - accuracy: 0.5825\n",
            "200/200 [==============================] - 1s 2ms/step - loss: 3.8190 - accuracy: 0.7643\n",
            "200/200 [==============================] - 1s 2ms/step - loss: 2.9695 - accuracy: 0.8295\n",
            "200/200 [==============================] - 1s 2ms/step - loss: 3.8003 - accuracy: 0.7390\n",
            "200/200 [==============================] - 1s 2ms/step - loss: 3.5230 - accuracy: 0.8026\n",
            "313/313 [==============================] - 1s 1ms/step - loss: 2.8850 - accuracy: 0.2989\n",
            "EPOCHS 6 is starting...\n",
            "200/200 [==============================] - 1s 2ms/step - loss: 3.3676 - accuracy: 0.7859\n",
            "200/200 [==============================] - 1s 2ms/step - loss: 2.8529 - accuracy: 0.6425\n",
            "200/200 [==============================] - 1s 2ms/step - loss: 3.3370 - accuracy: 0.6680\n",
            "200/200 [==============================] - 1s 2ms/step - loss: 2.9319 - accuracy: 0.6526\n",
            "200/200 [==============================] - 1s 2ms/step - loss: 2.4161 - accuracy: 0.5966\n",
            "200/200 [==============================] - 1s 2ms/step - loss: 2.3958 - accuracy: 0.5886\n",
            "200/200 [==============================] - 1s 2ms/step - loss: 3.4430 - accuracy: 0.7828\n",
            "200/200 [==============================] - 1s 2ms/step - loss: 2.8260 - accuracy: 0.8463\n",
            "200/200 [==============================] - 1s 2ms/step - loss: 3.2138 - accuracy: 0.7531\n",
            "200/200 [==============================] - 1s 2ms/step - loss: 2.9464 - accuracy: 0.8234\n",
            "313/313 [==============================] - 1s 1ms/step - loss: 2.8622 - accuracy: 0.2622\n",
            "EPOCHS 7 is starting...\n",
            "200/200 [==============================] - 1s 2ms/step - loss: 3.1639 - accuracy: 0.8028\n",
            "200/200 [==============================] - 1s 2ms/step - loss: 2.7077 - accuracy: 0.6510\n",
            "200/200 [==============================] - 1s 2ms/step - loss: 2.8162 - accuracy: 0.6902\n",
            "200/200 [==============================] - 1s 2ms/step - loss: 2.8126 - accuracy: 0.6759\n",
            "200/200 [==============================] - 1s 2ms/step - loss: 2.0424 - accuracy: 0.6212\n",
            "200/200 [==============================] - 1s 2ms/step - loss: 2.1024 - accuracy: 0.6355\n",
            "200/200 [==============================] - 1s 2ms/step - loss: 3.3102 - accuracy: 0.7793\n",
            "200/200 [==============================] - 1s 2ms/step - loss: 3.1159 - accuracy: 0.8517\n",
            "200/200 [==============================] - 1s 2ms/step - loss: 3.3163 - accuracy: 0.7559\n",
            "200/200 [==============================] - 1s 2ms/step - loss: 3.0823 - accuracy: 0.8270\n",
            "313/313 [==============================] - 1s 1ms/step - loss: 2.8157 - accuracy: 0.2829\n",
            "EPOCHS 8 is starting...\n",
            "200/200 [==============================] - 1s 2ms/step - loss: 2.8675 - accuracy: 0.8148\n",
            "200/200 [==============================] - 1s 2ms/step - loss: 2.5687 - accuracy: 0.6715\n",
            "200/200 [==============================] - 1s 2ms/step - loss: 2.6494 - accuracy: 0.6912\n",
            "200/200 [==============================] - 1s 2ms/step - loss: 3.1112 - accuracy: 0.6840\n",
            "200/200 [==============================] - 1s 2ms/step - loss: 2.0142 - accuracy: 0.6309\n",
            "200/200 [==============================] - 1s 2ms/step - loss: 2.2739 - accuracy: 0.6407\n",
            "200/200 [==============================] - 1s 2ms/step - loss: 3.1804 - accuracy: 0.8003\n",
            "200/200 [==============================] - 1s 2ms/step - loss: 2.9793 - accuracy: 0.8636\n",
            "200/200 [==============================] - 1s 2ms/step - loss: 3.1476 - accuracy: 0.7779\n",
            "200/200 [==============================] - 1s 2ms/step - loss: 2.8671 - accuracy: 0.8290\n",
            "313/313 [==============================] - 1s 1ms/step - loss: 2.7860 - accuracy: 0.2829\n",
            "EPOCHS 9 is starting...\n",
            "200/200 [==============================] - 1s 2ms/step - loss: 2.8138 - accuracy: 0.8182\n",
            "200/200 [==============================] - 1s 2ms/step - loss: 2.3696 - accuracy: 0.6926\n",
            "200/200 [==============================] - 1s 2ms/step - loss: 2.8624 - accuracy: 0.7171\n",
            "200/200 [==============================] - 1s 2ms/step - loss: 3.0926 - accuracy: 0.6893\n",
            "200/200 [==============================] - 1s 2ms/step - loss: 2.0834 - accuracy: 0.6546\n",
            "200/200 [==============================] - 1s 2ms/step - loss: 2.0658 - accuracy: 0.6536\n",
            "200/200 [==============================] - 1s 2ms/step - loss: 3.2597 - accuracy: 0.8018\n",
            "200/200 [==============================] - 1s 2ms/step - loss: 3.0801 - accuracy: 0.8616\n",
            "200/200 [==============================] - 1s 2ms/step - loss: 2.8873 - accuracy: 0.7814\n",
            "200/200 [==============================] - 1s 2ms/step - loss: 2.9605 - accuracy: 0.8387\n",
            "313/313 [==============================] - 1s 1ms/step - loss: 2.7757 - accuracy: 0.2770\n",
            "EPOCHS 10 is starting...\n",
            "200/200 [==============================] - 1s 2ms/step - loss: 2.7280 - accuracy: 0.8233\n",
            "200/200 [==============================] - 1s 2ms/step - loss: 2.4019 - accuracy: 0.7050\n",
            "200/200 [==============================] - 1s 2ms/step - loss: 2.7889 - accuracy: 0.7262\n",
            "200/200 [==============================] - 1s 2ms/step - loss: 2.6082 - accuracy: 0.7070\n",
            "200/200 [==============================] - 1s 2ms/step - loss: 1.8810 - accuracy: 0.6689\n",
            "200/200 [==============================] - 1s 2ms/step - loss: 2.1214 - accuracy: 0.6747\n",
            "200/200 [==============================] - 1s 2ms/step - loss: 2.9791 - accuracy: 0.8006\n",
            "200/200 [==============================] - 1s 2ms/step - loss: 3.2734 - accuracy: 0.8457\n",
            "200/200 [==============================] - 1s 2ms/step - loss: 3.0279 - accuracy: 0.7844\n",
            "200/200 [==============================] - 1s 2ms/step - loss: 3.2890 - accuracy: 0.8316\n",
            "313/313 [==============================] - 1s 1ms/step - loss: 2.8121 - accuracy: 0.2321\n",
            "EPOCHS 11 is starting...\n",
            "200/200 [==============================] - 1s 2ms/step - loss: 3.2454 - accuracy: 0.8247\n",
            "200/200 [==============================] - 1s 2ms/step - loss: 2.4075 - accuracy: 0.7003\n",
            "200/200 [==============================] - 1s 2ms/step - loss: 2.6851 - accuracy: 0.7284\n",
            "200/200 [==============================] - 1s 2ms/step - loss: 2.4681 - accuracy: 0.7185\n",
            "200/200 [==============================] - 1s 2ms/step - loss: 1.7096 - accuracy: 0.6826\n",
            "200/200 [==============================] - 1s 2ms/step - loss: 1.9384 - accuracy: 0.6832\n",
            "200/200 [==============================] - 1s 2ms/step - loss: 2.8460 - accuracy: 0.8104\n",
            "200/200 [==============================] - 1s 2ms/step - loss: 2.8136 - accuracy: 0.8618\n",
            "200/200 [==============================] - 1s 2ms/step - loss: 2.9705 - accuracy: 0.7888\n",
            "200/200 [==============================] - 1s 2ms/step - loss: 2.7039 - accuracy: 0.8405\n",
            "313/313 [==============================] - 1s 1ms/step - loss: 2.7846 - accuracy: 0.2481\n",
            "EPOCHS 12 is starting...\n",
            "200/200 [==============================] - 1s 2ms/step - loss: 2.7609 - accuracy: 0.8358\n",
            "200/200 [==============================] - 1s 2ms/step - loss: 2.4707 - accuracy: 0.7228\n",
            "200/200 [==============================] - 1s 2ms/step - loss: 2.7672 - accuracy: 0.7350\n",
            "200/200 [==============================] - 1s 2ms/step - loss: 2.3296 - accuracy: 0.7206\n",
            "200/200 [==============================] - 1s 2ms/step - loss: 1.4991 - accuracy: 0.6940\n",
            "200/200 [==============================] - 1s 2ms/step - loss: 2.0760 - accuracy: 0.6899\n",
            "200/200 [==============================] - 1s 2ms/step - loss: 2.6992 - accuracy: 0.8189\n",
            "200/200 [==============================] - 1s 2ms/step - loss: 3.0588 - accuracy: 0.8702\n",
            "200/200 [==============================] - 1s 2ms/step - loss: 3.2590 - accuracy: 0.7971\n",
            "200/200 [==============================] - 1s 2ms/step - loss: 3.1382 - accuracy: 0.8417\n",
            "313/313 [==============================] - 1s 1ms/step - loss: 2.8269 - accuracy: 0.2524\n",
            "EPOCHS 13 is starting...\n",
            "200/200 [==============================] - 1s 2ms/step - loss: 2.8610 - accuracy: 0.8366\n",
            "200/200 [==============================] - 1s 2ms/step - loss: 2.4434 - accuracy: 0.7306\n",
            "200/200 [==============================] - 1s 2ms/step - loss: 2.5059 - accuracy: 0.7386\n",
            "200/200 [==============================] - 1s 2ms/step - loss: 2.4346 - accuracy: 0.7275\n",
            "200/200 [==============================] - 1s 2ms/step - loss: 1.3862 - accuracy: 0.6964\n",
            "200/200 [==============================] - 1s 2ms/step - loss: 1.7535 - accuracy: 0.7000\n",
            "200/200 [==============================] - 1s 2ms/step - loss: 3.1057 - accuracy: 0.8293\n",
            "200/200 [==============================] - 1s 2ms/step - loss: 3.0332 - accuracy: 0.8818\n",
            "200/200 [==============================] - 1s 2ms/step - loss: 3.0958 - accuracy: 0.8056\n",
            "200/200 [==============================] - 1s 2ms/step - loss: 2.6498 - accuracy: 0.8419\n",
            "313/313 [==============================] - 1s 1ms/step - loss: 2.8866 - accuracy: 0.2312\n",
            "EPOCHS 14 is starting...\n",
            "200/200 [==============================] - 1s 2ms/step - loss: 3.3017 - accuracy: 0.8344\n",
            "200/200 [==============================] - 1s 2ms/step - loss: 2.2500 - accuracy: 0.7335\n",
            "200/200 [==============================] - 1s 2ms/step - loss: 2.5704 - accuracy: 0.7460\n",
            "200/200 [==============================] - 1s 2ms/step - loss: 2.3887 - accuracy: 0.7361\n",
            "200/200 [==============================] - 1s 2ms/step - loss: 1.4284 - accuracy: 0.7076\n",
            "200/200 [==============================] - 1s 2ms/step - loss: 1.6596 - accuracy: 0.7165\n",
            "200/200 [==============================] - 1s 2ms/step - loss: 2.9388 - accuracy: 0.8190\n",
            "200/200 [==============================] - 1s 2ms/step - loss: 2.6678 - accuracy: 0.8799\n",
            "200/200 [==============================] - 1s 2ms/step - loss: 3.2519 - accuracy: 0.8031\n",
            "200/200 [==============================] - 1s 2ms/step - loss: 2.8626 - accuracy: 0.8621\n",
            "313/313 [==============================] - 1s 1ms/step - loss: 2.8872 - accuracy: 0.2348\n"
          ],
          "name": "stdout"
        }
      ]
    },
    {
      "cell_type": "code",
      "metadata": {
        "id": "NbpXvIuEPzwX"
      },
      "source": [
        ""
      ],
      "execution_count": null,
      "outputs": []
    },
    {
      "cell_type": "code",
      "metadata": {
        "id": "KtBMBFo7Pzg2"
      },
      "source": [
        ""
      ],
      "execution_count": null,
      "outputs": []
    },
    {
      "cell_type": "markdown",
      "metadata": {
        "id": "7Wefk859SVCz"
      },
      "source": [
        "## 节点训练\n",
        "OK！fine,我这两天就是为了实现一个循环。。。\n",
        "真他娘的丢人"
      ]
    },
    {
      "cell_type": "code",
      "metadata": {
        "id": "BqZPIlu6QQjN"
      },
      "source": [
        "for i in range(NUM_CLIENTS):\n",
        "  clients[i].ReceiveModel(a.copy())\n",
        "  clients[i].NodeTrain()"
      ],
      "execution_count": null,
      "outputs": []
    },
    {
      "cell_type": "code",
      "metadata": {
        "colab": {
          "base_uri": "https://localhost:8080/"
        },
        "id": "WoYtJOhkROaV",
        "outputId": "f22e3092-0849-4303-e944-f590c62aa997"
      },
      "source": [
        "for i in range(NUM_CLIENTS):\n",
        "  print(\"Node {} is evaluating...\".format(i))\n",
        "  clients[i].NodeEval()\n",
        "  ##虽然这个步骤没啥用"
      ],
      "execution_count": null,
      "outputs": [
        {
          "output_type": "stream",
          "text": [
            "Node 0 is evaluating...\n",
            "313/313 [==============================] - 0s 1ms/step - loss: 0.3676 - accuracy: 0.9269\n",
            "Node 1 is evaluating...\n",
            "313/313 [==============================] - 0s 1ms/step - loss: 0.3695 - accuracy: 0.9273\n",
            "Node 2 is evaluating...\n",
            "313/313 [==============================] - 0s 1ms/step - loss: 0.5132 - accuracy: 0.9271\n",
            "Node 3 is evaluating...\n",
            "313/313 [==============================] - 0s 1ms/step - loss: 0.3902 - accuracy: 0.9242\n",
            "Node 4 is evaluating...\n",
            "313/313 [==============================] - 0s 1ms/step - loss: 0.4435 - accuracy: 0.9231\n",
            "Node 5 is evaluating...\n",
            "313/313 [==============================] - 1s 1ms/step - loss: 0.3814 - accuracy: 0.9300\n",
            "Node 6 is evaluating...\n",
            "313/313 [==============================] - 0s 1ms/step - loss: 0.3722 - accuracy: 0.9262\n",
            "Node 7 is evaluating...\n",
            "313/313 [==============================] - 0s 1ms/step - loss: 0.3679 - accuracy: 0.9250\n",
            "Node 8 is evaluating...\n",
            "313/313 [==============================] - 0s 1ms/step - loss: 0.4051 - accuracy: 0.9242\n",
            "Node 9 is evaluating...\n",
            "313/313 [==============================] - 0s 1ms/step - loss: 0.3989 - accuracy: 0.9185\n"
          ],
          "name": "stdout"
        }
      ]
    },
    {
      "cell_type": "code",
      "metadata": {
        "id": "PXF-zOUIZGDO"
      },
      "source": [
        "def DiffModel(model1,model2,layer_name,w_vs_b=0):\n",
        "  l1 = model1.get_layer(layer_name).get_weights()[w_vs_b].reshape([-1,])\n",
        "  l2 = model2.get_layer(layer_name).get_weights()[w_vs_b].reshape([-1,])\n",
        "  # l1 = model1.trainable_variables\n",
        "  # l2 = model2.trainable_variables\n",
        "  # print(l1)\n",
        "  l1.shape\n",
        "  # l1 = l1.reshape([-1,])\n",
        "  # l2 = l2.reshape([-1,])\n",
        "  for i in range(len(l1)):\n",
        "    if l1[i]!=l2[i]:\n",
        "      print(\"NOT SAME MODEL\")\n",
        "      return"
      ],
      "execution_count": null,
      "outputs": []
    },
    {
      "cell_type": "code",
      "metadata": {
        "colab": {
          "base_uri": "https://localhost:8080/"
        },
        "id": "WYehgejDZJZw",
        "outputId": "f8c651dd-b7b4-41a7-f3ca-67afd9d626cd"
      },
      "source": [
        "DiffModel(clients[0].model,clients[1].model,'dense_1')"
      ],
      "execution_count": null,
      "outputs": [
        {
          "output_type": "stream",
          "text": [
            "NOT SAME MODEL\n"
          ],
          "name": "stdout"
        }
      ]
    },
    {
      "cell_type": "markdown",
      "metadata": {
        "id": "rpREw9q5Se9f"
      },
      "source": [
        "## 模型聚合 FedAvg\n",
        "THIS IS THE MOST IMPORANT！"
      ]
    },
    {
      "cell_type": "code",
      "metadata": {
        "id": "2RRqKgiqSRFF"
      },
      "source": [
        "##先实现普通聚合，再考虑距离问题"
      ],
      "execution_count": null,
      "outputs": []
    },
    {
      "cell_type": "code",
      "metadata": {
        "colab": {
          "base_uri": "https://localhost:8080/"
        },
        "id": "bIOKI885TN31",
        "outputId": "75a8957a-2d67-49f9-d0a1-d340a623ce3f"
      },
      "source": [
        "# clients[0].Train_dataset[0].shape"
      ],
      "execution_count": null,
      "outputs": [
        {
          "output_type": "execute_result",
          "data": {
            "text/plain": [
              "(60000, 28, 28)"
            ]
          },
          "metadata": {
            "tags": []
          },
          "execution_count": 182
        }
      ]
    },
    {
      "cell_type": "code",
      "metadata": {
        "colab": {
          "base_uri": "https://localhost:8080/"
        },
        "id": "P9fgFEGKT41m",
        "outputId": "e4c6fb02-b699-4c76-a013-0163740fe1e8"
      },
      "source": [
        "# a_1 = a.trainable_variables\n",
        "# b_1 = clients[0].model.trainable_variables\n",
        "# for _a,_b in zip(a_1,b_1):\n",
        "#   # print(_a,_b,'\\n')\n",
        "#   print(type(_a))"
      ],
      "execution_count": null,
      "outputs": [
        {
          "output_type": "stream",
          "text": [
            "<class 'tensorflow.python.eager.def_function.UnliftedInitializerVariable'>\n",
            "<class 'tensorflow.python.eager.def_function.UnliftedInitializerVariable'>\n",
            "<class 'tensorflow.python.eager.def_function.UnliftedInitializerVariable'>\n",
            "<class 'tensorflow.python.eager.def_function.UnliftedInitializerVariable'>\n"
          ],
          "name": "stdout"
        }
      ]
    },
    {
      "cell_type": "code",
      "metadata": {
        "id": "UJUbvaVsZP4P"
      },
      "source": [
        "# tmp = a_1[0]\n",
        "# tmp2 = b_1[0]"
      ],
      "execution_count": null,
      "outputs": []
    },
    {
      "cell_type": "code",
      "metadata": {
        "colab": {
          "base_uri": "https://localhost:8080/"
        },
        "id": "HYDG5UaqZP1s",
        "outputId": "f27ff669-b776-488d-f1a6-85d06edbf27e"
      },
      "source": [
        "# print(tmp.name)\n",
        "# print(tmp2.name)"
      ],
      "execution_count": null,
      "outputs": [
        {
          "output_type": "stream",
          "text": [
            "fl_model_57/dense_1/kernel:0\n",
            "fl_model_60/dense_1/kernel:0\n"
          ],
          "name": "stdout"
        }
      ]
    },
    {
      "cell_type": "code",
      "metadata": {
        "colab": {
          "base_uri": "https://localhost:8080/"
        },
        "id": "1MCj2AqXZPzY",
        "outputId": "0102b751-5f6c-4f17-d7fb-361d68ba5c3c"
      },
      "source": [
        "# tmp.numpy()"
      ],
      "execution_count": null,
      "outputs": [
        {
          "output_type": "execute_result",
          "data": {
            "text/plain": [
              "array([[-0.07970653,  0.07991762,  0.05910995, ...,  0.0579403 ,\n",
              "         0.0321511 ,  0.02421231],\n",
              "       [-0.05695383,  0.03625515, -0.06860252, ...,  0.02591816,\n",
              "         0.04554088,  0.02055327],\n",
              "       [-0.01783558, -0.04462572, -0.02057564, ...,  0.02187481,\n",
              "        -0.04054561, -0.02853347],\n",
              "       ...,\n",
              "       [-0.05783828, -0.05880497,  0.07976013, ..., -0.03510847,\n",
              "        -0.03695404,  0.03616227],\n",
              "       [-0.06651882,  0.02818294, -0.02726433, ..., -0.05769905,\n",
              "        -0.04426115, -0.00901749],\n",
              "       [-0.01624558,  0.05673347, -0.07569796, ..., -0.05263541,\n",
              "        -0.0753431 , -0.04903179]], dtype=float32)"
            ]
          },
          "metadata": {
            "tags": []
          },
          "execution_count": 198
        }
      ]
    },
    {
      "cell_type": "code",
      "metadata": {
        "colab": {
          "base_uri": "https://localhost:8080/"
        },
        "id": "3kMMoHjAg6ZA",
        "outputId": "7530bd17-18dd-4904-93c1-a465a682b56e"
      },
      "source": [
        "# tmp.numpy().shape"
      ],
      "execution_count": null,
      "outputs": [
        {
          "output_type": "execute_result",
          "data": {
            "text/plain": [
              "(784, 128)"
            ]
          },
          "metadata": {
            "tags": []
          },
          "execution_count": 203
        }
      ]
    },
    {
      "cell_type": "code",
      "metadata": {
        "id": "szwdWjJOhhPO"
      },
      "source": [
        "#  tmp2 =np.zeros(a.trainable_variables[0].numpy().shape,dtype='float64')"
      ],
      "execution_count": null,
      "outputs": []
    },
    {
      "cell_type": "code",
      "metadata": {
        "colab": {
          "base_uri": "https://localhost:8080/"
        },
        "id": "ThtNgQgrhncc",
        "outputId": "cc972f15-4527-4670-a94a-98797e7e253f"
      },
      "source": [
        "# tmp2.shape"
      ],
      "execution_count": null,
      "outputs": [
        {
          "output_type": "execute_result",
          "data": {
            "text/plain": [
              "(784, 128)"
            ]
          },
          "metadata": {
            "tags": []
          },
          "execution_count": 213
        }
      ]
    },
    {
      "cell_type": "code",
      "metadata": {
        "id": "YopyPHTFZPw0"
      },
      "source": [
        "#聚合先不考虑权重\n",
        "def FedAvg(NUM_CLIENTS):\n",
        "  iterModel = a.copy()\n",
        "  len_it = len(iterModel.trainable_variables)\n",
        "  all_weights = []\n",
        "  for weights_index in range(len_it):\n",
        "    tmp =np.zeros(iterModel.trainable_variables[weights_index].numpy().shape,dtype='float64')\n",
        "\n",
        "    for node in range(NUM_CLIENTS):\n",
        "      tmp += clients[node].model.trainable_variables[weights_index].numpy()\n",
        "    all_weights.append(tmp)\n",
        "  # print(all_weights)\n",
        "  iterModel_vars = iterModel.trainable_variables\n",
        "  for iter_v,n in zip(iterModel_vars,all_weights):\n",
        "    iter_v.assign(n)\n",
        "  return iterModel"
      ],
      "execution_count": null,
      "outputs": []
    },
    {
      "cell_type": "code",
      "metadata": {
        "id": "FlyPcfg2ZPuM"
      },
      "source": [
        "fedmodel = FedAvg(10)"
      ],
      "execution_count": null,
      "outputs": []
    },
    {
      "cell_type": "code",
      "metadata": {
        "id": "Y4fq1H9TZPq2"
      },
      "source": [
        "#昨天留的任务是如何把聚合后的numpy数组，转到模型中"
      ],
      "execution_count": null,
      "outputs": []
    },
    {
      "cell_type": "code",
      "metadata": {
        "colab": {
          "base_uri": "https://localhost:8080/"
        },
        "id": "6EWPH4k7RSYB",
        "outputId": "bbcaabfd-3c96-4aa0-9829-78d0eb485287"
      },
      "source": [
        "S.PreEval(fedmodel,x_test,y_test)"
      ],
      "execution_count": null,
      "outputs": [
        {
          "output_type": "stream",
          "text": [
            "313/313 [==============================] - 1s 1ms/step - loss: 7.8235 - accuracy: 0.2031\n"
          ],
          "name": "stdout"
        }
      ]
    },
    {
      "cell_type": "code",
      "metadata": {
        "colab": {
          "base_uri": "https://localhost:8080/"
        },
        "id": "j_8dKE06KK4e",
        "outputId": "67908246-b8a4-4577-bd63-5c230caa5209"
      },
      "source": [
        "len(fed)"
      ],
      "execution_count": null,
      "outputs": [
        {
          "output_type": "execute_result",
          "data": {
            "text/plain": [
              "4"
            ]
          },
          "metadata": {
            "tags": []
          },
          "execution_count": 125
        }
      ]
    }
  ]
}