{
  "nbformat": 4,
  "nbformat_minor": 0,
  "metadata": {
    "colab": {
      "name": "MyModel-CNN.ipynb",
      "provenance": [],
      "collapsed_sections": [
        "MwmKo3gLrI-i"
      ],
      "authorship_tag": "ABX9TyPVeZ+Oy4ajzcnh4/9tJF3W",
      "include_colab_link": true
    },
    "kernelspec": {
      "display_name": "Python 3",
      "name": "python3"
    },
    "language_info": {
      "name": "python"
    },
    "accelerator": "GPU"
  },
  "cells": [
    {
      "cell_type": "markdown",
      "metadata": {
        "id": "view-in-github",
        "colab_type": "text"
      },
      "source": [
        "<a href=\"https://colab.research.google.com/github/lowbee2019/Algorithm/blob/master/MyModel_CNN-V8.ipynb\" target=\"_parent\"><img src=\"https://colab.research.google.com/assets/colab-badge.svg\" alt=\"Open In Colab\"/></a>"
      ]
    },
    {
      "cell_type": "markdown",
      "metadata": {
        "id": "vshjLqDgO5yu"
      },
      "source": [
        "# 实验环境准备"
      ]
    },
    {
      "cell_type": "code",
      "metadata": {
        "colab": {
          "base_uri": "https://localhost:8080/"
        },
        "id": "uoFhItkFEsF8",
        "outputId": "5824ac14-045d-4f09-bd2b-ce5f260cd2be"
      },
      "source": [
        "!pip install emnist"
      ],
      "execution_count": 1,
      "outputs": [
        {
          "output_type": "stream",
          "text": [
            "Collecting emnist\n",
            "  Downloading https://files.pythonhosted.org/packages/d1/f4/78b24acbef9e8fe976dda700f16a3606f3b8363b015bc555f8050fbbd8ac/emnist-0.0-py3-none-any.whl\n",
            "Requirement already satisfied: requests in /usr/local/lib/python3.7/dist-packages (from emnist) (2.23.0)\n",
            "Requirement already satisfied: tqdm in /usr/local/lib/python3.7/dist-packages (from emnist) (4.41.1)\n",
            "Requirement already satisfied: numpy in /usr/local/lib/python3.7/dist-packages (from emnist) (1.19.5)\n",
            "Requirement already satisfied: certifi>=2017.4.17 in /usr/local/lib/python3.7/dist-packages (from requests->emnist) (2020.12.5)\n",
            "Requirement already satisfied: idna<3,>=2.5 in /usr/local/lib/python3.7/dist-packages (from requests->emnist) (2.10)\n",
            "Requirement already satisfied: urllib3!=1.25.0,!=1.25.1,<1.26,>=1.21.1 in /usr/local/lib/python3.7/dist-packages (from requests->emnist) (1.24.3)\n",
            "Requirement already satisfied: chardet<4,>=3.0.2 in /usr/local/lib/python3.7/dist-packages (from requests->emnist) (3.0.4)\n",
            "Installing collected packages: emnist\n",
            "Successfully installed emnist-0.0\n"
          ],
          "name": "stdout"
        }
      ]
    },
    {
      "cell_type": "code",
      "metadata": {
        "id": "9e4So1L3pPWp"
      },
      "source": [
        "import tensorflow as tf\n",
        "import numpy as np\n",
        "from tensorflow.keras import datasets,layers,models\n",
        "import collections\n",
        "import copy\n",
        "import random\n",
        "import emnist\n",
        "import datetime\n",
        "import os\n",
        "import matplotlib.pyplot as plt"
      ],
      "execution_count": 2,
      "outputs": []
    },
    {
      "cell_type": "code",
      "metadata": {
        "id": "6pkKi1GlSJ0S"
      },
      "source": [
        "os.environ[\"CUDA_VISIBLE_DEVICES\"]=\"0\""
      ],
      "execution_count": 3,
      "outputs": []
    },
    {
      "cell_type": "markdown",
      "metadata": {
        "id": "YQaIGTfxmSfi"
      },
      "source": [
        "# Server Initialization"
      ]
    },
    {
      "cell_type": "code",
      "metadata": {
        "id": "PTK_p961nsA5"
      },
      "source": [
        "class ParamServer(object):\n",
        "  def __init__(self,init_model_path):\n",
        "    self.init_model_path = init_model_path\n",
        "    self.round = 0\n",
        "    self.optimizer = 'adam'\n",
        "    self.loss = \"sparse_categorical_crossentropy\"\n",
        "    self.metrics =['accuracy']\n",
        "    self.loss_acc = []\n",
        "\n",
        "  def PreTrain(self,model,data,labels,batch_size=32,epochs=5):\n",
        "    model.compile(optimizer=self.optimizer,\n",
        "                  loss=self.loss,\n",
        "                  metrics=self.metrics)\n",
        "    _metrics = model.fit(data,labels,batch_size,epochs)\n",
        "    return model\n",
        "  \n",
        "  def PreEval(self,model,validation_data):\n",
        "    model.compile(optimizer=self.optimizer,\n",
        "                  loss=self.loss,\n",
        "                  metrics=self.metrics)\n",
        "    self.loss_acc.append(model.evaluate(x=validation_data[0],y=validation_data[1]))\n"
      ],
      "execution_count": 4,
      "outputs": []
    },
    {
      "cell_type": "markdown",
      "metadata": {
        "id": "iRvlGAmjmxbw"
      },
      "source": [
        "## Emnist数据集的预处理"
      ]
    },
    {
      "cell_type": "code",
      "metadata": {
        "id": "uUdPNuYqDmbD",
        "colab": {
          "base_uri": "https://localhost:8080/"
        },
        "outputId": "6d87dfa8-0c0f-4475-e808-1b5887321ae0"
      },
      "source": [
        "LetterDataSet = emnist.extract_training_samples('letters')\n",
        "DigitDataSet = emnist.extract_training_samples('digits')\n",
        "\n",
        "LetterDataSet = (np.expand_dims(LetterDataSet[0]/255.0,axis=3),np.expand_dims(LetterDataSet[1]*0+10,axis=1)) \n",
        "DigitDataSet = (np.expand_dims(DigitDataSet[0]/255.0,axis=3),np.expand_dims(DigitDataSet[1],axis=1))"
      ],
      "execution_count": 5,
      "outputs": [
        {
          "output_type": "stream",
          "text": [
            "Downloading emnist.zip: 536MB [00:03, 163MB/s]\n"
          ],
          "name": "stderr"
        }
      ]
    },
    {
      "cell_type": "code",
      "metadata": {
        "colab": {
          "base_uri": "https://localhost:8080/"
        },
        "id": "N66yuvvfDmHF",
        "outputId": "086e74fe-8204-47ca-8a90-9235d5a3f94b"
      },
      "source": [
        "LetterDataSet[0].shape,DigitDataSet[0].shape"
      ],
      "execution_count": 6,
      "outputs": [
        {
          "output_type": "execute_result",
          "data": {
            "text/plain": [
              "((124800, 28, 28, 1), (240000, 28, 28, 1))"
            ]
          },
          "metadata": {
            "tags": []
          },
          "execution_count": 6
        }
      ]
    },
    {
      "cell_type": "code",
      "metadata": {
        "id": "qA_gvtUkm8sV"
      },
      "source": [
        "ShareData = DigitDataSet[0][0:200]\n",
        "ShareLabel = DigitDataSet[1][0:200]\n",
        "validation_data=(ShareData,ShareLabel)\n",
        "validation_sever = (DigitDataSet[0][200:400],DigitDataSet[1][200:400])"
      ],
      "execution_count": 7,
      "outputs": []
    },
    {
      "cell_type": "markdown",
      "metadata": {
        "id": "2L712LCIm6Vv"
      },
      "source": [
        "## 模型的定义"
      ]
    },
    {
      "cell_type": "code",
      "metadata": {
        "id": "C0noj5RjmF0i"
      },
      "source": [
        "class FLModel(tf.keras.Model):\n",
        "  def __init__(self,row,col,num_classes=62,*args,**kwargs):\n",
        "    super(FLModel,self).__init__(*args,**kwargs)\n",
        "    self.row = row\n",
        "    self.col = col\n",
        "    self.num_classes = num_classes\n",
        "    # self.flatten = tf.keras.layers.Flatten(input_shape=(row,col))\n",
        "    # self.dense_1 = tf.keras.layers.Dense(128,activation='relu',name=\"dense_1\")\n",
        "    # self.dense_2 = tf.keras.layers.Dense(num_classes,activation='softmax',name=\"dense_2\")\n",
        "    # self.drop = tf.keras.layers.Dropout(0.2)\n",
        "    \n",
        "    self.model = models.Sequential()\n",
        "    # 第1层卷积，卷积核大小为3*3，32个，28*28为待训练图片的大小\n",
        "    self.model.add(layers.Conv2D(32, (3, 3), activation='relu', input_shape=(self.row, self.col, 1)))\n",
        "    self.model.add(layers.MaxPooling2D((2, 2)))\n",
        "    # 第2层卷积，卷积核大小为3*3，64个\n",
        "    self.model.add(layers.Conv2D(64, (3, 3), activation='relu'))\n",
        "    self.model.add(layers.MaxPooling2D((2, 2)))\n",
        "    # 第3层卷积，卷积核大小为3*3，64个\n",
        "    self.model.add(layers.Conv2D(64, (3, 3), activation='relu'))\n",
        "\n",
        "    self.model.add(layers.Flatten())\n",
        "    self.model.add(layers.Dense(64, activation='relu'))\n",
        "    self.model.add(layers.Dense(num_classes, activation='softmax'))\n",
        "\n",
        "  def call(self,inputs):\n",
        "    return self.model(inputs)\n",
        "\n",
        "  def copy(self):\n",
        "    NewModel = FLModel(self.row,self.col,self.num_classes)\n",
        "    _ = NewModel(tf.convert_to_tensor(np.zeros([1,self.row,self.col,1])))\n",
        "    ##Layers\n",
        "    NewVars = NewModel.trainable_variables #此处为空列表，因为没有训练,这个地方参数传递是不是有问题\n",
        "    OldVars = self.trainable_variables\n",
        "    for n,o in zip(NewVars,OldVars):\n",
        "      n.assign(o.numpy())\n",
        "    return NewModel\n"
      ],
      "execution_count": 8,
      "outputs": []
    },
    {
      "cell_type": "markdown",
      "metadata": {
        "id": "Z5LMvoXcoiz2"
      },
      "source": [
        "#Client Initialization"
      ]
    },
    {
      "cell_type": "code",
      "metadata": {
        "id": "Hvu8wCjbooCF"
      },
      "source": [
        "class Client(object):\n",
        "  def __init__(self,id,model=None,Train_dataset=None,Test_dataset=None):\n",
        "    self.id = id\n",
        "    self.model = model\n",
        "    self.Train_dataset = Train_dataset\n",
        "    self.Test_dataset = Test_dataset\n",
        "    # from ParamServer\n",
        "    self.ParamModel = None\n",
        "    self.num_epochs = 5\n",
        "    self.batch_size = 32\n",
        "    self.shuffle_buffer = 100\n",
        "    self.prefetch_buffer = 10\n",
        "\n",
        "\n",
        "  def ReceiveModel(self,ParamModel,num_epochs=1,batch_size=32,shuffle_buffer=100,prefetch_buffer=10):\n",
        "    self.ParamModel = ParamModel\n",
        "    self.num_epochs = num_epochs\n",
        "    self.batch_size = batch_size\n",
        "    self.shuffle_buffer = shuffle_buffer\n",
        "    self.prefetch_buffer = prefetch_buffer\n",
        "  \n",
        "\n",
        "  def NodeTrain(self):\n",
        "    model = self.ParamModel\n",
        "    x,y = self.Train_dataset\n",
        "    model.compile(\n",
        "        # optimizer=keras.optimizers.SGD(lr=0.01, momentum=0.0, decay=0.0, nesterov=False),##'adam',\n",
        "        optimizer='adam',\n",
        "        loss='sparse_categorical_crossentropy',\n",
        "        metrics=['accuracy'])\n",
        "    \n",
        "    _metrics = model.fit(x,y,batch_size=self.batch_size,epochs=self.num_epochs)\n",
        "    self.model = model\n",
        "\n",
        "  def NodeEval(self):\n",
        "    x,y = self.Test_dataset\n",
        "    return self.model.evaluate(x,y)\n"
      ],
      "execution_count": 9,
      "outputs": []
    },
    {
      "cell_type": "code",
      "metadata": {
        "id": "rBIE9FKUNNJX"
      },
      "source": [
        "def create_data_for_clients(SampleNum,LetterDataSet,DigitDataSet,DigitPercentage=0.7):\n",
        "  DigitNum = int(SampleNum*DigitPercentage)\n",
        "  LetterNum = SampleNum - DigitNum\n",
        "  x_sequence = []\n",
        "  y_sequence = []\n",
        "  if DigitNum > 0:\n",
        "    for i in range(DigitNum):\n",
        "      index = random.randint(0,len(DigitDataSet[0])-1)\n",
        "      x_sequence.append(DigitDataSet[0][index])\n",
        "      y_sequence.append(DigitDataSet[1][index])\n",
        "  if LetterNum > 0:\n",
        "    for j in range(LetterNum):\n",
        "      index = random.randint(0,len(LetterDataSet[0])-1)\n",
        "      x_sequence.append(LetterDataSet[0][index])\n",
        "      y_sequence.append(LetterDataSet[1][index])\n",
        "  # print(x_sequence[1].shape,y_sequence[1].shape)\n",
        "  x = np.array(x_sequence,dtype=np.float64)\n",
        "  y = np.array(y_sequence,dtype=np.int8)\n",
        "  #shuffle\n",
        "  state = np.random.get_state()\n",
        "  np.random.shuffle(x)\n",
        "  np.random.set_state(state)\n",
        "  np.random.shuffle(y)\n",
        "  \n",
        "  return (x,y)"
      ],
      "execution_count": 10,
      "outputs": []
    },
    {
      "cell_type": "markdown",
      "metadata": {
        "id": "En8MczNik638"
      },
      "source": [
        "#阶段一：为Client分配数据（预处理工作）"
      ]
    },
    {
      "cell_type": "code",
      "metadata": {
        "id": "QE_WXcMMt1kP"
      },
      "source": [
        "NUM_CLIENTS = 12\n",
        "NUM_TRAIN_SAMPLE_CLIENT = 256\n",
        "NUM_TEST_SAMPLE_CLIENT = 256\n",
        "CLASS_NUM = 11\n",
        "NUM_EPOCHS = 20"
      ],
      "execution_count": 11,
      "outputs": []
    },
    {
      "cell_type": "code",
      "metadata": {
        "id": "-Tmf__umcO1l"
      },
      "source": [
        "clients=[]\n",
        "for i in range(NUM_CLIENTS):\n",
        "  clients.append(Client(i,\n",
        "                        Train_dataset=create_data_for_clients(SampleNum=256,\n",
        "                                                              LetterDataSet=LetterDataSet,\n",
        "                                                              DigitDataSet=DigitDataSet,\n",
        "                                                              DigitPercentage=random.random()),\n",
        "                        Test_dataset=validation_data\n",
        "                        )\n",
        "  )"
      ],
      "execution_count": 12,
      "outputs": []
    },
    {
      "cell_type": "markdown",
      "metadata": {
        "id": "V9Jjje417iuZ"
      },
      "source": [
        "Show DataSet"
      ]
    },
    {
      "cell_type": "code",
      "metadata": {
        "colab": {
          "base_uri": "https://localhost:8080/",
          "height": 879
        },
        "id": "7RO4LfKq72nf",
        "outputId": "0019ce58-2ff0-4c26-a2f7-c184b57136c0"
      },
      "source": [
        "\n",
        "f = plt.figure(figsize=(15,15))\n",
        "for i in range(NUM_CLIENTS):\n",
        "  client_dataset = clients[i].Train_dataset\n",
        "  plot_data = collections.defaultdict(list)\n",
        "  for [label] in client_dataset[1].tolist():\n",
        "    plot_data[label].append(label)\n",
        "  plt.subplot(3,4,i+1)\n",
        "  plt.title('Client {}'.format(i))\n",
        "  for j in range(CLASS_NUM):\n",
        "    plt.hist(\n",
        "        plot_data[j],\n",
        "        density = False,\n",
        "        bins = [x for x in range(len(plot_data)+1)]\n",
        "    )"
      ],
      "execution_count": 13,
      "outputs": [
        {
          "output_type": "display_data",
          "data": {
            "image/png": "[encoded data removed]",
            "text/plain": [
              "<Figure size 1080x1080 with 12 Axes>"
            ]
          },
          "metadata": {
            "tags": [],
            "needs_background": "light"
          }
        }
      ]
    },
    {
      "cell_type": "markdown",
      "metadata": {
        "id": "JfqcXNr8jqi1"
      },
      "source": [
        "显示一下数字与字母的对比\n"
      ]
    },
    {
      "cell_type": "code",
      "metadata": {
        "colab": {
          "base_uri": "https://localhost:8080/",
          "height": 862
        },
        "id": "SkJ-l1ZSjpWf",
        "outputId": "e9f7a964-2576-415e-bc91-27c66c05021b"
      },
      "source": [
        "f = plt.figure(figsize=(15,15))\n",
        "for i in range(NUM_CLIENTS):\n",
        "  client_dataset = clients[i].Train_dataset\n",
        "  plot_data = {0:0,1:0}\n",
        "  plot_labels = ['digits','letters']\n",
        "  for label in client_dataset[1]:\n",
        "    label = 0 if label < 10 else 1\n",
        "    plot_data[label]+=1\n",
        "  # print(plot_data)\n",
        "  data_labels = list(sorted(plot_data.keys()))\n",
        "  # print(data_labels)\n",
        "  data_nums = [plot_data[i] for i in data_labels]\n",
        "  colors = ['red','blue']\n",
        "  plt.subplot(3,4,i+1)\n",
        "  patches,text1,text2 = plt.pie(data_nums,\n",
        "                              labels=plot_labels,\n",
        "                              autopct='%3.2f%%',\n",
        "                              shadow=False,\n",
        "                              startangle=90,\n",
        "                              pctdistance=0.6)\n",
        "  plt.axis('equal')\n",
        "  plt.title('Client {}'.format(i))\n",
        "plt.show()\n"
      ],
      "execution_count": 14,
      "outputs": [
        {
          "output_type": "display_data",
          "data": {
            "image/png": "[encoded data removed]",
            "text/plain": [
              "<Figure size 1080x1080 with 12 Axes>"
            ]
          },
          "metadata": {
            "tags": []
          }
        }
      ]
    },
    {
      "cell_type": "markdown",
      "metadata": {
        "id": "6PVxsGIpvlLn"
      },
      "source": [
        "#阶段二：中央服务器下发模型"
      ]
    },
    {
      "cell_type": "markdown",
      "metadata": {
        "id": "A5NIsOQgRp9h"
      },
      "source": [
        "Distance Between two models"
      ]
    },
    {
      "cell_type": "code",
      "metadata": {
        "id": "fX5rrSBk72Vw"
      },
      "source": [
        "def Distance(HookModel,TestModel):\n",
        "  len_it = len(HookModel.trainable_variables)\n",
        "  Hook_weights=[]\n",
        "  Test_weights=[]\n",
        "  for index in range(len_it):\n",
        "    Hook_weights.append(HookModel.trainable_variables[index].numpy().reshape(-1,))\n",
        "    Test_weights.append(TestModel.trainable_variables[index].numpy().reshape(-1,))\n",
        "  target = []\n",
        "  dis_norm2=[]\n",
        "  for i in range(len_it):\n",
        "    target.append(Hook_weights[i]-Test_weights[i])\n",
        "    dis_norm2.append(np.linalg.norm(target[i],2))\n",
        "  weight_weights = np.ones([len_it,1])\n",
        "  #调整权重\n",
        "  # weight_weights[0]=0\n",
        "  # weight_weights[1]=0\n",
        "  dis = np.dot(dis_norm2,weight_weights)\n",
        "  return dis"
      ],
      "execution_count": 15,
      "outputs": []
    },
    {
      "cell_type": "code",
      "metadata": {
        "id": "IYTX2XVhSCoD"
      },
      "source": [
        "def GetDistDict(Clients,Clients_Num,TargetModel):\n",
        "  \"\"\"\n",
        "  return {'client id':Distance(TargetModel,client_id.model)}\n",
        "  \"\"\"\n",
        "  DistDict = collections.OrderedDict()\n",
        "  for i in range(Clients_Num):\n",
        "    DistDict[i] = Distance(TargetModel,Clients[i].model)\n",
        "  return DistDict"
      ],
      "execution_count": 16,
      "outputs": []
    },
    {
      "cell_type": "code",
      "metadata": {
        "id": "-P3c9QztWPLj"
      },
      "source": [
        "def ParticipatedNode(AccuracyList,AccThreshold=0.05):\n",
        "  tmp = [i for i in range(len(AccuracyList)) if AccuracyList[i]>AccThreshold]\n",
        "\n",
        "  if len(tmp):\n",
        "    return tmp\n",
        "  else:\n",
        "    return [i for i in range(len(AccuracyList))]"
      ],
      "execution_count": 17,
      "outputs": []
    },
    {
      "cell_type": "markdown",
      "metadata": {
        "id": "1TfBfhWeV8k3"
      },
      "source": [
        "## Show Result Function"
      ]
    },
    {
      "cell_type": "code",
      "metadata": {
        "id": "GFoIQ15Ag62z"
      },
      "source": [
        "def ShowWeights(WeightsDictList,Epoch):\n",
        "  \"\"\"\n",
        "  WeightDict[0] is a array.\n",
        "  WeightDict[0][0] is a number. \n",
        "  \"\"\"\n",
        "  WeightDict = WeightsDictList[Epoch]\n",
        "  labels = [\"Client {}\".format(i) for i in WeightDict.keys() if WeightDict[i][0]]\n",
        "  x = [WeightDict[i][0] for i in WeightDict.keys() if WeightDict[i][0]]\n",
        "  plt.pie(x=x,labels=labels,autopct=\"%1.2f%%\")\n",
        "  plt.title(\"The Weight Rate during Epoche {}\".format(Epoch))\n",
        "  plt.show()"
      ],
      "execution_count": 18,
      "outputs": []
    },
    {
      "cell_type": "code",
      "metadata": {
        "id": "NPmZG18YhMS4"
      },
      "source": [
        "def ShowAccAndLoss(LossAndAccList):\n",
        "  \"\"\"\n",
        "  LossAndAccList:[[loss0,acc0],[loss1,acc1]...]\n",
        "  \"\"\"\n",
        "  #deal the data\n",
        "  IterTimes = len(LossAndAccList)\n",
        "  Acc = [LossAndAccList[i][1]*100 for i in range(IterTimes)]\n",
        "  Loss = [LossAndAccList[i][0] for i in range(IterTimes)]\n",
        "  \n",
        "  #prepare show image\n",
        "  x = np.arange(IterTimes).astype(dtype=np.str)\n",
        "  fig = plt.figure()\n",
        "  ax1 = fig.add_subplot(111)\n",
        "  acc = ax1.plot(x,Acc,'r',label='Acc')\n",
        "  ax1.set_ylabel('Acc(%)')\n",
        "  ax1.set_xlabel(\"Epochs\")\n",
        "  ax1.set_title('Acc-Loss')\n",
        "\n",
        "  ax2 = ax1.twinx()\n",
        "  loss = ax2.plot(x,Loss,label='Loss')\n",
        "  ax2.set_ylabel('Loss')\n",
        "\n",
        "\n",
        "  lns = acc+loss\n",
        "  labs = [l.get_label() for l in lns]\n",
        "  ax2.legend(lns,labs)\n",
        "  plt.show()\n",
        "  return Acc"
      ],
      "execution_count": 19,
      "outputs": []
    },
    {
      "cell_type": "code",
      "metadata": {
        "id": "TSJC9WBwjmQK"
      },
      "source": [
        "def ShowParticipatedNode(NodeList):\n",
        "  \"\"\"\n",
        "  NodeList:[[1,2,3,...],[4,5,6,...],...]\n",
        "  \"\"\"\n",
        "  #deal the data\n",
        "  IterTimes = len(NodeList)\n",
        "  img = np.ones(shape=(NUM_CLIENTS,IterTimes),dtype=int)\n",
        "  for i in range(IterTimes):\n",
        "    for j in NodeList[i]:\n",
        "      img[j][i]=0\n",
        "  #prepare show image\n",
        "\n",
        "  ax = plt.gca()\n",
        "  ax.set_ylim(-0.5,NUM_CLIENTS-0.5)\n",
        "  ax.set_xlim(-0.5,9.5)\n",
        "  miloc = plt.MultipleLocator(1)\n",
        "  ax.xaxis.set_minor_locator(miloc)\n",
        "  plt.grid()\n",
        "\n",
        "  plt.imshow(img*255,cmap='gray')\n",
        "  plt.axis('on')\n",
        "  plt.xlabel('Epochs')\n",
        "  plt.ylabel('Nodes')\n",
        "  plt.title(\"Nodes in each epoch\")\n",
        "  y = np.arange(0.5,NUM_CLIENTS+0.5,1)\n",
        "  x = np.arange(0.5,NUM_EPOCHS+0.5,1)\n",
        "\n",
        "  plt.yticks(y,(int(i-0.5) for i in y))\n",
        "  plt.xticks(x,(int(i-0.5) for i in x))\n",
        "  plt.show()"
      ],
      "execution_count": 20,
      "outputs": []
    },
    {
      "cell_type": "code",
      "metadata": {
        "id": "M0d8EuqUXqMv"
      },
      "source": [
        "def ResultAnalysis(NewFedAvgAcc,FedBaselineAcc):\n",
        "  assert len(NewFedAvgAcc)==len(FedBaselineAcc)\n",
        "  iters = np.arange(len(NewFedAvgAcc)).astype(dtype=np.str)\n",
        "  fig = plt.figure()\n",
        "  plt.title(\"Result Analysis\")\n",
        "  plt.plot(iters,NewFedAvgAcc,color='red',label=\"FedwithAcc\")\n",
        "  plt.plot(iters,FedBaselineAcc,color='blue',label=\"FedAvg\")\n",
        "  plt.legend()\n",
        "  plt.xlabel(\"iteration times\")\n",
        "  plt.ylabel(\"Accuracy (%)\")\n",
        "  plt.xlim(0,20)\n",
        "  plt.show()"
      ],
      "execution_count": 21,
      "outputs": []
    },
    {
      "cell_type": "markdown",
      "metadata": {
        "id": "_uNjI7abv3Vs"
      },
      "source": [
        "## Model Initialization"
      ]
    },
    {
      "cell_type": "code",
      "metadata": {
        "id": "PLJekuPtvxZl",
        "colab": {
          "base_uri": "https://localhost:8080/"
        },
        "outputId": "aa8f162f-482c-4bb7-a4be-31462afeabf8"
      },
      "source": [
        "InitModel = FLModel(row=28,col=28,num_classes=CLASS_NUM)\n",
        "S = ParamServer(\"\")\n",
        "S.PreEval(InitModel,validation_data)\n",
        "SendModel = InitModel"
      ],
      "execution_count": 22,
      "outputs": [
        {
          "output_type": "stream",
          "text": [
            "7/7 [==============================] - 1s 9ms/step - loss: 2.4027 - accuracy: 0.0479\n"
          ],
          "name": "stdout"
        }
      ]
    },
    {
      "cell_type": "code",
      "metadata": {
        "colab": {
          "base_uri": "https://localhost:8080/"
        },
        "id": "4K48O8MylnxW",
        "outputId": "269bf714-c381-4db1-8905-d8b9437a0f14"
      },
      "source": [
        "#InitModel.model.summary()"
      ],
      "execution_count": null,
      "outputs": [
        {
          "output_type": "stream",
          "text": [
            "Model: \"sequential\"\n",
            "_________________________________________________________________\n",
            "Layer (type)                 Output Shape              Param #   \n",
            "=================================================================\n",
            "conv2d (Conv2D)              (None, 26, 26, 32)        320       \n",
            "_________________________________________________________________\n",
            "max_pooling2d (MaxPooling2D) (None, 13, 13, 32)        0         \n",
            "_________________________________________________________________\n",
            "conv2d_1 (Conv2D)            (None, 11, 11, 64)        18496     \n",
            "_________________________________________________________________\n",
            "max_pooling2d_1 (MaxPooling2 (None, 5, 5, 64)          0         \n",
            "_________________________________________________________________\n",
            "conv2d_2 (Conv2D)            (None, 3, 3, 64)          36928     \n",
            "_________________________________________________________________\n",
            "flatten (Flatten)            (None, 576)               0         \n",
            "_________________________________________________________________\n",
            "dense (Dense)                (None, 64)                36928     \n",
            "_________________________________________________________________\n",
            "dense_1 (Dense)              (None, 11)                715       \n",
            "=================================================================\n",
            "Total params: 93,387\n",
            "Trainable params: 93,387\n",
            "Non-trainable params: 0\n",
            "_________________________________________________________________\n"
          ],
          "name": "stdout"
        }
      ]
    },
    {
      "cell_type": "markdown",
      "metadata": {
        "id": "eMZP89WLPF_3"
      },
      "source": [
        "使用随机初始化的模型进行预测，不预测也可以！"
      ]
    },
    {
      "cell_type": "code",
      "metadata": {
        "colab": {
          "base_uri": "https://localhost:8080/"
        },
        "id": "SGo2NYXsv96h",
        "outputId": "c7b7b15b-cc60-4b06-9555-62606512804f"
      },
      "source": [
        "SendModel = S.PreTrain(InitModel,ShareData,ShareLabel,epochs=1)\n",
        "S.PreEval(SendModel,validation_data)"
      ],
      "execution_count": null,
      "outputs": [
        {
          "output_type": "stream",
          "text": [
            "7/7 [==============================] - 1s 16ms/step - loss: 2.3656 - accuracy: 0.1054\n",
            "7/7 [==============================] - 0s 4ms/step - loss: 2.1765 - accuracy: 0.2735\n"
          ],
          "name": "stdout"
        }
      ]
    },
    {
      "cell_type": "markdown",
      "metadata": {
        "id": "7OmptaMzpR0P"
      },
      "source": [
        "# 阶段三：Clients 训练节点数据并聚合\n"
      ]
    },
    {
      "cell_type": "code",
      "metadata": {
        "id": "I6HSFpcqrK_2"
      },
      "source": [
        "def FedAvgwithAcc(NUM_CLIENTS,model,AccuracyList,Threshold=0):\n",
        "  iterModel = model.copy()\n",
        "  len_it = len(iterModel.trainable_variables)\n",
        "  all_weights = []\n",
        "\n",
        "  NodeDict = GetDistDict(Clients=clients,Clients_Num=NUM_CLIENTS,TargetModel=iterModel)\n",
        "  FedNodeList = ParticipatedNode(AccuracyList=AccuracyList,AccThreshold=Threshold) # AccThreshold = \"-1\" means that each one participate FedAvg.\n",
        "\n",
        "  print(\"FedNodeList is \",FedNodeList)\n",
        "  # mult = [AccuracyList[i]/np.exp(NodeDict[i]) for i in range(NUM_CLIENTS)] # no threshold\n",
        "  mult = [AccuracyList[i]/np.exp(NodeDict[i]) for i in FedNodeList] \n",
        "  # print(\"The Distance are ...\",NodeDict)\n",
        "  # print(\"The AD are ...\",mult)\n",
        "  exp_sum = np.sum(mult)\n",
        "  \n",
        "  #---Prevent an extreme situation---\n",
        "  if exp_sum <1e-5: # Maybe all of the Acc are 0.\n",
        "    for i in FedNodeList:\n",
        "      AccuracyList[i] = 1\n",
        "    # mult = [AccuracyList[i]/np.exp(NodeDict[i]) for i in FedNodeList] \n",
        "    mult = AccuracyList\n",
        "    exp_sum = np.sum(mult)\n",
        "  #---end---\n",
        "\n",
        "  Weights = {k:v for (k,v) in zip(FedNodeList,mult/exp_sum)}\n",
        "  print(\"Weights are...\",Weights)\n",
        "  ###Softmax\n",
        "\n",
        "  for weights_index in range(len_it):\n",
        "    tmp =np.zeros(iterModel.trainable_variables[weights_index].numpy().shape,dtype='float64')\n",
        "\n",
        "    for node in FedNodeList:\n",
        "    # for node in range(NUM_CLIENTS):\n",
        "      tmp += clients[node].model.trainable_variables[weights_index].numpy()*Weights[node]\n",
        "    all_weights.append(tmp)\n",
        "  # print(all_weights)\n",
        "  iterModel_vars = iterModel.trainable_variables\n",
        "  for iter_v,n in zip(iterModel_vars,all_weights):\n",
        "    iter_v.assign(n)\n",
        "  return (iterModel,FedNodeList,Weights)"
      ],
      "execution_count": 24,
      "outputs": []
    },
    {
      "cell_type": "code",
      "metadata": {
        "colab": {
          "base_uri": "https://localhost:8080/"
        },
        "id": "chwpV3rDr5r2",
        "outputId": "58d12edf-f184-42ff-baa7-3125a61cdafe"
      },
      "source": [
        "NodeList=[]\n",
        "ACC_Client_Test=[]\n",
        "WeightsEachEpoch = []\n",
        "AccMin=0\n",
        "for e in range(NUM_EPOCHS):\n",
        "  Acc_tmp=[]\n",
        "  Weight_tmp=[]\n",
        "  print(\"EPOCHS {} is starting...\".format(e))\n",
        "  for i in range(NUM_CLIENTS):\n",
        "    clients[i].ReceiveModel(SendModel.copy())\n",
        "    clients[i].NodeTrain()\n",
        "    Acc_tmp.append(clients[i].NodeEval()[1])\n",
        "\n",
        "  FedModel,li,Weight_tmp = FedAvgwithAcc(NUM_CLIENTS,SendModel,AccuracyList=Acc_tmp,Threshold=AccMin)\n",
        "  AccMin = np.mean(Acc_tmp)\n",
        "  #---Recording---\n",
        "  NodeList.append(li)\n",
        "  WeightsEachEpoch.append(Weight_tmp)\n",
        "  ACC_Client_Test.append(Acc_tmp)\n",
        "  print(\"The Acc on each client...\",Acc_tmp)\n",
        "  #---Testing---\n",
        "  S.PreEval(FedModel,validation_sever)\n",
        "  SendModel = FedModel.copy()"
      ],
      "execution_count": 25,
      "outputs": [
        {
          "output_type": "stream",
          "text": [
            "EPOCHS 0 is starting...\n",
            "8/8 [==============================] - 1s 30ms/step - loss: 2.1229 - accuracy: 0.4142\n",
            "7/7 [==============================] - 0s 9ms/step - loss: 4.3825 - accuracy: 0.0000e+00\n",
            "8/8 [==============================] - 1s 31ms/step - loss: 2.3758 - accuracy: 0.1685\n",
            "7/7 [==============================] - 0s 8ms/step - loss: 2.2727 - accuracy: 0.2850\n",
            "8/8 [==============================] - 1s 30ms/step - loss: 2.3738 - accuracy: 0.1295\n",
            "7/7 [==============================] - 0s 9ms/step - loss: 2.4453 - accuracy: 0.0000e+00\n",
            "8/8 [==============================] - 1s 29ms/step - loss: 1.9470 - accuracy: 0.5771\n",
            "7/7 [==============================] - 0s 10ms/step - loss: 7.5155 - accuracy: 0.0000e+00\n",
            "8/8 [==============================] - 1s 30ms/step - loss: 1.9346 - accuracy: 0.5515\n",
            "7/7 [==============================] - 0s 10ms/step - loss: 7.6636 - accuracy: 0.0000e+00\n",
            "8/8 [==============================] - 1s 29ms/step - loss: 2.3758 - accuracy: 0.1286\n",
            "7/7 [==============================] - 0s 8ms/step - loss: 2.2786 - accuracy: 0.2550\n",
            "8/8 [==============================] - 1s 30ms/step - loss: 1.8651 - accuracy: 0.6227\n",
            "7/7 [==============================] - 0s 8ms/step - loss: 7.5960 - accuracy: 0.0000e+00\n",
            "8/8 [==============================] - 1s 30ms/step - loss: 1.8259 - accuracy: 0.6199\n",
            "7/7 [==============================] - 0s 10ms/step - loss: 8.9957 - accuracy: 0.0000e+00\n",
            "8/8 [==============================] - 1s 29ms/step - loss: 2.3639 - accuracy: 0.1388\n",
            "7/7 [==============================] - 0s 9ms/step - loss: 2.2785 - accuracy: 0.1650\n",
            "8/8 [==============================] - 1s 31ms/step - loss: 2.3228 - accuracy: 0.2385\n",
            "7/7 [==============================] - 0s 9ms/step - loss: 2.6358 - accuracy: 0.0000e+00\n",
            "8/8 [==============================] - 1s 29ms/step - loss: 2.3708 - accuracy: 0.1573\n",
            "7/7 [==============================] - 0s 9ms/step - loss: 2.4079 - accuracy: 0.0000e+00\n",
            "8/8 [==============================] - 1s 29ms/step - loss: 2.3354 - accuracy: 0.1698\n",
            "7/7 [==============================] - 0s 9ms/step - loss: 2.6462 - accuracy: 0.0000e+00\n",
            "FedNodeList is  [1, 5, 8]\n",
            "Weights are... {1: array([0.3778449]), 5: array([0.39901706]), 8: array([0.22313804])}\n",
            "The Acc on each client... [0.0, 0.2849999964237213, 0.0, 0.0, 0.0, 0.2549999952316284, 0.0, 0.0, 0.16500000655651093, 0.0, 0.0, 0.0]\n",
            "7/7 [==============================] - 0s 10ms/step - loss: 2.2698 - accuracy: 0.4129\n",
            "EPOCHS 1 is starting...\n",
            "8/8 [==============================] - 1s 30ms/step - loss: 2.0156 - accuracy: 0.4800\n",
            "7/7 [==============================] - 0s 8ms/step - loss: 3.3318 - accuracy: 0.0000e+00\n",
            "8/8 [==============================] - 1s 29ms/step - loss: 2.2011 - accuracy: 0.3105\n",
            "7/7 [==============================] - 0s 9ms/step - loss: 1.8307 - accuracy: 0.5950\n",
            "8/8 [==============================] - 1s 31ms/step - loss: 2.2282 - accuracy: 0.2645\n",
            "7/7 [==============================] - 0s 9ms/step - loss: 2.0867 - accuracy: 0.2500\n",
            "8/8 [==============================] - 1s 30ms/step - loss: 1.8216 - accuracy: 0.5734\n",
            "7/7 [==============================] - 0s 9ms/step - loss: 6.0051 - accuracy: 0.0000e+00\n",
            "8/8 [==============================] - 1s 30ms/step - loss: 1.7942 - accuracy: 0.5876\n",
            "7/7 [==============================] - 0s 9ms/step - loss: 6.2679 - accuracy: 0.0000e+00\n",
            "8/8 [==============================] - 1s 32ms/step - loss: 2.2033 - accuracy: 0.3581\n",
            "7/7 [==============================] - 0s 10ms/step - loss: 1.8664 - accuracy: 0.5450\n",
            "8/8 [==============================] - 1s 30ms/step - loss: 1.6456 - accuracy: 0.6055\n",
            "7/7 [==============================] - 0s 10ms/step - loss: 9.9697 - accuracy: 0.0000e+00\n",
            "8/8 [==============================] - 1s 31ms/step - loss: 1.6410 - accuracy: 0.6256\n",
            "7/7 [==============================] - 0s 10ms/step - loss: 9.9049 - accuracy: 0.0000e+00\n",
            "8/8 [==============================] - 1s 31ms/step - loss: 2.1727 - accuracy: 0.3564\n",
            "7/7 [==============================] - 0s 10ms/step - loss: 1.8748 - accuracy: 0.3400\n",
            "8/8 [==============================] - 1s 33ms/step - loss: 2.1761 - accuracy: 0.2929\n",
            "7/7 [==============================] - 0s 10ms/step - loss: 2.2471 - accuracy: 0.1100\n",
            "8/8 [==============================] - 1s 32ms/step - loss: 2.2252 - accuracy: 0.2557\n",
            "7/7 [==============================] - 0s 9ms/step - loss: 2.1391 - accuracy: 0.1700\n",
            "8/8 [==============================] - 1s 37ms/step - loss: 2.2223 - accuracy: 0.2403\n",
            "7/7 [==============================] - 0s 9ms/step - loss: 2.2956 - accuracy: 0.0400\n",
            "FedNodeList is  [1, 2, 5, 8, 9, 10]\n",
            "Weights are... {1: array([0.2794415]), 2: array([0.14282124]), 5: array([0.28551464]), 8: array([0.14829348]), 9: array([0.05591569]), 10: array([0.08801345])}\n",
            "The Acc on each client... [0.0, 0.5950000286102295, 0.25, 0.0, 0.0, 0.5450000166893005, 0.0, 0.0, 0.3400000035762787, 0.10999999940395355, 0.17000000178813934, 0.03999999910593033]\n",
            "7/7 [==============================] - 0s 12ms/step - loss: 1.8672 - accuracy: 0.6944\n",
            "EPOCHS 2 is starting...\n",
            "8/8 [==============================] - 1s 48ms/step - loss: 1.6419 - accuracy: 0.5755\n",
            "7/7 [==============================] - 0s 14ms/step - loss: 2.3978 - accuracy: 0.0750\n",
            "8/8 [==============================] - 1s 39ms/step - loss: 1.7500 - accuracy: 0.5455\n",
            "7/7 [==============================] - 0s 13ms/step - loss: 1.2410 - accuracy: 0.6700\n",
            "8/8 [==============================] - 1s 39ms/step - loss: 1.8072 - accuracy: 0.4813\n",
            "7/7 [==============================] - 0s 13ms/step - loss: 1.5735 - accuracy: 0.4150\n",
            "8/8 [==============================] - 1s 43ms/step - loss: 1.4794 - accuracy: 0.6115\n",
            "7/7 [==============================] - 0s 13ms/step - loss: 3.6205 - accuracy: 0.0000e+00\n",
            "8/8 [==============================] - 1s 39ms/step - loss: 1.4712 - accuracy: 0.6646\n",
            "7/7 [==============================] - 0s 14ms/step - loss: 3.6601 - accuracy: 0.0000e+00\n",
            "8/8 [==============================] - 1s 41ms/step - loss: 1.8061 - accuracy: 0.4889\n",
            "7/7 [==============================] - 0s 14ms/step - loss: 1.4068 - accuracy: 0.5650\n",
            "8/8 [==============================] - 1s 39ms/step - loss: 1.2646 - accuracy: 0.6980\n",
            "7/7 [==============================] - 0s 14ms/step - loss: 7.2809 - accuracy: 0.0000e+00\n",
            "8/8 [==============================] - 1s 39ms/step - loss: 1.1629 - accuracy: 0.7355\n",
            "7/7 [==============================] - 0s 13ms/step - loss: 9.9461 - accuracy: 0.0000e+00\n",
            "8/8 [==============================] - 1s 40ms/step - loss: 1.8353 - accuracy: 0.4591\n",
            "7/7 [==============================] - 0s 13ms/step - loss: 1.3765 - accuracy: 0.6000\n",
            "8/8 [==============================] - 1s 39ms/step - loss: 1.8246 - accuracy: 0.4105\n",
            "7/7 [==============================] - 0s 14ms/step - loss: 1.6269 - accuracy: 0.5050\n",
            "8/8 [==============================] - 1s 43ms/step - loss: 1.8462 - accuracy: 0.4493\n",
            "7/7 [==============================] - 0s 16ms/step - loss: 1.3734 - accuracy: 0.6450\n",
            "8/8 [==============================] - 1s 46ms/step - loss: 1.8900 - accuracy: 0.3793\n",
            "7/7 [==============================] - 0s 18ms/step - loss: 1.5004 - accuracy: 0.6350\n",
            "FedNodeList is  [1, 2, 5, 8, 9, 10, 11]\n",
            "Weights are... {1: array([0.14589816]), 2: array([0.09481549]), 5: array([0.1276035]), 8: array([0.14242252]), 9: array([0.13949447]), 10: array([0.1678158]), 11: array([0.18195006])}\n",
            "The Acc on each client... [0.07500000298023224, 0.6700000166893005, 0.41499999165534973, 0.0, 0.0, 0.5649999976158142, 0.0, 0.0, 0.6000000238418579, 0.5049999952316284, 0.6449999809265137, 0.6349999904632568]\n",
            "7/7 [==============================] - 0s 18ms/step - loss: 1.2858 - accuracy: 0.7636\n",
            "EPOCHS 3 is starting...\n",
            "8/8 [==============================] - 1s 41ms/step - loss: 1.2322 - accuracy: 0.6815\n",
            "7/7 [==============================] - 0s 13ms/step - loss: 1.7474 - accuracy: 0.3550\n",
            "8/8 [==============================] - 1s 40ms/step - loss: 1.2708 - accuracy: 0.6112\n",
            "7/7 [==============================] - 0s 13ms/step - loss: 0.8339 - accuracy: 0.8000\n",
            "8/8 [==============================] - 1s 40ms/step - loss: 1.4115 - accuracy: 0.6582\n",
            "7/7 [==============================] - 0s 13ms/step - loss: 1.2633 - accuracy: 0.5750\n",
            "8/8 [==============================] - 1s 40ms/step - loss: 1.2347 - accuracy: 0.6510\n",
            "7/7 [==============================] - 0s 13ms/step - loss: 2.3383 - accuracy: 0.0250\n",
            "8/8 [==============================] - 1s 41ms/step - loss: 1.2542 - accuracy: 0.6641\n",
            "7/7 [==============================] - 0s 13ms/step - loss: 2.5522 - accuracy: 0.0250\n",
            "8/8 [==============================] - 1s 41ms/step - loss: 1.3843 - accuracy: 0.5878\n",
            "7/7 [==============================] - 0s 13ms/step - loss: 0.9855 - accuracy: 0.7000\n",
            "8/8 [==============================] - 1s 41ms/step - loss: 1.0320 - accuracy: 0.7683\n",
            "7/7 [==============================] - 0s 13ms/step - loss: 4.5746 - accuracy: 0.0000e+00\n",
            "8/8 [==============================] - 1s 40ms/step - loss: 0.9649 - accuracy: 0.7270\n",
            "7/7 [==============================] - 0s 13ms/step - loss: 6.6298 - accuracy: 0.0000e+00\n",
            "8/8 [==============================] - 1s 42ms/step - loss: 1.3978 - accuracy: 0.6081\n",
            "7/7 [==============================] - 0s 13ms/step - loss: 0.9366 - accuracy: 0.7600\n",
            "8/8 [==============================] - 1s 43ms/step - loss: 1.4022 - accuracy: 0.5421\n",
            "7/7 [==============================] - 0s 13ms/step - loss: 1.2406 - accuracy: 0.5450\n",
            "8/8 [==============================] - 1s 46ms/step - loss: 1.4211 - accuracy: 0.6053\n",
            "7/7 [==============================] - 0s 18ms/step - loss: 1.4150 - accuracy: 0.5950\n",
            "8/8 [==============================] - 1s 41ms/step - loss: 1.4687 - accuracy: 0.5341\n",
            "7/7 [==============================] - 0s 13ms/step - loss: 1.0631 - accuracy: 0.6800\n",
            "FedNodeList is  [0, 1, 2, 5, 8, 9, 10, 11]\n",
            "Weights are... {0: array([0.08355262]), 1: array([0.15071859]), 2: array([0.10253542]), 5: array([0.12630338]), 8: array([0.1630809]), 9: array([0.11282148]), 10: array([0.11552386]), 11: array([0.14546374])}\n",
            "The Acc on each client... [0.35499998927116394, 0.800000011920929, 0.574999988079071, 0.02500000037252903, 0.02500000037252903, 0.699999988079071, 0.0, 0.0, 0.7599999904632568, 0.5450000166893005, 0.5950000286102295, 0.6800000071525574]\n",
            "7/7 [==============================] - 0s 13ms/step - loss: 0.9229 - accuracy: 0.7679\n",
            "EPOCHS 4 is starting...\n",
            "8/8 [==============================] - 1s 41ms/step - loss: 1.0646 - accuracy: 0.6099\n",
            "7/7 [==============================] - 0s 13ms/step - loss: 1.5276 - accuracy: 0.4400\n",
            "8/8 [==============================] - 1s 42ms/step - loss: 1.0188 - accuracy: 0.6977\n",
            "7/7 [==============================] - 0s 13ms/step - loss: 0.7286 - accuracy: 0.7700\n",
            "8/8 [==============================] - 1s 41ms/step - loss: 1.1006 - accuracy: 0.6250\n",
            "7/7 [==============================] - 0s 15ms/step - loss: 0.9098 - accuracy: 0.6750\n",
            "8/8 [==============================] - 1s 41ms/step - loss: 1.1176 - accuracy: 0.6785\n",
            "7/7 [==============================] - 0s 14ms/step - loss: 1.8021 - accuracy: 0.1350\n",
            "8/8 [==============================] - 1s 41ms/step - loss: 1.1055 - accuracy: 0.6916\n",
            "7/7 [==============================] - 0s 13ms/step - loss: 2.0661 - accuracy: 0.0650\n",
            "8/8 [==============================] - 1s 40ms/step - loss: 0.9734 - accuracy: 0.7197\n",
            "7/7 [==============================] - 0s 13ms/step - loss: 0.7936 - accuracy: 0.7600\n",
            "8/8 [==============================] - 1s 40ms/step - loss: 0.9454 - accuracy: 0.7376\n",
            "7/7 [==============================] - 0s 13ms/step - loss: 3.5043 - accuracy: 0.0000e+00\n",
            "8/8 [==============================] - 1s 40ms/step - loss: 0.9455 - accuracy: 0.7408\n",
            "7/7 [==============================] - 0s 13ms/step - loss: 5.5078 - accuracy: 0.0000e+00\n",
            "8/8 [==============================] - 1s 39ms/step - loss: 1.0689 - accuracy: 0.6434\n",
            "7/7 [==============================] - 0s 13ms/step - loss: 0.6905 - accuracy: 0.8100\n",
            "8/8 [==============================] - 1s 39ms/step - loss: 1.1521 - accuracy: 0.6060\n",
            "7/7 [==============================] - 0s 15ms/step - loss: 0.8355 - accuracy: 0.7850\n",
            "8/8 [==============================] - 1s 40ms/step - loss: 1.0685 - accuracy: 0.6433\n",
            "7/7 [==============================] - 0s 16ms/step - loss: 0.7775 - accuracy: 0.7700\n",
            "8/8 [==============================] - 1s 40ms/step - loss: 1.3030 - accuracy: 0.5469\n",
            "7/7 [==============================] - 0s 16ms/step - loss: 1.0404 - accuracy: 0.6150\n",
            "FedNodeList is  [0, 1, 2, 5, 8, 9, 10, 11]\n",
            "Weights are... {0: array([0.0854236]), 1: array([0.12154239]), 2: array([0.11228963]), 5: array([0.13519351]), 8: array([0.12571349]), 9: array([0.15612244]), 10: array([0.14299032]), 11: array([0.12072462])}\n",
            "The Acc on each client... [0.4399999976158142, 0.7699999809265137, 0.675000011920929, 0.13500000536441803, 0.06499999761581421, 0.7599999904632568, 0.0, 0.0, 0.8100000023841858, 0.7850000262260437, 0.7699999809265137, 0.6150000095367432]\n",
            "7/7 [==============================] - 0s 15ms/step - loss: 0.7032 - accuracy: 0.7907\n",
            "EPOCHS 5 is starting...\n",
            "8/8 [==============================] - 1s 40ms/step - loss: 0.9637 - accuracy: 0.6479\n",
            "7/7 [==============================] - 0s 15ms/step - loss: 1.4724 - accuracy: 0.4300\n",
            "8/8 [==============================] - 1s 41ms/step - loss: 0.8176 - accuracy: 0.7513\n",
            "7/7 [==============================] - 0s 15ms/step - loss: 0.8675 - accuracy: 0.7000\n",
            "8/8 [==============================] - 1s 40ms/step - loss: 1.0435 - accuracy: 0.6949\n",
            "7/7 [==============================] - 0s 16ms/step - loss: 0.7891 - accuracy: 0.7450\n",
            "8/8 [==============================] - 1s 44ms/step - loss: 1.0804 - accuracy: 0.7097\n",
            "7/7 [==============================] - 0s 15ms/step - loss: 1.6088 - accuracy: 0.2350\n",
            "8/8 [==============================] - 1s 41ms/step - loss: 1.0206 - accuracy: 0.7181\n",
            "7/7 [==============================] - 0s 16ms/step - loss: 1.7612 - accuracy: 0.2050\n",
            "8/8 [==============================] - 1s 40ms/step - loss: 0.8472 - accuracy: 0.7324\n",
            "7/7 [==============================] - 0s 15ms/step - loss: 0.7314 - accuracy: 0.7400\n",
            "8/8 [==============================] - 1s 40ms/step - loss: 0.8448 - accuracy: 0.7673\n",
            "7/7 [==============================] - 0s 16ms/step - loss: 4.0105 - accuracy: 0.0000e+00\n",
            "8/8 [==============================] - 1s 42ms/step - loss: 0.9815 - accuracy: 0.6849\n",
            "7/7 [==============================] - 0s 18ms/step - loss: 4.9615 - accuracy: 0.0000e+00\n",
            "8/8 [==============================] - 1s 40ms/step - loss: 0.9355 - accuracy: 0.7147\n",
            "7/7 [==============================] - 0s 16ms/step - loss: 0.6598 - accuracy: 0.8250\n",
            "8/8 [==============================] - 1s 41ms/step - loss: 1.0777 - accuracy: 0.6130\n",
            "7/7 [==============================] - 0s 15ms/step - loss: 0.7383 - accuracy: 0.7750\n",
            "8/8 [==============================] - 1s 39ms/step - loss: 0.9699 - accuracy: 0.7076\n",
            "7/7 [==============================] - 0s 16ms/step - loss: 0.7888 - accuracy: 0.7500\n",
            "8/8 [==============================] - 1s 38ms/step - loss: 1.2916 - accuracy: 0.5351\n",
            "7/7 [==============================] - 0s 15ms/step - loss: 0.7805 - accuracy: 0.7750\n",
            "FedNodeList is  [1, 2, 5, 8, 9, 10, 11]\n",
            "Weights are... {1: array([0.12056216]), 2: array([0.14671344]), 5: array([0.13809789]), 8: array([0.14656508]), 9: array([0.14984768]), 10: array([0.15268363]), 11: array([0.14553012])}\n",
            "The Acc on each client... [0.4300000071525574, 0.699999988079071, 0.7450000047683716, 0.23499999940395355, 0.20499999821186066, 0.7400000095367432, 0.0, 0.0, 0.824999988079071, 0.7749999761581421, 0.75, 0.7749999761581421]\n",
            "7/7 [==============================] - 0s 15ms/step - loss: 0.6178 - accuracy: 0.8218\n",
            "EPOCHS 6 is starting...\n",
            "8/8 [==============================] - 1s 41ms/step - loss: 0.8843 - accuracy: 0.7207\n",
            "7/7 [==============================] - 0s 15ms/step - loss: 0.8549 - accuracy: 0.7550\n",
            "8/8 [==============================] - 1s 39ms/step - loss: 0.8276 - accuracy: 0.7607\n",
            "7/7 [==============================] - 0s 16ms/step - loss: 0.5078 - accuracy: 0.8650\n",
            "8/8 [==============================] - 1s 40ms/step - loss: 0.9420 - accuracy: 0.6767\n",
            "7/7 [==============================] - 0s 15ms/step - loss: 0.6771 - accuracy: 0.7600\n",
            "8/8 [==============================] - 1s 38ms/step - loss: 0.9235 - accuracy: 0.7561\n",
            "7/7 [==============================] - 0s 15ms/step - loss: 1.6249 - accuracy: 0.3250\n",
            "8/8 [==============================] - 1s 41ms/step - loss: 1.0162 - accuracy: 0.6644\n",
            "7/7 [==============================] - 0s 16ms/step - loss: 1.8799 - accuracy: 0.2400\n",
            "8/8 [==============================] - 1s 48ms/step - loss: 0.7960 - accuracy: 0.7843\n",
            "7/7 [==============================] - 0s 19ms/step - loss: 0.4688 - accuracy: 0.8800\n",
            "8/8 [==============================] - 1s 47ms/step - loss: 0.8171 - accuracy: 0.7458\n",
            "7/7 [==============================] - 0s 20ms/step - loss: 4.2426 - accuracy: 0.0000e+00\n",
            "8/8 [==============================] - 1s 41ms/step - loss: 0.9193 - accuracy: 0.7141\n",
            "7/7 [==============================] - 0s 16ms/step - loss: 4.7788 - accuracy: 0.0000e+00\n",
            "8/8 [==============================] - 1s 40ms/step - loss: 0.8766 - accuracy: 0.7180\n",
            "7/7 [==============================] - 0s 16ms/step - loss: 0.5634 - accuracy: 0.8400\n",
            "8/8 [==============================] - 1s 41ms/step - loss: 0.8625 - accuracy: 0.7154\n",
            "7/7 [==============================] - 0s 17ms/step - loss: 0.8987 - accuracy: 0.6800\n",
            "8/8 [==============================] - 1s 40ms/step - loss: 0.8397 - accuracy: 0.6984\n",
            "7/7 [==============================] - 0s 15ms/step - loss: 0.7625 - accuracy: 0.7600\n",
            "8/8 [==============================] - 1s 40ms/step - loss: 0.9570 - accuracy: 0.6744\n",
            "7/7 [==============================] - 0s 15ms/step - loss: 0.6283 - accuracy: 0.7950\n",
            "FedNodeList is  [0, 1, 2, 5, 8, 9, 10, 11]\n",
            "Weights are... {0: array([0.12949787]), 1: array([0.12597227]), 2: array([0.12227148]), 5: array([0.13575556]), 8: array([0.13547016]), 9: array([0.09850473]), 10: array([0.12397278]), 11: array([0.12855515])}\n",
            "The Acc on each client... [0.7549999952316284, 0.8650000095367432, 0.7599999904632568, 0.32499998807907104, 0.23999999463558197, 0.8799999952316284, 0.0, 0.0, 0.8399999737739563, 0.6800000071525574, 0.7599999904632568, 0.7950000166893005]\n",
            "7/7 [==============================] - 0s 15ms/step - loss: 0.5207 - accuracy: 0.8522\n",
            "EPOCHS 7 is starting...\n",
            "8/8 [==============================] - 1s 42ms/step - loss: 0.8164 - accuracy: 0.7115\n",
            "7/7 [==============================] - 0s 15ms/step - loss: 0.9541 - accuracy: 0.6200\n",
            "8/8 [==============================] - 1s 42ms/step - loss: 0.7603 - accuracy: 0.7610\n",
            "7/7 [==============================] - 0s 17ms/step - loss: 0.8012 - accuracy: 0.6850\n",
            "8/8 [==============================] - 1s 39ms/step - loss: 0.8419 - accuracy: 0.7253\n",
            "7/7 [==============================] - 0s 15ms/step - loss: 0.7123 - accuracy: 0.7750\n",
            "8/8 [==============================] - 1s 37ms/step - loss: 0.9133 - accuracy: 0.7454\n",
            "7/7 [==============================] - 0s 16ms/step - loss: 1.5532 - accuracy: 0.2150\n",
            "8/8 [==============================] - 1s 49ms/step - loss: 1.1382 - accuracy: 0.6648\n",
            "7/7 [==============================] - 0s 16ms/step - loss: 1.7394 - accuracy: 0.1850\n",
            "8/8 [==============================] - 1s 48ms/step - loss: 0.6460 - accuracy: 0.8099\n",
            "7/7 [==============================] - 0s 20ms/step - loss: 0.4457 - accuracy: 0.8700\n",
            "8/8 [==============================] - 1s 40ms/step - loss: 0.8183 - accuracy: 0.8051\n",
            "7/7 [==============================] - 0s 15ms/step - loss: 3.0069 - accuracy: 0.0700\n",
            "8/8 [==============================] - 1s 42ms/step - loss: 0.8396 - accuracy: 0.7008\n",
            "7/7 [==============================] - 0s 15ms/step - loss: 5.9687 - accuracy: 0.0100\n",
            "8/8 [==============================] - 1s 42ms/step - loss: 0.7483 - accuracy: 0.7482\n",
            "7/7 [==============================] - 0s 17ms/step - loss: 0.6511 - accuracy: 0.7850\n",
            "8/8 [==============================] - 1s 40ms/step - loss: 0.7749 - accuracy: 0.7364\n",
            "7/7 [==============================] - 0s 15ms/step - loss: 0.6991 - accuracy: 0.7550\n",
            "8/8 [==============================] - 1s 42ms/step - loss: 0.8517 - accuracy: 0.7078\n",
            "7/7 [==============================] - 0s 15ms/step - loss: 0.7104 - accuracy: 0.7750\n",
            "8/8 [==============================] - 1s 40ms/step - loss: 0.9935 - accuracy: 0.6532\n",
            "7/7 [==============================] - 0s 15ms/step - loss: 0.6525 - accuracy: 0.7950\n",
            "FedNodeList is  [0, 1, 2, 5, 8, 9, 10, 11]\n",
            "Weights are... {0: array([0.10863329]), 1: array([0.11236202]), 2: array([0.12073222]), 5: array([0.13476327]), 8: array([0.11552781]), 9: array([0.1380655]), 10: array([0.13671632]), 11: array([0.13319958])}\n",
            "The Acc on each client... [0.6200000047683716, 0.6850000023841858, 0.7749999761581421, 0.2150000035762787, 0.1850000023841858, 0.8700000047683716, 0.07000000029802322, 0.009999999776482582, 0.7850000262260437, 0.7549999952316284, 0.7749999761581421, 0.7950000166893005]\n",
            "7/7 [==============================] - 0s 15ms/step - loss: 0.5000 - accuracy: 0.8719\n",
            "EPOCHS 8 is starting...\n",
            "8/8 [==============================] - 1s 42ms/step - loss: 0.7498 - accuracy: 0.7102\n",
            "7/7 [==============================] - 0s 16ms/step - loss: 0.9231 - accuracy: 0.6500\n",
            "8/8 [==============================] - 1s 43ms/step - loss: 0.5979 - accuracy: 0.7967\n",
            "7/7 [==============================] - 0s 15ms/step - loss: 0.5937 - accuracy: 0.8200\n",
            "8/8 [==============================] - 1s 40ms/step - loss: 0.8709 - accuracy: 0.7319\n",
            "7/7 [==============================] - 0s 15ms/step - loss: 0.6396 - accuracy: 0.8050\n",
            "8/8 [==============================] - 1s 39ms/step - loss: 0.7547 - accuracy: 0.7836\n",
            "7/7 [==============================] - 0s 15ms/step - loss: 1.3558 - accuracy: 0.4550\n",
            "8/8 [==============================] - 1s 39ms/step - loss: 0.9389 - accuracy: 0.6915\n",
            "7/7 [==============================] - 0s 16ms/step - loss: 1.5833 - accuracy: 0.2750\n",
            "8/8 [==============================] - 1s 40ms/step - loss: 0.7013 - accuracy: 0.7718\n",
            "7/7 [==============================] - 0s 15ms/step - loss: 0.4994 - accuracy: 0.8450\n",
            "8/8 [==============================] - 1s 41ms/step - loss: 0.7221 - accuracy: 0.7804\n",
            "7/7 [==============================] - 0s 15ms/step - loss: 3.0597 - accuracy: 0.0400\n",
            "8/8 [==============================] - 1s 42ms/step - loss: 0.9285 - accuracy: 0.6832\n",
            "7/7 [==============================] - 0s 15ms/step - loss: 4.5258 - accuracy: 0.0000e+00\n",
            "8/8 [==============================] - 1s 41ms/step - loss: 0.7267 - accuracy: 0.7564\n",
            "7/7 [==============================] - 0s 16ms/step - loss: 0.6489 - accuracy: 0.7650\n",
            "8/8 [==============================] - 1s 40ms/step - loss: 0.6632 - accuracy: 0.7838\n",
            "7/7 [==============================] - 0s 15ms/step - loss: 0.8904 - accuracy: 0.6850\n",
            "8/8 [==============================] - 1s 38ms/step - loss: 0.7691 - accuracy: 0.7088\n",
            "7/7 [==============================] - 0s 15ms/step - loss: 0.4650 - accuracy: 0.8450\n",
            "8/8 [==============================] - 1s 39ms/step - loss: 0.8354 - accuracy: 0.7252\n",
            "7/7 [==============================] - 0s 15ms/step - loss: 0.5806 - accuracy: 0.8250\n",
            "FedNodeList is  [0, 1, 2, 5, 8, 9, 10, 11]\n",
            "Weights are... {0: array([0.10264944]), 1: array([0.13068234]), 2: array([0.13221047]), 5: array([0.13779915]), 8: array([0.12241203]), 9: array([0.10670141]), 10: array([0.14408009]), 11: array([0.12346507])}\n",
            "The Acc on each client... [0.6499999761581421, 0.8199999928474426, 0.8050000071525574, 0.45500001311302185, 0.2750000059604645, 0.8450000286102295, 0.03999999910593033, 0.0, 0.7649999856948853, 0.6850000023841858, 0.8450000286102295, 0.824999988079071]\n",
            "7/7 [==============================] - 0s 15ms/step - loss: 0.4626 - accuracy: 0.8536\n",
            "EPOCHS 9 is starting...\n",
            "8/8 [==============================] - 1s 46ms/step - loss: 0.6808 - accuracy: 0.7638\n",
            "7/7 [==============================] - 0s 18ms/step - loss: 0.8068 - accuracy: 0.7000\n",
            "8/8 [==============================] - 1s 47ms/step - loss: 0.5975 - accuracy: 0.7945\n",
            "7/7 [==============================] - 0s 19ms/step - loss: 0.4821 - accuracy: 0.8500\n",
            "8/8 [==============================] - 1s 49ms/step - loss: 0.7755 - accuracy: 0.7440\n",
            "7/7 [==============================] - 0s 20ms/step - loss: 0.6991 - accuracy: 0.7400\n",
            "8/8 [==============================] - 1s 38ms/step - loss: 0.7823 - accuracy: 0.7580\n",
            "7/7 [==============================] - 0s 14ms/step - loss: 1.2775 - accuracy: 0.4550\n",
            "8/8 [==============================] - 1s 40ms/step - loss: 0.7620 - accuracy: 0.7883\n",
            "7/7 [==============================] - 0s 20ms/step - loss: 1.3458 - accuracy: 0.4300\n",
            "8/8 [==============================] - 1s 40ms/step - loss: 0.5851 - accuracy: 0.8311\n",
            "7/7 [==============================] - 0s 13ms/step - loss: 0.5369 - accuracy: 0.8250\n",
            "8/8 [==============================] - 1s 41ms/step - loss: 0.7364 - accuracy: 0.7431\n",
            "7/7 [==============================] - 0s 14ms/step - loss: 3.1487 - accuracy: 0.0350\n",
            "8/8 [==============================] - 1s 40ms/step - loss: 0.7296 - accuracy: 0.7500\n",
            "7/7 [==============================] - 0s 14ms/step - loss: 3.1759 - accuracy: 0.0600\n",
            "8/8 [==============================] - 1s 42ms/step - loss: 0.6984 - accuracy: 0.7732\n",
            "7/7 [==============================] - 0s 14ms/step - loss: 0.5124 - accuracy: 0.8400\n",
            "8/8 [==============================] - 1s 40ms/step - loss: 0.6597 - accuracy: 0.7817\n",
            "7/7 [==============================] - 0s 14ms/step - loss: 0.7838 - accuracy: 0.7500\n",
            "8/8 [==============================] - 1s 38ms/step - loss: 0.7093 - accuracy: 0.7381\n",
            "7/7 [==============================] - 0s 14ms/step - loss: 0.4392 - accuracy: 0.8800\n",
            "8/8 [==============================] - 1s 39ms/step - loss: 0.8424 - accuracy: 0.6876\n",
            "7/7 [==============================] - 0s 14ms/step - loss: 0.6427 - accuracy: 0.7850\n",
            "FedNodeList is  [0, 1, 2, 5, 8, 9, 10, 11]\n",
            "Weights are... {0: array([0.12229312]), 1: array([0.13870779]), 2: array([0.11086068]), 5: array([0.10782473]), 8: array([0.13340687]), 9: array([0.12153609]), 10: array([0.15220598]), 11: array([0.11316474])}\n",
            "The Acc on each client... [0.699999988079071, 0.8500000238418579, 0.7400000095367432, 0.45500001311302185, 0.4300000071525574, 0.824999988079071, 0.03500000014901161, 0.05999999865889549, 0.8399999737739563, 0.75, 0.8799999952316284, 0.7850000262260437]\n",
            "7/7 [==============================] - 0s 14ms/step - loss: 0.4284 - accuracy: 0.8720\n",
            "EPOCHS 10 is starting...\n",
            "8/8 [==============================] - 1s 42ms/step - loss: 0.7707 - accuracy: 0.7558\n",
            "7/7 [==============================] - 0s 19ms/step - loss: 0.6812 - accuracy: 0.8000\n",
            "8/8 [==============================] - 1s 47ms/step - loss: 0.5175 - accuracy: 0.8393\n",
            "7/7 [==============================] - 0s 16ms/step - loss: 0.3693 - accuracy: 0.8800\n",
            "8/8 [==============================] - 1s 42ms/step - loss: 0.7793 - accuracy: 0.6974\n",
            "7/7 [==============================] - 0s 14ms/step - loss: 0.4499 - accuracy: 0.8750\n",
            "8/8 [==============================] - 1s 42ms/step - loss: 0.9133 - accuracy: 0.7094\n",
            "7/7 [==============================] - 0s 13ms/step - loss: 1.5115 - accuracy: 0.3900\n",
            "8/8 [==============================] - 1s 40ms/step - loss: 0.7665 - accuracy: 0.7650\n",
            "7/7 [==============================] - 0s 14ms/step - loss: 1.4099 - accuracy: 0.3150\n",
            "8/8 [==============================] - 1s 40ms/step - loss: 0.5996 - accuracy: 0.8526\n",
            "7/7 [==============================] - 0s 13ms/step - loss: 0.4449 - accuracy: 0.8650\n",
            "8/8 [==============================] - 1s 41ms/step - loss: 0.7260 - accuracy: 0.7812\n",
            "7/7 [==============================] - 0s 14ms/step - loss: 2.4365 - accuracy: 0.1100\n",
            "8/8 [==============================] - 1s 41ms/step - loss: 0.7868 - accuracy: 0.7698\n",
            "7/7 [==============================] - 0s 14ms/step - loss: 3.5433 - accuracy: 0.0600\n",
            "8/8 [==============================] - 1s 39ms/step - loss: 0.5685 - accuracy: 0.8305\n",
            "7/7 [==============================] - 0s 14ms/step - loss: 0.5224 - accuracy: 0.8250\n",
            "8/8 [==============================] - 1s 42ms/step - loss: 0.5891 - accuracy: 0.7899\n",
            "7/7 [==============================] - 0s 14ms/step - loss: 0.6218 - accuracy: 0.8050\n",
            "8/8 [==============================] - 1s 43ms/step - loss: 0.6327 - accuracy: 0.7866\n",
            "7/7 [==============================] - 0s 16ms/step - loss: 0.6943 - accuracy: 0.7700\n",
            "8/8 [==============================] - 1s 43ms/step - loss: 0.7456 - accuracy: 0.7615\n",
            "7/7 [==============================] - 0s 21ms/step - loss: 0.4436 - accuracy: 0.8700\n",
            "FedNodeList is  [0, 1, 2, 5, 8, 9, 10, 11]\n",
            "Weights are... {0: array([0.12312937]), 1: array([0.13863155]), 2: array([0.12806383]), 5: array([0.11662614]), 8: array([0.11981198]), 9: array([0.12614926]), 10: array([0.1223777]), 11: array([0.12521018])}\n",
            "The Acc on each client... [0.800000011920929, 0.8799999952316284, 0.875, 0.38999998569488525, 0.3149999976158142, 0.8650000095367432, 0.10999999940395355, 0.05999999865889549, 0.824999988079071, 0.8050000071525574, 0.7699999809265137, 0.8700000047683716]\n",
            "7/7 [==============================] - 0s 19ms/step - loss: 0.3656 - accuracy: 0.9043\n",
            "EPOCHS 11 is starting...\n",
            "8/8 [==============================] - 1s 50ms/step - loss: 0.8603 - accuracy: 0.6571\n",
            "7/7 [==============================] - 0s 20ms/step - loss: 0.7169 - accuracy: 0.7600\n",
            "8/8 [==============================] - 1s 41ms/step - loss: 0.5005 - accuracy: 0.8258\n",
            "7/7 [==============================] - 0s 14ms/step - loss: 0.5113 - accuracy: 0.8550\n",
            "8/8 [==============================] - 1s 42ms/step - loss: 0.7099 - accuracy: 0.7535\n",
            "7/7 [==============================] - 0s 14ms/step - loss: 0.4366 - accuracy: 0.8550\n",
            "8/8 [==============================] - 1s 43ms/step - loss: 0.8770 - accuracy: 0.6806\n",
            "7/7 [==============================] - 0s 14ms/step - loss: 1.4037 - accuracy: 0.3300\n",
            "8/8 [==============================] - 1s 41ms/step - loss: 0.8759 - accuracy: 0.6982\n",
            "7/7 [==============================] - 0s 14ms/step - loss: 1.3525 - accuracy: 0.4000\n",
            "8/8 [==============================] - 1s 45ms/step - loss: 0.4315 - accuracy: 0.8706\n",
            "7/7 [==============================] - 0s 14ms/step - loss: 0.3449 - accuracy: 0.8850\n",
            "8/8 [==============================] - 1s 42ms/step - loss: 0.8268 - accuracy: 0.7570\n",
            "7/7 [==============================] - 0s 13ms/step - loss: 2.9670 - accuracy: 0.0550\n",
            "8/8 [==============================] - 1s 41ms/step - loss: 0.8611 - accuracy: 0.7039\n",
            "7/7 [==============================] - 0s 13ms/step - loss: 5.4866 - accuracy: 0.0000e+00\n",
            "8/8 [==============================] - 1s 42ms/step - loss: 0.5781 - accuracy: 0.7847\n",
            "7/7 [==============================] - 0s 14ms/step - loss: 0.5451 - accuracy: 0.8150\n",
            "8/8 [==============================] - 1s 44ms/step - loss: 0.4927 - accuracy: 0.8026\n",
            "7/7 [==============================] - 0s 19ms/step - loss: 1.0478 - accuracy: 0.6600\n",
            "8/8 [==============================] - 1s 42ms/step - loss: 0.5376 - accuracy: 0.8023\n",
            "7/7 [==============================] - 0s 18ms/step - loss: 0.6877 - accuracy: 0.7500\n",
            "8/8 [==============================] - 1s 49ms/step - loss: 0.8657 - accuracy: 0.6752\n",
            "7/7 [==============================] - 0s 21ms/step - loss: 0.4308 - accuracy: 0.8700\n",
            "FedNodeList is  [0, 1, 2, 5, 8, 9, 10, 11]\n",
            "Weights are... {0: array([0.12417636]), 1: array([0.13600432]), 2: array([0.13819277]), 5: array([0.12254401]), 8: array([0.12830456]), 9: array([0.10268009]), 10: array([0.11286379]), 11: array([0.1352341])}\n",
            "The Acc on each client... [0.7599999904632568, 0.8550000190734863, 0.8550000190734863, 0.33000001311302185, 0.4000000059604645, 0.8849999904632568, 0.054999999701976776, 0.0, 0.8149999976158142, 0.6600000262260437, 0.75, 0.8700000047683716]\n",
            "7/7 [==============================] - 1s 14ms/step - loss: 0.3561 - accuracy: 0.8977\n",
            "EPOCHS 12 is starting...\n",
            "8/8 [==============================] - 1s 41ms/step - loss: 0.5608 - accuracy: 0.7996\n",
            "7/7 [==============================] - 0s 15ms/step - loss: 1.0072 - accuracy: 0.6250\n",
            "8/8 [==============================] - 1s 45ms/step - loss: 0.5116 - accuracy: 0.8138\n",
            "7/7 [==============================] - 0s 15ms/step - loss: 0.5476 - accuracy: 0.8400\n",
            "8/8 [==============================] - 1s 41ms/step - loss: 0.6632 - accuracy: 0.7631\n",
            "7/7 [==============================] - 0s 14ms/step - loss: 0.4646 - accuracy: 0.8500\n",
            "8/8 [==============================] - 1s 43ms/step - loss: 0.8649 - accuracy: 0.7150\n",
            "7/7 [==============================] - 0s 14ms/step - loss: 1.4891 - accuracy: 0.3650\n",
            "8/8 [==============================] - 1s 41ms/step - loss: 0.7501 - accuracy: 0.7094\n",
            "7/7 [==============================] - 0s 13ms/step - loss: 1.8220 - accuracy: 0.2550\n",
            "8/8 [==============================] - 1s 40ms/step - loss: 0.5043 - accuracy: 0.8409\n",
            "7/7 [==============================] - 0s 14ms/step - loss: 0.4587 - accuracy: 0.8500\n",
            "8/8 [==============================] - 1s 39ms/step - loss: 0.6378 - accuracy: 0.8010\n",
            "7/7 [==============================] - 0s 14ms/step - loss: 2.3347 - accuracy: 0.1650\n",
            "8/8 [==============================] - 1s 43ms/step - loss: 0.6492 - accuracy: 0.7377\n",
            "7/7 [==============================] - 0s 14ms/step - loss: 5.3757 - accuracy: 0.0500\n",
            "8/8 [==============================] - 1s 43ms/step - loss: 0.6014 - accuracy: 0.7923\n",
            "7/7 [==============================] - 0s 19ms/step - loss: 0.5515 - accuracy: 0.7950\n",
            "8/8 [==============================] - 1s 48ms/step - loss: 0.5794 - accuracy: 0.7496\n",
            "7/7 [==============================] - 0s 19ms/step - loss: 0.6254 - accuracy: 0.8000\n",
            "8/8 [==============================] - 1s 41ms/step - loss: 0.4689 - accuracy: 0.8548\n",
            "7/7 [==============================] - 0s 19ms/step - loss: 0.5463 - accuracy: 0.8250\n",
            "8/8 [==============================] - 1s 41ms/step - loss: 0.6919 - accuracy: 0.7469\n",
            "7/7 [==============================] - 0s 16ms/step - loss: 0.5324 - accuracy: 0.8300\n",
            "FedNodeList is  [0, 1, 2, 5, 8, 9, 10, 11]\n",
            "Weights are... {0: array([0.0945738]), 1: array([0.12671662]), 2: array([0.13717697]), 5: array([0.12713521]), 8: array([0.12378146]), 9: array([0.12736201]), 10: array([0.13637312]), 11: array([0.1268808])}\n",
            "The Acc on each client... [0.625, 0.8399999737739563, 0.8500000238418579, 0.36500000953674316, 0.2549999952316284, 0.8500000238418579, 0.16500000655651093, 0.05000000074505806, 0.7950000166893005, 0.800000011920929, 0.824999988079071, 0.8299999833106995]\n",
            "7/7 [==============================] - 0s 15ms/step - loss: 0.3710 - accuracy: 0.8753\n",
            "EPOCHS 13 is starting...\n",
            "8/8 [==============================] - 1s 42ms/step - loss: 0.6489 - accuracy: 0.7608\n",
            "7/7 [==============================] - 0s 16ms/step - loss: 0.6275 - accuracy: 0.7900\n",
            "8/8 [==============================] - 1s 42ms/step - loss: 0.3824 - accuracy: 0.8668\n",
            "7/7 [==============================] - 0s 16ms/step - loss: 0.4428 - accuracy: 0.8500\n",
            "8/8 [==============================] - 1s 43ms/step - loss: 0.6630 - accuracy: 0.7956\n",
            "7/7 [==============================] - 0s 15ms/step - loss: 0.4973 - accuracy: 0.8200\n",
            "8/8 [==============================] - 1s 43ms/step - loss: 0.7335 - accuracy: 0.7738\n",
            "7/7 [==============================] - 0s 15ms/step - loss: 1.1548 - accuracy: 0.5550\n",
            "8/8 [==============================] - 1s 41ms/step - loss: 0.7353 - accuracy: 0.7481\n",
            "7/7 [==============================] - 0s 16ms/step - loss: 1.4646 - accuracy: 0.3750\n",
            "8/8 [==============================] - 1s 44ms/step - loss: 0.4550 - accuracy: 0.8719\n",
            "7/7 [==============================] - 0s 16ms/step - loss: 0.5160 - accuracy: 0.8450\n",
            "8/8 [==============================] - 1s 40ms/step - loss: 0.6068 - accuracy: 0.7849\n",
            "7/7 [==============================] - 0s 16ms/step - loss: 2.8556 - accuracy: 0.1000\n",
            "8/8 [==============================] - 1s 43ms/step - loss: 0.7277 - accuracy: 0.7752\n",
            "7/7 [==============================] - 0s 19ms/step - loss: 4.8025 - accuracy: 0.0050\n",
            "8/8 [==============================] - 1s 46ms/step - loss: 0.6897 - accuracy: 0.7531\n",
            "7/7 [==============================] - 0s 19ms/step - loss: 0.4940 - accuracy: 0.8250\n",
            "8/8 [==============================] - 1s 41ms/step - loss: 0.5453 - accuracy: 0.7964\n",
            "7/7 [==============================] - 0s 13ms/step - loss: 0.7000 - accuracy: 0.7600\n",
            "8/8 [==============================] - 1s 39ms/step - loss: 0.6229 - accuracy: 0.7899\n",
            "7/7 [==============================] - 0s 16ms/step - loss: 0.5018 - accuracy: 0.8600\n",
            "8/8 [==============================] - 1s 41ms/step - loss: 0.7213 - accuracy: 0.7848\n",
            "7/7 [==============================] - 0s 13ms/step - loss: 0.4811 - accuracy: 0.8700\n",
            "FedNodeList is  [0, 1, 2, 5, 8, 9, 10, 11]\n",
            "Weights are... {0: array([0.12580471]), 1: array([0.12234316]), 2: array([0.11265169]), 5: array([0.12821043]), 8: array([0.13530561]), 9: array([0.11455638]), 10: array([0.12702185]), 11: array([0.13410618])}\n",
            "The Acc on each client... [0.7900000214576721, 0.8500000238418579, 0.8199999928474426, 0.5550000071525574, 0.375, 0.8450000286102295, 0.10000000149011612, 0.004999999888241291, 0.824999988079071, 0.7599999904632568, 0.8600000143051147, 0.8700000047683716]\n",
            "7/7 [==============================] - 0s 14ms/step - loss: 0.3184 - accuracy: 0.9057\n",
            "EPOCHS 14 is starting...\n",
            "8/8 [==============================] - 1s 40ms/step - loss: 0.6900 - accuracy: 0.7808\n",
            "7/7 [==============================] - 0s 13ms/step - loss: 0.8797 - accuracy: 0.6800\n",
            "8/8 [==============================] - 1s 43ms/step - loss: 0.4257 - accuracy: 0.8721\n",
            "7/7 [==============================] - 0s 14ms/step - loss: 0.3203 - accuracy: 0.9050\n",
            "8/8 [==============================] - 1s 42ms/step - loss: 0.7123 - accuracy: 0.7589\n",
            "7/7 [==============================] - 0s 14ms/step - loss: 0.4109 - accuracy: 0.8800\n",
            "8/8 [==============================] - 1s 42ms/step - loss: 0.7228 - accuracy: 0.7418\n",
            "7/7 [==============================] - 0s 14ms/step - loss: 1.2801 - accuracy: 0.4450\n",
            "8/8 [==============================] - 1s 41ms/step - loss: 0.7674 - accuracy: 0.7388\n",
            "7/7 [==============================] - 0s 14ms/step - loss: 1.3282 - accuracy: 0.4300\n",
            "8/8 [==============================] - 1s 42ms/step - loss: 0.4785 - accuracy: 0.8709\n",
            "7/7 [==============================] - 0s 15ms/step - loss: 0.4773 - accuracy: 0.8450\n",
            "8/8 [==============================] - 1s 43ms/step - loss: 0.7073 - accuracy: 0.8227\n",
            "7/7 [==============================] - 0s 16ms/step - loss: 3.2263 - accuracy: 0.0650\n",
            "8/8 [==============================] - 1s 45ms/step - loss: 0.6540 - accuracy: 0.8043\n",
            "7/7 [==============================] - 0s 17ms/step - loss: 3.7941 - accuracy: 0.0250\n",
            "8/8 [==============================] - 1s 44ms/step - loss: 0.5423 - accuracy: 0.8221\n",
            "7/7 [==============================] - 0s 16ms/step - loss: 0.4344 - accuracy: 0.8650\n",
            "8/8 [==============================] - 1s 43ms/step - loss: 0.4668 - accuracy: 0.8320\n",
            "7/7 [==============================] - 0s 18ms/step - loss: 0.5690 - accuracy: 0.8150\n",
            "8/8 [==============================] - 1s 43ms/step - loss: 0.4950 - accuracy: 0.8184\n",
            "7/7 [==============================] - 0s 17ms/step - loss: 0.5733 - accuracy: 0.7900\n",
            "8/8 [==============================] - 1s 43ms/step - loss: 0.6242 - accuracy: 0.8048\n",
            "7/7 [==============================] - 0s 16ms/step - loss: 0.5858 - accuracy: 0.8100\n",
            "FedNodeList is  [0, 1, 2, 5, 8, 9, 10, 11]\n",
            "Weights are... {0: array([0.0980617]), 1: array([0.14252249]), 2: array([0.14186928]), 5: array([0.10943272]), 8: array([0.13545923]), 9: array([0.11608002]), 10: array([0.13143468]), 11: array([0.12513989])}\n",
            "The Acc on each client... [0.6800000071525574, 0.9049999713897705, 0.8799999952316284, 0.4449999928474426, 0.4300000071525574, 0.8450000286102295, 0.06499999761581421, 0.02500000037252903, 0.8650000095367432, 0.8149999976158142, 0.7900000214576721, 0.8100000023841858]\n",
            "7/7 [==============================] - 0s 16ms/step - loss: 0.3059 - accuracy: 0.9009\n",
            "EPOCHS 15 is starting...\n",
            "8/8 [==============================] - 1s 40ms/step - loss: 0.6678 - accuracy: 0.7747\n",
            "7/7 [==============================] - 0s 15ms/step - loss: 0.8387 - accuracy: 0.6800\n",
            "8/8 [==============================] - 1s 47ms/step - loss: 0.4751 - accuracy: 0.8706\n",
            "7/7 [==============================] - 0s 21ms/step - loss: 0.4475 - accuracy: 0.8700\n",
            "8/8 [==============================] - 1s 46ms/step - loss: 0.6142 - accuracy: 0.8119\n",
            "7/7 [==============================] - 0s 20ms/step - loss: 0.4038 - accuracy: 0.8400\n",
            "8/8 [==============================] - 1s 58ms/step - loss: 0.8356 - accuracy: 0.7233\n",
            "7/7 [==============================] - 0s 19ms/step - loss: 1.6313 - accuracy: 0.2950\n",
            "8/8 [==============================] - 1s 44ms/step - loss: 0.7500 - accuracy: 0.7363\n",
            "7/7 [==============================] - 0s 19ms/step - loss: 1.2222 - accuracy: 0.4350\n",
            "8/8 [==============================] - 1s 44ms/step - loss: 0.4350 - accuracy: 0.8768\n",
            "7/7 [==============================] - 0s 19ms/step - loss: 0.4145 - accuracy: 0.8650\n",
            "8/8 [==============================] - 1s 41ms/step - loss: 0.6477 - accuracy: 0.8165\n",
            "7/7 [==============================] - 0s 17ms/step - loss: 1.9858 - accuracy: 0.2450\n",
            "8/8 [==============================] - 1s 41ms/step - loss: 0.6583 - accuracy: 0.8180\n",
            "7/7 [==============================] - 0s 16ms/step - loss: 3.5373 - accuracy: 0.1250\n",
            "8/8 [==============================] - 1s 42ms/step - loss: 0.5743 - accuracy: 0.7932\n",
            "7/7 [==============================] - 0s 18ms/step - loss: 0.3356 - accuracy: 0.9000\n",
            "8/8 [==============================] - 1s 41ms/step - loss: 0.5267 - accuracy: 0.8151\n",
            "7/7 [==============================] - 0s 16ms/step - loss: 0.3549 - accuracy: 0.8900\n",
            "8/8 [==============================] - 1s 45ms/step - loss: 0.5248 - accuracy: 0.7860\n",
            "7/7 [==============================] - 0s 17ms/step - loss: 0.3783 - accuracy: 0.9050\n",
            "8/8 [==============================] - 1s 42ms/step - loss: 0.6164 - accuracy: 0.7746\n",
            "7/7 [==============================] - 0s 16ms/step - loss: 0.7299 - accuracy: 0.7450\n",
            "FedNodeList is  [0, 1, 2, 5, 8, 9, 10, 11]\n",
            "Weights are... {0: array([0.10019097]), 1: array([0.12884237]), 2: array([0.12462401]), 5: array([0.11724793]), 8: array([0.14143952]), 9: array([0.13963339]), 10: array([0.13341603]), 11: array([0.11460578])}\n",
            "The Acc on each client... [0.6800000071525574, 0.8700000047683716, 0.8399999737739563, 0.29499998688697815, 0.4350000023841858, 0.8650000095367432, 0.24500000476837158, 0.125, 0.8999999761581421, 0.8899999856948853, 0.9049999713897705, 0.7450000047683716]\n",
            "7/7 [==============================] - 0s 17ms/step - loss: 0.2869 - accuracy: 0.9190\n",
            "EPOCHS 16 is starting...\n",
            "8/8 [==============================] - 1s 48ms/step - loss: 0.6173 - accuracy: 0.7863\n",
            "7/7 [==============================] - 0s 17ms/step - loss: 0.7888 - accuracy: 0.7250\n",
            "8/8 [==============================] - 1s 50ms/step - loss: 0.4524 - accuracy: 0.8543\n",
            "7/7 [==============================] - 0s 20ms/step - loss: 0.5105 - accuracy: 0.8200\n",
            "8/8 [==============================] - 1s 54ms/step - loss: 0.4715 - accuracy: 0.8514\n",
            "7/7 [==============================] - 0s 22ms/step - loss: 0.5321 - accuracy: 0.8050\n",
            "8/8 [==============================] - 1s 48ms/step - loss: 0.8291 - accuracy: 0.7027\n",
            "7/7 [==============================] - 0s 19ms/step - loss: 1.4871 - accuracy: 0.3450\n",
            "8/8 [==============================] - 1s 43ms/step - loss: 0.7326 - accuracy: 0.7697\n",
            "7/7 [==============================] - 0s 14ms/step - loss: 1.5291 - accuracy: 0.3550\n",
            "8/8 [==============================] - 1s 44ms/step - loss: 0.3928 - accuracy: 0.8812\n",
            "7/7 [==============================] - 0s 16ms/step - loss: 0.2889 - accuracy: 0.9200\n",
            "8/8 [==============================] - 1s 43ms/step - loss: 0.7029 - accuracy: 0.7599\n",
            "7/7 [==============================] - 0s 16ms/step - loss: 2.8044 - accuracy: 0.1050\n",
            "8/8 [==============================] - 1s 45ms/step - loss: 0.7263 - accuracy: 0.7136\n",
            "7/7 [==============================] - 0s 14ms/step - loss: 3.7480 - accuracy: 0.0700\n",
            "8/8 [==============================] - 1s 42ms/step - loss: 0.4803 - accuracy: 0.8327\n",
            "7/7 [==============================] - 0s 14ms/step - loss: 0.5005 - accuracy: 0.8250\n",
            "8/8 [==============================] - 1s 42ms/step - loss: 0.4900 - accuracy: 0.8143\n",
            "7/7 [==============================] - 0s 16ms/step - loss: 0.6795 - accuracy: 0.8050\n",
            "8/8 [==============================] - 1s 41ms/step - loss: 0.5143 - accuracy: 0.8114\n",
            "7/7 [==============================] - 0s 14ms/step - loss: 0.3610 - accuracy: 0.8850\n",
            "8/8 [==============================] - 1s 42ms/step - loss: 0.6436 - accuracy: 0.7888\n",
            "7/7 [==============================] - 0s 15ms/step - loss: 0.5331 - accuracy: 0.8200\n",
            "FedNodeList is  [0, 1, 2, 5, 8, 9, 10, 11]\n",
            "Weights are... {0: array([0.11732979]), 1: array([0.11532414]), 2: array([0.11950516]), 5: array([0.11773416]), 8: array([0.12820189]), 9: array([0.1270279]), 10: array([0.1439733]), 11: array([0.13090367])}\n",
            "The Acc on each client... [0.7250000238418579, 0.8199999928474426, 0.8050000071525574, 0.3449999988079071, 0.35499998927116394, 0.9200000166893005, 0.10499999672174454, 0.07000000029802322, 0.824999988079071, 0.8050000071525574, 0.8849999904632568, 0.8199999928474426]\n",
            "7/7 [==============================] - 0s 13ms/step - loss: 0.2970 - accuracy: 0.8890\n",
            "EPOCHS 17 is starting...\n",
            "8/8 [==============================] - 1s 48ms/step - loss: 0.5515 - accuracy: 0.7858\n",
            "7/7 [==============================] - 0s 14ms/step - loss: 0.5794 - accuracy: 0.8000\n",
            "8/8 [==============================] - 1s 45ms/step - loss: 0.3680 - accuracy: 0.8934\n",
            "7/7 [==============================] - 0s 21ms/step - loss: 0.3509 - accuracy: 0.8900\n",
            "8/8 [==============================] - 1s 42ms/step - loss: 0.4904 - accuracy: 0.7989\n",
            "7/7 [==============================] - 0s 14ms/step - loss: 0.3964 - accuracy: 0.8600\n",
            "8/8 [==============================] - 1s 41ms/step - loss: 0.6724 - accuracy: 0.7971\n",
            "7/7 [==============================] - 0s 15ms/step - loss: 1.1405 - accuracy: 0.4900\n",
            "8/8 [==============================] - 1s 43ms/step - loss: 0.6509 - accuracy: 0.7791\n",
            "7/7 [==============================] - 0s 15ms/step - loss: 1.3564 - accuracy: 0.4500\n",
            "8/8 [==============================] - 1s 42ms/step - loss: 0.4006 - accuracy: 0.8788\n",
            "7/7 [==============================] - 0s 14ms/step - loss: 0.3197 - accuracy: 0.8950\n",
            "8/8 [==============================] - 1s 45ms/step - loss: 0.6358 - accuracy: 0.8092\n",
            "7/7 [==============================] - 0s 15ms/step - loss: 2.7625 - accuracy: 0.1500\n",
            "8/8 [==============================] - 1s 46ms/step - loss: 0.5580 - accuracy: 0.8125\n",
            "7/7 [==============================] - 0s 14ms/step - loss: 3.0751 - accuracy: 0.1050\n",
            "8/8 [==============================] - 1s 46ms/step - loss: 0.4451 - accuracy: 0.8331\n",
            "7/7 [==============================] - 0s 16ms/step - loss: 0.3881 - accuracy: 0.8750\n",
            "8/8 [==============================] - 1s 46ms/step - loss: 0.4317 - accuracy: 0.8369\n",
            "7/7 [==============================] - 0s 21ms/step - loss: 0.4747 - accuracy: 0.8700\n",
            "8/8 [==============================] - 1s 47ms/step - loss: 0.4688 - accuracy: 0.8269\n",
            "7/7 [==============================] - 0s 22ms/step - loss: 0.3987 - accuracy: 0.8500\n",
            "8/8 [==============================] - 1s 52ms/step - loss: 0.5964 - accuracy: 0.7543\n",
            "7/7 [==============================] - 0s 19ms/step - loss: 0.4972 - accuracy: 0.8350\n",
            "FedNodeList is  [0, 1, 2, 5, 8, 9, 10, 11]\n",
            "Weights are... {0: array([0.12326871]), 1: array([0.11580486]), 2: array([0.11444551]), 5: array([0.11573446]), 8: array([0.13633084]), 9: array([0.12940473]), 10: array([0.14299716]), 11: array([0.12201373])}\n",
            "The Acc on each client... [0.800000011920929, 0.8899999856948853, 0.8600000143051147, 0.49000000953674316, 0.44999998807907104, 0.8949999809265137, 0.15000000596046448, 0.10499999672174454, 0.875, 0.8700000047683716, 0.8500000238418579, 0.8349999785423279]\n",
            "7/7 [==============================] - 0s 22ms/step - loss: 0.2547 - accuracy: 0.9121\n",
            "EPOCHS 18 is starting...\n",
            "8/8 [==============================] - 1s 49ms/step - loss: 0.5941 - accuracy: 0.7725\n",
            "7/7 [==============================] - 0s 15ms/step - loss: 0.7172 - accuracy: 0.7500\n",
            "8/8 [==============================] - 1s 51ms/step - loss: 0.3835 - accuracy: 0.8930\n",
            "7/7 [==============================] - 0s 14ms/step - loss: 0.4017 - accuracy: 0.8450\n",
            "8/8 [==============================] - 1s 49ms/step - loss: 0.4188 - accuracy: 0.8570\n",
            "7/7 [==============================] - 0s 14ms/step - loss: 0.4278 - accuracy: 0.8400\n",
            "8/8 [==============================] - 1s 49ms/step - loss: 0.8045 - accuracy: 0.7565\n",
            "7/7 [==============================] - 0s 15ms/step - loss: 1.4542 - accuracy: 0.3900\n",
            "8/8 [==============================] - 1s 52ms/step - loss: 0.6211 - accuracy: 0.7934\n",
            "7/7 [==============================] - 0s 15ms/step - loss: 1.7240 - accuracy: 0.3750\n",
            "8/8 [==============================] - 1s 50ms/step - loss: 0.3594 - accuracy: 0.8955\n",
            "7/7 [==============================] - 0s 15ms/step - loss: 0.4598 - accuracy: 0.8550\n",
            "8/8 [==============================] - 1s 46ms/step - loss: 0.6569 - accuracy: 0.7957\n",
            "7/7 [==============================] - 0s 14ms/step - loss: 2.0286 - accuracy: 0.1600\n",
            "8/8 [==============================] - 1s 48ms/step - loss: 0.7643 - accuracy: 0.7476\n",
            "7/7 [==============================] - 0s 15ms/step - loss: 3.9756 - accuracy: 0.0750\n",
            "8/8 [==============================] - 1s 44ms/step - loss: 0.4338 - accuracy: 0.8373\n",
            "7/7 [==============================] - 0s 15ms/step - loss: 0.2843 - accuracy: 0.9200\n",
            "8/8 [==============================] - 1s 47ms/step - loss: 0.4600 - accuracy: 0.8401\n",
            "7/7 [==============================] - 0s 16ms/step - loss: 0.4520 - accuracy: 0.8550\n",
            "8/8 [==============================] - 1s 55ms/step - loss: 0.4894 - accuracy: 0.8000\n",
            "7/7 [==============================] - 0s 20ms/step - loss: 0.4969 - accuracy: 0.8400\n",
            "8/8 [==============================] - 1s 42ms/step - loss: 0.5659 - accuracy: 0.8140\n",
            "7/7 [==============================] - 0s 16ms/step - loss: 0.5241 - accuracy: 0.8500\n",
            "FedNodeList is  [0, 1, 2, 5, 8, 9, 10, 11]\n",
            "Weights are... {0: array([0.10363901]), 1: array([0.12688306]), 2: array([0.1387598]), 5: array([0.10726874]), 8: array([0.12686569]), 9: array([0.14320261]), 10: array([0.13040736]), 11: array([0.12297371])}\n",
            "The Acc on each client... [0.75, 0.8450000286102295, 0.8399999737739563, 0.38999998569488525, 0.375, 0.8550000190734863, 0.1599999964237213, 0.07500000298023224, 0.9200000166893005, 0.8550000190734863, 0.8399999737739563, 0.8500000238418579]\n",
            "7/7 [==============================] - 0s 15ms/step - loss: 0.2565 - accuracy: 0.9288\n",
            "EPOCHS 19 is starting...\n",
            "8/8 [==============================] - 1s 44ms/step - loss: 0.5195 - accuracy: 0.8206\n",
            "7/7 [==============================] - 0s 14ms/step - loss: 0.6081 - accuracy: 0.7750\n",
            "8/8 [==============================] - 1s 42ms/step - loss: 0.3706 - accuracy: 0.8854\n",
            "7/7 [==============================] - 0s 14ms/step - loss: 0.3267 - accuracy: 0.8900\n",
            "8/8 [==============================] - 1s 42ms/step - loss: 0.5216 - accuracy: 0.8178\n",
            "7/7 [==============================] - 0s 14ms/step - loss: 0.3305 - accuracy: 0.8950\n",
            "8/8 [==============================] - 1s 45ms/step - loss: 0.7048 - accuracy: 0.7341\n",
            "7/7 [==============================] - 0s 15ms/step - loss: 1.6281 - accuracy: 0.3900\n",
            "8/8 [==============================] - 1s 48ms/step - loss: 0.8072 - accuracy: 0.7693\n",
            "7/7 [==============================] - 0s 15ms/step - loss: 1.1086 - accuracy: 0.4850\n",
            "8/8 [==============================] - 1s 45ms/step - loss: 0.3380 - accuracy: 0.8932\n",
            "7/7 [==============================] - 0s 14ms/step - loss: 0.2208 - accuracy: 0.9350\n",
            "8/8 [==============================] - 1s 45ms/step - loss: 0.5587 - accuracy: 0.8174\n",
            "7/7 [==============================] - 0s 16ms/step - loss: 2.4522 - accuracy: 0.1350\n",
            "8/8 [==============================] - 1s 49ms/step - loss: 0.7857 - accuracy: 0.7292\n",
            "7/7 [==============================] - 0s 17ms/step - loss: 3.6749 - accuracy: 0.0850\n",
            "8/8 [==============================] - 1s 49ms/step - loss: 0.3909 - accuracy: 0.8512\n",
            "7/7 [==============================] - 0s 18ms/step - loss: 0.2902 - accuracy: 0.9350\n",
            "8/8 [==============================] - 1s 50ms/step - loss: 0.3690 - accuracy: 0.8650\n",
            "7/7 [==============================] - 0s 20ms/step - loss: 0.6123 - accuracy: 0.8200\n",
            "8/8 [==============================] - 1s 47ms/step - loss: 0.4419 - accuracy: 0.8407\n",
            "7/7 [==============================] - 0s 14ms/step - loss: 0.4316 - accuracy: 0.8600\n",
            "8/8 [==============================] - 1s 45ms/step - loss: 0.6139 - accuracy: 0.8068\n",
            "7/7 [==============================] - 0s 14ms/step - loss: 0.4709 - accuracy: 0.8500\n",
            "FedNodeList is  [0, 1, 2, 5, 8, 9, 10, 11]\n",
            "Weights are... {0: array([0.1244708]), 1: array([0.11605427]), 2: array([0.1267936]), 5: array([0.13457261]), 8: array([0.13149119]), 9: array([0.11001783]), 10: array([0.13679351]), 11: array([0.11980618])}\n",
            "The Acc on each client... [0.7749999761581421, 0.8899999856948853, 0.8949999809265137, 0.38999998569488525, 0.48500001430511475, 0.9350000023841858, 0.13500000536441803, 0.08500000089406967, 0.9350000023841858, 0.8199999928474426, 0.8600000143051147, 0.8500000238418579]\n",
            "7/7 [==============================] - 0s 15ms/step - loss: 0.2411 - accuracy: 0.9298\n"
          ],
          "name": "stdout"
        }
      ]
    },
    {
      "cell_type": "code",
      "metadata": {
        "colab": {
          "base_uri": "https://localhost:8080/",
          "height": 264
        },
        "id": "oCRvT_mMend-",
        "outputId": "4795eac7-d570-42dd-e6a0-f1dc9c28c830"
      },
      "source": [
        "ShowWeights(WeightsEachEpoch,19)"
      ],
      "execution_count": 26,
      "outputs": [
        {
          "output_type": "display_data",
          "data": {
            "image/png": "[encoded data removed]",
            "text/plain": [
              "<Figure size 432x288 with 1 Axes>"
            ]
          },
          "metadata": {
            "tags": []
          }
        }
      ]
    },
    {
      "cell_type": "code",
      "metadata": {
        "colab": {
          "base_uri": "https://localhost:8080/",
          "height": 295
        },
        "id": "it9jy1sji9ly",
        "outputId": "e6b47c8b-d1da-4fcb-a8a9-f42d9d6092a9"
      },
      "source": [
        "A1 = ShowAccAndLoss(S.loss_acc)"
      ],
      "execution_count": 27,
      "outputs": [
        {
          "output_type": "display_data",
          "data": {
            "image/png": "[encoded data removed]",
            "text/plain": [
              "<Figure size 432x288 with 2 Axes>"
            ]
          },
          "metadata": {
            "tags": [],
            "needs_background": "light"
          }
        }
      ]
    },
    {
      "cell_type": "code",
      "metadata": {
        "colab": {
          "base_uri": "https://localhost:8080/"
        },
        "id": "lXC1RS38HTXb",
        "outputId": "1240a654-5596-48af-f382-41688c9b068b"
      },
      "source": [
        "NodeList"
      ],
      "execution_count": null,
      "outputs": [
        {
          "output_type": "execute_result",
          "data": {
            "text/plain": [
              "[[0, 1, 2, 3, 4, 5, 6, 7, 8, 9, 10, 11],\n",
              " [0, 1, 2, 3, 4, 5, 6, 7, 8, 9, 10, 11],\n",
              " [0, 1, 2, 3, 4, 5, 6, 7, 8, 9, 10, 11],\n",
              " [0, 1, 2, 3, 4, 5, 6, 7, 8, 9, 10, 11],\n",
              " [0, 1, 2, 3, 4, 5, 6, 7, 8, 9, 10, 11],\n",
              " [0, 1, 2, 3, 4, 5, 6, 7, 8, 9, 10, 11],\n",
              " [0, 1, 2, 3, 4, 5, 6, 7, 8, 9, 10, 11],\n",
              " [0, 1, 2, 3, 4, 5, 6, 7, 8, 9, 10, 11],\n",
              " [0, 1, 2, 3, 4, 5, 6, 7, 8, 9, 10, 11],\n",
              " [0, 1, 2, 3, 4, 5, 6, 7, 8, 9, 10, 11],\n",
              " [0, 1, 2, 3, 4, 5, 6, 7, 8, 9, 10, 11],\n",
              " [0, 1, 2, 3, 4, 5, 6, 7, 8, 9, 10, 11],\n",
              " [0, 1, 2, 3, 4, 5, 6, 7, 8, 9, 10, 11],\n",
              " [0, 1, 2, 3, 4, 5, 6, 7, 8, 9, 10, 11],\n",
              " [0, 1, 2, 3, 4, 5, 6, 7, 8, 9, 10, 11],\n",
              " [0, 1, 2, 3, 4, 5, 6, 7, 8, 9, 10, 11],\n",
              " [0, 1, 2, 3, 4, 5, 6, 7, 8, 9, 10, 11],\n",
              " [0, 1, 2, 3, 4, 5, 6, 7, 8, 9, 10, 11],\n",
              " [0, 1, 2, 3, 4, 5, 6, 7, 8, 9, 10, 11],\n",
              " [0, 1, 2, 3, 4, 5, 6, 7, 8, 9, 10, 11]]"
            ]
          },
          "metadata": {
            "tags": []
          },
          "execution_count": 23
        }
      ]
    },
    {
      "cell_type": "code",
      "metadata": {
        "colab": {
          "base_uri": "https://localhost:8080/",
          "height": 279
        },
        "id": "LM3n47YxHTNn",
        "outputId": "0e0fbca7-464c-4b9a-dd36-5c5f11c35b69"
      },
      "source": [
        "ShowParticipatedNode(NodeList)"
      ],
      "execution_count": 28,
      "outputs": [
        {
          "output_type": "display_data",
          "data": {
            "image/png": "[encoded data removed]",
            "text/plain": [
              "<Figure size 432x288 with 1 Axes>"
            ]
          },
          "metadata": {
            "tags": [],
            "needs_background": "light"
          }
        }
      ]
    },
    {
      "cell_type": "markdown",
      "metadata": {
        "id": "i2axuRBsO6V7"
      },
      "source": [
        "# 阶段四：设置对照组，即普通的FedAvg"
      ]
    },
    {
      "cell_type": "code",
      "metadata": {
        "id": "wwI_gLjwO5w4"
      },
      "source": [
        "def FedAvg_Baseline(NUM_CLIENTS,model):\n",
        "  iterModel = model.copy()\n",
        "  len_it = len(iterModel.trainable_variables)\n",
        "  all_weights = []\n",
        "  for weights_index in range(len_it):\n",
        "    tmp =np.zeros(iterModel.trainable_variables[weights_index].numpy().shape,dtype='float64')\n",
        "    for node in range(NUM_CLIENTS):\n",
        "      tmp += clients[node].model.trainable_variables[weights_index].numpy()\n",
        "    all_weights.append(tmp/NUM_CLIENTS)\n",
        "  # print(all_weights)\n",
        "  iterModel_vars = iterModel.trainable_variables\n",
        "  for iter_v,n in zip(iterModel_vars,all_weights):\n",
        "    iter_v.assign(n)\n",
        "  return iterModel"
      ],
      "execution_count": 31,
      "outputs": []
    },
    {
      "cell_type": "code",
      "metadata": {
        "colab": {
          "base_uri": "https://localhost:8080/"
        },
        "id": "X5o0nVueO0m7",
        "outputId": "7bc4e50c-e02d-4ba8-86fb-432c71052cac"
      },
      "source": [
        "InitModel = FLModel(row=28,col=28,num_classes=CLASS_NUM)\n",
        "S2 = ParamServer(\"\")\n",
        "S2.PreEval(InitModel,validation_data)\n",
        "SendModel = InitModel"
      ],
      "execution_count": 32,
      "outputs": [
        {
          "output_type": "stream",
          "text": [
            "7/7 [==============================] - 0s 15ms/step - loss: 2.3938 - accuracy: 0.1648\n"
          ],
          "name": "stdout"
        }
      ]
    },
    {
      "cell_type": "code",
      "metadata": {
        "colab": {
          "base_uri": "https://localhost:8080/"
        },
        "id": "KW2JdgUEP0C5",
        "outputId": "eeb96d52-f6fd-4885-989c-1b04cb9277f3"
      },
      "source": [
        "SendModel = S2.PreTrain(InitModel,DigitDataSet[0][0:200],DigitDataSet[1][0:200],epochs=1)\n",
        "S2.PreEval(SendModel,validation_data)"
      ],
      "execution_count": null,
      "outputs": [
        {
          "output_type": "stream",
          "text": [
            "7/7 [==============================] - 1s 6ms/step - loss: 2.3569 - accuracy: 0.1515\n",
            "7/7 [==============================] - 0s 4ms/step - loss: 2.1367 - accuracy: 0.4361\n"
          ],
          "name": "stdout"
        }
      ]
    },
    {
      "cell_type": "code",
      "metadata": {
        "colab": {
          "base_uri": "https://localhost:8080/"
        },
        "id": "dejoUrZlPz5l",
        "outputId": "e37c1d3c-c098-4ac4-dc4d-0a472e27d973"
      },
      "source": [
        "for e in range(NUM_EPOCHS):\n",
        "  print(\"EPOCHS {} is starting...\".format(e))\n",
        "  for i in range(NUM_CLIENTS):\n",
        "    clients[i].ReceiveModel(SendModel.copy())\n",
        "    clients[i].NodeTrain()\n",
        "    # clients[i].NodeEval()\n",
        "    # DIS.append(Distance(SendModel,clients[i].model))\n",
        "  FedModel = FedAvg_Baseline(NUM_CLIENTS,SendModel)\n",
        "  S2.PreEval(FedModel,validation_sever)\n",
        "  SendModel = FedModel.copy()"
      ],
      "execution_count": 33,
      "outputs": [
        {
          "output_type": "stream",
          "text": [
            "EPOCHS 0 is starting...\n",
            "8/8 [==============================] - 1s 40ms/step - loss: 2.0805 - accuracy: 0.4204\n",
            "8/8 [==============================] - 1s 39ms/step - loss: 2.4024 - accuracy: 0.1088\n",
            "8/8 [==============================] - 1s 45ms/step - loss: 2.3487 - accuracy: 0.2100\n",
            "8/8 [==============================] - 1s 46ms/step - loss: 1.9018 - accuracy: 0.5727\n",
            "8/8 [==============================] - 1s 49ms/step - loss: 1.8682 - accuracy: 0.5955\n",
            "8/8 [==============================] - 1s 47ms/step - loss: 2.3433 - accuracy: 0.2125\n",
            "8/8 [==============================] - 1s 47ms/step - loss: 1.7458 - accuracy: 0.6217\n",
            "8/8 [==============================] - 1s 45ms/step - loss: 1.7079 - accuracy: 0.6542\n",
            "8/8 [==============================] - 1s 47ms/step - loss: 2.3392 - accuracy: 0.1930\n",
            "8/8 [==============================] - 1s 45ms/step - loss: 2.2989 - accuracy: 0.2821\n",
            "8/8 [==============================] - 1s 44ms/step - loss: 2.3543 - accuracy: 0.1646\n",
            "8/8 [==============================] - 1s 44ms/step - loss: 2.3177 - accuracy: 0.2361\n",
            "7/7 [==============================] - 0s 18ms/step - loss: 2.9015 - accuracy: 0.0000e+00\n",
            "EPOCHS 1 is starting...\n",
            "8/8 [==============================] - 1s 44ms/step - loss: 1.5837 - accuracy: 0.5991\n",
            "8/8 [==============================] - 1s 42ms/step - loss: 2.3960 - accuracy: 0.1779\n",
            "8/8 [==============================] - 1s 43ms/step - loss: 2.3006 - accuracy: 0.2523\n",
            "8/8 [==============================] - 1s 47ms/step - loss: 1.1732 - accuracy: 0.7935\n",
            "8/8 [==============================] - 1s 45ms/step - loss: 1.0628 - accuracy: 0.8261\n",
            "8/8 [==============================] - 1s 45ms/step - loss: 2.5036 - accuracy: 0.1348\n",
            "8/8 [==============================] - 1s 46ms/step - loss: 0.8293 - accuracy: 0.8770\n",
            "8/8 [==============================] - 1s 46ms/step - loss: 0.6980 - accuracy: 0.9208\n",
            "8/8 [==============================] - 1s 46ms/step - loss: 2.4286 - accuracy: 0.1647\n",
            "8/8 [==============================] - 1s 40ms/step - loss: 2.1586 - accuracy: 0.3023\n",
            "8/8 [==============================] - 1s 39ms/step - loss: 2.2411 - accuracy: 0.2518\n",
            "8/8 [==============================] - 1s 38ms/step - loss: 2.3071 - accuracy: 0.2574\n",
            "7/7 [==============================] - 0s 13ms/step - loss: 2.3557 - accuracy: 0.0000e+00\n",
            "EPOCHS 2 is starting...\n",
            "8/8 [==============================] - 1s 38ms/step - loss: 1.5913 - accuracy: 0.5976\n",
            "8/8 [==============================] - 1s 39ms/step - loss: 2.1809 - accuracy: 0.2310\n",
            "8/8 [==============================] - 1s 39ms/step - loss: 2.0780 - accuracy: 0.2634\n",
            "8/8 [==============================] - 1s 42ms/step - loss: 1.2670 - accuracy: 0.8207\n",
            "8/8 [==============================] - 1s 47ms/step - loss: 1.2602 - accuracy: 0.8167\n",
            "8/8 [==============================] - 1s 46ms/step - loss: 2.1722 - accuracy: 0.2329\n",
            "8/8 [==============================] - 1s 46ms/step - loss: 0.9773 - accuracy: 0.8684\n",
            "8/8 [==============================] - 1s 46ms/step - loss: 0.9329 - accuracy: 0.9174\n",
            "8/8 [==============================] - 1s 46ms/step - loss: 2.0775 - accuracy: 0.2834\n",
            "8/8 [==============================] - 1s 44ms/step - loss: 1.9845 - accuracy: 0.2991\n",
            "8/8 [==============================] - 1s 42ms/step - loss: 2.1072 - accuracy: 0.2701\n",
            "8/8 [==============================] - 1s 43ms/step - loss: 2.0733 - accuracy: 0.2976\n",
            "7/7 [==============================] - 0s 13ms/step - loss: 2.4431 - accuracy: 0.0000e+00\n",
            "EPOCHS 3 is starting...\n",
            "8/8 [==============================] - 1s 44ms/step - loss: 1.3288 - accuracy: 0.6317\n",
            "8/8 [==============================] - 1s 45ms/step - loss: 2.0735 - accuracy: 0.2983\n",
            "8/8 [==============================] - 1s 44ms/step - loss: 1.9961 - accuracy: 0.3098\n",
            "8/8 [==============================] - 1s 42ms/step - loss: 1.0584 - accuracy: 0.7762\n",
            "8/8 [==============================] - 1s 45ms/step - loss: 1.0275 - accuracy: 0.7938\n",
            "8/8 [==============================] - 1s 39ms/step - loss: 1.9716 - accuracy: 0.3096\n",
            "8/8 [==============================] - 1s 43ms/step - loss: 0.6759 - accuracy: 0.8962\n",
            "8/8 [==============================] - 1s 45ms/step - loss: 0.6734 - accuracy: 0.9206\n",
            "8/8 [==============================] - 1s 47ms/step - loss: 2.0140 - accuracy: 0.2592\n",
            "8/8 [==============================] - 1s 38ms/step - loss: 1.8484 - accuracy: 0.3443\n",
            "8/8 [==============================] - 1s 45ms/step - loss: 1.8212 - accuracy: 0.4198\n",
            "8/8 [==============================] - 1s 39ms/step - loss: 1.9128 - accuracy: 0.3265\n",
            "7/7 [==============================] - 0s 11ms/step - loss: 1.8534 - accuracy: 0.2545\n",
            "EPOCHS 4 is starting...\n",
            "8/8 [==============================] - 1s 39ms/step - loss: 1.2029 - accuracy: 0.6514\n",
            "8/8 [==============================] - 1s 39ms/step - loss: 1.6050 - accuracy: 0.4506\n",
            "8/8 [==============================] - 1s 41ms/step - loss: 1.5855 - accuracy: 0.4653\n",
            "8/8 [==============================] - 1s 40ms/step - loss: 1.0102 - accuracy: 0.7725\n",
            "8/8 [==============================] - 1s 43ms/step - loss: 1.0393 - accuracy: 0.7691\n",
            "8/8 [==============================] - 1s 44ms/step - loss: 1.6237 - accuracy: 0.4327\n",
            "8/8 [==============================] - 1s 40ms/step - loss: 0.7566 - accuracy: 0.8889\n",
            "8/8 [==============================] - 1s 44ms/step - loss: 0.7768 - accuracy: 0.8769\n",
            "8/8 [==============================] - 1s 42ms/step - loss: 1.6632 - accuracy: 0.4290\n",
            "8/8 [==============================] - 1s 38ms/step - loss: 1.5510 - accuracy: 0.4970\n",
            "8/8 [==============================] - 1s 38ms/step - loss: 1.5804 - accuracy: 0.5300\n",
            "8/8 [==============================] - 1s 41ms/step - loss: 1.6868 - accuracy: 0.3692\n",
            "7/7 [==============================] - 0s 12ms/step - loss: 1.6814 - accuracy: 0.3099\n",
            "EPOCHS 5 is starting...\n",
            "8/8 [==============================] - 1s 39ms/step - loss: 1.0912 - accuracy: 0.6920\n",
            "8/8 [==============================] - 1s 42ms/step - loss: 1.5111 - accuracy: 0.4759\n",
            "8/8 [==============================] - 1s 39ms/step - loss: 1.4620 - accuracy: 0.5142\n",
            "8/8 [==============================] - 1s 44ms/step - loss: 0.9581 - accuracy: 0.7551\n",
            "8/8 [==============================] - 1s 38ms/step - loss: 0.9382 - accuracy: 0.7812\n",
            "8/8 [==============================] - 1s 40ms/step - loss: 1.3269 - accuracy: 0.5410\n",
            "8/8 [==============================] - 1s 41ms/step - loss: 0.6202 - accuracy: 0.8459\n",
            "8/8 [==============================] - 1s 44ms/step - loss: 0.6002 - accuracy: 0.8799\n",
            "8/8 [==============================] - 1s 44ms/step - loss: 1.3649 - accuracy: 0.5537\n",
            "8/8 [==============================] - 1s 40ms/step - loss: 1.2000 - accuracy: 0.6025\n",
            "8/8 [==============================] - 1s 39ms/step - loss: 1.3342 - accuracy: 0.5666\n",
            "8/8 [==============================] - 1s 38ms/step - loss: 1.4536 - accuracy: 0.5143\n",
            "7/7 [==============================] - 0s 12ms/step - loss: 1.3491 - accuracy: 0.4809\n",
            "EPOCHS 6 is starting...\n",
            "8/8 [==============================] - 1s 40ms/step - loss: 1.0142 - accuracy: 0.6743\n",
            "8/8 [==============================] - 1s 40ms/step - loss: 1.2444 - accuracy: 0.5800\n",
            "8/8 [==============================] - 1s 40ms/step - loss: 1.2435 - accuracy: 0.5619\n",
            "8/8 [==============================] - 1s 45ms/step - loss: 0.7955 - accuracy: 0.7898\n",
            "8/8 [==============================] - 1s 44ms/step - loss: 0.9183 - accuracy: 0.7679\n",
            "8/8 [==============================] - 1s 40ms/step - loss: 1.1168 - accuracy: 0.6434\n",
            "8/8 [==============================] - 1s 41ms/step - loss: 0.5958 - accuracy: 0.8586\n",
            "8/8 [==============================] - 1s 44ms/step - loss: 0.6421 - accuracy: 0.8745\n",
            "8/8 [==============================] - 1s 44ms/step - loss: 1.2467 - accuracy: 0.6122\n",
            "8/8 [==============================] - 1s 46ms/step - loss: 1.1505 - accuracy: 0.6122\n",
            "8/8 [==============================] - 1s 39ms/step - loss: 1.0984 - accuracy: 0.6337\n",
            "8/8 [==============================] - 1s 39ms/step - loss: 1.3029 - accuracy: 0.5928\n",
            "7/7 [==============================] - 0s 13ms/step - loss: 1.1814 - accuracy: 0.5783\n",
            "EPOCHS 7 is starting...\n",
            "8/8 [==============================] - 1s 40ms/step - loss: 0.8599 - accuracy: 0.6633\n",
            "8/8 [==============================] - 1s 39ms/step - loss: 1.0402 - accuracy: 0.7046\n",
            "8/8 [==============================] - 1s 39ms/step - loss: 1.0995 - accuracy: 0.6020\n",
            "8/8 [==============================] - 1s 39ms/step - loss: 0.8531 - accuracy: 0.7723\n",
            "8/8 [==============================] - 1s 43ms/step - loss: 0.8540 - accuracy: 0.7230\n",
            "8/8 [==============================] - 1s 44ms/step - loss: 1.0676 - accuracy: 0.6648\n",
            "8/8 [==============================] - 1s 38ms/step - loss: 0.6034 - accuracy: 0.8302\n",
            "8/8 [==============================] - 1s 44ms/step - loss: 0.6573 - accuracy: 0.8595\n",
            "8/8 [==============================] - 1s 49ms/step - loss: 1.1161 - accuracy: 0.5991\n",
            "8/8 [==============================] - 1s 49ms/step - loss: 0.9482 - accuracy: 0.6846\n",
            "8/8 [==============================] - 1s 40ms/step - loss: 1.1001 - accuracy: 0.6370\n",
            "8/8 [==============================] - 1s 39ms/step - loss: 1.2341 - accuracy: 0.5560\n",
            "7/7 [==============================] - 0s 12ms/step - loss: 0.9826 - accuracy: 0.6827\n",
            "EPOCHS 8 is starting...\n",
            "8/8 [==============================] - 1s 39ms/step - loss: 0.8092 - accuracy: 0.7069\n",
            "8/8 [==============================] - 1s 39ms/step - loss: 1.0362 - accuracy: 0.6525\n",
            "8/8 [==============================] - 1s 40ms/step - loss: 1.0517 - accuracy: 0.6106\n",
            "8/8 [==============================] - 1s 43ms/step - loss: 0.7344 - accuracy: 0.8495\n",
            "8/8 [==============================] - 1s 39ms/step - loss: 0.8423 - accuracy: 0.7419\n",
            "8/8 [==============================] - 1s 46ms/step - loss: 0.9075 - accuracy: 0.7119\n",
            "8/8 [==============================] - 1s 46ms/step - loss: 0.5607 - accuracy: 0.8497\n",
            "8/8 [==============================] - 1s 45ms/step - loss: 0.6647 - accuracy: 0.8106\n",
            "8/8 [==============================] - 1s 45ms/step - loss: 1.0193 - accuracy: 0.6781\n",
            "8/8 [==============================] - 1s 47ms/step - loss: 0.9431 - accuracy: 0.6504\n",
            "8/8 [==============================] - 1s 41ms/step - loss: 0.9234 - accuracy: 0.6999\n",
            "8/8 [==============================] - 1s 42ms/step - loss: 1.1315 - accuracy: 0.6308\n",
            "7/7 [==============================] - 0s 11ms/step - loss: 0.9027 - accuracy: 0.6900\n",
            "EPOCHS 9 is starting...\n",
            "8/8 [==============================] - 1s 39ms/step - loss: 0.7168 - accuracy: 0.7668\n",
            "8/8 [==============================] - 1s 41ms/step - loss: 0.8665 - accuracy: 0.7081\n",
            "8/8 [==============================] - 1s 41ms/step - loss: 1.0922 - accuracy: 0.6332\n",
            "8/8 [==============================] - 1s 41ms/step - loss: 0.7816 - accuracy: 0.7812\n",
            "8/8 [==============================] - 1s 39ms/step - loss: 0.8470 - accuracy: 0.7490\n",
            "8/8 [==============================] - 1s 41ms/step - loss: 0.9062 - accuracy: 0.7140\n",
            "8/8 [==============================] - 1s 46ms/step - loss: 0.5418 - accuracy: 0.8576\n",
            "8/8 [==============================] - 1s 42ms/step - loss: 0.5703 - accuracy: 0.8396\n",
            "8/8 [==============================] - 1s 42ms/step - loss: 0.9980 - accuracy: 0.6835\n",
            "8/8 [==============================] - 1s 44ms/step - loss: 0.7971 - accuracy: 0.7479\n",
            "8/8 [==============================] - 1s 40ms/step - loss: 0.9412 - accuracy: 0.6899\n",
            "8/8 [==============================] - 1s 39ms/step - loss: 1.0684 - accuracy: 0.6007\n",
            "7/7 [==============================] - 0s 16ms/step - loss: 0.8437 - accuracy: 0.7319\n",
            "EPOCHS 10 is starting...\n",
            "8/8 [==============================] - 1s 41ms/step - loss: 0.7148 - accuracy: 0.7609\n",
            "8/8 [==============================] - 1s 40ms/step - loss: 0.7510 - accuracy: 0.7458\n",
            "8/8 [==============================] - 1s 40ms/step - loss: 0.9518 - accuracy: 0.6896\n",
            "8/8 [==============================] - 1s 40ms/step - loss: 0.6690 - accuracy: 0.7606\n",
            "8/8 [==============================] - 1s 39ms/step - loss: 0.7052 - accuracy: 0.7989\n",
            "8/8 [==============================] - 1s 40ms/step - loss: 0.7872 - accuracy: 0.7732\n",
            "8/8 [==============================] - 1s 39ms/step - loss: 0.5620 - accuracy: 0.8429\n",
            "8/8 [==============================] - 1s 45ms/step - loss: 0.5345 - accuracy: 0.8566\n",
            "8/8 [==============================] - 1s 45ms/step - loss: 0.8913 - accuracy: 0.7257\n",
            "8/8 [==============================] - 1s 47ms/step - loss: 0.7775 - accuracy: 0.7847\n",
            "8/8 [==============================] - 1s 42ms/step - loss: 0.7554 - accuracy: 0.6987\n",
            "8/8 [==============================] - 1s 42ms/step - loss: 0.9703 - accuracy: 0.7014\n",
            "7/7 [==============================] - 0s 11ms/step - loss: 0.7663 - accuracy: 0.7377\n",
            "EPOCHS 11 is starting...\n",
            "8/8 [==============================] - 1s 40ms/step - loss: 0.7612 - accuracy: 0.7427\n",
            "8/8 [==============================] - 1s 41ms/step - loss: 0.7676 - accuracy: 0.7137\n",
            "8/8 [==============================] - 1s 39ms/step - loss: 0.8901 - accuracy: 0.6937\n",
            "8/8 [==============================] - 1s 41ms/step - loss: 0.6955 - accuracy: 0.7661\n",
            "8/8 [==============================] - 1s 42ms/step - loss: 0.6934 - accuracy: 0.7716\n",
            "8/8 [==============================] - 1s 48ms/step - loss: 0.6731 - accuracy: 0.7860\n",
            "8/8 [==============================] - 1s 42ms/step - loss: 0.5194 - accuracy: 0.8457\n",
            "8/8 [==============================] - 1s 44ms/step - loss: 0.5733 - accuracy: 0.8077\n",
            "8/8 [==============================] - 1s 43ms/step - loss: 0.8076 - accuracy: 0.7070\n",
            "8/8 [==============================] - 1s 42ms/step - loss: 0.6901 - accuracy: 0.7807\n",
            "8/8 [==============================] - 1s 40ms/step - loss: 0.7499 - accuracy: 0.7055\n",
            "8/8 [==============================] - 1s 41ms/step - loss: 0.9689 - accuracy: 0.6569\n",
            "7/7 [==============================] - 0s 13ms/step - loss: 0.7602 - accuracy: 0.7398\n",
            "EPOCHS 12 is starting...\n",
            "8/8 [==============================] - 1s 41ms/step - loss: 0.6763 - accuracy: 0.7452\n",
            "8/8 [==============================] - 1s 43ms/step - loss: 0.6330 - accuracy: 0.8025\n",
            "8/8 [==============================] - 1s 41ms/step - loss: 0.8650 - accuracy: 0.7312\n",
            "8/8 [==============================] - 1s 41ms/step - loss: 0.6032 - accuracy: 0.7981\n",
            "8/8 [==============================] - 1s 41ms/step - loss: 0.7147 - accuracy: 0.7255\n",
            "8/8 [==============================] - 1s 40ms/step - loss: 0.7662 - accuracy: 0.7737\n",
            "8/8 [==============================] - 1s 40ms/step - loss: 0.5009 - accuracy: 0.8323\n",
            "8/8 [==============================] - 1s 43ms/step - loss: 0.5132 - accuracy: 0.8575\n",
            "8/8 [==============================] - 1s 48ms/step - loss: 0.8598 - accuracy: 0.6822\n",
            "8/8 [==============================] - 1s 46ms/step - loss: 0.7097 - accuracy: 0.7739\n",
            "8/8 [==============================] - 1s 46ms/step - loss: 0.7271 - accuracy: 0.7365\n",
            "8/8 [==============================] - 1s 40ms/step - loss: 0.9867 - accuracy: 0.6469\n",
            "7/7 [==============================] - 0s 15ms/step - loss: 0.7293 - accuracy: 0.7723\n",
            "EPOCHS 13 is starting...\n",
            "8/8 [==============================] - 1s 40ms/step - loss: 0.6726 - accuracy: 0.7214\n",
            "8/8 [==============================] - 1s 41ms/step - loss: 0.8253 - accuracy: 0.7520\n",
            "8/8 [==============================] - 1s 40ms/step - loss: 0.8261 - accuracy: 0.7059\n",
            "8/8 [==============================] - 1s 40ms/step - loss: 0.6358 - accuracy: 0.7762\n",
            "8/8 [==============================] - 1s 40ms/step - loss: 0.6452 - accuracy: 0.7574\n",
            "8/8 [==============================] - 1s 44ms/step - loss: 0.8405 - accuracy: 0.7729\n",
            "8/8 [==============================] - 1s 44ms/step - loss: 0.4957 - accuracy: 0.8421\n",
            "8/8 [==============================] - 1s 44ms/step - loss: 0.5703 - accuracy: 0.8383\n",
            "8/8 [==============================] - 1s 44ms/step - loss: 0.7752 - accuracy: 0.7143\n",
            "8/8 [==============================] - 1s 42ms/step - loss: 0.6916 - accuracy: 0.7769\n",
            "8/8 [==============================] - 1s 43ms/step - loss: 0.6760 - accuracy: 0.7525\n",
            "8/8 [==============================] - 1s 41ms/step - loss: 0.8596 - accuracy: 0.7095\n",
            "7/7 [==============================] - 0s 12ms/step - loss: 0.6192 - accuracy: 0.8172\n",
            "EPOCHS 14 is starting...\n",
            "8/8 [==============================] - 1s 40ms/step - loss: 0.6874 - accuracy: 0.6997\n",
            "8/8 [==============================] - 1s 41ms/step - loss: 0.6477 - accuracy: 0.7904\n",
            "8/8 [==============================] - 1s 40ms/step - loss: 0.7531 - accuracy: 0.7801\n",
            "8/8 [==============================] - 1s 40ms/step - loss: 0.5293 - accuracy: 0.7936\n",
            "8/8 [==============================] - 1s 40ms/step - loss: 0.7078 - accuracy: 0.7974\n",
            "8/8 [==============================] - 1s 43ms/step - loss: 0.6165 - accuracy: 0.8419\n",
            "8/8 [==============================] - 1s 43ms/step - loss: 0.5016 - accuracy: 0.7999\n",
            "8/8 [==============================] - 1s 44ms/step - loss: 0.5620 - accuracy: 0.8405\n",
            "8/8 [==============================] - 1s 44ms/step - loss: 0.6840 - accuracy: 0.7917\n",
            "8/8 [==============================] - 1s 40ms/step - loss: 0.5782 - accuracy: 0.8016\n",
            "8/8 [==============================] - 1s 41ms/step - loss: 0.6471 - accuracy: 0.7813\n",
            "8/8 [==============================] - 1s 40ms/step - loss: 0.9108 - accuracy: 0.6938\n",
            "7/7 [==============================] - 0s 12ms/step - loss: 0.6212 - accuracy: 0.8087\n",
            "EPOCHS 15 is starting...\n",
            "8/8 [==============================] - 1s 40ms/step - loss: 0.6055 - accuracy: 0.7722\n",
            "8/8 [==============================] - 1s 41ms/step - loss: 0.7079 - accuracy: 0.7461\n",
            "8/8 [==============================] - 1s 40ms/step - loss: 0.7371 - accuracy: 0.7766\n",
            "8/8 [==============================] - 1s 40ms/step - loss: 0.6238 - accuracy: 0.7689\n",
            "8/8 [==============================] - 1s 41ms/step - loss: 0.7290 - accuracy: 0.7801\n",
            "8/8 [==============================] - 1s 42ms/step - loss: 0.5839 - accuracy: 0.7901\n",
            "8/8 [==============================] - 1s 44ms/step - loss: 0.4608 - accuracy: 0.8794\n",
            "8/8 [==============================] - 1s 41ms/step - loss: 0.4441 - accuracy: 0.8916\n",
            "8/8 [==============================] - 1s 41ms/step - loss: 0.7121 - accuracy: 0.7841\n",
            "8/8 [==============================] - 1s 45ms/step - loss: 0.7011 - accuracy: 0.7822\n",
            "8/8 [==============================] - 1s 41ms/step - loss: 0.6072 - accuracy: 0.7764\n",
            "8/8 [==============================] - 1s 41ms/step - loss: 0.8006 - accuracy: 0.7244\n",
            "7/7 [==============================] - 0s 15ms/step - loss: 0.5752 - accuracy: 0.8326\n",
            "EPOCHS 16 is starting...\n",
            "8/8 [==============================] - 1s 42ms/step - loss: 0.5938 - accuracy: 0.7801\n",
            "8/8 [==============================] - 1s 41ms/step - loss: 0.6783 - accuracy: 0.7753\n",
            "8/8 [==============================] - 1s 41ms/step - loss: 0.7650 - accuracy: 0.7378\n",
            "8/8 [==============================] - 1s 40ms/step - loss: 0.5371 - accuracy: 0.8350\n",
            "8/8 [==============================] - 1s 39ms/step - loss: 0.6742 - accuracy: 0.7773\n",
            "8/8 [==============================] - 1s 49ms/step - loss: 0.5895 - accuracy: 0.8269\n",
            "8/8 [==============================] - 1s 49ms/step - loss: 0.3852 - accuracy: 0.8995\n",
            "8/8 [==============================] - 1s 48ms/step - loss: 0.5197 - accuracy: 0.8087\n",
            "8/8 [==============================] - 1s 46ms/step - loss: 0.6788 - accuracy: 0.7582\n",
            "8/8 [==============================] - 1s 46ms/step - loss: 0.5574 - accuracy: 0.8542\n",
            "8/8 [==============================] - 1s 50ms/step - loss: 0.6349 - accuracy: 0.7941\n",
            "8/8 [==============================] - 1s 41ms/step - loss: 0.8048 - accuracy: 0.7605\n",
            "7/7 [==============================] - 0s 11ms/step - loss: 0.5197 - accuracy: 0.8473\n",
            "EPOCHS 17 is starting...\n",
            "8/8 [==============================] - 1s 41ms/step - loss: 0.5690 - accuracy: 0.7975\n",
            "8/8 [==============================] - 1s 42ms/step - loss: 0.5483 - accuracy: 0.8377\n",
            "8/8 [==============================] - 1s 40ms/step - loss: 0.6891 - accuracy: 0.7835\n",
            "8/8 [==============================] - 1s 41ms/step - loss: 0.6339 - accuracy: 0.7732\n",
            "8/8 [==============================] - 1s 41ms/step - loss: 0.6337 - accuracy: 0.8143\n",
            "8/8 [==============================] - 1s 42ms/step - loss: 0.6029 - accuracy: 0.8254\n",
            "8/8 [==============================] - 1s 48ms/step - loss: 0.5265 - accuracy: 0.8478\n",
            "8/8 [==============================] - 1s 41ms/step - loss: 0.5291 - accuracy: 0.8571\n",
            "8/8 [==============================] - 1s 44ms/step - loss: 0.6188 - accuracy: 0.7866\n",
            "8/8 [==============================] - 1s 45ms/step - loss: 0.5544 - accuracy: 0.8225\n",
            "8/8 [==============================] - 1s 44ms/step - loss: 0.5945 - accuracy: 0.8166\n",
            "8/8 [==============================] - 1s 47ms/step - loss: 0.7861 - accuracy: 0.7232\n",
            "7/7 [==============================] - 0s 15ms/step - loss: 0.5578 - accuracy: 0.8173\n",
            "EPOCHS 18 is starting...\n",
            "8/8 [==============================] - 1s 41ms/step - loss: 0.5785 - accuracy: 0.7653\n",
            "8/8 [==============================] - 1s 42ms/step - loss: 0.5833 - accuracy: 0.8158\n",
            "8/8 [==============================] - 1s 40ms/step - loss: 0.7534 - accuracy: 0.7659\n",
            "8/8 [==============================] - 1s 43ms/step - loss: 0.5897 - accuracy: 0.7671\n",
            "8/8 [==============================] - 1s 43ms/step - loss: 0.5930 - accuracy: 0.8025\n",
            "8/8 [==============================] - 1s 41ms/step - loss: 0.6771 - accuracy: 0.8034\n",
            "8/8 [==============================] - 1s 39ms/step - loss: 0.4576 - accuracy: 0.8637\n",
            "8/8 [==============================] - 1s 47ms/step - loss: 0.4362 - accuracy: 0.8600\n",
            "8/8 [==============================] - 1s 47ms/step - loss: 0.6505 - accuracy: 0.7780\n",
            "8/8 [==============================] - 1s 45ms/step - loss: 0.5196 - accuracy: 0.8481\n",
            "8/8 [==============================] - 1s 44ms/step - loss: 0.5674 - accuracy: 0.7902\n",
            "8/8 [==============================] - 1s 46ms/step - loss: 0.7298 - accuracy: 0.6892\n",
            "7/7 [==============================] - 0s 15ms/step - loss: 0.5161 - accuracy: 0.8460\n",
            "EPOCHS 19 is starting...\n",
            "8/8 [==============================] - 1s 42ms/step - loss: 0.5296 - accuracy: 0.8153\n",
            "8/8 [==============================] - 1s 42ms/step - loss: 0.5876 - accuracy: 0.8150\n",
            "8/8 [==============================] - 1s 42ms/step - loss: 0.7027 - accuracy: 0.7930\n",
            "8/8 [==============================] - 1s 39ms/step - loss: 0.5829 - accuracy: 0.7967\n",
            "8/8 [==============================] - 1s 40ms/step - loss: 0.6239 - accuracy: 0.8057\n",
            "8/8 [==============================] - 1s 39ms/step - loss: 0.5014 - accuracy: 0.8419\n",
            "8/8 [==============================] - 1s 40ms/step - loss: 0.4873 - accuracy: 0.8370\n",
            "8/8 [==============================] - 1s 41ms/step - loss: 0.4448 - accuracy: 0.8863\n",
            "8/8 [==============================] - 1s 53ms/step - loss: 0.6624 - accuracy: 0.7788\n",
            "8/8 [==============================] - 1s 48ms/step - loss: 0.4372 - accuracy: 0.8620\n",
            "8/8 [==============================] - 1s 45ms/step - loss: 0.5559 - accuracy: 0.7737\n",
            "8/8 [==============================] - 1s 52ms/step - loss: 0.7480 - accuracy: 0.7649\n",
            "7/7 [==============================] - 1s 15ms/step - loss: 0.4707 - accuracy: 0.8559\n"
          ],
          "name": "stdout"
        }
      ]
    },
    {
      "cell_type": "code",
      "metadata": {
        "colab": {
          "base_uri": "https://localhost:8080/",
          "height": 295
        },
        "id": "pVt1VKTnjHWb",
        "outputId": "6191ac2f-6989-4d8a-f086-105e10e0c656"
      },
      "source": [
        "A2 = ShowAccAndLoss(S2.loss_acc)"
      ],
      "execution_count": 34,
      "outputs": [
        {
          "output_type": "display_data",
          "data": {
            "image/png": "[encoded data removed]",
            "text/plain": [
              "<Figure size 432x288 with 2 Axes>"
            ]
          },
          "metadata": {
            "tags": [],
            "needs_background": "light"
          }
        }
      ]
    },
    {
      "cell_type": "markdown",
      "metadata": {
        "id": "_uH968k_P5dH"
      },
      "source": [
        "# 实验结果对比"
      ]
    },
    {
      "cell_type": "code",
      "metadata": {
        "colab": {
          "base_uri": "https://localhost:8080/",
          "height": 295
        },
        "id": "61vAiqA7U-uQ",
        "outputId": "dc65887d-1c62-4463-faf7-9cf701a98cf9"
      },
      "source": [
        "ResultAnalysis(A1,A2)"
      ],
      "execution_count": 35,
      "outputs": [
        {
          "output_type": "display_data",
          "data": {
            "image/png": "[encoded data removed]",
            "text/plain": [
              "<Figure size 432x288 with 1 Axes>"
            ]
          },
          "metadata": {
            "tags": [],
            "needs_background": "light"
          }
        }
      ]
    },
    {
      "cell_type": "code",
      "metadata": {
        "id": "7Ed0W7m8_dv8"
      },
      "source": [
        ""
      ],
      "execution_count": null,
      "outputs": []
    }
  ]
}