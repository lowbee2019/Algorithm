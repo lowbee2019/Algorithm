{
  "nbformat": 4,
  "nbformat_minor": 0,
  "metadata": {
    "colab": {
      "name": "MyModel-CNN.ipynb",
      "provenance": [],
      "collapsed_sections": [
        "MwmKo3gLrI-i"
      ],
      "authorship_tag": "ABX9TyNykHOQqOl76Z4ZtarJxPuN",
      "include_colab_link": true
    },
    "kernelspec": {
      "display_name": "Python 3",
      "name": "python3"
    },
    "language_info": {
      "name": "python"
    },
    "accelerator": "GPU"
  },
  "cells": [
    {
      "cell_type": "markdown",
      "metadata": {
        "id": "view-in-github",
        "colab_type": "text"
      },
      "source": [
        "<a href=\"https://colab.research.google.com/github/lowbee2019/Algorithm/blob/master/MyModel_CNN-V5.ipynb\" target=\"_parent\"><img src=\"https://colab.research.google.com/assets/colab-badge.svg\" alt=\"Open In Colab\"/></a>"
      ]
    },
    {
      "cell_type": "code",
      "metadata": {
        "colab": {
          "base_uri": "https://localhost:8080/"
        },
        "id": "uoFhItkFEsF8",
        "outputId": "0bda4e70-cc41-452c-c821-1ac17f2208f8"
      },
      "source": [
        "!pip install emnist"
      ],
      "execution_count": 1,
      "outputs": [
        {
          "output_type": "stream",
          "text": [
            "Collecting emnist\n",
            "  Downloading https://files.pythonhosted.org/packages/d1/f4/78b24acbef9e8fe976dda700f16a3606f3b8363b015bc555f8050fbbd8ac/emnist-0.0-py3-none-any.whl\n",
            "Requirement already satisfied: numpy in /usr/local/lib/python3.7/dist-packages (from emnist) (1.19.5)\n",
            "Requirement already satisfied: requests in /usr/local/lib/python3.7/dist-packages (from emnist) (2.23.0)\n",
            "Requirement already satisfied: tqdm in /usr/local/lib/python3.7/dist-packages (from emnist) (4.41.1)\n",
            "Requirement already satisfied: idna<3,>=2.5 in /usr/local/lib/python3.7/dist-packages (from requests->emnist) (2.10)\n",
            "Requirement already satisfied: certifi>=2017.4.17 in /usr/local/lib/python3.7/dist-packages (from requests->emnist) (2020.12.5)\n",
            "Requirement already satisfied: urllib3!=1.25.0,!=1.25.1,<1.26,>=1.21.1 in /usr/local/lib/python3.7/dist-packages (from requests->emnist) (1.24.3)\n",
            "Requirement already satisfied: chardet<4,>=3.0.2 in /usr/local/lib/python3.7/dist-packages (from requests->emnist) (3.0.4)\n",
            "Installing collected packages: emnist\n",
            "Successfully installed emnist-0.0\n"
          ],
          "name": "stdout"
        }
      ]
    },
    {
      "cell_type": "code",
      "metadata": {
        "id": "9e4So1L3pPWp"
      },
      "source": [
        "import tensorflow as tf\n",
        "import numpy as np\n",
        "from tensorflow.keras import datasets,layers,models\n",
        "import collections\n",
        "import copy\n",
        "import random\n",
        "import emnist\n",
        "import datetime\n",
        "import os\n",
        "import matplotlib.pyplot as plt"
      ],
      "execution_count": 2,
      "outputs": []
    },
    {
      "cell_type": "code",
      "metadata": {
        "id": "6pkKi1GlSJ0S"
      },
      "source": [
        "os.environ[\"CUDA_VISIBLE_DEVICES\"]=\"0\""
      ],
      "execution_count": 3,
      "outputs": []
    },
    {
      "cell_type": "markdown",
      "metadata": {
        "id": "YQaIGTfxmSfi"
      },
      "source": [
        "# Server Initialization"
      ]
    },
    {
      "cell_type": "code",
      "metadata": {
        "id": "PTK_p961nsA5"
      },
      "source": [
        "class ParamServer(object):\n",
        "  def __init__(self,init_model_path):\n",
        "    self.init_model_path = init_model_path\n",
        "    self.round = 0\n",
        "    self.optimizer = 'adam'\n",
        "    self.loss = \"sparse_categorical_crossentropy\"\n",
        "    self.metrics =['accuracy']\n",
        "    self.loss_acc = []\n",
        "\n",
        "  def PreTrain(self,model,data,labels,batch_size=32,epochs=5):\n",
        "    model.compile(optimizer=self.optimizer,\n",
        "                  loss=self.loss,\n",
        "                  metrics=self.metrics)\n",
        "    _metrics = model.fit(data,labels,batch_size,epochs)\n",
        "    return model\n",
        "  \n",
        "  def PreEval(self,model,validation_data):\n",
        "    model.compile(optimizer=self.optimizer,\n",
        "                  loss=self.loss,\n",
        "                  metrics=self.metrics)\n",
        "    self.loss_acc.append(model.evaluate(x=validation_data[0],y=validation_data[1]))\n"
      ],
      "execution_count": 4,
      "outputs": []
    },
    {
      "cell_type": "markdown",
      "metadata": {
        "id": "iRvlGAmjmxbw"
      },
      "source": [
        "## Emnist数据集的预处理"
      ]
    },
    {
      "cell_type": "code",
      "metadata": {
        "id": "uUdPNuYqDmbD",
        "colab": {
          "base_uri": "https://localhost:8080/"
        },
        "outputId": "2808592c-226a-4790-ee09-60c4e544adfc"
      },
      "source": [
        "LetterDataSet = emnist.extract_training_samples('letters')\n",
        "DigitDataSet = emnist.extract_training_samples('digits')\n",
        "\n",
        "LetterDataSet = (np.expand_dims(LetterDataSet[0]/255.0,axis=3),np.expand_dims(LetterDataSet[1]*0+10,axis=1)) \n",
        "DigitDataSet = (np.expand_dims(DigitDataSet[0]/255.0,axis=3),np.expand_dims(DigitDataSet[1],axis=1))"
      ],
      "execution_count": 5,
      "outputs": [
        {
          "output_type": "stream",
          "text": [
            "Downloading emnist.zip: 536MB [00:02, 194MB/s]\n"
          ],
          "name": "stderr"
        }
      ]
    },
    {
      "cell_type": "code",
      "metadata": {
        "id": "0m0trPD8oxLO"
      },
      "source": [
        "sa = set()\n",
        "for [i] in LetterDataSet[1].tolist():\n",
        "  sa.add(i)\n",
        "for [i] in DigitDataSet[1].tolist():\n",
        "  sa.add(i)\n",
        "sa"
      ],
      "execution_count": null,
      "outputs": []
    },
    {
      "cell_type": "code",
      "metadata": {
        "colab": {
          "base_uri": "https://localhost:8080/"
        },
        "id": "N66yuvvfDmHF",
        "outputId": "e6e9f4af-bdfc-4f3c-a063-04ee955b31f8"
      },
      "source": [
        "LetterDataSet[0].shape,DigitDataSet[0].shape"
      ],
      "execution_count": null,
      "outputs": [
        {
          "output_type": "execute_result",
          "data": {
            "text/plain": [
              "((124800, 28, 28, 1), (240000, 28, 28, 1))"
            ]
          },
          "metadata": {
            "tags": []
          },
          "execution_count": 92
        }
      ]
    },
    {
      "cell_type": "code",
      "metadata": {
        "id": "qA_gvtUkm8sV"
      },
      "source": [
        "ShareData = DigitDataSet[0][0:200]\n",
        "ShareLabel = DigitDataSet[1][0:200]\n",
        "validation_data=(ShareData,ShareLabel)"
      ],
      "execution_count": 6,
      "outputs": []
    },
    {
      "cell_type": "markdown",
      "metadata": {
        "id": "2L712LCIm6Vv"
      },
      "source": [
        "## 模型的定义"
      ]
    },
    {
      "cell_type": "code",
      "metadata": {
        "id": "C0noj5RjmF0i"
      },
      "source": [
        "class FLModel(tf.keras.Model):\n",
        "  def __init__(self,row,col,num_classes=62,*args,**kwargs):\n",
        "    super(FLModel,self).__init__(*args,**kwargs)\n",
        "    self.row = row\n",
        "    self.col = col\n",
        "    self.num_classes = num_classes\n",
        "    # self.flatten = tf.keras.layers.Flatten(input_shape=(row,col))\n",
        "    # self.dense_1 = tf.keras.layers.Dense(128,activation='relu',name=\"dense_1\")\n",
        "    # self.dense_2 = tf.keras.layers.Dense(num_classes,activation='softmax',name=\"dense_2\")\n",
        "    # self.drop = tf.keras.layers.Dropout(0.2)\n",
        "    \n",
        "    self.model = models.Sequential()\n",
        "    # 第1层卷积，卷积核大小为3*3，32个，28*28为待训练图片的大小\n",
        "    self.model.add(layers.Conv2D(32, (3, 3), activation='relu', input_shape=(self.row, self.col, 1)))\n",
        "    self.model.add(layers.MaxPooling2D((2, 2)))\n",
        "    # 第2层卷积，卷积核大小为3*3，64个\n",
        "    self.model.add(layers.Conv2D(64, (3, 3), activation='relu'))\n",
        "    self.model.add(layers.MaxPooling2D((2, 2)))\n",
        "    # 第3层卷积，卷积核大小为3*3，64个\n",
        "    self.model.add(layers.Conv2D(64, (3, 3), activation='relu'))\n",
        "\n",
        "    self.model.add(layers.Flatten())\n",
        "    self.model.add(layers.Dense(64, activation='relu'))\n",
        "    self.model.add(layers.Dense(num_classes, activation='softmax'))\n",
        "\n",
        "    # self.model.summary()\n",
        "\n",
        "    # self.model = model\n",
        "\n",
        "\n",
        "  \n",
        "  # def call(self,inputs):\n",
        "  #   x = self.flatten(inputs)\n",
        "  #   x = self.dense_1(x)\n",
        "  #   x = self.drop(x)\n",
        "  #   x = self.dense_2(x)\n",
        "  #   return x\n",
        "  def call(self,inputs):\n",
        "    return self.model(inputs)\n",
        "\n",
        "  def copy(self):\n",
        "    NewModel = FLModel(self.row,self.col,self.num_classes)\n",
        "    _ = NewModel(tf.convert_to_tensor(np.zeros([1,self.row,self.col,1])))\n",
        "    ##Layers\n",
        "    NewVars = NewModel.trainable_variables #此处为空列表，因为没有训练,这个地方参数传递是不是有问题\n",
        "    OldVars = self.trainable_variables\n",
        "    for n,o in zip(NewVars,OldVars):\n",
        "      n.assign(o.numpy())\n",
        "    return NewModel\n",
        "\n",
        "  # def compute_output_shape(self,input_shape):\n",
        "  #   shape = tf.TensorShape(input_shape).as_list()\n",
        "  #   shape[-1] = self.num_classes\n",
        "  #   return tf.TensorShape(shape)"
      ],
      "execution_count": 7,
      "outputs": []
    },
    {
      "cell_type": "markdown",
      "metadata": {
        "id": "Z5LMvoXcoiz2"
      },
      "source": [
        "#Client Initialization\n",
        "模型训练和评估都要重写"
      ]
    },
    {
      "cell_type": "code",
      "metadata": {
        "id": "Hvu8wCjbooCF"
      },
      "source": [
        "class Client(object):\n",
        "  def __init__(self,id,model=None,Train_dataset=None,Test_dataset=None):\n",
        "    self.id = id\n",
        "    self.model = model\n",
        "    self.Train_dataset = Train_dataset\n",
        "    self.Test_dataset = Test_dataset\n",
        "    # from ParamServer\n",
        "    self.ParamModel = None\n",
        "    self.num_epochs = 5\n",
        "    self.batch_size = 32\n",
        "    self.shuffle_buffer = 100\n",
        "    self.prefetch_buffer = 10\n",
        "\n",
        "\n",
        "  def ReceiveModel(self,ParamModel,num_epochs=1,batch_size=32,shuffle_buffer=100,prefetch_buffer=10):\n",
        "    self.ParamModel = ParamModel\n",
        "    self.num_epochs = num_epochs\n",
        "    self.batch_size = batch_size\n",
        "    self.shuffle_buffer = shuffle_buffer\n",
        "    self.prefetch_buffer = prefetch_buffer\n",
        "  \n",
        "\n",
        "  # def preprocess(self,dataset):\n",
        "  #   def batch_format_fn(element):\n",
        "  #     return collections.OrderedDict(\n",
        "            \n",
        "  #           x = tf.reshape(element['pixels'],[-1,784]),\n",
        "  #           y = tf.reshape(element['label'],[-1,1])\n",
        "  #         )\n",
        "  #   return dataset.repeat(self.num_epochs).shuffle(self.shuffle_buffer).batch(\n",
        "  #       self.batch_size).map(batch_format_fn).prefetch(self.prefetch_buffer)\n",
        "\n",
        "  def NodeTrain(self):\n",
        "    model = self.ParamModel\n",
        "    # pre_data = self.preprocess(self.Train_dataset)\n",
        "    # print(type(pre_data))\n",
        "    # model.fit(x=pre_data['x'],y=pre_data['y'],batch_size=self.batch_size,epochs=self.num_epochs)\n",
        "    # x = np.array([i['pixels'].numpy() for i in self.Train_dataset])\n",
        "    # y = np.array([i['label'].numpy() for i in self.Train_dataset])\n",
        "    x,y = self.Train_dataset\n",
        "    model.compile(\n",
        "        # optimizer=keras.optimizers.SGD(lr=0.01, momentum=0.0, decay=0.0, nesterov=False),##'adam',\n",
        "        optimizer='adam',\n",
        "        loss='sparse_categorical_crossentropy',\n",
        "        metrics=['accuracy'])\n",
        "    # log_dir=\"logs/fit/\" + datetime.datetime.now().strftime(\"%Y%m%d-%H%M%S\")\n",
        "    # tensorboard_callback = tf.keras.callbacks.TensorBoard(log_dir=log_dir, histogram_freq=1)\n",
        "    _metrics = model.fit(x,y,batch_size=self.batch_size,epochs=self.num_epochs)\n",
        "    self.model = model\n",
        "\n",
        "  def NodeEval(self):\n",
        "    x,y = self.Test_dataset\n",
        "    return self.model.evaluate(x,y)\n"
      ],
      "execution_count": 8,
      "outputs": []
    },
    {
      "cell_type": "markdown",
      "metadata": {
        "id": "MwmKo3gLrI-i"
      },
      "source": [
        "# 阶段一：为Client分配数据（预处理工作）"
      ]
    },
    {
      "cell_type": "markdown",
      "metadata": {
        "id": "En8MczNik638"
      },
      "source": [
        "#阶段一：服务器完成模型初始化"
      ]
    },
    {
      "cell_type": "code",
      "metadata": {
        "id": "m2w8RJUtGss2"
      },
      "source": [
        "def create_data_for_clients(SampleNum,LetterDataSet,DigitDataSet,DigitPercentage=0.7):\n",
        "  DigitNum = int(SampleNum*DigitPercentage)\n",
        "  LetterNum = SampleNum - DigitNum\n",
        "  x_sequence = []\n",
        "  y_sequence = []\n",
        "  if DigitNum > 0:\n",
        "    for i in range(DigitNum):\n",
        "      index = random.randint(0,len(DigitDataSet[0])-1)\n",
        "      x_sequence.append(DigitDataSet[0][index])\n",
        "      y_sequence.append(DigitDataSet[1][index])\n",
        "  if LetterNum > 0:\n",
        "    for j in range(LetterNum):\n",
        "      index = random.randint(0,len(LetterDataSet[0])-1)\n",
        "      x_sequence.append(LetterDataSet[0][index])\n",
        "      y_sequence.append(LetterDataSet[1][index])\n",
        "  # print(x_sequence[1].shape,y_sequence[1].shape)\n",
        "  x = np.array(x_sequence,dtype=np.float64)\n",
        "  y = np.array(y_sequence,dtype=np.int8)\n",
        "  #shuffle\n",
        "  state = np.random.get_state()\n",
        "  np.random.shuffle(x)\n",
        "  np.random.set_state(state)\n",
        "  np.random.shuffle(y)\n",
        "  \n",
        "  return (x,y)"
      ],
      "execution_count": 9,
      "outputs": []
    },
    {
      "cell_type": "code",
      "metadata": {
        "id": "QE_WXcMMt1kP"
      },
      "source": [
        "NUM_CLIENTS = 12\n",
        "NUM_TRAIN_SAMPLE_CLIENT = 256\n",
        "NUM_TEST_SAMPLE_CLIENT = 256"
      ],
      "execution_count": 10,
      "outputs": []
    },
    {
      "cell_type": "code",
      "metadata": {
        "id": "-Tmf__umcO1l"
      },
      "source": [
        "clients=[]\n",
        "for i in range(NUM_CLIENTS):\n",
        "  clients.append(Client(i,\n",
        "                        Train_dataset=create_data_for_clients(SampleNum=256,\n",
        "                                                              LetterDataSet=LetterDataSet,\n",
        "                                                              DigitDataSet=DigitDataSet,\n",
        "                                                              DigitPercentage=random.random()),\n",
        "                        Test_dataset=validation_data\n",
        "                        )\n",
        "  )"
      ],
      "execution_count": 96,
      "outputs": []
    },
    {
      "cell_type": "markdown",
      "metadata": {
        "id": "V9Jjje417iuZ"
      },
      "source": [
        "Show DataSet"
      ]
    },
    {
      "cell_type": "code",
      "metadata": {
        "colab": {
          "base_uri": "https://localhost:8080/",
          "height": 879
        },
        "id": "7RO4LfKq72nf",
        "outputId": "aa0ee0c0-a9bd-4b5f-cb3b-c35e1d067a3e"
      },
      "source": [
        "f = plt.figure(figsize=(15,15))\n",
        "for i in range(NUM_CLIENTS):\n",
        "  client_dataset = clients[i].Train_dataset\n",
        "  plot_data = collections.defaultdict(list)\n",
        "  for [label] in client_dataset[1].tolist():\n",
        "    plot_data[label].append(label)\n",
        "  plt.subplot(3,4,i+1)\n",
        "  plt.title('Client {}'.format(i))\n",
        "  for j in range(len(plot_data)):\n",
        "    plt.hist(\n",
        "        plot_data[j],\n",
        "        density = False,\n",
        "        bins = [x for x in range(len(plot_data)+1)]\n",
        "    )"
      ],
      "execution_count": 97,
      "outputs": [
        {
          "output_type": "display_data",
          "data": {
            "image/png": "[encoded data removed]",
            "text/plain": [
              "<Figure size 1080x1080 with 12 Axes>"
            ]
          },
          "metadata": {
            "tags": [],
            "needs_background": "light"
          }
        }
      ]
    },
    {
      "cell_type": "markdown",
      "metadata": {
        "id": "JfqcXNr8jqi1"
      },
      "source": [
        "显示一下数字与字母的对比\n"
      ]
    },
    {
      "cell_type": "code",
      "metadata": {
        "colab": {
          "base_uri": "https://localhost:8080/",
          "height": 862
        },
        "id": "SkJ-l1ZSjpWf",
        "outputId": "b95587f5-6bb4-44d5-f821-5b099cde8d94"
      },
      "source": [
        "f = plt.figure(figsize=(15,15))\n",
        "for i in range(NUM_CLIENTS):\n",
        "  client_dataset = clients[i].Train_dataset\n",
        "  plot_data = {0:0,1:0}\n",
        "  plot_labels = ['digits','letters']\n",
        "  for label in client_dataset[1]:\n",
        "    label = 0 if label < 10 else 1\n",
        "    plot_data[label]+=1\n",
        "  # print(plot_data)\n",
        "  data_labels = list(sorted(plot_data.keys()))\n",
        "  # print(data_labels)\n",
        "  data_nums = [plot_data[i] for i in data_labels]\n",
        "  colors = ['red','blue']\n",
        "  plt.subplot(3,4,i+1)\n",
        "  patches,text1,text2 = plt.pie(data_nums,\n",
        "                              labels=plot_labels,\n",
        "                              autopct='%3.2f%%',\n",
        "                              shadow=False,\n",
        "                              startangle=90,\n",
        "                              pctdistance=0.6)\n",
        "  plt.axis('equal')\n",
        "  plt.title('Client {}'.format(i))\n",
        "plt.show()\n"
      ],
      "execution_count": 98,
      "outputs": [
        {
          "output_type": "display_data",
          "data": {
            "image/png": "[encoded data removed]",
            "text/plain": [
              "<Figure size 1080x1080 with 12 Axes>"
            ]
          },
          "metadata": {
            "tags": []
          }
        }
      ]
    },
    {
      "cell_type": "code",
      "metadata": {
        "id": "UWBR9P212HDF",
        "colab": {
          "base_uri": "https://localhost:8080/"
        },
        "outputId": "979b8841-aa7b-4c6b-fe52-571dce157587"
      },
      "source": [
        "clients[11].Train_dataset[1]"
      ],
      "execution_count": 95,
      "outputs": [
        {
          "output_type": "execute_result",
          "data": {
            "text/plain": [
              "array([[10],\n",
              "       [10],\n",
              "       [10],\n",
              "       [10],\n",
              "       [10],\n",
              "       [10],\n",
              "       [10],\n",
              "       [ 4],\n",
              "       [10],\n",
              "       [10],\n",
              "       [10],\n",
              "       [10],\n",
              "       [ 0],\n",
              "       [10],\n",
              "       [10],\n",
              "       [10],\n",
              "       [10],\n",
              "       [10],\n",
              "       [ 6],\n",
              "       [10],\n",
              "       [10],\n",
              "       [10],\n",
              "       [10],\n",
              "       [10],\n",
              "       [ 1],\n",
              "       [10],\n",
              "       [10],\n",
              "       [10],\n",
              "       [10],\n",
              "       [ 4],\n",
              "       [10],\n",
              "       [10],\n",
              "       [ 5],\n",
              "       [ 0],\n",
              "       [ 0],\n",
              "       [10],\n",
              "       [10],\n",
              "       [10],\n",
              "       [10],\n",
              "       [10],\n",
              "       [ 8],\n",
              "       [10],\n",
              "       [10],\n",
              "       [10],\n",
              "       [10],\n",
              "       [10],\n",
              "       [10],\n",
              "       [10],\n",
              "       [ 4],\n",
              "       [10],\n",
              "       [ 5],\n",
              "       [10],\n",
              "       [10],\n",
              "       [10],\n",
              "       [10],\n",
              "       [10],\n",
              "       [10],\n",
              "       [10],\n",
              "       [10],\n",
              "       [ 7],\n",
              "       [10],\n",
              "       [10],\n",
              "       [10],\n",
              "       [ 9],\n",
              "       [10],\n",
              "       [10],\n",
              "       [10],\n",
              "       [10],\n",
              "       [10],\n",
              "       [10],\n",
              "       [10],\n",
              "       [10],\n",
              "       [ 6],\n",
              "       [ 9],\n",
              "       [ 3],\n",
              "       [10],\n",
              "       [10],\n",
              "       [10],\n",
              "       [10],\n",
              "       [10],\n",
              "       [10],\n",
              "       [10],\n",
              "       [10],\n",
              "       [10],\n",
              "       [10],\n",
              "       [10],\n",
              "       [10],\n",
              "       [10],\n",
              "       [10],\n",
              "       [10],\n",
              "       [10],\n",
              "       [10],\n",
              "       [10],\n",
              "       [ 9],\n",
              "       [ 8],\n",
              "       [10],\n",
              "       [10],\n",
              "       [10],\n",
              "       [10],\n",
              "       [10],\n",
              "       [10],\n",
              "       [10],\n",
              "       [10],\n",
              "       [10],\n",
              "       [10],\n",
              "       [10],\n",
              "       [10],\n",
              "       [10],\n",
              "       [ 8],\n",
              "       [10],\n",
              "       [10],\n",
              "       [10],\n",
              "       [10],\n",
              "       [10],\n",
              "       [10],\n",
              "       [10],\n",
              "       [10],\n",
              "       [10],\n",
              "       [10],\n",
              "       [10],\n",
              "       [10],\n",
              "       [10],\n",
              "       [10],\n",
              "       [10],\n",
              "       [10],\n",
              "       [10],\n",
              "       [10],\n",
              "       [10],\n",
              "       [10],\n",
              "       [10],\n",
              "       [10],\n",
              "       [10],\n",
              "       [ 0],\n",
              "       [10],\n",
              "       [ 6],\n",
              "       [10],\n",
              "       [10],\n",
              "       [ 0],\n",
              "       [10],\n",
              "       [10],\n",
              "       [10],\n",
              "       [10],\n",
              "       [10],\n",
              "       [10],\n",
              "       [10],\n",
              "       [ 4],\n",
              "       [10],\n",
              "       [10],\n",
              "       [10],\n",
              "       [10],\n",
              "       [10],\n",
              "       [10],\n",
              "       [10],\n",
              "       [10],\n",
              "       [10],\n",
              "       [10],\n",
              "       [10],\n",
              "       [10],\n",
              "       [10],\n",
              "       [10],\n",
              "       [ 9],\n",
              "       [10],\n",
              "       [10],\n",
              "       [ 2],\n",
              "       [10],\n",
              "       [10],\n",
              "       [10],\n",
              "       [10],\n",
              "       [10],\n",
              "       [ 0],\n",
              "       [10],\n",
              "       [10],\n",
              "       [10],\n",
              "       [10],\n",
              "       [10],\n",
              "       [10],\n",
              "       [10],\n",
              "       [10],\n",
              "       [10],\n",
              "       [ 4],\n",
              "       [10],\n",
              "       [10],\n",
              "       [ 6],\n",
              "       [10],\n",
              "       [10],\n",
              "       [10],\n",
              "       [10],\n",
              "       [10],\n",
              "       [10],\n",
              "       [10],\n",
              "       [10],\n",
              "       [10],\n",
              "       [10],\n",
              "       [10],\n",
              "       [ 3],\n",
              "       [10],\n",
              "       [10],\n",
              "       [ 5],\n",
              "       [ 6],\n",
              "       [ 4],\n",
              "       [ 5],\n",
              "       [10],\n",
              "       [10],\n",
              "       [10],\n",
              "       [10],\n",
              "       [10],\n",
              "       [ 0],\n",
              "       [10],\n",
              "       [10],\n",
              "       [10],\n",
              "       [10],\n",
              "       [10],\n",
              "       [ 6],\n",
              "       [10],\n",
              "       [10],\n",
              "       [10],\n",
              "       [10],\n",
              "       [10],\n",
              "       [ 9],\n",
              "       [10],\n",
              "       [10],\n",
              "       [10],\n",
              "       [10],\n",
              "       [10],\n",
              "       [10],\n",
              "       [10],\n",
              "       [ 4],\n",
              "       [ 5],\n",
              "       [10],\n",
              "       [10],\n",
              "       [10],\n",
              "       [10],\n",
              "       [10],\n",
              "       [10],\n",
              "       [10],\n",
              "       [10],\n",
              "       [ 9],\n",
              "       [10],\n",
              "       [ 3],\n",
              "       [10],\n",
              "       [10],\n",
              "       [10],\n",
              "       [10],\n",
              "       [ 6],\n",
              "       [ 7],\n",
              "       [10],\n",
              "       [10],\n",
              "       [ 7],\n",
              "       [ 7],\n",
              "       [ 9],\n",
              "       [10],\n",
              "       [10],\n",
              "       [10],\n",
              "       [10],\n",
              "       [10],\n",
              "       [10]], dtype=int8)"
            ]
          },
          "metadata": {
            "tags": []
          },
          "execution_count": 95
        }
      ]
    },
    {
      "cell_type": "markdown",
      "metadata": {
        "id": "6PVxsGIpvlLn"
      },
      "source": [
        "##阶段二：中央服务器下发模型"
      ]
    },
    {
      "cell_type": "markdown",
      "metadata": {
        "id": "A5NIsOQgRp9h"
      },
      "source": [
        "Distance Between two models"
      ]
    },
    {
      "cell_type": "code",
      "metadata": {
        "id": "fX5rrSBk72Vw"
      },
      "source": [
        "def Distance(HookModel,TestModel):\n",
        "  len_it = len(HookModel.trainable_variables)\n",
        "  Hook_weights=[]\n",
        "  Test_weights=[]\n",
        "  for index in range(len_it):\n",
        "    Hook_weights.append(HookModel.trainable_variables[index].numpy().reshape(-1,))\n",
        "    Test_weights.append(TestModel.trainable_variables[index].numpy().reshape(-1,))\n",
        "  target = []\n",
        "  dis_norm2=[]\n",
        "  for i in range(len_it):\n",
        "    target.append(Hook_weights[i]-Test_weights[i])\n",
        "    dis_norm2.append(np.linalg.norm(target[i],2))\n",
        "  weight_weights = np.ones([len_it,1])\n",
        "  #调整权重\n",
        "  # weight_weights[0]=0\n",
        "  # weight_weights[1]=0\n",
        "  dis = np.dot(dis_norm2,weight_weights)\n",
        "  return dis\n",
        "  # return dis_norm2"
      ],
      "execution_count": 14,
      "outputs": []
    },
    {
      "cell_type": "code",
      "metadata": {
        "id": "KI9PCWxY716I"
      },
      "source": [
        "def BetterNode(clients,model,Total_NUM,FedAvg_NUM):\n",
        "  NodeDict=collections.OrderedDict()\n",
        "  for i in range(Total_NUM):\n",
        "    NodeDict[i] = Distance(model,clients[i].model)\n",
        "  Dlst = sorted(NodeDict.items(),key=lambda x:x[1])\n",
        "  NodeList = []\n",
        "  for i in range(FedAvg_NUM):\n",
        "    NodeList.append(Dlst[i][0])\n",
        "  return (NodeList,NodeDict)"
      ],
      "execution_count": 15,
      "outputs": []
    },
    {
      "cell_type": "markdown",
      "metadata": {
        "id": "_uNjI7abv3Vs"
      },
      "source": [
        "模型初始化"
      ]
    },
    {
      "cell_type": "code",
      "metadata": {
        "id": "PLJekuPtvxZl",
        "colab": {
          "base_uri": "https://localhost:8080/"
        },
        "outputId": "f1f47b75-4d67-40ea-9baf-6a63c1ddda6c"
      },
      "source": [
        "InitModel = FLModel(row=28,col=28,num_classes=11)\n",
        "S = ParamServer(\"\")\n",
        "S.PreEval(InitModel,validation_data)"
      ],
      "execution_count": 118,
      "outputs": [
        {
          "output_type": "stream",
          "text": [
            "7/7 [==============================] - 0s 3ms/step - loss: 2.3878 - accuracy: 0.1453\n"
          ],
          "name": "stdout"
        }
      ]
    },
    {
      "cell_type": "code",
      "metadata": {
        "colab": {
          "base_uri": "https://localhost:8080/"
        },
        "id": "4K48O8MylnxW",
        "outputId": "269bf714-c381-4db1-8905-d8b9437a0f14"
      },
      "source": [
        "InitModel.model.summary()"
      ],
      "execution_count": 17,
      "outputs": [
        {
          "output_type": "stream",
          "text": [
            "Model: \"sequential\"\n",
            "_________________________________________________________________\n",
            "Layer (type)                 Output Shape              Param #   \n",
            "=================================================================\n",
            "conv2d (Conv2D)              (None, 26, 26, 32)        320       \n",
            "_________________________________________________________________\n",
            "max_pooling2d (MaxPooling2D) (None, 13, 13, 32)        0         \n",
            "_________________________________________________________________\n",
            "conv2d_1 (Conv2D)            (None, 11, 11, 64)        18496     \n",
            "_________________________________________________________________\n",
            "max_pooling2d_1 (MaxPooling2 (None, 5, 5, 64)          0         \n",
            "_________________________________________________________________\n",
            "conv2d_2 (Conv2D)            (None, 3, 3, 64)          36928     \n",
            "_________________________________________________________________\n",
            "flatten (Flatten)            (None, 576)               0         \n",
            "_________________________________________________________________\n",
            "dense (Dense)                (None, 64)                36928     \n",
            "_________________________________________________________________\n",
            "dense_1 (Dense)              (None, 11)                715       \n",
            "=================================================================\n",
            "Total params: 93,387\n",
            "Trainable params: 93,387\n",
            "Non-trainable params: 0\n",
            "_________________________________________________________________\n"
          ],
          "name": "stdout"
        }
      ]
    },
    {
      "cell_type": "code",
      "metadata": {
        "id": "JOyiDCbPe9Jc"
      },
      "source": [
        "SendModel = InitModel"
      ],
      "execution_count": 119,
      "outputs": []
    },
    {
      "cell_type": "code",
      "metadata": {
        "colab": {
          "base_uri": "https://localhost:8080/"
        },
        "id": "SGo2NYXsv96h",
        "outputId": "720f0df0-ed2a-478f-90ac-c2551703e8d5"
      },
      "source": [
        "SendModel = S.PreTrain(InitModel,ShareData,ShareLabel,epochs=1)\n",
        "S.PreEval(SendModel,validation_data)"
      ],
      "execution_count": 58,
      "outputs": [
        {
          "output_type": "stream",
          "text": [
            "7/7 [==============================] - 0s 4ms/step - loss: 2.3625 - accuracy: 0.1198\n",
            "7/7 [==============================] - 0s 3ms/step - loss: 2.1860 - accuracy: 0.1877\n"
          ],
          "name": "stdout"
        }
      ]
    },
    {
      "cell_type": "markdown",
      "metadata": {
        "id": "7OmptaMzpR0P"
      },
      "source": [
        "# 阶段三：Clients 训练节点数据并聚合\n"
      ]
    },
    {
      "cell_type": "code",
      "metadata": {
        "id": "kr2PkfomvfWw"
      },
      "source": [
        ""
      ],
      "execution_count": null,
      "outputs": []
    },
    {
      "cell_type": "code",
      "metadata": {
        "id": "ve8Dc1KewGH_"
      },
      "source": [
        "def FedAvg(NUM_CLIENTS,model,FedAvg_NUM=7):\n",
        "  iterModel = model.copy()\n",
        "  len_it = len(iterModel.trainable_variables)\n",
        "  all_weights = []\n",
        "  FedNodeList=BetterNode(clients,iterModel,NUM_CLIENTS,FedAvg_NUM)\n",
        "  print(\"FedAvg Node is\",FedNodeList)\n",
        "\n",
        "  # for c in range(Cut):\n",
        "  #   # tmp =np.array(iterModel.trainable_variables[c].numpy(),dtype='float64')\n",
        "  #   all_weights.append(iterModel.trainable_variables[c].numpy())\n",
        "\n",
        "  for weights_index in range(len_it):\n",
        "    tmp =np.zeros(iterModel.trainable_variables[weights_index].numpy().shape,dtype='float64')\n",
        "\n",
        "    for node in FedNodeList:\n",
        "      tmp += clients[node].model.trainable_variables[weights_index].numpy()\n",
        "    all_weights.append(tmp/FedAvg_NUM)\n",
        "  # print(all_weights)\n",
        "  iterModel_vars = iterModel.trainable_variables\n",
        "  for iter_v,n in zip(iterModel_vars,all_weights):\n",
        "    iter_v.assign(n)\n",
        "  return (iterModel,FedNodeList)"
      ],
      "execution_count": 20,
      "outputs": []
    },
    {
      "cell_type": "code",
      "metadata": {
        "id": "I6HSFpcqrK_2"
      },
      "source": [
        "def FedAvgwithAcc(NUM_CLIENTS,model,FedAvg_NUM,Weights):\n",
        "  iterModel = model.copy()\n",
        "  len_it = len(iterModel.trainable_variables)\n",
        "  all_weights = []\n",
        "  FedNodeList,NodeDict=BetterNode(clients,iterModel,NUM_CLIENTS,FedAvg_NUM)\n",
        "  # print(\"FedAvg Node is\",FedNodeList)\n",
        "\n",
        "  # for c in range(Cut):\n",
        "  #   # tmp =np.array(iterModel.trainable_variables[c].numpy(),dtype='float64')\n",
        "  #   all_weights.append(iterModel.trainable_variables[c].numpy())\n",
        "  # mult = [np.exp(Weights[i])*NodeDict[i] for i in range(NUM_CLIENTS)]\n",
        "  # mult = [Weights[i]*NodeDict[i] for i in range(NUM_CLIENTS)]\n",
        "  mult = [Weights[i]/np.exp(NodeDict[i]) for i in range(NUM_CLIENTS)]\n",
        "  print(\"The Distance are ...\",NodeDict)\n",
        "  print(\"The AD are ...\",mult)\n",
        "  exp_sum = np.sum(mult)\n",
        "  Weights = mult/exp_sum\n",
        "  ###Softmax\n",
        "  FedAvg_NUM = NUM_CLIENTS\n",
        "  for weights_index in range(len_it):\n",
        "    tmp =np.zeros(iterModel.trainable_variables[weights_index].numpy().shape,dtype='float64')\n",
        "\n",
        "    # for node in FedNodeList:\n",
        "    for node in range(NUM_CLIENTS):\n",
        "      tmp += clients[node].model.trainable_variables[weights_index].numpy()*Weights[node]\n",
        "    all_weights.append(tmp)\n",
        "  # print(all_weights)\n",
        "  iterModel_vars = iterModel.trainable_variables\n",
        "  for iter_v,n in zip(iterModel_vars,all_weights):\n",
        "    iter_v.assign(n)\n",
        "  return (iterModel,FedNodeList)"
      ],
      "execution_count": 117,
      "outputs": []
    },
    {
      "cell_type": "code",
      "metadata": {
        "id": "jl3dF36dw2hC"
      },
      "source": [
        "NUM_EPOCHS = 20"
      ],
      "execution_count": 22,
      "outputs": []
    },
    {
      "cell_type": "code",
      "metadata": {
        "id": "ocfoXDNgyTdP"
      },
      "source": [
        "# NodeList=[]\n",
        "# participator = NUM_CLIENTS\n",
        "# for e in range(NUM_EPOCHS):\n",
        "#   print(\"EPOCHS {} is starting...\".format(e))\n",
        "#   for i in range(NUM_CLIENTS):\n",
        "#     clients[i].ReceiveModel(SendModel.copy())\n",
        "#     clients[i].NodeTrain()\n",
        "#     # clients[i].NodeEval()\n",
        "#     # DIS.append(Distance(SendModel,clients[i].model))\n",
        "#   if participator < int(0.6*NUM_CLIENTS):\n",
        "#     participator = int(0.6*NUM_CLIENTS) \n",
        "#   FedModel,li = FedAvg(NUM_CLIENTS,SendModel,FedAvg_NUM=participator)\n",
        "#   participator = participator-1\n",
        "#   NodeList.append(li)\n",
        "#   S.PreEval(FedModel,validation_data)\n",
        "#   SendModel = FedModel.copy()"
      ],
      "execution_count": null,
      "outputs": []
    },
    {
      "cell_type": "code",
      "metadata": {
        "colab": {
          "base_uri": "https://localhost:8080/"
        },
        "id": "chwpV3rDr5r2",
        "outputId": "31fb0cb1-38e8-4e6b-c0ce-0d783a05029a"
      },
      "source": [
        "NodeList=[]\n",
        "ACC_Client_Test=[]\n",
        "participator = NUM_CLIENTS\n",
        "for e in range(NUM_EPOCHS):\n",
        "  tmp=[]\n",
        "  print(\"EPOCHS {} is starting...\".format(e))\n",
        "  for i in range(NUM_CLIENTS):\n",
        "    clients[i].ReceiveModel(SendModel.copy())\n",
        "    clients[i].NodeTrain()\n",
        "    tmp.append(clients[i].NodeEval()[1])\n",
        "    # clients[i].NodeEval()\n",
        "    # DIS.append(Distance(SendModel,clients[i].model))\n",
        "  if participator < int(0.6*NUM_CLIENTS):\n",
        "    participator = int(0.6*NUM_CLIENTS) \n",
        "  FedModel,li = FedAvgwithAcc(NUM_CLIENTS,SendModel,FedAvg_NUM=participator,Weights=tmp)\n",
        "  participator = participator-1\n",
        "  NodeList.append(li)\n",
        "  ACC_Client_Test.append(tmp)\n",
        "  S.PreEval(FedModel,validation_data)\n",
        "  print(\"The Acc on each client...\",tmp)\n",
        "  SendModel = FedModel.copy()"
      ],
      "execution_count": 120,
      "outputs": [
        {
          "output_type": "stream",
          "text": [
            "EPOCHS 0 is starting...\n",
            "8/8 [==============================] - 0s 3ms/step - loss: 2.0258 - accuracy: 0.5078\n",
            "7/7 [==============================] - 0s 3ms/step - loss: 4.8772 - accuracy: 0.0000e+00\n",
            "8/8 [==============================] - 0s 3ms/step - loss: 1.8033 - accuracy: 0.6795\n",
            "7/7 [==============================] - 0s 2ms/step - loss: 7.6165 - accuracy: 0.0000e+00\n",
            "8/8 [==============================] - 0s 3ms/step - loss: 2.3394 - accuracy: 0.2526\n",
            "7/7 [==============================] - 0s 3ms/step - loss: 2.8510 - accuracy: 0.0000e+00\n",
            "8/8 [==============================] - 1s 4ms/step - loss: 2.3384 - accuracy: 0.1901\n",
            "7/7 [==============================] - 0s 3ms/step - loss: 2.6368 - accuracy: 0.0000e+00\n",
            "8/8 [==============================] - 0s 4ms/step - loss: 2.3725 - accuracy: 0.1715\n",
            "7/7 [==============================] - 0s 3ms/step - loss: 2.3138 - accuracy: 0.2800\n",
            "8/8 [==============================] - 0s 4ms/step - loss: 2.1081 - accuracy: 0.4303\n",
            "7/7 [==============================] - 0s 3ms/step - loss: 4.9155 - accuracy: 0.0000e+00\n",
            "8/8 [==============================] - 0s 3ms/step - loss: 2.3339 - accuracy: 0.1998\n",
            "7/7 [==============================] - 0s 3ms/step - loss: 2.7874 - accuracy: 0.0000e+00\n",
            "8/8 [==============================] - 0s 3ms/step - loss: 2.3543 - accuracy: 0.1684\n",
            "7/7 [==============================] - 0s 3ms/step - loss: 2.2517 - accuracy: 0.2050\n",
            "8/8 [==============================] - 0s 3ms/step - loss: 2.3552 - accuracy: 0.2332\n",
            "7/7 [==============================] - 0s 3ms/step - loss: 2.2358 - accuracy: 0.1950\n",
            "8/8 [==============================] - 0s 3ms/step - loss: 2.3496 - accuracy: 0.1490\n",
            "7/7 [==============================] - 0s 3ms/step - loss: 2.1613 - accuracy: 0.2850\n",
            "8/8 [==============================] - 0s 3ms/step - loss: 2.0010 - accuracy: 0.5190\n",
            "7/7 [==============================] - 0s 3ms/step - loss: 5.7468 - accuracy: 0.0000e+00\n",
            "8/8 [==============================] - 0s 4ms/step - loss: 2.3611 - accuracy: 0.1317\n",
            "7/7 [==============================] - 0s 3ms/step - loss: 2.3114 - accuracy: 0.0650\n",
            "The Distance are ... OrderedDict([(0, array([2.76839405])), (1, array([3.16459103])), (2, array([2.30526178])), (3, array([2.25292364])), (4, array([2.1528109])), (5, array([2.74801132])), (6, array([2.25720928])), (7, array([2.06018368])), (8, array([2.1700234])), (9, array([2.13087611])), (10, array([2.88363005])), (11, array([2.17513153]))])\n",
            "The AD are ... [array([0.]), array([0.]), array([0.]), array([0.]), array([0.03252401]), array([0.]), array([0.]), array([0.02612326]), array([0.02226411]), array([0.03383897]), array([0.]), array([0.00738356])]\n",
            "7/7 [==============================] - 0s 3ms/step - loss: 2.2267 - accuracy: 0.3609\n",
            "The Acc on each client... [0.0, 0.0, 0.0, 0.0, 0.2800000011920929, 0.0, 0.0, 0.20499999821186066, 0.19499999284744263, 0.2849999964237213, 0.0, 0.06499999761581421]\n",
            "EPOCHS 1 is starting...\n",
            "8/8 [==============================] - 0s 3ms/step - loss: 1.8005 - accuracy: 0.5462\n",
            "7/7 [==============================] - 0s 3ms/step - loss: 4.4844 - accuracy: 0.0000e+00\n",
            "8/8 [==============================] - 0s 3ms/step - loss: 1.4632 - accuracy: 0.6835\n",
            "7/7 [==============================] - 0s 3ms/step - loss: 10.4515 - accuracy: 0.0000e+00\n",
            "8/8 [==============================] - 0s 3ms/step - loss: 2.1144 - accuracy: 0.2862\n",
            "7/7 [==============================] - 0s 2ms/step - loss: 2.2975 - accuracy: 0.1100\n",
            "8/8 [==============================] - 0s 3ms/step - loss: 2.1658 - accuracy: 0.3178\n",
            "7/7 [==============================] - 0s 3ms/step - loss: 2.0251 - accuracy: 0.1950\n",
            "8/8 [==============================] - 0s 3ms/step - loss: 2.1403 - accuracy: 0.4134\n",
            "7/7 [==============================] - 0s 3ms/step - loss: 1.7952 - accuracy: 0.4750\n",
            "8/8 [==============================] - 0s 3ms/step - loss: 1.9111 - accuracy: 0.4948\n",
            "7/7 [==============================] - 0s 3ms/step - loss: 3.5527 - accuracy: 0.0000e+00\n",
            "8/8 [==============================] - 0s 3ms/step - loss: 2.1509 - accuracy: 0.2887\n",
            "7/7 [==============================] - 0s 3ms/step - loss: 2.2324 - accuracy: 0.1850\n",
            "8/8 [==============================] - 0s 3ms/step - loss: 2.1399 - accuracy: 0.3752\n",
            "7/7 [==============================] - 0s 2ms/step - loss: 1.7170 - accuracy: 0.4850\n",
            "8/8 [==============================] - 0s 3ms/step - loss: 2.1388 - accuracy: 0.3910\n",
            "7/7 [==============================] - 0s 3ms/step - loss: 1.7915 - accuracy: 0.3700\n",
            "8/8 [==============================] - 0s 3ms/step - loss: 2.1433 - accuracy: 0.3862\n",
            "7/7 [==============================] - 0s 3ms/step - loss: 1.7826 - accuracy: 0.4850\n",
            "8/8 [==============================] - 0s 4ms/step - loss: 1.7396 - accuracy: 0.5840\n",
            "7/7 [==============================] - 0s 3ms/step - loss: 6.4445 - accuracy: 0.0000e+00\n",
            "8/8 [==============================] - 0s 4ms/step - loss: 2.1617 - accuracy: 0.3243\n",
            "7/7 [==============================] - 0s 3ms/step - loss: 1.9476 - accuracy: 0.3400\n",
            "The Distance are ... OrderedDict([(0, array([2.29153697])), (1, array([2.96790461])), (2, array([2.12916204])), (3, array([1.8901042])), (4, array([2.02350452])), (5, array([2.14956828])), (6, array([1.97457472])), (7, array([2.07385388])), (8, array([2.03029122])), (9, array([1.97234057])), (10, array([2.55237785])), (11, array([2.00365616]))])\n",
            "The AD are ... [array([0.]), array([0.]), array([0.01308306]), array([0.02945593]), array([0.06279091]), array([0.]), array([0.02568176]), array([0.0609647]), array([0.04857999]), array([0.06747845]), array([0.]), array([0.04584607])]\n",
            "7/7 [==============================] - 0s 3ms/step - loss: 1.7794 - accuracy: 0.5970\n",
            "The Acc on each client... [0.0, 0.0, 0.10999999940395355, 0.19499999284744263, 0.4749999940395355, 0.0, 0.1850000023841858, 0.48500001430511475, 0.3700000047683716, 0.48500001430511475, 0.0, 0.3400000035762787]\n",
            "EPOCHS 2 is starting...\n",
            "8/8 [==============================] - 0s 3ms/step - loss: 1.5132 - accuracy: 0.5578\n",
            "7/7 [==============================] - 0s 3ms/step - loss: 3.1276 - accuracy: 0.0000e+00\n",
            "8/8 [==============================] - 0s 3ms/step - loss: 0.9605 - accuracy: 0.6940\n",
            "7/7 [==============================] - 0s 3ms/step - loss: 14.2115 - accuracy: 0.0000e+00\n",
            "8/8 [==============================] - 0s 3ms/step - loss: 1.7291 - accuracy: 0.4586\n",
            "7/7 [==============================] - 0s 3ms/step - loss: 1.6446 - accuracy: 0.3600\n",
            "8/8 [==============================] - 0s 3ms/step - loss: 1.8037 - accuracy: 0.4471\n",
            "7/7 [==============================] - 0s 2ms/step - loss: 1.4064 - accuracy: 0.5750\n",
            "8/8 [==============================] - 0s 3ms/step - loss: 1.7283 - accuracy: 0.5069\n",
            "7/7 [==============================] - 0s 3ms/step - loss: 1.2477 - accuracy: 0.5750\n",
            "8/8 [==============================] - 0s 3ms/step - loss: 1.6323 - accuracy: 0.5434\n",
            "7/7 [==============================] - 0s 3ms/step - loss: 2.7446 - accuracy: 0.0000e+00\n",
            "8/8 [==============================] - 0s 3ms/step - loss: 1.8616 - accuracy: 0.3274\n",
            "7/7 [==============================] - 0s 3ms/step - loss: 1.6852 - accuracy: 0.4200\n",
            "8/8 [==============================] - 0s 3ms/step - loss: 1.7424 - accuracy: 0.5137\n",
            "7/7 [==============================] - 0s 3ms/step - loss: 1.4460 - accuracy: 0.6000\n",
            "8/8 [==============================] - 0s 4ms/step - loss: 1.7508 - accuracy: 0.4986\n",
            "7/7 [==============================] - 0s 3ms/step - loss: 1.3425 - accuracy: 0.6450\n",
            "8/8 [==============================] - 0s 3ms/step - loss: 1.7316 - accuracy: 0.5265\n",
            "7/7 [==============================] - 0s 3ms/step - loss: 1.2491 - accuracy: 0.6500\n",
            "8/8 [==============================] - 0s 4ms/step - loss: 1.4695 - accuracy: 0.5711\n",
            "7/7 [==============================] - 0s 3ms/step - loss: 3.2736 - accuracy: 0.0000e+00\n",
            "8/8 [==============================] - 0s 4ms/step - loss: 1.9168 - accuracy: 0.3563\n",
            "7/7 [==============================] - 0s 3ms/step - loss: 1.4504 - accuracy: 0.6500\n",
            "The Distance are ... OrderedDict([(0, array([1.80812724])), (1, array([2.65199079])), (2, array([1.65337069])), (3, array([1.62689514])), (4, array([1.85732065])), (5, array([1.65890118])), (6, array([1.57414559])), (7, array([1.69863826])), (8, array([1.70724606])), (9, array([1.66870613])), (10, array([1.74917963])), (11, array([1.53762316]))])\n",
            "The AD are ... [array([0.]), array([0.]), array([0.06890532]), array([0.11300984]), array([0.08975192]), array([0.]), array([0.08701749]), array([0.10975948]), array([0.11698015]), array([0.12251901]), array([0.]), array([0.13967931])]\n",
            "7/7 [==============================] - 0s 3ms/step - loss: 1.3354 - accuracy: 0.7197\n",
            "The Acc on each client... [0.0, 0.0, 0.36000001430511475, 0.574999988079071, 0.574999988079071, 0.0, 0.41999998688697815, 0.6000000238418579, 0.6449999809265137, 0.6499999761581421, 0.0, 0.6499999761581421]\n",
            "EPOCHS 3 is starting...\n",
            "8/8 [==============================] - 0s 3ms/step - loss: 1.4003 - accuracy: 0.5579\n",
            "7/7 [==============================] - 1s 3ms/step - loss: 2.7519 - accuracy: 0.0050\n",
            "8/8 [==============================] - 0s 3ms/step - loss: 0.9370 - accuracy: 0.6779\n",
            "7/7 [==============================] - 0s 3ms/step - loss: 13.6285 - accuracy: 0.0000e+00\n",
            "8/8 [==============================] - 0s 3ms/step - loss: 1.5663 - accuracy: 0.4790\n",
            "7/7 [==============================] - 0s 3ms/step - loss: 1.3028 - accuracy: 0.6250\n",
            "8/8 [==============================] - 0s 4ms/step - loss: 1.5117 - accuracy: 0.5568\n",
            "7/7 [==============================] - 0s 3ms/step - loss: 1.2166 - accuracy: 0.5450\n",
            "8/8 [==============================] - 0s 3ms/step - loss: 1.4690 - accuracy: 0.5436\n",
            "7/7 [==============================] - 0s 3ms/step - loss: 0.9913 - accuracy: 0.7000\n",
            "8/8 [==============================] - 0s 3ms/step - loss: 1.5530 - accuracy: 0.5221\n",
            "7/7 [==============================] - 0s 2ms/step - loss: 2.0925 - accuracy: 0.1200\n",
            "8/8 [==============================] - 0s 3ms/step - loss: 1.5064 - accuracy: 0.4665\n",
            "7/7 [==============================] - 0s 3ms/step - loss: 1.3988 - accuracy: 0.5000\n",
            "8/8 [==============================] - 0s 3ms/step - loss: 1.5084 - accuracy: 0.5548\n",
            "7/7 [==============================] - 0s 3ms/step - loss: 1.1981 - accuracy: 0.5800\n",
            "8/8 [==============================] - 0s 3ms/step - loss: 1.3340 - accuracy: 0.6535\n",
            "7/7 [==============================] - 0s 3ms/step - loss: 1.1982 - accuracy: 0.6600\n",
            "8/8 [==============================] - 0s 3ms/step - loss: 1.4000 - accuracy: 0.5772\n",
            "7/7 [==============================] - 0s 3ms/step - loss: 1.0781 - accuracy: 0.7100\n",
            "8/8 [==============================] - 0s 3ms/step - loss: 1.4381 - accuracy: 0.5616\n",
            "7/7 [==============================] - 0s 3ms/step - loss: 2.6951 - accuracy: 0.0300\n",
            "8/8 [==============================] - 0s 3ms/step - loss: 1.4119 - accuracy: 0.5364\n",
            "7/7 [==============================] - 0s 3ms/step - loss: 1.0152 - accuracy: 0.7250\n",
            "The Distance are ... OrderedDict([(0, array([1.5444973])), (1, array([2.43237685])), (2, array([1.21889938])), (3, array([1.4837184])), (4, array([1.44918544])), (5, array([1.42689565])), (6, array([1.35591538])), (7, array([1.39946161])), (8, array([1.42323504])), (9, array([1.35459171])), (10, array([1.5477559])), (11, array([1.4829394]))])\n",
            "The AD are ... [array([0.0010671]), array([0.]), array([0.18472205]), array([0.12360209]), array([0.164333]), array([0.02880636]), array([0.12885564]), array([0.14310326]), array([0.159016]), array([0.18321736]), array([0.00638174]), array([0.16455293])]\n",
            "7/7 [==============================] - 0s 3ms/step - loss: 1.1113 - accuracy: 0.7159\n",
            "The Acc on each client... [0.004999999888241291, 0.0, 0.625, 0.5450000166893005, 0.699999988079071, 0.11999999731779099, 0.5, 0.5799999833106995, 0.6600000262260437, 0.7099999785423279, 0.029999999329447746, 0.7250000238418579]\n",
            "EPOCHS 4 is starting...\n",
            "8/8 [==============================] - 0s 3ms/step - loss: 1.1499 - accuracy: 0.6358\n",
            "7/7 [==============================] - 0s 3ms/step - loss: 2.1086 - accuracy: 0.1500\n",
            "8/8 [==============================] - 0s 4ms/step - loss: 0.6996 - accuracy: 0.7338\n",
            "7/7 [==============================] - 0s 3ms/step - loss: 16.2863 - accuracy: 0.0000e+00\n",
            "8/8 [==============================] - 0s 3ms/step - loss: 1.2215 - accuracy: 0.5972\n",
            "7/7 [==============================] - 0s 3ms/step - loss: 1.8926 - accuracy: 0.2550\n",
            "8/8 [==============================] - 0s 4ms/step - loss: 1.4881 - accuracy: 0.5053\n",
            "7/7 [==============================] - 0s 3ms/step - loss: 1.0949 - accuracy: 0.6650\n",
            "8/8 [==============================] - 0s 4ms/step - loss: 1.1732 - accuracy: 0.6428\n",
            "7/7 [==============================] - 0s 3ms/step - loss: 0.9349 - accuracy: 0.7200\n",
            "8/8 [==============================] - 0s 3ms/step - loss: 1.3192 - accuracy: 0.6274\n",
            "7/7 [==============================] - 0s 4ms/step - loss: 1.7273 - accuracy: 0.3050\n",
            "8/8 [==============================] - 0s 4ms/step - loss: 1.2152 - accuracy: 0.6386\n",
            "7/7 [==============================] - 0s 3ms/step - loss: 0.9561 - accuracy: 0.7150\n",
            "8/8 [==============================] - 0s 3ms/step - loss: 1.1988 - accuracy: 0.6475\n",
            "7/7 [==============================] - 0s 2ms/step - loss: 0.9533 - accuracy: 0.6600\n",
            "8/8 [==============================] - 0s 3ms/step - loss: 1.1933 - accuracy: 0.6190\n",
            "7/7 [==============================] - 0s 3ms/step - loss: 0.8515 - accuracy: 0.7350\n",
            "8/8 [==============================] - 0s 4ms/step - loss: 1.1635 - accuracy: 0.6392\n",
            "7/7 [==============================] - 0s 3ms/step - loss: 0.8593 - accuracy: 0.7550\n",
            "8/8 [==============================] - 0s 3ms/step - loss: 1.1658 - accuracy: 0.6876\n",
            "7/7 [==============================] - 0s 3ms/step - loss: 2.1144 - accuracy: 0.1900\n",
            "8/8 [==============================] - 1s 3ms/step - loss: 1.1048 - accuracy: 0.6366\n",
            "7/7 [==============================] - 0s 3ms/step - loss: 1.2084 - accuracy: 0.6100\n",
            "The Distance are ... OrderedDict([(0, array([1.43354074])), (1, array([2.30290788])), (2, array([1.24617819])), (3, array([1.15139548])), (4, array([1.2389512])), (5, array([1.38289348])), (6, array([1.32549006])), (7, array([1.37865942])), (8, array([1.31496317])), (9, array([1.29876126])), (10, array([1.45667696])), (11, array([1.28353754]))])\n",
            "The AD are ... [array([0.03576946]), array([0.]), array([0.07333847]), array([0.21026983]), array([0.20857529]), array([0.07650976]), array([0.189956]), array([0.16626459]), array([0.1973359]), array([0.20601654]), array([0.04427176]), array([0.16900384])]\n",
            "7/7 [==============================] - 0s 3ms/step - loss: 0.9740 - accuracy: 0.7357\n",
            "The Acc on each client... [0.15000000596046448, 0.0, 0.2549999952316284, 0.6650000214576721, 0.7200000286102295, 0.3050000071525574, 0.7149999737739563, 0.6600000262260437, 0.7350000143051147, 0.7549999952316284, 0.1899999976158142, 0.6100000143051147]\n",
            "EPOCHS 5 is starting...\n",
            "8/8 [==============================] - 0s 3ms/step - loss: 1.1896 - accuracy: 0.6273\n",
            "7/7 [==============================] - 0s 3ms/step - loss: 2.2525 - accuracy: 0.1200\n",
            "8/8 [==============================] - 0s 3ms/step - loss: 0.6771 - accuracy: 0.8116\n",
            "7/7 [==============================] - 0s 3ms/step - loss: 13.3386 - accuracy: 0.0000e+00\n",
            "8/8 [==============================] - 0s 4ms/step - loss: 1.0370 - accuracy: 0.6744\n",
            "7/7 [==============================] - 0s 3ms/step - loss: 1.4311 - accuracy: 0.4350\n",
            "8/8 [==============================] - 0s 3ms/step - loss: 1.1938 - accuracy: 0.5982\n",
            "7/7 [==============================] - 0s 3ms/step - loss: 1.1102 - accuracy: 0.6150\n",
            "8/8 [==============================] - 0s 4ms/step - loss: 1.1843 - accuracy: 0.6198\n",
            "7/7 [==============================] - 0s 3ms/step - loss: 0.8863 - accuracy: 0.7600\n",
            "8/8 [==============================] - 0s 3ms/step - loss: 1.1509 - accuracy: 0.6234\n",
            "7/7 [==============================] - 0s 3ms/step - loss: 1.6763 - accuracy: 0.2850\n",
            "8/8 [==============================] - 0s 4ms/step - loss: 1.3473 - accuracy: 0.5508\n",
            "7/7 [==============================] - 0s 3ms/step - loss: 1.5286 - accuracy: 0.4200\n",
            "8/8 [==============================] - 0s 3ms/step - loss: 1.0602 - accuracy: 0.6641\n",
            "7/7 [==============================] - 0s 3ms/step - loss: 0.7308 - accuracy: 0.8000\n",
            "8/8 [==============================] - 0s 3ms/step - loss: 1.0133 - accuracy: 0.7014\n",
            "7/7 [==============================] - 0s 3ms/step - loss: 0.6553 - accuracy: 0.8350\n",
            "8/8 [==============================] - 0s 3ms/step - loss: 1.0635 - accuracy: 0.7046\n",
            "7/7 [==============================] - 0s 3ms/step - loss: 0.8951 - accuracy: 0.6950\n",
            "8/8 [==============================] - 1s 4ms/step - loss: 1.0871 - accuracy: 0.6985\n",
            "7/7 [==============================] - 0s 3ms/step - loss: 1.8359 - accuracy: 0.2500\n",
            "8/8 [==============================] - 0s 4ms/step - loss: 1.0601 - accuracy: 0.6620\n",
            "7/7 [==============================] - 0s 3ms/step - loss: 0.7245 - accuracy: 0.8000\n",
            "The Distance are ... OrderedDict([(0, array([1.49625809])), (1, array([2.10566086])), (2, array([1.24098946])), (3, array([1.31359733])), (4, array([1.30062841])), (5, array([1.305329])), (6, array([1.39604287])), (7, array([1.22737474])), (8, array([1.37477642])), (9, array([1.26031543])), (10, array([1.42775098])), (11, array([1.32410631]))])\n",
            "The AD are ... [array([0.026876]), array([0.]), array([0.12575764]), array([0.16534347]), array([0.20699404]), array([0.07725875]), array([0.10398138]), array([0.23444875]), array([0.21116826]), array([0.19707737]), array([0.05996193]), array([0.21283249])]\n",
            "7/7 [==============================] - 0s 3ms/step - loss: 0.8476 - accuracy: 0.7498\n",
            "The Acc on each client... [0.11999999731779099, 0.0, 0.4350000023841858, 0.6150000095367432, 0.7599999904632568, 0.2849999964237213, 0.41999998688697815, 0.800000011920929, 0.8349999785423279, 0.6949999928474426, 0.25, 0.800000011920929]\n",
            "EPOCHS 6 is starting...\n",
            "8/8 [==============================] - 0s 3ms/step - loss: 1.1317 - accuracy: 0.6311\n",
            "7/7 [==============================] - 0s 3ms/step - loss: 1.6357 - accuracy: 0.3250\n",
            "8/8 [==============================] - 0s 4ms/step - loss: 0.6696 - accuracy: 0.7631\n",
            "7/7 [==============================] - 0s 3ms/step - loss: 17.6997 - accuracy: 0.0000e+00\n",
            "8/8 [==============================] - 0s 4ms/step - loss: 1.1170 - accuracy: 0.5979\n",
            "7/7 [==============================] - 0s 3ms/step - loss: 1.0667 - accuracy: 0.6150\n",
            "8/8 [==============================] - 0s 3ms/step - loss: 1.2350 - accuracy: 0.6179\n",
            "7/7 [==============================] - 0s 3ms/step - loss: 0.8985 - accuracy: 0.7650\n",
            "8/8 [==============================] - 0s 4ms/step - loss: 1.1555 - accuracy: 0.6481\n",
            "7/7 [==============================] - 0s 3ms/step - loss: 0.8067 - accuracy: 0.7550\n",
            "8/8 [==============================] - 0s 3ms/step - loss: 1.1030 - accuracy: 0.6663\n",
            "7/7 [==============================] - 0s 3ms/step - loss: 2.3429 - accuracy: 0.2200\n",
            "8/8 [==============================] - 0s 3ms/step - loss: 1.0139 - accuracy: 0.6836\n",
            "7/7 [==============================] - 0s 3ms/step - loss: 0.9079 - accuracy: 0.6850\n",
            "8/8 [==============================] - 0s 4ms/step - loss: 0.9110 - accuracy: 0.7293\n",
            "7/7 [==============================] - 0s 3ms/step - loss: 0.6203 - accuracy: 0.8250\n",
            "8/8 [==============================] - 0s 3ms/step - loss: 0.9420 - accuracy: 0.6882\n",
            "7/7 [==============================] - 0s 3ms/step - loss: 0.7989 - accuracy: 0.7450\n",
            "8/8 [==============================] - 1s 3ms/step - loss: 0.9690 - accuracy: 0.7574\n",
            "7/7 [==============================] - 0s 3ms/step - loss: 0.5847 - accuracy: 0.8500\n",
            "8/8 [==============================] - 0s 4ms/step - loss: 1.0809 - accuracy: 0.6653\n",
            "7/7 [==============================] - 0s 3ms/step - loss: 1.6759 - accuracy: 0.2850\n",
            "8/8 [==============================] - 0s 3ms/step - loss: 0.8937 - accuracy: 0.7188\n",
            "7/7 [==============================] - 0s 3ms/step - loss: 0.8177 - accuracy: 0.7250\n",
            "The Distance are ... OrderedDict([(0, array([1.34963905])), (1, array([2.24925708])), (2, array([1.04235941])), (3, array([1.17025343])), (4, array([1.19943542])), (5, array([1.37128263])), (6, array([1.31336144])), (7, array([1.24579769])), (8, array([1.26302965])), (9, array([1.28834787])), (10, array([1.43036715])), (11, array([1.2967361]))])\n",
            "The AD are ... [array([0.0842835]), array([0.]), array([0.21686236]), array([0.23737054]), array([0.22753005]), array([0.05583187]), array([0.1842065]), array([0.23736183]), array([0.21068299]), array([0.23436706]), array([0.06817801]), array([0.19823151])]\n",
            "7/7 [==============================] - 0s 3ms/step - loss: 0.7895 - accuracy: 0.7775\n",
            "The Acc on each client... [0.32499998807907104, 0.0, 0.6150000095367432, 0.7649999856948853, 0.7549999952316284, 0.2199999988079071, 0.6850000023841858, 0.824999988079071, 0.7450000047683716, 0.8500000238418579, 0.2849999964237213, 0.7250000238418579]\n",
            "EPOCHS 7 is starting...\n",
            "8/8 [==============================] - 0s 4ms/step - loss: 1.0539 - accuracy: 0.6401\n",
            "7/7 [==============================] - 0s 3ms/step - loss: 1.6207 - accuracy: 0.3900\n",
            "8/8 [==============================] - 0s 4ms/step - loss: 0.6914 - accuracy: 0.7600\n",
            "7/7 [==============================] - 0s 3ms/step - loss: 15.3893 - accuracy: 0.0000e+00\n",
            "8/8 [==============================] - 0s 4ms/step - loss: 1.0472 - accuracy: 0.6142\n",
            "7/7 [==============================] - 0s 3ms/step - loss: 0.8799 - accuracy: 0.7200\n",
            "8/8 [==============================] - 0s 4ms/step - loss: 1.0906 - accuracy: 0.6219\n",
            "7/7 [==============================] - 0s 3ms/step - loss: 0.8379 - accuracy: 0.7500\n",
            "8/8 [==============================] - 0s 4ms/step - loss: 0.8721 - accuracy: 0.7445\n",
            "7/7 [==============================] - 0s 4ms/step - loss: 0.6249 - accuracy: 0.8300\n",
            "8/8 [==============================] - 0s 3ms/step - loss: 1.1376 - accuracy: 0.6328\n",
            "7/7 [==============================] - 0s 3ms/step - loss: 1.1293 - accuracy: 0.6350\n",
            "8/8 [==============================] - 0s 3ms/step - loss: 1.0447 - accuracy: 0.6559\n",
            "7/7 [==============================] - 0s 3ms/step - loss: 0.7658 - accuracy: 0.7700\n",
            "8/8 [==============================] - 0s 3ms/step - loss: 0.7795 - accuracy: 0.7751\n",
            "7/7 [==============================] - 0s 3ms/step - loss: 0.8406 - accuracy: 0.7350\n",
            "8/8 [==============================] - 0s 4ms/step - loss: 0.8254 - accuracy: 0.7520\n",
            "7/7 [==============================] - 0s 3ms/step - loss: 0.7754 - accuracy: 0.7350\n",
            "8/8 [==============================] - 1s 4ms/step - loss: 0.7919 - accuracy: 0.7971\n",
            "7/7 [==============================] - 0s 3ms/step - loss: 0.6875 - accuracy: 0.7700\n",
            "8/8 [==============================] - 0s 3ms/step - loss: 1.0336 - accuracy: 0.7024\n",
            "7/7 [==============================] - 0s 3ms/step - loss: 1.7912 - accuracy: 0.2800\n",
            "8/8 [==============================] - 0s 3ms/step - loss: 0.9015 - accuracy: 0.7251\n",
            "7/7 [==============================] - 0s 3ms/step - loss: 0.8436 - accuracy: 0.6950\n",
            "The Distance are ... OrderedDict([(0, array([1.40292478])), (1, array([2.18858337])), (2, array([1.17139246])), (3, array([1.22590681])), (4, array([1.32552614])), (5, array([1.30087121])), (6, array([1.30018754])), (7, array([1.14241132])), (8, array([1.37122723])), (9, array([1.30132744])), (10, array([1.48757678])), (11, array([1.17053474]))])\n",
            "The AD are ... [array([0.09589194]), array([0.]), array([0.22315326]), array([0.22011858]), array([0.22050041]), array([0.17290698]), array([0.20981012]), array([0.23450085]), array([0.18653955]), array([0.2095711]), array([0.06325744]), array([0.21558971])]\n",
            "7/7 [==============================] - 0s 3ms/step - loss: 0.7891 - accuracy: 0.7377\n",
            "The Acc on each client... [0.38999998569488525, 0.0, 0.7200000286102295, 0.75, 0.8299999833106995, 0.6349999904632568, 0.7699999809265137, 0.7350000143051147, 0.7350000143051147, 0.7699999809265137, 0.2800000011920929, 0.6949999928474426]\n",
            "EPOCHS 8 is starting...\n",
            "8/8 [==============================] - 0s 4ms/step - loss: 1.0719 - accuracy: 0.6368\n",
            "7/7 [==============================] - 0s 3ms/step - loss: 1.6328 - accuracy: 0.2350\n",
            "8/8 [==============================] - 0s 4ms/step - loss: 0.5731 - accuracy: 0.7963\n",
            "7/7 [==============================] - 0s 3ms/step - loss: 16.1198 - accuracy: 0.0000e+00\n",
            "8/8 [==============================] - 0s 3ms/step - loss: 0.8767 - accuracy: 0.6912\n",
            "7/7 [==============================] - 0s 3ms/step - loss: 1.1472 - accuracy: 0.5800\n",
            "8/8 [==============================] - 0s 3ms/step - loss: 1.1487 - accuracy: 0.6195\n",
            "7/7 [==============================] - 0s 3ms/step - loss: 0.6201 - accuracy: 0.9000\n",
            "8/8 [==============================] - 0s 3ms/step - loss: 0.9277 - accuracy: 0.7259\n",
            "7/7 [==============================] - 0s 3ms/step - loss: 0.8332 - accuracy: 0.7200\n",
            "8/8 [==============================] - 0s 3ms/step - loss: 0.9762 - accuracy: 0.6786\n",
            "7/7 [==============================] - 0s 3ms/step - loss: 1.8654 - accuracy: 0.2450\n",
            "8/8 [==============================] - 0s 3ms/step - loss: 1.0074 - accuracy: 0.6685\n",
            "7/7 [==============================] - 0s 3ms/step - loss: 0.9643 - accuracy: 0.6700\n",
            "8/8 [==============================] - 0s 4ms/step - loss: 0.8625 - accuracy: 0.7451\n",
            "7/7 [==============================] - 0s 3ms/step - loss: 0.7083 - accuracy: 0.7750\n",
            "8/8 [==============================] - 1s 3ms/step - loss: 0.7960 - accuracy: 0.7380\n",
            "7/7 [==============================] - 0s 3ms/step - loss: 0.7022 - accuracy: 0.7800\n",
            "8/8 [==============================] - 0s 3ms/step - loss: 0.8253 - accuracy: 0.7702\n",
            "7/7 [==============================] - 0s 3ms/step - loss: 0.7322 - accuracy: 0.7550\n",
            "8/8 [==============================] - 0s 3ms/step - loss: 0.7915 - accuracy: 0.7613\n",
            "7/7 [==============================] - 0s 3ms/step - loss: 2.0515 - accuracy: 0.2650\n",
            "8/8 [==============================] - 0s 3ms/step - loss: 0.7107 - accuracy: 0.7621\n",
            "7/7 [==============================] - 0s 4ms/step - loss: 0.5744 - accuracy: 0.8250\n",
            "The Distance are ... OrderedDict([(0, array([1.33923573])), (1, array([2.16389996])), (2, array([1.15639618])), (3, array([1.21300322])), (4, array([1.24368539])), (5, array([1.23570167])), (6, array([1.24621794])), (7, array([1.27169708])), (8, array([1.35055644])), (9, array([1.30986675])), (10, array([1.32330061])), (11, array([1.22375926]))])\n",
            "The AD are ... [array([0.06158078]), array([0.]), array([0.18247842]), array([0.26757276]), array([0.20759018]), array([0.07120454]), array([0.19268559]), array([0.21727545]), array([0.20209491]), array([0.20374129]), array([0.07055758]), array([0.24265098])]\n",
            "7/7 [==============================] - 0s 3ms/step - loss: 0.6892 - accuracy: 0.7792\n",
            "The Acc on each client... [0.23499999940395355, 0.0, 0.5799999833106995, 0.8999999761581421, 0.7200000286102295, 0.24500000476837158, 0.6700000166893005, 0.7749999761581421, 0.7799999713897705, 0.7549999952316284, 0.26499998569488525, 0.824999988079071]\n",
            "EPOCHS 9 is starting...\n",
            "8/8 [==============================] - 0s 3ms/step - loss: 0.9050 - accuracy: 0.6760\n",
            "7/7 [==============================] - 0s 3ms/step - loss: 1.3495 - accuracy: 0.4600\n",
            "8/8 [==============================] - 0s 4ms/step - loss: 0.5194 - accuracy: 0.8377\n",
            "7/7 [==============================] - 0s 3ms/step - loss: 16.3886 - accuracy: 0.0000e+00\n",
            "8/8 [==============================] - 0s 3ms/step - loss: 0.8519 - accuracy: 0.7187\n",
            "7/7 [==============================] - 0s 3ms/step - loss: 0.7028 - accuracy: 0.7950\n",
            "8/8 [==============================] - 0s 4ms/step - loss: 0.9886 - accuracy: 0.6640\n",
            "7/7 [==============================] - 0s 4ms/step - loss: 0.7666 - accuracy: 0.8150\n",
            "8/8 [==============================] - 0s 4ms/step - loss: 0.7608 - accuracy: 0.7434\n",
            "7/7 [==============================] - 0s 3ms/step - loss: 0.5642 - accuracy: 0.8550\n",
            "8/8 [==============================] - 0s 3ms/step - loss: 0.9282 - accuracy: 0.6756\n",
            "7/7 [==============================] - 0s 3ms/step - loss: 1.2935 - accuracy: 0.4650\n",
            "8/8 [==============================] - 0s 4ms/step - loss: 1.0158 - accuracy: 0.6823\n",
            "7/7 [==============================] - 0s 3ms/step - loss: 0.9692 - accuracy: 0.6350\n",
            "8/8 [==============================] - 0s 3ms/step - loss: 0.7630 - accuracy: 0.7702\n",
            "7/7 [==============================] - 0s 3ms/step - loss: 0.8108 - accuracy: 0.7100\n",
            "8/8 [==============================] - 0s 3ms/step - loss: 0.6880 - accuracy: 0.7812\n",
            "7/7 [==============================] - 0s 3ms/step - loss: 0.5706 - accuracy: 0.8200\n",
            "8/8 [==============================] - 0s 4ms/step - loss: 0.7117 - accuracy: 0.8192\n",
            "7/7 [==============================] - 0s 3ms/step - loss: 0.4480 - accuracy: 0.8850\n",
            "8/8 [==============================] - 0s 4ms/step - loss: 0.9103 - accuracy: 0.6893\n",
            "7/7 [==============================] - 0s 3ms/step - loss: 1.4650 - accuracy: 0.3800\n",
            "8/8 [==============================] - 0s 4ms/step - loss: 0.6678 - accuracy: 0.7967\n",
            "7/7 [==============================] - 0s 3ms/step - loss: 0.7186 - accuracy: 0.7700\n",
            "The Distance are ... OrderedDict([(0, array([1.36819184])), (1, array([2.18652178])), (2, array([1.12916055])), (3, array([1.21701128])), (4, array([1.18047556])), (5, array([1.3155742])), (6, array([1.26705559])), (7, array([1.33508269])), (8, array([1.20741046])), (9, array([1.21198556])), (10, array([1.30162127])), (11, array([1.24540479]))])\n",
            "The AD are ... [array([0.11710075]), array([0.]), array([0.25702712]), array([0.24133278]), array([0.26259842]), array([0.1247689]), array([0.17885392]), array([0.18682685]), array([0.24515579]), array([0.26338111]), array([0.10339431]), array([0.22162476])]\n",
            "7/7 [==============================] - 0s 4ms/step - loss: 0.6605 - accuracy: 0.8146\n",
            "The Acc on each client... [0.46000000834465027, 0.0, 0.7950000166893005, 0.8149999976158142, 0.8550000190734863, 0.4650000035762787, 0.6349999904632568, 0.7099999785423279, 0.8199999928474426, 0.8849999904632568, 0.3799999952316284, 0.7699999809265137]\n",
            "EPOCHS 10 is starting...\n",
            "8/8 [==============================] - 0s 4ms/step - loss: 0.8434 - accuracy: 0.7430\n",
            "7/7 [==============================] - 0s 3ms/step - loss: 1.1948 - accuracy: 0.5100\n",
            "8/8 [==============================] - 0s 3ms/step - loss: 0.5800 - accuracy: 0.8123\n",
            "7/7 [==============================] - 0s 3ms/step - loss: 15.0402 - accuracy: 0.0000e+00\n",
            "8/8 [==============================] - 0s 4ms/step - loss: 0.7870 - accuracy: 0.7279\n",
            "7/7 [==============================] - 0s 3ms/step - loss: 0.6929 - accuracy: 0.7900\n",
            "8/8 [==============================] - 0s 4ms/step - loss: 0.9125 - accuracy: 0.6906\n",
            "7/7 [==============================] - 0s 3ms/step - loss: 0.6013 - accuracy: 0.8500\n",
            "8/8 [==============================] - 0s 4ms/step - loss: 0.7991 - accuracy: 0.7752\n",
            "7/7 [==============================] - 0s 3ms/step - loss: 0.6546 - accuracy: 0.8150\n",
            "8/8 [==============================] - 0s 4ms/step - loss: 0.8797 - accuracy: 0.7452\n",
            "7/7 [==============================] - 0s 3ms/step - loss: 1.0550 - accuracy: 0.5600\n",
            "8/8 [==============================] - 0s 4ms/step - loss: 0.8216 - accuracy: 0.7459\n",
            "7/7 [==============================] - 0s 3ms/step - loss: 0.7732 - accuracy: 0.7550\n",
            "8/8 [==============================] - 0s 4ms/step - loss: 0.6819 - accuracy: 0.8248\n",
            "7/7 [==============================] - 0s 3ms/step - loss: 0.7168 - accuracy: 0.7700\n",
            "8/8 [==============================] - 0s 3ms/step - loss: 0.6478 - accuracy: 0.7728\n",
            "7/7 [==============================] - 0s 3ms/step - loss: 0.7695 - accuracy: 0.7350\n",
            "8/8 [==============================] - 0s 4ms/step - loss: 0.6170 - accuracy: 0.8457\n",
            "7/7 [==============================] - 0s 3ms/step - loss: 0.5089 - accuracy: 0.8550\n",
            "8/8 [==============================] - 0s 4ms/step - loss: 0.7956 - accuracy: 0.7115\n",
            "7/7 [==============================] - 0s 3ms/step - loss: 1.4883 - accuracy: 0.3850\n",
            "8/8 [==============================] - 0s 4ms/step - loss: 0.6947 - accuracy: 0.7822\n",
            "7/7 [==============================] - 0s 4ms/step - loss: 0.5191 - accuracy: 0.8300\n",
            "The Distance are ... OrderedDict([(0, array([1.31876368])), (1, array([2.13856345])), (2, array([1.2006971])), (3, array([1.27267352])), (4, array([1.07075777])), (5, array([1.20466164])), (6, array([1.21600242])), (7, array([1.28333414])), (8, array([1.23591739])), (9, array([1.33466448])), (10, array([1.25732557])), (11, array([1.20692072]))])\n",
            "The AD are ... [array([0.13640754]), array([0.]), array([0.23777762]), array([0.23806955]), array([0.27934019]), array([0.16788432]), array([0.22379161]), array([0.2133761]), array([0.21356754]), array([0.22507575]), array([0.10949925]), array([0.24826704])]\n",
            "7/7 [==============================] - 0s 3ms/step - loss: 0.6187 - accuracy: 0.8062\n",
            "The Acc on each client... [0.5099999904632568, 0.0, 0.7900000214576721, 0.8500000238418579, 0.8149999976158142, 0.5600000023841858, 0.7549999952316284, 0.7699999809265137, 0.7350000143051147, 0.8550000190734863, 0.38499999046325684, 0.8299999833106995]\n",
            "EPOCHS 11 is starting...\n",
            "8/8 [==============================] - 0s 3ms/step - loss: 0.7520 - accuracy: 0.7381\n",
            "7/7 [==============================] - 0s 3ms/step - loss: 1.2573 - accuracy: 0.4650\n",
            "8/8 [==============================] - 0s 3ms/step - loss: 0.5539 - accuracy: 0.8088\n",
            "7/7 [==============================] - 0s 3ms/step - loss: 16.4092 - accuracy: 0.0000e+00\n",
            "8/8 [==============================] - 0s 3ms/step - loss: 0.8214 - accuracy: 0.7206\n",
            "7/7 [==============================] - 0s 3ms/step - loss: 0.9434 - accuracy: 0.6500\n",
            "8/8 [==============================] - 0s 4ms/step - loss: 0.7885 - accuracy: 0.7387\n",
            "7/7 [==============================] - 0s 3ms/step - loss: 0.7568 - accuracy: 0.7750\n",
            "8/8 [==============================] - 0s 4ms/step - loss: 0.6683 - accuracy: 0.7809\n",
            "7/7 [==============================] - 0s 3ms/step - loss: 0.9985 - accuracy: 0.6400\n",
            "8/8 [==============================] - 1s 4ms/step - loss: 0.8217 - accuracy: 0.7078\n",
            "7/7 [==============================] - 0s 3ms/step - loss: 1.4781 - accuracy: 0.3500\n",
            "8/8 [==============================] - 0s 4ms/step - loss: 0.8746 - accuracy: 0.7301\n",
            "7/7 [==============================] - 0s 3ms/step - loss: 0.8046 - accuracy: 0.7600\n",
            "8/8 [==============================] - 0s 4ms/step - loss: 0.6079 - accuracy: 0.8261\n",
            "7/7 [==============================] - 0s 3ms/step - loss: 0.5320 - accuracy: 0.8250\n",
            "8/8 [==============================] - 0s 4ms/step - loss: 0.5971 - accuracy: 0.8166\n",
            "7/7 [==============================] - 0s 3ms/step - loss: 0.4844 - accuracy: 0.8500\n",
            "8/8 [==============================] - 0s 4ms/step - loss: 0.6086 - accuracy: 0.8110\n",
            "7/7 [==============================] - 0s 3ms/step - loss: 0.3705 - accuracy: 0.8900\n",
            "8/8 [==============================] - 0s 4ms/step - loss: 1.0065 - accuracy: 0.7058\n",
            "7/7 [==============================] - 0s 4ms/step - loss: 1.2692 - accuracy: 0.4500\n",
            "8/8 [==============================] - 0s 4ms/step - loss: 0.5802 - accuracy: 0.8225\n",
            "7/7 [==============================] - 0s 3ms/step - loss: 0.5971 - accuracy: 0.8000\n",
            "The Distance are ... OrderedDict([(0, array([1.36794631])), (1, array([2.17880218])), (2, array([1.12999663])), (3, array([1.2488926])), (4, array([1.30787089])), (5, array([1.26196032])), (6, array([1.22469702])), (7, array([1.30863229])), (8, array([1.33046465])), (9, array([1.23648855])), (10, array([1.39989999])), (11, array([1.30633257]))])\n",
            "The AD are ... [array([0.11840265]), array([0.]), array([0.20997232]), array([0.22228724]), array([0.17305289]), array([0.09908448]), array([0.2233235]), array([0.22290621]), array([0.22470125]), array([0.25845792]), array([0.11097973]), array([0.21664914])]\n",
            "7/7 [==============================] - 0s 3ms/step - loss: 0.6058 - accuracy: 0.8039\n",
            "The Acc on each client... [0.4650000035762787, 0.0, 0.6499999761581421, 0.7749999761581421, 0.6399999856948853, 0.3499999940395355, 0.7599999904632568, 0.824999988079071, 0.8500000238418579, 0.8899999856948853, 0.44999998807907104, 0.800000011920929]\n",
            "EPOCHS 12 is starting...\n",
            "8/8 [==============================] - 0s 4ms/step - loss: 0.8070 - accuracy: 0.7395\n",
            "7/7 [==============================] - 0s 3ms/step - loss: 1.1200 - accuracy: 0.5550\n",
            "8/8 [==============================] - 0s 3ms/step - loss: 0.4712 - accuracy: 0.8685\n",
            "7/7 [==============================] - 0s 3ms/step - loss: 12.3314 - accuracy: 0.0000e+00\n",
            "8/8 [==============================] - 0s 4ms/step - loss: 0.8533 - accuracy: 0.6934\n",
            "7/7 [==============================] - 0s 3ms/step - loss: 0.7210 - accuracy: 0.7850\n",
            "8/8 [==============================] - 0s 4ms/step - loss: 0.7975 - accuracy: 0.7346\n",
            "7/7 [==============================] - 0s 3ms/step - loss: 0.7133 - accuracy: 0.7700\n",
            "8/8 [==============================] - 1s 4ms/step - loss: 0.8752 - accuracy: 0.7076\n",
            "7/7 [==============================] - 0s 3ms/step - loss: 0.5819 - accuracy: 0.8200\n",
            "8/8 [==============================] - 0s 4ms/step - loss: 0.7995 - accuracy: 0.7084\n",
            "7/7 [==============================] - 0s 3ms/step - loss: 1.0164 - accuracy: 0.5850\n",
            "8/8 [==============================] - 0s 4ms/step - loss: 0.7514 - accuracy: 0.7473\n",
            "7/7 [==============================] - 0s 4ms/step - loss: 0.6942 - accuracy: 0.7600\n",
            "8/8 [==============================] - 0s 3ms/step - loss: 0.5498 - accuracy: 0.8526\n",
            "7/7 [==============================] - 0s 3ms/step - loss: 0.7008 - accuracy: 0.7650\n",
            "8/8 [==============================] - 0s 3ms/step - loss: 0.5952 - accuracy: 0.7951\n",
            "7/7 [==============================] - 0s 3ms/step - loss: 0.5822 - accuracy: 0.8200\n",
            "8/8 [==============================] - 0s 3ms/step - loss: 0.6330 - accuracy: 0.8072\n",
            "7/7 [==============================] - 0s 4ms/step - loss: 0.4780 - accuracy: 0.8500\n",
            "8/8 [==============================] - 0s 4ms/step - loss: 0.7999 - accuracy: 0.7105\n",
            "7/7 [==============================] - 0s 3ms/step - loss: 1.0941 - accuracy: 0.5150\n",
            "8/8 [==============================] - 0s 4ms/step - loss: 0.6013 - accuracy: 0.8038\n",
            "7/7 [==============================] - 0s 3ms/step - loss: 0.6257 - accuracy: 0.7800\n",
            "The Distance are ... OrderedDict([(0, array([1.36402992])), (1, array([2.01381321])), (2, array([1.27142004])), (3, array([1.2509971])), (4, array([1.20137512])), (5, array([1.22288797])), (6, array([1.28569155])), (7, array([1.15541047])), (8, array([1.19471702])), (9, array([1.24881629])), (10, array([1.24143063])), (11, array([1.39951656]))])\n",
            "The AD are ... [array([0.14187384]), array([0.]), array([0.22014]), array([0.22038883]), array([0.24663986]), array([0.17221158]), array([0.21010909]), array([0.2409201]), array([0.24828749]), array([0.24381752]), array([0.14881981]), array([0.19243864])]\n",
            "7/7 [==============================] - 0s 3ms/step - loss: 0.6067 - accuracy: 0.8101\n",
            "The Acc on each client... [0.5550000071525574, 0.0, 0.7850000262260437, 0.7699999809265137, 0.8199999928474426, 0.5849999785423279, 0.7599999904632568, 0.7649999856948853, 0.8199999928474426, 0.8500000238418579, 0.5149999856948853, 0.7799999713897705]\n",
            "EPOCHS 13 is starting...\n",
            "8/8 [==============================] - 0s 3ms/step - loss: 0.8658 - accuracy: 0.7704\n",
            "7/7 [==============================] - 0s 4ms/step - loss: 0.9121 - accuracy: 0.6950\n",
            "8/8 [==============================] - 0s 4ms/step - loss: 0.4693 - accuracy: 0.8447\n",
            "7/7 [==============================] - 0s 3ms/step - loss: 13.7884 - accuracy: 0.0000e+00\n",
            "8/8 [==============================] - 0s 4ms/step - loss: 0.6624 - accuracy: 0.7902\n",
            "7/7 [==============================] - 0s 3ms/step - loss: 0.5812 - accuracy: 0.7850\n",
            "8/8 [==============================] - 1s 4ms/step - loss: 0.8207 - accuracy: 0.7169\n",
            "7/7 [==============================] - 0s 4ms/step - loss: 0.5542 - accuracy: 0.8250\n",
            "8/8 [==============================] - 0s 4ms/step - loss: 0.6203 - accuracy: 0.8367\n",
            "7/7 [==============================] - 0s 3ms/step - loss: 0.4770 - accuracy: 0.8800\n",
            "8/8 [==============================] - 0s 4ms/step - loss: 0.7234 - accuracy: 0.7288\n",
            "7/7 [==============================] - 0s 3ms/step - loss: 1.0651 - accuracy: 0.5700\n",
            "8/8 [==============================] - 0s 4ms/step - loss: 0.7165 - accuracy: 0.7417\n",
            "7/7 [==============================] - 0s 4ms/step - loss: 0.5533 - accuracy: 0.8300\n",
            "8/8 [==============================] - 0s 4ms/step - loss: 0.6578 - accuracy: 0.7798\n",
            "7/7 [==============================] - 0s 3ms/step - loss: 0.4887 - accuracy: 0.8350\n",
            "8/8 [==============================] - 0s 5ms/step - loss: 0.5199 - accuracy: 0.8357\n",
            "7/7 [==============================] - 0s 3ms/step - loss: 0.4197 - accuracy: 0.8850\n",
            "8/8 [==============================] - 0s 4ms/step - loss: 0.5783 - accuracy: 0.8477\n",
            "7/7 [==============================] - 0s 3ms/step - loss: 0.3779 - accuracy: 0.8900\n",
            "8/8 [==============================] - 0s 3ms/step - loss: 0.7720 - accuracy: 0.7143\n",
            "7/7 [==============================] - 0s 3ms/step - loss: 1.0836 - accuracy: 0.5350\n",
            "8/8 [==============================] - 0s 4ms/step - loss: 0.5557 - accuracy: 0.8312\n",
            "7/7 [==============================] - 0s 3ms/step - loss: 0.5316 - accuracy: 0.8300\n",
            "The Distance are ... OrderedDict([(0, array([1.2442379])), (1, array([2.08270202])), (2, array([1.25368844])), (3, array([1.30037877])), (4, array([1.23651308])), (5, array([1.29028329])), (6, array([1.25671366])), (7, array([1.33185217])), (8, array([1.15478109])), (9, array([1.27398641])), (10, array([1.30756804])), (11, array([1.3122859]))])\n",
            "The AD are ... [array([0.2002715]), array([0.]), array([0.22407825]), array([0.22475358]), array([0.25554763]), array([0.1568599]), array([0.23620782]), array([0.22042986]), array([0.27888696]), array([0.24894576]), array([0.14470523]), array([0.2234393])]\n",
            "7/7 [==============================] - 0s 3ms/step - loss: 0.5173 - accuracy: 0.8187\n",
            "The Acc on each client... [0.6949999928474426, 0.0, 0.7850000262260437, 0.824999988079071, 0.8799999952316284, 0.5699999928474426, 0.8299999833106995, 0.8349999785423279, 0.8849999904632568, 0.8899999856948853, 0.5350000262260437, 0.8299999833106995]\n",
            "EPOCHS 14 is starting...\n",
            "8/8 [==============================] - 0s 4ms/step - loss: 0.8870 - accuracy: 0.6908\n",
            "7/7 [==============================] - 0s 3ms/step - loss: 1.1943 - accuracy: 0.5100\n",
            "8/8 [==============================] - 0s 4ms/step - loss: 0.4951 - accuracy: 0.8226\n",
            "7/7 [==============================] - 0s 3ms/step - loss: 13.8619 - accuracy: 0.0000e+00\n",
            "8/8 [==============================] - 0s 4ms/step - loss: 0.6866 - accuracy: 0.7551\n",
            "7/7 [==============================] - 0s 3ms/step - loss: 0.6899 - accuracy: 0.7750\n",
            "8/8 [==============================] - 0s 4ms/step - loss: 0.7677 - accuracy: 0.6884\n",
            "7/7 [==============================] - 0s 3ms/step - loss: 0.5425 - accuracy: 0.8150\n",
            "8/8 [==============================] - 0s 4ms/step - loss: 0.6935 - accuracy: 0.7897\n",
            "7/7 [==============================] - 0s 3ms/step - loss: 0.3811 - accuracy: 0.9000\n",
            "8/8 [==============================] - 0s 4ms/step - loss: 0.8910 - accuracy: 0.6853\n",
            "7/7 [==============================] - 0s 3ms/step - loss: 0.7613 - accuracy: 0.7450\n",
            "8/8 [==============================] - 0s 4ms/step - loss: 0.8313 - accuracy: 0.6873\n",
            "7/7 [==============================] - 0s 3ms/step - loss: 0.7106 - accuracy: 0.7500\n",
            "8/8 [==============================] - 0s 4ms/step - loss: 0.5540 - accuracy: 0.8526\n",
            "7/7 [==============================] - 0s 3ms/step - loss: 0.4984 - accuracy: 0.8300\n",
            "8/8 [==============================] - 0s 4ms/step - loss: 0.5303 - accuracy: 0.8596\n",
            "7/7 [==============================] - 0s 3ms/step - loss: 0.5294 - accuracy: 0.8450\n",
            "8/8 [==============================] - 0s 4ms/step - loss: 0.5597 - accuracy: 0.8332\n",
            "7/7 [==============================] - 0s 3ms/step - loss: 0.5641 - accuracy: 0.8250\n",
            "8/8 [==============================] - 0s 3ms/step - loss: 0.7733 - accuracy: 0.7584\n",
            "7/7 [==============================] - 0s 3ms/step - loss: 0.9503 - accuracy: 0.6300\n",
            "8/8 [==============================] - 0s 4ms/step - loss: 0.5500 - accuracy: 0.8194\n",
            "7/7 [==============================] - 0s 3ms/step - loss: 0.7358 - accuracy: 0.7100\n",
            "The Distance are ... OrderedDict([(0, array([1.48112761])), (1, array([2.10977027])), (2, array([1.1830929])), (3, array([1.29767464])), (4, array([1.28016937])), (5, array([1.30171229])), (6, array([1.29347251])), (7, array([1.25568565])), (8, array([1.31749088])), (9, array([1.30981165])), (10, array([1.33018056])), (11, array([1.26571795]))])\n",
            "The AD are ... [array([0.11596438]), array([0.]), array([0.23740561]), array([0.2226305]), array([0.25019119]), array([0.20268883]), array([0.20573742]), array([0.23645077]), array([0.22629643]), array([0.22264348]), array([0.16659059]), array([0.20024608])]\n",
            "7/7 [==============================] - 0s 3ms/step - loss: 0.5115 - accuracy: 0.8359\n",
            "The Acc on each client... [0.5099999904632568, 0.0, 0.7749999761581421, 0.8149999976158142, 0.8999999761581421, 0.7450000047683716, 0.75, 0.8299999833106995, 0.8450000286102295, 0.824999988079071, 0.6299999952316284, 0.7099999785423279]\n",
            "EPOCHS 15 is starting...\n",
            "8/8 [==============================] - 0s 4ms/step - loss: 0.7091 - accuracy: 0.7875\n",
            "7/7 [==============================] - 0s 3ms/step - loss: 1.1852 - accuracy: 0.5300\n",
            "8/8 [==============================] - 0s 4ms/step - loss: 0.5682 - accuracy: 0.7982\n",
            "7/7 [==============================] - 1s 3ms/step - loss: 11.7513 - accuracy: 0.0000e+00\n",
            "8/8 [==============================] - 0s 4ms/step - loss: 0.5916 - accuracy: 0.8029\n",
            "7/7 [==============================] - 0s 3ms/step - loss: 0.8954 - accuracy: 0.6400\n",
            "8/8 [==============================] - 0s 4ms/step - loss: 0.6900 - accuracy: 0.7592\n",
            "7/7 [==============================] - 0s 4ms/step - loss: 0.5179 - accuracy: 0.8700\n",
            "8/8 [==============================] - 0s 4ms/step - loss: 0.5566 - accuracy: 0.8172\n",
            "7/7 [==============================] - 0s 3ms/step - loss: 0.4183 - accuracy: 0.8750\n",
            "8/8 [==============================] - 0s 4ms/step - loss: 0.7388 - accuracy: 0.6953\n",
            "7/7 [==============================] - 0s 3ms/step - loss: 0.8396 - accuracy: 0.6800\n",
            "8/8 [==============================] - 0s 4ms/step - loss: 0.7336 - accuracy: 0.7261\n",
            "7/7 [==============================] - 0s 3ms/step - loss: 0.6142 - accuracy: 0.8350\n",
            "8/8 [==============================] - 0s 4ms/step - loss: 0.4862 - accuracy: 0.8615\n",
            "7/7 [==============================] - 0s 4ms/step - loss: 0.4919 - accuracy: 0.8500\n",
            "8/8 [==============================] - 0s 4ms/step - loss: 0.4572 - accuracy: 0.8550\n",
            "7/7 [==============================] - 0s 4ms/step - loss: 0.3746 - accuracy: 0.8850\n",
            "8/8 [==============================] - 0s 4ms/step - loss: 0.4729 - accuracy: 0.8544\n",
            "7/7 [==============================] - 0s 3ms/step - loss: 0.3897 - accuracy: 0.8850\n",
            "8/8 [==============================] - 0s 4ms/step - loss: 0.7522 - accuracy: 0.7319\n",
            "7/7 [==============================] - 0s 3ms/step - loss: 1.2079 - accuracy: 0.4900\n",
            "8/8 [==============================] - 0s 4ms/step - loss: 0.5019 - accuracy: 0.8527\n",
            "7/7 [==============================] - 0s 3ms/step - loss: 0.4635 - accuracy: 0.8500\n",
            "The Distance are ... OrderedDict([(0, array([1.4239601])), (1, array([2.1711426])), (2, array([1.30159146])), (3, array([1.22473418])), (4, array([1.28319619])), (5, array([1.28135166])), (6, array([1.23383061])), (7, array([1.31127521])), (8, array([1.24676905])), (9, array([1.34515746])), (10, array([1.34308712])), (11, array([1.34118094]))])\n",
            "The AD are ... [array([0.1276021]), array([0.]), array([0.17414298]), array([0.25563715]), array([0.2425063]), array([0.18880999]), array([0.24313117]), array([0.22905478]), array([0.2543773]), array([0.23054133]), array([0.1279089]), array([0.22230614])]\n",
            "7/7 [==============================] - 0s 3ms/step - loss: 0.4920 - accuracy: 0.8477\n",
            "The Acc on each client... [0.5299999713897705, 0.0, 0.6399999856948853, 0.8700000047683716, 0.875, 0.6800000071525574, 0.8349999785423279, 0.8500000238418579, 0.8849999904632568, 0.8849999904632568, 0.49000000953674316, 0.8500000238418579]\n",
            "EPOCHS 16 is starting...\n",
            "8/8 [==============================] - 0s 5ms/step - loss: 0.6792 - accuracy: 0.7597\n",
            "7/7 [==============================] - 1s 3ms/step - loss: 0.8798 - accuracy: 0.6700\n",
            "8/8 [==============================] - 0s 4ms/step - loss: 0.5495 - accuracy: 0.8500\n",
            "7/7 [==============================] - 0s 3ms/step - loss: 13.8406 - accuracy: 0.0000e+00\n",
            "8/8 [==============================] - 0s 4ms/step - loss: 0.6637 - accuracy: 0.7903\n",
            "7/7 [==============================] - 0s 3ms/step - loss: 0.4027 - accuracy: 0.8700\n",
            "8/8 [==============================] - 0s 4ms/step - loss: 0.8148 - accuracy: 0.7126\n",
            "7/7 [==============================] - 0s 3ms/step - loss: 0.4630 - accuracy: 0.8650\n",
            "8/8 [==============================] - 0s 4ms/step - loss: 0.5654 - accuracy: 0.8311\n",
            "7/7 [==============================] - 0s 3ms/step - loss: 0.6209 - accuracy: 0.8300\n",
            "8/8 [==============================] - 0s 4ms/step - loss: 0.6402 - accuracy: 0.7564\n",
            "7/7 [==============================] - 0s 3ms/step - loss: 0.8780 - accuracy: 0.6750\n",
            "8/8 [==============================] - 0s 4ms/step - loss: 0.6775 - accuracy: 0.7675\n",
            "7/7 [==============================] - 0s 3ms/step - loss: 0.6306 - accuracy: 0.8150\n",
            "8/8 [==============================] - 0s 4ms/step - loss: 0.5246 - accuracy: 0.8581\n",
            "7/7 [==============================] - 0s 3ms/step - loss: 0.4126 - accuracy: 0.8700\n",
            "8/8 [==============================] - 0s 4ms/step - loss: 0.4747 - accuracy: 0.8555\n",
            "7/7 [==============================] - 0s 3ms/step - loss: 0.4140 - accuracy: 0.8700\n",
            "8/8 [==============================] - 0s 4ms/step - loss: 0.5126 - accuracy: 0.8711\n",
            "7/7 [==============================] - 0s 3ms/step - loss: 0.4213 - accuracy: 0.8700\n",
            "8/8 [==============================] - 0s 4ms/step - loss: 0.7035 - accuracy: 0.7774\n",
            "7/7 [==============================] - 0s 3ms/step - loss: 1.1986 - accuracy: 0.5300\n",
            "8/8 [==============================] - 0s 4ms/step - loss: 0.5781 - accuracy: 0.8217\n",
            "7/7 [==============================] - 0s 3ms/step - loss: 0.4902 - accuracy: 0.8450\n",
            "The Distance are ... OrderedDict([(0, array([1.33926264])), (1, array([2.20646099])), (2, array([1.1663728])), (3, array([1.24625845])), (4, array([1.30333523])), (5, array([1.28544361])), (6, array([1.3629007])), (7, array([1.24614608])), (8, array([1.21089856])), (9, array([1.29165956])), (10, array([1.41829962])), (11, array([1.17501647]))])\n",
            "The AD are ... [array([0.17556601]), array([0.]), array([0.27100043]), array([0.24875565]), array([0.22544821]), array([0.18665633]), array([0.20857265]), array([0.25022165]), array([0.25919862]), array([0.23908847]), array([0.12832644]), array([0.26094775])]\n",
            "7/7 [==============================] - 0s 3ms/step - loss: 0.4520 - accuracy: 0.8454\n",
            "The Acc on each client... [0.6700000166893005, 0.0, 0.8700000047683716, 0.8650000095367432, 0.8299999833106995, 0.675000011920929, 0.8149999976158142, 0.8700000047683716, 0.8700000047683716, 0.8700000047683716, 0.5299999713897705, 0.8450000286102295]\n",
            "EPOCHS 17 is starting...\n",
            "8/8 [==============================] - 0s 4ms/step - loss: 0.6882 - accuracy: 0.7794\n",
            "7/7 [==============================] - 0s 5ms/step - loss: 1.0657 - accuracy: 0.5300\n",
            "8/8 [==============================] - 0s 4ms/step - loss: 0.5219 - accuracy: 0.7974\n",
            "7/7 [==============================] - 0s 3ms/step - loss: 12.4385 - accuracy: 0.0000e+00\n",
            "8/8 [==============================] - 0s 5ms/step - loss: 0.6062 - accuracy: 0.8058\n",
            "7/7 [==============================] - 0s 4ms/step - loss: 0.4451 - accuracy: 0.8550\n",
            "8/8 [==============================] - 0s 3ms/step - loss: 0.7623 - accuracy: 0.7115\n",
            "7/7 [==============================] - 0s 3ms/step - loss: 0.4328 - accuracy: 0.8800\n",
            "8/8 [==============================] - 0s 4ms/step - loss: 0.5116 - accuracy: 0.8391\n",
            "7/7 [==============================] - 0s 3ms/step - loss: 0.3938 - accuracy: 0.8850\n",
            "8/8 [==============================] - 0s 3ms/step - loss: 0.8238 - accuracy: 0.6821\n",
            "7/7 [==============================] - 0s 4ms/step - loss: 0.8913 - accuracy: 0.6100\n",
            "8/8 [==============================] - 0s 4ms/step - loss: 0.6320 - accuracy: 0.7927\n",
            "7/7 [==============================] - 0s 5ms/step - loss: 0.4362 - accuracy: 0.8750\n",
            "8/8 [==============================] - 0s 4ms/step - loss: 0.4555 - accuracy: 0.8912\n",
            "7/7 [==============================] - 0s 3ms/step - loss: 0.6036 - accuracy: 0.8050\n",
            "8/8 [==============================] - 0s 5ms/step - loss: 0.4367 - accuracy: 0.8579\n",
            "7/7 [==============================] - 0s 4ms/step - loss: 0.3705 - accuracy: 0.8700\n",
            "8/8 [==============================] - 0s 4ms/step - loss: 0.4262 - accuracy: 0.8531\n",
            "7/7 [==============================] - 0s 3ms/step - loss: 0.3726 - accuracy: 0.8550\n",
            "8/8 [==============================] - 0s 4ms/step - loss: 0.6956 - accuracy: 0.7328\n",
            "7/7 [==============================] - 0s 3ms/step - loss: 1.1595 - accuracy: 0.4850\n",
            "8/8 [==============================] - 1s 4ms/step - loss: 0.5047 - accuracy: 0.8300\n",
            "7/7 [==============================] - 0s 3ms/step - loss: 0.4706 - accuracy: 0.8400\n",
            "The Distance are ... OrderedDict([(0, array([1.37111643])), (1, array([2.14520376])), (2, array([1.2805719])), (3, array([1.25188283])), (4, array([1.25505228])), (5, array([1.29134752])), (6, array([1.33256274])), (7, array([1.37176161])), (8, array([1.14856373])), (9, array([1.26289765])), (10, array([1.40123515])), (11, array([1.31077273]))])\n",
            "The AD are ... [array([0.13452641]), array([0.]), array([0.23758598]), array([0.25164996]), array([0.25227893]), array([0.16768906]), array([0.2308253]), array([0.20419607]), array([0.27586993]), array([0.24182247]), array([0.1194519]), array([0.22647377])]\n",
            "7/7 [==============================] - 0s 3ms/step - loss: 0.4244 - accuracy: 0.8504\n",
            "The Acc on each client... [0.5299999713897705, 0.0, 0.8550000190734863, 0.8799999952316284, 0.8849999904632568, 0.6100000143051147, 0.875, 0.8050000071525574, 0.8700000047683716, 0.8550000190734863, 0.48500001430511475, 0.8399999737739563]\n",
            "EPOCHS 18 is starting...\n",
            "8/8 [==============================] - 0s 4ms/step - loss: 0.7477 - accuracy: 0.7432\n",
            "7/7 [==============================] - 0s 4ms/step - loss: 1.0595 - accuracy: 0.5300\n",
            "8/8 [==============================] - 0s 4ms/step - loss: 0.4255 - accuracy: 0.8571\n",
            "7/7 [==============================] - 0s 3ms/step - loss: 16.3050 - accuracy: 0.0000e+00\n",
            "8/8 [==============================] - 0s 4ms/step - loss: 0.5941 - accuracy: 0.7882\n",
            "7/7 [==============================] - 0s 3ms/step - loss: 0.3789 - accuracy: 0.8750\n",
            "8/8 [==============================] - 0s 4ms/step - loss: 0.5892 - accuracy: 0.8163\n",
            "7/7 [==============================] - 0s 3ms/step - loss: 0.5528 - accuracy: 0.8400\n",
            "8/8 [==============================] - 0s 4ms/step - loss: 0.4669 - accuracy: 0.8555\n",
            "7/7 [==============================] - 0s 3ms/step - loss: 0.3889 - accuracy: 0.8900\n",
            "8/8 [==============================] - 0s 4ms/step - loss: 0.6580 - accuracy: 0.7435\n",
            "7/7 [==============================] - 0s 3ms/step - loss: 0.7078 - accuracy: 0.7350\n",
            "8/8 [==============================] - 0s 4ms/step - loss: 0.6436 - accuracy: 0.7757\n",
            "7/7 [==============================] - 0s 3ms/step - loss: 0.5988 - accuracy: 0.8150\n",
            "8/8 [==============================] - 0s 4ms/step - loss: 0.3821 - accuracy: 0.8740\n",
            "7/7 [==============================] - 0s 3ms/step - loss: 0.4026 - accuracy: 0.8650\n",
            "8/8 [==============================] - 0s 4ms/step - loss: 0.4171 - accuracy: 0.8723\n",
            "7/7 [==============================] - 0s 4ms/step - loss: 0.4187 - accuracy: 0.8600\n",
            "8/8 [==============================] - 0s 3ms/step - loss: 0.4479 - accuracy: 0.8589\n",
            "7/7 [==============================] - 0s 3ms/step - loss: 0.3563 - accuracy: 0.8900\n",
            "8/8 [==============================] - 1s 4ms/step - loss: 0.6865 - accuracy: 0.7773\n",
            "7/7 [==============================] - 0s 3ms/step - loss: 0.9629 - accuracy: 0.6100\n",
            "8/8 [==============================] - 0s 5ms/step - loss: 0.5050 - accuracy: 0.8186\n",
            "7/7 [==============================] - 0s 4ms/step - loss: 0.2709 - accuracy: 0.9350\n",
            "The Distance are ... OrderedDict([(0, array([1.48479775])), (1, array([2.29753484])), (2, array([1.20020719])), (3, array([1.36432346])), (4, array([1.23476238])), (5, array([1.26220254])), (6, array([1.37115118])), (7, array([1.36440944])), (8, array([1.25467341])), (9, array([1.28990643])), (10, array([1.40736545])), (11, array([1.37084199]))])\n",
            "The AD are ... [array([0.12007052]), array([0.]), array([0.26349034]), array([0.21466494]), array([0.25890445]), array([0.20802702]), array([0.2068589]), array([0.22103478]), array([0.24524531]), array([0.24501392]), array([0.14932028]), array([0.23739004])]\n",
            "7/7 [==============================] - 0s 3ms/step - loss: 0.4112 - accuracy: 0.8612\n",
            "The Acc on each client... [0.5299999713897705, 0.0, 0.875, 0.8399999737739563, 0.8899999856948853, 0.7350000143051147, 0.8149999976158142, 0.8650000095367432, 0.8600000143051147, 0.8899999856948853, 0.6100000143051147, 0.9350000023841858]\n",
            "EPOCHS 19 is starting...\n",
            "8/8 [==============================] - 0s 4ms/step - loss: 0.8134 - accuracy: 0.7288\n",
            "7/7 [==============================] - 0s 3ms/step - loss: 0.8606 - accuracy: 0.6650\n",
            "8/8 [==============================] - 0s 4ms/step - loss: 0.5345 - accuracy: 0.8022\n",
            "7/7 [==============================] - 0s 3ms/step - loss: 11.6913 - accuracy: 0.0000e+00\n",
            "8/8 [==============================] - 0s 4ms/step - loss: 0.5860 - accuracy: 0.8256\n",
            "7/7 [==============================] - 0s 3ms/step - loss: 0.6344 - accuracy: 0.7700\n",
            "8/8 [==============================] - 0s 4ms/step - loss: 0.5631 - accuracy: 0.7939\n",
            "7/7 [==============================] - 0s 3ms/step - loss: 0.4999 - accuracy: 0.8350\n",
            "8/8 [==============================] - 0s 5ms/step - loss: 0.4634 - accuracy: 0.8605\n",
            "7/7 [==============================] - 0s 3ms/step - loss: 0.3646 - accuracy: 0.8800\n",
            "8/8 [==============================] - 0s 4ms/step - loss: 0.6930 - accuracy: 0.7295\n",
            "7/7 [==============================] - 0s 4ms/step - loss: 0.8483 - accuracy: 0.6550\n",
            "8/8 [==============================] - 0s 4ms/step - loss: 0.6391 - accuracy: 0.7949\n",
            "7/7 [==============================] - 0s 4ms/step - loss: 0.7175 - accuracy: 0.7600\n",
            "8/8 [==============================] - 0s 4ms/step - loss: 0.3782 - accuracy: 0.8954\n",
            "7/7 [==============================] - 0s 3ms/step - loss: 0.6774 - accuracy: 0.7550\n",
            "8/8 [==============================] - 0s 4ms/step - loss: 0.3958 - accuracy: 0.8810\n",
            "7/7 [==============================] - 0s 4ms/step - loss: 0.4584 - accuracy: 0.8450\n",
            "8/8 [==============================] - 0s 4ms/step - loss: 0.3413 - accuracy: 0.8983\n",
            "7/7 [==============================] - 0s 4ms/step - loss: 0.2793 - accuracy: 0.9200\n",
            "8/8 [==============================] - 0s 4ms/step - loss: 0.7083 - accuracy: 0.7704\n",
            "7/7 [==============================] - 0s 3ms/step - loss: 1.0230 - accuracy: 0.5350\n",
            "8/8 [==============================] - 0s 4ms/step - loss: 0.4149 - accuracy: 0.8501\n",
            "7/7 [==============================] - 0s 4ms/step - loss: 0.3676 - accuracy: 0.8850\n",
            "The Distance are ... OrderedDict([(0, array([1.35689423])), (1, array([2.23191358])), (2, array([1.28906878])), (3, array([1.38277006])), (4, array([1.22083373])), (5, array([1.30643646])), (6, array([1.31934991])), (7, array([1.35929136])), (8, array([1.27607492])), (9, array([1.36194762])), (10, array([1.42891539])), (11, array([1.41584487]))])\n",
            "The AD are ... [array([0.17121034]), array([0.]), array([0.21215597]), array([0.20948699]), array([0.25958603]), array([0.17736304]), array([0.20315485]), array([0.19391625]), array([0.2358655]), array([0.23566848]), array([0.12816922]), array([0.21480761])]\n",
            "7/7 [==============================] - 0s 3ms/step - loss: 0.4417 - accuracy: 0.8477\n",
            "The Acc on each client... [0.6650000214576721, 0.0, 0.7699999809265137, 0.8349999785423279, 0.8799999952316284, 0.6549999713897705, 0.7599999904632568, 0.7549999952316284, 0.8450000286102295, 0.9200000166893005, 0.5350000262260437, 0.8849999904632568]\n"
          ],
          "name": "stdout"
        }
      ]
    },
    {
      "cell_type": "code",
      "metadata": {
        "colab": {
          "base_uri": "https://localhost:8080/",
          "height": 281
        },
        "id": "MlX5KEebHTeY",
        "outputId": "b9d37918-5da7-46f1-89fc-0b0bf8e14f3c"
      },
      "source": [
        "#deal the data\n",
        "S_acc =[S.loss_acc[i][1]*100 for i in range(len(S.loss_acc))]\n",
        "S_loss =[S.loss_acc[i][0] for i in range(len(S.loss_acc))]\n",
        "\n",
        "#prepare show image\n",
        "x = np.arange(len(S.loss_acc))\n",
        "fig = plt.figure()\n",
        "ax1 = fig.add_subplot(111)\n",
        "acc = ax1.plot(x,S_acc,'r',label='Acc')\n",
        "ax1.set_ylabel('Acc')\n",
        "ax1.set_title('Acc-Loss')\n",
        "\n",
        "ax2 = ax1.twinx()\n",
        "loss = ax2.plot(x,S_loss,label='Loss')\n",
        "ax2.set_ylabel('Loss')\n",
        "\n",
        "lns = acc+loss\n",
        "labs = [l.get_label() for l in lns]\n",
        "ax2.legend(lns,labs)\n",
        "plt.show()"
      ],
      "execution_count": 121,
      "outputs": [
        {
          "output_type": "display_data",
          "data": {
            "image/png": "[encoded data removed]",
            "text/plain": [
              "<Figure size 432x288 with 2 Axes>"
            ]
          },
          "metadata": {
            "tags": [],
            "needs_background": "light"
          }
        }
      ]
    },
    {
      "cell_type": "code",
      "metadata": {
        "colab": {
          "base_uri": "https://localhost:8080/"
        },
        "id": "lXC1RS38HTXb",
        "outputId": "950688ec-4bc4-4fec-d762-09b6d279eb2e"
      },
      "source": [
        "NodeList"
      ],
      "execution_count": 103,
      "outputs": [
        {
          "output_type": "execute_result",
          "data": {
            "text/plain": [
              "[[11, 4, 7, 3, 8, 9, 6, 2, 5, 0, 10, 1],\n",
              " [10, 0, 6, 5, 2, 3, 8, 7, 4, 11, 1],\n",
              " [5, 0, 10, 6, 2, 3, 11, 4, 8, 7],\n",
              " [10, 0, 5, 3, 2, 6, 11, 7, 8],\n",
              " [10, 5, 0, 6, 4, 3, 8, 2],\n",
              " [10, 0, 3, 6, 5, 11, 4],\n",
              " [10, 5, 0, 3, 6, 2, 4],\n",
              " [10, 0, 6, 5, 2, 3, 4],\n",
              " [0, 10, 5, 6, 4, 9, 3],\n",
              " [0, 6, 10, 2, 5, 3, 1],\n",
              " [0, 5, 3, 4, 6, 7, 10],\n",
              " [10, 2, 0, 5, 6, 3, 1],\n",
              " [0, 6, 10, 5, 2, 4, 3],\n",
              " [10, 2, 6, 3, 0, 5, 11],\n",
              " [0, 5, 6, 10, 2, 3, 11],\n",
              " [10, 5, 6, 0, 3, 11, 2],\n",
              " [0, 10, 3, 5, 4, 6, 8],\n",
              " [0, 10, 2, 5, 6, 3, 4],\n",
              " [6, 5, 0, 10, 3, 2, 11],\n",
              " [10, 0, 5, 2, 6, 8, 11]]"
            ]
          },
          "metadata": {
            "tags": []
          },
          "execution_count": 103
        }
      ]
    },
    {
      "cell_type": "code",
      "metadata": {
        "colab": {
          "base_uri": "https://localhost:8080/",
          "height": 279
        },
        "id": "LM3n47YxHTNn",
        "outputId": "56b5486c-a230-4327-8381-bcaf243374c7"
      },
      "source": [
        "#deal the data\n",
        "img = np.ones(shape=(NUM_CLIENTS,NUM_EPOCHS),dtype=int)\n",
        "for i in range(len(NodeList)):\n",
        "  for j in NodeList[i]:\n",
        "    img[j][i]=0\n",
        "#prepare show image\n",
        "len_n = len(S.loss_acc)\n",
        "ax = plt.gca()\n",
        "ax.set_ylim(-0.5,NUM_CLIENTS-0.5)\n",
        "ax.set_xlim(-0.5,9.5)\n",
        "miloc = plt.MultipleLocator(1)\n",
        "ax.xaxis.set_minor_locator(miloc)\n",
        "plt.grid()\n",
        "plt.title(\"Nodes in each epoch\")\n",
        "plt.imshow(img*255,cmap='gray')\n",
        "plt.axis('on')\n",
        "plt.xlabel('Epochs')\n",
        "plt.ylabel('Nodes')\n",
        "y = np.arange(0.5,NUM_CLIENTS+0.5,1)\n",
        "x = np.arange(0.5,NUM_EPOCHS+0.5,1)\n",
        "plt.xticks()\n",
        "plt.yticks(y,(int(i-0.5) for i in y))\n",
        "plt.xticks(x,(int(i-0.5) for i in x))\n",
        "plt.show()"
      ],
      "execution_count": 104,
      "outputs": [
        {
          "output_type": "display_data",
          "data": {
            "image/png": "[encoded data removed]",
            "text/plain": [
              "<Figure size 432x288 with 1 Axes>"
            ]
          },
          "metadata": {
            "tags": [],
            "needs_background": "light"
          }
        }
      ]
    },
    {
      "cell_type": "markdown",
      "metadata": {
        "id": "i2axuRBsO6V7"
      },
      "source": [
        "设置对照组，即普通的FedAvg"
      ]
    },
    {
      "cell_type": "code",
      "metadata": {
        "id": "wwI_gLjwO5w4"
      },
      "source": [
        "def FedAvg_Baseline(NUM_CLIENTS,model):\n",
        "  iterModel = model.copy()\n",
        "  len_it = len(iterModel.trainable_variables)\n",
        "  all_weights = []\n",
        "  for weights_index in range(len_it):\n",
        "    tmp =np.zeros(iterModel.trainable_variables[weights_index].numpy().shape,dtype='float64')\n",
        "    for node in range(NUM_CLIENTS):\n",
        "      tmp += clients[node].model.trainable_variables[weights_index].numpy()\n",
        "    all_weights.append(tmp/NUM_CLIENTS)\n",
        "  # print(all_weights)\n",
        "  iterModel_vars = iterModel.trainable_variables\n",
        "  for iter_v,n in zip(iterModel_vars,all_weights):\n",
        "    iter_v.assign(n)\n",
        "  return iterModel"
      ],
      "execution_count": 105,
      "outputs": []
    },
    {
      "cell_type": "code",
      "metadata": {
        "colab": {
          "base_uri": "https://localhost:8080/"
        },
        "id": "X5o0nVueO0m7",
        "outputId": "67fc3681-4dbe-4460-a4d2-b33f82211a03"
      },
      "source": [
        "InitModel = FLModel(row=28,col=28,num_classes=11)\n",
        "S2 = ParamServer(\"\")\n",
        "S2.PreEval(InitModel,validation_data)\n",
        "SendModel = InitModel"
      ],
      "execution_count": 106,
      "outputs": [
        {
          "output_type": "stream",
          "text": [
            "7/7 [==============================] - 0s 3ms/step - loss: 2.3944 - accuracy: 0.0334\n"
          ],
          "name": "stdout"
        }
      ]
    },
    {
      "cell_type": "code",
      "metadata": {
        "colab": {
          "base_uri": "https://localhost:8080/"
        },
        "id": "KW2JdgUEP0C5",
        "outputId": "e2fec499-0c74-4ab2-dce2-ddbd39cc158f"
      },
      "source": [
        "SendModel = S2.PreTrain(InitModel,DigitDataSet[0][0:200],DigitDataSet[1][0:200],epochs=1)\n",
        "S2.PreEval(SendModel,validation_data)"
      ],
      "execution_count": 65,
      "outputs": [
        {
          "output_type": "stream",
          "text": [
            "7/7 [==============================] - 0s 4ms/step - loss: 2.3702 - accuracy: 0.1414\n",
            "7/7 [==============================] - 0s 3ms/step - loss: 2.1797 - accuracy: 0.2646\n"
          ],
          "name": "stdout"
        }
      ]
    },
    {
      "cell_type": "code",
      "metadata": {
        "id": "Bwd2uL1FUpeH"
      },
      "source": [
        "NUM_EPOCHS = 10"
      ],
      "execution_count": null,
      "outputs": []
    },
    {
      "cell_type": "code",
      "metadata": {
        "colab": {
          "base_uri": "https://localhost:8080/"
        },
        "id": "dejoUrZlPz5l",
        "outputId": "92dfaf09-566a-4606-d373-d83639293dca"
      },
      "source": [
        "for e in range(NUM_EPOCHS):\n",
        "  print(\"EPOCHS {} is starting...\".format(e))\n",
        "  for i in range(NUM_CLIENTS):\n",
        "    clients[i].ReceiveModel(SendModel.copy())\n",
        "    clients[i].NodeTrain()\n",
        "    # clients[i].NodeEval()\n",
        "    # DIS.append(Distance(SendModel,clients[i].model))\n",
        "  FedModel = FedAvg_Baseline(NUM_CLIENTS,SendModel)\n",
        "  S2.PreEval(FedModel,validation_data)\n",
        "  SendModel = FedModel.copy()"
      ],
      "execution_count": 107,
      "outputs": [
        {
          "output_type": "stream",
          "text": [
            "EPOCHS 0 is starting...\n",
            "8/8 [==============================] - 0s 3ms/step - loss: 2.0611 - accuracy: 0.4947\n",
            "8/8 [==============================] - 0s 3ms/step - loss: 1.8808 - accuracy: 0.6705\n",
            "8/8 [==============================] - 0s 3ms/step - loss: 2.3386 - accuracy: 0.2112\n",
            "8/8 [==============================] - 0s 3ms/step - loss: 2.3441 - accuracy: 0.1737\n",
            "8/8 [==============================] - 0s 3ms/step - loss: 2.3560 - accuracy: 0.1416\n",
            "8/8 [==============================] - 0s 3ms/step - loss: 2.1086 - accuracy: 0.4595\n",
            "8/8 [==============================] - 0s 3ms/step - loss: 2.3411 - accuracy: 0.2446\n",
            "8/8 [==============================] - 0s 3ms/step - loss: 2.3789 - accuracy: 0.1214\n",
            "8/8 [==============================] - 0s 3ms/step - loss: 2.3851 - accuracy: 0.1302\n",
            "8/8 [==============================] - 0s 3ms/step - loss: 2.3700 - accuracy: 0.1380\n",
            "8/8 [==============================] - 0s 3ms/step - loss: 2.0600 - accuracy: 0.5164\n",
            "8/8 [==============================] - 0s 3ms/step - loss: 2.3808 - accuracy: 0.0742\n",
            "7/7 [==============================] - 0s 3ms/step - loss: 2.5689 - accuracy: 0.0000e+00\n",
            "EPOCHS 1 is starting...\n",
            "8/8 [==============================] - 0s 3ms/step - loss: 1.4149 - accuracy: 0.7184\n",
            "8/8 [==============================] - 0s 3ms/step - loss: 0.6317 - accuracy: 0.9874\n",
            "8/8 [==============================] - 0s 3ms/step - loss: 2.1324 - accuracy: 0.3316\n",
            "8/8 [==============================] - 0s 3ms/step - loss: 2.2330 - accuracy: 0.2548\n",
            "8/8 [==============================] - 0s 3ms/step - loss: 2.3324 - accuracy: 0.1577\n",
            "8/8 [==============================] - 0s 3ms/step - loss: 1.5814 - accuracy: 0.6741\n",
            "8/8 [==============================] - 0s 3ms/step - loss: 2.1679 - accuracy: 0.2855\n",
            "8/8 [==============================] - 0s 4ms/step - loss: 2.3695 - accuracy: 0.1818\n",
            "8/8 [==============================] - 0s 3ms/step - loss: 2.3813 - accuracy: 0.1706\n",
            "8/8 [==============================] - 0s 3ms/step - loss: 2.4166 - accuracy: 0.1156\n",
            "8/8 [==============================] - 0s 3ms/step - loss: 1.2993 - accuracy: 0.7770\n",
            "8/8 [==============================] - 0s 4ms/step - loss: 2.4070 - accuracy: 0.1907\n",
            "7/7 [==============================] - 0s 3ms/step - loss: 2.3718 - accuracy: 0.0000e+00\n",
            "EPOCHS 2 is starting...\n",
            "8/8 [==============================] - 0s 3ms/step - loss: 1.4180 - accuracy: 0.7436\n",
            "8/8 [==============================] - 0s 3ms/step - loss: 0.7279 - accuracy: 0.9785\n",
            "8/8 [==============================] - 0s 3ms/step - loss: 1.9801 - accuracy: 0.3469\n",
            "8/8 [==============================] - 0s 3ms/step - loss: 2.1258 - accuracy: 0.3157\n",
            "8/8 [==============================] - 1s 3ms/step - loss: 2.1989 - accuracy: 0.2227\n",
            "8/8 [==============================] - 0s 3ms/step - loss: 1.5823 - accuracy: 0.6556\n",
            "8/8 [==============================] - 0s 4ms/step - loss: 2.0266 - accuracy: 0.3385\n",
            "8/8 [==============================] - 0s 3ms/step - loss: 2.1778 - accuracy: 0.2376\n",
            "8/8 [==============================] - 0s 3ms/step - loss: 2.2308 - accuracy: 0.2438\n",
            "8/8 [==============================] - 0s 3ms/step - loss: 2.2695 - accuracy: 0.1830\n",
            "8/8 [==============================] - 0s 3ms/step - loss: 1.3932 - accuracy: 0.7641\n",
            "8/8 [==============================] - 0s 3ms/step - loss: 2.1998 - accuracy: 0.2034\n",
            "7/7 [==============================] - 0s 3ms/step - loss: 2.2779 - accuracy: 0.0482\n",
            "EPOCHS 3 is starting...\n",
            "8/8 [==============================] - 0s 3ms/step - loss: 1.2669 - accuracy: 0.7291\n",
            "8/8 [==============================] - 0s 3ms/step - loss: 0.4911 - accuracy: 0.9820\n",
            "8/8 [==============================] - 0s 3ms/step - loss: 1.8382 - accuracy: 0.3824\n",
            "8/8 [==============================] - 0s 3ms/step - loss: 1.9955 - accuracy: 0.3257\n",
            "8/8 [==============================] - 0s 3ms/step - loss: 2.0406 - accuracy: 0.3449\n",
            "8/8 [==============================] - 1s 3ms/step - loss: 1.3776 - accuracy: 0.6804\n",
            "8/8 [==============================] - 0s 3ms/step - loss: 1.9100 - accuracy: 0.3528\n",
            "8/8 [==============================] - 0s 3ms/step - loss: 2.0309 - accuracy: 0.3486\n",
            "8/8 [==============================] - 0s 4ms/step - loss: 2.0256 - accuracy: 0.3559\n",
            "8/8 [==============================] - 0s 3ms/step - loss: 2.0891 - accuracy: 0.3062\n",
            "8/8 [==============================] - 0s 4ms/step - loss: 1.1202 - accuracy: 0.7851\n",
            "8/8 [==============================] - 0s 3ms/step - loss: 2.0535 - accuracy: 0.2893\n",
            "7/7 [==============================] - 0s 3ms/step - loss: 2.0545 - accuracy: 0.1351\n",
            "EPOCHS 4 is starting...\n",
            "8/8 [==============================] - 0s 3ms/step - loss: 1.1202 - accuracy: 0.7341\n",
            "8/8 [==============================] - 0s 3ms/step - loss: 0.4004 - accuracy: 0.9538\n",
            "8/8 [==============================] - 0s 3ms/step - loss: 1.6196 - accuracy: 0.4804\n",
            "8/8 [==============================] - 0s 3ms/step - loss: 1.8122 - accuracy: 0.4049\n",
            "8/8 [==============================] - 0s 3ms/step - loss: 1.7923 - accuracy: 0.4563\n",
            "8/8 [==============================] - 0s 3ms/step - loss: 1.3318 - accuracy: 0.6737\n",
            "8/8 [==============================] - 1s 3ms/step - loss: 1.6376 - accuracy: 0.4618\n",
            "8/8 [==============================] - 0s 3ms/step - loss: 1.7231 - accuracy: 0.4727\n",
            "8/8 [==============================] - 0s 3ms/step - loss: 1.7408 - accuracy: 0.4817\n",
            "8/8 [==============================] - 0s 4ms/step - loss: 1.8248 - accuracy: 0.3925\n",
            "8/8 [==============================] - 0s 3ms/step - loss: 1.0029 - accuracy: 0.7563\n",
            "8/8 [==============================] - 0s 3ms/step - loss: 1.7455 - accuracy: 0.4325\n",
            "7/7 [==============================] - 0s 3ms/step - loss: 1.6892 - accuracy: 0.2809\n",
            "EPOCHS 5 is starting...\n",
            "8/8 [==============================] - 0s 3ms/step - loss: 1.0339 - accuracy: 0.7306\n",
            "8/8 [==============================] - 0s 3ms/step - loss: 0.4313 - accuracy: 0.9145\n",
            "8/8 [==============================] - 0s 4ms/step - loss: 1.3401 - accuracy: 0.5525\n",
            "8/8 [==============================] - 0s 4ms/step - loss: 1.5553 - accuracy: 0.4741\n",
            "8/8 [==============================] - 0s 3ms/step - loss: 1.4151 - accuracy: 0.5290\n",
            "8/8 [==============================] - 0s 3ms/step - loss: 1.1608 - accuracy: 0.6443\n",
            "8/8 [==============================] - 0s 3ms/step - loss: 1.4380 - accuracy: 0.4749\n",
            "8/8 [==============================] - 1s 4ms/step - loss: 1.4555 - accuracy: 0.5365\n",
            "8/8 [==============================] - 0s 3ms/step - loss: 1.4423 - accuracy: 0.5523\n",
            "8/8 [==============================] - 0s 3ms/step - loss: 1.4813 - accuracy: 0.5389\n",
            "8/8 [==============================] - 0s 3ms/step - loss: 0.9229 - accuracy: 0.7635\n",
            "8/8 [==============================] - 0s 3ms/step - loss: 1.4260 - accuracy: 0.5654\n",
            "7/7 [==============================] - 0s 3ms/step - loss: 1.4858 - accuracy: 0.3833\n",
            "EPOCHS 6 is starting...\n",
            "8/8 [==============================] - 0s 4ms/step - loss: 0.9530 - accuracy: 0.6991\n",
            "8/8 [==============================] - 0s 3ms/step - loss: 0.4378 - accuracy: 0.9208\n",
            "8/8 [==============================] - 0s 4ms/step - loss: 1.2231 - accuracy: 0.5728\n",
            "8/8 [==============================] - 0s 3ms/step - loss: 1.3777 - accuracy: 0.5095\n",
            "8/8 [==============================] - 0s 3ms/step - loss: 1.2984 - accuracy: 0.5933\n",
            "8/8 [==============================] - 0s 3ms/step - loss: 1.0332 - accuracy: 0.6735\n",
            "8/8 [==============================] - 0s 3ms/step - loss: 1.3913 - accuracy: 0.5849\n",
            "8/8 [==============================] - 0s 3ms/step - loss: 1.1404 - accuracy: 0.6348\n",
            "8/8 [==============================] - 1s 3ms/step - loss: 1.2513 - accuracy: 0.6094\n",
            "8/8 [==============================] - 0s 3ms/step - loss: 1.3626 - accuracy: 0.5846\n",
            "8/8 [==============================] - 0s 3ms/step - loss: 0.8811 - accuracy: 0.7415\n",
            "8/8 [==============================] - 0s 4ms/step - loss: 1.3041 - accuracy: 0.5708\n",
            "7/7 [==============================] - 0s 3ms/step - loss: 1.2012 - accuracy: 0.5502\n",
            "EPOCHS 7 is starting...\n",
            "8/8 [==============================] - 0s 4ms/step - loss: 0.8916 - accuracy: 0.7828\n",
            "8/8 [==============================] - 0s 3ms/step - loss: 0.4101 - accuracy: 0.9306\n",
            "8/8 [==============================] - 0s 3ms/step - loss: 1.1317 - accuracy: 0.5908\n",
            "8/8 [==============================] - 0s 3ms/step - loss: 1.1108 - accuracy: 0.6273\n",
            "8/8 [==============================] - 0s 3ms/step - loss: 1.1858 - accuracy: 0.6294\n",
            "8/8 [==============================] - 0s 4ms/step - loss: 1.0213 - accuracy: 0.6695\n",
            "8/8 [==============================] - 0s 3ms/step - loss: 1.1499 - accuracy: 0.6524\n",
            "8/8 [==============================] - 0s 3ms/step - loss: 1.0441 - accuracy: 0.7007\n",
            "8/8 [==============================] - 0s 3ms/step - loss: 0.9824 - accuracy: 0.7039\n",
            "8/8 [==============================] - 0s 3ms/step - loss: 1.0986 - accuracy: 0.6866\n",
            "8/8 [==============================] - 0s 3ms/step - loss: 0.9430 - accuracy: 0.7934\n",
            "8/8 [==============================] - 0s 3ms/step - loss: 1.0890 - accuracy: 0.6367\n",
            "7/7 [==============================] - 0s 3ms/step - loss: 1.0901 - accuracy: 0.5665\n",
            "EPOCHS 8 is starting...\n",
            "8/8 [==============================] - 0s 3ms/step - loss: 0.8034 - accuracy: 0.7817\n",
            "8/8 [==============================] - 0s 3ms/step - loss: 0.4186 - accuracy: 0.8622\n",
            "8/8 [==============================] - 0s 4ms/step - loss: 1.0296 - accuracy: 0.6088\n",
            "8/8 [==============================] - 0s 4ms/step - loss: 1.1239 - accuracy: 0.6224\n",
            "8/8 [==============================] - 0s 4ms/step - loss: 1.0005 - accuracy: 0.6774\n",
            "8/8 [==============================] - 0s 3ms/step - loss: 0.9292 - accuracy: 0.7477\n",
            "8/8 [==============================] - 0s 3ms/step - loss: 1.0072 - accuracy: 0.6568\n",
            "8/8 [==============================] - 0s 3ms/step - loss: 0.9495 - accuracy: 0.7210\n",
            "8/8 [==============================] - 0s 3ms/step - loss: 0.8378 - accuracy: 0.7707\n",
            "8/8 [==============================] - 0s 3ms/step - loss: 1.0044 - accuracy: 0.6812\n",
            "8/8 [==============================] - 0s 3ms/step - loss: 0.7814 - accuracy: 0.7727\n",
            "8/8 [==============================] - 0s 3ms/step - loss: 0.9464 - accuracy: 0.7309\n",
            "7/7 [==============================] - 0s 3ms/step - loss: 0.9856 - accuracy: 0.6500\n",
            "EPOCHS 9 is starting...\n",
            "8/8 [==============================] - 0s 4ms/step - loss: 0.8882 - accuracy: 0.7064\n",
            "8/8 [==============================] - 0s 3ms/step - loss: 0.3343 - accuracy: 0.9182\n",
            "8/8 [==============================] - 0s 3ms/step - loss: 0.8894 - accuracy: 0.6808\n",
            "8/8 [==============================] - 0s 3ms/step - loss: 1.0300 - accuracy: 0.6591\n",
            "8/8 [==============================] - 0s 4ms/step - loss: 0.9119 - accuracy: 0.6993\n",
            "8/8 [==============================] - 0s 3ms/step - loss: 0.8249 - accuracy: 0.7207\n",
            "8/8 [==============================] - 0s 3ms/step - loss: 1.1240 - accuracy: 0.6493\n",
            "8/8 [==============================] - 0s 4ms/step - loss: 0.8910 - accuracy: 0.7298\n",
            "8/8 [==============================] - 0s 3ms/step - loss: 0.8422 - accuracy: 0.7729\n",
            "8/8 [==============================] - 0s 4ms/step - loss: 0.9255 - accuracy: 0.7166\n",
            "8/8 [==============================] - 0s 3ms/step - loss: 0.7918 - accuracy: 0.7579\n",
            "8/8 [==============================] - 0s 4ms/step - loss: 0.9194 - accuracy: 0.7150\n",
            "7/7 [==============================] - 0s 3ms/step - loss: 0.9184 - accuracy: 0.6641\n",
            "EPOCHS 10 is starting...\n",
            "8/8 [==============================] - 0s 3ms/step - loss: 0.7422 - accuracy: 0.7286\n",
            "8/8 [==============================] - 0s 3ms/step - loss: 0.3339 - accuracy: 0.8871\n",
            "8/8 [==============================] - 0s 3ms/step - loss: 0.8349 - accuracy: 0.6928\n",
            "8/8 [==============================] - 0s 3ms/step - loss: 0.9311 - accuracy: 0.6821\n",
            "8/8 [==============================] - 0s 3ms/step - loss: 0.8352 - accuracy: 0.7494\n",
            "8/8 [==============================] - 0s 3ms/step - loss: 0.9192 - accuracy: 0.6747\n",
            "8/8 [==============================] - 0s 3ms/step - loss: 0.9358 - accuracy: 0.6896\n",
            "8/8 [==============================] - 0s 3ms/step - loss: 0.7742 - accuracy: 0.7584\n",
            "8/8 [==============================] - 0s 3ms/step - loss: 0.8185 - accuracy: 0.7713\n",
            "8/8 [==============================] - 0s 4ms/step - loss: 0.8175 - accuracy: 0.7936\n",
            "8/8 [==============================] - 0s 4ms/step - loss: 0.6996 - accuracy: 0.7719\n",
            "8/8 [==============================] - 0s 3ms/step - loss: 0.8371 - accuracy: 0.7787\n",
            "7/7 [==============================] - 0s 3ms/step - loss: 0.8267 - accuracy: 0.7555\n",
            "EPOCHS 11 is starting...\n",
            "8/8 [==============================] - 1s 3ms/step - loss: 0.7172 - accuracy: 0.7396\n",
            "8/8 [==============================] - 0s 3ms/step - loss: 0.4598 - accuracy: 0.8313\n",
            "8/8 [==============================] - 0s 3ms/step - loss: 0.8568 - accuracy: 0.6831\n",
            "8/8 [==============================] - 0s 4ms/step - loss: 0.9603 - accuracy: 0.6657\n",
            "8/8 [==============================] - 0s 3ms/step - loss: 0.7821 - accuracy: 0.7436\n",
            "8/8 [==============================] - 0s 4ms/step - loss: 0.6700 - accuracy: 0.7248\n",
            "8/8 [==============================] - 0s 3ms/step - loss: 0.8746 - accuracy: 0.7193\n",
            "8/8 [==============================] - 0s 3ms/step - loss: 0.7717 - accuracy: 0.7686\n",
            "8/8 [==============================] - 0s 3ms/step - loss: 0.6562 - accuracy: 0.7685\n",
            "8/8 [==============================] - 0s 3ms/step - loss: 0.7123 - accuracy: 0.8018\n",
            "8/8 [==============================] - 0s 3ms/step - loss: 0.7527 - accuracy: 0.7298\n",
            "8/8 [==============================] - 0s 4ms/step - loss: 0.7445 - accuracy: 0.7417\n",
            "7/7 [==============================] - 0s 3ms/step - loss: 0.8637 - accuracy: 0.7289\n",
            "EPOCHS 12 is starting...\n",
            "8/8 [==============================] - 0s 4ms/step - loss: 0.6762 - accuracy: 0.7715\n",
            "8/8 [==============================] - 1s 3ms/step - loss: 0.3434 - accuracy: 0.9127\n",
            "8/8 [==============================] - 0s 3ms/step - loss: 0.7024 - accuracy: 0.7700\n",
            "8/8 [==============================] - 0s 3ms/step - loss: 0.7738 - accuracy: 0.7403\n",
            "8/8 [==============================] - 0s 3ms/step - loss: 0.7510 - accuracy: 0.7803\n",
            "8/8 [==============================] - 0s 3ms/step - loss: 0.7553 - accuracy: 0.7189\n",
            "8/8 [==============================] - 0s 4ms/step - loss: 0.8479 - accuracy: 0.7240\n",
            "8/8 [==============================] - 0s 3ms/step - loss: 0.6800 - accuracy: 0.7832\n",
            "8/8 [==============================] - 0s 3ms/step - loss: 0.7186 - accuracy: 0.7959\n",
            "8/8 [==============================] - 0s 3ms/step - loss: 0.6410 - accuracy: 0.8174\n",
            "8/8 [==============================] - 0s 3ms/step - loss: 0.6088 - accuracy: 0.8367\n",
            "8/8 [==============================] - 0s 3ms/step - loss: 0.7681 - accuracy: 0.7778\n",
            "7/7 [==============================] - 0s 3ms/step - loss: 0.7526 - accuracy: 0.7434\n",
            "EPOCHS 13 is starting...\n",
            "8/8 [==============================] - 0s 4ms/step - loss: 0.6530 - accuracy: 0.7897\n",
            "8/8 [==============================] - 0s 3ms/step - loss: 0.3065 - accuracy: 0.8632\n",
            "8/8 [==============================] - 1s 4ms/step - loss: 0.7538 - accuracy: 0.7163\n",
            "8/8 [==============================] - 0s 3ms/step - loss: 0.8502 - accuracy: 0.7171\n",
            "8/8 [==============================] - 0s 3ms/step - loss: 0.7395 - accuracy: 0.7608\n",
            "8/8 [==============================] - 0s 4ms/step - loss: 0.7645 - accuracy: 0.6811\n",
            "8/8 [==============================] - 0s 3ms/step - loss: 0.7865 - accuracy: 0.7612\n",
            "8/8 [==============================] - 0s 3ms/step - loss: 0.7038 - accuracy: 0.7992\n",
            "8/8 [==============================] - 0s 4ms/step - loss: 0.6807 - accuracy: 0.8063\n",
            "8/8 [==============================] - 0s 4ms/step - loss: 0.6038 - accuracy: 0.8467\n",
            "8/8 [==============================] - 0s 3ms/step - loss: 0.5184 - accuracy: 0.7952\n",
            "8/8 [==============================] - 0s 3ms/step - loss: 0.7032 - accuracy: 0.7811\n",
            "7/7 [==============================] - 0s 3ms/step - loss: 0.7741 - accuracy: 0.7411\n",
            "EPOCHS 14 is starting...\n",
            "8/8 [==============================] - 0s 3ms/step - loss: 0.6575 - accuracy: 0.7546\n",
            "8/8 [==============================] - 0s 3ms/step - loss: 0.2702 - accuracy: 0.9309\n",
            "8/8 [==============================] - 0s 4ms/step - loss: 0.6661 - accuracy: 0.7931\n",
            "8/8 [==============================] - 1s 3ms/step - loss: 0.8080 - accuracy: 0.7022\n",
            "8/8 [==============================] - 0s 4ms/step - loss: 0.7534 - accuracy: 0.7696\n",
            "8/8 [==============================] - 0s 3ms/step - loss: 0.6648 - accuracy: 0.7562\n",
            "8/8 [==============================] - 0s 4ms/step - loss: 0.7509 - accuracy: 0.7326\n",
            "8/8 [==============================] - 0s 3ms/step - loss: 0.5983 - accuracy: 0.8181\n",
            "8/8 [==============================] - 0s 3ms/step - loss: 0.6172 - accuracy: 0.8262\n",
            "8/8 [==============================] - 0s 4ms/step - loss: 0.6533 - accuracy: 0.8057\n",
            "8/8 [==============================] - 0s 4ms/step - loss: 0.5522 - accuracy: 0.7993\n",
            "8/8 [==============================] - 0s 4ms/step - loss: 0.6456 - accuracy: 0.7948\n",
            "7/7 [==============================] - 0s 3ms/step - loss: 0.6824 - accuracy: 0.7742\n",
            "EPOCHS 15 is starting...\n",
            "8/8 [==============================] - 0s 4ms/step - loss: 0.7145 - accuracy: 0.7337\n",
            "8/8 [==============================] - 0s 4ms/step - loss: 0.3902 - accuracy: 0.8609\n",
            "8/8 [==============================] - 0s 3ms/step - loss: 0.6057 - accuracy: 0.7904\n",
            "8/8 [==============================] - 0s 3ms/step - loss: 0.7380 - accuracy: 0.7399\n",
            "8/8 [==============================] - 0s 3ms/step - loss: 0.7050 - accuracy: 0.7959\n",
            "8/8 [==============================] - 0s 4ms/step - loss: 0.6866 - accuracy: 0.7857\n",
            "8/8 [==============================] - 0s 3ms/step - loss: 0.6531 - accuracy: 0.7917\n",
            "8/8 [==============================] - 0s 3ms/step - loss: 0.5618 - accuracy: 0.8008\n",
            "8/8 [==============================] - 0s 3ms/step - loss: 0.5236 - accuracy: 0.8533\n",
            "8/8 [==============================] - 0s 3ms/step - loss: 0.5890 - accuracy: 0.8347\n",
            "8/8 [==============================] - 0s 3ms/step - loss: 0.5056 - accuracy: 0.8227\n",
            "8/8 [==============================] - 0s 3ms/step - loss: 0.6828 - accuracy: 0.7919\n",
            "7/7 [==============================] - 0s 3ms/step - loss: 0.6698 - accuracy: 0.7811\n",
            "EPOCHS 16 is starting...\n",
            "8/8 [==============================] - 0s 3ms/step - loss: 0.5616 - accuracy: 0.8115\n",
            "8/8 [==============================] - 0s 3ms/step - loss: 0.3099 - accuracy: 0.8876\n",
            "8/8 [==============================] - 0s 3ms/step - loss: 0.6442 - accuracy: 0.7715\n",
            "8/8 [==============================] - 0s 3ms/step - loss: 0.7713 - accuracy: 0.7441\n",
            "8/8 [==============================] - 0s 4ms/step - loss: 0.7329 - accuracy: 0.7728\n",
            "8/8 [==============================] - 0s 4ms/step - loss: 0.7101 - accuracy: 0.6964\n",
            "8/8 [==============================] - 0s 4ms/step - loss: 0.6527 - accuracy: 0.7366\n",
            "8/8 [==============================] - 0s 3ms/step - loss: 0.4915 - accuracy: 0.8348\n",
            "8/8 [==============================] - 0s 4ms/step - loss: 0.5388 - accuracy: 0.8147\n",
            "8/8 [==============================] - 0s 3ms/step - loss: 0.5906 - accuracy: 0.8161\n",
            "8/8 [==============================] - 0s 4ms/step - loss: 0.5025 - accuracy: 0.8344\n",
            "8/8 [==============================] - 0s 3ms/step - loss: 0.6299 - accuracy: 0.8090\n",
            "7/7 [==============================] - 0s 3ms/step - loss: 0.5913 - accuracy: 0.7995\n",
            "EPOCHS 17 is starting...\n",
            "8/8 [==============================] - 0s 4ms/step - loss: 0.6531 - accuracy: 0.7485\n",
            "8/8 [==============================] - 0s 3ms/step - loss: 0.4014 - accuracy: 0.8665\n",
            "8/8 [==============================] - 0s 4ms/step - loss: 0.6437 - accuracy: 0.7478\n",
            "8/8 [==============================] - 0s 3ms/step - loss: 0.7186 - accuracy: 0.7447\n",
            "8/8 [==============================] - 0s 3ms/step - loss: 0.5753 - accuracy: 0.8086\n",
            "8/8 [==============================] - 0s 3ms/step - loss: 0.7016 - accuracy: 0.7239\n",
            "8/8 [==============================] - 0s 4ms/step - loss: 0.7135 - accuracy: 0.7580\n",
            "8/8 [==============================] - 0s 4ms/step - loss: 0.5310 - accuracy: 0.8162\n",
            "8/8 [==============================] - 0s 3ms/step - loss: 0.4850 - accuracy: 0.8660\n",
            "8/8 [==============================] - 0s 4ms/step - loss: 0.5599 - accuracy: 0.8522\n",
            "8/8 [==============================] - 0s 3ms/step - loss: 0.5310 - accuracy: 0.8150\n",
            "8/8 [==============================] - 0s 4ms/step - loss: 0.5349 - accuracy: 0.8055\n",
            "7/7 [==============================] - 0s 3ms/step - loss: 0.6275 - accuracy: 0.7983\n",
            "EPOCHS 18 is starting...\n",
            "8/8 [==============================] - 0s 3ms/step - loss: 0.5461 - accuracy: 0.8035\n",
            "8/8 [==============================] - 0s 4ms/step - loss: 0.3658 - accuracy: 0.8858\n",
            "8/8 [==============================] - 0s 3ms/step - loss: 0.6002 - accuracy: 0.8056\n",
            "8/8 [==============================] - 0s 4ms/step - loss: 0.5877 - accuracy: 0.7770\n",
            "8/8 [==============================] - 0s 3ms/step - loss: 0.6128 - accuracy: 0.7782\n",
            "8/8 [==============================] - 0s 3ms/step - loss: 0.5633 - accuracy: 0.7865\n",
            "8/8 [==============================] - 0s 3ms/step - loss: 0.5902 - accuracy: 0.8062\n",
            "8/8 [==============================] - 0s 3ms/step - loss: 0.5606 - accuracy: 0.8371\n",
            "8/8 [==============================] - 1s 3ms/step - loss: 0.5102 - accuracy: 0.8365\n",
            "8/8 [==============================] - 0s 4ms/step - loss: 0.5006 - accuracy: 0.8812\n",
            "8/8 [==============================] - 0s 3ms/step - loss: 0.5389 - accuracy: 0.7787\n",
            "8/8 [==============================] - 0s 3ms/step - loss: 0.5306 - accuracy: 0.8500\n",
            "7/7 [==============================] - 0s 3ms/step - loss: 0.6368 - accuracy: 0.7887\n",
            "EPOCHS 19 is starting...\n",
            "8/8 [==============================] - 0s 4ms/step - loss: 0.5397 - accuracy: 0.7784\n",
            "8/8 [==============================] - 0s 4ms/step - loss: 0.2788 - accuracy: 0.9386\n",
            "8/8 [==============================] - 0s 3ms/step - loss: 0.5062 - accuracy: 0.8302\n",
            "8/8 [==============================] - 0s 3ms/step - loss: 0.6498 - accuracy: 0.7978\n",
            "8/8 [==============================] - 0s 4ms/step - loss: 0.5271 - accuracy: 0.8374\n",
            "8/8 [==============================] - 0s 4ms/step - loss: 0.6106 - accuracy: 0.7897\n",
            "8/8 [==============================] - 0s 4ms/step - loss: 0.5670 - accuracy: 0.8328\n",
            "8/8 [==============================] - 0s 3ms/step - loss: 0.5457 - accuracy: 0.8313\n",
            "8/8 [==============================] - 0s 4ms/step - loss: 0.4250 - accuracy: 0.8863\n",
            "8/8 [==============================] - 1s 4ms/step - loss: 0.5126 - accuracy: 0.8792\n",
            "8/8 [==============================] - 0s 3ms/step - loss: 0.5799 - accuracy: 0.7946\n",
            "8/8 [==============================] - 0s 4ms/step - loss: 0.5841 - accuracy: 0.8487\n",
            "7/7 [==============================] - 0s 3ms/step - loss: 0.5839 - accuracy: 0.8120\n"
          ],
          "name": "stdout"
        }
      ]
    },
    {
      "cell_type": "code",
      "metadata": {
        "id": "NbpXvIuEPzwX",
        "colab": {
          "base_uri": "https://localhost:8080/",
          "height": 281
        },
        "outputId": "b5f0cda3-663a-47f3-ee4a-394124e5c5ea"
      },
      "source": [
        "S_acc2 =[S2.loss_acc[i][1]*100 for i in range(len(S2.loss_acc))]\n",
        "S_loss2 =[S2.loss_acc[i][0] for i in range(len(S2.loss_acc))]\n",
        "\n",
        "x = np.arange(len(S2.loss_acc))\n",
        "fig = plt.figure()\n",
        "ax1 = fig.add_subplot(111)\n",
        "acc = ax1.plot(x,S_acc2,'r',label='Acc')\n",
        "ax1.set_ylabel('Acc')\n",
        "ax1.set_title('Acc-Loss')\n",
        "\n",
        "ax2 = ax1.twinx()\n",
        "loss = ax2.plot(x,S_loss2,label='Loss')\n",
        "ax2.set_ylabel('Loss')\n",
        "\n",
        "lns = acc+loss\n",
        "labs = [l.get_label() for l in lns]\n",
        "ax2.legend(lns,labs)\n",
        "plt.show()"
      ],
      "execution_count": 122,
      "outputs": [
        {
          "output_type": "display_data",
          "data": {
            "image/png": "[encoded data removed]",
            "text/plain": [
              "<Figure size 432x288 with 2 Axes>"
            ]
          },
          "metadata": {
            "tags": [],
            "needs_background": "light"
          }
        }
      ]
    },
    {
      "cell_type": "code",
      "metadata": {
        "id": "KtBMBFo7Pzg2",
        "colab": {
          "base_uri": "https://localhost:8080/",
          "height": 295
        },
        "outputId": "8a7ee462-12f3-489c-c550-8f26512ed05f"
      },
      "source": [
        "iters = np.arange(len(S2.loss_acc)).astype(dtype=np.str)\n",
        "fig = plt.figure()\n",
        "plt.title('Result Analysis')\n",
        "plt.plot(iters,S_acc,color='red',label='NewFed Accuracy')\n",
        "plt.plot(iters,S_acc2,color='blue',label='Baseline Accuracy')\n",
        "plt.legend()\n",
        "plt.xlabel('iteration times')\n",
        "plt.ylabel('rate')\n",
        "plt.xlim(0,20)\n",
        "plt.show()"
      ],
      "execution_count": 123,
      "outputs": [
        {
          "output_type": "display_data",
          "data": {
            "image/png": "[encoded data removed]",
            "text/plain": [
              "<Figure size 432x288 with 1 Axes>"
            ]
          },
          "metadata": {
            "tags": [],
            "needs_background": "light"
          }
        }
      ]
    },
    {
      "cell_type": "code",
      "metadata": {
        "id": "7Ed0W7m8_dv8"
      },
      "source": [
        ""
      ],
      "execution_count": null,
      "outputs": []
    }
  ]
}