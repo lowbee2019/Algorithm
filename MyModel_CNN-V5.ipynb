{
  "nbformat": 4,
  "nbformat_minor": 0,
  "metadata": {
    "colab": {
      "name": "MyModel-CNN.ipynb",
      "provenance": [],
      "collapsed_sections": [
        "MwmKo3gLrI-i"
      ],
      "authorship_tag": "ABX9TyMyFG70LmPORQqAK95bbKHg",
      "include_colab_link": true
    },
    "kernelspec": {
      "display_name": "Python 3",
      "name": "python3"
    },
    "language_info": {
      "name": "python"
    },
    "accelerator": "GPU"
  },
  "cells": [
    {
      "cell_type": "markdown",
      "metadata": {
        "id": "view-in-github",
        "colab_type": "text"
      },
      "source": [
        "<a href=\"https://colab.research.google.com/github/lowbee2019/Algorithm/blob/master/MyModel_CNN-V5.ipynb\" target=\"_parent\"><img src=\"https://colab.research.google.com/assets/colab-badge.svg\" alt=\"Open In Colab\"/></a>"
      ]
    },
    {
      "cell_type": "code",
      "metadata": {
        "colab": {
          "base_uri": "https://localhost:8080/"
        },
        "id": "uoFhItkFEsF8",
        "outputId": "0bda4e70-cc41-452c-c821-1ac17f2208f8"
      },
      "source": [
        "!pip install emnist"
      ],
      "execution_count": 1,
      "outputs": [
        {
          "output_type": "stream",
          "text": [
            "Collecting emnist\n",
            "  Downloading https://files.pythonhosted.org/packages/d1/f4/78b24acbef9e8fe976dda700f16a3606f3b8363b015bc555f8050fbbd8ac/emnist-0.0-py3-none-any.whl\n",
            "Requirement already satisfied: numpy in /usr/local/lib/python3.7/dist-packages (from emnist) (1.19.5)\n",
            "Requirement already satisfied: requests in /usr/local/lib/python3.7/dist-packages (from emnist) (2.23.0)\n",
            "Requirement already satisfied: tqdm in /usr/local/lib/python3.7/dist-packages (from emnist) (4.41.1)\n",
            "Requirement already satisfied: idna<3,>=2.5 in /usr/local/lib/python3.7/dist-packages (from requests->emnist) (2.10)\n",
            "Requirement already satisfied: certifi>=2017.4.17 in /usr/local/lib/python3.7/dist-packages (from requests->emnist) (2020.12.5)\n",
            "Requirement already satisfied: urllib3!=1.25.0,!=1.25.1,<1.26,>=1.21.1 in /usr/local/lib/python3.7/dist-packages (from requests->emnist) (1.24.3)\n",
            "Requirement already satisfied: chardet<4,>=3.0.2 in /usr/local/lib/python3.7/dist-packages (from requests->emnist) (3.0.4)\n",
            "Installing collected packages: emnist\n",
            "Successfully installed emnist-0.0\n"
          ],
          "name": "stdout"
        }
      ]
    },
    {
      "cell_type": "code",
      "metadata": {
        "id": "9e4So1L3pPWp"
      },
      "source": [
        "import tensorflow as tf\n",
        "import numpy as np\n",
        "from tensorflow.keras import datasets,layers,models\n",
        "import collections\n",
        "import copy\n",
        "import random\n",
        "import emnist\n",
        "import datetime\n",
        "import os\n",
        "import matplotlib.pyplot as plt"
      ],
      "execution_count": 2,
      "outputs": []
    },
    {
      "cell_type": "code",
      "metadata": {
        "id": "6pkKi1GlSJ0S"
      },
      "source": [
        "os.environ[\"CUDA_VISIBLE_DEVICES\"]=\"0\""
      ],
      "execution_count": 3,
      "outputs": []
    },
    {
      "cell_type": "markdown",
      "metadata": {
        "id": "YQaIGTfxmSfi"
      },
      "source": [
        "# Server Initialization"
      ]
    },
    {
      "cell_type": "code",
      "metadata": {
        "id": "PTK_p961nsA5"
      },
      "source": [
        "class ParamServer(object):\n",
        "  def __init__(self,init_model_path):\n",
        "    self.init_model_path = init_model_path\n",
        "    self.round = 0\n",
        "    self.optimizer = 'adam'\n",
        "    self.loss = \"sparse_categorical_crossentropy\"\n",
        "    self.metrics =['accuracy']\n",
        "    self.loss_acc = []\n",
        "\n",
        "  def PreTrain(self,model,data,labels,batch_size=32,epochs=5):\n",
        "    model.compile(optimizer=self.optimizer,\n",
        "                  loss=self.loss,\n",
        "                  metrics=self.metrics)\n",
        "    _metrics = model.fit(data,labels,batch_size,epochs)\n",
        "    return model\n",
        "  \n",
        "  def PreEval(self,model,validation_data):\n",
        "    model.compile(optimizer=self.optimizer,\n",
        "                  loss=self.loss,\n",
        "                  metrics=self.metrics)\n",
        "    self.loss_acc.append(model.evaluate(x=validation_data[0],y=validation_data[1]))\n"
      ],
      "execution_count": 4,
      "outputs": []
    },
    {
      "cell_type": "markdown",
      "metadata": {
        "id": "iRvlGAmjmxbw"
      },
      "source": [
        "## Emnist数据集的预处理"
      ]
    },
    {
      "cell_type": "code",
      "metadata": {
        "id": "uUdPNuYqDmbD",
        "colab": {
          "base_uri": "https://localhost:8080/"
        },
        "outputId": "2808592c-226a-4790-ee09-60c4e544adfc"
      },
      "source": [
        "LetterDataSet = emnist.extract_training_samples('letters')\n",
        "DigitDataSet = emnist.extract_training_samples('digits')\n",
        "\n",
        "LetterDataSet = (np.expand_dims(LetterDataSet[0]/255.0,axis=3),np.expand_dims(LetterDataSet[1]*0+10,axis=1)) \n",
        "DigitDataSet = (np.expand_dims(DigitDataSet[0]/255.0,axis=3),np.expand_dims(DigitDataSet[1],axis=1))"
      ],
      "execution_count": 5,
      "outputs": [
        {
          "output_type": "stream",
          "text": [
            "Downloading emnist.zip: 536MB [00:02, 194MB/s]\n"
          ],
          "name": "stderr"
        }
      ]
    },
    {
      "cell_type": "code",
      "metadata": {
        "id": "0m0trPD8oxLO"
      },
      "source": [
        "sa = set()\n",
        "for [i] in LetterDataSet[1].tolist():\n",
        "  sa.add(i)\n",
        "for [i] in DigitDataSet[1].tolist():\n",
        "  sa.add(i)\n",
        "sa"
      ],
      "execution_count": null,
      "outputs": []
    },
    {
      "cell_type": "code",
      "metadata": {
        "colab": {
          "base_uri": "https://localhost:8080/"
        },
        "id": "N66yuvvfDmHF",
        "outputId": "e6e9f4af-bdfc-4f3c-a063-04ee955b31f8"
      },
      "source": [
        "LetterDataSet[0].shape,DigitDataSet[0].shape"
      ],
      "execution_count": null,
      "outputs": [
        {
          "output_type": "execute_result",
          "data": {
            "text/plain": [
              "((124800, 28, 28, 1), (240000, 28, 28, 1))"
            ]
          },
          "metadata": {
            "tags": []
          },
          "execution_count": 92
        }
      ]
    },
    {
      "cell_type": "code",
      "metadata": {
        "id": "qA_gvtUkm8sV"
      },
      "source": [
        "ShareData = DigitDataSet[0][0:200]\n",
        "ShareLabel = DigitDataSet[1][0:200]\n",
        "validation_data=(ShareData,ShareLabel)"
      ],
      "execution_count": 6,
      "outputs": []
    },
    {
      "cell_type": "markdown",
      "metadata": {
        "id": "2L712LCIm6Vv"
      },
      "source": [
        "## 模型的定义"
      ]
    },
    {
      "cell_type": "code",
      "metadata": {
        "id": "C0noj5RjmF0i"
      },
      "source": [
        "class FLModel(tf.keras.Model):\n",
        "  def __init__(self,row,col,num_classes=62,*args,**kwargs):\n",
        "    super(FLModel,self).__init__(*args,**kwargs)\n",
        "    self.row = row\n",
        "    self.col = col\n",
        "    self.num_classes = num_classes\n",
        "    # self.flatten = tf.keras.layers.Flatten(input_shape=(row,col))\n",
        "    # self.dense_1 = tf.keras.layers.Dense(128,activation='relu',name=\"dense_1\")\n",
        "    # self.dense_2 = tf.keras.layers.Dense(num_classes,activation='softmax',name=\"dense_2\")\n",
        "    # self.drop = tf.keras.layers.Dropout(0.2)\n",
        "    \n",
        "    self.model = models.Sequential()\n",
        "    # 第1层卷积，卷积核大小为3*3，32个，28*28为待训练图片的大小\n",
        "    self.model.add(layers.Conv2D(32, (3, 3), activation='relu', input_shape=(self.row, self.col, 1)))\n",
        "    self.model.add(layers.MaxPooling2D((2, 2)))\n",
        "    # 第2层卷积，卷积核大小为3*3，64个\n",
        "    self.model.add(layers.Conv2D(64, (3, 3), activation='relu'))\n",
        "    self.model.add(layers.MaxPooling2D((2, 2)))\n",
        "    # 第3层卷积，卷积核大小为3*3，64个\n",
        "    self.model.add(layers.Conv2D(64, (3, 3), activation='relu'))\n",
        "\n",
        "    self.model.add(layers.Flatten())\n",
        "    self.model.add(layers.Dense(64, activation='relu'))\n",
        "    self.model.add(layers.Dense(num_classes, activation='softmax'))\n",
        "\n",
        "    # self.model.summary()\n",
        "\n",
        "    # self.model = model\n",
        "\n",
        "\n",
        "  \n",
        "  # def call(self,inputs):\n",
        "  #   x = self.flatten(inputs)\n",
        "  #   x = self.dense_1(x)\n",
        "  #   x = self.drop(x)\n",
        "  #   x = self.dense_2(x)\n",
        "  #   return x\n",
        "  def call(self,inputs):\n",
        "    return self.model(inputs)\n",
        "\n",
        "  def copy(self):\n",
        "    NewModel = FLModel(self.row,self.col,self.num_classes)\n",
        "    _ = NewModel(tf.convert_to_tensor(np.zeros([1,self.row,self.col,1])))\n",
        "    ##Layers\n",
        "    NewVars = NewModel.trainable_variables #此处为空列表，因为没有训练,这个地方参数传递是不是有问题\n",
        "    OldVars = self.trainable_variables\n",
        "    for n,o in zip(NewVars,OldVars):\n",
        "      n.assign(o.numpy())\n",
        "    return NewModel\n",
        "\n",
        "  # def compute_output_shape(self,input_shape):\n",
        "  #   shape = tf.TensorShape(input_shape).as_list()\n",
        "  #   shape[-1] = self.num_classes\n",
        "  #   return tf.TensorShape(shape)"
      ],
      "execution_count": 7,
      "outputs": []
    },
    {
      "cell_type": "markdown",
      "metadata": {
        "id": "Z5LMvoXcoiz2"
      },
      "source": [
        "#Client Initialization\n",
        "模型训练和评估都要重写"
      ]
    },
    {
      "cell_type": "code",
      "metadata": {
        "id": "Hvu8wCjbooCF"
      },
      "source": [
        "class Client(object):\n",
        "  def __init__(self,id,model=None,Train_dataset=None,Test_dataset=None):\n",
        "    self.id = id\n",
        "    self.model = model\n",
        "    self.Train_dataset = Train_dataset\n",
        "    self.Test_dataset = Test_dataset\n",
        "    # from ParamServer\n",
        "    self.ParamModel = None\n",
        "    self.num_epochs = 5\n",
        "    self.batch_size = 32\n",
        "    self.shuffle_buffer = 100\n",
        "    self.prefetch_buffer = 10\n",
        "\n",
        "\n",
        "  def ReceiveModel(self,ParamModel,num_epochs=1,batch_size=32,shuffle_buffer=100,prefetch_buffer=10):\n",
        "    self.ParamModel = ParamModel\n",
        "    self.num_epochs = num_epochs\n",
        "    self.batch_size = batch_size\n",
        "    self.shuffle_buffer = shuffle_buffer\n",
        "    self.prefetch_buffer = prefetch_buffer\n",
        "  \n",
        "\n",
        "  # def preprocess(self,dataset):\n",
        "  #   def batch_format_fn(element):\n",
        "  #     return collections.OrderedDict(\n",
        "            \n",
        "  #           x = tf.reshape(element['pixels'],[-1,784]),\n",
        "  #           y = tf.reshape(element['label'],[-1,1])\n",
        "  #         )\n",
        "  #   return dataset.repeat(self.num_epochs).shuffle(self.shuffle_buffer).batch(\n",
        "  #       self.batch_size).map(batch_format_fn).prefetch(self.prefetch_buffer)\n",
        "\n",
        "  def NodeTrain(self):\n",
        "    model = self.ParamModel\n",
        "    # pre_data = self.preprocess(self.Train_dataset)\n",
        "    # print(type(pre_data))\n",
        "    # model.fit(x=pre_data['x'],y=pre_data['y'],batch_size=self.batch_size,epochs=self.num_epochs)\n",
        "    # x = np.array([i['pixels'].numpy() for i in self.Train_dataset])\n",
        "    # y = np.array([i['label'].numpy() for i in self.Train_dataset])\n",
        "    x,y = self.Train_dataset\n",
        "    model.compile(\n",
        "        # optimizer=keras.optimizers.SGD(lr=0.01, momentum=0.0, decay=0.0, nesterov=False),##'adam',\n",
        "        optimizer='adam',\n",
        "        loss='sparse_categorical_crossentropy',\n",
        "        metrics=['accuracy'])\n",
        "    # log_dir=\"logs/fit/\" + datetime.datetime.now().strftime(\"%Y%m%d-%H%M%S\")\n",
        "    # tensorboard_callback = tf.keras.callbacks.TensorBoard(log_dir=log_dir, histogram_freq=1)\n",
        "    _metrics = model.fit(x,y,batch_size=self.batch_size,epochs=self.num_epochs)\n",
        "    self.model = model\n",
        "\n",
        "  def NodeEval(self):\n",
        "    x,y = self.Test_dataset\n",
        "    return self.model.evaluate(x,y)\n"
      ],
      "execution_count": 8,
      "outputs": []
    },
    {
      "cell_type": "markdown",
      "metadata": {
        "id": "MwmKo3gLrI-i"
      },
      "source": [
        "# 阶段一：为Client分配数据（预处理工作）"
      ]
    },
    {
      "cell_type": "markdown",
      "metadata": {
        "id": "En8MczNik638"
      },
      "source": [
        "#阶段一：服务器完成模型初始化"
      ]
    },
    {
      "cell_type": "code",
      "metadata": {
        "id": "m2w8RJUtGss2"
      },
      "source": [
        "def create_data_for_clients(SampleNum,LetterDataSet,DigitDataSet,DigitPercentage=0.7):\n",
        "  DigitNum = int(SampleNum*DigitPercentage)\n",
        "  LetterNum = SampleNum - DigitNum\n",
        "  x_sequence = []\n",
        "  y_sequence = []\n",
        "  if DigitNum > 0:\n",
        "    for i in range(DigitNum):\n",
        "      index = random.randint(0,len(DigitDataSet[0])-1)\n",
        "      x_sequence.append(DigitDataSet[0][index])\n",
        "      y_sequence.append(DigitDataSet[1][index])\n",
        "  if LetterNum > 0:\n",
        "    for j in range(LetterNum):\n",
        "      index = random.randint(0,len(LetterDataSet[0])-1)\n",
        "      x_sequence.append(LetterDataSet[0][index])\n",
        "      y_sequence.append(LetterDataSet[1][index])\n",
        "  # print(x_sequence[1].shape,y_sequence[1].shape)\n",
        "  x = np.array(x_sequence,dtype=np.float64)\n",
        "  y = np.array(y_sequence,dtype=np.int8)\n",
        "  #shuffle\n",
        "  state = np.random.get_state()\n",
        "  np.random.shuffle(x)\n",
        "  np.random.set_state(state)\n",
        "  np.random.shuffle(y)\n",
        "  \n",
        "  return (x,y)"
      ],
      "execution_count": 9,
      "outputs": []
    },
    {
      "cell_type": "code",
      "metadata": {
        "id": "QE_WXcMMt1kP"
      },
      "source": [
        "NUM_CLIENTS = 12\n",
        "NUM_TRAIN_SAMPLE_CLIENT = 256\n",
        "NUM_TEST_SAMPLE_CLIENT = 256\n",
        "CLASS_NUM = 11"
      ],
      "execution_count": 129,
      "outputs": []
    },
    {
      "cell_type": "code",
      "metadata": {
        "id": "-Tmf__umcO1l"
      },
      "source": [
        "clients=[]\n",
        "for i in range(NUM_CLIENTS):\n",
        "  clients.append(Client(i,\n",
        "                        Train_dataset=create_data_for_clients(SampleNum=256,\n",
        "                                                              LetterDataSet=LetterDataSet,\n",
        "                                                              DigitDataSet=DigitDataSet,\n",
        "                                                              DigitPercentage=random.random()),\n",
        "                        Test_dataset=validation_data\n",
        "                        )\n",
        "  )"
      ],
      "execution_count": 96,
      "outputs": []
    },
    {
      "cell_type": "markdown",
      "metadata": {
        "id": "V9Jjje417iuZ"
      },
      "source": [
        "Show DataSet"
      ]
    },
    {
      "cell_type": "code",
      "metadata": {
        "colab": {
          "base_uri": "https://localhost:8080/",
          "height": 879
        },
        "id": "7RO4LfKq72nf",
        "outputId": "28ff91eb-2ad7-466f-a8d3-ba19886a46b0"
      },
      "source": [
        "\n",
        "f = plt.figure(figsize=(15,15))\n",
        "for i in range(NUM_CLIENTS):\n",
        "  client_dataset = clients[i].Train_dataset\n",
        "  plot_data = collections.defaultdict(list)\n",
        "  for [label] in client_dataset[1].tolist():\n",
        "    plot_data[label].append(label)\n",
        "  plt.subplot(3,4,i+1)\n",
        "  plt.title('Client {}'.format(i))\n",
        "  for j in range(CLASS_NUM):\n",
        "    plt.hist(\n",
        "        plot_data[j],\n",
        "        density = False,\n",
        "        bins = [x for x in range(len(plot_data)+1)]\n",
        "    )"
      ],
      "execution_count": 130,
      "outputs": [
        {
          "output_type": "display_data",
          "data": {
            "image/png": "[encoded data removed]",
            "text/plain": [
              "<Figure size 1080x1080 with 12 Axes>"
            ]
          },
          "metadata": {
            "tags": [],
            "needs_background": "light"
          }
        }
      ]
    },
    {
      "cell_type": "markdown",
      "metadata": {
        "id": "JfqcXNr8jqi1"
      },
      "source": [
        "显示一下数字与字母的对比\n"
      ]
    },
    {
      "cell_type": "code",
      "metadata": {
        "colab": {
          "base_uri": "https://localhost:8080/",
          "height": 862
        },
        "id": "SkJ-l1ZSjpWf",
        "outputId": "b95587f5-6bb4-44d5-f821-5b099cde8d94"
      },
      "source": [
        "f = plt.figure(figsize=(15,15))\n",
        "for i in range(NUM_CLIENTS):\n",
        "  client_dataset = clients[i].Train_dataset\n",
        "  plot_data = {0:0,1:0}\n",
        "  plot_labels = ['digits','letters']\n",
        "  for label in client_dataset[1]:\n",
        "    label = 0 if label < 10 else 1\n",
        "    plot_data[label]+=1\n",
        "  # print(plot_data)\n",
        "  data_labels = list(sorted(plot_data.keys()))\n",
        "  # print(data_labels)\n",
        "  data_nums = [plot_data[i] for i in data_labels]\n",
        "  colors = ['red','blue']\n",
        "  plt.subplot(3,4,i+1)\n",
        "  patches,text1,text2 = plt.pie(data_nums,\n",
        "                              labels=plot_labels,\n",
        "                              autopct='%3.2f%%',\n",
        "                              shadow=False,\n",
        "                              startangle=90,\n",
        "                              pctdistance=0.6)\n",
        "  plt.axis('equal')\n",
        "  plt.title('Client {}'.format(i))\n",
        "plt.show()\n"
      ],
      "execution_count": 98,
      "outputs": [
        {
          "output_type": "display_data",
          "data": {
            "image/png": "[encoded data removed]",
            "text/plain": [
              "<Figure size 1080x1080 with 12 Axes>"
            ]
          },
          "metadata": {
            "tags": []
          }
        }
      ]
    },
    {
      "cell_type": "markdown",
      "metadata": {
        "id": "6PVxsGIpvlLn"
      },
      "source": [
        "##阶段二：中央服务器下发模型"
      ]
    },
    {
      "cell_type": "markdown",
      "metadata": {
        "id": "A5NIsOQgRp9h"
      },
      "source": [
        "Distance Between two models"
      ]
    },
    {
      "cell_type": "code",
      "metadata": {
        "id": "fX5rrSBk72Vw"
      },
      "source": [
        "def Distance(HookModel,TestModel):\n",
        "  len_it = len(HookModel.trainable_variables)\n",
        "  Hook_weights=[]\n",
        "  Test_weights=[]\n",
        "  for index in range(len_it):\n",
        "    Hook_weights.append(HookModel.trainable_variables[index].numpy().reshape(-1,))\n",
        "    Test_weights.append(TestModel.trainable_variables[index].numpy().reshape(-1,))\n",
        "  target = []\n",
        "  dis_norm2=[]\n",
        "  for i in range(len_it):\n",
        "    target.append(Hook_weights[i]-Test_weights[i])\n",
        "    dis_norm2.append(np.linalg.norm(target[i],2))\n",
        "  weight_weights = np.ones([len_it,1])\n",
        "  #调整权重\n",
        "  # weight_weights[0]=0\n",
        "  # weight_weights[1]=0\n",
        "  dis = np.dot(dis_norm2,weight_weights)\n",
        "  return dis\n",
        "  # return dis_norm2"
      ],
      "execution_count": 14,
      "outputs": []
    },
    {
      "cell_type": "code",
      "metadata": {
        "id": "KI9PCWxY716I"
      },
      "source": [
        "def BetterNode(clients,model,Total_NUM,FedAvg_NUM):\n",
        "  NodeDict=collections.OrderedDict()\n",
        "  for i in range(Total_NUM):\n",
        "    NodeDict[i] = Distance(model,clients[i].model)\n",
        "  Dlst = sorted(NodeDict.items(),key=lambda x:x[1])\n",
        "  NodeList = []\n",
        "  for i in range(FedAvg_NUM):\n",
        "    NodeList.append(Dlst[i][0])\n",
        "  return (NodeList,NodeDict)"
      ],
      "execution_count": 15,
      "outputs": []
    },
    {
      "cell_type": "markdown",
      "metadata": {
        "id": "_uNjI7abv3Vs"
      },
      "source": [
        "模型初始化"
      ]
    },
    {
      "cell_type": "code",
      "metadata": {
        "id": "PLJekuPtvxZl",
        "colab": {
          "base_uri": "https://localhost:8080/"
        },
        "outputId": "044cf62d-aeda-48c3-ac1b-93dc1413fb0b"
      },
      "source": [
        "InitModel = FLModel(row=28,col=28,num_classes=CLASS_NUM)\n",
        "S = ParamServer(\"\")\n",
        "S.PreEval(InitModel,validation_data)"
      ],
      "execution_count": 131,
      "outputs": [
        {
          "output_type": "stream",
          "text": [
            "7/7 [==============================] - 0s 3ms/step - loss: 2.4073 - accuracy: 0.0915\n"
          ],
          "name": "stdout"
        }
      ]
    },
    {
      "cell_type": "code",
      "metadata": {
        "colab": {
          "base_uri": "https://localhost:8080/"
        },
        "id": "4K48O8MylnxW",
        "outputId": "269bf714-c381-4db1-8905-d8b9437a0f14"
      },
      "source": [
        "InitModel.model.summary()"
      ],
      "execution_count": 17,
      "outputs": [
        {
          "output_type": "stream",
          "text": [
            "Model: \"sequential\"\n",
            "_________________________________________________________________\n",
            "Layer (type)                 Output Shape              Param #   \n",
            "=================================================================\n",
            "conv2d (Conv2D)              (None, 26, 26, 32)        320       \n",
            "_________________________________________________________________\n",
            "max_pooling2d (MaxPooling2D) (None, 13, 13, 32)        0         \n",
            "_________________________________________________________________\n",
            "conv2d_1 (Conv2D)            (None, 11, 11, 64)        18496     \n",
            "_________________________________________________________________\n",
            "max_pooling2d_1 (MaxPooling2 (None, 5, 5, 64)          0         \n",
            "_________________________________________________________________\n",
            "conv2d_2 (Conv2D)            (None, 3, 3, 64)          36928     \n",
            "_________________________________________________________________\n",
            "flatten (Flatten)            (None, 576)               0         \n",
            "_________________________________________________________________\n",
            "dense (Dense)                (None, 64)                36928     \n",
            "_________________________________________________________________\n",
            "dense_1 (Dense)              (None, 11)                715       \n",
            "=================================================================\n",
            "Total params: 93,387\n",
            "Trainable params: 93,387\n",
            "Non-trainable params: 0\n",
            "_________________________________________________________________\n"
          ],
          "name": "stdout"
        }
      ]
    },
    {
      "cell_type": "code",
      "metadata": {
        "id": "JOyiDCbPe9Jc"
      },
      "source": [
        "SendModel = InitModel"
      ],
      "execution_count": 132,
      "outputs": []
    },
    {
      "cell_type": "code",
      "metadata": {
        "colab": {
          "base_uri": "https://localhost:8080/"
        },
        "id": "SGo2NYXsv96h",
        "outputId": "720f0df0-ed2a-478f-90ac-c2551703e8d5"
      },
      "source": [
        "SendModel = S.PreTrain(InitModel,ShareData,ShareLabel,epochs=1)\n",
        "S.PreEval(SendModel,validation_data)"
      ],
      "execution_count": 58,
      "outputs": [
        {
          "output_type": "stream",
          "text": [
            "7/7 [==============================] - 0s 4ms/step - loss: 2.3625 - accuracy: 0.1198\n",
            "7/7 [==============================] - 0s 3ms/step - loss: 2.1860 - accuracy: 0.1877\n"
          ],
          "name": "stdout"
        }
      ]
    },
    {
      "cell_type": "markdown",
      "metadata": {
        "id": "7OmptaMzpR0P"
      },
      "source": [
        "# 阶段三：Clients 训练节点数据并聚合\n"
      ]
    },
    {
      "cell_type": "code",
      "metadata": {
        "id": "kr2PkfomvfWw"
      },
      "source": [
        ""
      ],
      "execution_count": null,
      "outputs": []
    },
    {
      "cell_type": "code",
      "metadata": {
        "id": "ve8Dc1KewGH_"
      },
      "source": [
        "def FedAvg(NUM_CLIENTS,model,FedAvg_NUM=7):\n",
        "  iterModel = model.copy()\n",
        "  len_it = len(iterModel.trainable_variables)\n",
        "  all_weights = []\n",
        "  FedNodeList=BetterNode(clients,iterModel,NUM_CLIENTS,FedAvg_NUM)\n",
        "  print(\"FedAvg Node is\",FedNodeList)\n",
        "\n",
        "  # for c in range(Cut):\n",
        "  #   # tmp =np.array(iterModel.trainable_variables[c].numpy(),dtype='float64')\n",
        "  #   all_weights.append(iterModel.trainable_variables[c].numpy())\n",
        "\n",
        "  for weights_index in range(len_it):\n",
        "    tmp =np.zeros(iterModel.trainable_variables[weights_index].numpy().shape,dtype='float64')\n",
        "\n",
        "    for node in FedNodeList:\n",
        "      tmp += clients[node].model.trainable_variables[weights_index].numpy()\n",
        "    all_weights.append(tmp/FedAvg_NUM)\n",
        "  # print(all_weights)\n",
        "  iterModel_vars = iterModel.trainable_variables\n",
        "  for iter_v,n in zip(iterModel_vars,all_weights):\n",
        "    iter_v.assign(n)\n",
        "  return (iterModel,FedNodeList)"
      ],
      "execution_count": 20,
      "outputs": []
    },
    {
      "cell_type": "code",
      "metadata": {
        "id": "I6HSFpcqrK_2"
      },
      "source": [
        "def FedAvgwithAcc(NUM_CLIENTS,model,FedAvg_NUM,Weights):\n",
        "  iterModel = model.copy()\n",
        "  len_it = len(iterModel.trainable_variables)\n",
        "  all_weights = []\n",
        "  FedNodeList,NodeDict=BetterNode(clients,iterModel,NUM_CLIENTS,FedAvg_NUM)\n",
        "  # print(\"FedAvg Node is\",FedNodeList)\n",
        "\n",
        "  # for c in range(Cut):\n",
        "  #   # tmp =np.array(iterModel.trainable_variables[c].numpy(),dtype='float64')\n",
        "  #   all_weights.append(iterModel.trainable_variables[c].numpy())\n",
        "  # mult = [np.exp(Weights[i])*NodeDict[i] for i in range(NUM_CLIENTS)]\n",
        "  # mult = [Weights[i]*NodeDict[i] for i in range(NUM_CLIENTS)]\n",
        "  mult = [Weights[i]/np.exp(NodeDict[i]) for i in range(NUM_CLIENTS)]\n",
        "  print(\"The Distance are ...\",NodeDict)\n",
        "  print(\"The AD are ...\",mult)\n",
        "  exp_sum = np.sum(mult)\n",
        "  Weights = mult/exp_sum\n",
        "  ###Softmax\n",
        "  FedAvg_NUM = NUM_CLIENTS\n",
        "  for weights_index in range(len_it):\n",
        "    tmp =np.zeros(iterModel.trainable_variables[weights_index].numpy().shape,dtype='float64')\n",
        "\n",
        "    # for node in FedNodeList:\n",
        "    for node in range(NUM_CLIENTS):\n",
        "      tmp += clients[node].model.trainable_variables[weights_index].numpy()*Weights[node]\n",
        "    all_weights.append(tmp)\n",
        "  # print(all_weights)\n",
        "  iterModel_vars = iterModel.trainable_variables\n",
        "  for iter_v,n in zip(iterModel_vars,all_weights):\n",
        "    iter_v.assign(n)\n",
        "  return (iterModel,FedNodeList)"
      ],
      "execution_count": 117,
      "outputs": []
    },
    {
      "cell_type": "code",
      "metadata": {
        "id": "jl3dF36dw2hC"
      },
      "source": [
        "NUM_EPOCHS = 20"
      ],
      "execution_count": 22,
      "outputs": []
    },
    {
      "cell_type": "code",
      "metadata": {
        "id": "ocfoXDNgyTdP"
      },
      "source": [
        "# NodeList=[]\n",
        "# participator = NUM_CLIENTS\n",
        "# for e in range(NUM_EPOCHS):\n",
        "#   print(\"EPOCHS {} is starting...\".format(e))\n",
        "#   for i in range(NUM_CLIENTS):\n",
        "#     clients[i].ReceiveModel(SendModel.copy())\n",
        "#     clients[i].NodeTrain()\n",
        "#     # clients[i].NodeEval()\n",
        "#     # DIS.append(Distance(SendModel,clients[i].model))\n",
        "#   if participator < int(0.6*NUM_CLIENTS):\n",
        "#     participator = int(0.6*NUM_CLIENTS) \n",
        "#   FedModel,li = FedAvg(NUM_CLIENTS,SendModel,FedAvg_NUM=participator)\n",
        "#   participator = participator-1\n",
        "#   NodeList.append(li)\n",
        "#   S.PreEval(FedModel,validation_data)\n",
        "#   SendModel = FedModel.copy()"
      ],
      "execution_count": null,
      "outputs": []
    },
    {
      "cell_type": "code",
      "metadata": {
        "colab": {
          "base_uri": "https://localhost:8080/"
        },
        "id": "chwpV3rDr5r2",
        "outputId": "36d0085e-96b5-4985-d827-2ef5ad69effc"
      },
      "source": [
        "NodeList=[]\n",
        "ACC_Client_Test=[]\n",
        "participator = NUM_CLIENTS\n",
        "for e in range(NUM_EPOCHS):\n",
        "  tmp=[]\n",
        "  print(\"EPOCHS {} is starting...\".format(e))\n",
        "  for i in range(NUM_CLIENTS):\n",
        "    clients[i].ReceiveModel(SendModel.copy())\n",
        "    clients[i].NodeTrain()\n",
        "    tmp.append(clients[i].NodeEval()[1])\n",
        "    # clients[i].NodeEval()\n",
        "    # DIS.append(Distance(SendModel,clients[i].model))\n",
        "  if participator < int(0.6*NUM_CLIENTS):\n",
        "    participator = int(0.6*NUM_CLIENTS) \n",
        "  FedModel,li = FedAvgwithAcc(NUM_CLIENTS,SendModel,FedAvg_NUM=participator,Weights=tmp)\n",
        "  participator = participator-1\n",
        "  NodeList.append(li)\n",
        "  ACC_Client_Test.append(tmp)\n",
        "  S.PreEval(FedModel,validation_data)\n",
        "  print(\"The Acc on each client...\",tmp)\n",
        "  SendModel = FedModel.copy()"
      ],
      "execution_count": 133,
      "outputs": [
        {
          "output_type": "stream",
          "text": [
            "EPOCHS 0 is starting...\n",
            "8/8 [==============================] - 0s 3ms/step - loss: 2.0844 - accuracy: 0.4197\n",
            "7/7 [==============================] - 0s 3ms/step - loss: 5.0701 - accuracy: 0.0000e+00\n",
            "8/8 [==============================] - 0s 3ms/step - loss: 1.8671 - accuracy: 0.5685\n",
            "7/7 [==============================] - 0s 3ms/step - loss: 8.4773 - accuracy: 0.0000e+00\n",
            "8/8 [==============================] - 0s 3ms/step - loss: 2.3424 - accuracy: 0.1636\n",
            "7/7 [==============================] - 0s 3ms/step - loss: 2.7194 - accuracy: 0.0000e+00\n",
            "8/8 [==============================] - 0s 3ms/step - loss: 2.3613 - accuracy: 0.1303\n",
            "7/7 [==============================] - 0s 3ms/step - loss: 2.5607 - accuracy: 0.0000e+00\n",
            "8/8 [==============================] - 0s 3ms/step - loss: 2.3910 - accuracy: 0.1294\n",
            "7/7 [==============================] - 0s 3ms/step - loss: 2.3565 - accuracy: 0.1600\n",
            "8/8 [==============================] - 0s 3ms/step - loss: 2.1479 - accuracy: 0.2984\n",
            "7/7 [==============================] - 0s 3ms/step - loss: 4.9546 - accuracy: 0.0000e+00\n",
            "8/8 [==============================] - 0s 3ms/step - loss: 2.3348 - accuracy: 0.1530\n",
            "7/7 [==============================] - 0s 3ms/step - loss: 2.5969 - accuracy: 0.0000e+00\n",
            "8/8 [==============================] - 0s 3ms/step - loss: 2.3579 - accuracy: 0.1451\n",
            "7/7 [==============================] - 0s 3ms/step - loss: 2.2693 - accuracy: 0.2250\n",
            "8/8 [==============================] - 0s 4ms/step - loss: 2.3652 - accuracy: 0.1668\n",
            "7/7 [==============================] - 0s 3ms/step - loss: 2.2745 - accuracy: 0.2050\n",
            "8/8 [==============================] - 0s 3ms/step - loss: 2.3700 - accuracy: 0.1457\n",
            "7/7 [==============================] - 0s 3ms/step - loss: 2.2605 - accuracy: 0.1900\n",
            "8/8 [==============================] - 0s 3ms/step - loss: 2.0487 - accuracy: 0.4617\n",
            "7/7 [==============================] - 0s 3ms/step - loss: 6.1653 - accuracy: 0.0000e+00\n",
            "8/8 [==============================] - 0s 3ms/step - loss: 2.3824 - accuracy: 0.1637\n",
            "7/7 [==============================] - 0s 4ms/step - loss: 2.3282 - accuracy: 0.1600\n",
            "The Distance are ... OrderedDict([(0, array([2.70353729])), (1, array([3.13850523])), (2, array([2.35012136])), (3, array([2.21514632])), (4, array([2.01707023])), (5, array([2.65340839])), (6, array([2.25885003])), (7, array([2.1462465])), (8, array([2.09532831])), (9, array([2.08677662])), (10, array([2.86921296])), (11, array([2.03781625]))])\n",
            "The AD are ... [array([0.]), array([0.]), array([0.]), array([0.]), array([0.02128715]), array([0.]), array([0.]), array([0.02630749]), array([0.02522112]), array([0.02357643]), array([0.]), array([0.02085008])]\n",
            "7/7 [==============================] - 0s 3ms/step - loss: 2.2855 - accuracy: 0.2465\n",
            "The Acc on each client... [0.0, 0.0, 0.0, 0.0, 0.1599999964237213, 0.0, 0.0, 0.22499999403953552, 0.20499999821186066, 0.1899999976158142, 0.0, 0.1599999964237213]\n",
            "EPOCHS 1 is starting...\n",
            "8/8 [==============================] - 0s 3ms/step - loss: 1.9595 - accuracy: 0.4585\n",
            "7/7 [==============================] - 0s 3ms/step - loss: 5.2444 - accuracy: 0.0000e+00\n",
            "8/8 [==============================] - 0s 3ms/step - loss: 1.7154 - accuracy: 0.6076\n",
            "7/7 [==============================] - 0s 2ms/step - loss: 10.5867 - accuracy: 0.0000e+00\n",
            "8/8 [==============================] - 0s 4ms/step - loss: 2.2285 - accuracy: 0.2323\n",
            "7/7 [==============================] - 0s 3ms/step - loss: 2.7501 - accuracy: 0.0000e+00\n",
            "8/8 [==============================] - 0s 3ms/step - loss: 2.2525 - accuracy: 0.2334\n",
            "7/7 [==============================] - 0s 3ms/step - loss: 2.3662 - accuracy: 0.0000e+00\n",
            "8/8 [==============================] - 0s 4ms/step - loss: 2.2383 - accuracy: 0.2934\n",
            "7/7 [==============================] - 0s 3ms/step - loss: 2.0582 - accuracy: 0.4400\n",
            "8/8 [==============================] - 0s 3ms/step - loss: 2.0699 - accuracy: 0.4131\n",
            "7/7 [==============================] - 0s 3ms/step - loss: 3.5473 - accuracy: 0.0000e+00\n",
            "8/8 [==============================] - 0s 3ms/step - loss: 2.2235 - accuracy: 0.2205\n",
            "7/7 [==============================] - 0s 3ms/step - loss: 2.4620 - accuracy: 0.0800\n",
            "8/8 [==============================] - 0s 4ms/step - loss: 2.1801 - accuracy: 0.3533\n",
            "7/7 [==============================] - 0s 3ms/step - loss: 1.9416 - accuracy: 0.3600\n",
            "8/8 [==============================] - 0s 3ms/step - loss: 2.2070 - accuracy: 0.3033\n",
            "7/7 [==============================] - 0s 3ms/step - loss: 2.0000 - accuracy: 0.3300\n",
            "8/8 [==============================] - 0s 4ms/step - loss: 2.2246 - accuracy: 0.3572\n",
            "7/7 [==============================] - 0s 3ms/step - loss: 2.0240 - accuracy: 0.3600\n",
            "8/8 [==============================] - 0s 4ms/step - loss: 1.9016 - accuracy: 0.5103\n",
            "7/7 [==============================] - 0s 3ms/step - loss: 7.0593 - accuracy: 0.0000e+00\n",
            "8/8 [==============================] - 0s 3ms/step - loss: 2.2416 - accuracy: 0.2407\n",
            "7/7 [==============================] - 0s 3ms/step - loss: 2.0452 - accuracy: 0.5100\n",
            "The Distance are ... OrderedDict([(0, array([2.47346838])), (1, array([3.07902133])), (2, array([2.11546951])), (3, array([1.93911867])), (4, array([2.00536067])), (5, array([2.2233296])), (6, array([1.97006842])), (7, array([2.03643411])), (8, array([1.99619607])), (9, array([1.98409449])), (10, array([2.67080422])), (11, array([1.87676617]))])\n",
            "The AD are ... [array([0.]), array([0.]), array([0.]), array([0.]), array([0.05922916]), array([0.]), array([0.01115578]), array([0.04697756]), array([0.04483085]), array([0.04950183]), array([0.]), array([0.07807302])]\n",
            "7/7 [==============================] - 0s 3ms/step - loss: 1.9707 - accuracy: 0.4981\n",
            "The Acc on each client... [0.0, 0.0, 0.0, 0.0, 0.4399999976158142, 0.0, 0.07999999821186066, 0.36000001430511475, 0.33000001311302185, 0.36000001430511475, 0.0, 0.5099999904632568]\n",
            "EPOCHS 2 is starting...\n",
            "8/8 [==============================] - 0s 3ms/step - loss: 1.6611 - accuracy: 0.5403\n",
            "7/7 [==============================] - 0s 3ms/step - loss: 3.3712 - accuracy: 0.0000e+00\n",
            "8/8 [==============================] - 0s 3ms/step - loss: 1.2473 - accuracy: 0.6660\n",
            "7/7 [==============================] - 0s 3ms/step - loss: 13.1248 - accuracy: 0.0000e+00\n",
            "8/8 [==============================] - 0s 3ms/step - loss: 1.8972 - accuracy: 0.3845\n",
            "7/7 [==============================] - 0s 2ms/step - loss: 1.8403 - accuracy: 0.2650\n",
            "8/8 [==============================] - 0s 4ms/step - loss: 1.9630 - accuracy: 0.3849\n",
            "7/7 [==============================] - 0s 3ms/step - loss: 1.8616 - accuracy: 0.3100\n",
            "8/8 [==============================] - 1s 3ms/step - loss: 1.8611 - accuracy: 0.4676\n",
            "7/7 [==============================] - 0s 3ms/step - loss: 1.4790 - accuracy: 0.5250\n",
            "8/8 [==============================] - 0s 3ms/step - loss: 1.7069 - accuracy: 0.5058\n",
            "7/7 [==============================] - 0s 3ms/step - loss: 2.9505 - accuracy: 0.0000e+00\n",
            "8/8 [==============================] - 0s 4ms/step - loss: 1.9138 - accuracy: 0.4397\n",
            "7/7 [==============================] - 0s 3ms/step - loss: 1.9010 - accuracy: 0.3100\n",
            "8/8 [==============================] - 0s 3ms/step - loss: 1.8404 - accuracy: 0.4728\n",
            "7/7 [==============================] - 0s 3ms/step - loss: 1.6720 - accuracy: 0.4100\n",
            "8/8 [==============================] - 0s 3ms/step - loss: 1.8434 - accuracy: 0.5369\n",
            "7/7 [==============================] - 0s 3ms/step - loss: 1.6586 - accuracy: 0.4600\n",
            "8/8 [==============================] - 0s 3ms/step - loss: 1.8592 - accuracy: 0.4277\n",
            "7/7 [==============================] - 0s 3ms/step - loss: 1.5816 - accuracy: 0.5300\n",
            "8/8 [==============================] - 0s 4ms/step - loss: 1.5880 - accuracy: 0.5918\n",
            "7/7 [==============================] - 0s 3ms/step - loss: 3.8611 - accuracy: 0.0000e+00\n",
            "8/8 [==============================] - 0s 3ms/step - loss: 1.9205 - accuracy: 0.4861\n",
            "7/7 [==============================] - 0s 3ms/step - loss: 1.6005 - accuracy: 0.5000\n",
            "The Distance are ... OrderedDict([(0, array([1.92808775])), (1, array([2.78637174])), (2, array([1.86961997])), (3, array([1.71663443])), (4, array([1.85086948])), (5, array([1.84736238])), (6, array([1.70910625])), (7, array([1.75220901])), (8, array([1.86219394])), (9, array([1.78164099])), (10, array([1.95137706])), (11, array([1.83186137]))])\n",
            "The AD are ... [array([0.]), array([0.]), array([0.04085829]), array([0.05569765]), array([0.08247776]), array([0.]), array([0.05611853]), array([0.0710901]), array([0.07145248]), array([0.08923166]), array([0.]), array([0.08005763])]\n",
            "7/7 [==============================] - 0s 3ms/step - loss: 1.5311 - accuracy: 0.5630\n",
            "The Acc on each client... [0.0, 0.0, 0.26499998569488525, 0.3100000023841858, 0.5249999761581421, 0.0, 0.3100000023841858, 0.4099999964237213, 0.46000000834465027, 0.5299999713897705, 0.0, 0.5]\n",
            "EPOCHS 3 is starting...\n",
            "8/8 [==============================] - 0s 3ms/step - loss: 1.4204 - accuracy: 0.5983\n",
            "7/7 [==============================] - 0s 3ms/step - loss: 2.5156 - accuracy: 0.0200\n",
            "8/8 [==============================] - 0s 3ms/step - loss: 0.8207 - accuracy: 0.7514\n",
            "7/7 [==============================] - 0s 3ms/step - loss: 17.7149 - accuracy: 0.0000e+00\n",
            "8/8 [==============================] - 0s 3ms/step - loss: 1.4187 - accuracy: 0.4736\n",
            "7/7 [==============================] - 0s 3ms/step - loss: 1.3373 - accuracy: 0.5300\n",
            "8/8 [==============================] - 0s 3ms/step - loss: 1.5803 - accuracy: 0.5166\n",
            "7/7 [==============================] - 0s 3ms/step - loss: 1.5688 - accuracy: 0.4300\n",
            "8/8 [==============================] - 0s 3ms/step - loss: 1.4535 - accuracy: 0.5931\n",
            "7/7 [==============================] - 0s 3ms/step - loss: 1.1860 - accuracy: 0.7100\n",
            "8/8 [==============================] - 0s 3ms/step - loss: 1.4883 - accuracy: 0.5143\n",
            "7/7 [==============================] - 0s 3ms/step - loss: 2.1958 - accuracy: 0.0900\n",
            "8/8 [==============================] - 0s 3ms/step - loss: 1.5412 - accuracy: 0.5287\n",
            "7/7 [==============================] - 0s 3ms/step - loss: 1.4203 - accuracy: 0.4850\n",
            "8/8 [==============================] - 0s 4ms/step - loss: 1.4706 - accuracy: 0.5650\n",
            "7/7 [==============================] - 0s 3ms/step - loss: 1.1107 - accuracy: 0.7150\n",
            "8/8 [==============================] - 0s 4ms/step - loss: 1.5133 - accuracy: 0.5472\n",
            "7/7 [==============================] - 0s 3ms/step - loss: 1.2432 - accuracy: 0.6150\n",
            "8/8 [==============================] - 0s 3ms/step - loss: 1.4396 - accuracy: 0.5968\n",
            "7/7 [==============================] - 0s 3ms/step - loss: 0.9809 - accuracy: 0.7900\n",
            "8/8 [==============================] - 0s 3ms/step - loss: 1.2736 - accuracy: 0.6738\n",
            "7/7 [==============================] - 0s 3ms/step - loss: 2.7506 - accuracy: 0.0300\n",
            "8/8 [==============================] - 0s 3ms/step - loss: 1.4753 - accuracy: 0.5444\n",
            "7/7 [==============================] - 0s 3ms/step - loss: 1.2419 - accuracy: 0.5700\n",
            "The Distance are ... OrderedDict([(0, array([1.51692782])), (1, array([2.60121432])), (2, array([1.58697402])), (3, array([1.52053708])), (4, array([1.56047974])), (5, array([1.42028657])), (6, array([1.40945542])), (7, array([1.51960738])), (8, array([1.45574723])), (9, array([1.54473123])), (10, array([1.51689643])), (11, array([1.65651576]))])\n",
            "The AD are ... [array([0.0043877]), array([0.]), array([0.10840811]), array([0.09399562]), array([0.14912505]), array([0.02174803]), array([0.118474]), array([0.1564404]), array([0.14343401]), array([0.16856168]), array([0.00658175]), array([0.10875749])]\n",
            "7/7 [==============================] - 0s 3ms/step - loss: 1.1389 - accuracy: 0.6894\n",
            "The Acc on each client... [0.019999999552965164, 0.0, 0.5299999713897705, 0.4300000071525574, 0.7099999785423279, 0.09000000357627869, 0.48500001430511475, 0.7149999737739563, 0.6150000095367432, 0.7900000214576721, 0.029999999329447746, 0.5699999928474426]\n",
            "EPOCHS 4 is starting...\n",
            "8/8 [==============================] - 0s 3ms/step - loss: 1.1765 - accuracy: 0.6665\n",
            "7/7 [==============================] - 0s 3ms/step - loss: 2.3802 - accuracy: 0.0700\n",
            "8/8 [==============================] - 0s 3ms/step - loss: 0.7068 - accuracy: 0.7833\n",
            "7/7 [==============================] - 0s 3ms/step - loss: 16.3374 - accuracy: 0.0000e+00\n",
            "8/8 [==============================] - 0s 5ms/step - loss: 1.3407 - accuracy: 0.5408\n",
            "7/7 [==============================] - 0s 3ms/step - loss: 1.7500 - accuracy: 0.3300\n",
            "8/8 [==============================] - 0s 3ms/step - loss: 1.5433 - accuracy: 0.4986\n",
            "7/7 [==============================] - 0s 2ms/step - loss: 1.1775 - accuracy: 0.7300\n",
            "8/8 [==============================] - 0s 3ms/step - loss: 1.2840 - accuracy: 0.6194\n",
            "7/7 [==============================] - 0s 3ms/step - loss: 1.0208 - accuracy: 0.7050\n",
            "8/8 [==============================] - 0s 3ms/step - loss: 1.4284 - accuracy: 0.5941\n",
            "7/7 [==============================] - 0s 3ms/step - loss: 1.7028 - accuracy: 0.3150\n",
            "8/8 [==============================] - 0s 3ms/step - loss: 1.3724 - accuracy: 0.6243\n",
            "7/7 [==============================] - 0s 3ms/step - loss: 1.2961 - accuracy: 0.5750\n",
            "8/8 [==============================] - 0s 3ms/step - loss: 1.1134 - accuracy: 0.6881\n",
            "7/7 [==============================] - 0s 3ms/step - loss: 0.9114 - accuracy: 0.7250\n",
            "8/8 [==============================] - 0s 3ms/step - loss: 1.2054 - accuracy: 0.6848\n",
            "7/7 [==============================] - 0s 3ms/step - loss: 0.9988 - accuracy: 0.7150\n",
            "8/8 [==============================] - 1s 4ms/step - loss: 1.2013 - accuracy: 0.6451\n",
            "7/7 [==============================] - 0s 3ms/step - loss: 0.8666 - accuracy: 0.7550\n",
            "8/8 [==============================] - 0s 3ms/step - loss: 1.2187 - accuracy: 0.6713\n",
            "7/7 [==============================] - 0s 3ms/step - loss: 2.3077 - accuracy: 0.1000\n",
            "8/8 [==============================] - 0s 3ms/step - loss: 1.2592 - accuracy: 0.6112\n",
            "7/7 [==============================] - 0s 3ms/step - loss: 1.2172 - accuracy: 0.6100\n",
            "The Distance are ... OrderedDict([(0, array([1.40047821])), (1, array([2.35712973])), (2, array([1.26903781])), (3, array([1.22942638])), (4, array([1.19730462])), (5, array([1.38887682])), (6, array([1.32425328])), (7, array([1.37817007])), (8, array([1.36469382])), (9, array([1.2932138])), (10, array([1.53424684])), (11, array([1.35856059]))])\n",
            "The AD are ... [array([0.01725353]), array([0.]), array([0.09276365]), array([0.21349602]), array([0.21291503]), array([0.07854689]), array([0.15295087]), array([0.18272853]), array([0.18265309]), array([0.20716259]), array([0.0215618]), array([0.1567886])]\n",
            "7/7 [==============================] - 0s 3ms/step - loss: 1.0620 - accuracy: 0.7092\n",
            "The Acc on each client... [0.07000000029802322, 0.0, 0.33000001311302185, 0.7300000190734863, 0.7049999833106995, 0.3149999976158142, 0.574999988079071, 0.7250000238418579, 0.7149999737739563, 0.7549999952316284, 0.10000000149011612, 0.6100000143051147]\n",
            "EPOCHS 5 is starting...\n",
            "8/8 [==============================] - 0s 3ms/step - loss: 1.0366 - accuracy: 0.6521\n",
            "7/7 [==============================] - 0s 3ms/step - loss: 1.8021 - accuracy: 0.2050\n",
            "8/8 [==============================] - 0s 3ms/step - loss: 0.7400 - accuracy: 0.7564\n",
            "7/7 [==============================] - 0s 3ms/step - loss: 12.9489 - accuracy: 0.0000e+00\n",
            "8/8 [==============================] - 0s 4ms/step - loss: 1.1296 - accuracy: 0.6085\n",
            "7/7 [==============================] - 0s 3ms/step - loss: 1.4484 - accuracy: 0.4750\n",
            "8/8 [==============================] - 0s 3ms/step - loss: 1.3776 - accuracy: 0.5636\n",
            "7/7 [==============================] - 0s 3ms/step - loss: 1.2787 - accuracy: 0.5000\n",
            "8/8 [==============================] - 0s 4ms/step - loss: 1.1746 - accuracy: 0.6592\n",
            "7/7 [==============================] - 0s 3ms/step - loss: 0.9097 - accuracy: 0.7250\n",
            "8/8 [==============================] - 0s 3ms/step - loss: 1.2024 - accuracy: 0.6230\n",
            "7/7 [==============================] - 0s 3ms/step - loss: 1.4067 - accuracy: 0.5050\n",
            "8/8 [==============================] - 0s 4ms/step - loss: 1.1917 - accuracy: 0.5990\n",
            "7/7 [==============================] - 0s 3ms/step - loss: 0.9513 - accuracy: 0.7550\n",
            "8/8 [==============================] - 0s 4ms/step - loss: 1.0512 - accuracy: 0.6690\n",
            "7/7 [==============================] - 0s 3ms/step - loss: 0.9804 - accuracy: 0.6950\n",
            "8/8 [==============================] - 0s 3ms/step - loss: 1.0453 - accuracy: 0.6741\n",
            "7/7 [==============================] - 0s 3ms/step - loss: 0.8509 - accuracy: 0.7400\n",
            "8/8 [==============================] - 0s 4ms/step - loss: 0.9661 - accuracy: 0.7442\n",
            "7/7 [==============================] - 0s 3ms/step - loss: 0.6932 - accuracy: 0.8100\n",
            "8/8 [==============================] - 0s 4ms/step - loss: 1.0210 - accuracy: 0.7079\n",
            "7/7 [==============================] - 0s 3ms/step - loss: 2.0942 - accuracy: 0.2050\n",
            "8/8 [==============================] - 0s 3ms/step - loss: 1.1378 - accuracy: 0.6889\n",
            "7/7 [==============================] - 0s 3ms/step - loss: 1.2799 - accuracy: 0.5000\n",
            "The Distance are ... OrderedDict([(0, array([1.43428474])), (1, array([2.14245462])), (2, array([1.33211311])), (3, array([1.30539594])), (4, array([1.26758452])), (5, array([1.25550168])), (6, array([1.31258044])), (7, array([1.19583623])), (8, array([1.35978787])), (9, array([1.3016436])), (10, array([1.42991646])), (11, array([1.20161938]))])\n",
            "The AD are ... [array([0.04884858]), array([0.]), array([0.12536151]), array([0.13553259]), array([0.20409533]), array([0.1438911]), array([0.20318915]), array([0.21020339]), array([0.18996927]), array([0.22038823]), array([0.04906243]), array([0.15035343])]\n",
            "7/7 [==============================] - 0s 3ms/step - loss: 1.0359 - accuracy: 0.6494\n",
            "The Acc on each client... [0.20499999821186066, 0.0, 0.4749999940395355, 0.5, 0.7250000238418579, 0.5049999952316284, 0.7549999952316284, 0.6949999928474426, 0.7400000095367432, 0.8100000023841858, 0.20499999821186066, 0.5]\n",
            "EPOCHS 6 is starting...\n",
            "8/8 [==============================] - 1s 3ms/step - loss: 1.0698 - accuracy: 0.6908\n",
            "7/7 [==============================] - 0s 3ms/step - loss: 1.4244 - accuracy: 0.4250\n",
            "8/8 [==============================] - 0s 3ms/step - loss: 0.4953 - accuracy: 0.8470\n",
            "7/7 [==============================] - 0s 3ms/step - loss: 11.3917 - accuracy: 0.0000e+00\n",
            "8/8 [==============================] - 0s 4ms/step - loss: 1.0291 - accuracy: 0.6619\n",
            "7/7 [==============================] - 0s 3ms/step - loss: 0.9085 - accuracy: 0.6750\n",
            "8/8 [==============================] - 0s 3ms/step - loss: 1.2042 - accuracy: 0.6472\n",
            "7/7 [==============================] - 0s 3ms/step - loss: 0.9911 - accuracy: 0.6850\n",
            "8/8 [==============================] - 0s 3ms/step - loss: 1.0751 - accuracy: 0.6832\n",
            "7/7 [==============================] - 0s 3ms/step - loss: 1.0635 - accuracy: 0.6750\n",
            "8/8 [==============================] - 0s 3ms/step - loss: 1.0097 - accuracy: 0.6820\n",
            "7/7 [==============================] - 0s 3ms/step - loss: 1.1089 - accuracy: 0.6950\n",
            "8/8 [==============================] - 0s 4ms/step - loss: 1.1107 - accuracy: 0.6441\n",
            "7/7 [==============================] - 0s 3ms/step - loss: 1.3761 - accuracy: 0.4500\n",
            "8/8 [==============================] - 0s 3ms/step - loss: 0.9624 - accuracy: 0.7088\n",
            "7/7 [==============================] - 0s 3ms/step - loss: 0.7948 - accuracy: 0.7400\n",
            "8/8 [==============================] - 0s 4ms/step - loss: 0.9616 - accuracy: 0.6887\n",
            "7/7 [==============================] - 0s 3ms/step - loss: 0.7071 - accuracy: 0.7950\n",
            "8/8 [==============================] - 0s 4ms/step - loss: 0.8594 - accuracy: 0.7691\n",
            "7/7 [==============================] - 0s 3ms/step - loss: 0.6175 - accuracy: 0.8200\n",
            "8/8 [==============================] - 0s 4ms/step - loss: 0.9384 - accuracy: 0.7432\n",
            "7/7 [==============================] - 0s 3ms/step - loss: 1.8123 - accuracy: 0.2700\n",
            "8/8 [==============================] - 0s 3ms/step - loss: 1.0058 - accuracy: 0.7205\n",
            "7/7 [==============================] - 0s 3ms/step - loss: 0.8818 - accuracy: 0.7600\n",
            "The Distance are ... OrderedDict([(0, array([1.30978247])), (1, array([1.9190176])), (2, array([1.32604386])), (3, array([1.28653566])), (4, array([1.22573104])), (5, array([1.33746972])), (6, array([1.18131971])), (7, array([1.21763365])), (8, array([1.22870582])), (9, array([1.20546212])), (10, array([1.35471498])), (11, array([1.32181744]))])\n",
            "The AD are ... [array([0.11469847]), array([0.]), array([0.17922981]), array([0.18921486]), array([0.19814155]), array([0.18244379]), array([0.13809307]), array([0.21898792]), array([0.23267353]), array([0.2456339]), array([0.06966563]), array([0.20265418])]\n",
            "7/7 [==============================] - 0s 3ms/step - loss: 0.8669 - accuracy: 0.7521\n",
            "The Acc on each client... [0.42500001192092896, 0.0, 0.675000011920929, 0.6850000023841858, 0.675000011920929, 0.6949999928474426, 0.44999998807907104, 0.7400000095367432, 0.7950000166893005, 0.8199999928474426, 0.27000001072883606, 0.7599999904632568]\n",
            "EPOCHS 7 is starting...\n",
            "8/8 [==============================] - 0s 4ms/step - loss: 0.8933 - accuracy: 0.7557\n",
            "7/7 [==============================] - 0s 3ms/step - loss: 1.5736 - accuracy: 0.3300\n",
            "8/8 [==============================] - 0s 3ms/step - loss: 0.5623 - accuracy: 0.7779\n",
            "7/7 [==============================] - 0s 3ms/step - loss: 14.8193 - accuracy: 0.0000e+00\n",
            "8/8 [==============================] - 0s 3ms/step - loss: 0.9626 - accuracy: 0.6950\n",
            "7/7 [==============================] - 1s 3ms/step - loss: 0.8302 - accuracy: 0.7050\n",
            "8/8 [==============================] - 0s 3ms/step - loss: 1.1957 - accuracy: 0.6050\n",
            "7/7 [==============================] - 0s 3ms/step - loss: 0.9268 - accuracy: 0.7400\n",
            "8/8 [==============================] - 0s 4ms/step - loss: 0.9331 - accuracy: 0.7287\n",
            "7/7 [==============================] - 0s 3ms/step - loss: 0.7318 - accuracy: 0.7900\n",
            "8/8 [==============================] - 0s 4ms/step - loss: 0.9731 - accuracy: 0.6668\n",
            "7/7 [==============================] - 0s 3ms/step - loss: 1.2726 - accuracy: 0.5150\n",
            "8/8 [==============================] - 0s 3ms/step - loss: 1.0146 - accuracy: 0.6963\n",
            "7/7 [==============================] - 0s 3ms/step - loss: 0.6946 - accuracy: 0.8200\n",
            "8/8 [==============================] - 0s 4ms/step - loss: 0.8876 - accuracy: 0.7294\n",
            "7/7 [==============================] - 0s 3ms/step - loss: 0.7934 - accuracy: 0.7200\n",
            "8/8 [==============================] - 0s 4ms/step - loss: 0.8415 - accuracy: 0.7199\n",
            "7/7 [==============================] - 0s 3ms/step - loss: 0.6532 - accuracy: 0.7900\n",
            "8/8 [==============================] - 0s 3ms/step - loss: 0.7412 - accuracy: 0.7945\n",
            "7/7 [==============================] - 0s 3ms/step - loss: 0.6414 - accuracy: 0.8100\n",
            "8/8 [==============================] - 0s 3ms/step - loss: 1.0311 - accuracy: 0.6883\n",
            "7/7 [==============================] - 0s 4ms/step - loss: 1.6282 - accuracy: 0.3350\n",
            "8/8 [==============================] - 0s 3ms/step - loss: 0.8616 - accuracy: 0.7466\n",
            "7/7 [==============================] - 0s 3ms/step - loss: 0.9274 - accuracy: 0.7050\n",
            "The Distance are ... OrderedDict([(0, array([1.37878647])), (1, array([2.14013193])), (2, array([1.35815646])), (3, array([1.15470347])), (4, array([1.18028125])), (5, array([1.27592191])), (6, array([1.19743768])), (7, array([1.20518084])), (8, array([1.21176763])), (9, array([1.29973818])), (10, array([1.35817633])), (11, array([1.22638384]))])\n",
            "The AD are ... [array([0.08312173]), array([0.]), array([0.18127973]), array([0.23321172]), array([0.24268195]), array([0.14377434]), array([0.2476129]), array([0.21573923]), array([0.23515981]), array([0.22080856]), array([0.08613831]), array([0.20681278])]\n",
            "7/7 [==============================] - 0s 3ms/step - loss: 0.7743 - accuracy: 0.7519\n",
            "The Acc on each client... [0.33000001311302185, 0.0, 0.7049999833106995, 0.7400000095367432, 0.7900000214576721, 0.5149999856948853, 0.8199999928474426, 0.7200000286102295, 0.7900000214576721, 0.8100000023841858, 0.33500000834465027, 0.7049999833106995]\n",
            "EPOCHS 8 is starting...\n",
            "8/8 [==============================] - 0s 3ms/step - loss: 0.9722 - accuracy: 0.6961\n",
            "7/7 [==============================] - 0s 3ms/step - loss: 1.7206 - accuracy: 0.2800\n",
            "8/8 [==============================] - 0s 4ms/step - loss: 0.5178 - accuracy: 0.8164\n",
            "7/7 [==============================] - 0s 3ms/step - loss: 18.5319 - accuracy: 0.0000e+00\n",
            "8/8 [==============================] - 0s 4ms/step - loss: 0.8962 - accuracy: 0.6565\n",
            "7/7 [==============================] - 0s 3ms/step - loss: 0.8439 - accuracy: 0.7700\n",
            "8/8 [==============================] - 0s 3ms/step - loss: 1.0071 - accuracy: 0.6534\n",
            "7/7 [==============================] - 0s 3ms/step - loss: 1.0685 - accuracy: 0.6000\n",
            "8/8 [==============================] - 0s 4ms/step - loss: 0.8024 - accuracy: 0.7512\n",
            "7/7 [==============================] - 0s 3ms/step - loss: 0.7642 - accuracy: 0.7650\n",
            "8/8 [==============================] - 1s 4ms/step - loss: 0.9170 - accuracy: 0.7126\n",
            "7/7 [==============================] - 0s 3ms/step - loss: 1.2383 - accuracy: 0.4950\n",
            "8/8 [==============================] - 0s 3ms/step - loss: 0.9560 - accuracy: 0.7038\n",
            "7/7 [==============================] - 0s 3ms/step - loss: 0.7884 - accuracy: 0.7750\n",
            "8/8 [==============================] - 0s 3ms/step - loss: 0.7590 - accuracy: 0.7585\n",
            "7/7 [==============================] - 0s 4ms/step - loss: 0.7191 - accuracy: 0.7750\n",
            "8/8 [==============================] - 0s 3ms/step - loss: 0.8425 - accuracy: 0.6972\n",
            "7/7 [==============================] - 0s 3ms/step - loss: 0.6526 - accuracy: 0.8350\n",
            "8/8 [==============================] - 0s 4ms/step - loss: 0.7485 - accuracy: 0.8074\n",
            "7/7 [==============================] - 0s 3ms/step - loss: 0.5916 - accuracy: 0.8450\n",
            "8/8 [==============================] - 0s 4ms/step - loss: 1.0026 - accuracy: 0.6777\n",
            "7/7 [==============================] - 0s 3ms/step - loss: 1.7739 - accuracy: 0.2250\n",
            "8/8 [==============================] - 0s 4ms/step - loss: 0.8016 - accuracy: 0.7627\n",
            "7/7 [==============================] - 0s 3ms/step - loss: 0.6776 - accuracy: 0.7650\n",
            "The Distance are ... OrderedDict([(0, array([1.37797731])), (1, array([2.30908102])), (2, array([1.2373028])), (3, array([1.25648543])), (4, array([1.26117591])), (5, array([1.3258098])), (6, array([1.253599])), (7, array([1.31744532])), (8, array([1.22070473])), (9, array([1.1964086])), (10, array([1.45233317])), (11, array([1.23422847]))])\n",
            "The AD are ... [array([0.07058462]), array([0.]), array([0.22342766]), array([0.17079163]), array([0.21674031]), array([0.13146596]), array([0.22124352]), array([0.20755942]), array([0.24634352]), array([0.2554248]), array([0.05265532]), array([0.22266031])]\n",
            "7/7 [==============================] - 0s 3ms/step - loss: 0.7089 - accuracy: 0.7995\n",
            "The Acc on each client... [0.2800000011920929, 0.0, 0.7699999809265137, 0.6000000238418579, 0.7649999856948853, 0.4950000047683716, 0.7749999761581421, 0.7749999761581421, 0.8349999785423279, 0.8450000286102295, 0.22499999403953552, 0.7649999856948853]\n",
            "EPOCHS 9 is starting...\n",
            "8/8 [==============================] - 0s 5ms/step - loss: 0.9451 - accuracy: 0.6560\n",
            "7/7 [==============================] - 0s 3ms/step - loss: 1.6061 - accuracy: 0.3200\n",
            "8/8 [==============================] - 0s 3ms/step - loss: 0.5477 - accuracy: 0.7782\n",
            "7/7 [==============================] - 0s 3ms/step - loss: 14.2425 - accuracy: 0.0000e+00\n",
            "8/8 [==============================] - 0s 3ms/step - loss: 0.7779 - accuracy: 0.7450\n",
            "7/7 [==============================] - 0s 3ms/step - loss: 0.9815 - accuracy: 0.6950\n",
            "8/8 [==============================] - 0s 4ms/step - loss: 1.0073 - accuracy: 0.6432\n",
            "7/7 [==============================] - 0s 3ms/step - loss: 0.7372 - accuracy: 0.7750\n",
            "8/8 [==============================] - 0s 3ms/step - loss: 0.7440 - accuracy: 0.7779\n",
            "7/7 [==============================] - 0s 3ms/step - loss: 0.8197 - accuracy: 0.7450\n",
            "8/8 [==============================] - 0s 4ms/step - loss: 0.9532 - accuracy: 0.6710\n",
            "7/7 [==============================] - 0s 3ms/step - loss: 1.2148 - accuracy: 0.5500\n",
            "8/8 [==============================] - 0s 3ms/step - loss: 0.8437 - accuracy: 0.7717\n",
            "7/7 [==============================] - 0s 3ms/step - loss: 0.6700 - accuracy: 0.8200\n",
            "8/8 [==============================] - 0s 4ms/step - loss: 0.7757 - accuracy: 0.7237\n",
            "7/7 [==============================] - 0s 3ms/step - loss: 0.6242 - accuracy: 0.8350\n",
            "8/8 [==============================] - 0s 4ms/step - loss: 0.6367 - accuracy: 0.7758\n",
            "7/7 [==============================] - 0s 3ms/step - loss: 0.6998 - accuracy: 0.7900\n",
            "8/8 [==============================] - 0s 3ms/step - loss: 0.7463 - accuracy: 0.7736\n",
            "7/7 [==============================] - 0s 3ms/step - loss: 0.5570 - accuracy: 0.8500\n",
            "8/8 [==============================] - 0s 4ms/step - loss: 0.8638 - accuracy: 0.7154\n",
            "7/7 [==============================] - 0s 3ms/step - loss: 1.6890 - accuracy: 0.3350\n",
            "8/8 [==============================] - 0s 3ms/step - loss: 0.8345 - accuracy: 0.7268\n",
            "7/7 [==============================] - 0s 3ms/step - loss: 0.6363 - accuracy: 0.7950\n",
            "The Distance are ... OrderedDict([(0, array([1.31248921])), (1, array([2.1375421])), (2, array([1.24433074])), (3, array([1.27292043])), (4, array([1.19520151])), (5, array([1.35999576])), (6, array([1.31987642])), (7, array([1.30667907])), (8, array([1.3205556])), (9, array([1.22584943])), (10, array([1.53026603])), (11, array([1.35872718]))])\n",
            "The AD are ... [array([0.08612776]), array([0.]), array([0.2002529]), array([0.21700981]), array([0.22546901]), array([0.14116403]), array([0.21907802]), array([0.22604919]), array([0.21091967]), array([0.24948205]), array([0.07252016]), array([0.2043052])]\n",
            "7/7 [==============================] - 0s 3ms/step - loss: 0.6836 - accuracy: 0.8054\n",
            "The Acc on each client... [0.3199999928474426, 0.0, 0.6949999928474426, 0.7749999761581421, 0.7450000047683716, 0.550000011920929, 0.8199999928474426, 0.8349999785423279, 0.7900000214576721, 0.8500000238418579, 0.33500000834465027, 0.7950000166893005]\n",
            "EPOCHS 10 is starting...\n",
            "8/8 [==============================] - 0s 4ms/step - loss: 0.9074 - accuracy: 0.6515\n",
            "7/7 [==============================] - 0s 3ms/step - loss: 1.4512 - accuracy: 0.2950\n",
            "8/8 [==============================] - 0s 4ms/step - loss: 0.5256 - accuracy: 0.8282\n",
            "7/7 [==============================] - 0s 3ms/step - loss: 14.5477 - accuracy: 0.0000e+00\n",
            "8/8 [==============================] - 0s 4ms/step - loss: 0.7481 - accuracy: 0.7729\n",
            "7/7 [==============================] - 0s 3ms/step - loss: 1.2609 - accuracy: 0.6000\n",
            "8/8 [==============================] - 0s 3ms/step - loss: 0.9788 - accuracy: 0.6366\n",
            "7/7 [==============================] - 0s 3ms/step - loss: 0.7164 - accuracy: 0.8100\n",
            "8/8 [==============================] - 0s 3ms/step - loss: 0.7437 - accuracy: 0.7612\n",
            "7/7 [==============================] - 0s 4ms/step - loss: 0.6002 - accuracy: 0.8050\n",
            "8/8 [==============================] - 0s 5ms/step - loss: 0.8628 - accuracy: 0.7035\n",
            "7/7 [==============================] - 0s 3ms/step - loss: 1.3057 - accuracy: 0.4500\n",
            "8/8 [==============================] - 0s 3ms/step - loss: 0.8044 - accuracy: 0.6953\n",
            "7/7 [==============================] - 0s 3ms/step - loss: 0.7376 - accuracy: 0.7900\n",
            "8/8 [==============================] - 0s 4ms/step - loss: 0.6356 - accuracy: 0.7983\n",
            "7/7 [==============================] - 0s 3ms/step - loss: 0.5943 - accuracy: 0.8200\n",
            "8/8 [==============================] - 0s 4ms/step - loss: 0.7243 - accuracy: 0.7424\n",
            "7/7 [==============================] - 0s 3ms/step - loss: 0.6155 - accuracy: 0.8300\n",
            "8/8 [==============================] - 0s 4ms/step - loss: 0.6299 - accuracy: 0.8360\n",
            "7/7 [==============================] - 0s 3ms/step - loss: 0.4645 - accuracy: 0.8850\n",
            "8/8 [==============================] - 1s 4ms/step - loss: 0.7316 - accuracy: 0.7360\n",
            "7/7 [==============================] - 0s 3ms/step - loss: 1.4777 - accuracy: 0.3800\n",
            "8/8 [==============================] - 0s 3ms/step - loss: 0.6761 - accuracy: 0.7684\n",
            "7/7 [==============================] - 0s 3ms/step - loss: 0.8562 - accuracy: 0.7150\n",
            "The Distance are ... OrderedDict([(0, array([1.41000967])), (1, array([2.10190351])), (2, array([1.24700924])), (3, array([1.19880155])), (4, array([1.13940842])), (5, array([1.27981076])), (6, array([1.34758919])), (7, array([1.29047983])), (8, array([1.24880997])), (9, array([1.27800225])), (10, array([1.31464398])), (11, array([1.19185387]))])\n",
            "The AD are ... [array([0.07202157]), array([0.]), array([0.17241777]), array([0.24425987]), array([0.25760666]), array([0.12514046]), array([0.20529414]), array([0.22561376]), array([0.23808213]), array([0.24655507]), array([0.10205657]), array([0.21711532])]\n",
            "7/7 [==============================] - 0s 3ms/step - loss: 0.6916 - accuracy: 0.7778\n",
            "The Acc on each client... [0.29499998688697815, 0.0, 0.6000000238418579, 0.8100000023841858, 0.8050000071525574, 0.44999998807907104, 0.7900000214576721, 0.8199999928474426, 0.8299999833106995, 0.8849999904632568, 0.3799999952316284, 0.7149999737739563]\n",
            "EPOCHS 11 is starting...\n",
            "8/8 [==============================] - 0s 4ms/step - loss: 0.8485 - accuracy: 0.7296\n",
            "7/7 [==============================] - 0s 4ms/step - loss: 1.1225 - accuracy: 0.6000\n",
            "8/8 [==============================] - 0s 4ms/step - loss: 0.4348 - accuracy: 0.8448\n",
            "7/7 [==============================] - 0s 3ms/step - loss: 11.8805 - accuracy: 0.0000e+00\n",
            "8/8 [==============================] - 0s 4ms/step - loss: 0.7837 - accuracy: 0.7457\n",
            "7/7 [==============================] - 0s 3ms/step - loss: 0.8579 - accuracy: 0.7200\n",
            "8/8 [==============================] - 0s 4ms/step - loss: 0.8393 - accuracy: 0.6726\n",
            "7/7 [==============================] - 0s 3ms/step - loss: 0.6191 - accuracy: 0.8050\n",
            "8/8 [==============================] - 0s 4ms/step - loss: 0.7488 - accuracy: 0.7639\n",
            "7/7 [==============================] - 0s 3ms/step - loss: 0.5573 - accuracy: 0.8600\n",
            "8/8 [==============================] - 0s 4ms/step - loss: 0.9434 - accuracy: 0.6697\n",
            "7/7 [==============================] - 0s 3ms/step - loss: 1.0401 - accuracy: 0.6300\n",
            "8/8 [==============================] - 0s 4ms/step - loss: 0.7401 - accuracy: 0.7633\n",
            "7/7 [==============================] - 0s 3ms/step - loss: 0.9635 - accuracy: 0.6650\n",
            "8/8 [==============================] - 0s 4ms/step - loss: 0.5860 - accuracy: 0.7991\n",
            "7/7 [==============================] - 0s 3ms/step - loss: 0.4722 - accuracy: 0.8700\n",
            "8/8 [==============================] - 0s 3ms/step - loss: 0.7127 - accuracy: 0.8022\n",
            "7/7 [==============================] - 0s 3ms/step - loss: 0.5357 - accuracy: 0.8400\n",
            "8/8 [==============================] - 0s 4ms/step - loss: 0.6398 - accuracy: 0.8091\n",
            "7/7 [==============================] - 0s 3ms/step - loss: 0.4996 - accuracy: 0.8400\n",
            "8/8 [==============================] - 0s 4ms/step - loss: 0.8022 - accuracy: 0.7090\n",
            "7/7 [==============================] - 0s 3ms/step - loss: 1.1740 - accuracy: 0.5250\n",
            "8/8 [==============================] - 0s 3ms/step - loss: 0.6788 - accuracy: 0.7953\n",
            "7/7 [==============================] - 0s 3ms/step - loss: 0.7267 - accuracy: 0.7550\n",
            "The Distance are ... OrderedDict([(0, array([1.30480055])), (1, array([2.02165295])), (2, array([1.15273347])), (3, array([1.26308692])), (4, array([1.33803444])), (5, array([1.27846982])), (6, array([1.19731825])), (7, array([1.3037507])), (8, array([1.23860835])), (9, array([1.3642874])), (10, array([1.28899807])), (11, array([1.24783866]))])\n",
            "The AD are ... [array([0.16273598]), array([0.]), array([0.22735616]), array([0.22763771]), array([0.22563033]), array([0.17543174]), array([0.20083202]), array([0.23621503]), array([0.24342126]), array([0.21467268]), array([0.14466202]), array([0.21677915])]\n",
            "7/7 [==============================] - 0s 3ms/step - loss: 0.6332 - accuracy: 0.8195\n",
            "The Acc on each client... [0.6000000238418579, 0.0, 0.7200000286102295, 0.8050000071525574, 0.8600000143051147, 0.6299999952316284, 0.6650000214576721, 0.8700000047683716, 0.8399999737739563, 0.8399999737739563, 0.5249999761581421, 0.7549999952316284]\n",
            "EPOCHS 12 is starting...\n",
            "8/8 [==============================] - 1s 3ms/step - loss: 0.7642 - accuracy: 0.7720\n",
            "7/7 [==============================] - 0s 3ms/step - loss: 1.1009 - accuracy: 0.6000\n",
            "8/8 [==============================] - 0s 4ms/step - loss: 0.4729 - accuracy: 0.8465\n",
            "7/7 [==============================] - 0s 3ms/step - loss: 13.5571 - accuracy: 0.0000e+00\n",
            "8/8 [==============================] - 0s 4ms/step - loss: 0.7318 - accuracy: 0.7523\n",
            "7/7 [==============================] - 0s 3ms/step - loss: 0.7602 - accuracy: 0.7450\n",
            "8/8 [==============================] - 0s 4ms/step - loss: 0.8527 - accuracy: 0.7179\n",
            "7/7 [==============================] - 0s 3ms/step - loss: 0.5090 - accuracy: 0.8700\n",
            "8/8 [==============================] - 0s 4ms/step - loss: 0.6833 - accuracy: 0.7923\n",
            "7/7 [==============================] - 0s 3ms/step - loss: 0.7459 - accuracy: 0.7900\n",
            "8/8 [==============================] - 0s 3ms/step - loss: 0.7945 - accuracy: 0.7354\n",
            "7/7 [==============================] - 0s 3ms/step - loss: 1.1528 - accuracy: 0.5050\n",
            "8/8 [==============================] - 0s 4ms/step - loss: 0.8110 - accuracy: 0.7401\n",
            "7/7 [==============================] - 0s 3ms/step - loss: 0.6175 - accuracy: 0.8100\n",
            "8/8 [==============================] - 0s 4ms/step - loss: 0.6447 - accuracy: 0.7988\n",
            "7/7 [==============================] - 0s 3ms/step - loss: 0.6264 - accuracy: 0.7950\n",
            "8/8 [==============================] - 0s 4ms/step - loss: 0.5830 - accuracy: 0.8171\n",
            "7/7 [==============================] - 0s 3ms/step - loss: 0.7612 - accuracy: 0.7850\n",
            "8/8 [==============================] - 0s 4ms/step - loss: 0.5884 - accuracy: 0.8260\n",
            "7/7 [==============================] - 0s 3ms/step - loss: 0.5112 - accuracy: 0.8450\n",
            "8/8 [==============================] - 0s 4ms/step - loss: 0.7743 - accuracy: 0.7641\n",
            "7/7 [==============================] - 0s 4ms/step - loss: 1.0407 - accuracy: 0.6150\n",
            "8/8 [==============================] - 0s 4ms/step - loss: 0.5380 - accuracy: 0.8269\n",
            "7/7 [==============================] - 0s 3ms/step - loss: 0.7152 - accuracy: 0.7700\n",
            "The Distance are ... OrderedDict([(0, array([1.26796141])), (1, array([2.09376195])), (2, array([1.19199145])), (3, array([1.23417516])), (4, array([1.16746417])), (5, array([1.17216379])), (6, array([1.13599431])), (7, array([1.24807026])), (8, array([1.24331839])), (9, array([1.30951911])), (10, array([1.29813502])), (11, array([1.26935677]))])\n",
            "The AD are ... [array([0.16884283]), array([0.]), array([0.22619394]), array([0.25323504]), array([0.24581244]), array([0.15639653]), array([0.26009318]), array([0.22821128]), array([0.22641404]), array([0.22810762]), array([0.16791993]), array([0.21637948])]\n",
            "7/7 [==============================] - 0s 3ms/step - loss: 0.6156 - accuracy: 0.8090\n",
            "The Acc on each client... [0.6000000238418579, 0.0, 0.7450000047683716, 0.8700000047683716, 0.7900000214576721, 0.5049999952316284, 0.8100000023841858, 0.7950000166893005, 0.7850000262260437, 0.8450000286102295, 0.6150000095367432, 0.7699999809265137]\n",
            "EPOCHS 13 is starting...\n",
            "8/8 [==============================] - 0s 4ms/step - loss: 0.7703 - accuracy: 0.7220\n",
            "7/7 [==============================] - 0s 3ms/step - loss: 1.2018 - accuracy: 0.5000\n",
            "8/8 [==============================] - 0s 4ms/step - loss: 0.3980 - accuracy: 0.8525\n",
            "7/7 [==============================] - 0s 3ms/step - loss: 22.1542 - accuracy: 0.0000e+00\n",
            "8/8 [==============================] - 0s 4ms/step - loss: 0.7055 - accuracy: 0.7509\n",
            "7/7 [==============================] - 0s 4ms/step - loss: 0.6337 - accuracy: 0.8050\n",
            "8/8 [==============================] - 1s 4ms/step - loss: 0.8169 - accuracy: 0.7059\n",
            "7/7 [==============================] - 0s 3ms/step - loss: 0.6089 - accuracy: 0.8300\n",
            "8/8 [==============================] - 0s 4ms/step - loss: 0.6335 - accuracy: 0.7993\n",
            "7/7 [==============================] - 0s 3ms/step - loss: 0.6172 - accuracy: 0.8250\n",
            "8/8 [==============================] - 0s 4ms/step - loss: 0.8226 - accuracy: 0.6973\n",
            "7/7 [==============================] - 0s 3ms/step - loss: 0.9334 - accuracy: 0.6700\n",
            "8/8 [==============================] - 0s 4ms/step - loss: 0.7817 - accuracy: 0.7340\n",
            "7/7 [==============================] - 0s 3ms/step - loss: 0.7602 - accuracy: 0.7600\n",
            "8/8 [==============================] - 0s 4ms/step - loss: 0.5675 - accuracy: 0.8124\n",
            "7/7 [==============================] - 0s 3ms/step - loss: 0.7855 - accuracy: 0.8000\n",
            "8/8 [==============================] - 0s 4ms/step - loss: 0.5306 - accuracy: 0.8353\n",
            "7/7 [==============================] - 0s 3ms/step - loss: 0.6140 - accuracy: 0.8050\n",
            "8/8 [==============================] - 0s 3ms/step - loss: 0.6099 - accuracy: 0.7974\n",
            "7/7 [==============================] - 0s 3ms/step - loss: 0.4061 - accuracy: 0.9000\n",
            "8/8 [==============================] - 0s 4ms/step - loss: 0.8233 - accuracy: 0.7778\n",
            "7/7 [==============================] - 0s 3ms/step - loss: 1.0694 - accuracy: 0.6450\n",
            "8/8 [==============================] - 0s 4ms/step - loss: 0.5916 - accuracy: 0.8167\n",
            "7/7 [==============================] - 0s 3ms/step - loss: 0.6726 - accuracy: 0.7900\n",
            "The Distance are ... OrderedDict([(0, array([1.32954027])), (1, array([2.49186734])), (2, array([1.2885776])), (3, array([1.28133087])), (4, array([1.22189801])), (5, array([1.29312349])), (6, array([1.27542713])), (7, array([1.30899988])), (8, array([1.25566029])), (9, array([1.28148027])), (10, array([1.39598645])), (11, array([1.26031447]))])\n",
            "The AD are ... [array([0.13229944]), array([0.]), array([0.2219084]), array([0.23046403]), array([0.24310303]), array([0.18385626]), array([0.21227684]), array([0.21607204]), array([0.22933458]), array([0.24986342]), array([0.15969469]), array([0.22401623])]\n",
            "7/7 [==============================] - 0s 3ms/step - loss: 0.6263 - accuracy: 0.8124\n",
            "The Acc on each client... [0.5, 0.0, 0.8050000071525574, 0.8299999833106995, 0.824999988079071, 0.6700000166893005, 0.7599999904632568, 0.800000011920929, 0.8050000071525574, 0.8999999761581421, 0.6449999809265137, 0.7900000214576721]\n",
            "EPOCHS 14 is starting...\n",
            "8/8 [==============================] - 0s 3ms/step - loss: 0.7515 - accuracy: 0.7024\n",
            "7/7 [==============================] - 0s 4ms/step - loss: 1.3154 - accuracy: 0.3800\n",
            "8/8 [==============================] - 0s 3ms/step - loss: 0.3732 - accuracy: 0.8863\n",
            "7/7 [==============================] - 0s 3ms/step - loss: 18.0980 - accuracy: 0.0000e+00\n",
            "8/8 [==============================] - 0s 4ms/step - loss: 0.6081 - accuracy: 0.7709\n",
            "7/7 [==============================] - 0s 3ms/step - loss: 0.5374 - accuracy: 0.8400\n",
            "8/8 [==============================] - 0s 4ms/step - loss: 0.7621 - accuracy: 0.7234\n",
            "7/7 [==============================] - 0s 4ms/step - loss: 0.6615 - accuracy: 0.8150\n",
            "8/8 [==============================] - 0s 4ms/step - loss: 0.6299 - accuracy: 0.8188\n",
            "7/7 [==============================] - 0s 3ms/step - loss: 0.4941 - accuracy: 0.8500\n",
            "8/8 [==============================] - 0s 4ms/step - loss: 0.8102 - accuracy: 0.7509\n",
            "7/7 [==============================] - 1s 3ms/step - loss: 1.2180 - accuracy: 0.5350\n",
            "8/8 [==============================] - 0s 5ms/step - loss: 0.6542 - accuracy: 0.7948\n",
            "7/7 [==============================] - 0s 3ms/step - loss: 0.7043 - accuracy: 0.8000\n",
            "8/8 [==============================] - 0s 4ms/step - loss: 0.5412 - accuracy: 0.8166\n",
            "7/7 [==============================] - 0s 4ms/step - loss: 0.5195 - accuracy: 0.8600\n",
            "8/8 [==============================] - 0s 3ms/step - loss: 0.5860 - accuracy: 0.8179\n",
            "7/7 [==============================] - 0s 3ms/step - loss: 0.6850 - accuracy: 0.8400\n",
            "8/8 [==============================] - 0s 4ms/step - loss: 0.4920 - accuracy: 0.8503\n",
            "7/7 [==============================] - 0s 4ms/step - loss: 0.3902 - accuracy: 0.8900\n",
            "8/8 [==============================] - 0s 4ms/step - loss: 0.6200 - accuracy: 0.8168\n",
            "7/7 [==============================] - 0s 3ms/step - loss: 1.0007 - accuracy: 0.6400\n",
            "8/8 [==============================] - 0s 4ms/step - loss: 0.5653 - accuracy: 0.8506\n",
            "7/7 [==============================] - 0s 3ms/step - loss: 0.5831 - accuracy: 0.8200\n",
            "The Distance are ... OrderedDict([(0, array([1.38571508])), (1, array([2.28010084])), (2, array([1.35359321])), (3, array([1.1545201])), (4, array([1.31539538])), (5, array([1.27278684])), (6, array([1.30270678])), (7, array([1.32256346])), (8, array([1.34695818])), (9, array([1.42476362])), (10, array([1.22971217])), (11, array([1.31542663]))])\n",
            "The AD are ... [array([0.09505505]), array([0.]), array([0.21698075]), array([0.25689515]), array([0.22811297]), array([0.1498268]), array([0.21743609]), array([0.2291482]), array([0.21842521]), array([0.21410313]), array([0.1871211]), array([0.22005504])]\n",
            "7/7 [==============================] - 0s 4ms/step - loss: 0.5485 - accuracy: 0.8187\n",
            "The Acc on each client... [0.3799999952316284, 0.0, 0.8399999737739563, 0.8149999976158142, 0.8500000238418579, 0.5350000262260437, 0.800000011920929, 0.8600000143051147, 0.8399999737739563, 0.8899999856948853, 0.6399999856948853, 0.8199999928474426]\n",
            "EPOCHS 15 is starting...\n",
            "8/8 [==============================] - 0s 4ms/step - loss: 0.7395 - accuracy: 0.7233\n",
            "7/7 [==============================] - 0s 3ms/step - loss: 0.9711 - accuracy: 0.6600\n",
            "8/8 [==============================] - 0s 4ms/step - loss: 0.6369 - accuracy: 0.7936\n",
            "7/7 [==============================] - 0s 3ms/step - loss: 10.5387 - accuracy: 0.0000e+00\n",
            "8/8 [==============================] - 0s 4ms/step - loss: 0.7114 - accuracy: 0.6954\n",
            "7/7 [==============================] - 0s 4ms/step - loss: 0.5530 - accuracy: 0.8550\n",
            "8/8 [==============================] - 0s 4ms/step - loss: 0.6654 - accuracy: 0.7902\n",
            "7/7 [==============================] - 0s 3ms/step - loss: 0.6492 - accuracy: 0.8300\n",
            "8/8 [==============================] - 0s 4ms/step - loss: 0.5617 - accuracy: 0.8189\n",
            "7/7 [==============================] - 0s 3ms/step - loss: 0.5942 - accuracy: 0.8100\n",
            "8/8 [==============================] - 0s 4ms/step - loss: 0.6759 - accuracy: 0.7366\n",
            "7/7 [==============================] - 0s 3ms/step - loss: 1.0970 - accuracy: 0.5850\n",
            "8/8 [==============================] - 0s 4ms/step - loss: 0.6429 - accuracy: 0.7844\n",
            "7/7 [==============================] - 0s 4ms/step - loss: 0.5242 - accuracy: 0.8350\n",
            "8/8 [==============================] - 0s 4ms/step - loss: 0.5255 - accuracy: 0.8286\n",
            "7/7 [==============================] - 0s 3ms/step - loss: 0.5670 - accuracy: 0.8100\n",
            "8/8 [==============================] - 1s 4ms/step - loss: 0.4959 - accuracy: 0.8683\n",
            "7/7 [==============================] - 0s 3ms/step - loss: 0.4580 - accuracy: 0.8550\n",
            "8/8 [==============================] - 0s 3ms/step - loss: 0.4781 - accuracy: 0.8683\n",
            "7/7 [==============================] - 0s 4ms/step - loss: 0.3801 - accuracy: 0.8950\n",
            "8/8 [==============================] - 0s 4ms/step - loss: 0.6550 - accuracy: 0.7792\n",
            "7/7 [==============================] - 0s 3ms/step - loss: 1.2191 - accuracy: 0.5450\n",
            "8/8 [==============================] - 0s 4ms/step - loss: 0.4867 - accuracy: 0.8363\n",
            "7/7 [==============================] - 0s 3ms/step - loss: 0.4285 - accuracy: 0.8550\n",
            "The Distance are ... OrderedDict([(0, array([1.38750728])), (1, array([2.09166793])), (2, array([1.23237967])), (3, array([1.31331168])), (4, array([1.33662903])), (5, array([1.30183684])), (6, array([1.21480737])), (7, array([1.44770247])), (8, array([1.31356497])), (9, array([1.38021369])), (10, array([1.35880093])), (11, array([1.23911114]))])\n",
            "The AD are ... [array([0.1648]), array([0.]), array([0.24931616]), array([0.22321022]), array([0.21281116]), array([0.15913851]), array([0.24780059]), array([0.19043897]), array([0.22987519]), array([0.22511469]), array([0.14004795]), array([0.24764353])]\n",
            "7/7 [==============================] - 0s 3ms/step - loss: 0.5110 - accuracy: 0.8368\n",
            "The Acc on each client... [0.6600000262260437, 0.0, 0.8550000190734863, 0.8299999833106995, 0.8100000023841858, 0.5849999785423279, 0.8349999785423279, 0.8100000023841858, 0.8550000190734863, 0.8949999809265137, 0.5450000166893005, 0.8550000190734863]\n",
            "EPOCHS 16 is starting...\n",
            "8/8 [==============================] - 0s 4ms/step - loss: 0.5965 - accuracy: 0.7980\n",
            "7/7 [==============================] - 0s 4ms/step - loss: 1.4769 - accuracy: 0.4300\n",
            "8/8 [==============================] - 0s 4ms/step - loss: 0.4598 - accuracy: 0.8269\n",
            "7/7 [==============================] - 0s 4ms/step - loss: 13.4808 - accuracy: 0.0000e+00\n",
            "8/8 [==============================] - 0s 4ms/step - loss: 0.5738 - accuracy: 0.8115\n",
            "7/7 [==============================] - 0s 3ms/step - loss: 0.4881 - accuracy: 0.8600\n",
            "8/8 [==============================] - 0s 4ms/step - loss: 0.6994 - accuracy: 0.7519\n",
            "7/7 [==============================] - 0s 3ms/step - loss: 0.6376 - accuracy: 0.7950\n",
            "8/8 [==============================] - 0s 3ms/step - loss: 0.6334 - accuracy: 0.7742\n",
            "7/7 [==============================] - 0s 3ms/step - loss: 0.6201 - accuracy: 0.8250\n",
            "8/8 [==============================] - 0s 3ms/step - loss: 0.7517 - accuracy: 0.7458\n",
            "7/7 [==============================] - 0s 4ms/step - loss: 0.7545 - accuracy: 0.7650\n",
            "8/8 [==============================] - 0s 4ms/step - loss: 0.6766 - accuracy: 0.7521\n",
            "7/7 [==============================] - 0s 3ms/step - loss: 0.6493 - accuracy: 0.7950\n",
            "8/8 [==============================] - 0s 4ms/step - loss: 0.4877 - accuracy: 0.8361\n",
            "7/7 [==============================] - 0s 3ms/step - loss: 0.4832 - accuracy: 0.8300\n",
            "8/8 [==============================] - 0s 4ms/step - loss: 0.5537 - accuracy: 0.8600\n",
            "7/7 [==============================] - 0s 3ms/step - loss: 0.6140 - accuracy: 0.7950\n",
            "8/8 [==============================] - 0s 3ms/step - loss: 0.5201 - accuracy: 0.8177\n",
            "7/7 [==============================] - 0s 3ms/step - loss: 0.3062 - accuracy: 0.9000\n",
            "8/8 [==============================] - 0s 4ms/step - loss: 0.7265 - accuracy: 0.7419\n",
            "7/7 [==============================] - 0s 4ms/step - loss: 1.2566 - accuracy: 0.5250\n",
            "8/8 [==============================] - 1s 4ms/step - loss: 0.5118 - accuracy: 0.8477\n",
            "7/7 [==============================] - 0s 3ms/step - loss: 0.4546 - accuracy: 0.8400\n",
            "The Distance are ... OrderedDict([(0, array([1.47991453])), (1, array([2.18336415])), (2, array([1.23929912])), (3, array([1.19494554])), (4, array([1.24030673])), (5, array([1.30524828])), (6, array([1.30254051])), (7, array([1.41224558])), (8, array([1.31430962])), (9, array([1.4447329])), (10, array([1.56036378])), (11, array([1.32244806]))])\n",
            "The AD are ... [array([0.09789257]), array([0.]), array([0.24904492]), array([0.24066276]), array([0.23866876]), array([0.20739549]), array([0.21611304]), array([0.20218439]), array([0.21358449]), array([0.21222814]), array([0.11028131]), array([0.22384499])]\n",
            "7/7 [==============================] - 0s 3ms/step - loss: 0.5274 - accuracy: 0.8383\n",
            "The Acc on each client... [0.4300000071525574, 0.0, 0.8600000143051147, 0.7950000166893005, 0.824999988079071, 0.7649999856948853, 0.7950000166893005, 0.8299999833106995, 0.7950000166893005, 0.8999999761581421, 0.5249999761581421, 0.8399999737739563]\n",
            "EPOCHS 17 is starting...\n",
            "8/8 [==============================] - 0s 4ms/step - loss: 0.7231 - accuracy: 0.7098\n",
            "7/7 [==============================] - 0s 4ms/step - loss: 1.1594 - accuracy: 0.5100\n",
            "8/8 [==============================] - 0s 4ms/step - loss: 0.4690 - accuracy: 0.8462\n",
            "7/7 [==============================] - 0s 3ms/step - loss: 15.9799 - accuracy: 0.0000e+00\n",
            "8/8 [==============================] - 0s 4ms/step - loss: 0.5081 - accuracy: 0.8426\n",
            "7/7 [==============================] - 0s 3ms/step - loss: 0.6654 - accuracy: 0.8000\n",
            "8/8 [==============================] - 0s 4ms/step - loss: 0.6170 - accuracy: 0.7908\n",
            "7/7 [==============================] - 0s 4ms/step - loss: 0.6513 - accuracy: 0.7850\n",
            "8/8 [==============================] - 0s 4ms/step - loss: 0.5769 - accuracy: 0.8154\n",
            "7/7 [==============================] - 0s 3ms/step - loss: 0.5193 - accuracy: 0.8600\n",
            "8/8 [==============================] - 0s 6ms/step - loss: 0.6912 - accuracy: 0.7547\n",
            "7/7 [==============================] - 0s 3ms/step - loss: 1.0957 - accuracy: 0.5350\n",
            "8/8 [==============================] - 0s 4ms/step - loss: 0.6583 - accuracy: 0.7567\n",
            "7/7 [==============================] - 0s 3ms/step - loss: 0.5135 - accuracy: 0.8700\n",
            "8/8 [==============================] - 0s 4ms/step - loss: 0.4503 - accuracy: 0.8632\n",
            "7/7 [==============================] - 0s 3ms/step - loss: 0.4240 - accuracy: 0.8500\n",
            "8/8 [==============================] - 0s 4ms/step - loss: 0.4794 - accuracy: 0.8518\n",
            "7/7 [==============================] - 0s 3ms/step - loss: 0.5137 - accuracy: 0.8500\n",
            "8/8 [==============================] - 0s 4ms/step - loss: 0.4781 - accuracy: 0.8452\n",
            "7/7 [==============================] - 0s 3ms/step - loss: 0.3382 - accuracy: 0.8950\n",
            "8/8 [==============================] - 0s 4ms/step - loss: 0.6800 - accuracy: 0.7557\n",
            "7/7 [==============================] - 0s 3ms/step - loss: 0.9472 - accuracy: 0.6350\n",
            "8/8 [==============================] - 0s 4ms/step - loss: 0.5228 - accuracy: 0.8154\n",
            "7/7 [==============================] - 0s 3ms/step - loss: 0.3841 - accuracy: 0.8900\n",
            "The Distance are ... OrderedDict([(0, array([1.51520668])), (1, array([2.28205251])), (2, array([1.25493727])), (3, array([1.14902076])), (4, array([1.30900388])), (5, array([1.42568167])), (6, array([1.32853148])), (7, array([1.33620214])), (8, array([1.32987951])), (9, array([1.26668399])), (10, array([1.39219878])), (11, array([1.41991788]))])\n",
            "The AD are ... [array([0.112079]), array([0.]), array([0.22807499]), array([0.24880339]), array([0.23227651]), array([0.12858435]), array([0.23043337]), array([0.22341572]), array([0.22483277]), array([0.25217914]), array([0.15781543]), array([0.21514314])]\n",
            "7/7 [==============================] - 0s 3ms/step - loss: 0.4612 - accuracy: 0.8445\n",
            "The Acc on each client... [0.5099999904632568, 0.0, 0.800000011920929, 0.7850000262260437, 0.8600000143051147, 0.5350000262260437, 0.8700000047683716, 0.8500000238418579, 0.8500000238418579, 0.8949999809265137, 0.6349999904632568, 0.8899999856948853]\n",
            "EPOCHS 18 is starting...\n",
            "8/8 [==============================] - 0s 4ms/step - loss: 0.7023 - accuracy: 0.7486\n",
            "7/7 [==============================] - 0s 3ms/step - loss: 0.9812 - accuracy: 0.6000\n",
            "8/8 [==============================] - 0s 4ms/step - loss: 0.4856 - accuracy: 0.8009\n",
            "7/7 [==============================] - 0s 3ms/step - loss: 13.7965 - accuracy: 0.0000e+00\n",
            "8/8 [==============================] - 0s 4ms/step - loss: 0.5622 - accuracy: 0.7881\n",
            "7/7 [==============================] - 0s 4ms/step - loss: 0.6301 - accuracy: 0.7800\n",
            "8/8 [==============================] - 0s 4ms/step - loss: 0.6201 - accuracy: 0.7715\n",
            "7/7 [==============================] - 0s 4ms/step - loss: 0.4731 - accuracy: 0.8850\n",
            "8/8 [==============================] - 0s 4ms/step - loss: 0.5997 - accuracy: 0.7983\n",
            "7/7 [==============================] - 0s 3ms/step - loss: 0.4084 - accuracy: 0.8700\n",
            "8/8 [==============================] - 0s 4ms/step - loss: 0.7597 - accuracy: 0.7436\n",
            "7/7 [==============================] - 0s 4ms/step - loss: 0.8402 - accuracy: 0.7150\n",
            "8/8 [==============================] - 0s 4ms/step - loss: 0.6632 - accuracy: 0.7480\n",
            "7/7 [==============================] - 0s 3ms/step - loss: 0.4751 - accuracy: 0.8550\n",
            "8/8 [==============================] - 0s 3ms/step - loss: 0.3878 - accuracy: 0.8885\n",
            "7/7 [==============================] - 0s 4ms/step - loss: 0.4883 - accuracy: 0.8600\n",
            "8/8 [==============================] - 0s 3ms/step - loss: 0.4507 - accuracy: 0.8755\n",
            "7/7 [==============================] - 0s 3ms/step - loss: 0.4953 - accuracy: 0.8750\n",
            "8/8 [==============================] - 0s 4ms/step - loss: 0.3753 - accuracy: 0.8990\n",
            "7/7 [==============================] - 0s 3ms/step - loss: 0.3632 - accuracy: 0.9150\n",
            "8/8 [==============================] - 0s 4ms/step - loss: 0.5567 - accuracy: 0.8213\n",
            "7/7 [==============================] - 0s 4ms/step - loss: 1.2169 - accuracy: 0.5500\n",
            "8/8 [==============================] - 0s 4ms/step - loss: 0.5115 - accuracy: 0.8467\n",
            "7/7 [==============================] - 0s 3ms/step - loss: 0.3395 - accuracy: 0.9050\n",
            "The Distance are ... OrderedDict([(0, array([1.31445173])), (1, array([2.20020653])), (2, array([1.27168705])), (3, array([1.30464699])), (4, array([1.31741915])), (5, array([1.38412855])), (6, array([1.33284633])), (7, array([1.32711988])), (8, array([1.36047942])), (9, array([1.23318243])), (10, array([1.45544926])), (11, array([1.33700725]))])\n",
            "The AD are ... [array([0.16117294]), array([0.]), array([0.21867942]), array([0.24007242]), array([0.2330083]), array([0.17913755]), array([0.22548534]), array([0.22810648]), array([0.22447054]), array([0.26659793]), array([0.12831254]), array([0.23768058])]\n",
            "7/7 [==============================] - 0s 3ms/step - loss: 0.4779 - accuracy: 0.8445\n",
            "The Acc on each client... [0.6000000238418579, 0.0, 0.7799999713897705, 0.8849999904632568, 0.8700000047683716, 0.7149999737739563, 0.8550000190734863, 0.8600000143051147, 0.875, 0.9150000214576721, 0.550000011920929, 0.9049999713897705]\n",
            "EPOCHS 19 is starting...\n",
            "8/8 [==============================] - 0s 5ms/step - loss: 0.6028 - accuracy: 0.7640\n",
            "7/7 [==============================] - 0s 4ms/step - loss: 0.9859 - accuracy: 0.5950\n",
            "8/8 [==============================] - 0s 4ms/step - loss: 0.5107 - accuracy: 0.7963\n",
            "7/7 [==============================] - 0s 4ms/step - loss: 12.7140 - accuracy: 0.0000e+00\n",
            "8/8 [==============================] - 0s 4ms/step - loss: 0.5274 - accuracy: 0.7881\n",
            "7/7 [==============================] - 0s 3ms/step - loss: 0.5569 - accuracy: 0.8200\n",
            "8/8 [==============================] - 1s 4ms/step - loss: 0.5822 - accuracy: 0.7988\n",
            "7/7 [==============================] - 0s 3ms/step - loss: 0.5561 - accuracy: 0.8400\n",
            "8/8 [==============================] - 0s 4ms/step - loss: 0.4755 - accuracy: 0.8336\n",
            "7/7 [==============================] - 0s 3ms/step - loss: 0.5165 - accuracy: 0.8200\n",
            "8/8 [==============================] - 0s 4ms/step - loss: 0.7348 - accuracy: 0.7508\n",
            "7/7 [==============================] - 0s 4ms/step - loss: 0.6405 - accuracy: 0.8150\n",
            "8/8 [==============================] - 0s 4ms/step - loss: 0.6028 - accuracy: 0.8128\n",
            "7/7 [==============================] - 0s 3ms/step - loss: 0.4902 - accuracy: 0.8600\n",
            "8/8 [==============================] - 0s 4ms/step - loss: 0.4695 - accuracy: 0.8524\n",
            "7/7 [==============================] - 0s 3ms/step - loss: 0.7190 - accuracy: 0.7650\n",
            "8/8 [==============================] - 0s 4ms/step - loss: 0.4444 - accuracy: 0.8688\n",
            "7/7 [==============================] - 0s 3ms/step - loss: 0.3899 - accuracy: 0.8950\n",
            "8/8 [==============================] - 0s 5ms/step - loss: 0.3415 - accuracy: 0.8960\n",
            "7/7 [==============================] - 0s 3ms/step - loss: 0.5516 - accuracy: 0.8400\n",
            "8/8 [==============================] - 0s 3ms/step - loss: 0.6015 - accuracy: 0.7918\n",
            "7/7 [==============================] - 0s 4ms/step - loss: 1.1749 - accuracy: 0.5400\n",
            "8/8 [==============================] - 0s 5ms/step - loss: 0.5048 - accuracy: 0.8292\n",
            "7/7 [==============================] - 0s 4ms/step - loss: 0.5535 - accuracy: 0.8450\n",
            "The Distance are ... OrderedDict([(0, array([1.46878398])), (1, array([2.18884431])), (2, array([1.26306671])), (3, array([1.27265878])), (4, array([1.28889676])), (5, array([1.26603404])), (6, array([1.34634977])), (7, array([1.37907819])), (8, array([1.2497777])), (9, array([1.37421642])), (10, array([1.54389781])), (11, array([1.40283911]))])\n",
            "The AD are ... [array([0.13697213]), array([0.]), array([0.23188409]), array([0.23527219]), array([0.2259712]), array([0.22978729]), array([0.22376192]), array([0.19263508]), array([0.2564788]), array([0.21255174]), array([0.11531544]), array([0.20778368])]\n",
            "7/7 [==============================] - 0s 4ms/step - loss: 0.4839 - accuracy: 0.8275\n",
            "The Acc on each client... [0.5950000286102295, 0.0, 0.8199999928474426, 0.8399999737739563, 0.8199999928474426, 0.8149999976158142, 0.8600000143051147, 0.7649999856948853, 0.8949999809265137, 0.8399999737739563, 0.5400000214576721, 0.8450000286102295]\n"
          ],
          "name": "stdout"
        }
      ]
    },
    {
      "cell_type": "code",
      "metadata": {
        "colab": {
          "base_uri": "https://localhost:8080/",
          "height": 295
        },
        "id": "MlX5KEebHTeY",
        "outputId": "95c85421-766e-4ee6-afdb-2feaeaa89ecd"
      },
      "source": [
        "#deal the data\n",
        "S_acc =[S.loss_acc[i][1]*100 for i in range(len(S.loss_acc))]\n",
        "S_loss =[S.loss_acc[i][0] for i in range(len(S.loss_acc))]\n",
        "\n",
        "#prepare show image\n",
        "x = np.arange(len(S.loss_acc)).astype(dtype=np.str)\n",
        "fig = plt.figure()\n",
        "ax1 = fig.add_subplot(111)\n",
        "acc = ax1.plot(x,S_acc,'r',label='Acc')\n",
        "ax1.set_ylabel('Acc')\n",
        "ax1.set_xlabel(\"Epoches\")\n",
        "ax1.set_title('Acc-Loss')\n",
        "\n",
        "ax2 = ax1.twinx()\n",
        "loss = ax2.plot(x,S_loss,label='Loss')\n",
        "ax2.set_ylabel('Loss')\n",
        "\n",
        "\n",
        "\n",
        "lns = acc+loss\n",
        "labs = [l.get_label() for l in lns]\n",
        "ax2.legend(lns,labs)\n",
        "plt.show()"
      ],
      "execution_count": 138,
      "outputs": [
        {
          "output_type": "display_data",
          "data": {
            "image/png": "[encoded data removed]",
            "text/plain": [
              "<Figure size 432x288 with 2 Axes>"
            ]
          },
          "metadata": {
            "tags": [],
            "needs_background": "light"
          }
        }
      ]
    },
    {
      "cell_type": "code",
      "metadata": {
        "colab": {
          "base_uri": "https://localhost:8080/"
        },
        "id": "lXC1RS38HTXb",
        "outputId": "450aca6a-870f-49e8-8534-899c9e74db50"
      },
      "source": [
        "NodeList"
      ],
      "execution_count": 139,
      "outputs": [
        {
          "output_type": "execute_result",
          "data": {
            "text/plain": [
              "[[4, 11, 9, 8, 7, 3, 6, 2, 5, 0, 10, 1],\n",
              " [11, 3, 6, 9, 8, 4, 7, 2, 5, 0, 10],\n",
              " [6, 3, 7, 9, 11, 5, 4, 8, 2, 0],\n",
              " [6, 5, 8, 10, 0, 7, 3, 9, 4],\n",
              " [4, 3, 2, 9, 6, 11, 8, 7],\n",
              " [7, 11, 5, 4, 9, 3, 6],\n",
              " [6, 9, 7, 4, 8, 3, 0],\n",
              " [3, 4, 6, 7, 8, 11, 5],\n",
              " [9, 8, 11, 2, 6, 3, 4],\n",
              " [4, 9, 2, 3, 7, 0, 6],\n",
              " [4, 11, 3, 2, 8, 9, 5],\n",
              " [2, 6, 8, 11, 3, 5, 10],\n",
              " [6, 4, 5, 2, 3, 8, 7],\n",
              " [4, 8, 11, 6, 3, 9, 2],\n",
              " [3, 10, 5, 6, 4, 11, 7],\n",
              " [6, 2, 11, 5, 3, 8, 4],\n",
              " [3, 2, 4, 6, 5, 8, 11],\n",
              " [3, 2, 9, 4, 6, 8, 7],\n",
              " [9, 2, 3, 0, 4, 7, 6],\n",
              " [8, 2, 5, 3, 4, 6, 9]]"
            ]
          },
          "metadata": {
            "tags": []
          },
          "execution_count": 139
        }
      ]
    },
    {
      "cell_type": "code",
      "metadata": {
        "colab": {
          "base_uri": "https://localhost:8080/",
          "height": 279
        },
        "id": "LM3n47YxHTNn",
        "outputId": "bcfc9844-9b3e-41f8-b433-5a46ee01f461"
      },
      "source": [
        "#deal the data\n",
        "img = np.ones(shape=(NUM_CLIENTS,NUM_EPOCHS),dtype=int)\n",
        "for i in range(len(NodeList)):\n",
        "  for j in NodeList[i]:\n",
        "    img[j][i]=0\n",
        "#prepare show image\n",
        "len_n = len(S.loss_acc)\n",
        "ax = plt.gca()\n",
        "ax.set_ylim(-0.5,NUM_CLIENTS-0.5)\n",
        "ax.set_xlim(-0.5,9.5)\n",
        "miloc = plt.MultipleLocator(1)\n",
        "ax.xaxis.set_minor_locator(miloc)\n",
        "plt.grid()\n",
        "plt.title(\"Nodes in each epoch\")\n",
        "plt.imshow(img*255,cmap='gray')\n",
        "plt.axis('on')\n",
        "plt.xlabel('Epochs')\n",
        "plt.ylabel('Nodes')\n",
        "y = np.arange(0.5,NUM_CLIENTS+0.5,1)\n",
        "x = np.arange(0.5,NUM_EPOCHS+0.5,1)\n",
        "plt.xticks()\n",
        "plt.yticks(y,(int(i-0.5) for i in y))\n",
        "plt.xticks(x,(int(i-0.5) for i in x))\n",
        "plt.show()"
      ],
      "execution_count": 140,
      "outputs": [
        {
          "output_type": "display_data",
          "data": {
            "image/png": "[encoded data removed]",
            "text/plain": [
              "<Figure size 432x288 with 1 Axes>"
            ]
          },
          "metadata": {
            "tags": [],
            "needs_background": "light"
          }
        }
      ]
    },
    {
      "cell_type": "markdown",
      "metadata": {
        "id": "i2axuRBsO6V7"
      },
      "source": [
        "设置对照组，即普通的FedAvg"
      ]
    },
    {
      "cell_type": "code",
      "metadata": {
        "id": "wwI_gLjwO5w4"
      },
      "source": [
        "def FedAvg_Baseline(NUM_CLIENTS,model):\n",
        "  iterModel = model.copy()\n",
        "  len_it = len(iterModel.trainable_variables)\n",
        "  all_weights = []\n",
        "  for weights_index in range(len_it):\n",
        "    tmp =np.zeros(iterModel.trainable_variables[weights_index].numpy().shape,dtype='float64')\n",
        "    for node in range(NUM_CLIENTS):\n",
        "      tmp += clients[node].model.trainable_variables[weights_index].numpy()\n",
        "    all_weights.append(tmp/NUM_CLIENTS)\n",
        "  # print(all_weights)\n",
        "  iterModel_vars = iterModel.trainable_variables\n",
        "  for iter_v,n in zip(iterModel_vars,all_weights):\n",
        "    iter_v.assign(n)\n",
        "  return iterModel"
      ],
      "execution_count": 105,
      "outputs": []
    },
    {
      "cell_type": "code",
      "metadata": {
        "colab": {
          "base_uri": "https://localhost:8080/"
        },
        "id": "X5o0nVueO0m7",
        "outputId": "78e71d50-4d1b-44e0-bc1e-a314f64176e0"
      },
      "source": [
        "InitModel = FLModel(row=28,col=28,num_classes=CLASS_NUM)\n",
        "S2 = ParamServer(\"\")\n",
        "S2.PreEval(InitModel,validation_data)\n",
        "SendModel = InitModel"
      ],
      "execution_count": 141,
      "outputs": [
        {
          "output_type": "stream",
          "text": [
            "7/7 [==============================] - 0s 3ms/step - loss: 2.4011 - accuracy: 0.0000e+00\n"
          ],
          "name": "stdout"
        }
      ]
    },
    {
      "cell_type": "code",
      "metadata": {
        "colab": {
          "base_uri": "https://localhost:8080/"
        },
        "id": "KW2JdgUEP0C5",
        "outputId": "e2fec499-0c74-4ab2-dce2-ddbd39cc158f"
      },
      "source": [
        "SendModel = S2.PreTrain(InitModel,DigitDataSet[0][0:200],DigitDataSet[1][0:200],epochs=1)\n",
        "S2.PreEval(SendModel,validation_data)"
      ],
      "execution_count": 65,
      "outputs": [
        {
          "output_type": "stream",
          "text": [
            "7/7 [==============================] - 0s 4ms/step - loss: 2.3702 - accuracy: 0.1414\n",
            "7/7 [==============================] - 0s 3ms/step - loss: 2.1797 - accuracy: 0.2646\n"
          ],
          "name": "stdout"
        }
      ]
    },
    {
      "cell_type": "code",
      "metadata": {
        "id": "Bwd2uL1FUpeH"
      },
      "source": [
        "NUM_EPOCHS = 10"
      ],
      "execution_count": null,
      "outputs": []
    },
    {
      "cell_type": "code",
      "metadata": {
        "colab": {
          "base_uri": "https://localhost:8080/"
        },
        "id": "dejoUrZlPz5l",
        "outputId": "e16a06c3-bb8b-4b07-8c0d-9b9455da6c1c"
      },
      "source": [
        "for e in range(NUM_EPOCHS):\n",
        "  print(\"EPOCHS {} is starting...\".format(e))\n",
        "  for i in range(NUM_CLIENTS):\n",
        "    clients[i].ReceiveModel(SendModel.copy())\n",
        "    clients[i].NodeTrain()\n",
        "    # clients[i].NodeEval()\n",
        "    # DIS.append(Distance(SendModel,clients[i].model))\n",
        "  FedModel = FedAvg_Baseline(NUM_CLIENTS,SendModel)\n",
        "  S2.PreEval(FedModel,validation_data)\n",
        "  SendModel = FedModel.copy()"
      ],
      "execution_count": 142,
      "outputs": [
        {
          "output_type": "stream",
          "text": [
            "EPOCHS 0 is starting...\n",
            "8/8 [==============================] - 0s 3ms/step - loss: 1.9362 - accuracy: 0.7181\n",
            "8/8 [==============================] - 0s 3ms/step - loss: 1.6279 - accuracy: 0.9825\n",
            "8/8 [==============================] - 0s 3ms/step - loss: 2.2885 - accuracy: 0.3383\n",
            "8/8 [==============================] - 0s 3ms/step - loss: 2.3257 - accuracy: 0.2728\n",
            "8/8 [==============================] - 0s 3ms/step - loss: 2.3734 - accuracy: 0.1585\n",
            "8/8 [==============================] - 0s 3ms/step - loss: 2.0177 - accuracy: 0.6127\n",
            "8/8 [==============================] - 0s 3ms/step - loss: 2.3186 - accuracy: 0.2875\n",
            "8/8 [==============================] - 0s 3ms/step - loss: 2.3842 - accuracy: 0.1330\n",
            "8/8 [==============================] - 0s 3ms/step - loss: 2.3755 - accuracy: 0.1211\n",
            "8/8 [==============================] - 0s 3ms/step - loss: 2.3740 - accuracy: 0.1749\n",
            "8/8 [==============================] - 0s 3ms/step - loss: 1.9221 - accuracy: 0.7763\n",
            "8/8 [==============================] - 0s 3ms/step - loss: 2.3722 - accuracy: 0.1828\n",
            "7/7 [==============================] - 0s 3ms/step - loss: 2.6412 - accuracy: 0.0000e+00\n",
            "EPOCHS 1 is starting...\n",
            "8/8 [==============================] - 0s 3ms/step - loss: 1.3110 - accuracy: 0.7162\n",
            "8/8 [==============================] - 0s 3ms/step - loss: 0.5606 - accuracy: 0.9884\n",
            "8/8 [==============================] - 0s 4ms/step - loss: 2.0588 - accuracy: 0.3477\n",
            "8/8 [==============================] - 0s 3ms/step - loss: 2.2320 - accuracy: 0.2791\n",
            "8/8 [==============================] - 0s 3ms/step - loss: 2.3407 - accuracy: 0.1592\n",
            "8/8 [==============================] - 0s 4ms/step - loss: 1.4771 - accuracy: 0.6909\n",
            "8/8 [==============================] - 0s 3ms/step - loss: 2.2089 - accuracy: 0.2926\n",
            "8/8 [==============================] - 0s 3ms/step - loss: 2.4137 - accuracy: 0.1067\n",
            "8/8 [==============================] - 0s 3ms/step - loss: 2.4061 - accuracy: 0.1107\n",
            "8/8 [==============================] - 0s 3ms/step - loss: 2.4431 - accuracy: 0.0568\n",
            "8/8 [==============================] - 0s 3ms/step - loss: 1.2613 - accuracy: 0.7621\n",
            "8/8 [==============================] - 0s 3ms/step - loss: 2.3478 - accuracy: 0.1578\n",
            "7/7 [==============================] - 0s 4ms/step - loss: 2.3496 - accuracy: 0.0000e+00\n",
            "EPOCHS 2 is starting...\n",
            "8/8 [==============================] - 0s 3ms/step - loss: 1.4450 - accuracy: 0.7232\n",
            "8/8 [==============================] - 0s 3ms/step - loss: 0.7912 - accuracy: 0.9875\n",
            "8/8 [==============================] - 0s 3ms/step - loss: 1.9860 - accuracy: 0.3384\n",
            "8/8 [==============================] - 0s 3ms/step - loss: 2.1261 - accuracy: 0.2639\n",
            "8/8 [==============================] - 0s 3ms/step - loss: 2.2441 - accuracy: 0.1754\n",
            "8/8 [==============================] - 0s 3ms/step - loss: 1.5888 - accuracy: 0.6612\n",
            "8/8 [==============================] - 0s 3ms/step - loss: 2.0786 - accuracy: 0.3021\n",
            "8/8 [==============================] - 0s 3ms/step - loss: 2.1634 - accuracy: 0.1826\n",
            "8/8 [==============================] - 0s 3ms/step - loss: 2.2284 - accuracy: 0.1631\n",
            "8/8 [==============================] - 0s 3ms/step - loss: 2.2536 - accuracy: 0.1647\n",
            "8/8 [==============================] - 0s 3ms/step - loss: 1.3551 - accuracy: 0.7367\n",
            "8/8 [==============================] - 1s 4ms/step - loss: 2.1945 - accuracy: 0.1819\n",
            "7/7 [==============================] - 0s 3ms/step - loss: 2.3543 - accuracy: 0.0000e+00\n",
            "EPOCHS 3 is starting...\n",
            "8/8 [==============================] - 0s 3ms/step - loss: 1.2317 - accuracy: 0.7143\n",
            "8/8 [==============================] - 0s 3ms/step - loss: 0.4429 - accuracy: 0.9928\n",
            "8/8 [==============================] - 0s 3ms/step - loss: 1.8297 - accuracy: 0.3544\n",
            "8/8 [==============================] - 0s 4ms/step - loss: 2.0195 - accuracy: 0.2508\n",
            "8/8 [==============================] - 0s 3ms/step - loss: 2.0333 - accuracy: 0.2602\n",
            "8/8 [==============================] - 0s 4ms/step - loss: 1.3893 - accuracy: 0.6505\n",
            "8/8 [==============================] - 0s 3ms/step - loss: 1.8846 - accuracy: 0.3428\n",
            "8/8 [==============================] - 0s 3ms/step - loss: 1.9431 - accuracy: 0.2944\n",
            "8/8 [==============================] - 0s 3ms/step - loss: 2.1225 - accuracy: 0.2575\n",
            "8/8 [==============================] - 0s 3ms/step - loss: 2.1093 - accuracy: 0.2894\n",
            "8/8 [==============================] - 0s 3ms/step - loss: 1.0865 - accuracy: 0.7715\n",
            "8/8 [==============================] - 0s 3ms/step - loss: 2.0620 - accuracy: 0.3153\n",
            "7/7 [==============================] - 0s 3ms/step - loss: 1.9955 - accuracy: 0.1660\n",
            "EPOCHS 4 is starting...\n",
            "8/8 [==============================] - 0s 3ms/step - loss: 1.1884 - accuracy: 0.6960\n",
            "8/8 [==============================] - 0s 3ms/step - loss: 0.4560 - accuracy: 0.9836\n",
            "8/8 [==============================] - 0s 3ms/step - loss: 1.5582 - accuracy: 0.4515\n",
            "8/8 [==============================] - 0s 3ms/step - loss: 1.6875 - accuracy: 0.3729\n",
            "8/8 [==============================] - 1s 3ms/step - loss: 1.7375 - accuracy: 0.4068\n",
            "8/8 [==============================] - 0s 3ms/step - loss: 1.2665 - accuracy: 0.6748\n",
            "8/8 [==============================] - 0s 3ms/step - loss: 1.6586 - accuracy: 0.4598\n",
            "8/8 [==============================] - 0s 3ms/step - loss: 1.7368 - accuracy: 0.3918\n",
            "8/8 [==============================] - 0s 3ms/step - loss: 1.7091 - accuracy: 0.4208\n",
            "8/8 [==============================] - 0s 3ms/step - loss: 1.8130 - accuracy: 0.4125\n",
            "8/8 [==============================] - 0s 3ms/step - loss: 1.0169 - accuracy: 0.7948\n",
            "8/8 [==============================] - 0s 3ms/step - loss: 1.6726 - accuracy: 0.4494\n",
            "7/7 [==============================] - 0s 3ms/step - loss: 1.7250 - accuracy: 0.2973\n",
            "EPOCHS 5 is starting...\n",
            "8/8 [==============================] - 0s 4ms/step - loss: 1.0562 - accuracy: 0.7426\n",
            "8/8 [==============================] - 0s 3ms/step - loss: 0.3825 - accuracy: 0.9424\n",
            "8/8 [==============================] - 0s 3ms/step - loss: 1.2913 - accuracy: 0.5662\n",
            "8/8 [==============================] - 0s 4ms/step - loss: 1.4544 - accuracy: 0.4888\n",
            "8/8 [==============================] - 0s 3ms/step - loss: 1.5362 - accuracy: 0.4946\n",
            "8/8 [==============================] - 0s 3ms/step - loss: 1.0765 - accuracy: 0.6550\n",
            "8/8 [==============================] - 0s 3ms/step - loss: 1.4361 - accuracy: 0.5093\n",
            "8/8 [==============================] - 0s 3ms/step - loss: 1.4955 - accuracy: 0.5063\n",
            "8/8 [==============================] - 0s 3ms/step - loss: 1.5051 - accuracy: 0.4886\n",
            "8/8 [==============================] - 0s 4ms/step - loss: 1.4579 - accuracy: 0.5420\n",
            "8/8 [==============================] - 1s 3ms/step - loss: 0.8917 - accuracy: 0.8087\n",
            "8/8 [==============================] - 0s 4ms/step - loss: 1.5407 - accuracy: 0.4856\n",
            "7/7 [==============================] - 0s 3ms/step - loss: 1.4276 - accuracy: 0.4229\n",
            "EPOCHS 6 is starting...\n",
            "8/8 [==============================] - 0s 3ms/step - loss: 1.0217 - accuracy: 0.7082\n",
            "8/8 [==============================] - 0s 3ms/step - loss: 0.3673 - accuracy: 0.9155\n",
            "8/8 [==============================] - 0s 3ms/step - loss: 1.2466 - accuracy: 0.5561\n",
            "8/8 [==============================] - 0s 3ms/step - loss: 1.3662 - accuracy: 0.5030\n",
            "8/8 [==============================] - 0s 3ms/step - loss: 1.2226 - accuracy: 0.5634\n",
            "8/8 [==============================] - 0s 3ms/step - loss: 0.9527 - accuracy: 0.7130\n",
            "8/8 [==============================] - 0s 3ms/step - loss: 1.2601 - accuracy: 0.5601\n",
            "8/8 [==============================] - 0s 3ms/step - loss: 1.2490 - accuracy: 0.6115\n",
            "8/8 [==============================] - 0s 3ms/step - loss: 1.1488 - accuracy: 0.6518\n",
            "8/8 [==============================] - 0s 4ms/step - loss: 1.1731 - accuracy: 0.6581\n",
            "8/8 [==============================] - 0s 3ms/step - loss: 0.8377 - accuracy: 0.7929\n",
            "8/8 [==============================] - 0s 3ms/step - loss: 1.1528 - accuracy: 0.6407\n",
            "7/7 [==============================] - 0s 4ms/step - loss: 1.2502 - accuracy: 0.4833\n",
            "EPOCHS 7 is starting...\n",
            "8/8 [==============================] - 0s 3ms/step - loss: 0.8680 - accuracy: 0.7202\n",
            "8/8 [==============================] - 0s 3ms/step - loss: 0.3031 - accuracy: 0.9311\n",
            "8/8 [==============================] - 1s 3ms/step - loss: 0.9814 - accuracy: 0.6840\n",
            "8/8 [==============================] - 0s 3ms/step - loss: 1.0736 - accuracy: 0.6341\n",
            "8/8 [==============================] - 0s 4ms/step - loss: 1.0871 - accuracy: 0.7008\n",
            "8/8 [==============================] - 0s 3ms/step - loss: 1.0564 - accuracy: 0.6541\n",
            "8/8 [==============================] - 0s 3ms/step - loss: 1.1539 - accuracy: 0.5702\n",
            "8/8 [==============================] - 0s 3ms/step - loss: 0.8619 - accuracy: 0.6993\n",
            "8/8 [==============================] - 0s 3ms/step - loss: 1.0446 - accuracy: 0.6261\n",
            "8/8 [==============================] - 0s 3ms/step - loss: 1.0261 - accuracy: 0.6511\n",
            "8/8 [==============================] - 0s 3ms/step - loss: 0.7821 - accuracy: 0.7799\n",
            "8/8 [==============================] - 0s 3ms/step - loss: 1.0418 - accuracy: 0.6602\n",
            "7/7 [==============================] - 0s 3ms/step - loss: 1.0571 - accuracy: 0.5787\n",
            "EPOCHS 8 is starting...\n",
            "8/8 [==============================] - 0s 4ms/step - loss: 0.8758 - accuracy: 0.7333\n",
            "8/8 [==============================] - 0s 4ms/step - loss: 0.4255 - accuracy: 0.8359\n",
            "8/8 [==============================] - 0s 3ms/step - loss: 0.9039 - accuracy: 0.6562\n",
            "8/8 [==============================] - 0s 3ms/step - loss: 1.0282 - accuracy: 0.6187\n",
            "8/8 [==============================] - 0s 4ms/step - loss: 0.9569 - accuracy: 0.7005\n",
            "8/8 [==============================] - 0s 3ms/step - loss: 0.8345 - accuracy: 0.7225\n",
            "8/8 [==============================] - 0s 3ms/step - loss: 1.1059 - accuracy: 0.6270\n",
            "8/8 [==============================] - 1s 3ms/step - loss: 0.8537 - accuracy: 0.7381\n",
            "8/8 [==============================] - 0s 3ms/step - loss: 0.8604 - accuracy: 0.7305\n",
            "8/8 [==============================] - 0s 4ms/step - loss: 0.8698 - accuracy: 0.7138\n",
            "8/8 [==============================] - 0s 3ms/step - loss: 0.6772 - accuracy: 0.7925\n",
            "8/8 [==============================] - 0s 4ms/step - loss: 0.9612 - accuracy: 0.6987\n",
            "7/7 [==============================] - 0s 5ms/step - loss: 0.9084 - accuracy: 0.6651\n",
            "EPOCHS 9 is starting...\n",
            "8/8 [==============================] - 0s 3ms/step - loss: 0.8124 - accuracy: 0.7297\n",
            "8/8 [==============================] - 0s 4ms/step - loss: 0.3636 - accuracy: 0.8767\n",
            "8/8 [==============================] - 0s 3ms/step - loss: 0.9437 - accuracy: 0.6781\n",
            "8/8 [==============================] - 0s 4ms/step - loss: 1.0417 - accuracy: 0.6489\n",
            "8/8 [==============================] - 0s 3ms/step - loss: 0.8140 - accuracy: 0.7689\n",
            "8/8 [==============================] - 0s 4ms/step - loss: 0.9952 - accuracy: 0.6532\n",
            "8/8 [==============================] - 0s 3ms/step - loss: 0.9259 - accuracy: 0.7011\n",
            "8/8 [==============================] - 0s 3ms/step - loss: 0.7995 - accuracy: 0.7538\n",
            "8/8 [==============================] - 0s 4ms/step - loss: 0.8306 - accuracy: 0.7258\n",
            "8/8 [==============================] - 0s 3ms/step - loss: 0.7289 - accuracy: 0.8237\n",
            "8/8 [==============================] - 0s 3ms/step - loss: 0.6517 - accuracy: 0.7920\n",
            "8/8 [==============================] - 0s 3ms/step - loss: 0.8120 - accuracy: 0.7162\n",
            "7/7 [==============================] - 1s 3ms/step - loss: 0.9113 - accuracy: 0.6355\n",
            "EPOCHS 10 is starting...\n",
            "8/8 [==============================] - 0s 3ms/step - loss: 0.7318 - accuracy: 0.7002\n",
            "8/8 [==============================] - 0s 3ms/step - loss: 0.3401 - accuracy: 0.8939\n",
            "8/8 [==============================] - 0s 3ms/step - loss: 0.8881 - accuracy: 0.6813\n",
            "8/8 [==============================] - 0s 4ms/step - loss: 0.9634 - accuracy: 0.6650\n",
            "8/8 [==============================] - 0s 3ms/step - loss: 0.9411 - accuracy: 0.7278\n",
            "8/8 [==============================] - 0s 3ms/step - loss: 0.7743 - accuracy: 0.7226\n",
            "8/8 [==============================] - 0s 3ms/step - loss: 0.9476 - accuracy: 0.6716\n",
            "8/8 [==============================] - 0s 3ms/step - loss: 0.7521 - accuracy: 0.7546\n",
            "8/8 [==============================] - 0s 3ms/step - loss: 0.7094 - accuracy: 0.7972\n",
            "8/8 [==============================] - 0s 4ms/step - loss: 0.8487 - accuracy: 0.7401\n",
            "8/8 [==============================] - 0s 4ms/step - loss: 0.6380 - accuracy: 0.8103\n",
            "8/8 [==============================] - 0s 3ms/step - loss: 0.7547 - accuracy: 0.7719\n",
            "7/7 [==============================] - 0s 3ms/step - loss: 0.7638 - accuracy: 0.7488\n",
            "EPOCHS 11 is starting...\n",
            "8/8 [==============================] - 0s 3ms/step - loss: 0.7422 - accuracy: 0.7455\n",
            "8/8 [==============================] - 0s 3ms/step - loss: 0.4101 - accuracy: 0.8500\n",
            "8/8 [==============================] - 0s 3ms/step - loss: 0.7852 - accuracy: 0.7257\n",
            "8/8 [==============================] - 0s 3ms/step - loss: 0.8975 - accuracy: 0.6723\n",
            "8/8 [==============================] - 1s 3ms/step - loss: 0.7732 - accuracy: 0.7876\n",
            "8/8 [==============================] - 0s 3ms/step - loss: 0.7355 - accuracy: 0.7532\n",
            "8/8 [==============================] - 0s 3ms/step - loss: 0.7499 - accuracy: 0.7852\n",
            "8/8 [==============================] - 0s 3ms/step - loss: 0.7477 - accuracy: 0.7623\n",
            "8/8 [==============================] - 0s 4ms/step - loss: 0.6425 - accuracy: 0.7778\n",
            "8/8 [==============================] - 0s 3ms/step - loss: 0.6726 - accuracy: 0.8183\n",
            "8/8 [==============================] - 0s 3ms/step - loss: 0.6959 - accuracy: 0.7628\n",
            "8/8 [==============================] - 0s 3ms/step - loss: 0.7299 - accuracy: 0.7469\n",
            "7/7 [==============================] - 0s 3ms/step - loss: 0.7848 - accuracy: 0.7223\n",
            "EPOCHS 12 is starting...\n",
            "8/8 [==============================] - 0s 3ms/step - loss: 0.7341 - accuracy: 0.7203\n",
            "8/8 [==============================] - 0s 3ms/step - loss: 0.3502 - accuracy: 0.8838\n",
            "8/8 [==============================] - 0s 3ms/step - loss: 0.7456 - accuracy: 0.7418\n",
            "8/8 [==============================] - 0s 4ms/step - loss: 0.8495 - accuracy: 0.7239\n",
            "8/8 [==============================] - 0s 3ms/step - loss: 0.6909 - accuracy: 0.7666\n",
            "8/8 [==============================] - 0s 3ms/step - loss: 0.6620 - accuracy: 0.7521\n",
            "8/8 [==============================] - 0s 3ms/step - loss: 0.9543 - accuracy: 0.6865\n",
            "8/8 [==============================] - 0s 3ms/step - loss: 0.6898 - accuracy: 0.7653\n",
            "8/8 [==============================] - 0s 3ms/step - loss: 0.6943 - accuracy: 0.7880\n",
            "8/8 [==============================] - 1s 3ms/step - loss: 0.6368 - accuracy: 0.8012\n",
            "8/8 [==============================] - 0s 4ms/step - loss: 0.6596 - accuracy: 0.7600\n",
            "8/8 [==============================] - 0s 4ms/step - loss: 0.6367 - accuracy: 0.8543\n",
            "7/7 [==============================] - 0s 3ms/step - loss: 0.7269 - accuracy: 0.7324\n",
            "EPOCHS 13 is starting...\n",
            "8/8 [==============================] - 0s 4ms/step - loss: 0.6128 - accuracy: 0.7731\n",
            "8/8 [==============================] - 0s 4ms/step - loss: 0.3563 - accuracy: 0.8821\n",
            "8/8 [==============================] - 0s 3ms/step - loss: 0.7589 - accuracy: 0.7379\n",
            "8/8 [==============================] - 0s 4ms/step - loss: 0.8655 - accuracy: 0.6725\n",
            "8/8 [==============================] - 0s 4ms/step - loss: 0.6795 - accuracy: 0.7820\n",
            "8/8 [==============================] - 0s 3ms/step - loss: 0.7239 - accuracy: 0.7465\n",
            "8/8 [==============================] - 0s 3ms/step - loss: 0.9248 - accuracy: 0.6748\n",
            "8/8 [==============================] - 0s 3ms/step - loss: 0.6105 - accuracy: 0.7784\n",
            "8/8 [==============================] - 0s 3ms/step - loss: 0.6037 - accuracy: 0.7730\n",
            "8/8 [==============================] - 0s 3ms/step - loss: 0.5444 - accuracy: 0.8490\n",
            "8/8 [==============================] - 0s 3ms/step - loss: 0.6558 - accuracy: 0.7695\n",
            "8/8 [==============================] - 0s 3ms/step - loss: 0.6105 - accuracy: 0.7982\n",
            "7/7 [==============================] - 0s 3ms/step - loss: 0.6961 - accuracy: 0.7889\n",
            "EPOCHS 14 is starting...\n",
            "8/8 [==============================] - 0s 3ms/step - loss: 0.6623 - accuracy: 0.7599\n",
            "8/8 [==============================] - 1s 4ms/step - loss: 0.3125 - accuracy: 0.9118\n",
            "8/8 [==============================] - 0s 3ms/step - loss: 0.6679 - accuracy: 0.7583\n",
            "8/8 [==============================] - 0s 4ms/step - loss: 0.7440 - accuracy: 0.7323\n",
            "8/8 [==============================] - 0s 3ms/step - loss: 0.6107 - accuracy: 0.8211\n",
            "8/8 [==============================] - 0s 3ms/step - loss: 0.7269 - accuracy: 0.7370\n",
            "8/8 [==============================] - 0s 3ms/step - loss: 0.6550 - accuracy: 0.8010\n",
            "8/8 [==============================] - 0s 4ms/step - loss: 0.5285 - accuracy: 0.7861\n",
            "8/8 [==============================] - 0s 4ms/step - loss: 0.6349 - accuracy: 0.7755\n",
            "8/8 [==============================] - 0s 3ms/step - loss: 0.5873 - accuracy: 0.8105\n",
            "8/8 [==============================] - 0s 3ms/step - loss: 0.6279 - accuracy: 0.7735\n",
            "8/8 [==============================] - 0s 3ms/step - loss: 0.5305 - accuracy: 0.8666\n",
            "7/7 [==============================] - 0s 3ms/step - loss: 0.6973 - accuracy: 0.7629\n",
            "EPOCHS 15 is starting...\n",
            "8/8 [==============================] - 0s 3ms/step - loss: 0.5549 - accuracy: 0.7933\n",
            "8/8 [==============================] - 0s 3ms/step - loss: 0.2904 - accuracy: 0.9249\n",
            "8/8 [==============================] - 0s 3ms/step - loss: 0.6727 - accuracy: 0.7762\n",
            "8/8 [==============================] - 0s 4ms/step - loss: 0.6703 - accuracy: 0.7591\n",
            "8/8 [==============================] - 0s 3ms/step - loss: 0.6099 - accuracy: 0.8307\n",
            "8/8 [==============================] - 0s 4ms/step - loss: 0.5546 - accuracy: 0.8240\n",
            "8/8 [==============================] - 1s 4ms/step - loss: 0.6780 - accuracy: 0.7555\n",
            "8/8 [==============================] - 0s 3ms/step - loss: 0.4933 - accuracy: 0.8391\n",
            "8/8 [==============================] - 0s 4ms/step - loss: 0.5264 - accuracy: 0.8481\n",
            "8/8 [==============================] - 0s 3ms/step - loss: 0.6177 - accuracy: 0.8086\n",
            "8/8 [==============================] - 0s 3ms/step - loss: 0.5024 - accuracy: 0.8168\n",
            "8/8 [==============================] - 0s 3ms/step - loss: 0.7512 - accuracy: 0.7422\n",
            "7/7 [==============================] - 0s 3ms/step - loss: 0.6229 - accuracy: 0.7994\n",
            "EPOCHS 16 is starting...\n",
            "8/8 [==============================] - 0s 3ms/step - loss: 0.5501 - accuracy: 0.7878\n",
            "8/8 [==============================] - 0s 3ms/step - loss: 0.3049 - accuracy: 0.8630\n",
            "8/8 [==============================] - 0s 3ms/step - loss: 0.5832 - accuracy: 0.8079\n",
            "8/8 [==============================] - 0s 4ms/step - loss: 0.7614 - accuracy: 0.7389\n",
            "8/8 [==============================] - 0s 3ms/step - loss: 0.5435 - accuracy: 0.8410\n",
            "8/8 [==============================] - 0s 3ms/step - loss: 0.7502 - accuracy: 0.7111\n",
            "8/8 [==============================] - 0s 4ms/step - loss: 0.6979 - accuracy: 0.7350\n",
            "8/8 [==============================] - 0s 3ms/step - loss: 0.5493 - accuracy: 0.8149\n",
            "8/8 [==============================] - 0s 4ms/step - loss: 0.5852 - accuracy: 0.8215\n",
            "8/8 [==============================] - 0s 3ms/step - loss: 0.5240 - accuracy: 0.8524\n",
            "8/8 [==============================] - 0s 4ms/step - loss: 0.5283 - accuracy: 0.8484\n",
            "8/8 [==============================] - 0s 3ms/step - loss: 0.5433 - accuracy: 0.8306\n",
            "7/7 [==============================] - 0s 3ms/step - loss: 0.6002 - accuracy: 0.7892\n",
            "EPOCHS 17 is starting...\n",
            "8/8 [==============================] - 0s 3ms/step - loss: 0.6080 - accuracy: 0.7542\n",
            "8/8 [==============================] - 0s 3ms/step - loss: 0.3370 - accuracy: 0.8380\n",
            "8/8 [==============================] - 0s 3ms/step - loss: 0.5517 - accuracy: 0.8131\n",
            "8/8 [==============================] - 0s 3ms/step - loss: 0.6694 - accuracy: 0.7575\n",
            "8/8 [==============================] - 0s 3ms/step - loss: 0.6935 - accuracy: 0.7871\n",
            "8/8 [==============================] - 0s 4ms/step - loss: 0.6427 - accuracy: 0.7352\n",
            "8/8 [==============================] - 0s 4ms/step - loss: 0.6275 - accuracy: 0.7717\n",
            "8/8 [==============================] - 0s 3ms/step - loss: 0.4655 - accuracy: 0.8248\n",
            "8/8 [==============================] - 0s 3ms/step - loss: 0.5111 - accuracy: 0.8307\n",
            "8/8 [==============================] - 0s 4ms/step - loss: 0.4850 - accuracy: 0.8575\n",
            "8/8 [==============================] - 0s 4ms/step - loss: 0.5489 - accuracy: 0.8140\n",
            "8/8 [==============================] - 0s 3ms/step - loss: 0.5420 - accuracy: 0.8243\n",
            "7/7 [==============================] - 0s 3ms/step - loss: 0.5883 - accuracy: 0.7973\n",
            "EPOCHS 18 is starting...\n",
            "8/8 [==============================] - 0s 4ms/step - loss: 0.6174 - accuracy: 0.7812\n",
            "8/8 [==============================] - 0s 4ms/step - loss: 0.3192 - accuracy: 0.9006\n",
            "8/8 [==============================] - 0s 3ms/step - loss: 0.5005 - accuracy: 0.8053\n",
            "8/8 [==============================] - 1s 3ms/step - loss: 0.5910 - accuracy: 0.7762\n",
            "8/8 [==============================] - 0s 4ms/step - loss: 0.5506 - accuracy: 0.8329\n",
            "8/8 [==============================] - 0s 3ms/step - loss: 0.5594 - accuracy: 0.8166\n",
            "8/8 [==============================] - 0s 3ms/step - loss: 0.5595 - accuracy: 0.8069\n",
            "8/8 [==============================] - 0s 3ms/step - loss: 0.4487 - accuracy: 0.8552\n",
            "8/8 [==============================] - 0s 3ms/step - loss: 0.5123 - accuracy: 0.8408\n",
            "8/8 [==============================] - 0s 3ms/step - loss: 0.4608 - accuracy: 0.8566\n",
            "8/8 [==============================] - 0s 3ms/step - loss: 0.4951 - accuracy: 0.8065\n",
            "8/8 [==============================] - 0s 4ms/step - loss: 0.5141 - accuracy: 0.8289\n",
            "7/7 [==============================] - 0s 3ms/step - loss: 0.5468 - accuracy: 0.8132\n",
            "EPOCHS 19 is starting...\n",
            "8/8 [==============================] - 0s 3ms/step - loss: 0.5855 - accuracy: 0.7909\n",
            "8/8 [==============================] - 0s 3ms/step - loss: 0.3040 - accuracy: 0.9023\n",
            "8/8 [==============================] - 0s 3ms/step - loss: 0.5446 - accuracy: 0.8380\n",
            "8/8 [==============================] - 0s 4ms/step - loss: 0.6707 - accuracy: 0.7837\n",
            "8/8 [==============================] - 0s 3ms/step - loss: 0.5892 - accuracy: 0.8184\n",
            "8/8 [==============================] - 0s 4ms/step - loss: 0.5653 - accuracy: 0.7981\n",
            "8/8 [==============================] - 0s 4ms/step - loss: 0.5922 - accuracy: 0.8180\n",
            "8/8 [==============================] - 0s 3ms/step - loss: 0.4768 - accuracy: 0.8294\n",
            "8/8 [==============================] - 0s 3ms/step - loss: 0.4232 - accuracy: 0.8821\n",
            "8/8 [==============================] - 0s 3ms/step - loss: 0.4465 - accuracy: 0.8732\n",
            "8/8 [==============================] - 0s 3ms/step - loss: 0.5645 - accuracy: 0.7595\n",
            "8/8 [==============================] - 0s 4ms/step - loss: 0.4516 - accuracy: 0.8525\n",
            "7/7 [==============================] - 0s 3ms/step - loss: 0.5097 - accuracy: 0.8293\n"
          ],
          "name": "stdout"
        }
      ]
    },
    {
      "cell_type": "code",
      "metadata": {
        "id": "NbpXvIuEPzwX",
        "colab": {
          "base_uri": "https://localhost:8080/",
          "height": 295
        },
        "outputId": "5b34d856-3836-4a3b-efd1-b3be18e04d17"
      },
      "source": [
        "S_acc2 =[S2.loss_acc[i][1]*100 for i in range(len(S2.loss_acc))]\n",
        "S_loss2 =[S2.loss_acc[i][0] for i in range(len(S2.loss_acc))]\n",
        "\n",
        "x = np.arange(len(S2.loss_acc)).astype(dtype=np.str)\n",
        "fig = plt.figure()\n",
        "ax1 = fig.add_subplot(111)\n",
        "acc = ax1.plot(x,S_acc2,'r',label='Acc')\n",
        "ax1.set_ylabel('Acc')\n",
        "ax1.set_title('Acc-Loss')\n",
        "ax1.set_xlabel(\"Epoches\")\n",
        "\n",
        "ax2 = ax1.twinx()\n",
        "loss = ax2.plot(x,S_loss2,label='Loss')\n",
        "ax2.set_ylabel('Loss')\n",
        "\n",
        "lns = acc+loss\n",
        "labs = [l.get_label() for l in lns]\n",
        "ax2.legend(lns,labs)\n",
        "plt.show()"
      ],
      "execution_count": 143,
      "outputs": [
        {
          "output_type": "display_data",
          "data": {
            "image/png": "[encoded data removed]",
            "text/plain": [
              "<Figure size 432x288 with 2 Axes>"
            ]
          },
          "metadata": {
            "tags": [],
            "needs_background": "light"
          }
        }
      ]
    },
    {
      "cell_type": "markdown",
      "metadata": {
        "id": "_uH968k_P5dH"
      },
      "source": [
        "对比"
      ]
    },
    {
      "cell_type": "code",
      "metadata": {
        "id": "KtBMBFo7Pzg2",
        "colab": {
          "base_uri": "https://localhost:8080/",
          "height": 295
        },
        "outputId": "97534d7e-a5f3-45ee-8cb7-9aa609fb99fe"
      },
      "source": [
        "iters = np.arange(len(S2.loss_acc)).astype(dtype=np.str)\n",
        "fig = plt.figure()\n",
        "plt.title('Result Analysis')\n",
        "plt.plot(iters,S_acc,color='red',label='NewFed Accuracy')\n",
        "plt.plot(iters,S_acc2,color='blue',label='Baseline Accuracy')\n",
        "plt.legend()\n",
        "plt.xlabel('iteration times')\n",
        "plt.ylabel('rate')\n",
        "plt.xlim(0,20)\n",
        "plt.show()"
      ],
      "execution_count": 144,
      "outputs": [
        {
          "output_type": "display_data",
          "data": {
            "image/png": "[encoded data removed]",
            "text/plain": [
              "<Figure size 432x288 with 1 Axes>"
            ]
          },
          "metadata": {
            "tags": [],
            "needs_background": "light"
          }
        }
      ]
    },
    {
      "cell_type": "code",
      "metadata": {
        "id": "7Ed0W7m8_dv8"
      },
      "source": [
        ""
      ],
      "execution_count": null,
      "outputs": []
    }
  ]
}